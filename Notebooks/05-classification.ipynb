{
 "cells": [
  {
   "cell_type": "code",
   "execution_count": 3,
   "metadata": {},
   "outputs": [
    {
     "name": "stderr",
     "output_type": "stream",
     "text": [
      "\u001b[32m\u001b[1m   Resolving\u001b[22m\u001b[39m package versions...\n",
      "\u001b[32m\u001b[1m  No Changes\u001b[22m\u001b[39m to `~/.julia/environments/v1.8/Project.toml`\n",
      "\u001b[32m\u001b[1m  No Changes\u001b[22m\u001b[39m to `~/.julia/environments/v1.8/Manifest.toml`\n",
      "\u001b[32m\u001b[1m   Resolving\u001b[22m\u001b[39m package versions...\n",
      "\u001b[32m\u001b[1m  No Changes\u001b[22m\u001b[39m to `~/.julia/environments/v1.8/Project.toml`\n",
      "\u001b[32m\u001b[1m  No Changes\u001b[22m\u001b[39m to `~/.julia/environments/v1.8/Manifest.toml`\n",
      "\u001b[32m\u001b[1m   Resolving\u001b[22m\u001b[39m package versions...\n",
      "\u001b[32m\u001b[1m  No Changes\u001b[22m\u001b[39m to `~/.julia/environments/v1.8/Project.toml`\n",
      "\u001b[32m\u001b[1m  No Changes\u001b[22m\u001b[39m to `~/.julia/environments/v1.8/Manifest.toml`\n",
      "\u001b[32m\u001b[1m   Resolving\u001b[22m\u001b[39m package versions...\n",
      "\u001b[32m\u001b[1m  No Changes\u001b[22m\u001b[39m to `~/.julia/environments/v1.8/Project.toml`\n",
      "\u001b[32m\u001b[1m  No Changes\u001b[22m\u001b[39m to `~/.julia/environments/v1.8/Manifest.toml`\n",
      "\u001b[32m\u001b[1m  No Changes\u001b[22m\u001b[39m to `~/.julia/environments/v1.8/Project.toml`\n",
      "\u001b[32m\u001b[1m  No Changes\u001b[22m\u001b[39m to `~/.julia/environments/v1.8/Manifest.toml`\n"
     ]
    }
   ],
   "source": [
    "using Pkg\n",
    "Pkg.add(\"Images\")\n",
    "Pkg.add(\"ImageCore\")\n",
    "Pkg.add(\"JuMP\")\n",
    "Pkg.add(\"Flux\")\n",
    "Pkg.resolve()"
   ]
  },
  {
   "cell_type": "code",
   "execution_count": 2,
   "metadata": {
    "scrolled": true
   },
   "outputs": [],
   "source": [
    "using MLDatasets\n",
    "using Images, ImageCore\n",
    "using LinearAlgebra, Statistics, Plots\n",
    "using NLopt, JuMP\n",
    "using Flux"
   ]
  },
  {
   "cell_type": "markdown",
   "metadata": {},
   "source": [
    "# Classification\n",
    "\n",
    "We consider the [FashionMNIST](https://github.com/zalandoresearch/fashion-mnist) dataset from [Zalando Research](https://github.com/zalandoresearch).\n",
    "\n",
    "It contains images of Fashion items from 9 categories.\n",
    "\n",
    "In Julia this dataset can be loaded through the [MLDatasets](https://github.com/JuliaML/MLDatasets.jl) package."
   ]
  },
  {
   "cell_type": "code",
   "execution_count": 10,
   "metadata": {},
   "outputs": [],
   "source": [
    "X_all, Y_all = FashionMNIST(split=:train)[:];"
   ]
  },
  {
   "cell_type": "markdown",
   "metadata": {},
   "source": [
    "Now, `X_all` contains the input data and `Y_all` the output data of the training data in the `FashionMNIST` dataset.\n",
    "\n",
    "The entries of `Y_all` correspond to the following categories:"
   ]
  },
  {
   "cell_type": "code",
   "execution_count": 11,
   "metadata": {},
   "outputs": [],
   "source": [
    "labels = [\"T-shirt/top\", \n",
    "            \"Trouser\", \n",
    "            \"Pullover\", \n",
    "            \"Dress\", \n",
    "            \"Coat\", \n",
    "            \"Sandal\", \n",
    "            \"Shirt\", \n",
    "            \"Sneaker\", \n",
    "            \"Bag\", \n",
    "            \"Ankle boot\"];"
   ]
  },
  {
   "cell_type": "markdown",
   "metadata": {},
   "source": [
    "Since `Julia` indexing starts at `1` and `Y_all` contains values between `0` and `9`, it will be convenient to add 1 to all values `Y_all`.  "
   ]
  },
  {
   "cell_type": "code",
   "execution_count": 12,
   "metadata": {},
   "outputs": [],
   "source": [
    "Y_all = Y_all .+ 1;"
   ]
  },
  {
   "cell_type": "markdown",
   "metadata": {},
   "source": [
    "Let us take a look at 6 randomly chosen images along with their labels."
   ]
  },
  {
   "cell_type": "code",
   "execution_count": 13,
   "metadata": {
    "scrolled": true
   },
   "outputs": [
    {
     "name": "stdout",
     "output_type": "stream",
     "text": [
      "[\"Shirt\", \"Coat\", \"Ankle boot\", \"Bag\", \"Pullover\", \"T-shirt/top\"]\n"
     ]
    },
    {
     "data": {
      "text/html": [
       "<table><tbody><tr><td style='text-align:center;vertical-align:middle; margin: 0.5em;border:1px #90999f solid;border-collapse:collapse'><img style='max-width: 100px; max-height:100px;display:inline' src=\"data:image/png;base64,iVBORw0KGgoAAAANSUhEUgAAAHAAAABwCAAAAADji6uXAAAABGdBTUEAALGPC/xhBQAAAAFzUkdCAK7OHOkAAAAgY0hSTQAAeiYAAICEAAD6AAAAgOgAAHUwAADqYAAAOpgAABdwnLpRPAAABAtJREFUaAW9wbuLZmcdAODnPef3zbffDDvqZEUNiY3xgoUWCULESAioYETEFIulhUpS2goBCdio6cTaJrj7D2wXNFqaYFpRBDNeds2462Zndr7LOW+Kd+DMLe3vecIlCnpsnPVrfBt3UPAIFngBvzfpNQMKqklIFpKFZOESFRuTR/ELfE/zCdzBLhb4Ha7jpmbQ9BicFZKFZCFZ+AA/xot4QlNxG9tY4BoqHuAebuAG/oBbeBVLBDYmIVlIFpKFU7awwlfxc9zGP1FRcQ3/wcc0a3S4gr9gB5/F03geX8HGWSFZSBaShVNWmt/gXRyhoOAq7qFigwUKlphjB0fo8V98EddxA4GNJiQLyUKycKLDiKvYwhFmWKPHfYTmELu4gw02KOhQsI0HeBk3sDEJyUKykCycCKzwPHZxgA4zdBgwoOIhlriPOQoGFBQs0eEzLgrJQrKQLJzYaL6AgoItrLFGh9HkXWxhgx4dOoyYY8Q9PIk3TUKykCwkCydGzQtYosMe3sGIQEXBiGN0qBgxw0Yzx3u4hu/iTZOQLCQLycI5CxxiG4GP4P8IVFT0qOg1BSNGfBojjrHE1/ETk5AsJAvJwinPYQeHeAS/xTcw0/QYND06jOg0OzhGh10c4fPOCslCspAsnPJNbOE9zb+xRI8RFVVTTQoGXMWf8FF8Dv/ANh7DviYkC8lCsnDKYzhGj4r/YYkFKgoKOnQYMWCBB9jFv7DCEyg4wPfxiiYkC8lCsnDKU9jDEgVv4EUUVE2PUTPDCgUbzPA33MdzWGCBl/CKJiQLyUKycMoP8TU8i6fwd2yjYqkpKBgQmGFt8jaeRsE+DnDLJCQLyUKycMrreN1ZA7ZxF4GKghErBAaE5s+4iV9i30UhWUgWkoUTBVvo8NDkCGsUdCY9BpOZ5rZm36THoAnJQrKQLJyoWGoKquYq1pihoGBAxRZWCHSaT+EtzLDWDCYhWUgWkoVLdBg0H8a+ZkCgaioCG4y4i2fxFgaXC8lCspAsXKJovoS7qOhQUNChYIVApxnxZbyK0eVCspAsJAuXGDTXMcc9zFFMenQY0OMKjvAtkw6js0KykCwkC+cUVM13cIiKioKiKZjhGIGKDQ7wON5BYOWskCwkC8nCOT02mGOOI1zRDJhpBmxhwIgOFdv4AV5G56KQLCQLycI5gQ1ewi4OUNBho6lYYY4Oa/QoWOMZzdpFIVlIFpKFc6pmhS3NGgv0KKio6FHQYcCADT6uGVBQTUKykCwkC+esNL/Ch/BTHGJAxQOMmhEP0WEHexhwU1NQnRWShWQhWTinoqDiZ3gDr+Fx7LloT1PxGn6EQx8sJAvJQrJwiYqCij/ik5on8QwexRVs4694G7dMCiqqi0KykCwkex9oQAiIyHE1XQAAAABJRU5ErkJg\"></td><td style='text-align:center;vertical-align:middle; margin: 0.5em;border:1px #90999f solid;border-collapse:collapse'><img style='max-width: 100px; max-height:100px;display:inline' src=\"data:image/png;base64,iVBORw0KGgoAAAANSUhEUgAAAHAAAABwCAAAAADji6uXAAAABGdBTUEAALGPC/xhBQAAAAFzUkdCAK7OHOkAAAAgY0hSTQAAeiYAAICEAAD6AAAAgOgAAHUwAADqYAAAOpgAABdwnLpRPAAAA6ZJREFUaAW9wTuLXGUYAODnO/PO7G42Eo2uUVHES1SMGBAFwcLCRgULazs7GzvF2l8g2NnaCGlsvIIKgliIoAYRwQvigolJDBvczczunHMsvmI4s+OteZ8n/E9ncBP+wBg34Dye8d+EZCFZSBb+xQithUexi9vRo8WehYKCzmohWUgWkoV/UNBaeBojzHAOgS1MLfToEZg7LCQLyUKy8A963IKX8By28DXG2ETBHh7EHj7B+3gdc4zQGgrJQrKQLKwQmOMUzmADv+NXjDHFBAcInMdF3IsH8BSeRuuwkCwkC8nCCnPVm6pz2ECo1jBFgw4tOuxghpP4CE84LCQLyUKysCQwxxZG+BMbqt5Cg4KCCTrMcAQ7uB6b2DUUkoVkIVlY0qsexjpmDuvRYYSCFgUNWrQ4hsfxrqGQLCQLycKSTnU/CgoCLXr0qg4NOjSqgjEatHgc7xoKyUKykCws6VWPosMI1+CCqqhaBFqM0OMqjqJDh9MOC8lCspAs/I27McMEn+EU9tGr5hghMEOoGnQ4wF0OC8lCspAsrBCYYQ3HcYB1zNGjoLcwwhbO4mO8gm9wm8NCspAsJAsrbOEIDrCF8ziOPfQoaNCgwRxF9T0m6BG4FdsWQrKQLCQLK9yFMXrs4GU8iw1cwRhF1WGEMf7AB6oePe7DtoWQLCQLycIKj6BB4IrqZ9yHyxgbmmITv+KSaoJt3GwoJAvJQrKwwkn0CHyuugFTVYcxGhT0mOGoqkNR3WsoJAvJQrKwwrXosYb3VCfxAyZo0FkouIQn8So+xB2YYstQSBaShWRhhROYYw1f4EFsYg9HUTC3ENjBadU7eA1fYcNQSBaShWRhhRvR42b8iLdwAYEOxVCDq9jANfgYIxT0hkKykCwkCytcxAlVj1O4hImhgh4NGuziebyhGmFsKCQLyUKysMIEgW3cgzvwLdbRoaBBQUGHBhfwJD5Ah95hIVlIFpKFFcYIfIcOG2hRUFBUjYUxZtjEGvYRaA2FZCFZSBaWTFDQ4EccwVXVAUbosI+CDp1qV7WNKY5gZigkC8lCsrBkHYEel/ECdnEMBUW1rhqjQad6CFNcxBT7hkKykCwkC0sm6NDjPN7HcVyHE5hghrO4E7/hHNYxQ4sDTNHgqqGQLCQLycKSompxGZ/iU//fPtbwp6GQLCQLycKSx3AMDRrVGAf+XUGvugdXcMpQSBaShWRhydv4CTv4RXWgKqrear2FF7GJLw2FZCFZSPYX/7fZyfJ3V+cAAAAASUVORK5C\"></td><td style='text-align:center;vertical-align:middle; margin: 0.5em;border:1px #90999f solid;border-collapse:collapse'><img style='max-width: 100px; max-height:100px;display:inline' src=\"data:image/png;base64,iVBORw0KGgoAAAANSUhEUgAAAHAAAABwCAAAAADji6uXAAAABGdBTUEAALGPC/xhBQAAAAFzUkdCAK7OHOkAAAAgY0hSTQAAeiYAAICEAAD6AAAAgOgAAHUwAADqYAAAOpgAABdwnLpRPAAAAzJJREFUaAW9wU9oFQQcB/DPe/tuvbmtranb8k/NIKE/oMfCoKCuFgR1qJDoGER07FanLkF4lA528VAdI+zWoYgMM0nJpEyHU8ShznI53Xt7Ce8wQYum8Pt8olgUi2JRLIpFsSgWxaJYFItiUSyKRbEoFsXiLjTxOP7EDLpubxcO4DiiWBSLYnEHGuhiDSaxGS/ja8xiAAtYxBVM45ieKBbFoljchWHM4BKmsBNN9KGDv3EBl3FETxSLYlEs7sIkFrABwzihJ+giGEMHi3qiWBSLYnEHuhjAMhawFkEDAwg6CJaw1oooFsWiWKxSA12MYBnXMY42mmiigQEso4nrVkSxKBbFYpW6egaxgAYm0EbDig76sYhR9GMJUSyKRbG4A5NYgzlMYBLz6EM/ltHR08AUNuIUolgUi2KxSi2M4AI6eB4dtNHEEroYwBjaOIo+PVEsikWxWKVRtLGEp/EovkILQRMtBMdwEoto64liUSyKxU0abtW1YhpdPdN4AifRjy5aaGERZ3ACwTiGMIMoFsWiWNyk6/aCB9HGAsYxhSMYRwtLaKCDE9iEUQxiAf0YRBSLYlEsDXQRjOhpYgnLGMYY5nARj2CLniaGcB6TaOJbnMNhBEOYwFUMI4pFsSiWLgYxhksYQRtDCK7iChbwJrbreQ+bsBkb0MFBzGEQE1iP9fgFwb2IYlEsisUNLYzgMi5gGf3YiD7M4jmcx0Fsxxv4HqfRwo8Ywk7MYB360MY82jiNKBbFoljexjl8imkEf2EMw/gZLTyDOUxhGKNYi19xyIrv3GorXsA1RLEoFsUyhXfwFD7DN7gfD+M0duAD/IBTuIr38bsVj+FZbMY6bEWwBfMYxX3YjygWxaJY3sUpvIXXcAiHcBQ/oYtP8DGWETyAj7AVD6GD49iGcVxBH9po4Rou4QiiWBSLYnHDHuzBq3gFL+F1LGEeZ/EiduA3LKKJvfgCZ/TsxS5cRNDFAAYxhu2IYlEsisVN9mGfnk3YhicxpedDHMB+t3cYG3AW96CNRfyJP/A5olgUi2LxL2Yxiy/9f7ux23+LYlEsikWxKBbFolgUi2JRLIpFsSgWxaLYPxMdsu2VxAUZAAAAAElFTkSuQmCC\"></td><td style='text-align:center;vertical-align:middle; margin: 0.5em;border:1px #90999f solid;border-collapse:collapse'><img style='max-width: 100px; max-height:100px;display:inline' src=\"data:image/png;base64,iVBORw0KGgoAAAANSUhEUgAAAHAAAABwCAAAAADji6uXAAAABGdBTUEAALGPC/xhBQAAAAFzUkdCAK7OHOkAAAAgY0hSTQAAeiYAAICEAAD6AAAAgOgAAHUwAADqYAAAOpgAABdwnLpRPAAABD1JREFUaAW9wc+LXAcdAPDPe+87v3ZnZ7PJRmVtmpZmKaQUShXJSTxYKHjRS/EiFC14EDxoLiIUSs8epP+DCC0EpEJRMR4KSqEtii1YK7GhSgzZZJNsZ2dmZ95z4Q0sxcRue/h+PuEzeh7v4xc+nZAsJAvJwmfwHn6Is3gHj/m4AgVq/yskC8lCsnBMXczwU2zjNa2LuIA/oUStVbu3kCwkC8nCMc20nsYrjvwRP8IzqH2ykCwkC8nCMRRo8CTO47eOvIqfYQVjlKjdX0gWkoVk4Rgarecwxq8d+Q2m+DFeRIna/YVkIVlIFo6pxBP4CG86sot38BRexBwFGvcWkoVkIVn4BAUafBdn8FetAh3M8DZ+gG/hEkos3FtIFpKFZOH/KNBofQ2BN7R6jvwFM3wDl7BwfyFZSBaShXsotCrM0cUTKHFZq0RggtdwF0/iLD5AYIECtSMhWUgWkoVDJQqtBRqtudbj2MQ1/EFr7MgYt7CFb+LnmGs1Wl3MEJKFZCFZWFr4uBHOY4qLmOKfuIAJTuNA6w7+jgGewa/wBbyHHa2ZVkgWkoVk4VCt9T08iAEGaDDBV3AHb+HbGGGBOSqs4F84i6/iJ9jBSdzEVdzAywjJQrKQLBzq4Sk8i8uoUOI6Aq+ixEeY4AqmmGGBB3CAt/Ef7OIW5hjiy7iOlxGShWQhWTj0EC7jWaxjqrWBGuewjzO4jS5G6GGM99Hg8+hiCwsUOMAcNbYRkoVkIVk49Df0sYXbaHADPXwOT+MOfolH8DDewAI9fB1v4mE8jtdxDadwF/tYxxpCspAsJAtL61oLrGMNN7GDq7iGd7GN7+P3jvwOr+MuHsU+ZtjDSdzCB5ggJAvJQrKw9B1MtQJzbKBEDzV6mOE5HOBLqLGFh7CKAU6gjxUUOItdLBCShWQhWVg6hzlu4osI7GADIwzQxZ9xHi+gi328hXWcQA8dTFAiMEJfKyQLyUKysHQbU4zQoIsBRuhojTDEP7BAgw7WEKgwxhwdTPFvbGMTOwjJQrKQLCxtYhPXMccUA/QxxT5KjLRKBCpMsEAfAwSGGOIq3sVJ3EBIFpKFZGHpEh5BoMIarqOLNfSwjnWMUWOOPjrYQ4Mac4zRxSZuoIc+QrKQLCQLSzVO4wpq7KGjtUAXXQRKVChQoIc+CiwwwxDrWj2sYoCQLCQLycLSo5hhii0cYIZAgwqBEj100cUUNYYYooMhakxQYYQVVAjJQrKQLCw9gA8xQhcV9jHQmmOBAj0UaLQK9BGYoMIJrV2cxBpGCMlCspAsLJ1BhVUsEOhijF0UmGEPJTqYYoYKd3AKY60BhjiFPZQ4QEgWkoVkYekqLmADBwhsY4RT2ESFVTQoUKPGKvZwTmuADQxQ4AouoEFIFpKFZGHpIjaxhwkC61hBBwXuYkWrQYkKPVQoUWCKGhUexGm8hA8RkoVkIdl/AfYJ/WyDy7/KAAAAAElFTkSuQmCC\"></td><td style='text-align:center;vertical-align:middle; margin: 0.5em;border:1px #90999f solid;border-collapse:collapse'><img style='max-width: 100px; max-height:100px;display:inline' src=\"data:image/png;base64,iVBORw0KGgoAAAANSUhEUgAAAHAAAABwCAAAAADji6uXAAAABGdBTUEAALGPC/xhBQAAAAFzUkdCAK7OHOkAAAAgY0hSTQAAeiYAAICEAAD6AAAAgOgAAHUwAADqYAAAOpgAABdwnLpRPAAAA7pJREFUaAW9wbGLnHkdB+BnfvvZd9fZzSRmswaFE044EKxsbAQrW6vD2koQ/wArSxv/FUGOq2zTpAlcfYInnNyFuxDWS0xcxnff+a3FWwwzOxGr7/PE/+mneB9P8KXZMW7wG4z4CN/YWuDWrigWxaJY/A9H+CV+hFfo+D3e4Guzc/wEf8Hv8AU+xnPcuiuKRbEoFnsWuMUZfo1jvMQa3+ArvMY5PsGHeIJ/oqPhQ3yCp1jg1lYUi2JRLPY0bPAB7uMfCEacYIUVrvArPMZHeA+vMGGJH+Mpbu2KYlEsisU7nOESn+IcHRP+hQE/wIA/4wKvMaFjg+AIG7uiWBSLYrFnY/YBRrzGymxAw4QrfIYH2GBE0DAheIQXdkWxKBbF4h0amlk3m9DM3qJhRENsXaPhEi/simJRLIrFAce4jwHNrKGjY8IGo1nQ0NHRzL7trigWxaJYHPAAwRJrswkdGyzQEXSMaGhoWGLCI3dFsSgWxeKAxzjFEiMaOjboOELHgDUmBB0NEzrO3BXFolgUiwMaGhboaGaTrTVOMKKZdTSsMWLprigWxaJYHDBgQMMNRmwwmQUTGkYEwYSGAWtcYIFbW1EsikWxOOAeBjScYDLrmHCKCUE3CzomBBts8BBXtqJYFIticcDSLNiYTbYW6GhotgasEawx4QxXtqJYFIticUBDQzCiY0JH0NDRzEasscSEbmuwK4pFsSgW77BA0NERTBjR0NHMGgYcm40IOk7timJRLIrFnmMMZsGI4MZsbbZBQ8eANQZ0NAQdF3ZFsSgWxWLPCkdoaJgQWwMGswHdbELHgAmnuMa5XVEsikWx2PMtDAgaBqxxbNYQdAQTOlaYsMRbNEw4tSuKRbEoFnu+gwnBCUbc4D6usEZwjCPcIuiY0BCzjmZXFItiUSz2XJsFK7wxO0VHQ9BwazaZBd1sYXZsVxSLYlEsDljhCpdo6LiHjoaGAUc4QkdD0M0aOga7olgUi2Kx5xL38QUe4B5GDGjoOMI5OgY0NCwwmTXcoNkVxaJYFIs951jhORp+jmdoCK5xgzM0DLjGiAv8B8ENztwVxaJYFIs9ExomfIkf4gku0HCOayyxxApvEfwbJzjHa4zodkWxKBbFYs9LDPge/ohn+BneILjAYNZxhEc4wXfxGZ7iFxhxbVcUi2JRLPb8DWt8H3/CM/wWL3CJSzzE13iAhzhDw3v4GM/xPl7hmV1RLIpFsdhzjZd4ib+b/QErfIolBjTcw1doCM7wudkTPMZf7YpiUSyK/ReLGerXqXgKPAAAAABJRU5ErkJg\"></td><td style='text-align:center;vertical-align:middle; margin: 0.5em;border:1px #90999f solid;border-collapse:collapse'><img style='max-width: 100px; max-height:100px;display:inline' src=\"data:image/png;base64,iVBORw0KGgoAAAANSUhEUgAAAHAAAABwCAAAAADji6uXAAAABGdBTUEAALGPC/xhBQAAAAFzUkdCAK7OHOkAAAAgY0hSTQAAeiYAAICEAAD6AAAAgOgAAHUwAADqYAAAOpgAABdwnLpRPAAAAvNJREFUaAW9wT9rXXUcB+DnnHySVhuiDVJpwdJ/WuokdNBFhy5FkOom9A24Cq5uCro4i3R1cRJ8BQ5SCiIdHAoOFqS2qBU1jTZp7j0/hzMEsfeeTN/niQNaxfu4jq+xixWcwWncwJZpUSyKRbFYokPDW3gH53EVv+I47mMd6/gRn+IL9Bg8XhSLYlEslmhGFzHDx3gT/+BzvI6n8RGu4KTRYLEoFsWiWBzACeziG3yJO9jCZbyCm7iKI6ZFsSgWxWLCSWxgG6/iM6zheQQ38R62cci0KBbFolhMeBkdHuASruEPNHyPS3gNt3ECK5hbLIpFsSgWE85ihh7b+AqPsIo9fIjraGh4F59YLIpFsSgWE7YwIHiI2/gJq5jhAVaxjj1csFwUi2JRLCZsI0ZBwxwPjTbwCDNsYttyUSyKRbGYcANXcAQ7aDhsNEOPZrSLa5aLYlEsisWEH7CDDcztGxB02MQMe/jOclEsikWxOIAdHEWHGeZYQYcezWgde5aLYlEsisUB7GLNvhXM0aHHDOv43bQoFsWiWBzAJub29WgYMEfDYeyZFsWiWBSLA/gTTxoNRj06dEa7OGZaFItiUSwOaDDqMBh16LGDPWyZFsWiWBSLA+ixZ19Dj4YBwd84YloUi2JRLCacxCZmGNDs69CwghkGPIP7FotiUSyKxYRzeAJ/oUOHzqihw4CGAadx32JRLIpFsZjwEhp6NHQIZmjo0YxWcR7fWiyKRbEoFhPOYrBvjjl6rKBhMBrwouWiWBSLYjHhFB6hQ4cenVGPOYJd7OKU5aJYFItiMeEo7mDFqKFHw4CGhh4DNi0XxaJYFIsljqMZBQ0dOvT+q8OA4AJuebwoFsWiWCxxEb/Yt4o9NKyh+b+7OIdbHi+KRbEoFktcxgwD5lhBhxgN6DFHQzM6Y7EoFsWiWCxxDOdwD8/iHmaY4RAGDDiENezgBfxmsSgWxaJYLPE23sAGnsNTWMNTWMUMO2j4GXfxAW5ZLIpFsSj2L31drbKZfHEkAAAAAElFTkSuQmCC\"></td></tr></tbody></table><div><small>(a vector displayed as a row to save space)</small></div>"
      ],
      "text/plain": [
       "6-element Vector{Base.ReinterpretArray{Gray{Float32}, 2, Float32, Matrix{Float32}, true}}:\n",
       " [Gray{Float32}(0.0f0) Gray{Float32}(0.0f0) … Gray{Float32}(0.0f0) Gray{Float32}(0.0f0); Gray{Float32}(0.0f0) Gray{Float32}(0.0f0) … Gray{Float32}(0.0f0) Gray{Float32}(0.0f0); … ; Gray{Float32}(0.0f0) Gray{Float32}(0.0f0) … Gray{Float32}(0.0f0) Gray{Float32}(0.0f0); Gray{Float32}(0.0f0) Gray{Float32}(0.0f0) … Gray{Float32}(0.0f0) Gray{Float32}(0.0f0)]\n",
       " [Gray{Float32}(0.0f0) Gray{Float32}(0.0f0) … Gray{Float32}(0.0f0) Gray{Float32}(0.0f0); Gray{Float32}(0.0f0) Gray{Float32}(0.0f0) … Gray{Float32}(0.0f0) Gray{Float32}(0.0f0); … ; Gray{Float32}(0.0f0) Gray{Float32}(0.0f0) … Gray{Float32}(0.0f0) Gray{Float32}(0.0f0); Gray{Float32}(0.0f0) Gray{Float32}(0.0f0) … Gray{Float32}(0.0f0) Gray{Float32}(0.0f0)]\n",
       " [Gray{Float32}(0.0f0) Gray{Float32}(0.0f0) … Gray{Float32}(0.0f0) Gray{Float32}(0.0f0); Gray{Float32}(0.0f0) Gray{Float32}(0.0f0) … Gray{Float32}(0.0f0) Gray{Float32}(0.0f0); … ; Gray{Float32}(0.0f0) Gray{Float32}(0.0f0) … Gray{Float32}(0.0f0) Gray{Float32}(0.0f0); Gray{Float32}(0.0f0) Gray{Float32}(0.0f0) … Gray{Float32}(0.0f0) Gray{Float32}(0.0f0)]\n",
       " [Gray{Float32}(0.0f0) Gray{Float32}(0.0f0) … Gray{Float32}(0.0f0) Gray{Float32}(0.0f0); Gray{Float32}(0.0f0) Gray{Float32}(0.0f0) … Gray{Float32}(0.0f0) Gray{Float32}(0.0f0); … ; Gray{Float32}(0.0f0) Gray{Float32}(0.0f0) … Gray{Float32}(1.0f0) Gray{Float32}(0.10980392f0); Gray{Float32}(0.0f0) Gray{Float32}(0.0f0) … Gray{Float32}(0.34117648f0) Gray{Float32}(0.0f0)]\n",
       " [Gray{Float32}(0.0f0) Gray{Float32}(0.0f0) … Gray{Float32}(0.0f0) Gray{Float32}(0.0f0); Gray{Float32}(0.0f0) Gray{Float32}(0.0f0) … Gray{Float32}(0.0f0) Gray{Float32}(0.0f0); … ; Gray{Float32}(0.0f0) Gray{Float32}(0.0f0) … Gray{Float32}(0.0f0) Gray{Float32}(0.0f0); Gray{Float32}(0.0f0) Gray{Float32}(0.0f0) … Gray{Float32}(0.0f0) Gray{Float32}(0.0f0)]\n",
       " [Gray{Float32}(0.0f0) Gray{Float32}(0.0f0) … Gray{Float32}(0.0f0) Gray{Float32}(0.0f0); Gray{Float32}(0.0f0) Gray{Float32}(0.0f0) … Gray{Float32}(0.0f0) Gray{Float32}(0.0f0); … ; Gray{Float32}(0.0f0) Gray{Float32}(0.0f0) … Gray{Float32}(0.0f0) Gray{Float32}(0.0f0); Gray{Float32}(0.0f0) Gray{Float32}(0.0f0) … Gray{Float32}(0.0f0) Gray{Float32}(0.0f0)]"
      ]
     },
     "execution_count": 13,
     "metadata": {},
     "output_type": "execute_result"
    }
   ],
   "source": [
    "k = rand(1:60000, 6)\n",
    "println([\"$(labels[Y_all[i]])\" for i in k])\n",
    "[convert2image(FashionMNIST, X_all[:,:,i]) for i in k]"
   ]
  },
  {
   "cell_type": "markdown",
   "metadata": {},
   "source": [
    "## Choosing two categories\n",
    "\n",
    "To illustrate how the classification methods from the lecture work we consider only two items, namely Coats and Sandals. The goal is to learn an algorithm that can distinguish pictures from these two categories.\n",
    "\n",
    "First, we compute the locations of Coats and Sandals in the data."
   ]
  },
  {
   "cell_type": "code",
   "execution_count": 14,
   "metadata": {},
   "outputs": [
    {
     "data": {
      "text/plain": [
       "12000"
      ]
     },
     "execution_count": 14,
     "metadata": {},
     "output_type": "execute_result"
    }
   ],
   "source": [
    "l₁ = findfirst(labels .== \"Coat\")\n",
    "l₂ = findfirst(labels .== \"Sandal\")\n",
    "l = findall(y -> y == l₁ || y == l₂, Y_all);\n",
    "length(l)"
   ]
  },
  {
   "cell_type": "markdown",
   "metadata": {},
   "source": [
    "I.e., there are 12000 items in the data, which are either Coats or Sandals.\n",
    "\n",
    "For training let us consider a subsample of size $n=50$. \n",
    "\n",
    "Since the goal of this notebook is to illustrate how classification works, we will not stick to the algorithm for approaching machine learning problems. We will simply take the first $n$ items in the data set (instead of choosing them randomly). We also take another $n$ items for testing. "
   ]
  },
  {
   "cell_type": "code",
   "execution_count": 15,
   "metadata": {},
   "outputs": [
    {
     "data": {
      "text/plain": [
       "50"
      ]
     },
     "execution_count": 15,
     "metadata": {},
     "output_type": "execute_result"
    }
   ],
   "source": [
    "n = 50"
   ]
  },
  {
   "cell_type": "markdown",
   "metadata": {},
   "source": [
    "Now, we split the data into the training and test data"
   ]
  },
  {
   "cell_type": "code",
   "execution_count": 16,
   "metadata": {},
   "outputs": [],
   "source": [
    "train_indices = l[1:n];\n",
    "test_indices = l[n+1:2*n];\n",
    "\n",
    "X_test = X_all[:, :, test_indices]\n",
    "Y_test = Y_all[test_indices];\n",
    "|\n",
    "X = X_all[:, :, train_indices]\n",
    "Y = Y_all[train_indices];"
   ]
  },
  {
   "cell_type": "markdown",
   "metadata": {},
   "source": [
    "Let us look at a subsample of the training data:"
   ]
  },
  {
   "cell_type": "code",
   "execution_count": 17,
   "metadata": {},
   "outputs": [
    {
     "name": "stdout",
     "output_type": "stream",
     "text": [
      "[\"Coat\", \"Sandal\", \"Sandal\", \"Coat\", \"Sandal\", \"Coat\", \"Sandal\", \"Sandal\"]\n"
     ]
    },
    {
     "data": {
      "text/html": [
       "<table><tbody><tr><td style='text-align:center;vertical-align:middle; margin: 0.5em;border:1px #90999f solid;border-collapse:collapse'><img style='max-width: 100px; max-height:100px;display:inline' src=\"data:image/png;base64,iVBORw0KGgoAAAANSUhEUgAAAHAAAABwCAAAAADji6uXAAAABGdBTUEAALGPC/xhBQAAAAFzUkdCAK7OHOkAAAAgY0hSTQAAeiYAAICEAAD6AAAAgOgAAHUwAADqYAAAOpgAABdwnLpRPAAAA+1JREFUaAW9wUuIXYUZAODv3vnn/YgzMY0h4yRjbKVWY2KRChUXGlBB6cJlKbjP0o1INyl0U1rqwkKrBE2EiuIqiNAHQjelLtQYghiihpBH81KTed3J3HvP6eIsgvecKVn93xdu0wN4CYuYQA/bcBZ/wDG3JyQLyUKy8H+0Uai8iGcxhh6G0UHgtzimMoyuzYVkIVlIFjbRRuGWsziMy3gaZ7CK8ygwgyV00UKpWUgWkoVkocEQ+iov4EFcxxmsYRn/xVVM4Bp+j4s4gjNoo1AXkoVkIVlo0Ff5K75GgW3YirO4iX34O6YwjTZ6OIRD+EqzkCwkC8nCJv6EZ/Eb3MQdmMccVlAiMI1rOInP8TxexTOahWQhWUgWNvEkVhC4iVWcxhR66GAMqygQ2IUpPGRzIVlIFpKFBrPYjuv4Dh1sxwRGsYxZbGAFy7iIRUxjGvtwXF1IFpKFZKHBTzCJZWzBKsawjktYxHV8g53YilUsYhgjWMBxdSFZSBaShQZzaGMcu3EBNzCDAgvoYkJlAyUmMIQS+3FMXUgWkoVkocE8SoxiDz7ANhToYQqXUKDACIaxB4EensIhdSFZSBaShQbzKDGMVQQK3IEOSrTQxjrWMYM2SvTxY81CspAsJAsN9qKPUbyDAj/CBaxhBbPoYy/G8AlewasYw7pmIVlIFpKFBvehRAvncBD34DG8pnINd+KH+A9+hf04ghKTmMd53xeShWQhWWiwgAJX8TOcxGH8GlvQw6jKZbyHOfwc/8IB9PAEjvq+kCwkC8lCgyWMYBI7cQVvYAl9TGINN3EP3sbrWMCKyhD2qAvJQrKQLAyYxAS6GMJl/BIfYCva6GIM4ziLj3AQL2M3CpW71IVkIVlIFgbMoo1AgfO4G//GJNbQRgclAkvYgQVcwINoYVRdSBaShWRhwBaUGMI5XMPH+AUuoYNxLKOLHbgXf8M/8VP0ESjVhWQhWUgWBkyjhRY6KkcxgeexAz1M405cxR8xgmGcwAG00VUXkoVkIVloUKJADwdwP1bwAP6BZYxjHffhcSziIlpYwxhKdSFZSBaShQFdlGjhBqZwHht4H0sqJS7gUwzjC4zjFB7FVmyoC8lCspAsDNhAC0N4C1fwHApcwTwCw9iC0+hgO77E73AQLfTUhWQhWUgWBnRVSryJEufwMB7CDOYwgx9gG07hXXyoUqq01YVkIVlIFgb0MYQeZvEtTuCE23cFuzCiLiQLyUKyMOAMOriBb1WG0EYPpbpAH6XKZ3gEc+pCspAsJAsDehjHd24p0FdpoeWWEj2VNgqsqoyrC8lCspAsNHgLq5qVKDUrVf6CHfizupAsJAvJ/gcjJ/WwALFNEAAAAABJRU5ErkJg\"></td><td style='text-align:center;vertical-align:middle; margin: 0.5em;border:1px #90999f solid;border-collapse:collapse'><img style='max-width: 100px; max-height:100px;display:inline' src=\"data:image/png;base64,iVBORw0KGgoAAAANSUhEUgAAAHAAAABwCAAAAADji6uXAAAABGdBTUEAALGPC/xhBQAAAAFzUkdCAK7OHOkAAAAgY0hSTQAAeiYAAICEAAD6AAAAgOgAAHUwAADqYAAAOpgAABdwnLpRPAAAAx9JREFUaAW9wU2LlWUYAODrnXOnZSLlV9hoDtmXkSIxEAwIQ5S5cBMRrSpoUytJXdSmMIIIgqBFUEFQUNIPCEOISEFrk4W1CHURCBKSRmrzcfI9T4tn8XJGnaZB7usKyUKykCwkC8lCspAsJAv/U4MRDFBUjaoYNoFjuB8nURCShWQhWVikolMMm8QW3Iu30GAHZhGShWQhWViABkVV0Oo8h++xHbtxFltxCsfxMn7SCclCspAsLNJmBCYxjpX4FIdxHOMYRx/34LQqJAvJQrKwAEVnGSbwO/7Cx9iDs3gXa1HwKx7G45jBaVVIFpKFZGEBehigYDlm8RAm8SJ24pDqnGotLmAUL+AofkFIFpKFZGEBBiiqaTR4FJ/hJde2CivwA/pYilUIyUKykCwsQNG5hCM4oroFMyiqBgXr8Ccu4iusw0aEZCFZSBYWoYcBRlQjaA1bg8toMILluIKQLCQLycIitKoW0+ipGhTVrXgeX+IALmMaIVlIFpKFeTQo/luLnqpV/YEfMY4PsQnHEJKFZCFZmEexcK3ONpzAF9iFJ7AEZxCShWQhWbgBemhVr2AlPsCzOI+DGEMfIVlIFpKFG6DFGPYjcA5P4RRuwp3oq0KykCwkC3P00JpfDw2WYAqb8Q5OYgP2oai24W58pwrJQrKQLMzRqhpVcbUWPUxhFHvxDR7B04YV9DClCslCspAsXEdxbQ0KWtV+nMVWPONqA6xGXxWShWQhWZijQcFtuAPr8K1O0XkDV7AVT+qE6gp6WK0TkoVkIVmYo6gexAZcxDJMGTaKCdyM7YYVDFQFd+mEZCFZSBYNik6DgmPm9xHuwy5Xa9GoBnhAJyQLyUKyKIYVVYODGMXbOKDzOnbiPfxsfj3crhOShWQhWUyij0u4gL8xixnMYBP24mucww7sxmG86vqKagSzOiFZSBaSxRjGsAYr8A8uYIAz+Bwn8BgmsAVHsQ99LMWs65vGIZ2QLCQLyeITw1ZhPVZiPRpsxARW4CAO4Ixq1vymsQdvqkKykCwkC3Ocx3k3zm94XyckC8lCspDgNZ2QLCQLyf4FlyOujms2dOoAAAAASUVORK5C\"></td><td style='text-align:center;vertical-align:middle; margin: 0.5em;border:1px #90999f solid;border-collapse:collapse'><img style='max-width: 100px; max-height:100px;display:inline' src=\"data:image/png;base64,iVBORw0KGgoAAAANSUhEUgAAAHAAAABwCAAAAADji6uXAAAABGdBTUEAALGPC/xhBQAAAAFzUkdCAK7OHOkAAAAgY0hSTQAAeiYAAICEAAD6AAAAgOgAAHUwAADqYAAAOpgAABdwnLpRPAAAA3xJREFUaAW9wUuIVQUYAODv3Pvn+LrOqFiaGUVGUGaT4Co3bXoQREiLCleB0EMKDCHClZuMohau2pS0kEAko6AMol2RQUFBCRLhFOQixtedh+M957Q4A8dhDGwc/u8Li2g7HsS92IB/8A7+0ArJQrKQLCyCl7AefUziBNbgNZzEOq2QLCQLycIiuA99TOM0TmhsxS7cjdMaIVlIFpKFRfAyhvAkduIAvsYV/I7HcVojJAvJQrJwAwrUGpdxFEexGl/hF3yJEa2QLCQLycICFKhRa2zCTuzA/RjCfoxhDKu1QrKQLCQLC1CjgwodvIhxfIAvtHbjJ/S1QrKQLCQLC1Cg1qhwEg/jEbyNFfgIP6CPvlZIFpKFZGEBanMdx3GtHl7FDnyOArVGSBaShWThBhXooNRYixfQwxGNArVGSBaShWThBtUo8QxewRA+xVsYRweVVkgWkoVkYREcwFbswY9aBWpzhWQhWUgWFqBAgQqrMI6ntLooUZsvJAvJQrJwnQrU5qvwp7lKjGIUh9FBpRGShWQhWbhONQrUWh30MYkncB4bMIxR/KrRQaURkoVkIVn4H2oUGpXWZezBNCoUqLBMo9IKyUKykCxcQ6FRa3RRYIBaYyUKPI07MIYeprEKZ3BCo9YKyUKykCxcQ61VoDTXfuzDXpzCh3hPYxsO4YhWrRWShWQhWfgPBQpUuBU1NuFZbMYhbMdz6OIiRnAYRzQCNUqtkCwkC8nCrAK1Vo0ao/gen+B1vIv9uIQLOIPl6KHE+1oD84VkIVlIFq7SRYlHMYqb0cXzWIZj+A7j6GEYqzGJ9fgMt2M7+ihxCn9phWQhWUgWZtUoUeAB/I29eAMdjWMYxQBLMY1JTGISu7AbXZzDOryJj7VCspAsJAuzHsI2TKBCjd24E8NYgyn8jNswgsAmjGADAmcxgyEEvjVXSBaShWRh1ko8hgncghlM4hJ6KBFYhbUYwU2oUOEsKpSoUKHEWXOFZCFZSBZmnUKFAhV62IgV6GosQYVLmNCaQQehUaHCFGbMFZKFZCFZmDWGzbiAAS7jIgZYiikMsBwD1CgxjQIddFHgCnq4Yr6QLCQLycKsGluwD7uwHktQI1CigwKFRgehUaDAAL+hi2/MF5KFZCFZuEqJgziIe7AFd2EjupjAFC5iChOYRh9T6GMafZzHOfOFZCFZSPYv6o/WyYFl6FUAAAAASUVORK5C\"></td><td style='text-align:center;vertical-align:middle; margin: 0.5em;border:1px #90999f solid;border-collapse:collapse'><img style='max-width: 100px; max-height:100px;display:inline' src=\"data:image/png;base64,iVBORw0KGgoAAAANSUhEUgAAAHAAAABwCAAAAADji6uXAAAABGdBTUEAALGPC/xhBQAAAAFzUkdCAK7OHOkAAAAgY0hSTQAAeiYAAICEAAD6AAAAgOgAAHUwAADqYAAAOpgAABdwnLpRPAAAA/FJREFUaAW9wT2IZWcZAODnnPPeM3dmMpOQCBILIaIxRNMkXdhCsFEQxU5UFNTCQrCzE9Mo6bRLYbBImzqQLp0RhEAqWbbYJa6G7GxWNjPembnnnu+zOMX92xBs3ucJn6HDiAO8h4cYsMKX8Vu8gRbFZwvJQrKQLHyKBhWjybN4HmfocIUv4Pt4A8Vai+LRQrKQLCQLGxo0KKgmJ/gRfoIFHuAOzvFNvIBf4k18bFJ8upAsJAvJwoaKavIc/owbJg+xQIcXUdHhCbyG13Abb+OPuOXRQrKQLCQLj/B7/BwD/oEBHXoc4y5OMcc93MVjOMT38AP8Bq/bF5KFZCFZeIQf4wwjDtCjwwKBD/B5FHR4Cj3OsMIpfofX7QvJQrKQLOz4Lg5xjg4DGhQc4ALPosc5TnCBm3gBKyzR4ov4wLaQLCQLycKOX2NAh4oVWlSs0CBQMUeLDg+wwAkucIAf4lXbQrKQLCQLO27gLjo0KGhQrS3R4xAL9PgOHuAKLUa8bF9IFpKFZGHHiIKCQyxNWnRYYECLDpcm91BwihEf4Rv2hWQhWUgWNjyHAww4RMUMI65wiBYLdHgcMyxxiA4VV7jGCb6Km9ZCspAsJAsbXsSIBuc4QUWPAQNmOEbBEhUFR6hYmRxjiW/hprWQLCQLycKGLyGwQoceCzSY4wrFpMUVGsxxgcdxjE+wwiWetC0kC8lCsrDhXyZLnKBBjwHVJDBihoIRPa5REGgQOMW7toVkIVlIFjYMaFAxxwHOUdGaVBRUDOhMZjjHERpcmTxhW0gWkoVkYcMZKgoKlhgwwwqBFXq0Jp1JgxEDOhyZ3LEtJAvJQrKw4SEaBAYU9KhoMKLFaHKEiorOpKDFymRhW0gWkoVkYcPfMGCG1qRiRIMBM5OCFiMKwqTDiMHkzLaQLCQLycKGwAy9SWCJDgUVK3Ro0aBFILBCQcEBCj60LSQLyUKysOFpkyV6NGjRoUFFh/+gxQkCDa7wGGaoJsW+kCwkC8nChn/iNmZYomJEQcEKDXr06HBtUjBDwYgWM3wO962FZCFZSBZ2zNFggVMcoeAaK1QcoceIOUZ0JpfoEbjGfdtCspAsJAs7Kloc4zYu8QyuMWLEAgs0OEUg8Hcc4SsYcNu+kCwkC8nCjrfwbSzxX3wNT+M+RvT4GD0CM7QIfB1v4hk0+Kt9IVlIFpKFHTewxBy38Af8FP9GgzlGFJNLHOElvIs7OMAD/Ay/QLUWkoVkIVnY8Qr+hAu8gnt4x//nV3gKf0G1LSQLyUKysOMu5rjAwiRQrFU01ioaFJOCQ7xvX0gWkoVkYccZbuETFJOCYlu1rbW2xEMc2xeShWQh2f8AEPUOGXdmG4MAAAAASUVORK5C\"></td><td style='text-align:center;vertical-align:middle; margin: 0.5em;border:1px #90999f solid;border-collapse:collapse'><img style='max-width: 100px; max-height:100px;display:inline' src=\"data:image/png;base64,iVBORw0KGgoAAAANSUhEUgAAAHAAAABwCAAAAADji6uXAAAABGdBTUEAALGPC/xhBQAAAAFzUkdCAK7OHOkAAAAgY0hSTQAAeiYAAICEAAD6AAAAgOgAAHUwAADqYAAAOpgAABdwnLpRPAAAA3NJREFUaAW9wU2LVXUcAODnnPubOzN3XpxmCkVJEcQWImiRFFiRq3RV0lJoWeHSD+A3CFoEtmhfq6CFyyAhIqKFob0YhUiI5YyDc53Xe+85Cf9gEhdOLX7PE5KFZCFZSBaShWQhWUgWkoVkIVlIFpKFZCFZSBb+h1pRo8XIo87hZxzBXVxGYIiQLCQLycJ/UKGDoaKxbS8u4iSu4U3sxw1cxlARkoVkIVnYoQothrYdwFmcxQGs4nccwgDX8RJew1foICQLyUKysAM1GsWHeBa7MI8pjKGPZUyhiy7mcBJLihFCspAsJAs7MIlVvIqjii4eYA27MMRe/IQ+DqPGkqJGg5AsJAvJwg6sKt5Fi3VUCMyiiw4e4BWs4xouKDqKGiFZSBaShSfoYITXsYBNBLZQYRw9bGI/7uM0rtrWolGEZCFZSBb+UaFFjUZRYaR4BzUqDNFBg3tYwx5cxwmPa3AY6wjJQrKQLDxUoVU0qFGhRYsFTGMTXVToYhotWszghEdN4xxewHF8gpAsJAvJokKrqNCiwgiBBqcwj3VsYIQWY9jAUVy27QzexzPo4Q5u4lOEZCFZSBatx41QY6g4hSEadNCggxoz2I0vsIArij4WsYYNtFhBSBaShWThoQotWlRoUaPBMRzBfdSoMIkpzGIS3+E9fIQbuIUhNtBBjQFGCMlCspAsKo+q0MFQcRGLqBUTCDyFWdxBHwdxFb+ghw5atBhhURGShWQhWdQY2dagwSw+xlAxhgGm0UMPa1jFc/gAL2ICmxhgHBUGuK0IyUKykCwaVOhgiDfwNgYYRx8ddFEhsIABlnACF3AJt/AjKsUIW5i2LSQLyUKy8FCLoeIgWvyKL7EHXTyPOcygwibG8TkuoYsKA3TQosEQgXuKkCwkC8miVVRosYwr+B5/4BheVsyjhy00WMI5xQxWsIEWW+hghC5+U4RkIVlIFidxBn38idOYx2ksYhy7MYcZNGhwG2/Z1uIvTClW0cEQY+grQrKQLCSLq9iHQ9iHZfSwgKcxgwlUqLCOAc5jEzUa9DCDLUxhFpNYxBYGipAsJAvJoo/PFBXmEDiE49iPMYxwEz/ga7SKSnEf32IFt1FjAivo4ZYiJAvJQrLwLy2WFXfxjScbKfo478lCspAsJAvJQrKQLCQLyUKykCwkC8lCspAsJPsbzxPWCSz/lqkAAAAASUVORK5C\"></td><td style='text-align:center;vertical-align:middle; margin: 0.5em;border:1px #90999f solid;border-collapse:collapse'><img style='max-width: 100px; max-height:100px;display:inline' src=\"data:image/png;base64,iVBORw0KGgoAAAANSUhEUgAAAHAAAABwCAAAAADji6uXAAAABGdBTUEAALGPC/xhBQAAAAFzUkdCAK7OHOkAAAAgY0hSTQAAeiYAAICEAAD6AAAAgOgAAHUwAADqYAAAOpgAABdwnLpRPAAAA8dJREFUaAW9wT2LHIcZAOBnZt6Z273zXXTSOQqyYkUYu4nBJKQ1BJIqFrgIpAmBNMalHEhn439gSErjzv/AjTE4hXEhVcGFi6QxCpGIhEisr/va3dkZF1McmllB3LzPE56hQIHOmTdxHV/jCtb4racV6D1bSBaShWRhgxIdemc+wB8ww0vYQ41/4To+MegNCvSmQrKQLCQLIwU6g2t4Cy9gH/cxR4EF7qPAX/EevsU7+Ad6m4VkIVlIFkZ6gw/xBo5wggcocYqlqRlewqf4PW4g0HpaSBaShWRhg9fxG/wbFQqDDh0KbGGFGoEV7mEff8QNtKZCspAsJAsbXMMCNWZYYI0SDb7FEnN0OMUKc7R4xbOFZCFZSBY2uIwKFZYGPdYGHToU6FFiFw0e4hwu446pkCwkC8nCBq+gxwyHqLCLQ/TYRoc1amzjCAussYNXccdUSBaShWRhgx/hFFt4gkf4BlfQY4FtnMdt/A2/xBoVKryOz0yFZCFZSBY22MEhLqBFj108j8dYYIEGL2KNPRxjhR4v2ywkC8lCsjCyj0CLQIkZLuEu5uixwn/Q4ACPDRoU+LHNQrKQLCQLIz9BYG3QI3CCBg1qdKjR4wRbKFGjxyWbhWQhWUgWRvZQoMMWdtCiwRItAgVKgxoljrGDEjs2C8lCspAsjBygQ48FjrBEjR4dKmzjMeZoscQKWygMruKWp4VkIVlIFkYuosWpwRE6NChQ4glKVAYdKuyhQ4sOP8MtTwvJQrKQLIwcoEWJNc7hGAuUBgUqVFhhGwtnOnR43lRIFpKFZGHkAGsU6NChMGiwQI8lSpygMTjCBaywwg9NhWQhWUgWRvbRokCFY9QGPQoEaqxR4xQznKDBEie4aCokC8lCsjCyjRUKtDhFgxqBCod4gAO0aAy2sETgBOdMhWQhWUgWRhq0COyhwxHm6LHGLloEKmzhGIEdHKPF3FRIFpKFZGEk0OECvsJPcQ8nqFCjwQwVAo+wh1vo8Rr+h9JUSBaShWRhZI4FruIX+DPexn0UOMQaPRrUmOES3sV5/AWlzUKykCwkCyOtQYEWDX6ALZT4L47Qo8Y+Gszxc9xEjxK9qZAsJAvJwsgDXMZtXMCf8BU67GEHj3AX57HAI9zH3/ErLBAoTYVkIVlIFkYeGrR4zuBj/781lihwbCokC8lCsjCyi0CPtcEcK/ToURpUKLFCiSX+iVPU2DEVkoVkIVkY+Ry/w118bbBA50xn0DpTGtzDDJfwpamQLCQLycLITXyBb3w/vTPv49f4yFRIFpKFZN8BhnHrykwblVkAAAAASUVORK5C\"></td><td style='text-align:center;vertical-align:middle; margin: 0.5em;border:1px #90999f solid;border-collapse:collapse'><img style='max-width: 100px; max-height:100px;display:inline' src=\"data:image/png;base64,iVBORw0KGgoAAAANSUhEUgAAAHAAAABwCAAAAADji6uXAAAABGdBTUEAALGPC/xhBQAAAAFzUkdCAK7OHOkAAAAgY0hSTQAAeiYAAICEAAD6AAAAgOgAAHUwAADqYAAAOpgAABdwnLpRPAAAA3xJREFUaAW9wUuIVQUYAODv3Pvn+LrOqFiaGUVGUGaT4Co3bXoQREiLCleB0EMKDCHClZuMohau2pS0kEAko6AMol2RQUFBCRLhFOQixtedh+M957Q4A8dhDGwc/u8Li2g7HsS92IB/8A7+0ArJQrKQLCyCl7AefUziBNbgNZzEOq2QLCQLycIiuA99TOM0TmhsxS7cjdMaIVlIFpKFRfAyhvAkduIAvsYV/I7HcVojJAvJQrJwAwrUGpdxFEexGl/hF3yJEa2QLCQLycICFKhRa2zCTuzA/RjCfoxhDKu1QrKQLCQLC1CjgwodvIhxfIAvtHbjJ/S1QrKQLCQLC1Cg1qhwEg/jEbyNFfgIP6CPvlZIFpKFZGEBanMdx3GtHl7FDnyOArVGSBaShWThBhXooNRYixfQwxGNArVGSBaShWThBtUo8QxewRA+xVsYRweVVkgWkoVkYREcwFbswY9aBWpzhWQhWUgWFqBAgQqrMI6ntLooUZsvJAvJQrJwnQrU5qvwp7lKjGIUh9FBpRGShWQhWbhONQrUWh30MYkncB4bMIxR/KrRQaURkoVkIVn4H2oUGpXWZezBNCoUqLBMo9IKyUKykCxcQ6FRa3RRYIBaYyUKPI07MIYeprEKZ3BCo9YKyUKykCxcQ61VoDTXfuzDXpzCh3hPYxsO4YhWrRWShWQhWfgPBQpUuBU1NuFZbMYhbMdz6OIiRnAYRzQCNUqtkCwkC8nCrAK1Vo0ao/gen+B1vIv9uIQLOIPl6KHE+1oD84VkIVlIFq7SRYlHMYqb0cXzWIZj+A7j6GEYqzGJ9fgMt2M7+ihxCn9phWQhWUgWZtUoUeAB/I29eAMdjWMYxQBLMY1JTGISu7AbXZzDOryJj7VCspAsJAuzHsI2TKBCjd24E8NYgyn8jNswgsAmjGADAmcxgyEEvjVXSBaShWRh1ko8hgncghlM4hJ6KBFYhbUYwU2oUOEsKpSoUKHEWXOFZCFZSBZmnUKFAhV62IgV6GosQYVLmNCaQQehUaHCFGbMFZKFZCFZmDWGzbiAAS7jIgZYiikMsBwD1CgxjQIddFHgCnq4Yr6QLCQLycKsGluwD7uwHktQI1CigwKFRgehUaDAAL+hi2/MF5KFZCFZuEqJgziIe7AFd2EjupjAFC5iChOYRh9T6GMafZzHOfOFZCFZSPYv6o/WyYFl6FUAAAAASUVORK5C\"></td><td style='text-align:center;vertical-align:middle; margin: 0.5em;border:1px #90999f solid;border-collapse:collapse'><img style='max-width: 100px; max-height:100px;display:inline' src=\"data:image/png;base64,iVBORw0KGgoAAAANSUhEUgAAAHAAAABwCAAAAADji6uXAAAABGdBTUEAALGPC/xhBQAAAAFzUkdCAK7OHOkAAAAgY0hSTQAAeiYAAICEAAD6AAAAgOgAAHUwAADqYAAAOpgAABdwnLpRPAAAAr5JREFUaAW9wTtonQUcB9Dz9f6SGNoaS42WpgoFsYPP6NDBQRGX2tEupRKquHVxExQEX4PFQcFBiouCCj4GEcEiCAoicVBBKFSlvoJG0vQl196m3HwWvuESalCX/zlRLIpFsSgWxaJYFItiUSyKRbEoFsWiWBSLYlEsikWxKBbFolgUi2JRLIpFsSgWxaJYFIti8T81aDGLOTyPRWs1aP2zKBbFolj8iwYtGjRYxW7s03kG7+FHHNdpdcZwLRaMRLEoFsViHRuwihaNtXbhDryBiziCcXyOb9FiO3bgWSygQYsoFsWiWKxj1UiLBo3O67gNT2ETzuA7zGI3TuIiWtyOL4xEsSgWxeKSxkirM40P8SLeRIuhkafxOw7hV0xgQScYYAU3YiP6aBDFolgUS4NWp4ch7sbbuBIPYS+W8Ar+wGY0eAEf4V3M4zAewX0Y4jW8g7/QoEUUi2JRLC026Ax1xvESzuA0bsJvOIDDOIubsRPHMI/deAw7MYXH8YHLRbEoFsUyhqGRSezD+ziFA/gJm3UO4ii+QR/TmMe92IopnMKn1mp1olgUi2K5aKTBJszhK8xhF77Go/gY+/EZ+jpLWECDuzCFPrbgHLZiFX2sIIpFsSiW7diC77GCVZzFDpzGLbgHL+MGnMAyZvEwxnEFvsRR9DHAADNocBpH8CqiWBSLYrkOT+BP/IwfsB+nsIQn0cMQG7ENB/EABngO49iDPTiGk7gVJ9DDIVyPk4hiUSyKZR4PYi+uwp24H9OYRA9j2IAJDDHAL1jGDLZhEtdgBpOYQNBDH5/gOKJYFIticck5vGWtCWzC1ehhAhMYYBGLLjeJMUxjDC3OYxErOlEsikWxWMcFXMCy/+48zuOc9UWxKBbFolgUi2JRLIpFsSgWxaJYFItiUSyKRbEoFsWiWBSLYlEsikWxKBbF/gZrmZNfcKBLAgAAAABJRU5ErkJg\"></td></tr></tbody></table><div><small>(a vector displayed as a row to save space)</small></div>"
      ],
      "text/plain": [
       "8-element Vector{Base.ReinterpretArray{Gray{Float32}, 2, Float32, Matrix{Float32}, true}}:\n",
       " [Gray{Float32}(0.0f0) Gray{Float32}(0.0f0) … Gray{Float32}(0.0f0) Gray{Float32}(0.0f0); Gray{Float32}(0.0f0) Gray{Float32}(0.0f0) … Gray{Float32}(0.0f0) Gray{Float32}(0.0f0); … ; Gray{Float32}(0.0f0) Gray{Float32}(0.0f0) … Gray{Float32}(0.0f0) Gray{Float32}(0.0f0); Gray{Float32}(0.0f0) Gray{Float32}(0.0f0) … Gray{Float32}(0.0f0) Gray{Float32}(0.0f0)]\n",
       " [Gray{Float32}(0.0f0) Gray{Float32}(0.0f0) … Gray{Float32}(0.0f0) Gray{Float32}(0.0f0); Gray{Float32}(0.0f0) Gray{Float32}(0.0f0) … Gray{Float32}(0.0f0) Gray{Float32}(0.0f0); … ; Gray{Float32}(0.0f0) Gray{Float32}(0.0f0) … Gray{Float32}(0.0f0) Gray{Float32}(0.0f0); Gray{Float32}(0.0f0) Gray{Float32}(0.0f0) … Gray{Float32}(0.0f0) Gray{Float32}(0.0f0)]\n",
       " [Gray{Float32}(0.0f0) Gray{Float32}(0.0f0) … Gray{Float32}(0.0f0) Gray{Float32}(0.0f0); Gray{Float32}(0.0f0) Gray{Float32}(0.0f0) … Gray{Float32}(0.0f0) Gray{Float32}(0.0f0); … ; Gray{Float32}(0.0f0) Gray{Float32}(0.0f0) … Gray{Float32}(0.0f0) Gray{Float32}(0.0f0); Gray{Float32}(0.0f0) Gray{Float32}(0.0f0) … Gray{Float32}(0.0f0) Gray{Float32}(0.0f0)]\n",
       " [Gray{Float32}(0.0f0) Gray{Float32}(0.0f0) … Gray{Float32}(0.0f0) Gray{Float32}(0.0f0); Gray{Float32}(0.0f0) Gray{Float32}(0.0f0) … Gray{Float32}(0.0f0) Gray{Float32}(0.0f0); … ; Gray{Float32}(0.0f0) Gray{Float32}(0.0f0) … Gray{Float32}(0.0f0) Gray{Float32}(0.0f0); Gray{Float32}(0.0f0) Gray{Float32}(0.0f0) … Gray{Float32}(0.0f0) Gray{Float32}(0.0f0)]\n",
       " [Gray{Float32}(0.0f0) Gray{Float32}(0.0f0) … Gray{Float32}(0.0f0) Gray{Float32}(0.0f0); Gray{Float32}(0.0f0) Gray{Float32}(0.0f0) … Gray{Float32}(0.0f0) Gray{Float32}(0.0f0); … ; Gray{Float32}(0.0f0) Gray{Float32}(0.0f0) … Gray{Float32}(0.0f0) Gray{Float32}(0.0f0); Gray{Float32}(0.0f0) Gray{Float32}(0.0f0) … Gray{Float32}(0.0f0) Gray{Float32}(0.0f0)]\n",
       " [Gray{Float32}(0.0f0) Gray{Float32}(0.0f0) … Gray{Float32}(0.0f0) Gray{Float32}(0.0f0); Gray{Float32}(0.0f0) Gray{Float32}(0.0f0) … Gray{Float32}(0.0f0) Gray{Float32}(0.0f0); … ; Gray{Float32}(0.0f0) Gray{Float32}(0.0f0) … Gray{Float32}(0.0f0) Gray{Float32}(0.0f0); Gray{Float32}(0.0f0) Gray{Float32}(0.0f0) … Gray{Float32}(0.0f0) Gray{Float32}(0.0f0)]\n",
       " [Gray{Float32}(0.0f0) Gray{Float32}(0.0f0) … Gray{Float32}(0.0f0) Gray{Float32}(0.0f0); Gray{Float32}(0.0f0) Gray{Float32}(0.0f0) … Gray{Float32}(0.0f0) Gray{Float32}(0.0f0); … ; Gray{Float32}(0.0f0) Gray{Float32}(0.0f0) … Gray{Float32}(0.0f0) Gray{Float32}(0.0f0); Gray{Float32}(0.0f0) Gray{Float32}(0.0f0) … Gray{Float32}(0.0f0) Gray{Float32}(0.0f0)]\n",
       " [Gray{Float32}(0.0f0) Gray{Float32}(0.0f0) … Gray{Float32}(0.0f0) Gray{Float32}(0.0f0); Gray{Float32}(0.0f0) Gray{Float32}(0.0f0) … Gray{Float32}(0.0f0) Gray{Float32}(0.0f0); … ; Gray{Float32}(0.0f0) Gray{Float32}(0.0f0) … Gray{Float32}(0.0f0) Gray{Float32}(0.0f0); Gray{Float32}(0.0f0) Gray{Float32}(0.0f0) … Gray{Float32}(0.0f0) Gray{Float32}(0.0f0)]"
      ]
     },
     "execution_count": 17,
     "metadata": {},
     "output_type": "execute_result"
    }
   ],
   "source": [
    "k = rand(1:n, 8)\n",
    "println([\"$(labels[Y[i]])\" for i in k])\n",
    "[convert2image(FashionMNIST, X[:,:,i]) for i in k]"
   ]
  },
  {
   "cell_type": "markdown",
   "metadata": {},
   "source": [
    "## Visualizing the data\n",
    "\n",
    "Each input data point is an image consisting of grey values for $28\\times 28$ pixels.\n",
    "\n",
    "Thus the data lives in $\\mathbb R^D$ with $D=28^2 = 784$."
   ]
  },
  {
   "cell_type": "code",
   "execution_count": 18,
   "metadata": {},
   "outputs": [
    {
     "data": {
      "text/plain": [
       "784"
      ]
     },
     "execution_count": 18,
     "metadata": {},
     "output_type": "execute_result"
    }
   ],
   "source": [
    "D = 28^2"
   ]
  },
  {
   "cell_type": "markdown",
   "metadata": {},
   "source": [
    "Let us look at the structure of the first input data point:"
   ]
  },
  {
   "cell_type": "code",
   "execution_count": 19,
   "metadata": {},
   "outputs": [
    {
     "data": {
      "text/plain": [
       "Matrix{Float32}\u001b[90m (alias for \u001b[39m\u001b[90mArray{Float32, 2}\u001b[39m\u001b[90m)\u001b[39m"
      ]
     },
     "execution_count": 19,
     "metadata": {},
     "output_type": "execute_result"
    }
   ],
   "source": [
    "typeof(X[:,:,1])"
   ]
  },
  {
   "cell_type": "markdown",
   "metadata": {},
   "source": [
    "We see that the input data consists of matrices. \n",
    "\n",
    "For using machine learning algorithm we first transform the input data points into vectors using the `vec` function."
   ]
  },
  {
   "cell_type": "code",
   "execution_count": 20,
   "metadata": {},
   "outputs": [],
   "source": [
    "X_vec = [Float64.(vec(X[:,:,i])) for i in 1:n];\n",
    "X_test_vec = [Float64.(vec(X_test[:,:,i])) for i in 1:n];"
   ]
  },
  {
   "cell_type": "markdown",
   "metadata": {},
   "source": [
    "We also normalize the data to account for numerical accuracy."
   ]
  },
  {
   "cell_type": "code",
   "execution_count": 21,
   "metadata": {},
   "outputs": [],
   "source": [
    "M = maximum(norm.(X_vec))\n",
    "X_vec = X_vec ./ M\n",
    "X_test_vec = X_test_vec ./ M;"
   ]
  },
  {
   "cell_type": "markdown",
   "metadata": {},
   "source": [
    "We can visualize this data by randomly projecting the points in $\\mathbb R^D$ to $\\mathbb R^2$. \n",
    "\n",
    "For instance, we can first center the data and then sample a random projection matrix:"
   ]
  },
  {
   "cell_type": "code",
   "execution_count": 22,
   "metadata": {},
   "outputs": [],
   "source": [
    "x̄ = mean(X_vec)\n",
    "Pr = randn(2, D)\n",
    "X_Pr = hcat(map(x -> Pr*(x - x̄), X_vec)...);"
   ]
  },
  {
   "cell_type": "markdown",
   "metadata": {},
   "source": [
    "We can now apply a scatter plot the the projected data."
   ]
  },
  {
   "cell_type": "code",
   "execution_count": 23,
   "metadata": {},
   "outputs": [
    {
     "data": {
      "image/svg+xml": [
       "<?xml version=\"1.0\" encoding=\"utf-8\"?>\n",
       "<svg xmlns=\"http://www.w3.org/2000/svg\" xmlns:xlink=\"http://www.w3.org/1999/xlink\" width=\"600\" height=\"300\" viewBox=\"0 0 2400 1200\">\n",
       "<defs>\n",
       "  <clipPath id=\"clip840\">\n",
       "    <rect x=\"0\" y=\"0\" width=\"2400\" height=\"1200\"/>\n",
       "  </clipPath>\n",
       "</defs>\n",
       "<path clip-path=\"url(#clip840)\" d=\"\n",
       "M0 1200 L2400 1200 L2400 0 L0 0  Z\n",
       "  \" fill=\"#ffffff\" fill-rule=\"evenodd\" fill-opacity=\"1\"/>\n",
       "<defs>\n",
       "  <clipPath id=\"clip841\">\n",
       "    <rect x=\"480\" y=\"0\" width=\"1681\" height=\"1200\"/>\n",
       "  </clipPath>\n",
       "</defs>\n",
       "<path clip-path=\"url(#clip840)\" d=\"\n",
       "M192.941 1099.09 L2352.76 1099.09 L2352.76 47.2441 L192.941 47.2441  Z\n",
       "  \" fill=\"#ffffff\" fill-rule=\"evenodd\" fill-opacity=\"1\"/>\n",
       "<defs>\n",
       "  <clipPath id=\"clip842\">\n",
       "    <rect x=\"192\" y=\"47\" width=\"2161\" height=\"1053\"/>\n",
       "  </clipPath>\n",
       "</defs>\n",
       "<polyline clip-path=\"url(#clip842)\" style=\"stroke:#000000; stroke-linecap:round; stroke-linejoin:round; stroke-width:2; stroke-opacity:0.1; fill:none\" points=\"\n",
       "  484.577,1099.09 484.577,47.2441 \n",
       "  \"/>\n",
       "<polyline clip-path=\"url(#clip842)\" style=\"stroke:#000000; stroke-linecap:round; stroke-linejoin:round; stroke-width:2; stroke-opacity:0.1; fill:none\" points=\"\n",
       "  908.203,1099.09 908.203,47.2441 \n",
       "  \"/>\n",
       "<polyline clip-path=\"url(#clip842)\" style=\"stroke:#000000; stroke-linecap:round; stroke-linejoin:round; stroke-width:2; stroke-opacity:0.1; fill:none\" points=\"\n",
       "  1331.83,1099.09 1331.83,47.2441 \n",
       "  \"/>\n",
       "<polyline clip-path=\"url(#clip842)\" style=\"stroke:#000000; stroke-linecap:round; stroke-linejoin:round; stroke-width:2; stroke-opacity:0.1; fill:none\" points=\"\n",
       "  1755.45,1099.09 1755.45,47.2441 \n",
       "  \"/>\n",
       "<polyline clip-path=\"url(#clip842)\" style=\"stroke:#000000; stroke-linecap:round; stroke-linejoin:round; stroke-width:2; stroke-opacity:0.1; fill:none\" points=\"\n",
       "  2179.08,1099.09 2179.08,47.2441 \n",
       "  \"/>\n",
       "<polyline clip-path=\"url(#clip840)\" style=\"stroke:#000000; stroke-linecap:round; stroke-linejoin:round; stroke-width:4; stroke-opacity:1; fill:none\" points=\"\n",
       "  192.941,1099.09 2352.76,1099.09 \n",
       "  \"/>\n",
       "<polyline clip-path=\"url(#clip840)\" style=\"stroke:#000000; stroke-linecap:round; stroke-linejoin:round; stroke-width:4; stroke-opacity:1; fill:none\" points=\"\n",
       "  484.577,1099.09 484.577,1080.19 \n",
       "  \"/>\n",
       "<polyline clip-path=\"url(#clip840)\" style=\"stroke:#000000; stroke-linecap:round; stroke-linejoin:round; stroke-width:4; stroke-opacity:1; fill:none\" points=\"\n",
       "  908.203,1099.09 908.203,1080.19 \n",
       "  \"/>\n",
       "<polyline clip-path=\"url(#clip840)\" style=\"stroke:#000000; stroke-linecap:round; stroke-linejoin:round; stroke-width:4; stroke-opacity:1; fill:none\" points=\"\n",
       "  1331.83,1099.09 1331.83,1080.19 \n",
       "  \"/>\n",
       "<polyline clip-path=\"url(#clip840)\" style=\"stroke:#000000; stroke-linecap:round; stroke-linejoin:round; stroke-width:4; stroke-opacity:1; fill:none\" points=\"\n",
       "  1755.45,1099.09 1755.45,1080.19 \n",
       "  \"/>\n",
       "<polyline clip-path=\"url(#clip840)\" style=\"stroke:#000000; stroke-linecap:round; stroke-linejoin:round; stroke-width:4; stroke-opacity:1; fill:none\" points=\"\n",
       "  2179.08,1099.09 2179.08,1080.19 \n",
       "  \"/>\n",
       "<path clip-path=\"url(#clip840)\" d=\"M431.105 1144.66 L460.78 1144.66 L460.78 1148.59 L431.105 1148.59 L431.105 1144.66 Z\" fill=\"#000000\" fill-rule=\"evenodd\" fill-opacity=\"1\" /><path clip-path=\"url(#clip840)\" d=\"M471.683 1157.55 L479.322 1157.55 L479.322 1131.19 L471.012 1132.85 L471.012 1128.59 L479.276 1126.93 L483.952 1126.93 L483.952 1157.55 L491.59 1157.55 L491.59 1161.49 L471.683 1161.49 L471.683 1157.55 Z\" fill=\"#000000\" fill-rule=\"evenodd\" fill-opacity=\"1\" /><path clip-path=\"url(#clip840)\" d=\"M501.035 1155.61 L505.919 1155.61 L505.919 1161.49 L501.035 1161.49 L501.035 1155.61 Z\" fill=\"#000000\" fill-rule=\"evenodd\" fill-opacity=\"1\" /><path clip-path=\"url(#clip840)\" d=\"M526.104 1130.01 Q522.493 1130.01 520.664 1133.57 Q518.859 1137.11 518.859 1144.24 Q518.859 1151.35 520.664 1154.91 Q522.493 1158.46 526.104 1158.46 Q529.738 1158.46 531.544 1154.91 Q533.373 1151.35 533.373 1144.24 Q533.373 1137.11 531.544 1133.57 Q529.738 1130.01 526.104 1130.01 M526.104 1126.3 Q531.914 1126.3 534.97 1130.91 Q538.049 1135.49 538.049 1144.24 Q538.049 1152.97 534.97 1157.58 Q531.914 1162.16 526.104 1162.16 Q520.294 1162.16 517.215 1157.58 Q514.16 1152.97 514.16 1144.24 Q514.16 1135.49 517.215 1130.91 Q520.294 1126.3 526.104 1126.3 Z\" fill=\"#000000\" fill-rule=\"evenodd\" fill-opacity=\"1\" /><path clip-path=\"url(#clip840)\" d=\"M855.228 1144.66 L884.904 1144.66 L884.904 1148.59 L855.228 1148.59 L855.228 1144.66 Z\" fill=\"#000000\" fill-rule=\"evenodd\" fill-opacity=\"1\" /><path clip-path=\"url(#clip840)\" d=\"M904.997 1130.01 Q901.386 1130.01 899.557 1133.57 Q897.751 1137.11 897.751 1144.24 Q897.751 1151.35 899.557 1154.91 Q901.386 1158.46 904.997 1158.46 Q908.631 1158.46 910.436 1154.91 Q912.265 1151.35 912.265 1144.24 Q912.265 1137.11 910.436 1133.57 Q908.631 1130.01 904.997 1130.01 M904.997 1126.3 Q910.807 1126.3 913.862 1130.91 Q916.941 1135.49 916.941 1144.24 Q916.941 1152.97 913.862 1157.58 Q910.807 1162.16 904.997 1162.16 Q899.186 1162.16 896.108 1157.58 Q893.052 1152.97 893.052 1144.24 Q893.052 1135.49 896.108 1130.91 Q899.186 1126.3 904.997 1126.3 Z\" fill=\"#000000\" fill-rule=\"evenodd\" fill-opacity=\"1\" /><path clip-path=\"url(#clip840)\" d=\"M925.159 1155.61 L930.043 1155.61 L930.043 1161.49 L925.159 1161.49 L925.159 1155.61 Z\" fill=\"#000000\" fill-rule=\"evenodd\" fill-opacity=\"1\" /><path clip-path=\"url(#clip840)\" d=\"M940.274 1126.93 L958.631 1126.93 L958.631 1130.86 L944.557 1130.86 L944.557 1139.34 Q945.575 1138.99 946.594 1138.83 Q947.612 1138.64 948.631 1138.64 Q954.418 1138.64 957.797 1141.81 Q961.177 1144.98 961.177 1150.4 Q961.177 1155.98 957.705 1159.08 Q954.232 1162.16 947.913 1162.16 Q945.737 1162.16 943.469 1161.79 Q941.223 1161.42 938.816 1160.68 L938.816 1155.98 Q940.899 1157.11 943.121 1157.67 Q945.344 1158.22 947.82 1158.22 Q951.825 1158.22 954.163 1156.12 Q956.501 1154.01 956.501 1150.4 Q956.501 1146.79 954.163 1144.68 Q951.825 1142.58 947.82 1142.58 Q945.945 1142.58 944.07 1142.99 Q942.219 1143.41 940.274 1144.29 L940.274 1126.93 Z\" fill=\"#000000\" fill-rule=\"evenodd\" fill-opacity=\"1\" /><path clip-path=\"url(#clip840)\" d=\"M1309.21 1130.01 Q1305.6 1130.01 1303.77 1133.57 Q1301.97 1137.11 1301.97 1144.24 Q1301.97 1151.35 1303.77 1154.91 Q1305.6 1158.46 1309.21 1158.46 Q1312.85 1158.46 1314.65 1154.91 Q1316.48 1151.35 1316.48 1144.24 Q1316.48 1137.11 1314.65 1133.57 Q1312.85 1130.01 1309.21 1130.01 M1309.21 1126.3 Q1315.02 1126.3 1318.08 1130.91 Q1321.16 1135.49 1321.16 1144.24 Q1321.16 1152.97 1318.08 1157.58 Q1315.02 1162.16 1309.21 1162.16 Q1303.4 1162.16 1300.32 1157.58 Q1297.27 1152.97 1297.27 1144.24 Q1297.27 1135.49 1300.32 1130.91 Q1303.4 1126.3 1309.21 1126.3 Z\" fill=\"#000000\" fill-rule=\"evenodd\" fill-opacity=\"1\" /><path clip-path=\"url(#clip840)\" d=\"M1329.37 1155.61 L1334.26 1155.61 L1334.26 1161.49 L1329.37 1161.49 L1329.37 1155.61 Z\" fill=\"#000000\" fill-rule=\"evenodd\" fill-opacity=\"1\" /><path clip-path=\"url(#clip840)\" d=\"M1354.44 1130.01 Q1350.83 1130.01 1349 1133.57 Q1347.2 1137.11 1347.2 1144.24 Q1347.2 1151.35 1349 1154.91 Q1350.83 1158.46 1354.44 1158.46 Q1358.08 1158.46 1359.88 1154.91 Q1361.71 1151.35 1361.71 1144.24 Q1361.71 1137.11 1359.88 1133.57 Q1358.08 1130.01 1354.44 1130.01 M1354.44 1126.3 Q1360.25 1126.3 1363.31 1130.91 Q1366.39 1135.49 1366.39 1144.24 Q1366.39 1152.97 1363.31 1157.58 Q1360.25 1162.16 1354.44 1162.16 Q1348.63 1162.16 1345.56 1157.58 Q1342.5 1152.97 1342.5 1144.24 Q1342.5 1135.49 1345.56 1130.91 Q1348.63 1126.3 1354.44 1126.3 Z\" fill=\"#000000\" fill-rule=\"evenodd\" fill-opacity=\"1\" /><path clip-path=\"url(#clip840)\" d=\"M1733.34 1130.01 Q1729.73 1130.01 1727.9 1133.57 Q1726.09 1137.11 1726.09 1144.24 Q1726.09 1151.35 1727.9 1154.91 Q1729.73 1158.46 1733.34 1158.46 Q1736.97 1158.46 1738.78 1154.91 Q1740.61 1151.35 1740.61 1144.24 Q1740.61 1137.11 1738.78 1133.57 Q1736.97 1130.01 1733.34 1130.01 M1733.34 1126.3 Q1739.15 1126.3 1742.2 1130.91 Q1745.28 1135.49 1745.28 1144.24 Q1745.28 1152.97 1742.2 1157.58 Q1739.15 1162.16 1733.34 1162.16 Q1727.53 1162.16 1724.45 1157.58 Q1721.39 1152.97 1721.39 1144.24 Q1721.39 1135.49 1724.45 1130.91 Q1727.53 1126.3 1733.34 1126.3 Z\" fill=\"#000000\" fill-rule=\"evenodd\" fill-opacity=\"1\" /><path clip-path=\"url(#clip840)\" d=\"M1753.5 1155.61 L1758.38 1155.61 L1758.38 1161.49 L1753.5 1161.49 L1753.5 1155.61 Z\" fill=\"#000000\" fill-rule=\"evenodd\" fill-opacity=\"1\" /><path clip-path=\"url(#clip840)\" d=\"M1768.61 1126.93 L1786.97 1126.93 L1786.97 1130.86 L1772.9 1130.86 L1772.9 1139.34 Q1773.92 1138.99 1774.93 1138.83 Q1775.95 1138.64 1776.97 1138.64 Q1782.76 1138.64 1786.14 1141.81 Q1789.52 1144.98 1789.52 1150.4 Q1789.52 1155.98 1786.04 1159.08 Q1782.57 1162.16 1776.25 1162.16 Q1774.08 1162.16 1771.81 1161.79 Q1769.56 1161.42 1767.16 1160.68 L1767.16 1155.98 Q1769.24 1157.11 1771.46 1157.67 Q1773.68 1158.22 1776.16 1158.22 Q1780.17 1158.22 1782.5 1156.12 Q1784.84 1154.01 1784.84 1150.4 Q1784.84 1146.79 1782.5 1144.68 Q1780.17 1142.58 1776.16 1142.58 Q1774.29 1142.58 1772.41 1142.99 Q1770.56 1143.41 1768.61 1144.29 L1768.61 1126.93 Z\" fill=\"#000000\" fill-rule=\"evenodd\" fill-opacity=\"1\" /><path clip-path=\"url(#clip840)\" d=\"M2146.23 1157.55 L2153.87 1157.55 L2153.87 1131.19 L2145.56 1132.85 L2145.56 1128.59 L2153.83 1126.93 L2158.5 1126.93 L2158.5 1157.55 L2166.14 1157.55 L2166.14 1161.49 L2146.23 1161.49 L2146.23 1157.55 Z\" fill=\"#000000\" fill-rule=\"evenodd\" fill-opacity=\"1\" /><path clip-path=\"url(#clip840)\" d=\"M2175.59 1155.61 L2180.47 1155.61 L2180.47 1161.49 L2175.59 1161.49 L2175.59 1155.61 Z\" fill=\"#000000\" fill-rule=\"evenodd\" fill-opacity=\"1\" /><path clip-path=\"url(#clip840)\" d=\"M2200.65 1130.01 Q2197.04 1130.01 2195.21 1133.57 Q2193.41 1137.11 2193.41 1144.24 Q2193.41 1151.35 2195.21 1154.91 Q2197.04 1158.46 2200.65 1158.46 Q2204.29 1158.46 2206.09 1154.91 Q2207.92 1151.35 2207.92 1144.24 Q2207.92 1137.11 2206.09 1133.57 Q2204.29 1130.01 2200.65 1130.01 M2200.65 1126.3 Q2206.46 1126.3 2209.52 1130.91 Q2212.6 1135.49 2212.6 1144.24 Q2212.6 1152.97 2209.52 1157.58 Q2206.46 1162.16 2200.65 1162.16 Q2194.84 1162.16 2191.77 1157.58 Q2188.71 1152.97 2188.71 1144.24 Q2188.71 1135.49 2191.77 1130.91 Q2194.84 1126.3 2200.65 1126.3 Z\" fill=\"#000000\" fill-rule=\"evenodd\" fill-opacity=\"1\" /><polyline clip-path=\"url(#clip842)\" style=\"stroke:#000000; stroke-linecap:round; stroke-linejoin:round; stroke-width:2; stroke-opacity:0.1; fill:none\" points=\"\n",
       "  192.941,957.513 2352.76,957.513 \n",
       "  \"/>\n",
       "<polyline clip-path=\"url(#clip842)\" style=\"stroke:#000000; stroke-linecap:round; stroke-linejoin:round; stroke-width:2; stroke-opacity:0.1; fill:none\" points=\"\n",
       "  192.941,711.509 2352.76,711.509 \n",
       "  \"/>\n",
       "<polyline clip-path=\"url(#clip842)\" style=\"stroke:#000000; stroke-linecap:round; stroke-linejoin:round; stroke-width:2; stroke-opacity:0.1; fill:none\" points=\"\n",
       "  192.941,465.505 2352.76,465.505 \n",
       "  \"/>\n",
       "<polyline clip-path=\"url(#clip842)\" style=\"stroke:#000000; stroke-linecap:round; stroke-linejoin:round; stroke-width:2; stroke-opacity:0.1; fill:none\" points=\"\n",
       "  192.941,219.502 2352.76,219.502 \n",
       "  \"/>\n",
       "<polyline clip-path=\"url(#clip840)\" style=\"stroke:#000000; stroke-linecap:round; stroke-linejoin:round; stroke-width:4; stroke-opacity:1; fill:none\" points=\"\n",
       "  192.941,1099.09 192.941,47.2441 \n",
       "  \"/>\n",
       "<polyline clip-path=\"url(#clip840)\" style=\"stroke:#000000; stroke-linecap:round; stroke-linejoin:round; stroke-width:4; stroke-opacity:1; fill:none\" points=\"\n",
       "  192.941,957.513 211.838,957.513 \n",
       "  \"/>\n",
       "<polyline clip-path=\"url(#clip840)\" style=\"stroke:#000000; stroke-linecap:round; stroke-linejoin:round; stroke-width:4; stroke-opacity:1; fill:none\" points=\"\n",
       "  192.941,711.509 211.838,711.509 \n",
       "  \"/>\n",
       "<polyline clip-path=\"url(#clip840)\" style=\"stroke:#000000; stroke-linecap:round; stroke-linejoin:round; stroke-width:4; stroke-opacity:1; fill:none\" points=\"\n",
       "  192.941,465.505 211.838,465.505 \n",
       "  \"/>\n",
       "<polyline clip-path=\"url(#clip840)\" style=\"stroke:#000000; stroke-linecap:round; stroke-linejoin:round; stroke-width:4; stroke-opacity:1; fill:none\" points=\"\n",
       "  192.941,219.502 211.838,219.502 \n",
       "  \"/>\n",
       "<path clip-path=\"url(#clip840)\" d=\"M50.9921 957.964 L80.6679 957.964 L80.6679 961.899 L50.9921 961.899 L50.9921 957.964 Z\" fill=\"#000000\" fill-rule=\"evenodd\" fill-opacity=\"1\" /><path clip-path=\"url(#clip840)\" d=\"M100.76 943.312 Q97.1493 943.312 95.3206 946.876 Q93.515 950.418 93.515 957.548 Q93.515 964.654 95.3206 968.219 Q97.1493 971.76 100.76 971.76 Q104.395 971.76 106.2 968.219 Q108.029 964.654 108.029 957.548 Q108.029 950.418 106.2 946.876 Q104.395 943.312 100.76 943.312 M100.76 939.608 Q106.571 939.608 109.626 944.214 Q112.705 948.798 112.705 957.548 Q112.705 966.274 109.626 970.881 Q106.571 975.464 100.76 975.464 Q94.9502 975.464 91.8715 970.881 Q88.816 966.274 88.816 957.548 Q88.816 948.798 91.8715 944.214 Q94.9502 939.608 100.76 939.608 Z\" fill=\"#000000\" fill-rule=\"evenodd\" fill-opacity=\"1\" /><path clip-path=\"url(#clip840)\" d=\"M120.922 968.913 L125.807 968.913 L125.807 974.793 L120.922 974.793 L120.922 968.913 Z\" fill=\"#000000\" fill-rule=\"evenodd\" fill-opacity=\"1\" /><path clip-path=\"url(#clip840)\" d=\"M136.038 940.233 L154.394 940.233 L154.394 944.168 L140.32 944.168 L140.32 952.64 Q141.339 952.293 142.357 952.131 Q143.376 951.946 144.394 951.946 Q150.181 951.946 153.561 955.117 Q156.941 958.288 156.941 963.705 Q156.941 969.284 153.468 972.385 Q149.996 975.464 143.677 975.464 Q141.501 975.464 139.232 975.094 Q136.987 974.723 134.58 973.983 L134.58 969.284 Q136.663 970.418 138.885 970.973 Q141.107 971.529 143.584 971.529 Q147.589 971.529 149.927 969.423 Q152.265 967.316 152.265 963.705 Q152.265 960.094 149.927 957.987 Q147.589 955.881 143.584 955.881 Q141.709 955.881 139.834 956.298 Q137.982 956.714 136.038 957.594 L136.038 940.233 Z\" fill=\"#000000\" fill-rule=\"evenodd\" fill-opacity=\"1\" /><path clip-path=\"url(#clip840)\" d=\"M99.765 697.308 Q96.1539 697.308 94.3252 700.873 Q92.5197 704.414 92.5197 711.544 Q92.5197 718.65 94.3252 722.215 Q96.1539 725.757 99.765 725.757 Q103.399 725.757 105.205 722.215 Q107.033 718.65 107.033 711.544 Q107.033 704.414 105.205 700.873 Q103.399 697.308 99.765 697.308 M99.765 693.604 Q105.575 693.604 108.631 698.211 Q111.709 702.794 111.709 711.544 Q111.709 720.271 108.631 724.877 Q105.575 729.46 99.765 729.46 Q93.9549 729.46 90.8762 724.877 Q87.8206 720.271 87.8206 711.544 Q87.8206 702.794 90.8762 698.211 Q93.9549 693.604 99.765 693.604 Z\" fill=\"#000000\" fill-rule=\"evenodd\" fill-opacity=\"1\" /><path clip-path=\"url(#clip840)\" d=\"M119.927 722.91 L124.811 722.91 L124.811 728.789 L119.927 728.789 L119.927 722.91 Z\" fill=\"#000000\" fill-rule=\"evenodd\" fill-opacity=\"1\" /><path clip-path=\"url(#clip840)\" d=\"M144.996 697.308 Q141.385 697.308 139.556 700.873 Q137.751 704.414 137.751 711.544 Q137.751 718.65 139.556 722.215 Q141.385 725.757 144.996 725.757 Q148.63 725.757 150.436 722.215 Q152.265 718.65 152.265 711.544 Q152.265 704.414 150.436 700.873 Q148.63 697.308 144.996 697.308 M144.996 693.604 Q150.806 693.604 153.862 698.211 Q156.941 702.794 156.941 711.544 Q156.941 720.271 153.862 724.877 Q150.806 729.46 144.996 729.46 Q139.186 729.46 136.107 724.877 Q133.052 720.271 133.052 711.544 Q133.052 702.794 136.107 698.211 Q139.186 693.604 144.996 693.604 Z\" fill=\"#000000\" fill-rule=\"evenodd\" fill-opacity=\"1\" /><path clip-path=\"url(#clip840)\" d=\"M100.76 451.304 Q97.1493 451.304 95.3206 454.869 Q93.515 458.411 93.515 465.54 Q93.515 472.647 95.3206 476.211 Q97.1493 479.753 100.76 479.753 Q104.395 479.753 106.2 476.211 Q108.029 472.647 108.029 465.54 Q108.029 458.411 106.2 454.869 Q104.395 451.304 100.76 451.304 M100.76 447.6 Q106.571 447.6 109.626 452.207 Q112.705 456.79 112.705 465.54 Q112.705 474.267 109.626 478.873 Q106.571 483.457 100.76 483.457 Q94.9502 483.457 91.8715 478.873 Q88.816 474.267 88.816 465.54 Q88.816 456.79 91.8715 452.207 Q94.9502 447.6 100.76 447.6 Z\" fill=\"#000000\" fill-rule=\"evenodd\" fill-opacity=\"1\" /><path clip-path=\"url(#clip840)\" d=\"M120.922 476.906 L125.807 476.906 L125.807 482.785 L120.922 482.785 L120.922 476.906 Z\" fill=\"#000000\" fill-rule=\"evenodd\" fill-opacity=\"1\" /><path clip-path=\"url(#clip840)\" d=\"M136.038 448.225 L154.394 448.225 L154.394 452.161 L140.32 452.161 L140.32 460.633 Q141.339 460.286 142.357 460.124 Q143.376 459.938 144.394 459.938 Q150.181 459.938 153.561 463.11 Q156.941 466.281 156.941 471.698 Q156.941 477.276 153.468 480.378 Q149.996 483.457 143.677 483.457 Q141.501 483.457 139.232 483.086 Q136.987 482.716 134.58 481.975 L134.58 477.276 Q136.663 478.41 138.885 478.966 Q141.107 479.522 143.584 479.522 Q147.589 479.522 149.927 477.415 Q152.265 475.309 152.265 471.698 Q152.265 468.086 149.927 465.98 Q147.589 463.874 143.584 463.874 Q141.709 463.874 139.834 464.29 Q137.982 464.707 136.038 465.586 L136.038 448.225 Z\" fill=\"#000000\" fill-rule=\"evenodd\" fill-opacity=\"1\" /><path clip-path=\"url(#clip840)\" d=\"M90.5752 232.847 L98.2141 232.847 L98.2141 206.481 L89.904 208.148 L89.904 203.888 L98.1678 202.222 L102.844 202.222 L102.844 232.847 L110.483 232.847 L110.483 236.782 L90.5752 236.782 L90.5752 232.847 Z\" fill=\"#000000\" fill-rule=\"evenodd\" fill-opacity=\"1\" /><path clip-path=\"url(#clip840)\" d=\"M119.927 230.902 L124.811 230.902 L124.811 236.782 L119.927 236.782 L119.927 230.902 Z\" fill=\"#000000\" fill-rule=\"evenodd\" fill-opacity=\"1\" /><path clip-path=\"url(#clip840)\" d=\"M144.996 205.3 Q141.385 205.3 139.556 208.865 Q137.751 212.407 137.751 219.536 Q137.751 226.643 139.556 230.208 Q141.385 233.749 144.996 233.749 Q148.63 233.749 150.436 230.208 Q152.265 226.643 152.265 219.536 Q152.265 212.407 150.436 208.865 Q148.63 205.3 144.996 205.3 M144.996 201.597 Q150.806 201.597 153.862 206.203 Q156.941 210.787 156.941 219.536 Q156.941 228.263 153.862 232.87 Q150.806 237.453 144.996 237.453 Q139.186 237.453 136.107 232.87 Q133.052 228.263 133.052 219.536 Q133.052 210.787 136.107 206.203 Q139.186 201.597 144.996 201.597 Z\" fill=\"#000000\" fill-rule=\"evenodd\" fill-opacity=\"1\" /><circle clip-path=\"url(#clip842)\" cx=\"1373.59\" cy=\"486.488\" r=\"14.4\" fill=\"#cd5c5c\" fill-rule=\"evenodd\" fill-opacity=\"1\" stroke=\"#000000\" stroke-opacity=\"1\" stroke-width=\"2.4\"/>\n",
       "<circle clip-path=\"url(#clip842)\" cx=\"1311.75\" cy=\"492.45\" r=\"14.4\" fill=\"#cd5c5c\" fill-rule=\"evenodd\" fill-opacity=\"1\" stroke=\"#000000\" stroke-opacity=\"1\" stroke-width=\"2.4\"/>\n",
       "<circle clip-path=\"url(#clip842)\" cx=\"254.067\" cy=\"691.413\" r=\"14.4\" fill=\"#cd5c5c\" fill-rule=\"evenodd\" fill-opacity=\"1\" stroke=\"#000000\" stroke-opacity=\"1\" stroke-width=\"2.4\"/>\n",
       "<circle clip-path=\"url(#clip842)\" cx=\"1360.86\" cy=\"622.754\" r=\"14.4\" fill=\"#cd5c5c\" fill-rule=\"evenodd\" fill-opacity=\"1\" stroke=\"#000000\" stroke-opacity=\"1\" stroke-width=\"2.4\"/>\n",
       "<circle clip-path=\"url(#clip842)\" cx=\"566.073\" cy=\"1049.72\" r=\"14.4\" fill=\"#cd5c5c\" fill-rule=\"evenodd\" fill-opacity=\"1\" stroke=\"#000000\" stroke-opacity=\"1\" stroke-width=\"2.4\"/>\n",
       "<circle clip-path=\"url(#clip842)\" cx=\"1245.22\" cy=\"1055.3\" r=\"14.4\" fill=\"#cd5c5c\" fill-rule=\"evenodd\" fill-opacity=\"1\" stroke=\"#000000\" stroke-opacity=\"1\" stroke-width=\"2.4\"/>\n",
       "<circle clip-path=\"url(#clip842)\" cx=\"506.773\" cy=\"827.114\" r=\"14.4\" fill=\"#cd5c5c\" fill-rule=\"evenodd\" fill-opacity=\"1\" stroke=\"#000000\" stroke-opacity=\"1\" stroke-width=\"2.4\"/>\n",
       "<circle clip-path=\"url(#clip842)\" cx=\"697.55\" cy=\"779.073\" r=\"14.4\" fill=\"#cd5c5c\" fill-rule=\"evenodd\" fill-opacity=\"1\" stroke=\"#000000\" stroke-opacity=\"1\" stroke-width=\"2.4\"/>\n",
       "<circle clip-path=\"url(#clip842)\" cx=\"1770.93\" cy=\"542.441\" r=\"14.4\" fill=\"#cd5c5c\" fill-rule=\"evenodd\" fill-opacity=\"1\" stroke=\"#000000\" stroke-opacity=\"1\" stroke-width=\"2.4\"/>\n",
       "<circle clip-path=\"url(#clip842)\" cx=\"1097.77\" cy=\"974.226\" r=\"14.4\" fill=\"#cd5c5c\" fill-rule=\"evenodd\" fill-opacity=\"1\" stroke=\"#000000\" stroke-opacity=\"1\" stroke-width=\"2.4\"/>\n",
       "<circle clip-path=\"url(#clip842)\" cx=\"271.235\" cy=\"1037.45\" r=\"14.4\" fill=\"#cd5c5c\" fill-rule=\"evenodd\" fill-opacity=\"1\" stroke=\"#000000\" stroke-opacity=\"1\" stroke-width=\"2.4\"/>\n",
       "<circle clip-path=\"url(#clip842)\" cx=\"1526.97\" cy=\"682.832\" r=\"14.4\" fill=\"#cd5c5c\" fill-rule=\"evenodd\" fill-opacity=\"1\" stroke=\"#000000\" stroke-opacity=\"1\" stroke-width=\"2.4\"/>\n",
       "<circle clip-path=\"url(#clip842)\" cx=\"429.867\" cy=\"1069.32\" r=\"14.4\" fill=\"#cd5c5c\" fill-rule=\"evenodd\" fill-opacity=\"1\" stroke=\"#000000\" stroke-opacity=\"1\" stroke-width=\"2.4\"/>\n",
       "<circle clip-path=\"url(#clip842)\" cx=\"341.569\" cy=\"790.921\" r=\"14.4\" fill=\"#cd5c5c\" fill-rule=\"evenodd\" fill-opacity=\"1\" stroke=\"#000000\" stroke-opacity=\"1\" stroke-width=\"2.4\"/>\n",
       "<circle clip-path=\"url(#clip842)\" cx=\"324.562\" cy=\"967.816\" r=\"14.4\" fill=\"#cd5c5c\" fill-rule=\"evenodd\" fill-opacity=\"1\" stroke=\"#000000\" stroke-opacity=\"1\" stroke-width=\"2.4\"/>\n",
       "<circle clip-path=\"url(#clip842)\" cx=\"951.436\" cy=\"892.579\" r=\"14.4\" fill=\"#cd5c5c\" fill-rule=\"evenodd\" fill-opacity=\"1\" stroke=\"#000000\" stroke-opacity=\"1\" stroke-width=\"2.4\"/>\n",
       "<circle clip-path=\"url(#clip842)\" cx=\"498.594\" cy=\"1066.02\" r=\"14.4\" fill=\"#cd5c5c\" fill-rule=\"evenodd\" fill-opacity=\"1\" stroke=\"#000000\" stroke-opacity=\"1\" stroke-width=\"2.4\"/>\n",
       "<circle clip-path=\"url(#clip842)\" cx=\"737.592\" cy=\"674.465\" r=\"14.4\" fill=\"#cd5c5c\" fill-rule=\"evenodd\" fill-opacity=\"1\" stroke=\"#000000\" stroke-opacity=\"1\" stroke-width=\"2.4\"/>\n",
       "<circle clip-path=\"url(#clip842)\" cx=\"898.274\" cy=\"761.541\" r=\"14.4\" fill=\"#cd5c5c\" fill-rule=\"evenodd\" fill-opacity=\"1\" stroke=\"#000000\" stroke-opacity=\"1\" stroke-width=\"2.4\"/>\n",
       "<circle clip-path=\"url(#clip842)\" cx=\"460.463\" cy=\"725.383\" r=\"14.4\" fill=\"#cd5c5c\" fill-rule=\"evenodd\" fill-opacity=\"1\" stroke=\"#000000\" stroke-opacity=\"1\" stroke-width=\"2.4\"/>\n",
       "<circle clip-path=\"url(#clip842)\" cx=\"1082.91\" cy=\"584.222\" r=\"14.4\" fill=\"#cd5c5c\" fill-rule=\"evenodd\" fill-opacity=\"1\" stroke=\"#000000\" stroke-opacity=\"1\" stroke-width=\"2.4\"/>\n",
       "<circle clip-path=\"url(#clip842)\" cx=\"707.136\" cy=\"902.543\" r=\"14.4\" fill=\"#cd5c5c\" fill-rule=\"evenodd\" fill-opacity=\"1\" stroke=\"#000000\" stroke-opacity=\"1\" stroke-width=\"2.4\"/>\n",
       "<circle clip-path=\"url(#clip842)\" cx=\"691.129\" cy=\"1022.5\" r=\"14.4\" fill=\"#cd5c5c\" fill-rule=\"evenodd\" fill-opacity=\"1\" stroke=\"#000000\" stroke-opacity=\"1\" stroke-width=\"2.4\"/>\n",
       "<circle clip-path=\"url(#clip842)\" cx=\"760.169\" cy=\"953.218\" r=\"14.4\" fill=\"#cd5c5c\" fill-rule=\"evenodd\" fill-opacity=\"1\" stroke=\"#000000\" stroke-opacity=\"1\" stroke-width=\"2.4\"/>\n",
       "<circle clip-path=\"url(#clip842)\" cx=\"2224.29\" cy=\"515.001\" r=\"14.4\" fill=\"#4682b4\" fill-rule=\"evenodd\" fill-opacity=\"1\" stroke=\"#000000\" stroke-opacity=\"1\" stroke-width=\"2.4\"/>\n",
       "<circle clip-path=\"url(#clip842)\" cx=\"1681.24\" cy=\"77.0133\" r=\"14.4\" fill=\"#4682b4\" fill-rule=\"evenodd\" fill-opacity=\"1\" stroke=\"#000000\" stroke-opacity=\"1\" stroke-width=\"2.4\"/>\n",
       "<circle clip-path=\"url(#clip842)\" cx=\"2084.6\" cy=\"554.488\" r=\"14.4\" fill=\"#4682b4\" fill-rule=\"evenodd\" fill-opacity=\"1\" stroke=\"#000000\" stroke-opacity=\"1\" stroke-width=\"2.4\"/>\n",
       "<circle clip-path=\"url(#clip842)\" cx=\"1904.14\" cy=\"652.917\" r=\"14.4\" fill=\"#4682b4\" fill-rule=\"evenodd\" fill-opacity=\"1\" stroke=\"#000000\" stroke-opacity=\"1\" stroke-width=\"2.4\"/>\n",
       "<circle clip-path=\"url(#clip842)\" cx=\"2029.62\" cy=\"451.724\" r=\"14.4\" fill=\"#4682b4\" fill-rule=\"evenodd\" fill-opacity=\"1\" stroke=\"#000000\" stroke-opacity=\"1\" stroke-width=\"2.4\"/>\n",
       "<circle clip-path=\"url(#clip842)\" cx=\"2025.93\" cy=\"386.523\" r=\"14.4\" fill=\"#4682b4\" fill-rule=\"evenodd\" fill-opacity=\"1\" stroke=\"#000000\" stroke-opacity=\"1\" stroke-width=\"2.4\"/>\n",
       "<circle clip-path=\"url(#clip842)\" cx=\"1144.82\" cy=\"733.988\" r=\"14.4\" fill=\"#4682b4\" fill-rule=\"evenodd\" fill-opacity=\"1\" stroke=\"#000000\" stroke-opacity=\"1\" stroke-width=\"2.4\"/>\n",
       "<circle clip-path=\"url(#clip842)\" cx=\"1678.68\" cy=\"786.091\" r=\"14.4\" fill=\"#4682b4\" fill-rule=\"evenodd\" fill-opacity=\"1\" stroke=\"#000000\" stroke-opacity=\"1\" stroke-width=\"2.4\"/>\n",
       "<circle clip-path=\"url(#clip842)\" cx=\"1727.45\" cy=\"550.716\" r=\"14.4\" fill=\"#4682b4\" fill-rule=\"evenodd\" fill-opacity=\"1\" stroke=\"#000000\" stroke-opacity=\"1\" stroke-width=\"2.4\"/>\n",
       "<circle clip-path=\"url(#clip842)\" cx=\"2051.49\" cy=\"422.637\" r=\"14.4\" fill=\"#4682b4\" fill-rule=\"evenodd\" fill-opacity=\"1\" stroke=\"#000000\" stroke-opacity=\"1\" stroke-width=\"2.4\"/>\n",
       "<circle clip-path=\"url(#clip842)\" cx=\"1795.37\" cy=\"496.337\" r=\"14.4\" fill=\"#4682b4\" fill-rule=\"evenodd\" fill-opacity=\"1\" stroke=\"#000000\" stroke-opacity=\"1\" stroke-width=\"2.4\"/>\n",
       "<circle clip-path=\"url(#clip842)\" cx=\"1713.19\" cy=\"369.573\" r=\"14.4\" fill=\"#4682b4\" fill-rule=\"evenodd\" fill-opacity=\"1\" stroke=\"#000000\" stroke-opacity=\"1\" stroke-width=\"2.4\"/>\n",
       "<circle clip-path=\"url(#clip842)\" cx=\"1149.43\" cy=\"653.309\" r=\"14.4\" fill=\"#4682b4\" fill-rule=\"evenodd\" fill-opacity=\"1\" stroke=\"#000000\" stroke-opacity=\"1\" stroke-width=\"2.4\"/>\n",
       "<circle clip-path=\"url(#clip842)\" cx=\"1178.18\" cy=\"608.072\" r=\"14.4\" fill=\"#4682b4\" fill-rule=\"evenodd\" fill-opacity=\"1\" stroke=\"#000000\" stroke-opacity=\"1\" stroke-width=\"2.4\"/>\n",
       "<circle clip-path=\"url(#clip842)\" cx=\"1793.82\" cy=\"550.999\" r=\"14.4\" fill=\"#4682b4\" fill-rule=\"evenodd\" fill-opacity=\"1\" stroke=\"#000000\" stroke-opacity=\"1\" stroke-width=\"2.4\"/>\n",
       "<circle clip-path=\"url(#clip842)\" cx=\"1856.5\" cy=\"702.697\" r=\"14.4\" fill=\"#4682b4\" fill-rule=\"evenodd\" fill-opacity=\"1\" stroke=\"#000000\" stroke-opacity=\"1\" stroke-width=\"2.4\"/>\n",
       "<circle clip-path=\"url(#clip842)\" cx=\"2176.42\" cy=\"522.376\" r=\"14.4\" fill=\"#4682b4\" fill-rule=\"evenodd\" fill-opacity=\"1\" stroke=\"#000000\" stroke-opacity=\"1\" stroke-width=\"2.4\"/>\n",
       "<circle clip-path=\"url(#clip842)\" cx=\"2104.79\" cy=\"577.675\" r=\"14.4\" fill=\"#4682b4\" fill-rule=\"evenodd\" fill-opacity=\"1\" stroke=\"#000000\" stroke-opacity=\"1\" stroke-width=\"2.4\"/>\n",
       "<circle clip-path=\"url(#clip842)\" cx=\"1918.46\" cy=\"616.142\" r=\"14.4\" fill=\"#4682b4\" fill-rule=\"evenodd\" fill-opacity=\"1\" stroke=\"#000000\" stroke-opacity=\"1\" stroke-width=\"2.4\"/>\n",
       "<circle clip-path=\"url(#clip842)\" cx=\"2155.02\" cy=\"959.768\" r=\"14.4\" fill=\"#4682b4\" fill-rule=\"evenodd\" fill-opacity=\"1\" stroke=\"#000000\" stroke-opacity=\"1\" stroke-width=\"2.4\"/>\n",
       "<circle clip-path=\"url(#clip842)\" cx=\"1001.2\" cy=\"676.214\" r=\"14.4\" fill=\"#4682b4\" fill-rule=\"evenodd\" fill-opacity=\"1\" stroke=\"#000000\" stroke-opacity=\"1\" stroke-width=\"2.4\"/>\n",
       "<circle clip-path=\"url(#clip842)\" cx=\"2291.63\" cy=\"944.087\" r=\"14.4\" fill=\"#4682b4\" fill-rule=\"evenodd\" fill-opacity=\"1\" stroke=\"#000000\" stroke-opacity=\"1\" stroke-width=\"2.4\"/>\n",
       "<circle clip-path=\"url(#clip842)\" cx=\"1745.75\" cy=\"786.72\" r=\"14.4\" fill=\"#4682b4\" fill-rule=\"evenodd\" fill-opacity=\"1\" stroke=\"#000000\" stroke-opacity=\"1\" stroke-width=\"2.4\"/>\n",
       "<circle clip-path=\"url(#clip842)\" cx=\"1409.34\" cy=\"762.866\" r=\"14.4\" fill=\"#4682b4\" fill-rule=\"evenodd\" fill-opacity=\"1\" stroke=\"#000000\" stroke-opacity=\"1\" stroke-width=\"2.4\"/>\n",
       "<circle clip-path=\"url(#clip842)\" cx=\"1990.96\" cy=\"1058.04\" r=\"14.4\" fill=\"#4682b4\" fill-rule=\"evenodd\" fill-opacity=\"1\" stroke=\"#000000\" stroke-opacity=\"1\" stroke-width=\"2.4\"/>\n",
       "<circle clip-path=\"url(#clip842)\" cx=\"1892.63\" cy=\"507.702\" r=\"14.4\" fill=\"#4682b4\" fill-rule=\"evenodd\" fill-opacity=\"1\" stroke=\"#000000\" stroke-opacity=\"1\" stroke-width=\"2.4\"/>\n",
       "<path clip-path=\"url(#clip840)\" d=\"\n",
       "M1886.85 237.826 L2280.76 237.826 L2280.76 82.3056 L1886.85 82.3056  Z\n",
       "  \" fill=\"#ffffff\" fill-rule=\"evenodd\" fill-opacity=\"1\"/>\n",
       "<polyline clip-path=\"url(#clip840)\" style=\"stroke:#000000; stroke-linecap:round; stroke-linejoin:round; stroke-width:4; stroke-opacity:1; fill:none\" points=\"\n",
       "  1886.85,237.826 2280.76,237.826 2280.76,82.3056 1886.85,82.3056 1886.85,237.826 \n",
       "  \"/>\n",
       "<circle clip-path=\"url(#clip840)\" cx=\"1982.84\" cy=\"134.146\" r=\"23.04\" fill=\"#cd5c5c\" fill-rule=\"evenodd\" fill-opacity=\"1\" stroke=\"#000000\" stroke-opacity=\"1\" stroke-width=\"3.84\"/>\n",
       "<path clip-path=\"url(#clip840)\" d=\"M2106.7 119.528 L2106.7 124.458 Q2104.34 122.259 2101.66 121.171 Q2098.99 120.083 2095.98 120.083 Q2090.06 120.083 2086.91 123.717 Q2083.76 127.328 2083.76 134.18 Q2083.76 141.009 2086.91 144.643 Q2090.06 148.254 2095.98 148.254 Q2098.99 148.254 2101.66 147.166 Q2104.34 146.078 2106.7 143.879 L2106.7 148.764 Q2104.25 150.43 2101.49 151.264 Q2098.76 152.097 2095.71 152.097 Q2087.86 152.097 2083.35 147.305 Q2078.83 142.49 2078.83 134.18 Q2078.83 125.847 2083.35 121.055 Q2087.86 116.241 2095.71 116.241 Q2098.81 116.241 2101.54 117.074 Q2104.29 117.884 2106.7 119.528 Z\" fill=\"#000000\" fill-rule=\"evenodd\" fill-opacity=\"1\" /><path clip-path=\"url(#clip840)\" d=\"M2123.79 128.486 Q2120.36 128.486 2118.37 131.171 Q2116.38 133.833 2116.38 138.486 Q2116.38 143.139 2118.35 145.824 Q2120.34 148.486 2123.79 148.486 Q2127.19 148.486 2129.18 145.801 Q2131.17 143.115 2131.17 138.486 Q2131.17 133.879 2129.18 131.194 Q2127.19 128.486 2123.79 128.486 M2123.79 124.875 Q2129.34 124.875 2132.51 128.486 Q2135.68 132.097 2135.68 138.486 Q2135.68 144.852 2132.51 148.486 Q2129.34 152.097 2123.79 152.097 Q2118.21 152.097 2115.04 148.486 Q2111.89 144.852 2111.89 138.486 Q2111.89 132.097 2115.04 128.486 Q2118.21 124.875 2123.79 124.875 Z\" fill=\"#000000\" fill-rule=\"evenodd\" fill-opacity=\"1\" /><path clip-path=\"url(#clip840)\" d=\"M2154.53 138.393 Q2149.36 138.393 2147.37 139.574 Q2145.38 140.754 2145.38 143.602 Q2145.38 145.87 2146.86 147.213 Q2148.37 148.532 2150.94 148.532 Q2154.48 148.532 2156.61 146.032 Q2158.76 143.509 2158.76 139.342 L2158.76 138.393 L2154.53 138.393 M2163.02 136.634 L2163.02 151.426 L2158.76 151.426 L2158.76 147.49 Q2157.3 149.851 2155.13 150.986 Q2152.95 152.097 2149.8 152.097 Q2145.82 152.097 2143.46 149.875 Q2141.12 147.629 2141.12 143.879 Q2141.12 139.504 2144.04 137.282 Q2146.98 135.06 2152.79 135.06 L2158.76 135.06 L2158.76 134.643 Q2158.76 131.703 2156.82 130.106 Q2154.9 128.486 2151.4 128.486 Q2149.18 128.486 2147.07 129.018 Q2144.97 129.551 2143.02 130.615 L2143.02 126.68 Q2145.36 125.778 2147.56 125.338 Q2149.76 124.875 2151.84 124.875 Q2157.47 124.875 2160.24 127.791 Q2163.02 130.708 2163.02 136.634 Z\" fill=\"#000000\" fill-rule=\"evenodd\" fill-opacity=\"1\" /><path clip-path=\"url(#clip840)\" d=\"M2176.01 118.139 L2176.01 125.5 L2184.78 125.5 L2184.78 128.81 L2176.01 128.81 L2176.01 142.884 Q2176.01 146.055 2176.86 146.958 Q2177.74 147.861 2180.41 147.861 L2184.78 147.861 L2184.78 151.426 L2180.41 151.426 Q2175.47 151.426 2173.6 149.597 Q2171.72 147.745 2171.72 142.884 L2171.72 128.81 L2168.6 128.81 L2168.6 125.5 L2171.72 125.5 L2171.72 118.139 L2176.01 118.139 Z\" fill=\"#000000\" fill-rule=\"evenodd\" fill-opacity=\"1\" /><circle clip-path=\"url(#clip840)\" cx=\"1982.84\" cy=\"185.986\" r=\"23.04\" fill=\"#4682b4\" fill-rule=\"evenodd\" fill-opacity=\"1\" stroke=\"#000000\" stroke-opacity=\"1\" stroke-width=\"3.84\"/>\n",
       "<path clip-path=\"url(#clip840)\" d=\"M2101.08 169.84 L2101.08 174.4 Q2098.42 173.127 2096.05 172.502 Q2093.69 171.877 2091.49 171.877 Q2087.67 171.877 2085.59 173.358 Q2083.53 174.84 2083.53 177.571 Q2083.53 179.863 2084.9 181.043 Q2086.29 182.201 2090.13 182.918 L2092.95 183.497 Q2098.18 184.493 2100.66 187.016 Q2103.16 189.516 2103.16 193.729 Q2103.16 198.752 2099.78 201.344 Q2096.42 203.937 2089.92 203.937 Q2087.47 203.937 2084.69 203.381 Q2081.93 202.826 2078.97 201.738 L2078.97 196.923 Q2081.82 198.52 2084.55 199.33 Q2087.28 200.141 2089.92 200.141 Q2093.92 200.141 2096.1 198.567 Q2098.28 196.992 2098.28 194.076 Q2098.28 191.53 2096.7 190.094 Q2095.15 188.659 2091.59 187.942 L2088.74 187.386 Q2083.51 186.344 2081.17 184.122 Q2078.83 181.9 2078.83 177.942 Q2078.83 173.358 2082.05 170.719 Q2085.29 168.081 2090.96 168.081 Q2093.39 168.081 2095.92 168.52 Q2098.44 168.96 2101.08 169.84 Z\" fill=\"#000000\" fill-rule=\"evenodd\" fill-opacity=\"1\" /><path clip-path=\"url(#clip840)\" d=\"M2122.05 190.233 Q2116.89 190.233 2114.9 191.414 Q2112.91 192.594 2112.91 195.442 Q2112.91 197.71 2114.39 199.053 Q2115.89 200.372 2118.46 200.372 Q2122 200.372 2124.13 197.872 Q2126.29 195.349 2126.29 191.182 L2126.29 190.233 L2122.05 190.233 M2130.54 188.474 L2130.54 203.266 L2126.29 203.266 L2126.29 199.33 Q2124.83 201.691 2122.65 202.826 Q2120.48 203.937 2117.33 203.937 Q2113.35 203.937 2110.98 201.715 Q2108.65 199.469 2108.65 195.719 Q2108.65 191.344 2111.56 189.122 Q2114.5 186.9 2120.31 186.9 L2126.29 186.9 L2126.29 186.483 Q2126.29 183.543 2124.34 181.946 Q2122.42 180.326 2118.92 180.326 Q2116.7 180.326 2114.6 180.858 Q2112.49 181.391 2110.54 182.455 L2110.54 178.52 Q2112.88 177.618 2115.08 177.178 Q2117.28 176.715 2119.36 176.715 Q2124.99 176.715 2127.77 179.631 Q2130.54 182.548 2130.54 188.474 Z\" fill=\"#000000\" fill-rule=\"evenodd\" fill-opacity=\"1\" /><path clip-path=\"url(#clip840)\" d=\"M2160.87 187.617 L2160.87 203.266 L2156.61 203.266 L2156.61 187.756 Q2156.61 184.076 2155.17 182.247 Q2153.74 180.418 2150.87 180.418 Q2147.42 180.418 2145.43 182.618 Q2143.44 184.817 2143.44 188.613 L2143.44 203.266 L2139.16 203.266 L2139.16 177.34 L2143.44 177.34 L2143.44 181.368 Q2144.97 179.03 2147.03 177.872 Q2149.11 176.715 2151.82 176.715 Q2156.29 176.715 2158.58 179.493 Q2160.87 182.247 2160.87 187.617 Z\" fill=\"#000000\" fill-rule=\"evenodd\" fill-opacity=\"1\" /><path clip-path=\"url(#clip840)\" d=\"M2186.42 181.275 L2186.42 167.247 L2190.68 167.247 L2190.68 203.266 L2186.42 203.266 L2186.42 199.377 Q2185.08 201.691 2183.02 202.826 Q2180.98 203.937 2178.11 203.937 Q2173.41 203.937 2170.45 200.187 Q2167.51 196.437 2167.51 190.326 Q2167.51 184.215 2170.45 180.465 Q2173.41 176.715 2178.11 176.715 Q2180.98 176.715 2183.02 177.849 Q2185.08 178.96 2186.42 181.275 M2171.91 190.326 Q2171.91 195.025 2173.83 197.71 Q2175.78 200.372 2179.16 200.372 Q2182.53 200.372 2184.48 197.71 Q2186.42 195.025 2186.42 190.326 Q2186.42 185.627 2184.48 182.965 Q2182.53 180.28 2179.16 180.28 Q2175.78 180.28 2173.83 182.965 Q2171.91 185.627 2171.91 190.326 Z\" fill=\"#000000\" fill-rule=\"evenodd\" fill-opacity=\"1\" /><path clip-path=\"url(#clip840)\" d=\"M2211.24 190.233 Q2206.08 190.233 2204.09 191.414 Q2202.1 192.594 2202.1 195.442 Q2202.1 197.71 2203.58 199.053 Q2205.08 200.372 2207.65 200.372 Q2211.19 200.372 2213.32 197.872 Q2215.47 195.349 2215.47 191.182 L2215.47 190.233 L2211.24 190.233 M2219.73 188.474 L2219.73 203.266 L2215.47 203.266 L2215.47 199.33 Q2214.02 201.691 2211.84 202.826 Q2209.66 203.937 2206.52 203.937 Q2202.53 203.937 2200.17 201.715 Q2197.84 199.469 2197.84 195.719 Q2197.84 191.344 2200.75 189.122 Q2203.69 186.9 2209.5 186.9 L2215.47 186.9 L2215.47 186.483 Q2215.47 183.543 2213.53 181.946 Q2211.61 180.326 2208.11 180.326 Q2205.89 180.326 2203.78 180.858 Q2201.68 181.391 2199.73 182.455 L2199.73 178.52 Q2202.07 177.618 2204.27 177.178 Q2206.47 176.715 2208.55 176.715 Q2214.18 176.715 2216.96 179.631 Q2219.73 182.548 2219.73 188.474 Z\" fill=\"#000000\" fill-rule=\"evenodd\" fill-opacity=\"1\" /><path clip-path=\"url(#clip840)\" d=\"M2228.51 167.247 L2232.77 167.247 L2232.77 203.266 L2228.51 203.266 L2228.51 167.247 Z\" fill=\"#000000\" fill-rule=\"evenodd\" fill-opacity=\"1\" /></svg>\n"
      ]
     },
     "execution_count": 23,
     "metadata": {},
     "output_type": "execute_result"
    }
   ],
   "source": [
    "scatter(X_Pr[1, Y .== l₁], X_Pr[2, Y .== l₁], \n",
    "            color = :indianred,\n",
    "            label = labels[l₁],\n",
    "            size = (800,300))\n",
    "scatter!(X_Pr[1, Y .== l₂], X_Pr[2, Y .== l₂], \n",
    "            color = :steelblue,\n",
    "            label = labels[l₂],\n",
    "            size = (600,300))"
   ]
  },
  {
   "cell_type": "markdown",
   "metadata": {},
   "source": [
    "## Support Vector Machine\n",
    "\n",
    "The first attempt to learn an algorithm for classification is using an SVM.\n",
    "\n",
    "We will use the simple kernel that gives back the standard inner product between data points."
   ]
  },
  {
   "cell_type": "code",
   "execution_count": 24,
   "metadata": {},
   "outputs": [
    {
     "data": {
      "text/plain": [
       "κ (generic function with 1 method)"
      ]
     },
     "execution_count": 24,
     "metadata": {},
     "output_type": "execute_result"
    }
   ],
   "source": [
    "κ(x₁,x₂) = x₁ ⋅ x₂"
   ]
  },
  {
   "cell_type": "markdown",
   "metadata": {},
   "source": [
    "The kernel defines a kernel matrix as follows:"
   ]
  },
  {
   "cell_type": "code",
   "execution_count": 25,
   "metadata": {},
   "outputs": [],
   "source": [
    "G = [κ(x₁,x₂) for (x₁,x₂) in \n",
    "        Iterators.product(X_vec,X_vec)];"
   ]
  },
  {
   "cell_type": "markdown",
   "metadata": {},
   "source": [
    "We also need to transform the output data so that it takes values in $\\{-1,1\\}$."
   ]
  },
  {
   "cell_type": "code",
   "execution_count": 26,
   "metadata": {},
   "outputs": [],
   "source": [
    "y = map(Y) do Yᵢ\n",
    "    if Yᵢ==l₁\n",
    "        -1\n",
    "    elseif Yᵢ==l₂\n",
    "        1\n",
    "    end\n",
    "end;"
   ]
  },
  {
   "cell_type": "code",
   "execution_count": 27,
   "metadata": {},
   "outputs": [
    {
     "data": {
      "text/plain": [
       "50-element Vector{Int64}:\n",
       "  1\n",
       "  1\n",
       "  1\n",
       "  1\n",
       " -1\n",
       " -1\n",
       " -1\n",
       " -1\n",
       " -1\n",
       "  1\n",
       "  1\n",
       "  1\n",
       "  1\n",
       "  ⋮\n",
       "  1\n",
       " -1\n",
       "  1\n",
       "  1\n",
       "  1\n",
       "  1\n",
       "  1\n",
       " -1\n",
       " -1\n",
       " -1\n",
       " -1\n",
       " -1"
      ]
     },
     "execution_count": 27,
     "metadata": {},
     "output_type": "execute_result"
    }
   ],
   "source": [
    "y"
   ]
  },
  {
   "cell_type": "markdown",
   "metadata": {},
   "source": [
    "We are now ready to set up the optimization problem solving the Dual SVM.\n",
    "\n",
    "The regularization parameter is set to $C=5$.\n",
    "\n",
    "We use [JuMP](https://jump.dev/JuMP.jl/stable/) for setting up the model and [NLopt](https://github.com/JuliaOpt/NLopt.jl) for solving the optimization problem."
   ]
  },
  {
   "cell_type": "code",
   "execution_count": 28,
   "metadata": {},
   "outputs": [],
   "source": [
    "C = 5;\n",
    "model = Model(NLopt.Optimizer)\n",
    "\n",
    "set_optimizer_attribute(model, \"algorithm\", :AUGLAG)\n",
    "set_optimizer_attribute(model, \"local_optimizer\", :LD_LBFGS)\n",
    "\n",
    "@variable(model, α[1:n]);"
   ]
  },
  {
   "cell_type": "markdown",
   "metadata": {},
   "source": [
    "The constraints are defined next:"
   ]
  },
  {
   "cell_type": "code",
   "execution_count": 29,
   "metadata": {},
   "outputs": [],
   "source": [
    "@constraint(model, c₁, sum(y .* α) .== 0);\n",
    "@constraint(model, c₂, α .>= zeros(n));\n",
    "@constraint(model, c₃, α .<= C .* ones(n));"
   ]
  },
  {
   "cell_type": "markdown",
   "metadata": {},
   "source": [
    "Finally, we define the objective function."
   ]
  },
  {
   "cell_type": "code",
   "execution_count": 30,
   "metadata": {},
   "outputs": [],
   "source": [
    "@objective(model, Max, \n",
    "           4 * sum(α) - sum(y[i]*α[i]*y[j]*α[j]*G[i,j] \n",
    "            for (i,j) in Iterators.product(1:n,1:n)));"
   ]
  },
  {
   "cell_type": "markdown",
   "metadata": {},
   "source": [
    "Using the following command we can now solve the optimization problem "
   ]
  },
  {
   "cell_type": "code",
   "execution_count": 31,
   "metadata": {},
   "outputs": [],
   "source": [
    "JuMP.optimize!(model)"
   ]
  },
  {
   "cell_type": "markdown",
   "metadata": {},
   "source": [
    "We use the optimal value to define $\\psi$ and $b$ for our SVM."
   ]
  },
  {
   "cell_type": "code",
   "execution_count": 32,
   "metadata": {},
   "outputs": [
    {
     "data": {
      "text/plain": [
       "50-element Vector{Float64}:\n",
       " 1.0656212106541279e-8\n",
       " 0.19894107219952126\n",
       " 4.1357903683317305\n",
       " 1.176348991310738e-8\n",
       " 4.999999994083251\n",
       " 5.000000000661767\n",
       " 6.0375126326671964e-9\n",
       " 0.0005472843208282829\n",
       " 6.313177130831719e-9\n",
       " 1.830926336333137\n",
       " 5.000000002750166\n",
       " 0.44847798842305137\n",
       " 5.0000000036111185\n",
       " ⋮\n",
       " 1.1719545405611931e-8\n",
       " 1.920104137420171e-9\n",
       " 0.5458537086268401\n",
       " 1.0649356090793477e-8\n",
       " 8.67203109226918e-9\n",
       " 5.000000005701594\n",
       " 1.2368145859659062e-8\n",
       " 3.3455209766069966e-9\n",
       " 3.708882058168633e-10\n",
       " 2.727107874723056e-9\n",
       " 6.583693847371887e-9\n",
       " 5.569164720994953e-9"
      ]
     },
     "execution_count": 32,
     "metadata": {},
     "output_type": "execute_result"
    }
   ],
   "source": [
    "α_opt = value.(α)"
   ]
  },
  {
   "cell_type": "code",
   "execution_count": 33,
   "metadata": {},
   "outputs": [
    {
     "data": {
      "text/plain": [
       "1.1080405939472073"
      ]
     },
     "execution_count": 33,
     "metadata": {},
     "output_type": "execute_result"
    }
   ],
   "source": [
    "α_opt = value.(α)\n",
    "ψ(x) =  sum(0.5 * y[i] * α_opt[i] * κ(x, X_vec[i]) for i in 1:n)\n",
    "b = median(y[i] - ψ(X_vec[i]) for i in 1:n if abs(α_opt[i]) > 1e-8)"
   ]
  },
  {
   "cell_type": "markdown",
   "metadata": {},
   "source": [
    "This defines the following function for classification."
   ]
  },
  {
   "cell_type": "code",
   "execution_count": 34,
   "metadata": {},
   "outputs": [
    {
     "data": {
      "text/plain": [
       "f_class (generic function with 1 method)"
      ]
     },
     "execution_count": 34,
     "metadata": {},
     "output_type": "execute_result"
    }
   ],
   "source": [
    "f_class(x) = Int(sign(ψ(x) + b))"
   ]
  },
  {
   "cell_type": "markdown",
   "metadata": {},
   "source": [
    "We can use `f_class` in a prediction function:"
   ]
  },
  {
   "cell_type": "code",
   "execution_count": 35,
   "metadata": {},
   "outputs": [
    {
     "data": {
      "text/plain": [
       "predict (generic function with 1 method)"
      ]
     },
     "execution_count": 35,
     "metadata": {},
     "output_type": "execute_result"
    }
   ],
   "source": [
    "function predict(f, x)\n",
    "    if f(x) == -1\n",
    "        println(\"This is a $(labels[l₁]):\")\n",
    "    elseif f(x) == 1\n",
    "         println(\"This is a $(labels[l₂]):\")\n",
    "    end\n",
    "end"
   ]
  },
  {
   "cell_type": "markdown",
   "metadata": {},
   "source": [
    "#### How well does our prediction function work?\n",
    "\n",
    "We can now check the quality of our prediction function.\n",
    "\n",
    "For instance, we can randomly choose items from the test data and let our algorithm predict what item it is."
   ]
  },
  {
   "cell_type": "code",
   "execution_count": 36,
   "metadata": {},
   "outputs": [
    {
     "name": "stdout",
     "output_type": "stream",
     "text": [
      "This is a Sandal:\n"
     ]
    },
    {
     "data": {
      "image/png": "[encoded data removed]",
      "text/html": [
       "<img src=\"data:image/png;base64,iVBORw0KGgoAAAANSUhEUgAAAHAAAABwCAAAAADji6uXAAAABGdBTUEAALGPC/xhBQAAAAFzUkdCAK7OHOkAAAAgY0hSTQAAeiYAAICEAAD6AAAAgOgAAHUwAADqYAAAOpgAABdwnLpRPAAAAy5JREFUaAW9wUuIlgUYBtDzj4+adFG8ZSheysSELoYYkkJIEKRBUEiLsDKjpFWgG4uKFmFgQuGiSNrpKkKKwcAaodwkZhNmeSNwKheSOkbqqDPzJ3zBNCBNRLznRLEoFsWiWBSLYlEsikWxKBbFolgUi2JRLIpFsSgWxaJYFItiUSyKxf9sMuZhDm7ALfgAv2pEsSgWxWIELbRd23Z0ow8LMR/jcBDHMBv34Fas1ohiUSyKxQhaGm2NsbiEO/AzlmEW3sezaGMu3kM/TmE+OrECUSyKRbEYwaBGB1q4pPEw5qITN2IdRqEHW/AOPsNRTEI3XkYUi2JRLEbQQgfaGMAkvI5xWItejV3YiDX4Cu8aciv2oAtRLIpFsRhBGwMac7AJc7ACvRiNKziEXnyOyWjjGyzCZmzBRUSxKBbF0kJbo4U2RuOK4Z7HcziGxYZc0bgdd2INjmMztuEQ+nAvgigWxaJY2ujAINq4Dn0ar+BJ7MMM7MdLhuvAICbgPC5rHMISLMcqPIrXEMWiWBRLC22NUehDCx9iCn7AVEzFQQy6tm6Mwt3owSz0owvrsU0jikWxKJa2IQNYiH04gTMYRDem4UFcwBG8iD0Y1OjAaXRo9OEU9uMkPsZcRLEoFsXiqjG4jAfwNhbgEYzBMxqHsRV7sQk7sQs70Y1ZmI5pWIl+LEcvOvECfkcUi2JRLK66rPE09uMYvsV6/ISlOI4uHMATOIGleBWfYjN2YwbG4SYM4mvchjF4C1EsikWx+EsL12MC1uExzMMOjMdcbMU5/IjH8SaewmKsxnlMw0y08R324gAGNKJYFItiWYK1GEAHLuAunMNHmITzaGEBNuAsFuIwduN+zMMldOILXDJcMIgoFsWiWFbhZhxBB1r4DS2MxRkcxiLch4ewA10Yjwk4ie340nDBWPShXyOKRbEoljewEcswGn2Yjov4A+MxEcEvWImF+B6T8Al2GhIMaPSj33BRLIpFsZzFBo2ZmI0pmIjRGMB5nMFptNGLo4YLBtDvn0WxKBbF4m960OO/6ffvRLEoFsWiWBSLYlEsikWxKBbFolgUi2JRLIpFsSgWxf4EEDe4ojJz5a4AAAAASUVORK5C\">"
      ],
      "text/plain": [
       "28×28 reinterpret(reshape, Gray{Float32}, ::Matrix{Float32}) with eltype Gray{Float32}:\n",
       " Gray{Float32}(0.0)         …  Gray{Float32}(0.0)\n",
       " Gray{Float32}(0.0)            Gray{Float32}(0.0)\n",
       " Gray{Float32}(0.0)            Gray{Float32}(0.0)\n",
       " Gray{Float32}(0.0)            Gray{Float32}(0.0)\n",
       " Gray{Float32}(0.0)            Gray{Float32}(0.0)\n",
       " Gray{Float32}(0.0)         …  Gray{Float32}(0.0)\n",
       " Gray{Float32}(0.0)            Gray{Float32}(0.0)\n",
       " Gray{Float32}(0.0)            Gray{Float32}(0.0)\n",
       " Gray{Float32}(0.0)            Gray{Float32}(0.0)\n",
       " Gray{Float32}(0.0)            Gray{Float32}(0.482353)\n",
       " Gray{Float32}(0.0)         …  Gray{Float32}(0.223529)\n",
       " Gray{Float32}(0.0)            Gray{Float32}(0.188235)\n",
       " Gray{Float32}(0.00392157)     Gray{Float32}(0.32549)\n",
       " ⋮                          ⋱  \n",
       " Gray{Float32}(0.0)            Gray{Float32}(0.458824)\n",
       " Gray{Float32}(0.0)            Gray{Float32}(0.0470588)\n",
       " Gray{Float32}(0.0)            Gray{Float32}(0.0)\n",
       " Gray{Float32}(0.223529)       Gray{Float32}(0.00784314)\n",
       " Gray{Float32}(0.560784)    …  Gray{Float32}(0.0)\n",
       " Gray{Float32}(0.0666667)      Gray{Float32}(0.0)\n",
       " Gray{Float32}(0.0)            Gray{Float32}(0.0)\n",
       " Gray{Float32}(0.0)            Gray{Float32}(0.0)\n",
       " Gray{Float32}(0.0)            Gray{Float32}(0.0)\n",
       " Gray{Float32}(0.0)         …  Gray{Float32}(0.0)\n",
       " Gray{Float32}(0.0)            Gray{Float32}(0.0)\n",
       " Gray{Float32}(0.0)            Gray{Float32}(0.0)"
      ]
     },
     "execution_count": 36,
     "metadata": {},
     "output_type": "execute_result"
    }
   ],
   "source": [
    "ℓ = rand(1:n)\n",
    "predict(f_class, X_test_vec[ℓ])\n",
    "convert2image(FashionMNIST, X_test[:,:,ℓ])"
   ]
  },
  {
   "cell_type": "markdown",
   "metadata": {},
   "source": [
    "As a second check, we plot projected test data points along with our predictions. \n"
   ]
  },
  {
   "cell_type": "code",
   "execution_count": 37,
   "metadata": {},
   "outputs": [],
   "source": [
    "x̄_test = mean(X_test_vec);\n",
    "X_test_Pr = hcat(map(x -> Pr*(x - x̄_test), X_test_vec)...);"
   ]
  },
  {
   "cell_type": "markdown",
   "metadata": {},
   "source": [
    "\n",
    "For this, we produce $y_{\\mathrm{test}}\\in\\{-1,1\\}$ for the true labels and $\\hat{y}_{\\mathrm{test}}$ is the vector of predictions "
   ]
  },
  {
   "cell_type": "code",
   "execution_count": 38,
   "metadata": {},
   "outputs": [],
   "source": [
    "y_test = map(Y_test) do y\n",
    "    if y==l₁\n",
    "        -1\n",
    "    elseif y==l₂\n",
    "        1\n",
    "    end\n",
    "    end;\n",
    "ŷ_test = map(f_class, X_test_vec);"
   ]
  },
  {
   "cell_type": "markdown",
   "metadata": {},
   "source": [
    "The visualization comes next:"
   ]
  },
  {
   "cell_type": "code",
   "execution_count": 39,
   "metadata": {},
   "outputs": [
    {
     "data": {
      "image/svg+xml": [
       "<?xml version=\"1.0\" encoding=\"utf-8\"?>\n",
       "<svg xmlns=\"http://www.w3.org/2000/svg\" xmlns:xlink=\"http://www.w3.org/1999/xlink\" width=\"600\" height=\"300\" viewBox=\"0 0 2400 1200\">\n",
       "<defs>\n",
       "  <clipPath id=\"clip880\">\n",
       "    <rect x=\"0\" y=\"0\" width=\"2400\" height=\"1200\"/>\n",
       "  </clipPath>\n",
       "</defs>\n",
       "<path clip-path=\"url(#clip880)\" d=\"\n",
       "M0 1200 L2400 1200 L2400 0 L0 0  Z\n",
       "  \" fill=\"#ffffff\" fill-rule=\"evenodd\" fill-opacity=\"1\"/>\n",
       "<defs>\n",
       "  <clipPath id=\"clip881\">\n",
       "    <rect x=\"480\" y=\"0\" width=\"1681\" height=\"1200\"/>\n",
       "  </clipPath>\n",
       "</defs>\n",
       "<path clip-path=\"url(#clip880)\" d=\"\n",
       "M224.098 1047.7 L1152.76 1047.7 L1152.76 47.2441 L224.098 47.2441  Z\n",
       "  \" fill=\"#ffffff\" fill-rule=\"evenodd\" fill-opacity=\"1\"/>\n",
       "<defs>\n",
       "  <clipPath id=\"clip882\">\n",
       "    <rect x=\"224\" y=\"47\" width=\"930\" height=\"1001\"/>\n",
       "  </clipPath>\n",
       "</defs>\n",
       "<polyline clip-path=\"url(#clip882)\" style=\"stroke:#000000; stroke-linecap:round; stroke-linejoin:round; stroke-width:2; stroke-opacity:0.1; fill:none\" points=\"\n",
       "  361.088,1047.7 361.088,47.2441 \n",
       "  \"/>\n",
       "<polyline clip-path=\"url(#clip882)\" style=\"stroke:#000000; stroke-linecap:round; stroke-linejoin:round; stroke-width:2; stroke-opacity:0.1; fill:none\" points=\"\n",
       "  539.165,1047.7 539.165,47.2441 \n",
       "  \"/>\n",
       "<polyline clip-path=\"url(#clip882)\" style=\"stroke:#000000; stroke-linecap:round; stroke-linejoin:round; stroke-width:2; stroke-opacity:0.1; fill:none\" points=\"\n",
       "  717.242,1047.7 717.242,47.2441 \n",
       "  \"/>\n",
       "<polyline clip-path=\"url(#clip882)\" style=\"stroke:#000000; stroke-linecap:round; stroke-linejoin:round; stroke-width:2; stroke-opacity:0.1; fill:none\" points=\"\n",
       "  895.319,1047.7 895.319,47.2441 \n",
       "  \"/>\n",
       "<polyline clip-path=\"url(#clip882)\" style=\"stroke:#000000; stroke-linecap:round; stroke-linejoin:round; stroke-width:2; stroke-opacity:0.1; fill:none\" points=\"\n",
       "  1073.4,1047.7 1073.4,47.2441 \n",
       "  \"/>\n",
       "<polyline clip-path=\"url(#clip880)\" style=\"stroke:#000000; stroke-linecap:round; stroke-linejoin:round; stroke-width:4; stroke-opacity:1; fill:none\" points=\"\n",
       "  224.098,1047.7 1152.76,1047.7 \n",
       "  \"/>\n",
       "<polyline clip-path=\"url(#clip880)\" style=\"stroke:#000000; stroke-linecap:round; stroke-linejoin:round; stroke-width:4; stroke-opacity:1; fill:none\" points=\"\n",
       "  361.088,1047.7 361.088,1028.8 \n",
       "  \"/>\n",
       "<polyline clip-path=\"url(#clip880)\" style=\"stroke:#000000; stroke-linecap:round; stroke-linejoin:round; stroke-width:4; stroke-opacity:1; fill:none\" points=\"\n",
       "  539.165,1047.7 539.165,1028.8 \n",
       "  \"/>\n",
       "<polyline clip-path=\"url(#clip880)\" style=\"stroke:#000000; stroke-linecap:round; stroke-linejoin:round; stroke-width:4; stroke-opacity:1; fill:none\" points=\"\n",
       "  717.242,1047.7 717.242,1028.8 \n",
       "  \"/>\n",
       "<polyline clip-path=\"url(#clip880)\" style=\"stroke:#000000; stroke-linecap:round; stroke-linejoin:round; stroke-width:4; stroke-opacity:1; fill:none\" points=\"\n",
       "  895.319,1047.7 895.319,1028.8 \n",
       "  \"/>\n",
       "<polyline clip-path=\"url(#clip880)\" style=\"stroke:#000000; stroke-linecap:round; stroke-linejoin:round; stroke-width:4; stroke-opacity:1; fill:none\" points=\"\n",
       "  1073.4,1047.7 1073.4,1028.8 \n",
       "  \"/>\n",
       "<path clip-path=\"url(#clip880)\" d=\"M307.616 1093.27 L337.291 1093.27 L337.291 1097.21 L307.616 1097.21 L307.616 1093.27 Z\" fill=\"#000000\" fill-rule=\"evenodd\" fill-opacity=\"1\" /><path clip-path=\"url(#clip880)\" d=\"M348.194 1106.16 L355.833 1106.16 L355.833 1079.8 L347.523 1081.47 L347.523 1077.21 L355.787 1075.54 L360.463 1075.54 L360.463 1106.16 L368.101 1106.16 L368.101 1110.1 L348.194 1110.1 L348.194 1106.16 Z\" fill=\"#000000\" fill-rule=\"evenodd\" fill-opacity=\"1\" /><path clip-path=\"url(#clip880)\" d=\"M377.546 1104.22 L382.43 1104.22 L382.43 1110.1 L377.546 1110.1 L377.546 1104.22 Z\" fill=\"#000000\" fill-rule=\"evenodd\" fill-opacity=\"1\" /><path clip-path=\"url(#clip880)\" d=\"M402.615 1078.62 Q399.004 1078.62 397.175 1082.18 Q395.37 1085.72 395.37 1092.85 Q395.37 1099.96 397.175 1103.53 Q399.004 1107.07 402.615 1107.07 Q406.249 1107.07 408.055 1103.53 Q409.884 1099.96 409.884 1092.85 Q409.884 1085.72 408.055 1082.18 Q406.249 1078.62 402.615 1078.62 M402.615 1074.91 Q408.425 1074.91 411.481 1079.52 Q414.56 1084.1 414.56 1092.85 Q414.56 1101.58 411.481 1106.19 Q408.425 1110.77 402.615 1110.77 Q396.805 1110.77 393.726 1106.19 Q390.671 1101.58 390.671 1092.85 Q390.671 1084.1 393.726 1079.52 Q396.805 1074.91 402.615 1074.91 Z\" fill=\"#000000\" fill-rule=\"evenodd\" fill-opacity=\"1\" /><path clip-path=\"url(#clip880)\" d=\"M486.19 1093.27 L515.866 1093.27 L515.866 1097.21 L486.19 1097.21 L486.19 1093.27 Z\" fill=\"#000000\" fill-rule=\"evenodd\" fill-opacity=\"1\" /><path clip-path=\"url(#clip880)\" d=\"M535.959 1078.62 Q532.348 1078.62 530.519 1082.18 Q528.713 1085.72 528.713 1092.85 Q528.713 1099.96 530.519 1103.53 Q532.348 1107.07 535.959 1107.07 Q539.593 1107.07 541.399 1103.53 Q543.227 1099.96 543.227 1092.85 Q543.227 1085.72 541.399 1082.18 Q539.593 1078.62 535.959 1078.62 M535.959 1074.91 Q541.769 1074.91 544.824 1079.52 Q547.903 1084.1 547.903 1092.85 Q547.903 1101.58 544.824 1106.19 Q541.769 1110.77 535.959 1110.77 Q530.149 1110.77 527.07 1106.19 Q524.014 1101.58 524.014 1092.85 Q524.014 1084.1 527.07 1079.52 Q530.149 1074.91 535.959 1074.91 Z\" fill=\"#000000\" fill-rule=\"evenodd\" fill-opacity=\"1\" /><path clip-path=\"url(#clip880)\" d=\"M556.121 1104.22 L561.005 1104.22 L561.005 1110.1 L556.121 1110.1 L556.121 1104.22 Z\" fill=\"#000000\" fill-rule=\"evenodd\" fill-opacity=\"1\" /><path clip-path=\"url(#clip880)\" d=\"M571.236 1075.54 L589.593 1075.54 L589.593 1079.48 L575.519 1079.48 L575.519 1087.95 Q576.537 1087.6 577.556 1087.44 Q578.574 1087.25 579.593 1087.25 Q585.38 1087.25 588.759 1090.42 Q592.139 1093.6 592.139 1099.01 Q592.139 1104.59 588.667 1107.69 Q585.195 1110.77 578.875 1110.77 Q576.699 1110.77 574.431 1110.4 Q572.185 1110.03 569.778 1109.29 L569.778 1104.59 Q571.861 1105.72 574.084 1106.28 Q576.306 1106.84 578.783 1106.84 Q582.787 1106.84 585.125 1104.73 Q587.463 1102.62 587.463 1099.01 Q587.463 1095.4 585.125 1093.29 Q582.787 1091.19 578.783 1091.19 Q576.908 1091.19 575.033 1091.6 Q573.181 1092.02 571.236 1092.9 L571.236 1075.54 Z\" fill=\"#000000\" fill-rule=\"evenodd\" fill-opacity=\"1\" /><path clip-path=\"url(#clip880)\" d=\"M694.626 1078.62 Q691.015 1078.62 689.186 1082.18 Q687.381 1085.72 687.381 1092.85 Q687.381 1099.96 689.186 1103.53 Q691.015 1107.07 694.626 1107.07 Q698.26 1107.07 700.066 1103.53 Q701.895 1099.96 701.895 1092.85 Q701.895 1085.72 700.066 1082.18 Q698.26 1078.62 694.626 1078.62 M694.626 1074.91 Q700.436 1074.91 703.492 1079.52 Q706.571 1084.1 706.571 1092.85 Q706.571 1101.58 703.492 1106.19 Q700.436 1110.77 694.626 1110.77 Q688.816 1110.77 685.737 1106.19 Q682.682 1101.58 682.682 1092.85 Q682.682 1084.1 685.737 1079.52 Q688.816 1074.91 694.626 1074.91 Z\" fill=\"#000000\" fill-rule=\"evenodd\" fill-opacity=\"1\" /><path clip-path=\"url(#clip880)\" d=\"M714.788 1104.22 L719.672 1104.22 L719.672 1110.1 L714.788 1110.1 L714.788 1104.22 Z\" fill=\"#000000\" fill-rule=\"evenodd\" fill-opacity=\"1\" /><path clip-path=\"url(#clip880)\" d=\"M739.857 1078.62 Q736.246 1078.62 734.418 1082.18 Q732.612 1085.72 732.612 1092.85 Q732.612 1099.96 734.418 1103.53 Q736.246 1107.07 739.857 1107.07 Q743.492 1107.07 745.297 1103.53 Q747.126 1099.96 747.126 1092.85 Q747.126 1085.72 745.297 1082.18 Q743.492 1078.62 739.857 1078.62 M739.857 1074.91 Q745.668 1074.91 748.723 1079.52 Q751.802 1084.1 751.802 1092.85 Q751.802 1101.58 748.723 1106.19 Q745.668 1110.77 739.857 1110.77 Q734.047 1110.77 730.969 1106.19 Q727.913 1101.58 727.913 1092.85 Q727.913 1084.1 730.969 1079.52 Q734.047 1074.91 739.857 1074.91 Z\" fill=\"#000000\" fill-rule=\"evenodd\" fill-opacity=\"1\" /><path clip-path=\"url(#clip880)\" d=\"M873.201 1078.62 Q869.59 1078.62 867.761 1082.18 Q865.956 1085.72 865.956 1092.85 Q865.956 1099.96 867.761 1103.53 Q869.59 1107.07 873.201 1107.07 Q876.835 1107.07 878.641 1103.53 Q880.47 1099.96 880.47 1092.85 Q880.47 1085.72 878.641 1082.18 Q876.835 1078.62 873.201 1078.62 M873.201 1074.91 Q879.011 1074.91 882.067 1079.52 Q885.145 1084.1 885.145 1092.85 Q885.145 1101.58 882.067 1106.19 Q879.011 1110.77 873.201 1110.77 Q867.391 1110.77 864.312 1106.19 Q861.257 1101.58 861.257 1092.85 Q861.257 1084.1 864.312 1079.52 Q867.391 1074.91 873.201 1074.91 Z\" fill=\"#000000\" fill-rule=\"evenodd\" fill-opacity=\"1\" /><path clip-path=\"url(#clip880)\" d=\"M893.363 1104.22 L898.247 1104.22 L898.247 1110.1 L893.363 1110.1 L893.363 1104.22 Z\" fill=\"#000000\" fill-rule=\"evenodd\" fill-opacity=\"1\" /><path clip-path=\"url(#clip880)\" d=\"M908.479 1075.54 L926.835 1075.54 L926.835 1079.48 L912.761 1079.48 L912.761 1087.95 Q913.78 1087.6 914.798 1087.44 Q915.817 1087.25 916.835 1087.25 Q922.622 1087.25 926.002 1090.42 Q929.381 1093.6 929.381 1099.01 Q929.381 1104.59 925.909 1107.69 Q922.437 1110.77 916.117 1110.77 Q913.942 1110.77 911.673 1110.4 Q909.428 1110.03 907.02 1109.29 L907.02 1104.59 Q909.104 1105.72 911.326 1106.28 Q913.548 1106.84 916.025 1106.84 Q920.029 1106.84 922.367 1104.73 Q924.705 1102.62 924.705 1099.01 Q924.705 1095.4 922.367 1093.29 Q920.029 1091.19 916.025 1091.19 Q914.15 1091.19 912.275 1091.6 Q910.423 1092.02 908.479 1092.9 L908.479 1075.54 Z\" fill=\"#000000\" fill-rule=\"evenodd\" fill-opacity=\"1\" /><path clip-path=\"url(#clip880)\" d=\"M1040.55 1106.16 L1048.19 1106.16 L1048.19 1079.8 L1039.88 1081.47 L1039.88 1077.21 L1048.14 1075.54 L1052.82 1075.54 L1052.82 1106.16 L1060.46 1106.16 L1060.46 1110.1 L1040.55 1110.1 L1040.55 1106.16 Z\" fill=\"#000000\" fill-rule=\"evenodd\" fill-opacity=\"1\" /><path clip-path=\"url(#clip880)\" d=\"M1069.9 1104.22 L1074.78 1104.22 L1074.78 1110.1 L1069.9 1110.1 L1069.9 1104.22 Z\" fill=\"#000000\" fill-rule=\"evenodd\" fill-opacity=\"1\" /><path clip-path=\"url(#clip880)\" d=\"M1094.97 1078.62 Q1091.36 1078.62 1089.53 1082.18 Q1087.72 1085.72 1087.72 1092.85 Q1087.72 1099.96 1089.53 1103.53 Q1091.36 1107.07 1094.97 1107.07 Q1098.6 1107.07 1100.41 1103.53 Q1102.24 1099.96 1102.24 1092.85 Q1102.24 1085.72 1100.41 1082.18 Q1098.6 1078.62 1094.97 1078.62 M1094.97 1074.91 Q1100.78 1074.91 1103.84 1079.52 Q1106.91 1084.1 1106.91 1092.85 Q1106.91 1101.58 1103.84 1106.19 Q1100.78 1110.77 1094.97 1110.77 Q1089.16 1110.77 1086.08 1106.19 Q1083.03 1101.58 1083.03 1092.85 Q1083.03 1084.1 1086.08 1079.52 Q1089.16 1074.91 1094.97 1074.91 Z\" fill=\"#000000\" fill-rule=\"evenodd\" fill-opacity=\"1\" /><path clip-path=\"url(#clip880)\" d=\"M372.672 1146.79 L372.672 1156.92 L384.735 1156.92 L384.735 1161.47 L372.672 1161.47 L372.672 1180.82 Q372.672 1185.18 373.85 1186.42 Q375.059 1187.66 378.719 1187.66 L384.735 1187.66 L384.735 1192.56 L378.719 1192.56 Q371.94 1192.56 369.362 1190.05 Q366.784 1187.5 366.784 1180.82 L366.784 1161.47 L362.487 1161.47 L362.487 1156.92 L366.784 1156.92 L366.784 1146.79 L372.672 1146.79 Z\" fill=\"#000000\" fill-rule=\"evenodd\" fill-opacity=\"1\" /><path clip-path=\"url(#clip880)\" d=\"M413.094 1162.39 Q412.107 1161.82 410.93 1161.56 Q409.784 1161.28 408.384 1161.28 Q403.418 1161.28 400.745 1164.52 Q398.103 1167.74 398.103 1173.79 L398.103 1192.56 L392.215 1192.56 L392.215 1156.92 L398.103 1156.92 L398.103 1162.45 Q399.949 1159.21 402.909 1157.65 Q405.869 1156.06 410.102 1156.06 Q410.707 1156.06 411.439 1156.15 Q412.171 1156.22 413.062 1156.37 L413.094 1162.39 Z\" fill=\"#000000\" fill-rule=\"evenodd\" fill-opacity=\"1\" /><path clip-path=\"url(#clip880)\" d=\"M418.632 1178.5 L418.632 1156.92 L424.489 1156.92 L424.489 1178.27 Q424.489 1183.33 426.462 1185.88 Q428.436 1188.39 432.382 1188.39 Q437.125 1188.39 439.862 1185.37 Q442.631 1182.35 442.631 1177.13 L442.631 1156.92 L448.487 1156.92 L448.487 1192.56 L442.631 1192.56 L442.631 1187.09 Q440.499 1190.34 437.666 1191.93 Q434.865 1193.49 431.141 1193.49 Q424.998 1193.49 421.815 1189.67 Q418.632 1185.85 418.632 1178.5 M433.369 1156.06 L433.369 1156.06 Z\" fill=\"#000000\" fill-rule=\"evenodd\" fill-opacity=\"1\" /><path clip-path=\"url(#clip880)\" d=\"M491.042 1173.28 L491.042 1176.14 L464.115 1176.14 Q464.497 1182.19 467.744 1185.37 Q471.022 1188.52 476.847 1188.52 Q480.221 1188.52 483.372 1187.69 Q486.554 1186.87 489.674 1185.21 L489.674 1190.75 Q486.523 1192.09 483.212 1192.79 Q479.902 1193.49 476.497 1193.49 Q467.967 1193.49 462.969 1188.52 Q458.004 1183.56 458.004 1175.09 Q458.004 1166.34 462.715 1161.21 Q467.457 1156.06 475.478 1156.06 Q482.671 1156.06 486.841 1160.7 Q491.042 1165.32 491.042 1173.28 M485.186 1171.56 Q485.122 1166.75 482.48 1163.89 Q479.87 1161.02 475.542 1161.02 Q470.64 1161.02 467.68 1163.79 Q464.752 1166.56 464.306 1171.59 L485.186 1171.56 Z\" fill=\"#000000\" fill-rule=\"evenodd\" fill-opacity=\"1\" /><path clip-path=\"url(#clip880)\" d=\"M521.375 1143.04 L527.231 1143.04 L527.231 1192.56 L521.375 1192.56 L521.375 1143.04 Z\" fill=\"#000000\" fill-rule=\"evenodd\" fill-opacity=\"1\" /><path clip-path=\"url(#clip880)\" d=\"M555.686 1174.64 Q548.588 1174.64 545.851 1176.27 Q543.114 1177.89 543.114 1181.81 Q543.114 1184.92 545.151 1186.77 Q547.22 1188.59 550.753 1188.59 Q555.622 1188.59 558.551 1185.15 Q561.511 1181.68 561.511 1175.95 L561.511 1174.64 L555.686 1174.64 M567.367 1172.23 L567.367 1192.56 L561.511 1192.56 L561.511 1187.15 Q559.505 1190.4 556.514 1191.96 Q553.522 1193.49 549.193 1193.49 Q543.718 1193.49 540.472 1190.43 Q537.257 1187.34 537.257 1182.19 Q537.257 1176.17 541.268 1173.12 Q545.31 1170.06 553.299 1170.06 L561.511 1170.06 L561.511 1169.49 Q561.511 1165.45 558.837 1163.25 Q556.195 1161.02 551.389 1161.02 Q548.334 1161.02 545.437 1161.75 Q542.541 1162.49 539.867 1163.95 L539.867 1158.54 Q543.082 1157.3 546.106 1156.69 Q549.129 1156.06 551.994 1156.06 Q559.728 1156.06 563.548 1160.07 Q567.367 1164.08 567.367 1172.23 Z\" fill=\"#000000\" fill-rule=\"evenodd\" fill-opacity=\"1\" /><path clip-path=\"url(#clip880)\" d=\"M605.02 1174.77 Q605.02 1168.31 602.347 1164.65 Q599.705 1160.96 595.058 1160.96 Q590.411 1160.96 587.737 1164.65 Q585.096 1168.31 585.096 1174.77 Q585.096 1181.23 587.737 1184.92 Q590.411 1188.59 595.058 1188.59 Q599.705 1188.59 602.347 1184.92 Q605.02 1181.23 605.02 1174.77 M585.096 1162.33 Q586.942 1159.14 589.743 1157.62 Q592.575 1156.06 596.49 1156.06 Q602.983 1156.06 607.025 1161.21 Q611.099 1166.37 611.099 1174.77 Q611.099 1183.17 607.025 1188.33 Q602.983 1193.49 596.49 1193.49 Q592.575 1193.49 589.743 1191.96 Q586.942 1190.4 585.096 1187.22 L585.096 1192.56 L579.207 1192.56 L579.207 1143.04 L585.096 1143.04 L585.096 1162.33 Z\" fill=\"#000000\" fill-rule=\"evenodd\" fill-opacity=\"1\" /><path clip-path=\"url(#clip880)\" d=\"M651.299 1173.28 L651.299 1176.14 L624.372 1176.14 Q624.754 1182.19 628 1185.37 Q631.279 1188.52 637.103 1188.52 Q640.477 1188.52 643.628 1187.69 Q646.811 1186.87 649.93 1185.21 L649.93 1190.75 Q646.779 1192.09 643.469 1192.79 Q640.159 1193.49 636.753 1193.49 Q628.223 1193.49 623.226 1188.52 Q618.261 1183.56 618.261 1175.09 Q618.261 1166.34 622.972 1161.21 Q627.714 1156.06 635.735 1156.06 Q642.928 1156.06 647.098 1160.7 Q651.299 1165.32 651.299 1173.28 M645.442 1171.56 Q645.379 1166.75 642.737 1163.89 Q640.127 1161.02 635.798 1161.02 Q630.897 1161.02 627.937 1163.79 Q625.009 1166.56 624.563 1171.59 L645.442 1171.56 Z\" fill=\"#000000\" fill-rule=\"evenodd\" fill-opacity=\"1\" /><path clip-path=\"url(#clip880)\" d=\"M660.911 1143.04 L666.768 1143.04 L666.768 1192.56 L660.911 1192.56 L660.911 1143.04 Z\" fill=\"#000000\" fill-rule=\"evenodd\" fill-opacity=\"1\" /><path clip-path=\"url(#clip880)\" d=\"M701.747 1157.97 L701.747 1163.5 Q699.265 1162.23 696.591 1161.59 Q693.917 1160.96 691.053 1160.96 Q686.692 1160.96 684.496 1162.29 Q682.332 1163.63 682.332 1166.31 Q682.332 1168.34 683.891 1169.52 Q685.451 1170.67 690.162 1171.72 L692.167 1172.16 Q698.405 1173.5 701.015 1175.95 Q703.657 1178.37 703.657 1182.73 Q703.657 1187.69 699.71 1190.59 Q695.795 1193.49 688.92 1193.49 Q686.056 1193.49 682.936 1192.91 Q679.849 1192.37 676.412 1191.26 L676.412 1185.21 Q679.658 1186.9 682.809 1187.76 Q685.96 1188.59 689.048 1188.59 Q693.185 1188.59 695.413 1187.18 Q697.641 1185.75 697.641 1183.17 Q697.641 1180.79 696.018 1179.51 Q694.427 1178.24 688.984 1177.06 L686.947 1176.59 Q681.504 1175.44 679.085 1173.08 Q676.666 1170.7 676.666 1166.56 Q676.666 1161.53 680.231 1158.79 Q683.796 1156.06 690.353 1156.06 Q693.599 1156.06 696.464 1156.53 Q699.328 1157.01 701.747 1157.97 Z\" fill=\"#000000\" fill-rule=\"evenodd\" fill-opacity=\"1\" /><path clip-path=\"url(#clip880)\" d=\"M739.496 1146.79 L739.496 1156.92 L751.559 1156.92 L751.559 1161.47 L739.496 1161.47 L739.496 1180.82 Q739.496 1185.18 740.673 1186.42 Q741.883 1187.66 745.543 1187.66 L751.559 1187.66 L751.559 1192.56 L745.543 1192.56 Q738.764 1192.56 736.186 1190.05 Q733.607 1187.5 733.607 1180.82 L733.607 1161.47 L729.311 1161.47 L729.311 1156.92 L733.607 1156.92 L733.607 1146.79 L739.496 1146.79 Z\" fill=\"#000000\" fill-rule=\"evenodd\" fill-opacity=\"1\" /><path clip-path=\"url(#clip880)\" d=\"M789.753 1173.28 L789.753 1176.14 L762.826 1176.14 Q763.208 1182.19 766.455 1185.37 Q769.733 1188.52 775.557 1188.52 Q778.931 1188.52 782.082 1187.69 Q785.265 1186.87 788.384 1185.21 L788.384 1190.75 Q785.233 1192.09 781.923 1192.79 Q778.613 1193.49 775.207 1193.49 Q766.677 1193.49 761.68 1188.52 Q756.715 1183.56 756.715 1175.09 Q756.715 1166.34 761.426 1161.21 Q766.168 1156.06 774.189 1156.06 Q781.382 1156.06 785.552 1160.7 Q789.753 1165.32 789.753 1173.28 M783.897 1171.56 Q783.833 1166.75 781.191 1163.89 Q778.581 1161.02 774.253 1161.02 Q769.351 1161.02 766.391 1163.79 Q763.463 1166.56 763.017 1171.59 L783.897 1171.56 Z\" fill=\"#000000\" fill-rule=\"evenodd\" fill-opacity=\"1\" /><path clip-path=\"url(#clip880)\" d=\"M822.091 1157.97 L822.091 1163.5 Q819.608 1162.23 816.935 1161.59 Q814.261 1160.96 811.396 1160.96 Q807.036 1160.96 804.84 1162.29 Q802.675 1163.63 802.675 1166.31 Q802.675 1168.34 804.235 1169.52 Q805.795 1170.67 810.505 1171.72 L812.51 1172.16 Q818.749 1173.5 821.359 1175.95 Q824.001 1178.37 824.001 1182.73 Q824.001 1187.69 820.054 1190.59 Q816.139 1193.49 809.264 1193.49 Q806.399 1193.49 803.28 1192.91 Q800.193 1192.37 796.755 1191.26 L796.755 1185.21 Q800.002 1186.9 803.153 1187.76 Q806.304 1188.59 809.391 1188.59 Q813.529 1188.59 815.757 1187.18 Q817.985 1185.75 817.985 1183.17 Q817.985 1180.79 816.362 1179.51 Q814.77 1178.24 809.328 1177.06 L807.291 1176.59 Q801.848 1175.44 799.429 1173.08 Q797.01 1170.7 797.01 1166.56 Q797.01 1161.53 800.575 1158.79 Q804.14 1156.06 810.696 1156.06 Q813.943 1156.06 816.807 1156.53 Q819.672 1157.01 822.091 1157.97 Z\" fill=\"#000000\" fill-rule=\"evenodd\" fill-opacity=\"1\" /><path clip-path=\"url(#clip880)\" d=\"M839.119 1146.79 L839.119 1156.92 L851.182 1156.92 L851.182 1161.47 L839.119 1161.47 L839.119 1180.82 Q839.119 1185.18 840.297 1186.42 Q841.506 1187.66 845.167 1187.66 L851.182 1187.66 L851.182 1192.56 L845.167 1192.56 Q838.387 1192.56 835.809 1190.05 Q833.231 1187.5 833.231 1180.82 L833.231 1161.47 L828.934 1161.47 L828.934 1156.92 L833.231 1156.92 L833.231 1146.79 L839.119 1146.79 Z\" fill=\"#000000\" fill-rule=\"evenodd\" fill-opacity=\"1\" /><path clip-path=\"url(#clip880)\" d=\"M903.063 1162.33 L903.063 1143.04 L908.919 1143.04 L908.919 1192.56 L903.063 1192.56 L903.063 1187.22 Q901.217 1190.4 898.384 1191.96 Q895.583 1193.49 891.636 1193.49 Q885.175 1193.49 881.101 1188.33 Q877.059 1183.17 877.059 1174.77 Q877.059 1166.37 881.101 1161.21 Q885.175 1156.06 891.636 1156.06 Q895.583 1156.06 898.384 1157.62 Q901.217 1159.14 903.063 1162.33 M883.106 1174.77 Q883.106 1181.23 885.748 1184.92 Q888.421 1188.59 893.068 1188.59 Q897.715 1188.59 900.389 1184.92 Q903.063 1181.23 903.063 1174.77 Q903.063 1168.31 900.389 1164.65 Q897.715 1160.96 893.068 1160.96 Q888.421 1160.96 885.748 1164.65 Q883.106 1168.31 883.106 1174.77 Z\" fill=\"#000000\" fill-rule=\"evenodd\" fill-opacity=\"1\" /><path clip-path=\"url(#clip880)\" d=\"M937.183 1174.64 Q930.085 1174.64 927.348 1176.27 Q924.611 1177.89 924.611 1181.81 Q924.611 1184.92 926.648 1186.77 Q928.716 1188.59 932.249 1188.59 Q937.119 1188.59 940.047 1185.15 Q943.007 1181.68 943.007 1175.95 L943.007 1174.64 L937.183 1174.64 M948.864 1172.23 L948.864 1192.56 L943.007 1192.56 L943.007 1187.15 Q941.002 1190.4 938.01 1191.96 Q935.018 1193.49 930.69 1193.49 Q925.215 1193.49 921.969 1190.43 Q918.754 1187.34 918.754 1182.19 Q918.754 1176.17 922.764 1173.12 Q926.807 1170.06 934.796 1170.06 L943.007 1170.06 L943.007 1169.49 Q943.007 1165.45 940.334 1163.25 Q937.692 1161.02 932.886 1161.02 Q929.83 1161.02 926.934 1161.75 Q924.038 1162.49 921.364 1163.95 L921.364 1158.54 Q924.579 1157.3 927.602 1156.69 Q930.626 1156.06 933.491 1156.06 Q941.225 1156.06 945.044 1160.07 Q948.864 1164.08 948.864 1172.23 Z\" fill=\"#000000\" fill-rule=\"evenodd\" fill-opacity=\"1\" /><path clip-path=\"url(#clip880)\" d=\"M966.72 1146.79 L966.72 1156.92 L978.783 1156.92 L978.783 1161.47 L966.72 1161.47 L966.72 1180.82 Q966.72 1185.18 967.897 1186.42 Q969.107 1187.66 972.767 1187.66 L978.783 1187.66 L978.783 1192.56 L972.767 1192.56 Q965.988 1192.56 963.41 1190.05 Q960.831 1187.5 960.831 1180.82 L960.831 1161.47 L956.535 1161.47 L956.535 1156.92 L960.831 1156.92 L960.831 1146.79 L966.72 1146.79 Z\" fill=\"#000000\" fill-rule=\"evenodd\" fill-opacity=\"1\" /><path clip-path=\"url(#clip880)\" d=\"M1002.69 1174.64 Q995.588 1174.64 992.851 1176.27 Q990.114 1177.89 990.114 1181.81 Q990.114 1184.92 992.151 1186.77 Q994.22 1188.59 997.752 1188.59 Q1002.62 1188.59 1005.55 1185.15 Q1008.51 1181.68 1008.51 1175.95 L1008.51 1174.64 L1002.69 1174.64 M1014.37 1172.23 L1014.37 1192.56 L1008.51 1192.56 L1008.51 1187.15 Q1006.51 1190.4 1003.51 1191.96 Q1000.52 1193.49 996.193 1193.49 Q990.718 1193.49 987.472 1190.43 Q984.257 1187.34 984.257 1182.19 Q984.257 1176.17 988.268 1173.12 Q992.31 1170.06 1000.3 1170.06 L1008.51 1170.06 L1008.51 1169.49 Q1008.51 1165.45 1005.84 1163.25 Q1003.2 1161.02 998.389 1161.02 Q995.334 1161.02 992.437 1161.75 Q989.541 1162.49 986.867 1163.95 L986.867 1158.54 Q990.082 1157.3 993.106 1156.69 Q996.129 1156.06 998.994 1156.06 Q1006.73 1156.06 1010.55 1160.07 Q1014.37 1164.08 1014.37 1172.23 Z\" fill=\"#000000\" fill-rule=\"evenodd\" fill-opacity=\"1\" /><polyline clip-path=\"url(#clip882)\" style=\"stroke:#000000; stroke-linecap:round; stroke-linejoin:round; stroke-width:2; stroke-opacity:0.1; fill:none\" points=\"\n",
       "  224.098,936.221 1152.76,936.221 \n",
       "  \"/>\n",
       "<polyline clip-path=\"url(#clip882)\" style=\"stroke:#000000; stroke-linecap:round; stroke-linejoin:round; stroke-width:2; stroke-opacity:0.1; fill:none\" points=\"\n",
       "  224.098,793.076 1152.76,793.076 \n",
       "  \"/>\n",
       "<polyline clip-path=\"url(#clip882)\" style=\"stroke:#000000; stroke-linecap:round; stroke-linejoin:round; stroke-width:2; stroke-opacity:0.1; fill:none\" points=\"\n",
       "  224.098,649.932 1152.76,649.932 \n",
       "  \"/>\n",
       "<polyline clip-path=\"url(#clip882)\" style=\"stroke:#000000; stroke-linecap:round; stroke-linejoin:round; stroke-width:2; stroke-opacity:0.1; fill:none\" points=\"\n",
       "  224.098,506.787 1152.76,506.787 \n",
       "  \"/>\n",
       "<polyline clip-path=\"url(#clip882)\" style=\"stroke:#000000; stroke-linecap:round; stroke-linejoin:round; stroke-width:2; stroke-opacity:0.1; fill:none\" points=\"\n",
       "  224.098,363.642 1152.76,363.642 \n",
       "  \"/>\n",
       "<polyline clip-path=\"url(#clip882)\" style=\"stroke:#000000; stroke-linecap:round; stroke-linejoin:round; stroke-width:2; stroke-opacity:0.1; fill:none\" points=\"\n",
       "  224.098,220.497 1152.76,220.497 \n",
       "  \"/>\n",
       "<polyline clip-path=\"url(#clip882)\" style=\"stroke:#000000; stroke-linecap:round; stroke-linejoin:round; stroke-width:2; stroke-opacity:0.1; fill:none\" points=\"\n",
       "  224.098,77.3517 1152.76,77.3517 \n",
       "  \"/>\n",
       "<polyline clip-path=\"url(#clip880)\" style=\"stroke:#000000; stroke-linecap:round; stroke-linejoin:round; stroke-width:4; stroke-opacity:1; fill:none\" points=\"\n",
       "  224.098,1047.7 224.098,47.2441 \n",
       "  \"/>\n",
       "<polyline clip-path=\"url(#clip880)\" style=\"stroke:#000000; stroke-linecap:round; stroke-linejoin:round; stroke-width:4; stroke-opacity:1; fill:none\" points=\"\n",
       "  224.098,936.221 242.996,936.221 \n",
       "  \"/>\n",
       "<polyline clip-path=\"url(#clip880)\" style=\"stroke:#000000; stroke-linecap:round; stroke-linejoin:round; stroke-width:4; stroke-opacity:1; fill:none\" points=\"\n",
       "  224.098,793.076 242.996,793.076 \n",
       "  \"/>\n",
       "<polyline clip-path=\"url(#clip880)\" style=\"stroke:#000000; stroke-linecap:round; stroke-linejoin:round; stroke-width:4; stroke-opacity:1; fill:none\" points=\"\n",
       "  224.098,649.932 242.996,649.932 \n",
       "  \"/>\n",
       "<polyline clip-path=\"url(#clip880)\" style=\"stroke:#000000; stroke-linecap:round; stroke-linejoin:round; stroke-width:4; stroke-opacity:1; fill:none\" points=\"\n",
       "  224.098,506.787 242.996,506.787 \n",
       "  \"/>\n",
       "<polyline clip-path=\"url(#clip880)\" style=\"stroke:#000000; stroke-linecap:round; stroke-linejoin:round; stroke-width:4; stroke-opacity:1; fill:none\" points=\"\n",
       "  224.098,363.642 242.996,363.642 \n",
       "  \"/>\n",
       "<polyline clip-path=\"url(#clip880)\" style=\"stroke:#000000; stroke-linecap:round; stroke-linejoin:round; stroke-width:4; stroke-opacity:1; fill:none\" points=\"\n",
       "  224.098,220.497 242.996,220.497 \n",
       "  \"/>\n",
       "<polyline clip-path=\"url(#clip880)\" style=\"stroke:#000000; stroke-linecap:round; stroke-linejoin:round; stroke-width:4; stroke-opacity:1; fill:none\" points=\"\n",
       "  224.098,77.3517 242.996,77.3517 \n",
       "  \"/>\n",
       "<path clip-path=\"url(#clip880)\" d=\"M51.9875 936.673 L81.6633 936.673 L81.6633 940.608 L51.9875 940.608 L51.9875 936.673 Z\" fill=\"#000000\" fill-rule=\"evenodd\" fill-opacity=\"1\" /><path clip-path=\"url(#clip880)\" d=\"M101.756 922.02 Q98.1447 922.02 96.316 925.585 Q94.5104 929.127 94.5104 936.256 Q94.5104 943.363 96.316 946.927 Q98.1447 950.469 101.756 950.469 Q105.39 950.469 107.196 946.927 Q109.024 943.363 109.024 936.256 Q109.024 929.127 107.196 925.585 Q105.39 922.02 101.756 922.02 M101.756 918.316 Q107.566 918.316 110.621 922.923 Q113.7 927.506 113.7 936.256 Q113.7 944.983 110.621 949.589 Q107.566 954.173 101.756 954.173 Q95.9456 954.173 92.8669 949.589 Q89.8114 944.983 89.8114 936.256 Q89.8114 927.506 92.8669 922.923 Q95.9456 918.316 101.756 918.316 Z\" fill=\"#000000\" fill-rule=\"evenodd\" fill-opacity=\"1\" /><path clip-path=\"url(#clip880)\" d=\"M121.918 947.622 L126.802 947.622 L126.802 953.501 L121.918 953.501 L121.918 947.622 Z\" fill=\"#000000\" fill-rule=\"evenodd\" fill-opacity=\"1\" /><path clip-path=\"url(#clip880)\" d=\"M135.806 918.941 L158.029 918.941 L158.029 920.932 L145.482 953.501 L140.598 953.501 L152.404 922.877 L135.806 922.877 L135.806 918.941 Z\" fill=\"#000000\" fill-rule=\"evenodd\" fill-opacity=\"1\" /><path clip-path=\"url(#clip880)\" d=\"M167.195 918.941 L185.552 918.941 L185.552 922.877 L171.478 922.877 L171.478 931.349 Q172.496 931.002 173.515 930.84 Q174.533 930.654 175.552 930.654 Q181.339 930.654 184.718 933.826 Q188.098 936.997 188.098 942.414 Q188.098 947.992 184.626 951.094 Q181.153 954.173 174.834 954.173 Q172.658 954.173 170.39 953.802 Q168.144 953.432 165.737 952.691 L165.737 947.992 Q167.82 949.126 170.042 949.682 Q172.265 950.238 174.741 950.238 Q178.746 950.238 181.084 948.131 Q183.422 946.025 183.422 942.414 Q183.422 938.802 181.084 936.696 Q178.746 934.59 174.741 934.59 Q172.866 934.59 170.991 935.006 Q169.14 935.423 167.195 936.302 L167.195 918.941 Z\" fill=\"#000000\" fill-rule=\"evenodd\" fill-opacity=\"1\" /><path clip-path=\"url(#clip880)\" d=\"M50.9921 793.528 L80.6679 793.528 L80.6679 797.463 L50.9921 797.463 L50.9921 793.528 Z\" fill=\"#000000\" fill-rule=\"evenodd\" fill-opacity=\"1\" /><path clip-path=\"url(#clip880)\" d=\"M100.76 778.875 Q97.1493 778.875 95.3206 782.44 Q93.515 785.982 93.515 793.111 Q93.515 800.218 95.3206 803.782 Q97.1493 807.324 100.76 807.324 Q104.395 807.324 106.2 803.782 Q108.029 800.218 108.029 793.111 Q108.029 785.982 106.2 782.44 Q104.395 778.875 100.76 778.875 M100.76 775.172 Q106.571 775.172 109.626 779.778 Q112.705 784.361 112.705 793.111 Q112.705 801.838 109.626 806.444 Q106.571 811.028 100.76 811.028 Q94.9502 811.028 91.8715 806.444 Q88.816 801.838 88.816 793.111 Q88.816 784.361 91.8715 779.778 Q94.9502 775.172 100.76 775.172 Z\" fill=\"#000000\" fill-rule=\"evenodd\" fill-opacity=\"1\" /><path clip-path=\"url(#clip880)\" d=\"M120.922 804.477 L125.807 804.477 L125.807 810.356 L120.922 810.356 L120.922 804.477 Z\" fill=\"#000000\" fill-rule=\"evenodd\" fill-opacity=\"1\" /><path clip-path=\"url(#clip880)\" d=\"M136.038 775.796 L154.394 775.796 L154.394 779.732 L140.32 779.732 L140.32 788.204 Q141.339 787.857 142.357 787.695 Q143.376 787.509 144.394 787.509 Q150.181 787.509 153.561 790.681 Q156.941 793.852 156.941 799.269 Q156.941 804.847 153.468 807.949 Q149.996 811.028 143.677 811.028 Q141.501 811.028 139.232 810.657 Q136.987 810.287 134.58 809.546 L134.58 804.847 Q136.663 805.982 138.885 806.537 Q141.107 807.093 143.584 807.093 Q147.589 807.093 149.927 804.986 Q152.265 802.88 152.265 799.269 Q152.265 795.658 149.927 793.551 Q147.589 791.445 143.584 791.445 Q141.709 791.445 139.834 791.861 Q137.982 792.278 136.038 793.158 L136.038 775.796 Z\" fill=\"#000000\" fill-rule=\"evenodd\" fill-opacity=\"1\" /><path clip-path=\"url(#clip880)\" d=\"M176.153 778.875 Q172.542 778.875 170.714 782.44 Q168.908 785.982 168.908 793.111 Q168.908 800.218 170.714 803.782 Q172.542 807.324 176.153 807.324 Q179.788 807.324 181.593 803.782 Q183.422 800.218 183.422 793.111 Q183.422 785.982 181.593 782.44 Q179.788 778.875 176.153 778.875 M176.153 775.172 Q181.964 775.172 185.019 779.778 Q188.098 784.361 188.098 793.111 Q188.098 801.838 185.019 806.444 Q181.964 811.028 176.153 811.028 Q170.343 811.028 167.265 806.444 Q164.209 801.838 164.209 793.111 Q164.209 784.361 167.265 779.778 Q170.343 775.172 176.153 775.172 Z\" fill=\"#000000\" fill-rule=\"evenodd\" fill-opacity=\"1\" /><path clip-path=\"url(#clip880)\" d=\"M51.9875 650.383 L81.6633 650.383 L81.6633 654.318 L51.9875 654.318 L51.9875 650.383 Z\" fill=\"#000000\" fill-rule=\"evenodd\" fill-opacity=\"1\" /><path clip-path=\"url(#clip880)\" d=\"M101.756 635.73 Q98.1447 635.73 96.316 639.295 Q94.5104 642.837 94.5104 649.966 Q94.5104 657.073 96.316 660.638 Q98.1447 664.179 101.756 664.179 Q105.39 664.179 107.196 660.638 Q109.024 657.073 109.024 649.966 Q109.024 642.837 107.196 639.295 Q105.39 635.73 101.756 635.73 M101.756 632.027 Q107.566 632.027 110.621 636.633 Q113.7 641.216 113.7 649.966 Q113.7 658.693 110.621 663.3 Q107.566 667.883 101.756 667.883 Q95.9456 667.883 92.8669 663.3 Q89.8114 658.693 89.8114 649.966 Q89.8114 641.216 92.8669 636.633 Q95.9456 632.027 101.756 632.027 Z\" fill=\"#000000\" fill-rule=\"evenodd\" fill-opacity=\"1\" /><path clip-path=\"url(#clip880)\" d=\"M121.918 661.332 L126.802 661.332 L126.802 667.212 L121.918 667.212 L121.918 661.332 Z\" fill=\"#000000\" fill-rule=\"evenodd\" fill-opacity=\"1\" /><path clip-path=\"url(#clip880)\" d=\"M141.015 663.276 L157.334 663.276 L157.334 667.212 L135.39 667.212 L135.39 663.276 Q138.052 660.522 142.635 655.892 Q147.242 651.239 148.422 649.897 Q150.668 647.374 151.547 645.638 Q152.45 643.878 152.45 642.189 Q152.45 639.434 150.505 637.698 Q148.584 635.962 145.482 635.962 Q143.283 635.962 140.83 636.726 Q138.399 637.489 135.621 639.04 L135.621 634.318 Q138.445 633.184 140.899 632.605 Q143.353 632.027 145.39 632.027 Q150.76 632.027 153.955 634.712 Q157.149 637.397 157.149 641.888 Q157.149 644.017 156.339 645.939 Q155.552 647.837 153.445 650.429 Q152.867 651.101 149.765 654.318 Q146.663 657.513 141.015 663.276 Z\" fill=\"#000000\" fill-rule=\"evenodd\" fill-opacity=\"1\" /><path clip-path=\"url(#clip880)\" d=\"M167.195 632.652 L185.552 632.652 L185.552 636.587 L171.478 636.587 L171.478 645.059 Q172.496 644.712 173.515 644.55 Q174.533 644.364 175.552 644.364 Q181.339 644.364 184.718 647.536 Q188.098 650.707 188.098 656.124 Q188.098 661.702 184.626 664.804 Q181.153 667.883 174.834 667.883 Q172.658 667.883 170.39 667.512 Q168.144 667.142 165.737 666.401 L165.737 661.702 Q167.82 662.837 170.042 663.392 Q172.265 663.948 174.741 663.948 Q178.746 663.948 181.084 661.841 Q183.422 659.735 183.422 656.124 Q183.422 652.513 181.084 650.406 Q178.746 648.3 174.741 648.3 Q172.866 648.3 170.991 648.716 Q169.14 649.133 167.195 650.013 L167.195 632.652 Z\" fill=\"#000000\" fill-rule=\"evenodd\" fill-opacity=\"1\" /><path clip-path=\"url(#clip880)\" d=\"M100.76 492.585 Q97.1493 492.585 95.3206 496.15 Q93.515 499.692 93.515 506.821 Q93.515 513.928 95.3206 517.493 Q97.1493 521.034 100.76 521.034 Q104.395 521.034 106.2 517.493 Q108.029 513.928 108.029 506.821 Q108.029 499.692 106.2 496.15 Q104.395 492.585 100.76 492.585 M100.76 488.882 Q106.571 488.882 109.626 493.488 Q112.705 498.071 112.705 506.821 Q112.705 515.548 109.626 520.155 Q106.571 524.738 100.76 524.738 Q94.9502 524.738 91.8715 520.155 Q88.816 515.548 88.816 506.821 Q88.816 498.071 91.8715 493.488 Q94.9502 488.882 100.76 488.882 Z\" fill=\"#000000\" fill-rule=\"evenodd\" fill-opacity=\"1\" /><path clip-path=\"url(#clip880)\" d=\"M120.922 518.187 L125.807 518.187 L125.807 524.067 L120.922 524.067 L120.922 518.187 Z\" fill=\"#000000\" fill-rule=\"evenodd\" fill-opacity=\"1\" /><path clip-path=\"url(#clip880)\" d=\"M145.992 492.585 Q142.381 492.585 140.552 496.15 Q138.746 499.692 138.746 506.821 Q138.746 513.928 140.552 517.493 Q142.381 521.034 145.992 521.034 Q149.626 521.034 151.431 517.493 Q153.26 513.928 153.26 506.821 Q153.26 499.692 151.431 496.15 Q149.626 492.585 145.992 492.585 M145.992 488.882 Q151.802 488.882 154.857 493.488 Q157.936 498.071 157.936 506.821 Q157.936 515.548 154.857 520.155 Q151.802 524.738 145.992 524.738 Q140.181 524.738 137.103 520.155 Q134.047 515.548 134.047 506.821 Q134.047 498.071 137.103 493.488 Q140.181 488.882 145.992 488.882 Z\" fill=\"#000000\" fill-rule=\"evenodd\" fill-opacity=\"1\" /><path clip-path=\"url(#clip880)\" d=\"M176.153 492.585 Q172.542 492.585 170.714 496.15 Q168.908 499.692 168.908 506.821 Q168.908 513.928 170.714 517.493 Q172.542 521.034 176.153 521.034 Q179.788 521.034 181.593 517.493 Q183.422 513.928 183.422 506.821 Q183.422 499.692 181.593 496.15 Q179.788 492.585 176.153 492.585 M176.153 488.882 Q181.964 488.882 185.019 493.488 Q188.098 498.071 188.098 506.821 Q188.098 515.548 185.019 520.155 Q181.964 524.738 176.153 524.738 Q170.343 524.738 167.265 520.155 Q164.209 515.548 164.209 506.821 Q164.209 498.071 167.265 493.488 Q170.343 488.882 176.153 488.882 Z\" fill=\"#000000\" fill-rule=\"evenodd\" fill-opacity=\"1\" /><path clip-path=\"url(#clip880)\" d=\"M101.756 349.44 Q98.1447 349.44 96.316 353.005 Q94.5104 356.547 94.5104 363.676 Q94.5104 370.783 96.316 374.348 Q98.1447 377.889 101.756 377.889 Q105.39 377.889 107.196 374.348 Q109.024 370.783 109.024 363.676 Q109.024 356.547 107.196 353.005 Q105.39 349.44 101.756 349.44 M101.756 345.737 Q107.566 345.737 110.621 350.343 Q113.7 354.926 113.7 363.676 Q113.7 372.403 110.621 377.01 Q107.566 381.593 101.756 381.593 Q95.9456 381.593 92.8669 377.01 Q89.8114 372.403 89.8114 363.676 Q89.8114 354.926 92.8669 350.343 Q95.9456 345.737 101.756 345.737 Z\" fill=\"#000000\" fill-rule=\"evenodd\" fill-opacity=\"1\" /><path clip-path=\"url(#clip880)\" d=\"M121.918 375.042 L126.802 375.042 L126.802 380.922 L121.918 380.922 L121.918 375.042 Z\" fill=\"#000000\" fill-rule=\"evenodd\" fill-opacity=\"1\" /><path clip-path=\"url(#clip880)\" d=\"M141.015 376.986 L157.334 376.986 L157.334 380.922 L135.39 380.922 L135.39 376.986 Q138.052 374.232 142.635 369.602 Q147.242 364.95 148.422 363.607 Q150.668 361.084 151.547 359.348 Q152.45 357.588 152.45 355.899 Q152.45 353.144 150.505 351.408 Q148.584 349.672 145.482 349.672 Q143.283 349.672 140.83 350.436 Q138.399 351.2 135.621 352.75 L135.621 348.028 Q138.445 346.894 140.899 346.315 Q143.353 345.737 145.39 345.737 Q150.76 345.737 153.955 348.422 Q157.149 351.107 157.149 355.598 Q157.149 357.727 156.339 359.649 Q155.552 361.547 153.445 364.139 Q152.867 364.811 149.765 368.028 Q146.663 371.223 141.015 376.986 Z\" fill=\"#000000\" fill-rule=\"evenodd\" fill-opacity=\"1\" /><path clip-path=\"url(#clip880)\" d=\"M167.195 346.362 L185.552 346.362 L185.552 350.297 L171.478 350.297 L171.478 358.769 Q172.496 358.422 173.515 358.26 Q174.533 358.075 175.552 358.075 Q181.339 358.075 184.718 361.246 Q188.098 364.417 188.098 369.834 Q188.098 375.412 184.626 378.514 Q181.153 381.593 174.834 381.593 Q172.658 381.593 170.39 381.223 Q168.144 380.852 165.737 380.111 L165.737 375.412 Q167.82 376.547 170.042 377.102 Q172.265 377.658 174.741 377.658 Q178.746 377.658 181.084 375.551 Q183.422 373.445 183.422 369.834 Q183.422 366.223 181.084 364.116 Q178.746 362.01 174.741 362.01 Q172.866 362.01 170.991 362.426 Q169.14 362.843 167.195 363.723 L167.195 346.362 Z\" fill=\"#000000\" fill-rule=\"evenodd\" fill-opacity=\"1\" /><path clip-path=\"url(#clip880)\" d=\"M100.76 206.295 Q97.1493 206.295 95.3206 209.86 Q93.515 213.402 93.515 220.531 Q93.515 227.638 95.3206 231.203 Q97.1493 234.744 100.76 234.744 Q104.395 234.744 106.2 231.203 Q108.029 227.638 108.029 220.531 Q108.029 213.402 106.2 209.86 Q104.395 206.295 100.76 206.295 M100.76 202.592 Q106.571 202.592 109.626 207.198 Q112.705 211.781 112.705 220.531 Q112.705 229.258 109.626 233.865 Q106.571 238.448 100.76 238.448 Q94.9502 238.448 91.8715 233.865 Q88.816 229.258 88.816 220.531 Q88.816 211.781 91.8715 207.198 Q94.9502 202.592 100.76 202.592 Z\" fill=\"#000000\" fill-rule=\"evenodd\" fill-opacity=\"1\" /><path clip-path=\"url(#clip880)\" d=\"M120.922 231.897 L125.807 231.897 L125.807 237.777 L120.922 237.777 L120.922 231.897 Z\" fill=\"#000000\" fill-rule=\"evenodd\" fill-opacity=\"1\" /><path clip-path=\"url(#clip880)\" d=\"M136.038 203.217 L154.394 203.217 L154.394 207.152 L140.32 207.152 L140.32 215.624 Q141.339 215.277 142.357 215.115 Q143.376 214.93 144.394 214.93 Q150.181 214.93 153.561 218.101 Q156.941 221.272 156.941 226.689 Q156.941 232.267 153.468 235.369 Q149.996 238.448 143.677 238.448 Q141.501 238.448 139.232 238.078 Q136.987 237.707 134.58 236.967 L134.58 232.267 Q136.663 233.402 138.885 233.957 Q141.107 234.513 143.584 234.513 Q147.589 234.513 149.927 232.406 Q152.265 230.3 152.265 226.689 Q152.265 223.078 149.927 220.971 Q147.589 218.865 143.584 218.865 Q141.709 218.865 139.834 219.281 Q137.982 219.698 136.038 220.578 L136.038 203.217 Z\" fill=\"#000000\" fill-rule=\"evenodd\" fill-opacity=\"1\" /><path clip-path=\"url(#clip880)\" d=\"M176.153 206.295 Q172.542 206.295 170.714 209.86 Q168.908 213.402 168.908 220.531 Q168.908 227.638 170.714 231.203 Q172.542 234.744 176.153 234.744 Q179.788 234.744 181.593 231.203 Q183.422 227.638 183.422 220.531 Q183.422 213.402 181.593 209.86 Q179.788 206.295 176.153 206.295 M176.153 202.592 Q181.964 202.592 185.019 207.198 Q188.098 211.781 188.098 220.531 Q188.098 229.258 185.019 233.865 Q181.964 238.448 176.153 238.448 Q170.343 238.448 167.265 233.865 Q164.209 229.258 164.209 220.531 Q164.209 211.781 167.265 207.198 Q170.343 202.592 176.153 202.592 Z\" fill=\"#000000\" fill-rule=\"evenodd\" fill-opacity=\"1\" /><path clip-path=\"url(#clip880)\" d=\"M101.756 63.1504 Q98.1447 63.1504 96.316 66.7152 Q94.5104 70.2569 94.5104 77.3865 Q94.5104 84.4929 96.316 88.0577 Q98.1447 91.5993 101.756 91.5993 Q105.39 91.5993 107.196 88.0577 Q109.024 84.4929 109.024 77.3865 Q109.024 70.2569 107.196 66.7152 Q105.39 63.1504 101.756 63.1504 M101.756 59.4467 Q107.566 59.4467 110.621 64.0532 Q113.7 68.6365 113.7 77.3865 Q113.7 86.1133 110.621 90.7197 Q107.566 95.303 101.756 95.303 Q95.9456 95.303 92.8669 90.7197 Q89.8114 86.1133 89.8114 77.3865 Q89.8114 68.6365 92.8669 64.0532 Q95.9456 59.4467 101.756 59.4467 Z\" fill=\"#000000\" fill-rule=\"evenodd\" fill-opacity=\"1\" /><path clip-path=\"url(#clip880)\" d=\"M121.918 88.7521 L126.802 88.7521 L126.802 94.6317 L121.918 94.6317 L121.918 88.7521 Z\" fill=\"#000000\" fill-rule=\"evenodd\" fill-opacity=\"1\" /><path clip-path=\"url(#clip880)\" d=\"M135.806 60.0717 L158.029 60.0717 L158.029 62.0625 L145.482 94.6317 L140.598 94.6317 L152.404 64.0069 L135.806 64.0069 L135.806 60.0717 Z\" fill=\"#000000\" fill-rule=\"evenodd\" fill-opacity=\"1\" /><path clip-path=\"url(#clip880)\" d=\"M167.195 60.0717 L185.552 60.0717 L185.552 64.0069 L171.478 64.0069 L171.478 72.4791 Q172.496 72.1319 173.515 71.9698 Q174.533 71.7846 175.552 71.7846 Q181.339 71.7846 184.718 74.9559 Q188.098 78.1272 188.098 83.5438 Q188.098 89.1225 184.626 92.2243 Q181.153 95.303 174.834 95.303 Q172.658 95.303 170.39 94.9327 Q168.144 94.5623 165.737 93.8216 L165.737 89.1225 Q167.82 90.2568 170.042 90.8123 Q172.265 91.3679 174.741 91.3679 Q178.746 91.3679 181.084 89.2614 Q183.422 87.1549 183.422 83.5438 Q183.422 79.9327 181.084 77.8263 Q178.746 75.7198 174.741 75.7198 Q172.866 75.7198 170.991 76.1365 Q169.14 76.5531 167.195 77.4328 L167.195 60.0717 Z\" fill=\"#000000\" fill-rule=\"evenodd\" fill-opacity=\"1\" /><circle clip-path=\"url(#clip882)\" cx=\"491.107\" cy=\"631.19\" r=\"14.4\" fill=\"#cd5c5c\" fill-rule=\"evenodd\" fill-opacity=\"1\" stroke=\"#000000\" stroke-opacity=\"1\" stroke-width=\"2.4\"/>\n",
       "<circle clip-path=\"url(#clip882)\" cx=\"319.94\" cy=\"923.248\" r=\"14.4\" fill=\"#cd5c5c\" fill-rule=\"evenodd\" fill-opacity=\"1\" stroke=\"#000000\" stroke-opacity=\"1\" stroke-width=\"2.4\"/>\n",
       "<circle clip-path=\"url(#clip882)\" cx=\"408.203\" cy=\"967.343\" r=\"14.4\" fill=\"#cd5c5c\" fill-rule=\"evenodd\" fill-opacity=\"1\" stroke=\"#000000\" stroke-opacity=\"1\" stroke-width=\"2.4\"/>\n",
       "<circle clip-path=\"url(#clip882)\" cx=\"502.154\" cy=\"1000.66\" r=\"14.4\" fill=\"#cd5c5c\" fill-rule=\"evenodd\" fill-opacity=\"1\" stroke=\"#000000\" stroke-opacity=\"1\" stroke-width=\"2.4\"/>\n",
       "<circle clip-path=\"url(#clip882)\" cx=\"888.524\" cy=\"340.036\" r=\"14.4\" fill=\"#cd5c5c\" fill-rule=\"evenodd\" fill-opacity=\"1\" stroke=\"#000000\" stroke-opacity=\"1\" stroke-width=\"2.4\"/>\n",
       "<circle clip-path=\"url(#clip882)\" cx=\"250.381\" cy=\"675.884\" r=\"14.4\" fill=\"#cd5c5c\" fill-rule=\"evenodd\" fill-opacity=\"1\" stroke=\"#000000\" stroke-opacity=\"1\" stroke-width=\"2.4\"/>\n",
       "<circle clip-path=\"url(#clip882)\" cx=\"541.998\" cy=\"929.483\" r=\"14.4\" fill=\"#cd5c5c\" fill-rule=\"evenodd\" fill-opacity=\"1\" stroke=\"#000000\" stroke-opacity=\"1\" stroke-width=\"2.4\"/>\n",
       "<circle clip-path=\"url(#clip882)\" cx=\"650.66\" cy=\"589.776\" r=\"14.4\" fill=\"#cd5c5c\" fill-rule=\"evenodd\" fill-opacity=\"1\" stroke=\"#000000\" stroke-opacity=\"1\" stroke-width=\"2.4\"/>\n",
       "<circle clip-path=\"url(#clip882)\" cx=\"424.715\" cy=\"690.28\" r=\"14.4\" fill=\"#cd5c5c\" fill-rule=\"evenodd\" fill-opacity=\"1\" stroke=\"#000000\" stroke-opacity=\"1\" stroke-width=\"2.4\"/>\n",
       "<circle clip-path=\"url(#clip882)\" cx=\"899.652\" cy=\"75.5589\" r=\"14.4\" fill=\"#cd5c5c\" fill-rule=\"evenodd\" fill-opacity=\"1\" stroke=\"#000000\" stroke-opacity=\"1\" stroke-width=\"2.4\"/>\n",
       "<circle clip-path=\"url(#clip882)\" cx=\"553.925\" cy=\"685.136\" r=\"14.4\" fill=\"#cd5c5c\" fill-rule=\"evenodd\" fill-opacity=\"1\" stroke=\"#000000\" stroke-opacity=\"1\" stroke-width=\"2.4\"/>\n",
       "<circle clip-path=\"url(#clip882)\" cx=\"454.682\" cy=\"828.306\" r=\"14.4\" fill=\"#cd5c5c\" fill-rule=\"evenodd\" fill-opacity=\"1\" stroke=\"#000000\" stroke-opacity=\"1\" stroke-width=\"2.4\"/>\n",
       "<circle clip-path=\"url(#clip882)\" cx=\"487.025\" cy=\"507.201\" r=\"14.4\" fill=\"#cd5c5c\" fill-rule=\"evenodd\" fill-opacity=\"1\" stroke=\"#000000\" stroke-opacity=\"1\" stroke-width=\"2.4\"/>\n",
       "<circle clip-path=\"url(#clip882)\" cx=\"773.778\" cy=\"455.059\" r=\"14.4\" fill=\"#cd5c5c\" fill-rule=\"evenodd\" fill-opacity=\"1\" stroke=\"#000000\" stroke-opacity=\"1\" stroke-width=\"2.4\"/>\n",
       "<circle clip-path=\"url(#clip882)\" cx=\"981.007\" cy=\"415.862\" r=\"14.4\" fill=\"#cd5c5c\" fill-rule=\"evenodd\" fill-opacity=\"1\" stroke=\"#000000\" stroke-opacity=\"1\" stroke-width=\"2.4\"/>\n",
       "<circle clip-path=\"url(#clip882)\" cx=\"331.667\" cy=\"800.875\" r=\"14.4\" fill=\"#cd5c5c\" fill-rule=\"evenodd\" fill-opacity=\"1\" stroke=\"#000000\" stroke-opacity=\"1\" stroke-width=\"2.4\"/>\n",
       "<circle clip-path=\"url(#clip882)\" cx=\"306.282\" cy=\"945.156\" r=\"14.4\" fill=\"#cd5c5c\" fill-rule=\"evenodd\" fill-opacity=\"1\" stroke=\"#000000\" stroke-opacity=\"1\" stroke-width=\"2.4\"/>\n",
       "<circle clip-path=\"url(#clip882)\" cx=\"745.793\" cy=\"591.135\" r=\"14.4\" fill=\"#cd5c5c\" fill-rule=\"evenodd\" fill-opacity=\"1\" stroke=\"#000000\" stroke-opacity=\"1\" stroke-width=\"2.4\"/>\n",
       "<circle clip-path=\"url(#clip882)\" cx=\"564.569\" cy=\"756.783\" r=\"14.4\" fill=\"#cd5c5c\" fill-rule=\"evenodd\" fill-opacity=\"1\" stroke=\"#000000\" stroke-opacity=\"1\" stroke-width=\"2.4\"/>\n",
       "<circle clip-path=\"url(#clip882)\" cx=\"486.58\" cy=\"628.947\" r=\"14.4\" fill=\"#cd5c5c\" fill-rule=\"evenodd\" fill-opacity=\"1\" stroke=\"#000000\" stroke-opacity=\"1\" stroke-width=\"2.4\"/>\n",
       "<circle clip-path=\"url(#clip882)\" cx=\"804.276\" cy=\"332.876\" r=\"14.4\" fill=\"#cd5c5c\" fill-rule=\"evenodd\" fill-opacity=\"1\" stroke=\"#000000\" stroke-opacity=\"1\" stroke-width=\"2.4\"/>\n",
       "<circle clip-path=\"url(#clip882)\" cx=\"361.77\" cy=\"667.184\" r=\"14.4\" fill=\"#cd5c5c\" fill-rule=\"evenodd\" fill-opacity=\"1\" stroke=\"#000000\" stroke-opacity=\"1\" stroke-width=\"2.4\"/>\n",
       "<circle clip-path=\"url(#clip882)\" cx=\"359.645\" cy=\"1019.39\" r=\"14.4\" fill=\"#cd5c5c\" fill-rule=\"evenodd\" fill-opacity=\"1\" stroke=\"#000000\" stroke-opacity=\"1\" stroke-width=\"2.4\"/>\n",
       "<circle clip-path=\"url(#clip882)\" cx=\"901.586\" cy=\"340.062\" r=\"14.4\" fill=\"#cd5c5c\" fill-rule=\"evenodd\" fill-opacity=\"1\" stroke=\"#000000\" stroke-opacity=\"1\" stroke-width=\"2.4\"/>\n",
       "<circle clip-path=\"url(#clip882)\" cx=\"562.158\" cy=\"633.866\" r=\"14.4\" fill=\"#cd5c5c\" fill-rule=\"evenodd\" fill-opacity=\"1\" stroke=\"#000000\" stroke-opacity=\"1\" stroke-width=\"2.4\"/>\n",
       "<circle clip-path=\"url(#clip882)\" cx=\"355.431\" cy=\"934.989\" r=\"14.4\" fill=\"#cd5c5c\" fill-rule=\"evenodd\" fill-opacity=\"1\" stroke=\"#000000\" stroke-opacity=\"1\" stroke-width=\"2.4\"/>\n",
       "<circle clip-path=\"url(#clip882)\" cx=\"832.329\" cy=\"158.716\" r=\"14.4\" fill=\"#4682b4\" fill-rule=\"evenodd\" fill-opacity=\"1\" stroke=\"#000000\" stroke-opacity=\"1\" stroke-width=\"2.4\"/>\n",
       "<circle clip-path=\"url(#clip882)\" cx=\"916.808\" cy=\"437.129\" r=\"14.4\" fill=\"#4682b4\" fill-rule=\"evenodd\" fill-opacity=\"1\" stroke=\"#000000\" stroke-opacity=\"1\" stroke-width=\"2.4\"/>\n",
       "<circle clip-path=\"url(#clip882)\" cx=\"818.846\" cy=\"319.181\" r=\"14.4\" fill=\"#4682b4\" fill-rule=\"evenodd\" fill-opacity=\"1\" stroke=\"#000000\" stroke-opacity=\"1\" stroke-width=\"2.4\"/>\n",
       "<circle clip-path=\"url(#clip882)\" cx=\"832.127\" cy=\"240.353\" r=\"14.4\" fill=\"#4682b4\" fill-rule=\"evenodd\" fill-opacity=\"1\" stroke=\"#000000\" stroke-opacity=\"1\" stroke-width=\"2.4\"/>\n",
       "<circle clip-path=\"url(#clip882)\" cx=\"892.063\" cy=\"306.665\" r=\"14.4\" fill=\"#4682b4\" fill-rule=\"evenodd\" fill-opacity=\"1\" stroke=\"#000000\" stroke-opacity=\"1\" stroke-width=\"2.4\"/>\n",
       "<circle clip-path=\"url(#clip882)\" cx=\"995.906\" cy=\"338.552\" r=\"14.4\" fill=\"#4682b4\" fill-rule=\"evenodd\" fill-opacity=\"1\" stroke=\"#000000\" stroke-opacity=\"1\" stroke-width=\"2.4\"/>\n",
       "<circle clip-path=\"url(#clip882)\" cx=\"1089.65\" cy=\"147.014\" r=\"14.4\" fill=\"#4682b4\" fill-rule=\"evenodd\" fill-opacity=\"1\" stroke=\"#000000\" stroke-opacity=\"1\" stroke-width=\"2.4\"/>\n",
       "<circle clip-path=\"url(#clip882)\" cx=\"733.104\" cy=\"180.171\" r=\"14.4\" fill=\"#4682b4\" fill-rule=\"evenodd\" fill-opacity=\"1\" stroke=\"#000000\" stroke-opacity=\"1\" stroke-width=\"2.4\"/>\n",
       "<circle clip-path=\"url(#clip882)\" cx=\"793.477\" cy=\"893.387\" r=\"14.4\" fill=\"#4682b4\" fill-rule=\"evenodd\" fill-opacity=\"1\" stroke=\"#000000\" stroke-opacity=\"1\" stroke-width=\"2.4\"/>\n",
       "<circle clip-path=\"url(#clip882)\" cx=\"965.335\" cy=\"283.796\" r=\"14.4\" fill=\"#4682b4\" fill-rule=\"evenodd\" fill-opacity=\"1\" stroke=\"#000000\" stroke-opacity=\"1\" stroke-width=\"2.4\"/>\n",
       "<circle clip-path=\"url(#clip882)\" cx=\"742.177\" cy=\"278.069\" r=\"14.4\" fill=\"#4682b4\" fill-rule=\"evenodd\" fill-opacity=\"1\" stroke=\"#000000\" stroke-opacity=\"1\" stroke-width=\"2.4\"/>\n",
       "<circle clip-path=\"url(#clip882)\" cx=\"907.72\" cy=\"737.376\" r=\"14.4\" fill=\"#4682b4\" fill-rule=\"evenodd\" fill-opacity=\"1\" stroke=\"#000000\" stroke-opacity=\"1\" stroke-width=\"2.4\"/>\n",
       "<circle clip-path=\"url(#clip882)\" cx=\"1106.22\" cy=\"429.011\" r=\"14.4\" fill=\"#4682b4\" fill-rule=\"evenodd\" fill-opacity=\"1\" stroke=\"#000000\" stroke-opacity=\"1\" stroke-width=\"2.4\"/>\n",
       "<circle clip-path=\"url(#clip882)\" cx=\"987.293\" cy=\"242.037\" r=\"14.4\" fill=\"#4682b4\" fill-rule=\"evenodd\" fill-opacity=\"1\" stroke=\"#000000\" stroke-opacity=\"1\" stroke-width=\"2.4\"/>\n",
       "<circle clip-path=\"url(#clip882)\" cx=\"782.735\" cy=\"380.038\" r=\"14.4\" fill=\"#4682b4\" fill-rule=\"evenodd\" fill-opacity=\"1\" stroke=\"#000000\" stroke-opacity=\"1\" stroke-width=\"2.4\"/>\n",
       "<circle clip-path=\"url(#clip882)\" cx=\"758.87\" cy=\"210.051\" r=\"14.4\" fill=\"#4682b4\" fill-rule=\"evenodd\" fill-opacity=\"1\" stroke=\"#000000\" stroke-opacity=\"1\" stroke-width=\"2.4\"/>\n",
       "<circle clip-path=\"url(#clip882)\" cx=\"766.249\" cy=\"330.921\" r=\"14.4\" fill=\"#4682b4\" fill-rule=\"evenodd\" fill-opacity=\"1\" stroke=\"#000000\" stroke-opacity=\"1\" stroke-width=\"2.4\"/>\n",
       "<circle clip-path=\"url(#clip882)\" cx=\"812.961\" cy=\"222.235\" r=\"14.4\" fill=\"#4682b4\" fill-rule=\"evenodd\" fill-opacity=\"1\" stroke=\"#000000\" stroke-opacity=\"1\" stroke-width=\"2.4\"/>\n",
       "<circle clip-path=\"url(#clip882)\" cx=\"775.244\" cy=\"256.545\" r=\"14.4\" fill=\"#4682b4\" fill-rule=\"evenodd\" fill-opacity=\"1\" stroke=\"#000000\" stroke-opacity=\"1\" stroke-width=\"2.4\"/>\n",
       "<circle clip-path=\"url(#clip882)\" cx=\"1126.47\" cy=\"399.83\" r=\"14.4\" fill=\"#4682b4\" fill-rule=\"evenodd\" fill-opacity=\"1\" stroke=\"#000000\" stroke-opacity=\"1\" stroke-width=\"2.4\"/>\n",
       "<circle clip-path=\"url(#clip882)\" cx=\"883.601\" cy=\"95.4525\" r=\"14.4\" fill=\"#4682b4\" fill-rule=\"evenodd\" fill-opacity=\"1\" stroke=\"#000000\" stroke-opacity=\"1\" stroke-width=\"2.4\"/>\n",
       "<circle clip-path=\"url(#clip882)\" cx=\"934.995\" cy=\"346.233\" r=\"14.4\" fill=\"#4682b4\" fill-rule=\"evenodd\" fill-opacity=\"1\" stroke=\"#000000\" stroke-opacity=\"1\" stroke-width=\"2.4\"/>\n",
       "<circle clip-path=\"url(#clip882)\" cx=\"881.147\" cy=\"279.112\" r=\"14.4\" fill=\"#4682b4\" fill-rule=\"evenodd\" fill-opacity=\"1\" stroke=\"#000000\" stroke-opacity=\"1\" stroke-width=\"2.4\"/>\n",
       "<circle clip-path=\"url(#clip882)\" cx=\"1119.25\" cy=\"461.178\" r=\"14.4\" fill=\"#4682b4\" fill-rule=\"evenodd\" fill-opacity=\"1\" stroke=\"#000000\" stroke-opacity=\"1\" stroke-width=\"2.4\"/>\n",
       "<path clip-path=\"url(#clip880)\" d=\"\n",
       "M864.682 236.113 L1121.8 236.113 L1121.8 80.5926 L864.682 80.5926  Z\n",
       "  \" fill=\"#ffffff\" fill-rule=\"evenodd\" fill-opacity=\"1\"/>\n",
       "<polyline clip-path=\"url(#clip880)\" style=\"stroke:#000000; stroke-linecap:round; stroke-linejoin:round; stroke-width:4; stroke-opacity:1; fill:none\" points=\"\n",
       "  864.682,236.113 1121.8,236.113 1121.8,80.5926 864.682,80.5926 864.682,236.113 \n",
       "  \"/>\n",
       "<circle clip-path=\"url(#clip880)\" cx=\"905.956\" cy=\"132.433\" r=\"23.04\" fill=\"#cd5c5c\" fill-rule=\"evenodd\" fill-opacity=\"1\" stroke=\"#000000\" stroke-opacity=\"1\" stroke-width=\"3.84\"/>\n",
       "<path clip-path=\"url(#clip880)\" d=\"M975.1 117.815 L975.1 122.745 Q972.739 120.546 970.053 119.458 Q967.391 118.37 964.382 118.37 Q958.456 118.37 955.308 122.004 Q952.16 125.616 952.16 132.467 Q952.16 139.296 955.308 142.93 Q958.456 146.541 964.382 146.541 Q967.391 146.541 970.053 145.453 Q972.739 144.365 975.1 142.166 L975.1 147.051 Q972.646 148.717 969.891 149.551 Q967.16 150.384 964.104 150.384 Q956.257 150.384 951.743 145.592 Q947.229 140.777 947.229 132.467 Q947.229 124.134 951.743 119.342 Q956.257 114.528 964.104 114.528 Q967.206 114.528 969.938 115.361 Q972.692 116.171 975.1 117.815 Z\" fill=\"#000000\" fill-rule=\"evenodd\" fill-opacity=\"1\" /><path clip-path=\"url(#clip880)\" d=\"M992.183 126.773 Q988.757 126.773 986.766 129.458 Q984.776 132.12 984.776 136.773 Q984.776 141.426 986.743 144.111 Q988.734 146.773 992.183 146.773 Q995.586 146.773 997.576 144.088 Q999.567 141.402 999.567 136.773 Q999.567 132.166 997.576 129.481 Q995.586 126.773 992.183 126.773 M992.183 123.162 Q997.738 123.162 1000.91 126.773 Q1004.08 130.384 1004.08 136.773 Q1004.08 143.139 1000.91 146.773 Q997.738 150.384 992.183 150.384 Q986.604 150.384 983.433 146.773 Q980.285 143.139 980.285 136.773 Q980.285 130.384 983.433 126.773 Q986.604 123.162 992.183 123.162 Z\" fill=\"#000000\" fill-rule=\"evenodd\" fill-opacity=\"1\" /><path clip-path=\"url(#clip880)\" d=\"M1022.92 136.68 Q1017.76 136.68 1015.77 137.861 Q1013.78 139.041 1013.78 141.889 Q1013.78 144.157 1015.26 145.5 Q1016.77 146.819 1019.34 146.819 Q1022.88 146.819 1025.01 144.319 Q1027.16 141.796 1027.16 137.629 L1027.16 136.68 L1022.92 136.68 M1031.42 134.921 L1031.42 149.713 L1027.16 149.713 L1027.16 145.777 Q1025.7 148.139 1023.53 149.273 Q1021.35 150.384 1018.2 150.384 Q1014.22 150.384 1011.86 148.162 Q1009.52 145.916 1009.52 142.166 Q1009.52 137.791 1012.44 135.569 Q1015.38 133.347 1021.19 133.347 L1027.16 133.347 L1027.16 132.93 Q1027.16 129.991 1025.22 128.393 Q1023.29 126.773 1019.8 126.773 Q1017.58 126.773 1015.47 127.305 Q1013.36 127.838 1011.42 128.903 L1011.42 124.967 Q1013.76 124.065 1015.96 123.625 Q1018.15 123.162 1020.24 123.162 Q1025.86 123.162 1028.64 126.078 Q1031.42 128.995 1031.42 134.921 Z\" fill=\"#000000\" fill-rule=\"evenodd\" fill-opacity=\"1\" /><path clip-path=\"url(#clip880)\" d=\"M1044.4 116.426 L1044.4 123.787 L1053.18 123.787 L1053.18 127.097 L1044.4 127.097 L1044.4 141.171 Q1044.4 144.342 1045.26 145.245 Q1046.14 146.148 1048.8 146.148 L1053.18 146.148 L1053.18 149.713 L1048.8 149.713 Q1043.87 149.713 1042 147.884 Q1040.12 146.032 1040.12 141.171 L1040.12 127.097 L1037 127.097 L1037 123.787 L1040.12 123.787 L1040.12 116.426 L1044.4 116.426 Z\" fill=\"#000000\" fill-rule=\"evenodd\" fill-opacity=\"1\" /><circle clip-path=\"url(#clip880)\" cx=\"905.956\" cy=\"184.273\" r=\"23.04\" fill=\"#4682b4\" fill-rule=\"evenodd\" fill-opacity=\"1\" stroke=\"#000000\" stroke-opacity=\"1\" stroke-width=\"3.84\"/>\n",
       "<path clip-path=\"url(#clip880)\" d=\"M969.475 168.127 L969.475 172.687 Q966.813 171.414 964.452 170.789 Q962.09 170.164 959.891 170.164 Q956.072 170.164 953.989 171.645 Q951.928 173.127 951.928 175.858 Q951.928 178.15 953.294 179.331 Q954.683 180.488 958.526 181.206 L961.35 181.784 Q966.581 182.78 969.058 185.303 Q971.558 187.803 971.558 192.016 Q971.558 197.039 968.178 199.631 Q964.822 202.224 958.317 202.224 Q955.864 202.224 953.086 201.668 Q950.331 201.113 947.368 200.025 L947.368 195.21 Q950.216 196.807 952.947 197.617 Q955.678 198.428 958.317 198.428 Q962.322 198.428 964.498 196.854 Q966.674 195.28 966.674 192.363 Q966.674 189.817 965.1 188.381 Q963.549 186.946 959.984 186.229 L957.137 185.673 Q951.905 184.631 949.567 182.409 Q947.229 180.187 947.229 176.229 Q947.229 171.645 950.447 169.006 Q953.688 166.368 959.359 166.368 Q961.79 166.368 964.313 166.807 Q966.836 167.247 969.475 168.127 Z\" fill=\"#000000\" fill-rule=\"evenodd\" fill-opacity=\"1\" /><path clip-path=\"url(#clip880)\" d=\"M990.447 188.52 Q985.285 188.52 983.294 189.701 Q981.303 190.881 981.303 193.729 Q981.303 195.997 982.785 197.34 Q984.289 198.659 986.859 198.659 Q990.4 198.659 992.53 196.159 Q994.683 193.636 994.683 189.469 L994.683 188.52 L990.447 188.52 M998.942 186.761 L998.942 201.553 L994.683 201.553 L994.683 197.617 Q993.225 199.979 991.049 201.113 Q988.873 202.224 985.725 202.224 Q981.743 202.224 979.382 200.002 Q977.044 197.756 977.044 194.006 Q977.044 189.631 979.961 187.409 Q982.901 185.187 988.711 185.187 L994.683 185.187 L994.683 184.77 Q994.683 181.831 992.738 180.233 Q990.817 178.613 987.322 178.613 Q985.1 178.613 982.993 179.145 Q980.887 179.678 978.942 180.743 L978.942 176.807 Q981.28 175.905 983.479 175.465 Q985.678 175.002 987.762 175.002 Q993.387 175.002 996.164 177.918 Q998.942 180.835 998.942 186.761 Z\" fill=\"#000000\" fill-rule=\"evenodd\" fill-opacity=\"1\" /><path clip-path=\"url(#clip880)\" d=\"M1029.27 185.905 L1029.27 201.553 L1025.01 201.553 L1025.01 186.043 Q1025.01 182.363 1023.57 180.534 Q1022.14 178.706 1019.27 178.706 Q1015.82 178.706 1013.83 180.905 Q1011.84 183.104 1011.84 186.9 L1011.84 201.553 L1007.55 201.553 L1007.55 175.627 L1011.84 175.627 L1011.84 179.655 Q1013.36 177.317 1015.42 176.159 Q1017.51 175.002 1020.22 175.002 Q1024.68 175.002 1026.97 177.78 Q1029.27 180.534 1029.27 185.905 Z\" fill=\"#000000\" fill-rule=\"evenodd\" fill-opacity=\"1\" /><path clip-path=\"url(#clip880)\" d=\"M1054.82 179.562 L1054.82 165.534 L1059.08 165.534 L1059.08 201.553 L1054.82 201.553 L1054.82 197.664 Q1053.48 199.979 1051.42 201.113 Q1049.38 202.224 1046.51 202.224 Q1041.81 202.224 1038.85 198.474 Q1035.91 194.724 1035.91 188.613 Q1035.91 182.502 1038.85 178.752 Q1041.81 175.002 1046.51 175.002 Q1049.38 175.002 1051.42 176.136 Q1053.48 177.247 1054.82 179.562 M1040.31 188.613 Q1040.31 193.312 1042.23 195.997 Q1044.17 198.659 1047.55 198.659 Q1050.93 198.659 1052.88 195.997 Q1054.82 193.312 1054.82 188.613 Q1054.82 183.914 1052.88 181.252 Q1050.93 178.567 1047.55 178.567 Q1044.17 178.567 1042.23 181.252 Q1040.31 183.914 1040.31 188.613 Z\" fill=\"#000000\" fill-rule=\"evenodd\" fill-opacity=\"1\" /><path clip-path=\"url(#clip880)\" d=\"M1079.64 188.52 Q1074.47 188.52 1072.48 189.701 Q1070.49 190.881 1070.49 193.729 Q1070.49 195.997 1071.97 197.34 Q1073.48 198.659 1076.05 198.659 Q1079.59 198.659 1081.72 196.159 Q1083.87 193.636 1083.87 189.469 L1083.87 188.52 L1079.64 188.52 M1088.13 186.761 L1088.13 201.553 L1083.87 201.553 L1083.87 197.617 Q1082.41 199.979 1080.24 201.113 Q1078.06 202.224 1074.91 202.224 Q1070.93 202.224 1068.57 200.002 Q1066.23 197.756 1066.23 194.006 Q1066.23 189.631 1069.15 187.409 Q1072.09 185.187 1077.9 185.187 L1083.87 185.187 L1083.87 184.77 Q1083.87 181.831 1081.93 180.233 Q1080.01 178.613 1076.51 178.613 Q1074.29 178.613 1072.18 179.145 Q1070.08 179.678 1068.13 180.743 L1068.13 176.807 Q1070.47 175.905 1072.67 175.465 Q1074.87 175.002 1076.95 175.002 Q1082.58 175.002 1085.35 177.918 Q1088.13 180.835 1088.13 186.761 Z\" fill=\"#000000\" fill-rule=\"evenodd\" fill-opacity=\"1\" /><path clip-path=\"url(#clip880)\" d=\"M1096.9 165.534 L1101.16 165.534 L1101.16 201.553 L1096.9 201.553 L1096.9 165.534 Z\" fill=\"#000000\" fill-rule=\"evenodd\" fill-opacity=\"1\" /><path clip-path=\"url(#clip880)\" d=\"\n",
       "M1424.1 1047.7 L2352.76 1047.7 L2352.76 47.2441 L1424.1 47.2441  Z\n",
       "  \" fill=\"#ffffff\" fill-rule=\"evenodd\" fill-opacity=\"1\"/>\n",
       "<defs>\n",
       "  <clipPath id=\"clip883\">\n",
       "    <rect x=\"1424\" y=\"47\" width=\"930\" height=\"1001\"/>\n",
       "  </clipPath>\n",
       "</defs>\n",
       "<polyline clip-path=\"url(#clip883)\" style=\"stroke:#000000; stroke-linecap:round; stroke-linejoin:round; stroke-width:2; stroke-opacity:0.1; fill:none\" points=\"\n",
       "  1561.09,1047.7 1561.09,47.2441 \n",
       "  \"/>\n",
       "<polyline clip-path=\"url(#clip883)\" style=\"stroke:#000000; stroke-linecap:round; stroke-linejoin:round; stroke-width:2; stroke-opacity:0.1; fill:none\" points=\"\n",
       "  1739.16,1047.7 1739.16,47.2441 \n",
       "  \"/>\n",
       "<polyline clip-path=\"url(#clip883)\" style=\"stroke:#000000; stroke-linecap:round; stroke-linejoin:round; stroke-width:2; stroke-opacity:0.1; fill:none\" points=\"\n",
       "  1917.24,1047.7 1917.24,47.2441 \n",
       "  \"/>\n",
       "<polyline clip-path=\"url(#clip883)\" style=\"stroke:#000000; stroke-linecap:round; stroke-linejoin:round; stroke-width:2; stroke-opacity:0.1; fill:none\" points=\"\n",
       "  2095.32,1047.7 2095.32,47.2441 \n",
       "  \"/>\n",
       "<polyline clip-path=\"url(#clip883)\" style=\"stroke:#000000; stroke-linecap:round; stroke-linejoin:round; stroke-width:2; stroke-opacity:0.1; fill:none\" points=\"\n",
       "  2273.4,1047.7 2273.4,47.2441 \n",
       "  \"/>\n",
       "<polyline clip-path=\"url(#clip880)\" style=\"stroke:#000000; stroke-linecap:round; stroke-linejoin:round; stroke-width:4; stroke-opacity:1; fill:none\" points=\"\n",
       "  1424.1,1047.7 2352.76,1047.7 \n",
       "  \"/>\n",
       "<polyline clip-path=\"url(#clip880)\" style=\"stroke:#000000; stroke-linecap:round; stroke-linejoin:round; stroke-width:4; stroke-opacity:1; fill:none\" points=\"\n",
       "  1561.09,1047.7 1561.09,1028.8 \n",
       "  \"/>\n",
       "<polyline clip-path=\"url(#clip880)\" style=\"stroke:#000000; stroke-linecap:round; stroke-linejoin:round; stroke-width:4; stroke-opacity:1; fill:none\" points=\"\n",
       "  1739.16,1047.7 1739.16,1028.8 \n",
       "  \"/>\n",
       "<polyline clip-path=\"url(#clip880)\" style=\"stroke:#000000; stroke-linecap:round; stroke-linejoin:round; stroke-width:4; stroke-opacity:1; fill:none\" points=\"\n",
       "  1917.24,1047.7 1917.24,1028.8 \n",
       "  \"/>\n",
       "<polyline clip-path=\"url(#clip880)\" style=\"stroke:#000000; stroke-linecap:round; stroke-linejoin:round; stroke-width:4; stroke-opacity:1; fill:none\" points=\"\n",
       "  2095.32,1047.7 2095.32,1028.8 \n",
       "  \"/>\n",
       "<polyline clip-path=\"url(#clip880)\" style=\"stroke:#000000; stroke-linecap:round; stroke-linejoin:round; stroke-width:4; stroke-opacity:1; fill:none\" points=\"\n",
       "  2273.4,1047.7 2273.4,1028.8 \n",
       "  \"/>\n",
       "<path clip-path=\"url(#clip880)\" d=\"M1507.62 1093.27 L1537.29 1093.27 L1537.29 1097.21 L1507.62 1097.21 L1507.62 1093.27 Z\" fill=\"#000000\" fill-rule=\"evenodd\" fill-opacity=\"1\" /><path clip-path=\"url(#clip880)\" d=\"M1548.19 1106.16 L1555.83 1106.16 L1555.83 1079.8 L1547.52 1081.47 L1547.52 1077.21 L1555.79 1075.54 L1560.46 1075.54 L1560.46 1106.16 L1568.1 1106.16 L1568.1 1110.1 L1548.19 1110.1 L1548.19 1106.16 Z\" fill=\"#000000\" fill-rule=\"evenodd\" fill-opacity=\"1\" /><path clip-path=\"url(#clip880)\" d=\"M1577.55 1104.22 L1582.43 1104.22 L1582.43 1110.1 L1577.55 1110.1 L1577.55 1104.22 Z\" fill=\"#000000\" fill-rule=\"evenodd\" fill-opacity=\"1\" /><path clip-path=\"url(#clip880)\" d=\"M1602.62 1078.62 Q1599 1078.62 1597.18 1082.18 Q1595.37 1085.72 1595.37 1092.85 Q1595.37 1099.96 1597.18 1103.53 Q1599 1107.07 1602.62 1107.07 Q1606.25 1107.07 1608.05 1103.53 Q1609.88 1099.96 1609.88 1092.85 Q1609.88 1085.72 1608.05 1082.18 Q1606.25 1078.62 1602.62 1078.62 M1602.62 1074.91 Q1608.43 1074.91 1611.48 1079.52 Q1614.56 1084.1 1614.56 1092.85 Q1614.56 1101.58 1611.48 1106.19 Q1608.43 1110.77 1602.62 1110.77 Q1596.8 1110.77 1593.73 1106.19 Q1590.67 1101.58 1590.67 1092.85 Q1590.67 1084.1 1593.73 1079.52 Q1596.8 1074.91 1602.62 1074.91 Z\" fill=\"#000000\" fill-rule=\"evenodd\" fill-opacity=\"1\" /><path clip-path=\"url(#clip880)\" d=\"M1686.19 1093.27 L1715.87 1093.27 L1715.87 1097.21 L1686.19 1097.21 L1686.19 1093.27 Z\" fill=\"#000000\" fill-rule=\"evenodd\" fill-opacity=\"1\" /><path clip-path=\"url(#clip880)\" d=\"M1735.96 1078.62 Q1732.35 1078.62 1730.52 1082.18 Q1728.71 1085.72 1728.71 1092.85 Q1728.71 1099.96 1730.52 1103.53 Q1732.35 1107.07 1735.96 1107.07 Q1739.59 1107.07 1741.4 1103.53 Q1743.23 1099.96 1743.23 1092.85 Q1743.23 1085.72 1741.4 1082.18 Q1739.59 1078.62 1735.96 1078.62 M1735.96 1074.91 Q1741.77 1074.91 1744.82 1079.52 Q1747.9 1084.1 1747.9 1092.85 Q1747.9 1101.58 1744.82 1106.19 Q1741.77 1110.77 1735.96 1110.77 Q1730.15 1110.77 1727.07 1106.19 Q1724.01 1101.58 1724.01 1092.85 Q1724.01 1084.1 1727.07 1079.52 Q1730.15 1074.91 1735.96 1074.91 Z\" fill=\"#000000\" fill-rule=\"evenodd\" fill-opacity=\"1\" /><path clip-path=\"url(#clip880)\" d=\"M1756.12 1104.22 L1761 1104.22 L1761 1110.1 L1756.12 1110.1 L1756.12 1104.22 Z\" fill=\"#000000\" fill-rule=\"evenodd\" fill-opacity=\"1\" /><path clip-path=\"url(#clip880)\" d=\"M1771.24 1075.54 L1789.59 1075.54 L1789.59 1079.48 L1775.52 1079.48 L1775.52 1087.95 Q1776.54 1087.6 1777.56 1087.44 Q1778.57 1087.25 1779.59 1087.25 Q1785.38 1087.25 1788.76 1090.42 Q1792.14 1093.6 1792.14 1099.01 Q1792.14 1104.59 1788.67 1107.69 Q1785.19 1110.77 1778.88 1110.77 Q1776.7 1110.77 1774.43 1110.4 Q1772.19 1110.03 1769.78 1109.29 L1769.78 1104.59 Q1771.86 1105.72 1774.08 1106.28 Q1776.31 1106.84 1778.78 1106.84 Q1782.79 1106.84 1785.13 1104.73 Q1787.46 1102.62 1787.46 1099.01 Q1787.46 1095.4 1785.13 1093.29 Q1782.79 1091.19 1778.78 1091.19 Q1776.91 1091.19 1775.03 1091.6 Q1773.18 1092.02 1771.24 1092.9 L1771.24 1075.54 Z\" fill=\"#000000\" fill-rule=\"evenodd\" fill-opacity=\"1\" /><path clip-path=\"url(#clip880)\" d=\"M1894.63 1078.62 Q1891.02 1078.62 1889.19 1082.18 Q1887.38 1085.72 1887.38 1092.85 Q1887.38 1099.96 1889.19 1103.53 Q1891.02 1107.07 1894.63 1107.07 Q1898.26 1107.07 1900.07 1103.53 Q1901.89 1099.96 1901.89 1092.85 Q1901.89 1085.72 1900.07 1082.18 Q1898.26 1078.62 1894.63 1078.62 M1894.63 1074.91 Q1900.44 1074.91 1903.49 1079.52 Q1906.57 1084.1 1906.57 1092.85 Q1906.57 1101.58 1903.49 1106.19 Q1900.44 1110.77 1894.63 1110.77 Q1888.82 1110.77 1885.74 1106.19 Q1882.68 1101.58 1882.68 1092.85 Q1882.68 1084.1 1885.74 1079.52 Q1888.82 1074.91 1894.63 1074.91 Z\" fill=\"#000000\" fill-rule=\"evenodd\" fill-opacity=\"1\" /><path clip-path=\"url(#clip880)\" d=\"M1914.79 1104.22 L1919.67 1104.22 L1919.67 1110.1 L1914.79 1110.1 L1914.79 1104.22 Z\" fill=\"#000000\" fill-rule=\"evenodd\" fill-opacity=\"1\" /><path clip-path=\"url(#clip880)\" d=\"M1939.86 1078.62 Q1936.25 1078.62 1934.42 1082.18 Q1932.61 1085.72 1932.61 1092.85 Q1932.61 1099.96 1934.42 1103.53 Q1936.25 1107.07 1939.86 1107.07 Q1943.49 1107.07 1945.3 1103.53 Q1947.13 1099.96 1947.13 1092.85 Q1947.13 1085.72 1945.3 1082.18 Q1943.49 1078.62 1939.86 1078.62 M1939.86 1074.91 Q1945.67 1074.91 1948.72 1079.52 Q1951.8 1084.1 1951.8 1092.85 Q1951.8 1101.58 1948.72 1106.19 Q1945.67 1110.77 1939.86 1110.77 Q1934.05 1110.77 1930.97 1106.19 Q1927.91 1101.58 1927.91 1092.85 Q1927.91 1084.1 1930.97 1079.52 Q1934.05 1074.91 1939.86 1074.91 Z\" fill=\"#000000\" fill-rule=\"evenodd\" fill-opacity=\"1\" /><path clip-path=\"url(#clip880)\" d=\"M2073.2 1078.62 Q2069.59 1078.62 2067.76 1082.18 Q2065.96 1085.72 2065.96 1092.85 Q2065.96 1099.96 2067.76 1103.53 Q2069.59 1107.07 2073.2 1107.07 Q2076.84 1107.07 2078.64 1103.53 Q2080.47 1099.96 2080.47 1092.85 Q2080.47 1085.72 2078.64 1082.18 Q2076.84 1078.62 2073.2 1078.62 M2073.2 1074.91 Q2079.01 1074.91 2082.07 1079.52 Q2085.15 1084.1 2085.15 1092.85 Q2085.15 1101.58 2082.07 1106.19 Q2079.01 1110.77 2073.2 1110.77 Q2067.39 1110.77 2064.31 1106.19 Q2061.26 1101.58 2061.26 1092.85 Q2061.26 1084.1 2064.31 1079.52 Q2067.39 1074.91 2073.2 1074.91 Z\" fill=\"#000000\" fill-rule=\"evenodd\" fill-opacity=\"1\" /><path clip-path=\"url(#clip880)\" d=\"M2093.36 1104.22 L2098.25 1104.22 L2098.25 1110.1 L2093.36 1110.1 L2093.36 1104.22 Z\" fill=\"#000000\" fill-rule=\"evenodd\" fill-opacity=\"1\" /><path clip-path=\"url(#clip880)\" d=\"M2108.48 1075.54 L2126.84 1075.54 L2126.84 1079.48 L2112.76 1079.48 L2112.76 1087.95 Q2113.78 1087.6 2114.8 1087.44 Q2115.82 1087.25 2116.84 1087.25 Q2122.62 1087.25 2126 1090.42 Q2129.38 1093.6 2129.38 1099.01 Q2129.38 1104.59 2125.91 1107.69 Q2122.44 1110.77 2116.12 1110.77 Q2113.94 1110.77 2111.67 1110.4 Q2109.43 1110.03 2107.02 1109.29 L2107.02 1104.59 Q2109.1 1105.72 2111.33 1106.28 Q2113.55 1106.84 2116.02 1106.84 Q2120.03 1106.84 2122.37 1104.73 Q2124.71 1102.62 2124.71 1099.01 Q2124.71 1095.4 2122.37 1093.29 Q2120.03 1091.19 2116.02 1091.19 Q2114.15 1091.19 2112.27 1091.6 Q2110.42 1092.02 2108.48 1092.9 L2108.48 1075.54 Z\" fill=\"#000000\" fill-rule=\"evenodd\" fill-opacity=\"1\" /><path clip-path=\"url(#clip880)\" d=\"M2240.55 1106.16 L2248.19 1106.16 L2248.19 1079.8 L2239.88 1081.47 L2239.88 1077.21 L2248.14 1075.54 L2252.82 1075.54 L2252.82 1106.16 L2260.46 1106.16 L2260.46 1110.1 L2240.55 1110.1 L2240.55 1106.16 Z\" fill=\"#000000\" fill-rule=\"evenodd\" fill-opacity=\"1\" /><path clip-path=\"url(#clip880)\" d=\"M2269.9 1104.22 L2274.78 1104.22 L2274.78 1110.1 L2269.9 1110.1 L2269.9 1104.22 Z\" fill=\"#000000\" fill-rule=\"evenodd\" fill-opacity=\"1\" /><path clip-path=\"url(#clip880)\" d=\"M2294.97 1078.62 Q2291.36 1078.62 2289.53 1082.18 Q2287.72 1085.72 2287.72 1092.85 Q2287.72 1099.96 2289.53 1103.53 Q2291.36 1107.07 2294.97 1107.07 Q2298.6 1107.07 2300.41 1103.53 Q2302.24 1099.96 2302.24 1092.85 Q2302.24 1085.72 2300.41 1082.18 Q2298.6 1078.62 2294.97 1078.62 M2294.97 1074.91 Q2300.78 1074.91 2303.84 1079.52 Q2306.91 1084.1 2306.91 1092.85 Q2306.91 1101.58 2303.84 1106.19 Q2300.78 1110.77 2294.97 1110.77 Q2289.16 1110.77 2286.08 1106.19 Q2283.03 1101.58 2283.03 1092.85 Q2283.03 1084.1 2286.08 1079.52 Q2289.16 1074.91 2294.97 1074.91 Z\" fill=\"#000000\" fill-rule=\"evenodd\" fill-opacity=\"1\" /><path clip-path=\"url(#clip880)\" d=\"M1563.01 1187.22 L1563.01 1206.12 L1557.12 1206.12 L1557.12 1156.92 L1563.01 1156.92 L1563.01 1162.33 Q1564.86 1159.14 1567.66 1157.62 Q1570.49 1156.06 1574.41 1156.06 Q1580.9 1156.06 1584.94 1161.21 Q1589.02 1166.37 1589.02 1174.77 Q1589.02 1183.17 1584.94 1188.33 Q1580.9 1193.49 1574.41 1193.49 Q1570.49 1193.49 1567.66 1191.96 Q1564.86 1190.4 1563.01 1187.22 M1582.94 1174.77 Q1582.94 1168.31 1580.26 1164.65 Q1577.62 1160.96 1572.97 1160.96 Q1568.33 1160.96 1565.65 1164.65 Q1563.01 1168.31 1563.01 1174.77 Q1563.01 1181.23 1565.65 1184.92 Q1568.33 1188.59 1572.97 1188.59 Q1577.62 1188.59 1580.26 1184.92 Q1582.94 1181.23 1582.94 1174.77 Z\" fill=\"#000000\" fill-rule=\"evenodd\" fill-opacity=\"1\" /><path clip-path=\"url(#clip880)\" d=\"M1619.38 1162.39 Q1618.39 1161.82 1617.22 1161.56 Q1616.07 1161.28 1614.67 1161.28 Q1609.7 1161.28 1607.03 1164.52 Q1604.39 1167.74 1604.39 1173.79 L1604.39 1192.56 L1598.5 1192.56 L1598.5 1156.92 L1604.39 1156.92 L1604.39 1162.45 Q1606.24 1159.21 1609.2 1157.65 Q1612.16 1156.06 1616.39 1156.06 Q1616.99 1156.06 1617.73 1156.15 Q1618.46 1156.22 1619.35 1156.37 L1619.38 1162.39 Z\" fill=\"#000000\" fill-rule=\"evenodd\" fill-opacity=\"1\" /><path clip-path=\"url(#clip880)\" d=\"M1654.58 1173.28 L1654.58 1176.14 L1627.66 1176.14 Q1628.04 1182.19 1631.28 1185.37 Q1634.56 1188.52 1640.39 1188.52 Q1643.76 1188.52 1646.91 1187.69 Q1650.09 1186.87 1653.21 1185.21 L1653.21 1190.75 Q1650.06 1192.09 1646.75 1192.79 Q1643.44 1193.49 1640.04 1193.49 Q1631.51 1193.49 1626.51 1188.52 Q1621.54 1183.56 1621.54 1175.09 Q1621.54 1166.34 1626.26 1161.21 Q1631 1156.06 1639.02 1156.06 Q1646.21 1156.06 1650.38 1160.7 Q1654.58 1165.32 1654.58 1173.28 M1648.73 1171.56 Q1648.66 1166.75 1646.02 1163.89 Q1643.41 1161.02 1639.08 1161.02 Q1634.18 1161.02 1631.22 1163.79 Q1628.29 1166.56 1627.85 1171.59 L1648.73 1171.56 Z\" fill=\"#000000\" fill-rule=\"evenodd\" fill-opacity=\"1\" /><path clip-path=\"url(#clip880)\" d=\"M1687.65 1162.33 L1687.65 1143.04 L1693.51 1143.04 L1693.51 1192.56 L1687.65 1192.56 L1687.65 1187.22 Q1685.81 1190.4 1682.97 1191.96 Q1680.17 1193.49 1676.23 1193.49 Q1669.76 1193.49 1665.69 1188.33 Q1661.65 1183.17 1661.65 1174.77 Q1661.65 1166.37 1665.69 1161.21 Q1669.76 1156.06 1676.23 1156.06 Q1680.17 1156.06 1682.97 1157.62 Q1685.81 1159.14 1687.65 1162.33 M1667.7 1174.77 Q1667.7 1181.23 1670.34 1184.92 Q1673.01 1188.59 1677.66 1188.59 Q1682.31 1188.59 1684.98 1184.92 Q1687.65 1181.23 1687.65 1174.77 Q1687.65 1168.31 1684.98 1164.65 Q1682.31 1160.96 1677.66 1160.96 Q1673.01 1160.96 1670.34 1164.65 Q1667.7 1168.31 1667.7 1174.77 Z\" fill=\"#000000\" fill-rule=\"evenodd\" fill-opacity=\"1\" /><path clip-path=\"url(#clip880)\" d=\"M1705.57 1156.92 L1711.43 1156.92 L1711.43 1192.56 L1705.57 1192.56 L1705.57 1156.92 M1705.57 1143.04 L1711.43 1143.04 L1711.43 1150.45 L1705.57 1150.45 L1705.57 1143.04 Z\" fill=\"#000000\" fill-rule=\"evenodd\" fill-opacity=\"1\" /><path clip-path=\"url(#clip880)\" d=\"M1749.34 1158.28 L1749.34 1163.76 Q1746.85 1162.39 1744.34 1161.72 Q1741.86 1161.02 1739.31 1161.02 Q1733.61 1161.02 1730.46 1164.65 Q1727.31 1168.25 1727.31 1174.77 Q1727.31 1181.3 1730.46 1184.92 Q1733.61 1188.52 1739.31 1188.52 Q1741.86 1188.52 1744.34 1187.85 Q1746.85 1187.15 1749.34 1185.78 L1749.34 1191.2 Q1746.89 1192.34 1744.24 1192.91 Q1741.63 1193.49 1738.67 1193.49 Q1730.62 1193.49 1725.88 1188.43 Q1721.14 1183.37 1721.14 1174.77 Q1721.14 1166.05 1725.91 1161.05 Q1730.72 1156.06 1739.06 1156.06 Q1741.76 1156.06 1744.34 1156.63 Q1746.92 1157.17 1749.34 1158.28 Z\" fill=\"#000000\" fill-rule=\"evenodd\" fill-opacity=\"1\" /><path clip-path=\"url(#clip880)\" d=\"M1765.31 1146.79 L1765.31 1156.92 L1777.38 1156.92 L1777.38 1161.47 L1765.31 1161.47 L1765.31 1180.82 Q1765.31 1185.18 1766.49 1186.42 Q1767.7 1187.66 1771.36 1187.66 L1777.38 1187.66 L1777.38 1192.56 L1771.36 1192.56 Q1764.58 1192.56 1762 1190.05 Q1759.43 1187.5 1759.43 1180.82 L1759.43 1161.47 L1755.13 1161.47 L1755.13 1156.92 L1759.43 1156.92 L1759.43 1146.79 L1765.31 1146.79 Z\" fill=\"#000000\" fill-rule=\"evenodd\" fill-opacity=\"1\" /><path clip-path=\"url(#clip880)\" d=\"M1785.08 1156.92 L1790.94 1156.92 L1790.94 1192.56 L1785.08 1192.56 L1785.08 1156.92 M1785.08 1143.04 L1790.94 1143.04 L1790.94 1150.45 L1785.08 1150.45 L1785.08 1143.04 Z\" fill=\"#000000\" fill-rule=\"evenodd\" fill-opacity=\"1\" /><path clip-path=\"url(#clip880)\" d=\"M1817 1161.02 Q1812.29 1161.02 1809.56 1164.71 Q1806.82 1168.37 1806.82 1174.77 Q1806.82 1181.17 1809.52 1184.86 Q1812.26 1188.52 1817 1188.52 Q1821.68 1188.52 1824.42 1184.83 Q1827.16 1181.14 1827.16 1174.77 Q1827.16 1168.44 1824.42 1164.75 Q1821.68 1161.02 1817 1161.02 M1817 1156.06 Q1824.64 1156.06 1829 1161.02 Q1833.36 1165.99 1833.36 1174.77 Q1833.36 1183.52 1829 1188.52 Q1824.64 1193.49 1817 1193.49 Q1809.33 1193.49 1804.97 1188.52 Q1800.64 1183.52 1800.64 1174.77 Q1800.64 1165.99 1804.97 1161.02 Q1809.33 1156.06 1817 1156.06 Z\" fill=\"#000000\" fill-rule=\"evenodd\" fill-opacity=\"1\" /><path clip-path=\"url(#clip880)\" d=\"M1872.7 1171.05 L1872.7 1192.56 L1866.85 1192.56 L1866.85 1171.24 Q1866.85 1166.18 1864.87 1163.66 Q1862.9 1161.15 1858.95 1161.15 Q1854.21 1161.15 1851.47 1164.17 Q1848.74 1167.2 1848.74 1172.42 L1848.74 1192.56 L1842.85 1192.56 L1842.85 1156.92 L1848.74 1156.92 L1848.74 1162.45 Q1850.84 1159.24 1853.67 1157.65 Q1856.53 1156.06 1860.26 1156.06 Q1866.4 1156.06 1869.55 1159.88 Q1872.7 1163.66 1872.7 1171.05 Z\" fill=\"#000000\" fill-rule=\"evenodd\" fill-opacity=\"1\" /><path clip-path=\"url(#clip880)\" d=\"M1907.11 1157.97 L1907.11 1163.5 Q1904.63 1162.23 1901.95 1161.59 Q1899.28 1160.96 1896.42 1160.96 Q1892.06 1160.96 1889.86 1162.29 Q1887.69 1163.63 1887.69 1166.31 Q1887.69 1168.34 1889.25 1169.52 Q1890.81 1170.67 1895.52 1171.72 L1897.53 1172.16 Q1903.77 1173.5 1906.38 1175.95 Q1909.02 1178.37 1909.02 1182.73 Q1909.02 1187.69 1905.07 1190.59 Q1901.16 1193.49 1894.28 1193.49 Q1891.42 1193.49 1888.3 1192.91 Q1885.21 1192.37 1881.77 1191.26 L1881.77 1185.21 Q1885.02 1186.9 1888.17 1187.76 Q1891.32 1188.59 1894.41 1188.59 Q1898.55 1188.59 1900.78 1187.18 Q1903 1185.75 1903 1183.17 Q1903 1180.79 1901.38 1179.51 Q1899.79 1178.24 1894.35 1177.06 L1892.31 1176.59 Q1886.87 1175.44 1884.45 1173.08 Q1882.03 1170.7 1882.03 1166.56 Q1882.03 1161.53 1885.59 1158.79 Q1889.16 1156.06 1895.72 1156.06 Q1898.96 1156.06 1901.83 1156.53 Q1904.69 1157.01 1907.11 1157.97 Z\" fill=\"#000000\" fill-rule=\"evenodd\" fill-opacity=\"1\" /><path clip-path=\"url(#clip880)\" d=\"M1944.86 1146.79 L1944.86 1156.92 L1956.92 1156.92 L1956.92 1161.47 L1944.86 1161.47 L1944.86 1180.82 Q1944.86 1185.18 1946.04 1186.42 Q1947.25 1187.66 1950.91 1187.66 L1956.92 1187.66 L1956.92 1192.56 L1950.91 1192.56 Q1944.13 1192.56 1941.55 1190.05 Q1938.97 1187.5 1938.97 1180.82 L1938.97 1161.47 L1934.67 1161.47 L1934.67 1156.92 L1938.97 1156.92 L1938.97 1146.79 L1944.86 1146.79 Z\" fill=\"#000000\" fill-rule=\"evenodd\" fill-opacity=\"1\" /><path clip-path=\"url(#clip880)\" d=\"M1995.12 1173.28 L1995.12 1176.14 L1968.19 1176.14 Q1968.57 1182.19 1971.82 1185.37 Q1975.1 1188.52 1980.92 1188.52 Q1984.29 1188.52 1987.45 1187.69 Q1990.63 1186.87 1993.75 1185.21 L1993.75 1190.75 Q1990.6 1192.09 1987.29 1192.79 Q1983.98 1193.49 1980.57 1193.49 Q1972.04 1193.49 1967.04 1188.52 Q1962.08 1183.56 1962.08 1175.09 Q1962.08 1166.34 1966.79 1161.21 Q1971.53 1156.06 1979.55 1156.06 Q1986.75 1156.06 1990.91 1160.7 Q1995.12 1165.32 1995.12 1173.28 M1989.26 1171.56 Q1989.2 1166.75 1986.55 1163.89 Q1983.94 1161.02 1979.62 1161.02 Q1974.71 1161.02 1971.75 1163.79 Q1968.83 1166.56 1968.38 1171.59 L1989.26 1171.56 Z\" fill=\"#000000\" fill-rule=\"evenodd\" fill-opacity=\"1\" /><path clip-path=\"url(#clip880)\" d=\"M2027.45 1157.97 L2027.45 1163.5 Q2024.97 1162.23 2022.3 1161.59 Q2019.62 1160.96 2016.76 1160.96 Q2012.4 1160.96 2010.2 1162.29 Q2008.04 1163.63 2008.04 1166.31 Q2008.04 1168.34 2009.6 1169.52 Q2011.16 1170.67 2015.87 1171.72 L2017.87 1172.16 Q2024.11 1173.5 2026.72 1175.95 Q2029.36 1178.37 2029.36 1182.73 Q2029.36 1187.69 2025.42 1190.59 Q2021.5 1193.49 2014.63 1193.49 Q2011.76 1193.49 2008.64 1192.91 Q2005.56 1192.37 2002.12 1191.26 L2002.12 1185.21 Q2005.36 1186.9 2008.52 1187.76 Q2011.67 1188.59 2014.75 1188.59 Q2018.89 1188.59 2021.12 1187.18 Q2023.35 1185.75 2023.35 1183.17 Q2023.35 1180.79 2021.72 1179.51 Q2020.13 1178.24 2014.69 1177.06 L2012.65 1176.59 Q2007.21 1175.44 2004.79 1173.08 Q2002.37 1170.7 2002.37 1166.56 Q2002.37 1161.53 2005.94 1158.79 Q2009.5 1156.06 2016.06 1156.06 Q2019.31 1156.06 2022.17 1156.53 Q2025.03 1157.01 2027.45 1157.97 Z\" fill=\"#000000\" fill-rule=\"evenodd\" fill-opacity=\"1\" /><path clip-path=\"url(#clip880)\" d=\"M2044.48 1146.79 L2044.48 1156.92 L2056.55 1156.92 L2056.55 1161.47 L2044.48 1161.47 L2044.48 1180.82 Q2044.48 1185.18 2045.66 1186.42 Q2046.87 1187.66 2050.53 1187.66 L2056.55 1187.66 L2056.55 1192.56 L2050.53 1192.56 Q2043.75 1192.56 2041.17 1190.05 Q2038.59 1187.5 2038.59 1180.82 L2038.59 1161.47 L2034.3 1161.47 L2034.3 1156.92 L2038.59 1156.92 L2038.59 1146.79 L2044.48 1146.79 Z\" fill=\"#000000\" fill-rule=\"evenodd\" fill-opacity=\"1\" /><path clip-path=\"url(#clip880)\" d=\"M2108.43 1162.33 L2108.43 1143.04 L2114.28 1143.04 L2114.28 1192.56 L2108.43 1192.56 L2108.43 1187.22 Q2106.58 1190.4 2103.75 1191.96 Q2100.95 1193.49 2097 1193.49 Q2090.54 1193.49 2086.46 1188.33 Q2082.42 1183.17 2082.42 1174.77 Q2082.42 1166.37 2086.46 1161.21 Q2090.54 1156.06 2097 1156.06 Q2100.95 1156.06 2103.75 1157.62 Q2106.58 1159.14 2108.43 1162.33 M2088.47 1174.77 Q2088.47 1181.23 2091.11 1184.92 Q2093.78 1188.59 2098.43 1188.59 Q2103.08 1188.59 2105.75 1184.92 Q2108.43 1181.23 2108.43 1174.77 Q2108.43 1168.31 2105.75 1164.65 Q2103.08 1160.96 2098.43 1160.96 Q2093.78 1160.96 2091.11 1164.65 Q2088.47 1168.31 2088.47 1174.77 Z\" fill=\"#000000\" fill-rule=\"evenodd\" fill-opacity=\"1\" /><path clip-path=\"url(#clip880)\" d=\"M2142.55 1174.64 Q2135.45 1174.64 2132.71 1176.27 Q2129.97 1177.89 2129.97 1181.81 Q2129.97 1184.92 2132.01 1186.77 Q2134.08 1188.59 2137.61 1188.59 Q2142.48 1188.59 2145.41 1185.15 Q2148.37 1181.68 2148.37 1175.95 L2148.37 1174.64 L2142.55 1174.64 M2154.23 1172.23 L2154.23 1192.56 L2148.37 1192.56 L2148.37 1187.15 Q2146.37 1190.4 2143.37 1191.96 Q2140.38 1193.49 2136.05 1193.49 Q2130.58 1193.49 2127.33 1190.43 Q2124.12 1187.34 2124.12 1182.19 Q2124.12 1176.17 2128.13 1173.12 Q2132.17 1170.06 2140.16 1170.06 L2148.37 1170.06 L2148.37 1169.49 Q2148.37 1165.45 2145.7 1163.25 Q2143.06 1161.02 2138.25 1161.02 Q2135.19 1161.02 2132.3 1161.75 Q2129.4 1162.49 2126.73 1163.95 L2126.73 1158.54 Q2129.94 1157.3 2132.97 1156.69 Q2135.99 1156.06 2138.85 1156.06 Q2146.59 1156.06 2150.41 1160.07 Q2154.23 1164.08 2154.23 1172.23 Z\" fill=\"#000000\" fill-rule=\"evenodd\" fill-opacity=\"1\" /><path clip-path=\"url(#clip880)\" d=\"M2172.08 1146.79 L2172.08 1156.92 L2184.15 1156.92 L2184.15 1161.47 L2172.08 1161.47 L2172.08 1180.82 Q2172.08 1185.18 2173.26 1186.42 Q2174.47 1187.66 2178.13 1187.66 L2184.15 1187.66 L2184.15 1192.56 L2178.13 1192.56 Q2171.35 1192.56 2168.77 1190.05 Q2166.19 1187.5 2166.19 1180.82 L2166.19 1161.47 L2161.9 1161.47 L2161.9 1156.92 L2166.19 1156.92 L2166.19 1146.79 L2172.08 1146.79 Z\" fill=\"#000000\" fill-rule=\"evenodd\" fill-opacity=\"1\" /><path clip-path=\"url(#clip880)\" d=\"M2208.05 1174.64 Q2200.95 1174.64 2198.21 1176.27 Q2195.48 1177.89 2195.48 1181.81 Q2195.48 1184.92 2197.51 1186.77 Q2199.58 1188.59 2203.12 1188.59 Q2207.99 1188.59 2210.91 1185.15 Q2213.87 1181.68 2213.87 1175.95 L2213.87 1174.64 L2208.05 1174.64 M2219.73 1172.23 L2219.73 1192.56 L2213.87 1192.56 L2213.87 1187.15 Q2211.87 1190.4 2208.88 1191.96 Q2205.88 1193.49 2201.56 1193.49 Q2196.08 1193.49 2192.83 1190.43 Q2189.62 1187.34 2189.62 1182.19 Q2189.62 1176.17 2193.63 1173.12 Q2197.67 1170.06 2205.66 1170.06 L2213.87 1170.06 L2213.87 1169.49 Q2213.87 1165.45 2211.2 1163.25 Q2208.56 1161.02 2203.75 1161.02 Q2200.7 1161.02 2197.8 1161.75 Q2194.9 1162.49 2192.23 1163.95 L2192.23 1158.54 Q2195.44 1157.3 2198.47 1156.69 Q2201.49 1156.06 2204.36 1156.06 Q2212.09 1156.06 2215.91 1160.07 Q2219.73 1164.08 2219.73 1172.23 Z\" fill=\"#000000\" fill-rule=\"evenodd\" fill-opacity=\"1\" /><polyline clip-path=\"url(#clip883)\" style=\"stroke:#000000; stroke-linecap:round; stroke-linejoin:round; stroke-width:2; stroke-opacity:0.1; fill:none\" points=\"\n",
       "  1424.1,936.221 2352.76,936.221 \n",
       "  \"/>\n",
       "<polyline clip-path=\"url(#clip883)\" style=\"stroke:#000000; stroke-linecap:round; stroke-linejoin:round; stroke-width:2; stroke-opacity:0.1; fill:none\" points=\"\n",
       "  1424.1,793.076 2352.76,793.076 \n",
       "  \"/>\n",
       "<polyline clip-path=\"url(#clip883)\" style=\"stroke:#000000; stroke-linecap:round; stroke-linejoin:round; stroke-width:2; stroke-opacity:0.1; fill:none\" points=\"\n",
       "  1424.1,649.932 2352.76,649.932 \n",
       "  \"/>\n",
       "<polyline clip-path=\"url(#clip883)\" style=\"stroke:#000000; stroke-linecap:round; stroke-linejoin:round; stroke-width:2; stroke-opacity:0.1; fill:none\" points=\"\n",
       "  1424.1,506.787 2352.76,506.787 \n",
       "  \"/>\n",
       "<polyline clip-path=\"url(#clip883)\" style=\"stroke:#000000; stroke-linecap:round; stroke-linejoin:round; stroke-width:2; stroke-opacity:0.1; fill:none\" points=\"\n",
       "  1424.1,363.642 2352.76,363.642 \n",
       "  \"/>\n",
       "<polyline clip-path=\"url(#clip883)\" style=\"stroke:#000000; stroke-linecap:round; stroke-linejoin:round; stroke-width:2; stroke-opacity:0.1; fill:none\" points=\"\n",
       "  1424.1,220.497 2352.76,220.497 \n",
       "  \"/>\n",
       "<polyline clip-path=\"url(#clip883)\" style=\"stroke:#000000; stroke-linecap:round; stroke-linejoin:round; stroke-width:2; stroke-opacity:0.1; fill:none\" points=\"\n",
       "  1424.1,77.3517 2352.76,77.3517 \n",
       "  \"/>\n",
       "<polyline clip-path=\"url(#clip880)\" style=\"stroke:#000000; stroke-linecap:round; stroke-linejoin:round; stroke-width:4; stroke-opacity:1; fill:none\" points=\"\n",
       "  1424.1,1047.7 1424.1,47.2441 \n",
       "  \"/>\n",
       "<polyline clip-path=\"url(#clip880)\" style=\"stroke:#000000; stroke-linecap:round; stroke-linejoin:round; stroke-width:4; stroke-opacity:1; fill:none\" points=\"\n",
       "  1424.1,936.221 1443,936.221 \n",
       "  \"/>\n",
       "<polyline clip-path=\"url(#clip880)\" style=\"stroke:#000000; stroke-linecap:round; stroke-linejoin:round; stroke-width:4; stroke-opacity:1; fill:none\" points=\"\n",
       "  1424.1,793.076 1443,793.076 \n",
       "  \"/>\n",
       "<polyline clip-path=\"url(#clip880)\" style=\"stroke:#000000; stroke-linecap:round; stroke-linejoin:round; stroke-width:4; stroke-opacity:1; fill:none\" points=\"\n",
       "  1424.1,649.932 1443,649.932 \n",
       "  \"/>\n",
       "<polyline clip-path=\"url(#clip880)\" style=\"stroke:#000000; stroke-linecap:round; stroke-linejoin:round; stroke-width:4; stroke-opacity:1; fill:none\" points=\"\n",
       "  1424.1,506.787 1443,506.787 \n",
       "  \"/>\n",
       "<polyline clip-path=\"url(#clip880)\" style=\"stroke:#000000; stroke-linecap:round; stroke-linejoin:round; stroke-width:4; stroke-opacity:1; fill:none\" points=\"\n",
       "  1424.1,363.642 1443,363.642 \n",
       "  \"/>\n",
       "<polyline clip-path=\"url(#clip880)\" style=\"stroke:#000000; stroke-linecap:round; stroke-linejoin:round; stroke-width:4; stroke-opacity:1; fill:none\" points=\"\n",
       "  1424.1,220.497 1443,220.497 \n",
       "  \"/>\n",
       "<polyline clip-path=\"url(#clip880)\" style=\"stroke:#000000; stroke-linecap:round; stroke-linejoin:round; stroke-width:4; stroke-opacity:1; fill:none\" points=\"\n",
       "  1424.1,77.3517 1443,77.3517 \n",
       "  \"/>\n",
       "<path clip-path=\"url(#clip880)\" d=\"M1251.99 936.673 L1281.66 936.673 L1281.66 940.608 L1251.99 940.608 L1251.99 936.673 Z\" fill=\"#000000\" fill-rule=\"evenodd\" fill-opacity=\"1\" /><path clip-path=\"url(#clip880)\" d=\"M1301.76 922.02 Q1298.14 922.02 1296.32 925.585 Q1294.51 929.127 1294.51 936.256 Q1294.51 943.363 1296.32 946.927 Q1298.14 950.469 1301.76 950.469 Q1305.39 950.469 1307.2 946.927 Q1309.02 943.363 1309.02 936.256 Q1309.02 929.127 1307.2 925.585 Q1305.39 922.02 1301.76 922.02 M1301.76 918.316 Q1307.57 918.316 1310.62 922.923 Q1313.7 927.506 1313.7 936.256 Q1313.7 944.983 1310.62 949.589 Q1307.57 954.173 1301.76 954.173 Q1295.95 954.173 1292.87 949.589 Q1289.81 944.983 1289.81 936.256 Q1289.81 927.506 1292.87 922.923 Q1295.95 918.316 1301.76 918.316 Z\" fill=\"#000000\" fill-rule=\"evenodd\" fill-opacity=\"1\" /><path clip-path=\"url(#clip880)\" d=\"M1321.92 947.622 L1326.8 947.622 L1326.8 953.501 L1321.92 953.501 L1321.92 947.622 Z\" fill=\"#000000\" fill-rule=\"evenodd\" fill-opacity=\"1\" /><path clip-path=\"url(#clip880)\" d=\"M1335.81 918.941 L1358.03 918.941 L1358.03 920.932 L1345.48 953.501 L1340.6 953.501 L1352.4 922.877 L1335.81 922.877 L1335.81 918.941 Z\" fill=\"#000000\" fill-rule=\"evenodd\" fill-opacity=\"1\" /><path clip-path=\"url(#clip880)\" d=\"M1367.2 918.941 L1385.55 918.941 L1385.55 922.877 L1371.48 922.877 L1371.48 931.349 Q1372.5 931.002 1373.51 930.84 Q1374.53 930.654 1375.55 930.654 Q1381.34 930.654 1384.72 933.826 Q1388.1 936.997 1388.1 942.414 Q1388.1 947.992 1384.63 951.094 Q1381.15 954.173 1374.83 954.173 Q1372.66 954.173 1370.39 953.802 Q1368.14 953.432 1365.74 952.691 L1365.74 947.992 Q1367.82 949.126 1370.04 949.682 Q1372.26 950.238 1374.74 950.238 Q1378.75 950.238 1381.08 948.131 Q1383.42 946.025 1383.42 942.414 Q1383.42 938.802 1381.08 936.696 Q1378.75 934.59 1374.74 934.59 Q1372.87 934.59 1370.99 935.006 Q1369.14 935.423 1367.2 936.302 L1367.2 918.941 Z\" fill=\"#000000\" fill-rule=\"evenodd\" fill-opacity=\"1\" /><path clip-path=\"url(#clip880)\" d=\"M1250.99 793.528 L1280.67 793.528 L1280.67 797.463 L1250.99 797.463 L1250.99 793.528 Z\" fill=\"#000000\" fill-rule=\"evenodd\" fill-opacity=\"1\" /><path clip-path=\"url(#clip880)\" d=\"M1300.76 778.875 Q1297.15 778.875 1295.32 782.44 Q1293.52 785.982 1293.52 793.111 Q1293.52 800.218 1295.32 803.782 Q1297.15 807.324 1300.76 807.324 Q1304.39 807.324 1306.2 803.782 Q1308.03 800.218 1308.03 793.111 Q1308.03 785.982 1306.2 782.44 Q1304.39 778.875 1300.76 778.875 M1300.76 775.172 Q1306.57 775.172 1309.63 779.778 Q1312.7 784.361 1312.7 793.111 Q1312.7 801.838 1309.63 806.444 Q1306.57 811.028 1300.76 811.028 Q1294.95 811.028 1291.87 806.444 Q1288.82 801.838 1288.82 793.111 Q1288.82 784.361 1291.87 779.778 Q1294.95 775.172 1300.76 775.172 Z\" fill=\"#000000\" fill-rule=\"evenodd\" fill-opacity=\"1\" /><path clip-path=\"url(#clip880)\" d=\"M1320.92 804.477 L1325.81 804.477 L1325.81 810.356 L1320.92 810.356 L1320.92 804.477 Z\" fill=\"#000000\" fill-rule=\"evenodd\" fill-opacity=\"1\" /><path clip-path=\"url(#clip880)\" d=\"M1336.04 775.796 L1354.39 775.796 L1354.39 779.732 L1340.32 779.732 L1340.32 788.204 Q1341.34 787.857 1342.36 787.695 Q1343.38 787.509 1344.39 787.509 Q1350.18 787.509 1353.56 790.681 Q1356.94 793.852 1356.94 799.269 Q1356.94 804.847 1353.47 807.949 Q1350 811.028 1343.68 811.028 Q1341.5 811.028 1339.23 810.657 Q1336.99 810.287 1334.58 809.546 L1334.58 804.847 Q1336.66 805.982 1338.89 806.537 Q1341.11 807.093 1343.58 807.093 Q1347.59 807.093 1349.93 804.986 Q1352.26 802.88 1352.26 799.269 Q1352.26 795.658 1349.93 793.551 Q1347.59 791.445 1343.58 791.445 Q1341.71 791.445 1339.83 791.861 Q1337.98 792.278 1336.04 793.158 L1336.04 775.796 Z\" fill=\"#000000\" fill-rule=\"evenodd\" fill-opacity=\"1\" /><path clip-path=\"url(#clip880)\" d=\"M1376.15 778.875 Q1372.54 778.875 1370.71 782.44 Q1368.91 785.982 1368.91 793.111 Q1368.91 800.218 1370.71 803.782 Q1372.54 807.324 1376.15 807.324 Q1379.79 807.324 1381.59 803.782 Q1383.42 800.218 1383.42 793.111 Q1383.42 785.982 1381.59 782.44 Q1379.79 778.875 1376.15 778.875 M1376.15 775.172 Q1381.96 775.172 1385.02 779.778 Q1388.1 784.361 1388.1 793.111 Q1388.1 801.838 1385.02 806.444 Q1381.96 811.028 1376.15 811.028 Q1370.34 811.028 1367.26 806.444 Q1364.21 801.838 1364.21 793.111 Q1364.21 784.361 1367.26 779.778 Q1370.34 775.172 1376.15 775.172 Z\" fill=\"#000000\" fill-rule=\"evenodd\" fill-opacity=\"1\" /><path clip-path=\"url(#clip880)\" d=\"M1251.99 650.383 L1281.66 650.383 L1281.66 654.318 L1251.99 654.318 L1251.99 650.383 Z\" fill=\"#000000\" fill-rule=\"evenodd\" fill-opacity=\"1\" /><path clip-path=\"url(#clip880)\" d=\"M1301.76 635.73 Q1298.14 635.73 1296.32 639.295 Q1294.51 642.837 1294.51 649.966 Q1294.51 657.073 1296.32 660.638 Q1298.14 664.179 1301.76 664.179 Q1305.39 664.179 1307.2 660.638 Q1309.02 657.073 1309.02 649.966 Q1309.02 642.837 1307.2 639.295 Q1305.39 635.73 1301.76 635.73 M1301.76 632.027 Q1307.57 632.027 1310.62 636.633 Q1313.7 641.216 1313.7 649.966 Q1313.7 658.693 1310.62 663.3 Q1307.57 667.883 1301.76 667.883 Q1295.95 667.883 1292.87 663.3 Q1289.81 658.693 1289.81 649.966 Q1289.81 641.216 1292.87 636.633 Q1295.95 632.027 1301.76 632.027 Z\" fill=\"#000000\" fill-rule=\"evenodd\" fill-opacity=\"1\" /><path clip-path=\"url(#clip880)\" d=\"M1321.92 661.332 L1326.8 661.332 L1326.8 667.212 L1321.92 667.212 L1321.92 661.332 Z\" fill=\"#000000\" fill-rule=\"evenodd\" fill-opacity=\"1\" /><path clip-path=\"url(#clip880)\" d=\"M1341.01 663.276 L1357.33 663.276 L1357.33 667.212 L1335.39 667.212 L1335.39 663.276 Q1338.05 660.522 1342.64 655.892 Q1347.24 651.239 1348.42 649.897 Q1350.67 647.374 1351.55 645.638 Q1352.45 643.878 1352.45 642.189 Q1352.45 639.434 1350.51 637.698 Q1348.58 635.962 1345.48 635.962 Q1343.28 635.962 1340.83 636.726 Q1338.4 637.489 1335.62 639.04 L1335.62 634.318 Q1338.45 633.184 1340.9 632.605 Q1343.35 632.027 1345.39 632.027 Q1350.76 632.027 1353.95 634.712 Q1357.15 637.397 1357.15 641.888 Q1357.15 644.017 1356.34 645.939 Q1355.55 647.837 1353.45 650.429 Q1352.87 651.101 1349.76 654.318 Q1346.66 657.513 1341.01 663.276 Z\" fill=\"#000000\" fill-rule=\"evenodd\" fill-opacity=\"1\" /><path clip-path=\"url(#clip880)\" d=\"M1367.2 632.652 L1385.55 632.652 L1385.55 636.587 L1371.48 636.587 L1371.48 645.059 Q1372.5 644.712 1373.51 644.55 Q1374.53 644.364 1375.55 644.364 Q1381.34 644.364 1384.72 647.536 Q1388.1 650.707 1388.1 656.124 Q1388.1 661.702 1384.63 664.804 Q1381.15 667.883 1374.83 667.883 Q1372.66 667.883 1370.39 667.512 Q1368.14 667.142 1365.74 666.401 L1365.74 661.702 Q1367.82 662.837 1370.04 663.392 Q1372.26 663.948 1374.74 663.948 Q1378.75 663.948 1381.08 661.841 Q1383.42 659.735 1383.42 656.124 Q1383.42 652.513 1381.08 650.406 Q1378.75 648.3 1374.74 648.3 Q1372.87 648.3 1370.99 648.716 Q1369.14 649.133 1367.2 650.013 L1367.2 632.652 Z\" fill=\"#000000\" fill-rule=\"evenodd\" fill-opacity=\"1\" /><path clip-path=\"url(#clip880)\" d=\"M1300.76 492.585 Q1297.15 492.585 1295.32 496.15 Q1293.52 499.692 1293.52 506.821 Q1293.52 513.928 1295.32 517.493 Q1297.15 521.034 1300.76 521.034 Q1304.39 521.034 1306.2 517.493 Q1308.03 513.928 1308.03 506.821 Q1308.03 499.692 1306.2 496.15 Q1304.39 492.585 1300.76 492.585 M1300.76 488.882 Q1306.57 488.882 1309.63 493.488 Q1312.7 498.071 1312.7 506.821 Q1312.7 515.548 1309.63 520.155 Q1306.57 524.738 1300.76 524.738 Q1294.95 524.738 1291.87 520.155 Q1288.82 515.548 1288.82 506.821 Q1288.82 498.071 1291.87 493.488 Q1294.95 488.882 1300.76 488.882 Z\" fill=\"#000000\" fill-rule=\"evenodd\" fill-opacity=\"1\" /><path clip-path=\"url(#clip880)\" d=\"M1320.92 518.187 L1325.81 518.187 L1325.81 524.067 L1320.92 524.067 L1320.92 518.187 Z\" fill=\"#000000\" fill-rule=\"evenodd\" fill-opacity=\"1\" /><path clip-path=\"url(#clip880)\" d=\"M1345.99 492.585 Q1342.38 492.585 1340.55 496.15 Q1338.75 499.692 1338.75 506.821 Q1338.75 513.928 1340.55 517.493 Q1342.38 521.034 1345.99 521.034 Q1349.63 521.034 1351.43 517.493 Q1353.26 513.928 1353.26 506.821 Q1353.26 499.692 1351.43 496.15 Q1349.63 492.585 1345.99 492.585 M1345.99 488.882 Q1351.8 488.882 1354.86 493.488 Q1357.94 498.071 1357.94 506.821 Q1357.94 515.548 1354.86 520.155 Q1351.8 524.738 1345.99 524.738 Q1340.18 524.738 1337.1 520.155 Q1334.05 515.548 1334.05 506.821 Q1334.05 498.071 1337.1 493.488 Q1340.18 488.882 1345.99 488.882 Z\" fill=\"#000000\" fill-rule=\"evenodd\" fill-opacity=\"1\" /><path clip-path=\"url(#clip880)\" d=\"M1376.15 492.585 Q1372.54 492.585 1370.71 496.15 Q1368.91 499.692 1368.91 506.821 Q1368.91 513.928 1370.71 517.493 Q1372.54 521.034 1376.15 521.034 Q1379.79 521.034 1381.59 517.493 Q1383.42 513.928 1383.42 506.821 Q1383.42 499.692 1381.59 496.15 Q1379.79 492.585 1376.15 492.585 M1376.15 488.882 Q1381.96 488.882 1385.02 493.488 Q1388.1 498.071 1388.1 506.821 Q1388.1 515.548 1385.02 520.155 Q1381.96 524.738 1376.15 524.738 Q1370.34 524.738 1367.26 520.155 Q1364.21 515.548 1364.21 506.821 Q1364.21 498.071 1367.26 493.488 Q1370.34 488.882 1376.15 488.882 Z\" fill=\"#000000\" fill-rule=\"evenodd\" fill-opacity=\"1\" /><path clip-path=\"url(#clip880)\" d=\"M1301.76 349.44 Q1298.14 349.44 1296.32 353.005 Q1294.51 356.547 1294.51 363.676 Q1294.51 370.783 1296.32 374.348 Q1298.14 377.889 1301.76 377.889 Q1305.39 377.889 1307.2 374.348 Q1309.02 370.783 1309.02 363.676 Q1309.02 356.547 1307.2 353.005 Q1305.39 349.44 1301.76 349.44 M1301.76 345.737 Q1307.57 345.737 1310.62 350.343 Q1313.7 354.926 1313.7 363.676 Q1313.7 372.403 1310.62 377.01 Q1307.57 381.593 1301.76 381.593 Q1295.95 381.593 1292.87 377.01 Q1289.81 372.403 1289.81 363.676 Q1289.81 354.926 1292.87 350.343 Q1295.95 345.737 1301.76 345.737 Z\" fill=\"#000000\" fill-rule=\"evenodd\" fill-opacity=\"1\" /><path clip-path=\"url(#clip880)\" d=\"M1321.92 375.042 L1326.8 375.042 L1326.8 380.922 L1321.92 380.922 L1321.92 375.042 Z\" fill=\"#000000\" fill-rule=\"evenodd\" fill-opacity=\"1\" /><path clip-path=\"url(#clip880)\" d=\"M1341.01 376.986 L1357.33 376.986 L1357.33 380.922 L1335.39 380.922 L1335.39 376.986 Q1338.05 374.232 1342.64 369.602 Q1347.24 364.95 1348.42 363.607 Q1350.67 361.084 1351.55 359.348 Q1352.45 357.588 1352.45 355.899 Q1352.45 353.144 1350.51 351.408 Q1348.58 349.672 1345.48 349.672 Q1343.28 349.672 1340.83 350.436 Q1338.4 351.2 1335.62 352.75 L1335.62 348.028 Q1338.45 346.894 1340.9 346.315 Q1343.35 345.737 1345.39 345.737 Q1350.76 345.737 1353.95 348.422 Q1357.15 351.107 1357.15 355.598 Q1357.15 357.727 1356.34 359.649 Q1355.55 361.547 1353.45 364.139 Q1352.87 364.811 1349.76 368.028 Q1346.66 371.223 1341.01 376.986 Z\" fill=\"#000000\" fill-rule=\"evenodd\" fill-opacity=\"1\" /><path clip-path=\"url(#clip880)\" d=\"M1367.2 346.362 L1385.55 346.362 L1385.55 350.297 L1371.48 350.297 L1371.48 358.769 Q1372.5 358.422 1373.51 358.26 Q1374.53 358.075 1375.55 358.075 Q1381.34 358.075 1384.72 361.246 Q1388.1 364.417 1388.1 369.834 Q1388.1 375.412 1384.63 378.514 Q1381.15 381.593 1374.83 381.593 Q1372.66 381.593 1370.39 381.223 Q1368.14 380.852 1365.74 380.111 L1365.74 375.412 Q1367.82 376.547 1370.04 377.102 Q1372.26 377.658 1374.74 377.658 Q1378.75 377.658 1381.08 375.551 Q1383.42 373.445 1383.42 369.834 Q1383.42 366.223 1381.08 364.116 Q1378.75 362.01 1374.74 362.01 Q1372.87 362.01 1370.99 362.426 Q1369.14 362.843 1367.2 363.723 L1367.2 346.362 Z\" fill=\"#000000\" fill-rule=\"evenodd\" fill-opacity=\"1\" /><path clip-path=\"url(#clip880)\" d=\"M1300.76 206.295 Q1297.15 206.295 1295.32 209.86 Q1293.52 213.402 1293.52 220.531 Q1293.52 227.638 1295.32 231.203 Q1297.15 234.744 1300.76 234.744 Q1304.39 234.744 1306.2 231.203 Q1308.03 227.638 1308.03 220.531 Q1308.03 213.402 1306.2 209.86 Q1304.39 206.295 1300.76 206.295 M1300.76 202.592 Q1306.57 202.592 1309.63 207.198 Q1312.7 211.781 1312.7 220.531 Q1312.7 229.258 1309.63 233.865 Q1306.57 238.448 1300.76 238.448 Q1294.95 238.448 1291.87 233.865 Q1288.82 229.258 1288.82 220.531 Q1288.82 211.781 1291.87 207.198 Q1294.95 202.592 1300.76 202.592 Z\" fill=\"#000000\" fill-rule=\"evenodd\" fill-opacity=\"1\" /><path clip-path=\"url(#clip880)\" d=\"M1320.92 231.897 L1325.81 231.897 L1325.81 237.777 L1320.92 237.777 L1320.92 231.897 Z\" fill=\"#000000\" fill-rule=\"evenodd\" fill-opacity=\"1\" /><path clip-path=\"url(#clip880)\" d=\"M1336.04 203.217 L1354.39 203.217 L1354.39 207.152 L1340.32 207.152 L1340.32 215.624 Q1341.34 215.277 1342.36 215.115 Q1343.38 214.93 1344.39 214.93 Q1350.18 214.93 1353.56 218.101 Q1356.94 221.272 1356.94 226.689 Q1356.94 232.267 1353.47 235.369 Q1350 238.448 1343.68 238.448 Q1341.5 238.448 1339.23 238.078 Q1336.99 237.707 1334.58 236.967 L1334.58 232.267 Q1336.66 233.402 1338.89 233.957 Q1341.11 234.513 1343.58 234.513 Q1347.59 234.513 1349.93 232.406 Q1352.26 230.3 1352.26 226.689 Q1352.26 223.078 1349.93 220.971 Q1347.59 218.865 1343.58 218.865 Q1341.71 218.865 1339.83 219.281 Q1337.98 219.698 1336.04 220.578 L1336.04 203.217 Z\" fill=\"#000000\" fill-rule=\"evenodd\" fill-opacity=\"1\" /><path clip-path=\"url(#clip880)\" d=\"M1376.15 206.295 Q1372.54 206.295 1370.71 209.86 Q1368.91 213.402 1368.91 220.531 Q1368.91 227.638 1370.71 231.203 Q1372.54 234.744 1376.15 234.744 Q1379.79 234.744 1381.59 231.203 Q1383.42 227.638 1383.42 220.531 Q1383.42 213.402 1381.59 209.86 Q1379.79 206.295 1376.15 206.295 M1376.15 202.592 Q1381.96 202.592 1385.02 207.198 Q1388.1 211.781 1388.1 220.531 Q1388.1 229.258 1385.02 233.865 Q1381.96 238.448 1376.15 238.448 Q1370.34 238.448 1367.26 233.865 Q1364.21 229.258 1364.21 220.531 Q1364.21 211.781 1367.26 207.198 Q1370.34 202.592 1376.15 202.592 Z\" fill=\"#000000\" fill-rule=\"evenodd\" fill-opacity=\"1\" /><path clip-path=\"url(#clip880)\" d=\"M1301.76 63.1504 Q1298.14 63.1504 1296.32 66.7152 Q1294.51 70.2569 1294.51 77.3865 Q1294.51 84.4929 1296.32 88.0577 Q1298.14 91.5993 1301.76 91.5993 Q1305.39 91.5993 1307.2 88.0577 Q1309.02 84.4929 1309.02 77.3865 Q1309.02 70.2569 1307.2 66.7152 Q1305.39 63.1504 1301.76 63.1504 M1301.76 59.4467 Q1307.57 59.4467 1310.62 64.0532 Q1313.7 68.6365 1313.7 77.3865 Q1313.7 86.1133 1310.62 90.7197 Q1307.57 95.303 1301.76 95.303 Q1295.95 95.303 1292.87 90.7197 Q1289.81 86.1133 1289.81 77.3865 Q1289.81 68.6365 1292.87 64.0532 Q1295.95 59.4467 1301.76 59.4467 Z\" fill=\"#000000\" fill-rule=\"evenodd\" fill-opacity=\"1\" /><path clip-path=\"url(#clip880)\" d=\"M1321.92 88.7521 L1326.8 88.7521 L1326.8 94.6317 L1321.92 94.6317 L1321.92 88.7521 Z\" fill=\"#000000\" fill-rule=\"evenodd\" fill-opacity=\"1\" /><path clip-path=\"url(#clip880)\" d=\"M1335.81 60.0717 L1358.03 60.0717 L1358.03 62.0625 L1345.48 94.6317 L1340.6 94.6317 L1352.4 64.0069 L1335.81 64.0069 L1335.81 60.0717 Z\" fill=\"#000000\" fill-rule=\"evenodd\" fill-opacity=\"1\" /><path clip-path=\"url(#clip880)\" d=\"M1367.2 60.0717 L1385.55 60.0717 L1385.55 64.0069 L1371.48 64.0069 L1371.48 72.4791 Q1372.5 72.1319 1373.51 71.9698 Q1374.53 71.7846 1375.55 71.7846 Q1381.34 71.7846 1384.72 74.9559 Q1388.1 78.1272 1388.1 83.5438 Q1388.1 89.1225 1384.63 92.2243 Q1381.15 95.303 1374.83 95.303 Q1372.66 95.303 1370.39 94.9327 Q1368.14 94.5623 1365.74 93.8216 L1365.74 89.1225 Q1367.82 90.2568 1370.04 90.8123 Q1372.26 91.3679 1374.74 91.3679 Q1378.75 91.3679 1381.08 89.2614 Q1383.42 87.1549 1383.42 83.5438 Q1383.42 79.9327 1381.08 77.8263 Q1378.75 75.7198 1374.74 75.7198 Q1372.87 75.7198 1370.99 76.1365 Q1369.14 76.5531 1367.2 77.4328 L1367.2 60.0717 Z\" fill=\"#000000\" fill-rule=\"evenodd\" fill-opacity=\"1\" /><circle clip-path=\"url(#clip883)\" cx=\"1691.11\" cy=\"631.19\" r=\"14.4\" fill=\"#cd5c5c\" fill-rule=\"evenodd\" fill-opacity=\"1\" stroke=\"#000000\" stroke-opacity=\"1\" stroke-width=\"2.4\"/>\n",
       "<circle clip-path=\"url(#clip883)\" cx=\"1519.94\" cy=\"923.248\" r=\"14.4\" fill=\"#cd5c5c\" fill-rule=\"evenodd\" fill-opacity=\"1\" stroke=\"#000000\" stroke-opacity=\"1\" stroke-width=\"2.4\"/>\n",
       "<circle clip-path=\"url(#clip883)\" cx=\"1608.2\" cy=\"967.343\" r=\"14.4\" fill=\"#cd5c5c\" fill-rule=\"evenodd\" fill-opacity=\"1\" stroke=\"#000000\" stroke-opacity=\"1\" stroke-width=\"2.4\"/>\n",
       "<circle clip-path=\"url(#clip883)\" cx=\"1702.15\" cy=\"1000.66\" r=\"14.4\" fill=\"#cd5c5c\" fill-rule=\"evenodd\" fill-opacity=\"1\" stroke=\"#000000\" stroke-opacity=\"1\" stroke-width=\"2.4\"/>\n",
       "<circle clip-path=\"url(#clip883)\" cx=\"1450.38\" cy=\"675.884\" r=\"14.4\" fill=\"#cd5c5c\" fill-rule=\"evenodd\" fill-opacity=\"1\" stroke=\"#000000\" stroke-opacity=\"1\" stroke-width=\"2.4\"/>\n",
       "<circle clip-path=\"url(#clip883)\" cx=\"1742\" cy=\"929.483\" r=\"14.4\" fill=\"#cd5c5c\" fill-rule=\"evenodd\" fill-opacity=\"1\" stroke=\"#000000\" stroke-opacity=\"1\" stroke-width=\"2.4\"/>\n",
       "<circle clip-path=\"url(#clip883)\" cx=\"1850.66\" cy=\"589.776\" r=\"14.4\" fill=\"#cd5c5c\" fill-rule=\"evenodd\" fill-opacity=\"1\" stroke=\"#000000\" stroke-opacity=\"1\" stroke-width=\"2.4\"/>\n",
       "<circle clip-path=\"url(#clip883)\" cx=\"1624.72\" cy=\"690.28\" r=\"14.4\" fill=\"#cd5c5c\" fill-rule=\"evenodd\" fill-opacity=\"1\" stroke=\"#000000\" stroke-opacity=\"1\" stroke-width=\"2.4\"/>\n",
       "<circle clip-path=\"url(#clip883)\" cx=\"1753.93\" cy=\"685.136\" r=\"14.4\" fill=\"#cd5c5c\" fill-rule=\"evenodd\" fill-opacity=\"1\" stroke=\"#000000\" stroke-opacity=\"1\" stroke-width=\"2.4\"/>\n",
       "<circle clip-path=\"url(#clip883)\" cx=\"1654.68\" cy=\"828.306\" r=\"14.4\" fill=\"#cd5c5c\" fill-rule=\"evenodd\" fill-opacity=\"1\" stroke=\"#000000\" stroke-opacity=\"1\" stroke-width=\"2.4\"/>\n",
       "<circle clip-path=\"url(#clip883)\" cx=\"1687.03\" cy=\"507.201\" r=\"14.4\" fill=\"#cd5c5c\" fill-rule=\"evenodd\" fill-opacity=\"1\" stroke=\"#000000\" stroke-opacity=\"1\" stroke-width=\"2.4\"/>\n",
       "<circle clip-path=\"url(#clip883)\" cx=\"1973.78\" cy=\"455.059\" r=\"14.4\" fill=\"#cd5c5c\" fill-rule=\"evenodd\" fill-opacity=\"1\" stroke=\"#000000\" stroke-opacity=\"1\" stroke-width=\"2.4\"/>\n",
       "<circle clip-path=\"url(#clip883)\" cx=\"1531.67\" cy=\"800.875\" r=\"14.4\" fill=\"#cd5c5c\" fill-rule=\"evenodd\" fill-opacity=\"1\" stroke=\"#000000\" stroke-opacity=\"1\" stroke-width=\"2.4\"/>\n",
       "<circle clip-path=\"url(#clip883)\" cx=\"1506.28\" cy=\"945.156\" r=\"14.4\" fill=\"#cd5c5c\" fill-rule=\"evenodd\" fill-opacity=\"1\" stroke=\"#000000\" stroke-opacity=\"1\" stroke-width=\"2.4\"/>\n",
       "<circle clip-path=\"url(#clip883)\" cx=\"1945.79\" cy=\"591.135\" r=\"14.4\" fill=\"#cd5c5c\" fill-rule=\"evenodd\" fill-opacity=\"1\" stroke=\"#000000\" stroke-opacity=\"1\" stroke-width=\"2.4\"/>\n",
       "<circle clip-path=\"url(#clip883)\" cx=\"1764.57\" cy=\"756.783\" r=\"14.4\" fill=\"#cd5c5c\" fill-rule=\"evenodd\" fill-opacity=\"1\" stroke=\"#000000\" stroke-opacity=\"1\" stroke-width=\"2.4\"/>\n",
       "<circle clip-path=\"url(#clip883)\" cx=\"1686.58\" cy=\"628.947\" r=\"14.4\" fill=\"#cd5c5c\" fill-rule=\"evenodd\" fill-opacity=\"1\" stroke=\"#000000\" stroke-opacity=\"1\" stroke-width=\"2.4\"/>\n",
       "<circle clip-path=\"url(#clip883)\" cx=\"2004.28\" cy=\"332.876\" r=\"14.4\" fill=\"#cd5c5c\" fill-rule=\"evenodd\" fill-opacity=\"1\" stroke=\"#000000\" stroke-opacity=\"1\" stroke-width=\"2.4\"/>\n",
       "<circle clip-path=\"url(#clip883)\" cx=\"1561.77\" cy=\"667.184\" r=\"14.4\" fill=\"#cd5c5c\" fill-rule=\"evenodd\" fill-opacity=\"1\" stroke=\"#000000\" stroke-opacity=\"1\" stroke-width=\"2.4\"/>\n",
       "<circle clip-path=\"url(#clip883)\" cx=\"1559.64\" cy=\"1019.39\" r=\"14.4\" fill=\"#cd5c5c\" fill-rule=\"evenodd\" fill-opacity=\"1\" stroke=\"#000000\" stroke-opacity=\"1\" stroke-width=\"2.4\"/>\n",
       "<circle clip-path=\"url(#clip883)\" cx=\"1762.16\" cy=\"633.866\" r=\"14.4\" fill=\"#cd5c5c\" fill-rule=\"evenodd\" fill-opacity=\"1\" stroke=\"#000000\" stroke-opacity=\"1\" stroke-width=\"2.4\"/>\n",
       "<circle clip-path=\"url(#clip883)\" cx=\"1555.43\" cy=\"934.989\" r=\"14.4\" fill=\"#cd5c5c\" fill-rule=\"evenodd\" fill-opacity=\"1\" stroke=\"#000000\" stroke-opacity=\"1\" stroke-width=\"2.4\"/>\n",
       "<circle clip-path=\"url(#clip883)\" cx=\"2032.33\" cy=\"158.716\" r=\"14.4\" fill=\"#4682b4\" fill-rule=\"evenodd\" fill-opacity=\"1\" stroke=\"#000000\" stroke-opacity=\"1\" stroke-width=\"2.4\"/>\n",
       "<circle clip-path=\"url(#clip883)\" cx=\"2116.81\" cy=\"437.129\" r=\"14.4\" fill=\"#4682b4\" fill-rule=\"evenodd\" fill-opacity=\"1\" stroke=\"#000000\" stroke-opacity=\"1\" stroke-width=\"2.4\"/>\n",
       "<circle clip-path=\"url(#clip883)\" cx=\"2018.85\" cy=\"319.181\" r=\"14.4\" fill=\"#4682b4\" fill-rule=\"evenodd\" fill-opacity=\"1\" stroke=\"#000000\" stroke-opacity=\"1\" stroke-width=\"2.4\"/>\n",
       "<circle clip-path=\"url(#clip883)\" cx=\"2032.13\" cy=\"240.353\" r=\"14.4\" fill=\"#4682b4\" fill-rule=\"evenodd\" fill-opacity=\"1\" stroke=\"#000000\" stroke-opacity=\"1\" stroke-width=\"2.4\"/>\n",
       "<circle clip-path=\"url(#clip883)\" cx=\"2092.06\" cy=\"306.665\" r=\"14.4\" fill=\"#4682b4\" fill-rule=\"evenodd\" fill-opacity=\"1\" stroke=\"#000000\" stroke-opacity=\"1\" stroke-width=\"2.4\"/>\n",
       "<circle clip-path=\"url(#clip883)\" cx=\"2088.52\" cy=\"340.036\" r=\"14.4\" fill=\"#4682b4\" fill-rule=\"evenodd\" fill-opacity=\"1\" stroke=\"#000000\" stroke-opacity=\"1\" stroke-width=\"2.4\"/>\n",
       "<circle clip-path=\"url(#clip883)\" cx=\"2195.91\" cy=\"338.552\" r=\"14.4\" fill=\"#4682b4\" fill-rule=\"evenodd\" fill-opacity=\"1\" stroke=\"#000000\" stroke-opacity=\"1\" stroke-width=\"2.4\"/>\n",
       "<circle clip-path=\"url(#clip883)\" cx=\"2289.65\" cy=\"147.014\" r=\"14.4\" fill=\"#4682b4\" fill-rule=\"evenodd\" fill-opacity=\"1\" stroke=\"#000000\" stroke-opacity=\"1\" stroke-width=\"2.4\"/>\n",
       "<circle clip-path=\"url(#clip883)\" cx=\"1933.1\" cy=\"180.171\" r=\"14.4\" fill=\"#4682b4\" fill-rule=\"evenodd\" fill-opacity=\"1\" stroke=\"#000000\" stroke-opacity=\"1\" stroke-width=\"2.4\"/>\n",
       "<circle clip-path=\"url(#clip883)\" cx=\"2099.65\" cy=\"75.5589\" r=\"14.4\" fill=\"#4682b4\" fill-rule=\"evenodd\" fill-opacity=\"1\" stroke=\"#000000\" stroke-opacity=\"1\" stroke-width=\"2.4\"/>\n",
       "<circle clip-path=\"url(#clip883)\" cx=\"1993.48\" cy=\"893.387\" r=\"14.4\" fill=\"#4682b4\" fill-rule=\"evenodd\" fill-opacity=\"1\" stroke=\"#000000\" stroke-opacity=\"1\" stroke-width=\"2.4\"/>\n",
       "<circle clip-path=\"url(#clip883)\" cx=\"2165.34\" cy=\"283.796\" r=\"14.4\" fill=\"#4682b4\" fill-rule=\"evenodd\" fill-opacity=\"1\" stroke=\"#000000\" stroke-opacity=\"1\" stroke-width=\"2.4\"/>\n",
       "<circle clip-path=\"url(#clip883)\" cx=\"1942.18\" cy=\"278.069\" r=\"14.4\" fill=\"#4682b4\" fill-rule=\"evenodd\" fill-opacity=\"1\" stroke=\"#000000\" stroke-opacity=\"1\" stroke-width=\"2.4\"/>\n",
       "<circle clip-path=\"url(#clip883)\" cx=\"2107.72\" cy=\"737.376\" r=\"14.4\" fill=\"#4682b4\" fill-rule=\"evenodd\" fill-opacity=\"1\" stroke=\"#000000\" stroke-opacity=\"1\" stroke-width=\"2.4\"/>\n",
       "<circle clip-path=\"url(#clip883)\" cx=\"2306.22\" cy=\"429.011\" r=\"14.4\" fill=\"#4682b4\" fill-rule=\"evenodd\" fill-opacity=\"1\" stroke=\"#000000\" stroke-opacity=\"1\" stroke-width=\"2.4\"/>\n",
       "<circle clip-path=\"url(#clip883)\" cx=\"2187.29\" cy=\"242.037\" r=\"14.4\" fill=\"#4682b4\" fill-rule=\"evenodd\" fill-opacity=\"1\" stroke=\"#000000\" stroke-opacity=\"1\" stroke-width=\"2.4\"/>\n",
       "<circle clip-path=\"url(#clip883)\" cx=\"1982.73\" cy=\"380.038\" r=\"14.4\" fill=\"#4682b4\" fill-rule=\"evenodd\" fill-opacity=\"1\" stroke=\"#000000\" stroke-opacity=\"1\" stroke-width=\"2.4\"/>\n",
       "<circle clip-path=\"url(#clip883)\" cx=\"1958.87\" cy=\"210.051\" r=\"14.4\" fill=\"#4682b4\" fill-rule=\"evenodd\" fill-opacity=\"1\" stroke=\"#000000\" stroke-opacity=\"1\" stroke-width=\"2.4\"/>\n",
       "<circle clip-path=\"url(#clip883)\" cx=\"1966.25\" cy=\"330.921\" r=\"14.4\" fill=\"#4682b4\" fill-rule=\"evenodd\" fill-opacity=\"1\" stroke=\"#000000\" stroke-opacity=\"1\" stroke-width=\"2.4\"/>\n",
       "<circle clip-path=\"url(#clip883)\" cx=\"2181.01\" cy=\"415.862\" r=\"14.4\" fill=\"#4682b4\" fill-rule=\"evenodd\" fill-opacity=\"1\" stroke=\"#000000\" stroke-opacity=\"1\" stroke-width=\"2.4\"/>\n",
       "<circle clip-path=\"url(#clip883)\" cx=\"2012.96\" cy=\"222.235\" r=\"14.4\" fill=\"#4682b4\" fill-rule=\"evenodd\" fill-opacity=\"1\" stroke=\"#000000\" stroke-opacity=\"1\" stroke-width=\"2.4\"/>\n",
       "<circle clip-path=\"url(#clip883)\" cx=\"1975.24\" cy=\"256.545\" r=\"14.4\" fill=\"#4682b4\" fill-rule=\"evenodd\" fill-opacity=\"1\" stroke=\"#000000\" stroke-opacity=\"1\" stroke-width=\"2.4\"/>\n",
       "<circle clip-path=\"url(#clip883)\" cx=\"2326.47\" cy=\"399.83\" r=\"14.4\" fill=\"#4682b4\" fill-rule=\"evenodd\" fill-opacity=\"1\" stroke=\"#000000\" stroke-opacity=\"1\" stroke-width=\"2.4\"/>\n",
       "<circle clip-path=\"url(#clip883)\" cx=\"2083.6\" cy=\"95.4525\" r=\"14.4\" fill=\"#4682b4\" fill-rule=\"evenodd\" fill-opacity=\"1\" stroke=\"#000000\" stroke-opacity=\"1\" stroke-width=\"2.4\"/>\n",
       "<circle clip-path=\"url(#clip883)\" cx=\"2101.59\" cy=\"340.062\" r=\"14.4\" fill=\"#4682b4\" fill-rule=\"evenodd\" fill-opacity=\"1\" stroke=\"#000000\" stroke-opacity=\"1\" stroke-width=\"2.4\"/>\n",
       "<circle clip-path=\"url(#clip883)\" cx=\"2135\" cy=\"346.233\" r=\"14.4\" fill=\"#4682b4\" fill-rule=\"evenodd\" fill-opacity=\"1\" stroke=\"#000000\" stroke-opacity=\"1\" stroke-width=\"2.4\"/>\n",
       "<circle clip-path=\"url(#clip883)\" cx=\"2081.15\" cy=\"279.112\" r=\"14.4\" fill=\"#4682b4\" fill-rule=\"evenodd\" fill-opacity=\"1\" stroke=\"#000000\" stroke-opacity=\"1\" stroke-width=\"2.4\"/>\n",
       "<circle clip-path=\"url(#clip883)\" cx=\"2319.25\" cy=\"461.178\" r=\"14.4\" fill=\"#4682b4\" fill-rule=\"evenodd\" fill-opacity=\"1\" stroke=\"#000000\" stroke-opacity=\"1\" stroke-width=\"2.4\"/>\n",
       "<path clip-path=\"url(#clip880)\" d=\"\n",
       "M2064.68 236.113 L2321.8 236.113 L2321.8 80.5926 L2064.68 80.5926  Z\n",
       "  \" fill=\"#ffffff\" fill-rule=\"evenodd\" fill-opacity=\"1\"/>\n",
       "<polyline clip-path=\"url(#clip880)\" style=\"stroke:#000000; stroke-linecap:round; stroke-linejoin:round; stroke-width:4; stroke-opacity:1; fill:none\" points=\"\n",
       "  2064.68,236.113 2321.8,236.113 2321.8,80.5926 2064.68,80.5926 2064.68,236.113 \n",
       "  \"/>\n",
       "<circle clip-path=\"url(#clip880)\" cx=\"2105.96\" cy=\"132.433\" r=\"23.04\" fill=\"#cd5c5c\" fill-rule=\"evenodd\" fill-opacity=\"1\" stroke=\"#000000\" stroke-opacity=\"1\" stroke-width=\"3.84\"/>\n",
       "<path clip-path=\"url(#clip880)\" d=\"M2175.1 117.815 L2175.1 122.745 Q2172.74 120.546 2170.05 119.458 Q2167.39 118.37 2164.38 118.37 Q2158.46 118.37 2155.31 122.004 Q2152.16 125.616 2152.16 132.467 Q2152.16 139.296 2155.31 142.93 Q2158.46 146.541 2164.38 146.541 Q2167.39 146.541 2170.05 145.453 Q2172.74 144.365 2175.1 142.166 L2175.1 147.051 Q2172.65 148.717 2169.89 149.551 Q2167.16 150.384 2164.1 150.384 Q2156.26 150.384 2151.74 145.592 Q2147.23 140.777 2147.23 132.467 Q2147.23 124.134 2151.74 119.342 Q2156.26 114.528 2164.1 114.528 Q2167.21 114.528 2169.94 115.361 Q2172.69 116.171 2175.1 117.815 Z\" fill=\"#000000\" fill-rule=\"evenodd\" fill-opacity=\"1\" /><path clip-path=\"url(#clip880)\" d=\"M2192.18 126.773 Q2188.76 126.773 2186.77 129.458 Q2184.78 132.12 2184.78 136.773 Q2184.78 141.426 2186.74 144.111 Q2188.73 146.773 2192.18 146.773 Q2195.59 146.773 2197.58 144.088 Q2199.57 141.402 2199.57 136.773 Q2199.57 132.166 2197.58 129.481 Q2195.59 126.773 2192.18 126.773 M2192.18 123.162 Q2197.74 123.162 2200.91 126.773 Q2204.08 130.384 2204.08 136.773 Q2204.08 143.139 2200.91 146.773 Q2197.74 150.384 2192.18 150.384 Q2186.6 150.384 2183.43 146.773 Q2180.28 143.139 2180.28 136.773 Q2180.28 130.384 2183.43 126.773 Q2186.6 123.162 2192.18 123.162 Z\" fill=\"#000000\" fill-rule=\"evenodd\" fill-opacity=\"1\" /><path clip-path=\"url(#clip880)\" d=\"M2222.92 136.68 Q2217.76 136.68 2215.77 137.861 Q2213.78 139.041 2213.78 141.889 Q2213.78 144.157 2215.26 145.5 Q2216.77 146.819 2219.34 146.819 Q2222.88 146.819 2225.01 144.319 Q2227.16 141.796 2227.16 137.629 L2227.16 136.68 L2222.92 136.68 M2231.42 134.921 L2231.42 149.713 L2227.16 149.713 L2227.16 145.777 Q2225.7 148.139 2223.53 149.273 Q2221.35 150.384 2218.2 150.384 Q2214.22 150.384 2211.86 148.162 Q2209.52 145.916 2209.52 142.166 Q2209.52 137.791 2212.44 135.569 Q2215.38 133.347 2221.19 133.347 L2227.16 133.347 L2227.16 132.93 Q2227.16 129.991 2225.22 128.393 Q2223.29 126.773 2219.8 126.773 Q2217.58 126.773 2215.47 127.305 Q2213.36 127.838 2211.42 128.903 L2211.42 124.967 Q2213.76 124.065 2215.96 123.625 Q2218.15 123.162 2220.24 123.162 Q2225.86 123.162 2228.64 126.078 Q2231.42 128.995 2231.42 134.921 Z\" fill=\"#000000\" fill-rule=\"evenodd\" fill-opacity=\"1\" /><path clip-path=\"url(#clip880)\" d=\"M2244.4 116.426 L2244.4 123.787 L2253.18 123.787 L2253.18 127.097 L2244.4 127.097 L2244.4 141.171 Q2244.4 144.342 2245.26 145.245 Q2246.14 146.148 2248.8 146.148 L2253.18 146.148 L2253.18 149.713 L2248.8 149.713 Q2243.87 149.713 2242 147.884 Q2240.12 146.032 2240.12 141.171 L2240.12 127.097 L2237 127.097 L2237 123.787 L2240.12 123.787 L2240.12 116.426 L2244.4 116.426 Z\" fill=\"#000000\" fill-rule=\"evenodd\" fill-opacity=\"1\" /><circle clip-path=\"url(#clip880)\" cx=\"2105.96\" cy=\"184.273\" r=\"23.04\" fill=\"#4682b4\" fill-rule=\"evenodd\" fill-opacity=\"1\" stroke=\"#000000\" stroke-opacity=\"1\" stroke-width=\"3.84\"/>\n",
       "<path clip-path=\"url(#clip880)\" d=\"M2169.47 168.127 L2169.47 172.687 Q2166.81 171.414 2164.45 170.789 Q2162.09 170.164 2159.89 170.164 Q2156.07 170.164 2153.99 171.645 Q2151.93 173.127 2151.93 175.858 Q2151.93 178.15 2153.29 179.331 Q2154.68 180.488 2158.53 181.206 L2161.35 181.784 Q2166.58 182.78 2169.06 185.303 Q2171.56 187.803 2171.56 192.016 Q2171.56 197.039 2168.18 199.631 Q2164.82 202.224 2158.32 202.224 Q2155.86 202.224 2153.09 201.668 Q2150.33 201.113 2147.37 200.025 L2147.37 195.21 Q2150.22 196.807 2152.95 197.617 Q2155.68 198.428 2158.32 198.428 Q2162.32 198.428 2164.5 196.854 Q2166.67 195.28 2166.67 192.363 Q2166.67 189.817 2165.1 188.381 Q2163.55 186.946 2159.98 186.229 L2157.14 185.673 Q2151.91 184.631 2149.57 182.409 Q2147.23 180.187 2147.23 176.229 Q2147.23 171.645 2150.45 169.006 Q2153.69 166.368 2159.36 166.368 Q2161.79 166.368 2164.31 166.807 Q2166.84 167.247 2169.47 168.127 Z\" fill=\"#000000\" fill-rule=\"evenodd\" fill-opacity=\"1\" /><path clip-path=\"url(#clip880)\" d=\"M2190.45 188.52 Q2185.28 188.52 2183.29 189.701 Q2181.3 190.881 2181.3 193.729 Q2181.3 195.997 2182.78 197.34 Q2184.29 198.659 2186.86 198.659 Q2190.4 198.659 2192.53 196.159 Q2194.68 193.636 2194.68 189.469 L2194.68 188.52 L2190.45 188.52 M2198.94 186.761 L2198.94 201.553 L2194.68 201.553 L2194.68 197.617 Q2193.22 199.979 2191.05 201.113 Q2188.87 202.224 2185.72 202.224 Q2181.74 202.224 2179.38 200.002 Q2177.04 197.756 2177.04 194.006 Q2177.04 189.631 2179.96 187.409 Q2182.9 185.187 2188.71 185.187 L2194.68 185.187 L2194.68 184.77 Q2194.68 181.831 2192.74 180.233 Q2190.82 178.613 2187.32 178.613 Q2185.1 178.613 2182.99 179.145 Q2180.89 179.678 2178.94 180.743 L2178.94 176.807 Q2181.28 175.905 2183.48 175.465 Q2185.68 175.002 2187.76 175.002 Q2193.39 175.002 2196.16 177.918 Q2198.94 180.835 2198.94 186.761 Z\" fill=\"#000000\" fill-rule=\"evenodd\" fill-opacity=\"1\" /><path clip-path=\"url(#clip880)\" d=\"M2229.27 185.905 L2229.27 201.553 L2225.01 201.553 L2225.01 186.043 Q2225.01 182.363 2223.57 180.534 Q2222.14 178.706 2219.27 178.706 Q2215.82 178.706 2213.83 180.905 Q2211.84 183.104 2211.84 186.9 L2211.84 201.553 L2207.55 201.553 L2207.55 175.627 L2211.84 175.627 L2211.84 179.655 Q2213.36 177.317 2215.42 176.159 Q2217.51 175.002 2220.22 175.002 Q2224.68 175.002 2226.97 177.78 Q2229.27 180.534 2229.27 185.905 Z\" fill=\"#000000\" fill-rule=\"evenodd\" fill-opacity=\"1\" /><path clip-path=\"url(#clip880)\" d=\"M2254.82 179.562 L2254.82 165.534 L2259.08 165.534 L2259.08 201.553 L2254.82 201.553 L2254.82 197.664 Q2253.48 199.979 2251.42 201.113 Q2249.38 202.224 2246.51 202.224 Q2241.81 202.224 2238.85 198.474 Q2235.91 194.724 2235.91 188.613 Q2235.91 182.502 2238.85 178.752 Q2241.81 175.002 2246.51 175.002 Q2249.38 175.002 2251.42 176.136 Q2253.48 177.247 2254.82 179.562 M2240.31 188.613 Q2240.31 193.312 2242.23 195.997 Q2244.17 198.659 2247.55 198.659 Q2250.93 198.659 2252.88 195.997 Q2254.82 193.312 2254.82 188.613 Q2254.82 183.914 2252.88 181.252 Q2250.93 178.567 2247.55 178.567 Q2244.17 178.567 2242.23 181.252 Q2240.31 183.914 2240.31 188.613 Z\" fill=\"#000000\" fill-rule=\"evenodd\" fill-opacity=\"1\" /><path clip-path=\"url(#clip880)\" d=\"M2279.64 188.52 Q2274.47 188.52 2272.48 189.701 Q2270.49 190.881 2270.49 193.729 Q2270.49 195.997 2271.97 197.34 Q2273.48 198.659 2276.05 198.659 Q2279.59 198.659 2281.72 196.159 Q2283.87 193.636 2283.87 189.469 L2283.87 188.52 L2279.64 188.52 M2288.13 186.761 L2288.13 201.553 L2283.87 201.553 L2283.87 197.617 Q2282.41 199.979 2280.24 201.113 Q2278.06 202.224 2274.91 202.224 Q2270.93 202.224 2268.57 200.002 Q2266.23 197.756 2266.23 194.006 Q2266.23 189.631 2269.15 187.409 Q2272.09 185.187 2277.9 185.187 L2283.87 185.187 L2283.87 184.77 Q2283.87 181.831 2281.93 180.233 Q2280.01 178.613 2276.51 178.613 Q2274.29 178.613 2272.18 179.145 Q2270.08 179.678 2268.13 180.743 L2268.13 176.807 Q2270.47 175.905 2272.67 175.465 Q2274.87 175.002 2276.95 175.002 Q2282.58 175.002 2285.35 177.918 Q2288.13 180.835 2288.13 186.761 Z\" fill=\"#000000\" fill-rule=\"evenodd\" fill-opacity=\"1\" /><path clip-path=\"url(#clip880)\" d=\"M2296.9 165.534 L2301.16 165.534 L2301.16 201.553 L2296.9 201.553 L2296.9 165.534 Z\" fill=\"#000000\" fill-rule=\"evenodd\" fill-opacity=\"1\" /></svg>\n"
      ]
     },
     "execution_count": 39,
     "metadata": {},
     "output_type": "execute_result"
    }
   ],
   "source": [
    "scatter(X_test_Pr[1, y_test .== -1], X_test_Pr[2, y_test .== -1], \n",
    "            color = :indianred,\n",
    "            label = labels[l₁],\n",
    "            size = (600,300),\n",
    "            subplot = 1, layout = 2,\n",
    "            xlabel = \"true labels test data\")\n",
    "scatter!(X_test_Pr[1, y_test .== 1], X_test_Pr[2, y_test .== 1], \n",
    "            color = :steelblue,\n",
    "            label = labels[l₂],\n",
    "            subplot = 1, layout = 2)\n",
    "scatter!(X_test_Pr[1, ŷ_test .== -1], X_test_Pr[2, ŷ_test .== -1], \n",
    "            color = :indianred,\n",
    "            label = labels[l₁],\n",
    "            size = (600,300),\n",
    "            subplot = 2, layout = 2,\n",
    "            xlabel = \"predictions test data\")\n",
    "scatter!(X_test_Pr[1, ŷ_test .== 1], X_test_Pr[2, ŷ_test .== 1], \n",
    "            color = :steelblue,\n",
    "            label = labels[l₂],\n",
    "            subplot = 2, layout = 2)"
   ]
  },
  {
   "cell_type": "markdown",
   "metadata": {},
   "source": [
    "The fraction of uncorrectly prediced data points is"
   ]
  },
  {
   "cell_type": "code",
   "execution_count": 40,
   "metadata": {},
   "outputs": [
    {
     "data": {
      "text/plain": [
       "0.08"
      ]
     },
     "execution_count": 40,
     "metadata": {},
     "output_type": "execute_result"
    }
   ],
   "source": [
    "count((y_test-ŷ_test) .!= 0)/n"
   ]
  },
  {
   "cell_type": "markdown",
   "metadata": {},
   "source": [
    "# Neural Networks\n",
    "\n",
    "We will now compute a classification algorithm using a neural network.\n",
    "\n",
    "Instead of setting up the network by hand as we did in Notebook 4, we will use [Flux.jl](https://fluxml.ai).\n",
    "\n",
    "We set up a neural network with three layers.\n",
    "\n",
    "The first layer is $\\mathbb R^D\\to\\mathbb R^{N_1}$. \n",
    "\n",
    "The second layer is $\\mathbb R^{N_1}\\to\\mathbb R^{N_2}$. \n",
    "\n",
    "The third layer is $\\mathbb R^{N_2}\\to\\mathbb R^{2}$.\n",
    "\n",
    "The output in $\\mathbb R^{2}$ will be a discrete probability distribution for our two items. Therefore, we use as the activation function in the last layer the softmax function. The other activation functions are chosen to be the ReLu function."
   ]
  },
  {
   "cell_type": "code",
   "execution_count": 41,
   "metadata": {},
   "outputs": [
    {
     "data": {
      "text/plain": [
       "Chain(\n",
       "  Dense(784 => 20, relu),               \u001b[90m# 15_700 parameters\u001b[39m\n",
       "  Dense(20 => 15, relu),                \u001b[90m# 315 parameters\u001b[39m\n",
       "  Dense(15 => 2),                       \u001b[90m# 32 parameters\u001b[39m\n",
       "  NNlib.softmax,\n",
       ") \u001b[90m                  # Total: 6 arrays, \u001b[39m16_047 parameters, 63.059 KiB."
      ]
     },
     "execution_count": 41,
     "metadata": {},
     "output_type": "execute_result"
    }
   ],
   "source": [
    "N₁, N₂ = 20, 15\n",
    "\n",
    "NN = Flux.Chain(\n",
    "          Dense(28^2, N₁, relu),\n",
    "          Dense(N₁, N₂, relu),\n",
    "          Dense(N₂, 2),\n",
    "          softmax)"
   ]
  },
  {
   "cell_type": "markdown",
   "metadata": {},
   "source": [
    "We have to modify the output data accordingly."
   ]
  },
  {
   "cell_type": "code",
   "execution_count": 42,
   "metadata": {},
   "outputs": [],
   "source": [
    "y₀ = map(Y) do Yᵢ\n",
    "    if Yᵢ==l₁\n",
    "        [1;0]\n",
    "    elseif Yᵢ==l₂\n",
    "        [0;1]\n",
    "    end\n",
    "    end;"
   ]
  },
  {
   "cell_type": "markdown",
   "metadata": {},
   "source": [
    "As loss function we take the [crossentropy](https://en.wikipedia.org/wiki/Cross_entropy) function `ℓ(p,q) = -p₁ log(q₁) - p₂ log(q₂).`"
   ]
  },
  {
   "cell_type": "code",
   "execution_count": 43,
   "metadata": {},
   "outputs": [],
   "source": [
    "loss(x, y) = Flux.crossentropy(NN(x), y; dims = 2);\n",
    "# in Flux.jl the first variable is in ℝ^D"
   ]
  },
  {
   "cell_type": "markdown",
   "metadata": {},
   "source": [
    "The framework to set up a Flux.jl' model is as follows:\n",
    "\n",
    "(The code is adapted from the lecture on [Neural Nets](https://github.com/JuliaAcademy/DataScience/blob/main/10.%20Neural%20Nets.ipynb) by [Huda Nassar](https://github.com/nassarhuda).)"
   ]
  },
  {
   "cell_type": "code",
   "execution_count": 44,
   "metadata": {},
   "outputs": [],
   "source": [
    "ps = Flux.params(NN);\n",
    "dataset = [(Float32.(x),y) for (x,y) in zip(X_vec, y₀)];\n",
    "opt = ADAM();"
   ]
  },
  {
   "cell_type": "markdown",
   "metadata": {},
   "source": [
    "The model is the trained using Flux.jl's `train!` function."
   ]
  },
  {
   "cell_type": "code",
   "execution_count": 45,
   "metadata": {},
   "outputs": [],
   "source": [
    "#Flux.@epochs 3 Flux.train!(loss, ps, dataset, opt)\n",
    "for i in 1:3\n",
    "    Flux.train!(loss, ps, dataset, opt) #train for 3 data loops, one loop is called an epoch, @epoch is outdated\n",
    "end"
   ]
  },
  {
   "cell_type": "markdown",
   "metadata": {},
   "source": [
    "Let us now see what the algorithm that we have learned predicts on randomly chosen elements from the test data set."
   ]
  },
  {
   "cell_type": "code",
   "execution_count": 46,
   "metadata": {},
   "outputs": [
    {
     "name": "stdout",
     "output_type": "stream",
     "text": [
      "With probability 0.3840324879935524: Coat.\n",
      "\n",
      "With probability 0.6159675120064476: Sandal.\n",
      "\n"
     ]
    },
    {
     "data": {
      "image/png": "[encoded data removed]",
      "text/html": [
       "<img src=\"data:image/png;base64,iVBORw0KGgoAAAANSUhEUgAAAHAAAABwCAAAAADji6uXAAAABGdBTUEAALGPC/xhBQAAAAFzUkdCAK7OHOkAAAAgY0hSTQAAeiYAAICEAAD6AAAAgOgAAHUwAADqYAAAOpgAABdwnLpRPAAAA3pJREFUaAW9wUuIlWUYAODnP+edNMY7hqapYRhWCCpZUlBgFihEq4K2upIII9pEF6TatEsjpLYVboKICNOSwjIIjWxjbrp4wfvMODqjnpk5/2ngW5ymERo37/OEZCFZSBaShWQhWUgWkoVkIVlIFpKFZCFZSBaShVvURBvPYBH2YwD9piYkC8lCsnCL2oo30MALaOIsjuIPzMTPuAMr8BWOooGQLCQLycItaKKN2RhEP27HZXSwFutRYRmWo4lLOIoGQrKQLCQLU1ApasUrqNFCC3MxH20MYib6sBAdPIIPMYaQLCQLycIUdDANLczCWlzBY4oKt2EQY2jhPuzCeRzTFZKFZCFZmKKGYhtuw3n0YQVO4E4swzUswzf4zmQhWUgWkoUpqHAdPdiKH/EnLuFXHMB+XDRRA02M6grJQrKQLExBE2N4DQdxDo/jCg7jU5M10UYHla6QLCQLycL/CIzhSSzGCK7jPXyAh7ACWxUNRa1oYkxXSBaShWThPyp0dNWKFhbjb6zHAXyMTViLndiO2kRjJgrJQrKQLIyrFB0TVegoDmIQb+EM3sQOrMQ92Igd2IEGNmAV1qCFDXgJIVlIFpKFcR1FZbKOosJveB/v4DBexm5swTxsxCqsxmkMYwg3cAD9CMlCspAs/EuFWldHV0fxLRbiVfyFF3EW92MUNfZgHi7jAmbhLhxDSBaShWTRQGWidXgUx/E1mmjr+gRLsRmnsA278Tr6sRI7cRwLMYphjCAkC8lCsqhNthhzMUfRNtmXeBpzsBl7dS1BU9GDFloYRkgWkoVkMRNPoIUzaCHwPSo00UYPxtDBGryNfmzBeUVgDC30oQ8zMB3XFSFZSBaSxQN4CkOYh9NYjRHMxnLswQyMYCOeQz+2YwC9GEataOMGehGYhkFFSBaShWTxO0YwE1cxG5ewAIEt2IRrimm4ho8wgB4MKyrFCOZgAEPoxTVFSBaShWQxiL14Hr0YxhWcwykswAJMx0XMwgkcUozqaqCNChfQhzb6cUoRkoVkIVkYtw/78CCexVLcjSEM4CquYB2O411FA7WiQkexBPPRo3gYvyhCspAsJAvjGqhxBEcUS7EE92IR2tiFLxQN1Lo6qBWfo0IHDfyAnxQhWUgWkoVxtclO4iQOubnaZLWixmduLiQLyUKykCwkC8lCspAsJAvJQrJ/AIt32NiIqN8iAAAAAElFTkSuQmCC\">"
      ],
      "text/plain": [
       "28×28 reinterpret(reshape, Gray{Float32}, ::Matrix{Float32}) with eltype Gray{Float32}:\n",
       " Gray{Float32}(0.0)         …  Gray{Float32}(0.0)\n",
       " Gray{Float32}(0.0)            Gray{Float32}(0.0)\n",
       " Gray{Float32}(0.0)            Gray{Float32}(0.0)\n",
       " Gray{Float32}(0.0)            Gray{Float32}(0.0)\n",
       " Gray{Float32}(0.0)            Gray{Float32}(0.0)\n",
       " Gray{Float32}(0.0)         …  Gray{Float32}(0.00784314)\n",
       " Gray{Float32}(0.0)            Gray{Float32}(0.0156863)\n",
       " Gray{Float32}(0.0)            Gray{Float32}(0.0)\n",
       " Gray{Float32}(0.0)            Gray{Float32}(0.0)\n",
       " Gray{Float32}(0.0)            Gray{Float32}(0.0)\n",
       " Gray{Float32}(0.0)         …  Gray{Float32}(0.0)\n",
       " Gray{Float32}(0.0)            Gray{Float32}(0.00392157)\n",
       " Gray{Float32}(0.0)            Gray{Float32}(0.0)\n",
       " ⋮                          ⋱  \n",
       " Gray{Float32}(0.0)            Gray{Float32}(0.0666667)\n",
       " Gray{Float32}(0.00784314)     Gray{Float32}(0.0431373)\n",
       " Gray{Float32}(0.0)            Gray{Float32}(0.0)\n",
       " Gray{Float32}(0.0509804)      Gray{Float32}(0.0)\n",
       " Gray{Float32}(0.219608)    …  Gray{Float32}(0.0)\n",
       " Gray{Float32}(0.0588235)      Gray{Float32}(0.0)\n",
       " Gray{Float32}(0.0)            Gray{Float32}(0.0)\n",
       " Gray{Float32}(0.0)            Gray{Float32}(0.0)\n",
       " Gray{Float32}(0.0)            Gray{Float32}(0.0)\n",
       " Gray{Float32}(0.0)         …  Gray{Float32}(0.0)\n",
       " Gray{Float32}(0.0)            Gray{Float32}(0.0)\n",
       " Gray{Float32}(0.0)            Gray{Float32}(0.0)"
      ]
     },
     "execution_count": 46,
     "metadata": {},
     "output_type": "execute_result"
    }
   ],
   "source": [
    "ℓ = rand(1:n)\n",
    "p = NN(X_test_vec[ℓ])\n",
    "println(\"With probability $(p[1]): Coat.\\n\")\n",
    "println(\"With probability $(p[2]): Sandal.\\n\")\n",
    "convert2image(FashionMNIST, X_test[:,:,ℓ])"
   ]
  },
  {
   "cell_type": "markdown",
   "metadata": {},
   "source": [
    "Finally, we consider again the projected data and compare the labels from the neural network to the true labels on the test data.\n",
    "\n",
    "The size of the points should be proportional to the probability returned from the neural network."
   ]
  },
  {
   "cell_type": "code",
   "execution_count": 47,
   "metadata": {},
   "outputs": [],
   "source": [
    "sizes = map(x->maximum(NN(x)), X_test_vec) .* 6\n",
    "ŷ₀_test = map(x->argmax(NN(x)), X_test_vec);"
   ]
  },
  {
   "cell_type": "code",
   "execution_count": 48,
   "metadata": {},
   "outputs": [
    {
     "data": {
      "image/svg+xml": [
       "<?xml version=\"1.0\" encoding=\"utf-8\"?>\n",
       "<svg xmlns=\"http://www.w3.org/2000/svg\" xmlns:xlink=\"http://www.w3.org/1999/xlink\" width=\"600\" height=\"300\" viewBox=\"0 0 2400 1200\">\n",
       "<defs>\n",
       "  <clipPath id=\"clip920\">\n",
       "    <rect x=\"0\" y=\"0\" width=\"2400\" height=\"1200\"/>\n",
       "  </clipPath>\n",
       "</defs>\n",
       "<path clip-path=\"url(#clip920)\" d=\"\n",
       "M0 1200 L2400 1200 L2400 0 L0 0  Z\n",
       "  \" fill=\"#ffffff\" fill-rule=\"evenodd\" fill-opacity=\"1\"/>\n",
       "<defs>\n",
       "  <clipPath id=\"clip921\">\n",
       "    <rect x=\"480\" y=\"0\" width=\"1681\" height=\"1200\"/>\n",
       "  </clipPath>\n",
       "</defs>\n",
       "<path clip-path=\"url(#clip920)\" d=\"\n",
       "M224.098 1047.7 L1152.76 1047.7 L1152.76 47.2441 L224.098 47.2441  Z\n",
       "  \" fill=\"#ffffff\" fill-rule=\"evenodd\" fill-opacity=\"1\"/>\n",
       "<defs>\n",
       "  <clipPath id=\"clip922\">\n",
       "    <rect x=\"224\" y=\"47\" width=\"930\" height=\"1001\"/>\n",
       "  </clipPath>\n",
       "</defs>\n",
       "<polyline clip-path=\"url(#clip922)\" style=\"stroke:#000000; stroke-linecap:round; stroke-linejoin:round; stroke-width:2; stroke-opacity:0.1; fill:none\" points=\"\n",
       "  361.088,1047.7 361.088,47.2441 \n",
       "  \"/>\n",
       "<polyline clip-path=\"url(#clip922)\" style=\"stroke:#000000; stroke-linecap:round; stroke-linejoin:round; stroke-width:2; stroke-opacity:0.1; fill:none\" points=\"\n",
       "  539.165,1047.7 539.165,47.2441 \n",
       "  \"/>\n",
       "<polyline clip-path=\"url(#clip922)\" style=\"stroke:#000000; stroke-linecap:round; stroke-linejoin:round; stroke-width:2; stroke-opacity:0.1; fill:none\" points=\"\n",
       "  717.242,1047.7 717.242,47.2441 \n",
       "  \"/>\n",
       "<polyline clip-path=\"url(#clip922)\" style=\"stroke:#000000; stroke-linecap:round; stroke-linejoin:round; stroke-width:2; stroke-opacity:0.1; fill:none\" points=\"\n",
       "  895.319,1047.7 895.319,47.2441 \n",
       "  \"/>\n",
       "<polyline clip-path=\"url(#clip922)\" style=\"stroke:#000000; stroke-linecap:round; stroke-linejoin:round; stroke-width:2; stroke-opacity:0.1; fill:none\" points=\"\n",
       "  1073.4,1047.7 1073.4,47.2441 \n",
       "  \"/>\n",
       "<polyline clip-path=\"url(#clip920)\" style=\"stroke:#000000; stroke-linecap:round; stroke-linejoin:round; stroke-width:4; stroke-opacity:1; fill:none\" points=\"\n",
       "  224.098,1047.7 1152.76,1047.7 \n",
       "  \"/>\n",
       "<polyline clip-path=\"url(#clip920)\" style=\"stroke:#000000; stroke-linecap:round; stroke-linejoin:round; stroke-width:4; stroke-opacity:1; fill:none\" points=\"\n",
       "  361.088,1047.7 361.088,1028.8 \n",
       "  \"/>\n",
       "<polyline clip-path=\"url(#clip920)\" style=\"stroke:#000000; stroke-linecap:round; stroke-linejoin:round; stroke-width:4; stroke-opacity:1; fill:none\" points=\"\n",
       "  539.165,1047.7 539.165,1028.8 \n",
       "  \"/>\n",
       "<polyline clip-path=\"url(#clip920)\" style=\"stroke:#000000; stroke-linecap:round; stroke-linejoin:round; stroke-width:4; stroke-opacity:1; fill:none\" points=\"\n",
       "  717.242,1047.7 717.242,1028.8 \n",
       "  \"/>\n",
       "<polyline clip-path=\"url(#clip920)\" style=\"stroke:#000000; stroke-linecap:round; stroke-linejoin:round; stroke-width:4; stroke-opacity:1; fill:none\" points=\"\n",
       "  895.319,1047.7 895.319,1028.8 \n",
       "  \"/>\n",
       "<polyline clip-path=\"url(#clip920)\" style=\"stroke:#000000; stroke-linecap:round; stroke-linejoin:round; stroke-width:4; stroke-opacity:1; fill:none\" points=\"\n",
       "  1073.4,1047.7 1073.4,1028.8 \n",
       "  \"/>\n",
       "<path clip-path=\"url(#clip920)\" d=\"M307.616 1093.27 L337.291 1093.27 L337.291 1097.21 L307.616 1097.21 L307.616 1093.27 Z\" fill=\"#000000\" fill-rule=\"evenodd\" fill-opacity=\"1\" /><path clip-path=\"url(#clip920)\" d=\"M348.194 1106.16 L355.833 1106.16 L355.833 1079.8 L347.523 1081.47 L347.523 1077.21 L355.787 1075.54 L360.463 1075.54 L360.463 1106.16 L368.101 1106.16 L368.101 1110.1 L348.194 1110.1 L348.194 1106.16 Z\" fill=\"#000000\" fill-rule=\"evenodd\" fill-opacity=\"1\" /><path clip-path=\"url(#clip920)\" d=\"M377.546 1104.22 L382.43 1104.22 L382.43 1110.1 L377.546 1110.1 L377.546 1104.22 Z\" fill=\"#000000\" fill-rule=\"evenodd\" fill-opacity=\"1\" /><path clip-path=\"url(#clip920)\" d=\"M402.615 1078.62 Q399.004 1078.62 397.175 1082.18 Q395.37 1085.72 395.37 1092.85 Q395.37 1099.96 397.175 1103.53 Q399.004 1107.07 402.615 1107.07 Q406.249 1107.07 408.055 1103.53 Q409.884 1099.96 409.884 1092.85 Q409.884 1085.72 408.055 1082.18 Q406.249 1078.62 402.615 1078.62 M402.615 1074.91 Q408.425 1074.91 411.481 1079.52 Q414.56 1084.1 414.56 1092.85 Q414.56 1101.58 411.481 1106.19 Q408.425 1110.77 402.615 1110.77 Q396.805 1110.77 393.726 1106.19 Q390.671 1101.58 390.671 1092.85 Q390.671 1084.1 393.726 1079.52 Q396.805 1074.91 402.615 1074.91 Z\" fill=\"#000000\" fill-rule=\"evenodd\" fill-opacity=\"1\" /><path clip-path=\"url(#clip920)\" d=\"M486.19 1093.27 L515.866 1093.27 L515.866 1097.21 L486.19 1097.21 L486.19 1093.27 Z\" fill=\"#000000\" fill-rule=\"evenodd\" fill-opacity=\"1\" /><path clip-path=\"url(#clip920)\" d=\"M535.959 1078.62 Q532.348 1078.62 530.519 1082.18 Q528.713 1085.72 528.713 1092.85 Q528.713 1099.96 530.519 1103.53 Q532.348 1107.07 535.959 1107.07 Q539.593 1107.07 541.399 1103.53 Q543.227 1099.96 543.227 1092.85 Q543.227 1085.72 541.399 1082.18 Q539.593 1078.62 535.959 1078.62 M535.959 1074.91 Q541.769 1074.91 544.824 1079.52 Q547.903 1084.1 547.903 1092.85 Q547.903 1101.58 544.824 1106.19 Q541.769 1110.77 535.959 1110.77 Q530.149 1110.77 527.07 1106.19 Q524.014 1101.58 524.014 1092.85 Q524.014 1084.1 527.07 1079.52 Q530.149 1074.91 535.959 1074.91 Z\" fill=\"#000000\" fill-rule=\"evenodd\" fill-opacity=\"1\" /><path clip-path=\"url(#clip920)\" d=\"M556.121 1104.22 L561.005 1104.22 L561.005 1110.1 L556.121 1110.1 L556.121 1104.22 Z\" fill=\"#000000\" fill-rule=\"evenodd\" fill-opacity=\"1\" /><path clip-path=\"url(#clip920)\" d=\"M571.236 1075.54 L589.593 1075.54 L589.593 1079.48 L575.519 1079.48 L575.519 1087.95 Q576.537 1087.6 577.556 1087.44 Q578.574 1087.25 579.593 1087.25 Q585.38 1087.25 588.759 1090.42 Q592.139 1093.6 592.139 1099.01 Q592.139 1104.59 588.667 1107.69 Q585.195 1110.77 578.875 1110.77 Q576.699 1110.77 574.431 1110.4 Q572.185 1110.03 569.778 1109.29 L569.778 1104.59 Q571.861 1105.72 574.084 1106.28 Q576.306 1106.84 578.783 1106.84 Q582.787 1106.84 585.125 1104.73 Q587.463 1102.62 587.463 1099.01 Q587.463 1095.4 585.125 1093.29 Q582.787 1091.19 578.783 1091.19 Q576.908 1091.19 575.033 1091.6 Q573.181 1092.02 571.236 1092.9 L571.236 1075.54 Z\" fill=\"#000000\" fill-rule=\"evenodd\" fill-opacity=\"1\" /><path clip-path=\"url(#clip920)\" d=\"M694.626 1078.62 Q691.015 1078.62 689.186 1082.18 Q687.381 1085.72 687.381 1092.85 Q687.381 1099.96 689.186 1103.53 Q691.015 1107.07 694.626 1107.07 Q698.26 1107.07 700.066 1103.53 Q701.895 1099.96 701.895 1092.85 Q701.895 1085.72 700.066 1082.18 Q698.26 1078.62 694.626 1078.62 M694.626 1074.91 Q700.436 1074.91 703.492 1079.52 Q706.571 1084.1 706.571 1092.85 Q706.571 1101.58 703.492 1106.19 Q700.436 1110.77 694.626 1110.77 Q688.816 1110.77 685.737 1106.19 Q682.682 1101.58 682.682 1092.85 Q682.682 1084.1 685.737 1079.52 Q688.816 1074.91 694.626 1074.91 Z\" fill=\"#000000\" fill-rule=\"evenodd\" fill-opacity=\"1\" /><path clip-path=\"url(#clip920)\" d=\"M714.788 1104.22 L719.672 1104.22 L719.672 1110.1 L714.788 1110.1 L714.788 1104.22 Z\" fill=\"#000000\" fill-rule=\"evenodd\" fill-opacity=\"1\" /><path clip-path=\"url(#clip920)\" d=\"M739.857 1078.62 Q736.246 1078.62 734.418 1082.18 Q732.612 1085.72 732.612 1092.85 Q732.612 1099.96 734.418 1103.53 Q736.246 1107.07 739.857 1107.07 Q743.492 1107.07 745.297 1103.53 Q747.126 1099.96 747.126 1092.85 Q747.126 1085.72 745.297 1082.18 Q743.492 1078.62 739.857 1078.62 M739.857 1074.91 Q745.668 1074.91 748.723 1079.52 Q751.802 1084.1 751.802 1092.85 Q751.802 1101.58 748.723 1106.19 Q745.668 1110.77 739.857 1110.77 Q734.047 1110.77 730.969 1106.19 Q727.913 1101.58 727.913 1092.85 Q727.913 1084.1 730.969 1079.52 Q734.047 1074.91 739.857 1074.91 Z\" fill=\"#000000\" fill-rule=\"evenodd\" fill-opacity=\"1\" /><path clip-path=\"url(#clip920)\" d=\"M873.201 1078.62 Q869.59 1078.62 867.761 1082.18 Q865.956 1085.72 865.956 1092.85 Q865.956 1099.96 867.761 1103.53 Q869.59 1107.07 873.201 1107.07 Q876.835 1107.07 878.641 1103.53 Q880.47 1099.96 880.47 1092.85 Q880.47 1085.72 878.641 1082.18 Q876.835 1078.62 873.201 1078.62 M873.201 1074.91 Q879.011 1074.91 882.067 1079.52 Q885.145 1084.1 885.145 1092.85 Q885.145 1101.58 882.067 1106.19 Q879.011 1110.77 873.201 1110.77 Q867.391 1110.77 864.312 1106.19 Q861.257 1101.58 861.257 1092.85 Q861.257 1084.1 864.312 1079.52 Q867.391 1074.91 873.201 1074.91 Z\" fill=\"#000000\" fill-rule=\"evenodd\" fill-opacity=\"1\" /><path clip-path=\"url(#clip920)\" d=\"M893.363 1104.22 L898.247 1104.22 L898.247 1110.1 L893.363 1110.1 L893.363 1104.22 Z\" fill=\"#000000\" fill-rule=\"evenodd\" fill-opacity=\"1\" /><path clip-path=\"url(#clip920)\" d=\"M908.479 1075.54 L926.835 1075.54 L926.835 1079.48 L912.761 1079.48 L912.761 1087.95 Q913.78 1087.6 914.798 1087.44 Q915.817 1087.25 916.835 1087.25 Q922.622 1087.25 926.002 1090.42 Q929.381 1093.6 929.381 1099.01 Q929.381 1104.59 925.909 1107.69 Q922.437 1110.77 916.117 1110.77 Q913.942 1110.77 911.673 1110.4 Q909.428 1110.03 907.02 1109.29 L907.02 1104.59 Q909.104 1105.72 911.326 1106.28 Q913.548 1106.84 916.025 1106.84 Q920.029 1106.84 922.367 1104.73 Q924.705 1102.62 924.705 1099.01 Q924.705 1095.4 922.367 1093.29 Q920.029 1091.19 916.025 1091.19 Q914.15 1091.19 912.275 1091.6 Q910.423 1092.02 908.479 1092.9 L908.479 1075.54 Z\" fill=\"#000000\" fill-rule=\"evenodd\" fill-opacity=\"1\" /><path clip-path=\"url(#clip920)\" d=\"M1040.55 1106.16 L1048.19 1106.16 L1048.19 1079.8 L1039.88 1081.47 L1039.88 1077.21 L1048.14 1075.54 L1052.82 1075.54 L1052.82 1106.16 L1060.46 1106.16 L1060.46 1110.1 L1040.55 1110.1 L1040.55 1106.16 Z\" fill=\"#000000\" fill-rule=\"evenodd\" fill-opacity=\"1\" /><path clip-path=\"url(#clip920)\" d=\"M1069.9 1104.22 L1074.78 1104.22 L1074.78 1110.1 L1069.9 1110.1 L1069.9 1104.22 Z\" fill=\"#000000\" fill-rule=\"evenodd\" fill-opacity=\"1\" /><path clip-path=\"url(#clip920)\" d=\"M1094.97 1078.62 Q1091.36 1078.62 1089.53 1082.18 Q1087.72 1085.72 1087.72 1092.85 Q1087.72 1099.96 1089.53 1103.53 Q1091.36 1107.07 1094.97 1107.07 Q1098.6 1107.07 1100.41 1103.53 Q1102.24 1099.96 1102.24 1092.85 Q1102.24 1085.72 1100.41 1082.18 Q1098.6 1078.62 1094.97 1078.62 M1094.97 1074.91 Q1100.78 1074.91 1103.84 1079.52 Q1106.91 1084.1 1106.91 1092.85 Q1106.91 1101.58 1103.84 1106.19 Q1100.78 1110.77 1094.97 1110.77 Q1089.16 1110.77 1086.08 1106.19 Q1083.03 1101.58 1083.03 1092.85 Q1083.03 1084.1 1086.08 1079.52 Q1089.16 1074.91 1094.97 1074.91 Z\" fill=\"#000000\" fill-rule=\"evenodd\" fill-opacity=\"1\" /><path clip-path=\"url(#clip920)\" d=\"M372.672 1146.79 L372.672 1156.92 L384.735 1156.92 L384.735 1161.47 L372.672 1161.47 L372.672 1180.82 Q372.672 1185.18 373.85 1186.42 Q375.059 1187.66 378.719 1187.66 L384.735 1187.66 L384.735 1192.56 L378.719 1192.56 Q371.94 1192.56 369.362 1190.05 Q366.784 1187.5 366.784 1180.82 L366.784 1161.47 L362.487 1161.47 L362.487 1156.92 L366.784 1156.92 L366.784 1146.79 L372.672 1146.79 Z\" fill=\"#000000\" fill-rule=\"evenodd\" fill-opacity=\"1\" /><path clip-path=\"url(#clip920)\" d=\"M413.094 1162.39 Q412.107 1161.82 410.93 1161.56 Q409.784 1161.28 408.384 1161.28 Q403.418 1161.28 400.745 1164.52 Q398.103 1167.74 398.103 1173.79 L398.103 1192.56 L392.215 1192.56 L392.215 1156.92 L398.103 1156.92 L398.103 1162.45 Q399.949 1159.21 402.909 1157.65 Q405.869 1156.06 410.102 1156.06 Q410.707 1156.06 411.439 1156.15 Q412.171 1156.22 413.062 1156.37 L413.094 1162.39 Z\" fill=\"#000000\" fill-rule=\"evenodd\" fill-opacity=\"1\" /><path clip-path=\"url(#clip920)\" d=\"M418.632 1178.5 L418.632 1156.92 L424.489 1156.92 L424.489 1178.27 Q424.489 1183.33 426.462 1185.88 Q428.436 1188.39 432.382 1188.39 Q437.125 1188.39 439.862 1185.37 Q442.631 1182.35 442.631 1177.13 L442.631 1156.92 L448.487 1156.92 L448.487 1192.56 L442.631 1192.56 L442.631 1187.09 Q440.499 1190.34 437.666 1191.93 Q434.865 1193.49 431.141 1193.49 Q424.998 1193.49 421.815 1189.67 Q418.632 1185.85 418.632 1178.5 M433.369 1156.06 L433.369 1156.06 Z\" fill=\"#000000\" fill-rule=\"evenodd\" fill-opacity=\"1\" /><path clip-path=\"url(#clip920)\" d=\"M491.042 1173.28 L491.042 1176.14 L464.115 1176.14 Q464.497 1182.19 467.744 1185.37 Q471.022 1188.52 476.847 1188.52 Q480.221 1188.52 483.372 1187.69 Q486.554 1186.87 489.674 1185.21 L489.674 1190.75 Q486.523 1192.09 483.212 1192.79 Q479.902 1193.49 476.497 1193.49 Q467.967 1193.49 462.969 1188.52 Q458.004 1183.56 458.004 1175.09 Q458.004 1166.34 462.715 1161.21 Q467.457 1156.06 475.478 1156.06 Q482.671 1156.06 486.841 1160.7 Q491.042 1165.32 491.042 1173.28 M485.186 1171.56 Q485.122 1166.75 482.48 1163.89 Q479.87 1161.02 475.542 1161.02 Q470.64 1161.02 467.68 1163.79 Q464.752 1166.56 464.306 1171.59 L485.186 1171.56 Z\" fill=\"#000000\" fill-rule=\"evenodd\" fill-opacity=\"1\" /><path clip-path=\"url(#clip920)\" d=\"M521.375 1143.04 L527.231 1143.04 L527.231 1192.56 L521.375 1192.56 L521.375 1143.04 Z\" fill=\"#000000\" fill-rule=\"evenodd\" fill-opacity=\"1\" /><path clip-path=\"url(#clip920)\" d=\"M555.686 1174.64 Q548.588 1174.64 545.851 1176.27 Q543.114 1177.89 543.114 1181.81 Q543.114 1184.92 545.151 1186.77 Q547.22 1188.59 550.753 1188.59 Q555.622 1188.59 558.551 1185.15 Q561.511 1181.68 561.511 1175.95 L561.511 1174.64 L555.686 1174.64 M567.367 1172.23 L567.367 1192.56 L561.511 1192.56 L561.511 1187.15 Q559.505 1190.4 556.514 1191.96 Q553.522 1193.49 549.193 1193.49 Q543.718 1193.49 540.472 1190.43 Q537.257 1187.34 537.257 1182.19 Q537.257 1176.17 541.268 1173.12 Q545.31 1170.06 553.299 1170.06 L561.511 1170.06 L561.511 1169.49 Q561.511 1165.45 558.837 1163.25 Q556.195 1161.02 551.389 1161.02 Q548.334 1161.02 545.437 1161.75 Q542.541 1162.49 539.867 1163.95 L539.867 1158.54 Q543.082 1157.3 546.106 1156.69 Q549.129 1156.06 551.994 1156.06 Q559.728 1156.06 563.548 1160.07 Q567.367 1164.08 567.367 1172.23 Z\" fill=\"#000000\" fill-rule=\"evenodd\" fill-opacity=\"1\" /><path clip-path=\"url(#clip920)\" d=\"M605.02 1174.77 Q605.02 1168.31 602.347 1164.65 Q599.705 1160.96 595.058 1160.96 Q590.411 1160.96 587.737 1164.65 Q585.096 1168.31 585.096 1174.77 Q585.096 1181.23 587.737 1184.92 Q590.411 1188.59 595.058 1188.59 Q599.705 1188.59 602.347 1184.92 Q605.02 1181.23 605.02 1174.77 M585.096 1162.33 Q586.942 1159.14 589.743 1157.62 Q592.575 1156.06 596.49 1156.06 Q602.983 1156.06 607.025 1161.21 Q611.099 1166.37 611.099 1174.77 Q611.099 1183.17 607.025 1188.33 Q602.983 1193.49 596.49 1193.49 Q592.575 1193.49 589.743 1191.96 Q586.942 1190.4 585.096 1187.22 L585.096 1192.56 L579.207 1192.56 L579.207 1143.04 L585.096 1143.04 L585.096 1162.33 Z\" fill=\"#000000\" fill-rule=\"evenodd\" fill-opacity=\"1\" /><path clip-path=\"url(#clip920)\" d=\"M651.299 1173.28 L651.299 1176.14 L624.372 1176.14 Q624.754 1182.19 628 1185.37 Q631.279 1188.52 637.103 1188.52 Q640.477 1188.52 643.628 1187.69 Q646.811 1186.87 649.93 1185.21 L649.93 1190.75 Q646.779 1192.09 643.469 1192.79 Q640.159 1193.49 636.753 1193.49 Q628.223 1193.49 623.226 1188.52 Q618.261 1183.56 618.261 1175.09 Q618.261 1166.34 622.972 1161.21 Q627.714 1156.06 635.735 1156.06 Q642.928 1156.06 647.098 1160.7 Q651.299 1165.32 651.299 1173.28 M645.442 1171.56 Q645.379 1166.75 642.737 1163.89 Q640.127 1161.02 635.798 1161.02 Q630.897 1161.02 627.937 1163.79 Q625.009 1166.56 624.563 1171.59 L645.442 1171.56 Z\" fill=\"#000000\" fill-rule=\"evenodd\" fill-opacity=\"1\" /><path clip-path=\"url(#clip920)\" d=\"M660.911 1143.04 L666.768 1143.04 L666.768 1192.56 L660.911 1192.56 L660.911 1143.04 Z\" fill=\"#000000\" fill-rule=\"evenodd\" fill-opacity=\"1\" /><path clip-path=\"url(#clip920)\" d=\"M701.747 1157.97 L701.747 1163.5 Q699.265 1162.23 696.591 1161.59 Q693.917 1160.96 691.053 1160.96 Q686.692 1160.96 684.496 1162.29 Q682.332 1163.63 682.332 1166.31 Q682.332 1168.34 683.891 1169.52 Q685.451 1170.67 690.162 1171.72 L692.167 1172.16 Q698.405 1173.5 701.015 1175.95 Q703.657 1178.37 703.657 1182.73 Q703.657 1187.69 699.71 1190.59 Q695.795 1193.49 688.92 1193.49 Q686.056 1193.49 682.936 1192.91 Q679.849 1192.37 676.412 1191.26 L676.412 1185.21 Q679.658 1186.9 682.809 1187.76 Q685.96 1188.59 689.048 1188.59 Q693.185 1188.59 695.413 1187.18 Q697.641 1185.75 697.641 1183.17 Q697.641 1180.79 696.018 1179.51 Q694.427 1178.24 688.984 1177.06 L686.947 1176.59 Q681.504 1175.44 679.085 1173.08 Q676.666 1170.7 676.666 1166.56 Q676.666 1161.53 680.231 1158.79 Q683.796 1156.06 690.353 1156.06 Q693.599 1156.06 696.464 1156.53 Q699.328 1157.01 701.747 1157.97 Z\" fill=\"#000000\" fill-rule=\"evenodd\" fill-opacity=\"1\" /><path clip-path=\"url(#clip920)\" d=\"M739.496 1146.79 L739.496 1156.92 L751.559 1156.92 L751.559 1161.47 L739.496 1161.47 L739.496 1180.82 Q739.496 1185.18 740.673 1186.42 Q741.883 1187.66 745.543 1187.66 L751.559 1187.66 L751.559 1192.56 L745.543 1192.56 Q738.764 1192.56 736.186 1190.05 Q733.607 1187.5 733.607 1180.82 L733.607 1161.47 L729.311 1161.47 L729.311 1156.92 L733.607 1156.92 L733.607 1146.79 L739.496 1146.79 Z\" fill=\"#000000\" fill-rule=\"evenodd\" fill-opacity=\"1\" /><path clip-path=\"url(#clip920)\" d=\"M789.753 1173.28 L789.753 1176.14 L762.826 1176.14 Q763.208 1182.19 766.455 1185.37 Q769.733 1188.52 775.557 1188.52 Q778.931 1188.52 782.082 1187.69 Q785.265 1186.87 788.384 1185.21 L788.384 1190.75 Q785.233 1192.09 781.923 1192.79 Q778.613 1193.49 775.207 1193.49 Q766.677 1193.49 761.68 1188.52 Q756.715 1183.56 756.715 1175.09 Q756.715 1166.34 761.426 1161.21 Q766.168 1156.06 774.189 1156.06 Q781.382 1156.06 785.552 1160.7 Q789.753 1165.32 789.753 1173.28 M783.897 1171.56 Q783.833 1166.75 781.191 1163.89 Q778.581 1161.02 774.253 1161.02 Q769.351 1161.02 766.391 1163.79 Q763.463 1166.56 763.017 1171.59 L783.897 1171.56 Z\" fill=\"#000000\" fill-rule=\"evenodd\" fill-opacity=\"1\" /><path clip-path=\"url(#clip920)\" d=\"M822.091 1157.97 L822.091 1163.5 Q819.608 1162.23 816.935 1161.59 Q814.261 1160.96 811.396 1160.96 Q807.036 1160.96 804.84 1162.29 Q802.675 1163.63 802.675 1166.31 Q802.675 1168.34 804.235 1169.52 Q805.795 1170.67 810.505 1171.72 L812.51 1172.16 Q818.749 1173.5 821.359 1175.95 Q824.001 1178.37 824.001 1182.73 Q824.001 1187.69 820.054 1190.59 Q816.139 1193.49 809.264 1193.49 Q806.399 1193.49 803.28 1192.91 Q800.193 1192.37 796.755 1191.26 L796.755 1185.21 Q800.002 1186.9 803.153 1187.76 Q806.304 1188.59 809.391 1188.59 Q813.529 1188.59 815.757 1187.18 Q817.985 1185.75 817.985 1183.17 Q817.985 1180.79 816.362 1179.51 Q814.77 1178.24 809.328 1177.06 L807.291 1176.59 Q801.848 1175.44 799.429 1173.08 Q797.01 1170.7 797.01 1166.56 Q797.01 1161.53 800.575 1158.79 Q804.14 1156.06 810.696 1156.06 Q813.943 1156.06 816.807 1156.53 Q819.672 1157.01 822.091 1157.97 Z\" fill=\"#000000\" fill-rule=\"evenodd\" fill-opacity=\"1\" /><path clip-path=\"url(#clip920)\" d=\"M839.119 1146.79 L839.119 1156.92 L851.182 1156.92 L851.182 1161.47 L839.119 1161.47 L839.119 1180.82 Q839.119 1185.18 840.297 1186.42 Q841.506 1187.66 845.167 1187.66 L851.182 1187.66 L851.182 1192.56 L845.167 1192.56 Q838.387 1192.56 835.809 1190.05 Q833.231 1187.5 833.231 1180.82 L833.231 1161.47 L828.934 1161.47 L828.934 1156.92 L833.231 1156.92 L833.231 1146.79 L839.119 1146.79 Z\" fill=\"#000000\" fill-rule=\"evenodd\" fill-opacity=\"1\" /><path clip-path=\"url(#clip920)\" d=\"M903.063 1162.33 L903.063 1143.04 L908.919 1143.04 L908.919 1192.56 L903.063 1192.56 L903.063 1187.22 Q901.217 1190.4 898.384 1191.96 Q895.583 1193.49 891.636 1193.49 Q885.175 1193.49 881.101 1188.33 Q877.059 1183.17 877.059 1174.77 Q877.059 1166.37 881.101 1161.21 Q885.175 1156.06 891.636 1156.06 Q895.583 1156.06 898.384 1157.62 Q901.217 1159.14 903.063 1162.33 M883.106 1174.77 Q883.106 1181.23 885.748 1184.92 Q888.421 1188.59 893.068 1188.59 Q897.715 1188.59 900.389 1184.92 Q903.063 1181.23 903.063 1174.77 Q903.063 1168.31 900.389 1164.65 Q897.715 1160.96 893.068 1160.96 Q888.421 1160.96 885.748 1164.65 Q883.106 1168.31 883.106 1174.77 Z\" fill=\"#000000\" fill-rule=\"evenodd\" fill-opacity=\"1\" /><path clip-path=\"url(#clip920)\" d=\"M937.183 1174.64 Q930.085 1174.64 927.348 1176.27 Q924.611 1177.89 924.611 1181.81 Q924.611 1184.92 926.648 1186.77 Q928.716 1188.59 932.249 1188.59 Q937.119 1188.59 940.047 1185.15 Q943.007 1181.68 943.007 1175.95 L943.007 1174.64 L937.183 1174.64 M948.864 1172.23 L948.864 1192.56 L943.007 1192.56 L943.007 1187.15 Q941.002 1190.4 938.01 1191.96 Q935.018 1193.49 930.69 1193.49 Q925.215 1193.49 921.969 1190.43 Q918.754 1187.34 918.754 1182.19 Q918.754 1176.17 922.764 1173.12 Q926.807 1170.06 934.796 1170.06 L943.007 1170.06 L943.007 1169.49 Q943.007 1165.45 940.334 1163.25 Q937.692 1161.02 932.886 1161.02 Q929.83 1161.02 926.934 1161.75 Q924.038 1162.49 921.364 1163.95 L921.364 1158.54 Q924.579 1157.3 927.602 1156.69 Q930.626 1156.06 933.491 1156.06 Q941.225 1156.06 945.044 1160.07 Q948.864 1164.08 948.864 1172.23 Z\" fill=\"#000000\" fill-rule=\"evenodd\" fill-opacity=\"1\" /><path clip-path=\"url(#clip920)\" d=\"M966.72 1146.79 L966.72 1156.92 L978.783 1156.92 L978.783 1161.47 L966.72 1161.47 L966.72 1180.82 Q966.72 1185.18 967.897 1186.42 Q969.107 1187.66 972.767 1187.66 L978.783 1187.66 L978.783 1192.56 L972.767 1192.56 Q965.988 1192.56 963.41 1190.05 Q960.831 1187.5 960.831 1180.82 L960.831 1161.47 L956.535 1161.47 L956.535 1156.92 L960.831 1156.92 L960.831 1146.79 L966.72 1146.79 Z\" fill=\"#000000\" fill-rule=\"evenodd\" fill-opacity=\"1\" /><path clip-path=\"url(#clip920)\" d=\"M1002.69 1174.64 Q995.588 1174.64 992.851 1176.27 Q990.114 1177.89 990.114 1181.81 Q990.114 1184.92 992.151 1186.77 Q994.22 1188.59 997.752 1188.59 Q1002.62 1188.59 1005.55 1185.15 Q1008.51 1181.68 1008.51 1175.95 L1008.51 1174.64 L1002.69 1174.64 M1014.37 1172.23 L1014.37 1192.56 L1008.51 1192.56 L1008.51 1187.15 Q1006.51 1190.4 1003.51 1191.96 Q1000.52 1193.49 996.193 1193.49 Q990.718 1193.49 987.472 1190.43 Q984.257 1187.34 984.257 1182.19 Q984.257 1176.17 988.268 1173.12 Q992.31 1170.06 1000.3 1170.06 L1008.51 1170.06 L1008.51 1169.49 Q1008.51 1165.45 1005.84 1163.25 Q1003.2 1161.02 998.389 1161.02 Q995.334 1161.02 992.437 1161.75 Q989.541 1162.49 986.867 1163.95 L986.867 1158.54 Q990.082 1157.3 993.106 1156.69 Q996.129 1156.06 998.994 1156.06 Q1006.73 1156.06 1010.55 1160.07 Q1014.37 1164.08 1014.37 1172.23 Z\" fill=\"#000000\" fill-rule=\"evenodd\" fill-opacity=\"1\" /><polyline clip-path=\"url(#clip922)\" style=\"stroke:#000000; stroke-linecap:round; stroke-linejoin:round; stroke-width:2; stroke-opacity:0.1; fill:none\" points=\"\n",
       "  224.098,936.221 1152.76,936.221 \n",
       "  \"/>\n",
       "<polyline clip-path=\"url(#clip922)\" style=\"stroke:#000000; stroke-linecap:round; stroke-linejoin:round; stroke-width:2; stroke-opacity:0.1; fill:none\" points=\"\n",
       "  224.098,793.076 1152.76,793.076 \n",
       "  \"/>\n",
       "<polyline clip-path=\"url(#clip922)\" style=\"stroke:#000000; stroke-linecap:round; stroke-linejoin:round; stroke-width:2; stroke-opacity:0.1; fill:none\" points=\"\n",
       "  224.098,649.932 1152.76,649.932 \n",
       "  \"/>\n",
       "<polyline clip-path=\"url(#clip922)\" style=\"stroke:#000000; stroke-linecap:round; stroke-linejoin:round; stroke-width:2; stroke-opacity:0.1; fill:none\" points=\"\n",
       "  224.098,506.787 1152.76,506.787 \n",
       "  \"/>\n",
       "<polyline clip-path=\"url(#clip922)\" style=\"stroke:#000000; stroke-linecap:round; stroke-linejoin:round; stroke-width:2; stroke-opacity:0.1; fill:none\" points=\"\n",
       "  224.098,363.642 1152.76,363.642 \n",
       "  \"/>\n",
       "<polyline clip-path=\"url(#clip922)\" style=\"stroke:#000000; stroke-linecap:round; stroke-linejoin:round; stroke-width:2; stroke-opacity:0.1; fill:none\" points=\"\n",
       "  224.098,220.497 1152.76,220.497 \n",
       "  \"/>\n",
       "<polyline clip-path=\"url(#clip922)\" style=\"stroke:#000000; stroke-linecap:round; stroke-linejoin:round; stroke-width:2; stroke-opacity:0.1; fill:none\" points=\"\n",
       "  224.098,77.3517 1152.76,77.3517 \n",
       "  \"/>\n",
       "<polyline clip-path=\"url(#clip920)\" style=\"stroke:#000000; stroke-linecap:round; stroke-linejoin:round; stroke-width:4; stroke-opacity:1; fill:none\" points=\"\n",
       "  224.098,1047.7 224.098,47.2441 \n",
       "  \"/>\n",
       "<polyline clip-path=\"url(#clip920)\" style=\"stroke:#000000; stroke-linecap:round; stroke-linejoin:round; stroke-width:4; stroke-opacity:1; fill:none\" points=\"\n",
       "  224.098,936.221 242.996,936.221 \n",
       "  \"/>\n",
       "<polyline clip-path=\"url(#clip920)\" style=\"stroke:#000000; stroke-linecap:round; stroke-linejoin:round; stroke-width:4; stroke-opacity:1; fill:none\" points=\"\n",
       "  224.098,793.076 242.996,793.076 \n",
       "  \"/>\n",
       "<polyline clip-path=\"url(#clip920)\" style=\"stroke:#000000; stroke-linecap:round; stroke-linejoin:round; stroke-width:4; stroke-opacity:1; fill:none\" points=\"\n",
       "  224.098,649.932 242.996,649.932 \n",
       "  \"/>\n",
       "<polyline clip-path=\"url(#clip920)\" style=\"stroke:#000000; stroke-linecap:round; stroke-linejoin:round; stroke-width:4; stroke-opacity:1; fill:none\" points=\"\n",
       "  224.098,506.787 242.996,506.787 \n",
       "  \"/>\n",
       "<polyline clip-path=\"url(#clip920)\" style=\"stroke:#000000; stroke-linecap:round; stroke-linejoin:round; stroke-width:4; stroke-opacity:1; fill:none\" points=\"\n",
       "  224.098,363.642 242.996,363.642 \n",
       "  \"/>\n",
       "<polyline clip-path=\"url(#clip920)\" style=\"stroke:#000000; stroke-linecap:round; stroke-linejoin:round; stroke-width:4; stroke-opacity:1; fill:none\" points=\"\n",
       "  224.098,220.497 242.996,220.497 \n",
       "  \"/>\n",
       "<polyline clip-path=\"url(#clip920)\" style=\"stroke:#000000; stroke-linecap:round; stroke-linejoin:round; stroke-width:4; stroke-opacity:1; fill:none\" points=\"\n",
       "  224.098,77.3517 242.996,77.3517 \n",
       "  \"/>\n",
       "<path clip-path=\"url(#clip920)\" d=\"M51.9875 936.673 L81.6633 936.673 L81.6633 940.608 L51.9875 940.608 L51.9875 936.673 Z\" fill=\"#000000\" fill-rule=\"evenodd\" fill-opacity=\"1\" /><path clip-path=\"url(#clip920)\" d=\"M101.756 922.02 Q98.1447 922.02 96.316 925.585 Q94.5104 929.127 94.5104 936.256 Q94.5104 943.363 96.316 946.927 Q98.1447 950.469 101.756 950.469 Q105.39 950.469 107.196 946.927 Q109.024 943.363 109.024 936.256 Q109.024 929.127 107.196 925.585 Q105.39 922.02 101.756 922.02 M101.756 918.316 Q107.566 918.316 110.621 922.923 Q113.7 927.506 113.7 936.256 Q113.7 944.983 110.621 949.589 Q107.566 954.173 101.756 954.173 Q95.9456 954.173 92.8669 949.589 Q89.8114 944.983 89.8114 936.256 Q89.8114 927.506 92.8669 922.923 Q95.9456 918.316 101.756 918.316 Z\" fill=\"#000000\" fill-rule=\"evenodd\" fill-opacity=\"1\" /><path clip-path=\"url(#clip920)\" d=\"M121.918 947.622 L126.802 947.622 L126.802 953.501 L121.918 953.501 L121.918 947.622 Z\" fill=\"#000000\" fill-rule=\"evenodd\" fill-opacity=\"1\" /><path clip-path=\"url(#clip920)\" d=\"M135.806 918.941 L158.029 918.941 L158.029 920.932 L145.482 953.501 L140.598 953.501 L152.404 922.877 L135.806 922.877 L135.806 918.941 Z\" fill=\"#000000\" fill-rule=\"evenodd\" fill-opacity=\"1\" /><path clip-path=\"url(#clip920)\" d=\"M167.195 918.941 L185.552 918.941 L185.552 922.877 L171.478 922.877 L171.478 931.349 Q172.496 931.002 173.515 930.84 Q174.533 930.654 175.552 930.654 Q181.339 930.654 184.718 933.826 Q188.098 936.997 188.098 942.414 Q188.098 947.992 184.626 951.094 Q181.153 954.173 174.834 954.173 Q172.658 954.173 170.39 953.802 Q168.144 953.432 165.737 952.691 L165.737 947.992 Q167.82 949.126 170.042 949.682 Q172.265 950.238 174.741 950.238 Q178.746 950.238 181.084 948.131 Q183.422 946.025 183.422 942.414 Q183.422 938.802 181.084 936.696 Q178.746 934.59 174.741 934.59 Q172.866 934.59 170.991 935.006 Q169.14 935.423 167.195 936.302 L167.195 918.941 Z\" fill=\"#000000\" fill-rule=\"evenodd\" fill-opacity=\"1\" /><path clip-path=\"url(#clip920)\" d=\"M50.9921 793.528 L80.6679 793.528 L80.6679 797.463 L50.9921 797.463 L50.9921 793.528 Z\" fill=\"#000000\" fill-rule=\"evenodd\" fill-opacity=\"1\" /><path clip-path=\"url(#clip920)\" d=\"M100.76 778.875 Q97.1493 778.875 95.3206 782.44 Q93.515 785.982 93.515 793.111 Q93.515 800.218 95.3206 803.782 Q97.1493 807.324 100.76 807.324 Q104.395 807.324 106.2 803.782 Q108.029 800.218 108.029 793.111 Q108.029 785.982 106.2 782.44 Q104.395 778.875 100.76 778.875 M100.76 775.172 Q106.571 775.172 109.626 779.778 Q112.705 784.361 112.705 793.111 Q112.705 801.838 109.626 806.444 Q106.571 811.028 100.76 811.028 Q94.9502 811.028 91.8715 806.444 Q88.816 801.838 88.816 793.111 Q88.816 784.361 91.8715 779.778 Q94.9502 775.172 100.76 775.172 Z\" fill=\"#000000\" fill-rule=\"evenodd\" fill-opacity=\"1\" /><path clip-path=\"url(#clip920)\" d=\"M120.922 804.477 L125.807 804.477 L125.807 810.356 L120.922 810.356 L120.922 804.477 Z\" fill=\"#000000\" fill-rule=\"evenodd\" fill-opacity=\"1\" /><path clip-path=\"url(#clip920)\" d=\"M136.038 775.796 L154.394 775.796 L154.394 779.732 L140.32 779.732 L140.32 788.204 Q141.339 787.857 142.357 787.695 Q143.376 787.509 144.394 787.509 Q150.181 787.509 153.561 790.681 Q156.941 793.852 156.941 799.269 Q156.941 804.847 153.468 807.949 Q149.996 811.028 143.677 811.028 Q141.501 811.028 139.232 810.657 Q136.987 810.287 134.58 809.546 L134.58 804.847 Q136.663 805.982 138.885 806.537 Q141.107 807.093 143.584 807.093 Q147.589 807.093 149.927 804.986 Q152.265 802.88 152.265 799.269 Q152.265 795.658 149.927 793.551 Q147.589 791.445 143.584 791.445 Q141.709 791.445 139.834 791.861 Q137.982 792.278 136.038 793.158 L136.038 775.796 Z\" fill=\"#000000\" fill-rule=\"evenodd\" fill-opacity=\"1\" /><path clip-path=\"url(#clip920)\" d=\"M176.153 778.875 Q172.542 778.875 170.714 782.44 Q168.908 785.982 168.908 793.111 Q168.908 800.218 170.714 803.782 Q172.542 807.324 176.153 807.324 Q179.788 807.324 181.593 803.782 Q183.422 800.218 183.422 793.111 Q183.422 785.982 181.593 782.44 Q179.788 778.875 176.153 778.875 M176.153 775.172 Q181.964 775.172 185.019 779.778 Q188.098 784.361 188.098 793.111 Q188.098 801.838 185.019 806.444 Q181.964 811.028 176.153 811.028 Q170.343 811.028 167.265 806.444 Q164.209 801.838 164.209 793.111 Q164.209 784.361 167.265 779.778 Q170.343 775.172 176.153 775.172 Z\" fill=\"#000000\" fill-rule=\"evenodd\" fill-opacity=\"1\" /><path clip-path=\"url(#clip920)\" d=\"M51.9875 650.383 L81.6633 650.383 L81.6633 654.318 L51.9875 654.318 L51.9875 650.383 Z\" fill=\"#000000\" fill-rule=\"evenodd\" fill-opacity=\"1\" /><path clip-path=\"url(#clip920)\" d=\"M101.756 635.73 Q98.1447 635.73 96.316 639.295 Q94.5104 642.837 94.5104 649.966 Q94.5104 657.073 96.316 660.638 Q98.1447 664.179 101.756 664.179 Q105.39 664.179 107.196 660.638 Q109.024 657.073 109.024 649.966 Q109.024 642.837 107.196 639.295 Q105.39 635.73 101.756 635.73 M101.756 632.027 Q107.566 632.027 110.621 636.633 Q113.7 641.216 113.7 649.966 Q113.7 658.693 110.621 663.3 Q107.566 667.883 101.756 667.883 Q95.9456 667.883 92.8669 663.3 Q89.8114 658.693 89.8114 649.966 Q89.8114 641.216 92.8669 636.633 Q95.9456 632.027 101.756 632.027 Z\" fill=\"#000000\" fill-rule=\"evenodd\" fill-opacity=\"1\" /><path clip-path=\"url(#clip920)\" d=\"M121.918 661.332 L126.802 661.332 L126.802 667.212 L121.918 667.212 L121.918 661.332 Z\" fill=\"#000000\" fill-rule=\"evenodd\" fill-opacity=\"1\" /><path clip-path=\"url(#clip920)\" d=\"M141.015 663.276 L157.334 663.276 L157.334 667.212 L135.39 667.212 L135.39 663.276 Q138.052 660.522 142.635 655.892 Q147.242 651.239 148.422 649.897 Q150.668 647.374 151.547 645.638 Q152.45 643.878 152.45 642.189 Q152.45 639.434 150.505 637.698 Q148.584 635.962 145.482 635.962 Q143.283 635.962 140.83 636.726 Q138.399 637.489 135.621 639.04 L135.621 634.318 Q138.445 633.184 140.899 632.605 Q143.353 632.027 145.39 632.027 Q150.76 632.027 153.955 634.712 Q157.149 637.397 157.149 641.888 Q157.149 644.017 156.339 645.939 Q155.552 647.837 153.445 650.429 Q152.867 651.101 149.765 654.318 Q146.663 657.513 141.015 663.276 Z\" fill=\"#000000\" fill-rule=\"evenodd\" fill-opacity=\"1\" /><path clip-path=\"url(#clip920)\" d=\"M167.195 632.652 L185.552 632.652 L185.552 636.587 L171.478 636.587 L171.478 645.059 Q172.496 644.712 173.515 644.55 Q174.533 644.364 175.552 644.364 Q181.339 644.364 184.718 647.536 Q188.098 650.707 188.098 656.124 Q188.098 661.702 184.626 664.804 Q181.153 667.883 174.834 667.883 Q172.658 667.883 170.39 667.512 Q168.144 667.142 165.737 666.401 L165.737 661.702 Q167.82 662.837 170.042 663.392 Q172.265 663.948 174.741 663.948 Q178.746 663.948 181.084 661.841 Q183.422 659.735 183.422 656.124 Q183.422 652.513 181.084 650.406 Q178.746 648.3 174.741 648.3 Q172.866 648.3 170.991 648.716 Q169.14 649.133 167.195 650.013 L167.195 632.652 Z\" fill=\"#000000\" fill-rule=\"evenodd\" fill-opacity=\"1\" /><path clip-path=\"url(#clip920)\" d=\"M100.76 492.585 Q97.1493 492.585 95.3206 496.15 Q93.515 499.692 93.515 506.821 Q93.515 513.928 95.3206 517.493 Q97.1493 521.034 100.76 521.034 Q104.395 521.034 106.2 517.493 Q108.029 513.928 108.029 506.821 Q108.029 499.692 106.2 496.15 Q104.395 492.585 100.76 492.585 M100.76 488.882 Q106.571 488.882 109.626 493.488 Q112.705 498.071 112.705 506.821 Q112.705 515.548 109.626 520.155 Q106.571 524.738 100.76 524.738 Q94.9502 524.738 91.8715 520.155 Q88.816 515.548 88.816 506.821 Q88.816 498.071 91.8715 493.488 Q94.9502 488.882 100.76 488.882 Z\" fill=\"#000000\" fill-rule=\"evenodd\" fill-opacity=\"1\" /><path clip-path=\"url(#clip920)\" d=\"M120.922 518.187 L125.807 518.187 L125.807 524.067 L120.922 524.067 L120.922 518.187 Z\" fill=\"#000000\" fill-rule=\"evenodd\" fill-opacity=\"1\" /><path clip-path=\"url(#clip920)\" d=\"M145.992 492.585 Q142.381 492.585 140.552 496.15 Q138.746 499.692 138.746 506.821 Q138.746 513.928 140.552 517.493 Q142.381 521.034 145.992 521.034 Q149.626 521.034 151.431 517.493 Q153.26 513.928 153.26 506.821 Q153.26 499.692 151.431 496.15 Q149.626 492.585 145.992 492.585 M145.992 488.882 Q151.802 488.882 154.857 493.488 Q157.936 498.071 157.936 506.821 Q157.936 515.548 154.857 520.155 Q151.802 524.738 145.992 524.738 Q140.181 524.738 137.103 520.155 Q134.047 515.548 134.047 506.821 Q134.047 498.071 137.103 493.488 Q140.181 488.882 145.992 488.882 Z\" fill=\"#000000\" fill-rule=\"evenodd\" fill-opacity=\"1\" /><path clip-path=\"url(#clip920)\" d=\"M176.153 492.585 Q172.542 492.585 170.714 496.15 Q168.908 499.692 168.908 506.821 Q168.908 513.928 170.714 517.493 Q172.542 521.034 176.153 521.034 Q179.788 521.034 181.593 517.493 Q183.422 513.928 183.422 506.821 Q183.422 499.692 181.593 496.15 Q179.788 492.585 176.153 492.585 M176.153 488.882 Q181.964 488.882 185.019 493.488 Q188.098 498.071 188.098 506.821 Q188.098 515.548 185.019 520.155 Q181.964 524.738 176.153 524.738 Q170.343 524.738 167.265 520.155 Q164.209 515.548 164.209 506.821 Q164.209 498.071 167.265 493.488 Q170.343 488.882 176.153 488.882 Z\" fill=\"#000000\" fill-rule=\"evenodd\" fill-opacity=\"1\" /><path clip-path=\"url(#clip920)\" d=\"M101.756 349.44 Q98.1447 349.44 96.316 353.005 Q94.5104 356.547 94.5104 363.676 Q94.5104 370.783 96.316 374.348 Q98.1447 377.889 101.756 377.889 Q105.39 377.889 107.196 374.348 Q109.024 370.783 109.024 363.676 Q109.024 356.547 107.196 353.005 Q105.39 349.44 101.756 349.44 M101.756 345.737 Q107.566 345.737 110.621 350.343 Q113.7 354.926 113.7 363.676 Q113.7 372.403 110.621 377.01 Q107.566 381.593 101.756 381.593 Q95.9456 381.593 92.8669 377.01 Q89.8114 372.403 89.8114 363.676 Q89.8114 354.926 92.8669 350.343 Q95.9456 345.737 101.756 345.737 Z\" fill=\"#000000\" fill-rule=\"evenodd\" fill-opacity=\"1\" /><path clip-path=\"url(#clip920)\" d=\"M121.918 375.042 L126.802 375.042 L126.802 380.922 L121.918 380.922 L121.918 375.042 Z\" fill=\"#000000\" fill-rule=\"evenodd\" fill-opacity=\"1\" /><path clip-path=\"url(#clip920)\" d=\"M141.015 376.986 L157.334 376.986 L157.334 380.922 L135.39 380.922 L135.39 376.986 Q138.052 374.232 142.635 369.602 Q147.242 364.95 148.422 363.607 Q150.668 361.084 151.547 359.348 Q152.45 357.588 152.45 355.899 Q152.45 353.144 150.505 351.408 Q148.584 349.672 145.482 349.672 Q143.283 349.672 140.83 350.436 Q138.399 351.2 135.621 352.75 L135.621 348.028 Q138.445 346.894 140.899 346.315 Q143.353 345.737 145.39 345.737 Q150.76 345.737 153.955 348.422 Q157.149 351.107 157.149 355.598 Q157.149 357.727 156.339 359.649 Q155.552 361.547 153.445 364.139 Q152.867 364.811 149.765 368.028 Q146.663 371.223 141.015 376.986 Z\" fill=\"#000000\" fill-rule=\"evenodd\" fill-opacity=\"1\" /><path clip-path=\"url(#clip920)\" d=\"M167.195 346.362 L185.552 346.362 L185.552 350.297 L171.478 350.297 L171.478 358.769 Q172.496 358.422 173.515 358.26 Q174.533 358.075 175.552 358.075 Q181.339 358.075 184.718 361.246 Q188.098 364.417 188.098 369.834 Q188.098 375.412 184.626 378.514 Q181.153 381.593 174.834 381.593 Q172.658 381.593 170.39 381.223 Q168.144 380.852 165.737 380.111 L165.737 375.412 Q167.82 376.547 170.042 377.102 Q172.265 377.658 174.741 377.658 Q178.746 377.658 181.084 375.551 Q183.422 373.445 183.422 369.834 Q183.422 366.223 181.084 364.116 Q178.746 362.01 174.741 362.01 Q172.866 362.01 170.991 362.426 Q169.14 362.843 167.195 363.723 L167.195 346.362 Z\" fill=\"#000000\" fill-rule=\"evenodd\" fill-opacity=\"1\" /><path clip-path=\"url(#clip920)\" d=\"M100.76 206.295 Q97.1493 206.295 95.3206 209.86 Q93.515 213.402 93.515 220.531 Q93.515 227.638 95.3206 231.203 Q97.1493 234.744 100.76 234.744 Q104.395 234.744 106.2 231.203 Q108.029 227.638 108.029 220.531 Q108.029 213.402 106.2 209.86 Q104.395 206.295 100.76 206.295 M100.76 202.592 Q106.571 202.592 109.626 207.198 Q112.705 211.781 112.705 220.531 Q112.705 229.258 109.626 233.865 Q106.571 238.448 100.76 238.448 Q94.9502 238.448 91.8715 233.865 Q88.816 229.258 88.816 220.531 Q88.816 211.781 91.8715 207.198 Q94.9502 202.592 100.76 202.592 Z\" fill=\"#000000\" fill-rule=\"evenodd\" fill-opacity=\"1\" /><path clip-path=\"url(#clip920)\" d=\"M120.922 231.897 L125.807 231.897 L125.807 237.777 L120.922 237.777 L120.922 231.897 Z\" fill=\"#000000\" fill-rule=\"evenodd\" fill-opacity=\"1\" /><path clip-path=\"url(#clip920)\" d=\"M136.038 203.217 L154.394 203.217 L154.394 207.152 L140.32 207.152 L140.32 215.624 Q141.339 215.277 142.357 215.115 Q143.376 214.93 144.394 214.93 Q150.181 214.93 153.561 218.101 Q156.941 221.272 156.941 226.689 Q156.941 232.267 153.468 235.369 Q149.996 238.448 143.677 238.448 Q141.501 238.448 139.232 238.078 Q136.987 237.707 134.58 236.967 L134.58 232.267 Q136.663 233.402 138.885 233.957 Q141.107 234.513 143.584 234.513 Q147.589 234.513 149.927 232.406 Q152.265 230.3 152.265 226.689 Q152.265 223.078 149.927 220.971 Q147.589 218.865 143.584 218.865 Q141.709 218.865 139.834 219.281 Q137.982 219.698 136.038 220.578 L136.038 203.217 Z\" fill=\"#000000\" fill-rule=\"evenodd\" fill-opacity=\"1\" /><path clip-path=\"url(#clip920)\" d=\"M176.153 206.295 Q172.542 206.295 170.714 209.86 Q168.908 213.402 168.908 220.531 Q168.908 227.638 170.714 231.203 Q172.542 234.744 176.153 234.744 Q179.788 234.744 181.593 231.203 Q183.422 227.638 183.422 220.531 Q183.422 213.402 181.593 209.86 Q179.788 206.295 176.153 206.295 M176.153 202.592 Q181.964 202.592 185.019 207.198 Q188.098 211.781 188.098 220.531 Q188.098 229.258 185.019 233.865 Q181.964 238.448 176.153 238.448 Q170.343 238.448 167.265 233.865 Q164.209 229.258 164.209 220.531 Q164.209 211.781 167.265 207.198 Q170.343 202.592 176.153 202.592 Z\" fill=\"#000000\" fill-rule=\"evenodd\" fill-opacity=\"1\" /><path clip-path=\"url(#clip920)\" d=\"M101.756 63.1504 Q98.1447 63.1504 96.316 66.7152 Q94.5104 70.2569 94.5104 77.3865 Q94.5104 84.4929 96.316 88.0577 Q98.1447 91.5993 101.756 91.5993 Q105.39 91.5993 107.196 88.0577 Q109.024 84.4929 109.024 77.3865 Q109.024 70.2569 107.196 66.7152 Q105.39 63.1504 101.756 63.1504 M101.756 59.4467 Q107.566 59.4467 110.621 64.0532 Q113.7 68.6365 113.7 77.3865 Q113.7 86.1133 110.621 90.7197 Q107.566 95.303 101.756 95.303 Q95.9456 95.303 92.8669 90.7197 Q89.8114 86.1133 89.8114 77.3865 Q89.8114 68.6365 92.8669 64.0532 Q95.9456 59.4467 101.756 59.4467 Z\" fill=\"#000000\" fill-rule=\"evenodd\" fill-opacity=\"1\" /><path clip-path=\"url(#clip920)\" d=\"M121.918 88.7521 L126.802 88.7521 L126.802 94.6317 L121.918 94.6317 L121.918 88.7521 Z\" fill=\"#000000\" fill-rule=\"evenodd\" fill-opacity=\"1\" /><path clip-path=\"url(#clip920)\" d=\"M135.806 60.0717 L158.029 60.0717 L158.029 62.0625 L145.482 94.6317 L140.598 94.6317 L152.404 64.0069 L135.806 64.0069 L135.806 60.0717 Z\" fill=\"#000000\" fill-rule=\"evenodd\" fill-opacity=\"1\" /><path clip-path=\"url(#clip920)\" d=\"M167.195 60.0717 L185.552 60.0717 L185.552 64.0069 L171.478 64.0069 L171.478 72.4791 Q172.496 72.1319 173.515 71.9698 Q174.533 71.7846 175.552 71.7846 Q181.339 71.7846 184.718 74.9559 Q188.098 78.1272 188.098 83.5438 Q188.098 89.1225 184.626 92.2243 Q181.153 95.303 174.834 95.303 Q172.658 95.303 170.39 94.9327 Q168.144 94.5623 165.737 93.8216 L165.737 89.1225 Q167.82 90.2568 170.042 90.8123 Q172.265 91.3679 174.741 91.3679 Q178.746 91.3679 181.084 89.2614 Q183.422 87.1549 183.422 83.5438 Q183.422 79.9327 181.084 77.8263 Q178.746 75.7198 174.741 75.7198 Q172.866 75.7198 170.991 76.1365 Q169.14 76.5531 167.195 77.4328 L167.195 60.0717 Z\" fill=\"#000000\" fill-rule=\"evenodd\" fill-opacity=\"1\" /><circle clip-path=\"url(#clip922)\" cx=\"491.107\" cy=\"631.19\" r=\"14.4\" fill=\"#cd5c5c\" fill-rule=\"evenodd\" fill-opacity=\"1\" stroke=\"#000000\" stroke-opacity=\"1\" stroke-width=\"2.4\"/>\n",
       "<circle clip-path=\"url(#clip922)\" cx=\"319.94\" cy=\"923.248\" r=\"14.4\" fill=\"#cd5c5c\" fill-rule=\"evenodd\" fill-opacity=\"1\" stroke=\"#000000\" stroke-opacity=\"1\" stroke-width=\"2.4\"/>\n",
       "<circle clip-path=\"url(#clip922)\" cx=\"408.203\" cy=\"967.343\" r=\"14.4\" fill=\"#cd5c5c\" fill-rule=\"evenodd\" fill-opacity=\"1\" stroke=\"#000000\" stroke-opacity=\"1\" stroke-width=\"2.4\"/>\n",
       "<circle clip-path=\"url(#clip922)\" cx=\"502.154\" cy=\"1000.66\" r=\"14.4\" fill=\"#cd5c5c\" fill-rule=\"evenodd\" fill-opacity=\"1\" stroke=\"#000000\" stroke-opacity=\"1\" stroke-width=\"2.4\"/>\n",
       "<circle clip-path=\"url(#clip922)\" cx=\"888.524\" cy=\"340.036\" r=\"14.4\" fill=\"#cd5c5c\" fill-rule=\"evenodd\" fill-opacity=\"1\" stroke=\"#000000\" stroke-opacity=\"1\" stroke-width=\"2.4\"/>\n",
       "<circle clip-path=\"url(#clip922)\" cx=\"250.381\" cy=\"675.884\" r=\"14.4\" fill=\"#cd5c5c\" fill-rule=\"evenodd\" fill-opacity=\"1\" stroke=\"#000000\" stroke-opacity=\"1\" stroke-width=\"2.4\"/>\n",
       "<circle clip-path=\"url(#clip922)\" cx=\"541.998\" cy=\"929.483\" r=\"14.4\" fill=\"#cd5c5c\" fill-rule=\"evenodd\" fill-opacity=\"1\" stroke=\"#000000\" stroke-opacity=\"1\" stroke-width=\"2.4\"/>\n",
       "<circle clip-path=\"url(#clip922)\" cx=\"650.66\" cy=\"589.776\" r=\"14.4\" fill=\"#cd5c5c\" fill-rule=\"evenodd\" fill-opacity=\"1\" stroke=\"#000000\" stroke-opacity=\"1\" stroke-width=\"2.4\"/>\n",
       "<circle clip-path=\"url(#clip922)\" cx=\"424.715\" cy=\"690.28\" r=\"14.4\" fill=\"#cd5c5c\" fill-rule=\"evenodd\" fill-opacity=\"1\" stroke=\"#000000\" stroke-opacity=\"1\" stroke-width=\"2.4\"/>\n",
       "<circle clip-path=\"url(#clip922)\" cx=\"899.652\" cy=\"75.5589\" r=\"14.4\" fill=\"#cd5c5c\" fill-rule=\"evenodd\" fill-opacity=\"1\" stroke=\"#000000\" stroke-opacity=\"1\" stroke-width=\"2.4\"/>\n",
       "<circle clip-path=\"url(#clip922)\" cx=\"553.925\" cy=\"685.136\" r=\"14.4\" fill=\"#cd5c5c\" fill-rule=\"evenodd\" fill-opacity=\"1\" stroke=\"#000000\" stroke-opacity=\"1\" stroke-width=\"2.4\"/>\n",
       "<circle clip-path=\"url(#clip922)\" cx=\"454.682\" cy=\"828.306\" r=\"14.4\" fill=\"#cd5c5c\" fill-rule=\"evenodd\" fill-opacity=\"1\" stroke=\"#000000\" stroke-opacity=\"1\" stroke-width=\"2.4\"/>\n",
       "<circle clip-path=\"url(#clip922)\" cx=\"487.025\" cy=\"507.201\" r=\"14.4\" fill=\"#cd5c5c\" fill-rule=\"evenodd\" fill-opacity=\"1\" stroke=\"#000000\" stroke-opacity=\"1\" stroke-width=\"2.4\"/>\n",
       "<circle clip-path=\"url(#clip922)\" cx=\"773.778\" cy=\"455.059\" r=\"14.4\" fill=\"#cd5c5c\" fill-rule=\"evenodd\" fill-opacity=\"1\" stroke=\"#000000\" stroke-opacity=\"1\" stroke-width=\"2.4\"/>\n",
       "<circle clip-path=\"url(#clip922)\" cx=\"981.007\" cy=\"415.862\" r=\"14.4\" fill=\"#cd5c5c\" fill-rule=\"evenodd\" fill-opacity=\"1\" stroke=\"#000000\" stroke-opacity=\"1\" stroke-width=\"2.4\"/>\n",
       "<circle clip-path=\"url(#clip922)\" cx=\"331.667\" cy=\"800.875\" r=\"14.4\" fill=\"#cd5c5c\" fill-rule=\"evenodd\" fill-opacity=\"1\" stroke=\"#000000\" stroke-opacity=\"1\" stroke-width=\"2.4\"/>\n",
       "<circle clip-path=\"url(#clip922)\" cx=\"306.282\" cy=\"945.156\" r=\"14.4\" fill=\"#cd5c5c\" fill-rule=\"evenodd\" fill-opacity=\"1\" stroke=\"#000000\" stroke-opacity=\"1\" stroke-width=\"2.4\"/>\n",
       "<circle clip-path=\"url(#clip922)\" cx=\"745.793\" cy=\"591.135\" r=\"14.4\" fill=\"#cd5c5c\" fill-rule=\"evenodd\" fill-opacity=\"1\" stroke=\"#000000\" stroke-opacity=\"1\" stroke-width=\"2.4\"/>\n",
       "<circle clip-path=\"url(#clip922)\" cx=\"564.569\" cy=\"756.783\" r=\"14.4\" fill=\"#cd5c5c\" fill-rule=\"evenodd\" fill-opacity=\"1\" stroke=\"#000000\" stroke-opacity=\"1\" stroke-width=\"2.4\"/>\n",
       "<circle clip-path=\"url(#clip922)\" cx=\"486.58\" cy=\"628.947\" r=\"14.4\" fill=\"#cd5c5c\" fill-rule=\"evenodd\" fill-opacity=\"1\" stroke=\"#000000\" stroke-opacity=\"1\" stroke-width=\"2.4\"/>\n",
       "<circle clip-path=\"url(#clip922)\" cx=\"804.276\" cy=\"332.876\" r=\"14.4\" fill=\"#cd5c5c\" fill-rule=\"evenodd\" fill-opacity=\"1\" stroke=\"#000000\" stroke-opacity=\"1\" stroke-width=\"2.4\"/>\n",
       "<circle clip-path=\"url(#clip922)\" cx=\"361.77\" cy=\"667.184\" r=\"14.4\" fill=\"#cd5c5c\" fill-rule=\"evenodd\" fill-opacity=\"1\" stroke=\"#000000\" stroke-opacity=\"1\" stroke-width=\"2.4\"/>\n",
       "<circle clip-path=\"url(#clip922)\" cx=\"359.645\" cy=\"1019.39\" r=\"14.4\" fill=\"#cd5c5c\" fill-rule=\"evenodd\" fill-opacity=\"1\" stroke=\"#000000\" stroke-opacity=\"1\" stroke-width=\"2.4\"/>\n",
       "<circle clip-path=\"url(#clip922)\" cx=\"901.586\" cy=\"340.062\" r=\"14.4\" fill=\"#cd5c5c\" fill-rule=\"evenodd\" fill-opacity=\"1\" stroke=\"#000000\" stroke-opacity=\"1\" stroke-width=\"2.4\"/>\n",
       "<circle clip-path=\"url(#clip922)\" cx=\"562.158\" cy=\"633.866\" r=\"14.4\" fill=\"#cd5c5c\" fill-rule=\"evenodd\" fill-opacity=\"1\" stroke=\"#000000\" stroke-opacity=\"1\" stroke-width=\"2.4\"/>\n",
       "<circle clip-path=\"url(#clip922)\" cx=\"355.431\" cy=\"934.989\" r=\"14.4\" fill=\"#cd5c5c\" fill-rule=\"evenodd\" fill-opacity=\"1\" stroke=\"#000000\" stroke-opacity=\"1\" stroke-width=\"2.4\"/>\n",
       "<circle clip-path=\"url(#clip922)\" cx=\"832.329\" cy=\"158.716\" r=\"14.4\" fill=\"#4682b4\" fill-rule=\"evenodd\" fill-opacity=\"1\" stroke=\"#000000\" stroke-opacity=\"1\" stroke-width=\"2.4\"/>\n",
       "<circle clip-path=\"url(#clip922)\" cx=\"916.808\" cy=\"437.129\" r=\"14.4\" fill=\"#4682b4\" fill-rule=\"evenodd\" fill-opacity=\"1\" stroke=\"#000000\" stroke-opacity=\"1\" stroke-width=\"2.4\"/>\n",
       "<circle clip-path=\"url(#clip922)\" cx=\"818.846\" cy=\"319.181\" r=\"14.4\" fill=\"#4682b4\" fill-rule=\"evenodd\" fill-opacity=\"1\" stroke=\"#000000\" stroke-opacity=\"1\" stroke-width=\"2.4\"/>\n",
       "<circle clip-path=\"url(#clip922)\" cx=\"832.127\" cy=\"240.353\" r=\"14.4\" fill=\"#4682b4\" fill-rule=\"evenodd\" fill-opacity=\"1\" stroke=\"#000000\" stroke-opacity=\"1\" stroke-width=\"2.4\"/>\n",
       "<circle clip-path=\"url(#clip922)\" cx=\"892.063\" cy=\"306.665\" r=\"14.4\" fill=\"#4682b4\" fill-rule=\"evenodd\" fill-opacity=\"1\" stroke=\"#000000\" stroke-opacity=\"1\" stroke-width=\"2.4\"/>\n",
       "<circle clip-path=\"url(#clip922)\" cx=\"995.906\" cy=\"338.552\" r=\"14.4\" fill=\"#4682b4\" fill-rule=\"evenodd\" fill-opacity=\"1\" stroke=\"#000000\" stroke-opacity=\"1\" stroke-width=\"2.4\"/>\n",
       "<circle clip-path=\"url(#clip922)\" cx=\"1089.65\" cy=\"147.014\" r=\"14.4\" fill=\"#4682b4\" fill-rule=\"evenodd\" fill-opacity=\"1\" stroke=\"#000000\" stroke-opacity=\"1\" stroke-width=\"2.4\"/>\n",
       "<circle clip-path=\"url(#clip922)\" cx=\"733.104\" cy=\"180.171\" r=\"14.4\" fill=\"#4682b4\" fill-rule=\"evenodd\" fill-opacity=\"1\" stroke=\"#000000\" stroke-opacity=\"1\" stroke-width=\"2.4\"/>\n",
       "<circle clip-path=\"url(#clip922)\" cx=\"793.477\" cy=\"893.387\" r=\"14.4\" fill=\"#4682b4\" fill-rule=\"evenodd\" fill-opacity=\"1\" stroke=\"#000000\" stroke-opacity=\"1\" stroke-width=\"2.4\"/>\n",
       "<circle clip-path=\"url(#clip922)\" cx=\"965.335\" cy=\"283.796\" r=\"14.4\" fill=\"#4682b4\" fill-rule=\"evenodd\" fill-opacity=\"1\" stroke=\"#000000\" stroke-opacity=\"1\" stroke-width=\"2.4\"/>\n",
       "<circle clip-path=\"url(#clip922)\" cx=\"742.177\" cy=\"278.069\" r=\"14.4\" fill=\"#4682b4\" fill-rule=\"evenodd\" fill-opacity=\"1\" stroke=\"#000000\" stroke-opacity=\"1\" stroke-width=\"2.4\"/>\n",
       "<circle clip-path=\"url(#clip922)\" cx=\"907.72\" cy=\"737.376\" r=\"14.4\" fill=\"#4682b4\" fill-rule=\"evenodd\" fill-opacity=\"1\" stroke=\"#000000\" stroke-opacity=\"1\" stroke-width=\"2.4\"/>\n",
       "<circle clip-path=\"url(#clip922)\" cx=\"1106.22\" cy=\"429.011\" r=\"14.4\" fill=\"#4682b4\" fill-rule=\"evenodd\" fill-opacity=\"1\" stroke=\"#000000\" stroke-opacity=\"1\" stroke-width=\"2.4\"/>\n",
       "<circle clip-path=\"url(#clip922)\" cx=\"987.293\" cy=\"242.037\" r=\"14.4\" fill=\"#4682b4\" fill-rule=\"evenodd\" fill-opacity=\"1\" stroke=\"#000000\" stroke-opacity=\"1\" stroke-width=\"2.4\"/>\n",
       "<circle clip-path=\"url(#clip922)\" cx=\"782.735\" cy=\"380.038\" r=\"14.4\" fill=\"#4682b4\" fill-rule=\"evenodd\" fill-opacity=\"1\" stroke=\"#000000\" stroke-opacity=\"1\" stroke-width=\"2.4\"/>\n",
       "<circle clip-path=\"url(#clip922)\" cx=\"758.87\" cy=\"210.051\" r=\"14.4\" fill=\"#4682b4\" fill-rule=\"evenodd\" fill-opacity=\"1\" stroke=\"#000000\" stroke-opacity=\"1\" stroke-width=\"2.4\"/>\n",
       "<circle clip-path=\"url(#clip922)\" cx=\"766.249\" cy=\"330.921\" r=\"14.4\" fill=\"#4682b4\" fill-rule=\"evenodd\" fill-opacity=\"1\" stroke=\"#000000\" stroke-opacity=\"1\" stroke-width=\"2.4\"/>\n",
       "<circle clip-path=\"url(#clip922)\" cx=\"812.961\" cy=\"222.235\" r=\"14.4\" fill=\"#4682b4\" fill-rule=\"evenodd\" fill-opacity=\"1\" stroke=\"#000000\" stroke-opacity=\"1\" stroke-width=\"2.4\"/>\n",
       "<circle clip-path=\"url(#clip922)\" cx=\"775.244\" cy=\"256.545\" r=\"14.4\" fill=\"#4682b4\" fill-rule=\"evenodd\" fill-opacity=\"1\" stroke=\"#000000\" stroke-opacity=\"1\" stroke-width=\"2.4\"/>\n",
       "<circle clip-path=\"url(#clip922)\" cx=\"1126.47\" cy=\"399.83\" r=\"14.4\" fill=\"#4682b4\" fill-rule=\"evenodd\" fill-opacity=\"1\" stroke=\"#000000\" stroke-opacity=\"1\" stroke-width=\"2.4\"/>\n",
       "<circle clip-path=\"url(#clip922)\" cx=\"883.601\" cy=\"95.4525\" r=\"14.4\" fill=\"#4682b4\" fill-rule=\"evenodd\" fill-opacity=\"1\" stroke=\"#000000\" stroke-opacity=\"1\" stroke-width=\"2.4\"/>\n",
       "<circle clip-path=\"url(#clip922)\" cx=\"934.995\" cy=\"346.233\" r=\"14.4\" fill=\"#4682b4\" fill-rule=\"evenodd\" fill-opacity=\"1\" stroke=\"#000000\" stroke-opacity=\"1\" stroke-width=\"2.4\"/>\n",
       "<circle clip-path=\"url(#clip922)\" cx=\"881.147\" cy=\"279.112\" r=\"14.4\" fill=\"#4682b4\" fill-rule=\"evenodd\" fill-opacity=\"1\" stroke=\"#000000\" stroke-opacity=\"1\" stroke-width=\"2.4\"/>\n",
       "<circle clip-path=\"url(#clip922)\" cx=\"1119.25\" cy=\"461.178\" r=\"14.4\" fill=\"#4682b4\" fill-rule=\"evenodd\" fill-opacity=\"1\" stroke=\"#000000\" stroke-opacity=\"1\" stroke-width=\"2.4\"/>\n",
       "<path clip-path=\"url(#clip920)\" d=\"\n",
       "M864.682 236.113 L1121.8 236.113 L1121.8 80.5926 L864.682 80.5926  Z\n",
       "  \" fill=\"#ffffff\" fill-rule=\"evenodd\" fill-opacity=\"1\"/>\n",
       "<polyline clip-path=\"url(#clip920)\" style=\"stroke:#000000; stroke-linecap:round; stroke-linejoin:round; stroke-width:4; stroke-opacity:1; fill:none\" points=\"\n",
       "  864.682,236.113 1121.8,236.113 1121.8,80.5926 864.682,80.5926 864.682,236.113 \n",
       "  \"/>\n",
       "<circle clip-path=\"url(#clip920)\" cx=\"905.956\" cy=\"132.433\" r=\"23.04\" fill=\"#cd5c5c\" fill-rule=\"evenodd\" fill-opacity=\"1\" stroke=\"#000000\" stroke-opacity=\"1\" stroke-width=\"3.84\"/>\n",
       "<path clip-path=\"url(#clip920)\" d=\"M975.1 117.815 L975.1 122.745 Q972.739 120.546 970.053 119.458 Q967.391 118.37 964.382 118.37 Q958.456 118.37 955.308 122.004 Q952.16 125.616 952.16 132.467 Q952.16 139.296 955.308 142.93 Q958.456 146.541 964.382 146.541 Q967.391 146.541 970.053 145.453 Q972.739 144.365 975.1 142.166 L975.1 147.051 Q972.646 148.717 969.891 149.551 Q967.16 150.384 964.104 150.384 Q956.257 150.384 951.743 145.592 Q947.229 140.777 947.229 132.467 Q947.229 124.134 951.743 119.342 Q956.257 114.528 964.104 114.528 Q967.206 114.528 969.938 115.361 Q972.692 116.171 975.1 117.815 Z\" fill=\"#000000\" fill-rule=\"evenodd\" fill-opacity=\"1\" /><path clip-path=\"url(#clip920)\" d=\"M992.183 126.773 Q988.757 126.773 986.766 129.458 Q984.776 132.12 984.776 136.773 Q984.776 141.426 986.743 144.111 Q988.734 146.773 992.183 146.773 Q995.586 146.773 997.576 144.088 Q999.567 141.402 999.567 136.773 Q999.567 132.166 997.576 129.481 Q995.586 126.773 992.183 126.773 M992.183 123.162 Q997.738 123.162 1000.91 126.773 Q1004.08 130.384 1004.08 136.773 Q1004.08 143.139 1000.91 146.773 Q997.738 150.384 992.183 150.384 Q986.604 150.384 983.433 146.773 Q980.285 143.139 980.285 136.773 Q980.285 130.384 983.433 126.773 Q986.604 123.162 992.183 123.162 Z\" fill=\"#000000\" fill-rule=\"evenodd\" fill-opacity=\"1\" /><path clip-path=\"url(#clip920)\" d=\"M1022.92 136.68 Q1017.76 136.68 1015.77 137.861 Q1013.78 139.041 1013.78 141.889 Q1013.78 144.157 1015.26 145.5 Q1016.77 146.819 1019.34 146.819 Q1022.88 146.819 1025.01 144.319 Q1027.16 141.796 1027.16 137.629 L1027.16 136.68 L1022.92 136.68 M1031.42 134.921 L1031.42 149.713 L1027.16 149.713 L1027.16 145.777 Q1025.7 148.139 1023.53 149.273 Q1021.35 150.384 1018.2 150.384 Q1014.22 150.384 1011.86 148.162 Q1009.52 145.916 1009.52 142.166 Q1009.52 137.791 1012.44 135.569 Q1015.38 133.347 1021.19 133.347 L1027.16 133.347 L1027.16 132.93 Q1027.16 129.991 1025.22 128.393 Q1023.29 126.773 1019.8 126.773 Q1017.58 126.773 1015.47 127.305 Q1013.36 127.838 1011.42 128.903 L1011.42 124.967 Q1013.76 124.065 1015.96 123.625 Q1018.15 123.162 1020.24 123.162 Q1025.86 123.162 1028.64 126.078 Q1031.42 128.995 1031.42 134.921 Z\" fill=\"#000000\" fill-rule=\"evenodd\" fill-opacity=\"1\" /><path clip-path=\"url(#clip920)\" d=\"M1044.4 116.426 L1044.4 123.787 L1053.18 123.787 L1053.18 127.097 L1044.4 127.097 L1044.4 141.171 Q1044.4 144.342 1045.26 145.245 Q1046.14 146.148 1048.8 146.148 L1053.18 146.148 L1053.18 149.713 L1048.8 149.713 Q1043.87 149.713 1042 147.884 Q1040.12 146.032 1040.12 141.171 L1040.12 127.097 L1037 127.097 L1037 123.787 L1040.12 123.787 L1040.12 116.426 L1044.4 116.426 Z\" fill=\"#000000\" fill-rule=\"evenodd\" fill-opacity=\"1\" /><circle clip-path=\"url(#clip920)\" cx=\"905.956\" cy=\"184.273\" r=\"23.04\" fill=\"#4682b4\" fill-rule=\"evenodd\" fill-opacity=\"1\" stroke=\"#000000\" stroke-opacity=\"1\" stroke-width=\"3.84\"/>\n",
       "<path clip-path=\"url(#clip920)\" d=\"M969.475 168.127 L969.475 172.687 Q966.813 171.414 964.452 170.789 Q962.09 170.164 959.891 170.164 Q956.072 170.164 953.989 171.645 Q951.928 173.127 951.928 175.858 Q951.928 178.15 953.294 179.331 Q954.683 180.488 958.526 181.206 L961.35 181.784 Q966.581 182.78 969.058 185.303 Q971.558 187.803 971.558 192.016 Q971.558 197.039 968.178 199.631 Q964.822 202.224 958.317 202.224 Q955.864 202.224 953.086 201.668 Q950.331 201.113 947.368 200.025 L947.368 195.21 Q950.216 196.807 952.947 197.617 Q955.678 198.428 958.317 198.428 Q962.322 198.428 964.498 196.854 Q966.674 195.28 966.674 192.363 Q966.674 189.817 965.1 188.381 Q963.549 186.946 959.984 186.229 L957.137 185.673 Q951.905 184.631 949.567 182.409 Q947.229 180.187 947.229 176.229 Q947.229 171.645 950.447 169.006 Q953.688 166.368 959.359 166.368 Q961.79 166.368 964.313 166.807 Q966.836 167.247 969.475 168.127 Z\" fill=\"#000000\" fill-rule=\"evenodd\" fill-opacity=\"1\" /><path clip-path=\"url(#clip920)\" d=\"M990.447 188.52 Q985.285 188.52 983.294 189.701 Q981.303 190.881 981.303 193.729 Q981.303 195.997 982.785 197.34 Q984.289 198.659 986.859 198.659 Q990.4 198.659 992.53 196.159 Q994.683 193.636 994.683 189.469 L994.683 188.52 L990.447 188.52 M998.942 186.761 L998.942 201.553 L994.683 201.553 L994.683 197.617 Q993.225 199.979 991.049 201.113 Q988.873 202.224 985.725 202.224 Q981.743 202.224 979.382 200.002 Q977.044 197.756 977.044 194.006 Q977.044 189.631 979.961 187.409 Q982.901 185.187 988.711 185.187 L994.683 185.187 L994.683 184.77 Q994.683 181.831 992.738 180.233 Q990.817 178.613 987.322 178.613 Q985.1 178.613 982.993 179.145 Q980.887 179.678 978.942 180.743 L978.942 176.807 Q981.28 175.905 983.479 175.465 Q985.678 175.002 987.762 175.002 Q993.387 175.002 996.164 177.918 Q998.942 180.835 998.942 186.761 Z\" fill=\"#000000\" fill-rule=\"evenodd\" fill-opacity=\"1\" /><path clip-path=\"url(#clip920)\" d=\"M1029.27 185.905 L1029.27 201.553 L1025.01 201.553 L1025.01 186.043 Q1025.01 182.363 1023.57 180.534 Q1022.14 178.706 1019.27 178.706 Q1015.82 178.706 1013.83 180.905 Q1011.84 183.104 1011.84 186.9 L1011.84 201.553 L1007.55 201.553 L1007.55 175.627 L1011.84 175.627 L1011.84 179.655 Q1013.36 177.317 1015.42 176.159 Q1017.51 175.002 1020.22 175.002 Q1024.68 175.002 1026.97 177.78 Q1029.27 180.534 1029.27 185.905 Z\" fill=\"#000000\" fill-rule=\"evenodd\" fill-opacity=\"1\" /><path clip-path=\"url(#clip920)\" d=\"M1054.82 179.562 L1054.82 165.534 L1059.08 165.534 L1059.08 201.553 L1054.82 201.553 L1054.82 197.664 Q1053.48 199.979 1051.42 201.113 Q1049.38 202.224 1046.51 202.224 Q1041.81 202.224 1038.85 198.474 Q1035.91 194.724 1035.91 188.613 Q1035.91 182.502 1038.85 178.752 Q1041.81 175.002 1046.51 175.002 Q1049.38 175.002 1051.42 176.136 Q1053.48 177.247 1054.82 179.562 M1040.31 188.613 Q1040.31 193.312 1042.23 195.997 Q1044.17 198.659 1047.55 198.659 Q1050.93 198.659 1052.88 195.997 Q1054.82 193.312 1054.82 188.613 Q1054.82 183.914 1052.88 181.252 Q1050.93 178.567 1047.55 178.567 Q1044.17 178.567 1042.23 181.252 Q1040.31 183.914 1040.31 188.613 Z\" fill=\"#000000\" fill-rule=\"evenodd\" fill-opacity=\"1\" /><path clip-path=\"url(#clip920)\" d=\"M1079.64 188.52 Q1074.47 188.52 1072.48 189.701 Q1070.49 190.881 1070.49 193.729 Q1070.49 195.997 1071.97 197.34 Q1073.48 198.659 1076.05 198.659 Q1079.59 198.659 1081.72 196.159 Q1083.87 193.636 1083.87 189.469 L1083.87 188.52 L1079.64 188.52 M1088.13 186.761 L1088.13 201.553 L1083.87 201.553 L1083.87 197.617 Q1082.41 199.979 1080.24 201.113 Q1078.06 202.224 1074.91 202.224 Q1070.93 202.224 1068.57 200.002 Q1066.23 197.756 1066.23 194.006 Q1066.23 189.631 1069.15 187.409 Q1072.09 185.187 1077.9 185.187 L1083.87 185.187 L1083.87 184.77 Q1083.87 181.831 1081.93 180.233 Q1080.01 178.613 1076.51 178.613 Q1074.29 178.613 1072.18 179.145 Q1070.08 179.678 1068.13 180.743 L1068.13 176.807 Q1070.47 175.905 1072.67 175.465 Q1074.87 175.002 1076.95 175.002 Q1082.58 175.002 1085.35 177.918 Q1088.13 180.835 1088.13 186.761 Z\" fill=\"#000000\" fill-rule=\"evenodd\" fill-opacity=\"1\" /><path clip-path=\"url(#clip920)\" d=\"M1096.9 165.534 L1101.16 165.534 L1101.16 201.553 L1096.9 201.553 L1096.9 165.534 Z\" fill=\"#000000\" fill-rule=\"evenodd\" fill-opacity=\"1\" /><path clip-path=\"url(#clip920)\" d=\"\n",
       "M1424.1 1047.7 L2352.76 1047.7 L2352.76 47.2441 L1424.1 47.2441  Z\n",
       "  \" fill=\"#ffffff\" fill-rule=\"evenodd\" fill-opacity=\"1\"/>\n",
       "<defs>\n",
       "  <clipPath id=\"clip923\">\n",
       "    <rect x=\"1424\" y=\"47\" width=\"930\" height=\"1001\"/>\n",
       "  </clipPath>\n",
       "</defs>\n",
       "<polyline clip-path=\"url(#clip923)\" style=\"stroke:#000000; stroke-linecap:round; stroke-linejoin:round; stroke-width:2; stroke-opacity:0.1; fill:none\" points=\"\n",
       "  1561.09,1047.7 1561.09,47.2441 \n",
       "  \"/>\n",
       "<polyline clip-path=\"url(#clip923)\" style=\"stroke:#000000; stroke-linecap:round; stroke-linejoin:round; stroke-width:2; stroke-opacity:0.1; fill:none\" points=\"\n",
       "  1739.16,1047.7 1739.16,47.2441 \n",
       "  \"/>\n",
       "<polyline clip-path=\"url(#clip923)\" style=\"stroke:#000000; stroke-linecap:round; stroke-linejoin:round; stroke-width:2; stroke-opacity:0.1; fill:none\" points=\"\n",
       "  1917.24,1047.7 1917.24,47.2441 \n",
       "  \"/>\n",
       "<polyline clip-path=\"url(#clip923)\" style=\"stroke:#000000; stroke-linecap:round; stroke-linejoin:round; stroke-width:2; stroke-opacity:0.1; fill:none\" points=\"\n",
       "  2095.32,1047.7 2095.32,47.2441 \n",
       "  \"/>\n",
       "<polyline clip-path=\"url(#clip923)\" style=\"stroke:#000000; stroke-linecap:round; stroke-linejoin:round; stroke-width:2; stroke-opacity:0.1; fill:none\" points=\"\n",
       "  2273.4,1047.7 2273.4,47.2441 \n",
       "  \"/>\n",
       "<polyline clip-path=\"url(#clip920)\" style=\"stroke:#000000; stroke-linecap:round; stroke-linejoin:round; stroke-width:4; stroke-opacity:1; fill:none\" points=\"\n",
       "  1424.1,1047.7 2352.76,1047.7 \n",
       "  \"/>\n",
       "<polyline clip-path=\"url(#clip920)\" style=\"stroke:#000000; stroke-linecap:round; stroke-linejoin:round; stroke-width:4; stroke-opacity:1; fill:none\" points=\"\n",
       "  1561.09,1047.7 1561.09,1028.8 \n",
       "  \"/>\n",
       "<polyline clip-path=\"url(#clip920)\" style=\"stroke:#000000; stroke-linecap:round; stroke-linejoin:round; stroke-width:4; stroke-opacity:1; fill:none\" points=\"\n",
       "  1739.16,1047.7 1739.16,1028.8 \n",
       "  \"/>\n",
       "<polyline clip-path=\"url(#clip920)\" style=\"stroke:#000000; stroke-linecap:round; stroke-linejoin:round; stroke-width:4; stroke-opacity:1; fill:none\" points=\"\n",
       "  1917.24,1047.7 1917.24,1028.8 \n",
       "  \"/>\n",
       "<polyline clip-path=\"url(#clip920)\" style=\"stroke:#000000; stroke-linecap:round; stroke-linejoin:round; stroke-width:4; stroke-opacity:1; fill:none\" points=\"\n",
       "  2095.32,1047.7 2095.32,1028.8 \n",
       "  \"/>\n",
       "<polyline clip-path=\"url(#clip920)\" style=\"stroke:#000000; stroke-linecap:round; stroke-linejoin:round; stroke-width:4; stroke-opacity:1; fill:none\" points=\"\n",
       "  2273.4,1047.7 2273.4,1028.8 \n",
       "  \"/>\n",
       "<path clip-path=\"url(#clip920)\" d=\"M1507.62 1093.27 L1537.29 1093.27 L1537.29 1097.21 L1507.62 1097.21 L1507.62 1093.27 Z\" fill=\"#000000\" fill-rule=\"evenodd\" fill-opacity=\"1\" /><path clip-path=\"url(#clip920)\" d=\"M1548.19 1106.16 L1555.83 1106.16 L1555.83 1079.8 L1547.52 1081.47 L1547.52 1077.21 L1555.79 1075.54 L1560.46 1075.54 L1560.46 1106.16 L1568.1 1106.16 L1568.1 1110.1 L1548.19 1110.1 L1548.19 1106.16 Z\" fill=\"#000000\" fill-rule=\"evenodd\" fill-opacity=\"1\" /><path clip-path=\"url(#clip920)\" d=\"M1577.55 1104.22 L1582.43 1104.22 L1582.43 1110.1 L1577.55 1110.1 L1577.55 1104.22 Z\" fill=\"#000000\" fill-rule=\"evenodd\" fill-opacity=\"1\" /><path clip-path=\"url(#clip920)\" d=\"M1602.62 1078.62 Q1599 1078.62 1597.18 1082.18 Q1595.37 1085.72 1595.37 1092.85 Q1595.37 1099.96 1597.18 1103.53 Q1599 1107.07 1602.62 1107.07 Q1606.25 1107.07 1608.05 1103.53 Q1609.88 1099.96 1609.88 1092.85 Q1609.88 1085.72 1608.05 1082.18 Q1606.25 1078.62 1602.62 1078.62 M1602.62 1074.91 Q1608.43 1074.91 1611.48 1079.52 Q1614.56 1084.1 1614.56 1092.85 Q1614.56 1101.58 1611.48 1106.19 Q1608.43 1110.77 1602.62 1110.77 Q1596.8 1110.77 1593.73 1106.19 Q1590.67 1101.58 1590.67 1092.85 Q1590.67 1084.1 1593.73 1079.52 Q1596.8 1074.91 1602.62 1074.91 Z\" fill=\"#000000\" fill-rule=\"evenodd\" fill-opacity=\"1\" /><path clip-path=\"url(#clip920)\" d=\"M1686.19 1093.27 L1715.87 1093.27 L1715.87 1097.21 L1686.19 1097.21 L1686.19 1093.27 Z\" fill=\"#000000\" fill-rule=\"evenodd\" fill-opacity=\"1\" /><path clip-path=\"url(#clip920)\" d=\"M1735.96 1078.62 Q1732.35 1078.62 1730.52 1082.18 Q1728.71 1085.72 1728.71 1092.85 Q1728.71 1099.96 1730.52 1103.53 Q1732.35 1107.07 1735.96 1107.07 Q1739.59 1107.07 1741.4 1103.53 Q1743.23 1099.96 1743.23 1092.85 Q1743.23 1085.72 1741.4 1082.18 Q1739.59 1078.62 1735.96 1078.62 M1735.96 1074.91 Q1741.77 1074.91 1744.82 1079.52 Q1747.9 1084.1 1747.9 1092.85 Q1747.9 1101.58 1744.82 1106.19 Q1741.77 1110.77 1735.96 1110.77 Q1730.15 1110.77 1727.07 1106.19 Q1724.01 1101.58 1724.01 1092.85 Q1724.01 1084.1 1727.07 1079.52 Q1730.15 1074.91 1735.96 1074.91 Z\" fill=\"#000000\" fill-rule=\"evenodd\" fill-opacity=\"1\" /><path clip-path=\"url(#clip920)\" d=\"M1756.12 1104.22 L1761 1104.22 L1761 1110.1 L1756.12 1110.1 L1756.12 1104.22 Z\" fill=\"#000000\" fill-rule=\"evenodd\" fill-opacity=\"1\" /><path clip-path=\"url(#clip920)\" d=\"M1771.24 1075.54 L1789.59 1075.54 L1789.59 1079.48 L1775.52 1079.48 L1775.52 1087.95 Q1776.54 1087.6 1777.56 1087.44 Q1778.57 1087.25 1779.59 1087.25 Q1785.38 1087.25 1788.76 1090.42 Q1792.14 1093.6 1792.14 1099.01 Q1792.14 1104.59 1788.67 1107.69 Q1785.19 1110.77 1778.88 1110.77 Q1776.7 1110.77 1774.43 1110.4 Q1772.19 1110.03 1769.78 1109.29 L1769.78 1104.59 Q1771.86 1105.72 1774.08 1106.28 Q1776.31 1106.84 1778.78 1106.84 Q1782.79 1106.84 1785.13 1104.73 Q1787.46 1102.62 1787.46 1099.01 Q1787.46 1095.4 1785.13 1093.29 Q1782.79 1091.19 1778.78 1091.19 Q1776.91 1091.19 1775.03 1091.6 Q1773.18 1092.02 1771.24 1092.9 L1771.24 1075.54 Z\" fill=\"#000000\" fill-rule=\"evenodd\" fill-opacity=\"1\" /><path clip-path=\"url(#clip920)\" d=\"M1894.63 1078.62 Q1891.02 1078.62 1889.19 1082.18 Q1887.38 1085.72 1887.38 1092.85 Q1887.38 1099.96 1889.19 1103.53 Q1891.02 1107.07 1894.63 1107.07 Q1898.26 1107.07 1900.07 1103.53 Q1901.89 1099.96 1901.89 1092.85 Q1901.89 1085.72 1900.07 1082.18 Q1898.26 1078.62 1894.63 1078.62 M1894.63 1074.91 Q1900.44 1074.91 1903.49 1079.52 Q1906.57 1084.1 1906.57 1092.85 Q1906.57 1101.58 1903.49 1106.19 Q1900.44 1110.77 1894.63 1110.77 Q1888.82 1110.77 1885.74 1106.19 Q1882.68 1101.58 1882.68 1092.85 Q1882.68 1084.1 1885.74 1079.52 Q1888.82 1074.91 1894.63 1074.91 Z\" fill=\"#000000\" fill-rule=\"evenodd\" fill-opacity=\"1\" /><path clip-path=\"url(#clip920)\" d=\"M1914.79 1104.22 L1919.67 1104.22 L1919.67 1110.1 L1914.79 1110.1 L1914.79 1104.22 Z\" fill=\"#000000\" fill-rule=\"evenodd\" fill-opacity=\"1\" /><path clip-path=\"url(#clip920)\" d=\"M1939.86 1078.62 Q1936.25 1078.62 1934.42 1082.18 Q1932.61 1085.72 1932.61 1092.85 Q1932.61 1099.96 1934.42 1103.53 Q1936.25 1107.07 1939.86 1107.07 Q1943.49 1107.07 1945.3 1103.53 Q1947.13 1099.96 1947.13 1092.85 Q1947.13 1085.72 1945.3 1082.18 Q1943.49 1078.62 1939.86 1078.62 M1939.86 1074.91 Q1945.67 1074.91 1948.72 1079.52 Q1951.8 1084.1 1951.8 1092.85 Q1951.8 1101.58 1948.72 1106.19 Q1945.67 1110.77 1939.86 1110.77 Q1934.05 1110.77 1930.97 1106.19 Q1927.91 1101.58 1927.91 1092.85 Q1927.91 1084.1 1930.97 1079.52 Q1934.05 1074.91 1939.86 1074.91 Z\" fill=\"#000000\" fill-rule=\"evenodd\" fill-opacity=\"1\" /><path clip-path=\"url(#clip920)\" d=\"M2073.2 1078.62 Q2069.59 1078.62 2067.76 1082.18 Q2065.96 1085.72 2065.96 1092.85 Q2065.96 1099.96 2067.76 1103.53 Q2069.59 1107.07 2073.2 1107.07 Q2076.84 1107.07 2078.64 1103.53 Q2080.47 1099.96 2080.47 1092.85 Q2080.47 1085.72 2078.64 1082.18 Q2076.84 1078.62 2073.2 1078.62 M2073.2 1074.91 Q2079.01 1074.91 2082.07 1079.52 Q2085.15 1084.1 2085.15 1092.85 Q2085.15 1101.58 2082.07 1106.19 Q2079.01 1110.77 2073.2 1110.77 Q2067.39 1110.77 2064.31 1106.19 Q2061.26 1101.58 2061.26 1092.85 Q2061.26 1084.1 2064.31 1079.52 Q2067.39 1074.91 2073.2 1074.91 Z\" fill=\"#000000\" fill-rule=\"evenodd\" fill-opacity=\"1\" /><path clip-path=\"url(#clip920)\" d=\"M2093.36 1104.22 L2098.25 1104.22 L2098.25 1110.1 L2093.36 1110.1 L2093.36 1104.22 Z\" fill=\"#000000\" fill-rule=\"evenodd\" fill-opacity=\"1\" /><path clip-path=\"url(#clip920)\" d=\"M2108.48 1075.54 L2126.84 1075.54 L2126.84 1079.48 L2112.76 1079.48 L2112.76 1087.95 Q2113.78 1087.6 2114.8 1087.44 Q2115.82 1087.25 2116.84 1087.25 Q2122.62 1087.25 2126 1090.42 Q2129.38 1093.6 2129.38 1099.01 Q2129.38 1104.59 2125.91 1107.69 Q2122.44 1110.77 2116.12 1110.77 Q2113.94 1110.77 2111.67 1110.4 Q2109.43 1110.03 2107.02 1109.29 L2107.02 1104.59 Q2109.1 1105.72 2111.33 1106.28 Q2113.55 1106.84 2116.02 1106.84 Q2120.03 1106.84 2122.37 1104.73 Q2124.71 1102.62 2124.71 1099.01 Q2124.71 1095.4 2122.37 1093.29 Q2120.03 1091.19 2116.02 1091.19 Q2114.15 1091.19 2112.27 1091.6 Q2110.42 1092.02 2108.48 1092.9 L2108.48 1075.54 Z\" fill=\"#000000\" fill-rule=\"evenodd\" fill-opacity=\"1\" /><path clip-path=\"url(#clip920)\" d=\"M2240.55 1106.16 L2248.19 1106.16 L2248.19 1079.8 L2239.88 1081.47 L2239.88 1077.21 L2248.14 1075.54 L2252.82 1075.54 L2252.82 1106.16 L2260.46 1106.16 L2260.46 1110.1 L2240.55 1110.1 L2240.55 1106.16 Z\" fill=\"#000000\" fill-rule=\"evenodd\" fill-opacity=\"1\" /><path clip-path=\"url(#clip920)\" d=\"M2269.9 1104.22 L2274.78 1104.22 L2274.78 1110.1 L2269.9 1110.1 L2269.9 1104.22 Z\" fill=\"#000000\" fill-rule=\"evenodd\" fill-opacity=\"1\" /><path clip-path=\"url(#clip920)\" d=\"M2294.97 1078.62 Q2291.36 1078.62 2289.53 1082.18 Q2287.72 1085.72 2287.72 1092.85 Q2287.72 1099.96 2289.53 1103.53 Q2291.36 1107.07 2294.97 1107.07 Q2298.6 1107.07 2300.41 1103.53 Q2302.24 1099.96 2302.24 1092.85 Q2302.24 1085.72 2300.41 1082.18 Q2298.6 1078.62 2294.97 1078.62 M2294.97 1074.91 Q2300.78 1074.91 2303.84 1079.52 Q2306.91 1084.1 2306.91 1092.85 Q2306.91 1101.58 2303.84 1106.19 Q2300.78 1110.77 2294.97 1110.77 Q2289.16 1110.77 2286.08 1106.19 Q2283.03 1101.58 2283.03 1092.85 Q2283.03 1084.1 2286.08 1079.52 Q2289.16 1074.91 2294.97 1074.91 Z\" fill=\"#000000\" fill-rule=\"evenodd\" fill-opacity=\"1\" /><path clip-path=\"url(#clip920)\" d=\"M1563.01 1187.22 L1563.01 1206.12 L1557.12 1206.12 L1557.12 1156.92 L1563.01 1156.92 L1563.01 1162.33 Q1564.86 1159.14 1567.66 1157.62 Q1570.49 1156.06 1574.41 1156.06 Q1580.9 1156.06 1584.94 1161.21 Q1589.02 1166.37 1589.02 1174.77 Q1589.02 1183.17 1584.94 1188.33 Q1580.9 1193.49 1574.41 1193.49 Q1570.49 1193.49 1567.66 1191.96 Q1564.86 1190.4 1563.01 1187.22 M1582.94 1174.77 Q1582.94 1168.31 1580.26 1164.65 Q1577.62 1160.96 1572.97 1160.96 Q1568.33 1160.96 1565.65 1164.65 Q1563.01 1168.31 1563.01 1174.77 Q1563.01 1181.23 1565.65 1184.92 Q1568.33 1188.59 1572.97 1188.59 Q1577.62 1188.59 1580.26 1184.92 Q1582.94 1181.23 1582.94 1174.77 Z\" fill=\"#000000\" fill-rule=\"evenodd\" fill-opacity=\"1\" /><path clip-path=\"url(#clip920)\" d=\"M1619.38 1162.39 Q1618.39 1161.82 1617.22 1161.56 Q1616.07 1161.28 1614.67 1161.28 Q1609.7 1161.28 1607.03 1164.52 Q1604.39 1167.74 1604.39 1173.79 L1604.39 1192.56 L1598.5 1192.56 L1598.5 1156.92 L1604.39 1156.92 L1604.39 1162.45 Q1606.24 1159.21 1609.2 1157.65 Q1612.16 1156.06 1616.39 1156.06 Q1616.99 1156.06 1617.73 1156.15 Q1618.46 1156.22 1619.35 1156.37 L1619.38 1162.39 Z\" fill=\"#000000\" fill-rule=\"evenodd\" fill-opacity=\"1\" /><path clip-path=\"url(#clip920)\" d=\"M1654.58 1173.28 L1654.58 1176.14 L1627.66 1176.14 Q1628.04 1182.19 1631.28 1185.37 Q1634.56 1188.52 1640.39 1188.52 Q1643.76 1188.52 1646.91 1187.69 Q1650.09 1186.87 1653.21 1185.21 L1653.21 1190.75 Q1650.06 1192.09 1646.75 1192.79 Q1643.44 1193.49 1640.04 1193.49 Q1631.51 1193.49 1626.51 1188.52 Q1621.54 1183.56 1621.54 1175.09 Q1621.54 1166.34 1626.26 1161.21 Q1631 1156.06 1639.02 1156.06 Q1646.21 1156.06 1650.38 1160.7 Q1654.58 1165.32 1654.58 1173.28 M1648.73 1171.56 Q1648.66 1166.75 1646.02 1163.89 Q1643.41 1161.02 1639.08 1161.02 Q1634.18 1161.02 1631.22 1163.79 Q1628.29 1166.56 1627.85 1171.59 L1648.73 1171.56 Z\" fill=\"#000000\" fill-rule=\"evenodd\" fill-opacity=\"1\" /><path clip-path=\"url(#clip920)\" d=\"M1687.65 1162.33 L1687.65 1143.04 L1693.51 1143.04 L1693.51 1192.56 L1687.65 1192.56 L1687.65 1187.22 Q1685.81 1190.4 1682.97 1191.96 Q1680.17 1193.49 1676.23 1193.49 Q1669.76 1193.49 1665.69 1188.33 Q1661.65 1183.17 1661.65 1174.77 Q1661.65 1166.37 1665.69 1161.21 Q1669.76 1156.06 1676.23 1156.06 Q1680.17 1156.06 1682.97 1157.62 Q1685.81 1159.14 1687.65 1162.33 M1667.7 1174.77 Q1667.7 1181.23 1670.34 1184.92 Q1673.01 1188.59 1677.66 1188.59 Q1682.31 1188.59 1684.98 1184.92 Q1687.65 1181.23 1687.65 1174.77 Q1687.65 1168.31 1684.98 1164.65 Q1682.31 1160.96 1677.66 1160.96 Q1673.01 1160.96 1670.34 1164.65 Q1667.7 1168.31 1667.7 1174.77 Z\" fill=\"#000000\" fill-rule=\"evenodd\" fill-opacity=\"1\" /><path clip-path=\"url(#clip920)\" d=\"M1705.57 1156.92 L1711.43 1156.92 L1711.43 1192.56 L1705.57 1192.56 L1705.57 1156.92 M1705.57 1143.04 L1711.43 1143.04 L1711.43 1150.45 L1705.57 1150.45 L1705.57 1143.04 Z\" fill=\"#000000\" fill-rule=\"evenodd\" fill-opacity=\"1\" /><path clip-path=\"url(#clip920)\" d=\"M1749.34 1158.28 L1749.34 1163.76 Q1746.85 1162.39 1744.34 1161.72 Q1741.86 1161.02 1739.31 1161.02 Q1733.61 1161.02 1730.46 1164.65 Q1727.31 1168.25 1727.31 1174.77 Q1727.31 1181.3 1730.46 1184.92 Q1733.61 1188.52 1739.31 1188.52 Q1741.86 1188.52 1744.34 1187.85 Q1746.85 1187.15 1749.34 1185.78 L1749.34 1191.2 Q1746.89 1192.34 1744.24 1192.91 Q1741.63 1193.49 1738.67 1193.49 Q1730.62 1193.49 1725.88 1188.43 Q1721.14 1183.37 1721.14 1174.77 Q1721.14 1166.05 1725.91 1161.05 Q1730.72 1156.06 1739.06 1156.06 Q1741.76 1156.06 1744.34 1156.63 Q1746.92 1157.17 1749.34 1158.28 Z\" fill=\"#000000\" fill-rule=\"evenodd\" fill-opacity=\"1\" /><path clip-path=\"url(#clip920)\" d=\"M1765.31 1146.79 L1765.31 1156.92 L1777.38 1156.92 L1777.38 1161.47 L1765.31 1161.47 L1765.31 1180.82 Q1765.31 1185.18 1766.49 1186.42 Q1767.7 1187.66 1771.36 1187.66 L1777.38 1187.66 L1777.38 1192.56 L1771.36 1192.56 Q1764.58 1192.56 1762 1190.05 Q1759.43 1187.5 1759.43 1180.82 L1759.43 1161.47 L1755.13 1161.47 L1755.13 1156.92 L1759.43 1156.92 L1759.43 1146.79 L1765.31 1146.79 Z\" fill=\"#000000\" fill-rule=\"evenodd\" fill-opacity=\"1\" /><path clip-path=\"url(#clip920)\" d=\"M1785.08 1156.92 L1790.94 1156.92 L1790.94 1192.56 L1785.08 1192.56 L1785.08 1156.92 M1785.08 1143.04 L1790.94 1143.04 L1790.94 1150.45 L1785.08 1150.45 L1785.08 1143.04 Z\" fill=\"#000000\" fill-rule=\"evenodd\" fill-opacity=\"1\" /><path clip-path=\"url(#clip920)\" d=\"M1817 1161.02 Q1812.29 1161.02 1809.56 1164.71 Q1806.82 1168.37 1806.82 1174.77 Q1806.82 1181.17 1809.52 1184.86 Q1812.26 1188.52 1817 1188.52 Q1821.68 1188.52 1824.42 1184.83 Q1827.16 1181.14 1827.16 1174.77 Q1827.16 1168.44 1824.42 1164.75 Q1821.68 1161.02 1817 1161.02 M1817 1156.06 Q1824.64 1156.06 1829 1161.02 Q1833.36 1165.99 1833.36 1174.77 Q1833.36 1183.52 1829 1188.52 Q1824.64 1193.49 1817 1193.49 Q1809.33 1193.49 1804.97 1188.52 Q1800.64 1183.52 1800.64 1174.77 Q1800.64 1165.99 1804.97 1161.02 Q1809.33 1156.06 1817 1156.06 Z\" fill=\"#000000\" fill-rule=\"evenodd\" fill-opacity=\"1\" /><path clip-path=\"url(#clip920)\" d=\"M1872.7 1171.05 L1872.7 1192.56 L1866.85 1192.56 L1866.85 1171.24 Q1866.85 1166.18 1864.87 1163.66 Q1862.9 1161.15 1858.95 1161.15 Q1854.21 1161.15 1851.47 1164.17 Q1848.74 1167.2 1848.74 1172.42 L1848.74 1192.56 L1842.85 1192.56 L1842.85 1156.92 L1848.74 1156.92 L1848.74 1162.45 Q1850.84 1159.24 1853.67 1157.65 Q1856.53 1156.06 1860.26 1156.06 Q1866.4 1156.06 1869.55 1159.88 Q1872.7 1163.66 1872.7 1171.05 Z\" fill=\"#000000\" fill-rule=\"evenodd\" fill-opacity=\"1\" /><path clip-path=\"url(#clip920)\" d=\"M1907.11 1157.97 L1907.11 1163.5 Q1904.63 1162.23 1901.95 1161.59 Q1899.28 1160.96 1896.42 1160.96 Q1892.06 1160.96 1889.86 1162.29 Q1887.69 1163.63 1887.69 1166.31 Q1887.69 1168.34 1889.25 1169.52 Q1890.81 1170.67 1895.52 1171.72 L1897.53 1172.16 Q1903.77 1173.5 1906.38 1175.95 Q1909.02 1178.37 1909.02 1182.73 Q1909.02 1187.69 1905.07 1190.59 Q1901.16 1193.49 1894.28 1193.49 Q1891.42 1193.49 1888.3 1192.91 Q1885.21 1192.37 1881.77 1191.26 L1881.77 1185.21 Q1885.02 1186.9 1888.17 1187.76 Q1891.32 1188.59 1894.41 1188.59 Q1898.55 1188.59 1900.78 1187.18 Q1903 1185.75 1903 1183.17 Q1903 1180.79 1901.38 1179.51 Q1899.79 1178.24 1894.35 1177.06 L1892.31 1176.59 Q1886.87 1175.44 1884.45 1173.08 Q1882.03 1170.7 1882.03 1166.56 Q1882.03 1161.53 1885.59 1158.79 Q1889.16 1156.06 1895.72 1156.06 Q1898.96 1156.06 1901.83 1156.53 Q1904.69 1157.01 1907.11 1157.97 Z\" fill=\"#000000\" fill-rule=\"evenodd\" fill-opacity=\"1\" /><path clip-path=\"url(#clip920)\" d=\"M1944.86 1146.79 L1944.86 1156.92 L1956.92 1156.92 L1956.92 1161.47 L1944.86 1161.47 L1944.86 1180.82 Q1944.86 1185.18 1946.04 1186.42 Q1947.25 1187.66 1950.91 1187.66 L1956.92 1187.66 L1956.92 1192.56 L1950.91 1192.56 Q1944.13 1192.56 1941.55 1190.05 Q1938.97 1187.5 1938.97 1180.82 L1938.97 1161.47 L1934.67 1161.47 L1934.67 1156.92 L1938.97 1156.92 L1938.97 1146.79 L1944.86 1146.79 Z\" fill=\"#000000\" fill-rule=\"evenodd\" fill-opacity=\"1\" /><path clip-path=\"url(#clip920)\" d=\"M1995.12 1173.28 L1995.12 1176.14 L1968.19 1176.14 Q1968.57 1182.19 1971.82 1185.37 Q1975.1 1188.52 1980.92 1188.52 Q1984.29 1188.52 1987.45 1187.69 Q1990.63 1186.87 1993.75 1185.21 L1993.75 1190.75 Q1990.6 1192.09 1987.29 1192.79 Q1983.98 1193.49 1980.57 1193.49 Q1972.04 1193.49 1967.04 1188.52 Q1962.08 1183.56 1962.08 1175.09 Q1962.08 1166.34 1966.79 1161.21 Q1971.53 1156.06 1979.55 1156.06 Q1986.75 1156.06 1990.91 1160.7 Q1995.12 1165.32 1995.12 1173.28 M1989.26 1171.56 Q1989.2 1166.75 1986.55 1163.89 Q1983.94 1161.02 1979.62 1161.02 Q1974.71 1161.02 1971.75 1163.79 Q1968.83 1166.56 1968.38 1171.59 L1989.26 1171.56 Z\" fill=\"#000000\" fill-rule=\"evenodd\" fill-opacity=\"1\" /><path clip-path=\"url(#clip920)\" d=\"M2027.45 1157.97 L2027.45 1163.5 Q2024.97 1162.23 2022.3 1161.59 Q2019.62 1160.96 2016.76 1160.96 Q2012.4 1160.96 2010.2 1162.29 Q2008.04 1163.63 2008.04 1166.31 Q2008.04 1168.34 2009.6 1169.52 Q2011.16 1170.67 2015.87 1171.72 L2017.87 1172.16 Q2024.11 1173.5 2026.72 1175.95 Q2029.36 1178.37 2029.36 1182.73 Q2029.36 1187.69 2025.42 1190.59 Q2021.5 1193.49 2014.63 1193.49 Q2011.76 1193.49 2008.64 1192.91 Q2005.56 1192.37 2002.12 1191.26 L2002.12 1185.21 Q2005.36 1186.9 2008.52 1187.76 Q2011.67 1188.59 2014.75 1188.59 Q2018.89 1188.59 2021.12 1187.18 Q2023.35 1185.75 2023.35 1183.17 Q2023.35 1180.79 2021.72 1179.51 Q2020.13 1178.24 2014.69 1177.06 L2012.65 1176.59 Q2007.21 1175.44 2004.79 1173.08 Q2002.37 1170.7 2002.37 1166.56 Q2002.37 1161.53 2005.94 1158.79 Q2009.5 1156.06 2016.06 1156.06 Q2019.31 1156.06 2022.17 1156.53 Q2025.03 1157.01 2027.45 1157.97 Z\" fill=\"#000000\" fill-rule=\"evenodd\" fill-opacity=\"1\" /><path clip-path=\"url(#clip920)\" d=\"M2044.48 1146.79 L2044.48 1156.92 L2056.55 1156.92 L2056.55 1161.47 L2044.48 1161.47 L2044.48 1180.82 Q2044.48 1185.18 2045.66 1186.42 Q2046.87 1187.66 2050.53 1187.66 L2056.55 1187.66 L2056.55 1192.56 L2050.53 1192.56 Q2043.75 1192.56 2041.17 1190.05 Q2038.59 1187.5 2038.59 1180.82 L2038.59 1161.47 L2034.3 1161.47 L2034.3 1156.92 L2038.59 1156.92 L2038.59 1146.79 L2044.48 1146.79 Z\" fill=\"#000000\" fill-rule=\"evenodd\" fill-opacity=\"1\" /><path clip-path=\"url(#clip920)\" d=\"M2108.43 1162.33 L2108.43 1143.04 L2114.28 1143.04 L2114.28 1192.56 L2108.43 1192.56 L2108.43 1187.22 Q2106.58 1190.4 2103.75 1191.96 Q2100.95 1193.49 2097 1193.49 Q2090.54 1193.49 2086.46 1188.33 Q2082.42 1183.17 2082.42 1174.77 Q2082.42 1166.37 2086.46 1161.21 Q2090.54 1156.06 2097 1156.06 Q2100.95 1156.06 2103.75 1157.62 Q2106.58 1159.14 2108.43 1162.33 M2088.47 1174.77 Q2088.47 1181.23 2091.11 1184.92 Q2093.78 1188.59 2098.43 1188.59 Q2103.08 1188.59 2105.75 1184.92 Q2108.43 1181.23 2108.43 1174.77 Q2108.43 1168.31 2105.75 1164.65 Q2103.08 1160.96 2098.43 1160.96 Q2093.78 1160.96 2091.11 1164.65 Q2088.47 1168.31 2088.47 1174.77 Z\" fill=\"#000000\" fill-rule=\"evenodd\" fill-opacity=\"1\" /><path clip-path=\"url(#clip920)\" d=\"M2142.55 1174.64 Q2135.45 1174.64 2132.71 1176.27 Q2129.97 1177.89 2129.97 1181.81 Q2129.97 1184.92 2132.01 1186.77 Q2134.08 1188.59 2137.61 1188.59 Q2142.48 1188.59 2145.41 1185.15 Q2148.37 1181.68 2148.37 1175.95 L2148.37 1174.64 L2142.55 1174.64 M2154.23 1172.23 L2154.23 1192.56 L2148.37 1192.56 L2148.37 1187.15 Q2146.37 1190.4 2143.37 1191.96 Q2140.38 1193.49 2136.05 1193.49 Q2130.58 1193.49 2127.33 1190.43 Q2124.12 1187.34 2124.12 1182.19 Q2124.12 1176.17 2128.13 1173.12 Q2132.17 1170.06 2140.16 1170.06 L2148.37 1170.06 L2148.37 1169.49 Q2148.37 1165.45 2145.7 1163.25 Q2143.06 1161.02 2138.25 1161.02 Q2135.19 1161.02 2132.3 1161.75 Q2129.4 1162.49 2126.73 1163.95 L2126.73 1158.54 Q2129.94 1157.3 2132.97 1156.69 Q2135.99 1156.06 2138.85 1156.06 Q2146.59 1156.06 2150.41 1160.07 Q2154.23 1164.08 2154.23 1172.23 Z\" fill=\"#000000\" fill-rule=\"evenodd\" fill-opacity=\"1\" /><path clip-path=\"url(#clip920)\" d=\"M2172.08 1146.79 L2172.08 1156.92 L2184.15 1156.92 L2184.15 1161.47 L2172.08 1161.47 L2172.08 1180.82 Q2172.08 1185.18 2173.26 1186.42 Q2174.47 1187.66 2178.13 1187.66 L2184.15 1187.66 L2184.15 1192.56 L2178.13 1192.56 Q2171.35 1192.56 2168.77 1190.05 Q2166.19 1187.5 2166.19 1180.82 L2166.19 1161.47 L2161.9 1161.47 L2161.9 1156.92 L2166.19 1156.92 L2166.19 1146.79 L2172.08 1146.79 Z\" fill=\"#000000\" fill-rule=\"evenodd\" fill-opacity=\"1\" /><path clip-path=\"url(#clip920)\" d=\"M2208.05 1174.64 Q2200.95 1174.64 2198.21 1176.27 Q2195.48 1177.89 2195.48 1181.81 Q2195.48 1184.92 2197.51 1186.77 Q2199.58 1188.59 2203.12 1188.59 Q2207.99 1188.59 2210.91 1185.15 Q2213.87 1181.68 2213.87 1175.95 L2213.87 1174.64 L2208.05 1174.64 M2219.73 1172.23 L2219.73 1192.56 L2213.87 1192.56 L2213.87 1187.15 Q2211.87 1190.4 2208.88 1191.96 Q2205.88 1193.49 2201.56 1193.49 Q2196.08 1193.49 2192.83 1190.43 Q2189.62 1187.34 2189.62 1182.19 Q2189.62 1176.17 2193.63 1173.12 Q2197.67 1170.06 2205.66 1170.06 L2213.87 1170.06 L2213.87 1169.49 Q2213.87 1165.45 2211.2 1163.25 Q2208.56 1161.02 2203.75 1161.02 Q2200.7 1161.02 2197.8 1161.75 Q2194.9 1162.49 2192.23 1163.95 L2192.23 1158.54 Q2195.44 1157.3 2198.47 1156.69 Q2201.49 1156.06 2204.36 1156.06 Q2212.09 1156.06 2215.91 1160.07 Q2219.73 1164.08 2219.73 1172.23 Z\" fill=\"#000000\" fill-rule=\"evenodd\" fill-opacity=\"1\" /><polyline clip-path=\"url(#clip923)\" style=\"stroke:#000000; stroke-linecap:round; stroke-linejoin:round; stroke-width:2; stroke-opacity:0.1; fill:none\" points=\"\n",
       "  1424.1,936.221 2352.76,936.221 \n",
       "  \"/>\n",
       "<polyline clip-path=\"url(#clip923)\" style=\"stroke:#000000; stroke-linecap:round; stroke-linejoin:round; stroke-width:2; stroke-opacity:0.1; fill:none\" points=\"\n",
       "  1424.1,793.076 2352.76,793.076 \n",
       "  \"/>\n",
       "<polyline clip-path=\"url(#clip923)\" style=\"stroke:#000000; stroke-linecap:round; stroke-linejoin:round; stroke-width:2; stroke-opacity:0.1; fill:none\" points=\"\n",
       "  1424.1,649.932 2352.76,649.932 \n",
       "  \"/>\n",
       "<polyline clip-path=\"url(#clip923)\" style=\"stroke:#000000; stroke-linecap:round; stroke-linejoin:round; stroke-width:2; stroke-opacity:0.1; fill:none\" points=\"\n",
       "  1424.1,506.787 2352.76,506.787 \n",
       "  \"/>\n",
       "<polyline clip-path=\"url(#clip923)\" style=\"stroke:#000000; stroke-linecap:round; stroke-linejoin:round; stroke-width:2; stroke-opacity:0.1; fill:none\" points=\"\n",
       "  1424.1,363.642 2352.76,363.642 \n",
       "  \"/>\n",
       "<polyline clip-path=\"url(#clip923)\" style=\"stroke:#000000; stroke-linecap:round; stroke-linejoin:round; stroke-width:2; stroke-opacity:0.1; fill:none\" points=\"\n",
       "  1424.1,220.497 2352.76,220.497 \n",
       "  \"/>\n",
       "<polyline clip-path=\"url(#clip923)\" style=\"stroke:#000000; stroke-linecap:round; stroke-linejoin:round; stroke-width:2; stroke-opacity:0.1; fill:none\" points=\"\n",
       "  1424.1,77.3517 2352.76,77.3517 \n",
       "  \"/>\n",
       "<polyline clip-path=\"url(#clip920)\" style=\"stroke:#000000; stroke-linecap:round; stroke-linejoin:round; stroke-width:4; stroke-opacity:1; fill:none\" points=\"\n",
       "  1424.1,1047.7 1424.1,47.2441 \n",
       "  \"/>\n",
       "<polyline clip-path=\"url(#clip920)\" style=\"stroke:#000000; stroke-linecap:round; stroke-linejoin:round; stroke-width:4; stroke-opacity:1; fill:none\" points=\"\n",
       "  1424.1,936.221 1443,936.221 \n",
       "  \"/>\n",
       "<polyline clip-path=\"url(#clip920)\" style=\"stroke:#000000; stroke-linecap:round; stroke-linejoin:round; stroke-width:4; stroke-opacity:1; fill:none\" points=\"\n",
       "  1424.1,793.076 1443,793.076 \n",
       "  \"/>\n",
       "<polyline clip-path=\"url(#clip920)\" style=\"stroke:#000000; stroke-linecap:round; stroke-linejoin:round; stroke-width:4; stroke-opacity:1; fill:none\" points=\"\n",
       "  1424.1,649.932 1443,649.932 \n",
       "  \"/>\n",
       "<polyline clip-path=\"url(#clip920)\" style=\"stroke:#000000; stroke-linecap:round; stroke-linejoin:round; stroke-width:4; stroke-opacity:1; fill:none\" points=\"\n",
       "  1424.1,506.787 1443,506.787 \n",
       "  \"/>\n",
       "<polyline clip-path=\"url(#clip920)\" style=\"stroke:#000000; stroke-linecap:round; stroke-linejoin:round; stroke-width:4; stroke-opacity:1; fill:none\" points=\"\n",
       "  1424.1,363.642 1443,363.642 \n",
       "  \"/>\n",
       "<polyline clip-path=\"url(#clip920)\" style=\"stroke:#000000; stroke-linecap:round; stroke-linejoin:round; stroke-width:4; stroke-opacity:1; fill:none\" points=\"\n",
       "  1424.1,220.497 1443,220.497 \n",
       "  \"/>\n",
       "<polyline clip-path=\"url(#clip920)\" style=\"stroke:#000000; stroke-linecap:round; stroke-linejoin:round; stroke-width:4; stroke-opacity:1; fill:none\" points=\"\n",
       "  1424.1,77.3517 1443,77.3517 \n",
       "  \"/>\n",
       "<path clip-path=\"url(#clip920)\" d=\"M1251.99 936.673 L1281.66 936.673 L1281.66 940.608 L1251.99 940.608 L1251.99 936.673 Z\" fill=\"#000000\" fill-rule=\"evenodd\" fill-opacity=\"1\" /><path clip-path=\"url(#clip920)\" d=\"M1301.76 922.02 Q1298.14 922.02 1296.32 925.585 Q1294.51 929.127 1294.51 936.256 Q1294.51 943.363 1296.32 946.927 Q1298.14 950.469 1301.76 950.469 Q1305.39 950.469 1307.2 946.927 Q1309.02 943.363 1309.02 936.256 Q1309.02 929.127 1307.2 925.585 Q1305.39 922.02 1301.76 922.02 M1301.76 918.316 Q1307.57 918.316 1310.62 922.923 Q1313.7 927.506 1313.7 936.256 Q1313.7 944.983 1310.62 949.589 Q1307.57 954.173 1301.76 954.173 Q1295.95 954.173 1292.87 949.589 Q1289.81 944.983 1289.81 936.256 Q1289.81 927.506 1292.87 922.923 Q1295.95 918.316 1301.76 918.316 Z\" fill=\"#000000\" fill-rule=\"evenodd\" fill-opacity=\"1\" /><path clip-path=\"url(#clip920)\" d=\"M1321.92 947.622 L1326.8 947.622 L1326.8 953.501 L1321.92 953.501 L1321.92 947.622 Z\" fill=\"#000000\" fill-rule=\"evenodd\" fill-opacity=\"1\" /><path clip-path=\"url(#clip920)\" d=\"M1335.81 918.941 L1358.03 918.941 L1358.03 920.932 L1345.48 953.501 L1340.6 953.501 L1352.4 922.877 L1335.81 922.877 L1335.81 918.941 Z\" fill=\"#000000\" fill-rule=\"evenodd\" fill-opacity=\"1\" /><path clip-path=\"url(#clip920)\" d=\"M1367.2 918.941 L1385.55 918.941 L1385.55 922.877 L1371.48 922.877 L1371.48 931.349 Q1372.5 931.002 1373.51 930.84 Q1374.53 930.654 1375.55 930.654 Q1381.34 930.654 1384.72 933.826 Q1388.1 936.997 1388.1 942.414 Q1388.1 947.992 1384.63 951.094 Q1381.15 954.173 1374.83 954.173 Q1372.66 954.173 1370.39 953.802 Q1368.14 953.432 1365.74 952.691 L1365.74 947.992 Q1367.82 949.126 1370.04 949.682 Q1372.26 950.238 1374.74 950.238 Q1378.75 950.238 1381.08 948.131 Q1383.42 946.025 1383.42 942.414 Q1383.42 938.802 1381.08 936.696 Q1378.75 934.59 1374.74 934.59 Q1372.87 934.59 1370.99 935.006 Q1369.14 935.423 1367.2 936.302 L1367.2 918.941 Z\" fill=\"#000000\" fill-rule=\"evenodd\" fill-opacity=\"1\" /><path clip-path=\"url(#clip920)\" d=\"M1250.99 793.528 L1280.67 793.528 L1280.67 797.463 L1250.99 797.463 L1250.99 793.528 Z\" fill=\"#000000\" fill-rule=\"evenodd\" fill-opacity=\"1\" /><path clip-path=\"url(#clip920)\" d=\"M1300.76 778.875 Q1297.15 778.875 1295.32 782.44 Q1293.52 785.982 1293.52 793.111 Q1293.52 800.218 1295.32 803.782 Q1297.15 807.324 1300.76 807.324 Q1304.39 807.324 1306.2 803.782 Q1308.03 800.218 1308.03 793.111 Q1308.03 785.982 1306.2 782.44 Q1304.39 778.875 1300.76 778.875 M1300.76 775.172 Q1306.57 775.172 1309.63 779.778 Q1312.7 784.361 1312.7 793.111 Q1312.7 801.838 1309.63 806.444 Q1306.57 811.028 1300.76 811.028 Q1294.95 811.028 1291.87 806.444 Q1288.82 801.838 1288.82 793.111 Q1288.82 784.361 1291.87 779.778 Q1294.95 775.172 1300.76 775.172 Z\" fill=\"#000000\" fill-rule=\"evenodd\" fill-opacity=\"1\" /><path clip-path=\"url(#clip920)\" d=\"M1320.92 804.477 L1325.81 804.477 L1325.81 810.356 L1320.92 810.356 L1320.92 804.477 Z\" fill=\"#000000\" fill-rule=\"evenodd\" fill-opacity=\"1\" /><path clip-path=\"url(#clip920)\" d=\"M1336.04 775.796 L1354.39 775.796 L1354.39 779.732 L1340.32 779.732 L1340.32 788.204 Q1341.34 787.857 1342.36 787.695 Q1343.38 787.509 1344.39 787.509 Q1350.18 787.509 1353.56 790.681 Q1356.94 793.852 1356.94 799.269 Q1356.94 804.847 1353.47 807.949 Q1350 811.028 1343.68 811.028 Q1341.5 811.028 1339.23 810.657 Q1336.99 810.287 1334.58 809.546 L1334.58 804.847 Q1336.66 805.982 1338.89 806.537 Q1341.11 807.093 1343.58 807.093 Q1347.59 807.093 1349.93 804.986 Q1352.26 802.88 1352.26 799.269 Q1352.26 795.658 1349.93 793.551 Q1347.59 791.445 1343.58 791.445 Q1341.71 791.445 1339.83 791.861 Q1337.98 792.278 1336.04 793.158 L1336.04 775.796 Z\" fill=\"#000000\" fill-rule=\"evenodd\" fill-opacity=\"1\" /><path clip-path=\"url(#clip920)\" d=\"M1376.15 778.875 Q1372.54 778.875 1370.71 782.44 Q1368.91 785.982 1368.91 793.111 Q1368.91 800.218 1370.71 803.782 Q1372.54 807.324 1376.15 807.324 Q1379.79 807.324 1381.59 803.782 Q1383.42 800.218 1383.42 793.111 Q1383.42 785.982 1381.59 782.44 Q1379.79 778.875 1376.15 778.875 M1376.15 775.172 Q1381.96 775.172 1385.02 779.778 Q1388.1 784.361 1388.1 793.111 Q1388.1 801.838 1385.02 806.444 Q1381.96 811.028 1376.15 811.028 Q1370.34 811.028 1367.26 806.444 Q1364.21 801.838 1364.21 793.111 Q1364.21 784.361 1367.26 779.778 Q1370.34 775.172 1376.15 775.172 Z\" fill=\"#000000\" fill-rule=\"evenodd\" fill-opacity=\"1\" /><path clip-path=\"url(#clip920)\" d=\"M1251.99 650.383 L1281.66 650.383 L1281.66 654.318 L1251.99 654.318 L1251.99 650.383 Z\" fill=\"#000000\" fill-rule=\"evenodd\" fill-opacity=\"1\" /><path clip-path=\"url(#clip920)\" d=\"M1301.76 635.73 Q1298.14 635.73 1296.32 639.295 Q1294.51 642.837 1294.51 649.966 Q1294.51 657.073 1296.32 660.638 Q1298.14 664.179 1301.76 664.179 Q1305.39 664.179 1307.2 660.638 Q1309.02 657.073 1309.02 649.966 Q1309.02 642.837 1307.2 639.295 Q1305.39 635.73 1301.76 635.73 M1301.76 632.027 Q1307.57 632.027 1310.62 636.633 Q1313.7 641.216 1313.7 649.966 Q1313.7 658.693 1310.62 663.3 Q1307.57 667.883 1301.76 667.883 Q1295.95 667.883 1292.87 663.3 Q1289.81 658.693 1289.81 649.966 Q1289.81 641.216 1292.87 636.633 Q1295.95 632.027 1301.76 632.027 Z\" fill=\"#000000\" fill-rule=\"evenodd\" fill-opacity=\"1\" /><path clip-path=\"url(#clip920)\" d=\"M1321.92 661.332 L1326.8 661.332 L1326.8 667.212 L1321.92 667.212 L1321.92 661.332 Z\" fill=\"#000000\" fill-rule=\"evenodd\" fill-opacity=\"1\" /><path clip-path=\"url(#clip920)\" d=\"M1341.01 663.276 L1357.33 663.276 L1357.33 667.212 L1335.39 667.212 L1335.39 663.276 Q1338.05 660.522 1342.64 655.892 Q1347.24 651.239 1348.42 649.897 Q1350.67 647.374 1351.55 645.638 Q1352.45 643.878 1352.45 642.189 Q1352.45 639.434 1350.51 637.698 Q1348.58 635.962 1345.48 635.962 Q1343.28 635.962 1340.83 636.726 Q1338.4 637.489 1335.62 639.04 L1335.62 634.318 Q1338.45 633.184 1340.9 632.605 Q1343.35 632.027 1345.39 632.027 Q1350.76 632.027 1353.95 634.712 Q1357.15 637.397 1357.15 641.888 Q1357.15 644.017 1356.34 645.939 Q1355.55 647.837 1353.45 650.429 Q1352.87 651.101 1349.76 654.318 Q1346.66 657.513 1341.01 663.276 Z\" fill=\"#000000\" fill-rule=\"evenodd\" fill-opacity=\"1\" /><path clip-path=\"url(#clip920)\" d=\"M1367.2 632.652 L1385.55 632.652 L1385.55 636.587 L1371.48 636.587 L1371.48 645.059 Q1372.5 644.712 1373.51 644.55 Q1374.53 644.364 1375.55 644.364 Q1381.34 644.364 1384.72 647.536 Q1388.1 650.707 1388.1 656.124 Q1388.1 661.702 1384.63 664.804 Q1381.15 667.883 1374.83 667.883 Q1372.66 667.883 1370.39 667.512 Q1368.14 667.142 1365.74 666.401 L1365.74 661.702 Q1367.82 662.837 1370.04 663.392 Q1372.26 663.948 1374.74 663.948 Q1378.75 663.948 1381.08 661.841 Q1383.42 659.735 1383.42 656.124 Q1383.42 652.513 1381.08 650.406 Q1378.75 648.3 1374.74 648.3 Q1372.87 648.3 1370.99 648.716 Q1369.14 649.133 1367.2 650.013 L1367.2 632.652 Z\" fill=\"#000000\" fill-rule=\"evenodd\" fill-opacity=\"1\" /><path clip-path=\"url(#clip920)\" d=\"M1300.76 492.585 Q1297.15 492.585 1295.32 496.15 Q1293.52 499.692 1293.52 506.821 Q1293.52 513.928 1295.32 517.493 Q1297.15 521.034 1300.76 521.034 Q1304.39 521.034 1306.2 517.493 Q1308.03 513.928 1308.03 506.821 Q1308.03 499.692 1306.2 496.15 Q1304.39 492.585 1300.76 492.585 M1300.76 488.882 Q1306.57 488.882 1309.63 493.488 Q1312.7 498.071 1312.7 506.821 Q1312.7 515.548 1309.63 520.155 Q1306.57 524.738 1300.76 524.738 Q1294.95 524.738 1291.87 520.155 Q1288.82 515.548 1288.82 506.821 Q1288.82 498.071 1291.87 493.488 Q1294.95 488.882 1300.76 488.882 Z\" fill=\"#000000\" fill-rule=\"evenodd\" fill-opacity=\"1\" /><path clip-path=\"url(#clip920)\" d=\"M1320.92 518.187 L1325.81 518.187 L1325.81 524.067 L1320.92 524.067 L1320.92 518.187 Z\" fill=\"#000000\" fill-rule=\"evenodd\" fill-opacity=\"1\" /><path clip-path=\"url(#clip920)\" d=\"M1345.99 492.585 Q1342.38 492.585 1340.55 496.15 Q1338.75 499.692 1338.75 506.821 Q1338.75 513.928 1340.55 517.493 Q1342.38 521.034 1345.99 521.034 Q1349.63 521.034 1351.43 517.493 Q1353.26 513.928 1353.26 506.821 Q1353.26 499.692 1351.43 496.15 Q1349.63 492.585 1345.99 492.585 M1345.99 488.882 Q1351.8 488.882 1354.86 493.488 Q1357.94 498.071 1357.94 506.821 Q1357.94 515.548 1354.86 520.155 Q1351.8 524.738 1345.99 524.738 Q1340.18 524.738 1337.1 520.155 Q1334.05 515.548 1334.05 506.821 Q1334.05 498.071 1337.1 493.488 Q1340.18 488.882 1345.99 488.882 Z\" fill=\"#000000\" fill-rule=\"evenodd\" fill-opacity=\"1\" /><path clip-path=\"url(#clip920)\" d=\"M1376.15 492.585 Q1372.54 492.585 1370.71 496.15 Q1368.91 499.692 1368.91 506.821 Q1368.91 513.928 1370.71 517.493 Q1372.54 521.034 1376.15 521.034 Q1379.79 521.034 1381.59 517.493 Q1383.42 513.928 1383.42 506.821 Q1383.42 499.692 1381.59 496.15 Q1379.79 492.585 1376.15 492.585 M1376.15 488.882 Q1381.96 488.882 1385.02 493.488 Q1388.1 498.071 1388.1 506.821 Q1388.1 515.548 1385.02 520.155 Q1381.96 524.738 1376.15 524.738 Q1370.34 524.738 1367.26 520.155 Q1364.21 515.548 1364.21 506.821 Q1364.21 498.071 1367.26 493.488 Q1370.34 488.882 1376.15 488.882 Z\" fill=\"#000000\" fill-rule=\"evenodd\" fill-opacity=\"1\" /><path clip-path=\"url(#clip920)\" d=\"M1301.76 349.44 Q1298.14 349.44 1296.32 353.005 Q1294.51 356.547 1294.51 363.676 Q1294.51 370.783 1296.32 374.348 Q1298.14 377.889 1301.76 377.889 Q1305.39 377.889 1307.2 374.348 Q1309.02 370.783 1309.02 363.676 Q1309.02 356.547 1307.2 353.005 Q1305.39 349.44 1301.76 349.44 M1301.76 345.737 Q1307.57 345.737 1310.62 350.343 Q1313.7 354.926 1313.7 363.676 Q1313.7 372.403 1310.62 377.01 Q1307.57 381.593 1301.76 381.593 Q1295.95 381.593 1292.87 377.01 Q1289.81 372.403 1289.81 363.676 Q1289.81 354.926 1292.87 350.343 Q1295.95 345.737 1301.76 345.737 Z\" fill=\"#000000\" fill-rule=\"evenodd\" fill-opacity=\"1\" /><path clip-path=\"url(#clip920)\" d=\"M1321.92 375.042 L1326.8 375.042 L1326.8 380.922 L1321.92 380.922 L1321.92 375.042 Z\" fill=\"#000000\" fill-rule=\"evenodd\" fill-opacity=\"1\" /><path clip-path=\"url(#clip920)\" d=\"M1341.01 376.986 L1357.33 376.986 L1357.33 380.922 L1335.39 380.922 L1335.39 376.986 Q1338.05 374.232 1342.64 369.602 Q1347.24 364.95 1348.42 363.607 Q1350.67 361.084 1351.55 359.348 Q1352.45 357.588 1352.45 355.899 Q1352.45 353.144 1350.51 351.408 Q1348.58 349.672 1345.48 349.672 Q1343.28 349.672 1340.83 350.436 Q1338.4 351.2 1335.62 352.75 L1335.62 348.028 Q1338.45 346.894 1340.9 346.315 Q1343.35 345.737 1345.39 345.737 Q1350.76 345.737 1353.95 348.422 Q1357.15 351.107 1357.15 355.598 Q1357.15 357.727 1356.34 359.649 Q1355.55 361.547 1353.45 364.139 Q1352.87 364.811 1349.76 368.028 Q1346.66 371.223 1341.01 376.986 Z\" fill=\"#000000\" fill-rule=\"evenodd\" fill-opacity=\"1\" /><path clip-path=\"url(#clip920)\" d=\"M1367.2 346.362 L1385.55 346.362 L1385.55 350.297 L1371.48 350.297 L1371.48 358.769 Q1372.5 358.422 1373.51 358.26 Q1374.53 358.075 1375.55 358.075 Q1381.34 358.075 1384.72 361.246 Q1388.1 364.417 1388.1 369.834 Q1388.1 375.412 1384.63 378.514 Q1381.15 381.593 1374.83 381.593 Q1372.66 381.593 1370.39 381.223 Q1368.14 380.852 1365.74 380.111 L1365.74 375.412 Q1367.82 376.547 1370.04 377.102 Q1372.26 377.658 1374.74 377.658 Q1378.75 377.658 1381.08 375.551 Q1383.42 373.445 1383.42 369.834 Q1383.42 366.223 1381.08 364.116 Q1378.75 362.01 1374.74 362.01 Q1372.87 362.01 1370.99 362.426 Q1369.14 362.843 1367.2 363.723 L1367.2 346.362 Z\" fill=\"#000000\" fill-rule=\"evenodd\" fill-opacity=\"1\" /><path clip-path=\"url(#clip920)\" d=\"M1300.76 206.295 Q1297.15 206.295 1295.32 209.86 Q1293.52 213.402 1293.52 220.531 Q1293.52 227.638 1295.32 231.203 Q1297.15 234.744 1300.76 234.744 Q1304.39 234.744 1306.2 231.203 Q1308.03 227.638 1308.03 220.531 Q1308.03 213.402 1306.2 209.86 Q1304.39 206.295 1300.76 206.295 M1300.76 202.592 Q1306.57 202.592 1309.63 207.198 Q1312.7 211.781 1312.7 220.531 Q1312.7 229.258 1309.63 233.865 Q1306.57 238.448 1300.76 238.448 Q1294.95 238.448 1291.87 233.865 Q1288.82 229.258 1288.82 220.531 Q1288.82 211.781 1291.87 207.198 Q1294.95 202.592 1300.76 202.592 Z\" fill=\"#000000\" fill-rule=\"evenodd\" fill-opacity=\"1\" /><path clip-path=\"url(#clip920)\" d=\"M1320.92 231.897 L1325.81 231.897 L1325.81 237.777 L1320.92 237.777 L1320.92 231.897 Z\" fill=\"#000000\" fill-rule=\"evenodd\" fill-opacity=\"1\" /><path clip-path=\"url(#clip920)\" d=\"M1336.04 203.217 L1354.39 203.217 L1354.39 207.152 L1340.32 207.152 L1340.32 215.624 Q1341.34 215.277 1342.36 215.115 Q1343.38 214.93 1344.39 214.93 Q1350.18 214.93 1353.56 218.101 Q1356.94 221.272 1356.94 226.689 Q1356.94 232.267 1353.47 235.369 Q1350 238.448 1343.68 238.448 Q1341.5 238.448 1339.23 238.078 Q1336.99 237.707 1334.58 236.967 L1334.58 232.267 Q1336.66 233.402 1338.89 233.957 Q1341.11 234.513 1343.58 234.513 Q1347.59 234.513 1349.93 232.406 Q1352.26 230.3 1352.26 226.689 Q1352.26 223.078 1349.93 220.971 Q1347.59 218.865 1343.58 218.865 Q1341.71 218.865 1339.83 219.281 Q1337.98 219.698 1336.04 220.578 L1336.04 203.217 Z\" fill=\"#000000\" fill-rule=\"evenodd\" fill-opacity=\"1\" /><path clip-path=\"url(#clip920)\" d=\"M1376.15 206.295 Q1372.54 206.295 1370.71 209.86 Q1368.91 213.402 1368.91 220.531 Q1368.91 227.638 1370.71 231.203 Q1372.54 234.744 1376.15 234.744 Q1379.79 234.744 1381.59 231.203 Q1383.42 227.638 1383.42 220.531 Q1383.42 213.402 1381.59 209.86 Q1379.79 206.295 1376.15 206.295 M1376.15 202.592 Q1381.96 202.592 1385.02 207.198 Q1388.1 211.781 1388.1 220.531 Q1388.1 229.258 1385.02 233.865 Q1381.96 238.448 1376.15 238.448 Q1370.34 238.448 1367.26 233.865 Q1364.21 229.258 1364.21 220.531 Q1364.21 211.781 1367.26 207.198 Q1370.34 202.592 1376.15 202.592 Z\" fill=\"#000000\" fill-rule=\"evenodd\" fill-opacity=\"1\" /><path clip-path=\"url(#clip920)\" d=\"M1301.76 63.1504 Q1298.14 63.1504 1296.32 66.7152 Q1294.51 70.2569 1294.51 77.3865 Q1294.51 84.4929 1296.32 88.0577 Q1298.14 91.5993 1301.76 91.5993 Q1305.39 91.5993 1307.2 88.0577 Q1309.02 84.4929 1309.02 77.3865 Q1309.02 70.2569 1307.2 66.7152 Q1305.39 63.1504 1301.76 63.1504 M1301.76 59.4467 Q1307.57 59.4467 1310.62 64.0532 Q1313.7 68.6365 1313.7 77.3865 Q1313.7 86.1133 1310.62 90.7197 Q1307.57 95.303 1301.76 95.303 Q1295.95 95.303 1292.87 90.7197 Q1289.81 86.1133 1289.81 77.3865 Q1289.81 68.6365 1292.87 64.0532 Q1295.95 59.4467 1301.76 59.4467 Z\" fill=\"#000000\" fill-rule=\"evenodd\" fill-opacity=\"1\" /><path clip-path=\"url(#clip920)\" d=\"M1321.92 88.7521 L1326.8 88.7521 L1326.8 94.6317 L1321.92 94.6317 L1321.92 88.7521 Z\" fill=\"#000000\" fill-rule=\"evenodd\" fill-opacity=\"1\" /><path clip-path=\"url(#clip920)\" d=\"M1335.81 60.0717 L1358.03 60.0717 L1358.03 62.0625 L1345.48 94.6317 L1340.6 94.6317 L1352.4 64.0069 L1335.81 64.0069 L1335.81 60.0717 Z\" fill=\"#000000\" fill-rule=\"evenodd\" fill-opacity=\"1\" /><path clip-path=\"url(#clip920)\" d=\"M1367.2 60.0717 L1385.55 60.0717 L1385.55 64.0069 L1371.48 64.0069 L1371.48 72.4791 Q1372.5 72.1319 1373.51 71.9698 Q1374.53 71.7846 1375.55 71.7846 Q1381.34 71.7846 1384.72 74.9559 Q1388.1 78.1272 1388.1 83.5438 Q1388.1 89.1225 1384.63 92.2243 Q1381.15 95.303 1374.83 95.303 Q1372.66 95.303 1370.39 94.9327 Q1368.14 94.5623 1365.74 93.8216 L1365.74 89.1225 Q1367.82 90.2568 1370.04 90.8123 Q1372.26 91.3679 1374.74 91.3679 Q1378.75 91.3679 1381.08 89.2614 Q1383.42 87.1549 1383.42 83.5438 Q1383.42 79.9327 1381.08 77.8263 Q1378.75 75.7198 1374.74 75.7198 Q1372.87 75.7198 1370.99 76.1365 Q1369.14 76.5531 1367.2 77.4328 L1367.2 60.0717 Z\" fill=\"#000000\" fill-rule=\"evenodd\" fill-opacity=\"1\" /><circle clip-path=\"url(#clip923)\" cx=\"1691.11\" cy=\"631.19\" r=\"20.3774\" fill=\"#cd5c5c\" fill-rule=\"evenodd\" fill-opacity=\"1\" stroke=\"#000000\" stroke-opacity=\"1\" stroke-width=\"2.4\"/>\n",
       "<circle clip-path=\"url(#clip923)\" cx=\"1519.94\" cy=\"923.248\" r=\"21.1378\" fill=\"#cd5c5c\" fill-rule=\"evenodd\" fill-opacity=\"1\" stroke=\"#000000\" stroke-opacity=\"1\" stroke-width=\"2.4\"/>\n",
       "<circle clip-path=\"url(#clip923)\" cx=\"1608.2\" cy=\"967.343\" r=\"21.0091\" fill=\"#cd5c5c\" fill-rule=\"evenodd\" fill-opacity=\"1\" stroke=\"#000000\" stroke-opacity=\"1\" stroke-width=\"2.4\"/>\n",
       "<circle clip-path=\"url(#clip923)\" cx=\"1702.15\" cy=\"1000.66\" r=\"20.7774\" fill=\"#cd5c5c\" fill-rule=\"evenodd\" fill-opacity=\"1\" stroke=\"#000000\" stroke-opacity=\"1\" stroke-width=\"2.4\"/>\n",
       "<circle clip-path=\"url(#clip923)\" cx=\"2088.52\" cy=\"340.036\" r=\"12.655\" fill=\"#cd5c5c\" fill-rule=\"evenodd\" fill-opacity=\"1\" stroke=\"#000000\" stroke-opacity=\"1\" stroke-width=\"2.4\"/>\n",
       "<circle clip-path=\"url(#clip923)\" cx=\"1450.38\" cy=\"675.884\" r=\"21.0243\" fill=\"#cd5c5c\" fill-rule=\"evenodd\" fill-opacity=\"1\" stroke=\"#000000\" stroke-opacity=\"1\" stroke-width=\"2.4\"/>\n",
       "<circle clip-path=\"url(#clip923)\" cx=\"1742\" cy=\"929.483\" r=\"19.8793\" fill=\"#cd5c5c\" fill-rule=\"evenodd\" fill-opacity=\"1\" stroke=\"#000000\" stroke-opacity=\"1\" stroke-width=\"2.4\"/>\n",
       "<circle clip-path=\"url(#clip923)\" cx=\"1850.66\" cy=\"589.776\" r=\"19.2748\" fill=\"#cd5c5c\" fill-rule=\"evenodd\" fill-opacity=\"1\" stroke=\"#000000\" stroke-opacity=\"1\" stroke-width=\"2.4\"/>\n",
       "<circle clip-path=\"url(#clip923)\" cx=\"1624.72\" cy=\"690.28\" r=\"20.2901\" fill=\"#cd5c5c\" fill-rule=\"evenodd\" fill-opacity=\"1\" stroke=\"#000000\" stroke-opacity=\"1\" stroke-width=\"2.4\"/>\n",
       "<circle clip-path=\"url(#clip923)\" cx=\"2099.65\" cy=\"75.5589\" r=\"11.1758\" fill=\"#cd5c5c\" fill-rule=\"evenodd\" fill-opacity=\"1\" stroke=\"#000000\" stroke-opacity=\"1\" stroke-width=\"2.4\"/>\n",
       "<circle clip-path=\"url(#clip923)\" cx=\"1753.93\" cy=\"685.136\" r=\"20.043\" fill=\"#cd5c5c\" fill-rule=\"evenodd\" fill-opacity=\"1\" stroke=\"#000000\" stroke-opacity=\"1\" stroke-width=\"2.4\"/>\n",
       "<circle clip-path=\"url(#clip923)\" cx=\"1654.68\" cy=\"828.306\" r=\"20.6252\" fill=\"#cd5c5c\" fill-rule=\"evenodd\" fill-opacity=\"1\" stroke=\"#000000\" stroke-opacity=\"1\" stroke-width=\"2.4\"/>\n",
       "<circle clip-path=\"url(#clip923)\" cx=\"1687.03\" cy=\"507.201\" r=\"20.5502\" fill=\"#cd5c5c\" fill-rule=\"evenodd\" fill-opacity=\"1\" stroke=\"#000000\" stroke-opacity=\"1\" stroke-width=\"2.4\"/>\n",
       "<circle clip-path=\"url(#clip923)\" cx=\"1973.78\" cy=\"455.059\" r=\"18.6133\" fill=\"#cd5c5c\" fill-rule=\"evenodd\" fill-opacity=\"1\" stroke=\"#000000\" stroke-opacity=\"1\" stroke-width=\"2.4\"/>\n",
       "<circle clip-path=\"url(#clip923)\" cx=\"2181.01\" cy=\"415.862\" r=\"14.8036\" fill=\"#cd5c5c\" fill-rule=\"evenodd\" fill-opacity=\"1\" stroke=\"#000000\" stroke-opacity=\"1\" stroke-width=\"2.4\"/>\n",
       "<circle clip-path=\"url(#clip923)\" cx=\"1531.67\" cy=\"800.875\" r=\"20.8934\" fill=\"#cd5c5c\" fill-rule=\"evenodd\" fill-opacity=\"1\" stroke=\"#000000\" stroke-opacity=\"1\" stroke-width=\"2.4\"/>\n",
       "<circle clip-path=\"url(#clip923)\" cx=\"1506.28\" cy=\"945.156\" r=\"21.0913\" fill=\"#cd5c5c\" fill-rule=\"evenodd\" fill-opacity=\"1\" stroke=\"#000000\" stroke-opacity=\"1\" stroke-width=\"2.4\"/>\n",
       "<circle clip-path=\"url(#clip923)\" cx=\"1945.79\" cy=\"591.135\" r=\"18.6853\" fill=\"#cd5c5c\" fill-rule=\"evenodd\" fill-opacity=\"1\" stroke=\"#000000\" stroke-opacity=\"1\" stroke-width=\"2.4\"/>\n",
       "<circle clip-path=\"url(#clip923)\" cx=\"1764.57\" cy=\"756.783\" r=\"20.6479\" fill=\"#cd5c5c\" fill-rule=\"evenodd\" fill-opacity=\"1\" stroke=\"#000000\" stroke-opacity=\"1\" stroke-width=\"2.4\"/>\n",
       "<circle clip-path=\"url(#clip923)\" cx=\"1686.58\" cy=\"628.947\" r=\"20.3302\" fill=\"#cd5c5c\" fill-rule=\"evenodd\" fill-opacity=\"1\" stroke=\"#000000\" stroke-opacity=\"1\" stroke-width=\"2.4\"/>\n",
       "<circle clip-path=\"url(#clip923)\" cx=\"2004.28\" cy=\"332.876\" r=\"18.5333\" fill=\"#cd5c5c\" fill-rule=\"evenodd\" fill-opacity=\"1\" stroke=\"#000000\" stroke-opacity=\"1\" stroke-width=\"2.4\"/>\n",
       "<circle clip-path=\"url(#clip923)\" cx=\"1561.77\" cy=\"667.184\" r=\"20.7288\" fill=\"#cd5c5c\" fill-rule=\"evenodd\" fill-opacity=\"1\" stroke=\"#000000\" stroke-opacity=\"1\" stroke-width=\"2.4\"/>\n",
       "<circle clip-path=\"url(#clip923)\" cx=\"1559.64\" cy=\"1019.39\" r=\"20.9596\" fill=\"#cd5c5c\" fill-rule=\"evenodd\" fill-opacity=\"1\" stroke=\"#000000\" stroke-opacity=\"1\" stroke-width=\"2.4\"/>\n",
       "<circle clip-path=\"url(#clip923)\" cx=\"2101.59\" cy=\"340.062\" r=\"13.5682\" fill=\"#cd5c5c\" fill-rule=\"evenodd\" fill-opacity=\"1\" stroke=\"#000000\" stroke-opacity=\"1\" stroke-width=\"2.4\"/>\n",
       "<circle clip-path=\"url(#clip923)\" cx=\"1762.16\" cy=\"633.866\" r=\"19.729\" fill=\"#cd5c5c\" fill-rule=\"evenodd\" fill-opacity=\"1\" stroke=\"#000000\" stroke-opacity=\"1\" stroke-width=\"2.4\"/>\n",
       "<circle clip-path=\"url(#clip923)\" cx=\"1555.43\" cy=\"934.989\" r=\"20.5653\" fill=\"#cd5c5c\" fill-rule=\"evenodd\" fill-opacity=\"1\" stroke=\"#000000\" stroke-opacity=\"1\" stroke-width=\"2.4\"/>\n",
       "<circle clip-path=\"url(#clip923)\" cx=\"2032.33\" cy=\"158.716\" r=\"14.2292\" fill=\"#4682b4\" fill-rule=\"evenodd\" fill-opacity=\"1\" stroke=\"#000000\" stroke-opacity=\"1\" stroke-width=\"2.4\"/>\n",
       "<circle clip-path=\"url(#clip923)\" cx=\"2116.81\" cy=\"437.129\" r=\"13.8799\" fill=\"#4682b4\" fill-rule=\"evenodd\" fill-opacity=\"1\" stroke=\"#000000\" stroke-opacity=\"1\" stroke-width=\"2.4\"/>\n",
       "<circle clip-path=\"url(#clip923)\" cx=\"2018.85\" cy=\"319.181\" r=\"13.5993\" fill=\"#4682b4\" fill-rule=\"evenodd\" fill-opacity=\"1\" stroke=\"#000000\" stroke-opacity=\"1\" stroke-width=\"2.4\"/>\n",
       "<circle clip-path=\"url(#clip923)\" cx=\"2032.13\" cy=\"240.353\" r=\"13.9082\" fill=\"#4682b4\" fill-rule=\"evenodd\" fill-opacity=\"1\" stroke=\"#000000\" stroke-opacity=\"1\" stroke-width=\"2.4\"/>\n",
       "<circle clip-path=\"url(#clip923)\" cx=\"2092.06\" cy=\"306.665\" r=\"11.0008\" fill=\"#4682b4\" fill-rule=\"evenodd\" fill-opacity=\"1\" stroke=\"#000000\" stroke-opacity=\"1\" stroke-width=\"2.4\"/>\n",
       "<circle clip-path=\"url(#clip923)\" cx=\"2195.91\" cy=\"338.552\" r=\"13.1273\" fill=\"#4682b4\" fill-rule=\"evenodd\" fill-opacity=\"1\" stroke=\"#000000\" stroke-opacity=\"1\" stroke-width=\"2.4\"/>\n",
       "<circle clip-path=\"url(#clip923)\" cx=\"2289.65\" cy=\"147.014\" r=\"13.1312\" fill=\"#4682b4\" fill-rule=\"evenodd\" fill-opacity=\"1\" stroke=\"#000000\" stroke-opacity=\"1\" stroke-width=\"2.4\"/>\n",
       "<circle clip-path=\"url(#clip923)\" cx=\"1933.1\" cy=\"180.171\" r=\"13.1769\" fill=\"#4682b4\" fill-rule=\"evenodd\" fill-opacity=\"1\" stroke=\"#000000\" stroke-opacity=\"1\" stroke-width=\"2.4\"/>\n",
       "<circle clip-path=\"url(#clip923)\" cx=\"1993.48\" cy=\"893.387\" r=\"13.3496\" fill=\"#4682b4\" fill-rule=\"evenodd\" fill-opacity=\"1\" stroke=\"#000000\" stroke-opacity=\"1\" stroke-width=\"2.4\"/>\n",
       "<circle clip-path=\"url(#clip923)\" cx=\"2165.34\" cy=\"283.796\" r=\"11.9708\" fill=\"#4682b4\" fill-rule=\"evenodd\" fill-opacity=\"1\" stroke=\"#000000\" stroke-opacity=\"1\" stroke-width=\"2.4\"/>\n",
       "<circle clip-path=\"url(#clip923)\" cx=\"1942.18\" cy=\"278.069\" r=\"13.0177\" fill=\"#4682b4\" fill-rule=\"evenodd\" fill-opacity=\"1\" stroke=\"#000000\" stroke-opacity=\"1\" stroke-width=\"2.4\"/>\n",
       "<circle clip-path=\"url(#clip923)\" cx=\"2107.72\" cy=\"737.376\" r=\"14.3768\" fill=\"#4682b4\" fill-rule=\"evenodd\" fill-opacity=\"1\" stroke=\"#000000\" stroke-opacity=\"1\" stroke-width=\"2.4\"/>\n",
       "<circle clip-path=\"url(#clip923)\" cx=\"2306.22\" cy=\"429.011\" r=\"13.3049\" fill=\"#4682b4\" fill-rule=\"evenodd\" fill-opacity=\"1\" stroke=\"#000000\" stroke-opacity=\"1\" stroke-width=\"2.4\"/>\n",
       "<circle clip-path=\"url(#clip923)\" cx=\"2187.29\" cy=\"242.037\" r=\"13.0346\" fill=\"#4682b4\" fill-rule=\"evenodd\" fill-opacity=\"1\" stroke=\"#000000\" stroke-opacity=\"1\" stroke-width=\"2.4\"/>\n",
       "<circle clip-path=\"url(#clip923)\" cx=\"1982.73\" cy=\"380.038\" r=\"13.9725\" fill=\"#4682b4\" fill-rule=\"evenodd\" fill-opacity=\"1\" stroke=\"#000000\" stroke-opacity=\"1\" stroke-width=\"2.4\"/>\n",
       "<circle clip-path=\"url(#clip923)\" cx=\"1958.87\" cy=\"210.051\" r=\"13.196\" fill=\"#4682b4\" fill-rule=\"evenodd\" fill-opacity=\"1\" stroke=\"#000000\" stroke-opacity=\"1\" stroke-width=\"2.4\"/>\n",
       "<circle clip-path=\"url(#clip923)\" cx=\"1966.25\" cy=\"330.921\" r=\"13.6619\" fill=\"#4682b4\" fill-rule=\"evenodd\" fill-opacity=\"1\" stroke=\"#000000\" stroke-opacity=\"1\" stroke-width=\"2.4\"/>\n",
       "<circle clip-path=\"url(#clip923)\" cx=\"2012.96\" cy=\"222.235\" r=\"14.0752\" fill=\"#4682b4\" fill-rule=\"evenodd\" fill-opacity=\"1\" stroke=\"#000000\" stroke-opacity=\"1\" stroke-width=\"2.4\"/>\n",
       "<circle clip-path=\"url(#clip923)\" cx=\"1975.24\" cy=\"256.545\" r=\"13.9035\" fill=\"#4682b4\" fill-rule=\"evenodd\" fill-opacity=\"1\" stroke=\"#000000\" stroke-opacity=\"1\" stroke-width=\"2.4\"/>\n",
       "<circle clip-path=\"url(#clip923)\" cx=\"2326.47\" cy=\"399.83\" r=\"13.5801\" fill=\"#4682b4\" fill-rule=\"evenodd\" fill-opacity=\"1\" stroke=\"#000000\" stroke-opacity=\"1\" stroke-width=\"2.4\"/>\n",
       "<circle clip-path=\"url(#clip923)\" cx=\"2083.6\" cy=\"95.4525\" r=\"14.0065\" fill=\"#4682b4\" fill-rule=\"evenodd\" fill-opacity=\"1\" stroke=\"#000000\" stroke-opacity=\"1\" stroke-width=\"2.4\"/>\n",
       "<circle clip-path=\"url(#clip923)\" cx=\"2135\" cy=\"346.233\" r=\"14.0052\" fill=\"#4682b4\" fill-rule=\"evenodd\" fill-opacity=\"1\" stroke=\"#000000\" stroke-opacity=\"1\" stroke-width=\"2.4\"/>\n",
       "<circle clip-path=\"url(#clip923)\" cx=\"2081.15\" cy=\"279.112\" r=\"13.6643\" fill=\"#4682b4\" fill-rule=\"evenodd\" fill-opacity=\"1\" stroke=\"#000000\" stroke-opacity=\"1\" stroke-width=\"2.4\"/>\n",
       "<circle clip-path=\"url(#clip923)\" cx=\"2319.25\" cy=\"461.178\" r=\"13.5899\" fill=\"#4682b4\" fill-rule=\"evenodd\" fill-opacity=\"1\" stroke=\"#000000\" stroke-opacity=\"1\" stroke-width=\"2.4\"/>\n",
       "<path clip-path=\"url(#clip920)\" d=\"\n",
       "M2064.68 236.113 L2321.8 236.113 L2321.8 80.5926 L2064.68 80.5926  Z\n",
       "  \" fill=\"#ffffff\" fill-rule=\"evenodd\" fill-opacity=\"1\"/>\n",
       "<polyline clip-path=\"url(#clip920)\" style=\"stroke:#000000; stroke-linecap:round; stroke-linejoin:round; stroke-width:4; stroke-opacity:1; fill:none\" points=\"\n",
       "  2064.68,236.113 2321.8,236.113 2321.8,80.5926 2064.68,80.5926 2064.68,236.113 \n",
       "  \"/>\n",
       "<circle clip-path=\"url(#clip920)\" cx=\"2105.96\" cy=\"132.433\" r=\"23.04\" fill=\"#cd5c5c\" fill-rule=\"evenodd\" fill-opacity=\"1\" stroke=\"#000000\" stroke-opacity=\"1\" stroke-width=\"2.71359\"/>\n",
       "<path clip-path=\"url(#clip920)\" d=\"M2175.1 117.815 L2175.1 122.745 Q2172.74 120.546 2170.05 119.458 Q2167.39 118.37 2164.38 118.37 Q2158.46 118.37 2155.31 122.004 Q2152.16 125.616 2152.16 132.467 Q2152.16 139.296 2155.31 142.93 Q2158.46 146.541 2164.38 146.541 Q2167.39 146.541 2170.05 145.453 Q2172.74 144.365 2175.1 142.166 L2175.1 147.051 Q2172.65 148.717 2169.89 149.551 Q2167.16 150.384 2164.1 150.384 Q2156.26 150.384 2151.74 145.592 Q2147.23 140.777 2147.23 132.467 Q2147.23 124.134 2151.74 119.342 Q2156.26 114.528 2164.1 114.528 Q2167.21 114.528 2169.94 115.361 Q2172.69 116.171 2175.1 117.815 Z\" fill=\"#000000\" fill-rule=\"evenodd\" fill-opacity=\"1\" /><path clip-path=\"url(#clip920)\" d=\"M2192.18 126.773 Q2188.76 126.773 2186.77 129.458 Q2184.78 132.12 2184.78 136.773 Q2184.78 141.426 2186.74 144.111 Q2188.73 146.773 2192.18 146.773 Q2195.59 146.773 2197.58 144.088 Q2199.57 141.402 2199.57 136.773 Q2199.57 132.166 2197.58 129.481 Q2195.59 126.773 2192.18 126.773 M2192.18 123.162 Q2197.74 123.162 2200.91 126.773 Q2204.08 130.384 2204.08 136.773 Q2204.08 143.139 2200.91 146.773 Q2197.74 150.384 2192.18 150.384 Q2186.6 150.384 2183.43 146.773 Q2180.28 143.139 2180.28 136.773 Q2180.28 130.384 2183.43 126.773 Q2186.6 123.162 2192.18 123.162 Z\" fill=\"#000000\" fill-rule=\"evenodd\" fill-opacity=\"1\" /><path clip-path=\"url(#clip920)\" d=\"M2222.92 136.68 Q2217.76 136.68 2215.77 137.861 Q2213.78 139.041 2213.78 141.889 Q2213.78 144.157 2215.26 145.5 Q2216.77 146.819 2219.34 146.819 Q2222.88 146.819 2225.01 144.319 Q2227.16 141.796 2227.16 137.629 L2227.16 136.68 L2222.92 136.68 M2231.42 134.921 L2231.42 149.713 L2227.16 149.713 L2227.16 145.777 Q2225.7 148.139 2223.53 149.273 Q2221.35 150.384 2218.2 150.384 Q2214.22 150.384 2211.86 148.162 Q2209.52 145.916 2209.52 142.166 Q2209.52 137.791 2212.44 135.569 Q2215.38 133.347 2221.19 133.347 L2227.16 133.347 L2227.16 132.93 Q2227.16 129.991 2225.22 128.393 Q2223.29 126.773 2219.8 126.773 Q2217.58 126.773 2215.47 127.305 Q2213.36 127.838 2211.42 128.903 L2211.42 124.967 Q2213.76 124.065 2215.96 123.625 Q2218.15 123.162 2220.24 123.162 Q2225.86 123.162 2228.64 126.078 Q2231.42 128.995 2231.42 134.921 Z\" fill=\"#000000\" fill-rule=\"evenodd\" fill-opacity=\"1\" /><path clip-path=\"url(#clip920)\" d=\"M2244.4 116.426 L2244.4 123.787 L2253.18 123.787 L2253.18 127.097 L2244.4 127.097 L2244.4 141.171 Q2244.4 144.342 2245.26 145.245 Q2246.14 146.148 2248.8 146.148 L2253.18 146.148 L2253.18 149.713 L2248.8 149.713 Q2243.87 149.713 2242 147.884 Q2240.12 146.032 2240.12 141.171 L2240.12 127.097 L2237 127.097 L2237 123.787 L2240.12 123.787 L2240.12 116.426 L2244.4 116.426 Z\" fill=\"#000000\" fill-rule=\"evenodd\" fill-opacity=\"1\" /><circle clip-path=\"url(#clip920)\" cx=\"2105.96\" cy=\"184.273\" r=\"23.04\" fill=\"#4682b4\" fill-rule=\"evenodd\" fill-opacity=\"1\" stroke=\"#000000\" stroke-opacity=\"1\" stroke-width=\"3.8861\"/>\n",
       "<path clip-path=\"url(#clip920)\" d=\"M2169.47 168.127 L2169.47 172.687 Q2166.81 171.414 2164.45 170.789 Q2162.09 170.164 2159.89 170.164 Q2156.07 170.164 2153.99 171.645 Q2151.93 173.127 2151.93 175.858 Q2151.93 178.15 2153.29 179.331 Q2154.68 180.488 2158.53 181.206 L2161.35 181.784 Q2166.58 182.78 2169.06 185.303 Q2171.56 187.803 2171.56 192.016 Q2171.56 197.039 2168.18 199.631 Q2164.82 202.224 2158.32 202.224 Q2155.86 202.224 2153.09 201.668 Q2150.33 201.113 2147.37 200.025 L2147.37 195.21 Q2150.22 196.807 2152.95 197.617 Q2155.68 198.428 2158.32 198.428 Q2162.32 198.428 2164.5 196.854 Q2166.67 195.28 2166.67 192.363 Q2166.67 189.817 2165.1 188.381 Q2163.55 186.946 2159.98 186.229 L2157.14 185.673 Q2151.91 184.631 2149.57 182.409 Q2147.23 180.187 2147.23 176.229 Q2147.23 171.645 2150.45 169.006 Q2153.69 166.368 2159.36 166.368 Q2161.79 166.368 2164.31 166.807 Q2166.84 167.247 2169.47 168.127 Z\" fill=\"#000000\" fill-rule=\"evenodd\" fill-opacity=\"1\" /><path clip-path=\"url(#clip920)\" d=\"M2190.45 188.52 Q2185.28 188.52 2183.29 189.701 Q2181.3 190.881 2181.3 193.729 Q2181.3 195.997 2182.78 197.34 Q2184.29 198.659 2186.86 198.659 Q2190.4 198.659 2192.53 196.159 Q2194.68 193.636 2194.68 189.469 L2194.68 188.52 L2190.45 188.52 M2198.94 186.761 L2198.94 201.553 L2194.68 201.553 L2194.68 197.617 Q2193.22 199.979 2191.05 201.113 Q2188.87 202.224 2185.72 202.224 Q2181.74 202.224 2179.38 200.002 Q2177.04 197.756 2177.04 194.006 Q2177.04 189.631 2179.96 187.409 Q2182.9 185.187 2188.71 185.187 L2194.68 185.187 L2194.68 184.77 Q2194.68 181.831 2192.74 180.233 Q2190.82 178.613 2187.32 178.613 Q2185.1 178.613 2182.99 179.145 Q2180.89 179.678 2178.94 180.743 L2178.94 176.807 Q2181.28 175.905 2183.48 175.465 Q2185.68 175.002 2187.76 175.002 Q2193.39 175.002 2196.16 177.918 Q2198.94 180.835 2198.94 186.761 Z\" fill=\"#000000\" fill-rule=\"evenodd\" fill-opacity=\"1\" /><path clip-path=\"url(#clip920)\" d=\"M2229.27 185.905 L2229.27 201.553 L2225.01 201.553 L2225.01 186.043 Q2225.01 182.363 2223.57 180.534 Q2222.14 178.706 2219.27 178.706 Q2215.82 178.706 2213.83 180.905 Q2211.84 183.104 2211.84 186.9 L2211.84 201.553 L2207.55 201.553 L2207.55 175.627 L2211.84 175.627 L2211.84 179.655 Q2213.36 177.317 2215.42 176.159 Q2217.51 175.002 2220.22 175.002 Q2224.68 175.002 2226.97 177.78 Q2229.27 180.534 2229.27 185.905 Z\" fill=\"#000000\" fill-rule=\"evenodd\" fill-opacity=\"1\" /><path clip-path=\"url(#clip920)\" d=\"M2254.82 179.562 L2254.82 165.534 L2259.08 165.534 L2259.08 201.553 L2254.82 201.553 L2254.82 197.664 Q2253.48 199.979 2251.42 201.113 Q2249.38 202.224 2246.51 202.224 Q2241.81 202.224 2238.85 198.474 Q2235.91 194.724 2235.91 188.613 Q2235.91 182.502 2238.85 178.752 Q2241.81 175.002 2246.51 175.002 Q2249.38 175.002 2251.42 176.136 Q2253.48 177.247 2254.82 179.562 M2240.31 188.613 Q2240.31 193.312 2242.23 195.997 Q2244.17 198.659 2247.55 198.659 Q2250.93 198.659 2252.88 195.997 Q2254.82 193.312 2254.82 188.613 Q2254.82 183.914 2252.88 181.252 Q2250.93 178.567 2247.55 178.567 Q2244.17 178.567 2242.23 181.252 Q2240.31 183.914 2240.31 188.613 Z\" fill=\"#000000\" fill-rule=\"evenodd\" fill-opacity=\"1\" /><path clip-path=\"url(#clip920)\" d=\"M2279.64 188.52 Q2274.47 188.52 2272.48 189.701 Q2270.49 190.881 2270.49 193.729 Q2270.49 195.997 2271.97 197.34 Q2273.48 198.659 2276.05 198.659 Q2279.59 198.659 2281.72 196.159 Q2283.87 193.636 2283.87 189.469 L2283.87 188.52 L2279.64 188.52 M2288.13 186.761 L2288.13 201.553 L2283.87 201.553 L2283.87 197.617 Q2282.41 199.979 2280.24 201.113 Q2278.06 202.224 2274.91 202.224 Q2270.93 202.224 2268.57 200.002 Q2266.23 197.756 2266.23 194.006 Q2266.23 189.631 2269.15 187.409 Q2272.09 185.187 2277.9 185.187 L2283.87 185.187 L2283.87 184.77 Q2283.87 181.831 2281.93 180.233 Q2280.01 178.613 2276.51 178.613 Q2274.29 178.613 2272.18 179.145 Q2270.08 179.678 2268.13 180.743 L2268.13 176.807 Q2270.47 175.905 2272.67 175.465 Q2274.87 175.002 2276.95 175.002 Q2282.58 175.002 2285.35 177.918 Q2288.13 180.835 2288.13 186.761 Z\" fill=\"#000000\" fill-rule=\"evenodd\" fill-opacity=\"1\" /><path clip-path=\"url(#clip920)\" d=\"M2296.9 165.534 L2301.16 165.534 L2301.16 201.553 L2296.9 201.553 L2296.9 165.534 Z\" fill=\"#000000\" fill-rule=\"evenodd\" fill-opacity=\"1\" /></svg>\n"
      ]
     },
     "execution_count": 48,
     "metadata": {},
     "output_type": "execute_result"
    }
   ],
   "source": [
    "scatter(X_test_Pr[1, y_test .== -1], X_test_Pr[2, y_test .== -1], \n",
    "            color = :indianred,\n",
    "            label = labels[l₁],\n",
    "            size = (600,300),\n",
    "            subplot = 1, layout = 2,\n",
    "            xlabel = \"true labels test data\")\n",
    "scatter!(X_test_Pr[1, y_test .== 1], X_test_Pr[2, y_test .== 1], \n",
    "            color = :steelblue,\n",
    "            label = labels[l₂],\n",
    "            subplot = 1, layout = 2)\n",
    "scatter!(X_test_Pr[1, ŷ₀_test .== 1], X_test_Pr[2, ŷ₀_test .== 1], \n",
    "            color = :indianred,\n",
    "            label = labels[l₁], subplot = 2,\n",
    "            size = (600,300), markersizes = sizes[ŷ₀_test .== 1],\n",
    "            xlabel = \"predictions test data\")\n",
    "scatter!(X_test_Pr[1, ŷ₀_test .== 2], X_test_Pr[2, ŷ₀_test .== 2], \n",
    "            color = :steelblue, subplot = 2, markersizes = sizes[ŷ₀_test .== 2],\n",
    "            label = labels[l₂])"
   ]
  },
  {
   "cell_type": "code",
   "execution_count": 49,
   "metadata": {},
   "outputs": [
    {
     "data": {
      "text/plain": [
       "0.0"
      ]
     },
     "execution_count": 49,
     "metadata": {},
     "output_type": "execute_result"
    }
   ],
   "source": [
    "count((y_test- 2 .* (ŷ₀_test .- 1.5)) .!= 0)/n"
   ]
  },
  {
   "cell_type": "code",
   "execution_count": null,
   "metadata": {},
   "outputs": [],
   "source": []
  }
 ],
 "metadata": {
  "@webio": {
   "lastCommId": null,
   "lastKernelId": null
  },
  "kernelspec": {
   "display_name": "Julia 1.8.2",
   "language": "julia",
   "name": "julia-1.8"
  },
  "language_info": {
   "file_extension": ".jl",
   "mimetype": "application/julia",
   "name": "julia",
   "version": "1.8.2"
  }
 },
 "nbformat": 4,
 "nbformat_minor": 2
}
