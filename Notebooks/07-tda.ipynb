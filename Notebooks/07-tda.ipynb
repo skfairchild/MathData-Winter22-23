{
 "cells": [
  {
   "cell_type": "code",
   "execution_count": null,
   "metadata": {},
   "outputs": [],
   "source": [
    "using Pkg\n",
    "#Pkg.add(\"NB07\")\n",
    "#Pkg.instantiate()\n",
    "Pkg.add(\"CSV\")\n",
    "Pkg.add(\"DelimitedFiles\")\n",
    "Pkg.add(\"Plots\")\n",
    "Pkg.add(\"Ripserer\")\n",
    "Pkg.add(\"TSne\")"
   ]
  },
  {
   "cell_type": "code",
   "execution_count": null,
   "metadata": {},
   "outputs": [],
   "source": [
    "using Ripserer\n",
    "using TSne\n",
    "using Plots, LinearAlgebra, StatsBase, DelimitedFiles\n",
    "import Base.Iterators: product\n",
    "gr(); #change to plotlyjs() for interactive 3D plots"
   ]
  },
  {
   "cell_type": "markdown",
   "metadata": {},
   "source": [
    "# Topological Data Analysis\n",
    "\n",
    "We use the software package [Ripserer.jl](https://github.com/mtsch/Ripserer.jl) to compute the persistent homology of two example data sets."
   ]
  },
  {
   "cell_type": "markdown",
   "metadata": {},
   "source": [
    "## Persistent homology of an ellipse\n",
    "\n",
    "The first example is $n=50$ point on the ellipse $x^2/a+y^2/b = 1$ with $a=2,b=1$.\n",
    "\n",
    "We generate a random data set `P`."
   ]
  },
  {
   "cell_type": "code",
   "execution_count": null,
   "metadata": {},
   "outputs": [],
   "source": [
    "a, b = 2, 1\n",
    "n = 50\n",
    "P = [[a * cos(ϕ); b * sin(ϕ)] + 0.1 .* randn(2) for ϕ in rand(0:0.01:2π, n)];"
   ]
  },
  {
   "cell_type": "markdown",
   "metadata": {},
   "source": [
    "Let us first visualize the data."
   ]
  },
  {
   "cell_type": "code",
   "execution_count": null,
   "metadata": {},
   "outputs": [],
   "source": [
    "data = Tuple.(P)\n",
    "scp = scatter(data,  size = (800,300),\n",
    "        markercolor = :steelblue, markersize = 5,\n",
    "        aspect_ratio = :equal, label = false)"
   ]
  },
  {
   "cell_type": "markdown",
   "metadata": {},
   "source": [
    "The command to compute persistent homology for the <i>Vietoris-Rips</i> complex is `ripserer`:"
   ]
  },
  {
   "cell_type": "code",
   "execution_count": null,
   "metadata": {},
   "outputs": [],
   "source": [
    "ph =  ripserer(data) # Ripserer.jl takes as input a Vector of Tuples"
   ]
  },
  {
   "cell_type": "markdown",
   "metadata": {},
   "source": [
    "The information in `ph` is summarized in a barcodep lot:"
   ]
  },
  {
   "cell_type": "code",
   "execution_count": null,
   "metadata": {},
   "outputs": [],
   "source": [
    "barcode(ph, size = (800,300))"
   ]
  },
  {
   "cell_type": "markdown",
   "metadata": {},
   "source": [
    "or a persistence plot:"
   ]
  },
  {
   "cell_type": "code",
   "execution_count": null,
   "metadata": {},
   "outputs": [],
   "source": [
    "plot(ph, size = (600,400))"
   ]
  },
  {
   "cell_type": "markdown",
   "metadata": {},
   "source": [
    "Let us now consider the homology of the Vietoris-Rips complex $\\mathrm{VR}_{r}(P)$ at level $r=1/4$."
   ]
  },
  {
   "cell_type": "code",
   "execution_count": null,
   "metadata": {},
   "outputs": [],
   "source": [
    "r = 0.25"
   ]
  },
  {
   "cell_type": "markdown",
   "metadata": {},
   "source": [
    "The first Betti number of $\\mathrm{VR}_{1/4}(P)$ can be extracted from `ph` by counting the number of bars that  start earlier than $2r$ and end after $2r$."
   ]
  },
  {
   "cell_type": "code",
   "execution_count": null,
   "metadata": {},
   "outputs": [],
   "source": [
    "β₁ = count(b -> b[1] <= 2r < b[2], ph[2])"
   ]
  },
  {
   "cell_type": "markdown",
   "metadata": {},
   "source": [
    "To visualize $\\mathrm{VR}_{1/4}(P)$ we compute all pairs of points that are at most $2r$ apart:"
   ]
  },
  {
   "cell_type": "code",
   "execution_count": null,
   "metadata": {},
   "outputs": [],
   "source": [
    "pairwise_dists = map(p -> norm(p[1] - p[2]), product(P,P));\n",
    "edges = findall(0 .< pairwise_dists .< 2r);\n",
    "edges[1:5]"
   ]
  },
  {
   "cell_type": "code",
   "execution_count": null,
   "metadata": {},
   "outputs": [],
   "source": [
    "length(edges)"
   ]
  },
  {
   "cell_type": "markdown",
   "metadata": {},
   "source": [
    "and all triples of points that are pairwise at most $2r$ apart:"
   ]
  },
  {
   "cell_type": "code",
   "execution_count": null,
   "metadata": {},
   "outputs": [],
   "source": [
    "triple_dists =  map(p -> maximum([norm(p[i] - p[j]) for i in 1:2 for j in i:3]), product(P,P,P)); \n",
    "triangles = findall(0 .< triple_dists .< 2r);\n",
    "length(triangles)"
   ]
  },
  {
   "cell_type": "markdown",
   "metadata": {},
   "source": [
    "We plot the triangles and edges:"
   ]
  },
  {
   "cell_type": "code",
   "execution_count": null,
   "metadata": {},
   "outputs": [],
   "source": [
    "Triangle(a,b,c) = Shape([a[1], b[1], c[1]], [a[2], b[2], c[2]])"
   ]
  },
  {
   "cell_type": "code",
   "execution_count": null,
   "metadata": {},
   "outputs": [],
   "source": [
    "plot(xlims = (-a-0.25, a+0.25), ylims = (-a-0.25, a+0.25))\n",
    "for t in triangles\n",
    "   vertices = [[P[t[i]][j] for j in 1:2] for i in 1:3]\n",
    "   plot!(Triangle(vertices[1], vertices[2], vertices[3]), \n",
    "        fillcolor = :wheat, opacity = 0.2, label = false)\n",
    "end\n",
    "for e in edges\n",
    "   vertices = [P[e[1]],  P[e[2]]]\n",
    "   plot!(first.(vertices), last.(vertices), label = false,\n",
    "            linecolor = :grey, linewidth = 1, linealpha = 0.5)\n",
    "end\n",
    "scatter!(data, markercolor = :steelblue, markersize = 4, label = \"β₁ = $(β₁), r = $(r)\")"
   ]
  },
  {
   "cell_type": "markdown",
   "metadata": {},
   "source": [
    "We can also plot triangles and edges for varying $r$:"
   ]
  },
  {
   "cell_type": "code",
   "execution_count": null,
   "metadata": {},
   "outputs": [],
   "source": [
    "A = @animate for r in 0:0.1:1\n",
    "    β₁ = count(b -> b[1] <= 2r < b[2], ph[2])\n",
    "    edges = findall(0 .< pairwise_dists .<= 2r)\n",
    "    plot(xlims = (-a-0.5, a+0.5), ylims = (-a-0.5, a+0.5))\n",
    "    for e in edges\n",
    "       vertices = [P[e[1]],  P[e[2]]]\n",
    "       plot!(first.(vertices), last.(vertices), label = false,\n",
    "                linecolor = :grey, linewidth = 1, linealpha = 0.5)\n",
    "    end\n",
    "    scatter!(data, markercolor = :steelblue, markersize = 4, label = \"β₁ = $(β₁), r = $(r)\")\n",
    "end"
   ]
  },
  {
   "cell_type": "code",
   "execution_count": null,
   "metadata": {},
   "outputs": [],
   "source": [
    "gif(A, fps = 2)"
   ]
  },
  {
   "cell_type": "markdown",
   "metadata": {},
   "source": [
    "We can also get the information which edges form the 1-dimensional boundary of the hole.\n",
    "\n",
    "For this we use `ripserer` with option `alg = :involuted`."
   ]
  },
  {
   "cell_type": "code",
   "execution_count": null,
   "metadata": {},
   "outputs": [],
   "source": [
    "diagram_cycles = ripserer(data, alg = :involuted)\n",
    "boundary = diagram_cycles[2][end]"
   ]
  },
  {
   "cell_type": "code",
   "execution_count": null,
   "metadata": {},
   "outputs": [],
   "source": [
    "plot(boundary, data, linewidth = 3, linecolor = :indianred, legend = false, size = (800,300))\n",
    "scatter!(data, markercolor = :steelblue, markersize = 4)\n",
    "scatter!(boundary, data, markercolor = :indianred, markersize = 4)"
   ]
  },
  {
   "cell_type": "markdown",
   "metadata": {},
   "source": [
    "# The state space of the cyclooctane molecule"
   ]
  },
  {
   "cell_type": "markdown",
   "metadata": {},
   "source": [
    "The second example considers [data points](https://www.juliahomotopycontinuation.org/examples/cyclooctane/) from the state space of [cyclooctane](https://en.wikipedia.org/wiki/Cyclooctane)."
   ]
  },
  {
   "cell_type": "code",
   "execution_count": null,
   "metadata": {},
   "outputs": [],
   "source": [
    "M = readdlm(\"cyclooctane.txt\", '\\t', Float64, '\\n');"
   ]
  },
  {
   "cell_type": "code",
   "execution_count": null,
   "metadata": {},
   "outputs": [],
   "source": [
    "n = size(M, 2)"
   ]
  },
  {
   "cell_type": "markdown",
   "metadata": {},
   "source": [
    "[Cyclooctane](https://en.wikipedia.org/wiki/Cyclooctane) (CH₂)₈ is a molecule that consists of 8 carbon atoms aligned in a ring, and 8 hydrogen atoms attached to the carbon atoms. \n",
    "\n",
    "The distance $c>0$ between neighboring carbon atoms is fixed. The data has $c=1$.\n",
    "\n",
    "The energy of a configuration $z=(z_1,\\ldots,z_8)$ is minimized when the angles between successive bonds are all equal to $\\alpha\\approx 115^\\circ$. \n",
    "\n",
    "Therefore, the positions $z_i\\in\\mathbb{R}^3$ of the carbon atoms satisfy the algebraic equations\n",
    "\n",
    "$$\\Vert z_1-z_2\\Vert^2 = \\cdots =  \\Vert z_7-z_8\\Vert^2=\\Vert z_8-z_1\\Vert^2 = c^2,$$\n",
    "\n",
    "and\n",
    "\n",
    "$$\\Vert z_1-z_3\\Vert^2 = \\cdots =  \\Vert z_6-z_8\\Vert^2=\\Vert z_7-z_1\\Vert^2 =\\Vert z_8-z_2\\Vert^2 = c^2(1-\\cos(\\alpha)).$$\n",
    "\n",
    "The data in `M` is normalized: The equations for the positions are invariant under simultaneous translation and rotation of the $z_i$. The data is such that $z_1$ is chosen to be the origin, $z_8=(c,0,0)$ and $z_7$ is rotated, such that its last entry is equal to zero. \n",
    "\n",
    "Thus, every data point in $M$ is a vector in $\\mathbb R^{17}$, such that the positions of the 8 carbon atoms are the columns of the following matrix:"
   ]
  },
  {
   "cell_type": "code",
   "execution_count": null,
   "metadata": {},
   "outputs": [],
   "source": [
    "s = M[:,rand(1:n)]\n",
    "c = [zeros(3) s[1:3] s[4:6] s[7:9] s[10:12] s[13:15] [s[16]; s[17]; 0] [1; 0; 0]]"
   ]
  },
  {
   "cell_type": "markdown",
   "metadata": {},
   "source": [
    "We visualize $c$ as follows:"
   ]
  },
  {
   "cell_type": "code",
   "execution_count": null,
   "metadata": {},
   "outputs": [],
   "source": [
    "plot(legend = false, layout = (1,2), size = (800,400))\n",
    "s = M[:,rand(1:n)]\n",
    "    c = [zeros(3) s[1:3] s[4:6] s[7:9] s[10:12] s[13:15] [s[16]; s[17]; 0] [1; 0; 0]]\n",
    "    for (i, j) in zip(1:8, [8;1:7]) \n",
    "        plot!(c[1, [i;j]], c[2, [i;j]], c[3, [i;j]], lw = 4, color = :brown, subplot = 1)\n",
    "    end; scatter!(c[1,:], c[2,:], c[3,:], color = :teal, markersize = 5, subplot = 1)\n",
    "\n",
    "s = M[:,rand(1:n)]\n",
    "    c = [zeros(3) s[1:3] s[4:6] s[7:9] s[10:12] s[13:15] [s[16]; s[17]; 0] [1; 0; 0]]\n",
    "    for (i, j) in zip(1:8, [8;1:7]) \n",
    "        plot!(c[1, [i;j]], c[2, [i;j]], c[3, [i;j]], lw = 4, color = :brown, subplot = 2)\n",
    "    end; scatter!(c[1,:], c[2,:], c[3,:], color = :teal, markersize = 5, subplot = 2)"
   ]
  },
  {
   "cell_type": "markdown",
   "metadata": {},
   "source": [
    "Let us now analyse the data in `M`."
   ]
  },
  {
   "cell_type": "code",
   "execution_count": null,
   "metadata": {},
   "outputs": [],
   "source": [
    "cyclooctane = [Tuple(M[:,i]) for i in 1:size(M,2)];"
   ]
  },
  {
   "cell_type": "markdown",
   "metadata": {},
   "source": [
    "There are now $n=4058$ data points in `cyclooctane`. "
   ]
  },
  {
   "cell_type": "code",
   "execution_count": null,
   "metadata": {},
   "outputs": [],
   "source": [
    "length(cyclooctane)"
   ]
  },
  {
   "cell_type": "markdown",
   "metadata": {},
   "source": [
    "Let us first compute the number of connected components of the data.\n",
    "\n",
    "For this we set the option `dim_max = 0` (the default is `dim_max = 1`).\n",
    "\n",
    "We also set the option `reps = true`."
   ]
  },
  {
   "cell_type": "code",
   "execution_count": null,
   "metadata": {},
   "outputs": [],
   "source": [
    "components = ripserer(cyclooctane, reps=true, dim_max = 0);\n",
    "plot(components)"
   ]
  },
  {
   "cell_type": "markdown",
   "metadata": {},
   "source": [
    "We see two connected components. \n",
    "\n",
    "They correspond to the two connected components of $O(3)$ and encode orientation. \n",
    "\n",
    "We consider only one of the two components in the following."
   ]
  },
  {
   "cell_type": "code",
   "execution_count": null,
   "metadata": {},
   "outputs": [],
   "source": [
    "i = index.(representative(components[1][end-1])); # here we need reps = true\n",
    "cyclooctane₁ = cyclooctane[i];\n",
    "M₁ = M[:,i]\n",
    "size(M₁)"
   ]
  },
  {
   "cell_type": "markdown",
   "metadata": {},
   "source": [
    "Let us visualize the component `M₁` using a random orthogonal projection."
   ]
  },
  {
   "cell_type": "code",
   "execution_count": null,
   "metadata": {},
   "outputs": [],
   "source": [
    "Q = qr(randn(17,17)).Q[1:3,:]\n",
    "NN = (Q * M₁)'\n",
    "scatter(NN[:,1], NN[:,2], NN[:,3], size = (800,400),\n",
    "        markercolor = :steelblue, markerstrokecolor = :steelblue, markersize = 1.5, label = false)"
   ]
  },
  {
   "cell_type": "markdown",
   "metadata": {},
   "source": [
    "We also visualize the component `M₁` using [t-Stochastic Neighbor Embedding](https://github.com/lejon/TSne.jl)."
   ]
  },
  {
   "cell_type": "code",
   "execution_count": null,
   "metadata": {},
   "outputs": [],
   "source": [
    "N = tsne(M₁', 2, 0, 75, 12.0);"
   ]
  },
  {
   "cell_type": "code",
   "execution_count": null,
   "metadata": {},
   "outputs": [],
   "source": [
    "scatter(N[:,1], N[:,2], \n",
    "        markercolor = :steelblue, markerstrokecolor = :steelblue, markersize = 1.5, label = false)"
   ]
  },
  {
   "cell_type": "markdown",
   "metadata": {},
   "source": [
    "We compute persistent homology for $500$ data points from our component."
   ]
  },
  {
   "cell_type": "code",
   "execution_count": null,
   "metadata": {},
   "outputs": [],
   "source": [
    "w = 1:500\n",
    "ph_cycloctane = ripserer(cyclooctane₁[w], dim_max = 2);"
   ]
  },
  {
   "cell_type": "code",
   "execution_count": null,
   "metadata": {},
   "outputs": [],
   "source": [
    "plot(ph_cycloctane)"
   ]
  },
  {
   "cell_type": "code",
   "execution_count": null,
   "metadata": {},
   "outputs": [],
   "source": [
    "barcode(ph_cycloctane)"
   ]
  },
  {
   "cell_type": "markdown",
   "metadata": {},
   "source": [
    "We see one connected components and indications for $\\beta_1=2$ and $\\beta_2=1$. \n",
    "    \n",
    "The paper [Topology of cyclo-octane energy landscape](https://www.ncbi.nlm.nih.gov/pmc/articles/PMC3188624/) reports  $\\beta_1=1$ and $\\beta_2=2$."
   ]
  }
 ],
 "metadata": {
  "@webio": {
   "lastCommId": "3fda56c2c305490cb4b39513bc2f93f2",
   "lastKernelId": "cf9854ac-ccaa-46c2-bb1f-e54c15142cb8"
  },
  "kernelspec": {
   "display_name": "Julia 1.8.2",
   "language": "julia",
   "name": "julia-1.8"
  },
  "language_info": {
   "file_extension": ".jl",
   "mimetype": "application/julia",
   "name": "julia",
   "version": "1.8.2"
  }
 },
 "nbformat": 4,
 "nbformat_minor": 2
}
