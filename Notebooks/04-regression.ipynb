{
 "cells": [
  {
   "cell_type": "code",
   "execution_count": 1,
   "metadata": {},
   "outputs": [
    {
     "name": "stderr",
     "output_type": "stream",
     "text": [
      "\u001b[32m\u001b[1m    Updating\u001b[22m\u001b[39m registry at `~/.julia/registries/General.toml`\n",
      "\u001b[32m\u001b[1m   Resolving\u001b[22m\u001b[39m package versions...\n",
      "\u001b[32m\u001b[1m  No Changes\u001b[22m\u001b[39m to `~/.julia/environments/v1.8/Project.toml`\n",
      "\u001b[32m\u001b[1m  No Changes\u001b[22m\u001b[39m to `~/.julia/environments/v1.8/Manifest.toml`\n",
      "\u001b[32m\u001b[1m   Resolving\u001b[22m\u001b[39m package versions...\n",
      "\u001b[32m\u001b[1m  No Changes\u001b[22m\u001b[39m to `~/.julia/environments/v1.8/Project.toml`\n",
      "\u001b[32m\u001b[1m  No Changes\u001b[22m\u001b[39m to `~/.julia/environments/v1.8/Manifest.toml`\n",
      "\u001b[32m\u001b[1m   Resolving\u001b[22m\u001b[39m package versions...\n",
      "\u001b[32m\u001b[1m  No Changes\u001b[22m\u001b[39m to `~/.julia/environments/v1.8/Project.toml`\n",
      "\u001b[32m\u001b[1m  No Changes\u001b[22m\u001b[39m to `~/.julia/environments/v1.8/Manifest.toml`\n",
      "\u001b[32m\u001b[1m   Resolving\u001b[22m\u001b[39m package versions...\n",
      "\u001b[32m\u001b[1m   Installed\u001b[22m\u001b[39m LineSearches ── v7.2.0\n",
      "\u001b[32m\u001b[1m   Installed\u001b[22m\u001b[39m NLSolversBase ─ v7.8.3\n",
      "\u001b[32m\u001b[1m   Installed\u001b[22m\u001b[39m Optim ───────── v1.7.4\n",
      "\u001b[32m\u001b[1m    Updating\u001b[22m\u001b[39m `~/.julia/environments/v1.8/Project.toml`\n",
      " \u001b[90m [429524aa] \u001b[39m\u001b[92m+ Optim v1.7.4\u001b[39m\n",
      "\u001b[32m\u001b[1m    Updating\u001b[22m\u001b[39m `~/.julia/environments/v1.8/Manifest.toml`\n",
      " \u001b[90m [d3d80556] \u001b[39m\u001b[92m+ LineSearches v7.2.0\u001b[39m\n",
      " \u001b[90m [d41bc354] \u001b[39m\u001b[92m+ NLSolversBase v7.8.3\u001b[39m\n",
      " \u001b[90m [429524aa] \u001b[39m\u001b[92m+ Optim v1.7.4\u001b[39m\n",
      " \u001b[90m [85a6dd25] \u001b[39m\u001b[92m+ PositiveFactorizations v0.2.4\u001b[39m\n",
      "\u001b[32m\u001b[1mPrecompiling\u001b[22m\u001b[39m project...\n",
      "\u001b[32m  ✓ \u001b[39m\u001b[90mNLSolversBase\u001b[39m\n",
      "\u001b[32m  ✓ \u001b[39m\u001b[90mLineSearches\u001b[39m\n",
      "\u001b[32m  ✓ \u001b[39mOptim\n",
      "  3 dependencies successfully precompiled in 4 seconds. 268 already precompiled.\n",
      "\u001b[32m\u001b[1m   Resolving\u001b[22m\u001b[39m package versions...\n",
      "\u001b[32m\u001b[1m   Installed\u001b[22m\u001b[39m Mocking ─────────── v0.7.5\n",
      "\u001b[32m\u001b[1m   Installed\u001b[22m\u001b[39m CategoricalArrays ─ v0.10.7\n",
      "\u001b[32m\u001b[1m   Installed\u001b[22m\u001b[39m TimeZones ───────── v1.9.0\n",
      "\u001b[32m\u001b[1m    Updating\u001b[22m\u001b[39m `~/.julia/environments/v1.8/Project.toml`\n",
      " \u001b[90m [ce6b1742] \u001b[39m\u001b[92m+ RDatasets v0.7.7\u001b[39m\n",
      "\u001b[32m\u001b[1m    Updating\u001b[22m\u001b[39m `~/.julia/environments/v1.8/Manifest.toml`\n",
      " \u001b[90m [324d7699] \u001b[39m\u001b[92m+ CategoricalArrays v0.10.7\u001b[39m\n",
      " \u001b[90m [e2ba6199] \u001b[39m\u001b[92m+ ExprTools v0.1.8\u001b[39m\n",
      " \u001b[90m [78c3b35d] \u001b[39m\u001b[92m+ Mocking v0.7.5\u001b[39m\n",
      "\u001b[33m⌅\u001b[39m\u001b[90m [df47a6cb] \u001b[39m\u001b[92m+ RData v0.8.3\u001b[39m\n",
      " \u001b[90m [ce6b1742] \u001b[39m\u001b[92m+ RDatasets v0.7.7\u001b[39m\n",
      " \u001b[90m [f269a46b] \u001b[39m\u001b[92m+ TimeZones v1.9.0\u001b[39m\n",
      "\u001b[36m\u001b[1m        Info\u001b[22m\u001b[39m Packages marked with \u001b[33m⌅\u001b[39m have new versions available but compatibility constraints restrict them from upgrading. To see why use `status --outdated -m`\n",
      "\u001b[32m\u001b[1m    Building\u001b[22m\u001b[39m TimeZones → `~/.julia/scratchspaces/44cfe95a-1eb2-52ea-b672-e2afdf69b78f/d634a3641062c040fc8a7e2a3ea17661cc159688/build.log`\n",
      "\u001b[32m\u001b[1mPrecompiling\u001b[22m\u001b[39m project...\n",
      "\u001b[32m  ✓ \u001b[39m\u001b[90mCategoricalArrays\u001b[39m\n",
      "\u001b[32m  ✓ \u001b[39m\u001b[90mRData\u001b[39m\n",
      "\u001b[32m  ✓ \u001b[39mRDatasets\n",
      "  3 dependencies successfully precompiled in 5 seconds. 274 already precompiled.\n",
      "\u001b[32m\u001b[1m   Resolving\u001b[22m\u001b[39m package versions...\n",
      "\u001b[32m\u001b[1m  No Changes\u001b[22m\u001b[39m to `~/.julia/environments/v1.8/Project.toml`\n",
      "\u001b[32m\u001b[1m  No Changes\u001b[22m\u001b[39m to `~/.julia/environments/v1.8/Manifest.toml`\n",
      "\u001b[32m\u001b[1m  No Changes\u001b[22m\u001b[39m to `~/.julia/environments/v1.8/Project.toml`\n",
      "\u001b[32m\u001b[1m  No Changes\u001b[22m\u001b[39m to `~/.julia/environments/v1.8/Manifest.toml`\n"
     ]
    }
   ],
   "source": [
    "using Pkg\n",
    "#Pkg.activate(\"NB04\")\n",
    "Pkg.add(\"StatsBase\")\n",
    "Pkg.add(\"Plots\")\n",
    "Pkg.add(\"LinearAlgebra\")\n",
    "Pkg.add(\"Optim\")\n",
    "Pkg.add(\"RDatasets\")\n",
    "Pkg.add(\"CSV\")\n",
    "Pkg.resolve();"
   ]
  },
  {
   "cell_type": "code",
   "execution_count": 3,
   "metadata": {},
   "outputs": [],
   "source": [
    "using LinearAlgebra, Plots, StatsBase\n",
    "using RDatasets\n",
    "using Optim"
   ]
  },
  {
   "cell_type": "markdown",
   "metadata": {},
   "source": [
    "# Regression\n",
    "\n",
    "We load the data set `cars` from the package `RDatasets`"
   ]
  },
  {
   "cell_type": "code",
   "execution_count": 4,
   "metadata": {},
   "outputs": [],
   "source": [
    "data_cars = dataset(\"datasets\", \"cars\");"
   ]
  },
  {
   "cell_type": "markdown",
   "metadata": {},
   "source": [
    "We first look at which variables are preserved in this dataset"
   ]
  },
  {
   "cell_type": "code",
   "execution_count": 5,
   "metadata": {},
   "outputs": [
    {
     "data": {
      "text/plain": [
       "2-element Vector{String}:\n",
       " \"Speed\"\n",
       " \"Dist\""
      ]
     },
     "execution_count": 5,
     "metadata": {},
     "output_type": "execute_result"
    }
   ],
   "source": [
    "names(data_cars)"
   ]
  },
  {
   "cell_type": "code",
   "execution_count": 6,
   "metadata": {},
   "outputs": [
    {
     "data": {
      "text/plain": [
       "50"
      ]
     },
     "execution_count": 6,
     "metadata": {},
     "output_type": "execute_result"
    }
   ],
   "source": [
    "size(data_cars,1)"
   ]
  },
  {
   "cell_type": "markdown",
   "metadata": {},
   "source": [
    "The data points represent speed and distance traveled.\n",
    "\n",
    "We expect a linear relationship, so we choose the linear model\n",
    "\n",
    "$$f_\\theta(x) =  a x + b$$\n",
    "\n",
    "with $\\theta =(a,b)\\in\\mathbb R^2$."
   ]
  },
  {
   "cell_type": "code",
   "execution_count": 7,
   "metadata": {},
   "outputs": [
    {
     "data": {
      "image/svg+xml": [
       "<?xml version=\"1.0\" encoding=\"utf-8\"?>\n",
       "<svg xmlns=\"http://www.w3.org/2000/svg\" xmlns:xlink=\"http://www.w3.org/1999/xlink\" width=\"600\" height=\"300\" viewBox=\"0 0 2400 1200\">\n",
       "<defs>\n",
       "  <clipPath id=\"clip890\">\n",
       "    <rect x=\"0\" y=\"0\" width=\"2400\" height=\"1200\"/>\n",
       "  </clipPath>\n",
       "</defs>\n",
       "<path clip-path=\"url(#clip890)\" d=\"\n",
       "M0 1200 L2400 1200 L2400 0 L0 0  Z\n",
       "  \" fill=\"#ffffff\" fill-rule=\"evenodd\" fill-opacity=\"1\"/>\n",
       "<defs>\n",
       "  <clipPath id=\"clip891\">\n",
       "    <rect x=\"480\" y=\"0\" width=\"1681\" height=\"1200\"/>\n",
       "  </clipPath>\n",
       "</defs>\n",
       "<path clip-path=\"url(#clip890)\" d=\"\n",
       "M220.509 1047.7 L2352.76 1047.7 L2352.76 47.2441 L220.509 47.2441  Z\n",
       "  \" fill=\"#ffffff\" fill-rule=\"evenodd\" fill-opacity=\"1\"/>\n",
       "<defs>\n",
       "  <clipPath id=\"clip892\">\n",
       "    <rect x=\"220\" y=\"47\" width=\"2133\" height=\"1001\"/>\n",
       "  </clipPath>\n",
       "</defs>\n",
       "<polyline clip-path=\"url(#clip892)\" style=\"stroke:#000000; stroke-linecap:round; stroke-linejoin:round; stroke-width:2; stroke-opacity:0.1; fill:none\" points=\"\n",
       "  376.644,1047.7 376.644,47.2441 \n",
       "  \"/>\n",
       "<polyline clip-path=\"url(#clip892)\" style=\"stroke:#000000; stroke-linecap:round; stroke-linejoin:round; stroke-width:2; stroke-opacity:0.1; fill:none\" points=\"\n",
       "  855.585,1047.7 855.585,47.2441 \n",
       "  \"/>\n",
       "<polyline clip-path=\"url(#clip892)\" style=\"stroke:#000000; stroke-linecap:round; stroke-linejoin:round; stroke-width:2; stroke-opacity:0.1; fill:none\" points=\"\n",
       "  1334.53,1047.7 1334.53,47.2441 \n",
       "  \"/>\n",
       "<polyline clip-path=\"url(#clip892)\" style=\"stroke:#000000; stroke-linecap:round; stroke-linejoin:round; stroke-width:2; stroke-opacity:0.1; fill:none\" points=\"\n",
       "  1813.47,1047.7 1813.47,47.2441 \n",
       "  \"/>\n",
       "<polyline clip-path=\"url(#clip892)\" style=\"stroke:#000000; stroke-linecap:round; stroke-linejoin:round; stroke-width:2; stroke-opacity:0.1; fill:none\" points=\"\n",
       "  2292.41,1047.7 2292.41,47.2441 \n",
       "  \"/>\n",
       "<polyline clip-path=\"url(#clip890)\" style=\"stroke:#000000; stroke-linecap:round; stroke-linejoin:round; stroke-width:4; stroke-opacity:1; fill:none\" points=\"\n",
       "  220.509,1047.7 2352.76,1047.7 \n",
       "  \"/>\n",
       "<polyline clip-path=\"url(#clip890)\" style=\"stroke:#000000; stroke-linecap:round; stroke-linejoin:round; stroke-width:4; stroke-opacity:1; fill:none\" points=\"\n",
       "  376.644,1047.7 376.644,1028.8 \n",
       "  \"/>\n",
       "<polyline clip-path=\"url(#clip890)\" style=\"stroke:#000000; stroke-linecap:round; stroke-linejoin:round; stroke-width:4; stroke-opacity:1; fill:none\" points=\"\n",
       "  855.585,1047.7 855.585,1028.8 \n",
       "  \"/>\n",
       "<polyline clip-path=\"url(#clip890)\" style=\"stroke:#000000; stroke-linecap:round; stroke-linejoin:round; stroke-width:4; stroke-opacity:1; fill:none\" points=\"\n",
       "  1334.53,1047.7 1334.53,1028.8 \n",
       "  \"/>\n",
       "<polyline clip-path=\"url(#clip890)\" style=\"stroke:#000000; stroke-linecap:round; stroke-linejoin:round; stroke-width:4; stroke-opacity:1; fill:none\" points=\"\n",
       "  1813.47,1047.7 1813.47,1028.8 \n",
       "  \"/>\n",
       "<polyline clip-path=\"url(#clip890)\" style=\"stroke:#000000; stroke-linecap:round; stroke-linejoin:round; stroke-width:4; stroke-opacity:1; fill:none\" points=\"\n",
       "  2292.41,1047.7 2292.41,1028.8 \n",
       "  \"/>\n",
       "<path clip-path=\"url(#clip890)\" d=\"M366.922 1075.54 L385.278 1075.54 L385.278 1079.48 L371.204 1079.48 L371.204 1087.95 Q372.223 1087.6 373.241 1087.44 Q374.26 1087.25 375.278 1087.25 Q381.065 1087.25 384.445 1090.42 Q387.825 1093.6 387.825 1099.01 Q387.825 1104.59 384.352 1107.69 Q380.88 1110.77 374.561 1110.77 Q372.385 1110.77 370.116 1110.4 Q367.871 1110.03 365.464 1109.29 L365.464 1104.59 Q367.547 1105.72 369.769 1106.28 Q371.991 1106.84 374.468 1106.84 Q378.473 1106.84 380.811 1104.73 Q383.149 1102.62 383.149 1099.01 Q383.149 1095.4 380.811 1093.29 Q378.473 1091.19 374.468 1091.19 Q372.593 1091.19 370.718 1091.6 Q368.866 1092.02 366.922 1092.9 L366.922 1075.54 Z\" fill=\"#000000\" fill-rule=\"evenodd\" fill-opacity=\"1\" /><path clip-path=\"url(#clip890)\" d=\"M830.273 1106.16 L837.912 1106.16 L837.912 1079.8 L829.602 1081.47 L829.602 1077.21 L837.866 1075.54 L842.542 1075.54 L842.542 1106.16 L850.18 1106.16 L850.18 1110.1 L830.273 1110.1 L830.273 1106.16 Z\" fill=\"#000000\" fill-rule=\"evenodd\" fill-opacity=\"1\" /><path clip-path=\"url(#clip890)\" d=\"M869.625 1078.62 Q866.014 1078.62 864.185 1082.18 Q862.379 1085.72 862.379 1092.85 Q862.379 1099.96 864.185 1103.53 Q866.014 1107.07 869.625 1107.07 Q873.259 1107.07 875.065 1103.53 Q876.893 1099.96 876.893 1092.85 Q876.893 1085.72 875.065 1082.18 Q873.259 1078.62 869.625 1078.62 M869.625 1074.91 Q875.435 1074.91 878.49 1079.52 Q881.569 1084.1 881.569 1092.85 Q881.569 1101.58 878.49 1106.19 Q875.435 1110.77 869.625 1110.77 Q863.815 1110.77 860.736 1106.19 Q857.68 1101.58 857.68 1092.85 Q857.68 1084.1 860.736 1079.52 Q863.815 1074.91 869.625 1074.91 Z\" fill=\"#000000\" fill-rule=\"evenodd\" fill-opacity=\"1\" /><path clip-path=\"url(#clip890)\" d=\"M1309.71 1106.16 L1317.35 1106.16 L1317.35 1079.8 L1309.04 1081.47 L1309.04 1077.21 L1317.3 1075.54 L1321.98 1075.54 L1321.98 1106.16 L1329.62 1106.16 L1329.62 1110.1 L1309.71 1110.1 L1309.71 1106.16 Z\" fill=\"#000000\" fill-rule=\"evenodd\" fill-opacity=\"1\" /><path clip-path=\"url(#clip890)\" d=\"M1339.11 1075.54 L1357.47 1075.54 L1357.47 1079.48 L1343.39 1079.48 L1343.39 1087.95 Q1344.41 1087.6 1345.43 1087.44 Q1346.45 1087.25 1347.47 1087.25 Q1353.25 1087.25 1356.63 1090.42 Q1360.01 1093.6 1360.01 1099.01 Q1360.01 1104.59 1356.54 1107.69 Q1353.07 1110.77 1346.75 1110.77 Q1344.57 1110.77 1342.3 1110.4 Q1340.06 1110.03 1337.65 1109.29 L1337.65 1104.59 Q1339.74 1105.72 1341.96 1106.28 Q1344.18 1106.84 1346.66 1106.84 Q1350.66 1106.84 1353 1104.73 Q1355.34 1102.62 1355.34 1099.01 Q1355.34 1095.4 1353 1093.29 Q1350.66 1091.19 1346.66 1091.19 Q1344.78 1091.19 1342.91 1091.6 Q1341.05 1092.02 1339.11 1092.9 L1339.11 1075.54 Z\" fill=\"#000000\" fill-rule=\"evenodd\" fill-opacity=\"1\" /><path clip-path=\"url(#clip890)\" d=\"M1792.24 1106.16 L1808.56 1106.16 L1808.56 1110.1 L1786.62 1110.1 L1786.62 1106.16 Q1789.28 1103.41 1793.86 1098.78 Q1798.47 1094.13 1799.65 1092.79 Q1801.89 1090.26 1802.77 1088.53 Q1803.68 1086.77 1803.68 1085.08 Q1803.68 1082.32 1801.73 1080.59 Q1799.81 1078.85 1796.71 1078.85 Q1794.51 1078.85 1792.06 1079.61 Q1789.63 1080.38 1786.85 1081.93 L1786.85 1077.21 Q1789.67 1076.07 1792.13 1075.49 Q1794.58 1074.91 1796.62 1074.91 Q1801.99 1074.91 1805.18 1077.6 Q1808.38 1080.29 1808.38 1084.78 Q1808.38 1086.91 1807.57 1088.83 Q1806.78 1090.72 1804.67 1093.32 Q1804.09 1093.99 1800.99 1097.21 Q1797.89 1100.4 1792.24 1106.16 Z\" fill=\"#000000\" fill-rule=\"evenodd\" fill-opacity=\"1\" /><path clip-path=\"url(#clip890)\" d=\"M1828.38 1078.62 Q1824.76 1078.62 1822.94 1082.18 Q1821.13 1085.72 1821.13 1092.85 Q1821.13 1099.96 1822.94 1103.53 Q1824.76 1107.07 1828.38 1107.07 Q1832.01 1107.07 1833.82 1103.53 Q1835.64 1099.96 1835.64 1092.85 Q1835.64 1085.72 1833.82 1082.18 Q1832.01 1078.62 1828.38 1078.62 M1828.38 1074.91 Q1834.19 1074.91 1837.24 1079.52 Q1840.32 1084.1 1840.32 1092.85 Q1840.32 1101.58 1837.24 1106.19 Q1834.19 1110.77 1828.38 1110.77 Q1822.57 1110.77 1819.49 1106.19 Q1816.43 1101.58 1816.43 1092.85 Q1816.43 1084.1 1819.49 1079.52 Q1822.57 1074.91 1828.38 1074.91 Z\" fill=\"#000000\" fill-rule=\"evenodd\" fill-opacity=\"1\" /><path clip-path=\"url(#clip890)\" d=\"M2271.68 1106.16 L2288 1106.16 L2288 1110.1 L2266.06 1110.1 L2266.06 1106.16 Q2268.72 1103.41 2273.3 1098.78 Q2277.91 1094.13 2279.09 1092.79 Q2281.33 1090.26 2282.21 1088.53 Q2283.12 1086.77 2283.12 1085.08 Q2283.12 1082.32 2281.17 1080.59 Q2279.25 1078.85 2276.15 1078.85 Q2273.95 1078.85 2271.5 1079.61 Q2269.06 1080.38 2266.29 1081.93 L2266.29 1077.21 Q2269.11 1076.07 2271.56 1075.49 Q2274.02 1074.91 2276.06 1074.91 Q2281.43 1074.91 2284.62 1077.6 Q2287.81 1080.29 2287.81 1084.78 Q2287.81 1086.91 2287 1088.83 Q2286.22 1090.72 2284.11 1093.32 Q2283.53 1093.99 2280.43 1097.21 Q2277.33 1100.4 2271.68 1106.16 Z\" fill=\"#000000\" fill-rule=\"evenodd\" fill-opacity=\"1\" /><path clip-path=\"url(#clip890)\" d=\"M2297.86 1075.54 L2316.22 1075.54 L2316.22 1079.48 L2302.14 1079.48 L2302.14 1087.95 Q2303.16 1087.6 2304.18 1087.44 Q2305.2 1087.25 2306.22 1087.25 Q2312 1087.25 2315.38 1090.42 Q2318.76 1093.6 2318.76 1099.01 Q2318.76 1104.59 2315.29 1107.69 Q2311.82 1110.77 2305.5 1110.77 Q2303.32 1110.77 2301.06 1110.4 Q2298.81 1110.03 2296.4 1109.29 L2296.4 1104.59 Q2298.49 1105.72 2300.71 1106.28 Q2302.93 1106.84 2305.41 1106.84 Q2309.41 1106.84 2311.75 1104.73 Q2314.09 1102.62 2314.09 1099.01 Q2314.09 1095.4 2311.75 1093.29 Q2309.41 1091.19 2305.41 1091.19 Q2303.53 1091.19 2301.66 1091.6 Q2299.81 1092.02 2297.86 1092.9 L2297.86 1075.54 Z\" fill=\"#000000\" fill-rule=\"evenodd\" fill-opacity=\"1\" /><path clip-path=\"url(#clip890)\" d=\"M1220.16 1146.6 L1220.16 1152.87 Q1216.5 1151.12 1213.25 1150.26 Q1210.01 1149.4 1206.98 1149.4 Q1201.73 1149.4 1198.87 1151.44 Q1196.03 1153.48 1196.03 1157.23 Q1196.03 1160.39 1197.91 1162.01 Q1199.82 1163.6 1205.1 1164.59 L1208.99 1165.38 Q1216.18 1166.75 1219.59 1170.22 Q1223.02 1173.66 1223.02 1179.45 Q1223.02 1186.36 1218.38 1189.92 Q1213.76 1193.49 1204.82 1193.49 Q1201.44 1193.49 1197.62 1192.72 Q1193.84 1191.96 1189.76 1190.46 L1189.76 1183.84 Q1193.68 1186.04 1197.43 1187.15 Q1201.19 1188.27 1204.82 1188.27 Q1210.32 1188.27 1213.32 1186.1 Q1216.31 1183.94 1216.31 1179.93 Q1216.31 1176.43 1214.14 1174.45 Q1212.01 1172.48 1207.11 1171.49 L1203.19 1170.73 Q1196 1169.3 1192.79 1166.24 Q1189.57 1163.19 1189.57 1157.74 Q1189.57 1151.44 1194 1147.81 Q1198.45 1144.18 1206.25 1144.18 Q1209.59 1144.18 1213.06 1144.79 Q1216.53 1145.39 1220.16 1146.6 Z\" fill=\"#000000\" fill-rule=\"evenodd\" fill-opacity=\"1\" /><path clip-path=\"url(#clip890)\" d=\"M1238.46 1187.22 L1238.46 1206.12 L1232.57 1206.12 L1232.57 1156.92 L1238.46 1156.92 L1238.46 1162.33 Q1240.31 1159.14 1243.11 1157.62 Q1245.94 1156.06 1249.85 1156.06 Q1256.35 1156.06 1260.39 1161.21 Q1264.46 1166.37 1264.46 1174.77 Q1264.46 1183.17 1260.39 1188.33 Q1256.35 1193.49 1249.85 1193.49 Q1245.94 1193.49 1243.11 1191.96 Q1240.31 1190.4 1238.46 1187.22 M1258.38 1174.77 Q1258.38 1168.31 1255.71 1164.65 Q1253.07 1160.96 1248.42 1160.96 Q1243.78 1160.96 1241.1 1164.65 Q1238.46 1168.31 1238.46 1174.77 Q1238.46 1181.23 1241.1 1184.92 Q1243.78 1188.59 1248.42 1188.59 Q1253.07 1188.59 1255.71 1184.92 Q1258.38 1181.23 1258.38 1174.77 Z\" fill=\"#000000\" fill-rule=\"evenodd\" fill-opacity=\"1\" /><path clip-path=\"url(#clip890)\" d=\"M1304.66 1173.28 L1304.66 1176.14 L1277.74 1176.14 Q1278.12 1182.19 1281.37 1185.37 Q1284.64 1188.52 1290.47 1188.52 Q1293.84 1188.52 1296.99 1187.69 Q1300.18 1186.87 1303.29 1185.21 L1303.29 1190.75 Q1300.14 1192.09 1296.83 1192.79 Q1293.52 1193.49 1290.12 1193.49 Q1281.59 1193.49 1276.59 1188.52 Q1271.63 1183.56 1271.63 1175.09 Q1271.63 1166.34 1276.34 1161.21 Q1281.08 1156.06 1289.1 1156.06 Q1296.29 1156.06 1300.46 1160.7 Q1304.66 1165.32 1304.66 1173.28 M1298.81 1171.56 Q1298.74 1166.75 1296.1 1163.89 Q1293.49 1161.02 1289.16 1161.02 Q1284.26 1161.02 1281.3 1163.79 Q1278.37 1166.56 1277.93 1171.59 L1298.81 1171.56 Z\" fill=\"#000000\" fill-rule=\"evenodd\" fill-opacity=\"1\" /><path clip-path=\"url(#clip890)\" d=\"M1344.77 1173.28 L1344.77 1176.14 L1317.84 1176.14 Q1318.22 1182.19 1321.47 1185.37 Q1324.75 1188.52 1330.57 1188.52 Q1333.95 1188.52 1337.1 1187.69 Q1340.28 1186.87 1343.4 1185.21 L1343.4 1190.75 Q1340.25 1192.09 1336.94 1192.79 Q1333.63 1193.49 1330.22 1193.49 Q1321.69 1193.49 1316.69 1188.52 Q1311.73 1183.56 1311.73 1175.09 Q1311.73 1166.34 1316.44 1161.21 Q1321.18 1156.06 1329.2 1156.06 Q1336.4 1156.06 1340.57 1160.7 Q1344.77 1165.32 1344.77 1173.28 M1338.91 1171.56 Q1338.85 1166.75 1336.21 1163.89 Q1333.6 1161.02 1329.27 1161.02 Q1324.37 1161.02 1321.41 1163.79 Q1318.48 1166.56 1318.03 1171.59 L1338.91 1171.56 Z\" fill=\"#000000\" fill-rule=\"evenodd\" fill-opacity=\"1\" /><path clip-path=\"url(#clip890)\" d=\"M1377.84 1162.33 L1377.84 1143.04 L1383.69 1143.04 L1383.69 1192.56 L1377.84 1192.56 L1377.84 1187.22 Q1375.99 1190.4 1373.16 1191.96 Q1370.36 1193.49 1366.41 1193.49 Q1359.95 1193.49 1355.88 1188.33 Q1351.83 1183.17 1351.83 1174.77 Q1351.83 1166.37 1355.88 1161.21 Q1359.95 1156.06 1366.41 1156.06 Q1370.36 1156.06 1373.16 1157.62 Q1375.99 1159.14 1377.84 1162.33 M1357.88 1174.77 Q1357.88 1181.23 1360.52 1184.92 Q1363.2 1188.59 1367.84 1188.59 Q1372.49 1188.59 1375.16 1184.92 Q1377.84 1181.23 1377.84 1174.77 Q1377.84 1168.31 1375.16 1164.65 Q1372.49 1160.96 1367.84 1160.96 Q1363.2 1160.96 1360.52 1164.65 Q1357.88 1168.31 1357.88 1174.77 Z\" fill=\"#000000\" fill-rule=\"evenodd\" fill-opacity=\"1\" /><polyline clip-path=\"url(#clip892)\" style=\"stroke:#000000; stroke-linecap:round; stroke-linejoin:round; stroke-width:2; stroke-opacity:0.1; fill:none\" points=\"\n",
       "  220.509,1035.38 2352.76,1035.38 \n",
       "  \"/>\n",
       "<polyline clip-path=\"url(#clip892)\" style=\"stroke:#000000; stroke-linecap:round; stroke-linejoin:round; stroke-width:2; stroke-opacity:0.1; fill:none\" points=\"\n",
       "  220.509,835.419 2352.76,835.419 \n",
       "  \"/>\n",
       "<polyline clip-path=\"url(#clip892)\" style=\"stroke:#000000; stroke-linecap:round; stroke-linejoin:round; stroke-width:2; stroke-opacity:0.1; fill:none\" points=\"\n",
       "  220.509,635.456 2352.76,635.456 \n",
       "  \"/>\n",
       "<polyline clip-path=\"url(#clip892)\" style=\"stroke:#000000; stroke-linecap:round; stroke-linejoin:round; stroke-width:2; stroke-opacity:0.1; fill:none\" points=\"\n",
       "  220.509,435.493 2352.76,435.493 \n",
       "  \"/>\n",
       "<polyline clip-path=\"url(#clip892)\" style=\"stroke:#000000; stroke-linecap:round; stroke-linejoin:round; stroke-width:2; stroke-opacity:0.1; fill:none\" points=\"\n",
       "  220.509,235.529 2352.76,235.529 \n",
       "  \"/>\n",
       "<polyline clip-path=\"url(#clip890)\" style=\"stroke:#000000; stroke-linecap:round; stroke-linejoin:round; stroke-width:4; stroke-opacity:1; fill:none\" points=\"\n",
       "  220.509,1047.7 220.509,47.2441 \n",
       "  \"/>\n",
       "<polyline clip-path=\"url(#clip890)\" style=\"stroke:#000000; stroke-linecap:round; stroke-linejoin:round; stroke-width:4; stroke-opacity:1; fill:none\" points=\"\n",
       "  220.509,1035.38 239.407,1035.38 \n",
       "  \"/>\n",
       "<polyline clip-path=\"url(#clip890)\" style=\"stroke:#000000; stroke-linecap:round; stroke-linejoin:round; stroke-width:4; stroke-opacity:1; fill:none\" points=\"\n",
       "  220.509,835.419 239.407,835.419 \n",
       "  \"/>\n",
       "<polyline clip-path=\"url(#clip890)\" style=\"stroke:#000000; stroke-linecap:round; stroke-linejoin:round; stroke-width:4; stroke-opacity:1; fill:none\" points=\"\n",
       "  220.509,635.456 239.407,635.456 \n",
       "  \"/>\n",
       "<polyline clip-path=\"url(#clip890)\" style=\"stroke:#000000; stroke-linecap:round; stroke-linejoin:round; stroke-width:4; stroke-opacity:1; fill:none\" points=\"\n",
       "  220.509,435.493 239.407,435.493 \n",
       "  \"/>\n",
       "<polyline clip-path=\"url(#clip890)\" style=\"stroke:#000000; stroke-linecap:round; stroke-linejoin:round; stroke-width:4; stroke-opacity:1; fill:none\" points=\"\n",
       "  220.509,235.529 239.407,235.529 \n",
       "  \"/>\n",
       "<path clip-path=\"url(#clip890)\" d=\"M172.565 1021.18 Q168.954 1021.18 167.125 1024.75 Q165.32 1028.29 165.32 1035.42 Q165.32 1042.52 167.125 1046.09 Q168.954 1049.63 172.565 1049.63 Q176.199 1049.63 178.005 1046.09 Q179.833 1042.52 179.833 1035.42 Q179.833 1028.29 178.005 1024.75 Q176.199 1021.18 172.565 1021.18 M172.565 1017.48 Q178.375 1017.48 181.431 1022.08 Q184.509 1026.67 184.509 1035.42 Q184.509 1044.14 181.431 1048.75 Q178.375 1053.33 172.565 1053.33 Q166.755 1053.33 163.676 1048.75 Q160.621 1044.14 160.621 1035.42 Q160.621 1026.67 163.676 1022.08 Q166.755 1017.48 172.565 1017.48 Z\" fill=\"#000000\" fill-rule=\"evenodd\" fill-opacity=\"1\" /><path clip-path=\"url(#clip890)\" d=\"M137.426 848.764 L153.746 848.764 L153.746 852.699 L131.801 852.699 L131.801 848.764 Q134.463 846.009 139.047 841.38 Q143.653 836.727 144.834 835.384 Q147.079 832.861 147.959 831.125 Q148.861 829.366 148.861 827.676 Q148.861 824.921 146.917 823.185 Q144.996 821.449 141.894 821.449 Q139.695 821.449 137.241 822.213 Q134.811 822.977 132.033 824.528 L132.033 819.806 Q134.857 818.671 137.311 818.093 Q139.764 817.514 141.801 817.514 Q147.172 817.514 150.366 820.199 Q153.56 822.884 153.56 827.375 Q153.56 829.505 152.75 831.426 Q151.963 833.324 149.857 835.917 Q149.278 836.588 146.176 839.805 Q143.074 843 137.426 848.764 Z\" fill=\"#000000\" fill-rule=\"evenodd\" fill-opacity=\"1\" /><path clip-path=\"url(#clip890)\" d=\"M163.607 818.139 L181.963 818.139 L181.963 822.074 L167.889 822.074 L167.889 830.546 Q168.908 830.199 169.926 830.037 Q170.945 829.852 171.963 829.852 Q177.75 829.852 181.13 833.023 Q184.509 836.194 184.509 841.611 Q184.509 847.19 181.037 850.292 Q177.565 853.37 171.246 853.37 Q169.07 853.37 166.801 853 Q164.556 852.629 162.148 851.889 L162.148 847.19 Q164.232 848.324 166.454 848.88 Q168.676 849.435 171.153 849.435 Q175.158 849.435 177.495 847.329 Q179.833 845.222 179.833 841.611 Q179.833 838 177.495 835.893 Q175.158 833.787 171.153 833.787 Q169.278 833.787 167.403 834.204 Q165.551 834.62 163.607 835.5 L163.607 818.139 Z\" fill=\"#000000\" fill-rule=\"evenodd\" fill-opacity=\"1\" /><path clip-path=\"url(#clip890)\" d=\"M132.449 618.176 L150.806 618.176 L150.806 622.111 L136.732 622.111 L136.732 630.583 Q137.75 630.236 138.769 630.074 Q139.787 629.889 140.806 629.889 Q146.593 629.889 149.972 633.06 Q153.352 636.231 153.352 641.648 Q153.352 647.227 149.88 650.328 Q146.408 653.407 140.088 653.407 Q137.912 653.407 135.644 653.037 Q133.399 652.666 130.991 651.926 L130.991 647.227 Q133.074 648.361 135.297 648.916 Q137.519 649.472 139.996 649.472 Q144 649.472 146.338 647.365 Q148.676 645.259 148.676 641.648 Q148.676 638.037 146.338 635.93 Q144 633.824 139.996 633.824 Q138.121 633.824 136.246 634.24 Q134.394 634.657 132.449 635.537 L132.449 618.176 Z\" fill=\"#000000\" fill-rule=\"evenodd\" fill-opacity=\"1\" /><path clip-path=\"url(#clip890)\" d=\"M172.565 621.254 Q168.954 621.254 167.125 624.819 Q165.32 628.361 165.32 635.49 Q165.32 642.597 167.125 646.162 Q168.954 649.703 172.565 649.703 Q176.199 649.703 178.005 646.162 Q179.833 642.597 179.833 635.49 Q179.833 628.361 178.005 624.819 Q176.199 621.254 172.565 621.254 M172.565 617.551 Q178.375 617.551 181.431 622.157 Q184.509 626.741 184.509 635.49 Q184.509 644.217 181.431 648.824 Q178.375 653.407 172.565 653.407 Q166.755 653.407 163.676 648.824 Q160.621 644.217 160.621 635.49 Q160.621 626.741 163.676 622.157 Q166.755 617.551 172.565 617.551 Z\" fill=\"#000000\" fill-rule=\"evenodd\" fill-opacity=\"1\" /><path clip-path=\"url(#clip890)\" d=\"M132.218 418.213 L154.44 418.213 L154.44 420.203 L141.894 452.773 L137.01 452.773 L148.815 422.148 L132.218 422.148 L132.218 418.213 Z\" fill=\"#000000\" fill-rule=\"evenodd\" fill-opacity=\"1\" /><path clip-path=\"url(#clip890)\" d=\"M163.607 418.213 L181.963 418.213 L181.963 422.148 L167.889 422.148 L167.889 430.62 Q168.908 430.273 169.926 430.111 Q170.945 429.925 171.963 429.925 Q177.75 429.925 181.13 433.097 Q184.509 436.268 184.509 441.685 Q184.509 447.263 181.037 450.365 Q177.565 453.444 171.246 453.444 Q169.07 453.444 166.801 453.074 Q164.556 452.703 162.148 451.962 L162.148 447.263 Q164.232 448.398 166.454 448.953 Q168.676 449.509 171.153 449.509 Q175.158 449.509 177.495 447.402 Q179.833 445.296 179.833 441.685 Q179.833 438.074 177.495 435.967 Q175.158 433.861 171.153 433.861 Q169.278 433.861 167.403 434.277 Q165.551 434.694 163.607 435.574 L163.607 418.213 Z\" fill=\"#000000\" fill-rule=\"evenodd\" fill-opacity=\"1\" /><path clip-path=\"url(#clip890)\" d=\"M103.051 248.874 L110.69 248.874 L110.69 222.509 L102.38 224.175 L102.38 219.916 L110.644 218.249 L115.32 218.249 L115.32 248.874 L122.959 248.874 L122.959 252.809 L103.051 252.809 L103.051 248.874 Z\" fill=\"#000000\" fill-rule=\"evenodd\" fill-opacity=\"1\" /><path clip-path=\"url(#clip890)\" d=\"M142.403 221.328 Q138.792 221.328 136.963 224.893 Q135.158 228.435 135.158 235.564 Q135.158 242.671 136.963 246.235 Q138.792 249.777 142.403 249.777 Q146.037 249.777 147.843 246.235 Q149.672 242.671 149.672 235.564 Q149.672 228.435 147.843 224.893 Q146.037 221.328 142.403 221.328 M142.403 217.624 Q148.213 217.624 151.269 222.231 Q154.347 226.814 154.347 235.564 Q154.347 244.291 151.269 248.897 Q148.213 253.481 142.403 253.481 Q136.593 253.481 133.514 248.897 Q130.459 244.291 130.459 235.564 Q130.459 226.814 133.514 222.231 Q136.593 217.624 142.403 217.624 Z\" fill=\"#000000\" fill-rule=\"evenodd\" fill-opacity=\"1\" /><path clip-path=\"url(#clip890)\" d=\"M172.565 221.328 Q168.954 221.328 167.125 224.893 Q165.32 228.435 165.32 235.564 Q165.32 242.671 167.125 246.235 Q168.954 249.777 172.565 249.777 Q176.199 249.777 178.005 246.235 Q179.833 242.671 179.833 235.564 Q179.833 228.435 178.005 224.893 Q176.199 221.328 172.565 221.328 M172.565 217.624 Q178.375 217.624 181.431 222.231 Q184.509 226.814 184.509 235.564 Q184.509 244.291 181.431 248.897 Q178.375 253.481 172.565 253.481 Q166.755 253.481 163.676 248.897 Q160.621 244.291 160.621 235.564 Q160.621 226.814 163.676 222.231 Q166.755 217.624 172.565 217.624 Z\" fill=\"#000000\" fill-rule=\"evenodd\" fill-opacity=\"1\" /><path clip-path=\"url(#clip890)\" d=\"M9.88769 600.976 L46.8406 600.976 L46.8406 593.21 Q46.8406 583.375 42.3846 578.823 Q37.9286 574.24 28.3164 574.24 Q18.7679 574.24 14.3437 578.823 Q9.88769 583.375 9.88769 593.21 L9.88769 600.976 M4.60416 607.405 L4.60416 594.196 Q4.60416 580.383 10.3651 573.921 Q16.0943 567.46 28.3164 567.46 Q40.6022 567.46 46.3632 573.953 Q52.1242 580.446 52.1242 594.196 L52.1242 607.405 L4.60416 607.405 Z\" fill=\"#000000\" fill-rule=\"evenodd\" fill-opacity=\"1\" /><path clip-path=\"url(#clip890)\" d=\"M16.4762 557.466 L16.4762 551.61 L52.1242 551.61 L52.1242 557.466 L16.4762 557.466 M2.59896 557.466 L2.59896 551.61 L10.015 551.61 L10.015 557.466 L2.59896 557.466 Z\" fill=\"#000000\" fill-rule=\"evenodd\" fill-opacity=\"1\" /><path clip-path=\"url(#clip890)\" d=\"M17.5265 516.63 L23.0647 516.63 Q21.7916 519.113 21.155 521.786 Q20.5184 524.46 20.5184 527.325 Q20.5184 531.685 21.8552 533.881 Q23.192 536.046 25.8656 536.046 Q27.9026 536.046 29.0803 534.486 Q30.2261 532.926 31.2765 528.216 L31.7221 526.211 Q33.0589 519.972 35.5097 517.362 Q37.9286 514.72 42.2891 514.72 Q47.2544 514.72 50.1508 518.667 Q53.0472 522.582 53.0472 529.457 Q53.0472 532.322 52.4743 535.441 Q51.9332 538.528 50.8192 541.966 L44.7718 541.966 Q46.4587 538.719 47.318 535.568 Q48.1456 532.417 48.1456 529.33 Q48.1456 525.192 46.7451 522.964 Q45.3129 520.736 42.7347 520.736 Q40.3476 520.736 39.0745 522.359 Q37.8013 523.951 36.6237 529.393 L36.1462 531.43 Q35.0004 536.873 32.6451 539.292 Q30.258 541.711 26.1202 541.711 Q21.0913 541.711 18.3541 538.146 Q15.6168 534.581 15.6168 528.025 Q15.6168 524.778 16.0943 521.914 Q16.5717 519.049 17.5265 516.63 Z\" fill=\"#000000\" fill-rule=\"evenodd\" fill-opacity=\"1\" /><path clip-path=\"url(#clip890)\" d=\"M6.35473 499.602 L16.4762 499.602 L16.4762 487.539 L21.0277 487.539 L21.0277 499.602 L40.3794 499.602 Q44.7399 499.602 45.9813 498.424 Q47.2226 497.215 47.2226 493.554 L47.2226 487.539 L52.1242 487.539 L52.1242 493.554 Q52.1242 500.334 49.6097 502.912 Q47.0634 505.49 40.3794 505.49 L21.0277 505.49 L21.0277 509.787 L16.4762 509.787 L16.4762 505.49 L6.35473 505.49 L6.35473 499.602 Z\" fill=\"#000000\" fill-rule=\"evenodd\" fill-opacity=\"1\" /><circle clip-path=\"url(#clip892)\" cx=\"280.856\" cy=\"1019.39\" r=\"14.4\" fill=\"#009af9\" fill-rule=\"evenodd\" fill-opacity=\"1\" stroke=\"#000000\" stroke-opacity=\"1\" stroke-width=\"2.4\"/>\n",
       "<circle clip-path=\"url(#clip892)\" cx=\"280.856\" cy=\"955.397\" r=\"14.4\" fill=\"#009af9\" fill-rule=\"evenodd\" fill-opacity=\"1\" stroke=\"#000000\" stroke-opacity=\"1\" stroke-width=\"2.4\"/>\n",
       "<circle clip-path=\"url(#clip892)\" cx=\"568.221\" cy=\"1003.39\" r=\"14.4\" fill=\"#009af9\" fill-rule=\"evenodd\" fill-opacity=\"1\" stroke=\"#000000\" stroke-opacity=\"1\" stroke-width=\"2.4\"/>\n",
       "<circle clip-path=\"url(#clip892)\" cx=\"568.221\" cy=\"859.415\" r=\"14.4\" fill=\"#009af9\" fill-rule=\"evenodd\" fill-opacity=\"1\" stroke=\"#000000\" stroke-opacity=\"1\" stroke-width=\"2.4\"/>\n",
       "<circle clip-path=\"url(#clip892)\" cx=\"664.009\" cy=\"907.406\" r=\"14.4\" fill=\"#009af9\" fill-rule=\"evenodd\" fill-opacity=\"1\" stroke=\"#000000\" stroke-opacity=\"1\" stroke-width=\"2.4\"/>\n",
       "<circle clip-path=\"url(#clip892)\" cx=\"759.797\" cy=\"955.397\" r=\"14.4\" fill=\"#009af9\" fill-rule=\"evenodd\" fill-opacity=\"1\" stroke=\"#000000\" stroke-opacity=\"1\" stroke-width=\"2.4\"/>\n",
       "<circle clip-path=\"url(#clip892)\" cx=\"855.585\" cy=\"891.409\" r=\"14.4\" fill=\"#009af9\" fill-rule=\"evenodd\" fill-opacity=\"1\" stroke=\"#000000\" stroke-opacity=\"1\" stroke-width=\"2.4\"/>\n",
       "<circle clip-path=\"url(#clip892)\" cx=\"855.585\" cy=\"827.42\" r=\"14.4\" fill=\"#009af9\" fill-rule=\"evenodd\" fill-opacity=\"1\" stroke=\"#000000\" stroke-opacity=\"1\" stroke-width=\"2.4\"/>\n",
       "<circle clip-path=\"url(#clip892)\" cx=\"855.585\" cy=\"763.432\" r=\"14.4\" fill=\"#009af9\" fill-rule=\"evenodd\" fill-opacity=\"1\" stroke=\"#000000\" stroke-opacity=\"1\" stroke-width=\"2.4\"/>\n",
       "<circle clip-path=\"url(#clip892)\" cx=\"951.374\" cy=\"899.407\" r=\"14.4\" fill=\"#009af9\" fill-rule=\"evenodd\" fill-opacity=\"1\" stroke=\"#000000\" stroke-opacity=\"1\" stroke-width=\"2.4\"/>\n",
       "<circle clip-path=\"url(#clip892)\" cx=\"951.374\" cy=\"811.423\" r=\"14.4\" fill=\"#009af9\" fill-rule=\"evenodd\" fill-opacity=\"1\" stroke=\"#000000\" stroke-opacity=\"1\" stroke-width=\"2.4\"/>\n",
       "<circle clip-path=\"url(#clip892)\" cx=\"1047.16\" cy=\"923.403\" r=\"14.4\" fill=\"#009af9\" fill-rule=\"evenodd\" fill-opacity=\"1\" stroke=\"#000000\" stroke-opacity=\"1\" stroke-width=\"2.4\"/>\n",
       "<circle clip-path=\"url(#clip892)\" cx=\"1047.16\" cy=\"875.412\" r=\"14.4\" fill=\"#009af9\" fill-rule=\"evenodd\" fill-opacity=\"1\" stroke=\"#000000\" stroke-opacity=\"1\" stroke-width=\"2.4\"/>\n",
       "<circle clip-path=\"url(#clip892)\" cx=\"1047.16\" cy=\"843.417\" r=\"14.4\" fill=\"#009af9\" fill-rule=\"evenodd\" fill-opacity=\"1\" stroke=\"#000000\" stroke-opacity=\"1\" stroke-width=\"2.4\"/>\n",
       "<circle clip-path=\"url(#clip892)\" cx=\"1047.16\" cy=\"811.423\" r=\"14.4\" fill=\"#009af9\" fill-rule=\"evenodd\" fill-opacity=\"1\" stroke=\"#000000\" stroke-opacity=\"1\" stroke-width=\"2.4\"/>\n",
       "<circle clip-path=\"url(#clip892)\" cx=\"1142.95\" cy=\"827.42\" r=\"14.4\" fill=\"#009af9\" fill-rule=\"evenodd\" fill-opacity=\"1\" stroke=\"#000000\" stroke-opacity=\"1\" stroke-width=\"2.4\"/>\n",
       "<circle clip-path=\"url(#clip892)\" cx=\"1142.95\" cy=\"763.432\" r=\"14.4\" fill=\"#009af9\" fill-rule=\"evenodd\" fill-opacity=\"1\" stroke=\"#000000\" stroke-opacity=\"1\" stroke-width=\"2.4\"/>\n",
       "<circle clip-path=\"url(#clip892)\" cx=\"1142.95\" cy=\"763.432\" r=\"14.4\" fill=\"#009af9\" fill-rule=\"evenodd\" fill-opacity=\"1\" stroke=\"#000000\" stroke-opacity=\"1\" stroke-width=\"2.4\"/>\n",
       "<circle clip-path=\"url(#clip892)\" cx=\"1142.95\" cy=\"667.45\" r=\"14.4\" fill=\"#009af9\" fill-rule=\"evenodd\" fill-opacity=\"1\" stroke=\"#000000\" stroke-opacity=\"1\" stroke-width=\"2.4\"/>\n",
       "<circle clip-path=\"url(#clip892)\" cx=\"1238.74\" cy=\"827.42\" r=\"14.4\" fill=\"#009af9\" fill-rule=\"evenodd\" fill-opacity=\"1\" stroke=\"#000000\" stroke-opacity=\"1\" stroke-width=\"2.4\"/>\n",
       "<circle clip-path=\"url(#clip892)\" cx=\"1238.74\" cy=\"747.435\" r=\"14.4\" fill=\"#009af9\" fill-rule=\"evenodd\" fill-opacity=\"1\" stroke=\"#000000\" stroke-opacity=\"1\" stroke-width=\"2.4\"/>\n",
       "<circle clip-path=\"url(#clip892)\" cx=\"1238.74\" cy=\"555.47\" r=\"14.4\" fill=\"#009af9\" fill-rule=\"evenodd\" fill-opacity=\"1\" stroke=\"#000000\" stroke-opacity=\"1\" stroke-width=\"2.4\"/>\n",
       "<circle clip-path=\"url(#clip892)\" cx=\"1238.74\" cy=\"395.5\" r=\"14.4\" fill=\"#009af9\" fill-rule=\"evenodd\" fill-opacity=\"1\" stroke=\"#000000\" stroke-opacity=\"1\" stroke-width=\"2.4\"/>\n",
       "<circle clip-path=\"url(#clip892)\" cx=\"1334.53\" cy=\"875.412\" r=\"14.4\" fill=\"#009af9\" fill-rule=\"evenodd\" fill-opacity=\"1\" stroke=\"#000000\" stroke-opacity=\"1\" stroke-width=\"2.4\"/>\n",
       "<circle clip-path=\"url(#clip892)\" cx=\"1334.53\" cy=\"827.42\" r=\"14.4\" fill=\"#009af9\" fill-rule=\"evenodd\" fill-opacity=\"1\" stroke=\"#000000\" stroke-opacity=\"1\" stroke-width=\"2.4\"/>\n",
       "<circle clip-path=\"url(#clip892)\" cx=\"1334.53\" cy=\"603.462\" r=\"14.4\" fill=\"#009af9\" fill-rule=\"evenodd\" fill-opacity=\"1\" stroke=\"#000000\" stroke-opacity=\"1\" stroke-width=\"2.4\"/>\n",
       "<circle clip-path=\"url(#clip892)\" cx=\"1430.32\" cy=\"779.429\" r=\"14.4\" fill=\"#009af9\" fill-rule=\"evenodd\" fill-opacity=\"1\" stroke=\"#000000\" stroke-opacity=\"1\" stroke-width=\"2.4\"/>\n",
       "<circle clip-path=\"url(#clip892)\" cx=\"1430.32\" cy=\"715.441\" r=\"14.4\" fill=\"#009af9\" fill-rule=\"evenodd\" fill-opacity=\"1\" stroke=\"#000000\" stroke-opacity=\"1\" stroke-width=\"2.4\"/>\n",
       "<circle clip-path=\"url(#clip892)\" cx=\"1526.1\" cy=\"779.429\" r=\"14.4\" fill=\"#009af9\" fill-rule=\"evenodd\" fill-opacity=\"1\" stroke=\"#000000\" stroke-opacity=\"1\" stroke-width=\"2.4\"/>\n",
       "<circle clip-path=\"url(#clip892)\" cx=\"1526.1\" cy=\"715.441\" r=\"14.4\" fill=\"#009af9\" fill-rule=\"evenodd\" fill-opacity=\"1\" stroke=\"#000000\" stroke-opacity=\"1\" stroke-width=\"2.4\"/>\n",
       "<circle clip-path=\"url(#clip892)\" cx=\"1526.1\" cy=\"635.456\" r=\"14.4\" fill=\"#009af9\" fill-rule=\"evenodd\" fill-opacity=\"1\" stroke=\"#000000\" stroke-opacity=\"1\" stroke-width=\"2.4\"/>\n",
       "<circle clip-path=\"url(#clip892)\" cx=\"1621.89\" cy=\"699.444\" r=\"14.4\" fill=\"#009af9\" fill-rule=\"evenodd\" fill-opacity=\"1\" stroke=\"#000000\" stroke-opacity=\"1\" stroke-width=\"2.4\"/>\n",
       "<circle clip-path=\"url(#clip892)\" cx=\"1621.89\" cy=\"587.465\" r=\"14.4\" fill=\"#009af9\" fill-rule=\"evenodd\" fill-opacity=\"1\" stroke=\"#000000\" stroke-opacity=\"1\" stroke-width=\"2.4\"/>\n",
       "<circle clip-path=\"url(#clip892)\" cx=\"1621.89\" cy=\"427.494\" r=\"14.4\" fill=\"#009af9\" fill-rule=\"evenodd\" fill-opacity=\"1\" stroke=\"#000000\" stroke-opacity=\"1\" stroke-width=\"2.4\"/>\n",
       "<circle clip-path=\"url(#clip892)\" cx=\"1621.89\" cy=\"363.506\" r=\"14.4\" fill=\"#009af9\" fill-rule=\"evenodd\" fill-opacity=\"1\" stroke=\"#000000\" stroke-opacity=\"1\" stroke-width=\"2.4\"/>\n",
       "<circle clip-path=\"url(#clip892)\" cx=\"1717.68\" cy=\"747.435\" r=\"14.4\" fill=\"#009af9\" fill-rule=\"evenodd\" fill-opacity=\"1\" stroke=\"#000000\" stroke-opacity=\"1\" stroke-width=\"2.4\"/>\n",
       "<circle clip-path=\"url(#clip892)\" cx=\"1717.68\" cy=\"667.45\" r=\"14.4\" fill=\"#009af9\" fill-rule=\"evenodd\" fill-opacity=\"1\" stroke=\"#000000\" stroke-opacity=\"1\" stroke-width=\"2.4\"/>\n",
       "<circle clip-path=\"url(#clip892)\" cx=\"1717.68\" cy=\"491.482\" r=\"14.4\" fill=\"#009af9\" fill-rule=\"evenodd\" fill-opacity=\"1\" stroke=\"#000000\" stroke-opacity=\"1\" stroke-width=\"2.4\"/>\n",
       "<circle clip-path=\"url(#clip892)\" cx=\"1813.47\" cy=\"779.429\" r=\"14.4\" fill=\"#009af9\" fill-rule=\"evenodd\" fill-opacity=\"1\" stroke=\"#000000\" stroke-opacity=\"1\" stroke-width=\"2.4\"/>\n",
       "<circle clip-path=\"url(#clip892)\" cx=\"1813.47\" cy=\"651.453\" r=\"14.4\" fill=\"#009af9\" fill-rule=\"evenodd\" fill-opacity=\"1\" stroke=\"#000000\" stroke-opacity=\"1\" stroke-width=\"2.4\"/>\n",
       "<circle clip-path=\"url(#clip892)\" cx=\"1813.47\" cy=\"619.459\" r=\"14.4\" fill=\"#009af9\" fill-rule=\"evenodd\" fill-opacity=\"1\" stroke=\"#000000\" stroke-opacity=\"1\" stroke-width=\"2.4\"/>\n",
       "<circle clip-path=\"url(#clip892)\" cx=\"1813.47\" cy=\"587.465\" r=\"14.4\" fill=\"#009af9\" fill-rule=\"evenodd\" fill-opacity=\"1\" stroke=\"#000000\" stroke-opacity=\"1\" stroke-width=\"2.4\"/>\n",
       "<circle clip-path=\"url(#clip892)\" cx=\"1813.47\" cy=\"523.476\" r=\"14.4\" fill=\"#009af9\" fill-rule=\"evenodd\" fill-opacity=\"1\" stroke=\"#000000\" stroke-opacity=\"1\" stroke-width=\"2.4\"/>\n",
       "<circle clip-path=\"url(#clip892)\" cx=\"2005.04\" cy=\"507.479\" r=\"14.4\" fill=\"#009af9\" fill-rule=\"evenodd\" fill-opacity=\"1\" stroke=\"#000000\" stroke-opacity=\"1\" stroke-width=\"2.4\"/>\n",
       "<circle clip-path=\"url(#clip892)\" cx=\"2100.83\" cy=\"603.462\" r=\"14.4\" fill=\"#009af9\" fill-rule=\"evenodd\" fill-opacity=\"1\" stroke=\"#000000\" stroke-opacity=\"1\" stroke-width=\"2.4\"/>\n",
       "<circle clip-path=\"url(#clip892)\" cx=\"2196.62\" cy=\"475.485\" r=\"14.4\" fill=\"#009af9\" fill-rule=\"evenodd\" fill-opacity=\"1\" stroke=\"#000000\" stroke-opacity=\"1\" stroke-width=\"2.4\"/>\n",
       "<circle clip-path=\"url(#clip892)\" cx=\"2196.62\" cy=\"299.518\" r=\"14.4\" fill=\"#009af9\" fill-rule=\"evenodd\" fill-opacity=\"1\" stroke=\"#000000\" stroke-opacity=\"1\" stroke-width=\"2.4\"/>\n",
       "<circle clip-path=\"url(#clip892)\" cx=\"2196.62\" cy=\"291.519\" r=\"14.4\" fill=\"#009af9\" fill-rule=\"evenodd\" fill-opacity=\"1\" stroke=\"#000000\" stroke-opacity=\"1\" stroke-width=\"2.4\"/>\n",
       "<circle clip-path=\"url(#clip892)\" cx=\"2196.62\" cy=\"75.5589\" r=\"14.4\" fill=\"#009af9\" fill-rule=\"evenodd\" fill-opacity=\"1\" stroke=\"#000000\" stroke-opacity=\"1\" stroke-width=\"2.4\"/>\n",
       "<circle clip-path=\"url(#clip892)\" cx=\"2292.41\" cy=\"355.507\" r=\"14.4\" fill=\"#009af9\" fill-rule=\"evenodd\" fill-opacity=\"1\" stroke=\"#000000\" stroke-opacity=\"1\" stroke-width=\"2.4\"/>\n",
       "</svg>\n"
      ]
     },
     "execution_count": 7,
     "metadata": {},
     "output_type": "execute_result"
    }
   ],
   "source": [
    "scatter(data_cars[:,\"Speed\"], data_cars[:,\"Dist\"], \n",
    "            legend=false, \n",
    "            xlabel = \"Speed\",\n",
    "            ylabel = \"Dist\",\n",
    "            size = (600,300))"
   ]
  },
  {
   "cell_type": "markdown",
   "metadata": {},
   "source": [
    "We want to estimate the linear dependence of these variables using regression.\n",
    "\n",
    "Both variables are one-dimensional. i.e."
   ]
  },
  {
   "cell_type": "code",
   "execution_count": 8,
   "metadata": {},
   "outputs": [],
   "source": [
    "D = 1; N = 1;"
   ]
  },
  {
   "cell_type": "markdown",
   "metadata": {},
   "source": [
    "## Splitting the Data"
   ]
  },
  {
   "cell_type": "markdown",
   "metadata": {},
   "source": [
    "We split the data into training and testing data.\n",
    "\n",
    "The choice should be random and $75\\%$ of the data should be training data."
   ]
  },
  {
   "cell_type": "code",
   "execution_count": 9,
   "metadata": {},
   "outputs": [
    {
     "data": {
      "text/plain": [
       "38"
      ]
     },
     "execution_count": 9,
     "metadata": {},
     "output_type": "execute_result"
    }
   ],
   "source": [
    "k = size(data_cars, 1)\n",
    "n = round(Int, k * 0.75)"
   ]
  },
  {
   "cell_type": "markdown",
   "metadata": {},
   "source": [
    "We store the training data in the vectors `X` und `Y`."
   ]
  },
  {
   "cell_type": "code",
   "execution_count": 10,
   "metadata": {},
   "outputs": [],
   "source": [
    "i_training = sample(1:k, n, replace = false)\n",
    "X = data_cars[i_training,\"Speed\"]\n",
    "Y = data_cars[i_training,\"Dist\"];"
   ]
  },
  {
   "cell_type": "markdown",
   "metadata": {},
   "source": [
    "We store the test data in the vectors `X_test` and `Y_test`."
   ]
  },
  {
   "cell_type": "code",
   "execution_count": 11,
   "metadata": {},
   "outputs": [],
   "source": [
    "i_test = setdiff(1:k, i_training)\n",
    "X_test = data_cars[i_test,\"Speed\"]\n",
    "Y_test = data_cars[i_test,\"Dist\"];"
   ]
  },
  {
   "cell_type": "markdown",
   "metadata": {},
   "source": [
    "## Definition of the Model\n",
    "\n",
    "We now define the deterministic linear model $f:\\mathbb R^D \\to \\mathbb R^N$:"
   ]
  },
  {
   "cell_type": "code",
   "execution_count": 12,
   "metadata": {},
   "outputs": [],
   "source": [
    "f(x::Number, θ) = θ[2] * x + θ[1];"
   ]
  },
  {
   "cell_type": "markdown",
   "metadata": {},
   "source": [
    "Since $N=1$ we can specify the type `Number` for `x`.\n",
    "\n",
    "It will also be helpful later to use multiple dispatch to extend the definition of `f` to include vectors."
   ]
  },
  {
   "cell_type": "code",
   "execution_count": 13,
   "metadata": {},
   "outputs": [
    {
     "data": {
      "text/plain": [
       "f (generic function with 2 methods)"
      ]
     },
     "execution_count": 13,
     "metadata": {},
     "output_type": "execute_result"
    }
   ],
   "source": [
    "f(X::Vector, θ) = [f(x, θ) for x in X]"
   ]
  },
  {
   "cell_type": "markdown",
   "metadata": {},
   "source": [
    "We continue to define the statistical model for the variance $\\sigma^2=10$."
   ]
  },
  {
   "cell_type": "code",
   "execution_count": 14,
   "metadata": {},
   "outputs": [],
   "source": [
    "σ² = 10\n",
    "s = sqrt(σ²)\n",
    "Φ(x::Number, θ) = s * randn() + f(x, θ)\n",
    "Φ(X::Vector, θ) = [Φ(x, θ) for x in X];"
   ]
  },
  {
   "cell_type": "markdown",
   "metadata": {},
   "source": [
    "We also define the feature matrix."
   ]
  },
  {
   "cell_type": "code",
   "execution_count": 15,
   "metadata": {},
   "outputs": [],
   "source": [
    "Ω = [ones(n) X];"
   ]
  },
  {
   "cell_type": "markdown",
   "metadata": {},
   "source": [
    "---\n",
    "## Training"
   ]
  },
  {
   "cell_type": "markdown",
   "metadata": {},
   "source": [
    "Now we train our model using different methods."
   ]
  },
  {
   "cell_type": "markdown",
   "metadata": {},
   "source": [
    "#### Empirical Risk Minimization\n",
    "\n",
    "With ERM, the parameter is given by $\\theta = \\Omega^\\dagger Y$.\n",
    "\n",
    "We calculate this parameter as follows:"
   ]
  },
  {
   "cell_type": "code",
   "execution_count": 16,
   "metadata": {},
   "outputs": [
    {
     "data": {
      "text/plain": [
       "2-element Vector{Float64}:\n",
       " -19.676355902162346\n",
       "   4.105472691080628"
      ]
     },
     "execution_count": 16,
     "metadata": {},
     "output_type": "execute_result"
    }
   ],
   "source": [
    "θ_ERM = Ω \\ Y"
   ]
  },
  {
   "cell_type": "markdown",
   "metadata": {},
   "source": [
    "ERM estimated the following parameters for $f_\\theta(x)=ax+b$."
   ]
  },
  {
   "cell_type": "code",
   "execution_count": 17,
   "metadata": {},
   "outputs": [
    {
     "name": "stdout",
     "output_type": "stream",
     "text": [
      "a = 4.105472691080628, b = -19.676355902162346\n"
     ]
    }
   ],
   "source": [
    "println(\"a = $(θ_ERM[2]), b = $(θ_ERM[1])\")"
   ]
  },
  {
   "cell_type": "markdown",
   "metadata": {},
   "source": [
    "We visualize the estimated function along with the training data."
   ]
  },
  {
   "cell_type": "code",
   "execution_count": 18,
   "metadata": {},
   "outputs": [
    {
     "data": {
      "image/svg+xml": [
       "<?xml version=\"1.0\" encoding=\"utf-8\"?>\n",
       "<svg xmlns=\"http://www.w3.org/2000/svg\" xmlns:xlink=\"http://www.w3.org/1999/xlink\" width=\"600\" height=\"300\" viewBox=\"0 0 2400 1200\">\n",
       "<defs>\n",
       "  <clipPath id=\"clip930\">\n",
       "    <rect x=\"0\" y=\"0\" width=\"2400\" height=\"1200\"/>\n",
       "  </clipPath>\n",
       "</defs>\n",
       "<path clip-path=\"url(#clip930)\" d=\"\n",
       "M0 1200 L2400 1200 L2400 0 L0 0  Z\n",
       "  \" fill=\"#ffffff\" fill-rule=\"evenodd\" fill-opacity=\"1\"/>\n",
       "<defs>\n",
       "  <clipPath id=\"clip931\">\n",
       "    <rect x=\"480\" y=\"0\" width=\"1681\" height=\"1200\"/>\n",
       "  </clipPath>\n",
       "</defs>\n",
       "<path clip-path=\"url(#clip930)\" d=\"\n",
       "M220.509 1047.7 L2352.76 1047.7 L2352.76 47.2441 L220.509 47.2441  Z\n",
       "  \" fill=\"#ffffff\" fill-rule=\"evenodd\" fill-opacity=\"1\"/>\n",
       "<defs>\n",
       "  <clipPath id=\"clip932\">\n",
       "    <rect x=\"220\" y=\"47\" width=\"2133\" height=\"1001\"/>\n",
       "  </clipPath>\n",
       "</defs>\n",
       "<polyline clip-path=\"url(#clip932)\" style=\"stroke:#000000; stroke-linecap:round; stroke-linejoin:round; stroke-width:2; stroke-opacity:0.1; fill:none\" points=\"\n",
       "  463.724,1047.7 463.724,47.2441 \n",
       "  \"/>\n",
       "<polyline clip-path=\"url(#clip932)\" style=\"stroke:#000000; stroke-linecap:round; stroke-linejoin:round; stroke-width:2; stroke-opacity:0.1; fill:none\" points=\"\n",
       "  920.896,1047.7 920.896,47.2441 \n",
       "  \"/>\n",
       "<polyline clip-path=\"url(#clip932)\" style=\"stroke:#000000; stroke-linecap:round; stroke-linejoin:round; stroke-width:2; stroke-opacity:0.1; fill:none\" points=\"\n",
       "  1378.07,1047.7 1378.07,47.2441 \n",
       "  \"/>\n",
       "<polyline clip-path=\"url(#clip932)\" style=\"stroke:#000000; stroke-linecap:round; stroke-linejoin:round; stroke-width:2; stroke-opacity:0.1; fill:none\" points=\"\n",
       "  1835.24,1047.7 1835.24,47.2441 \n",
       "  \"/>\n",
       "<polyline clip-path=\"url(#clip932)\" style=\"stroke:#000000; stroke-linecap:round; stroke-linejoin:round; stroke-width:2; stroke-opacity:0.1; fill:none\" points=\"\n",
       "  2292.41,1047.7 2292.41,47.2441 \n",
       "  \"/>\n",
       "<polyline clip-path=\"url(#clip930)\" style=\"stroke:#000000; stroke-linecap:round; stroke-linejoin:round; stroke-width:4; stroke-opacity:1; fill:none\" points=\"\n",
       "  220.509,1047.7 2352.76,1047.7 \n",
       "  \"/>\n",
       "<polyline clip-path=\"url(#clip930)\" style=\"stroke:#000000; stroke-linecap:round; stroke-linejoin:round; stroke-width:4; stroke-opacity:1; fill:none\" points=\"\n",
       "  463.724,1047.7 463.724,1028.8 \n",
       "  \"/>\n",
       "<polyline clip-path=\"url(#clip930)\" style=\"stroke:#000000; stroke-linecap:round; stroke-linejoin:round; stroke-width:4; stroke-opacity:1; fill:none\" points=\"\n",
       "  920.896,1047.7 920.896,1028.8 \n",
       "  \"/>\n",
       "<polyline clip-path=\"url(#clip930)\" style=\"stroke:#000000; stroke-linecap:round; stroke-linejoin:round; stroke-width:4; stroke-opacity:1; fill:none\" points=\"\n",
       "  1378.07,1047.7 1378.07,1028.8 \n",
       "  \"/>\n",
       "<polyline clip-path=\"url(#clip930)\" style=\"stroke:#000000; stroke-linecap:round; stroke-linejoin:round; stroke-width:4; stroke-opacity:1; fill:none\" points=\"\n",
       "  1835.24,1047.7 1835.24,1028.8 \n",
       "  \"/>\n",
       "<polyline clip-path=\"url(#clip930)\" style=\"stroke:#000000; stroke-linecap:round; stroke-linejoin:round; stroke-width:4; stroke-opacity:1; fill:none\" points=\"\n",
       "  2292.41,1047.7 2292.41,1028.8 \n",
       "  \"/>\n",
       "<path clip-path=\"url(#clip930)\" d=\"M454.002 1075.54 L472.359 1075.54 L472.359 1079.48 L458.285 1079.48 L458.285 1087.95 Q459.303 1087.6 460.322 1087.44 Q461.34 1087.25 462.359 1087.25 Q468.146 1087.25 471.525 1090.42 Q474.905 1093.6 474.905 1099.01 Q474.905 1104.59 471.433 1107.69 Q467.961 1110.77 461.641 1110.77 Q459.465 1110.77 457.197 1110.4 Q454.951 1110.03 452.544 1109.29 L452.544 1104.59 Q454.627 1105.72 456.849 1106.28 Q459.072 1106.84 461.549 1106.84 Q465.553 1106.84 467.891 1104.73 Q470.229 1102.62 470.229 1099.01 Q470.229 1095.4 467.891 1093.29 Q465.553 1091.19 461.549 1091.19 Q459.674 1091.19 457.799 1091.6 Q455.947 1092.02 454.002 1092.9 L454.002 1075.54 Z\" fill=\"#000000\" fill-rule=\"evenodd\" fill-opacity=\"1\" /><path clip-path=\"url(#clip930)\" d=\"M895.583 1106.16 L903.222 1106.16 L903.222 1079.8 L894.912 1081.47 L894.912 1077.21 L903.176 1075.54 L907.852 1075.54 L907.852 1106.16 L915.491 1106.16 L915.491 1110.1 L895.583 1110.1 L895.583 1106.16 Z\" fill=\"#000000\" fill-rule=\"evenodd\" fill-opacity=\"1\" /><path clip-path=\"url(#clip930)\" d=\"M934.935 1078.62 Q931.324 1078.62 929.495 1082.18 Q927.69 1085.72 927.69 1092.85 Q927.69 1099.96 929.495 1103.53 Q931.324 1107.07 934.935 1107.07 Q938.569 1107.07 940.375 1103.53 Q942.203 1099.96 942.203 1092.85 Q942.203 1085.72 940.375 1082.18 Q938.569 1078.62 934.935 1078.62 M934.935 1074.91 Q940.745 1074.91 943.801 1079.52 Q946.879 1084.1 946.879 1092.85 Q946.879 1101.58 943.801 1106.19 Q940.745 1110.77 934.935 1110.77 Q929.125 1110.77 926.046 1106.19 Q922.991 1101.58 922.991 1092.85 Q922.991 1084.1 926.046 1079.52 Q929.125 1074.91 934.935 1074.91 Z\" fill=\"#000000\" fill-rule=\"evenodd\" fill-opacity=\"1\" /><path clip-path=\"url(#clip930)\" d=\"M1353.25 1106.16 L1360.89 1106.16 L1360.89 1079.8 L1352.58 1081.47 L1352.58 1077.21 L1360.84 1075.54 L1365.52 1075.54 L1365.52 1106.16 L1373.16 1106.16 L1373.16 1110.1 L1353.25 1110.1 L1353.25 1106.16 Z\" fill=\"#000000\" fill-rule=\"evenodd\" fill-opacity=\"1\" /><path clip-path=\"url(#clip930)\" d=\"M1382.65 1075.54 L1401.01 1075.54 L1401.01 1079.48 L1386.93 1079.48 L1386.93 1087.95 Q1387.95 1087.6 1388.97 1087.44 Q1389.99 1087.25 1391.01 1087.25 Q1396.79 1087.25 1400.17 1090.42 Q1403.55 1093.6 1403.55 1099.01 Q1403.55 1104.59 1400.08 1107.69 Q1396.61 1110.77 1390.29 1110.77 Q1388.11 1110.77 1385.84 1110.4 Q1383.6 1110.03 1381.19 1109.29 L1381.19 1104.59 Q1383.28 1105.72 1385.5 1106.28 Q1387.72 1106.84 1390.2 1106.84 Q1394.2 1106.84 1396.54 1104.73 Q1398.88 1102.62 1398.88 1099.01 Q1398.88 1095.4 1396.54 1093.29 Q1394.2 1091.19 1390.2 1091.19 Q1388.32 1091.19 1386.45 1091.6 Q1384.59 1092.02 1382.65 1092.9 L1382.65 1075.54 Z\" fill=\"#000000\" fill-rule=\"evenodd\" fill-opacity=\"1\" /><path clip-path=\"url(#clip930)\" d=\"M1814.01 1106.16 L1830.33 1106.16 L1830.33 1110.1 L1808.39 1110.1 L1808.39 1106.16 Q1811.05 1103.41 1815.63 1098.78 Q1820.24 1094.13 1821.42 1092.79 Q1823.66 1090.26 1824.54 1088.53 Q1825.45 1086.77 1825.45 1085.08 Q1825.45 1082.32 1823.5 1080.59 Q1821.58 1078.85 1818.48 1078.85 Q1816.28 1078.85 1813.83 1079.61 Q1811.4 1080.38 1808.62 1081.93 L1808.62 1077.21 Q1811.44 1076.07 1813.9 1075.49 Q1816.35 1074.91 1818.39 1074.91 Q1823.76 1074.91 1826.95 1077.6 Q1830.15 1080.29 1830.15 1084.78 Q1830.15 1086.91 1829.34 1088.83 Q1828.55 1090.72 1826.44 1093.32 Q1825.86 1093.99 1822.76 1097.21 Q1819.66 1100.4 1814.01 1106.16 Z\" fill=\"#000000\" fill-rule=\"evenodd\" fill-opacity=\"1\" /><path clip-path=\"url(#clip930)\" d=\"M1850.15 1078.62 Q1846.53 1078.62 1844.71 1082.18 Q1842.9 1085.72 1842.9 1092.85 Q1842.9 1099.96 1844.71 1103.53 Q1846.53 1107.07 1850.15 1107.07 Q1853.78 1107.07 1855.59 1103.53 Q1857.41 1099.96 1857.41 1092.85 Q1857.41 1085.72 1855.59 1082.18 Q1853.78 1078.62 1850.15 1078.62 M1850.15 1074.91 Q1855.96 1074.91 1859.01 1079.52 Q1862.09 1084.1 1862.09 1092.85 Q1862.09 1101.58 1859.01 1106.19 Q1855.96 1110.77 1850.15 1110.77 Q1844.34 1110.77 1841.26 1106.19 Q1838.2 1101.58 1838.2 1092.85 Q1838.2 1084.1 1841.26 1079.52 Q1844.34 1074.91 1850.15 1074.91 Z\" fill=\"#000000\" fill-rule=\"evenodd\" fill-opacity=\"1\" /><path clip-path=\"url(#clip930)\" d=\"M2271.68 1106.16 L2288 1106.16 L2288 1110.1 L2266.06 1110.1 L2266.06 1106.16 Q2268.72 1103.41 2273.3 1098.78 Q2277.91 1094.13 2279.09 1092.79 Q2281.33 1090.26 2282.21 1088.53 Q2283.12 1086.77 2283.12 1085.08 Q2283.12 1082.32 2281.17 1080.59 Q2279.25 1078.85 2276.15 1078.85 Q2273.95 1078.85 2271.5 1079.61 Q2269.06 1080.38 2266.29 1081.93 L2266.29 1077.21 Q2269.11 1076.07 2271.56 1075.49 Q2274.02 1074.91 2276.06 1074.91 Q2281.43 1074.91 2284.62 1077.6 Q2287.81 1080.29 2287.81 1084.78 Q2287.81 1086.91 2287 1088.83 Q2286.22 1090.72 2284.11 1093.32 Q2283.53 1093.99 2280.43 1097.21 Q2277.33 1100.4 2271.68 1106.16 Z\" fill=\"#000000\" fill-rule=\"evenodd\" fill-opacity=\"1\" /><path clip-path=\"url(#clip930)\" d=\"M2297.86 1075.54 L2316.22 1075.54 L2316.22 1079.48 L2302.14 1079.48 L2302.14 1087.95 Q2303.16 1087.6 2304.18 1087.44 Q2305.2 1087.25 2306.22 1087.25 Q2312 1087.25 2315.38 1090.42 Q2318.76 1093.6 2318.76 1099.01 Q2318.76 1104.59 2315.29 1107.69 Q2311.82 1110.77 2305.5 1110.77 Q2303.32 1110.77 2301.06 1110.4 Q2298.81 1110.03 2296.4 1109.29 L2296.4 1104.59 Q2298.49 1105.72 2300.71 1106.28 Q2302.93 1106.84 2305.41 1106.84 Q2309.41 1106.84 2311.75 1104.73 Q2314.09 1102.62 2314.09 1099.01 Q2314.09 1095.4 2311.75 1093.29 Q2309.41 1091.19 2305.41 1091.19 Q2303.53 1091.19 2301.66 1091.6 Q2299.81 1092.02 2297.86 1092.9 L2297.86 1075.54 Z\" fill=\"#000000\" fill-rule=\"evenodd\" fill-opacity=\"1\" /><path clip-path=\"url(#clip930)\" d=\"M1220.16 1146.6 L1220.16 1152.87 Q1216.5 1151.12 1213.25 1150.26 Q1210.01 1149.4 1206.98 1149.4 Q1201.73 1149.4 1198.87 1151.44 Q1196.03 1153.48 1196.03 1157.23 Q1196.03 1160.39 1197.91 1162.01 Q1199.82 1163.6 1205.1 1164.59 L1208.99 1165.38 Q1216.18 1166.75 1219.59 1170.22 Q1223.02 1173.66 1223.02 1179.45 Q1223.02 1186.36 1218.38 1189.92 Q1213.76 1193.49 1204.82 1193.49 Q1201.44 1193.49 1197.62 1192.72 Q1193.84 1191.96 1189.76 1190.46 L1189.76 1183.84 Q1193.68 1186.04 1197.43 1187.15 Q1201.19 1188.27 1204.82 1188.27 Q1210.32 1188.27 1213.32 1186.1 Q1216.31 1183.94 1216.31 1179.93 Q1216.31 1176.43 1214.14 1174.45 Q1212.01 1172.48 1207.11 1171.49 L1203.19 1170.73 Q1196 1169.3 1192.79 1166.24 Q1189.57 1163.19 1189.57 1157.74 Q1189.57 1151.44 1194 1147.81 Q1198.45 1144.18 1206.25 1144.18 Q1209.59 1144.18 1213.06 1144.79 Q1216.53 1145.39 1220.16 1146.6 Z\" fill=\"#000000\" fill-rule=\"evenodd\" fill-opacity=\"1\" /><path clip-path=\"url(#clip930)\" d=\"M1238.46 1187.22 L1238.46 1206.12 L1232.57 1206.12 L1232.57 1156.92 L1238.46 1156.92 L1238.46 1162.33 Q1240.31 1159.14 1243.11 1157.62 Q1245.94 1156.06 1249.85 1156.06 Q1256.35 1156.06 1260.39 1161.21 Q1264.46 1166.37 1264.46 1174.77 Q1264.46 1183.17 1260.39 1188.33 Q1256.35 1193.49 1249.85 1193.49 Q1245.94 1193.49 1243.11 1191.96 Q1240.31 1190.4 1238.46 1187.22 M1258.38 1174.77 Q1258.38 1168.31 1255.71 1164.65 Q1253.07 1160.96 1248.42 1160.96 Q1243.78 1160.96 1241.1 1164.65 Q1238.46 1168.31 1238.46 1174.77 Q1238.46 1181.23 1241.1 1184.92 Q1243.78 1188.59 1248.42 1188.59 Q1253.07 1188.59 1255.71 1184.92 Q1258.38 1181.23 1258.38 1174.77 Z\" fill=\"#000000\" fill-rule=\"evenodd\" fill-opacity=\"1\" /><path clip-path=\"url(#clip930)\" d=\"M1304.66 1173.28 L1304.66 1176.14 L1277.74 1176.14 Q1278.12 1182.19 1281.37 1185.37 Q1284.64 1188.52 1290.47 1188.52 Q1293.84 1188.52 1296.99 1187.69 Q1300.18 1186.87 1303.29 1185.21 L1303.29 1190.75 Q1300.14 1192.09 1296.83 1192.79 Q1293.52 1193.49 1290.12 1193.49 Q1281.59 1193.49 1276.59 1188.52 Q1271.63 1183.56 1271.63 1175.09 Q1271.63 1166.34 1276.34 1161.21 Q1281.08 1156.06 1289.1 1156.06 Q1296.29 1156.06 1300.46 1160.7 Q1304.66 1165.32 1304.66 1173.28 M1298.81 1171.56 Q1298.74 1166.75 1296.1 1163.89 Q1293.49 1161.02 1289.16 1161.02 Q1284.26 1161.02 1281.3 1163.79 Q1278.37 1166.56 1277.93 1171.59 L1298.81 1171.56 Z\" fill=\"#000000\" fill-rule=\"evenodd\" fill-opacity=\"1\" /><path clip-path=\"url(#clip930)\" d=\"M1344.77 1173.28 L1344.77 1176.14 L1317.84 1176.14 Q1318.22 1182.19 1321.47 1185.37 Q1324.75 1188.52 1330.57 1188.52 Q1333.95 1188.52 1337.1 1187.69 Q1340.28 1186.87 1343.4 1185.21 L1343.4 1190.75 Q1340.25 1192.09 1336.94 1192.79 Q1333.63 1193.49 1330.22 1193.49 Q1321.69 1193.49 1316.69 1188.52 Q1311.73 1183.56 1311.73 1175.09 Q1311.73 1166.34 1316.44 1161.21 Q1321.18 1156.06 1329.2 1156.06 Q1336.4 1156.06 1340.57 1160.7 Q1344.77 1165.32 1344.77 1173.28 M1338.91 1171.56 Q1338.85 1166.75 1336.21 1163.89 Q1333.6 1161.02 1329.27 1161.02 Q1324.37 1161.02 1321.41 1163.79 Q1318.48 1166.56 1318.03 1171.59 L1338.91 1171.56 Z\" fill=\"#000000\" fill-rule=\"evenodd\" fill-opacity=\"1\" /><path clip-path=\"url(#clip930)\" d=\"M1377.84 1162.33 L1377.84 1143.04 L1383.69 1143.04 L1383.69 1192.56 L1377.84 1192.56 L1377.84 1187.22 Q1375.99 1190.4 1373.16 1191.96 Q1370.36 1193.49 1366.41 1193.49 Q1359.95 1193.49 1355.88 1188.33 Q1351.83 1183.17 1351.83 1174.77 Q1351.83 1166.37 1355.88 1161.21 Q1359.95 1156.06 1366.41 1156.06 Q1370.36 1156.06 1373.16 1157.62 Q1375.99 1159.14 1377.84 1162.33 M1357.88 1174.77 Q1357.88 1181.23 1360.52 1184.92 Q1363.2 1188.59 1367.84 1188.59 Q1372.49 1188.59 1375.16 1184.92 Q1377.84 1181.23 1377.84 1174.77 Q1377.84 1168.31 1375.16 1164.65 Q1372.49 1160.96 1367.84 1160.96 Q1363.2 1160.96 1360.52 1164.65 Q1357.88 1168.31 1357.88 1174.77 Z\" fill=\"#000000\" fill-rule=\"evenodd\" fill-opacity=\"1\" /><polyline clip-path=\"url(#clip932)\" style=\"stroke:#000000; stroke-linecap:round; stroke-linejoin:round; stroke-width:2; stroke-opacity:0.1; fill:none\" points=\"\n",
       "  220.509,964.843 2352.76,964.843 \n",
       "  \"/>\n",
       "<polyline clip-path=\"url(#clip932)\" style=\"stroke:#000000; stroke-linecap:round; stroke-linejoin:round; stroke-width:2; stroke-opacity:0.1; fill:none\" points=\"\n",
       "  220.509,779.575 2352.76,779.575 \n",
       "  \"/>\n",
       "<polyline clip-path=\"url(#clip932)\" style=\"stroke:#000000; stroke-linecap:round; stroke-linejoin:round; stroke-width:2; stroke-opacity:0.1; fill:none\" points=\"\n",
       "  220.509,594.308 2352.76,594.308 \n",
       "  \"/>\n",
       "<polyline clip-path=\"url(#clip932)\" style=\"stroke:#000000; stroke-linecap:round; stroke-linejoin:round; stroke-width:2; stroke-opacity:0.1; fill:none\" points=\"\n",
       "  220.509,409.04 2352.76,409.04 \n",
       "  \"/>\n",
       "<polyline clip-path=\"url(#clip932)\" style=\"stroke:#000000; stroke-linecap:round; stroke-linejoin:round; stroke-width:2; stroke-opacity:0.1; fill:none\" points=\"\n",
       "  220.509,223.773 2352.76,223.773 \n",
       "  \"/>\n",
       "<polyline clip-path=\"url(#clip930)\" style=\"stroke:#000000; stroke-linecap:round; stroke-linejoin:round; stroke-width:4; stroke-opacity:1; fill:none\" points=\"\n",
       "  220.509,1047.7 220.509,47.2441 \n",
       "  \"/>\n",
       "<polyline clip-path=\"url(#clip930)\" style=\"stroke:#000000; stroke-linecap:round; stroke-linejoin:round; stroke-width:4; stroke-opacity:1; fill:none\" points=\"\n",
       "  220.509,964.843 239.407,964.843 \n",
       "  \"/>\n",
       "<polyline clip-path=\"url(#clip930)\" style=\"stroke:#000000; stroke-linecap:round; stroke-linejoin:round; stroke-width:4; stroke-opacity:1; fill:none\" points=\"\n",
       "  220.509,779.575 239.407,779.575 \n",
       "  \"/>\n",
       "<polyline clip-path=\"url(#clip930)\" style=\"stroke:#000000; stroke-linecap:round; stroke-linejoin:round; stroke-width:4; stroke-opacity:1; fill:none\" points=\"\n",
       "  220.509,594.308 239.407,594.308 \n",
       "  \"/>\n",
       "<polyline clip-path=\"url(#clip930)\" style=\"stroke:#000000; stroke-linecap:round; stroke-linejoin:round; stroke-width:4; stroke-opacity:1; fill:none\" points=\"\n",
       "  220.509,409.04 239.407,409.04 \n",
       "  \"/>\n",
       "<polyline clip-path=\"url(#clip930)\" style=\"stroke:#000000; stroke-linecap:round; stroke-linejoin:round; stroke-width:4; stroke-opacity:1; fill:none\" points=\"\n",
       "  220.509,223.773 239.407,223.773 \n",
       "  \"/>\n",
       "<path clip-path=\"url(#clip930)\" d=\"M172.565 950.641 Q168.954 950.641 167.125 954.206 Q165.32 957.748 165.32 964.877 Q165.32 971.984 167.125 975.549 Q168.954 979.09 172.565 979.09 Q176.199 979.09 178.005 975.549 Q179.833 971.984 179.833 964.877 Q179.833 957.748 178.005 954.206 Q176.199 950.641 172.565 950.641 M172.565 946.938 Q178.375 946.938 181.431 951.544 Q184.509 956.128 184.509 964.877 Q184.509 973.604 181.431 978.211 Q178.375 982.794 172.565 982.794 Q166.755 982.794 163.676 978.211 Q160.621 973.604 160.621 964.877 Q160.621 956.128 163.676 951.544 Q166.755 946.938 172.565 946.938 Z\" fill=\"#000000\" fill-rule=\"evenodd\" fill-opacity=\"1\" /><path clip-path=\"url(#clip930)\" d=\"M137.426 792.92 L153.746 792.92 L153.746 796.855 L131.801 796.855 L131.801 792.92 Q134.463 790.166 139.047 785.536 Q143.653 780.883 144.834 779.541 Q147.079 777.017 147.959 775.281 Q148.861 773.522 148.861 771.832 Q148.861 769.078 146.917 767.342 Q144.996 765.605 141.894 765.605 Q139.695 765.605 137.241 766.369 Q134.811 767.133 132.033 768.684 L132.033 763.962 Q134.857 762.828 137.311 762.249 Q139.764 761.67 141.801 761.67 Q147.172 761.67 150.366 764.355 Q153.56 767.041 153.56 771.531 Q153.56 773.661 152.75 775.582 Q151.963 777.48 149.857 780.073 Q149.278 780.744 146.176 783.962 Q143.074 787.156 137.426 792.92 Z\" fill=\"#000000\" fill-rule=\"evenodd\" fill-opacity=\"1\" /><path clip-path=\"url(#clip930)\" d=\"M163.607 762.295 L181.963 762.295 L181.963 766.23 L167.889 766.23 L167.889 774.703 Q168.908 774.355 169.926 774.193 Q170.945 774.008 171.963 774.008 Q177.75 774.008 181.13 777.179 Q184.509 780.351 184.509 785.767 Q184.509 791.346 181.037 794.448 Q177.565 797.527 171.246 797.527 Q169.07 797.527 166.801 797.156 Q164.556 796.786 162.148 796.045 L162.148 791.346 Q164.232 792.48 166.454 793.036 Q168.676 793.591 171.153 793.591 Q175.158 793.591 177.495 791.485 Q179.833 789.378 179.833 785.767 Q179.833 782.156 177.495 780.05 Q175.158 777.943 171.153 777.943 Q169.278 777.943 167.403 778.36 Q165.551 778.777 163.607 779.656 L163.607 762.295 Z\" fill=\"#000000\" fill-rule=\"evenodd\" fill-opacity=\"1\" /><path clip-path=\"url(#clip930)\" d=\"M132.449 577.028 L150.806 577.028 L150.806 580.963 L136.732 580.963 L136.732 589.435 Q137.75 589.088 138.769 588.926 Q139.787 588.741 140.806 588.741 Q146.593 588.741 149.972 591.912 Q153.352 595.083 153.352 600.5 Q153.352 606.079 149.88 609.18 Q146.408 612.259 140.088 612.259 Q137.912 612.259 135.644 611.889 Q133.399 611.518 130.991 610.778 L130.991 606.079 Q133.074 607.213 135.297 607.768 Q137.519 608.324 139.996 608.324 Q144 608.324 146.338 606.217 Q148.676 604.111 148.676 600.5 Q148.676 596.889 146.338 594.782 Q144 592.676 139.996 592.676 Q138.121 592.676 136.246 593.093 Q134.394 593.509 132.449 594.389 L132.449 577.028 Z\" fill=\"#000000\" fill-rule=\"evenodd\" fill-opacity=\"1\" /><path clip-path=\"url(#clip930)\" d=\"M172.565 580.107 Q168.954 580.107 167.125 583.671 Q165.32 587.213 165.32 594.343 Q165.32 601.449 167.125 605.014 Q168.954 608.555 172.565 608.555 Q176.199 608.555 178.005 605.014 Q179.833 601.449 179.833 594.343 Q179.833 587.213 178.005 583.671 Q176.199 580.107 172.565 580.107 M172.565 576.403 Q178.375 576.403 181.431 581.009 Q184.509 585.593 184.509 594.343 Q184.509 603.069 181.431 607.676 Q178.375 612.259 172.565 612.259 Q166.755 612.259 163.676 607.676 Q160.621 603.069 160.621 594.343 Q160.621 585.593 163.676 581.009 Q166.755 576.403 172.565 576.403 Z\" fill=\"#000000\" fill-rule=\"evenodd\" fill-opacity=\"1\" /><path clip-path=\"url(#clip930)\" d=\"M132.218 391.76 L154.44 391.76 L154.44 393.751 L141.894 426.32 L137.01 426.32 L148.815 395.696 L132.218 395.696 L132.218 391.76 Z\" fill=\"#000000\" fill-rule=\"evenodd\" fill-opacity=\"1\" /><path clip-path=\"url(#clip930)\" d=\"M163.607 391.76 L181.963 391.76 L181.963 395.696 L167.889 395.696 L167.889 404.168 Q168.908 403.82 169.926 403.658 Q170.945 403.473 171.963 403.473 Q177.75 403.473 181.13 406.645 Q184.509 409.816 184.509 415.232 Q184.509 420.811 181.037 423.913 Q177.565 426.992 171.246 426.992 Q169.07 426.992 166.801 426.621 Q164.556 426.251 162.148 425.51 L162.148 420.811 Q164.232 421.945 166.454 422.501 Q168.676 423.056 171.153 423.056 Q175.158 423.056 177.495 420.95 Q179.833 418.844 179.833 415.232 Q179.833 411.621 177.495 409.515 Q175.158 407.408 171.153 407.408 Q169.278 407.408 167.403 407.825 Q165.551 408.242 163.607 409.121 L163.607 391.76 Z\" fill=\"#000000\" fill-rule=\"evenodd\" fill-opacity=\"1\" /><path clip-path=\"url(#clip930)\" d=\"M103.051 237.118 L110.69 237.118 L110.69 210.752 L102.38 212.419 L102.38 208.16 L110.644 206.493 L115.32 206.493 L115.32 237.118 L122.959 237.118 L122.959 241.053 L103.051 241.053 L103.051 237.118 Z\" fill=\"#000000\" fill-rule=\"evenodd\" fill-opacity=\"1\" /><path clip-path=\"url(#clip930)\" d=\"M142.403 209.572 Q138.792 209.572 136.963 213.136 Q135.158 216.678 135.158 223.808 Q135.158 230.914 136.963 234.479 Q138.792 238.02 142.403 238.02 Q146.037 238.02 147.843 234.479 Q149.672 230.914 149.672 223.808 Q149.672 216.678 147.843 213.136 Q146.037 209.572 142.403 209.572 M142.403 205.868 Q148.213 205.868 151.269 210.474 Q154.347 215.058 154.347 223.808 Q154.347 232.534 151.269 237.141 Q148.213 241.724 142.403 241.724 Q136.593 241.724 133.514 237.141 Q130.459 232.534 130.459 223.808 Q130.459 215.058 133.514 210.474 Q136.593 205.868 142.403 205.868 Z\" fill=\"#000000\" fill-rule=\"evenodd\" fill-opacity=\"1\" /><path clip-path=\"url(#clip930)\" d=\"M172.565 209.572 Q168.954 209.572 167.125 213.136 Q165.32 216.678 165.32 223.808 Q165.32 230.914 167.125 234.479 Q168.954 238.02 172.565 238.02 Q176.199 238.02 178.005 234.479 Q179.833 230.914 179.833 223.808 Q179.833 216.678 178.005 213.136 Q176.199 209.572 172.565 209.572 M172.565 205.868 Q178.375 205.868 181.431 210.474 Q184.509 215.058 184.509 223.808 Q184.509 232.534 181.431 237.141 Q178.375 241.724 172.565 241.724 Q166.755 241.724 163.676 237.141 Q160.621 232.534 160.621 223.808 Q160.621 215.058 163.676 210.474 Q166.755 205.868 172.565 205.868 Z\" fill=\"#000000\" fill-rule=\"evenodd\" fill-opacity=\"1\" /><path clip-path=\"url(#clip930)\" d=\"M9.88769 600.976 L46.8406 600.976 L46.8406 593.21 Q46.8406 583.375 42.3846 578.823 Q37.9286 574.24 28.3164 574.24 Q18.7679 574.24 14.3437 578.823 Q9.88769 583.375 9.88769 593.21 L9.88769 600.976 M4.60416 607.405 L4.60416 594.196 Q4.60416 580.383 10.3651 573.921 Q16.0943 567.46 28.3164 567.46 Q40.6022 567.46 46.3632 573.953 Q52.1242 580.446 52.1242 594.196 L52.1242 607.405 L4.60416 607.405 Z\" fill=\"#000000\" fill-rule=\"evenodd\" fill-opacity=\"1\" /><path clip-path=\"url(#clip930)\" d=\"M16.4762 557.466 L16.4762 551.61 L52.1242 551.61 L52.1242 557.466 L16.4762 557.466 M2.59896 557.466 L2.59896 551.61 L10.015 551.61 L10.015 557.466 L2.59896 557.466 Z\" fill=\"#000000\" fill-rule=\"evenodd\" fill-opacity=\"1\" /><path clip-path=\"url(#clip930)\" d=\"M17.5265 516.63 L23.0647 516.63 Q21.7916 519.113 21.155 521.786 Q20.5184 524.46 20.5184 527.325 Q20.5184 531.685 21.8552 533.881 Q23.192 536.046 25.8656 536.046 Q27.9026 536.046 29.0803 534.486 Q30.2261 532.926 31.2765 528.216 L31.7221 526.211 Q33.0589 519.972 35.5097 517.362 Q37.9286 514.72 42.2891 514.72 Q47.2544 514.72 50.1508 518.667 Q53.0472 522.582 53.0472 529.457 Q53.0472 532.322 52.4743 535.441 Q51.9332 538.528 50.8192 541.966 L44.7718 541.966 Q46.4587 538.719 47.318 535.568 Q48.1456 532.417 48.1456 529.33 Q48.1456 525.192 46.7451 522.964 Q45.3129 520.736 42.7347 520.736 Q40.3476 520.736 39.0745 522.359 Q37.8013 523.951 36.6237 529.393 L36.1462 531.43 Q35.0004 536.873 32.6451 539.292 Q30.258 541.711 26.1202 541.711 Q21.0913 541.711 18.3541 538.146 Q15.6168 534.581 15.6168 528.025 Q15.6168 524.778 16.0943 521.914 Q16.5717 519.049 17.5265 516.63 Z\" fill=\"#000000\" fill-rule=\"evenodd\" fill-opacity=\"1\" /><path clip-path=\"url(#clip930)\" d=\"M6.35473 499.602 L16.4762 499.602 L16.4762 487.539 L21.0277 487.539 L21.0277 499.602 L40.3794 499.602 Q44.7399 499.602 45.9813 498.424 Q47.2226 497.215 47.2226 493.554 L47.2226 487.539 L52.1242 487.539 L52.1242 493.554 Q52.1242 500.334 49.6097 502.912 Q47.0634 505.49 40.3794 505.49 L21.0277 505.49 L21.0277 509.787 L16.4762 509.787 L16.4762 505.49 L6.35473 505.49 L6.35473 499.602 Z\" fill=\"#000000\" fill-rule=\"evenodd\" fill-opacity=\"1\" /><circle clip-path=\"url(#clip932)\" cx=\"1743.8\" cy=\"460.915\" r=\"14.4\" fill=\"#009af9\" fill-rule=\"evenodd\" fill-opacity=\"1\" stroke=\"#000000\" stroke-opacity=\"1\" stroke-width=\"2.4\"/>\n",
       "<circle clip-path=\"url(#clip932)\" cx=\"1743.8\" cy=\"698.058\" r=\"14.4\" fill=\"#009af9\" fill-rule=\"evenodd\" fill-opacity=\"1\" stroke=\"#000000\" stroke-opacity=\"1\" stroke-width=\"2.4\"/>\n",
       "<circle clip-path=\"url(#clip932)\" cx=\"372.29\" cy=\"890.736\" r=\"14.4\" fill=\"#009af9\" fill-rule=\"evenodd\" fill-opacity=\"1\" stroke=\"#000000\" stroke-opacity=\"1\" stroke-width=\"2.4\"/>\n",
       "<circle clip-path=\"url(#clip932)\" cx=\"920.896\" cy=\"712.879\" r=\"14.4\" fill=\"#009af9\" fill-rule=\"evenodd\" fill-opacity=\"1\" stroke=\"#000000\" stroke-opacity=\"1\" stroke-width=\"2.4\"/>\n",
       "<circle clip-path=\"url(#clip932)\" cx=\"1378.07\" cy=\"816.629\" r=\"14.4\" fill=\"#009af9\" fill-rule=\"evenodd\" fill-opacity=\"1\" stroke=\"#000000\" stroke-opacity=\"1\" stroke-width=\"2.4\"/>\n",
       "<circle clip-path=\"url(#clip932)\" cx=\"2200.98\" cy=\"283.058\" r=\"14.4\" fill=\"#009af9\" fill-rule=\"evenodd\" fill-opacity=\"1\" stroke=\"#000000\" stroke-opacity=\"1\" stroke-width=\"2.4\"/>\n",
       "<circle clip-path=\"url(#clip932)\" cx=\"646.593\" cy=\"935.2\" r=\"14.4\" fill=\"#009af9\" fill-rule=\"evenodd\" fill-opacity=\"1\" stroke=\"#000000\" stroke-opacity=\"1\" stroke-width=\"2.4\"/>\n",
       "<circle clip-path=\"url(#clip932)\" cx=\"372.29\" cy=\"950.021\" r=\"14.4\" fill=\"#009af9\" fill-rule=\"evenodd\" fill-opacity=\"1\" stroke=\"#000000\" stroke-opacity=\"1\" stroke-width=\"2.4\"/>\n",
       "<circle clip-path=\"url(#clip932)\" cx=\"1560.94\" cy=\"668.415\" r=\"14.4\" fill=\"#009af9\" fill-rule=\"evenodd\" fill-opacity=\"1\" stroke=\"#000000\" stroke-opacity=\"1\" stroke-width=\"2.4\"/>\n",
       "<circle clip-path=\"url(#clip932)\" cx=\"1835.24\" cy=\"579.486\" r=\"14.4\" fill=\"#009af9\" fill-rule=\"evenodd\" fill-opacity=\"1\" stroke=\"#000000\" stroke-opacity=\"1\" stroke-width=\"2.4\"/>\n",
       "<circle clip-path=\"url(#clip932)\" cx=\"1835.24\" cy=\"727.7\" r=\"14.4\" fill=\"#009af9\" fill-rule=\"evenodd\" fill-opacity=\"1\" stroke=\"#000000\" stroke-opacity=\"1\" stroke-width=\"2.4\"/>\n",
       "<circle clip-path=\"url(#clip932)\" cx=\"1835.24\" cy=\"549.844\" r=\"14.4\" fill=\"#009af9\" fill-rule=\"evenodd\" fill-opacity=\"1\" stroke=\"#000000\" stroke-opacity=\"1\" stroke-width=\"2.4\"/>\n",
       "<circle clip-path=\"url(#clip932)\" cx=\"1835.24\" cy=\"490.558\" r=\"14.4\" fill=\"#009af9\" fill-rule=\"evenodd\" fill-opacity=\"1\" stroke=\"#000000\" stroke-opacity=\"1\" stroke-width=\"2.4\"/>\n",
       "<circle clip-path=\"url(#clip932)\" cx=\"2200.98\" cy=\"446.094\" r=\"14.4\" fill=\"#009af9\" fill-rule=\"evenodd\" fill-opacity=\"1\" stroke=\"#000000\" stroke-opacity=\"1\" stroke-width=\"2.4\"/>\n",
       "<circle clip-path=\"url(#clip932)\" cx=\"1103.76\" cy=\"861.093\" r=\"14.4\" fill=\"#009af9\" fill-rule=\"evenodd\" fill-opacity=\"1\" stroke=\"#000000\" stroke-opacity=\"1\" stroke-width=\"2.4\"/>\n",
       "<circle clip-path=\"url(#clip932)\" cx=\"1195.2\" cy=\"712.879\" r=\"14.4\" fill=\"#009af9\" fill-rule=\"evenodd\" fill-opacity=\"1\" stroke=\"#000000\" stroke-opacity=\"1\" stroke-width=\"2.4\"/>\n",
       "<circle clip-path=\"url(#clip932)\" cx=\"1652.37\" cy=\"653.593\" r=\"14.4\" fill=\"#009af9\" fill-rule=\"evenodd\" fill-opacity=\"1\" stroke=\"#000000\" stroke-opacity=\"1\" stroke-width=\"2.4\"/>\n",
       "<circle clip-path=\"url(#clip932)\" cx=\"1195.2\" cy=\"712.879\" r=\"14.4\" fill=\"#009af9\" fill-rule=\"evenodd\" fill-opacity=\"1\" stroke=\"#000000\" stroke-opacity=\"1\" stroke-width=\"2.4\"/>\n",
       "<circle clip-path=\"url(#clip932)\" cx=\"1560.94\" cy=\"727.7\" r=\"14.4\" fill=\"#009af9\" fill-rule=\"evenodd\" fill-opacity=\"1\" stroke=\"#000000\" stroke-opacity=\"1\" stroke-width=\"2.4\"/>\n",
       "<circle clip-path=\"url(#clip932)\" cx=\"2200.98\" cy=\"75.5589\" r=\"14.4\" fill=\"#009af9\" fill-rule=\"evenodd\" fill-opacity=\"1\" stroke=\"#000000\" stroke-opacity=\"1\" stroke-width=\"2.4\"/>\n",
       "<circle clip-path=\"url(#clip932)\" cx=\"1286.63\" cy=\"371.987\" r=\"14.4\" fill=\"#009af9\" fill-rule=\"evenodd\" fill-opacity=\"1\" stroke=\"#000000\" stroke-opacity=\"1\" stroke-width=\"2.4\"/>\n",
       "<circle clip-path=\"url(#clip932)\" cx=\"1103.76\" cy=\"757.343\" r=\"14.4\" fill=\"#009af9\" fill-rule=\"evenodd\" fill-opacity=\"1\" stroke=\"#000000\" stroke-opacity=\"1\" stroke-width=\"2.4\"/>\n",
       "<circle clip-path=\"url(#clip932)\" cx=\"2018.11\" cy=\"475.737\" r=\"14.4\" fill=\"#009af9\" fill-rule=\"evenodd\" fill-opacity=\"1\" stroke=\"#000000\" stroke-opacity=\"1\" stroke-width=\"2.4\"/>\n",
       "<circle clip-path=\"url(#clip932)\" cx=\"920.896\" cy=\"772.165\" r=\"14.4\" fill=\"#009af9\" fill-rule=\"evenodd\" fill-opacity=\"1\" stroke=\"#000000\" stroke-opacity=\"1\" stroke-width=\"2.4\"/>\n",
       "<circle clip-path=\"url(#clip932)\" cx=\"1195.2\" cy=\"772.165\" r=\"14.4\" fill=\"#009af9\" fill-rule=\"evenodd\" fill-opacity=\"1\" stroke=\"#000000\" stroke-opacity=\"1\" stroke-width=\"2.4\"/>\n",
       "<circle clip-path=\"url(#clip932)\" cx=\"1378.07\" cy=\"564.665\" r=\"14.4\" fill=\"#009af9\" fill-rule=\"evenodd\" fill-opacity=\"1\" stroke=\"#000000\" stroke-opacity=\"1\" stroke-width=\"2.4\"/>\n",
       "<circle clip-path=\"url(#clip932)\" cx=\"1378.07\" cy=\"772.165\" r=\"14.4\" fill=\"#009af9\" fill-rule=\"evenodd\" fill-opacity=\"1\" stroke=\"#000000\" stroke-opacity=\"1\" stroke-width=\"2.4\"/>\n",
       "<circle clip-path=\"url(#clip932)\" cx=\"1286.63\" cy=\"520.201\" r=\"14.4\" fill=\"#009af9\" fill-rule=\"evenodd\" fill-opacity=\"1\" stroke=\"#000000\" stroke-opacity=\"1\" stroke-width=\"2.4\"/>\n",
       "<circle clip-path=\"url(#clip932)\" cx=\"1286.63\" cy=\"772.165\" r=\"14.4\" fill=\"#009af9\" fill-rule=\"evenodd\" fill-opacity=\"1\" stroke=\"#000000\" stroke-opacity=\"1\" stroke-width=\"2.4\"/>\n",
       "<circle clip-path=\"url(#clip932)\" cx=\"1103.76\" cy=\"816.629\" r=\"14.4\" fill=\"#009af9\" fill-rule=\"evenodd\" fill-opacity=\"1\" stroke=\"#000000\" stroke-opacity=\"1\" stroke-width=\"2.4\"/>\n",
       "<circle clip-path=\"url(#clip932)\" cx=\"1286.63\" cy=\"698.058\" r=\"14.4\" fill=\"#009af9\" fill-rule=\"evenodd\" fill-opacity=\"1\" stroke=\"#000000\" stroke-opacity=\"1\" stroke-width=\"2.4\"/>\n",
       "<circle clip-path=\"url(#clip932)\" cx=\"1469.5\" cy=\"727.7\" r=\"14.4\" fill=\"#009af9\" fill-rule=\"evenodd\" fill-opacity=\"1\" stroke=\"#000000\" stroke-opacity=\"1\" stroke-width=\"2.4\"/>\n",
       "<circle clip-path=\"url(#clip932)\" cx=\"1012.33\" cy=\"838.861\" r=\"14.4\" fill=\"#009af9\" fill-rule=\"evenodd\" fill-opacity=\"1\" stroke=\"#000000\" stroke-opacity=\"1\" stroke-width=\"2.4\"/>\n",
       "<circle clip-path=\"url(#clip932)\" cx=\"1652.37\" cy=\"342.344\" r=\"14.4\" fill=\"#009af9\" fill-rule=\"evenodd\" fill-opacity=\"1\" stroke=\"#000000\" stroke-opacity=\"1\" stroke-width=\"2.4\"/>\n",
       "<circle clip-path=\"url(#clip932)\" cx=\"1012.33\" cy=\"757.343\" r=\"14.4\" fill=\"#009af9\" fill-rule=\"evenodd\" fill-opacity=\"1\" stroke=\"#000000\" stroke-opacity=\"1\" stroke-width=\"2.4\"/>\n",
       "<circle clip-path=\"url(#clip932)\" cx=\"1560.94\" cy=\"594.308\" r=\"14.4\" fill=\"#009af9\" fill-rule=\"evenodd\" fill-opacity=\"1\" stroke=\"#000000\" stroke-opacity=\"1\" stroke-width=\"2.4\"/>\n",
       "<circle clip-path=\"url(#clip932)\" cx=\"2200.98\" cy=\"275.648\" r=\"14.4\" fill=\"#009af9\" fill-rule=\"evenodd\" fill-opacity=\"1\" stroke=\"#000000\" stroke-opacity=\"1\" stroke-width=\"2.4\"/>\n",
       "<circle clip-path=\"url(#clip932)\" cx=\"1195.2\" cy=\"623.951\" r=\"14.4\" fill=\"#009af9\" fill-rule=\"evenodd\" fill-opacity=\"1\" stroke=\"#000000\" stroke-opacity=\"1\" stroke-width=\"2.4\"/>\n",
       "<polyline clip-path=\"url(#clip932)\" style=\"stroke:#e26f46; stroke-linecap:round; stroke-linejoin:round; stroke-width:8; stroke-opacity:1; fill:none\" points=\"\n",
       "  280.856,1019.39 326.573,1004.17 372.29,988.961 418.007,973.748 463.724,958.536 509.442,943.324 555.159,928.112 600.876,912.9 646.593,897.687 692.31,882.475 \n",
       "  738.027,867.263 783.744,852.051 829.461,836.839 875.179,821.626 920.896,806.414 966.613,791.202 1012.33,775.99 1058.05,760.777 1103.76,745.565 1149.48,730.353 \n",
       "  1195.2,715.141 1240.92,699.929 1286.63,684.716 1332.35,669.504 1378.07,654.292 1423.78,639.08 1469.5,623.868 1515.22,608.655 1560.94,593.443 1606.65,578.231 \n",
       "  1652.37,563.019 1698.09,547.807 1743.8,532.594 1789.52,517.382 1835.24,502.17 1880.96,486.958 1926.67,471.745 1972.39,456.533 2018.11,441.321 2063.82,426.109 \n",
       "  2109.54,410.897 2155.26,395.684 2200.98,380.472 2246.69,365.26 2292.41,350.048 \n",
       "  \"/>\n",
       "</svg>\n"
      ]
     },
     "execution_count": 18,
     "metadata": {},
     "output_type": "execute_result"
    }
   ],
   "source": [
    "p = collect((minimum(X)-1):0.5:(maximum(X)+1))\n",
    "\n",
    "scatter(X,Y, legend=false, \n",
    "            xlabel = \"Speed\",\n",
    "            ylabel = \"Dist\",\n",
    "            size = (600,300))\n",
    "plot!(p, f(p, θ_ERM), lw = 2)"
   ]
  },
  {
   "cell_type": "markdown",
   "metadata": {},
   "source": [
    "### Ridge Regression"
   ]
  },
  {
   "cell_type": "markdown",
   "metadata": {},
   "source": [
    "The ridge regression estimator with parameter $\\lambda$ is calculated as follows."
   ]
  },
  {
   "cell_type": "code",
   "execution_count": 19,
   "metadata": {},
   "outputs": [
    {
     "data": {
      "text/plain": [
       "θ_T (generic function with 1 method)"
      ]
     },
     "execution_count": 19,
     "metadata": {},
     "output_type": "execute_result"
    }
   ],
   "source": [
    "θ_T(λ) = (Ω' * Ω + (n*λ) .* diagm(ones(D+1))) \\ (Ω' * Y)"
   ]
  },
  {
   "cell_type": "markdown",
   "metadata": {},
   "source": [
    "We plot the RR estimator for different values of $\\lambda$"
   ]
  },
  {
   "cell_type": "code",
   "execution_count": 21,
   "metadata": {},
   "outputs": [
    {
     "name": "stderr",
     "output_type": "stream",
     "text": [
      "┌ Info: Saved animation to \n",
      "│   fn = /Users/sfairchild/Documents/GitHub/MathData-Winter22-23/Notebooks/ridge_regression.gif\n",
      "└ @ Plots /Users/sfairchild/.julia/packages/Plots/4UTBj/src/animation.jl:154\n"
     ]
    },
    {
     "data": {
      "text/html": [
       "<img src=\"data:image/gif;base64,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\" />"
      ],
      "text/plain": [
       "Plots.AnimatedGif(\"/Users/sfairchild/Documents/GitHub/MathData-Winter22-23/Notebooks/ridge_regression.gif\")"
      ]
     },
     "execution_count": 21,
     "metadata": {},
     "output_type": "execute_result"
    }
   ],
   "source": [
    "anim = @animate for λ in 0:0.02:0.25\n",
    "    scatter(X,Y, label=false, \n",
    "            xlabel = \"Speed\",\n",
    "            ylabel = \"Dist\",\n",
    "            size = (600,300))\n",
    "    plot!(p, f(p, θ_T(λ)), lw = 2, label = \"λ = $λ\")\n",
    "    ylims!(0,100)\n",
    "end\n",
    "gif(anim, \"ridge_regression.gif\", fps = 3)"
   ]
  },
  {
   "cell_type": "markdown",
   "metadata": {},
   "source": [
    "Judging by the animation, $\\lambda=0.2$ seems like a good choice."
   ]
  },
  {
   "cell_type": "code",
   "execution_count": 22,
   "metadata": {},
   "outputs": [],
   "source": [
    "θ_RR = θ_T(0.2);"
   ]
  },
  {
   "cell_type": "markdown",
   "metadata": {},
   "source": [
    "RR estimated the following parameters for $f_\\theta(x)=ax+b$."
   ]
  },
  {
   "cell_type": "code",
   "execution_count": 23,
   "metadata": {},
   "outputs": [
    {
     "name": "stdout",
     "output_type": "stream",
     "text": [
      "a = 3.317311937429321, b = -6.285690425354228\n"
     ]
    }
   ],
   "source": [
    "println(\"a = $(θ_RR[2]), b = $(θ_RR[1])\")"
   ]
  },
  {
   "cell_type": "markdown",
   "metadata": {},
   "source": [
    "### Maximum Likelihood und Maximum a-Posteriori Estimation"
   ]
  },
  {
   "cell_type": "markdown",
   "metadata": {},
   "source": [
    "The parameter for ML is determined by `θ_ERM`\n",
    "\n",
    "The parameter for MAP is determined by `θ_T(λ)` for $\\lambda = \\sigma^2/n$."
   ]
  },
  {
   "cell_type": "code",
   "execution_count": 24,
   "metadata": {},
   "outputs": [],
   "source": [
    "θ_ML = θ_ERM\n",
    "θ_MAP = θ_T(σ²/n);"
   ]
  },
  {
   "cell_type": "markdown",
   "metadata": {},
   "source": [
    "Now we can insert these parameters into the statistical model and sample from it."
   ]
  },
  {
   "cell_type": "code",
   "execution_count": 25,
   "metadata": {},
   "outputs": [
    {
     "data": {
      "image/svg+xml": [
       "<?xml version=\"1.0\" encoding=\"utf-8\"?>\n",
       "<svg xmlns=\"http://www.w3.org/2000/svg\" xmlns:xlink=\"http://www.w3.org/1999/xlink\" width=\"600\" height=\"300\" viewBox=\"0 0 2400 1200\">\n",
       "<defs>\n",
       "  <clipPath id=\"clip230\">\n",
       "    <rect x=\"0\" y=\"0\" width=\"2400\" height=\"1200\"/>\n",
       "  </clipPath>\n",
       "</defs>\n",
       "<path clip-path=\"url(#clip230)\" d=\"\n",
       "M0 1200 L2400 1200 L2400 0 L0 0  Z\n",
       "  \" fill=\"#ffffff\" fill-rule=\"evenodd\" fill-opacity=\"1\"/>\n",
       "<defs>\n",
       "  <clipPath id=\"clip231\">\n",
       "    <rect x=\"480\" y=\"0\" width=\"1681\" height=\"1200\"/>\n",
       "  </clipPath>\n",
       "</defs>\n",
       "<path clip-path=\"url(#clip230)\" d=\"\n",
       "M220.509 1047.7 L2352.76 1047.7 L2352.76 47.2441 L220.509 47.2441  Z\n",
       "  \" fill=\"#ffffff\" fill-rule=\"evenodd\" fill-opacity=\"1\"/>\n",
       "<defs>\n",
       "  <clipPath id=\"clip232\">\n",
       "    <rect x=\"220\" y=\"47\" width=\"2133\" height=\"1001\"/>\n",
       "  </clipPath>\n",
       "</defs>\n",
       "<polyline clip-path=\"url(#clip232)\" style=\"stroke:#000000; stroke-linecap:round; stroke-linejoin:round; stroke-width:2; stroke-opacity:0.1; fill:none\" points=\"\n",
       "  463.724,1047.7 463.724,47.2441 \n",
       "  \"/>\n",
       "<polyline clip-path=\"url(#clip232)\" style=\"stroke:#000000; stroke-linecap:round; stroke-linejoin:round; stroke-width:2; stroke-opacity:0.1; fill:none\" points=\"\n",
       "  920.896,1047.7 920.896,47.2441 \n",
       "  \"/>\n",
       "<polyline clip-path=\"url(#clip232)\" style=\"stroke:#000000; stroke-linecap:round; stroke-linejoin:round; stroke-width:2; stroke-opacity:0.1; fill:none\" points=\"\n",
       "  1378.07,1047.7 1378.07,47.2441 \n",
       "  \"/>\n",
       "<polyline clip-path=\"url(#clip232)\" style=\"stroke:#000000; stroke-linecap:round; stroke-linejoin:round; stroke-width:2; stroke-opacity:0.1; fill:none\" points=\"\n",
       "  1835.24,1047.7 1835.24,47.2441 \n",
       "  \"/>\n",
       "<polyline clip-path=\"url(#clip232)\" style=\"stroke:#000000; stroke-linecap:round; stroke-linejoin:round; stroke-width:2; stroke-opacity:0.1; fill:none\" points=\"\n",
       "  2292.41,1047.7 2292.41,47.2441 \n",
       "  \"/>\n",
       "<polyline clip-path=\"url(#clip230)\" style=\"stroke:#000000; stroke-linecap:round; stroke-linejoin:round; stroke-width:4; stroke-opacity:1; fill:none\" points=\"\n",
       "  220.509,1047.7 2352.76,1047.7 \n",
       "  \"/>\n",
       "<polyline clip-path=\"url(#clip230)\" style=\"stroke:#000000; stroke-linecap:round; stroke-linejoin:round; stroke-width:4; stroke-opacity:1; fill:none\" points=\"\n",
       "  463.724,1047.7 463.724,1028.8 \n",
       "  \"/>\n",
       "<polyline clip-path=\"url(#clip230)\" style=\"stroke:#000000; stroke-linecap:round; stroke-linejoin:round; stroke-width:4; stroke-opacity:1; fill:none\" points=\"\n",
       "  920.896,1047.7 920.896,1028.8 \n",
       "  \"/>\n",
       "<polyline clip-path=\"url(#clip230)\" style=\"stroke:#000000; stroke-linecap:round; stroke-linejoin:round; stroke-width:4; stroke-opacity:1; fill:none\" points=\"\n",
       "  1378.07,1047.7 1378.07,1028.8 \n",
       "  \"/>\n",
       "<polyline clip-path=\"url(#clip230)\" style=\"stroke:#000000; stroke-linecap:round; stroke-linejoin:round; stroke-width:4; stroke-opacity:1; fill:none\" points=\"\n",
       "  1835.24,1047.7 1835.24,1028.8 \n",
       "  \"/>\n",
       "<polyline clip-path=\"url(#clip230)\" style=\"stroke:#000000; stroke-linecap:round; stroke-linejoin:round; stroke-width:4; stroke-opacity:1; fill:none\" points=\"\n",
       "  2292.41,1047.7 2292.41,1028.8 \n",
       "  \"/>\n",
       "<path clip-path=\"url(#clip230)\" d=\"M454.002 1075.54 L472.359 1075.54 L472.359 1079.48 L458.285 1079.48 L458.285 1087.95 Q459.303 1087.6 460.322 1087.44 Q461.34 1087.25 462.359 1087.25 Q468.146 1087.25 471.525 1090.42 Q474.905 1093.6 474.905 1099.01 Q474.905 1104.59 471.433 1107.69 Q467.961 1110.77 461.641 1110.77 Q459.465 1110.77 457.197 1110.4 Q454.951 1110.03 452.544 1109.29 L452.544 1104.59 Q454.627 1105.72 456.849 1106.28 Q459.072 1106.84 461.549 1106.84 Q465.553 1106.84 467.891 1104.73 Q470.229 1102.62 470.229 1099.01 Q470.229 1095.4 467.891 1093.29 Q465.553 1091.19 461.549 1091.19 Q459.674 1091.19 457.799 1091.6 Q455.947 1092.02 454.002 1092.9 L454.002 1075.54 Z\" fill=\"#000000\" fill-rule=\"evenodd\" fill-opacity=\"1\" /><path clip-path=\"url(#clip230)\" d=\"M895.583 1106.16 L903.222 1106.16 L903.222 1079.8 L894.912 1081.47 L894.912 1077.21 L903.176 1075.54 L907.852 1075.54 L907.852 1106.16 L915.491 1106.16 L915.491 1110.1 L895.583 1110.1 L895.583 1106.16 Z\" fill=\"#000000\" fill-rule=\"evenodd\" fill-opacity=\"1\" /><path clip-path=\"url(#clip230)\" d=\"M934.935 1078.62 Q931.324 1078.62 929.495 1082.18 Q927.69 1085.72 927.69 1092.85 Q927.69 1099.96 929.495 1103.53 Q931.324 1107.07 934.935 1107.07 Q938.569 1107.07 940.375 1103.53 Q942.203 1099.96 942.203 1092.85 Q942.203 1085.72 940.375 1082.18 Q938.569 1078.62 934.935 1078.62 M934.935 1074.91 Q940.745 1074.91 943.801 1079.52 Q946.879 1084.1 946.879 1092.85 Q946.879 1101.58 943.801 1106.19 Q940.745 1110.77 934.935 1110.77 Q929.125 1110.77 926.046 1106.19 Q922.991 1101.58 922.991 1092.85 Q922.991 1084.1 926.046 1079.52 Q929.125 1074.91 934.935 1074.91 Z\" fill=\"#000000\" fill-rule=\"evenodd\" fill-opacity=\"1\" /><path clip-path=\"url(#clip230)\" d=\"M1353.25 1106.16 L1360.89 1106.16 L1360.89 1079.8 L1352.58 1081.47 L1352.58 1077.21 L1360.84 1075.54 L1365.52 1075.54 L1365.52 1106.16 L1373.16 1106.16 L1373.16 1110.1 L1353.25 1110.1 L1353.25 1106.16 Z\" fill=\"#000000\" fill-rule=\"evenodd\" fill-opacity=\"1\" /><path clip-path=\"url(#clip230)\" d=\"M1382.65 1075.54 L1401.01 1075.54 L1401.01 1079.48 L1386.93 1079.48 L1386.93 1087.95 Q1387.95 1087.6 1388.97 1087.44 Q1389.99 1087.25 1391.01 1087.25 Q1396.79 1087.25 1400.17 1090.42 Q1403.55 1093.6 1403.55 1099.01 Q1403.55 1104.59 1400.08 1107.69 Q1396.61 1110.77 1390.29 1110.77 Q1388.11 1110.77 1385.84 1110.4 Q1383.6 1110.03 1381.19 1109.29 L1381.19 1104.59 Q1383.28 1105.72 1385.5 1106.28 Q1387.72 1106.84 1390.2 1106.84 Q1394.2 1106.84 1396.54 1104.73 Q1398.88 1102.62 1398.88 1099.01 Q1398.88 1095.4 1396.54 1093.29 Q1394.2 1091.19 1390.2 1091.19 Q1388.32 1091.19 1386.45 1091.6 Q1384.59 1092.02 1382.65 1092.9 L1382.65 1075.54 Z\" fill=\"#000000\" fill-rule=\"evenodd\" fill-opacity=\"1\" /><path clip-path=\"url(#clip230)\" d=\"M1814.01 1106.16 L1830.33 1106.16 L1830.33 1110.1 L1808.39 1110.1 L1808.39 1106.16 Q1811.05 1103.41 1815.63 1098.78 Q1820.24 1094.13 1821.42 1092.79 Q1823.66 1090.26 1824.54 1088.53 Q1825.45 1086.77 1825.45 1085.08 Q1825.45 1082.32 1823.5 1080.59 Q1821.58 1078.85 1818.48 1078.85 Q1816.28 1078.85 1813.83 1079.61 Q1811.4 1080.38 1808.62 1081.93 L1808.62 1077.21 Q1811.44 1076.07 1813.9 1075.49 Q1816.35 1074.91 1818.39 1074.91 Q1823.76 1074.91 1826.95 1077.6 Q1830.15 1080.29 1830.15 1084.78 Q1830.15 1086.91 1829.34 1088.83 Q1828.55 1090.72 1826.44 1093.32 Q1825.86 1093.99 1822.76 1097.21 Q1819.66 1100.4 1814.01 1106.16 Z\" fill=\"#000000\" fill-rule=\"evenodd\" fill-opacity=\"1\" /><path clip-path=\"url(#clip230)\" d=\"M1850.15 1078.62 Q1846.53 1078.62 1844.71 1082.18 Q1842.9 1085.72 1842.9 1092.85 Q1842.9 1099.96 1844.71 1103.53 Q1846.53 1107.07 1850.15 1107.07 Q1853.78 1107.07 1855.59 1103.53 Q1857.41 1099.96 1857.41 1092.85 Q1857.41 1085.72 1855.59 1082.18 Q1853.78 1078.62 1850.15 1078.62 M1850.15 1074.91 Q1855.96 1074.91 1859.01 1079.52 Q1862.09 1084.1 1862.09 1092.85 Q1862.09 1101.58 1859.01 1106.19 Q1855.96 1110.77 1850.15 1110.77 Q1844.34 1110.77 1841.26 1106.19 Q1838.2 1101.58 1838.2 1092.85 Q1838.2 1084.1 1841.26 1079.52 Q1844.34 1074.91 1850.15 1074.91 Z\" fill=\"#000000\" fill-rule=\"evenodd\" fill-opacity=\"1\" /><path clip-path=\"url(#clip230)\" d=\"M2271.68 1106.16 L2288 1106.16 L2288 1110.1 L2266.06 1110.1 L2266.06 1106.16 Q2268.72 1103.41 2273.3 1098.78 Q2277.91 1094.13 2279.09 1092.79 Q2281.33 1090.26 2282.21 1088.53 Q2283.12 1086.77 2283.12 1085.08 Q2283.12 1082.32 2281.17 1080.59 Q2279.25 1078.85 2276.15 1078.85 Q2273.95 1078.85 2271.5 1079.61 Q2269.06 1080.38 2266.29 1081.93 L2266.29 1077.21 Q2269.11 1076.07 2271.56 1075.49 Q2274.02 1074.91 2276.06 1074.91 Q2281.43 1074.91 2284.62 1077.6 Q2287.81 1080.29 2287.81 1084.78 Q2287.81 1086.91 2287 1088.83 Q2286.22 1090.72 2284.11 1093.32 Q2283.53 1093.99 2280.43 1097.21 Q2277.33 1100.4 2271.68 1106.16 Z\" fill=\"#000000\" fill-rule=\"evenodd\" fill-opacity=\"1\" /><path clip-path=\"url(#clip230)\" d=\"M2297.86 1075.54 L2316.22 1075.54 L2316.22 1079.48 L2302.14 1079.48 L2302.14 1087.95 Q2303.16 1087.6 2304.18 1087.44 Q2305.2 1087.25 2306.22 1087.25 Q2312 1087.25 2315.38 1090.42 Q2318.76 1093.6 2318.76 1099.01 Q2318.76 1104.59 2315.29 1107.69 Q2311.82 1110.77 2305.5 1110.77 Q2303.32 1110.77 2301.06 1110.4 Q2298.81 1110.03 2296.4 1109.29 L2296.4 1104.59 Q2298.49 1105.72 2300.71 1106.28 Q2302.93 1106.84 2305.41 1106.84 Q2309.41 1106.84 2311.75 1104.73 Q2314.09 1102.62 2314.09 1099.01 Q2314.09 1095.4 2311.75 1093.29 Q2309.41 1091.19 2305.41 1091.19 Q2303.53 1091.19 2301.66 1091.6 Q2299.81 1092.02 2297.86 1092.9 L2297.86 1075.54 Z\" fill=\"#000000\" fill-rule=\"evenodd\" fill-opacity=\"1\" /><path clip-path=\"url(#clip230)\" d=\"M1220.16 1146.6 L1220.16 1152.87 Q1216.5 1151.12 1213.25 1150.26 Q1210.01 1149.4 1206.98 1149.4 Q1201.73 1149.4 1198.87 1151.44 Q1196.03 1153.48 1196.03 1157.23 Q1196.03 1160.39 1197.91 1162.01 Q1199.82 1163.6 1205.1 1164.59 L1208.99 1165.38 Q1216.18 1166.75 1219.59 1170.22 Q1223.02 1173.66 1223.02 1179.45 Q1223.02 1186.36 1218.38 1189.92 Q1213.76 1193.49 1204.82 1193.49 Q1201.44 1193.49 1197.62 1192.72 Q1193.84 1191.96 1189.76 1190.46 L1189.76 1183.84 Q1193.68 1186.04 1197.43 1187.15 Q1201.19 1188.27 1204.82 1188.27 Q1210.32 1188.27 1213.32 1186.1 Q1216.31 1183.94 1216.31 1179.93 Q1216.31 1176.43 1214.14 1174.45 Q1212.01 1172.48 1207.11 1171.49 L1203.19 1170.73 Q1196 1169.3 1192.79 1166.24 Q1189.57 1163.19 1189.57 1157.74 Q1189.57 1151.44 1194 1147.81 Q1198.45 1144.18 1206.25 1144.18 Q1209.59 1144.18 1213.06 1144.79 Q1216.53 1145.39 1220.16 1146.6 Z\" fill=\"#000000\" fill-rule=\"evenodd\" fill-opacity=\"1\" /><path clip-path=\"url(#clip230)\" d=\"M1238.46 1187.22 L1238.46 1206.12 L1232.57 1206.12 L1232.57 1156.92 L1238.46 1156.92 L1238.46 1162.33 Q1240.31 1159.14 1243.11 1157.62 Q1245.94 1156.06 1249.85 1156.06 Q1256.35 1156.06 1260.39 1161.21 Q1264.46 1166.37 1264.46 1174.77 Q1264.46 1183.17 1260.39 1188.33 Q1256.35 1193.49 1249.85 1193.49 Q1245.94 1193.49 1243.11 1191.96 Q1240.31 1190.4 1238.46 1187.22 M1258.38 1174.77 Q1258.38 1168.31 1255.71 1164.65 Q1253.07 1160.96 1248.42 1160.96 Q1243.78 1160.96 1241.1 1164.65 Q1238.46 1168.31 1238.46 1174.77 Q1238.46 1181.23 1241.1 1184.92 Q1243.78 1188.59 1248.42 1188.59 Q1253.07 1188.59 1255.71 1184.92 Q1258.38 1181.23 1258.38 1174.77 Z\" fill=\"#000000\" fill-rule=\"evenodd\" fill-opacity=\"1\" /><path clip-path=\"url(#clip230)\" d=\"M1304.66 1173.28 L1304.66 1176.14 L1277.74 1176.14 Q1278.12 1182.19 1281.37 1185.37 Q1284.64 1188.52 1290.47 1188.52 Q1293.84 1188.52 1296.99 1187.69 Q1300.18 1186.87 1303.29 1185.21 L1303.29 1190.75 Q1300.14 1192.09 1296.83 1192.79 Q1293.52 1193.49 1290.12 1193.49 Q1281.59 1193.49 1276.59 1188.52 Q1271.63 1183.56 1271.63 1175.09 Q1271.63 1166.34 1276.34 1161.21 Q1281.08 1156.06 1289.1 1156.06 Q1296.29 1156.06 1300.46 1160.7 Q1304.66 1165.32 1304.66 1173.28 M1298.81 1171.56 Q1298.74 1166.75 1296.1 1163.89 Q1293.49 1161.02 1289.16 1161.02 Q1284.26 1161.02 1281.3 1163.79 Q1278.37 1166.56 1277.93 1171.59 L1298.81 1171.56 Z\" fill=\"#000000\" fill-rule=\"evenodd\" fill-opacity=\"1\" /><path clip-path=\"url(#clip230)\" d=\"M1344.77 1173.28 L1344.77 1176.14 L1317.84 1176.14 Q1318.22 1182.19 1321.47 1185.37 Q1324.75 1188.52 1330.57 1188.52 Q1333.95 1188.52 1337.1 1187.69 Q1340.28 1186.87 1343.4 1185.21 L1343.4 1190.75 Q1340.25 1192.09 1336.94 1192.79 Q1333.63 1193.49 1330.22 1193.49 Q1321.69 1193.49 1316.69 1188.52 Q1311.73 1183.56 1311.73 1175.09 Q1311.73 1166.34 1316.44 1161.21 Q1321.18 1156.06 1329.2 1156.06 Q1336.4 1156.06 1340.57 1160.7 Q1344.77 1165.32 1344.77 1173.28 M1338.91 1171.56 Q1338.85 1166.75 1336.21 1163.89 Q1333.6 1161.02 1329.27 1161.02 Q1324.37 1161.02 1321.41 1163.79 Q1318.48 1166.56 1318.03 1171.59 L1338.91 1171.56 Z\" fill=\"#000000\" fill-rule=\"evenodd\" fill-opacity=\"1\" /><path clip-path=\"url(#clip230)\" d=\"M1377.84 1162.33 L1377.84 1143.04 L1383.69 1143.04 L1383.69 1192.56 L1377.84 1192.56 L1377.84 1187.22 Q1375.99 1190.4 1373.16 1191.96 Q1370.36 1193.49 1366.41 1193.49 Q1359.95 1193.49 1355.88 1188.33 Q1351.83 1183.17 1351.83 1174.77 Q1351.83 1166.37 1355.88 1161.21 Q1359.95 1156.06 1366.41 1156.06 Q1370.36 1156.06 1373.16 1157.62 Q1375.99 1159.14 1377.84 1162.33 M1357.88 1174.77 Q1357.88 1181.23 1360.52 1184.92 Q1363.2 1188.59 1367.84 1188.59 Q1372.49 1188.59 1375.16 1184.92 Q1377.84 1181.23 1377.84 1174.77 Q1377.84 1168.31 1375.16 1164.65 Q1372.49 1160.96 1367.84 1160.96 Q1363.2 1160.96 1360.52 1164.65 Q1357.88 1168.31 1357.88 1174.77 Z\" fill=\"#000000\" fill-rule=\"evenodd\" fill-opacity=\"1\" /><polyline clip-path=\"url(#clip232)\" style=\"stroke:#000000; stroke-linecap:round; stroke-linejoin:round; stroke-width:2; stroke-opacity:0.1; fill:none\" points=\"\n",
       "  220.509,910.616 2352.76,910.616 \n",
       "  \"/>\n",
       "<polyline clip-path=\"url(#clip232)\" style=\"stroke:#000000; stroke-linecap:round; stroke-linejoin:round; stroke-width:2; stroke-opacity:0.1; fill:none\" points=\"\n",
       "  220.509,736.646 2352.76,736.646 \n",
       "  \"/>\n",
       "<polyline clip-path=\"url(#clip232)\" style=\"stroke:#000000; stroke-linecap:round; stroke-linejoin:round; stroke-width:2; stroke-opacity:0.1; fill:none\" points=\"\n",
       "  220.509,562.675 2352.76,562.675 \n",
       "  \"/>\n",
       "<polyline clip-path=\"url(#clip232)\" style=\"stroke:#000000; stroke-linecap:round; stroke-linejoin:round; stroke-width:2; stroke-opacity:0.1; fill:none\" points=\"\n",
       "  220.509,388.705 2352.76,388.705 \n",
       "  \"/>\n",
       "<polyline clip-path=\"url(#clip232)\" style=\"stroke:#000000; stroke-linecap:round; stroke-linejoin:round; stroke-width:2; stroke-opacity:0.1; fill:none\" points=\"\n",
       "  220.509,214.735 2352.76,214.735 \n",
       "  \"/>\n",
       "<polyline clip-path=\"url(#clip230)\" style=\"stroke:#000000; stroke-linecap:round; stroke-linejoin:round; stroke-width:4; stroke-opacity:1; fill:none\" points=\"\n",
       "  220.509,1047.7 220.509,47.2441 \n",
       "  \"/>\n",
       "<polyline clip-path=\"url(#clip230)\" style=\"stroke:#000000; stroke-linecap:round; stroke-linejoin:round; stroke-width:4; stroke-opacity:1; fill:none\" points=\"\n",
       "  220.509,910.616 239.407,910.616 \n",
       "  \"/>\n",
       "<polyline clip-path=\"url(#clip230)\" style=\"stroke:#000000; stroke-linecap:round; stroke-linejoin:round; stroke-width:4; stroke-opacity:1; fill:none\" points=\"\n",
       "  220.509,736.646 239.407,736.646 \n",
       "  \"/>\n",
       "<polyline clip-path=\"url(#clip230)\" style=\"stroke:#000000; stroke-linecap:round; stroke-linejoin:round; stroke-width:4; stroke-opacity:1; fill:none\" points=\"\n",
       "  220.509,562.675 239.407,562.675 \n",
       "  \"/>\n",
       "<polyline clip-path=\"url(#clip230)\" style=\"stroke:#000000; stroke-linecap:round; stroke-linejoin:round; stroke-width:4; stroke-opacity:1; fill:none\" points=\"\n",
       "  220.509,388.705 239.407,388.705 \n",
       "  \"/>\n",
       "<polyline clip-path=\"url(#clip230)\" style=\"stroke:#000000; stroke-linecap:round; stroke-linejoin:round; stroke-width:4; stroke-opacity:1; fill:none\" points=\"\n",
       "  220.509,214.735 239.407,214.735 \n",
       "  \"/>\n",
       "<path clip-path=\"url(#clip230)\" d=\"M172.565 896.415 Q168.954 896.415 167.125 899.979 Q165.32 903.521 165.32 910.651 Q165.32 917.757 167.125 921.322 Q168.954 924.863 172.565 924.863 Q176.199 924.863 178.005 921.322 Q179.833 917.757 179.833 910.651 Q179.833 903.521 178.005 899.979 Q176.199 896.415 172.565 896.415 M172.565 892.711 Q178.375 892.711 181.431 897.317 Q184.509 901.901 184.509 910.651 Q184.509 919.377 181.431 923.984 Q178.375 928.567 172.565 928.567 Q166.755 928.567 163.676 923.984 Q160.621 919.377 160.621 910.651 Q160.621 901.901 163.676 897.317 Q166.755 892.711 172.565 892.711 Z\" fill=\"#000000\" fill-rule=\"evenodd\" fill-opacity=\"1\" /><path clip-path=\"url(#clip230)\" d=\"M137.426 749.99 L153.746 749.99 L153.746 753.926 L131.801 753.926 L131.801 749.99 Q134.463 747.236 139.047 742.606 Q143.653 737.953 144.834 736.611 Q147.079 734.088 147.959 732.352 Q148.861 730.592 148.861 728.903 Q148.861 726.148 146.917 724.412 Q144.996 722.676 141.894 722.676 Q139.695 722.676 137.241 723.44 Q134.811 724.204 132.033 725.754 L132.033 721.032 Q134.857 719.898 137.311 719.319 Q139.764 718.741 141.801 718.741 Q147.172 718.741 150.366 721.426 Q153.56 724.111 153.56 728.602 Q153.56 730.731 152.75 732.653 Q151.963 734.551 149.857 737.143 Q149.278 737.815 146.176 741.032 Q143.074 744.227 137.426 749.99 Z\" fill=\"#000000\" fill-rule=\"evenodd\" fill-opacity=\"1\" /><path clip-path=\"url(#clip230)\" d=\"M163.607 719.366 L181.963 719.366 L181.963 723.301 L167.889 723.301 L167.889 731.773 Q168.908 731.426 169.926 731.264 Q170.945 731.079 171.963 731.079 Q177.75 731.079 181.13 734.25 Q184.509 737.421 184.509 742.838 Q184.509 748.416 181.037 751.518 Q177.565 754.597 171.246 754.597 Q169.07 754.597 166.801 754.227 Q164.556 753.856 162.148 753.115 L162.148 748.416 Q164.232 749.551 166.454 750.106 Q168.676 750.662 171.153 750.662 Q175.158 750.662 177.495 748.555 Q179.833 746.449 179.833 742.838 Q179.833 739.227 177.495 737.12 Q175.158 735.014 171.153 735.014 Q169.278 735.014 167.403 735.43 Q165.551 735.847 163.607 736.727 L163.607 719.366 Z\" fill=\"#000000\" fill-rule=\"evenodd\" fill-opacity=\"1\" /><path clip-path=\"url(#clip230)\" d=\"M132.449 545.395 L150.806 545.395 L150.806 549.331 L136.732 549.331 L136.732 557.803 Q137.75 557.456 138.769 557.294 Q139.787 557.108 140.806 557.108 Q146.593 557.108 149.972 560.28 Q153.352 563.451 153.352 568.868 Q153.352 574.446 149.88 577.548 Q146.408 580.627 140.088 580.627 Q137.912 580.627 135.644 580.256 Q133.399 579.886 130.991 579.145 L130.991 574.446 Q133.074 575.58 135.297 576.136 Q137.519 576.692 139.996 576.692 Q144 576.692 146.338 574.585 Q148.676 572.479 148.676 568.868 Q148.676 565.256 146.338 563.15 Q144 561.044 139.996 561.044 Q138.121 561.044 136.246 561.46 Q134.394 561.877 132.449 562.756 L132.449 545.395 Z\" fill=\"#000000\" fill-rule=\"evenodd\" fill-opacity=\"1\" /><path clip-path=\"url(#clip230)\" d=\"M172.565 548.474 Q168.954 548.474 167.125 552.039 Q165.32 555.581 165.32 562.71 Q165.32 569.817 167.125 573.381 Q168.954 576.923 172.565 576.923 Q176.199 576.923 178.005 573.381 Q179.833 569.817 179.833 562.71 Q179.833 555.581 178.005 552.039 Q176.199 548.474 172.565 548.474 M172.565 544.77 Q178.375 544.77 181.431 549.377 Q184.509 553.96 184.509 562.71 Q184.509 571.437 181.431 576.043 Q178.375 580.627 172.565 580.627 Q166.755 580.627 163.676 576.043 Q160.621 571.437 160.621 562.71 Q160.621 553.96 163.676 549.377 Q166.755 544.77 172.565 544.77 Z\" fill=\"#000000\" fill-rule=\"evenodd\" fill-opacity=\"1\" /><path clip-path=\"url(#clip230)\" d=\"M132.218 371.425 L154.44 371.425 L154.44 373.416 L141.894 405.985 L137.01 405.985 L148.815 375.36 L132.218 375.36 L132.218 371.425 Z\" fill=\"#000000\" fill-rule=\"evenodd\" fill-opacity=\"1\" /><path clip-path=\"url(#clip230)\" d=\"M163.607 371.425 L181.963 371.425 L181.963 375.36 L167.889 375.36 L167.889 383.833 Q168.908 383.485 169.926 383.323 Q170.945 383.138 171.963 383.138 Q177.75 383.138 181.13 386.309 Q184.509 389.481 184.509 394.897 Q184.509 400.476 181.037 403.578 Q177.565 406.657 171.246 406.657 Q169.07 406.657 166.801 406.286 Q164.556 405.916 162.148 405.175 L162.148 400.476 Q164.232 401.61 166.454 402.166 Q168.676 402.721 171.153 402.721 Q175.158 402.721 177.495 400.615 Q179.833 398.508 179.833 394.897 Q179.833 391.286 177.495 389.18 Q175.158 387.073 171.153 387.073 Q169.278 387.073 167.403 387.49 Q165.551 387.907 163.607 388.786 L163.607 371.425 Z\" fill=\"#000000\" fill-rule=\"evenodd\" fill-opacity=\"1\" /><path clip-path=\"url(#clip230)\" d=\"M103.051 228.08 L110.69 228.08 L110.69 201.714 L102.38 203.381 L102.38 199.122 L110.644 197.455 L115.32 197.455 L115.32 228.08 L122.959 228.08 L122.959 232.015 L103.051 232.015 L103.051 228.08 Z\" fill=\"#000000\" fill-rule=\"evenodd\" fill-opacity=\"1\" /><path clip-path=\"url(#clip230)\" d=\"M142.403 200.534 Q138.792 200.534 136.963 204.099 Q135.158 207.64 135.158 214.77 Q135.158 221.876 136.963 225.441 Q138.792 228.983 142.403 228.983 Q146.037 228.983 147.843 225.441 Q149.672 221.876 149.672 214.77 Q149.672 207.64 147.843 204.099 Q146.037 200.534 142.403 200.534 M142.403 196.83 Q148.213 196.83 151.269 201.436 Q154.347 206.02 154.347 214.77 Q154.347 223.497 151.269 228.103 Q148.213 232.686 142.403 232.686 Q136.593 232.686 133.514 228.103 Q130.459 223.497 130.459 214.77 Q130.459 206.02 133.514 201.436 Q136.593 196.83 142.403 196.83 Z\" fill=\"#000000\" fill-rule=\"evenodd\" fill-opacity=\"1\" /><path clip-path=\"url(#clip230)\" d=\"M172.565 200.534 Q168.954 200.534 167.125 204.099 Q165.32 207.64 165.32 214.77 Q165.32 221.876 167.125 225.441 Q168.954 228.983 172.565 228.983 Q176.199 228.983 178.005 225.441 Q179.833 221.876 179.833 214.77 Q179.833 207.64 178.005 204.099 Q176.199 200.534 172.565 200.534 M172.565 196.83 Q178.375 196.83 181.431 201.436 Q184.509 206.02 184.509 214.77 Q184.509 223.497 181.431 228.103 Q178.375 232.686 172.565 232.686 Q166.755 232.686 163.676 228.103 Q160.621 223.497 160.621 214.77 Q160.621 206.02 163.676 201.436 Q166.755 196.83 172.565 196.83 Z\" fill=\"#000000\" fill-rule=\"evenodd\" fill-opacity=\"1\" /><path clip-path=\"url(#clip230)\" d=\"M9.88769 600.976 L46.8406 600.976 L46.8406 593.21 Q46.8406 583.375 42.3846 578.823 Q37.9286 574.24 28.3164 574.24 Q18.7679 574.24 14.3437 578.823 Q9.88769 583.375 9.88769 593.21 L9.88769 600.976 M4.60416 607.405 L4.60416 594.196 Q4.60416 580.383 10.3651 573.921 Q16.0943 567.46 28.3164 567.46 Q40.6022 567.46 46.3632 573.953 Q52.1242 580.446 52.1242 594.196 L52.1242 607.405 L4.60416 607.405 Z\" fill=\"#000000\" fill-rule=\"evenodd\" fill-opacity=\"1\" /><path clip-path=\"url(#clip230)\" d=\"M16.4762 557.466 L16.4762 551.61 L52.1242 551.61 L52.1242 557.466 L16.4762 557.466 M2.59896 557.466 L2.59896 551.61 L10.015 551.61 L10.015 557.466 L2.59896 557.466 Z\" fill=\"#000000\" fill-rule=\"evenodd\" fill-opacity=\"1\" /><path clip-path=\"url(#clip230)\" d=\"M17.5265 516.63 L23.0647 516.63 Q21.7916 519.113 21.155 521.786 Q20.5184 524.46 20.5184 527.325 Q20.5184 531.685 21.8552 533.881 Q23.192 536.046 25.8656 536.046 Q27.9026 536.046 29.0803 534.486 Q30.2261 532.926 31.2765 528.216 L31.7221 526.211 Q33.0589 519.972 35.5097 517.362 Q37.9286 514.72 42.2891 514.72 Q47.2544 514.72 50.1508 518.667 Q53.0472 522.582 53.0472 529.457 Q53.0472 532.322 52.4743 535.441 Q51.9332 538.528 50.8192 541.966 L44.7718 541.966 Q46.4587 538.719 47.318 535.568 Q48.1456 532.417 48.1456 529.33 Q48.1456 525.192 46.7451 522.964 Q45.3129 520.736 42.7347 520.736 Q40.3476 520.736 39.0745 522.359 Q37.8013 523.951 36.6237 529.393 L36.1462 531.43 Q35.0004 536.873 32.6451 539.292 Q30.258 541.711 26.1202 541.711 Q21.0913 541.711 18.3541 538.146 Q15.6168 534.581 15.6168 528.025 Q15.6168 524.778 16.0943 521.914 Q16.5717 519.049 17.5265 516.63 Z\" fill=\"#000000\" fill-rule=\"evenodd\" fill-opacity=\"1\" /><path clip-path=\"url(#clip230)\" d=\"M6.35473 499.602 L16.4762 499.602 L16.4762 487.539 L21.0277 487.539 L21.0277 499.602 L40.3794 499.602 Q44.7399 499.602 45.9813 498.424 Q47.2226 497.215 47.2226 493.554 L47.2226 487.539 L52.1242 487.539 L52.1242 493.554 Q52.1242 500.334 49.6097 502.912 Q47.0634 505.49 40.3794 505.49 L21.0277 505.49 L21.0277 509.787 L16.4762 509.787 L16.4762 505.49 L6.35473 505.49 L6.35473 499.602 Z\" fill=\"#000000\" fill-rule=\"evenodd\" fill-opacity=\"1\" /><circle clip-path=\"url(#clip232)\" cx=\"1743.8\" cy=\"437.417\" r=\"14.4\" fill=\"#009af9\" fill-rule=\"evenodd\" fill-opacity=\"1\" stroke=\"#000000\" stroke-opacity=\"1\" stroke-width=\"2.4\"/>\n",
       "<circle clip-path=\"url(#clip232)\" cx=\"1743.8\" cy=\"660.099\" r=\"14.4\" fill=\"#009af9\" fill-rule=\"evenodd\" fill-opacity=\"1\" stroke=\"#000000\" stroke-opacity=\"1\" stroke-width=\"2.4\"/>\n",
       "<circle clip-path=\"url(#clip232)\" cx=\"372.29\" cy=\"841.028\" r=\"14.4\" fill=\"#009af9\" fill-rule=\"evenodd\" fill-opacity=\"1\" stroke=\"#000000\" stroke-opacity=\"1\" stroke-width=\"2.4\"/>\n",
       "<circle clip-path=\"url(#clip232)\" cx=\"920.896\" cy=\"674.016\" r=\"14.4\" fill=\"#009af9\" fill-rule=\"evenodd\" fill-opacity=\"1\" stroke=\"#000000\" stroke-opacity=\"1\" stroke-width=\"2.4\"/>\n",
       "<circle clip-path=\"url(#clip232)\" cx=\"1378.07\" cy=\"771.44\" r=\"14.4\" fill=\"#009af9\" fill-rule=\"evenodd\" fill-opacity=\"1\" stroke=\"#000000\" stroke-opacity=\"1\" stroke-width=\"2.4\"/>\n",
       "<circle clip-path=\"url(#clip232)\" cx=\"2200.98\" cy=\"270.406\" r=\"14.4\" fill=\"#009af9\" fill-rule=\"evenodd\" fill-opacity=\"1\" stroke=\"#000000\" stroke-opacity=\"1\" stroke-width=\"2.4\"/>\n",
       "<circle clip-path=\"url(#clip232)\" cx=\"646.593\" cy=\"882.781\" r=\"14.4\" fill=\"#009af9\" fill-rule=\"evenodd\" fill-opacity=\"1\" stroke=\"#000000\" stroke-opacity=\"1\" stroke-width=\"2.4\"/>\n",
       "<circle clip-path=\"url(#clip232)\" cx=\"372.29\" cy=\"896.698\" r=\"14.4\" fill=\"#009af9\" fill-rule=\"evenodd\" fill-opacity=\"1\" stroke=\"#000000\" stroke-opacity=\"1\" stroke-width=\"2.4\"/>\n",
       "<circle clip-path=\"url(#clip232)\" cx=\"1560.94\" cy=\"632.264\" r=\"14.4\" fill=\"#009af9\" fill-rule=\"evenodd\" fill-opacity=\"1\" stroke=\"#000000\" stroke-opacity=\"1\" stroke-width=\"2.4\"/>\n",
       "<circle clip-path=\"url(#clip232)\" cx=\"1835.24\" cy=\"548.758\" r=\"14.4\" fill=\"#009af9\" fill-rule=\"evenodd\" fill-opacity=\"1\" stroke=\"#000000\" stroke-opacity=\"1\" stroke-width=\"2.4\"/>\n",
       "<circle clip-path=\"url(#clip232)\" cx=\"1835.24\" cy=\"687.934\" r=\"14.4\" fill=\"#009af9\" fill-rule=\"evenodd\" fill-opacity=\"1\" stroke=\"#000000\" stroke-opacity=\"1\" stroke-width=\"2.4\"/>\n",
       "<circle clip-path=\"url(#clip232)\" cx=\"1835.24\" cy=\"520.923\" r=\"14.4\" fill=\"#009af9\" fill-rule=\"evenodd\" fill-opacity=\"1\" stroke=\"#000000\" stroke-opacity=\"1\" stroke-width=\"2.4\"/>\n",
       "<circle clip-path=\"url(#clip232)\" cx=\"1835.24\" cy=\"465.252\" r=\"14.4\" fill=\"#009af9\" fill-rule=\"evenodd\" fill-opacity=\"1\" stroke=\"#000000\" stroke-opacity=\"1\" stroke-width=\"2.4\"/>\n",
       "<circle clip-path=\"url(#clip232)\" cx=\"2200.98\" cy=\"423.499\" r=\"14.4\" fill=\"#009af9\" fill-rule=\"evenodd\" fill-opacity=\"1\" stroke=\"#000000\" stroke-opacity=\"1\" stroke-width=\"2.4\"/>\n",
       "<circle clip-path=\"url(#clip232)\" cx=\"1103.76\" cy=\"813.193\" r=\"14.4\" fill=\"#009af9\" fill-rule=\"evenodd\" fill-opacity=\"1\" stroke=\"#000000\" stroke-opacity=\"1\" stroke-width=\"2.4\"/>\n",
       "<circle clip-path=\"url(#clip232)\" cx=\"1195.2\" cy=\"674.016\" r=\"14.4\" fill=\"#009af9\" fill-rule=\"evenodd\" fill-opacity=\"1\" stroke=\"#000000\" stroke-opacity=\"1\" stroke-width=\"2.4\"/>\n",
       "<circle clip-path=\"url(#clip232)\" cx=\"1652.37\" cy=\"618.346\" r=\"14.4\" fill=\"#009af9\" fill-rule=\"evenodd\" fill-opacity=\"1\" stroke=\"#000000\" stroke-opacity=\"1\" stroke-width=\"2.4\"/>\n",
       "<circle clip-path=\"url(#clip232)\" cx=\"1195.2\" cy=\"674.016\" r=\"14.4\" fill=\"#009af9\" fill-rule=\"evenodd\" fill-opacity=\"1\" stroke=\"#000000\" stroke-opacity=\"1\" stroke-width=\"2.4\"/>\n",
       "<circle clip-path=\"url(#clip232)\" cx=\"1560.94\" cy=\"687.934\" r=\"14.4\" fill=\"#009af9\" fill-rule=\"evenodd\" fill-opacity=\"1\" stroke=\"#000000\" stroke-opacity=\"1\" stroke-width=\"2.4\"/>\n",
       "<circle clip-path=\"url(#clip232)\" cx=\"2200.98\" cy=\"75.5589\" r=\"14.4\" fill=\"#009af9\" fill-rule=\"evenodd\" fill-opacity=\"1\" stroke=\"#000000\" stroke-opacity=\"1\" stroke-width=\"2.4\"/>\n",
       "<circle clip-path=\"url(#clip232)\" cx=\"1286.63\" cy=\"353.911\" r=\"14.4\" fill=\"#009af9\" fill-rule=\"evenodd\" fill-opacity=\"1\" stroke=\"#000000\" stroke-opacity=\"1\" stroke-width=\"2.4\"/>\n",
       "<circle clip-path=\"url(#clip232)\" cx=\"1103.76\" cy=\"715.769\" r=\"14.4\" fill=\"#009af9\" fill-rule=\"evenodd\" fill-opacity=\"1\" stroke=\"#000000\" stroke-opacity=\"1\" stroke-width=\"2.4\"/>\n",
       "<circle clip-path=\"url(#clip232)\" cx=\"2018.11\" cy=\"451.335\" r=\"14.4\" fill=\"#009af9\" fill-rule=\"evenodd\" fill-opacity=\"1\" stroke=\"#000000\" stroke-opacity=\"1\" stroke-width=\"2.4\"/>\n",
       "<circle clip-path=\"url(#clip232)\" cx=\"920.896\" cy=\"729.687\" r=\"14.4\" fill=\"#009af9\" fill-rule=\"evenodd\" fill-opacity=\"1\" stroke=\"#000000\" stroke-opacity=\"1\" stroke-width=\"2.4\"/>\n",
       "<circle clip-path=\"url(#clip232)\" cx=\"1195.2\" cy=\"729.687\" r=\"14.4\" fill=\"#009af9\" fill-rule=\"evenodd\" fill-opacity=\"1\" stroke=\"#000000\" stroke-opacity=\"1\" stroke-width=\"2.4\"/>\n",
       "<circle clip-path=\"url(#clip232)\" cx=\"1378.07\" cy=\"534.84\" r=\"14.4\" fill=\"#009af9\" fill-rule=\"evenodd\" fill-opacity=\"1\" stroke=\"#000000\" stroke-opacity=\"1\" stroke-width=\"2.4\"/>\n",
       "<circle clip-path=\"url(#clip232)\" cx=\"1378.07\" cy=\"729.687\" r=\"14.4\" fill=\"#009af9\" fill-rule=\"evenodd\" fill-opacity=\"1\" stroke=\"#000000\" stroke-opacity=\"1\" stroke-width=\"2.4\"/>\n",
       "<circle clip-path=\"url(#clip232)\" cx=\"1286.63\" cy=\"493.087\" r=\"14.4\" fill=\"#009af9\" fill-rule=\"evenodd\" fill-opacity=\"1\" stroke=\"#000000\" stroke-opacity=\"1\" stroke-width=\"2.4\"/>\n",
       "<circle clip-path=\"url(#clip232)\" cx=\"1286.63\" cy=\"729.687\" r=\"14.4\" fill=\"#009af9\" fill-rule=\"evenodd\" fill-opacity=\"1\" stroke=\"#000000\" stroke-opacity=\"1\" stroke-width=\"2.4\"/>\n",
       "<circle clip-path=\"url(#clip232)\" cx=\"1103.76\" cy=\"771.44\" r=\"14.4\" fill=\"#009af9\" fill-rule=\"evenodd\" fill-opacity=\"1\" stroke=\"#000000\" stroke-opacity=\"1\" stroke-width=\"2.4\"/>\n",
       "<circle clip-path=\"url(#clip232)\" cx=\"1286.63\" cy=\"660.099\" r=\"14.4\" fill=\"#009af9\" fill-rule=\"evenodd\" fill-opacity=\"1\" stroke=\"#000000\" stroke-opacity=\"1\" stroke-width=\"2.4\"/>\n",
       "<circle clip-path=\"url(#clip232)\" cx=\"1469.5\" cy=\"687.934\" r=\"14.4\" fill=\"#009af9\" fill-rule=\"evenodd\" fill-opacity=\"1\" stroke=\"#000000\" stroke-opacity=\"1\" stroke-width=\"2.4\"/>\n",
       "<circle clip-path=\"url(#clip232)\" cx=\"1012.33\" cy=\"792.316\" r=\"14.4\" fill=\"#009af9\" fill-rule=\"evenodd\" fill-opacity=\"1\" stroke=\"#000000\" stroke-opacity=\"1\" stroke-width=\"2.4\"/>\n",
       "<circle clip-path=\"url(#clip232)\" cx=\"1652.37\" cy=\"326.076\" r=\"14.4\" fill=\"#009af9\" fill-rule=\"evenodd\" fill-opacity=\"1\" stroke=\"#000000\" stroke-opacity=\"1\" stroke-width=\"2.4\"/>\n",
       "<circle clip-path=\"url(#clip232)\" cx=\"1012.33\" cy=\"715.769\" r=\"14.4\" fill=\"#009af9\" fill-rule=\"evenodd\" fill-opacity=\"1\" stroke=\"#000000\" stroke-opacity=\"1\" stroke-width=\"2.4\"/>\n",
       "<circle clip-path=\"url(#clip232)\" cx=\"1560.94\" cy=\"562.675\" r=\"14.4\" fill=\"#009af9\" fill-rule=\"evenodd\" fill-opacity=\"1\" stroke=\"#000000\" stroke-opacity=\"1\" stroke-width=\"2.4\"/>\n",
       "<circle clip-path=\"url(#clip232)\" cx=\"2200.98\" cy=\"263.447\" r=\"14.4\" fill=\"#009af9\" fill-rule=\"evenodd\" fill-opacity=\"1\" stroke=\"#000000\" stroke-opacity=\"1\" stroke-width=\"2.4\"/>\n",
       "<circle clip-path=\"url(#clip232)\" cx=\"1195.2\" cy=\"590.511\" r=\"14.4\" fill=\"#009af9\" fill-rule=\"evenodd\" fill-opacity=\"1\" stroke=\"#000000\" stroke-opacity=\"1\" stroke-width=\"2.4\"/>\n",
       "<circle clip-path=\"url(#clip232)\" cx=\"280.856\" cy=\"1019.39\" r=\"14.4\" fill=\"#cd5c5c\" fill-rule=\"evenodd\" fill-opacity=\"1\" stroke=\"#000000\" stroke-opacity=\"1\" stroke-width=\"2.4\"/>\n",
       "<circle clip-path=\"url(#clip232)\" cx=\"326.573\" cy=\"951.588\" r=\"14.4\" fill=\"#cd5c5c\" fill-rule=\"evenodd\" fill-opacity=\"1\" stroke=\"#000000\" stroke-opacity=\"1\" stroke-width=\"2.4\"/>\n",
       "<circle clip-path=\"url(#clip232)\" cx=\"372.29\" cy=\"921.603\" r=\"14.4\" fill=\"#cd5c5c\" fill-rule=\"evenodd\" fill-opacity=\"1\" stroke=\"#000000\" stroke-opacity=\"1\" stroke-width=\"2.4\"/>\n",
       "<circle clip-path=\"url(#clip232)\" cx=\"418.007\" cy=\"917.825\" r=\"14.4\" fill=\"#cd5c5c\" fill-rule=\"evenodd\" fill-opacity=\"1\" stroke=\"#000000\" stroke-opacity=\"1\" stroke-width=\"2.4\"/>\n",
       "<circle clip-path=\"url(#clip232)\" cx=\"463.724\" cy=\"913.827\" r=\"14.4\" fill=\"#cd5c5c\" fill-rule=\"evenodd\" fill-opacity=\"1\" stroke=\"#000000\" stroke-opacity=\"1\" stroke-width=\"2.4\"/>\n",
       "<circle clip-path=\"url(#clip232)\" cx=\"509.442\" cy=\"906.404\" r=\"14.4\" fill=\"#cd5c5c\" fill-rule=\"evenodd\" fill-opacity=\"1\" stroke=\"#000000\" stroke-opacity=\"1\" stroke-width=\"2.4\"/>\n",
       "<circle clip-path=\"url(#clip232)\" cx=\"555.159\" cy=\"878.276\" r=\"14.4\" fill=\"#cd5c5c\" fill-rule=\"evenodd\" fill-opacity=\"1\" stroke=\"#000000\" stroke-opacity=\"1\" stroke-width=\"2.4\"/>\n",
       "<circle clip-path=\"url(#clip232)\" cx=\"600.876\" cy=\"880.897\" r=\"14.4\" fill=\"#cd5c5c\" fill-rule=\"evenodd\" fill-opacity=\"1\" stroke=\"#000000\" stroke-opacity=\"1\" stroke-width=\"2.4\"/>\n",
       "<circle clip-path=\"url(#clip232)\" cx=\"646.593\" cy=\"867.307\" r=\"14.4\" fill=\"#cd5c5c\" fill-rule=\"evenodd\" fill-opacity=\"1\" stroke=\"#000000\" stroke-opacity=\"1\" stroke-width=\"2.4\"/>\n",
       "<circle clip-path=\"url(#clip232)\" cx=\"692.31\" cy=\"888.56\" r=\"14.4\" fill=\"#cd5c5c\" fill-rule=\"evenodd\" fill-opacity=\"1\" stroke=\"#000000\" stroke-opacity=\"1\" stroke-width=\"2.4\"/>\n",
       "<circle clip-path=\"url(#clip232)\" cx=\"738.027\" cy=\"791.063\" r=\"14.4\" fill=\"#cd5c5c\" fill-rule=\"evenodd\" fill-opacity=\"1\" stroke=\"#000000\" stroke-opacity=\"1\" stroke-width=\"2.4\"/>\n",
       "<circle clip-path=\"url(#clip232)\" cx=\"783.744\" cy=\"750.972\" r=\"14.4\" fill=\"#cd5c5c\" fill-rule=\"evenodd\" fill-opacity=\"1\" stroke=\"#000000\" stroke-opacity=\"1\" stroke-width=\"2.4\"/>\n",
       "<circle clip-path=\"url(#clip232)\" cx=\"829.461\" cy=\"783.59\" r=\"14.4\" fill=\"#cd5c5c\" fill-rule=\"evenodd\" fill-opacity=\"1\" stroke=\"#000000\" stroke-opacity=\"1\" stroke-width=\"2.4\"/>\n",
       "<circle clip-path=\"url(#clip232)\" cx=\"875.179\" cy=\"776.614\" r=\"14.4\" fill=\"#cd5c5c\" fill-rule=\"evenodd\" fill-opacity=\"1\" stroke=\"#000000\" stroke-opacity=\"1\" stroke-width=\"2.4\"/>\n",
       "<circle clip-path=\"url(#clip232)\" cx=\"920.896\" cy=\"768.913\" r=\"14.4\" fill=\"#cd5c5c\" fill-rule=\"evenodd\" fill-opacity=\"1\" stroke=\"#000000\" stroke-opacity=\"1\" stroke-width=\"2.4\"/>\n",
       "<circle clip-path=\"url(#clip232)\" cx=\"966.613\" cy=\"720.041\" r=\"14.4\" fill=\"#cd5c5c\" fill-rule=\"evenodd\" fill-opacity=\"1\" stroke=\"#000000\" stroke-opacity=\"1\" stroke-width=\"2.4\"/>\n",
       "<circle clip-path=\"url(#clip232)\" cx=\"1012.33\" cy=\"768.411\" r=\"14.4\" fill=\"#cd5c5c\" fill-rule=\"evenodd\" fill-opacity=\"1\" stroke=\"#000000\" stroke-opacity=\"1\" stroke-width=\"2.4\"/>\n",
       "<circle clip-path=\"url(#clip232)\" cx=\"1058.05\" cy=\"705.773\" r=\"14.4\" fill=\"#cd5c5c\" fill-rule=\"evenodd\" fill-opacity=\"1\" stroke=\"#000000\" stroke-opacity=\"1\" stroke-width=\"2.4\"/>\n",
       "<circle clip-path=\"url(#clip232)\" cx=\"1103.76\" cy=\"729.386\" r=\"14.4\" fill=\"#cd5c5c\" fill-rule=\"evenodd\" fill-opacity=\"1\" stroke=\"#000000\" stroke-opacity=\"1\" stroke-width=\"2.4\"/>\n",
       "<circle clip-path=\"url(#clip232)\" cx=\"1149.48\" cy=\"680.027\" r=\"14.4\" fill=\"#cd5c5c\" fill-rule=\"evenodd\" fill-opacity=\"1\" stroke=\"#000000\" stroke-opacity=\"1\" stroke-width=\"2.4\"/>\n",
       "<circle clip-path=\"url(#clip232)\" cx=\"1195.2\" cy=\"685.867\" r=\"14.4\" fill=\"#cd5c5c\" fill-rule=\"evenodd\" fill-opacity=\"1\" stroke=\"#000000\" stroke-opacity=\"1\" stroke-width=\"2.4\"/>\n",
       "<circle clip-path=\"url(#clip232)\" cx=\"1240.92\" cy=\"669.979\" r=\"14.4\" fill=\"#cd5c5c\" fill-rule=\"evenodd\" fill-opacity=\"1\" stroke=\"#000000\" stroke-opacity=\"1\" stroke-width=\"2.4\"/>\n",
       "<circle clip-path=\"url(#clip232)\" cx=\"1286.63\" cy=\"682.211\" r=\"14.4\" fill=\"#cd5c5c\" fill-rule=\"evenodd\" fill-opacity=\"1\" stroke=\"#000000\" stroke-opacity=\"1\" stroke-width=\"2.4\"/>\n",
       "<circle clip-path=\"url(#clip232)\" cx=\"1332.35\" cy=\"623.064\" r=\"14.4\" fill=\"#cd5c5c\" fill-rule=\"evenodd\" fill-opacity=\"1\" stroke=\"#000000\" stroke-opacity=\"1\" stroke-width=\"2.4\"/>\n",
       "<circle clip-path=\"url(#clip232)\" cx=\"1378.07\" cy=\"604.556\" r=\"14.4\" fill=\"#cd5c5c\" fill-rule=\"evenodd\" fill-opacity=\"1\" stroke=\"#000000\" stroke-opacity=\"1\" stroke-width=\"2.4\"/>\n",
       "<circle clip-path=\"url(#clip232)\" cx=\"1423.78\" cy=\"606.805\" r=\"14.4\" fill=\"#cd5c5c\" fill-rule=\"evenodd\" fill-opacity=\"1\" stroke=\"#000000\" stroke-opacity=\"1\" stroke-width=\"2.4\"/>\n",
       "<circle clip-path=\"url(#clip232)\" cx=\"1469.5\" cy=\"597.096\" r=\"14.4\" fill=\"#cd5c5c\" fill-rule=\"evenodd\" fill-opacity=\"1\" stroke=\"#000000\" stroke-opacity=\"1\" stroke-width=\"2.4\"/>\n",
       "<circle clip-path=\"url(#clip232)\" cx=\"1515.22\" cy=\"572.35\" r=\"14.4\" fill=\"#cd5c5c\" fill-rule=\"evenodd\" fill-opacity=\"1\" stroke=\"#000000\" stroke-opacity=\"1\" stroke-width=\"2.4\"/>\n",
       "<circle clip-path=\"url(#clip232)\" cx=\"1560.94\" cy=\"584.579\" r=\"14.4\" fill=\"#cd5c5c\" fill-rule=\"evenodd\" fill-opacity=\"1\" stroke=\"#000000\" stroke-opacity=\"1\" stroke-width=\"2.4\"/>\n",
       "<circle clip-path=\"url(#clip232)\" cx=\"1606.65\" cy=\"592.9\" r=\"14.4\" fill=\"#cd5c5c\" fill-rule=\"evenodd\" fill-opacity=\"1\" stroke=\"#000000\" stroke-opacity=\"1\" stroke-width=\"2.4\"/>\n",
       "<circle clip-path=\"url(#clip232)\" cx=\"1652.37\" cy=\"509.57\" r=\"14.4\" fill=\"#cd5c5c\" fill-rule=\"evenodd\" fill-opacity=\"1\" stroke=\"#000000\" stroke-opacity=\"1\" stroke-width=\"2.4\"/>\n",
       "<circle clip-path=\"url(#clip232)\" cx=\"1698.09\" cy=\"505.276\" r=\"14.4\" fill=\"#cd5c5c\" fill-rule=\"evenodd\" fill-opacity=\"1\" stroke=\"#000000\" stroke-opacity=\"1\" stroke-width=\"2.4\"/>\n",
       "<circle clip-path=\"url(#clip232)\" cx=\"1743.8\" cy=\"519.708\" r=\"14.4\" fill=\"#cd5c5c\" fill-rule=\"evenodd\" fill-opacity=\"1\" stroke=\"#000000\" stroke-opacity=\"1\" stroke-width=\"2.4\"/>\n",
       "<circle clip-path=\"url(#clip232)\" cx=\"1789.52\" cy=\"460.79\" r=\"14.4\" fill=\"#cd5c5c\" fill-rule=\"evenodd\" fill-opacity=\"1\" stroke=\"#000000\" stroke-opacity=\"1\" stroke-width=\"2.4\"/>\n",
       "<circle clip-path=\"url(#clip232)\" cx=\"1835.24\" cy=\"504.758\" r=\"14.4\" fill=\"#cd5c5c\" fill-rule=\"evenodd\" fill-opacity=\"1\" stroke=\"#000000\" stroke-opacity=\"1\" stroke-width=\"2.4\"/>\n",
       "<circle clip-path=\"url(#clip232)\" cx=\"1880.96\" cy=\"416.844\" r=\"14.4\" fill=\"#cd5c5c\" fill-rule=\"evenodd\" fill-opacity=\"1\" stroke=\"#000000\" stroke-opacity=\"1\" stroke-width=\"2.4\"/>\n",
       "<circle clip-path=\"url(#clip232)\" cx=\"1926.67\" cy=\"467.799\" r=\"14.4\" fill=\"#cd5c5c\" fill-rule=\"evenodd\" fill-opacity=\"1\" stroke=\"#000000\" stroke-opacity=\"1\" stroke-width=\"2.4\"/>\n",
       "<circle clip-path=\"url(#clip232)\" cx=\"1972.39\" cy=\"411.35\" r=\"14.4\" fill=\"#cd5c5c\" fill-rule=\"evenodd\" fill-opacity=\"1\" stroke=\"#000000\" stroke-opacity=\"1\" stroke-width=\"2.4\"/>\n",
       "<circle clip-path=\"url(#clip232)\" cx=\"2018.11\" cy=\"493.559\" r=\"14.4\" fill=\"#cd5c5c\" fill-rule=\"evenodd\" fill-opacity=\"1\" stroke=\"#000000\" stroke-opacity=\"1\" stroke-width=\"2.4\"/>\n",
       "<circle clip-path=\"url(#clip232)\" cx=\"2063.82\" cy=\"404.078\" r=\"14.4\" fill=\"#cd5c5c\" fill-rule=\"evenodd\" fill-opacity=\"1\" stroke=\"#000000\" stroke-opacity=\"1\" stroke-width=\"2.4\"/>\n",
       "<circle clip-path=\"url(#clip232)\" cx=\"2109.54\" cy=\"389.117\" r=\"14.4\" fill=\"#cd5c5c\" fill-rule=\"evenodd\" fill-opacity=\"1\" stroke=\"#000000\" stroke-opacity=\"1\" stroke-width=\"2.4\"/>\n",
       "<circle clip-path=\"url(#clip232)\" cx=\"2155.26\" cy=\"406.205\" r=\"14.4\" fill=\"#cd5c5c\" fill-rule=\"evenodd\" fill-opacity=\"1\" stroke=\"#000000\" stroke-opacity=\"1\" stroke-width=\"2.4\"/>\n",
       "<circle clip-path=\"url(#clip232)\" cx=\"2200.98\" cy=\"370.03\" r=\"14.4\" fill=\"#cd5c5c\" fill-rule=\"evenodd\" fill-opacity=\"1\" stroke=\"#000000\" stroke-opacity=\"1\" stroke-width=\"2.4\"/>\n",
       "<circle clip-path=\"url(#clip232)\" cx=\"2246.69\" cy=\"377.332\" r=\"14.4\" fill=\"#cd5c5c\" fill-rule=\"evenodd\" fill-opacity=\"1\" stroke=\"#000000\" stroke-opacity=\"1\" stroke-width=\"2.4\"/>\n",
       "<circle clip-path=\"url(#clip232)\" cx=\"2292.41\" cy=\"326.939\" r=\"14.4\" fill=\"#cd5c5c\" fill-rule=\"evenodd\" fill-opacity=\"1\" stroke=\"#000000\" stroke-opacity=\"1\" stroke-width=\"2.4\"/>\n",
       "<circle clip-path=\"url(#clip232)\" cx=\"280.856\" cy=\"863.485\" r=\"14.4\" fill=\"#2e8b57\" fill-rule=\"evenodd\" fill-opacity=\"1\" stroke=\"#000000\" stroke-opacity=\"1\" stroke-width=\"2.4\"/>\n",
       "<circle clip-path=\"url(#clip232)\" cx=\"326.573\" cy=\"839.456\" r=\"14.4\" fill=\"#2e8b57\" fill-rule=\"evenodd\" fill-opacity=\"1\" stroke=\"#000000\" stroke-opacity=\"1\" stroke-width=\"2.4\"/>\n",
       "<circle clip-path=\"url(#clip232)\" cx=\"372.29\" cy=\"836.938\" r=\"14.4\" fill=\"#2e8b57\" fill-rule=\"evenodd\" fill-opacity=\"1\" stroke=\"#000000\" stroke-opacity=\"1\" stroke-width=\"2.4\"/>\n",
       "<circle clip-path=\"url(#clip232)\" cx=\"418.007\" cy=\"870.644\" r=\"14.4\" fill=\"#2e8b57\" fill-rule=\"evenodd\" fill-opacity=\"1\" stroke=\"#000000\" stroke-opacity=\"1\" stroke-width=\"2.4\"/>\n",
       "<circle clip-path=\"url(#clip232)\" cx=\"463.724\" cy=\"798.168\" r=\"14.4\" fill=\"#2e8b57\" fill-rule=\"evenodd\" fill-opacity=\"1\" stroke=\"#000000\" stroke-opacity=\"1\" stroke-width=\"2.4\"/>\n",
       "<circle clip-path=\"url(#clip232)\" cx=\"509.442\" cy=\"796.097\" r=\"14.4\" fill=\"#2e8b57\" fill-rule=\"evenodd\" fill-opacity=\"1\" stroke=\"#000000\" stroke-opacity=\"1\" stroke-width=\"2.4\"/>\n",
       "<circle clip-path=\"url(#clip232)\" cx=\"555.159\" cy=\"847.781\" r=\"14.4\" fill=\"#2e8b57\" fill-rule=\"evenodd\" fill-opacity=\"1\" stroke=\"#000000\" stroke-opacity=\"1\" stroke-width=\"2.4\"/>\n",
       "<circle clip-path=\"url(#clip232)\" cx=\"600.876\" cy=\"800.781\" r=\"14.4\" fill=\"#2e8b57\" fill-rule=\"evenodd\" fill-opacity=\"1\" stroke=\"#000000\" stroke-opacity=\"1\" stroke-width=\"2.4\"/>\n",
       "<circle clip-path=\"url(#clip232)\" cx=\"646.593\" cy=\"788.952\" r=\"14.4\" fill=\"#2e8b57\" fill-rule=\"evenodd\" fill-opacity=\"1\" stroke=\"#000000\" stroke-opacity=\"1\" stroke-width=\"2.4\"/>\n",
       "<circle clip-path=\"url(#clip232)\" cx=\"692.31\" cy=\"828.644\" r=\"14.4\" fill=\"#2e8b57\" fill-rule=\"evenodd\" fill-opacity=\"1\" stroke=\"#000000\" stroke-opacity=\"1\" stroke-width=\"2.4\"/>\n",
       "<circle clip-path=\"url(#clip232)\" cx=\"738.027\" cy=\"770.281\" r=\"14.4\" fill=\"#2e8b57\" fill-rule=\"evenodd\" fill-opacity=\"1\" stroke=\"#000000\" stroke-opacity=\"1\" stroke-width=\"2.4\"/>\n",
       "<circle clip-path=\"url(#clip232)\" cx=\"783.744\" cy=\"748.837\" r=\"14.4\" fill=\"#2e8b57\" fill-rule=\"evenodd\" fill-opacity=\"1\" stroke=\"#000000\" stroke-opacity=\"1\" stroke-width=\"2.4\"/>\n",
       "<circle clip-path=\"url(#clip232)\" cx=\"829.461\" cy=\"716.402\" r=\"14.4\" fill=\"#2e8b57\" fill-rule=\"evenodd\" fill-opacity=\"1\" stroke=\"#000000\" stroke-opacity=\"1\" stroke-width=\"2.4\"/>\n",
       "<circle clip-path=\"url(#clip232)\" cx=\"875.179\" cy=\"712.822\" r=\"14.4\" fill=\"#2e8b57\" fill-rule=\"evenodd\" fill-opacity=\"1\" stroke=\"#000000\" stroke-opacity=\"1\" stroke-width=\"2.4\"/>\n",
       "<circle clip-path=\"url(#clip232)\" cx=\"920.896\" cy=\"763.433\" r=\"14.4\" fill=\"#2e8b57\" fill-rule=\"evenodd\" fill-opacity=\"1\" stroke=\"#000000\" stroke-opacity=\"1\" stroke-width=\"2.4\"/>\n",
       "<circle clip-path=\"url(#clip232)\" cx=\"966.613\" cy=\"718.088\" r=\"14.4\" fill=\"#2e8b57\" fill-rule=\"evenodd\" fill-opacity=\"1\" stroke=\"#000000\" stroke-opacity=\"1\" stroke-width=\"2.4\"/>\n",
       "<circle clip-path=\"url(#clip232)\" cx=\"1012.33\" cy=\"743.214\" r=\"14.4\" fill=\"#2e8b57\" fill-rule=\"evenodd\" fill-opacity=\"1\" stroke=\"#000000\" stroke-opacity=\"1\" stroke-width=\"2.4\"/>\n",
       "<circle clip-path=\"url(#clip232)\" cx=\"1058.05\" cy=\"674.193\" r=\"14.4\" fill=\"#2e8b57\" fill-rule=\"evenodd\" fill-opacity=\"1\" stroke=\"#000000\" stroke-opacity=\"1\" stroke-width=\"2.4\"/>\n",
       "<circle clip-path=\"url(#clip232)\" cx=\"1103.76\" cy=\"665.986\" r=\"14.4\" fill=\"#2e8b57\" fill-rule=\"evenodd\" fill-opacity=\"1\" stroke=\"#000000\" stroke-opacity=\"1\" stroke-width=\"2.4\"/>\n",
       "<circle clip-path=\"url(#clip232)\" cx=\"1149.48\" cy=\"716.428\" r=\"14.4\" fill=\"#2e8b57\" fill-rule=\"evenodd\" fill-opacity=\"1\" stroke=\"#000000\" stroke-opacity=\"1\" stroke-width=\"2.4\"/>\n",
       "<circle clip-path=\"url(#clip232)\" cx=\"1195.2\" cy=\"642.46\" r=\"14.4\" fill=\"#2e8b57\" fill-rule=\"evenodd\" fill-opacity=\"1\" stroke=\"#000000\" stroke-opacity=\"1\" stroke-width=\"2.4\"/>\n",
       "<circle clip-path=\"url(#clip232)\" cx=\"1240.92\" cy=\"641.5\" r=\"14.4\" fill=\"#2e8b57\" fill-rule=\"evenodd\" fill-opacity=\"1\" stroke=\"#000000\" stroke-opacity=\"1\" stroke-width=\"2.4\"/>\n",
       "<circle clip-path=\"url(#clip232)\" cx=\"1286.63\" cy=\"618.824\" r=\"14.4\" fill=\"#2e8b57\" fill-rule=\"evenodd\" fill-opacity=\"1\" stroke=\"#000000\" stroke-opacity=\"1\" stroke-width=\"2.4\"/>\n",
       "<circle clip-path=\"url(#clip232)\" cx=\"1332.35\" cy=\"596.245\" r=\"14.4\" fill=\"#2e8b57\" fill-rule=\"evenodd\" fill-opacity=\"1\" stroke=\"#000000\" stroke-opacity=\"1\" stroke-width=\"2.4\"/>\n",
       "<circle clip-path=\"url(#clip232)\" cx=\"1378.07\" cy=\"610.284\" r=\"14.4\" fill=\"#2e8b57\" fill-rule=\"evenodd\" fill-opacity=\"1\" stroke=\"#000000\" stroke-opacity=\"1\" stroke-width=\"2.4\"/>\n",
       "<circle clip-path=\"url(#clip232)\" cx=\"1423.78\" cy=\"579.126\" r=\"14.4\" fill=\"#2e8b57\" fill-rule=\"evenodd\" fill-opacity=\"1\" stroke=\"#000000\" stroke-opacity=\"1\" stroke-width=\"2.4\"/>\n",
       "<circle clip-path=\"url(#clip232)\" cx=\"1469.5\" cy=\"612.939\" r=\"14.4\" fill=\"#2e8b57\" fill-rule=\"evenodd\" fill-opacity=\"1\" stroke=\"#000000\" stroke-opacity=\"1\" stroke-width=\"2.4\"/>\n",
       "<circle clip-path=\"url(#clip232)\" cx=\"1515.22\" cy=\"574.219\" r=\"14.4\" fill=\"#2e8b57\" fill-rule=\"evenodd\" fill-opacity=\"1\" stroke=\"#000000\" stroke-opacity=\"1\" stroke-width=\"2.4\"/>\n",
       "<circle clip-path=\"url(#clip232)\" cx=\"1560.94\" cy=\"529.579\" r=\"14.4\" fill=\"#2e8b57\" fill-rule=\"evenodd\" fill-opacity=\"1\" stroke=\"#000000\" stroke-opacity=\"1\" stroke-width=\"2.4\"/>\n",
       "<circle clip-path=\"url(#clip232)\" cx=\"1606.65\" cy=\"564.554\" r=\"14.4\" fill=\"#2e8b57\" fill-rule=\"evenodd\" fill-opacity=\"1\" stroke=\"#000000\" stroke-opacity=\"1\" stroke-width=\"2.4\"/>\n",
       "<circle clip-path=\"url(#clip232)\" cx=\"1652.37\" cy=\"522.38\" r=\"14.4\" fill=\"#2e8b57\" fill-rule=\"evenodd\" fill-opacity=\"1\" stroke=\"#000000\" stroke-opacity=\"1\" stroke-width=\"2.4\"/>\n",
       "<circle clip-path=\"url(#clip232)\" cx=\"1698.09\" cy=\"575.686\" r=\"14.4\" fill=\"#2e8b57\" fill-rule=\"evenodd\" fill-opacity=\"1\" stroke=\"#000000\" stroke-opacity=\"1\" stroke-width=\"2.4\"/>\n",
       "<circle clip-path=\"url(#clip232)\" cx=\"1743.8\" cy=\"560.22\" r=\"14.4\" fill=\"#2e8b57\" fill-rule=\"evenodd\" fill-opacity=\"1\" stroke=\"#000000\" stroke-opacity=\"1\" stroke-width=\"2.4\"/>\n",
       "<circle clip-path=\"url(#clip232)\" cx=\"1789.52\" cy=\"526.021\" r=\"14.4\" fill=\"#2e8b57\" fill-rule=\"evenodd\" fill-opacity=\"1\" stroke=\"#000000\" stroke-opacity=\"1\" stroke-width=\"2.4\"/>\n",
       "<circle clip-path=\"url(#clip232)\" cx=\"1835.24\" cy=\"516.769\" r=\"14.4\" fill=\"#2e8b57\" fill-rule=\"evenodd\" fill-opacity=\"1\" stroke=\"#000000\" stroke-opacity=\"1\" stroke-width=\"2.4\"/>\n",
       "<circle clip-path=\"url(#clip232)\" cx=\"1880.96\" cy=\"426.308\" r=\"14.4\" fill=\"#2e8b57\" fill-rule=\"evenodd\" fill-opacity=\"1\" stroke=\"#000000\" stroke-opacity=\"1\" stroke-width=\"2.4\"/>\n",
       "<circle clip-path=\"url(#clip232)\" cx=\"1926.67\" cy=\"486.224\" r=\"14.4\" fill=\"#2e8b57\" fill-rule=\"evenodd\" fill-opacity=\"1\" stroke=\"#000000\" stroke-opacity=\"1\" stroke-width=\"2.4\"/>\n",
       "<circle clip-path=\"url(#clip232)\" cx=\"1972.39\" cy=\"479.61\" r=\"14.4\" fill=\"#2e8b57\" fill-rule=\"evenodd\" fill-opacity=\"1\" stroke=\"#000000\" stroke-opacity=\"1\" stroke-width=\"2.4\"/>\n",
       "<circle clip-path=\"url(#clip232)\" cx=\"2018.11\" cy=\"491.485\" r=\"14.4\" fill=\"#2e8b57\" fill-rule=\"evenodd\" fill-opacity=\"1\" stroke=\"#000000\" stroke-opacity=\"1\" stroke-width=\"2.4\"/>\n",
       "<circle clip-path=\"url(#clip232)\" cx=\"2063.82\" cy=\"399.79\" r=\"14.4\" fill=\"#2e8b57\" fill-rule=\"evenodd\" fill-opacity=\"1\" stroke=\"#000000\" stroke-opacity=\"1\" stroke-width=\"2.4\"/>\n",
       "<circle clip-path=\"url(#clip232)\" cx=\"2109.54\" cy=\"423.477\" r=\"14.4\" fill=\"#2e8b57\" fill-rule=\"evenodd\" fill-opacity=\"1\" stroke=\"#000000\" stroke-opacity=\"1\" stroke-width=\"2.4\"/>\n",
       "<circle clip-path=\"url(#clip232)\" cx=\"2155.26\" cy=\"393.684\" r=\"14.4\" fill=\"#2e8b57\" fill-rule=\"evenodd\" fill-opacity=\"1\" stroke=\"#000000\" stroke-opacity=\"1\" stroke-width=\"2.4\"/>\n",
       "<circle clip-path=\"url(#clip232)\" cx=\"2200.98\" cy=\"369.589\" r=\"14.4\" fill=\"#2e8b57\" fill-rule=\"evenodd\" fill-opacity=\"1\" stroke=\"#000000\" stroke-opacity=\"1\" stroke-width=\"2.4\"/>\n",
       "<circle clip-path=\"url(#clip232)\" cx=\"2246.69\" cy=\"381.544\" r=\"14.4\" fill=\"#2e8b57\" fill-rule=\"evenodd\" fill-opacity=\"1\" stroke=\"#000000\" stroke-opacity=\"1\" stroke-width=\"2.4\"/>\n",
       "<circle clip-path=\"url(#clip232)\" cx=\"2292.41\" cy=\"390.778\" r=\"14.4\" fill=\"#2e8b57\" fill-rule=\"evenodd\" fill-opacity=\"1\" stroke=\"#000000\" stroke-opacity=\"1\" stroke-width=\"2.4\"/>\n",
       "<polyline clip-path=\"url(#clip232)\" style=\"stroke:#cd5c5c; stroke-linecap:round; stroke-linejoin:round; stroke-width:8; stroke-opacity:1; fill:none\" points=\"\n",
       "  280.856,1019.39 326.573,951.588 372.29,921.603 418.007,917.825 463.724,913.827 509.442,906.404 555.159,878.276 600.876,880.897 646.593,867.307 692.31,888.56 \n",
       "  738.027,791.063 783.744,750.972 829.461,783.59 875.179,776.614 920.896,768.913 966.613,720.041 1012.33,768.411 1058.05,705.773 1103.76,729.386 1149.48,680.027 \n",
       "  1195.2,685.867 1240.92,669.979 1286.63,682.211 1332.35,623.064 1378.07,604.556 1423.78,606.805 1469.5,597.096 1515.22,572.35 1560.94,584.579 1606.65,592.9 \n",
       "  1652.37,509.57 1698.09,505.276 1743.8,519.708 1789.52,460.79 1835.24,504.758 1880.96,416.844 1926.67,467.799 1972.39,411.35 2018.11,493.559 2063.82,404.078 \n",
       "  2109.54,389.117 2155.26,406.205 2200.98,370.03 2246.69,377.332 2292.41,326.939 \n",
       "  \"/>\n",
       "<polyline clip-path=\"url(#clip232)\" style=\"stroke:#2e8b57; stroke-linecap:round; stroke-linejoin:round; stroke-width:8; stroke-opacity:1; fill:none\" points=\"\n",
       "  280.856,863.485 326.573,839.456 372.29,836.938 418.007,870.644 463.724,798.168 509.442,796.097 555.159,847.781 600.876,800.781 646.593,788.952 692.31,828.644 \n",
       "  738.027,770.281 783.744,748.837 829.461,716.402 875.179,712.822 920.896,763.433 966.613,718.088 1012.33,743.214 1058.05,674.193 1103.76,665.986 1149.48,716.428 \n",
       "  1195.2,642.46 1240.92,641.5 1286.63,618.824 1332.35,596.245 1378.07,610.284 1423.78,579.126 1469.5,612.939 1515.22,574.219 1560.94,529.579 1606.65,564.554 \n",
       "  1652.37,522.38 1698.09,575.686 1743.8,560.22 1789.52,526.021 1835.24,516.769 1880.96,426.308 1926.67,486.224 1972.39,479.61 2018.11,491.485 2063.82,399.79 \n",
       "  2109.54,423.477 2155.26,393.684 2200.98,369.589 2246.69,381.544 2292.41,390.778 \n",
       "  \"/>\n",
       "<path clip-path=\"url(#clip230)\" d=\"\n",
       "M457.426 402.855 L794.202 402.855 L794.202 195.495 L457.426 195.495  Z\n",
       "  \" fill=\"#ffffff\" fill-rule=\"evenodd\" fill-opacity=\"1\"/>\n",
       "<polyline clip-path=\"url(#clip230)\" style=\"stroke:#000000; stroke-linecap:round; stroke-linejoin:round; stroke-width:4; stroke-opacity:1; fill:none\" points=\"\n",
       "  457.426,402.855 794.202,402.855 794.202,195.495 457.426,195.495 457.426,402.855 \n",
       "  \"/>\n",
       "<circle clip-path=\"url(#clip230)\" cx=\"552.192\" cy=\"247.335\" r=\"23.04\" fill=\"#009af9\" fill-rule=\"evenodd\" fill-opacity=\"1\" stroke=\"#000000\" stroke-opacity=\"1\" stroke-width=\"3.84\"/>\n",
       "<path clip-path=\"url(#clip230)\" d=\"M665.871 242.625 L665.871 228.597 L670.13 228.597 L670.13 264.615 L665.871 264.615 L665.871 260.726 Q664.528 263.041 662.468 264.175 Q660.431 265.287 657.56 265.287 Q652.861 265.287 649.898 261.537 Q646.959 257.787 646.959 251.675 Q646.959 245.564 649.898 241.814 Q652.861 238.064 657.56 238.064 Q660.431 238.064 662.468 239.199 Q664.528 240.31 665.871 242.625 M651.357 251.675 Q651.357 256.375 653.278 259.06 Q655.223 261.722 658.602 261.722 Q661.982 261.722 663.926 259.06 Q665.871 256.375 665.871 251.675 Q665.871 246.976 663.926 244.314 Q661.982 241.629 658.602 241.629 Q655.223 241.629 653.278 244.314 Q651.357 246.976 651.357 251.675 Z\" fill=\"#000000\" fill-rule=\"evenodd\" fill-opacity=\"1\" /><path clip-path=\"url(#clip230)\" d=\"M690.685 251.583 Q685.523 251.583 683.533 252.763 Q681.542 253.944 681.542 256.791 Q681.542 259.06 683.023 260.402 Q684.528 261.722 687.097 261.722 Q690.639 261.722 692.769 259.222 Q694.921 256.699 694.921 252.532 L694.921 251.583 L690.685 251.583 M699.181 249.824 L699.181 264.615 L694.921 264.615 L694.921 260.68 Q693.463 263.041 691.287 264.175 Q689.111 265.287 685.963 265.287 Q681.982 265.287 679.621 263.064 Q677.283 260.819 677.283 257.069 Q677.283 252.694 680.199 250.472 Q683.139 248.25 688.949 248.25 L694.921 248.25 L694.921 247.833 Q694.921 244.893 692.977 243.296 Q691.056 241.676 687.56 241.676 Q685.338 241.676 683.232 242.208 Q681.125 242.74 679.181 243.805 L679.181 239.87 Q681.519 238.967 683.718 238.527 Q685.917 238.064 688 238.064 Q693.625 238.064 696.403 240.981 Q699.181 243.898 699.181 249.824 Z\" fill=\"#000000\" fill-rule=\"evenodd\" fill-opacity=\"1\" /><path clip-path=\"url(#clip230)\" d=\"M712.167 231.328 L712.167 238.689 L720.94 238.689 L720.94 242 L712.167 242 L712.167 256.074 Q712.167 259.245 713.023 260.148 Q713.903 261.05 716.565 261.05 L720.94 261.05 L720.94 264.615 L716.565 264.615 Q711.634 264.615 709.759 262.787 Q707.884 260.935 707.884 256.074 L707.884 242 L704.759 242 L704.759 238.689 L707.884 238.689 L707.884 231.328 L712.167 231.328 Z\" fill=\"#000000\" fill-rule=\"evenodd\" fill-opacity=\"1\" /><path clip-path=\"url(#clip230)\" d=\"M738.324 251.583 Q733.162 251.583 731.171 252.763 Q729.18 253.944 729.18 256.791 Q729.18 259.06 730.662 260.402 Q732.167 261.722 734.736 261.722 Q738.278 261.722 740.407 259.222 Q742.56 256.699 742.56 252.532 L742.56 251.583 L738.324 251.583 M746.819 249.824 L746.819 264.615 L742.56 264.615 L742.56 260.68 Q741.102 263.041 738.926 264.175 Q736.75 265.287 733.602 265.287 Q729.62 265.287 727.259 263.064 Q724.921 260.819 724.921 257.069 Q724.921 252.694 727.838 250.472 Q730.778 248.25 736.588 248.25 L742.56 248.25 L742.56 247.833 Q742.56 244.893 740.616 243.296 Q738.694 241.676 735.199 241.676 Q732.977 241.676 730.87 242.208 Q728.764 242.74 726.819 243.805 L726.819 239.87 Q729.157 238.967 731.356 238.527 Q733.555 238.064 735.639 238.064 Q741.264 238.064 744.041 240.981 Q746.819 243.898 746.819 249.824 Z\" fill=\"#000000\" fill-rule=\"evenodd\" fill-opacity=\"1\" /><circle clip-path=\"url(#clip230)\" cx=\"552.192\" cy=\"299.175\" r=\"23.04\" fill=\"#cd5c5c\" fill-rule=\"evenodd\" fill-opacity=\"1\" stroke=\"#000000\" stroke-opacity=\"1\" stroke-width=\"3.84\"/>\n",
       "<path clip-path=\"url(#clip230)\" d=\"M646.959 281.895 L653.926 281.895 L662.746 305.414 L671.611 281.895 L678.579 281.895 L678.579 316.455 L674.019 316.455 L674.019 286.108 L665.107 309.812 L660.408 309.812 L651.496 286.108 L651.496 316.455 L646.959 316.455 L646.959 281.895 Z\" fill=\"#000000\" fill-rule=\"evenodd\" fill-opacity=\"1\" /><path clip-path=\"url(#clip230)\" d=\"M687.861 281.895 L692.537 281.895 L692.537 312.52 L709.366 312.52 L709.366 316.455 L687.861 316.455 L687.861 281.895 Z\" fill=\"#000000\" fill-rule=\"evenodd\" fill-opacity=\"1\" /><circle clip-path=\"url(#clip230)\" cx=\"552.192\" cy=\"351.015\" r=\"23.04\" fill=\"#2e8b57\" fill-rule=\"evenodd\" fill-opacity=\"1\" stroke=\"#000000\" stroke-opacity=\"1\" stroke-width=\"3.84\"/>\n",
       "<path clip-path=\"url(#clip230)\" d=\"M646.959 333.735 L653.926 333.735 L662.746 357.254 L671.611 333.735 L678.579 333.735 L678.579 368.295 L674.019 368.295 L674.019 337.948 L665.107 361.652 L660.408 361.652 L651.496 337.948 L651.496 368.295 L646.959 368.295 L646.959 333.735 Z\" fill=\"#000000\" fill-rule=\"evenodd\" fill-opacity=\"1\" /><path clip-path=\"url(#clip230)\" d=\"M699.412 338.342 L693.07 355.541 L705.778 355.541 L699.412 338.342 M696.773 333.735 L702.074 333.735 L715.245 368.295 L710.384 368.295 L707.236 359.43 L691.657 359.43 L688.509 368.295 L683.579 368.295 L696.773 333.735 Z\" fill=\"#000000\" fill-rule=\"evenodd\" fill-opacity=\"1\" /><path clip-path=\"url(#clip230)\" d=\"M724.967 337.578 L724.967 350.564 L730.847 350.564 Q734.111 350.564 735.893 348.874 Q737.676 347.184 737.676 344.059 Q737.676 340.957 735.893 339.268 Q734.111 337.578 730.847 337.578 L724.967 337.578 M720.292 333.735 L730.847 333.735 Q736.657 333.735 739.62 336.374 Q742.606 338.99 742.606 344.059 Q742.606 349.175 739.62 351.791 Q736.657 354.406 730.847 354.406 L724.967 354.406 L724.967 368.295 L720.292 368.295 L720.292 333.735 Z\" fill=\"#000000\" fill-rule=\"evenodd\" fill-opacity=\"1\" /></svg>\n"
      ]
     },
     "execution_count": 25,
     "metadata": {},
     "output_type": "execute_result"
    }
   ],
   "source": [
    "a1 = Φ(p, θ_ML)\n",
    "a2 =  Φ(p, θ_MAP)\n",
    "scatter(X,Y, label = \"data\", legend = (0.2,0.8),\n",
    "            xlabel = \"Speed\",\n",
    "            ylabel = \"Dist\",\n",
    "            size = (600,300))\n",
    "scatter!(p, a1, lw = 2, c = :indianred, label =\"ML\")\n",
    "scatter!(p, a2, lw = 2, c = :seagreen, label = \"MAP\")\n",
    "plot!(p, a1, lw = 2, c = :indianred, label = false)\n",
    "plot!(p, a2, lw = 2, c = :seagreen, label = false)"
   ]
  },
  {
   "cell_type": "markdown",
   "metadata": {},
   "source": [
    "### Neural Network"
   ]
  },
  {
   "cell_type": "markdown",
   "metadata": {},
   "source": [
    "Finally, we want to determine the dependency of `Dist` and `Speed` using a neural network.\n",
    "\n",
    "We use the ReLu Activation Function."
   ]
  },
  {
   "cell_type": "code",
   "execution_count": 26,
   "metadata": {},
   "outputs": [],
   "source": [
    "σ(z) = max(0,z);"
   ]
  },
  {
   "cell_type": "markdown",
   "metadata": {},
   "source": [
    "We define the model by a depth 2 neural network with inner layers given by linear functions $\\mathbb R^1\\to \\mathbb R^2$ and $\\mathbb R^2\\to \\mathbb R^1$.\n",
    "\n",
    "This is a very simple neural network, but is therefore well suited to illustrate how it works."
   ]
  },
  {
   "cell_type": "code",
   "execution_count": 27,
   "metadata": {},
   "outputs": [],
   "source": [
    "function f_NN(x::Number, θ)\n",
    "    A, b = reshape(θ[1:2], 2, 1), θ[3:4]\n",
    "    y = σ.(A * x + b)\n",
    "    \n",
    "    A, b = reshape(θ[5:6], 1, 2), θ[7:7]\n",
    "    z = σ.(A * y + b)\n",
    "    \n",
    "    z[1]\n",
    "end\n",
    "f_NN(X::Vector, θ) = [f_NN(x, θ) for x in X];"
   ]
  },
  {
   "cell_type": "markdown",
   "metadata": {},
   "source": [
    "Since we don't have a closed form for the ERM estimator `θ_ERM` for the neural network, we have to determine `θ_ERM` by optimization methods.\n",
    "\n",
    "We will use the black box `optimize` function from the `Optim.jl` package."
   ]
  },
  {
   "cell_type": "code",
   "execution_count": 28,
   "metadata": {},
   "outputs": [],
   "source": [
    "R_NN(θ, X, Y) = mean((f_NN(X, θ) - Y).^2)\n",
    "o = optimize(θ -> R_NN(θ, X, Y), rand(7))\n",
    "θ_NN = Optim.minimizer(o);"
   ]
  },
  {
   "cell_type": "markdown",
   "metadata": {},
   "source": [
    "The neural network has now estimated a function, which we visualize again along with the training data."
   ]
  },
  {
   "cell_type": "code",
   "execution_count": 29,
   "metadata": {},
   "outputs": [
    {
     "data": {
      "image/svg+xml": [
       "<?xml version=\"1.0\" encoding=\"utf-8\"?>\n",
       "<svg xmlns=\"http://www.w3.org/2000/svg\" xmlns:xlink=\"http://www.w3.org/1999/xlink\" width=\"600\" height=\"300\" viewBox=\"0 0 2400 1200\">\n",
       "<defs>\n",
       "  <clipPath id=\"clip270\">\n",
       "    <rect x=\"0\" y=\"0\" width=\"2400\" height=\"1200\"/>\n",
       "  </clipPath>\n",
       "</defs>\n",
       "<path clip-path=\"url(#clip270)\" d=\"\n",
       "M0 1200 L2400 1200 L2400 0 L0 0  Z\n",
       "  \" fill=\"#ffffff\" fill-rule=\"evenodd\" fill-opacity=\"1\"/>\n",
       "<defs>\n",
       "  <clipPath id=\"clip271\">\n",
       "    <rect x=\"480\" y=\"0\" width=\"1681\" height=\"1200\"/>\n",
       "  </clipPath>\n",
       "</defs>\n",
       "<path clip-path=\"url(#clip270)\" d=\"\n",
       "M220.509 1047.7 L2352.76 1047.7 L2352.76 47.2441 L220.509 47.2441  Z\n",
       "  \" fill=\"#ffffff\" fill-rule=\"evenodd\" fill-opacity=\"1\"/>\n",
       "<defs>\n",
       "  <clipPath id=\"clip272\">\n",
       "    <rect x=\"220\" y=\"47\" width=\"2133\" height=\"1001\"/>\n",
       "  </clipPath>\n",
       "</defs>\n",
       "<polyline clip-path=\"url(#clip272)\" style=\"stroke:#000000; stroke-linecap:round; stroke-linejoin:round; stroke-width:2; stroke-opacity:0.1; fill:none\" points=\"\n",
       "  463.724,1047.7 463.724,47.2441 \n",
       "  \"/>\n",
       "<polyline clip-path=\"url(#clip272)\" style=\"stroke:#000000; stroke-linecap:round; stroke-linejoin:round; stroke-width:2; stroke-opacity:0.1; fill:none\" points=\"\n",
       "  920.896,1047.7 920.896,47.2441 \n",
       "  \"/>\n",
       "<polyline clip-path=\"url(#clip272)\" style=\"stroke:#000000; stroke-linecap:round; stroke-linejoin:round; stroke-width:2; stroke-opacity:0.1; fill:none\" points=\"\n",
       "  1378.07,1047.7 1378.07,47.2441 \n",
       "  \"/>\n",
       "<polyline clip-path=\"url(#clip272)\" style=\"stroke:#000000; stroke-linecap:round; stroke-linejoin:round; stroke-width:2; stroke-opacity:0.1; fill:none\" points=\"\n",
       "  1835.24,1047.7 1835.24,47.2441 \n",
       "  \"/>\n",
       "<polyline clip-path=\"url(#clip272)\" style=\"stroke:#000000; stroke-linecap:round; stroke-linejoin:round; stroke-width:2; stroke-opacity:0.1; fill:none\" points=\"\n",
       "  2292.41,1047.7 2292.41,47.2441 \n",
       "  \"/>\n",
       "<polyline clip-path=\"url(#clip270)\" style=\"stroke:#000000; stroke-linecap:round; stroke-linejoin:round; stroke-width:4; stroke-opacity:1; fill:none\" points=\"\n",
       "  220.509,1047.7 2352.76,1047.7 \n",
       "  \"/>\n",
       "<polyline clip-path=\"url(#clip270)\" style=\"stroke:#000000; stroke-linecap:round; stroke-linejoin:round; stroke-width:4; stroke-opacity:1; fill:none\" points=\"\n",
       "  463.724,1047.7 463.724,1028.8 \n",
       "  \"/>\n",
       "<polyline clip-path=\"url(#clip270)\" style=\"stroke:#000000; stroke-linecap:round; stroke-linejoin:round; stroke-width:4; stroke-opacity:1; fill:none\" points=\"\n",
       "  920.896,1047.7 920.896,1028.8 \n",
       "  \"/>\n",
       "<polyline clip-path=\"url(#clip270)\" style=\"stroke:#000000; stroke-linecap:round; stroke-linejoin:round; stroke-width:4; stroke-opacity:1; fill:none\" points=\"\n",
       "  1378.07,1047.7 1378.07,1028.8 \n",
       "  \"/>\n",
       "<polyline clip-path=\"url(#clip270)\" style=\"stroke:#000000; stroke-linecap:round; stroke-linejoin:round; stroke-width:4; stroke-opacity:1; fill:none\" points=\"\n",
       "  1835.24,1047.7 1835.24,1028.8 \n",
       "  \"/>\n",
       "<polyline clip-path=\"url(#clip270)\" style=\"stroke:#000000; stroke-linecap:round; stroke-linejoin:round; stroke-width:4; stroke-opacity:1; fill:none\" points=\"\n",
       "  2292.41,1047.7 2292.41,1028.8 \n",
       "  \"/>\n",
       "<path clip-path=\"url(#clip270)\" d=\"M454.002 1075.54 L472.359 1075.54 L472.359 1079.48 L458.285 1079.48 L458.285 1087.95 Q459.303 1087.6 460.322 1087.44 Q461.34 1087.25 462.359 1087.25 Q468.146 1087.25 471.525 1090.42 Q474.905 1093.6 474.905 1099.01 Q474.905 1104.59 471.433 1107.69 Q467.961 1110.77 461.641 1110.77 Q459.465 1110.77 457.197 1110.4 Q454.951 1110.03 452.544 1109.29 L452.544 1104.59 Q454.627 1105.72 456.849 1106.28 Q459.072 1106.84 461.549 1106.84 Q465.553 1106.84 467.891 1104.73 Q470.229 1102.62 470.229 1099.01 Q470.229 1095.4 467.891 1093.29 Q465.553 1091.19 461.549 1091.19 Q459.674 1091.19 457.799 1091.6 Q455.947 1092.02 454.002 1092.9 L454.002 1075.54 Z\" fill=\"#000000\" fill-rule=\"evenodd\" fill-opacity=\"1\" /><path clip-path=\"url(#clip270)\" d=\"M895.583 1106.16 L903.222 1106.16 L903.222 1079.8 L894.912 1081.47 L894.912 1077.21 L903.176 1075.54 L907.852 1075.54 L907.852 1106.16 L915.491 1106.16 L915.491 1110.1 L895.583 1110.1 L895.583 1106.16 Z\" fill=\"#000000\" fill-rule=\"evenodd\" fill-opacity=\"1\" /><path clip-path=\"url(#clip270)\" d=\"M934.935 1078.62 Q931.324 1078.62 929.495 1082.18 Q927.69 1085.72 927.69 1092.85 Q927.69 1099.96 929.495 1103.53 Q931.324 1107.07 934.935 1107.07 Q938.569 1107.07 940.375 1103.53 Q942.203 1099.96 942.203 1092.85 Q942.203 1085.72 940.375 1082.18 Q938.569 1078.62 934.935 1078.62 M934.935 1074.91 Q940.745 1074.91 943.801 1079.52 Q946.879 1084.1 946.879 1092.85 Q946.879 1101.58 943.801 1106.19 Q940.745 1110.77 934.935 1110.77 Q929.125 1110.77 926.046 1106.19 Q922.991 1101.58 922.991 1092.85 Q922.991 1084.1 926.046 1079.52 Q929.125 1074.91 934.935 1074.91 Z\" fill=\"#000000\" fill-rule=\"evenodd\" fill-opacity=\"1\" /><path clip-path=\"url(#clip270)\" d=\"M1353.25 1106.16 L1360.89 1106.16 L1360.89 1079.8 L1352.58 1081.47 L1352.58 1077.21 L1360.84 1075.54 L1365.52 1075.54 L1365.52 1106.16 L1373.16 1106.16 L1373.16 1110.1 L1353.25 1110.1 L1353.25 1106.16 Z\" fill=\"#000000\" fill-rule=\"evenodd\" fill-opacity=\"1\" /><path clip-path=\"url(#clip270)\" d=\"M1382.65 1075.54 L1401.01 1075.54 L1401.01 1079.48 L1386.93 1079.48 L1386.93 1087.95 Q1387.95 1087.6 1388.97 1087.44 Q1389.99 1087.25 1391.01 1087.25 Q1396.79 1087.25 1400.17 1090.42 Q1403.55 1093.6 1403.55 1099.01 Q1403.55 1104.59 1400.08 1107.69 Q1396.61 1110.77 1390.29 1110.77 Q1388.11 1110.77 1385.84 1110.4 Q1383.6 1110.03 1381.19 1109.29 L1381.19 1104.59 Q1383.28 1105.72 1385.5 1106.28 Q1387.72 1106.84 1390.2 1106.84 Q1394.2 1106.84 1396.54 1104.73 Q1398.88 1102.62 1398.88 1099.01 Q1398.88 1095.4 1396.54 1093.29 Q1394.2 1091.19 1390.2 1091.19 Q1388.32 1091.19 1386.45 1091.6 Q1384.59 1092.02 1382.65 1092.9 L1382.65 1075.54 Z\" fill=\"#000000\" fill-rule=\"evenodd\" fill-opacity=\"1\" /><path clip-path=\"url(#clip270)\" d=\"M1814.01 1106.16 L1830.33 1106.16 L1830.33 1110.1 L1808.39 1110.1 L1808.39 1106.16 Q1811.05 1103.41 1815.63 1098.78 Q1820.24 1094.13 1821.42 1092.79 Q1823.66 1090.26 1824.54 1088.53 Q1825.45 1086.77 1825.45 1085.08 Q1825.45 1082.32 1823.5 1080.59 Q1821.58 1078.85 1818.48 1078.85 Q1816.28 1078.85 1813.83 1079.61 Q1811.4 1080.38 1808.62 1081.93 L1808.62 1077.21 Q1811.44 1076.07 1813.9 1075.49 Q1816.35 1074.91 1818.39 1074.91 Q1823.76 1074.91 1826.95 1077.6 Q1830.15 1080.29 1830.15 1084.78 Q1830.15 1086.91 1829.34 1088.83 Q1828.55 1090.72 1826.44 1093.32 Q1825.86 1093.99 1822.76 1097.21 Q1819.66 1100.4 1814.01 1106.16 Z\" fill=\"#000000\" fill-rule=\"evenodd\" fill-opacity=\"1\" /><path clip-path=\"url(#clip270)\" d=\"M1850.15 1078.62 Q1846.53 1078.62 1844.71 1082.18 Q1842.9 1085.72 1842.9 1092.85 Q1842.9 1099.96 1844.71 1103.53 Q1846.53 1107.07 1850.15 1107.07 Q1853.78 1107.07 1855.59 1103.53 Q1857.41 1099.96 1857.41 1092.85 Q1857.41 1085.72 1855.59 1082.18 Q1853.78 1078.62 1850.15 1078.62 M1850.15 1074.91 Q1855.96 1074.91 1859.01 1079.52 Q1862.09 1084.1 1862.09 1092.85 Q1862.09 1101.58 1859.01 1106.19 Q1855.96 1110.77 1850.15 1110.77 Q1844.34 1110.77 1841.26 1106.19 Q1838.2 1101.58 1838.2 1092.85 Q1838.2 1084.1 1841.26 1079.52 Q1844.34 1074.91 1850.15 1074.91 Z\" fill=\"#000000\" fill-rule=\"evenodd\" fill-opacity=\"1\" /><path clip-path=\"url(#clip270)\" d=\"M2271.68 1106.16 L2288 1106.16 L2288 1110.1 L2266.06 1110.1 L2266.06 1106.16 Q2268.72 1103.41 2273.3 1098.78 Q2277.91 1094.13 2279.09 1092.79 Q2281.33 1090.26 2282.21 1088.53 Q2283.12 1086.77 2283.12 1085.08 Q2283.12 1082.32 2281.17 1080.59 Q2279.25 1078.85 2276.15 1078.85 Q2273.95 1078.85 2271.5 1079.61 Q2269.06 1080.38 2266.29 1081.93 L2266.29 1077.21 Q2269.11 1076.07 2271.56 1075.49 Q2274.02 1074.91 2276.06 1074.91 Q2281.43 1074.91 2284.62 1077.6 Q2287.81 1080.29 2287.81 1084.78 Q2287.81 1086.91 2287 1088.83 Q2286.22 1090.72 2284.11 1093.32 Q2283.53 1093.99 2280.43 1097.21 Q2277.33 1100.4 2271.68 1106.16 Z\" fill=\"#000000\" fill-rule=\"evenodd\" fill-opacity=\"1\" /><path clip-path=\"url(#clip270)\" d=\"M2297.86 1075.54 L2316.22 1075.54 L2316.22 1079.48 L2302.14 1079.48 L2302.14 1087.95 Q2303.16 1087.6 2304.18 1087.44 Q2305.2 1087.25 2306.22 1087.25 Q2312 1087.25 2315.38 1090.42 Q2318.76 1093.6 2318.76 1099.01 Q2318.76 1104.59 2315.29 1107.69 Q2311.82 1110.77 2305.5 1110.77 Q2303.32 1110.77 2301.06 1110.4 Q2298.81 1110.03 2296.4 1109.29 L2296.4 1104.59 Q2298.49 1105.72 2300.71 1106.28 Q2302.93 1106.84 2305.41 1106.84 Q2309.41 1106.84 2311.75 1104.73 Q2314.09 1102.62 2314.09 1099.01 Q2314.09 1095.4 2311.75 1093.29 Q2309.41 1091.19 2305.41 1091.19 Q2303.53 1091.19 2301.66 1091.6 Q2299.81 1092.02 2297.86 1092.9 L2297.86 1075.54 Z\" fill=\"#000000\" fill-rule=\"evenodd\" fill-opacity=\"1\" /><path clip-path=\"url(#clip270)\" d=\"M1220.16 1146.6 L1220.16 1152.87 Q1216.5 1151.12 1213.25 1150.26 Q1210.01 1149.4 1206.98 1149.4 Q1201.73 1149.4 1198.87 1151.44 Q1196.03 1153.48 1196.03 1157.23 Q1196.03 1160.39 1197.91 1162.01 Q1199.82 1163.6 1205.1 1164.59 L1208.99 1165.38 Q1216.18 1166.75 1219.59 1170.22 Q1223.02 1173.66 1223.02 1179.45 Q1223.02 1186.36 1218.38 1189.92 Q1213.76 1193.49 1204.82 1193.49 Q1201.44 1193.49 1197.62 1192.72 Q1193.84 1191.96 1189.76 1190.46 L1189.76 1183.84 Q1193.68 1186.04 1197.43 1187.15 Q1201.19 1188.27 1204.82 1188.27 Q1210.32 1188.27 1213.32 1186.1 Q1216.31 1183.94 1216.31 1179.93 Q1216.31 1176.43 1214.14 1174.45 Q1212.01 1172.48 1207.11 1171.49 L1203.19 1170.73 Q1196 1169.3 1192.79 1166.24 Q1189.57 1163.19 1189.57 1157.74 Q1189.57 1151.44 1194 1147.81 Q1198.45 1144.18 1206.25 1144.18 Q1209.59 1144.18 1213.06 1144.79 Q1216.53 1145.39 1220.16 1146.6 Z\" fill=\"#000000\" fill-rule=\"evenodd\" fill-opacity=\"1\" /><path clip-path=\"url(#clip270)\" d=\"M1238.46 1187.22 L1238.46 1206.12 L1232.57 1206.12 L1232.57 1156.92 L1238.46 1156.92 L1238.46 1162.33 Q1240.31 1159.14 1243.11 1157.62 Q1245.94 1156.06 1249.85 1156.06 Q1256.35 1156.06 1260.39 1161.21 Q1264.46 1166.37 1264.46 1174.77 Q1264.46 1183.17 1260.39 1188.33 Q1256.35 1193.49 1249.85 1193.49 Q1245.94 1193.49 1243.11 1191.96 Q1240.31 1190.4 1238.46 1187.22 M1258.38 1174.77 Q1258.38 1168.31 1255.71 1164.65 Q1253.07 1160.96 1248.42 1160.96 Q1243.78 1160.96 1241.1 1164.65 Q1238.46 1168.31 1238.46 1174.77 Q1238.46 1181.23 1241.1 1184.92 Q1243.78 1188.59 1248.42 1188.59 Q1253.07 1188.59 1255.71 1184.92 Q1258.38 1181.23 1258.38 1174.77 Z\" fill=\"#000000\" fill-rule=\"evenodd\" fill-opacity=\"1\" /><path clip-path=\"url(#clip270)\" d=\"M1304.66 1173.28 L1304.66 1176.14 L1277.74 1176.14 Q1278.12 1182.19 1281.37 1185.37 Q1284.64 1188.52 1290.47 1188.52 Q1293.84 1188.52 1296.99 1187.69 Q1300.18 1186.87 1303.29 1185.21 L1303.29 1190.75 Q1300.14 1192.09 1296.83 1192.79 Q1293.52 1193.49 1290.12 1193.49 Q1281.59 1193.49 1276.59 1188.52 Q1271.63 1183.56 1271.63 1175.09 Q1271.63 1166.34 1276.34 1161.21 Q1281.08 1156.06 1289.1 1156.06 Q1296.29 1156.06 1300.46 1160.7 Q1304.66 1165.32 1304.66 1173.28 M1298.81 1171.56 Q1298.74 1166.75 1296.1 1163.89 Q1293.49 1161.02 1289.16 1161.02 Q1284.26 1161.02 1281.3 1163.79 Q1278.37 1166.56 1277.93 1171.59 L1298.81 1171.56 Z\" fill=\"#000000\" fill-rule=\"evenodd\" fill-opacity=\"1\" /><path clip-path=\"url(#clip270)\" d=\"M1344.77 1173.28 L1344.77 1176.14 L1317.84 1176.14 Q1318.22 1182.19 1321.47 1185.37 Q1324.75 1188.52 1330.57 1188.52 Q1333.95 1188.52 1337.1 1187.69 Q1340.28 1186.87 1343.4 1185.21 L1343.4 1190.75 Q1340.25 1192.09 1336.94 1192.79 Q1333.63 1193.49 1330.22 1193.49 Q1321.69 1193.49 1316.69 1188.52 Q1311.73 1183.56 1311.73 1175.09 Q1311.73 1166.34 1316.44 1161.21 Q1321.18 1156.06 1329.2 1156.06 Q1336.4 1156.06 1340.57 1160.7 Q1344.77 1165.32 1344.77 1173.28 M1338.91 1171.56 Q1338.85 1166.75 1336.21 1163.89 Q1333.6 1161.02 1329.27 1161.02 Q1324.37 1161.02 1321.41 1163.79 Q1318.48 1166.56 1318.03 1171.59 L1338.91 1171.56 Z\" fill=\"#000000\" fill-rule=\"evenodd\" fill-opacity=\"1\" /><path clip-path=\"url(#clip270)\" d=\"M1377.84 1162.33 L1377.84 1143.04 L1383.69 1143.04 L1383.69 1192.56 L1377.84 1192.56 L1377.84 1187.22 Q1375.99 1190.4 1373.16 1191.96 Q1370.36 1193.49 1366.41 1193.49 Q1359.95 1193.49 1355.88 1188.33 Q1351.83 1183.17 1351.83 1174.77 Q1351.83 1166.37 1355.88 1161.21 Q1359.95 1156.06 1366.41 1156.06 Q1370.36 1156.06 1373.16 1157.62 Q1375.99 1159.14 1377.84 1162.33 M1357.88 1174.77 Q1357.88 1181.23 1360.52 1184.92 Q1363.2 1188.59 1367.84 1188.59 Q1372.49 1188.59 1375.16 1184.92 Q1377.84 1181.23 1377.84 1174.77 Q1377.84 1168.31 1375.16 1164.65 Q1372.49 1160.96 1367.84 1160.96 Q1363.2 1160.96 1360.52 1164.65 Q1357.88 1168.31 1357.88 1174.77 Z\" fill=\"#000000\" fill-rule=\"evenodd\" fill-opacity=\"1\" /><polyline clip-path=\"url(#clip272)\" style=\"stroke:#000000; stroke-linecap:round; stroke-linejoin:round; stroke-width:2; stroke-opacity:0.1; fill:none\" points=\"\n",
       "  220.509,1019.39 2352.76,1019.39 \n",
       "  \"/>\n",
       "<polyline clip-path=\"url(#clip272)\" style=\"stroke:#000000; stroke-linecap:round; stroke-linejoin:round; stroke-width:2; stroke-opacity:0.1; fill:none\" points=\"\n",
       "  220.509,822.755 2352.76,822.755 \n",
       "  \"/>\n",
       "<polyline clip-path=\"url(#clip272)\" style=\"stroke:#000000; stroke-linecap:round; stroke-linejoin:round; stroke-width:2; stroke-opacity:0.1; fill:none\" points=\"\n",
       "  220.509,626.124 2352.76,626.124 \n",
       "  \"/>\n",
       "<polyline clip-path=\"url(#clip272)\" style=\"stroke:#000000; stroke-linecap:round; stroke-linejoin:round; stroke-width:2; stroke-opacity:0.1; fill:none\" points=\"\n",
       "  220.509,429.494 2352.76,429.494 \n",
       "  \"/>\n",
       "<polyline clip-path=\"url(#clip272)\" style=\"stroke:#000000; stroke-linecap:round; stroke-linejoin:round; stroke-width:2; stroke-opacity:0.1; fill:none\" points=\"\n",
       "  220.509,232.863 2352.76,232.863 \n",
       "  \"/>\n",
       "<polyline clip-path=\"url(#clip270)\" style=\"stroke:#000000; stroke-linecap:round; stroke-linejoin:round; stroke-width:4; stroke-opacity:1; fill:none\" points=\"\n",
       "  220.509,1047.7 220.509,47.2441 \n",
       "  \"/>\n",
       "<polyline clip-path=\"url(#clip270)\" style=\"stroke:#000000; stroke-linecap:round; stroke-linejoin:round; stroke-width:4; stroke-opacity:1; fill:none\" points=\"\n",
       "  220.509,1019.39 239.407,1019.39 \n",
       "  \"/>\n",
       "<polyline clip-path=\"url(#clip270)\" style=\"stroke:#000000; stroke-linecap:round; stroke-linejoin:round; stroke-width:4; stroke-opacity:1; fill:none\" points=\"\n",
       "  220.509,822.755 239.407,822.755 \n",
       "  \"/>\n",
       "<polyline clip-path=\"url(#clip270)\" style=\"stroke:#000000; stroke-linecap:round; stroke-linejoin:round; stroke-width:4; stroke-opacity:1; fill:none\" points=\"\n",
       "  220.509,626.124 239.407,626.124 \n",
       "  \"/>\n",
       "<polyline clip-path=\"url(#clip270)\" style=\"stroke:#000000; stroke-linecap:round; stroke-linejoin:round; stroke-width:4; stroke-opacity:1; fill:none\" points=\"\n",
       "  220.509,429.494 239.407,429.494 \n",
       "  \"/>\n",
       "<polyline clip-path=\"url(#clip270)\" style=\"stroke:#000000; stroke-linecap:round; stroke-linejoin:round; stroke-width:4; stroke-opacity:1; fill:none\" points=\"\n",
       "  220.509,232.863 239.407,232.863 \n",
       "  \"/>\n",
       "<path clip-path=\"url(#clip270)\" d=\"M172.565 1005.18 Q168.954 1005.18 167.125 1008.75 Q165.32 1012.29 165.32 1019.42 Q165.32 1026.53 167.125 1030.09 Q168.954 1033.63 172.565 1033.63 Q176.199 1033.63 178.005 1030.09 Q179.833 1026.53 179.833 1019.42 Q179.833 1012.29 178.005 1008.75 Q176.199 1005.18 172.565 1005.18 M172.565 1001.48 Q178.375 1001.48 181.431 1006.09 Q184.509 1010.67 184.509 1019.42 Q184.509 1028.15 181.431 1032.75 Q178.375 1037.34 172.565 1037.34 Q166.755 1037.34 163.676 1032.75 Q160.621 1028.15 160.621 1019.42 Q160.621 1010.67 163.676 1006.09 Q166.755 1001.48 172.565 1001.48 Z\" fill=\"#000000\" fill-rule=\"evenodd\" fill-opacity=\"1\" /><path clip-path=\"url(#clip270)\" d=\"M137.426 836.099 L153.746 836.099 L153.746 840.035 L131.801 840.035 L131.801 836.099 Q134.463 833.345 139.047 828.715 Q143.653 824.062 144.834 822.72 Q147.079 820.197 147.959 818.461 Q148.861 816.701 148.861 815.012 Q148.861 812.257 146.917 810.521 Q144.996 808.785 141.894 808.785 Q139.695 808.785 137.241 809.549 Q134.811 810.313 132.033 811.863 L132.033 807.141 Q134.857 806.007 137.311 805.428 Q139.764 804.85 141.801 804.85 Q147.172 804.85 150.366 807.535 Q153.56 810.22 153.56 814.711 Q153.56 816.84 152.75 818.762 Q151.963 820.66 149.857 823.252 Q149.278 823.924 146.176 827.141 Q143.074 830.336 137.426 836.099 Z\" fill=\"#000000\" fill-rule=\"evenodd\" fill-opacity=\"1\" /><path clip-path=\"url(#clip270)\" d=\"M163.607 805.475 L181.963 805.475 L181.963 809.41 L167.889 809.41 L167.889 817.882 Q168.908 817.535 169.926 817.373 Q170.945 817.188 171.963 817.188 Q177.75 817.188 181.13 820.359 Q184.509 823.53 184.509 828.947 Q184.509 834.525 181.037 837.627 Q177.565 840.706 171.246 840.706 Q169.07 840.706 166.801 840.336 Q164.556 839.965 162.148 839.224 L162.148 834.525 Q164.232 835.66 166.454 836.215 Q168.676 836.771 171.153 836.771 Q175.158 836.771 177.495 834.664 Q179.833 832.558 179.833 828.947 Q179.833 825.336 177.495 823.229 Q175.158 821.123 171.153 821.123 Q169.278 821.123 167.403 821.539 Q165.551 821.956 163.607 822.836 L163.607 805.475 Z\" fill=\"#000000\" fill-rule=\"evenodd\" fill-opacity=\"1\" /><path clip-path=\"url(#clip270)\" d=\"M132.449 608.844 L150.806 608.844 L150.806 612.779 L136.732 612.779 L136.732 621.251 Q137.75 620.904 138.769 620.742 Q139.787 620.557 140.806 620.557 Q146.593 620.557 149.972 623.728 Q153.352 626.9 153.352 632.316 Q153.352 637.895 149.88 640.997 Q146.408 644.075 140.088 644.075 Q137.912 644.075 135.644 643.705 Q133.399 643.335 130.991 642.594 L130.991 637.895 Q133.074 639.029 135.297 639.585 Q137.519 640.14 139.996 640.14 Q144 640.14 146.338 638.034 Q148.676 635.927 148.676 632.316 Q148.676 628.705 146.338 626.599 Q144 624.492 139.996 624.492 Q138.121 624.492 136.246 624.909 Q134.394 625.326 132.449 626.205 L132.449 608.844 Z\" fill=\"#000000\" fill-rule=\"evenodd\" fill-opacity=\"1\" /><path clip-path=\"url(#clip270)\" d=\"M172.565 611.923 Q168.954 611.923 167.125 615.488 Q165.32 619.029 165.32 626.159 Q165.32 633.265 167.125 636.83 Q168.954 640.372 172.565 640.372 Q176.199 640.372 178.005 636.83 Q179.833 633.265 179.833 626.159 Q179.833 619.029 178.005 615.488 Q176.199 611.923 172.565 611.923 M172.565 608.219 Q178.375 608.219 181.431 612.826 Q184.509 617.409 184.509 626.159 Q184.509 634.886 181.431 639.492 Q178.375 644.075 172.565 644.075 Q166.755 644.075 163.676 639.492 Q160.621 634.886 160.621 626.159 Q160.621 617.409 163.676 612.826 Q166.755 608.219 172.565 608.219 Z\" fill=\"#000000\" fill-rule=\"evenodd\" fill-opacity=\"1\" /><path clip-path=\"url(#clip270)\" d=\"M132.218 412.214 L154.44 412.214 L154.44 414.204 L141.894 446.774 L137.01 446.774 L148.815 416.149 L132.218 416.149 L132.218 412.214 Z\" fill=\"#000000\" fill-rule=\"evenodd\" fill-opacity=\"1\" /><path clip-path=\"url(#clip270)\" d=\"M163.607 412.214 L181.963 412.214 L181.963 416.149 L167.889 416.149 L167.889 424.621 Q168.908 424.274 169.926 424.112 Q170.945 423.927 171.963 423.927 Q177.75 423.927 181.13 427.098 Q184.509 430.269 184.509 435.686 Q184.509 441.264 181.037 444.366 Q177.565 447.445 171.246 447.445 Q169.07 447.445 166.801 447.075 Q164.556 446.704 162.148 445.964 L162.148 441.264 Q164.232 442.399 166.454 442.954 Q168.676 443.51 171.153 443.51 Q175.158 443.51 177.495 441.403 Q179.833 439.297 179.833 435.686 Q179.833 432.075 177.495 429.968 Q175.158 427.862 171.153 427.862 Q169.278 427.862 167.403 428.278 Q165.551 428.695 163.607 429.575 L163.607 412.214 Z\" fill=\"#000000\" fill-rule=\"evenodd\" fill-opacity=\"1\" /><path clip-path=\"url(#clip270)\" d=\"M103.051 246.208 L110.69 246.208 L110.69 219.842 L102.38 221.509 L102.38 217.25 L110.644 215.583 L115.32 215.583 L115.32 246.208 L122.959 246.208 L122.959 250.143 L103.051 250.143 L103.051 246.208 Z\" fill=\"#000000\" fill-rule=\"evenodd\" fill-opacity=\"1\" /><path clip-path=\"url(#clip270)\" d=\"M142.403 218.662 Q138.792 218.662 136.963 222.227 Q135.158 225.768 135.158 232.898 Q135.158 240.004 136.963 243.569 Q138.792 247.111 142.403 247.111 Q146.037 247.111 147.843 243.569 Q149.672 240.004 149.672 232.898 Q149.672 225.768 147.843 222.227 Q146.037 218.662 142.403 218.662 M142.403 214.958 Q148.213 214.958 151.269 219.565 Q154.347 224.148 154.347 232.898 Q154.347 241.625 151.269 246.231 Q148.213 250.815 142.403 250.815 Q136.593 250.815 133.514 246.231 Q130.459 241.625 130.459 232.898 Q130.459 224.148 133.514 219.565 Q136.593 214.958 142.403 214.958 Z\" fill=\"#000000\" fill-rule=\"evenodd\" fill-opacity=\"1\" /><path clip-path=\"url(#clip270)\" d=\"M172.565 218.662 Q168.954 218.662 167.125 222.227 Q165.32 225.768 165.32 232.898 Q165.32 240.004 167.125 243.569 Q168.954 247.111 172.565 247.111 Q176.199 247.111 178.005 243.569 Q179.833 240.004 179.833 232.898 Q179.833 225.768 178.005 222.227 Q176.199 218.662 172.565 218.662 M172.565 214.958 Q178.375 214.958 181.431 219.565 Q184.509 224.148 184.509 232.898 Q184.509 241.625 181.431 246.231 Q178.375 250.815 172.565 250.815 Q166.755 250.815 163.676 246.231 Q160.621 241.625 160.621 232.898 Q160.621 224.148 163.676 219.565 Q166.755 214.958 172.565 214.958 Z\" fill=\"#000000\" fill-rule=\"evenodd\" fill-opacity=\"1\" /><path clip-path=\"url(#clip270)\" d=\"M9.88769 600.976 L46.8406 600.976 L46.8406 593.21 Q46.8406 583.375 42.3846 578.823 Q37.9286 574.24 28.3164 574.24 Q18.7679 574.24 14.3437 578.823 Q9.88769 583.375 9.88769 593.21 L9.88769 600.976 M4.60416 607.405 L4.60416 594.196 Q4.60416 580.383 10.3651 573.921 Q16.0943 567.46 28.3164 567.46 Q40.6022 567.46 46.3632 573.953 Q52.1242 580.446 52.1242 594.196 L52.1242 607.405 L4.60416 607.405 Z\" fill=\"#000000\" fill-rule=\"evenodd\" fill-opacity=\"1\" /><path clip-path=\"url(#clip270)\" d=\"M16.4762 557.466 L16.4762 551.61 L52.1242 551.61 L52.1242 557.466 L16.4762 557.466 M2.59896 557.466 L2.59896 551.61 L10.015 551.61 L10.015 557.466 L2.59896 557.466 Z\" fill=\"#000000\" fill-rule=\"evenodd\" fill-opacity=\"1\" /><path clip-path=\"url(#clip270)\" d=\"M17.5265 516.63 L23.0647 516.63 Q21.7916 519.113 21.155 521.786 Q20.5184 524.46 20.5184 527.325 Q20.5184 531.685 21.8552 533.881 Q23.192 536.046 25.8656 536.046 Q27.9026 536.046 29.0803 534.486 Q30.2261 532.926 31.2765 528.216 L31.7221 526.211 Q33.0589 519.972 35.5097 517.362 Q37.9286 514.72 42.2891 514.72 Q47.2544 514.72 50.1508 518.667 Q53.0472 522.582 53.0472 529.457 Q53.0472 532.322 52.4743 535.441 Q51.9332 538.528 50.8192 541.966 L44.7718 541.966 Q46.4587 538.719 47.318 535.568 Q48.1456 532.417 48.1456 529.33 Q48.1456 525.192 46.7451 522.964 Q45.3129 520.736 42.7347 520.736 Q40.3476 520.736 39.0745 522.359 Q37.8013 523.951 36.6237 529.393 L36.1462 531.43 Q35.0004 536.873 32.6451 539.292 Q30.258 541.711 26.1202 541.711 Q21.0913 541.711 18.3541 538.146 Q15.6168 534.581 15.6168 528.025 Q15.6168 524.778 16.0943 521.914 Q16.5717 519.049 17.5265 516.63 Z\" fill=\"#000000\" fill-rule=\"evenodd\" fill-opacity=\"1\" /><path clip-path=\"url(#clip270)\" d=\"M6.35473 499.602 L16.4762 499.602 L16.4762 487.539 L21.0277 487.539 L21.0277 499.602 L40.3794 499.602 Q44.7399 499.602 45.9813 498.424 Q47.2226 497.215 47.2226 493.554 L47.2226 487.539 L52.1242 487.539 L52.1242 493.554 Q52.1242 500.334 49.6097 502.912 Q47.0634 505.49 40.3794 505.49 L21.0277 505.49 L21.0277 509.787 L16.4762 509.787 L16.4762 505.49 L6.35473 505.49 L6.35473 499.602 Z\" fill=\"#000000\" fill-rule=\"evenodd\" fill-opacity=\"1\" /><circle clip-path=\"url(#clip272)\" cx=\"1743.8\" cy=\"484.55\" r=\"14.4\" fill=\"#009af9\" fill-rule=\"evenodd\" fill-opacity=\"1\" stroke=\"#000000\" stroke-opacity=\"1\" stroke-width=\"2.4\"/>\n",
       "<circle clip-path=\"url(#clip272)\" cx=\"1743.8\" cy=\"736.237\" r=\"14.4\" fill=\"#009af9\" fill-rule=\"evenodd\" fill-opacity=\"1\" stroke=\"#000000\" stroke-opacity=\"1\" stroke-width=\"2.4\"/>\n",
       "<circle clip-path=\"url(#clip272)\" cx=\"372.29\" cy=\"940.733\" r=\"14.4\" fill=\"#009af9\" fill-rule=\"evenodd\" fill-opacity=\"1\" stroke=\"#000000\" stroke-opacity=\"1\" stroke-width=\"2.4\"/>\n",
       "<circle clip-path=\"url(#clip272)\" cx=\"920.896\" cy=\"751.968\" r=\"14.4\" fill=\"#009af9\" fill-rule=\"evenodd\" fill-opacity=\"1\" stroke=\"#000000\" stroke-opacity=\"1\" stroke-width=\"2.4\"/>\n",
       "<circle clip-path=\"url(#clip272)\" cx=\"1378.07\" cy=\"862.081\" r=\"14.4\" fill=\"#009af9\" fill-rule=\"evenodd\" fill-opacity=\"1\" stroke=\"#000000\" stroke-opacity=\"1\" stroke-width=\"2.4\"/>\n",
       "<circle clip-path=\"url(#clip272)\" cx=\"2200.98\" cy=\"295.785\" r=\"14.4\" fill=\"#009af9\" fill-rule=\"evenodd\" fill-opacity=\"1\" stroke=\"#000000\" stroke-opacity=\"1\" stroke-width=\"2.4\"/>\n",
       "<circle clip-path=\"url(#clip272)\" cx=\"646.593\" cy=\"987.924\" r=\"14.4\" fill=\"#009af9\" fill-rule=\"evenodd\" fill-opacity=\"1\" stroke=\"#000000\" stroke-opacity=\"1\" stroke-width=\"2.4\"/>\n",
       "<circle clip-path=\"url(#clip272)\" cx=\"372.29\" cy=\"1003.65\" r=\"14.4\" fill=\"#009af9\" fill-rule=\"evenodd\" fill-opacity=\"1\" stroke=\"#000000\" stroke-opacity=\"1\" stroke-width=\"2.4\"/>\n",
       "<circle clip-path=\"url(#clip272)\" cx=\"1560.94\" cy=\"704.776\" r=\"14.4\" fill=\"#009af9\" fill-rule=\"evenodd\" fill-opacity=\"1\" stroke=\"#000000\" stroke-opacity=\"1\" stroke-width=\"2.4\"/>\n",
       "<circle clip-path=\"url(#clip272)\" cx=\"1835.24\" cy=\"610.394\" r=\"14.4\" fill=\"#009af9\" fill-rule=\"evenodd\" fill-opacity=\"1\" stroke=\"#000000\" stroke-opacity=\"1\" stroke-width=\"2.4\"/>\n",
       "<circle clip-path=\"url(#clip272)\" cx=\"1835.24\" cy=\"767.698\" r=\"14.4\" fill=\"#009af9\" fill-rule=\"evenodd\" fill-opacity=\"1\" stroke=\"#000000\" stroke-opacity=\"1\" stroke-width=\"2.4\"/>\n",
       "<circle clip-path=\"url(#clip272)\" cx=\"1835.24\" cy=\"578.933\" r=\"14.4\" fill=\"#009af9\" fill-rule=\"evenodd\" fill-opacity=\"1\" stroke=\"#000000\" stroke-opacity=\"1\" stroke-width=\"2.4\"/>\n",
       "<circle clip-path=\"url(#clip272)\" cx=\"1835.24\" cy=\"516.011\" r=\"14.4\" fill=\"#009af9\" fill-rule=\"evenodd\" fill-opacity=\"1\" stroke=\"#000000\" stroke-opacity=\"1\" stroke-width=\"2.4\"/>\n",
       "<circle clip-path=\"url(#clip272)\" cx=\"2200.98\" cy=\"468.82\" r=\"14.4\" fill=\"#009af9\" fill-rule=\"evenodd\" fill-opacity=\"1\" stroke=\"#000000\" stroke-opacity=\"1\" stroke-width=\"2.4\"/>\n",
       "<circle clip-path=\"url(#clip272)\" cx=\"1103.76\" cy=\"909.272\" r=\"14.4\" fill=\"#009af9\" fill-rule=\"evenodd\" fill-opacity=\"1\" stroke=\"#000000\" stroke-opacity=\"1\" stroke-width=\"2.4\"/>\n",
       "<circle clip-path=\"url(#clip272)\" cx=\"1195.2\" cy=\"751.968\" r=\"14.4\" fill=\"#009af9\" fill-rule=\"evenodd\" fill-opacity=\"1\" stroke=\"#000000\" stroke-opacity=\"1\" stroke-width=\"2.4\"/>\n",
       "<circle clip-path=\"url(#clip272)\" cx=\"1652.37\" cy=\"689.046\" r=\"14.4\" fill=\"#009af9\" fill-rule=\"evenodd\" fill-opacity=\"1\" stroke=\"#000000\" stroke-opacity=\"1\" stroke-width=\"2.4\"/>\n",
       "<circle clip-path=\"url(#clip272)\" cx=\"1195.2\" cy=\"751.968\" r=\"14.4\" fill=\"#009af9\" fill-rule=\"evenodd\" fill-opacity=\"1\" stroke=\"#000000\" stroke-opacity=\"1\" stroke-width=\"2.4\"/>\n",
       "<circle clip-path=\"url(#clip272)\" cx=\"1560.94\" cy=\"767.698\" r=\"14.4\" fill=\"#009af9\" fill-rule=\"evenodd\" fill-opacity=\"1\" stroke=\"#000000\" stroke-opacity=\"1\" stroke-width=\"2.4\"/>\n",
       "<circle clip-path=\"url(#clip272)\" cx=\"2200.98\" cy=\"75.5589\" r=\"14.4\" fill=\"#009af9\" fill-rule=\"evenodd\" fill-opacity=\"1\" stroke=\"#000000\" stroke-opacity=\"1\" stroke-width=\"2.4\"/>\n",
       "<circle clip-path=\"url(#clip272)\" cx=\"1286.63\" cy=\"390.168\" r=\"14.4\" fill=\"#009af9\" fill-rule=\"evenodd\" fill-opacity=\"1\" stroke=\"#000000\" stroke-opacity=\"1\" stroke-width=\"2.4\"/>\n",
       "<circle clip-path=\"url(#clip272)\" cx=\"1103.76\" cy=\"799.159\" r=\"14.4\" fill=\"#009af9\" fill-rule=\"evenodd\" fill-opacity=\"1\" stroke=\"#000000\" stroke-opacity=\"1\" stroke-width=\"2.4\"/>\n",
       "<circle clip-path=\"url(#clip272)\" cx=\"2018.11\" cy=\"500.281\" r=\"14.4\" fill=\"#009af9\" fill-rule=\"evenodd\" fill-opacity=\"1\" stroke=\"#000000\" stroke-opacity=\"1\" stroke-width=\"2.4\"/>\n",
       "<circle clip-path=\"url(#clip272)\" cx=\"920.896\" cy=\"814.889\" r=\"14.4\" fill=\"#009af9\" fill-rule=\"evenodd\" fill-opacity=\"1\" stroke=\"#000000\" stroke-opacity=\"1\" stroke-width=\"2.4\"/>\n",
       "<circle clip-path=\"url(#clip272)\" cx=\"1195.2\" cy=\"814.889\" r=\"14.4\" fill=\"#009af9\" fill-rule=\"evenodd\" fill-opacity=\"1\" stroke=\"#000000\" stroke-opacity=\"1\" stroke-width=\"2.4\"/>\n",
       "<circle clip-path=\"url(#clip272)\" cx=\"1378.07\" cy=\"594.663\" r=\"14.4\" fill=\"#009af9\" fill-rule=\"evenodd\" fill-opacity=\"1\" stroke=\"#000000\" stroke-opacity=\"1\" stroke-width=\"2.4\"/>\n",
       "<circle clip-path=\"url(#clip272)\" cx=\"1378.07\" cy=\"814.889\" r=\"14.4\" fill=\"#009af9\" fill-rule=\"evenodd\" fill-opacity=\"1\" stroke=\"#000000\" stroke-opacity=\"1\" stroke-width=\"2.4\"/>\n",
       "<circle clip-path=\"url(#clip272)\" cx=\"1286.63\" cy=\"547.472\" r=\"14.4\" fill=\"#009af9\" fill-rule=\"evenodd\" fill-opacity=\"1\" stroke=\"#000000\" stroke-opacity=\"1\" stroke-width=\"2.4\"/>\n",
       "<circle clip-path=\"url(#clip272)\" cx=\"1286.63\" cy=\"814.889\" r=\"14.4\" fill=\"#009af9\" fill-rule=\"evenodd\" fill-opacity=\"1\" stroke=\"#000000\" stroke-opacity=\"1\" stroke-width=\"2.4\"/>\n",
       "<circle clip-path=\"url(#clip272)\" cx=\"1103.76\" cy=\"862.081\" r=\"14.4\" fill=\"#009af9\" fill-rule=\"evenodd\" fill-opacity=\"1\" stroke=\"#000000\" stroke-opacity=\"1\" stroke-width=\"2.4\"/>\n",
       "<circle clip-path=\"url(#clip272)\" cx=\"1286.63\" cy=\"736.237\" r=\"14.4\" fill=\"#009af9\" fill-rule=\"evenodd\" fill-opacity=\"1\" stroke=\"#000000\" stroke-opacity=\"1\" stroke-width=\"2.4\"/>\n",
       "<circle clip-path=\"url(#clip272)\" cx=\"1469.5\" cy=\"767.698\" r=\"14.4\" fill=\"#009af9\" fill-rule=\"evenodd\" fill-opacity=\"1\" stroke=\"#000000\" stroke-opacity=\"1\" stroke-width=\"2.4\"/>\n",
       "<circle clip-path=\"url(#clip272)\" cx=\"1012.33\" cy=\"885.676\" r=\"14.4\" fill=\"#009af9\" fill-rule=\"evenodd\" fill-opacity=\"1\" stroke=\"#000000\" stroke-opacity=\"1\" stroke-width=\"2.4\"/>\n",
       "<circle clip-path=\"url(#clip272)\" cx=\"1652.37\" cy=\"358.707\" r=\"14.4\" fill=\"#009af9\" fill-rule=\"evenodd\" fill-opacity=\"1\" stroke=\"#000000\" stroke-opacity=\"1\" stroke-width=\"2.4\"/>\n",
       "<circle clip-path=\"url(#clip272)\" cx=\"1012.33\" cy=\"799.159\" r=\"14.4\" fill=\"#009af9\" fill-rule=\"evenodd\" fill-opacity=\"1\" stroke=\"#000000\" stroke-opacity=\"1\" stroke-width=\"2.4\"/>\n",
       "<circle clip-path=\"url(#clip272)\" cx=\"1560.94\" cy=\"626.124\" r=\"14.4\" fill=\"#009af9\" fill-rule=\"evenodd\" fill-opacity=\"1\" stroke=\"#000000\" stroke-opacity=\"1\" stroke-width=\"2.4\"/>\n",
       "<circle clip-path=\"url(#clip272)\" cx=\"2200.98\" cy=\"287.92\" r=\"14.4\" fill=\"#009af9\" fill-rule=\"evenodd\" fill-opacity=\"1\" stroke=\"#000000\" stroke-opacity=\"1\" stroke-width=\"2.4\"/>\n",
       "<circle clip-path=\"url(#clip272)\" cx=\"1195.2\" cy=\"657.585\" r=\"14.4\" fill=\"#009af9\" fill-rule=\"evenodd\" fill-opacity=\"1\" stroke=\"#000000\" stroke-opacity=\"1\" stroke-width=\"2.4\"/>\n",
       "<polyline clip-path=\"url(#clip272)\" style=\"stroke:#e26f46; stroke-linecap:round; stroke-linejoin:round; stroke-width:8; stroke-opacity:1; fill:none\" points=\"\n",
       "  280.856,1019.39 326.573,1019.39 372.29,1019.39 418.007,1019.39 463.724,1019.39 509.442,1019.39 555.159,1009.86 600.876,992.444 646.593,975.032 692.31,957.62 \n",
       "  738.027,940.207 783.744,922.795 829.461,905.383 875.179,887.97 920.896,870.558 966.613,853.146 1012.33,835.734 1058.05,818.321 1103.76,800.909 1149.48,783.497 \n",
       "  1195.2,766.084 1240.92,748.672 1286.63,731.26 1332.35,713.848 1378.07,696.435 1423.78,679.023 1469.5,661.611 1515.22,644.199 1560.94,626.786 1606.65,609.374 \n",
       "  1652.37,591.962 1698.09,574.549 1743.8,557.137 1789.52,539.725 1835.24,522.313 1880.96,504.9 1926.67,487.488 1972.39,470.076 2018.11,452.663 2063.82,435.251 \n",
       "  2109.54,417.839 2155.26,400.427 2200.98,383.014 2246.69,365.602 2292.41,348.19 \n",
       "  \"/>\n",
       "</svg>\n"
      ]
     },
     "execution_count": 29,
     "metadata": {},
     "output_type": "execute_result"
    }
   ],
   "source": [
    "scatter(X,Y, legend=false, \n",
    "            xlabel = \"Speed\",\n",
    "            ylabel = \"Dist\",\n",
    "            size = (600,300))\n",
    "plot!(p, f_NN(p, θ_NN), lw = 2)"
   ]
  },
  {
   "cell_type": "markdown",
   "metadata": {},
   "source": [
    "## Model Selection"
   ]
  },
  {
   "cell_type": "markdown",
   "metadata": {},
   "source": [
    "Finally, we want to assess which model is best suited to describe the data. To do this, we evaluate the estimators on the test data.\n",
    "\n",
    "First we plot all the estimated functions along with the test data."
   ]
  },
  {
   "cell_type": "code",
   "execution_count": 30,
   "metadata": {},
   "outputs": [
    {
     "data": {
      "image/svg+xml": [
       "<?xml version=\"1.0\" encoding=\"utf-8\"?>\n",
       "<svg xmlns=\"http://www.w3.org/2000/svg\" xmlns:xlink=\"http://www.w3.org/1999/xlink\" width=\"600\" height=\"300\" viewBox=\"0 0 2400 1200\">\n",
       "<defs>\n",
       "  <clipPath id=\"clip310\">\n",
       "    <rect x=\"0\" y=\"0\" width=\"2400\" height=\"1200\"/>\n",
       "  </clipPath>\n",
       "</defs>\n",
       "<path clip-path=\"url(#clip310)\" d=\"\n",
       "M0 1200 L2400 1200 L2400 0 L0 0  Z\n",
       "  \" fill=\"#ffffff\" fill-rule=\"evenodd\" fill-opacity=\"1\"/>\n",
       "<defs>\n",
       "  <clipPath id=\"clip311\">\n",
       "    <rect x=\"480\" y=\"0\" width=\"1681\" height=\"1200\"/>\n",
       "  </clipPath>\n",
       "</defs>\n",
       "<path clip-path=\"url(#clip310)\" d=\"\n",
       "M193.241 1047.7 L2352.76 1047.7 L2352.76 47.2441 L193.241 47.2441  Z\n",
       "  \" fill=\"#ffffff\" fill-rule=\"evenodd\" fill-opacity=\"1\"/>\n",
       "<defs>\n",
       "  <clipPath id=\"clip312\">\n",
       "    <rect x=\"193\" y=\"47\" width=\"2161\" height=\"1001\"/>\n",
       "  </clipPath>\n",
       "</defs>\n",
       "<polyline clip-path=\"url(#clip312)\" style=\"stroke:#000000; stroke-linecap:round; stroke-linejoin:round; stroke-width:2; stroke-opacity:0.1; fill:none\" points=\"\n",
       "  439.566,1047.7 439.566,47.2441 \n",
       "  \"/>\n",
       "<polyline clip-path=\"url(#clip312)\" style=\"stroke:#000000; stroke-linecap:round; stroke-linejoin:round; stroke-width:2; stroke-opacity:0.1; fill:none\" points=\"\n",
       "  902.584,1047.7 902.584,47.2441 \n",
       "  \"/>\n",
       "<polyline clip-path=\"url(#clip312)\" style=\"stroke:#000000; stroke-linecap:round; stroke-linejoin:round; stroke-width:2; stroke-opacity:0.1; fill:none\" points=\"\n",
       "  1365.6,1047.7 1365.6,47.2441 \n",
       "  \"/>\n",
       "<polyline clip-path=\"url(#clip312)\" style=\"stroke:#000000; stroke-linecap:round; stroke-linejoin:round; stroke-width:2; stroke-opacity:0.1; fill:none\" points=\"\n",
       "  1828.62,1047.7 1828.62,47.2441 \n",
       "  \"/>\n",
       "<polyline clip-path=\"url(#clip312)\" style=\"stroke:#000000; stroke-linecap:round; stroke-linejoin:round; stroke-width:2; stroke-opacity:0.1; fill:none\" points=\"\n",
       "  2291.64,1047.7 2291.64,47.2441 \n",
       "  \"/>\n",
       "<polyline clip-path=\"url(#clip310)\" style=\"stroke:#000000; stroke-linecap:round; stroke-linejoin:round; stroke-width:4; stroke-opacity:1; fill:none\" points=\"\n",
       "  193.241,1047.7 2352.76,1047.7 \n",
       "  \"/>\n",
       "<polyline clip-path=\"url(#clip310)\" style=\"stroke:#000000; stroke-linecap:round; stroke-linejoin:round; stroke-width:4; stroke-opacity:1; fill:none\" points=\"\n",
       "  439.566,1047.7 439.566,1028.8 \n",
       "  \"/>\n",
       "<polyline clip-path=\"url(#clip310)\" style=\"stroke:#000000; stroke-linecap:round; stroke-linejoin:round; stroke-width:4; stroke-opacity:1; fill:none\" points=\"\n",
       "  902.584,1047.7 902.584,1028.8 \n",
       "  \"/>\n",
       "<polyline clip-path=\"url(#clip310)\" style=\"stroke:#000000; stroke-linecap:round; stroke-linejoin:round; stroke-width:4; stroke-opacity:1; fill:none\" points=\"\n",
       "  1365.6,1047.7 1365.6,1028.8 \n",
       "  \"/>\n",
       "<polyline clip-path=\"url(#clip310)\" style=\"stroke:#000000; stroke-linecap:round; stroke-linejoin:round; stroke-width:4; stroke-opacity:1; fill:none\" points=\"\n",
       "  1828.62,1047.7 1828.62,1028.8 \n",
       "  \"/>\n",
       "<polyline clip-path=\"url(#clip310)\" style=\"stroke:#000000; stroke-linecap:round; stroke-linejoin:round; stroke-width:4; stroke-opacity:1; fill:none\" points=\"\n",
       "  2291.64,1047.7 2291.64,1028.8 \n",
       "  \"/>\n",
       "<path clip-path=\"url(#clip310)\" d=\"M429.844 1075.54 L448.201 1075.54 L448.201 1079.48 L434.127 1079.48 L434.127 1087.95 Q435.145 1087.6 436.164 1087.44 Q437.182 1087.25 438.201 1087.25 Q443.988 1087.25 447.367 1090.42 Q450.747 1093.6 450.747 1099.01 Q450.747 1104.59 447.275 1107.69 Q443.803 1110.77 437.483 1110.77 Q435.307 1110.77 433.039 1110.4 Q430.793 1110.03 428.386 1109.29 L428.386 1104.59 Q430.469 1105.72 432.691 1106.28 Q434.914 1106.84 437.391 1106.84 Q441.395 1106.84 443.733 1104.73 Q446.071 1102.62 446.071 1099.01 Q446.071 1095.4 443.733 1093.29 Q441.395 1091.19 437.391 1091.19 Q435.516 1091.19 433.641 1091.6 Q431.789 1092.02 429.844 1092.9 L429.844 1075.54 Z\" fill=\"#000000\" fill-rule=\"evenodd\" fill-opacity=\"1\" /><path clip-path=\"url(#clip310)\" d=\"M877.272 1106.16 L884.911 1106.16 L884.911 1079.8 L876.601 1081.47 L876.601 1077.21 L884.864 1075.54 L889.54 1075.54 L889.54 1106.16 L897.179 1106.16 L897.179 1110.1 L877.272 1110.1 L877.272 1106.16 Z\" fill=\"#000000\" fill-rule=\"evenodd\" fill-opacity=\"1\" /><path clip-path=\"url(#clip310)\" d=\"M916.623 1078.62 Q913.012 1078.62 911.184 1082.18 Q909.378 1085.72 909.378 1092.85 Q909.378 1099.96 911.184 1103.53 Q913.012 1107.07 916.623 1107.07 Q920.258 1107.07 922.063 1103.53 Q923.892 1099.96 923.892 1092.85 Q923.892 1085.72 922.063 1082.18 Q920.258 1078.62 916.623 1078.62 M916.623 1074.91 Q922.434 1074.91 925.489 1079.52 Q928.568 1084.1 928.568 1092.85 Q928.568 1101.58 925.489 1106.19 Q922.434 1110.77 916.623 1110.77 Q910.813 1110.77 907.735 1106.19 Q904.679 1101.58 904.679 1092.85 Q904.679 1084.1 907.735 1079.52 Q910.813 1074.91 916.623 1074.91 Z\" fill=\"#000000\" fill-rule=\"evenodd\" fill-opacity=\"1\" /><path clip-path=\"url(#clip310)\" d=\"M1340.79 1106.16 L1348.43 1106.16 L1348.43 1079.8 L1340.12 1081.47 L1340.12 1077.21 L1348.38 1075.54 L1353.06 1075.54 L1353.06 1106.16 L1360.69 1106.16 L1360.69 1110.1 L1340.79 1110.1 L1340.79 1106.16 Z\" fill=\"#000000\" fill-rule=\"evenodd\" fill-opacity=\"1\" /><path clip-path=\"url(#clip310)\" d=\"M1370.19 1075.54 L1388.54 1075.54 L1388.54 1079.48 L1374.47 1079.48 L1374.47 1087.95 Q1375.49 1087.6 1376.5 1087.44 Q1377.52 1087.25 1378.54 1087.25 Q1384.33 1087.25 1387.71 1090.42 Q1391.09 1093.6 1391.09 1099.01 Q1391.09 1104.59 1387.62 1107.69 Q1384.14 1110.77 1377.82 1110.77 Q1375.65 1110.77 1373.38 1110.4 Q1371.13 1110.03 1368.73 1109.29 L1368.73 1104.59 Q1370.81 1105.72 1373.03 1106.28 Q1375.25 1106.84 1377.73 1106.84 Q1381.74 1106.84 1384.07 1104.73 Q1386.41 1102.62 1386.41 1099.01 Q1386.41 1095.4 1384.07 1093.29 Q1381.74 1091.19 1377.73 1091.19 Q1375.86 1091.19 1373.98 1091.6 Q1372.13 1092.02 1370.19 1092.9 L1370.19 1075.54 Z\" fill=\"#000000\" fill-rule=\"evenodd\" fill-opacity=\"1\" /><path clip-path=\"url(#clip310)\" d=\"M1807.39 1106.16 L1823.71 1106.16 L1823.71 1110.1 L1801.77 1110.1 L1801.77 1106.16 Q1804.43 1103.41 1809.01 1098.78 Q1813.62 1094.13 1814.8 1092.79 Q1817.05 1090.26 1817.93 1088.53 Q1818.83 1086.77 1818.83 1085.08 Q1818.83 1082.32 1816.88 1080.59 Q1814.96 1078.85 1811.86 1078.85 Q1809.66 1078.85 1807.21 1079.61 Q1804.78 1080.38 1802 1081.93 L1802 1077.21 Q1804.82 1076.07 1807.28 1075.49 Q1809.73 1074.91 1811.77 1074.91 Q1817.14 1074.91 1820.33 1077.6 Q1823.53 1080.29 1823.53 1084.78 Q1823.53 1086.91 1822.72 1088.83 Q1821.93 1090.72 1819.82 1093.32 Q1819.24 1093.99 1816.14 1097.21 Q1813.04 1100.4 1807.39 1106.16 Z\" fill=\"#000000\" fill-rule=\"evenodd\" fill-opacity=\"1\" /><path clip-path=\"url(#clip310)\" d=\"M1843.53 1078.62 Q1839.92 1078.62 1838.09 1082.18 Q1836.28 1085.72 1836.28 1092.85 Q1836.28 1099.96 1838.09 1103.53 Q1839.92 1107.07 1843.53 1107.07 Q1847.16 1107.07 1848.97 1103.53 Q1850.8 1099.96 1850.8 1092.85 Q1850.8 1085.72 1848.97 1082.18 Q1847.16 1078.62 1843.53 1078.62 M1843.53 1074.91 Q1849.34 1074.91 1852.39 1079.52 Q1855.47 1084.1 1855.47 1092.85 Q1855.47 1101.58 1852.39 1106.19 Q1849.34 1110.77 1843.53 1110.77 Q1837.72 1110.77 1834.64 1106.19 Q1831.58 1101.58 1831.58 1092.85 Q1831.58 1084.1 1834.64 1079.52 Q1837.72 1074.91 1843.53 1074.91 Z\" fill=\"#000000\" fill-rule=\"evenodd\" fill-opacity=\"1\" /><path clip-path=\"url(#clip310)\" d=\"M2270.91 1106.16 L2287.23 1106.16 L2287.23 1110.1 L2265.28 1110.1 L2265.28 1106.16 Q2267.95 1103.41 2272.53 1098.78 Q2277.14 1094.13 2278.32 1092.79 Q2280.56 1090.26 2281.44 1088.53 Q2282.34 1086.77 2282.34 1085.08 Q2282.34 1082.32 2280.4 1080.59 Q2278.48 1078.85 2275.38 1078.85 Q2273.18 1078.85 2270.72 1079.61 Q2268.29 1080.38 2265.52 1081.93 L2265.52 1077.21 Q2268.34 1076.07 2270.79 1075.49 Q2273.25 1074.91 2275.28 1074.91 Q2280.65 1074.91 2283.85 1077.6 Q2287.04 1080.29 2287.04 1084.78 Q2287.04 1086.91 2286.23 1088.83 Q2285.45 1090.72 2283.34 1093.32 Q2282.76 1093.99 2279.66 1097.21 Q2276.56 1100.4 2270.91 1106.16 Z\" fill=\"#000000\" fill-rule=\"evenodd\" fill-opacity=\"1\" /><path clip-path=\"url(#clip310)\" d=\"M2297.09 1075.54 L2315.45 1075.54 L2315.45 1079.48 L2301.37 1079.48 L2301.37 1087.95 Q2302.39 1087.6 2303.41 1087.44 Q2304.43 1087.25 2305.45 1087.25 Q2311.23 1087.25 2314.61 1090.42 Q2317.99 1093.6 2317.99 1099.01 Q2317.99 1104.59 2314.52 1107.69 Q2311.05 1110.77 2304.73 1110.77 Q2302.55 1110.77 2300.28 1110.4 Q2298.04 1110.03 2295.63 1109.29 L2295.63 1104.59 Q2297.71 1105.72 2299.94 1106.28 Q2302.16 1106.84 2304.64 1106.84 Q2308.64 1106.84 2310.98 1104.73 Q2313.32 1102.62 2313.32 1099.01 Q2313.32 1095.4 2310.98 1093.29 Q2308.64 1091.19 2304.64 1091.19 Q2302.76 1091.19 2300.89 1091.6 Q2299.03 1092.02 2297.09 1092.9 L2297.09 1075.54 Z\" fill=\"#000000\" fill-rule=\"evenodd\" fill-opacity=\"1\" /><path clip-path=\"url(#clip310)\" d=\"M1206.52 1146.6 L1206.52 1152.87 Q1202.86 1151.12 1199.62 1150.26 Q1196.37 1149.4 1193.35 1149.4 Q1188.1 1149.4 1185.23 1151.44 Q1182.4 1153.48 1182.4 1157.23 Q1182.4 1160.39 1184.28 1162.01 Q1186.19 1163.6 1191.47 1164.59 L1195.35 1165.38 Q1202.55 1166.75 1205.95 1170.22 Q1209.39 1173.66 1209.39 1179.45 Q1209.39 1186.36 1204.74 1189.92 Q1200.13 1193.49 1191.18 1193.49 Q1187.81 1193.49 1183.99 1192.72 Q1180.2 1191.96 1176.13 1190.46 L1176.13 1183.84 Q1180.04 1186.04 1183.8 1187.15 Q1187.55 1188.27 1191.18 1188.27 Q1196.69 1188.27 1199.68 1186.1 Q1202.67 1183.94 1202.67 1179.93 Q1202.67 1176.43 1200.51 1174.45 Q1198.38 1172.48 1193.47 1171.49 L1189.56 1170.73 Q1182.37 1169.3 1179.15 1166.24 Q1175.94 1163.19 1175.94 1157.74 Q1175.94 1151.44 1180.36 1147.81 Q1184.82 1144.18 1192.62 1144.18 Q1195.96 1144.18 1199.43 1144.79 Q1202.9 1145.39 1206.52 1146.6 Z\" fill=\"#000000\" fill-rule=\"evenodd\" fill-opacity=\"1\" /><path clip-path=\"url(#clip310)\" d=\"M1224.83 1187.22 L1224.83 1206.12 L1218.94 1206.12 L1218.94 1156.92 L1224.83 1156.92 L1224.83 1162.33 Q1226.67 1159.14 1229.47 1157.62 Q1232.31 1156.06 1236.22 1156.06 Q1242.71 1156.06 1246.76 1161.21 Q1250.83 1166.37 1250.83 1174.77 Q1250.83 1183.17 1246.76 1188.33 Q1242.71 1193.49 1236.22 1193.49 Q1232.31 1193.49 1229.47 1191.96 Q1226.67 1190.4 1224.83 1187.22 M1244.75 1174.77 Q1244.75 1168.31 1242.08 1164.65 Q1239.44 1160.96 1234.79 1160.96 Q1230.14 1160.96 1227.47 1164.65 Q1224.83 1168.31 1224.83 1174.77 Q1224.83 1181.23 1227.47 1184.92 Q1230.14 1188.59 1234.79 1188.59 Q1239.44 1188.59 1242.08 1184.92 Q1244.75 1181.23 1244.75 1174.77 Z\" fill=\"#000000\" fill-rule=\"evenodd\" fill-opacity=\"1\" /><path clip-path=\"url(#clip310)\" d=\"M1291.03 1173.28 L1291.03 1176.14 L1264.1 1176.14 Q1264.48 1182.19 1267.73 1185.37 Q1271.01 1188.52 1276.83 1188.52 Q1280.21 1188.52 1283.36 1187.69 Q1286.54 1186.87 1289.66 1185.21 L1289.66 1190.75 Q1286.51 1192.09 1283.2 1192.79 Q1279.89 1193.49 1276.48 1193.49 Q1267.95 1193.49 1262.96 1188.52 Q1257.99 1183.56 1257.99 1175.09 Q1257.99 1166.34 1262.7 1161.21 Q1267.44 1156.06 1275.47 1156.06 Q1282.66 1156.06 1286.83 1160.7 Q1291.03 1165.32 1291.03 1173.28 M1285.17 1171.56 Q1285.11 1166.75 1282.47 1163.89 Q1279.86 1161.02 1275.53 1161.02 Q1270.63 1161.02 1267.67 1163.79 Q1264.74 1166.56 1264.29 1171.59 L1285.17 1171.56 Z\" fill=\"#000000\" fill-rule=\"evenodd\" fill-opacity=\"1\" /><path clip-path=\"url(#clip310)\" d=\"M1331.13 1173.28 L1331.13 1176.14 L1304.21 1176.14 Q1304.59 1182.19 1307.83 1185.37 Q1311.11 1188.52 1316.94 1188.52 Q1320.31 1188.52 1323.46 1187.69 Q1326.65 1186.87 1329.76 1185.21 L1329.76 1190.75 Q1326.61 1192.09 1323.3 1192.79 Q1319.99 1193.49 1316.59 1193.49 Q1308.06 1193.49 1303.06 1188.52 Q1298.1 1183.56 1298.1 1175.09 Q1298.1 1166.34 1302.81 1161.21 Q1307.55 1156.06 1315.57 1156.06 Q1322.76 1156.06 1326.93 1160.7 Q1331.13 1165.32 1331.13 1173.28 M1325.28 1171.56 Q1325.21 1166.75 1322.57 1163.89 Q1319.96 1161.02 1315.63 1161.02 Q1310.73 1161.02 1307.77 1163.79 Q1304.84 1166.56 1304.4 1171.59 L1325.28 1171.56 Z\" fill=\"#000000\" fill-rule=\"evenodd\" fill-opacity=\"1\" /><path clip-path=\"url(#clip310)\" d=\"M1364.2 1162.33 L1364.2 1143.04 L1370.06 1143.04 L1370.06 1192.56 L1364.2 1192.56 L1364.2 1187.22 Q1362.36 1190.4 1359.52 1191.96 Q1356.72 1193.49 1352.78 1193.49 Q1346.32 1193.49 1342.24 1188.33 Q1338.2 1183.17 1338.2 1174.77 Q1338.2 1166.37 1342.24 1161.21 Q1346.32 1156.06 1352.78 1156.06 Q1356.72 1156.06 1359.52 1157.62 Q1362.36 1159.14 1364.2 1162.33 M1344.25 1174.77 Q1344.25 1181.23 1346.89 1184.92 Q1349.56 1188.59 1354.21 1188.59 Q1358.86 1188.59 1361.53 1184.92 Q1364.2 1181.23 1364.2 1174.77 Q1364.2 1168.31 1361.53 1164.65 Q1358.86 1160.96 1354.21 1160.96 Q1349.56 1160.96 1346.89 1164.65 Q1344.25 1168.31 1344.25 1174.77 Z\" fill=\"#000000\" fill-rule=\"evenodd\" fill-opacity=\"1\" /><polyline clip-path=\"url(#clip312)\" style=\"stroke:#000000; stroke-linecap:round; stroke-linejoin:round; stroke-width:2; stroke-opacity:0.1; fill:none\" points=\"\n",
       "  193.241,911.519 2352.76,911.519 \n",
       "  \"/>\n",
       "<polyline clip-path=\"url(#clip312)\" style=\"stroke:#000000; stroke-linecap:round; stroke-linejoin:round; stroke-width:2; stroke-opacity:0.1; fill:none\" points=\"\n",
       "  193.241,715.599 2352.76,715.599 \n",
       "  \"/>\n",
       "<polyline clip-path=\"url(#clip312)\" style=\"stroke:#000000; stroke-linecap:round; stroke-linejoin:round; stroke-width:2; stroke-opacity:0.1; fill:none\" points=\"\n",
       "  193.241,519.68 2352.76,519.68 \n",
       "  \"/>\n",
       "<polyline clip-path=\"url(#clip312)\" style=\"stroke:#000000; stroke-linecap:round; stroke-linejoin:round; stroke-width:2; stroke-opacity:0.1; fill:none\" points=\"\n",
       "  193.241,323.761 2352.76,323.761 \n",
       "  \"/>\n",
       "<polyline clip-path=\"url(#clip312)\" style=\"stroke:#000000; stroke-linecap:round; stroke-linejoin:round; stroke-width:2; stroke-opacity:0.1; fill:none\" points=\"\n",
       "  193.241,127.841 2352.76,127.841 \n",
       "  \"/>\n",
       "<polyline clip-path=\"url(#clip310)\" style=\"stroke:#000000; stroke-linecap:round; stroke-linejoin:round; stroke-width:4; stroke-opacity:1; fill:none\" points=\"\n",
       "  193.241,1047.7 193.241,47.2441 \n",
       "  \"/>\n",
       "<polyline clip-path=\"url(#clip310)\" style=\"stroke:#000000; stroke-linecap:round; stroke-linejoin:round; stroke-width:4; stroke-opacity:1; fill:none\" points=\"\n",
       "  193.241,911.519 212.139,911.519 \n",
       "  \"/>\n",
       "<polyline clip-path=\"url(#clip310)\" style=\"stroke:#000000; stroke-linecap:round; stroke-linejoin:round; stroke-width:4; stroke-opacity:1; fill:none\" points=\"\n",
       "  193.241,715.599 212.139,715.599 \n",
       "  \"/>\n",
       "<polyline clip-path=\"url(#clip310)\" style=\"stroke:#000000; stroke-linecap:round; stroke-linejoin:round; stroke-width:4; stroke-opacity:1; fill:none\" points=\"\n",
       "  193.241,519.68 212.139,519.68 \n",
       "  \"/>\n",
       "<polyline clip-path=\"url(#clip310)\" style=\"stroke:#000000; stroke-linecap:round; stroke-linejoin:round; stroke-width:4; stroke-opacity:1; fill:none\" points=\"\n",
       "  193.241,323.761 212.139,323.761 \n",
       "  \"/>\n",
       "<polyline clip-path=\"url(#clip310)\" style=\"stroke:#000000; stroke-linecap:round; stroke-linejoin:round; stroke-width:4; stroke-opacity:1; fill:none\" points=\"\n",
       "  193.241,127.841 212.139,127.841 \n",
       "  \"/>\n",
       "<path clip-path=\"url(#clip310)\" d=\"M145.297 897.317 Q141.686 897.317 139.857 900.882 Q138.051 904.424 138.051 911.553 Q138.051 918.66 139.857 922.225 Q141.686 925.766 145.297 925.766 Q148.931 925.766 150.736 922.225 Q152.565 918.66 152.565 911.553 Q152.565 904.424 150.736 900.882 Q148.931 897.317 145.297 897.317 M145.297 893.614 Q151.107 893.614 154.162 898.22 Q157.241 902.804 157.241 911.553 Q157.241 920.28 154.162 924.887 Q151.107 929.47 145.297 929.47 Q139.486 929.47 136.408 924.887 Q133.352 920.28 133.352 911.553 Q133.352 902.804 136.408 898.22 Q139.486 893.614 145.297 893.614 Z\" fill=\"#000000\" fill-rule=\"evenodd\" fill-opacity=\"1\" /><path clip-path=\"url(#clip310)\" d=\"M109.163 728.944 L125.482 728.944 L125.482 732.879 L103.538 732.879 L103.538 728.944 Q106.2 726.19 110.783 721.56 Q115.389 716.907 116.57 715.565 Q118.815 713.042 119.695 711.305 Q120.598 709.546 120.598 707.856 Q120.598 705.102 118.653 703.366 Q116.732 701.63 113.63 701.63 Q111.431 701.63 108.977 702.393 Q106.547 703.157 103.769 704.708 L103.769 699.986 Q106.593 698.852 109.047 698.273 Q111.5 697.694 113.538 697.694 Q118.908 697.694 122.102 700.38 Q125.297 703.065 125.297 707.555 Q125.297 709.685 124.487 711.606 Q123.699 713.505 121.593 716.097 Q121.014 716.768 117.912 719.986 Q114.811 723.18 109.163 728.944 Z\" fill=\"#000000\" fill-rule=\"evenodd\" fill-opacity=\"1\" /><path clip-path=\"url(#clip310)\" d=\"M145.297 701.398 Q141.686 701.398 139.857 704.963 Q138.051 708.505 138.051 715.634 Q138.051 722.741 139.857 726.305 Q141.686 729.847 145.297 729.847 Q148.931 729.847 150.736 726.305 Q152.565 722.741 152.565 715.634 Q152.565 708.505 150.736 704.963 Q148.931 701.398 145.297 701.398 M145.297 697.694 Q151.107 697.694 154.162 702.301 Q157.241 706.884 157.241 715.634 Q157.241 724.361 154.162 728.967 Q151.107 733.551 145.297 733.551 Q139.486 733.551 136.408 728.967 Q133.352 724.361 133.352 715.634 Q133.352 706.884 136.408 702.301 Q139.486 697.694 145.297 697.694 Z\" fill=\"#000000\" fill-rule=\"evenodd\" fill-opacity=\"1\" /><path clip-path=\"url(#clip310)\" d=\"M117.982 506.474 L106.176 524.923 L117.982 524.923 L117.982 506.474 M116.755 502.4 L122.635 502.4 L122.635 524.923 L127.565 524.923 L127.565 528.812 L122.635 528.812 L122.635 536.96 L117.982 536.96 L117.982 528.812 L102.38 528.812 L102.38 524.298 L116.755 502.4 Z\" fill=\"#000000\" fill-rule=\"evenodd\" fill-opacity=\"1\" /><path clip-path=\"url(#clip310)\" d=\"M145.297 505.479 Q141.686 505.479 139.857 509.044 Q138.051 512.585 138.051 519.715 Q138.051 526.821 139.857 530.386 Q141.686 533.928 145.297 533.928 Q148.931 533.928 150.736 530.386 Q152.565 526.821 152.565 519.715 Q152.565 512.585 150.736 509.044 Q148.931 505.479 145.297 505.479 M145.297 501.775 Q151.107 501.775 154.162 506.382 Q157.241 510.965 157.241 519.715 Q157.241 528.442 154.162 533.048 Q151.107 537.631 145.297 537.631 Q139.486 537.631 136.408 533.048 Q133.352 528.442 133.352 519.715 Q133.352 510.965 136.408 506.382 Q139.486 501.775 145.297 501.775 Z\" fill=\"#000000\" fill-rule=\"evenodd\" fill-opacity=\"1\" /><path clip-path=\"url(#clip310)\" d=\"M115.713 321.897 Q112.565 321.897 110.713 324.05 Q108.885 326.203 108.885 329.953 Q108.885 333.68 110.713 335.856 Q112.565 338.008 115.713 338.008 Q118.862 338.008 120.69 335.856 Q122.542 333.68 122.542 329.953 Q122.542 326.203 120.69 324.05 Q118.862 321.897 115.713 321.897 M124.996 307.245 L124.996 311.504 Q123.237 310.671 121.431 310.231 Q119.649 309.791 117.889 309.791 Q113.26 309.791 110.806 312.916 Q108.375 316.041 108.028 322.36 Q109.394 320.346 111.454 319.282 Q113.514 318.194 115.991 318.194 Q121.2 318.194 124.209 321.365 Q127.241 324.513 127.241 329.953 Q127.241 335.277 124.093 338.494 Q120.945 341.712 115.713 341.712 Q109.718 341.712 106.547 337.129 Q103.376 332.522 103.376 323.795 Q103.376 315.601 107.264 310.74 Q111.153 305.856 117.704 305.856 Q119.463 305.856 121.246 306.203 Q123.051 306.55 124.996 307.245 Z\" fill=\"#000000\" fill-rule=\"evenodd\" fill-opacity=\"1\" /><path clip-path=\"url(#clip310)\" d=\"M145.297 309.559 Q141.686 309.559 139.857 313.124 Q138.051 316.666 138.051 323.795 Q138.051 330.902 139.857 334.467 Q141.686 338.008 145.297 338.008 Q148.931 338.008 150.736 334.467 Q152.565 330.902 152.565 323.795 Q152.565 316.666 150.736 313.124 Q148.931 309.559 145.297 309.559 M145.297 305.856 Q151.107 305.856 154.162 310.462 Q157.241 315.045 157.241 323.795 Q157.241 332.522 154.162 337.129 Q151.107 341.712 145.297 341.712 Q139.486 341.712 136.408 337.129 Q133.352 332.522 133.352 323.795 Q133.352 315.045 136.408 310.462 Q139.486 305.856 145.297 305.856 Z\" fill=\"#000000\" fill-rule=\"evenodd\" fill-opacity=\"1\" /><path clip-path=\"url(#clip310)\" d=\"M115.135 128.709 Q111.801 128.709 109.88 130.492 Q107.982 132.274 107.982 135.399 Q107.982 138.524 109.88 140.307 Q111.801 142.089 115.135 142.089 Q118.468 142.089 120.389 140.307 Q122.311 138.501 122.311 135.399 Q122.311 132.274 120.389 130.492 Q118.491 128.709 115.135 128.709 M110.459 126.719 Q107.45 125.978 105.76 123.918 Q104.093 121.858 104.093 118.895 Q104.093 114.751 107.033 112.344 Q109.996 109.936 115.135 109.936 Q120.297 109.936 123.237 112.344 Q126.176 114.751 126.176 118.895 Q126.176 121.858 124.487 123.918 Q122.82 125.978 119.834 126.719 Q123.213 127.506 125.088 129.797 Q126.987 132.089 126.987 135.399 Q126.987 140.422 123.908 143.108 Q120.852 145.793 115.135 145.793 Q109.417 145.793 106.338 143.108 Q103.283 140.422 103.283 135.399 Q103.283 132.089 105.181 129.797 Q107.079 127.506 110.459 126.719 M108.746 119.334 Q108.746 122.02 110.413 123.524 Q112.102 125.029 115.135 125.029 Q118.144 125.029 119.834 123.524 Q121.547 122.02 121.547 119.334 Q121.547 116.649 119.834 115.145 Q118.144 113.64 115.135 113.64 Q112.102 113.64 110.413 115.145 Q108.746 116.649 108.746 119.334 Z\" fill=\"#000000\" fill-rule=\"evenodd\" fill-opacity=\"1\" /><path clip-path=\"url(#clip310)\" d=\"M145.297 113.64 Q141.686 113.64 139.857 117.205 Q138.051 120.747 138.051 127.876 Q138.051 134.983 139.857 138.547 Q141.686 142.089 145.297 142.089 Q148.931 142.089 150.736 138.547 Q152.565 134.983 152.565 127.876 Q152.565 120.747 150.736 117.205 Q148.931 113.64 145.297 113.64 M145.297 109.936 Q151.107 109.936 154.162 114.543 Q157.241 119.126 157.241 127.876 Q157.241 136.603 154.162 141.209 Q151.107 145.793 145.297 145.793 Q139.486 145.793 136.408 141.209 Q133.352 136.603 133.352 127.876 Q133.352 119.126 136.408 114.543 Q139.486 109.936 145.297 109.936 Z\" fill=\"#000000\" fill-rule=\"evenodd\" fill-opacity=\"1\" /><path clip-path=\"url(#clip310)\" d=\"M9.88769 600.976 L46.8406 600.976 L46.8406 593.21 Q46.8406 583.375 42.3846 578.823 Q37.9286 574.24 28.3164 574.24 Q18.7679 574.24 14.3437 578.823 Q9.88769 583.375 9.88769 593.21 L9.88769 600.976 M4.60416 607.405 L4.60416 594.196 Q4.60416 580.383 10.3651 573.921 Q16.0943 567.46 28.3164 567.46 Q40.6022 567.46 46.3632 573.953 Q52.1242 580.446 52.1242 594.196 L52.1242 607.405 L4.60416 607.405 Z\" fill=\"#000000\" fill-rule=\"evenodd\" fill-opacity=\"1\" /><path clip-path=\"url(#clip310)\" d=\"M16.4762 557.466 L16.4762 551.61 L52.1242 551.61 L52.1242 557.466 L16.4762 557.466 M2.59896 557.466 L2.59896 551.61 L10.015 551.61 L10.015 557.466 L2.59896 557.466 Z\" fill=\"#000000\" fill-rule=\"evenodd\" fill-opacity=\"1\" /><path clip-path=\"url(#clip310)\" d=\"M17.5265 516.63 L23.0647 516.63 Q21.7916 519.113 21.155 521.786 Q20.5184 524.46 20.5184 527.325 Q20.5184 531.685 21.8552 533.881 Q23.192 536.046 25.8656 536.046 Q27.9026 536.046 29.0803 534.486 Q30.2261 532.926 31.2765 528.216 L31.7221 526.211 Q33.0589 519.972 35.5097 517.362 Q37.9286 514.72 42.2891 514.72 Q47.2544 514.72 50.1508 518.667 Q53.0472 522.582 53.0472 529.457 Q53.0472 532.322 52.4743 535.441 Q51.9332 538.528 50.8192 541.966 L44.7718 541.966 Q46.4587 538.719 47.318 535.568 Q48.1456 532.417 48.1456 529.33 Q48.1456 525.192 46.7451 522.964 Q45.3129 520.736 42.7347 520.736 Q40.3476 520.736 39.0745 522.359 Q37.8013 523.951 36.6237 529.393 L36.1462 531.43 Q35.0004 536.873 32.6451 539.292 Q30.258 541.711 26.1202 541.711 Q21.0913 541.711 18.3541 538.146 Q15.6168 534.581 15.6168 528.025 Q15.6168 524.778 16.0943 521.914 Q16.5717 519.049 17.5265 516.63 Z\" fill=\"#000000\" fill-rule=\"evenodd\" fill-opacity=\"1\" /><path clip-path=\"url(#clip310)\" d=\"M6.35473 499.602 L16.4762 499.602 L16.4762 487.539 L21.0277 487.539 L21.0277 499.602 L40.3794 499.602 Q44.7399 499.602 45.9813 498.424 Q47.2226 497.215 47.2226 493.554 L47.2226 487.539 L52.1242 487.539 L52.1242 493.554 Q52.1242 500.334 49.6097 502.912 Q47.0634 505.49 40.3794 505.49 L21.0277 505.49 L21.0277 509.787 L16.4762 509.787 L16.4762 505.49 L6.35473 505.49 L6.35473 499.602 Z\" fill=\"#000000\" fill-rule=\"evenodd\" fill-opacity=\"1\" /><circle clip-path=\"url(#clip312)\" cx=\"624.774\" cy=\"696.007\" r=\"14.4\" fill=\"#009af9\" fill-rule=\"evenodd\" fill-opacity=\"1\" stroke=\"#000000\" stroke-opacity=\"1\" stroke-width=\"2.4\"/>\n",
       "<circle clip-path=\"url(#clip312)\" cx=\"717.377\" cy=\"754.783\" r=\"14.4\" fill=\"#009af9\" fill-rule=\"evenodd\" fill-opacity=\"1\" stroke=\"#000000\" stroke-opacity=\"1\" stroke-width=\"2.4\"/>\n",
       "<circle clip-path=\"url(#clip312)\" cx=\"809.981\" cy=\"813.559\" r=\"14.4\" fill=\"#009af9\" fill-rule=\"evenodd\" fill-opacity=\"1\" stroke=\"#000000\" stroke-opacity=\"1\" stroke-width=\"2.4\"/>\n",
       "<circle clip-path=\"url(#clip312)\" cx=\"902.584\" cy=\"735.191\" r=\"14.4\" fill=\"#009af9\" fill-rule=\"evenodd\" fill-opacity=\"1\" stroke=\"#000000\" stroke-opacity=\"1\" stroke-width=\"2.4\"/>\n",
       "<circle clip-path=\"url(#clip312)\" cx=\"1087.79\" cy=\"676.416\" r=\"14.4\" fill=\"#009af9\" fill-rule=\"evenodd\" fill-opacity=\"1\" stroke=\"#000000\" stroke-opacity=\"1\" stroke-width=\"2.4\"/>\n",
       "<circle clip-path=\"url(#clip312)\" cx=\"1458.21\" cy=\"519.68\" r=\"14.4\" fill=\"#009af9\" fill-rule=\"evenodd\" fill-opacity=\"1\" stroke=\"#000000\" stroke-opacity=\"1\" stroke-width=\"2.4\"/>\n",
       "<circle clip-path=\"url(#clip312)\" cx=\"1643.41\" cy=\"362.945\" r=\"14.4\" fill=\"#009af9\" fill-rule=\"evenodd\" fill-opacity=\"1\" stroke=\"#000000\" stroke-opacity=\"1\" stroke-width=\"2.4\"/>\n",
       "<circle clip-path=\"url(#clip312)\" cx=\"1643.41\" cy=\"167.025\" r=\"14.4\" fill=\"#009af9\" fill-rule=\"evenodd\" fill-opacity=\"1\" stroke=\"#000000\" stroke-opacity=\"1\" stroke-width=\"2.4\"/>\n",
       "<circle clip-path=\"url(#clip312)\" cx=\"1736.02\" cy=\"460.904\" r=\"14.4\" fill=\"#009af9\" fill-rule=\"evenodd\" fill-opacity=\"1\" stroke=\"#000000\" stroke-opacity=\"1\" stroke-width=\"2.4\"/>\n",
       "<circle clip-path=\"url(#clip312)\" cx=\"1828.62\" cy=\"441.312\" r=\"14.4\" fill=\"#009af9\" fill-rule=\"evenodd\" fill-opacity=\"1\" stroke=\"#000000\" stroke-opacity=\"1\" stroke-width=\"2.4\"/>\n",
       "<circle clip-path=\"url(#clip312)\" cx=\"2106.43\" cy=\"382.537\" r=\"14.4\" fill=\"#009af9\" fill-rule=\"evenodd\" fill-opacity=\"1\" stroke=\"#000000\" stroke-opacity=\"1\" stroke-width=\"2.4\"/>\n",
       "<circle clip-path=\"url(#clip312)\" cx=\"2291.64\" cy=\"78.8616\" r=\"14.4\" fill=\"#009af9\" fill-rule=\"evenodd\" fill-opacity=\"1\" stroke=\"#000000\" stroke-opacity=\"1\" stroke-width=\"2.4\"/>\n",
       "<polyline clip-path=\"url(#clip312)\" style=\"stroke:#e26f46; stroke-linecap:round; stroke-linejoin:round; stroke-width:8; stroke-opacity:1; fill:none\" points=\"\n",
       "  254.359,983.616 300.661,963.508 346.963,943.399 393.265,923.291 439.566,903.182 485.868,883.074 532.17,862.965 578.472,842.857 624.774,822.748 671.075,802.64 \n",
       "  717.377,782.531 763.679,762.423 809.981,742.314 856.282,722.205 902.584,702.097 948.886,681.988 995.188,661.88 1041.49,641.771 1087.79,621.663 1134.09,601.554 \n",
       "  1180.39,581.446 1226.7,561.337 1273,541.229 1319.3,521.12 1365.6,501.012 1411.9,480.903 1458.21,460.794 1504.51,440.686 1550.81,420.577 1597.11,400.469 \n",
       "  1643.41,380.36 1689.71,360.252 1736.02,340.143 1782.32,320.035 1828.62,299.926 1874.92,279.818 1921.22,259.709 1967.53,239.601 2013.83,219.492 2060.13,199.383 \n",
       "  2106.43,179.275 2152.73,159.166 2199.03,139.058 2245.34,118.949 2291.64,98.8408 \n",
       "  \"/>\n",
       "<polyline clip-path=\"url(#clip312)\" style=\"stroke:#3da44d; stroke-linecap:round; stroke-linejoin:round; stroke-width:8; stroke-opacity:1; fill:none\" points=\"\n",
       "  254.359,875.604 300.661,859.356 346.963,843.108 393.265,826.86 439.566,810.612 485.868,794.364 532.17,778.115 578.472,761.867 624.774,745.619 671.075,729.371 \n",
       "  717.377,713.123 763.679,696.875 809.981,680.627 856.282,664.379 902.584,648.13 948.886,631.882 995.188,615.634 1041.49,599.386 1087.79,583.138 1134.09,566.89 \n",
       "  1180.39,550.642 1226.7,534.393 1273,518.145 1319.3,501.897 1365.6,485.649 1411.9,469.401 1458.21,453.153 1504.51,436.905 1550.81,420.656 1597.11,404.408 \n",
       "  1643.41,388.16 1689.71,371.912 1736.02,355.664 1782.32,339.416 1828.62,323.168 1874.92,306.919 1921.22,290.671 1967.53,274.423 2013.83,258.175 2060.13,241.927 \n",
       "  2106.43,225.679 2152.73,209.431 2199.03,193.182 2245.34,176.934 2291.64,160.686 \n",
       "  \"/>\n",
       "<polyline clip-path=\"url(#clip312)\" style=\"stroke:#c271d2; stroke-linecap:round; stroke-linejoin:round; stroke-width:8; stroke-opacity:1; fill:none\" points=\"\n",
       "  254.359,1019.39 300.661,963.67 346.963,981.302 393.265,965.715 439.566,894.169 485.868,874.455 532.17,857.815 578.472,874.38 624.774,864.583 671.075,819.279 \n",
       "  717.377,742.79 763.679,784.945 809.981,719.13 856.282,769.838 902.584,692.93 948.886,724.812 995.188,674.761 1041.49,615.779 1087.79,673.951 1134.09,570.98 \n",
       "  1180.39,605.36 1226.7,554.949 1273,499.183 1319.3,564.889 1365.6,503.104 1411.9,483.036 1458.21,467.583 1504.51,422.096 1550.81,415.099 1597.11,409.031 \n",
       "  1643.41,351.904 1689.71,329.409 1736.02,320.643 1782.32,328.892 1828.62,318.517 1874.92,315.797 1921.22,263.642 1967.53,173.145 2013.83,285.974 2060.13,134.382 \n",
       "  2106.43,209.225 2152.73,106.704 2199.03,168.157 2245.34,117.408 2291.64,105.959 \n",
       "  \"/>\n",
       "<polyline clip-path=\"url(#clip312)\" style=\"stroke:#ac8d18; stroke-linecap:round; stroke-linejoin:round; stroke-width:8; stroke-opacity:1; fill:none\" points=\"\n",
       "  254.359,887.444 300.661,857.138 346.963,853.733 393.265,816.407 439.566,758.959 485.868,788.273 532.17,792.263 578.472,740.966 624.774,742.26 671.075,704.028 \n",
       "  717.377,720.143 763.679,651.075 809.981,711.102 856.282,647.851 902.584,654 948.886,577.658 995.188,585.224 1041.49,602.858 1087.79,616.624 1134.09,513.809 \n",
       "  1180.39,534.18 1226.7,562.321 1273,550.494 1319.3,500.793 1365.6,425.469 1411.9,460.702 1458.21,436.153 1504.51,452.218 1550.81,415.159 1597.11,439.527 \n",
       "  1643.41,418.975 1689.71,368.712 1736.02,312.153 1782.32,297.942 1828.62,320.785 1874.92,294.125 1921.22,296.089 1967.53,286.188 2013.83,332.444 2060.13,208.744 \n",
       "  2106.43,241.397 2152.73,123.212 2199.03,191.79 2245.34,177.31 2291.64,165.605 \n",
       "  \"/>\n",
       "<polyline clip-path=\"url(#clip312)\" style=\"stroke:#00a9ad; stroke-linecap:round; stroke-linejoin:round; stroke-width:8; stroke-opacity:1; fill:none\" points=\"\n",
       "  254.359,911.519 300.661,911.519 346.963,911.519 393.265,911.519 439.566,911.519 485.868,911.519 532.17,899.651 578.472,877.964 624.774,856.278 671.075,834.591 \n",
       "  717.377,812.904 763.679,791.218 809.981,769.531 856.282,747.845 902.584,726.158 948.886,704.471 995.188,682.785 1041.49,661.098 1087.79,639.411 1134.09,617.725 \n",
       "  1180.39,596.038 1226.7,574.351 1273,552.665 1319.3,530.978 1365.6,509.292 1411.9,487.605 1458.21,465.918 1504.51,444.232 1550.81,422.545 1597.11,400.858 \n",
       "  1643.41,379.172 1689.71,357.485 1736.02,335.798 1782.32,314.112 1828.62,292.425 1874.92,270.739 1921.22,249.052 1967.53,227.365 2013.83,205.679 2060.13,183.992 \n",
       "  2106.43,162.305 2152.73,140.619 2199.03,118.932 2245.34,97.2455 2291.64,75.5589 \n",
       "  \"/>\n",
       "<path clip-path=\"url(#clip310)\" d=\"\n",
       "M1945.18 791.588 L2280.77 791.588 L2280.77 480.548 L1945.18 480.548  Z\n",
       "  \" fill=\"#ffffff\" fill-rule=\"evenodd\" fill-opacity=\"1\"/>\n",
       "<polyline clip-path=\"url(#clip310)\" style=\"stroke:#000000; stroke-linecap:round; stroke-linejoin:round; stroke-width:4; stroke-opacity:1; fill:none\" points=\"\n",
       "  1945.18,791.588 2280.77,791.588 2280.77,480.548 1945.18,480.548 1945.18,791.588 \n",
       "  \"/>\n",
       "<polyline clip-path=\"url(#clip310)\" style=\"stroke:#e26f46; stroke-linecap:round; stroke-linejoin:round; stroke-width:4; stroke-opacity:1; fill:none\" points=\"\n",
       "  1969.17,532.388 2113.14,532.388 \n",
       "  \"/>\n",
       "<path clip-path=\"url(#clip310)\" d=\"M2137.14 515.108 L2158.99 515.108 L2158.99 519.044 L2141.81 519.044 L2141.81 529.275 L2158.27 529.275 L2158.27 533.21 L2141.81 533.21 L2141.81 545.733 L2159.4 545.733 L2159.4 549.668 L2137.14 549.668 L2137.14 515.108 Z\" fill=\"#000000\" fill-rule=\"evenodd\" fill-opacity=\"1\" /><path clip-path=\"url(#clip310)\" d=\"M2183.48 533.465 Q2184.98 533.974 2186.39 535.641 Q2187.83 537.307 2189.26 540.224 L2194.01 549.668 L2188.99 549.668 L2184.57 540.803 Q2182.85 537.331 2181.23 536.196 Q2179.63 535.062 2176.86 535.062 L2171.76 535.062 L2171.76 549.668 L2167.09 549.668 L2167.09 515.108 L2177.64 515.108 Q2183.57 515.108 2186.49 517.585 Q2189.4 520.062 2189.4 525.062 Q2189.4 528.326 2187.88 530.479 Q2186.37 532.631 2183.48 533.465 M2171.76 518.951 L2171.76 531.219 L2177.64 531.219 Q2181.02 531.219 2182.74 529.669 Q2184.47 528.094 2184.47 525.062 Q2184.47 522.03 2182.74 520.502 Q2181.02 518.951 2177.64 518.951 L2171.76 518.951 Z\" fill=\"#000000\" fill-rule=\"evenodd\" fill-opacity=\"1\" /><path clip-path=\"url(#clip310)\" d=\"M2200.03 515.108 L2207 515.108 L2215.82 538.627 L2224.68 515.108 L2231.65 515.108 L2231.65 549.668 L2227.09 549.668 L2227.09 519.321 L2218.18 543.025 L2213.48 543.025 L2204.57 519.321 L2204.57 549.668 L2200.03 549.668 L2200.03 515.108 Z\" fill=\"#000000\" fill-rule=\"evenodd\" fill-opacity=\"1\" /><polyline clip-path=\"url(#clip310)\" style=\"stroke:#3da44d; stroke-linecap:round; stroke-linejoin:round; stroke-width:4; stroke-opacity:1; fill:none\" points=\"\n",
       "  1969.17,584.228 2113.14,584.228 \n",
       "  \"/>\n",
       "<path clip-path=\"url(#clip310)\" d=\"M2153.52 585.305 Q2155.03 585.814 2156.44 587.481 Q2157.88 589.147 2159.31 592.064 L2164.06 601.508 L2159.03 601.508 L2154.61 592.643 Q2152.9 589.171 2151.28 588.036 Q2149.68 586.902 2146.9 586.902 L2141.81 586.902 L2141.81 601.508 L2137.14 601.508 L2137.14 566.948 L2147.69 566.948 Q2153.62 566.948 2156.53 569.425 Q2159.45 571.902 2159.45 576.902 Q2159.45 580.166 2157.92 582.319 Q2156.42 584.471 2153.52 585.305 M2141.81 570.791 L2141.81 583.059 L2147.69 583.059 Q2151.07 583.059 2152.78 581.509 Q2154.52 579.934 2154.52 576.902 Q2154.52 573.87 2152.78 572.342 Q2151.07 570.791 2147.69 570.791 L2141.81 570.791 Z\" fill=\"#000000\" fill-rule=\"evenodd\" fill-opacity=\"1\" /><path clip-path=\"url(#clip310)\" d=\"M2186.46 585.305 Q2187.97 585.814 2189.38 587.481 Q2190.82 589.147 2192.25 592.064 L2197 601.508 L2191.97 601.508 L2187.55 592.643 Q2185.84 589.171 2184.22 588.036 Q2182.62 586.902 2179.84 586.902 L2174.75 586.902 L2174.75 601.508 L2170.07 601.508 L2170.07 566.948 L2180.63 566.948 Q2186.56 566.948 2189.47 569.425 Q2192.39 571.902 2192.39 576.902 Q2192.39 580.166 2190.86 582.319 Q2189.36 584.471 2186.46 585.305 M2174.75 570.791 L2174.75 583.059 L2180.63 583.059 Q2184.01 583.059 2185.72 581.509 Q2187.46 579.934 2187.46 576.902 Q2187.46 573.87 2185.72 572.342 Q2184.01 570.791 2180.63 570.791 L2174.75 570.791 Z\" fill=\"#000000\" fill-rule=\"evenodd\" fill-opacity=\"1\" /><polyline clip-path=\"url(#clip310)\" style=\"stroke:#c271d2; stroke-linecap:round; stroke-linejoin:round; stroke-width:4; stroke-opacity:1; fill:none\" points=\"\n",
       "  1969.17,636.068 2113.14,636.068 \n",
       "  \"/>\n",
       "<path clip-path=\"url(#clip310)\" d=\"M2137.14 618.788 L2144.1 618.788 L2152.92 642.307 L2161.79 618.788 L2168.76 618.788 L2168.76 653.348 L2164.2 653.348 L2164.2 623.001 L2155.28 646.705 L2150.58 646.705 L2141.67 623.001 L2141.67 653.348 L2137.14 653.348 L2137.14 618.788 Z\" fill=\"#000000\" fill-rule=\"evenodd\" fill-opacity=\"1\" /><path clip-path=\"url(#clip310)\" d=\"M2178.04 618.788 L2182.71 618.788 L2182.71 649.413 L2199.54 649.413 L2199.54 653.348 L2178.04 653.348 L2178.04 618.788 Z\" fill=\"#000000\" fill-rule=\"evenodd\" fill-opacity=\"1\" /><polyline clip-path=\"url(#clip310)\" style=\"stroke:#ac8d18; stroke-linecap:round; stroke-linejoin:round; stroke-width:4; stroke-opacity:1; fill:none\" points=\"\n",
       "  1969.17,687.908 2113.14,687.908 \n",
       "  \"/>\n",
       "<path clip-path=\"url(#clip310)\" d=\"M2137.14 670.628 L2144.1 670.628 L2152.92 694.147 L2161.79 670.628 L2168.76 670.628 L2168.76 705.188 L2164.2 705.188 L2164.2 674.841 L2155.28 698.545 L2150.58 698.545 L2141.67 674.841 L2141.67 705.188 L2137.14 705.188 L2137.14 670.628 Z\" fill=\"#000000\" fill-rule=\"evenodd\" fill-opacity=\"1\" /><path clip-path=\"url(#clip310)\" d=\"M2189.59 675.235 L2183.25 692.434 L2195.95 692.434 L2189.59 675.235 M2186.95 670.628 L2192.25 670.628 L2205.42 705.188 L2200.56 705.188 L2197.41 696.323 L2181.83 696.323 L2178.69 705.188 L2173.76 705.188 L2186.95 670.628 Z\" fill=\"#000000\" fill-rule=\"evenodd\" fill-opacity=\"1\" /><path clip-path=\"url(#clip310)\" d=\"M2215.14 674.471 L2215.14 687.457 L2221.02 687.457 Q2224.29 687.457 2226.07 685.767 Q2227.85 684.077 2227.85 680.952 Q2227.85 677.851 2226.07 676.161 Q2224.29 674.471 2221.02 674.471 L2215.14 674.471 M2210.47 670.628 L2221.02 670.628 Q2226.83 670.628 2229.8 673.267 Q2232.78 675.883 2232.78 680.952 Q2232.78 686.068 2229.8 688.684 Q2226.83 691.3 2221.02 691.3 L2215.14 691.3 L2215.14 705.188 L2210.47 705.188 L2210.47 670.628 Z\" fill=\"#000000\" fill-rule=\"evenodd\" fill-opacity=\"1\" /><polyline clip-path=\"url(#clip310)\" style=\"stroke:#00a9ad; stroke-linecap:round; stroke-linejoin:round; stroke-width:4; stroke-opacity:1; fill:none\" points=\"\n",
       "  1969.17,739.748 2113.14,739.748 \n",
       "  \"/>\n",
       "<path clip-path=\"url(#clip310)\" d=\"M2137.14 722.468 L2143.43 722.468 L2158.76 751.38 L2158.76 722.468 L2163.29 722.468 L2163.29 757.028 L2157 757.028 L2141.67 728.117 L2141.67 757.028 L2137.14 757.028 L2137.14 722.468 Z\" fill=\"#000000\" fill-rule=\"evenodd\" fill-opacity=\"1\" /><path clip-path=\"url(#clip310)\" d=\"M2172.6 722.468 L2178.89 722.468 L2194.22 751.38 L2194.22 722.468 L2198.76 722.468 L2198.76 757.028 L2192.46 757.028 L2177.14 728.117 L2177.14 757.028 L2172.6 757.028 L2172.6 722.468 Z\" fill=\"#000000\" fill-rule=\"evenodd\" fill-opacity=\"1\" /></svg>\n"
      ]
     },
     "execution_count": 30,
     "metadata": {},
     "output_type": "execute_result"
    }
   ],
   "source": [
    "scatter(X_test,Y_test, legend=1,\n",
    "            label = false,\n",
    "            xlabel = \"Speed\",\n",
    "            ylabel = \"Dist\",\n",
    "            size = (600,300))\n",
    "plot!(p, f(p, θ_ERM), lw = 2, label = \"ERM\")\n",
    "plot!(p, f(p, θ_RR), lw = 2, label = \"RR\")\n",
    "plot!(p, Φ(p, θ_ML), lw = 2, label = \"ML\")\n",
    "plot!(p, Φ(p, θ_MAP), lw = 2, label = \"MAP\")\n",
    "plot!(p, f_NN(p, θ_NN), lw = 2, label = \"NN\")"
   ]
  },
  {
   "cell_type": "markdown",
   "metadata": {},
   "source": [
    "To assess which model works how well, we define empirical risk."
   ]
  },
  {
   "cell_type": "code",
   "execution_count": 31,
   "metadata": {},
   "outputs": [
    {
     "data": {
      "text/plain": [
       "R (generic function with 1 method)"
      ]
     },
     "execution_count": 31,
     "metadata": {},
     "output_type": "execute_result"
    }
   ],
   "source": [
    "R(θ, f, X, Y) = mean((f(X, θ) - Y).^2)"
   ]
  },
  {
   "cell_type": "markdown",
   "metadata": {},
   "source": [
    "The empirical risk for training and test data in the deterministic linear model is as follows."
   ]
  },
  {
   "cell_type": "code",
   "execution_count": 33,
   "metadata": {},
   "outputs": [
    {
     "name": "stdout",
     "output_type": "stream",
     "text": [
      "tisk test data ERM: 131.62685183192528\n",
      "\n",
      "tisk training data ERM: 258.71470334549866\n",
      "\n",
      "ERM risk ratio: 0.5087722117445531\n",
      "\n",
      "risk test data RR: 128.91003849078263\n",
      "\n",
      "risk training data RR: 276.07153391617777\n",
      "\n",
      "RR risk ratio: 0.4669443338186506\n",
      "\n"
     ]
    }
   ],
   "source": [
    "r = [(R(θ, f, X_test, Y_test), R(θ, f, X, Y)) for θ in [θ_ERM, θ_RR]]   \n",
    "println(\"tisk test data ERM: $(r[1][1])\\n\")\n",
    "println(\"tisk training data ERM: $(r[1][2])\\n\")\n",
    "println(\"ERM risk ratio: $(r[1][1]/r[1][2])\\n\")\n",
    "println(\"risk test data RR: $(r[2][1])\\n\")\n",
    "println(\"risk training data RR: $(r[2][2])\\n\")\n",
    "println(\"RR risk ratio: $(r[2][1]/r[2][2])\\n\")"
   ]
  },
  {
   "cell_type": "markdown",
   "metadata": {},
   "source": [
    "The following values result for the neural network."
   ]
  },
  {
   "cell_type": "code",
   "execution_count": 34,
   "metadata": {},
   "outputs": [
    {
     "name": "stdout",
     "output_type": "stream",
     "text": [
      "risk test data NN: 144.97669177162135\n",
      "\n",
      "risk Training data NN: 253.96386776202598\n",
      "\n",
      "NN risk ratio: 0.5708555829188668\n",
      "\n"
     ]
    }
   ],
   "source": [
    "r = (R(θ_NN, f_NN, X_test, Y_test), R(θ_NN, f_NN, X, Y))\n",
    "println(\"risk test data NN: $(r[1])\\n\")\n",
    "println(\"risk Training data NN: $(r[2])\\n\")\n",
    "println(\"NN risk ratio: $(r[1]/r[2])\\n\")"
   ]
  },
  {
   "cell_type": "markdown",
   "metadata": {},
   "source": [
    "---\n",
    "# Regularization\n",
    "\n",
    "In the example above, we don't see much of a difference between ERM and RR.\n",
    "\n",
    "Here is an example where regularization is important.\n",
    "\n",
    "To do this, we generate $n=20$ synthetic data from a cubic polynomial plus noise:"
   ]
  },
  {
   "cell_type": "code",
   "execution_count": 104,
   "metadata": {},
   "outputs": [],
   "source": [
    "q = (x -> 1 + 4*x + 2*x^2 - 0.5*x^3)\n",
    "\n",
    "n = 20\n",
    "P = 4\n",
    "X = 10 .* (rand(n) .- 0.5); # randn sampled von Unif([-5,5])\n",
    "Y = map(q, X) + 2 .* randn(n);"
   ]
  },
  {
   "cell_type": "markdown",
   "metadata": {},
   "source": [
    "We plot the data"
   ]
  },
  {
   "cell_type": "code",
   "execution_count": 105,
   "metadata": {},
   "outputs": [
    {
     "data": {
      "image/svg+xml": [
       "<?xml version=\"1.0\" encoding=\"utf-8\"?>\n",
       "<svg xmlns=\"http://www.w3.org/2000/svg\" xmlns:xlink=\"http://www.w3.org/1999/xlink\" width=\"600\" height=\"300\" viewBox=\"0 0 2400 1200\">\n",
       "<defs>\n",
       "  <clipPath id=\"clip390\">\n",
       "    <rect x=\"0\" y=\"0\" width=\"2400\" height=\"1200\"/>\n",
       "  </clipPath>\n",
       "</defs>\n",
       "<path clip-path=\"url(#clip390)\" d=\"\n",
       "M0 1200 L2400 1200 L2400 0 L0 0  Z\n",
       "  \" fill=\"#ffffff\" fill-rule=\"evenodd\" fill-opacity=\"1\"/>\n",
       "<defs>\n",
       "  <clipPath id=\"clip391\">\n",
       "    <rect x=\"480\" y=\"0\" width=\"1681\" height=\"1200\"/>\n",
       "  </clipPath>\n",
       "</defs>\n",
       "<path clip-path=\"url(#clip390)\" d=\"\n",
       "M141.853 1099.09 L2352.76 1099.09 L2352.76 47.2441 L141.853 47.2441  Z\n",
       "  \" fill=\"#ffffff\" fill-rule=\"evenodd\" fill-opacity=\"1\"/>\n",
       "<defs>\n",
       "  <clipPath id=\"clip392\">\n",
       "    <rect x=\"141\" y=\"47\" width=\"2212\" height=\"1053\"/>\n",
       "  </clipPath>\n",
       "</defs>\n",
       "<polyline clip-path=\"url(#clip392)\" style=\"stroke:#000000; stroke-linecap:round; stroke-linejoin:round; stroke-width:2; stroke-opacity:0.1; fill:none\" points=\"\n",
       "  413.001,1099.09 413.001,47.2441 \n",
       "  \"/>\n",
       "<polyline clip-path=\"url(#clip392)\" style=\"stroke:#000000; stroke-linecap:round; stroke-linejoin:round; stroke-width:2; stroke-opacity:0.1; fill:none\" points=\"\n",
       "  830.153,1099.09 830.153,47.2441 \n",
       "  \"/>\n",
       "<polyline clip-path=\"url(#clip392)\" style=\"stroke:#000000; stroke-linecap:round; stroke-linejoin:round; stroke-width:2; stroke-opacity:0.1; fill:none\" points=\"\n",
       "  1247.3,1099.09 1247.3,47.2441 \n",
       "  \"/>\n",
       "<polyline clip-path=\"url(#clip392)\" style=\"stroke:#000000; stroke-linecap:round; stroke-linejoin:round; stroke-width:2; stroke-opacity:0.1; fill:none\" points=\"\n",
       "  1664.46,1099.09 1664.46,47.2441 \n",
       "  \"/>\n",
       "<polyline clip-path=\"url(#clip392)\" style=\"stroke:#000000; stroke-linecap:round; stroke-linejoin:round; stroke-width:2; stroke-opacity:0.1; fill:none\" points=\"\n",
       "  2081.61,1099.09 2081.61,47.2441 \n",
       "  \"/>\n",
       "<polyline clip-path=\"url(#clip390)\" style=\"stroke:#000000; stroke-linecap:round; stroke-linejoin:round; stroke-width:4; stroke-opacity:1; fill:none\" points=\"\n",
       "  141.853,1099.09 2352.76,1099.09 \n",
       "  \"/>\n",
       "<polyline clip-path=\"url(#clip390)\" style=\"stroke:#000000; stroke-linecap:round; stroke-linejoin:round; stroke-width:4; stroke-opacity:1; fill:none\" points=\"\n",
       "  413.001,1099.09 413.001,1080.19 \n",
       "  \"/>\n",
       "<polyline clip-path=\"url(#clip390)\" style=\"stroke:#000000; stroke-linecap:round; stroke-linejoin:round; stroke-width:4; stroke-opacity:1; fill:none\" points=\"\n",
       "  830.153,1099.09 830.153,1080.19 \n",
       "  \"/>\n",
       "<polyline clip-path=\"url(#clip390)\" style=\"stroke:#000000; stroke-linecap:round; stroke-linejoin:round; stroke-width:4; stroke-opacity:1; fill:none\" points=\"\n",
       "  1247.3,1099.09 1247.3,1080.19 \n",
       "  \"/>\n",
       "<polyline clip-path=\"url(#clip390)\" style=\"stroke:#000000; stroke-linecap:round; stroke-linejoin:round; stroke-width:4; stroke-opacity:1; fill:none\" points=\"\n",
       "  1664.46,1099.09 1664.46,1080.19 \n",
       "  \"/>\n",
       "<polyline clip-path=\"url(#clip390)\" style=\"stroke:#000000; stroke-linecap:round; stroke-linejoin:round; stroke-width:4; stroke-opacity:1; fill:none\" points=\"\n",
       "  2081.61,1099.09 2081.61,1080.19 \n",
       "  \"/>\n",
       "<path clip-path=\"url(#clip390)\" d=\"M381.902 1144.66 L411.578 1144.66 L411.578 1148.59 L381.902 1148.59 L381.902 1144.66 Z\" fill=\"#000000\" fill-rule=\"evenodd\" fill-opacity=\"1\" /><path clip-path=\"url(#clip390)\" d=\"M434.518 1131 L422.712 1149.45 L434.518 1149.45 L434.518 1131 M433.291 1126.93 L439.17 1126.93 L439.17 1149.45 L444.101 1149.45 L444.101 1153.34 L439.17 1153.34 L439.17 1161.49 L434.518 1161.49 L434.518 1153.34 L418.916 1153.34 L418.916 1148.83 L433.291 1126.93 Z\" fill=\"#000000\" fill-rule=\"evenodd\" fill-opacity=\"1\" /><path clip-path=\"url(#clip390)\" d=\"M800.095 1144.66 L829.771 1144.66 L829.771 1148.59 L800.095 1148.59 L800.095 1144.66 Z\" fill=\"#000000\" fill-rule=\"evenodd\" fill-opacity=\"1\" /><path clip-path=\"url(#clip390)\" d=\"M843.891 1157.55 L860.211 1157.55 L860.211 1161.49 L838.266 1161.49 L838.266 1157.55 Q840.928 1154.8 845.512 1150.17 Q850.118 1145.52 851.299 1144.17 Q853.544 1141.65 854.424 1139.91 Q855.326 1138.15 855.326 1136.46 Q855.326 1133.71 853.382 1131.97 Q851.461 1130.24 848.359 1130.24 Q846.16 1130.24 843.706 1131 Q841.276 1131.77 838.498 1133.32 L838.498 1128.59 Q841.322 1127.46 843.776 1126.88 Q846.229 1126.3 848.266 1126.3 Q853.637 1126.3 856.831 1128.99 Q860.025 1131.67 860.025 1136.16 Q860.025 1138.29 859.215 1140.21 Q858.428 1142.11 856.322 1144.71 Q855.743 1145.38 852.641 1148.59 Q849.539 1151.79 843.891 1157.55 Z\" fill=\"#000000\" fill-rule=\"evenodd\" fill-opacity=\"1\" /><path clip-path=\"url(#clip390)\" d=\"M1247.3 1130.01 Q1243.69 1130.01 1241.86 1133.57 Q1240.06 1137.11 1240.06 1144.24 Q1240.06 1151.35 1241.86 1154.91 Q1243.69 1158.46 1247.3 1158.46 Q1250.94 1158.46 1252.74 1154.91 Q1254.57 1151.35 1254.57 1144.24 Q1254.57 1137.11 1252.74 1133.57 Q1250.94 1130.01 1247.3 1130.01 M1247.3 1126.3 Q1253.11 1126.3 1256.17 1130.91 Q1259.25 1135.49 1259.25 1144.24 Q1259.25 1152.97 1256.17 1157.58 Q1253.11 1162.16 1247.3 1162.16 Q1241.49 1162.16 1238.42 1157.58 Q1235.36 1152.97 1235.36 1144.24 Q1235.36 1135.49 1238.42 1130.91 Q1241.49 1126.3 1247.3 1126.3 Z\" fill=\"#000000\" fill-rule=\"evenodd\" fill-opacity=\"1\" /><path clip-path=\"url(#clip390)\" d=\"M1659.11 1157.55 L1675.43 1157.55 L1675.43 1161.49 L1653.48 1161.49 L1653.48 1157.55 Q1656.15 1154.8 1660.73 1150.17 Q1665.34 1145.52 1666.52 1144.17 Q1668.76 1141.65 1669.64 1139.91 Q1670.54 1138.15 1670.54 1136.46 Q1670.54 1133.71 1668.6 1131.97 Q1666.68 1130.24 1663.58 1130.24 Q1661.38 1130.24 1658.92 1131 Q1656.49 1131.77 1653.72 1133.32 L1653.72 1128.59 Q1656.54 1127.46 1658.99 1126.88 Q1661.45 1126.3 1663.48 1126.3 Q1668.85 1126.3 1672.05 1128.99 Q1675.24 1131.67 1675.24 1136.16 Q1675.24 1138.29 1674.43 1140.21 Q1673.65 1142.11 1671.54 1144.71 Q1670.96 1145.38 1667.86 1148.59 Q1664.76 1151.79 1659.11 1157.55 Z\" fill=\"#000000\" fill-rule=\"evenodd\" fill-opacity=\"1\" /><path clip-path=\"url(#clip390)\" d=\"M2084.62 1131 L2072.81 1149.45 L2084.62 1149.45 L2084.62 1131 M2083.39 1126.93 L2089.27 1126.93 L2089.27 1149.45 L2094.2 1149.45 L2094.2 1153.34 L2089.27 1153.34 L2089.27 1161.49 L2084.62 1161.49 L2084.62 1153.34 L2069.01 1153.34 L2069.01 1148.83 L2083.39 1126.93 Z\" fill=\"#000000\" fill-rule=\"evenodd\" fill-opacity=\"1\" /><polyline clip-path=\"url(#clip392)\" style=\"stroke:#000000; stroke-linecap:round; stroke-linejoin:round; stroke-width:2; stroke-opacity:0.1; fill:none\" points=\"\n",
       "  141.853,1042.98 2352.76,1042.98 \n",
       "  \"/>\n",
       "<polyline clip-path=\"url(#clip392)\" style=\"stroke:#000000; stroke-linecap:round; stroke-linejoin:round; stroke-width:2; stroke-opacity:0.1; fill:none\" points=\"\n",
       "  141.853,836.357 2352.76,836.357 \n",
       "  \"/>\n",
       "<polyline clip-path=\"url(#clip392)\" style=\"stroke:#000000; stroke-linecap:round; stroke-linejoin:round; stroke-width:2; stroke-opacity:0.1; fill:none\" points=\"\n",
       "  141.853,629.733 2352.76,629.733 \n",
       "  \"/>\n",
       "<polyline clip-path=\"url(#clip392)\" style=\"stroke:#000000; stroke-linecap:round; stroke-linejoin:round; stroke-width:2; stroke-opacity:0.1; fill:none\" points=\"\n",
       "  141.853,423.109 2352.76,423.109 \n",
       "  \"/>\n",
       "<polyline clip-path=\"url(#clip392)\" style=\"stroke:#000000; stroke-linecap:round; stroke-linejoin:round; stroke-width:2; stroke-opacity:0.1; fill:none\" points=\"\n",
       "  141.853,216.485 2352.76,216.485 \n",
       "  \"/>\n",
       "<polyline clip-path=\"url(#clip390)\" style=\"stroke:#000000; stroke-linecap:round; stroke-linejoin:round; stroke-width:4; stroke-opacity:1; fill:none\" points=\"\n",
       "  141.853,1099.09 141.853,47.2441 \n",
       "  \"/>\n",
       "<polyline clip-path=\"url(#clip390)\" style=\"stroke:#000000; stroke-linecap:round; stroke-linejoin:round; stroke-width:4; stroke-opacity:1; fill:none\" points=\"\n",
       "  141.853,1042.98 160.751,1042.98 \n",
       "  \"/>\n",
       "<polyline clip-path=\"url(#clip390)\" style=\"stroke:#000000; stroke-linecap:round; stroke-linejoin:round; stroke-width:4; stroke-opacity:1; fill:none\" points=\"\n",
       "  141.853,836.357 160.751,836.357 \n",
       "  \"/>\n",
       "<polyline clip-path=\"url(#clip390)\" style=\"stroke:#000000; stroke-linecap:round; stroke-linejoin:round; stroke-width:4; stroke-opacity:1; fill:none\" points=\"\n",
       "  141.853,629.733 160.751,629.733 \n",
       "  \"/>\n",
       "<polyline clip-path=\"url(#clip390)\" style=\"stroke:#000000; stroke-linecap:round; stroke-linejoin:round; stroke-width:4; stroke-opacity:1; fill:none\" points=\"\n",
       "  141.853,423.109 160.751,423.109 \n",
       "  \"/>\n",
       "<polyline clip-path=\"url(#clip390)\" style=\"stroke:#000000; stroke-linecap:round; stroke-linejoin:round; stroke-width:4; stroke-opacity:1; fill:none\" points=\"\n",
       "  141.853,216.485 160.751,216.485 \n",
       "  \"/>\n",
       "<path clip-path=\"url(#clip390)\" d=\"M93.9086 1028.78 Q90.2975 1028.78 88.4688 1032.35 Q86.6632 1035.89 86.6632 1043.02 Q86.6632 1050.12 88.4688 1053.69 Q90.2975 1057.23 93.9086 1057.23 Q97.5428 1057.23 99.3483 1053.69 Q101.177 1050.12 101.177 1043.02 Q101.177 1035.89 99.3483 1032.35 Q97.5428 1028.78 93.9086 1028.78 M93.9086 1025.08 Q99.7187 1025.08 102.774 1029.68 Q105.853 1034.27 105.853 1043.02 Q105.853 1051.74 102.774 1056.35 Q99.7187 1060.93 93.9086 1060.93 Q88.0984 1060.93 85.0197 1056.35 Q81.9642 1051.74 81.9642 1043.02 Q81.9642 1034.27 85.0197 1029.68 Q88.0984 1025.08 93.9086 1025.08 Z\" fill=\"#000000\" fill-rule=\"evenodd\" fill-opacity=\"1\" /><path clip-path=\"url(#clip390)\" d=\"M57.7745 849.702 L74.0939 849.702 L74.0939 853.637 L52.1495 853.637 L52.1495 849.702 Q54.8115 846.948 59.3949 842.318 Q64.0013 837.665 65.1819 836.323 Q67.4272 833.8 68.3068 832.064 Q69.2096 830.304 69.2096 828.614 Q69.2096 825.86 67.2652 824.124 Q65.3439 822.388 62.2421 822.388 Q60.043 822.388 57.5893 823.152 Q55.1588 823.915 52.381 825.466 L52.381 820.744 Q55.2051 819.61 57.6588 819.031 Q60.1124 818.452 62.1495 818.452 Q67.5198 818.452 70.7142 821.138 Q73.9087 823.823 73.9087 828.314 Q73.9087 830.443 73.0985 832.364 Q72.3115 834.263 70.205 836.855 Q69.6263 837.526 66.5245 840.744 Q63.4226 843.938 57.7745 849.702 Z\" fill=\"#000000\" fill-rule=\"evenodd\" fill-opacity=\"1\" /><path clip-path=\"url(#clip390)\" d=\"M93.9086 822.156 Q90.2975 822.156 88.4688 825.721 Q86.6632 829.263 86.6632 836.392 Q86.6632 843.499 88.4688 847.063 Q90.2975 850.605 93.9086 850.605 Q97.5428 850.605 99.3483 847.063 Q101.177 843.499 101.177 836.392 Q101.177 829.263 99.3483 825.721 Q97.5428 822.156 93.9086 822.156 M93.9086 818.452 Q99.7187 818.452 102.774 823.059 Q105.853 827.642 105.853 836.392 Q105.853 845.119 102.774 849.725 Q99.7187 854.309 93.9086 854.309 Q88.0984 854.309 85.0197 849.725 Q81.9642 845.119 81.9642 836.392 Q81.9642 827.642 85.0197 823.059 Q88.0984 818.452 93.9086 818.452 Z\" fill=\"#000000\" fill-rule=\"evenodd\" fill-opacity=\"1\" /><path clip-path=\"url(#clip390)\" d=\"M66.5939 616.527 L54.7884 634.976 L66.5939 634.976 L66.5939 616.527 M65.367 612.453 L71.2466 612.453 L71.2466 634.976 L76.1772 634.976 L76.1772 638.865 L71.2466 638.865 L71.2466 647.013 L66.5939 647.013 L66.5939 638.865 L50.9921 638.865 L50.9921 634.351 L65.367 612.453 Z\" fill=\"#000000\" fill-rule=\"evenodd\" fill-opacity=\"1\" /><path clip-path=\"url(#clip390)\" d=\"M93.9086 615.532 Q90.2975 615.532 88.4688 619.097 Q86.6632 622.638 86.6632 629.768 Q86.6632 636.874 88.4688 640.439 Q90.2975 643.981 93.9086 643.981 Q97.5428 643.981 99.3483 640.439 Q101.177 636.874 101.177 629.768 Q101.177 622.638 99.3483 619.097 Q97.5428 615.532 93.9086 615.532 M93.9086 611.828 Q99.7187 611.828 102.774 616.435 Q105.853 621.018 105.853 629.768 Q105.853 638.495 102.774 643.101 Q99.7187 647.684 93.9086 647.684 Q88.0984 647.684 85.0197 643.101 Q81.9642 638.495 81.9642 629.768 Q81.9642 621.018 85.0197 616.435 Q88.0984 611.828 93.9086 611.828 Z\" fill=\"#000000\" fill-rule=\"evenodd\" fill-opacity=\"1\" /><path clip-path=\"url(#clip390)\" d=\"M64.3254 421.246 Q61.1773 421.246 59.3254 423.398 Q57.4967 425.551 57.4967 429.301 Q57.4967 433.028 59.3254 435.204 Q61.1773 437.357 64.3254 437.357 Q67.4735 437.357 69.3022 435.204 Q71.1541 433.028 71.1541 429.301 Q71.1541 425.551 69.3022 423.398 Q67.4735 421.246 64.3254 421.246 M73.6077 406.593 L73.6077 410.852 Q71.8485 410.019 70.0429 409.579 Q68.2606 409.139 66.5013 409.139 Q61.8717 409.139 59.418 412.264 Q56.9875 415.389 56.6402 421.708 Q58.006 419.695 60.0662 418.63 Q62.1263 417.542 64.6032 417.542 Q69.8115 417.542 72.8207 420.713 Q75.8531 423.861 75.8531 429.301 Q75.8531 434.625 72.705 437.843 Q69.5568 441.06 64.3254 441.06 Q58.33 441.06 55.1588 436.477 Q51.9875 431.87 51.9875 423.144 Q51.9875 414.949 55.8764 410.088 Q59.7652 405.204 66.3161 405.204 Q68.0754 405.204 69.8578 405.551 Q71.6633 405.898 73.6077 406.593 Z\" fill=\"#000000\" fill-rule=\"evenodd\" fill-opacity=\"1\" /><path clip-path=\"url(#clip390)\" d=\"M93.9086 408.908 Q90.2975 408.908 88.4688 412.472 Q86.6632 416.014 86.6632 423.144 Q86.6632 430.25 88.4688 433.815 Q90.2975 437.357 93.9086 437.357 Q97.5428 437.357 99.3483 433.815 Q101.177 430.25 101.177 423.144 Q101.177 416.014 99.3483 412.472 Q97.5428 408.908 93.9086 408.908 M93.9086 405.204 Q99.7187 405.204 102.774 409.81 Q105.853 414.394 105.853 423.144 Q105.853 431.87 102.774 436.477 Q99.7187 441.06 93.9086 441.06 Q88.0984 441.06 85.0197 436.477 Q81.9642 431.87 81.9642 423.144 Q81.9642 414.394 85.0197 409.81 Q88.0984 405.204 93.9086 405.204 Z\" fill=\"#000000\" fill-rule=\"evenodd\" fill-opacity=\"1\" /><path clip-path=\"url(#clip390)\" d=\"M63.7467 217.353 Q60.4134 217.353 58.4921 219.135 Q56.5939 220.917 56.5939 224.042 Q56.5939 227.167 58.4921 228.95 Q60.4134 230.732 63.7467 230.732 Q67.08 230.732 69.0013 228.95 Q70.9226 227.144 70.9226 224.042 Q70.9226 220.917 69.0013 219.135 Q67.1032 217.353 63.7467 217.353 M59.0708 215.362 Q56.0615 214.621 54.3717 212.561 Q52.7051 210.501 52.7051 207.538 Q52.7051 203.394 55.6449 200.987 Q58.6078 198.58 63.7467 198.58 Q68.9087 198.58 71.8485 200.987 Q74.7883 203.394 74.7883 207.538 Q74.7883 210.501 73.0985 212.561 Q71.4318 214.621 68.4457 215.362 Q71.8253 216.149 73.7003 218.441 Q75.5985 220.732 75.5985 224.042 Q75.5985 229.066 72.5198 231.751 Q69.4642 234.436 63.7467 234.436 Q58.0291 234.436 54.9504 231.751 Q51.8949 229.066 51.8949 224.042 Q51.8949 220.732 53.793 218.441 Q55.6912 216.149 59.0708 215.362 M57.3578 207.978 Q57.3578 210.663 59.0245 212.168 Q60.7143 213.672 63.7467 213.672 Q66.7559 213.672 68.4457 212.168 Q70.1587 210.663 70.1587 207.978 Q70.1587 205.293 68.4457 203.788 Q66.7559 202.283 63.7467 202.283 Q60.7143 202.283 59.0245 203.788 Q57.3578 205.293 57.3578 207.978 Z\" fill=\"#000000\" fill-rule=\"evenodd\" fill-opacity=\"1\" /><path clip-path=\"url(#clip390)\" d=\"M93.9086 202.283 Q90.2975 202.283 88.4688 205.848 Q86.6632 209.39 86.6632 216.519 Q86.6632 223.626 88.4688 227.191 Q90.2975 230.732 93.9086 230.732 Q97.5428 230.732 99.3483 227.191 Q101.177 223.626 101.177 216.519 Q101.177 209.39 99.3483 205.848 Q97.5428 202.283 93.9086 202.283 M93.9086 198.58 Q99.7187 198.58 102.774 203.186 Q105.853 207.769 105.853 216.519 Q105.853 225.246 102.774 229.853 Q99.7187 234.436 93.9086 234.436 Q88.0984 234.436 85.0197 229.853 Q81.9642 225.246 81.9642 216.519 Q81.9642 207.769 85.0197 203.186 Q88.0984 198.58 93.9086 198.58 Z\" fill=\"#000000\" fill-rule=\"evenodd\" fill-opacity=\"1\" /><polyline clip-path=\"url(#clip392)\" style=\"stroke:#4682b4; stroke-linecap:round; stroke-linejoin:round; stroke-width:4; stroke-opacity:1; fill:none\" stroke-dasharray=\"16, 10\" points=\"\n",
       "  204.426,77.0133 207.821,85.9836 211.215,94.902 214.61,103.769 218.005,112.584 233.7,152.671 249.395,191.671 265.091,229.598 280.786,266.464 296.481,302.283 \n",
       "  312.176,337.068 327.871,370.832 343.566,403.589 362.431,441.644 381.295,478.287 400.159,513.538 419.024,547.422 434.973,575.02 450.923,601.671 466.872,627.388 \n",
       "  482.822,652.185 500.147,678.096 517.473,702.955 534.799,726.781 552.124,749.592 568.097,769.736 584.07,789.047 600.042,807.537 616.015,825.221 633.139,843.3 \n",
       "  650.264,860.485 667.388,876.793 684.513,892.242 704.353,909.09 724.193,924.833 744.034,939.499 763.874,953.114 781.506,964.354 799.138,974.804 816.769,984.482 \n",
       "  834.401,993.408 865.324,1007.3 896.247,1019.04 929.961,1029.5 963.675,1037.65 997.59,1043.64 1031.5,1047.57 1069,1049.65 1106.5,1049.54 1142.18,1047.57 \n",
       "  1177.85,1043.93 1214.95,1038.54 1252.05,1031.7 1283.27,1024.94 1314.5,1017.37 1390.75,996.137 1460.6,974.307 1525.11,953.159 1590.46,931.737 1663.7,908.902 \n",
       "  1730.06,890.362 1768.05,881.07 1806.04,872.974 1841.22,866.707 1876.4,861.776 1911.08,858.365 1945.76,856.539 1979.43,856.417 2013.1,858.053 2047.62,861.692 \n",
       "  2082.13,867.456 2101.04,871.565 2119.95,876.377 2138.86,881.915 2157.77,888.202 2185.24,898.718 2212.71,910.934 2240.17,924.921 2267.64,940.751 2273.28,944.232 \n",
       "  2278.91,947.795 2284.55,951.44 2290.18,955.166 \n",
       "  \"/>\n",
       "<circle clip-path=\"url(#clip392)\" cx=\"1953.76\" cy=\"876.406\" r=\"14.4\" fill=\"#0000ff\" fill-rule=\"evenodd\" fill-opacity=\"1\" stroke=\"#000000\" stroke-opacity=\"1\" stroke-width=\"2.4\"/>\n",
       "<circle clip-path=\"url(#clip392)\" cx=\"2254.59\" cy=\"897.39\" r=\"14.4\" fill=\"#0000ff\" fill-rule=\"evenodd\" fill-opacity=\"1\" stroke=\"#000000\" stroke-opacity=\"1\" stroke-width=\"2.4\"/>\n",
       "<circle clip-path=\"url(#clip392)\" cx=\"926.198\" cy=\"1035.61\" r=\"14.4\" fill=\"#0000ff\" fill-rule=\"evenodd\" fill-opacity=\"1\" stroke=\"#000000\" stroke-opacity=\"1\" stroke-width=\"2.4\"/>\n",
       "<circle clip-path=\"url(#clip392)\" cx=\"1925.21\" cy=\"860.422\" r=\"14.4\" fill=\"#0000ff\" fill-rule=\"evenodd\" fill-opacity=\"1\" stroke=\"#000000\" stroke-opacity=\"1\" stroke-width=\"2.4\"/>\n",
       "<circle clip-path=\"url(#clip392)\" cx=\"2212.14\" cy=\"894.011\" r=\"14.4\" fill=\"#0000ff\" fill-rule=\"evenodd\" fill-opacity=\"1\" stroke=\"#000000\" stroke-opacity=\"1\" stroke-width=\"2.4\"/>\n",
       "<circle clip-path=\"url(#clip392)\" cx=\"1122.93\" cy=\"1069.32\" r=\"14.4\" fill=\"#0000ff\" fill-rule=\"evenodd\" fill-opacity=\"1\" stroke=\"#000000\" stroke-opacity=\"1\" stroke-width=\"2.4\"/>\n",
       "<circle clip-path=\"url(#clip392)\" cx=\"443.188\" cy=\"585.868\" r=\"14.4\" fill=\"#0000ff\" fill-rule=\"evenodd\" fill-opacity=\"1\" stroke=\"#000000\" stroke-opacity=\"1\" stroke-width=\"2.4\"/>\n",
       "<circle clip-path=\"url(#clip392)\" cx=\"2079.81\" cy=\"864.126\" r=\"14.4\" fill=\"#0000ff\" fill-rule=\"evenodd\" fill-opacity=\"1\" stroke=\"#000000\" stroke-opacity=\"1\" stroke-width=\"2.4\"/>\n",
       "<circle clip-path=\"url(#clip392)\" cx=\"928.422\" cy=\"1034.77\" r=\"14.4\" fill=\"#0000ff\" fill-rule=\"evenodd\" fill-opacity=\"1\" stroke=\"#000000\" stroke-opacity=\"1\" stroke-width=\"2.4\"/>\n",
       "<circle clip-path=\"url(#clip392)\" cx=\"1378.86\" cy=\"995.975\" r=\"14.4\" fill=\"#0000ff\" fill-rule=\"evenodd\" fill-opacity=\"1\" stroke=\"#000000\" stroke-opacity=\"1\" stroke-width=\"2.4\"/>\n",
       "<circle clip-path=\"url(#clip392)\" cx=\"788.882\" cy=\"992.716\" r=\"14.4\" fill=\"#0000ff\" fill-rule=\"evenodd\" fill-opacity=\"1\" stroke=\"#000000\" stroke-opacity=\"1\" stroke-width=\"2.4\"/>\n",
       "<circle clip-path=\"url(#clip392)\" cx=\"272.248\" cy=\"257.88\" r=\"14.4\" fill=\"#0000ff\" fill-rule=\"evenodd\" fill-opacity=\"1\" stroke=\"#000000\" stroke-opacity=\"1\" stroke-width=\"2.4\"/>\n",
       "<circle clip-path=\"url(#clip392)\" cx=\"1933.76\" cy=\"870.712\" r=\"14.4\" fill=\"#0000ff\" fill-rule=\"evenodd\" fill-opacity=\"1\" stroke=\"#000000\" stroke-opacity=\"1\" stroke-width=\"2.4\"/>\n",
       "<circle clip-path=\"url(#clip392)\" cx=\"1584.97\" cy=\"962.589\" r=\"14.4\" fill=\"#0000ff\" fill-rule=\"evenodd\" fill-opacity=\"1\" stroke=\"#000000\" stroke-opacity=\"1\" stroke-width=\"2.4\"/>\n",
       "<circle clip-path=\"url(#clip392)\" cx=\"250.593\" cy=\"174.039\" r=\"14.4\" fill=\"#0000ff\" fill-rule=\"evenodd\" fill-opacity=\"1\" stroke=\"#000000\" stroke-opacity=\"1\" stroke-width=\"2.4\"/>\n",
       "<circle clip-path=\"url(#clip392)\" cx=\"1777.52\" cy=\"850.5\" r=\"14.4\" fill=\"#0000ff\" fill-rule=\"evenodd\" fill-opacity=\"1\" stroke=\"#000000\" stroke-opacity=\"1\" stroke-width=\"2.4\"/>\n",
       "<circle clip-path=\"url(#clip392)\" cx=\"546.939\" cy=\"738.438\" r=\"14.4\" fill=\"#0000ff\" fill-rule=\"evenodd\" fill-opacity=\"1\" stroke=\"#000000\" stroke-opacity=\"1\" stroke-width=\"2.4\"/>\n",
       "<circle clip-path=\"url(#clip392)\" cx=\"322.007\" cy=\"367.525\" r=\"14.4\" fill=\"#0000ff\" fill-rule=\"evenodd\" fill-opacity=\"1\" stroke=\"#000000\" stroke-opacity=\"1\" stroke-width=\"2.4\"/>\n",
       "<circle clip-path=\"url(#clip392)\" cx=\"1146.7\" cy=\"1032.08\" r=\"14.4\" fill=\"#0000ff\" fill-rule=\"evenodd\" fill-opacity=\"1\" stroke=\"#000000\" stroke-opacity=\"1\" stroke-width=\"2.4\"/>\n",
       "<circle clip-path=\"url(#clip392)\" cx=\"1150.6\" cy=\"1048.65\" r=\"14.4\" fill=\"#0000ff\" fill-rule=\"evenodd\" fill-opacity=\"1\" stroke=\"#000000\" stroke-opacity=\"1\" stroke-width=\"2.4\"/>\n",
       "<path clip-path=\"url(#clip390)\" d=\"\n",
       "M2010.23 185.986 L2279.06 185.986 L2279.06 82.3056 L2010.23 82.3056  Z\n",
       "  \" fill=\"#ffffff\" fill-rule=\"evenodd\" fill-opacity=\"1\"/>\n",
       "<polyline clip-path=\"url(#clip390)\" style=\"stroke:#000000; stroke-linecap:round; stroke-linejoin:round; stroke-width:4; stroke-opacity:1; fill:none\" points=\"\n",
       "  2010.23,185.986 2279.06,185.986 2279.06,82.3056 2010.23,82.3056 2010.23,185.986 \n",
       "  \"/>\n",
       "<polyline clip-path=\"url(#clip390)\" style=\"stroke:#4682b4; stroke-linecap:round; stroke-linejoin:round; stroke-width:4; stroke-opacity:1; fill:none\" stroke-dasharray=\"16, 10\" points=\"\n",
       "  2034.8,134.146 2182.19,134.146 \n",
       "  \"/>\n",
       "<path clip-path=\"url(#clip390)\" d=\"M2211.15 138.486 Q2211.15 143.185 2213.08 145.87 Q2215.02 148.532 2218.4 148.532 Q2221.78 148.532 2223.72 145.87 Q2225.67 143.185 2225.67 138.486 Q2225.67 133.787 2223.72 131.125 Q2221.78 128.44 2218.4 128.44 Q2215.02 128.44 2213.08 131.125 Q2211.15 133.787 2211.15 138.486 M2225.67 147.537 Q2224.33 149.851 2222.27 150.986 Q2220.23 152.097 2217.36 152.097 Q2212.66 152.097 2209.7 148.347 Q2206.76 144.597 2206.76 138.486 Q2206.76 132.375 2209.7 128.625 Q2212.66 124.875 2217.36 124.875 Q2220.23 124.875 2222.27 126.009 Q2224.33 127.12 2225.67 129.435 L2225.67 125.5 L2229.93 125.5 L2229.93 161.287 L2225.67 161.287 L2225.67 147.537 Z\" fill=\"#000000\" fill-rule=\"evenodd\" fill-opacity=\"1\" /></svg>\n"
      ]
     },
     "execution_count": 105,
     "metadata": {},
     "output_type": "execute_result"
    }
   ],
   "source": [
    "plot(q, label = \"q\", size = (600,300), linestyle = :dash, color = :steelblue)\n",
    "scatter!(X,Y, label=false, color = :blue)"
   ]
  },
  {
   "cell_type": "markdown",
   "metadata": {},
   "source": [
    "We calculate feature matrix and RR parameters."
   ]
  },
  {
   "cell_type": "code",
   "execution_count": 106,
   "metadata": {},
   "outputs": [
    {
     "data": {
      "text/plain": [
       "θ_T (generic function with 1 method)"
      ]
     },
     "execution_count": 106,
     "metadata": {},
     "output_type": "execute_result"
    }
   ],
   "source": [
    "Ω = hcat([X.^i for i in 0:P-1]...)\n",
    "θ_T(λ) = (Ω' * Ω + (n*λ) .* diagm(ones(P))) \\ (Ω' * Y)"
   ]
  },
  {
   "cell_type": "markdown",
   "metadata": {},
   "source": [
    "For each value of $\\lambda$ we then get a polynomial like this:'"
   ]
  },
  {
   "cell_type": "code",
   "execution_count": 107,
   "metadata": {},
   "outputs": [
    {
     "data": {
      "text/plain": [
       "Q (generic function with 1 method)"
      ]
     },
     "execution_count": 107,
     "metadata": {},
     "output_type": "execute_result"
    }
   ],
   "source": [
    "Q(λ) = (x -> sum(θ * x^(i-1) for (i,θ) in enumerate(θ_T(λ))))"
   ]
  },
  {
   "cell_type": "markdown",
   "metadata": {},
   "source": [
    "The following animation shows that regularization ($\\lambda >0$) achieves a better result than no regularization ($\\lambda =0$)."
   ]
  },
  {
   "cell_type": "code",
   "execution_count": 108,
   "metadata": {},
   "outputs": [
    {
     "name": "stdout",
     "output_type": "stream",
     "text": [
      "0#821#822#823#824#825#826#827#828#829#8210#82"
     ]
    },
    {
     "name": "stderr",
     "output_type": "stream",
     "text": [
      "┌ Info: Saved animation to \n",
      "│   fn = /Users/sfairchild/Documents/GitHub/MathData-Winter22-23/Notebooks/ridge_regression.gif\n",
      "└ @ Plots /Users/sfairchild/.julia/packages/Plots/4UTBj/src/animation.jl:154\n"
     ]
    },
    {
     "data": {
      "text/html": [
       "<img src=\"data:image/gif;base64,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\" />"
      ],
      "text/plain": [
       "Plots.AnimatedGif(\"/Users/sfairchild/Documents/GitHub/MathData-Winter22-23/Notebooks/ridge_regression.gif\")"
      ]
     },
     "execution_count": 108,
     "metadata": {},
     "output_type": "execute_result"
    }
   ],
   "source": [
    "anim = @animate for λ in 0:10\n",
    "    plot(q, label = \"q\", size = (600,300), linestyle = :dash, lw = 2,\n",
    "        color = :steelblue, \n",
    "        xlims = (-5,5),\n",
    "        ylims = (-20, 120))\n",
    "    scatter!(X,Y, label=false, color = :blue)\n",
    "    print(λ, Q(λ))\n",
    "    plot!(Q(λ/n), label = \"λ = $(λ/n)\", color = :red, lw = 2)\n",
    "end\n",
    "gif(anim, \"ridge_regression.gif\", fps = 2)"
   ]
  },
  {
   "cell_type": "code",
   "execution_count": null,
   "metadata": {},
   "outputs": [],
   "source": []
  }
 ],
 "metadata": {
  "@webio": {
   "lastCommId": null,
   "lastKernelId": null
  },
  "kernelspec": {
   "display_name": "Julia 1.8.2",
   "language": "julia",
   "name": "julia-1.8"
  },
  "language_info": {
   "file_extension": ".jl",
   "mimetype": "application/julia",
   "name": "julia",
   "version": "1.8.2"
  }
 },
 "nbformat": 4,
 "nbformat_minor": 2
}
