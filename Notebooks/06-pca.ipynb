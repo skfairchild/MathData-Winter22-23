{
 "cells": [
  {
   "cell_type": "code",
   "execution_count": 1,
   "metadata": {},
   "outputs": [
    {
     "name": "stderr",
     "output_type": "stream",
     "text": [
      "\u001b[32m\u001b[1m  Activating\u001b[22m\u001b[39m project at `~/Documents/GitHub/MathData-Winter22-23/Notebooks/NB06`\n"
     ]
    }
   ],
   "source": [
    "using Pkg\n",
    "Pkg.activate(\"NB06\")"
   ]
  },
  {
   "cell_type": "code",
   "execution_count": 2,
   "metadata": {},
   "outputs": [
    {
     "name": "stderr",
     "output_type": "stream",
     "text": [
      "┌ Info: Precompiling MLDatasets [eb30cadb-4394-5ae3-aed4-317e484a6458]\n",
      "└ @ Base loading.jl:1664\n",
      "┌ Info: Precompiling Plots [91a5bcdd-55d7-5caf-9e0b-520d859cae80]\n",
      "└ @ Base loading.jl:1664\n"
     ]
    }
   ],
   "source": [
    "using MLDatasets\n",
    "using Plots, LinearAlgebra, StatsBase, Distributions\n",
    "using Images, ImageCore\n",
    "import Base.Iterators: product"
   ]
  },
  {
   "cell_type": "markdown",
   "metadata": {},
   "source": [
    "*Warning:* For this notebook I had to pin `CSV.jl` to version 0.8.5, because otherwise `MLDatasets` would not compile. This restricts `MLDatasets` to version 0.5. The latest version has a different syntax than the one used here."
   ]
  },
  {
   "cell_type": "markdown",
   "metadata": {},
   "source": [
    "# Principal Component Analysis\n",
    "\n",
    "In this notebook we will apply PCA to three datasets.\n"
   ]
  },
  {
   "cell_type": "markdown",
   "metadata": {},
   "source": [
    "## Points on a circle\n",
    "\n",
    "\n",
    "The first dataset is synthetic data generated from the unit circle $S^1 \\subset \\mathbb R^2$.\n",
    "\n",
    "We want to use PCA to learn the geometry of the data.\n",
    "\n",
    "Let us first generate $n=100$ random points on $S^1$ and add Gaussian noise with variance $\\sigma^2 = 0.01$."
   ]
  },
  {
   "cell_type": "code",
   "execution_count": 3,
   "metadata": {},
   "outputs": [],
   "source": [
    "n = 100\n",
    "σ² = 0.01\n",
    "X = [[cos(ϕ); sin(ϕ)] + sqrt(σ²) .* randn(2) for ϕ in rand(0:0.1:2π, n)];"
   ]
  },
  {
   "cell_type": "markdown",
   "metadata": {},
   "source": [
    "We center the data"
   ]
  },
  {
   "cell_type": "code",
   "execution_count": 4,
   "metadata": {},
   "outputs": [],
   "source": [
    "x̄ = mean(X);\n",
    "X = map(x -> x - x̄, X);"
   ]
  },
  {
   "cell_type": "markdown",
   "metadata": {},
   "source": [
    "and plot the data."
   ]
  },
  {
   "cell_type": "code",
   "execution_count": 5,
   "metadata": {},
   "outputs": [
    {
     "name": "stderr",
     "output_type": "stream",
     "text": [
      "┌ Info: Precompiling GR_jll [d2c73de3-f751-5644-a686-071e5b155ba9]\n",
      "└ @ Base loading.jl:1664\n"
     ]
    },
    {
     "data": {
      "image/svg+xml": [
       "<?xml version=\"1.0\" encoding=\"utf-8\"?>\n",
       "<svg xmlns=\"http://www.w3.org/2000/svg\" xmlns:xlink=\"http://www.w3.org/1999/xlink\" width=\"750\" height=\"250\" viewBox=\"0 0 3000 1000\">\n",
       "<defs>\n",
       "  <clipPath id=\"clip870\">\n",
       "    <rect x=\"0\" y=\"0\" width=\"3000\" height=\"1000\"/>\n",
       "  </clipPath>\n",
       "</defs>\n",
       "<path clip-path=\"url(#clip870)\" d=\"\n",
       "M0 1000 L3000 1000 L3000 0 L0 0  Z\n",
       "  \" fill=\"#ffffff\" fill-rule=\"evenodd\" fill-opacity=\"1\"/>\n",
       "<defs>\n",
       "  <clipPath id=\"clip871\">\n",
       "    <rect x=\"600\" y=\"0\" width=\"2101\" height=\"1000\"/>\n",
       "  </clipPath>\n",
       "</defs>\n",
       "<path clip-path=\"url(#clip870)\" d=\"\n",
       "M199.936 909.728 L2952.76 909.728 L2952.76 47.2441 L199.936 47.2441  Z\n",
       "  \" fill=\"#ffffff\" fill-rule=\"evenodd\" fill-opacity=\"1\"/>\n",
       "<defs>\n",
       "  <clipPath id=\"clip872\">\n",
       "    <rect x=\"199\" y=\"47\" width=\"2754\" height=\"863\"/>\n",
       "  </clipPath>\n",
       "</defs>\n",
       "<polyline clip-path=\"url(#clip872)\" style=\"stroke:#000000; stroke-linecap:butt; stroke-linejoin:round; stroke-width:2; stroke-opacity:0.1; fill:none\" points=\"\n",
       "  530.597,909.728 530.597,47.2441 \n",
       "  \"/>\n",
       "<polyline clip-path=\"url(#clip872)\" style=\"stroke:#000000; stroke-linecap:butt; stroke-linejoin:round; stroke-width:2; stroke-opacity:0.1; fill:none\" points=\"\n",
       "  882.831,909.728 882.831,47.2441 \n",
       "  \"/>\n",
       "<polyline clip-path=\"url(#clip872)\" style=\"stroke:#000000; stroke-linecap:butt; stroke-linejoin:round; stroke-width:2; stroke-opacity:0.1; fill:none\" points=\"\n",
       "  1235.06,909.728 1235.06,47.2441 \n",
       "  \"/>\n",
       "<polyline clip-path=\"url(#clip872)\" style=\"stroke:#000000; stroke-linecap:butt; stroke-linejoin:round; stroke-width:2; stroke-opacity:0.1; fill:none\" points=\"\n",
       "  1587.3,909.728 1587.3,47.2441 \n",
       "  \"/>\n",
       "<polyline clip-path=\"url(#clip872)\" style=\"stroke:#000000; stroke-linecap:butt; stroke-linejoin:round; stroke-width:2; stroke-opacity:0.1; fill:none\" points=\"\n",
       "  1939.53,909.728 1939.53,47.2441 \n",
       "  \"/>\n",
       "<polyline clip-path=\"url(#clip872)\" style=\"stroke:#000000; stroke-linecap:butt; stroke-linejoin:round; stroke-width:2; stroke-opacity:0.1; fill:none\" points=\"\n",
       "  2291.77,909.728 2291.77,47.2441 \n",
       "  \"/>\n",
       "<polyline clip-path=\"url(#clip872)\" style=\"stroke:#000000; stroke-linecap:butt; stroke-linejoin:round; stroke-width:2; stroke-opacity:0.1; fill:none\" points=\"\n",
       "  2644,909.728 2644,47.2441 \n",
       "  \"/>\n",
       "<polyline clip-path=\"url(#clip870)\" style=\"stroke:#000000; stroke-linecap:butt; stroke-linejoin:round; stroke-width:4; stroke-opacity:1; fill:none\" points=\"\n",
       "  199.936,909.728 2952.76,909.728 \n",
       "  \"/>\n",
       "<polyline clip-path=\"url(#clip870)\" style=\"stroke:#000000; stroke-linecap:butt; stroke-linejoin:round; stroke-width:4; stroke-opacity:1; fill:none\" points=\"\n",
       "  530.597,909.728 530.597,890.83 \n",
       "  \"/>\n",
       "<polyline clip-path=\"url(#clip870)\" style=\"stroke:#000000; stroke-linecap:butt; stroke-linejoin:round; stroke-width:4; stroke-opacity:1; fill:none\" points=\"\n",
       "  882.831,909.728 882.831,890.83 \n",
       "  \"/>\n",
       "<polyline clip-path=\"url(#clip870)\" style=\"stroke:#000000; stroke-linecap:butt; stroke-linejoin:round; stroke-width:4; stroke-opacity:1; fill:none\" points=\"\n",
       "  1235.06,909.728 1235.06,890.83 \n",
       "  \"/>\n",
       "<polyline clip-path=\"url(#clip870)\" style=\"stroke:#000000; stroke-linecap:butt; stroke-linejoin:round; stroke-width:4; stroke-opacity:1; fill:none\" points=\"\n",
       "  1587.3,909.728 1587.3,890.83 \n",
       "  \"/>\n",
       "<polyline clip-path=\"url(#clip870)\" style=\"stroke:#000000; stroke-linecap:butt; stroke-linejoin:round; stroke-width:4; stroke-opacity:1; fill:none\" points=\"\n",
       "  1939.53,909.728 1939.53,890.83 \n",
       "  \"/>\n",
       "<polyline clip-path=\"url(#clip870)\" style=\"stroke:#000000; stroke-linecap:butt; stroke-linejoin:round; stroke-width:4; stroke-opacity:1; fill:none\" points=\"\n",
       "  2291.77,909.728 2291.77,890.83 \n",
       "  \"/>\n",
       "<polyline clip-path=\"url(#clip870)\" style=\"stroke:#000000; stroke-linecap:butt; stroke-linejoin:round; stroke-width:4; stroke-opacity:1; fill:none\" points=\"\n",
       "  2644,909.728 2644,890.83 \n",
       "  \"/>\n",
       "<path clip-path=\"url(#clip870)\" d=\"M500.064 960.099 L529.74 960.099 L529.74 964.034 L500.064 964.034 L500.064 960.099 Z\" fill=\"#000000\" fill-rule=\"evenodd\" fill-opacity=\"1\" /><path clip-path=\"url(#clip870)\" d=\"M553.999 958.294 Q557.356 959.011 559.231 961.28 Q561.129 963.548 561.129 966.882 Q561.129 971.997 557.61 974.798 Q554.092 977.599 547.61 977.599 Q545.434 977.599 543.12 977.159 Q540.828 976.743 538.374 975.886 L538.374 971.372 Q540.319 972.507 542.633 973.085 Q544.948 973.664 547.471 973.664 Q551.87 973.664 554.161 971.928 Q556.476 970.192 556.476 966.882 Q556.476 963.826 554.323 962.113 Q552.194 960.377 548.374 960.377 L544.346 960.377 L544.346 956.534 L548.559 956.534 Q552.008 956.534 553.837 955.169 Q555.666 953.78 555.666 951.187 Q555.666 948.525 553.768 947.113 Q551.893 945.678 548.374 945.678 Q546.453 945.678 544.254 946.095 Q542.055 946.511 539.416 947.391 L539.416 943.224 Q542.078 942.484 544.393 942.113 Q546.731 941.743 548.791 941.743 Q554.115 941.743 557.217 944.173 Q560.319 946.581 560.319 950.701 Q560.319 953.572 558.675 955.562 Q557.032 957.53 553.999 958.294 Z\" fill=\"#000000\" fill-rule=\"evenodd\" fill-opacity=\"1\" /><path clip-path=\"url(#clip870)\" d=\"M852.773 960.099 L882.449 960.099 L882.449 964.034 L852.773 964.034 L852.773 960.099 Z\" fill=\"#000000\" fill-rule=\"evenodd\" fill-opacity=\"1\" /><path clip-path=\"url(#clip870)\" d=\"M896.569 972.993 L912.888 972.993 L912.888 976.928 L890.944 976.928 L890.944 972.993 Q893.606 970.238 898.189 965.608 Q902.796 960.956 903.976 959.613 Q906.222 957.09 907.101 955.354 Q908.004 953.595 908.004 951.905 Q908.004 949.15 906.06 947.414 Q904.138 945.678 901.037 945.678 Q898.837 945.678 896.384 946.442 Q893.953 947.206 891.175 948.757 L891.175 944.035 Q894 942.9 896.453 942.322 Q898.907 941.743 900.944 941.743 Q906.314 941.743 909.509 944.428 Q912.703 947.113 912.703 951.604 Q912.703 953.734 911.893 955.655 Q911.106 957.553 908.999 960.146 Q908.421 960.817 905.319 964.034 Q902.217 967.229 896.569 972.993 Z\" fill=\"#000000\" fill-rule=\"evenodd\" fill-opacity=\"1\" /><path clip-path=\"url(#clip870)\" d=\"M1204.82 960.099 L1234.5 960.099 L1234.5 964.034 L1204.82 964.034 L1204.82 960.099 Z\" fill=\"#000000\" fill-rule=\"evenodd\" fill-opacity=\"1\" /><path clip-path=\"url(#clip870)\" d=\"M1245.4 972.993 L1253.04 972.993 L1253.04 946.627 L1244.73 948.294 L1244.73 944.035 L1252.99 942.368 L1257.67 942.368 L1257.67 972.993 L1265.31 972.993 L1265.31 976.928 L1245.4 976.928 L1245.4 972.993 Z\" fill=\"#000000\" fill-rule=\"evenodd\" fill-opacity=\"1\" /><path clip-path=\"url(#clip870)\" d=\"M1587.3 945.447 Q1583.69 945.447 1581.86 949.011 Q1580.05 952.553 1580.05 959.683 Q1580.05 966.789 1581.86 970.354 Q1583.69 973.895 1587.3 973.895 Q1590.93 973.895 1592.74 970.354 Q1594.57 966.789 1594.57 959.683 Q1594.57 952.553 1592.74 949.011 Q1590.93 945.447 1587.3 945.447 M1587.3 941.743 Q1593.11 941.743 1596.16 946.349 Q1599.24 950.933 1599.24 959.683 Q1599.24 968.409 1596.16 973.016 Q1593.11 977.599 1587.3 977.599 Q1581.49 977.599 1578.41 973.016 Q1575.35 968.409 1575.35 959.683 Q1575.35 950.933 1578.41 946.349 Q1581.49 941.743 1587.3 941.743 Z\" fill=\"#000000\" fill-rule=\"evenodd\" fill-opacity=\"1\" /><path clip-path=\"url(#clip870)\" d=\"M1929.91 972.993 L1937.55 972.993 L1937.55 946.627 L1929.24 948.294 L1929.24 944.035 L1937.51 942.368 L1942.18 942.368 L1942.18 972.993 L1949.82 972.993 L1949.82 976.928 L1929.91 976.928 L1929.91 972.993 Z\" fill=\"#000000\" fill-rule=\"evenodd\" fill-opacity=\"1\" /><path clip-path=\"url(#clip870)\" d=\"M2286.42 972.993 L2302.74 972.993 L2302.74 976.928 L2280.79 976.928 L2280.79 972.993 Q2283.46 970.238 2288.04 965.608 Q2292.65 960.956 2293.83 959.613 Q2296.07 957.09 2296.95 955.354 Q2297.86 953.595 2297.86 951.905 Q2297.86 949.15 2295.91 947.414 Q2293.99 945.678 2290.89 945.678 Q2288.69 945.678 2286.23 946.442 Q2283.8 947.206 2281.03 948.757 L2281.03 944.035 Q2283.85 942.9 2286.3 942.322 Q2288.76 941.743 2290.79 941.743 Q2296.17 941.743 2299.36 944.428 Q2302.55 947.113 2302.55 951.604 Q2302.55 953.734 2301.74 955.655 Q2300.96 957.553 2298.85 960.146 Q2298.27 960.817 2295.17 964.034 Q2292.07 967.229 2286.42 972.993 Z\" fill=\"#000000\" fill-rule=\"evenodd\" fill-opacity=\"1\" /><path clip-path=\"url(#clip870)\" d=\"M2648.25 958.294 Q2651.61 959.011 2653.48 961.28 Q2655.38 963.548 2655.38 966.882 Q2655.38 971.997 2651.86 974.798 Q2648.34 977.599 2641.86 977.599 Q2639.68 977.599 2637.37 977.159 Q2635.08 976.743 2632.62 975.886 L2632.62 971.372 Q2634.57 972.507 2636.88 973.085 Q2639.2 973.664 2641.72 973.664 Q2646.12 973.664 2648.41 971.928 Q2650.73 970.192 2650.73 966.882 Q2650.73 963.826 2648.57 962.113 Q2646.44 960.377 2642.62 960.377 L2638.6 960.377 L2638.6 956.534 L2642.81 956.534 Q2646.26 956.534 2648.09 955.169 Q2649.92 953.78 2649.92 951.187 Q2649.92 948.525 2648.02 947.113 Q2646.14 945.678 2642.62 945.678 Q2640.7 945.678 2638.5 946.095 Q2636.3 946.511 2633.67 947.391 L2633.67 943.224 Q2636.33 942.484 2638.64 942.113 Q2640.98 941.743 2643.04 941.743 Q2648.36 941.743 2651.47 944.173 Q2654.57 946.581 2654.57 950.701 Q2654.57 953.572 2652.92 955.562 Q2651.28 957.53 2648.25 958.294 Z\" fill=\"#000000\" fill-rule=\"evenodd\" fill-opacity=\"1\" /><polyline clip-path=\"url(#clip872)\" style=\"stroke:#000000; stroke-linecap:butt; stroke-linejoin:round; stroke-width:2; stroke-opacity:0.1; fill:none\" points=\"\n",
       "  199.936,867.115 2952.76,867.115 \n",
       "  \"/>\n",
       "<polyline clip-path=\"url(#clip872)\" style=\"stroke:#000000; stroke-linecap:butt; stroke-linejoin:round; stroke-width:2; stroke-opacity:0.1; fill:none\" points=\"\n",
       "  199.936,690.998 2952.76,690.998 \n",
       "  \"/>\n",
       "<polyline clip-path=\"url(#clip872)\" style=\"stroke:#000000; stroke-linecap:butt; stroke-linejoin:round; stroke-width:2; stroke-opacity:0.1; fill:none\" points=\"\n",
       "  199.936,514.881 2952.76,514.881 \n",
       "  \"/>\n",
       "<polyline clip-path=\"url(#clip872)\" style=\"stroke:#000000; stroke-linecap:butt; stroke-linejoin:round; stroke-width:2; stroke-opacity:0.1; fill:none\" points=\"\n",
       "  199.936,338.764 2952.76,338.764 \n",
       "  \"/>\n",
       "<polyline clip-path=\"url(#clip872)\" style=\"stroke:#000000; stroke-linecap:butt; stroke-linejoin:round; stroke-width:2; stroke-opacity:0.1; fill:none\" points=\"\n",
       "  199.936,162.647 2952.76,162.647 \n",
       "  \"/>\n",
       "<polyline clip-path=\"url(#clip870)\" style=\"stroke:#000000; stroke-linecap:butt; stroke-linejoin:round; stroke-width:4; stroke-opacity:1; fill:none\" points=\"\n",
       "  199.936,909.728 199.936,47.2441 \n",
       "  \"/>\n",
       "<polyline clip-path=\"url(#clip870)\" style=\"stroke:#000000; stroke-linecap:butt; stroke-linejoin:round; stroke-width:4; stroke-opacity:1; fill:none\" points=\"\n",
       "  199.936,867.115 218.834,867.115 \n",
       "  \"/>\n",
       "<polyline clip-path=\"url(#clip870)\" style=\"stroke:#000000; stroke-linecap:butt; stroke-linejoin:round; stroke-width:4; stroke-opacity:1; fill:none\" points=\"\n",
       "  199.936,690.998 218.834,690.998 \n",
       "  \"/>\n",
       "<polyline clip-path=\"url(#clip870)\" style=\"stroke:#000000; stroke-linecap:butt; stroke-linejoin:round; stroke-width:4; stroke-opacity:1; fill:none\" points=\"\n",
       "  199.936,514.881 218.834,514.881 \n",
       "  \"/>\n",
       "<polyline clip-path=\"url(#clip870)\" style=\"stroke:#000000; stroke-linecap:butt; stroke-linejoin:round; stroke-width:4; stroke-opacity:1; fill:none\" points=\"\n",
       "  199.936,338.764 218.834,338.764 \n",
       "  \"/>\n",
       "<polyline clip-path=\"url(#clip870)\" style=\"stroke:#000000; stroke-linecap:butt; stroke-linejoin:round; stroke-width:4; stroke-opacity:1; fill:none\" points=\"\n",
       "  199.936,162.647 218.834,162.647 \n",
       "  \"/>\n",
       "<path clip-path=\"url(#clip870)\" d=\"M47.9921 867.566 L77.6679 867.566 L77.6679 871.502 L47.9921 871.502 L47.9921 867.566 Z\" fill=\"#000000\" fill-rule=\"evenodd\" fill-opacity=\"1\" /><path clip-path=\"url(#clip870)\" d=\"M88.5706 880.46 L96.2095 880.46 L96.2095 854.094 L87.8993 855.761 L87.8993 851.502 L96.1632 849.835 L100.839 849.835 L100.839 880.46 L108.478 880.46 L108.478 884.395 L88.5706 884.395 L88.5706 880.46 Z\" fill=\"#000000\" fill-rule=\"evenodd\" fill-opacity=\"1\" /><path clip-path=\"url(#clip870)\" d=\"M117.922 878.515 L122.807 878.515 L122.807 884.395 L117.922 884.395 L117.922 878.515 Z\" fill=\"#000000\" fill-rule=\"evenodd\" fill-opacity=\"1\" /><path clip-path=\"url(#clip870)\" d=\"M142.992 852.914 Q139.381 852.914 137.552 856.479 Q135.746 860.02 135.746 867.15 Q135.746 874.256 137.552 877.821 Q139.381 881.363 142.992 881.363 Q146.626 881.363 148.431 877.821 Q150.26 874.256 150.26 867.15 Q150.26 860.02 148.431 856.479 Q146.626 852.914 142.992 852.914 M142.992 849.21 Q148.802 849.21 151.857 853.816 Q154.936 858.4 154.936 867.15 Q154.936 875.877 151.857 880.483 Q148.802 885.066 142.992 885.066 Q137.181 885.066 134.103 880.483 Q131.047 875.877 131.047 867.15 Q131.047 858.4 134.103 853.816 Q137.181 849.21 142.992 849.21 Z\" fill=\"#000000\" fill-rule=\"evenodd\" fill-opacity=\"1\" /><path clip-path=\"url(#clip870)\" d=\"M48.9875 691.449 L78.6633 691.449 L78.6633 695.385 L48.9875 695.385 L48.9875 691.449 Z\" fill=\"#000000\" fill-rule=\"evenodd\" fill-opacity=\"1\" /><path clip-path=\"url(#clip870)\" d=\"M98.7557 676.797 Q95.1447 676.797 93.316 680.361 Q91.5104 683.903 91.5104 691.033 Q91.5104 698.139 93.316 701.704 Q95.1447 705.246 98.7557 705.246 Q102.39 705.246 104.196 701.704 Q106.024 698.139 106.024 691.033 Q106.024 683.903 104.196 680.361 Q102.39 676.797 98.7557 676.797 M98.7557 673.093 Q104.566 673.093 107.621 677.699 Q110.7 682.283 110.7 691.033 Q110.7 699.759 107.621 704.366 Q104.566 708.949 98.7557 708.949 Q92.9456 708.949 89.8669 704.366 Q86.8114 699.759 86.8114 691.033 Q86.8114 682.283 89.8669 677.699 Q92.9456 673.093 98.7557 673.093 Z\" fill=\"#000000\" fill-rule=\"evenodd\" fill-opacity=\"1\" /><path clip-path=\"url(#clip870)\" d=\"M118.918 702.398 L123.802 702.398 L123.802 708.278 L118.918 708.278 L118.918 702.398 Z\" fill=\"#000000\" fill-rule=\"evenodd\" fill-opacity=\"1\" /><path clip-path=\"url(#clip870)\" d=\"M134.033 673.718 L152.39 673.718 L152.39 677.653 L138.316 677.653 L138.316 686.125 Q139.334 685.778 140.353 685.616 Q141.371 685.431 142.39 685.431 Q148.177 685.431 151.556 688.602 Q154.936 691.773 154.936 697.19 Q154.936 702.769 151.464 705.871 Q147.992 708.949 141.672 708.949 Q139.496 708.949 137.228 708.579 Q134.982 708.209 132.575 707.468 L132.575 702.769 Q134.658 703.903 136.881 704.459 Q139.103 705.014 141.58 705.014 Q145.584 705.014 147.922 702.908 Q150.26 700.801 150.26 697.19 Q150.26 693.579 147.922 691.473 Q145.584 689.366 141.58 689.366 Q139.705 689.366 137.83 689.783 Q135.978 690.199 134.033 691.079 L134.033 673.718 Z\" fill=\"#000000\" fill-rule=\"evenodd\" fill-opacity=\"1\" /><path clip-path=\"url(#clip870)\" d=\"M97.7604 500.68 Q94.1493 500.68 92.3206 504.244 Q90.515 507.786 90.515 514.916 Q90.515 522.022 92.3206 525.587 Q94.1493 529.129 97.7604 529.129 Q101.395 529.129 103.2 525.587 Q105.029 522.022 105.029 514.916 Q105.029 507.786 103.2 504.244 Q101.395 500.68 97.7604 500.68 M97.7604 496.976 Q103.571 496.976 106.626 501.582 Q109.705 506.166 109.705 514.916 Q109.705 523.642 106.626 528.249 Q103.571 532.832 97.7604 532.832 Q91.9502 532.832 88.8715 528.249 Q85.816 523.642 85.816 514.916 Q85.816 506.166 88.8715 501.582 Q91.9502 496.976 97.7604 496.976 Z\" fill=\"#000000\" fill-rule=\"evenodd\" fill-opacity=\"1\" /><path clip-path=\"url(#clip870)\" d=\"M117.922 526.281 L122.807 526.281 L122.807 532.161 L117.922 532.161 L117.922 526.281 Z\" fill=\"#000000\" fill-rule=\"evenodd\" fill-opacity=\"1\" /><path clip-path=\"url(#clip870)\" d=\"M142.992 500.68 Q139.381 500.68 137.552 504.244 Q135.746 507.786 135.746 514.916 Q135.746 522.022 137.552 525.587 Q139.381 529.129 142.992 529.129 Q146.626 529.129 148.431 525.587 Q150.26 522.022 150.26 514.916 Q150.26 507.786 148.431 504.244 Q146.626 500.68 142.992 500.68 M142.992 496.976 Q148.802 496.976 151.857 501.582 Q154.936 506.166 154.936 514.916 Q154.936 523.642 151.857 528.249 Q148.802 532.832 142.992 532.832 Q137.181 532.832 134.103 528.249 Q131.047 523.642 131.047 514.916 Q131.047 506.166 134.103 501.582 Q137.181 496.976 142.992 496.976 Z\" fill=\"#000000\" fill-rule=\"evenodd\" fill-opacity=\"1\" /><path clip-path=\"url(#clip870)\" d=\"M98.7557 324.563 Q95.1447 324.563 93.316 328.127 Q91.5104 331.669 91.5104 338.799 Q91.5104 345.905 93.316 349.47 Q95.1447 353.011 98.7557 353.011 Q102.39 353.011 104.196 349.47 Q106.024 345.905 106.024 338.799 Q106.024 331.669 104.196 328.127 Q102.39 324.563 98.7557 324.563 M98.7557 320.859 Q104.566 320.859 107.621 325.465 Q110.7 330.049 110.7 338.799 Q110.7 347.525 107.621 352.132 Q104.566 356.715 98.7557 356.715 Q92.9456 356.715 89.8669 352.132 Q86.8114 347.525 86.8114 338.799 Q86.8114 330.049 89.8669 325.465 Q92.9456 320.859 98.7557 320.859 Z\" fill=\"#000000\" fill-rule=\"evenodd\" fill-opacity=\"1\" /><path clip-path=\"url(#clip870)\" d=\"M118.918 350.164 L123.802 350.164 L123.802 356.044 L118.918 356.044 L118.918 350.164 Z\" fill=\"#000000\" fill-rule=\"evenodd\" fill-opacity=\"1\" /><path clip-path=\"url(#clip870)\" d=\"M134.033 321.484 L152.39 321.484 L152.39 325.419 L138.316 325.419 L138.316 333.891 Q139.334 333.544 140.353 333.382 Q141.371 333.197 142.39 333.197 Q148.177 333.197 151.556 336.368 Q154.936 339.539 154.936 344.956 Q154.936 350.535 151.464 353.636 Q147.992 356.715 141.672 356.715 Q139.496 356.715 137.228 356.345 Q134.982 355.974 132.575 355.234 L132.575 350.535 Q134.658 351.669 136.881 352.224 Q139.103 352.78 141.58 352.78 Q145.584 352.78 147.922 350.674 Q150.26 348.567 150.26 344.956 Q150.26 341.345 147.922 339.238 Q145.584 337.132 141.58 337.132 Q139.705 337.132 137.83 337.549 Q135.978 337.965 134.033 338.845 L134.033 321.484 Z\" fill=\"#000000\" fill-rule=\"evenodd\" fill-opacity=\"1\" /><path clip-path=\"url(#clip870)\" d=\"M88.5706 175.992 L96.2095 175.992 L96.2095 149.626 L87.8993 151.293 L87.8993 147.033 L96.1632 145.367 L100.839 145.367 L100.839 175.992 L108.478 175.992 L108.478 179.927 L88.5706 179.927 L88.5706 175.992 Z\" fill=\"#000000\" fill-rule=\"evenodd\" fill-opacity=\"1\" /><path clip-path=\"url(#clip870)\" d=\"M117.922 174.047 L122.807 174.047 L122.807 179.927 L117.922 179.927 L117.922 174.047 Z\" fill=\"#000000\" fill-rule=\"evenodd\" fill-opacity=\"1\" /><path clip-path=\"url(#clip870)\" d=\"M142.992 148.445 Q139.381 148.445 137.552 152.01 Q135.746 155.552 135.746 162.682 Q135.746 169.788 137.552 173.353 Q139.381 176.894 142.992 176.894 Q146.626 176.894 148.431 173.353 Q150.26 169.788 150.26 162.682 Q150.26 155.552 148.431 152.01 Q146.626 148.445 142.992 148.445 M142.992 144.742 Q148.802 144.742 151.857 149.348 Q154.936 153.932 154.936 162.682 Q154.936 171.408 151.857 176.015 Q148.802 180.598 142.992 180.598 Q137.181 180.598 134.103 176.015 Q131.047 171.408 131.047 162.682 Q131.047 153.932 134.103 149.348 Q137.181 144.742 142.992 144.742 Z\" fill=\"#000000\" fill-rule=\"evenodd\" fill-opacity=\"1\" /><circle clip-path=\"url(#clip872)\" cx=\"1780.63\" cy=\"841\" r=\"14\" fill=\"#4682b4\" fill-rule=\"evenodd\" fill-opacity=\"1\" stroke=\"#000000\" stroke-opacity=\"1\" stroke-width=\"2\"/>\n",
       "<circle clip-path=\"url(#clip872)\" cx=\"1828.37\" cy=\"198.807\" r=\"14\" fill=\"#4682b4\" fill-rule=\"evenodd\" fill-opacity=\"1\" stroke=\"#000000\" stroke-opacity=\"1\" stroke-width=\"2\"/>\n",
       "<circle clip-path=\"url(#clip872)\" cx=\"1430.14\" cy=\"771.063\" r=\"14\" fill=\"#4682b4\" fill-rule=\"evenodd\" fill-opacity=\"1\" stroke=\"#000000\" stroke-opacity=\"1\" stroke-width=\"2\"/>\n",
       "<circle clip-path=\"url(#clip872)\" cx=\"1809.39\" cy=\"775.865\" r=\"14\" fill=\"#4682b4\" fill-rule=\"evenodd\" fill-opacity=\"1\" stroke=\"#000000\" stroke-opacity=\"1\" stroke-width=\"2\"/>\n",
       "<circle clip-path=\"url(#clip872)\" cx=\"1878.2\" cy=\"676.051\" r=\"14\" fill=\"#4682b4\" fill-rule=\"evenodd\" fill-opacity=\"1\" stroke=\"#000000\" stroke-opacity=\"1\" stroke-width=\"2\"/>\n",
       "<circle clip-path=\"url(#clip872)\" cx=\"1898.25\" cy=\"734.878\" r=\"14\" fill=\"#4682b4\" fill-rule=\"evenodd\" fill-opacity=\"1\" stroke=\"#000000\" stroke-opacity=\"1\" stroke-width=\"2\"/>\n",
       "<circle clip-path=\"url(#clip872)\" cx=\"1222.98\" cy=\"678.86\" r=\"14\" fill=\"#4682b4\" fill-rule=\"evenodd\" fill-opacity=\"1\" stroke=\"#000000\" stroke-opacity=\"1\" stroke-width=\"2\"/>\n",
       "<circle clip-path=\"url(#clip872)\" cx=\"1219.11\" cy=\"606.345\" r=\"14\" fill=\"#4682b4\" fill-rule=\"evenodd\" fill-opacity=\"1\" stroke=\"#000000\" stroke-opacity=\"1\" stroke-width=\"2\"/>\n",
       "<circle clip-path=\"url(#clip872)\" cx=\"1989.44\" cy=\"420.782\" r=\"14\" fill=\"#4682b4\" fill-rule=\"evenodd\" fill-opacity=\"1\" stroke=\"#000000\" stroke-opacity=\"1\" stroke-width=\"2\"/>\n",
       "<circle clip-path=\"url(#clip872)\" cx=\"1895.91\" cy=\"321.903\" r=\"14\" fill=\"#4682b4\" fill-rule=\"evenodd\" fill-opacity=\"1\" stroke=\"#000000\" stroke-opacity=\"1\" stroke-width=\"2\"/>\n",
       "<circle clip-path=\"url(#clip872)\" cx=\"1395.5\" cy=\"247.566\" r=\"14\" fill=\"#4682b4\" fill-rule=\"evenodd\" fill-opacity=\"1\" stroke=\"#000000\" stroke-opacity=\"1\" stroke-width=\"2\"/>\n",
       "<circle clip-path=\"url(#clip872)\" cx=\"1523.61\" cy=\"851.452\" r=\"14\" fill=\"#4682b4\" fill-rule=\"evenodd\" fill-opacity=\"1\" stroke=\"#000000\" stroke-opacity=\"1\" stroke-width=\"2\"/>\n",
       "<circle clip-path=\"url(#clip872)\" cx=\"1353.52\" cy=\"734.006\" r=\"14\" fill=\"#4682b4\" fill-rule=\"evenodd\" fill-opacity=\"1\" stroke=\"#000000\" stroke-opacity=\"1\" stroke-width=\"2\"/>\n",
       "<circle clip-path=\"url(#clip872)\" cx=\"1419.78\" cy=\"826.376\" r=\"14\" fill=\"#4682b4\" fill-rule=\"evenodd\" fill-opacity=\"1\" stroke=\"#000000\" stroke-opacity=\"1\" stroke-width=\"2\"/>\n",
       "<circle clip-path=\"url(#clip872)\" cx=\"1881.24\" cy=\"305.559\" r=\"14\" fill=\"#4682b4\" fill-rule=\"evenodd\" fill-opacity=\"1\" stroke=\"#000000\" stroke-opacity=\"1\" stroke-width=\"2\"/>\n",
       "<circle clip-path=\"url(#clip872)\" cx=\"1853.92\" cy=\"296.136\" r=\"14\" fill=\"#4682b4\" fill-rule=\"evenodd\" fill-opacity=\"1\" stroke=\"#000000\" stroke-opacity=\"1\" stroke-width=\"2\"/>\n",
       "<circle clip-path=\"url(#clip872)\" cx=\"1899.84\" cy=\"333.722\" r=\"14\" fill=\"#4682b4\" fill-rule=\"evenodd\" fill-opacity=\"1\" stroke=\"#000000\" stroke-opacity=\"1\" stroke-width=\"2\"/>\n",
       "<circle clip-path=\"url(#clip872)\" cx=\"1719.01\" cy=\"766.246\" r=\"14\" fill=\"#4682b4\" fill-rule=\"evenodd\" fill-opacity=\"1\" stroke=\"#000000\" stroke-opacity=\"1\" stroke-width=\"2\"/>\n",
       "<circle clip-path=\"url(#clip872)\" cx=\"1649.72\" cy=\"102.01\" r=\"14\" fill=\"#4682b4\" fill-rule=\"evenodd\" fill-opacity=\"1\" stroke=\"#000000\" stroke-opacity=\"1\" stroke-width=\"2\"/>\n",
       "<circle clip-path=\"url(#clip872)\" cx=\"1729.79\" cy=\"771.395\" r=\"14\" fill=\"#4682b4\" fill-rule=\"evenodd\" fill-opacity=\"1\" stroke=\"#000000\" stroke-opacity=\"1\" stroke-width=\"2\"/>\n",
       "<circle clip-path=\"url(#clip872)\" cx=\"1799.9\" cy=\"751.048\" r=\"14\" fill=\"#4682b4\" fill-rule=\"evenodd\" fill-opacity=\"1\" stroke=\"#000000\" stroke-opacity=\"1\" stroke-width=\"2\"/>\n",
       "<circle clip-path=\"url(#clip872)\" cx=\"1677.77\" cy=\"871.925\" r=\"14\" fill=\"#4682b4\" fill-rule=\"evenodd\" fill-opacity=\"1\" stroke=\"#000000\" stroke-opacity=\"1\" stroke-width=\"2\"/>\n",
       "<circle clip-path=\"url(#clip872)\" cx=\"1956.84\" cy=\"596.515\" r=\"14\" fill=\"#4682b4\" fill-rule=\"evenodd\" fill-opacity=\"1\" stroke=\"#000000\" stroke-opacity=\"1\" stroke-width=\"2\"/>\n",
       "<circle clip-path=\"url(#clip872)\" cx=\"1545.47\" cy=\"877.328\" r=\"14\" fill=\"#4682b4\" fill-rule=\"evenodd\" fill-opacity=\"1\" stroke=\"#000000\" stroke-opacity=\"1\" stroke-width=\"2\"/>\n",
       "<circle clip-path=\"url(#clip872)\" cx=\"1846.89\" cy=\"282.704\" r=\"14\" fill=\"#4682b4\" fill-rule=\"evenodd\" fill-opacity=\"1\" stroke=\"#000000\" stroke-opacity=\"1\" stroke-width=\"2\"/>\n",
       "<circle clip-path=\"url(#clip872)\" cx=\"1338\" cy=\"734.938\" r=\"14\" fill=\"#4682b4\" fill-rule=\"evenodd\" fill-opacity=\"1\" stroke=\"#000000\" stroke-opacity=\"1\" stroke-width=\"2\"/>\n",
       "<circle clip-path=\"url(#clip872)\" cx=\"1223.89\" cy=\"427.311\" r=\"14\" fill=\"#4682b4\" fill-rule=\"evenodd\" fill-opacity=\"1\" stroke=\"#000000\" stroke-opacity=\"1\" stroke-width=\"2\"/>\n",
       "<circle clip-path=\"url(#clip872)\" cx=\"1585.5\" cy=\"71.654\" r=\"14\" fill=\"#4682b4\" fill-rule=\"evenodd\" fill-opacity=\"1\" stroke=\"#000000\" stroke-opacity=\"1\" stroke-width=\"2\"/>\n",
       "<circle clip-path=\"url(#clip872)\" cx=\"1354.9\" cy=\"259.92\" r=\"14\" fill=\"#4682b4\" fill-rule=\"evenodd\" fill-opacity=\"1\" stroke=\"#000000\" stroke-opacity=\"1\" stroke-width=\"2\"/>\n",
       "<circle clip-path=\"url(#clip872)\" cx=\"1863.61\" cy=\"343.129\" r=\"14\" fill=\"#4682b4\" fill-rule=\"evenodd\" fill-opacity=\"1\" stroke=\"#000000\" stroke-opacity=\"1\" stroke-width=\"2\"/>\n",
       "<circle clip-path=\"url(#clip872)\" cx=\"1246.03\" cy=\"677.864\" r=\"14\" fill=\"#4682b4\" fill-rule=\"evenodd\" fill-opacity=\"1\" stroke=\"#000000\" stroke-opacity=\"1\" stroke-width=\"2\"/>\n",
       "<circle clip-path=\"url(#clip872)\" cx=\"1661.06\" cy=\"198.628\" r=\"14\" fill=\"#4682b4\" fill-rule=\"evenodd\" fill-opacity=\"1\" stroke=\"#000000\" stroke-opacity=\"1\" stroke-width=\"2\"/>\n",
       "<circle clip-path=\"url(#clip872)\" cx=\"1401.26\" cy=\"868.193\" r=\"14\" fill=\"#4682b4\" fill-rule=\"evenodd\" fill-opacity=\"1\" stroke=\"#000000\" stroke-opacity=\"1\" stroke-width=\"2\"/>\n",
       "<circle clip-path=\"url(#clip872)\" cx=\"1765.52\" cy=\"165.101\" r=\"14\" fill=\"#4682b4\" fill-rule=\"evenodd\" fill-opacity=\"1\" stroke=\"#000000\" stroke-opacity=\"1\" stroke-width=\"2\"/>\n",
       "<circle clip-path=\"url(#clip872)\" cx=\"1408.29\" cy=\"833.624\" r=\"14\" fill=\"#4682b4\" fill-rule=\"evenodd\" fill-opacity=\"1\" stroke=\"#000000\" stroke-opacity=\"1\" stroke-width=\"2\"/>\n",
       "<circle clip-path=\"url(#clip872)\" cx=\"1914.59\" cy=\"591.06\" r=\"14\" fill=\"#4682b4\" fill-rule=\"evenodd\" fill-opacity=\"1\" stroke=\"#000000\" stroke-opacity=\"1\" stroke-width=\"2\"/>\n",
       "<circle clip-path=\"url(#clip872)\" cx=\"1447.93\" cy=\"152.981\" r=\"14\" fill=\"#4682b4\" fill-rule=\"evenodd\" fill-opacity=\"1\" stroke=\"#000000\" stroke-opacity=\"1\" stroke-width=\"2\"/>\n",
       "<circle clip-path=\"url(#clip872)\" cx=\"1751.21\" cy=\"813.611\" r=\"14\" fill=\"#4682b4\" fill-rule=\"evenodd\" fill-opacity=\"1\" stroke=\"#000000\" stroke-opacity=\"1\" stroke-width=\"2\"/>\n",
       "<circle clip-path=\"url(#clip872)\" cx=\"1163.25\" cy=\"533.04\" r=\"14\" fill=\"#4682b4\" fill-rule=\"evenodd\" fill-opacity=\"1\" stroke=\"#000000\" stroke-opacity=\"1\" stroke-width=\"2\"/>\n",
       "<circle clip-path=\"url(#clip872)\" cx=\"1354.99\" cy=\"172.233\" r=\"14\" fill=\"#4682b4\" fill-rule=\"evenodd\" fill-opacity=\"1\" stroke=\"#000000\" stroke-opacity=\"1\" stroke-width=\"2\"/>\n",
       "<circle clip-path=\"url(#clip872)\" cx=\"1263.29\" cy=\"332.759\" r=\"14\" fill=\"#4682b4\" fill-rule=\"evenodd\" fill-opacity=\"1\" stroke=\"#000000\" stroke-opacity=\"1\" stroke-width=\"2\"/>\n",
       "<circle clip-path=\"url(#clip872)\" cx=\"1207.45\" cy=\"524.955\" r=\"14\" fill=\"#4682b4\" fill-rule=\"evenodd\" fill-opacity=\"1\" stroke=\"#000000\" stroke-opacity=\"1\" stroke-width=\"2\"/>\n",
       "<circle clip-path=\"url(#clip872)\" cx=\"1553.13\" cy=\"879.987\" r=\"14\" fill=\"#4682b4\" fill-rule=\"evenodd\" fill-opacity=\"1\" stroke=\"#000000\" stroke-opacity=\"1\" stroke-width=\"2\"/>\n",
       "<circle clip-path=\"url(#clip872)\" cx=\"1308.08\" cy=\"606.787\" r=\"14\" fill=\"#4682b4\" fill-rule=\"evenodd\" fill-opacity=\"1\" stroke=\"#000000\" stroke-opacity=\"1\" stroke-width=\"2\"/>\n",
       "<circle clip-path=\"url(#clip872)\" cx=\"1939.35\" cy=\"627.645\" r=\"14\" fill=\"#4682b4\" fill-rule=\"evenodd\" fill-opacity=\"1\" stroke=\"#000000\" stroke-opacity=\"1\" stroke-width=\"2\"/>\n",
       "<circle clip-path=\"url(#clip872)\" cx=\"1918.42\" cy=\"455.524\" r=\"14\" fill=\"#4682b4\" fill-rule=\"evenodd\" fill-opacity=\"1\" stroke=\"#000000\" stroke-opacity=\"1\" stroke-width=\"2\"/>\n",
       "<circle clip-path=\"url(#clip872)\" cx=\"1677.11\" cy=\"823.79\" r=\"14\" fill=\"#4682b4\" fill-rule=\"evenodd\" fill-opacity=\"1\" stroke=\"#000000\" stroke-opacity=\"1\" stroke-width=\"2\"/>\n",
       "<circle clip-path=\"url(#clip872)\" cx=\"1294.71\" cy=\"664.441\" r=\"14\" fill=\"#4682b4\" fill-rule=\"evenodd\" fill-opacity=\"1\" stroke=\"#000000\" stroke-opacity=\"1\" stroke-width=\"2\"/>\n",
       "<circle clip-path=\"url(#clip872)\" cx=\"1824.75\" cy=\"787.919\" r=\"14\" fill=\"#4682b4\" fill-rule=\"evenodd\" fill-opacity=\"1\" stroke=\"#000000\" stroke-opacity=\"1\" stroke-width=\"2\"/>\n",
       "<circle clip-path=\"url(#clip872)\" cx=\"1892.03\" cy=\"355.094\" r=\"14\" fill=\"#4682b4\" fill-rule=\"evenodd\" fill-opacity=\"1\" stroke=\"#000000\" stroke-opacity=\"1\" stroke-width=\"2\"/>\n",
       "<circle clip-path=\"url(#clip872)\" cx=\"1223.53\" cy=\"621.218\" r=\"14\" fill=\"#4682b4\" fill-rule=\"evenodd\" fill-opacity=\"1\" stroke=\"#000000\" stroke-opacity=\"1\" stroke-width=\"2\"/>\n",
       "<circle clip-path=\"url(#clip872)\" cx=\"1469.4\" cy=\"799.88\" r=\"14\" fill=\"#4682b4\" fill-rule=\"evenodd\" fill-opacity=\"1\" stroke=\"#000000\" stroke-opacity=\"1\" stroke-width=\"2\"/>\n",
       "<circle clip-path=\"url(#clip872)\" cx=\"1217.86\" cy=\"443.294\" r=\"14\" fill=\"#4682b4\" fill-rule=\"evenodd\" fill-opacity=\"1\" stroke=\"#000000\" stroke-opacity=\"1\" stroke-width=\"2\"/>\n",
       "<circle clip-path=\"url(#clip872)\" cx=\"1385.4\" cy=\"272.253\" r=\"14\" fill=\"#4682b4\" fill-rule=\"evenodd\" fill-opacity=\"1\" stroke=\"#000000\" stroke-opacity=\"1\" stroke-width=\"2\"/>\n",
       "<circle clip-path=\"url(#clip872)\" cx=\"1535.99\" cy=\"885.318\" r=\"14\" fill=\"#4682b4\" fill-rule=\"evenodd\" fill-opacity=\"1\" stroke=\"#000000\" stroke-opacity=\"1\" stroke-width=\"2\"/>\n",
       "<circle clip-path=\"url(#clip872)\" cx=\"1709.34\" cy=\"182.863\" r=\"14\" fill=\"#4682b4\" fill-rule=\"evenodd\" fill-opacity=\"1\" stroke=\"#000000\" stroke-opacity=\"1\" stroke-width=\"2\"/>\n",
       "<circle clip-path=\"url(#clip872)\" cx=\"1248.71\" cy=\"451.786\" r=\"14\" fill=\"#4682b4\" fill-rule=\"evenodd\" fill-opacity=\"1\" stroke=\"#000000\" stroke-opacity=\"1\" stroke-width=\"2\"/>\n",
       "<circle clip-path=\"url(#clip872)\" cx=\"1937.84\" cy=\"710.441\" r=\"14\" fill=\"#4682b4\" fill-rule=\"evenodd\" fill-opacity=\"1\" stroke=\"#000000\" stroke-opacity=\"1\" stroke-width=\"2\"/>\n",
       "<circle clip-path=\"url(#clip872)\" cx=\"1943\" cy=\"379.085\" r=\"14\" fill=\"#4682b4\" fill-rule=\"evenodd\" fill-opacity=\"1\" stroke=\"#000000\" stroke-opacity=\"1\" stroke-width=\"2\"/>\n",
       "<circle clip-path=\"url(#clip872)\" cx=\"1810.07\" cy=\"240.147\" r=\"14\" fill=\"#4682b4\" fill-rule=\"evenodd\" fill-opacity=\"1\" stroke=\"#000000\" stroke-opacity=\"1\" stroke-width=\"2\"/>\n",
       "<circle clip-path=\"url(#clip872)\" cx=\"1379.6\" cy=\"244.447\" r=\"14\" fill=\"#4682b4\" fill-rule=\"evenodd\" fill-opacity=\"1\" stroke=\"#000000\" stroke-opacity=\"1\" stroke-width=\"2\"/>\n",
       "<circle clip-path=\"url(#clip872)\" cx=\"1518.12\" cy=\"851.397\" r=\"14\" fill=\"#4682b4\" fill-rule=\"evenodd\" fill-opacity=\"1\" stroke=\"#000000\" stroke-opacity=\"1\" stroke-width=\"2\"/>\n",
       "<circle clip-path=\"url(#clip872)\" cx=\"1780.25\" cy=\"773.316\" r=\"14\" fill=\"#4682b4\" fill-rule=\"evenodd\" fill-opacity=\"1\" stroke=\"#000000\" stroke-opacity=\"1\" stroke-width=\"2\"/>\n",
       "<circle clip-path=\"url(#clip872)\" cx=\"1731.45\" cy=\"833.927\" r=\"14\" fill=\"#4682b4\" fill-rule=\"evenodd\" fill-opacity=\"1\" stroke=\"#000000\" stroke-opacity=\"1\" stroke-width=\"2\"/>\n",
       "<circle clip-path=\"url(#clip872)\" cx=\"1400.56\" cy=\"201.269\" r=\"14\" fill=\"#4682b4\" fill-rule=\"evenodd\" fill-opacity=\"1\" stroke=\"#000000\" stroke-opacity=\"1\" stroke-width=\"2\"/>\n",
       "<circle clip-path=\"url(#clip872)\" cx=\"1670.41\" cy=\"174.538\" r=\"14\" fill=\"#4682b4\" fill-rule=\"evenodd\" fill-opacity=\"1\" stroke=\"#000000\" stroke-opacity=\"1\" stroke-width=\"2\"/>\n",
       "<circle clip-path=\"url(#clip872)\" cx=\"1771.65\" cy=\"742.569\" r=\"14\" fill=\"#4682b4\" fill-rule=\"evenodd\" fill-opacity=\"1\" stroke=\"#000000\" stroke-opacity=\"1\" stroke-width=\"2\"/>\n",
       "<circle clip-path=\"url(#clip872)\" cx=\"1489.2\" cy=\"181.604\" r=\"14\" fill=\"#4682b4\" fill-rule=\"evenodd\" fill-opacity=\"1\" stroke=\"#000000\" stroke-opacity=\"1\" stroke-width=\"2\"/>\n",
       "<circle clip-path=\"url(#clip872)\" cx=\"1289.67\" cy=\"632.623\" r=\"14\" fill=\"#4682b4\" fill-rule=\"evenodd\" fill-opacity=\"1\" stroke=\"#000000\" stroke-opacity=\"1\" stroke-width=\"2\"/>\n",
       "<circle clip-path=\"url(#clip872)\" cx=\"1788.42\" cy=\"263.888\" r=\"14\" fill=\"#4682b4\" fill-rule=\"evenodd\" fill-opacity=\"1\" stroke=\"#000000\" stroke-opacity=\"1\" stroke-width=\"2\"/>\n",
       "<circle clip-path=\"url(#clip872)\" cx=\"1176.85\" cy=\"425.978\" r=\"14\" fill=\"#4682b4\" fill-rule=\"evenodd\" fill-opacity=\"1\" stroke=\"#000000\" stroke-opacity=\"1\" stroke-width=\"2\"/>\n",
       "<circle clip-path=\"url(#clip872)\" cx=\"1684.71\" cy=\"834.449\" r=\"14\" fill=\"#4682b4\" fill-rule=\"evenodd\" fill-opacity=\"1\" stroke=\"#000000\" stroke-opacity=\"1\" stroke-width=\"2\"/>\n",
       "<circle clip-path=\"url(#clip872)\" cx=\"1339.33\" cy=\"302.538\" r=\"14\" fill=\"#4682b4\" fill-rule=\"evenodd\" fill-opacity=\"1\" stroke=\"#000000\" stroke-opacity=\"1\" stroke-width=\"2\"/>\n",
       "<circle clip-path=\"url(#clip872)\" cx=\"1941.28\" cy=\"645.487\" r=\"14\" fill=\"#4682b4\" fill-rule=\"evenodd\" fill-opacity=\"1\" stroke=\"#000000\" stroke-opacity=\"1\" stroke-width=\"2\"/>\n",
       "<circle clip-path=\"url(#clip872)\" cx=\"1935.83\" cy=\"561.391\" r=\"14\" fill=\"#4682b4\" fill-rule=\"evenodd\" fill-opacity=\"1\" stroke=\"#000000\" stroke-opacity=\"1\" stroke-width=\"2\"/>\n",
       "<circle clip-path=\"url(#clip872)\" cx=\"1224.16\" cy=\"351.205\" r=\"14\" fill=\"#4682b4\" fill-rule=\"evenodd\" fill-opacity=\"1\" stroke=\"#000000\" stroke-opacity=\"1\" stroke-width=\"2\"/>\n",
       "<circle clip-path=\"url(#clip872)\" cx=\"1673.01\" cy=\"830.694\" r=\"14\" fill=\"#4682b4\" fill-rule=\"evenodd\" fill-opacity=\"1\" stroke=\"#000000\" stroke-opacity=\"1\" stroke-width=\"2\"/>\n",
       "<circle clip-path=\"url(#clip872)\" cx=\"1494.78\" cy=\"861.439\" r=\"14\" fill=\"#4682b4\" fill-rule=\"evenodd\" fill-opacity=\"1\" stroke=\"#000000\" stroke-opacity=\"1\" stroke-width=\"2\"/>\n",
       "<circle clip-path=\"url(#clip872)\" cx=\"1826.13\" cy=\"803.2\" r=\"14\" fill=\"#4682b4\" fill-rule=\"evenodd\" fill-opacity=\"1\" stroke=\"#000000\" stroke-opacity=\"1\" stroke-width=\"2\"/>\n",
       "<circle clip-path=\"url(#clip872)\" cx=\"1336.84\" cy=\"155.71\" r=\"14\" fill=\"#4682b4\" fill-rule=\"evenodd\" fill-opacity=\"1\" stroke=\"#000000\" stroke-opacity=\"1\" stroke-width=\"2\"/>\n",
       "<circle clip-path=\"url(#clip872)\" cx=\"1433.05\" cy=\"106.721\" r=\"14\" fill=\"#4682b4\" fill-rule=\"evenodd\" fill-opacity=\"1\" stroke=\"#000000\" stroke-opacity=\"1\" stroke-width=\"2\"/>\n",
       "<circle clip-path=\"url(#clip872)\" cx=\"1793.64\" cy=\"270.571\" r=\"14\" fill=\"#4682b4\" fill-rule=\"evenodd\" fill-opacity=\"1\" stroke=\"#000000\" stroke-opacity=\"1\" stroke-width=\"2\"/>\n",
       "<circle clip-path=\"url(#clip872)\" cx=\"1422.75\" cy=\"220.622\" r=\"14\" fill=\"#4682b4\" fill-rule=\"evenodd\" fill-opacity=\"1\" stroke=\"#000000\" stroke-opacity=\"1\" stroke-width=\"2\"/>\n",
       "<circle clip-path=\"url(#clip872)\" cx=\"1521.66\" cy=\"126.691\" r=\"14\" fill=\"#4682b4\" fill-rule=\"evenodd\" fill-opacity=\"1\" stroke=\"#000000\" stroke-opacity=\"1\" stroke-width=\"2\"/>\n",
       "<circle clip-path=\"url(#clip872)\" cx=\"1958.54\" cy=\"529.444\" r=\"14\" fill=\"#4682b4\" fill-rule=\"evenodd\" fill-opacity=\"1\" stroke=\"#000000\" stroke-opacity=\"1\" stroke-width=\"2\"/>\n",
       "<circle clip-path=\"url(#clip872)\" cx=\"1920.56\" cy=\"601.247\" r=\"14\" fill=\"#4682b4\" fill-rule=\"evenodd\" fill-opacity=\"1\" stroke=\"#000000\" stroke-opacity=\"1\" stroke-width=\"2\"/>\n",
       "<circle clip-path=\"url(#clip872)\" cx=\"1684.82\" cy=\"829.333\" r=\"14\" fill=\"#4682b4\" fill-rule=\"evenodd\" fill-opacity=\"1\" stroke=\"#000000\" stroke-opacity=\"1\" stroke-width=\"2\"/>\n",
       "<circle clip-path=\"url(#clip872)\" cx=\"1577.92\" cy=\"216.037\" r=\"14\" fill=\"#4682b4\" fill-rule=\"evenodd\" fill-opacity=\"1\" stroke=\"#000000\" stroke-opacity=\"1\" stroke-width=\"2\"/>\n",
       "<circle clip-path=\"url(#clip872)\" cx=\"1771.71\" cy=\"271.711\" r=\"14\" fill=\"#4682b4\" fill-rule=\"evenodd\" fill-opacity=\"1\" stroke=\"#000000\" stroke-opacity=\"1\" stroke-width=\"2\"/>\n",
       "<circle clip-path=\"url(#clip872)\" cx=\"1888.58\" cy=\"563.753\" r=\"14\" fill=\"#4682b4\" fill-rule=\"evenodd\" fill-opacity=\"1\" stroke=\"#000000\" stroke-opacity=\"1\" stroke-width=\"2\"/>\n",
       "<circle clip-path=\"url(#clip872)\" cx=\"1516.48\" cy=\"110.757\" r=\"14\" fill=\"#4682b4\" fill-rule=\"evenodd\" fill-opacity=\"1\" stroke=\"#000000\" stroke-opacity=\"1\" stroke-width=\"2\"/>\n",
       "<circle clip-path=\"url(#clip872)\" cx=\"1266.08\" cy=\"514.705\" r=\"14\" fill=\"#4682b4\" fill-rule=\"evenodd\" fill-opacity=\"1\" stroke=\"#000000\" stroke-opacity=\"1\" stroke-width=\"2\"/>\n",
       "<circle clip-path=\"url(#clip872)\" cx=\"1253.4\" cy=\"393.642\" r=\"14\" fill=\"#4682b4\" fill-rule=\"evenodd\" fill-opacity=\"1\" stroke=\"#000000\" stroke-opacity=\"1\" stroke-width=\"2\"/>\n",
       "<circle clip-path=\"url(#clip872)\" cx=\"1231.97\" cy=\"680.776\" r=\"14\" fill=\"#4682b4\" fill-rule=\"evenodd\" fill-opacity=\"1\" stroke=\"#000000\" stroke-opacity=\"1\" stroke-width=\"2\"/>\n",
       "<circle clip-path=\"url(#clip872)\" cx=\"1966.95\" cy=\"605.638\" r=\"14\" fill=\"#4682b4\" fill-rule=\"evenodd\" fill-opacity=\"1\" stroke=\"#000000\" stroke-opacity=\"1\" stroke-width=\"2\"/>\n",
       "<circle clip-path=\"url(#clip872)\" cx=\"1470.48\" cy=\"795.008\" r=\"14\" fill=\"#4682b4\" fill-rule=\"evenodd\" fill-opacity=\"1\" stroke=\"#000000\" stroke-opacity=\"1\" stroke-width=\"2\"/>\n",
       "<circle clip-path=\"url(#clip872)\" cx=\"1355.12\" cy=\"275.937\" r=\"14\" fill=\"#4682b4\" fill-rule=\"evenodd\" fill-opacity=\"1\" stroke=\"#000000\" stroke-opacity=\"1\" stroke-width=\"2\"/>\n",
       "<circle clip-path=\"url(#clip872)\" cx=\"1748.58\" cy=\"265.59\" r=\"14\" fill=\"#4682b4\" fill-rule=\"evenodd\" fill-opacity=\"1\" stroke=\"#000000\" stroke-opacity=\"1\" stroke-width=\"2\"/>\n",
       "<circle clip-path=\"url(#clip872)\" cx=\"1259.97\" cy=\"259.453\" r=\"14\" fill=\"#4682b4\" fill-rule=\"evenodd\" fill-opacity=\"1\" stroke=\"#000000\" stroke-opacity=\"1\" stroke-width=\"2\"/>\n",
       "<circle clip-path=\"url(#clip872)\" cx=\"1190.66\" cy=\"650.769\" r=\"14\" fill=\"#4682b4\" fill-rule=\"evenodd\" fill-opacity=\"1\" stroke=\"#000000\" stroke-opacity=\"1\" stroke-width=\"2\"/>\n",
       "</svg>\n"
      ]
     },
     "execution_count": 5,
     "metadata": {},
     "output_type": "execute_result"
    }
   ],
   "source": [
    "X_mat = hcat(X...);\n",
    "scatter(X_mat[1,:], X_mat[2,:], \n",
    "        color = :steelblue, size = (750,250), aspect_ratio = :equal, legend = false)"
   ]
  },
  {
   "cell_type": "markdown",
   "metadata": {},
   "source": [
    "We suspect that there is a polynomial of degree 2 vanishing on the data set.\n",
    "\n",
    "To detect this using PCA we introduce the feature map $\\phi :\\mathbb R^2 \\to \\mathbb R^6$ that sends $x$ to all monomials of degree at most 2 in $x$."
   ]
  },
  {
   "cell_type": "code",
   "execution_count": 6,
   "metadata": {},
   "outputs": [
    {
     "data": {
      "text/plain": [
       "ϕ (generic function with 1 method)"
      ]
     },
     "execution_count": 6,
     "metadata": {},
     "output_type": "execute_result"
    }
   ],
   "source": [
    "ϕ(x) = [1; x[1]; x[2]; x[1]*x[2]; x[1]^2; x[2]^2]"
   ]
  },
  {
   "cell_type": "markdown",
   "metadata": {},
   "source": [
    "The corresponding feature matrix is $\\Omega$."
   ]
  },
  {
   "cell_type": "code",
   "execution_count": 7,
   "metadata": {},
   "outputs": [],
   "source": [
    "Ω = hcat(map(ϕ, X)...) |> transpose;"
   ]
  },
  {
   "cell_type": "markdown",
   "metadata": {},
   "source": [
    "Let us compute a singular value decomposition of $\\Omega$.\n",
    "\n",
    "We extract the singular values in the array `svals`."
   ]
  },
  {
   "cell_type": "code",
   "execution_count": 8,
   "metadata": {},
   "outputs": [
    {
     "data": {
      "text/plain": [
       "| (generic function with 24 methods)"
      ]
     },
     "execution_count": 8,
     "metadata": {},
     "output_type": "execute_result"
    }
   ],
   "source": [
    "S = svd(Ω)\n",
    "svals = S.S;|"
   ]
  },
  {
   "cell_type": "markdown",
   "metadata": {},
   "source": [
    "The normalized differences of the entries of `svals` are"
   ]
  },
  {
   "cell_type": "code",
   "execution_count": 9,
   "metadata": {},
   "outputs": [
    {
     "data": {
      "text/plain": [
       "5-element Vector{Float64}:\n",
       " -0.6785400593427294\n",
       " -0.05744263705215274\n",
       " -0.3256982527215285\n",
       " -0.4273387448770596\n",
       " -2.2514581703974934"
      ]
     },
     "execution_count": 9,
     "metadata": {},
     "output_type": "execute_result"
    }
   ],
   "source": [
    "diff(svals) ./ svals[2:end]"
   ]
  },
  {
   "cell_type": "markdown",
   "metadata": {},
   "source": [
    "It seems that there is significant gap when passing from the 5th to the 6th singular value.\n",
    "\n",
    "Let us check the singular vector corresponding to the 6th singular value."
   ]
  },
  {
   "cell_type": "code",
   "execution_count": 10,
   "metadata": {},
   "outputs": [
    {
     "name": "stdout",
     "output_type": "stream",
     "text": [
      "-1.019 + 0.049 x₁ + -0.074 x₂ + 0.057 x₁x₂ + 0.946 x₁²+ 1.0 x₂²\n"
     ]
    }
   ],
   "source": [
    "u = S.V[:, 6] \n",
    "f = round.(u ./ u[end], digits = 3)\n",
    "println(\"$(f[1]) + $(f[2]) x₁ + $(f[3]) x₂ + $(f[4]) x₁x₂ + $(f[5]) x₁²+ $(f[6]) x₂²\")"
   ]
  },
  {
   "cell_type": "markdown",
   "metadata": {},
   "source": [
    "This is close to the actual equation $-1 + x_1^2 + x_2^2 = 0$."
   ]
  },
  {
   "cell_type": "markdown",
   "metadata": {},
   "source": [
    "# Geometry of Images\n",
    "\n",
    "Let us next consider data from the [CIFAR10](http://www.cs.toronto.edu/~kriz/cifar.html) dataset."
   ]
  },
  {
   "cell_type": "code",
   "execution_count": 11,
   "metadata": {},
   "outputs": [],
   "source": [
    "data_X, data_Y = CIFAR10.traindata();"
   ]
  },
  {
   "cell_type": "markdown",
   "metadata": {},
   "source": [
    "The dataset contains images of 10 classes of objects:"
   ]
  },
  {
   "cell_type": "code",
   "execution_count": 12,
   "metadata": {},
   "outputs": [],
   "source": [
    "labels = [\"airplane\", \n",
    "          \"automobile\", \n",
    "          \"bird\", \n",
    "          \"cat\", \n",
    "          \"deer\", \n",
    "          \"dog\", \n",
    "          \"frog\", \n",
    "          \"horse\", \n",
    "          \"ship\", \n",
    "          \"truck\"];"
   ]
  },
  {
   "cell_type": "markdown",
   "metadata": {},
   "source": [
    "Let us take the subsset consisting of images of trucks."
   ]
  },
  {
   "cell_type": "code",
   "execution_count": 13,
   "metadata": {},
   "outputs": [],
   "source": [
    "idx = findfirst(labels .== \"truck\") - 1\n",
    "trucks = data_X[:,:,:, data_Y .== idx];"
   ]
  },
  {
   "cell_type": "markdown",
   "metadata": {},
   "source": [
    "We now have 5000 images of trucks."
   ]
  },
  {
   "cell_type": "code",
   "execution_count": 18,
   "metadata": {},
   "outputs": [
    {
     "data": {
      "text/plain": [
       "5000"
      ]
     },
     "execution_count": 18,
     "metadata": {},
     "output_type": "execute_result"
    }
   ],
   "source": [
    "n_images = size(trucks, 4)"
   ]
  },
  {
   "cell_type": "markdown",
   "metadata": {},
   "source": [
    "Each image consists of $D=32 \\cdot 32 \\cdot 3 = 3072$ numerical values. \n",
    "\n",
    "They represent the RGB values of $32\\times 32$ pixels.\n",
    "\n",
    "Thus, we have data in $\\mathbb R^D$."
   ]
  },
  {
   "cell_type": "code",
   "execution_count": 19,
   "metadata": {},
   "outputs": [
    {
     "data": {
      "text/plain": [
       "3072"
      ]
     },
     "execution_count": 19,
     "metadata": {},
     "output_type": "execute_result"
    }
   ],
   "source": [
    "D = 32 * 32 * 3"
   ]
  },
  {
   "cell_type": "markdown",
   "metadata": {},
   "source": [
    "Let us consider a subset $X$ of 500 data points."
   ]
  },
  {
   "cell_type": "code",
   "execution_count": 20,
   "metadata": {},
   "outputs": [],
   "source": [
    "n = 500\n",
    "subsample = sample(1:n_images, n, replace = false)\n",
    "\n",
    "X = map(subsample) do i\n",
    "    xᵢ = vec(trucks[:,:,:,i])\n",
    "    Float64.(xᵢ)\n",
    "    end;"
   ]
  },
  {
   "cell_type": "markdown",
   "metadata": {},
   "source": [
    "We normalize the data."
   ]
  },
  {
   "cell_type": "code",
   "execution_count": 21,
   "metadata": {},
   "outputs": [],
   "source": [
    "x̄ = mean(X);\n",
    "stds = std(X);\n",
    "X = map(x -> (x - x̄) ./ stds, X);"
   ]
  },
  {
   "cell_type": "markdown",
   "metadata": {},
   "source": [
    "Let us take a look at a random subset of 6 images from our data."
   ]
  },
  {
   "cell_type": "code",
   "execution_count": 22,
   "metadata": {},
   "outputs": [
    {
     "data": {
      "text/html": [
       "<table><tbody><tr><td style='text-align:center;vertical-align:middle; margin: 0.5em;border:1px #90999f solid;border-collapse:collapse'><img style='max-width: 100px; max-height:100px;display:inline' src=\"data:image/png;base64,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\"></td><td style='text-align:center;vertical-align:middle; margin: 0.5em;border:1px #90999f solid;border-collapse:collapse'><img style='max-width: 100px; max-height:100px;display:inline' src=\"data:image/png;base64,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\"></td><td style='text-align:center;vertical-align:middle; margin: 0.5em;border:1px #90999f solid;border-collapse:collapse'><img style='max-width: 100px; max-height:100px;display:inline' src=\"data:image/png;base64,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\"></td><td style='text-align:center;vertical-align:middle; margin: 0.5em;border:1px #90999f solid;border-collapse:collapse'><img style='max-width: 100px; max-height:100px;display:inline' src=\"data:image/png;base64,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\"></td><td style='text-align:center;vertical-align:middle; margin: 0.5em;border:1px #90999f solid;border-collapse:collapse'><img style='max-width: 100px; max-height:100px;display:inline' src=\"data:image/png;base64,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\"></td><td style='text-align:center;vertical-align:middle; margin: 0.5em;border:1px #90999f solid;border-collapse:collapse'><img style='max-width: 100px; max-height:100px;display:inline' src=\"data:image/png;base64,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\"></td></tr></tbody></table><div><small>(a vector displayed as a row to save space)</small></div>"
      ],
      "text/plain": [
       "6-element Vector{Base.ReinterpretArray{RGB{N0f8}, 2, N0f8, Array{N0f8, 3}, true}}:\n",
       " [RGB{N0f8}(0.208,0.212,0.408) RGB{N0f8}(0.239,0.251,0.459) … RGB{N0f8}(0.455,0.282,0.267) RGB{N0f8}(0.467,0.29,0.298); RGB{N0f8}(0.173,0.165,0.369) RGB{N0f8}(0.22,0.227,0.431) … RGB{N0f8}(0.471,0.31,0.306) RGB{N0f8}(0.541,0.29,0.259); … ; RGB{N0f8}(0.506,0.424,0.42) RGB{N0f8}(0.518,0.431,0.427) … RGB{N0f8}(0.161,0.157,0.255) RGB{N0f8}(0.212,0.208,0.286); RGB{N0f8}(0.427,0.361,0.4) RGB{N0f8}(0.471,0.396,0.427) … RGB{N0f8}(0.263,0.235,0.329) RGB{N0f8}(0.231,0.224,0.302)]\n",
       " [RGB{N0f8}(0.71,0.678,0.565) RGB{N0f8}(0.937,0.929,0.882) … RGB{N0f8}(0.514,0.435,0.318) RGB{N0f8}(0.51,0.447,0.318); RGB{N0f8}(0.62,0.573,0.475) RGB{N0f8}(0.792,0.753,0.706) … RGB{N0f8}(0.38,0.314,0.224) RGB{N0f8}(0.345,0.29,0.192); … ; RGB{N0f8}(0.341,0.333,0.337) RGB{N0f8}(0.243,0.235,0.239) … RGB{N0f8}(0.247,0.239,0.243) RGB{N0f8}(0.212,0.204,0.208); RGB{N0f8}(0.231,0.227,0.231) RGB{N0f8}(0.145,0.141,0.141) … RGB{N0f8}(0.161,0.161,0.161) RGB{N0f8}(0.145,0.141,0.141)]\n",
       " [RGB{N0f8}(0.929,0.925,0.933) RGB{N0f8}(0.82,0.816,0.827) … RGB{N0f8}(1.0,1.0,1.0) RGB{N0f8}(1.0,1.0,1.0); RGB{N0f8}(0.906,0.906,0.918) RGB{N0f8}(0.82,0.82,0.835) … RGB{N0f8}(1.0,1.0,1.0) RGB{N0f8}(1.0,1.0,1.0); … ; RGB{N0f8}(0.655,0.624,0.624) RGB{N0f8}(0.635,0.639,0.62) … RGB{N0f8}(0.549,0.475,0.412) RGB{N0f8}(0.584,0.529,0.475); RGB{N0f8}(0.643,0.62,0.604) RGB{N0f8}(0.643,0.616,0.612) … RGB{N0f8}(0.573,0.502,0.443) RGB{N0f8}(0.576,0.514,0.463)]\n",
       " [RGB{N0f8}(0.086,0.125,0.063) RGB{N0f8}(0.353,0.404,0.318) … RGB{N0f8}(0.149,0.114,0.098) RGB{N0f8}(0.318,0.306,0.255); RGB{N0f8}(0.153,0.22,0.153) RGB{N0f8}(0.286,0.38,0.247) … RGB{N0f8}(0.141,0.106,0.09) RGB{N0f8}(0.204,0.192,0.141); … ; RGB{N0f8}(0.824,0.792,0.784) RGB{N0f8}(0.804,0.78,0.776) … RGB{N0f8}(0.792,0.773,0.761) RGB{N0f8}(0.714,0.706,0.698); RGB{N0f8}(0.592,0.576,0.58) RGB{N0f8}(0.549,0.537,0.541) … RGB{N0f8}(0.545,0.537,0.529) RGB{N0f8}(0.537,0.541,0.533)]\n",
       " [RGB{N0f8}(0.537,0.459,0.412) RGB{N0f8}(0.533,0.392,0.337) … RGB{N0f8}(0.98,0.992,0.984) RGB{N0f8}(0.929,0.949,0.914); RGB{N0f8}(0.569,0.486,0.459) RGB{N0f8}(0.529,0.388,0.349) … RGB{N0f8}(0.922,0.894,0.863) RGB{N0f8}(0.725,0.722,0.655); … ; RGB{N0f8}(0.443,0.38,0.353) RGB{N0f8}(0.557,0.471,0.447) … RGB{N0f8}(0.694,0.663,0.651) RGB{N0f8}(0.694,0.663,0.655); RGB{N0f8}(0.655,0.573,0.545) RGB{N0f8}(0.706,0.608,0.584) … RGB{N0f8}(0.706,0.678,0.659) RGB{N0f8}(0.702,0.671,0.659)]\n",
       " [RGB{N0f8}(0.965,0.976,0.996) RGB{N0f8}(0.961,0.965,0.98) … RGB{N0f8}(0.961,0.973,0.98) RGB{N0f8}(0.941,0.957,0.961); RGB{N0f8}(0.961,0.973,0.992) RGB{N0f8}(0.976,0.988,0.988) … RGB{N0f8}(0.773,0.8,0.78) RGB{N0f8}(0.89,0.91,0.91); … ; RGB{N0f8}(0.643,0.624,0.545) RGB{N0f8}(0.624,0.596,0.506) … RGB{N0f8}(0.514,0.502,0.388) RGB{N0f8}(0.565,0.549,0.443); RGB{N0f8}(0.655,0.631,0.545) RGB{N0f8}(0.639,0.604,0.51) … RGB{N0f8}(0.541,0.525,0.412) RGB{N0f8}(0.569,0.553,0.447)]"
      ]
     },
     "execution_count": 22,
     "metadata": {},
     "output_type": "execute_result"
    }
   ],
   "source": [
    "k = rand(subsample, 6)\n",
    "[CIFAR10.convert2image(trucks[:,:,:,i]) for i in k]"
   ]
  },
  {
   "cell_type": "markdown",
   "metadata": {},
   "source": [
    "We now want to see if there could be a polynomial equation of degree $k=4$ vanishing on the data.\n",
    "\n",
    "For this, we define the kernel map."
   ]
  },
  {
   "cell_type": "code",
   "execution_count": 23,
   "metadata": {},
   "outputs": [
    {
     "data": {
      "text/plain": [
       "κ (generic function with 1 method)"
      ]
     },
     "execution_count": 23,
     "metadata": {},
     "output_type": "execute_result"
    }
   ],
   "source": [
    "k = 4\n",
    "κ(x₁, x₂) = (x₁ ⋅ x₂ + 1)^k"
   ]
  },
  {
   "cell_type": "markdown",
   "metadata": {},
   "source": [
    "Next, we compute the matrix $R:=W^TW$ from the lecture notes."
   ]
  },
  {
   "cell_type": "code",
   "execution_count": 24,
   "metadata": {},
   "outputs": [],
   "source": [
    "e = ones(n);\n",
    "P = diagm(e) - (1/n) .* (e*e');\n",
    "G = [κ(x₁, x₂) for (x₁, x₂) in product(X,X)]\n",
    "\n",
    "R = P * G * P;"
   ]
  },
  {
   "cell_type": "markdown",
   "metadata": {},
   "source": [
    "We compute the eigenvalues of $R$"
   ]
  },
  {
   "cell_type": "code",
   "execution_count": 25,
   "metadata": {},
   "outputs": [],
   "source": [
    "E = eigen(R);\n",
    "evals = E.values;"
   ]
  },
  {
   "cell_type": "markdown",
   "metadata": {},
   "source": [
    "and plot their normalized differences."
   ]
  },
  {
   "cell_type": "code",
   "execution_count": 26,
   "metadata": {},
   "outputs": [
    {
     "data": {
      "image/svg+xml": [
       "<?xml version=\"1.0\" encoding=\"utf-8\"?>\n",
       "<svg xmlns=\"http://www.w3.org/2000/svg\" xmlns:xlink=\"http://www.w3.org/1999/xlink\" width=\"800\" height=\"250\" viewBox=\"0 0 3200 1000\">\n",
       "<defs>\n",
       "  <clipPath id=\"clip910\">\n",
       "    <rect x=\"0\" y=\"0\" width=\"3200\" height=\"1000\"/>\n",
       "  </clipPath>\n",
       "</defs>\n",
       "<path clip-path=\"url(#clip910)\" d=\"\n",
       "M0 1000 L3200 1000 L3200 0 L0 0  Z\n",
       "  \" fill=\"#ffffff\" fill-rule=\"evenodd\" fill-opacity=\"1\"/>\n",
       "<defs>\n",
       "  <clipPath id=\"clip911\">\n",
       "    <rect x=\"640\" y=\"0\" width=\"2241\" height=\"1000\"/>\n",
       "  </clipPath>\n",
       "</defs>\n",
       "<path clip-path=\"url(#clip910)\" d=\"\n",
       "M194.274 910.808 L3152.76 910.808 L3152.76 47.2441 L194.274 47.2441  Z\n",
       "  \" fill=\"#ffffff\" fill-rule=\"evenodd\" fill-opacity=\"1\"/>\n",
       "<defs>\n",
       "  <clipPath id=\"clip912\">\n",
       "    <rect x=\"194\" y=\"47\" width=\"2959\" height=\"865\"/>\n",
       "  </clipPath>\n",
       "</defs>\n",
       "<polyline clip-path=\"url(#clip912)\" style=\"stroke:#000000; stroke-linecap:butt; stroke-linejoin:round; stroke-width:2; stroke-opacity:0.1; fill:none\" points=\"\n",
       "  272.4,910.808 272.4,47.2441 \n",
       "  \"/>\n",
       "<polyline clip-path=\"url(#clip912)\" style=\"stroke:#000000; stroke-linecap:butt; stroke-linejoin:round; stroke-width:2; stroke-opacity:0.1; fill:none\" points=\"\n",
       "  832.846,910.808 832.846,47.2441 \n",
       "  \"/>\n",
       "<polyline clip-path=\"url(#clip912)\" style=\"stroke:#000000; stroke-linecap:butt; stroke-linejoin:round; stroke-width:2; stroke-opacity:0.1; fill:none\" points=\"\n",
       "  1393.29,910.808 1393.29,47.2441 \n",
       "  \"/>\n",
       "<polyline clip-path=\"url(#clip912)\" style=\"stroke:#000000; stroke-linecap:butt; stroke-linejoin:round; stroke-width:2; stroke-opacity:0.1; fill:none\" points=\"\n",
       "  1953.74,910.808 1953.74,47.2441 \n",
       "  \"/>\n",
       "<polyline clip-path=\"url(#clip912)\" style=\"stroke:#000000; stroke-linecap:butt; stroke-linejoin:round; stroke-width:2; stroke-opacity:0.1; fill:none\" points=\"\n",
       "  2514.18,910.808 2514.18,47.2441 \n",
       "  \"/>\n",
       "<polyline clip-path=\"url(#clip912)\" style=\"stroke:#000000; stroke-linecap:butt; stroke-linejoin:round; stroke-width:2; stroke-opacity:0.1; fill:none\" points=\"\n",
       "  3074.63,910.808 3074.63,47.2441 \n",
       "  \"/>\n",
       "<polyline clip-path=\"url(#clip910)\" style=\"stroke:#000000; stroke-linecap:butt; stroke-linejoin:round; stroke-width:4; stroke-opacity:1; fill:none\" points=\"\n",
       "  194.274,910.808 3152.76,910.808 \n",
       "  \"/>\n",
       "<polyline clip-path=\"url(#clip910)\" style=\"stroke:#000000; stroke-linecap:butt; stroke-linejoin:round; stroke-width:4; stroke-opacity:1; fill:none\" points=\"\n",
       "  272.4,910.808 272.4,891.91 \n",
       "  \"/>\n",
       "<polyline clip-path=\"url(#clip910)\" style=\"stroke:#000000; stroke-linecap:butt; stroke-linejoin:round; stroke-width:4; stroke-opacity:1; fill:none\" points=\"\n",
       "  832.846,910.808 832.846,891.91 \n",
       "  \"/>\n",
       "<polyline clip-path=\"url(#clip910)\" style=\"stroke:#000000; stroke-linecap:butt; stroke-linejoin:round; stroke-width:4; stroke-opacity:1; fill:none\" points=\"\n",
       "  1393.29,910.808 1393.29,891.91 \n",
       "  \"/>\n",
       "<polyline clip-path=\"url(#clip910)\" style=\"stroke:#000000; stroke-linecap:butt; stroke-linejoin:round; stroke-width:4; stroke-opacity:1; fill:none\" points=\"\n",
       "  1953.74,910.808 1953.74,891.91 \n",
       "  \"/>\n",
       "<polyline clip-path=\"url(#clip910)\" style=\"stroke:#000000; stroke-linecap:butt; stroke-linejoin:round; stroke-width:4; stroke-opacity:1; fill:none\" points=\"\n",
       "  2514.18,910.808 2514.18,891.91 \n",
       "  \"/>\n",
       "<polyline clip-path=\"url(#clip910)\" style=\"stroke:#000000; stroke-linecap:butt; stroke-linejoin:round; stroke-width:4; stroke-opacity:1; fill:none\" points=\"\n",
       "  3074.63,910.808 3074.63,891.91 \n",
       "  \"/>\n",
       "<path clip-path=\"url(#clip910)\" d=\"M272.4 948.127 Q268.789 948.127 266.96 951.691 Q265.155 955.233 265.155 962.363 Q265.155 969.469 266.96 973.034 Q268.789 976.575 272.4 976.575 Q276.034 976.575 277.84 973.034 Q279.669 969.469 279.669 962.363 Q279.669 955.233 277.84 951.691 Q276.034 948.127 272.4 948.127 M272.4 944.423 Q278.21 944.423 281.266 949.029 Q284.345 953.613 284.345 962.363 Q284.345 971.089 281.266 975.696 Q278.21 980.279 272.4 980.279 Q266.59 980.279 263.511 975.696 Q260.456 971.089 260.456 962.363 Q260.456 953.613 263.511 949.029 Q266.59 944.423 272.4 944.423 Z\" fill=\"#000000\" fill-rule=\"evenodd\" fill-opacity=\"1\" /><path clip-path=\"url(#clip910)\" d=\"M792.453 975.673 L800.092 975.673 L800.092 949.307 L791.781 950.974 L791.781 946.715 L800.045 945.048 L804.721 945.048 L804.721 975.673 L812.36 975.673 L812.36 979.608 L792.453 979.608 L792.453 975.673 Z\" fill=\"#000000\" fill-rule=\"evenodd\" fill-opacity=\"1\" /><path clip-path=\"url(#clip910)\" d=\"M831.804 948.127 Q828.193 948.127 826.365 951.691 Q824.559 955.233 824.559 962.363 Q824.559 969.469 826.365 973.034 Q828.193 976.575 831.804 976.575 Q835.439 976.575 837.244 973.034 Q839.073 969.469 839.073 962.363 Q839.073 955.233 837.244 951.691 Q835.439 948.127 831.804 948.127 M831.804 944.423 Q837.615 944.423 840.67 949.029 Q843.749 953.613 843.749 962.363 Q843.749 971.089 840.67 975.696 Q837.615 980.279 831.804 980.279 Q825.994 980.279 822.916 975.696 Q819.86 971.089 819.86 962.363 Q819.86 953.613 822.916 949.029 Q825.994 944.423 831.804 944.423 Z\" fill=\"#000000\" fill-rule=\"evenodd\" fill-opacity=\"1\" /><path clip-path=\"url(#clip910)\" d=\"M861.966 948.127 Q858.355 948.127 856.527 951.691 Q854.721 955.233 854.721 962.363 Q854.721 969.469 856.527 973.034 Q858.355 976.575 861.966 976.575 Q865.601 976.575 867.406 973.034 Q869.235 969.469 869.235 962.363 Q869.235 955.233 867.406 951.691 Q865.601 948.127 861.966 948.127 M861.966 944.423 Q867.776 944.423 870.832 949.029 Q873.911 953.613 873.911 962.363 Q873.911 971.089 870.832 975.696 Q867.776 980.279 861.966 980.279 Q856.156 980.279 853.077 975.696 Q850.022 971.089 850.022 962.363 Q850.022 953.613 853.077 949.029 Q856.156 944.423 861.966 944.423 Z\" fill=\"#000000\" fill-rule=\"evenodd\" fill-opacity=\"1\" /><path clip-path=\"url(#clip910)\" d=\"M1356.98 975.673 L1373.3 975.673 L1373.3 979.608 L1351.36 979.608 L1351.36 975.673 Q1354.02 972.918 1358.6 968.288 Q1363.21 963.636 1364.39 962.293 Q1366.64 959.77 1367.52 958.034 Q1368.42 956.275 1368.42 954.585 Q1368.42 951.83 1366.48 950.094 Q1364.55 948.358 1361.45 948.358 Q1359.25 948.358 1356.8 949.122 Q1354.37 949.886 1351.59 951.437 L1351.59 946.715 Q1354.41 945.58 1356.87 945.002 Q1359.32 944.423 1361.36 944.423 Q1366.73 944.423 1369.92 947.108 Q1373.12 949.793 1373.12 954.284 Q1373.12 956.414 1372.31 958.335 Q1371.52 960.233 1369.41 962.826 Q1368.84 963.497 1365.73 966.714 Q1362.63 969.909 1356.98 975.673 Z\" fill=\"#000000\" fill-rule=\"evenodd\" fill-opacity=\"1\" /><path clip-path=\"url(#clip910)\" d=\"M1393.12 948.127 Q1389.51 948.127 1387.68 951.691 Q1385.87 955.233 1385.87 962.363 Q1385.87 969.469 1387.68 973.034 Q1389.51 976.575 1393.12 976.575 Q1396.75 976.575 1398.56 973.034 Q1400.39 969.469 1400.39 962.363 Q1400.39 955.233 1398.56 951.691 Q1396.75 948.127 1393.12 948.127 M1393.12 944.423 Q1398.93 944.423 1401.98 949.029 Q1405.06 953.613 1405.06 962.363 Q1405.06 971.089 1401.98 975.696 Q1398.93 980.279 1393.12 980.279 Q1387.31 980.279 1384.23 975.696 Q1381.17 971.089 1381.17 962.363 Q1381.17 953.613 1384.23 949.029 Q1387.31 944.423 1393.12 944.423 Z\" fill=\"#000000\" fill-rule=\"evenodd\" fill-opacity=\"1\" /><path clip-path=\"url(#clip910)\" d=\"M1423.28 948.127 Q1419.67 948.127 1417.84 951.691 Q1416.03 955.233 1416.03 962.363 Q1416.03 969.469 1417.84 973.034 Q1419.67 976.575 1423.28 976.575 Q1426.91 976.575 1428.72 973.034 Q1430.55 969.469 1430.55 962.363 Q1430.55 955.233 1428.72 951.691 Q1426.91 948.127 1423.28 948.127 M1423.28 944.423 Q1429.09 944.423 1432.15 949.029 Q1435.22 953.613 1435.22 962.363 Q1435.22 971.089 1432.15 975.696 Q1429.09 980.279 1423.28 980.279 Q1417.47 980.279 1414.39 975.696 Q1411.34 971.089 1411.34 962.363 Q1411.34 953.613 1414.39 949.029 Q1417.47 944.423 1423.28 944.423 Z\" fill=\"#000000\" fill-rule=\"evenodd\" fill-opacity=\"1\" /><path clip-path=\"url(#clip910)\" d=\"M1927.5 960.974 Q1930.86 961.691 1932.73 963.96 Q1934.63 966.228 1934.63 969.562 Q1934.63 974.677 1931.11 977.478 Q1927.59 980.279 1921.11 980.279 Q1918.93 980.279 1916.62 979.839 Q1914.33 979.423 1911.87 978.566 L1911.87 974.052 Q1913.82 975.187 1916.13 975.765 Q1918.45 976.344 1920.97 976.344 Q1925.37 976.344 1927.66 974.608 Q1929.98 972.872 1929.98 969.562 Q1929.98 966.506 1927.82 964.793 Q1925.69 963.057 1921.87 963.057 L1917.85 963.057 L1917.85 959.214 L1922.06 959.214 Q1925.51 959.214 1927.34 957.849 Q1929.17 956.46 1929.17 953.867 Q1929.17 951.205 1927.27 949.793 Q1925.39 948.358 1921.87 948.358 Q1919.95 948.358 1917.75 948.775 Q1915.56 949.191 1912.92 950.071 L1912.92 945.904 Q1915.58 945.164 1917.89 944.793 Q1920.23 944.423 1922.29 944.423 Q1927.62 944.423 1930.72 946.853 Q1933.82 949.261 1933.82 953.381 Q1933.82 956.252 1932.18 958.242 Q1930.53 960.21 1927.5 960.974 Z\" fill=\"#000000\" fill-rule=\"evenodd\" fill-opacity=\"1\" /><path clip-path=\"url(#clip910)\" d=\"M1953.49 948.127 Q1949.88 948.127 1948.06 951.691 Q1946.25 955.233 1946.25 962.363 Q1946.25 969.469 1948.06 973.034 Q1949.88 976.575 1953.49 976.575 Q1957.13 976.575 1958.93 973.034 Q1960.76 969.469 1960.76 962.363 Q1960.76 955.233 1958.93 951.691 Q1957.13 948.127 1953.49 948.127 M1953.49 944.423 Q1959.31 944.423 1962.36 949.029 Q1965.44 953.613 1965.44 962.363 Q1965.44 971.089 1962.36 975.696 Q1959.31 980.279 1953.49 980.279 Q1947.68 980.279 1944.61 975.696 Q1941.55 971.089 1941.55 962.363 Q1941.55 953.613 1944.61 949.029 Q1947.68 944.423 1953.49 944.423 Z\" fill=\"#000000\" fill-rule=\"evenodd\" fill-opacity=\"1\" /><path clip-path=\"url(#clip910)\" d=\"M1983.66 948.127 Q1980.05 948.127 1978.22 951.691 Q1976.41 955.233 1976.41 962.363 Q1976.41 969.469 1978.22 973.034 Q1980.05 976.575 1983.66 976.575 Q1987.29 976.575 1989.1 973.034 Q1990.93 969.469 1990.93 962.363 Q1990.93 955.233 1989.1 951.691 Q1987.29 948.127 1983.66 948.127 M1983.66 944.423 Q1989.47 944.423 1992.52 949.029 Q1995.6 953.613 1995.6 962.363 Q1995.6 971.089 1992.52 975.696 Q1989.47 980.279 1983.66 980.279 Q1977.85 980.279 1974.77 975.696 Q1971.71 971.089 1971.71 962.363 Q1971.71 953.613 1974.77 949.029 Q1977.85 944.423 1983.66 944.423 Z\" fill=\"#000000\" fill-rule=\"evenodd\" fill-opacity=\"1\" /><path clip-path=\"url(#clip910)\" d=\"M2487.27 949.122 L2475.47 967.571 L2487.27 967.571 L2487.27 949.122 M2486.05 945.048 L2491.93 945.048 L2491.93 967.571 L2496.86 967.571 L2496.86 971.46 L2491.93 971.46 L2491.93 979.608 L2487.27 979.608 L2487.27 971.46 L2471.67 971.46 L2471.67 966.946 L2486.05 945.048 Z\" fill=\"#000000\" fill-rule=\"evenodd\" fill-opacity=\"1\" /><path clip-path=\"url(#clip910)\" d=\"M2514.59 948.127 Q2510.98 948.127 2509.15 951.691 Q2507.34 955.233 2507.34 962.363 Q2507.34 969.469 2509.15 973.034 Q2510.98 976.575 2514.59 976.575 Q2518.22 976.575 2520.03 973.034 Q2521.86 969.469 2521.86 962.363 Q2521.86 955.233 2520.03 951.691 Q2518.22 948.127 2514.59 948.127 M2514.59 944.423 Q2520.4 944.423 2523.45 949.029 Q2526.53 953.613 2526.53 962.363 Q2526.53 971.089 2523.45 975.696 Q2520.4 980.279 2514.59 980.279 Q2508.78 980.279 2505.7 975.696 Q2502.64 971.089 2502.64 962.363 Q2502.64 953.613 2505.7 949.029 Q2508.78 944.423 2514.59 944.423 Z\" fill=\"#000000\" fill-rule=\"evenodd\" fill-opacity=\"1\" /><path clip-path=\"url(#clip910)\" d=\"M2544.75 948.127 Q2541.14 948.127 2539.31 951.691 Q2537.51 955.233 2537.51 962.363 Q2537.51 969.469 2539.31 973.034 Q2541.14 976.575 2544.75 976.575 Q2548.39 976.575 2550.19 973.034 Q2552.02 969.469 2552.02 962.363 Q2552.02 955.233 2550.19 951.691 Q2548.39 948.127 2544.75 948.127 M2544.75 944.423 Q2550.56 944.423 2553.62 949.029 Q2556.7 953.613 2556.7 962.363 Q2556.7 971.089 2553.62 975.696 Q2550.56 980.279 2544.75 980.279 Q2538.94 980.279 2535.86 975.696 Q2532.81 971.089 2532.81 962.363 Q2532.81 953.613 2535.86 949.029 Q2538.94 944.423 2544.75 944.423 Z\" fill=\"#000000\" fill-rule=\"evenodd\" fill-opacity=\"1\" /><path clip-path=\"url(#clip910)\" d=\"M3034.25 945.048 L3052.6 945.048 L3052.6 948.983 L3038.53 948.983 L3038.53 957.455 Q3039.55 957.108 3040.57 956.946 Q3041.59 956.761 3042.6 956.761 Q3048.39 956.761 3051.77 959.932 Q3055.15 963.103 3055.15 968.52 Q3055.15 974.099 3051.68 977.2 Q3048.21 980.279 3041.89 980.279 Q3039.71 980.279 3037.44 979.909 Q3035.2 979.538 3032.79 978.798 L3032.79 974.099 Q3034.87 975.233 3037.1 975.788 Q3039.32 976.344 3041.79 976.344 Q3045.8 976.344 3048.14 974.238 Q3050.47 972.131 3050.47 968.52 Q3050.47 964.909 3048.14 962.802 Q3045.8 960.696 3041.79 960.696 Q3039.92 960.696 3038.04 961.113 Q3036.19 961.529 3034.25 962.409 L3034.25 945.048 Z\" fill=\"#000000\" fill-rule=\"evenodd\" fill-opacity=\"1\" /><path clip-path=\"url(#clip910)\" d=\"M3074.36 948.127 Q3070.75 948.127 3068.92 951.691 Q3067.12 955.233 3067.12 962.363 Q3067.12 969.469 3068.92 973.034 Q3070.75 976.575 3074.36 976.575 Q3078 976.575 3079.8 973.034 Q3081.63 969.469 3081.63 962.363 Q3081.63 955.233 3079.8 951.691 Q3078 948.127 3074.36 948.127 M3074.36 944.423 Q3080.17 944.423 3083.23 949.029 Q3086.31 953.613 3086.31 962.363 Q3086.31 971.089 3083.23 975.696 Q3080.17 980.279 3074.36 980.279 Q3068.55 980.279 3065.47 975.696 Q3062.42 971.089 3062.42 962.363 Q3062.42 953.613 3065.47 949.029 Q3068.55 944.423 3074.36 944.423 Z\" fill=\"#000000\" fill-rule=\"evenodd\" fill-opacity=\"1\" /><path clip-path=\"url(#clip910)\" d=\"M3104.53 948.127 Q3100.91 948.127 3099.09 951.691 Q3097.28 955.233 3097.28 962.363 Q3097.28 969.469 3099.09 973.034 Q3100.91 976.575 3104.53 976.575 Q3108.16 976.575 3109.97 973.034 Q3111.79 969.469 3111.79 962.363 Q3111.79 955.233 3109.97 951.691 Q3108.16 948.127 3104.53 948.127 M3104.53 944.423 Q3110.34 944.423 3113.39 949.029 Q3116.47 953.613 3116.47 962.363 Q3116.47 971.089 3113.39 975.696 Q3110.34 980.279 3104.53 980.279 Q3098.72 980.279 3095.64 975.696 Q3092.58 971.089 3092.58 962.363 Q3092.58 953.613 3095.64 949.029 Q3098.72 944.423 3104.53 944.423 Z\" fill=\"#000000\" fill-rule=\"evenodd\" fill-opacity=\"1\" /><polyline clip-path=\"url(#clip912)\" style=\"stroke:#000000; stroke-linecap:butt; stroke-linejoin:round; stroke-width:2; stroke-opacity:0.1; fill:none\" points=\"\n",
       "  194.274,886.683 3152.76,886.683 \n",
       "  \"/>\n",
       "<polyline clip-path=\"url(#clip912)\" style=\"stroke:#000000; stroke-linecap:butt; stroke-linejoin:round; stroke-width:2; stroke-opacity:0.1; fill:none\" points=\"\n",
       "  194.274,682.934 3152.76,682.934 \n",
       "  \"/>\n",
       "<polyline clip-path=\"url(#clip912)\" style=\"stroke:#000000; stroke-linecap:butt; stroke-linejoin:round; stroke-width:2; stroke-opacity:0.1; fill:none\" points=\"\n",
       "  194.274,479.184 3152.76,479.184 \n",
       "  \"/>\n",
       "<polyline clip-path=\"url(#clip912)\" style=\"stroke:#000000; stroke-linecap:butt; stroke-linejoin:round; stroke-width:2; stroke-opacity:0.1; fill:none\" points=\"\n",
       "  194.274,275.434 3152.76,275.434 \n",
       "  \"/>\n",
       "<polyline clip-path=\"url(#clip912)\" style=\"stroke:#000000; stroke-linecap:butt; stroke-linejoin:round; stroke-width:2; stroke-opacity:0.1; fill:none\" points=\"\n",
       "  194.274,71.6846 3152.76,71.6846 \n",
       "  \"/>\n",
       "<polyline clip-path=\"url(#clip910)\" style=\"stroke:#000000; stroke-linecap:butt; stroke-linejoin:round; stroke-width:4; stroke-opacity:1; fill:none\" points=\"\n",
       "  194.274,910.808 194.274,47.2441 \n",
       "  \"/>\n",
       "<polyline clip-path=\"url(#clip910)\" style=\"stroke:#000000; stroke-linecap:butt; stroke-linejoin:round; stroke-width:4; stroke-opacity:1; fill:none\" points=\"\n",
       "  194.274,886.683 213.172,886.683 \n",
       "  \"/>\n",
       "<polyline clip-path=\"url(#clip910)\" style=\"stroke:#000000; stroke-linecap:butt; stroke-linejoin:round; stroke-width:4; stroke-opacity:1; fill:none\" points=\"\n",
       "  194.274,682.934 213.172,682.934 \n",
       "  \"/>\n",
       "<polyline clip-path=\"url(#clip910)\" style=\"stroke:#000000; stroke-linecap:butt; stroke-linejoin:round; stroke-width:4; stroke-opacity:1; fill:none\" points=\"\n",
       "  194.274,479.184 213.172,479.184 \n",
       "  \"/>\n",
       "<polyline clip-path=\"url(#clip910)\" style=\"stroke:#000000; stroke-linecap:butt; stroke-linejoin:round; stroke-width:4; stroke-opacity:1; fill:none\" points=\"\n",
       "  194.274,275.434 213.172,275.434 \n",
       "  \"/>\n",
       "<polyline clip-path=\"url(#clip910)\" style=\"stroke:#000000; stroke-linecap:butt; stroke-linejoin:round; stroke-width:4; stroke-opacity:1; fill:none\" points=\"\n",
       "  194.274,71.6846 213.172,71.6846 \n",
       "  \"/>\n",
       "<path clip-path=\"url(#clip910)\" d=\"M58.9365 872.482 Q55.3254 872.482 53.4967 876.047 Q51.6912 879.588 51.6912 886.718 Q51.6912 893.825 53.4967 897.389 Q55.3254 900.931 58.9365 900.931 Q62.5707 900.931 64.3763 897.389 Q66.205 893.825 66.205 886.718 Q66.205 879.588 64.3763 876.047 Q62.5707 872.482 58.9365 872.482 M58.9365 868.778 Q64.7467 868.778 67.8022 873.385 Q70.8809 877.968 70.8809 886.718 Q70.8809 895.445 67.8022 900.051 Q64.7467 904.635 58.9365 904.635 Q53.1264 904.635 50.0477 900.051 Q46.9921 895.445 46.9921 886.718 Q46.9921 877.968 50.0477 873.385 Q53.1264 868.778 58.9365 868.778 Z\" fill=\"#000000\" fill-rule=\"evenodd\" fill-opacity=\"1\" /><path clip-path=\"url(#clip910)\" d=\"M79.0984 898.084 L83.9827 898.084 L83.9827 903.963 L79.0984 903.963 L79.0984 898.084 Z\" fill=\"#000000\" fill-rule=\"evenodd\" fill-opacity=\"1\" /><path clip-path=\"url(#clip910)\" d=\"M104.168 872.482 Q100.557 872.482 98.728 876.047 Q96.9224 879.588 96.9224 886.718 Q96.9224 893.825 98.728 897.389 Q100.557 900.931 104.168 900.931 Q107.802 900.931 109.608 897.389 Q111.436 893.825 111.436 886.718 Q111.436 879.588 109.608 876.047 Q107.802 872.482 104.168 872.482 M104.168 868.778 Q109.978 868.778 113.033 873.385 Q116.112 877.968 116.112 886.718 Q116.112 895.445 113.033 900.051 Q109.978 904.635 104.168 904.635 Q98.3576 904.635 95.2789 900.051 Q92.2234 895.445 92.2234 886.718 Q92.2234 877.968 95.2789 873.385 Q98.3576 868.778 104.168 868.778 Z\" fill=\"#000000\" fill-rule=\"evenodd\" fill-opacity=\"1\" /><path clip-path=\"url(#clip910)\" d=\"M134.33 872.482 Q130.719 872.482 128.89 876.047 Q127.084 879.588 127.084 886.718 Q127.084 893.825 128.89 897.389 Q130.719 900.931 134.33 900.931 Q137.964 900.931 139.769 897.389 Q141.598 893.825 141.598 886.718 Q141.598 879.588 139.769 876.047 Q137.964 872.482 134.33 872.482 M134.33 868.778 Q140.14 868.778 143.195 873.385 Q146.274 877.968 146.274 886.718 Q146.274 895.445 143.195 900.051 Q140.14 904.635 134.33 904.635 Q128.519 904.635 125.441 900.051 Q122.385 895.445 122.385 886.718 Q122.385 877.968 125.441 873.385 Q128.519 868.778 134.33 868.778 Z\" fill=\"#000000\" fill-rule=\"evenodd\" fill-opacity=\"1\" /><path clip-path=\"url(#clip910)\" d=\"M59.9319 668.732 Q56.3208 668.732 54.4921 672.297 Q52.6865 675.839 52.6865 682.968 Q52.6865 690.075 54.4921 693.64 Q56.3208 697.181 59.9319 697.181 Q63.5661 697.181 65.3717 693.64 Q67.2004 690.075 67.2004 682.968 Q67.2004 675.839 65.3717 672.297 Q63.5661 668.732 59.9319 668.732 M59.9319 665.029 Q65.742 665.029 68.7976 669.635 Q71.8763 674.218 71.8763 682.968 Q71.8763 691.695 68.7976 696.302 Q65.742 700.885 59.9319 700.885 Q54.1217 700.885 51.043 696.302 Q47.9875 691.695 47.9875 682.968 Q47.9875 674.218 51.043 669.635 Q54.1217 665.029 59.9319 665.029 Z\" fill=\"#000000\" fill-rule=\"evenodd\" fill-opacity=\"1\" /><path clip-path=\"url(#clip910)\" d=\"M80.0938 694.334 L84.978 694.334 L84.978 700.214 L80.0938 700.214 L80.0938 694.334 Z\" fill=\"#000000\" fill-rule=\"evenodd\" fill-opacity=\"1\" /><path clip-path=\"url(#clip910)\" d=\"M99.1909 696.279 L115.51 696.279 L115.51 700.214 L93.566 700.214 L93.566 696.279 Q96.228 693.524 100.811 688.894 Q105.418 684.242 106.598 682.899 Q108.844 680.376 109.723 678.64 Q110.626 676.88 110.626 675.191 Q110.626 672.436 108.682 670.7 Q106.76 668.964 103.658 668.964 Q101.459 668.964 99.0057 669.728 Q96.5752 670.492 93.7974 672.043 L93.7974 667.32 Q96.6215 666.186 99.0752 665.607 Q101.529 665.029 103.566 665.029 Q108.936 665.029 112.131 667.714 Q115.325 670.399 115.325 674.89 Q115.325 677.019 114.515 678.941 Q113.728 680.839 111.621 683.431 Q111.043 684.103 107.941 687.32 Q104.839 690.515 99.1909 696.279 Z\" fill=\"#000000\" fill-rule=\"evenodd\" fill-opacity=\"1\" /><path clip-path=\"url(#clip910)\" d=\"M125.371 665.654 L143.728 665.654 L143.728 669.589 L129.654 669.589 L129.654 678.061 Q130.672 677.714 131.691 677.552 Q132.709 677.367 133.728 677.367 Q139.515 677.367 142.894 680.538 Q146.274 683.709 146.274 689.126 Q146.274 694.704 142.802 697.806 Q139.33 700.885 133.01 700.885 Q130.834 700.885 128.566 700.515 Q126.32 700.144 123.913 699.403 L123.913 694.704 Q125.996 695.839 128.219 696.394 Q130.441 696.95 132.918 696.95 Q136.922 696.95 139.26 694.843 Q141.598 692.737 141.598 689.126 Q141.598 685.515 139.26 683.408 Q136.922 681.302 132.918 681.302 Q131.043 681.302 129.168 681.718 Q127.316 682.135 125.371 683.015 L125.371 665.654 Z\" fill=\"#000000\" fill-rule=\"evenodd\" fill-opacity=\"1\" /><path clip-path=\"url(#clip910)\" d=\"M58.9365 464.983 Q55.3254 464.983 53.4967 468.547 Q51.6912 472.089 51.6912 479.219 Q51.6912 486.325 53.4967 489.89 Q55.3254 493.432 58.9365 493.432 Q62.5707 493.432 64.3763 489.89 Q66.205 486.325 66.205 479.219 Q66.205 472.089 64.3763 468.547 Q62.5707 464.983 58.9365 464.983 M58.9365 461.279 Q64.7467 461.279 67.8022 465.885 Q70.8809 470.469 70.8809 479.219 Q70.8809 487.945 67.8022 492.552 Q64.7467 497.135 58.9365 497.135 Q53.1264 497.135 50.0477 492.552 Q46.9921 487.945 46.9921 479.219 Q46.9921 470.469 50.0477 465.885 Q53.1264 461.279 58.9365 461.279 Z\" fill=\"#000000\" fill-rule=\"evenodd\" fill-opacity=\"1\" /><path clip-path=\"url(#clip910)\" d=\"M79.0984 490.584 L83.9827 490.584 L83.9827 496.464 L79.0984 496.464 L79.0984 490.584 Z\" fill=\"#000000\" fill-rule=\"evenodd\" fill-opacity=\"1\" /><path clip-path=\"url(#clip910)\" d=\"M94.2141 461.904 L112.57 461.904 L112.57 465.839 L98.4965 465.839 L98.4965 474.311 Q99.515 473.964 100.534 473.802 Q101.552 473.617 102.571 473.617 Q108.358 473.617 111.737 476.788 Q115.117 479.959 115.117 485.376 Q115.117 490.955 111.645 494.057 Q108.172 497.135 101.853 497.135 Q99.677 497.135 97.4085 496.765 Q95.1632 496.395 92.7558 495.654 L92.7558 490.955 Q94.8391 492.089 97.0613 492.645 Q99.2835 493.2 101.76 493.2 Q105.765 493.2 108.103 491.094 Q110.441 488.987 110.441 485.376 Q110.441 481.765 108.103 479.659 Q105.765 477.552 101.76 477.552 Q99.8854 477.552 98.0104 477.969 Q96.1585 478.385 94.2141 479.265 L94.2141 461.904 Z\" fill=\"#000000\" fill-rule=\"evenodd\" fill-opacity=\"1\" /><path clip-path=\"url(#clip910)\" d=\"M134.33 464.983 Q130.719 464.983 128.89 468.547 Q127.084 472.089 127.084 479.219 Q127.084 486.325 128.89 489.89 Q130.719 493.432 134.33 493.432 Q137.964 493.432 139.769 489.89 Q141.598 486.325 141.598 479.219 Q141.598 472.089 139.769 468.547 Q137.964 464.983 134.33 464.983 M134.33 461.279 Q140.14 461.279 143.195 465.885 Q146.274 470.469 146.274 479.219 Q146.274 487.945 143.195 492.552 Q140.14 497.135 134.33 497.135 Q128.519 497.135 125.441 492.552 Q122.385 487.945 122.385 479.219 Q122.385 470.469 125.441 465.885 Q128.519 461.279 134.33 461.279 Z\" fill=\"#000000\" fill-rule=\"evenodd\" fill-opacity=\"1\" /><path clip-path=\"url(#clip910)\" d=\"M59.9319 261.233 Q56.3208 261.233 54.4921 264.798 Q52.6865 268.339 52.6865 275.469 Q52.6865 282.575 54.4921 286.14 Q56.3208 289.682 59.9319 289.682 Q63.5661 289.682 65.3717 286.14 Q67.2004 282.575 67.2004 275.469 Q67.2004 268.339 65.3717 264.798 Q63.5661 261.233 59.9319 261.233 M59.9319 257.529 Q65.742 257.529 68.7976 262.136 Q71.8763 266.719 71.8763 275.469 Q71.8763 284.196 68.7976 288.802 Q65.742 293.386 59.9319 293.386 Q54.1217 293.386 51.043 288.802 Q47.9875 284.196 47.9875 275.469 Q47.9875 266.719 51.043 262.136 Q54.1217 257.529 59.9319 257.529 Z\" fill=\"#000000\" fill-rule=\"evenodd\" fill-opacity=\"1\" /><path clip-path=\"url(#clip910)\" d=\"M80.0938 286.835 L84.978 286.835 L84.978 292.714 L80.0938 292.714 L80.0938 286.835 Z\" fill=\"#000000\" fill-rule=\"evenodd\" fill-opacity=\"1\" /><path clip-path=\"url(#clip910)\" d=\"M93.9826 258.154 L116.205 258.154 L116.205 260.145 L103.658 292.714 L98.7743 292.714 L110.58 262.089 L93.9826 262.089 L93.9826 258.154 Z\" fill=\"#000000\" fill-rule=\"evenodd\" fill-opacity=\"1\" /><path clip-path=\"url(#clip910)\" d=\"M125.371 258.154 L143.728 258.154 L143.728 262.089 L129.654 262.089 L129.654 270.562 Q130.672 270.214 131.691 270.052 Q132.709 269.867 133.728 269.867 Q139.515 269.867 142.894 273.038 Q146.274 276.21 146.274 281.626 Q146.274 287.205 142.802 290.307 Q139.33 293.386 133.01 293.386 Q130.834 293.386 128.566 293.015 Q126.32 292.645 123.913 291.904 L123.913 287.205 Q125.996 288.339 128.219 288.895 Q130.441 289.45 132.918 289.45 Q136.922 289.45 139.26 287.344 Q141.598 285.237 141.598 281.626 Q141.598 278.015 139.26 275.909 Q136.922 273.802 132.918 273.802 Q131.043 273.802 129.168 274.219 Q127.316 274.636 125.371 275.515 L125.371 258.154 Z\" fill=\"#000000\" fill-rule=\"evenodd\" fill-opacity=\"1\" /><path clip-path=\"url(#clip910)\" d=\"M49.7467 85.0294 L57.3856 85.0294 L57.3856 58.6638 L49.0754 60.3305 L49.0754 56.0712 L57.3393 54.4046 L62.0152 54.4046 L62.0152 85.0294 L69.654 85.0294 L69.654 88.9646 L49.7467 88.9646 L49.7467 85.0294 Z\" fill=\"#000000\" fill-rule=\"evenodd\" fill-opacity=\"1\" /><path clip-path=\"url(#clip910)\" d=\"M79.0984 83.085 L83.9827 83.085 L83.9827 88.9646 L79.0984 88.9646 L79.0984 83.085 Z\" fill=\"#000000\" fill-rule=\"evenodd\" fill-opacity=\"1\" /><path clip-path=\"url(#clip910)\" d=\"M104.168 57.4833 Q100.557 57.4833 98.728 61.0481 Q96.9224 64.5897 96.9224 71.7193 Q96.9224 78.8257 98.728 82.3905 Q100.557 85.9322 104.168 85.9322 Q107.802 85.9322 109.608 82.3905 Q111.436 78.8257 111.436 71.7193 Q111.436 64.5897 109.608 61.0481 Q107.802 57.4833 104.168 57.4833 M104.168 53.7796 Q109.978 53.7796 113.033 58.386 Q116.112 62.9693 116.112 71.7193 Q116.112 80.4461 113.033 85.0526 Q109.978 89.6359 104.168 89.6359 Q98.3576 89.6359 95.2789 85.0526 Q92.2234 80.4461 92.2234 71.7193 Q92.2234 62.9693 95.2789 58.386 Q98.3576 53.7796 104.168 53.7796 Z\" fill=\"#000000\" fill-rule=\"evenodd\" fill-opacity=\"1\" /><path clip-path=\"url(#clip910)\" d=\"M134.33 57.4833 Q130.719 57.4833 128.89 61.0481 Q127.084 64.5897 127.084 71.7193 Q127.084 78.8257 128.89 82.3905 Q130.719 85.9322 134.33 85.9322 Q137.964 85.9322 139.769 82.3905 Q141.598 78.8257 141.598 71.7193 Q141.598 64.5897 139.769 61.0481 Q137.964 57.4833 134.33 57.4833 M134.33 53.7796 Q140.14 53.7796 143.195 58.386 Q146.274 62.9693 146.274 71.7193 Q146.274 80.4461 143.195 85.0526 Q140.14 89.6359 134.33 89.6359 Q128.519 89.6359 125.441 85.0526 Q122.385 80.4461 122.385 71.7193 Q122.385 62.9693 125.441 58.386 Q128.519 53.7796 134.33 53.7796 Z\" fill=\"#000000\" fill-rule=\"evenodd\" fill-opacity=\"1\" /><polyline clip-path=\"url(#clip912)\" style=\"stroke:#009af9; stroke-linecap:butt; stroke-linejoin:round; stroke-width:10; stroke-opacity:1; fill:none\" stroke-dasharray=\"40, 25\" points=\"\n",
       "  278.005,71.6846 283.609,831.137 289.214,756.343 294.818,881.228 300.422,840.881 306.027,691.503 311.631,834.172 317.236,860.363 322.84,845.106 328.445,832.98 \n",
       "  334.049,865.379 339.654,861.999 345.258,863.455 350.863,830.255 356.467,881.497 362.072,881.473 367.676,870.399 373.28,868.654 378.885,857.787 384.489,855.298 \n",
       "  390.094,876.17 395.698,872.966 401.303,850.466 406.907,840.332 412.512,823.966 418.116,835.138 423.721,829.202 429.325,883.571 434.929,876.558 440.534,869.997 \n",
       "  446.138,853.617 451.743,868.039 457.347,883.421 462.952,870.917 468.556,873.533 474.161,874.478 479.765,862.238 485.37,847.003 490.974,878.037 496.579,874.28 \n",
       "  502.183,879.864 507.787,875.529 513.392,883.347 518.996,873.925 524.601,881.66 530.205,878.705 535.81,874.294 541.414,883.91 547.019,878.761 552.623,877.524 \n",
       "  558.228,880.006 563.832,880.773 569.436,877.873 575.041,868.771 580.645,882.871 586.25,866.861 591.854,880.478 597.459,881.552 603.063,881.992 608.668,860.77 \n",
       "  614.272,869.126 619.877,884.818 625.481,871.337 631.086,874.885 636.69,871.291 642.294,883.524 647.899,879.161 653.503,875.077 659.108,867.531 664.712,883.191 \n",
       "  670.317,882.595 675.921,878.588 681.526,880.707 687.13,884.747 692.735,879.496 698.339,877.251 703.944,877.825 709.548,885.807 715.152,882.767 720.757,879.868 \n",
       "  726.361,882.097 731.966,884.829 737.57,879.384 743.175,882.806 748.779,879.082 754.384,882.451 759.988,877.002 765.593,871.829 771.197,883.896 776.801,877.804 \n",
       "  782.406,882.108 788.01,885.382 793.615,878.302 799.219,870.09 804.824,884.75 810.428,874.21 816.033,878.99 821.637,885.241 827.242,879.359 832.846,881.7 \n",
       "  838.451,880.969 844.055,877.739 849.659,880.894 855.264,882.705 860.868,883.409 866.473,879.925 872.077,876.626 877.682,882.346 883.286,879.492 888.891,883.977 \n",
       "  894.495,879.735 900.1,877.795 905.704,885.118 911.309,884.412 916.913,883.977 922.517,885.905 928.122,881.057 933.726,871.917 939.331,867.342 944.935,882.382 \n",
       "  950.54,885.47 956.144,881.391 961.749,878.773 967.353,885.098 972.958,880.356 978.562,878.009 984.166,878.495 989.771,883.579 995.375,875.591 1000.98,874.893 \n",
       "  1006.58,884.637 1012.19,882.798 1017.79,884.054 1023.4,882.445 1029,883.27 1034.61,883.897 1040.21,885.456 1045.82,879.564 1051.42,882.563 1057.02,879.936 \n",
       "  1062.63,884.313 1068.23,878.766 1073.84,881.38 1079.44,884.908 1085.05,886.248 1090.65,885.184 1096.26,883.644 1101.86,883.453 1107.46,882.988 1113.07,885.775 \n",
       "  1118.67,879.258 1124.28,881.992 1129.88,873.831 1135.49,883.531 1141.09,879.884 1146.7,883.505 1152.3,877.306 1157.9,884.79 1163.51,882.541 1169.11,882.366 \n",
       "  1174.72,884.968 1180.32,881.118 1185.93,878.901 1191.53,881.637 1197.14,872.048 1202.74,881.267 1208.34,883.751 1213.95,882.213 1219.55,880.308 1225.16,882.841 \n",
       "  1230.76,873.519 1236.37,873.008 1241.97,885.875 1247.58,882.31 1253.18,883.048 1258.78,880.811 1264.39,880.626 1269.99,881.23 1275.6,886.03 1281.2,884.872 \n",
       "  1286.81,878.883 1292.41,881.239 1298.02,871.539 1303.62,869.841 1309.23,872.828 1314.83,880.46 1320.43,885.432 1326.04,879.793 1331.64,882.77 1337.25,885.124 \n",
       "  1342.85,886.34 1348.46,882.281 1354.06,883.42 1359.67,881.927 1365.27,883.061 1370.87,880.702 1376.48,882.246 1382.08,880.238 1387.69,878.7 1393.29,885.213 \n",
       "  1398.9,881.701 1404.5,881.283 1410.11,866.6 1415.71,880.155 1421.31,874.845 1426.92,880.183 1432.52,884.12 1438.13,880.23 1443.73,885.121 1449.34,876.204 \n",
       "  1454.94,884.461 1460.55,881.925 1466.15,868.266 1471.75,881.297 1477.36,884.173 1482.96,876.178 1488.57,878.577 1494.17,877.596 1499.78,883.878 1505.38,878.443 \n",
       "  1510.99,880.331 1516.59,880.099 1522.19,882.992 1527.8,880.8 1533.4,879.053 1539.01,884.499 1544.61,880.552 1550.22,877.627 1555.82,880.512 1561.43,880.99 \n",
       "  1567.03,878.67 1572.63,881.105 1578.24,885.655 1583.84,885.4 1589.45,882.032 1595.05,884.92 1600.66,880.912 1606.26,869.366 1611.87,881.88 1617.47,882.795 \n",
       "  1623.07,870.372 1628.68,880.762 1634.28,878.555 1639.89,882.017 1645.49,883.223 1651.1,882.27 1656.7,881.602 1662.31,885.254 1667.91,884.73 1673.51,874.75 \n",
       "  1679.12,879.78 1684.72,878.351 1690.33,879.782 1695.93,877.908 1701.54,880.507 1707.14,883.639 1712.75,882.05 1718.35,882.822 1723.96,875.004 1729.56,883.057 \n",
       "  1735.16,883.672 1740.77,877.471 1746.37,882.832 1751.98,884.03 1757.58,882.773 1763.19,885.5 1768.79,877.853 1774.4,885.666 1780,873.763 1785.6,882.585 \n",
       "  1791.21,882.943 1796.81,881.811 1802.42,874.646 1808.02,882.935 1813.63,885.152 1819.23,885.054 1824.84,875.885 1830.44,881.458 1836.04,884.878 1841.65,870.476 \n",
       "  1847.25,882.772 1852.86,885.856 1858.46,883.239 1864.07,877.871 1869.67,875.04 1875.28,884.906 1880.88,879.875 1886.48,883.442 1892.09,876.047 1897.69,879.936 \n",
       "  1903.3,882.146 1908.9,883.698 1914.51,879.684 1920.11,882.339 1925.72,878.622 1931.32,885.495 1936.92,879.096 1942.53,883.221 1948.13,875.956 1953.74,874.793 \n",
       "  1959.34,881.089 1964.95,882.833 1970.55,883.74 1976.16,878.751 1981.76,878.119 1987.36,878.574 1992.97,884.274 1998.57,880.385 2004.18,879.169 2009.78,879.712 \n",
       "  2015.39,881.156 2020.99,868.784 2026.6,885.096 2032.2,878.419 2037.8,882.103 2043.41,885.604 2049.01,883.366 2054.62,879.55 2060.22,880.882 2065.83,875.905 \n",
       "  2071.43,881.759 2077.04,883.658 2082.64,875.689 2088.24,883.062 2093.85,874.571 2099.45,880.277 2105.06,875.993 2110.66,874.707 2116.27,876.148 2121.87,881.655 \n",
       "  2127.48,878.444 2133.08,877.425 2138.69,878.395 2144.29,884.608 2149.89,877.215 2155.5,879.483 2161.1,873.554 2166.71,882.228 2172.31,869.709 2177.92,878.368 \n",
       "  2183.52,883.931 2189.13,884.271 2194.73,877.663 2200.33,882.812 2205.94,882.958 2211.54,881.515 2217.15,880.264 2222.75,875.588 2228.36,883.108 2233.96,879.504 \n",
       "  2239.57,881.927 2245.17,875.875 2250.77,872.735 2256.38,875.979 2261.98,881.01 2267.59,880.144 2273.19,880.715 2278.8,879.906 2284.4,882.402 2290.01,881.682 \n",
       "  2295.61,882.36 2301.21,878.377 2306.82,875.137 2312.42,874.8 2318.03,881.746 2323.63,886.061 2329.24,882.637 2334.84,879.924 2340.45,882.859 2346.05,881.281 \n",
       "  2351.65,881.901 2357.26,874.556 2362.86,882.609 2368.47,880.867 2374.07,884.613 2379.68,883.54 2385.28,884.293 2390.89,882.613 2396.49,885.687 2402.09,884.955 \n",
       "  2407.7,878.576 2413.3,877.881 2418.91,885.311 2424.51,883.806 2430.12,872.651 2435.72,879.27 2441.33,885.683 2446.93,881.536 2452.53,873.414 2458.14,883.354 \n",
       "  2463.74,880.821 2469.35,884.029 2474.95,886.367 2480.56,880.901 2486.16,884.569 2491.77,854.714 2497.37,881.188 2502.97,878.762 2508.58,877.117 2514.18,871.581 \n",
       "  2519.79,865.165 2525.39,878.558 2531,877.732 2536.6,884.915 2542.21,884.357 2547.81,877.681 2553.42,871.782 2559.02,872.608 2564.62,875.033 2570.23,871.286 \n",
       "  2575.83,870.529 2581.44,874.779 2587.04,867.53 2592.65,875.853 2598.25,864.002 2603.86,869.73 2609.46,872.593 2615.06,862.14 2620.67,870.299 2626.27,876.788 \n",
       "  2631.88,878.401 2637.48,854.953 2643.09,860.18 2648.69,876.357 2654.3,881.264 2659.9,880.679 2665.5,876.544 2671.11,877.036 2676.71,859.106 2682.32,867.475 \n",
       "  2687.92,866.921 2693.53,877.107 2699.13,877.519 2704.74,884.649 2710.34,883.681 2715.94,880.035 2721.55,884.18 2727.15,883.135 2732.76,855.517 2738.36,875.876 \n",
       "  2743.97,862.392 2749.57,862.737 2755.18,881.898 2760.78,878.327 2766.38,873.748 2771.99,867.402 2777.59,849.334 2783.2,885.861 2788.8,877.482 2794.41,876.501 \n",
       "  2800.01,867.708 2805.62,858.229 2811.22,865.264 2816.82,872.204 2822.43,870.326 2828.03,870.979 2833.64,867.58 2839.24,862.506 2844.85,827.439 2850.45,881.63 \n",
       "  2856.06,880.788 2861.66,855.659 2867.26,857.006 2872.87,879.11 2878.47,864.081 2884.08,882.932 2889.68,875.619 2895.29,874.053 2900.89,875.223 2906.5,860.259 \n",
       "  2912.1,842.741 2917.7,882.036 2923.31,812.135 2928.91,871.741 2934.52,856.64 2940.12,848.121 2945.73,865.141 2951.33,878.733 2956.94,882.009 2962.54,829.279 \n",
       "  2968.15,874.233 2973.75,865.929 2979.35,862.814 2984.96,780.878 2990.56,858.074 2996.17,861.362 3001.77,828.86 3007.38,856.573 3012.98,813.014 3018.59,858.288 \n",
       "  3024.19,814.356 3029.79,860.978 3035.4,786.713 3041,791.135 3046.61,742.829 3052.21,797.181 3057.82,807.409 3063.42,550.057 3069.03,402.349 \n",
       "  \"/>\n",
       "<circle clip-path=\"url(#clip912)\" cx=\"278.005\" cy=\"71.6846\" r=\"14\" fill=\"#cd5c5c\" fill-rule=\"evenodd\" fill-opacity=\"1\" stroke=\"none\"/>\n",
       "<circle clip-path=\"url(#clip912)\" cx=\"283.609\" cy=\"831.137\" r=\"14\" fill=\"#cd5c5c\" fill-rule=\"evenodd\" fill-opacity=\"1\" stroke=\"none\"/>\n",
       "<circle clip-path=\"url(#clip912)\" cx=\"289.214\" cy=\"756.343\" r=\"14\" fill=\"#cd5c5c\" fill-rule=\"evenodd\" fill-opacity=\"1\" stroke=\"none\"/>\n",
       "<circle clip-path=\"url(#clip912)\" cx=\"294.818\" cy=\"881.228\" r=\"14\" fill=\"#cd5c5c\" fill-rule=\"evenodd\" fill-opacity=\"1\" stroke=\"none\"/>\n",
       "<circle clip-path=\"url(#clip912)\" cx=\"300.422\" cy=\"840.881\" r=\"14\" fill=\"#cd5c5c\" fill-rule=\"evenodd\" fill-opacity=\"1\" stroke=\"none\"/>\n",
       "<circle clip-path=\"url(#clip912)\" cx=\"306.027\" cy=\"691.503\" r=\"14\" fill=\"#cd5c5c\" fill-rule=\"evenodd\" fill-opacity=\"1\" stroke=\"none\"/>\n",
       "<circle clip-path=\"url(#clip912)\" cx=\"311.631\" cy=\"834.172\" r=\"14\" fill=\"#cd5c5c\" fill-rule=\"evenodd\" fill-opacity=\"1\" stroke=\"none\"/>\n",
       "<circle clip-path=\"url(#clip912)\" cx=\"317.236\" cy=\"860.363\" r=\"14\" fill=\"#cd5c5c\" fill-rule=\"evenodd\" fill-opacity=\"1\" stroke=\"none\"/>\n",
       "<circle clip-path=\"url(#clip912)\" cx=\"322.84\" cy=\"845.106\" r=\"14\" fill=\"#cd5c5c\" fill-rule=\"evenodd\" fill-opacity=\"1\" stroke=\"none\"/>\n",
       "<circle clip-path=\"url(#clip912)\" cx=\"328.445\" cy=\"832.98\" r=\"14\" fill=\"#cd5c5c\" fill-rule=\"evenodd\" fill-opacity=\"1\" stroke=\"none\"/>\n",
       "<circle clip-path=\"url(#clip912)\" cx=\"334.049\" cy=\"865.379\" r=\"14\" fill=\"#cd5c5c\" fill-rule=\"evenodd\" fill-opacity=\"1\" stroke=\"none\"/>\n",
       "<circle clip-path=\"url(#clip912)\" cx=\"339.654\" cy=\"861.999\" r=\"14\" fill=\"#cd5c5c\" fill-rule=\"evenodd\" fill-opacity=\"1\" stroke=\"none\"/>\n",
       "<circle clip-path=\"url(#clip912)\" cx=\"345.258\" cy=\"863.455\" r=\"14\" fill=\"#cd5c5c\" fill-rule=\"evenodd\" fill-opacity=\"1\" stroke=\"none\"/>\n",
       "<circle clip-path=\"url(#clip912)\" cx=\"350.863\" cy=\"830.255\" r=\"14\" fill=\"#cd5c5c\" fill-rule=\"evenodd\" fill-opacity=\"1\" stroke=\"none\"/>\n",
       "<circle clip-path=\"url(#clip912)\" cx=\"356.467\" cy=\"881.497\" r=\"14\" fill=\"#cd5c5c\" fill-rule=\"evenodd\" fill-opacity=\"1\" stroke=\"none\"/>\n",
       "<circle clip-path=\"url(#clip912)\" cx=\"362.072\" cy=\"881.473\" r=\"14\" fill=\"#cd5c5c\" fill-rule=\"evenodd\" fill-opacity=\"1\" stroke=\"none\"/>\n",
       "<circle clip-path=\"url(#clip912)\" cx=\"367.676\" cy=\"870.399\" r=\"14\" fill=\"#cd5c5c\" fill-rule=\"evenodd\" fill-opacity=\"1\" stroke=\"none\"/>\n",
       "<circle clip-path=\"url(#clip912)\" cx=\"373.28\" cy=\"868.654\" r=\"14\" fill=\"#cd5c5c\" fill-rule=\"evenodd\" fill-opacity=\"1\" stroke=\"none\"/>\n",
       "<circle clip-path=\"url(#clip912)\" cx=\"378.885\" cy=\"857.787\" r=\"14\" fill=\"#cd5c5c\" fill-rule=\"evenodd\" fill-opacity=\"1\" stroke=\"none\"/>\n",
       "<circle clip-path=\"url(#clip912)\" cx=\"384.489\" cy=\"855.298\" r=\"14\" fill=\"#cd5c5c\" fill-rule=\"evenodd\" fill-opacity=\"1\" stroke=\"none\"/>\n",
       "<circle clip-path=\"url(#clip912)\" cx=\"390.094\" cy=\"876.17\" r=\"14\" fill=\"#cd5c5c\" fill-rule=\"evenodd\" fill-opacity=\"1\" stroke=\"none\"/>\n",
       "<circle clip-path=\"url(#clip912)\" cx=\"395.698\" cy=\"872.966\" r=\"14\" fill=\"#cd5c5c\" fill-rule=\"evenodd\" fill-opacity=\"1\" stroke=\"none\"/>\n",
       "<circle clip-path=\"url(#clip912)\" cx=\"401.303\" cy=\"850.466\" r=\"14\" fill=\"#cd5c5c\" fill-rule=\"evenodd\" fill-opacity=\"1\" stroke=\"none\"/>\n",
       "<circle clip-path=\"url(#clip912)\" cx=\"406.907\" cy=\"840.332\" r=\"14\" fill=\"#cd5c5c\" fill-rule=\"evenodd\" fill-opacity=\"1\" stroke=\"none\"/>\n",
       "<circle clip-path=\"url(#clip912)\" cx=\"412.512\" cy=\"823.966\" r=\"14\" fill=\"#cd5c5c\" fill-rule=\"evenodd\" fill-opacity=\"1\" stroke=\"none\"/>\n",
       "<circle clip-path=\"url(#clip912)\" cx=\"418.116\" cy=\"835.138\" r=\"14\" fill=\"#cd5c5c\" fill-rule=\"evenodd\" fill-opacity=\"1\" stroke=\"none\"/>\n",
       "<circle clip-path=\"url(#clip912)\" cx=\"423.721\" cy=\"829.202\" r=\"14\" fill=\"#cd5c5c\" fill-rule=\"evenodd\" fill-opacity=\"1\" stroke=\"none\"/>\n",
       "<circle clip-path=\"url(#clip912)\" cx=\"429.325\" cy=\"883.571\" r=\"14\" fill=\"#cd5c5c\" fill-rule=\"evenodd\" fill-opacity=\"1\" stroke=\"none\"/>\n",
       "<circle clip-path=\"url(#clip912)\" cx=\"434.929\" cy=\"876.558\" r=\"14\" fill=\"#cd5c5c\" fill-rule=\"evenodd\" fill-opacity=\"1\" stroke=\"none\"/>\n",
       "<circle clip-path=\"url(#clip912)\" cx=\"440.534\" cy=\"869.997\" r=\"14\" fill=\"#cd5c5c\" fill-rule=\"evenodd\" fill-opacity=\"1\" stroke=\"none\"/>\n",
       "<circle clip-path=\"url(#clip912)\" cx=\"446.138\" cy=\"853.617\" r=\"14\" fill=\"#cd5c5c\" fill-rule=\"evenodd\" fill-opacity=\"1\" stroke=\"none\"/>\n",
       "<circle clip-path=\"url(#clip912)\" cx=\"451.743\" cy=\"868.039\" r=\"14\" fill=\"#cd5c5c\" fill-rule=\"evenodd\" fill-opacity=\"1\" stroke=\"none\"/>\n",
       "<circle clip-path=\"url(#clip912)\" cx=\"457.347\" cy=\"883.421\" r=\"14\" fill=\"#cd5c5c\" fill-rule=\"evenodd\" fill-opacity=\"1\" stroke=\"none\"/>\n",
       "<circle clip-path=\"url(#clip912)\" cx=\"462.952\" cy=\"870.917\" r=\"14\" fill=\"#cd5c5c\" fill-rule=\"evenodd\" fill-opacity=\"1\" stroke=\"none\"/>\n",
       "<circle clip-path=\"url(#clip912)\" cx=\"468.556\" cy=\"873.533\" r=\"14\" fill=\"#cd5c5c\" fill-rule=\"evenodd\" fill-opacity=\"1\" stroke=\"none\"/>\n",
       "<circle clip-path=\"url(#clip912)\" cx=\"474.161\" cy=\"874.478\" r=\"14\" fill=\"#cd5c5c\" fill-rule=\"evenodd\" fill-opacity=\"1\" stroke=\"none\"/>\n",
       "<circle clip-path=\"url(#clip912)\" cx=\"479.765\" cy=\"862.238\" r=\"14\" fill=\"#cd5c5c\" fill-rule=\"evenodd\" fill-opacity=\"1\" stroke=\"none\"/>\n",
       "<circle clip-path=\"url(#clip912)\" cx=\"485.37\" cy=\"847.003\" r=\"14\" fill=\"#cd5c5c\" fill-rule=\"evenodd\" fill-opacity=\"1\" stroke=\"none\"/>\n",
       "<circle clip-path=\"url(#clip912)\" cx=\"490.974\" cy=\"878.037\" r=\"14\" fill=\"#cd5c5c\" fill-rule=\"evenodd\" fill-opacity=\"1\" stroke=\"none\"/>\n",
       "<circle clip-path=\"url(#clip912)\" cx=\"496.579\" cy=\"874.28\" r=\"14\" fill=\"#cd5c5c\" fill-rule=\"evenodd\" fill-opacity=\"1\" stroke=\"none\"/>\n",
       "<circle clip-path=\"url(#clip912)\" cx=\"502.183\" cy=\"879.864\" r=\"14\" fill=\"#cd5c5c\" fill-rule=\"evenodd\" fill-opacity=\"1\" stroke=\"none\"/>\n",
       "<circle clip-path=\"url(#clip912)\" cx=\"507.787\" cy=\"875.529\" r=\"14\" fill=\"#cd5c5c\" fill-rule=\"evenodd\" fill-opacity=\"1\" stroke=\"none\"/>\n",
       "<circle clip-path=\"url(#clip912)\" cx=\"513.392\" cy=\"883.347\" r=\"14\" fill=\"#cd5c5c\" fill-rule=\"evenodd\" fill-opacity=\"1\" stroke=\"none\"/>\n",
       "<circle clip-path=\"url(#clip912)\" cx=\"518.996\" cy=\"873.925\" r=\"14\" fill=\"#cd5c5c\" fill-rule=\"evenodd\" fill-opacity=\"1\" stroke=\"none\"/>\n",
       "<circle clip-path=\"url(#clip912)\" cx=\"524.601\" cy=\"881.66\" r=\"14\" fill=\"#cd5c5c\" fill-rule=\"evenodd\" fill-opacity=\"1\" stroke=\"none\"/>\n",
       "<circle clip-path=\"url(#clip912)\" cx=\"530.205\" cy=\"878.705\" r=\"14\" fill=\"#cd5c5c\" fill-rule=\"evenodd\" fill-opacity=\"1\" stroke=\"none\"/>\n",
       "<circle clip-path=\"url(#clip912)\" cx=\"535.81\" cy=\"874.294\" r=\"14\" fill=\"#cd5c5c\" fill-rule=\"evenodd\" fill-opacity=\"1\" stroke=\"none\"/>\n",
       "<circle clip-path=\"url(#clip912)\" cx=\"541.414\" cy=\"883.91\" r=\"14\" fill=\"#cd5c5c\" fill-rule=\"evenodd\" fill-opacity=\"1\" stroke=\"none\"/>\n",
       "<circle clip-path=\"url(#clip912)\" cx=\"547.019\" cy=\"878.761\" r=\"14\" fill=\"#cd5c5c\" fill-rule=\"evenodd\" fill-opacity=\"1\" stroke=\"none\"/>\n",
       "<circle clip-path=\"url(#clip912)\" cx=\"552.623\" cy=\"877.524\" r=\"14\" fill=\"#cd5c5c\" fill-rule=\"evenodd\" fill-opacity=\"1\" stroke=\"none\"/>\n",
       "<circle clip-path=\"url(#clip912)\" cx=\"558.228\" cy=\"880.006\" r=\"14\" fill=\"#cd5c5c\" fill-rule=\"evenodd\" fill-opacity=\"1\" stroke=\"none\"/>\n",
       "<circle clip-path=\"url(#clip912)\" cx=\"563.832\" cy=\"880.773\" r=\"14\" fill=\"#cd5c5c\" fill-rule=\"evenodd\" fill-opacity=\"1\" stroke=\"none\"/>\n",
       "<circle clip-path=\"url(#clip912)\" cx=\"569.436\" cy=\"877.873\" r=\"14\" fill=\"#cd5c5c\" fill-rule=\"evenodd\" fill-opacity=\"1\" stroke=\"none\"/>\n",
       "<circle clip-path=\"url(#clip912)\" cx=\"575.041\" cy=\"868.771\" r=\"14\" fill=\"#cd5c5c\" fill-rule=\"evenodd\" fill-opacity=\"1\" stroke=\"none\"/>\n",
       "<circle clip-path=\"url(#clip912)\" cx=\"580.645\" cy=\"882.871\" r=\"14\" fill=\"#cd5c5c\" fill-rule=\"evenodd\" fill-opacity=\"1\" stroke=\"none\"/>\n",
       "<circle clip-path=\"url(#clip912)\" cx=\"586.25\" cy=\"866.861\" r=\"14\" fill=\"#cd5c5c\" fill-rule=\"evenodd\" fill-opacity=\"1\" stroke=\"none\"/>\n",
       "<circle clip-path=\"url(#clip912)\" cx=\"591.854\" cy=\"880.478\" r=\"14\" fill=\"#cd5c5c\" fill-rule=\"evenodd\" fill-opacity=\"1\" stroke=\"none\"/>\n",
       "<circle clip-path=\"url(#clip912)\" cx=\"597.459\" cy=\"881.552\" r=\"14\" fill=\"#cd5c5c\" fill-rule=\"evenodd\" fill-opacity=\"1\" stroke=\"none\"/>\n",
       "<circle clip-path=\"url(#clip912)\" cx=\"603.063\" cy=\"881.992\" r=\"14\" fill=\"#cd5c5c\" fill-rule=\"evenodd\" fill-opacity=\"1\" stroke=\"none\"/>\n",
       "<circle clip-path=\"url(#clip912)\" cx=\"608.668\" cy=\"860.77\" r=\"14\" fill=\"#cd5c5c\" fill-rule=\"evenodd\" fill-opacity=\"1\" stroke=\"none\"/>\n",
       "<circle clip-path=\"url(#clip912)\" cx=\"614.272\" cy=\"869.126\" r=\"14\" fill=\"#cd5c5c\" fill-rule=\"evenodd\" fill-opacity=\"1\" stroke=\"none\"/>\n",
       "<circle clip-path=\"url(#clip912)\" cx=\"619.877\" cy=\"884.818\" r=\"14\" fill=\"#cd5c5c\" fill-rule=\"evenodd\" fill-opacity=\"1\" stroke=\"none\"/>\n",
       "<circle clip-path=\"url(#clip912)\" cx=\"625.481\" cy=\"871.337\" r=\"14\" fill=\"#cd5c5c\" fill-rule=\"evenodd\" fill-opacity=\"1\" stroke=\"none\"/>\n",
       "<circle clip-path=\"url(#clip912)\" cx=\"631.086\" cy=\"874.885\" r=\"14\" fill=\"#cd5c5c\" fill-rule=\"evenodd\" fill-opacity=\"1\" stroke=\"none\"/>\n",
       "<circle clip-path=\"url(#clip912)\" cx=\"636.69\" cy=\"871.291\" r=\"14\" fill=\"#cd5c5c\" fill-rule=\"evenodd\" fill-opacity=\"1\" stroke=\"none\"/>\n",
       "<circle clip-path=\"url(#clip912)\" cx=\"642.294\" cy=\"883.524\" r=\"14\" fill=\"#cd5c5c\" fill-rule=\"evenodd\" fill-opacity=\"1\" stroke=\"none\"/>\n",
       "<circle clip-path=\"url(#clip912)\" cx=\"647.899\" cy=\"879.161\" r=\"14\" fill=\"#cd5c5c\" fill-rule=\"evenodd\" fill-opacity=\"1\" stroke=\"none\"/>\n",
       "<circle clip-path=\"url(#clip912)\" cx=\"653.503\" cy=\"875.077\" r=\"14\" fill=\"#cd5c5c\" fill-rule=\"evenodd\" fill-opacity=\"1\" stroke=\"none\"/>\n",
       "<circle clip-path=\"url(#clip912)\" cx=\"659.108\" cy=\"867.531\" r=\"14\" fill=\"#cd5c5c\" fill-rule=\"evenodd\" fill-opacity=\"1\" stroke=\"none\"/>\n",
       "<circle clip-path=\"url(#clip912)\" cx=\"664.712\" cy=\"883.191\" r=\"14\" fill=\"#cd5c5c\" fill-rule=\"evenodd\" fill-opacity=\"1\" stroke=\"none\"/>\n",
       "<circle clip-path=\"url(#clip912)\" cx=\"670.317\" cy=\"882.595\" r=\"14\" fill=\"#cd5c5c\" fill-rule=\"evenodd\" fill-opacity=\"1\" stroke=\"none\"/>\n",
       "<circle clip-path=\"url(#clip912)\" cx=\"675.921\" cy=\"878.588\" r=\"14\" fill=\"#cd5c5c\" fill-rule=\"evenodd\" fill-opacity=\"1\" stroke=\"none\"/>\n",
       "<circle clip-path=\"url(#clip912)\" cx=\"681.526\" cy=\"880.707\" r=\"14\" fill=\"#cd5c5c\" fill-rule=\"evenodd\" fill-opacity=\"1\" stroke=\"none\"/>\n",
       "<circle clip-path=\"url(#clip912)\" cx=\"687.13\" cy=\"884.747\" r=\"14\" fill=\"#cd5c5c\" fill-rule=\"evenodd\" fill-opacity=\"1\" stroke=\"none\"/>\n",
       "<circle clip-path=\"url(#clip912)\" cx=\"692.735\" cy=\"879.496\" r=\"14\" fill=\"#cd5c5c\" fill-rule=\"evenodd\" fill-opacity=\"1\" stroke=\"none\"/>\n",
       "<circle clip-path=\"url(#clip912)\" cx=\"698.339\" cy=\"877.251\" r=\"14\" fill=\"#cd5c5c\" fill-rule=\"evenodd\" fill-opacity=\"1\" stroke=\"none\"/>\n",
       "<circle clip-path=\"url(#clip912)\" cx=\"703.944\" cy=\"877.825\" r=\"14\" fill=\"#cd5c5c\" fill-rule=\"evenodd\" fill-opacity=\"1\" stroke=\"none\"/>\n",
       "<circle clip-path=\"url(#clip912)\" cx=\"709.548\" cy=\"885.807\" r=\"14\" fill=\"#cd5c5c\" fill-rule=\"evenodd\" fill-opacity=\"1\" stroke=\"none\"/>\n",
       "<circle clip-path=\"url(#clip912)\" cx=\"715.152\" cy=\"882.767\" r=\"14\" fill=\"#cd5c5c\" fill-rule=\"evenodd\" fill-opacity=\"1\" stroke=\"none\"/>\n",
       "<circle clip-path=\"url(#clip912)\" cx=\"720.757\" cy=\"879.868\" r=\"14\" fill=\"#cd5c5c\" fill-rule=\"evenodd\" fill-opacity=\"1\" stroke=\"none\"/>\n",
       "<circle clip-path=\"url(#clip912)\" cx=\"726.361\" cy=\"882.097\" r=\"14\" fill=\"#cd5c5c\" fill-rule=\"evenodd\" fill-opacity=\"1\" stroke=\"none\"/>\n",
       "<circle clip-path=\"url(#clip912)\" cx=\"731.966\" cy=\"884.829\" r=\"14\" fill=\"#cd5c5c\" fill-rule=\"evenodd\" fill-opacity=\"1\" stroke=\"none\"/>\n",
       "<circle clip-path=\"url(#clip912)\" cx=\"737.57\" cy=\"879.384\" r=\"14\" fill=\"#cd5c5c\" fill-rule=\"evenodd\" fill-opacity=\"1\" stroke=\"none\"/>\n",
       "<circle clip-path=\"url(#clip912)\" cx=\"743.175\" cy=\"882.806\" r=\"14\" fill=\"#cd5c5c\" fill-rule=\"evenodd\" fill-opacity=\"1\" stroke=\"none\"/>\n",
       "<circle clip-path=\"url(#clip912)\" cx=\"748.779\" cy=\"879.082\" r=\"14\" fill=\"#cd5c5c\" fill-rule=\"evenodd\" fill-opacity=\"1\" stroke=\"none\"/>\n",
       "<circle clip-path=\"url(#clip912)\" cx=\"754.384\" cy=\"882.451\" r=\"14\" fill=\"#cd5c5c\" fill-rule=\"evenodd\" fill-opacity=\"1\" stroke=\"none\"/>\n",
       "<circle clip-path=\"url(#clip912)\" cx=\"759.988\" cy=\"877.002\" r=\"14\" fill=\"#cd5c5c\" fill-rule=\"evenodd\" fill-opacity=\"1\" stroke=\"none\"/>\n",
       "<circle clip-path=\"url(#clip912)\" cx=\"765.593\" cy=\"871.829\" r=\"14\" fill=\"#cd5c5c\" fill-rule=\"evenodd\" fill-opacity=\"1\" stroke=\"none\"/>\n",
       "<circle clip-path=\"url(#clip912)\" cx=\"771.197\" cy=\"883.896\" r=\"14\" fill=\"#cd5c5c\" fill-rule=\"evenodd\" fill-opacity=\"1\" stroke=\"none\"/>\n",
       "<circle clip-path=\"url(#clip912)\" cx=\"776.801\" cy=\"877.804\" r=\"14\" fill=\"#cd5c5c\" fill-rule=\"evenodd\" fill-opacity=\"1\" stroke=\"none\"/>\n",
       "<circle clip-path=\"url(#clip912)\" cx=\"782.406\" cy=\"882.108\" r=\"14\" fill=\"#cd5c5c\" fill-rule=\"evenodd\" fill-opacity=\"1\" stroke=\"none\"/>\n",
       "<circle clip-path=\"url(#clip912)\" cx=\"788.01\" cy=\"885.382\" r=\"14\" fill=\"#cd5c5c\" fill-rule=\"evenodd\" fill-opacity=\"1\" stroke=\"none\"/>\n",
       "<circle clip-path=\"url(#clip912)\" cx=\"793.615\" cy=\"878.302\" r=\"14\" fill=\"#cd5c5c\" fill-rule=\"evenodd\" fill-opacity=\"1\" stroke=\"none\"/>\n",
       "<circle clip-path=\"url(#clip912)\" cx=\"799.219\" cy=\"870.09\" r=\"14\" fill=\"#cd5c5c\" fill-rule=\"evenodd\" fill-opacity=\"1\" stroke=\"none\"/>\n",
       "<circle clip-path=\"url(#clip912)\" cx=\"804.824\" cy=\"884.75\" r=\"14\" fill=\"#cd5c5c\" fill-rule=\"evenodd\" fill-opacity=\"1\" stroke=\"none\"/>\n",
       "<circle clip-path=\"url(#clip912)\" cx=\"810.428\" cy=\"874.21\" r=\"14\" fill=\"#cd5c5c\" fill-rule=\"evenodd\" fill-opacity=\"1\" stroke=\"none\"/>\n",
       "<circle clip-path=\"url(#clip912)\" cx=\"816.033\" cy=\"878.99\" r=\"14\" fill=\"#cd5c5c\" fill-rule=\"evenodd\" fill-opacity=\"1\" stroke=\"none\"/>\n",
       "<circle clip-path=\"url(#clip912)\" cx=\"821.637\" cy=\"885.241\" r=\"14\" fill=\"#cd5c5c\" fill-rule=\"evenodd\" fill-opacity=\"1\" stroke=\"none\"/>\n",
       "<circle clip-path=\"url(#clip912)\" cx=\"827.242\" cy=\"879.359\" r=\"14\" fill=\"#cd5c5c\" fill-rule=\"evenodd\" fill-opacity=\"1\" stroke=\"none\"/>\n",
       "<circle clip-path=\"url(#clip912)\" cx=\"832.846\" cy=\"881.7\" r=\"14\" fill=\"#cd5c5c\" fill-rule=\"evenodd\" fill-opacity=\"1\" stroke=\"none\"/>\n",
       "<circle clip-path=\"url(#clip912)\" cx=\"838.451\" cy=\"880.969\" r=\"14\" fill=\"#cd5c5c\" fill-rule=\"evenodd\" fill-opacity=\"1\" stroke=\"none\"/>\n",
       "<circle clip-path=\"url(#clip912)\" cx=\"844.055\" cy=\"877.739\" r=\"14\" fill=\"#cd5c5c\" fill-rule=\"evenodd\" fill-opacity=\"1\" stroke=\"none\"/>\n",
       "<circle clip-path=\"url(#clip912)\" cx=\"849.659\" cy=\"880.894\" r=\"14\" fill=\"#cd5c5c\" fill-rule=\"evenodd\" fill-opacity=\"1\" stroke=\"none\"/>\n",
       "<circle clip-path=\"url(#clip912)\" cx=\"855.264\" cy=\"882.705\" r=\"14\" fill=\"#cd5c5c\" fill-rule=\"evenodd\" fill-opacity=\"1\" stroke=\"none\"/>\n",
       "<circle clip-path=\"url(#clip912)\" cx=\"860.868\" cy=\"883.409\" r=\"14\" fill=\"#cd5c5c\" fill-rule=\"evenodd\" fill-opacity=\"1\" stroke=\"none\"/>\n",
       "<circle clip-path=\"url(#clip912)\" cx=\"866.473\" cy=\"879.925\" r=\"14\" fill=\"#cd5c5c\" fill-rule=\"evenodd\" fill-opacity=\"1\" stroke=\"none\"/>\n",
       "<circle clip-path=\"url(#clip912)\" cx=\"872.077\" cy=\"876.626\" r=\"14\" fill=\"#cd5c5c\" fill-rule=\"evenodd\" fill-opacity=\"1\" stroke=\"none\"/>\n",
       "<circle clip-path=\"url(#clip912)\" cx=\"877.682\" cy=\"882.346\" r=\"14\" fill=\"#cd5c5c\" fill-rule=\"evenodd\" fill-opacity=\"1\" stroke=\"none\"/>\n",
       "<circle clip-path=\"url(#clip912)\" cx=\"883.286\" cy=\"879.492\" r=\"14\" fill=\"#cd5c5c\" fill-rule=\"evenodd\" fill-opacity=\"1\" stroke=\"none\"/>\n",
       "<circle clip-path=\"url(#clip912)\" cx=\"888.891\" cy=\"883.977\" r=\"14\" fill=\"#cd5c5c\" fill-rule=\"evenodd\" fill-opacity=\"1\" stroke=\"none\"/>\n",
       "<circle clip-path=\"url(#clip912)\" cx=\"894.495\" cy=\"879.735\" r=\"14\" fill=\"#cd5c5c\" fill-rule=\"evenodd\" fill-opacity=\"1\" stroke=\"none\"/>\n",
       "<circle clip-path=\"url(#clip912)\" cx=\"900.1\" cy=\"877.795\" r=\"14\" fill=\"#cd5c5c\" fill-rule=\"evenodd\" fill-opacity=\"1\" stroke=\"none\"/>\n",
       "<circle clip-path=\"url(#clip912)\" cx=\"905.704\" cy=\"885.118\" r=\"14\" fill=\"#cd5c5c\" fill-rule=\"evenodd\" fill-opacity=\"1\" stroke=\"none\"/>\n",
       "<circle clip-path=\"url(#clip912)\" cx=\"911.309\" cy=\"884.412\" r=\"14\" fill=\"#cd5c5c\" fill-rule=\"evenodd\" fill-opacity=\"1\" stroke=\"none\"/>\n",
       "<circle clip-path=\"url(#clip912)\" cx=\"916.913\" cy=\"883.977\" r=\"14\" fill=\"#cd5c5c\" fill-rule=\"evenodd\" fill-opacity=\"1\" stroke=\"none\"/>\n",
       "<circle clip-path=\"url(#clip912)\" cx=\"922.517\" cy=\"885.905\" r=\"14\" fill=\"#cd5c5c\" fill-rule=\"evenodd\" fill-opacity=\"1\" stroke=\"none\"/>\n",
       "<circle clip-path=\"url(#clip912)\" cx=\"928.122\" cy=\"881.057\" r=\"14\" fill=\"#cd5c5c\" fill-rule=\"evenodd\" fill-opacity=\"1\" stroke=\"none\"/>\n",
       "<circle clip-path=\"url(#clip912)\" cx=\"933.726\" cy=\"871.917\" r=\"14\" fill=\"#cd5c5c\" fill-rule=\"evenodd\" fill-opacity=\"1\" stroke=\"none\"/>\n",
       "<circle clip-path=\"url(#clip912)\" cx=\"939.331\" cy=\"867.342\" r=\"14\" fill=\"#cd5c5c\" fill-rule=\"evenodd\" fill-opacity=\"1\" stroke=\"none\"/>\n",
       "<circle clip-path=\"url(#clip912)\" cx=\"944.935\" cy=\"882.382\" r=\"14\" fill=\"#cd5c5c\" fill-rule=\"evenodd\" fill-opacity=\"1\" stroke=\"none\"/>\n",
       "<circle clip-path=\"url(#clip912)\" cx=\"950.54\" cy=\"885.47\" r=\"14\" fill=\"#cd5c5c\" fill-rule=\"evenodd\" fill-opacity=\"1\" stroke=\"none\"/>\n",
       "<circle clip-path=\"url(#clip912)\" cx=\"956.144\" cy=\"881.391\" r=\"14\" fill=\"#cd5c5c\" fill-rule=\"evenodd\" fill-opacity=\"1\" stroke=\"none\"/>\n",
       "<circle clip-path=\"url(#clip912)\" cx=\"961.749\" cy=\"878.773\" r=\"14\" fill=\"#cd5c5c\" fill-rule=\"evenodd\" fill-opacity=\"1\" stroke=\"none\"/>\n",
       "<circle clip-path=\"url(#clip912)\" cx=\"967.353\" cy=\"885.098\" r=\"14\" fill=\"#cd5c5c\" fill-rule=\"evenodd\" fill-opacity=\"1\" stroke=\"none\"/>\n",
       "<circle clip-path=\"url(#clip912)\" cx=\"972.958\" cy=\"880.356\" r=\"14\" fill=\"#cd5c5c\" fill-rule=\"evenodd\" fill-opacity=\"1\" stroke=\"none\"/>\n",
       "<circle clip-path=\"url(#clip912)\" cx=\"978.562\" cy=\"878.009\" r=\"14\" fill=\"#cd5c5c\" fill-rule=\"evenodd\" fill-opacity=\"1\" stroke=\"none\"/>\n",
       "<circle clip-path=\"url(#clip912)\" cx=\"984.166\" cy=\"878.495\" r=\"14\" fill=\"#cd5c5c\" fill-rule=\"evenodd\" fill-opacity=\"1\" stroke=\"none\"/>\n",
       "<circle clip-path=\"url(#clip912)\" cx=\"989.771\" cy=\"883.579\" r=\"14\" fill=\"#cd5c5c\" fill-rule=\"evenodd\" fill-opacity=\"1\" stroke=\"none\"/>\n",
       "<circle clip-path=\"url(#clip912)\" cx=\"995.375\" cy=\"875.591\" r=\"14\" fill=\"#cd5c5c\" fill-rule=\"evenodd\" fill-opacity=\"1\" stroke=\"none\"/>\n",
       "<circle clip-path=\"url(#clip912)\" cx=\"1000.98\" cy=\"874.893\" r=\"14\" fill=\"#cd5c5c\" fill-rule=\"evenodd\" fill-opacity=\"1\" stroke=\"none\"/>\n",
       "<circle clip-path=\"url(#clip912)\" cx=\"1006.58\" cy=\"884.637\" r=\"14\" fill=\"#cd5c5c\" fill-rule=\"evenodd\" fill-opacity=\"1\" stroke=\"none\"/>\n",
       "<circle clip-path=\"url(#clip912)\" cx=\"1012.19\" cy=\"882.798\" r=\"14\" fill=\"#cd5c5c\" fill-rule=\"evenodd\" fill-opacity=\"1\" stroke=\"none\"/>\n",
       "<circle clip-path=\"url(#clip912)\" cx=\"1017.79\" cy=\"884.054\" r=\"14\" fill=\"#cd5c5c\" fill-rule=\"evenodd\" fill-opacity=\"1\" stroke=\"none\"/>\n",
       "<circle clip-path=\"url(#clip912)\" cx=\"1023.4\" cy=\"882.445\" r=\"14\" fill=\"#cd5c5c\" fill-rule=\"evenodd\" fill-opacity=\"1\" stroke=\"none\"/>\n",
       "<circle clip-path=\"url(#clip912)\" cx=\"1029\" cy=\"883.27\" r=\"14\" fill=\"#cd5c5c\" fill-rule=\"evenodd\" fill-opacity=\"1\" stroke=\"none\"/>\n",
       "<circle clip-path=\"url(#clip912)\" cx=\"1034.61\" cy=\"883.897\" r=\"14\" fill=\"#cd5c5c\" fill-rule=\"evenodd\" fill-opacity=\"1\" stroke=\"none\"/>\n",
       "<circle clip-path=\"url(#clip912)\" cx=\"1040.21\" cy=\"885.456\" r=\"14\" fill=\"#cd5c5c\" fill-rule=\"evenodd\" fill-opacity=\"1\" stroke=\"none\"/>\n",
       "<circle clip-path=\"url(#clip912)\" cx=\"1045.82\" cy=\"879.564\" r=\"14\" fill=\"#cd5c5c\" fill-rule=\"evenodd\" fill-opacity=\"1\" stroke=\"none\"/>\n",
       "<circle clip-path=\"url(#clip912)\" cx=\"1051.42\" cy=\"882.563\" r=\"14\" fill=\"#cd5c5c\" fill-rule=\"evenodd\" fill-opacity=\"1\" stroke=\"none\"/>\n",
       "<circle clip-path=\"url(#clip912)\" cx=\"1057.02\" cy=\"879.936\" r=\"14\" fill=\"#cd5c5c\" fill-rule=\"evenodd\" fill-opacity=\"1\" stroke=\"none\"/>\n",
       "<circle clip-path=\"url(#clip912)\" cx=\"1062.63\" cy=\"884.313\" r=\"14\" fill=\"#cd5c5c\" fill-rule=\"evenodd\" fill-opacity=\"1\" stroke=\"none\"/>\n",
       "<circle clip-path=\"url(#clip912)\" cx=\"1068.23\" cy=\"878.766\" r=\"14\" fill=\"#cd5c5c\" fill-rule=\"evenodd\" fill-opacity=\"1\" stroke=\"none\"/>\n",
       "<circle clip-path=\"url(#clip912)\" cx=\"1073.84\" cy=\"881.38\" r=\"14\" fill=\"#cd5c5c\" fill-rule=\"evenodd\" fill-opacity=\"1\" stroke=\"none\"/>\n",
       "<circle clip-path=\"url(#clip912)\" cx=\"1079.44\" cy=\"884.908\" r=\"14\" fill=\"#cd5c5c\" fill-rule=\"evenodd\" fill-opacity=\"1\" stroke=\"none\"/>\n",
       "<circle clip-path=\"url(#clip912)\" cx=\"1085.05\" cy=\"886.248\" r=\"14\" fill=\"#cd5c5c\" fill-rule=\"evenodd\" fill-opacity=\"1\" stroke=\"none\"/>\n",
       "<circle clip-path=\"url(#clip912)\" cx=\"1090.65\" cy=\"885.184\" r=\"14\" fill=\"#cd5c5c\" fill-rule=\"evenodd\" fill-opacity=\"1\" stroke=\"none\"/>\n",
       "<circle clip-path=\"url(#clip912)\" cx=\"1096.26\" cy=\"883.644\" r=\"14\" fill=\"#cd5c5c\" fill-rule=\"evenodd\" fill-opacity=\"1\" stroke=\"none\"/>\n",
       "<circle clip-path=\"url(#clip912)\" cx=\"1101.86\" cy=\"883.453\" r=\"14\" fill=\"#cd5c5c\" fill-rule=\"evenodd\" fill-opacity=\"1\" stroke=\"none\"/>\n",
       "<circle clip-path=\"url(#clip912)\" cx=\"1107.46\" cy=\"882.988\" r=\"14\" fill=\"#cd5c5c\" fill-rule=\"evenodd\" fill-opacity=\"1\" stroke=\"none\"/>\n",
       "<circle clip-path=\"url(#clip912)\" cx=\"1113.07\" cy=\"885.775\" r=\"14\" fill=\"#cd5c5c\" fill-rule=\"evenodd\" fill-opacity=\"1\" stroke=\"none\"/>\n",
       "<circle clip-path=\"url(#clip912)\" cx=\"1118.67\" cy=\"879.258\" r=\"14\" fill=\"#cd5c5c\" fill-rule=\"evenodd\" fill-opacity=\"1\" stroke=\"none\"/>\n",
       "<circle clip-path=\"url(#clip912)\" cx=\"1124.28\" cy=\"881.992\" r=\"14\" fill=\"#cd5c5c\" fill-rule=\"evenodd\" fill-opacity=\"1\" stroke=\"none\"/>\n",
       "<circle clip-path=\"url(#clip912)\" cx=\"1129.88\" cy=\"873.831\" r=\"14\" fill=\"#cd5c5c\" fill-rule=\"evenodd\" fill-opacity=\"1\" stroke=\"none\"/>\n",
       "<circle clip-path=\"url(#clip912)\" cx=\"1135.49\" cy=\"883.531\" r=\"14\" fill=\"#cd5c5c\" fill-rule=\"evenodd\" fill-opacity=\"1\" stroke=\"none\"/>\n",
       "<circle clip-path=\"url(#clip912)\" cx=\"1141.09\" cy=\"879.884\" r=\"14\" fill=\"#cd5c5c\" fill-rule=\"evenodd\" fill-opacity=\"1\" stroke=\"none\"/>\n",
       "<circle clip-path=\"url(#clip912)\" cx=\"1146.7\" cy=\"883.505\" r=\"14\" fill=\"#cd5c5c\" fill-rule=\"evenodd\" fill-opacity=\"1\" stroke=\"none\"/>\n",
       "<circle clip-path=\"url(#clip912)\" cx=\"1152.3\" cy=\"877.306\" r=\"14\" fill=\"#cd5c5c\" fill-rule=\"evenodd\" fill-opacity=\"1\" stroke=\"none\"/>\n",
       "<circle clip-path=\"url(#clip912)\" cx=\"1157.9\" cy=\"884.79\" r=\"14\" fill=\"#cd5c5c\" fill-rule=\"evenodd\" fill-opacity=\"1\" stroke=\"none\"/>\n",
       "<circle clip-path=\"url(#clip912)\" cx=\"1163.51\" cy=\"882.541\" r=\"14\" fill=\"#cd5c5c\" fill-rule=\"evenodd\" fill-opacity=\"1\" stroke=\"none\"/>\n",
       "<circle clip-path=\"url(#clip912)\" cx=\"1169.11\" cy=\"882.366\" r=\"14\" fill=\"#cd5c5c\" fill-rule=\"evenodd\" fill-opacity=\"1\" stroke=\"none\"/>\n",
       "<circle clip-path=\"url(#clip912)\" cx=\"1174.72\" cy=\"884.968\" r=\"14\" fill=\"#cd5c5c\" fill-rule=\"evenodd\" fill-opacity=\"1\" stroke=\"none\"/>\n",
       "<circle clip-path=\"url(#clip912)\" cx=\"1180.32\" cy=\"881.118\" r=\"14\" fill=\"#cd5c5c\" fill-rule=\"evenodd\" fill-opacity=\"1\" stroke=\"none\"/>\n",
       "<circle clip-path=\"url(#clip912)\" cx=\"1185.93\" cy=\"878.901\" r=\"14\" fill=\"#cd5c5c\" fill-rule=\"evenodd\" fill-opacity=\"1\" stroke=\"none\"/>\n",
       "<circle clip-path=\"url(#clip912)\" cx=\"1191.53\" cy=\"881.637\" r=\"14\" fill=\"#cd5c5c\" fill-rule=\"evenodd\" fill-opacity=\"1\" stroke=\"none\"/>\n",
       "<circle clip-path=\"url(#clip912)\" cx=\"1197.14\" cy=\"872.048\" r=\"14\" fill=\"#cd5c5c\" fill-rule=\"evenodd\" fill-opacity=\"1\" stroke=\"none\"/>\n",
       "<circle clip-path=\"url(#clip912)\" cx=\"1202.74\" cy=\"881.267\" r=\"14\" fill=\"#cd5c5c\" fill-rule=\"evenodd\" fill-opacity=\"1\" stroke=\"none\"/>\n",
       "<circle clip-path=\"url(#clip912)\" cx=\"1208.34\" cy=\"883.751\" r=\"14\" fill=\"#cd5c5c\" fill-rule=\"evenodd\" fill-opacity=\"1\" stroke=\"none\"/>\n",
       "<circle clip-path=\"url(#clip912)\" cx=\"1213.95\" cy=\"882.213\" r=\"14\" fill=\"#cd5c5c\" fill-rule=\"evenodd\" fill-opacity=\"1\" stroke=\"none\"/>\n",
       "<circle clip-path=\"url(#clip912)\" cx=\"1219.55\" cy=\"880.308\" r=\"14\" fill=\"#cd5c5c\" fill-rule=\"evenodd\" fill-opacity=\"1\" stroke=\"none\"/>\n",
       "<circle clip-path=\"url(#clip912)\" cx=\"1225.16\" cy=\"882.841\" r=\"14\" fill=\"#cd5c5c\" fill-rule=\"evenodd\" fill-opacity=\"1\" stroke=\"none\"/>\n",
       "<circle clip-path=\"url(#clip912)\" cx=\"1230.76\" cy=\"873.519\" r=\"14\" fill=\"#cd5c5c\" fill-rule=\"evenodd\" fill-opacity=\"1\" stroke=\"none\"/>\n",
       "<circle clip-path=\"url(#clip912)\" cx=\"1236.37\" cy=\"873.008\" r=\"14\" fill=\"#cd5c5c\" fill-rule=\"evenodd\" fill-opacity=\"1\" stroke=\"none\"/>\n",
       "<circle clip-path=\"url(#clip912)\" cx=\"1241.97\" cy=\"885.875\" r=\"14\" fill=\"#cd5c5c\" fill-rule=\"evenodd\" fill-opacity=\"1\" stroke=\"none\"/>\n",
       "<circle clip-path=\"url(#clip912)\" cx=\"1247.58\" cy=\"882.31\" r=\"14\" fill=\"#cd5c5c\" fill-rule=\"evenodd\" fill-opacity=\"1\" stroke=\"none\"/>\n",
       "<circle clip-path=\"url(#clip912)\" cx=\"1253.18\" cy=\"883.048\" r=\"14\" fill=\"#cd5c5c\" fill-rule=\"evenodd\" fill-opacity=\"1\" stroke=\"none\"/>\n",
       "<circle clip-path=\"url(#clip912)\" cx=\"1258.78\" cy=\"880.811\" r=\"14\" fill=\"#cd5c5c\" fill-rule=\"evenodd\" fill-opacity=\"1\" stroke=\"none\"/>\n",
       "<circle clip-path=\"url(#clip912)\" cx=\"1264.39\" cy=\"880.626\" r=\"14\" fill=\"#cd5c5c\" fill-rule=\"evenodd\" fill-opacity=\"1\" stroke=\"none\"/>\n",
       "<circle clip-path=\"url(#clip912)\" cx=\"1269.99\" cy=\"881.23\" r=\"14\" fill=\"#cd5c5c\" fill-rule=\"evenodd\" fill-opacity=\"1\" stroke=\"none\"/>\n",
       "<circle clip-path=\"url(#clip912)\" cx=\"1275.6\" cy=\"886.03\" r=\"14\" fill=\"#cd5c5c\" fill-rule=\"evenodd\" fill-opacity=\"1\" stroke=\"none\"/>\n",
       "<circle clip-path=\"url(#clip912)\" cx=\"1281.2\" cy=\"884.872\" r=\"14\" fill=\"#cd5c5c\" fill-rule=\"evenodd\" fill-opacity=\"1\" stroke=\"none\"/>\n",
       "<circle clip-path=\"url(#clip912)\" cx=\"1286.81\" cy=\"878.883\" r=\"14\" fill=\"#cd5c5c\" fill-rule=\"evenodd\" fill-opacity=\"1\" stroke=\"none\"/>\n",
       "<circle clip-path=\"url(#clip912)\" cx=\"1292.41\" cy=\"881.239\" r=\"14\" fill=\"#cd5c5c\" fill-rule=\"evenodd\" fill-opacity=\"1\" stroke=\"none\"/>\n",
       "<circle clip-path=\"url(#clip912)\" cx=\"1298.02\" cy=\"871.539\" r=\"14\" fill=\"#cd5c5c\" fill-rule=\"evenodd\" fill-opacity=\"1\" stroke=\"none\"/>\n",
       "<circle clip-path=\"url(#clip912)\" cx=\"1303.62\" cy=\"869.841\" r=\"14\" fill=\"#cd5c5c\" fill-rule=\"evenodd\" fill-opacity=\"1\" stroke=\"none\"/>\n",
       "<circle clip-path=\"url(#clip912)\" cx=\"1309.23\" cy=\"872.828\" r=\"14\" fill=\"#cd5c5c\" fill-rule=\"evenodd\" fill-opacity=\"1\" stroke=\"none\"/>\n",
       "<circle clip-path=\"url(#clip912)\" cx=\"1314.83\" cy=\"880.46\" r=\"14\" fill=\"#cd5c5c\" fill-rule=\"evenodd\" fill-opacity=\"1\" stroke=\"none\"/>\n",
       "<circle clip-path=\"url(#clip912)\" cx=\"1320.43\" cy=\"885.432\" r=\"14\" fill=\"#cd5c5c\" fill-rule=\"evenodd\" fill-opacity=\"1\" stroke=\"none\"/>\n",
       "<circle clip-path=\"url(#clip912)\" cx=\"1326.04\" cy=\"879.793\" r=\"14\" fill=\"#cd5c5c\" fill-rule=\"evenodd\" fill-opacity=\"1\" stroke=\"none\"/>\n",
       "<circle clip-path=\"url(#clip912)\" cx=\"1331.64\" cy=\"882.77\" r=\"14\" fill=\"#cd5c5c\" fill-rule=\"evenodd\" fill-opacity=\"1\" stroke=\"none\"/>\n",
       "<circle clip-path=\"url(#clip912)\" cx=\"1337.25\" cy=\"885.124\" r=\"14\" fill=\"#cd5c5c\" fill-rule=\"evenodd\" fill-opacity=\"1\" stroke=\"none\"/>\n",
       "<circle clip-path=\"url(#clip912)\" cx=\"1342.85\" cy=\"886.34\" r=\"14\" fill=\"#cd5c5c\" fill-rule=\"evenodd\" fill-opacity=\"1\" stroke=\"none\"/>\n",
       "<circle clip-path=\"url(#clip912)\" cx=\"1348.46\" cy=\"882.281\" r=\"14\" fill=\"#cd5c5c\" fill-rule=\"evenodd\" fill-opacity=\"1\" stroke=\"none\"/>\n",
       "<circle clip-path=\"url(#clip912)\" cx=\"1354.06\" cy=\"883.42\" r=\"14\" fill=\"#cd5c5c\" fill-rule=\"evenodd\" fill-opacity=\"1\" stroke=\"none\"/>\n",
       "<circle clip-path=\"url(#clip912)\" cx=\"1359.67\" cy=\"881.927\" r=\"14\" fill=\"#cd5c5c\" fill-rule=\"evenodd\" fill-opacity=\"1\" stroke=\"none\"/>\n",
       "<circle clip-path=\"url(#clip912)\" cx=\"1365.27\" cy=\"883.061\" r=\"14\" fill=\"#cd5c5c\" fill-rule=\"evenodd\" fill-opacity=\"1\" stroke=\"none\"/>\n",
       "<circle clip-path=\"url(#clip912)\" cx=\"1370.87\" cy=\"880.702\" r=\"14\" fill=\"#cd5c5c\" fill-rule=\"evenodd\" fill-opacity=\"1\" stroke=\"none\"/>\n",
       "<circle clip-path=\"url(#clip912)\" cx=\"1376.48\" cy=\"882.246\" r=\"14\" fill=\"#cd5c5c\" fill-rule=\"evenodd\" fill-opacity=\"1\" stroke=\"none\"/>\n",
       "<circle clip-path=\"url(#clip912)\" cx=\"1382.08\" cy=\"880.238\" r=\"14\" fill=\"#cd5c5c\" fill-rule=\"evenodd\" fill-opacity=\"1\" stroke=\"none\"/>\n",
       "<circle clip-path=\"url(#clip912)\" cx=\"1387.69\" cy=\"878.7\" r=\"14\" fill=\"#cd5c5c\" fill-rule=\"evenodd\" fill-opacity=\"1\" stroke=\"none\"/>\n",
       "<circle clip-path=\"url(#clip912)\" cx=\"1393.29\" cy=\"885.213\" r=\"14\" fill=\"#cd5c5c\" fill-rule=\"evenodd\" fill-opacity=\"1\" stroke=\"none\"/>\n",
       "<circle clip-path=\"url(#clip912)\" cx=\"1398.9\" cy=\"881.701\" r=\"14\" fill=\"#cd5c5c\" fill-rule=\"evenodd\" fill-opacity=\"1\" stroke=\"none\"/>\n",
       "<circle clip-path=\"url(#clip912)\" cx=\"1404.5\" cy=\"881.283\" r=\"14\" fill=\"#cd5c5c\" fill-rule=\"evenodd\" fill-opacity=\"1\" stroke=\"none\"/>\n",
       "<circle clip-path=\"url(#clip912)\" cx=\"1410.11\" cy=\"866.6\" r=\"14\" fill=\"#cd5c5c\" fill-rule=\"evenodd\" fill-opacity=\"1\" stroke=\"none\"/>\n",
       "<circle clip-path=\"url(#clip912)\" cx=\"1415.71\" cy=\"880.155\" r=\"14\" fill=\"#cd5c5c\" fill-rule=\"evenodd\" fill-opacity=\"1\" stroke=\"none\"/>\n",
       "<circle clip-path=\"url(#clip912)\" cx=\"1421.31\" cy=\"874.845\" r=\"14\" fill=\"#cd5c5c\" fill-rule=\"evenodd\" fill-opacity=\"1\" stroke=\"none\"/>\n",
       "<circle clip-path=\"url(#clip912)\" cx=\"1426.92\" cy=\"880.183\" r=\"14\" fill=\"#cd5c5c\" fill-rule=\"evenodd\" fill-opacity=\"1\" stroke=\"none\"/>\n",
       "<circle clip-path=\"url(#clip912)\" cx=\"1432.52\" cy=\"884.12\" r=\"14\" fill=\"#cd5c5c\" fill-rule=\"evenodd\" fill-opacity=\"1\" stroke=\"none\"/>\n",
       "<circle clip-path=\"url(#clip912)\" cx=\"1438.13\" cy=\"880.23\" r=\"14\" fill=\"#cd5c5c\" fill-rule=\"evenodd\" fill-opacity=\"1\" stroke=\"none\"/>\n",
       "<circle clip-path=\"url(#clip912)\" cx=\"1443.73\" cy=\"885.121\" r=\"14\" fill=\"#cd5c5c\" fill-rule=\"evenodd\" fill-opacity=\"1\" stroke=\"none\"/>\n",
       "<circle clip-path=\"url(#clip912)\" cx=\"1449.34\" cy=\"876.204\" r=\"14\" fill=\"#cd5c5c\" fill-rule=\"evenodd\" fill-opacity=\"1\" stroke=\"none\"/>\n",
       "<circle clip-path=\"url(#clip912)\" cx=\"1454.94\" cy=\"884.461\" r=\"14\" fill=\"#cd5c5c\" fill-rule=\"evenodd\" fill-opacity=\"1\" stroke=\"none\"/>\n",
       "<circle clip-path=\"url(#clip912)\" cx=\"1460.55\" cy=\"881.925\" r=\"14\" fill=\"#cd5c5c\" fill-rule=\"evenodd\" fill-opacity=\"1\" stroke=\"none\"/>\n",
       "<circle clip-path=\"url(#clip912)\" cx=\"1466.15\" cy=\"868.266\" r=\"14\" fill=\"#cd5c5c\" fill-rule=\"evenodd\" fill-opacity=\"1\" stroke=\"none\"/>\n",
       "<circle clip-path=\"url(#clip912)\" cx=\"1471.75\" cy=\"881.297\" r=\"14\" fill=\"#cd5c5c\" fill-rule=\"evenodd\" fill-opacity=\"1\" stroke=\"none\"/>\n",
       "<circle clip-path=\"url(#clip912)\" cx=\"1477.36\" cy=\"884.173\" r=\"14\" fill=\"#cd5c5c\" fill-rule=\"evenodd\" fill-opacity=\"1\" stroke=\"none\"/>\n",
       "<circle clip-path=\"url(#clip912)\" cx=\"1482.96\" cy=\"876.178\" r=\"14\" fill=\"#cd5c5c\" fill-rule=\"evenodd\" fill-opacity=\"1\" stroke=\"none\"/>\n",
       "<circle clip-path=\"url(#clip912)\" cx=\"1488.57\" cy=\"878.577\" r=\"14\" fill=\"#cd5c5c\" fill-rule=\"evenodd\" fill-opacity=\"1\" stroke=\"none\"/>\n",
       "<circle clip-path=\"url(#clip912)\" cx=\"1494.17\" cy=\"877.596\" r=\"14\" fill=\"#cd5c5c\" fill-rule=\"evenodd\" fill-opacity=\"1\" stroke=\"none\"/>\n",
       "<circle clip-path=\"url(#clip912)\" cx=\"1499.78\" cy=\"883.878\" r=\"14\" fill=\"#cd5c5c\" fill-rule=\"evenodd\" fill-opacity=\"1\" stroke=\"none\"/>\n",
       "<circle clip-path=\"url(#clip912)\" cx=\"1505.38\" cy=\"878.443\" r=\"14\" fill=\"#cd5c5c\" fill-rule=\"evenodd\" fill-opacity=\"1\" stroke=\"none\"/>\n",
       "<circle clip-path=\"url(#clip912)\" cx=\"1510.99\" cy=\"880.331\" r=\"14\" fill=\"#cd5c5c\" fill-rule=\"evenodd\" fill-opacity=\"1\" stroke=\"none\"/>\n",
       "<circle clip-path=\"url(#clip912)\" cx=\"1516.59\" cy=\"880.099\" r=\"14\" fill=\"#cd5c5c\" fill-rule=\"evenodd\" fill-opacity=\"1\" stroke=\"none\"/>\n",
       "<circle clip-path=\"url(#clip912)\" cx=\"1522.19\" cy=\"882.992\" r=\"14\" fill=\"#cd5c5c\" fill-rule=\"evenodd\" fill-opacity=\"1\" stroke=\"none\"/>\n",
       "<circle clip-path=\"url(#clip912)\" cx=\"1527.8\" cy=\"880.8\" r=\"14\" fill=\"#cd5c5c\" fill-rule=\"evenodd\" fill-opacity=\"1\" stroke=\"none\"/>\n",
       "<circle clip-path=\"url(#clip912)\" cx=\"1533.4\" cy=\"879.053\" r=\"14\" fill=\"#cd5c5c\" fill-rule=\"evenodd\" fill-opacity=\"1\" stroke=\"none\"/>\n",
       "<circle clip-path=\"url(#clip912)\" cx=\"1539.01\" cy=\"884.499\" r=\"14\" fill=\"#cd5c5c\" fill-rule=\"evenodd\" fill-opacity=\"1\" stroke=\"none\"/>\n",
       "<circle clip-path=\"url(#clip912)\" cx=\"1544.61\" cy=\"880.552\" r=\"14\" fill=\"#cd5c5c\" fill-rule=\"evenodd\" fill-opacity=\"1\" stroke=\"none\"/>\n",
       "<circle clip-path=\"url(#clip912)\" cx=\"1550.22\" cy=\"877.627\" r=\"14\" fill=\"#cd5c5c\" fill-rule=\"evenodd\" fill-opacity=\"1\" stroke=\"none\"/>\n",
       "<circle clip-path=\"url(#clip912)\" cx=\"1555.82\" cy=\"880.512\" r=\"14\" fill=\"#cd5c5c\" fill-rule=\"evenodd\" fill-opacity=\"1\" stroke=\"none\"/>\n",
       "<circle clip-path=\"url(#clip912)\" cx=\"1561.43\" cy=\"880.99\" r=\"14\" fill=\"#cd5c5c\" fill-rule=\"evenodd\" fill-opacity=\"1\" stroke=\"none\"/>\n",
       "<circle clip-path=\"url(#clip912)\" cx=\"1567.03\" cy=\"878.67\" r=\"14\" fill=\"#cd5c5c\" fill-rule=\"evenodd\" fill-opacity=\"1\" stroke=\"none\"/>\n",
       "<circle clip-path=\"url(#clip912)\" cx=\"1572.63\" cy=\"881.105\" r=\"14\" fill=\"#cd5c5c\" fill-rule=\"evenodd\" fill-opacity=\"1\" stroke=\"none\"/>\n",
       "<circle clip-path=\"url(#clip912)\" cx=\"1578.24\" cy=\"885.655\" r=\"14\" fill=\"#cd5c5c\" fill-rule=\"evenodd\" fill-opacity=\"1\" stroke=\"none\"/>\n",
       "<circle clip-path=\"url(#clip912)\" cx=\"1583.84\" cy=\"885.4\" r=\"14\" fill=\"#cd5c5c\" fill-rule=\"evenodd\" fill-opacity=\"1\" stroke=\"none\"/>\n",
       "<circle clip-path=\"url(#clip912)\" cx=\"1589.45\" cy=\"882.032\" r=\"14\" fill=\"#cd5c5c\" fill-rule=\"evenodd\" fill-opacity=\"1\" stroke=\"none\"/>\n",
       "<circle clip-path=\"url(#clip912)\" cx=\"1595.05\" cy=\"884.92\" r=\"14\" fill=\"#cd5c5c\" fill-rule=\"evenodd\" fill-opacity=\"1\" stroke=\"none\"/>\n",
       "<circle clip-path=\"url(#clip912)\" cx=\"1600.66\" cy=\"880.912\" r=\"14\" fill=\"#cd5c5c\" fill-rule=\"evenodd\" fill-opacity=\"1\" stroke=\"none\"/>\n",
       "<circle clip-path=\"url(#clip912)\" cx=\"1606.26\" cy=\"869.366\" r=\"14\" fill=\"#cd5c5c\" fill-rule=\"evenodd\" fill-opacity=\"1\" stroke=\"none\"/>\n",
       "<circle clip-path=\"url(#clip912)\" cx=\"1611.87\" cy=\"881.88\" r=\"14\" fill=\"#cd5c5c\" fill-rule=\"evenodd\" fill-opacity=\"1\" stroke=\"none\"/>\n",
       "<circle clip-path=\"url(#clip912)\" cx=\"1617.47\" cy=\"882.795\" r=\"14\" fill=\"#cd5c5c\" fill-rule=\"evenodd\" fill-opacity=\"1\" stroke=\"none\"/>\n",
       "<circle clip-path=\"url(#clip912)\" cx=\"1623.07\" cy=\"870.372\" r=\"14\" fill=\"#cd5c5c\" fill-rule=\"evenodd\" fill-opacity=\"1\" stroke=\"none\"/>\n",
       "<circle clip-path=\"url(#clip912)\" cx=\"1628.68\" cy=\"880.762\" r=\"14\" fill=\"#cd5c5c\" fill-rule=\"evenodd\" fill-opacity=\"1\" stroke=\"none\"/>\n",
       "<circle clip-path=\"url(#clip912)\" cx=\"1634.28\" cy=\"878.555\" r=\"14\" fill=\"#cd5c5c\" fill-rule=\"evenodd\" fill-opacity=\"1\" stroke=\"none\"/>\n",
       "<circle clip-path=\"url(#clip912)\" cx=\"1639.89\" cy=\"882.017\" r=\"14\" fill=\"#cd5c5c\" fill-rule=\"evenodd\" fill-opacity=\"1\" stroke=\"none\"/>\n",
       "<circle clip-path=\"url(#clip912)\" cx=\"1645.49\" cy=\"883.223\" r=\"14\" fill=\"#cd5c5c\" fill-rule=\"evenodd\" fill-opacity=\"1\" stroke=\"none\"/>\n",
       "<circle clip-path=\"url(#clip912)\" cx=\"1651.1\" cy=\"882.27\" r=\"14\" fill=\"#cd5c5c\" fill-rule=\"evenodd\" fill-opacity=\"1\" stroke=\"none\"/>\n",
       "<circle clip-path=\"url(#clip912)\" cx=\"1656.7\" cy=\"881.602\" r=\"14\" fill=\"#cd5c5c\" fill-rule=\"evenodd\" fill-opacity=\"1\" stroke=\"none\"/>\n",
       "<circle clip-path=\"url(#clip912)\" cx=\"1662.31\" cy=\"885.254\" r=\"14\" fill=\"#cd5c5c\" fill-rule=\"evenodd\" fill-opacity=\"1\" stroke=\"none\"/>\n",
       "<circle clip-path=\"url(#clip912)\" cx=\"1667.91\" cy=\"884.73\" r=\"14\" fill=\"#cd5c5c\" fill-rule=\"evenodd\" fill-opacity=\"1\" stroke=\"none\"/>\n",
       "<circle clip-path=\"url(#clip912)\" cx=\"1673.51\" cy=\"874.75\" r=\"14\" fill=\"#cd5c5c\" fill-rule=\"evenodd\" fill-opacity=\"1\" stroke=\"none\"/>\n",
       "<circle clip-path=\"url(#clip912)\" cx=\"1679.12\" cy=\"879.78\" r=\"14\" fill=\"#cd5c5c\" fill-rule=\"evenodd\" fill-opacity=\"1\" stroke=\"none\"/>\n",
       "<circle clip-path=\"url(#clip912)\" cx=\"1684.72\" cy=\"878.351\" r=\"14\" fill=\"#cd5c5c\" fill-rule=\"evenodd\" fill-opacity=\"1\" stroke=\"none\"/>\n",
       "<circle clip-path=\"url(#clip912)\" cx=\"1690.33\" cy=\"879.782\" r=\"14\" fill=\"#cd5c5c\" fill-rule=\"evenodd\" fill-opacity=\"1\" stroke=\"none\"/>\n",
       "<circle clip-path=\"url(#clip912)\" cx=\"1695.93\" cy=\"877.908\" r=\"14\" fill=\"#cd5c5c\" fill-rule=\"evenodd\" fill-opacity=\"1\" stroke=\"none\"/>\n",
       "<circle clip-path=\"url(#clip912)\" cx=\"1701.54\" cy=\"880.507\" r=\"14\" fill=\"#cd5c5c\" fill-rule=\"evenodd\" fill-opacity=\"1\" stroke=\"none\"/>\n",
       "<circle clip-path=\"url(#clip912)\" cx=\"1707.14\" cy=\"883.639\" r=\"14\" fill=\"#cd5c5c\" fill-rule=\"evenodd\" fill-opacity=\"1\" stroke=\"none\"/>\n",
       "<circle clip-path=\"url(#clip912)\" cx=\"1712.75\" cy=\"882.05\" r=\"14\" fill=\"#cd5c5c\" fill-rule=\"evenodd\" fill-opacity=\"1\" stroke=\"none\"/>\n",
       "<circle clip-path=\"url(#clip912)\" cx=\"1718.35\" cy=\"882.822\" r=\"14\" fill=\"#cd5c5c\" fill-rule=\"evenodd\" fill-opacity=\"1\" stroke=\"none\"/>\n",
       "<circle clip-path=\"url(#clip912)\" cx=\"1723.96\" cy=\"875.004\" r=\"14\" fill=\"#cd5c5c\" fill-rule=\"evenodd\" fill-opacity=\"1\" stroke=\"none\"/>\n",
       "<circle clip-path=\"url(#clip912)\" cx=\"1729.56\" cy=\"883.057\" r=\"14\" fill=\"#cd5c5c\" fill-rule=\"evenodd\" fill-opacity=\"1\" stroke=\"none\"/>\n",
       "<circle clip-path=\"url(#clip912)\" cx=\"1735.16\" cy=\"883.672\" r=\"14\" fill=\"#cd5c5c\" fill-rule=\"evenodd\" fill-opacity=\"1\" stroke=\"none\"/>\n",
       "<circle clip-path=\"url(#clip912)\" cx=\"1740.77\" cy=\"877.471\" r=\"14\" fill=\"#cd5c5c\" fill-rule=\"evenodd\" fill-opacity=\"1\" stroke=\"none\"/>\n",
       "<circle clip-path=\"url(#clip912)\" cx=\"1746.37\" cy=\"882.832\" r=\"14\" fill=\"#cd5c5c\" fill-rule=\"evenodd\" fill-opacity=\"1\" stroke=\"none\"/>\n",
       "<circle clip-path=\"url(#clip912)\" cx=\"1751.98\" cy=\"884.03\" r=\"14\" fill=\"#cd5c5c\" fill-rule=\"evenodd\" fill-opacity=\"1\" stroke=\"none\"/>\n",
       "<circle clip-path=\"url(#clip912)\" cx=\"1757.58\" cy=\"882.773\" r=\"14\" fill=\"#cd5c5c\" fill-rule=\"evenodd\" fill-opacity=\"1\" stroke=\"none\"/>\n",
       "<circle clip-path=\"url(#clip912)\" cx=\"1763.19\" cy=\"885.5\" r=\"14\" fill=\"#cd5c5c\" fill-rule=\"evenodd\" fill-opacity=\"1\" stroke=\"none\"/>\n",
       "<circle clip-path=\"url(#clip912)\" cx=\"1768.79\" cy=\"877.853\" r=\"14\" fill=\"#cd5c5c\" fill-rule=\"evenodd\" fill-opacity=\"1\" stroke=\"none\"/>\n",
       "<circle clip-path=\"url(#clip912)\" cx=\"1774.4\" cy=\"885.666\" r=\"14\" fill=\"#cd5c5c\" fill-rule=\"evenodd\" fill-opacity=\"1\" stroke=\"none\"/>\n",
       "<circle clip-path=\"url(#clip912)\" cx=\"1780\" cy=\"873.763\" r=\"14\" fill=\"#cd5c5c\" fill-rule=\"evenodd\" fill-opacity=\"1\" stroke=\"none\"/>\n",
       "<circle clip-path=\"url(#clip912)\" cx=\"1785.6\" cy=\"882.585\" r=\"14\" fill=\"#cd5c5c\" fill-rule=\"evenodd\" fill-opacity=\"1\" stroke=\"none\"/>\n",
       "<circle clip-path=\"url(#clip912)\" cx=\"1791.21\" cy=\"882.943\" r=\"14\" fill=\"#cd5c5c\" fill-rule=\"evenodd\" fill-opacity=\"1\" stroke=\"none\"/>\n",
       "<circle clip-path=\"url(#clip912)\" cx=\"1796.81\" cy=\"881.811\" r=\"14\" fill=\"#cd5c5c\" fill-rule=\"evenodd\" fill-opacity=\"1\" stroke=\"none\"/>\n",
       "<circle clip-path=\"url(#clip912)\" cx=\"1802.42\" cy=\"874.646\" r=\"14\" fill=\"#cd5c5c\" fill-rule=\"evenodd\" fill-opacity=\"1\" stroke=\"none\"/>\n",
       "<circle clip-path=\"url(#clip912)\" cx=\"1808.02\" cy=\"882.935\" r=\"14\" fill=\"#cd5c5c\" fill-rule=\"evenodd\" fill-opacity=\"1\" stroke=\"none\"/>\n",
       "<circle clip-path=\"url(#clip912)\" cx=\"1813.63\" cy=\"885.152\" r=\"14\" fill=\"#cd5c5c\" fill-rule=\"evenodd\" fill-opacity=\"1\" stroke=\"none\"/>\n",
       "<circle clip-path=\"url(#clip912)\" cx=\"1819.23\" cy=\"885.054\" r=\"14\" fill=\"#cd5c5c\" fill-rule=\"evenodd\" fill-opacity=\"1\" stroke=\"none\"/>\n",
       "<circle clip-path=\"url(#clip912)\" cx=\"1824.84\" cy=\"875.885\" r=\"14\" fill=\"#cd5c5c\" fill-rule=\"evenodd\" fill-opacity=\"1\" stroke=\"none\"/>\n",
       "<circle clip-path=\"url(#clip912)\" cx=\"1830.44\" cy=\"881.458\" r=\"14\" fill=\"#cd5c5c\" fill-rule=\"evenodd\" fill-opacity=\"1\" stroke=\"none\"/>\n",
       "<circle clip-path=\"url(#clip912)\" cx=\"1836.04\" cy=\"884.878\" r=\"14\" fill=\"#cd5c5c\" fill-rule=\"evenodd\" fill-opacity=\"1\" stroke=\"none\"/>\n",
       "<circle clip-path=\"url(#clip912)\" cx=\"1841.65\" cy=\"870.476\" r=\"14\" fill=\"#cd5c5c\" fill-rule=\"evenodd\" fill-opacity=\"1\" stroke=\"none\"/>\n",
       "<circle clip-path=\"url(#clip912)\" cx=\"1847.25\" cy=\"882.772\" r=\"14\" fill=\"#cd5c5c\" fill-rule=\"evenodd\" fill-opacity=\"1\" stroke=\"none\"/>\n",
       "<circle clip-path=\"url(#clip912)\" cx=\"1852.86\" cy=\"885.856\" r=\"14\" fill=\"#cd5c5c\" fill-rule=\"evenodd\" fill-opacity=\"1\" stroke=\"none\"/>\n",
       "<circle clip-path=\"url(#clip912)\" cx=\"1858.46\" cy=\"883.239\" r=\"14\" fill=\"#cd5c5c\" fill-rule=\"evenodd\" fill-opacity=\"1\" stroke=\"none\"/>\n",
       "<circle clip-path=\"url(#clip912)\" cx=\"1864.07\" cy=\"877.871\" r=\"14\" fill=\"#cd5c5c\" fill-rule=\"evenodd\" fill-opacity=\"1\" stroke=\"none\"/>\n",
       "<circle clip-path=\"url(#clip912)\" cx=\"1869.67\" cy=\"875.04\" r=\"14\" fill=\"#cd5c5c\" fill-rule=\"evenodd\" fill-opacity=\"1\" stroke=\"none\"/>\n",
       "<circle clip-path=\"url(#clip912)\" cx=\"1875.28\" cy=\"884.906\" r=\"14\" fill=\"#cd5c5c\" fill-rule=\"evenodd\" fill-opacity=\"1\" stroke=\"none\"/>\n",
       "<circle clip-path=\"url(#clip912)\" cx=\"1880.88\" cy=\"879.875\" r=\"14\" fill=\"#cd5c5c\" fill-rule=\"evenodd\" fill-opacity=\"1\" stroke=\"none\"/>\n",
       "<circle clip-path=\"url(#clip912)\" cx=\"1886.48\" cy=\"883.442\" r=\"14\" fill=\"#cd5c5c\" fill-rule=\"evenodd\" fill-opacity=\"1\" stroke=\"none\"/>\n",
       "<circle clip-path=\"url(#clip912)\" cx=\"1892.09\" cy=\"876.047\" r=\"14\" fill=\"#cd5c5c\" fill-rule=\"evenodd\" fill-opacity=\"1\" stroke=\"none\"/>\n",
       "<circle clip-path=\"url(#clip912)\" cx=\"1897.69\" cy=\"879.936\" r=\"14\" fill=\"#cd5c5c\" fill-rule=\"evenodd\" fill-opacity=\"1\" stroke=\"none\"/>\n",
       "<circle clip-path=\"url(#clip912)\" cx=\"1903.3\" cy=\"882.146\" r=\"14\" fill=\"#cd5c5c\" fill-rule=\"evenodd\" fill-opacity=\"1\" stroke=\"none\"/>\n",
       "<circle clip-path=\"url(#clip912)\" cx=\"1908.9\" cy=\"883.698\" r=\"14\" fill=\"#cd5c5c\" fill-rule=\"evenodd\" fill-opacity=\"1\" stroke=\"none\"/>\n",
       "<circle clip-path=\"url(#clip912)\" cx=\"1914.51\" cy=\"879.684\" r=\"14\" fill=\"#cd5c5c\" fill-rule=\"evenodd\" fill-opacity=\"1\" stroke=\"none\"/>\n",
       "<circle clip-path=\"url(#clip912)\" cx=\"1920.11\" cy=\"882.339\" r=\"14\" fill=\"#cd5c5c\" fill-rule=\"evenodd\" fill-opacity=\"1\" stroke=\"none\"/>\n",
       "<circle clip-path=\"url(#clip912)\" cx=\"1925.72\" cy=\"878.622\" r=\"14\" fill=\"#cd5c5c\" fill-rule=\"evenodd\" fill-opacity=\"1\" stroke=\"none\"/>\n",
       "<circle clip-path=\"url(#clip912)\" cx=\"1931.32\" cy=\"885.495\" r=\"14\" fill=\"#cd5c5c\" fill-rule=\"evenodd\" fill-opacity=\"1\" stroke=\"none\"/>\n",
       "<circle clip-path=\"url(#clip912)\" cx=\"1936.92\" cy=\"879.096\" r=\"14\" fill=\"#cd5c5c\" fill-rule=\"evenodd\" fill-opacity=\"1\" stroke=\"none\"/>\n",
       "<circle clip-path=\"url(#clip912)\" cx=\"1942.53\" cy=\"883.221\" r=\"14\" fill=\"#cd5c5c\" fill-rule=\"evenodd\" fill-opacity=\"1\" stroke=\"none\"/>\n",
       "<circle clip-path=\"url(#clip912)\" cx=\"1948.13\" cy=\"875.956\" r=\"14\" fill=\"#cd5c5c\" fill-rule=\"evenodd\" fill-opacity=\"1\" stroke=\"none\"/>\n",
       "<circle clip-path=\"url(#clip912)\" cx=\"1953.74\" cy=\"874.793\" r=\"14\" fill=\"#cd5c5c\" fill-rule=\"evenodd\" fill-opacity=\"1\" stroke=\"none\"/>\n",
       "<circle clip-path=\"url(#clip912)\" cx=\"1959.34\" cy=\"881.089\" r=\"14\" fill=\"#cd5c5c\" fill-rule=\"evenodd\" fill-opacity=\"1\" stroke=\"none\"/>\n",
       "<circle clip-path=\"url(#clip912)\" cx=\"1964.95\" cy=\"882.833\" r=\"14\" fill=\"#cd5c5c\" fill-rule=\"evenodd\" fill-opacity=\"1\" stroke=\"none\"/>\n",
       "<circle clip-path=\"url(#clip912)\" cx=\"1970.55\" cy=\"883.74\" r=\"14\" fill=\"#cd5c5c\" fill-rule=\"evenodd\" fill-opacity=\"1\" stroke=\"none\"/>\n",
       "<circle clip-path=\"url(#clip912)\" cx=\"1976.16\" cy=\"878.751\" r=\"14\" fill=\"#cd5c5c\" fill-rule=\"evenodd\" fill-opacity=\"1\" stroke=\"none\"/>\n",
       "<circle clip-path=\"url(#clip912)\" cx=\"1981.76\" cy=\"878.119\" r=\"14\" fill=\"#cd5c5c\" fill-rule=\"evenodd\" fill-opacity=\"1\" stroke=\"none\"/>\n",
       "<circle clip-path=\"url(#clip912)\" cx=\"1987.36\" cy=\"878.574\" r=\"14\" fill=\"#cd5c5c\" fill-rule=\"evenodd\" fill-opacity=\"1\" stroke=\"none\"/>\n",
       "<circle clip-path=\"url(#clip912)\" cx=\"1992.97\" cy=\"884.274\" r=\"14\" fill=\"#cd5c5c\" fill-rule=\"evenodd\" fill-opacity=\"1\" stroke=\"none\"/>\n",
       "<circle clip-path=\"url(#clip912)\" cx=\"1998.57\" cy=\"880.385\" r=\"14\" fill=\"#cd5c5c\" fill-rule=\"evenodd\" fill-opacity=\"1\" stroke=\"none\"/>\n",
       "<circle clip-path=\"url(#clip912)\" cx=\"2004.18\" cy=\"879.169\" r=\"14\" fill=\"#cd5c5c\" fill-rule=\"evenodd\" fill-opacity=\"1\" stroke=\"none\"/>\n",
       "<circle clip-path=\"url(#clip912)\" cx=\"2009.78\" cy=\"879.712\" r=\"14\" fill=\"#cd5c5c\" fill-rule=\"evenodd\" fill-opacity=\"1\" stroke=\"none\"/>\n",
       "<circle clip-path=\"url(#clip912)\" cx=\"2015.39\" cy=\"881.156\" r=\"14\" fill=\"#cd5c5c\" fill-rule=\"evenodd\" fill-opacity=\"1\" stroke=\"none\"/>\n",
       "<circle clip-path=\"url(#clip912)\" cx=\"2020.99\" cy=\"868.784\" r=\"14\" fill=\"#cd5c5c\" fill-rule=\"evenodd\" fill-opacity=\"1\" stroke=\"none\"/>\n",
       "<circle clip-path=\"url(#clip912)\" cx=\"2026.6\" cy=\"885.096\" r=\"14\" fill=\"#cd5c5c\" fill-rule=\"evenodd\" fill-opacity=\"1\" stroke=\"none\"/>\n",
       "<circle clip-path=\"url(#clip912)\" cx=\"2032.2\" cy=\"878.419\" r=\"14\" fill=\"#cd5c5c\" fill-rule=\"evenodd\" fill-opacity=\"1\" stroke=\"none\"/>\n",
       "<circle clip-path=\"url(#clip912)\" cx=\"2037.8\" cy=\"882.103\" r=\"14\" fill=\"#cd5c5c\" fill-rule=\"evenodd\" fill-opacity=\"1\" stroke=\"none\"/>\n",
       "<circle clip-path=\"url(#clip912)\" cx=\"2043.41\" cy=\"885.604\" r=\"14\" fill=\"#cd5c5c\" fill-rule=\"evenodd\" fill-opacity=\"1\" stroke=\"none\"/>\n",
       "<circle clip-path=\"url(#clip912)\" cx=\"2049.01\" cy=\"883.366\" r=\"14\" fill=\"#cd5c5c\" fill-rule=\"evenodd\" fill-opacity=\"1\" stroke=\"none\"/>\n",
       "<circle clip-path=\"url(#clip912)\" cx=\"2054.62\" cy=\"879.55\" r=\"14\" fill=\"#cd5c5c\" fill-rule=\"evenodd\" fill-opacity=\"1\" stroke=\"none\"/>\n",
       "<circle clip-path=\"url(#clip912)\" cx=\"2060.22\" cy=\"880.882\" r=\"14\" fill=\"#cd5c5c\" fill-rule=\"evenodd\" fill-opacity=\"1\" stroke=\"none\"/>\n",
       "<circle clip-path=\"url(#clip912)\" cx=\"2065.83\" cy=\"875.905\" r=\"14\" fill=\"#cd5c5c\" fill-rule=\"evenodd\" fill-opacity=\"1\" stroke=\"none\"/>\n",
       "<circle clip-path=\"url(#clip912)\" cx=\"2071.43\" cy=\"881.759\" r=\"14\" fill=\"#cd5c5c\" fill-rule=\"evenodd\" fill-opacity=\"1\" stroke=\"none\"/>\n",
       "<circle clip-path=\"url(#clip912)\" cx=\"2077.04\" cy=\"883.658\" r=\"14\" fill=\"#cd5c5c\" fill-rule=\"evenodd\" fill-opacity=\"1\" stroke=\"none\"/>\n",
       "<circle clip-path=\"url(#clip912)\" cx=\"2082.64\" cy=\"875.689\" r=\"14\" fill=\"#cd5c5c\" fill-rule=\"evenodd\" fill-opacity=\"1\" stroke=\"none\"/>\n",
       "<circle clip-path=\"url(#clip912)\" cx=\"2088.24\" cy=\"883.062\" r=\"14\" fill=\"#cd5c5c\" fill-rule=\"evenodd\" fill-opacity=\"1\" stroke=\"none\"/>\n",
       "<circle clip-path=\"url(#clip912)\" cx=\"2093.85\" cy=\"874.571\" r=\"14\" fill=\"#cd5c5c\" fill-rule=\"evenodd\" fill-opacity=\"1\" stroke=\"none\"/>\n",
       "<circle clip-path=\"url(#clip912)\" cx=\"2099.45\" cy=\"880.277\" r=\"14\" fill=\"#cd5c5c\" fill-rule=\"evenodd\" fill-opacity=\"1\" stroke=\"none\"/>\n",
       "<circle clip-path=\"url(#clip912)\" cx=\"2105.06\" cy=\"875.993\" r=\"14\" fill=\"#cd5c5c\" fill-rule=\"evenodd\" fill-opacity=\"1\" stroke=\"none\"/>\n",
       "<circle clip-path=\"url(#clip912)\" cx=\"2110.66\" cy=\"874.707\" r=\"14\" fill=\"#cd5c5c\" fill-rule=\"evenodd\" fill-opacity=\"1\" stroke=\"none\"/>\n",
       "<circle clip-path=\"url(#clip912)\" cx=\"2116.27\" cy=\"876.148\" r=\"14\" fill=\"#cd5c5c\" fill-rule=\"evenodd\" fill-opacity=\"1\" stroke=\"none\"/>\n",
       "<circle clip-path=\"url(#clip912)\" cx=\"2121.87\" cy=\"881.655\" r=\"14\" fill=\"#cd5c5c\" fill-rule=\"evenodd\" fill-opacity=\"1\" stroke=\"none\"/>\n",
       "<circle clip-path=\"url(#clip912)\" cx=\"2127.48\" cy=\"878.444\" r=\"14\" fill=\"#cd5c5c\" fill-rule=\"evenodd\" fill-opacity=\"1\" stroke=\"none\"/>\n",
       "<circle clip-path=\"url(#clip912)\" cx=\"2133.08\" cy=\"877.425\" r=\"14\" fill=\"#cd5c5c\" fill-rule=\"evenodd\" fill-opacity=\"1\" stroke=\"none\"/>\n",
       "<circle clip-path=\"url(#clip912)\" cx=\"2138.69\" cy=\"878.395\" r=\"14\" fill=\"#cd5c5c\" fill-rule=\"evenodd\" fill-opacity=\"1\" stroke=\"none\"/>\n",
       "<circle clip-path=\"url(#clip912)\" cx=\"2144.29\" cy=\"884.608\" r=\"14\" fill=\"#cd5c5c\" fill-rule=\"evenodd\" fill-opacity=\"1\" stroke=\"none\"/>\n",
       "<circle clip-path=\"url(#clip912)\" cx=\"2149.89\" cy=\"877.215\" r=\"14\" fill=\"#cd5c5c\" fill-rule=\"evenodd\" fill-opacity=\"1\" stroke=\"none\"/>\n",
       "<circle clip-path=\"url(#clip912)\" cx=\"2155.5\" cy=\"879.483\" r=\"14\" fill=\"#cd5c5c\" fill-rule=\"evenodd\" fill-opacity=\"1\" stroke=\"none\"/>\n",
       "<circle clip-path=\"url(#clip912)\" cx=\"2161.1\" cy=\"873.554\" r=\"14\" fill=\"#cd5c5c\" fill-rule=\"evenodd\" fill-opacity=\"1\" stroke=\"none\"/>\n",
       "<circle clip-path=\"url(#clip912)\" cx=\"2166.71\" cy=\"882.228\" r=\"14\" fill=\"#cd5c5c\" fill-rule=\"evenodd\" fill-opacity=\"1\" stroke=\"none\"/>\n",
       "<circle clip-path=\"url(#clip912)\" cx=\"2172.31\" cy=\"869.709\" r=\"14\" fill=\"#cd5c5c\" fill-rule=\"evenodd\" fill-opacity=\"1\" stroke=\"none\"/>\n",
       "<circle clip-path=\"url(#clip912)\" cx=\"2177.92\" cy=\"878.368\" r=\"14\" fill=\"#cd5c5c\" fill-rule=\"evenodd\" fill-opacity=\"1\" stroke=\"none\"/>\n",
       "<circle clip-path=\"url(#clip912)\" cx=\"2183.52\" cy=\"883.931\" r=\"14\" fill=\"#cd5c5c\" fill-rule=\"evenodd\" fill-opacity=\"1\" stroke=\"none\"/>\n",
       "<circle clip-path=\"url(#clip912)\" cx=\"2189.13\" cy=\"884.271\" r=\"14\" fill=\"#cd5c5c\" fill-rule=\"evenodd\" fill-opacity=\"1\" stroke=\"none\"/>\n",
       "<circle clip-path=\"url(#clip912)\" cx=\"2194.73\" cy=\"877.663\" r=\"14\" fill=\"#cd5c5c\" fill-rule=\"evenodd\" fill-opacity=\"1\" stroke=\"none\"/>\n",
       "<circle clip-path=\"url(#clip912)\" cx=\"2200.33\" cy=\"882.812\" r=\"14\" fill=\"#cd5c5c\" fill-rule=\"evenodd\" fill-opacity=\"1\" stroke=\"none\"/>\n",
       "<circle clip-path=\"url(#clip912)\" cx=\"2205.94\" cy=\"882.958\" r=\"14\" fill=\"#cd5c5c\" fill-rule=\"evenodd\" fill-opacity=\"1\" stroke=\"none\"/>\n",
       "<circle clip-path=\"url(#clip912)\" cx=\"2211.54\" cy=\"881.515\" r=\"14\" fill=\"#cd5c5c\" fill-rule=\"evenodd\" fill-opacity=\"1\" stroke=\"none\"/>\n",
       "<circle clip-path=\"url(#clip912)\" cx=\"2217.15\" cy=\"880.264\" r=\"14\" fill=\"#cd5c5c\" fill-rule=\"evenodd\" fill-opacity=\"1\" stroke=\"none\"/>\n",
       "<circle clip-path=\"url(#clip912)\" cx=\"2222.75\" cy=\"875.588\" r=\"14\" fill=\"#cd5c5c\" fill-rule=\"evenodd\" fill-opacity=\"1\" stroke=\"none\"/>\n",
       "<circle clip-path=\"url(#clip912)\" cx=\"2228.36\" cy=\"883.108\" r=\"14\" fill=\"#cd5c5c\" fill-rule=\"evenodd\" fill-opacity=\"1\" stroke=\"none\"/>\n",
       "<circle clip-path=\"url(#clip912)\" cx=\"2233.96\" cy=\"879.504\" r=\"14\" fill=\"#cd5c5c\" fill-rule=\"evenodd\" fill-opacity=\"1\" stroke=\"none\"/>\n",
       "<circle clip-path=\"url(#clip912)\" cx=\"2239.57\" cy=\"881.927\" r=\"14\" fill=\"#cd5c5c\" fill-rule=\"evenodd\" fill-opacity=\"1\" stroke=\"none\"/>\n",
       "<circle clip-path=\"url(#clip912)\" cx=\"2245.17\" cy=\"875.875\" r=\"14\" fill=\"#cd5c5c\" fill-rule=\"evenodd\" fill-opacity=\"1\" stroke=\"none\"/>\n",
       "<circle clip-path=\"url(#clip912)\" cx=\"2250.77\" cy=\"872.735\" r=\"14\" fill=\"#cd5c5c\" fill-rule=\"evenodd\" fill-opacity=\"1\" stroke=\"none\"/>\n",
       "<circle clip-path=\"url(#clip912)\" cx=\"2256.38\" cy=\"875.979\" r=\"14\" fill=\"#cd5c5c\" fill-rule=\"evenodd\" fill-opacity=\"1\" stroke=\"none\"/>\n",
       "<circle clip-path=\"url(#clip912)\" cx=\"2261.98\" cy=\"881.01\" r=\"14\" fill=\"#cd5c5c\" fill-rule=\"evenodd\" fill-opacity=\"1\" stroke=\"none\"/>\n",
       "<circle clip-path=\"url(#clip912)\" cx=\"2267.59\" cy=\"880.144\" r=\"14\" fill=\"#cd5c5c\" fill-rule=\"evenodd\" fill-opacity=\"1\" stroke=\"none\"/>\n",
       "<circle clip-path=\"url(#clip912)\" cx=\"2273.19\" cy=\"880.715\" r=\"14\" fill=\"#cd5c5c\" fill-rule=\"evenodd\" fill-opacity=\"1\" stroke=\"none\"/>\n",
       "<circle clip-path=\"url(#clip912)\" cx=\"2278.8\" cy=\"879.906\" r=\"14\" fill=\"#cd5c5c\" fill-rule=\"evenodd\" fill-opacity=\"1\" stroke=\"none\"/>\n",
       "<circle clip-path=\"url(#clip912)\" cx=\"2284.4\" cy=\"882.402\" r=\"14\" fill=\"#cd5c5c\" fill-rule=\"evenodd\" fill-opacity=\"1\" stroke=\"none\"/>\n",
       "<circle clip-path=\"url(#clip912)\" cx=\"2290.01\" cy=\"881.682\" r=\"14\" fill=\"#cd5c5c\" fill-rule=\"evenodd\" fill-opacity=\"1\" stroke=\"none\"/>\n",
       "<circle clip-path=\"url(#clip912)\" cx=\"2295.61\" cy=\"882.36\" r=\"14\" fill=\"#cd5c5c\" fill-rule=\"evenodd\" fill-opacity=\"1\" stroke=\"none\"/>\n",
       "<circle clip-path=\"url(#clip912)\" cx=\"2301.21\" cy=\"878.377\" r=\"14\" fill=\"#cd5c5c\" fill-rule=\"evenodd\" fill-opacity=\"1\" stroke=\"none\"/>\n",
       "<circle clip-path=\"url(#clip912)\" cx=\"2306.82\" cy=\"875.137\" r=\"14\" fill=\"#cd5c5c\" fill-rule=\"evenodd\" fill-opacity=\"1\" stroke=\"none\"/>\n",
       "<circle clip-path=\"url(#clip912)\" cx=\"2312.42\" cy=\"874.8\" r=\"14\" fill=\"#cd5c5c\" fill-rule=\"evenodd\" fill-opacity=\"1\" stroke=\"none\"/>\n",
       "<circle clip-path=\"url(#clip912)\" cx=\"2318.03\" cy=\"881.746\" r=\"14\" fill=\"#cd5c5c\" fill-rule=\"evenodd\" fill-opacity=\"1\" stroke=\"none\"/>\n",
       "<circle clip-path=\"url(#clip912)\" cx=\"2323.63\" cy=\"886.061\" r=\"14\" fill=\"#cd5c5c\" fill-rule=\"evenodd\" fill-opacity=\"1\" stroke=\"none\"/>\n",
       "<circle clip-path=\"url(#clip912)\" cx=\"2329.24\" cy=\"882.637\" r=\"14\" fill=\"#cd5c5c\" fill-rule=\"evenodd\" fill-opacity=\"1\" stroke=\"none\"/>\n",
       "<circle clip-path=\"url(#clip912)\" cx=\"2334.84\" cy=\"879.924\" r=\"14\" fill=\"#cd5c5c\" fill-rule=\"evenodd\" fill-opacity=\"1\" stroke=\"none\"/>\n",
       "<circle clip-path=\"url(#clip912)\" cx=\"2340.45\" cy=\"882.859\" r=\"14\" fill=\"#cd5c5c\" fill-rule=\"evenodd\" fill-opacity=\"1\" stroke=\"none\"/>\n",
       "<circle clip-path=\"url(#clip912)\" cx=\"2346.05\" cy=\"881.281\" r=\"14\" fill=\"#cd5c5c\" fill-rule=\"evenodd\" fill-opacity=\"1\" stroke=\"none\"/>\n",
       "<circle clip-path=\"url(#clip912)\" cx=\"2351.65\" cy=\"881.901\" r=\"14\" fill=\"#cd5c5c\" fill-rule=\"evenodd\" fill-opacity=\"1\" stroke=\"none\"/>\n",
       "<circle clip-path=\"url(#clip912)\" cx=\"2357.26\" cy=\"874.556\" r=\"14\" fill=\"#cd5c5c\" fill-rule=\"evenodd\" fill-opacity=\"1\" stroke=\"none\"/>\n",
       "<circle clip-path=\"url(#clip912)\" cx=\"2362.86\" cy=\"882.609\" r=\"14\" fill=\"#cd5c5c\" fill-rule=\"evenodd\" fill-opacity=\"1\" stroke=\"none\"/>\n",
       "<circle clip-path=\"url(#clip912)\" cx=\"2368.47\" cy=\"880.867\" r=\"14\" fill=\"#cd5c5c\" fill-rule=\"evenodd\" fill-opacity=\"1\" stroke=\"none\"/>\n",
       "<circle clip-path=\"url(#clip912)\" cx=\"2374.07\" cy=\"884.613\" r=\"14\" fill=\"#cd5c5c\" fill-rule=\"evenodd\" fill-opacity=\"1\" stroke=\"none\"/>\n",
       "<circle clip-path=\"url(#clip912)\" cx=\"2379.68\" cy=\"883.54\" r=\"14\" fill=\"#cd5c5c\" fill-rule=\"evenodd\" fill-opacity=\"1\" stroke=\"none\"/>\n",
       "<circle clip-path=\"url(#clip912)\" cx=\"2385.28\" cy=\"884.293\" r=\"14\" fill=\"#cd5c5c\" fill-rule=\"evenodd\" fill-opacity=\"1\" stroke=\"none\"/>\n",
       "<circle clip-path=\"url(#clip912)\" cx=\"2390.89\" cy=\"882.613\" r=\"14\" fill=\"#cd5c5c\" fill-rule=\"evenodd\" fill-opacity=\"1\" stroke=\"none\"/>\n",
       "<circle clip-path=\"url(#clip912)\" cx=\"2396.49\" cy=\"885.687\" r=\"14\" fill=\"#cd5c5c\" fill-rule=\"evenodd\" fill-opacity=\"1\" stroke=\"none\"/>\n",
       "<circle clip-path=\"url(#clip912)\" cx=\"2402.09\" cy=\"884.955\" r=\"14\" fill=\"#cd5c5c\" fill-rule=\"evenodd\" fill-opacity=\"1\" stroke=\"none\"/>\n",
       "<circle clip-path=\"url(#clip912)\" cx=\"2407.7\" cy=\"878.576\" r=\"14\" fill=\"#cd5c5c\" fill-rule=\"evenodd\" fill-opacity=\"1\" stroke=\"none\"/>\n",
       "<circle clip-path=\"url(#clip912)\" cx=\"2413.3\" cy=\"877.881\" r=\"14\" fill=\"#cd5c5c\" fill-rule=\"evenodd\" fill-opacity=\"1\" stroke=\"none\"/>\n",
       "<circle clip-path=\"url(#clip912)\" cx=\"2418.91\" cy=\"885.311\" r=\"14\" fill=\"#cd5c5c\" fill-rule=\"evenodd\" fill-opacity=\"1\" stroke=\"none\"/>\n",
       "<circle clip-path=\"url(#clip912)\" cx=\"2424.51\" cy=\"883.806\" r=\"14\" fill=\"#cd5c5c\" fill-rule=\"evenodd\" fill-opacity=\"1\" stroke=\"none\"/>\n",
       "<circle clip-path=\"url(#clip912)\" cx=\"2430.12\" cy=\"872.651\" r=\"14\" fill=\"#cd5c5c\" fill-rule=\"evenodd\" fill-opacity=\"1\" stroke=\"none\"/>\n",
       "<circle clip-path=\"url(#clip912)\" cx=\"2435.72\" cy=\"879.27\" r=\"14\" fill=\"#cd5c5c\" fill-rule=\"evenodd\" fill-opacity=\"1\" stroke=\"none\"/>\n",
       "<circle clip-path=\"url(#clip912)\" cx=\"2441.33\" cy=\"885.683\" r=\"14\" fill=\"#cd5c5c\" fill-rule=\"evenodd\" fill-opacity=\"1\" stroke=\"none\"/>\n",
       "<circle clip-path=\"url(#clip912)\" cx=\"2446.93\" cy=\"881.536\" r=\"14\" fill=\"#cd5c5c\" fill-rule=\"evenodd\" fill-opacity=\"1\" stroke=\"none\"/>\n",
       "<circle clip-path=\"url(#clip912)\" cx=\"2452.53\" cy=\"873.414\" r=\"14\" fill=\"#cd5c5c\" fill-rule=\"evenodd\" fill-opacity=\"1\" stroke=\"none\"/>\n",
       "<circle clip-path=\"url(#clip912)\" cx=\"2458.14\" cy=\"883.354\" r=\"14\" fill=\"#cd5c5c\" fill-rule=\"evenodd\" fill-opacity=\"1\" stroke=\"none\"/>\n",
       "<circle clip-path=\"url(#clip912)\" cx=\"2463.74\" cy=\"880.821\" r=\"14\" fill=\"#cd5c5c\" fill-rule=\"evenodd\" fill-opacity=\"1\" stroke=\"none\"/>\n",
       "<circle clip-path=\"url(#clip912)\" cx=\"2469.35\" cy=\"884.029\" r=\"14\" fill=\"#cd5c5c\" fill-rule=\"evenodd\" fill-opacity=\"1\" stroke=\"none\"/>\n",
       "<circle clip-path=\"url(#clip912)\" cx=\"2474.95\" cy=\"886.367\" r=\"14\" fill=\"#cd5c5c\" fill-rule=\"evenodd\" fill-opacity=\"1\" stroke=\"none\"/>\n",
       "<circle clip-path=\"url(#clip912)\" cx=\"2480.56\" cy=\"880.901\" r=\"14\" fill=\"#cd5c5c\" fill-rule=\"evenodd\" fill-opacity=\"1\" stroke=\"none\"/>\n",
       "<circle clip-path=\"url(#clip912)\" cx=\"2486.16\" cy=\"884.569\" r=\"14\" fill=\"#cd5c5c\" fill-rule=\"evenodd\" fill-opacity=\"1\" stroke=\"none\"/>\n",
       "<circle clip-path=\"url(#clip912)\" cx=\"2491.77\" cy=\"854.714\" r=\"14\" fill=\"#cd5c5c\" fill-rule=\"evenodd\" fill-opacity=\"1\" stroke=\"none\"/>\n",
       "<circle clip-path=\"url(#clip912)\" cx=\"2497.37\" cy=\"881.188\" r=\"14\" fill=\"#cd5c5c\" fill-rule=\"evenodd\" fill-opacity=\"1\" stroke=\"none\"/>\n",
       "<circle clip-path=\"url(#clip912)\" cx=\"2502.97\" cy=\"878.762\" r=\"14\" fill=\"#cd5c5c\" fill-rule=\"evenodd\" fill-opacity=\"1\" stroke=\"none\"/>\n",
       "<circle clip-path=\"url(#clip912)\" cx=\"2508.58\" cy=\"877.117\" r=\"14\" fill=\"#cd5c5c\" fill-rule=\"evenodd\" fill-opacity=\"1\" stroke=\"none\"/>\n",
       "<circle clip-path=\"url(#clip912)\" cx=\"2514.18\" cy=\"871.581\" r=\"14\" fill=\"#cd5c5c\" fill-rule=\"evenodd\" fill-opacity=\"1\" stroke=\"none\"/>\n",
       "<circle clip-path=\"url(#clip912)\" cx=\"2519.79\" cy=\"865.165\" r=\"14\" fill=\"#cd5c5c\" fill-rule=\"evenodd\" fill-opacity=\"1\" stroke=\"none\"/>\n",
       "<circle clip-path=\"url(#clip912)\" cx=\"2525.39\" cy=\"878.558\" r=\"14\" fill=\"#cd5c5c\" fill-rule=\"evenodd\" fill-opacity=\"1\" stroke=\"none\"/>\n",
       "<circle clip-path=\"url(#clip912)\" cx=\"2531\" cy=\"877.732\" r=\"14\" fill=\"#cd5c5c\" fill-rule=\"evenodd\" fill-opacity=\"1\" stroke=\"none\"/>\n",
       "<circle clip-path=\"url(#clip912)\" cx=\"2536.6\" cy=\"884.915\" r=\"14\" fill=\"#cd5c5c\" fill-rule=\"evenodd\" fill-opacity=\"1\" stroke=\"none\"/>\n",
       "<circle clip-path=\"url(#clip912)\" cx=\"2542.21\" cy=\"884.357\" r=\"14\" fill=\"#cd5c5c\" fill-rule=\"evenodd\" fill-opacity=\"1\" stroke=\"none\"/>\n",
       "<circle clip-path=\"url(#clip912)\" cx=\"2547.81\" cy=\"877.681\" r=\"14\" fill=\"#cd5c5c\" fill-rule=\"evenodd\" fill-opacity=\"1\" stroke=\"none\"/>\n",
       "<circle clip-path=\"url(#clip912)\" cx=\"2553.42\" cy=\"871.782\" r=\"14\" fill=\"#cd5c5c\" fill-rule=\"evenodd\" fill-opacity=\"1\" stroke=\"none\"/>\n",
       "<circle clip-path=\"url(#clip912)\" cx=\"2559.02\" cy=\"872.608\" r=\"14\" fill=\"#cd5c5c\" fill-rule=\"evenodd\" fill-opacity=\"1\" stroke=\"none\"/>\n",
       "<circle clip-path=\"url(#clip912)\" cx=\"2564.62\" cy=\"875.033\" r=\"14\" fill=\"#cd5c5c\" fill-rule=\"evenodd\" fill-opacity=\"1\" stroke=\"none\"/>\n",
       "<circle clip-path=\"url(#clip912)\" cx=\"2570.23\" cy=\"871.286\" r=\"14\" fill=\"#cd5c5c\" fill-rule=\"evenodd\" fill-opacity=\"1\" stroke=\"none\"/>\n",
       "<circle clip-path=\"url(#clip912)\" cx=\"2575.83\" cy=\"870.529\" r=\"14\" fill=\"#cd5c5c\" fill-rule=\"evenodd\" fill-opacity=\"1\" stroke=\"none\"/>\n",
       "<circle clip-path=\"url(#clip912)\" cx=\"2581.44\" cy=\"874.779\" r=\"14\" fill=\"#cd5c5c\" fill-rule=\"evenodd\" fill-opacity=\"1\" stroke=\"none\"/>\n",
       "<circle clip-path=\"url(#clip912)\" cx=\"2587.04\" cy=\"867.53\" r=\"14\" fill=\"#cd5c5c\" fill-rule=\"evenodd\" fill-opacity=\"1\" stroke=\"none\"/>\n",
       "<circle clip-path=\"url(#clip912)\" cx=\"2592.65\" cy=\"875.853\" r=\"14\" fill=\"#cd5c5c\" fill-rule=\"evenodd\" fill-opacity=\"1\" stroke=\"none\"/>\n",
       "<circle clip-path=\"url(#clip912)\" cx=\"2598.25\" cy=\"864.002\" r=\"14\" fill=\"#cd5c5c\" fill-rule=\"evenodd\" fill-opacity=\"1\" stroke=\"none\"/>\n",
       "<circle clip-path=\"url(#clip912)\" cx=\"2603.86\" cy=\"869.73\" r=\"14\" fill=\"#cd5c5c\" fill-rule=\"evenodd\" fill-opacity=\"1\" stroke=\"none\"/>\n",
       "<circle clip-path=\"url(#clip912)\" cx=\"2609.46\" cy=\"872.593\" r=\"14\" fill=\"#cd5c5c\" fill-rule=\"evenodd\" fill-opacity=\"1\" stroke=\"none\"/>\n",
       "<circle clip-path=\"url(#clip912)\" cx=\"2615.06\" cy=\"862.14\" r=\"14\" fill=\"#cd5c5c\" fill-rule=\"evenodd\" fill-opacity=\"1\" stroke=\"none\"/>\n",
       "<circle clip-path=\"url(#clip912)\" cx=\"2620.67\" cy=\"870.299\" r=\"14\" fill=\"#cd5c5c\" fill-rule=\"evenodd\" fill-opacity=\"1\" stroke=\"none\"/>\n",
       "<circle clip-path=\"url(#clip912)\" cx=\"2626.27\" cy=\"876.788\" r=\"14\" fill=\"#cd5c5c\" fill-rule=\"evenodd\" fill-opacity=\"1\" stroke=\"none\"/>\n",
       "<circle clip-path=\"url(#clip912)\" cx=\"2631.88\" cy=\"878.401\" r=\"14\" fill=\"#cd5c5c\" fill-rule=\"evenodd\" fill-opacity=\"1\" stroke=\"none\"/>\n",
       "<circle clip-path=\"url(#clip912)\" cx=\"2637.48\" cy=\"854.953\" r=\"14\" fill=\"#cd5c5c\" fill-rule=\"evenodd\" fill-opacity=\"1\" stroke=\"none\"/>\n",
       "<circle clip-path=\"url(#clip912)\" cx=\"2643.09\" cy=\"860.18\" r=\"14\" fill=\"#cd5c5c\" fill-rule=\"evenodd\" fill-opacity=\"1\" stroke=\"none\"/>\n",
       "<circle clip-path=\"url(#clip912)\" cx=\"2648.69\" cy=\"876.357\" r=\"14\" fill=\"#cd5c5c\" fill-rule=\"evenodd\" fill-opacity=\"1\" stroke=\"none\"/>\n",
       "<circle clip-path=\"url(#clip912)\" cx=\"2654.3\" cy=\"881.264\" r=\"14\" fill=\"#cd5c5c\" fill-rule=\"evenodd\" fill-opacity=\"1\" stroke=\"none\"/>\n",
       "<circle clip-path=\"url(#clip912)\" cx=\"2659.9\" cy=\"880.679\" r=\"14\" fill=\"#cd5c5c\" fill-rule=\"evenodd\" fill-opacity=\"1\" stroke=\"none\"/>\n",
       "<circle clip-path=\"url(#clip912)\" cx=\"2665.5\" cy=\"876.544\" r=\"14\" fill=\"#cd5c5c\" fill-rule=\"evenodd\" fill-opacity=\"1\" stroke=\"none\"/>\n",
       "<circle clip-path=\"url(#clip912)\" cx=\"2671.11\" cy=\"877.036\" r=\"14\" fill=\"#cd5c5c\" fill-rule=\"evenodd\" fill-opacity=\"1\" stroke=\"none\"/>\n",
       "<circle clip-path=\"url(#clip912)\" cx=\"2676.71\" cy=\"859.106\" r=\"14\" fill=\"#cd5c5c\" fill-rule=\"evenodd\" fill-opacity=\"1\" stroke=\"none\"/>\n",
       "<circle clip-path=\"url(#clip912)\" cx=\"2682.32\" cy=\"867.475\" r=\"14\" fill=\"#cd5c5c\" fill-rule=\"evenodd\" fill-opacity=\"1\" stroke=\"none\"/>\n",
       "<circle clip-path=\"url(#clip912)\" cx=\"2687.92\" cy=\"866.921\" r=\"14\" fill=\"#cd5c5c\" fill-rule=\"evenodd\" fill-opacity=\"1\" stroke=\"none\"/>\n",
       "<circle clip-path=\"url(#clip912)\" cx=\"2693.53\" cy=\"877.107\" r=\"14\" fill=\"#cd5c5c\" fill-rule=\"evenodd\" fill-opacity=\"1\" stroke=\"none\"/>\n",
       "<circle clip-path=\"url(#clip912)\" cx=\"2699.13\" cy=\"877.519\" r=\"14\" fill=\"#cd5c5c\" fill-rule=\"evenodd\" fill-opacity=\"1\" stroke=\"none\"/>\n",
       "<circle clip-path=\"url(#clip912)\" cx=\"2704.74\" cy=\"884.649\" r=\"14\" fill=\"#cd5c5c\" fill-rule=\"evenodd\" fill-opacity=\"1\" stroke=\"none\"/>\n",
       "<circle clip-path=\"url(#clip912)\" cx=\"2710.34\" cy=\"883.681\" r=\"14\" fill=\"#cd5c5c\" fill-rule=\"evenodd\" fill-opacity=\"1\" stroke=\"none\"/>\n",
       "<circle clip-path=\"url(#clip912)\" cx=\"2715.94\" cy=\"880.035\" r=\"14\" fill=\"#cd5c5c\" fill-rule=\"evenodd\" fill-opacity=\"1\" stroke=\"none\"/>\n",
       "<circle clip-path=\"url(#clip912)\" cx=\"2721.55\" cy=\"884.18\" r=\"14\" fill=\"#cd5c5c\" fill-rule=\"evenodd\" fill-opacity=\"1\" stroke=\"none\"/>\n",
       "<circle clip-path=\"url(#clip912)\" cx=\"2727.15\" cy=\"883.135\" r=\"14\" fill=\"#cd5c5c\" fill-rule=\"evenodd\" fill-opacity=\"1\" stroke=\"none\"/>\n",
       "<circle clip-path=\"url(#clip912)\" cx=\"2732.76\" cy=\"855.517\" r=\"14\" fill=\"#cd5c5c\" fill-rule=\"evenodd\" fill-opacity=\"1\" stroke=\"none\"/>\n",
       "<circle clip-path=\"url(#clip912)\" cx=\"2738.36\" cy=\"875.876\" r=\"14\" fill=\"#cd5c5c\" fill-rule=\"evenodd\" fill-opacity=\"1\" stroke=\"none\"/>\n",
       "<circle clip-path=\"url(#clip912)\" cx=\"2743.97\" cy=\"862.392\" r=\"14\" fill=\"#cd5c5c\" fill-rule=\"evenodd\" fill-opacity=\"1\" stroke=\"none\"/>\n",
       "<circle clip-path=\"url(#clip912)\" cx=\"2749.57\" cy=\"862.737\" r=\"14\" fill=\"#cd5c5c\" fill-rule=\"evenodd\" fill-opacity=\"1\" stroke=\"none\"/>\n",
       "<circle clip-path=\"url(#clip912)\" cx=\"2755.18\" cy=\"881.898\" r=\"14\" fill=\"#cd5c5c\" fill-rule=\"evenodd\" fill-opacity=\"1\" stroke=\"none\"/>\n",
       "<circle clip-path=\"url(#clip912)\" cx=\"2760.78\" cy=\"878.327\" r=\"14\" fill=\"#cd5c5c\" fill-rule=\"evenodd\" fill-opacity=\"1\" stroke=\"none\"/>\n",
       "<circle clip-path=\"url(#clip912)\" cx=\"2766.38\" cy=\"873.748\" r=\"14\" fill=\"#cd5c5c\" fill-rule=\"evenodd\" fill-opacity=\"1\" stroke=\"none\"/>\n",
       "<circle clip-path=\"url(#clip912)\" cx=\"2771.99\" cy=\"867.402\" r=\"14\" fill=\"#cd5c5c\" fill-rule=\"evenodd\" fill-opacity=\"1\" stroke=\"none\"/>\n",
       "<circle clip-path=\"url(#clip912)\" cx=\"2777.59\" cy=\"849.334\" r=\"14\" fill=\"#cd5c5c\" fill-rule=\"evenodd\" fill-opacity=\"1\" stroke=\"none\"/>\n",
       "<circle clip-path=\"url(#clip912)\" cx=\"2783.2\" cy=\"885.861\" r=\"14\" fill=\"#cd5c5c\" fill-rule=\"evenodd\" fill-opacity=\"1\" stroke=\"none\"/>\n",
       "<circle clip-path=\"url(#clip912)\" cx=\"2788.8\" cy=\"877.482\" r=\"14\" fill=\"#cd5c5c\" fill-rule=\"evenodd\" fill-opacity=\"1\" stroke=\"none\"/>\n",
       "<circle clip-path=\"url(#clip912)\" cx=\"2794.41\" cy=\"876.501\" r=\"14\" fill=\"#cd5c5c\" fill-rule=\"evenodd\" fill-opacity=\"1\" stroke=\"none\"/>\n",
       "<circle clip-path=\"url(#clip912)\" cx=\"2800.01\" cy=\"867.708\" r=\"14\" fill=\"#cd5c5c\" fill-rule=\"evenodd\" fill-opacity=\"1\" stroke=\"none\"/>\n",
       "<circle clip-path=\"url(#clip912)\" cx=\"2805.62\" cy=\"858.229\" r=\"14\" fill=\"#cd5c5c\" fill-rule=\"evenodd\" fill-opacity=\"1\" stroke=\"none\"/>\n",
       "<circle clip-path=\"url(#clip912)\" cx=\"2811.22\" cy=\"865.264\" r=\"14\" fill=\"#cd5c5c\" fill-rule=\"evenodd\" fill-opacity=\"1\" stroke=\"none\"/>\n",
       "<circle clip-path=\"url(#clip912)\" cx=\"2816.82\" cy=\"872.204\" r=\"14\" fill=\"#cd5c5c\" fill-rule=\"evenodd\" fill-opacity=\"1\" stroke=\"none\"/>\n",
       "<circle clip-path=\"url(#clip912)\" cx=\"2822.43\" cy=\"870.326\" r=\"14\" fill=\"#cd5c5c\" fill-rule=\"evenodd\" fill-opacity=\"1\" stroke=\"none\"/>\n",
       "<circle clip-path=\"url(#clip912)\" cx=\"2828.03\" cy=\"870.979\" r=\"14\" fill=\"#cd5c5c\" fill-rule=\"evenodd\" fill-opacity=\"1\" stroke=\"none\"/>\n",
       "<circle clip-path=\"url(#clip912)\" cx=\"2833.64\" cy=\"867.58\" r=\"14\" fill=\"#cd5c5c\" fill-rule=\"evenodd\" fill-opacity=\"1\" stroke=\"none\"/>\n",
       "<circle clip-path=\"url(#clip912)\" cx=\"2839.24\" cy=\"862.506\" r=\"14\" fill=\"#cd5c5c\" fill-rule=\"evenodd\" fill-opacity=\"1\" stroke=\"none\"/>\n",
       "<circle clip-path=\"url(#clip912)\" cx=\"2844.85\" cy=\"827.439\" r=\"14\" fill=\"#cd5c5c\" fill-rule=\"evenodd\" fill-opacity=\"1\" stroke=\"none\"/>\n",
       "<circle clip-path=\"url(#clip912)\" cx=\"2850.45\" cy=\"881.63\" r=\"14\" fill=\"#cd5c5c\" fill-rule=\"evenodd\" fill-opacity=\"1\" stroke=\"none\"/>\n",
       "<circle clip-path=\"url(#clip912)\" cx=\"2856.06\" cy=\"880.788\" r=\"14\" fill=\"#cd5c5c\" fill-rule=\"evenodd\" fill-opacity=\"1\" stroke=\"none\"/>\n",
       "<circle clip-path=\"url(#clip912)\" cx=\"2861.66\" cy=\"855.659\" r=\"14\" fill=\"#cd5c5c\" fill-rule=\"evenodd\" fill-opacity=\"1\" stroke=\"none\"/>\n",
       "<circle clip-path=\"url(#clip912)\" cx=\"2867.26\" cy=\"857.006\" r=\"14\" fill=\"#cd5c5c\" fill-rule=\"evenodd\" fill-opacity=\"1\" stroke=\"none\"/>\n",
       "<circle clip-path=\"url(#clip912)\" cx=\"2872.87\" cy=\"879.11\" r=\"14\" fill=\"#cd5c5c\" fill-rule=\"evenodd\" fill-opacity=\"1\" stroke=\"none\"/>\n",
       "<circle clip-path=\"url(#clip912)\" cx=\"2878.47\" cy=\"864.081\" r=\"14\" fill=\"#cd5c5c\" fill-rule=\"evenodd\" fill-opacity=\"1\" stroke=\"none\"/>\n",
       "<circle clip-path=\"url(#clip912)\" cx=\"2884.08\" cy=\"882.932\" r=\"14\" fill=\"#cd5c5c\" fill-rule=\"evenodd\" fill-opacity=\"1\" stroke=\"none\"/>\n",
       "<circle clip-path=\"url(#clip912)\" cx=\"2889.68\" cy=\"875.619\" r=\"14\" fill=\"#cd5c5c\" fill-rule=\"evenodd\" fill-opacity=\"1\" stroke=\"none\"/>\n",
       "<circle clip-path=\"url(#clip912)\" cx=\"2895.29\" cy=\"874.053\" r=\"14\" fill=\"#cd5c5c\" fill-rule=\"evenodd\" fill-opacity=\"1\" stroke=\"none\"/>\n",
       "<circle clip-path=\"url(#clip912)\" cx=\"2900.89\" cy=\"875.223\" r=\"14\" fill=\"#cd5c5c\" fill-rule=\"evenodd\" fill-opacity=\"1\" stroke=\"none\"/>\n",
       "<circle clip-path=\"url(#clip912)\" cx=\"2906.5\" cy=\"860.259\" r=\"14\" fill=\"#cd5c5c\" fill-rule=\"evenodd\" fill-opacity=\"1\" stroke=\"none\"/>\n",
       "<circle clip-path=\"url(#clip912)\" cx=\"2912.1\" cy=\"842.741\" r=\"14\" fill=\"#cd5c5c\" fill-rule=\"evenodd\" fill-opacity=\"1\" stroke=\"none\"/>\n",
       "<circle clip-path=\"url(#clip912)\" cx=\"2917.7\" cy=\"882.036\" r=\"14\" fill=\"#cd5c5c\" fill-rule=\"evenodd\" fill-opacity=\"1\" stroke=\"none\"/>\n",
       "<circle clip-path=\"url(#clip912)\" cx=\"2923.31\" cy=\"812.135\" r=\"14\" fill=\"#cd5c5c\" fill-rule=\"evenodd\" fill-opacity=\"1\" stroke=\"none\"/>\n",
       "<circle clip-path=\"url(#clip912)\" cx=\"2928.91\" cy=\"871.741\" r=\"14\" fill=\"#cd5c5c\" fill-rule=\"evenodd\" fill-opacity=\"1\" stroke=\"none\"/>\n",
       "<circle clip-path=\"url(#clip912)\" cx=\"2934.52\" cy=\"856.64\" r=\"14\" fill=\"#cd5c5c\" fill-rule=\"evenodd\" fill-opacity=\"1\" stroke=\"none\"/>\n",
       "<circle clip-path=\"url(#clip912)\" cx=\"2940.12\" cy=\"848.121\" r=\"14\" fill=\"#cd5c5c\" fill-rule=\"evenodd\" fill-opacity=\"1\" stroke=\"none\"/>\n",
       "<circle clip-path=\"url(#clip912)\" cx=\"2945.73\" cy=\"865.141\" r=\"14\" fill=\"#cd5c5c\" fill-rule=\"evenodd\" fill-opacity=\"1\" stroke=\"none\"/>\n",
       "<circle clip-path=\"url(#clip912)\" cx=\"2951.33\" cy=\"878.733\" r=\"14\" fill=\"#cd5c5c\" fill-rule=\"evenodd\" fill-opacity=\"1\" stroke=\"none\"/>\n",
       "<circle clip-path=\"url(#clip912)\" cx=\"2956.94\" cy=\"882.009\" r=\"14\" fill=\"#cd5c5c\" fill-rule=\"evenodd\" fill-opacity=\"1\" stroke=\"none\"/>\n",
       "<circle clip-path=\"url(#clip912)\" cx=\"2962.54\" cy=\"829.279\" r=\"14\" fill=\"#cd5c5c\" fill-rule=\"evenodd\" fill-opacity=\"1\" stroke=\"none\"/>\n",
       "<circle clip-path=\"url(#clip912)\" cx=\"2968.15\" cy=\"874.233\" r=\"14\" fill=\"#cd5c5c\" fill-rule=\"evenodd\" fill-opacity=\"1\" stroke=\"none\"/>\n",
       "<circle clip-path=\"url(#clip912)\" cx=\"2973.75\" cy=\"865.929\" r=\"14\" fill=\"#cd5c5c\" fill-rule=\"evenodd\" fill-opacity=\"1\" stroke=\"none\"/>\n",
       "<circle clip-path=\"url(#clip912)\" cx=\"2979.35\" cy=\"862.814\" r=\"14\" fill=\"#cd5c5c\" fill-rule=\"evenodd\" fill-opacity=\"1\" stroke=\"none\"/>\n",
       "<circle clip-path=\"url(#clip912)\" cx=\"2984.96\" cy=\"780.878\" r=\"14\" fill=\"#cd5c5c\" fill-rule=\"evenodd\" fill-opacity=\"1\" stroke=\"none\"/>\n",
       "<circle clip-path=\"url(#clip912)\" cx=\"2990.56\" cy=\"858.074\" r=\"14\" fill=\"#cd5c5c\" fill-rule=\"evenodd\" fill-opacity=\"1\" stroke=\"none\"/>\n",
       "<circle clip-path=\"url(#clip912)\" cx=\"2996.17\" cy=\"861.362\" r=\"14\" fill=\"#cd5c5c\" fill-rule=\"evenodd\" fill-opacity=\"1\" stroke=\"none\"/>\n",
       "<circle clip-path=\"url(#clip912)\" cx=\"3001.77\" cy=\"828.86\" r=\"14\" fill=\"#cd5c5c\" fill-rule=\"evenodd\" fill-opacity=\"1\" stroke=\"none\"/>\n",
       "<circle clip-path=\"url(#clip912)\" cx=\"3007.38\" cy=\"856.573\" r=\"14\" fill=\"#cd5c5c\" fill-rule=\"evenodd\" fill-opacity=\"1\" stroke=\"none\"/>\n",
       "<circle clip-path=\"url(#clip912)\" cx=\"3012.98\" cy=\"813.014\" r=\"14\" fill=\"#cd5c5c\" fill-rule=\"evenodd\" fill-opacity=\"1\" stroke=\"none\"/>\n",
       "<circle clip-path=\"url(#clip912)\" cx=\"3018.59\" cy=\"858.288\" r=\"14\" fill=\"#cd5c5c\" fill-rule=\"evenodd\" fill-opacity=\"1\" stroke=\"none\"/>\n",
       "<circle clip-path=\"url(#clip912)\" cx=\"3024.19\" cy=\"814.356\" r=\"14\" fill=\"#cd5c5c\" fill-rule=\"evenodd\" fill-opacity=\"1\" stroke=\"none\"/>\n",
       "<circle clip-path=\"url(#clip912)\" cx=\"3029.79\" cy=\"860.978\" r=\"14\" fill=\"#cd5c5c\" fill-rule=\"evenodd\" fill-opacity=\"1\" stroke=\"none\"/>\n",
       "<circle clip-path=\"url(#clip912)\" cx=\"3035.4\" cy=\"786.713\" r=\"14\" fill=\"#cd5c5c\" fill-rule=\"evenodd\" fill-opacity=\"1\" stroke=\"none\"/>\n",
       "<circle clip-path=\"url(#clip912)\" cx=\"3041\" cy=\"791.135\" r=\"14\" fill=\"#cd5c5c\" fill-rule=\"evenodd\" fill-opacity=\"1\" stroke=\"none\"/>\n",
       "<circle clip-path=\"url(#clip912)\" cx=\"3046.61\" cy=\"742.829\" r=\"14\" fill=\"#cd5c5c\" fill-rule=\"evenodd\" fill-opacity=\"1\" stroke=\"none\"/>\n",
       "<circle clip-path=\"url(#clip912)\" cx=\"3052.21\" cy=\"797.181\" r=\"14\" fill=\"#cd5c5c\" fill-rule=\"evenodd\" fill-opacity=\"1\" stroke=\"none\"/>\n",
       "<circle clip-path=\"url(#clip912)\" cx=\"3057.82\" cy=\"807.409\" r=\"14\" fill=\"#cd5c5c\" fill-rule=\"evenodd\" fill-opacity=\"1\" stroke=\"none\"/>\n",
       "<circle clip-path=\"url(#clip912)\" cx=\"3063.42\" cy=\"550.057\" r=\"14\" fill=\"#cd5c5c\" fill-rule=\"evenodd\" fill-opacity=\"1\" stroke=\"none\"/>\n",
       "<circle clip-path=\"url(#clip912)\" cx=\"3069.03\" cy=\"402.349\" r=\"14\" fill=\"#cd5c5c\" fill-rule=\"evenodd\" fill-opacity=\"1\" stroke=\"none\"/>\n",
       "</svg>\n"
      ]
     },
     "execution_count": 26,
     "metadata": {},
     "output_type": "execute_result"
    }
   ],
   "source": [
    "plot1 = plot(diff(evals) ./ evals[2:end], legend = false, size = (800,250), linewidth = 2.5, linestyle = :dash)\n",
    "scatter!(diff(evals) ./ evals[2:end], \n",
    "        markercolor = :indianred, markerstrokecolor = :indianred, markersize = 4)"
   ]
  },
  {
   "cell_type": "markdown",
   "metadata": {},
   "source": [
    "The eigenvalues are increasing from left to right. \n",
    "\n",
    "We know that $R$ always has a kernel. This is the leftmost point on top.\n",
    "\n",
    "In addition, we see more points on the left separating from the rest. \n",
    "\n",
    "This is an indicator that there could be indeed polynomial equations (approximately) vanishing on the data.\n",
    "\n",
    "For instance, the trucks are photographed from different angles, so that the equation could describe rotational symmetry."
   ]
  },
  {
   "cell_type": "markdown",
   "metadata": {},
   "source": [
    "# Generative Models\n",
    "\n",
    "We consider again the [FashionMNIST](https://github.com/zalandoresearch/fashion-mnist) dataset from [Zalando Research](https://github.com/zalandoresearch)."
   ]
  },
  {
   "cell_type": "code",
   "execution_count": 27,
   "metadata": {},
   "outputs": [],
   "source": [
    "data_X, data_Y = FashionMNIST.traindata();"
   ]
  },
  {
   "cell_type": "code",
   "execution_count": 28,
   "metadata": {},
   "outputs": [],
   "source": [
    "labels = [\"T-shirt/top\", \n",
    "            \"Trouser\", \n",
    "            \"Pullover\", \n",
    "            \"Dress\", \n",
    "            \"Coat\", \n",
    "            \"Sandal\", \n",
    "            \"Shirt\", \n",
    "            \"Sneaker\", \n",
    "            \"Bag\", \n",
    "            \"Ankle boot\"];"
   ]
  },
  {
   "cell_type": "markdown",
   "metadata": {},
   "source": [
    "Let us consider the subset of the data consisting of images of sneakers."
   ]
  },
  {
   "cell_type": "code",
   "execution_count": 29,
   "metadata": {},
   "outputs": [],
   "source": [
    "idx = findfirst(labels .== \"Sneaker\") - 1\n",
    "sneakers = data_X[:,:, data_Y .== idx];"
   ]
  },
  {
   "cell_type": "markdown",
   "metadata": {},
   "source": [
    "This dataset contains 6000 images. "
   ]
  },
  {
   "cell_type": "code",
   "execution_count": 30,
   "metadata": {},
   "outputs": [
    {
     "data": {
      "text/plain": [
       "6000"
      ]
     },
     "execution_count": 30,
     "metadata": {},
     "output_type": "execute_result"
    }
   ],
   "source": [
    "n_images = size(sneakers, 3)"
   ]
  },
  {
   "cell_type": "markdown",
   "metadata": {},
   "source": [
    "We take a subset of $n=500$ images."
   ]
  },
  {
   "cell_type": "code",
   "execution_count": 31,
   "metadata": {},
   "outputs": [],
   "source": [
    "n = 500\n",
    "subsample = sample(1:n_images, n, replace = false);"
   ]
  },
  {
   "cell_type": "markdown",
   "metadata": {},
   "source": [
    "Let us take a look at 6 randomly chosen images from our dataset."
   ]
  },
  {
   "cell_type": "code",
   "execution_count": 32,
   "metadata": {},
   "outputs": [
    {
     "data": {
      "text/html": [
       "<table><tbody><tr><td style='text-align:center;vertical-align:middle; margin: 0.5em;border:1px #90999f solid;border-collapse:collapse'><img style='max-width: 100px; max-height:100px;display:inline' src=\"data:image/png;base64,iVBORw0KGgoAAAANSUhEUgAAAHAAAABwCAAAAADji6uXAAAABGdBTUEAALGPC/xhBQAAAAFzUkdCAK7OHOkAAAAgY0hSTQAAeiYAAICEAAD6AAAAgOgAAHUwAADqYAAAOpgAABdwnLpRPAAAAjxJREFUaAW9wT9r3AUABuDnLu8lMbn8qdZQMFZqY3Qzg4jawUlxdhAcHBx0FxV3/QaCgx9A3PwKjn4FBytGWihURGJNNM3dOfwGPWjBxfd5oizKoizKoizKoizKoizKoizKoizKoizKoizKoizKoizKoizKoizKoizKoizKoizKoizKoizK4j8YYYS5ZYc4wG1s4DuDERYeLMqiLMriIcYGcyywMBjhJVzBGzjCt3gG3+ArLCx7Da/jY0RZlEVZxlhgYdncsj1cxeN4Bfu4jXfxHmZ4GzfwNX7CId7CUwhuIMqiLMoy92DPYYoncQVb2MMedvAjfsU7+BKfYRvP42WMcI4zHGOCfURZlEVZJriES7iMI+zgLzyKKSZYMxjhFjZwgGt4AR/iAxzgGGu4hxPsGhwiyqIsyvI+HsN9bCO4g2exhV9wDycIVnAZqzjHMTbxKT7Bm3gVI1xgjHX8gU1EWZRFWb7ACE/jCHvYNLiFbexgjEcwxRTruMAqzrGJ7/E5XsQP2DWYYQvXEWVRFmW5hlPcxE3LruIJgxWDGU7xJ05whgucYgNr+Aj3LZtiA1EWZVGWO5jiOjaxwBl+x2/42cNNsIoV7GKOGbYxxhwzzDHHXURZlEVZznCGuxhhBRuYYA37BnODGRZY4Bwzgwv/mGOEFaxiHWMsEGVRFmXxLwtc4MT/J8qiLMqiLMqiLMqiLMqiLMqiLMqiLMqiLMqiLMqiLMqiLMqiLMqiLMqiLMqiLMqiLMqiLMr+Btz9YLJ2kb82AAAAAElFTkSuQmCC\"></td><td style='text-align:center;vertical-align:middle; margin: 0.5em;border:1px #90999f solid;border-collapse:collapse'><img style='max-width: 100px; max-height:100px;display:inline' src=\"data:image/png;base64,iVBORw0KGgoAAAANSUhEUgAAAHAAAABwCAAAAADji6uXAAAABGdBTUEAALGPC/xhBQAAAAFzUkdCAK7OHOkAAAAgY0hSTQAAeiYAAICEAAD6AAAAgOgAAHUwAADqYAAAOpgAABdwnLpRPAAAAlBJREFUaAW9wT1rnQUABtDD7dPmpjEETWrSUkIsFXToUEsLLnVyrqNTFwdHB8Wf4eYg4h8QBB061qGLU9EQpIt2KGhbU5UgSfNx+6Jwh5vi5OBzTpRFWZRFWZRFWZRFWZRFWZRFWZRFWZRFWZRFWZRFWZRFWZRFWZRFWZRFWZRFWZRFWZRFWZRFWfwHY+xjHWcxwSl8599GGMxcwS6iLMqiLI4ZmRo8L5iYuoFfsYgbWMNn2MS2mcHMC7iJbxFlURZlcczgecEYJ/AmVrCK67iH+3gFN/EnHuNrTDBgCU9xEnsYI8qiLMoywmDqNJbwKh7hEFdwHo8wwho2cA23sYWrWMQKlrGFeaxiH0fYwRqiLMqiLAMu4Dwu4wHuYAOX8AD38DrmcQafYw7vYhkf4gNcww7eNvUEIzzERXyJKIuyKIt/XMYcNvE9DnAB9/EaPsZV3MEE7+Md/Iy7+AGfYBM/IngPH+Gcqd9wAlEWZVGWDSxgwEUs4zEGLGMbn2LAHxjwBr7CEzzEF/gdS1jCNr7BOn7CJYyxiCiLsijLGaxjF/s4hw3s4Qgn8QyH2MAYh1jCWbyFI4zMzGEBB5hgF7v4BVEWZVGWu3gZ17GDMV7EgD08w2BqwATzOIUBBxjh0NQIE/xlasCAl7CNKIuyKMuAW7iFJaxjGatYwWlTE0zwFAMmmOAAEzMjUyMzAxawhSiLsiiLY3aw5f8VZVEWZVEWZVEWZVEWZVEWZVEWZVEWZVEWZVEWZVEWZVEWZVEWZVEWZVEWZVEWZVEWZVEWZX8DQHZ4I8d72VgAAAAASUVORK5C\"></td><td style='text-align:center;vertical-align:middle; margin: 0.5em;border:1px #90999f solid;border-collapse:collapse'><img style='max-width: 100px; max-height:100px;display:inline' src=\"data:image/png;base64,iVBORw0KGgoAAAANSUhEUgAAAHAAAABwCAAAAADji6uXAAAABGdBTUEAALGPC/xhBQAAAAFzUkdCAK7OHOkAAAAgY0hSTQAAeiYAAICEAAD6AAAAgOgAAHUwAADqYAAAOpgAABdwnLpRPAAAAm9JREFUaAW9wc2KlQUABuDnO+d1xhkZR8WU0H6ghaAQUcsiIggiIoKW4TYCF+2iRYtWLdt0CYF4A91Am0BoGwUlYZRi4s9MNdM0Z76CL5hEIt28zxNlURZlURZlURZlURZlURZlURZlURZlURZlURZlURZlURZlURZlURZlURZlURZlURYPaYY993oez+JT9xswxwIjoizKoiwewgx7JjN8jFO4hgNYwyYGjCYjdu2LsiiLsvgfA0aTPZPzeB/fYB0DzuBNfIbRvkfxAd4zibIoi7L4DwNGjPa9ilfwBL7AHJuY4Q4+whl8aN8FvI0vcQlRFmVRFv8YMGDAiD2TAe/gZfyKbdzGKg7gCHZMfsJ5vIbP8QdewHe4gEuIsiiLsgwYMWJ0r7fwLn7GFczwGAb8gBmWcRpb+BNf4yjewBy3sYEzeBxRFmVRltG+GZ7DOZzCaXyPm1jH77iCFRzFmslXeBLHMeA2ruMEVrCDXTyCKIuyKIu/vYTXsYQ1zLBrso3juINDOIYRx3ALN7GCb7GJI1jGSVzDXQQnMUeURVmU5QQ+wVWTTcyxjhn2MOAQfsM1PIMBq1jGKtZxEMexhR+xhKewwDkcRpRFWZTlBl7EWTyNcziFZQRzHMZZHMQWbmEHqxgxYoFt/II9rGIX17HARVxFlEVZlGWOBS7jsvsFcyzjINawgW1senhRFmVRlgW2TJYwwy5mWJgssIEN3DCZYwlzzE0GzDAiWGCOBVZwC1EWZVEW/7LjwS2w8ODumkRZlEVZlEVZlEVZlEVZlEVZlEVZlEVZlEVZlEVZlEVZlEVZlEVZlEVZlEVZlEXZX2ukdnfGmYlmAAAAAElFTkSuQmCC\"></td><td style='text-align:center;vertical-align:middle; margin: 0.5em;border:1px #90999f solid;border-collapse:collapse'><img style='max-width: 100px; max-height:100px;display:inline' src=\"data:image/png;base64,iVBORw0KGgoAAAANSUhEUgAAAHAAAABwCAAAAADji6uXAAAABGdBTUEAALGPC/xhBQAAAAFzUkdCAK7OHOkAAAAgY0hSTQAAeiYAAICEAAD6AAAAgOgAAHUwAADqYAAAOpgAABdwnLpRPAAAAsxJREFUaAW9wT+I1gUcB+Dn976fs/NPd3hWpnR1NbQkQbYkeQ0WFfRnCIKkRQeXhqIlmkJwCAKHtqJNioK2QCSxmlyqpRDSBjWOs4Ir87TyrnvfXwe/4eUUShy+zxPFolgUi2JRLIpFsSgWxaJYFItiUSyKRbEoFsWiWBSLYlEsikWxKBbFolgUi2JxExqdVmcaO3DMSF+nhwGGOlEsikWxuAmtkT14A7/hmE4PA52BtaJYFIticYMaNBjqTOMINuAcekaGOtuxBx8aiWJRLIrFDWrR6hzAu1iPt/AxVlzvdTyPrTiMBlEsikWxuEaDFj0MrfUyDuq8g4N4ELPYgAV8g7PYi6fwC57FYbSIYlEsisWqBn20GKDB0Mij+Aqn8CaO67yAFlcwg0fwNJawExfwI57EDM4jikWxKBarWqwYabEd2/AadmMW32E3PkAPWzDAIu7AX1jEPVjEp3gFY3gM5xHFolgUi2vcgjHcj514D69iFp9giEm06KNBg3/Qx+2YwhjexhwGeA5HEMWiWBSLVd9iEZ/jBwyxhNN4APuxGZuwDhO4DUvo4W6dPgZo0eBXTGACfZ0oFsWiWPbhYcxjWmcJ81jGVVzGfRhgBvM4hRbRaTCO9biKi/gdDbbiT2xGFItiUSwXMI8lDIzchXVoMUSLBZzEJtyKqxjDFMZxBgtY1tmGSSxjL75EFItiUSzH8T72YQU9BFdwGn1sxSX0MIkego1Yxk9ocA6X0cMmrOBvTOJ7fIQoFsWiWKw6hEN4Bi/hInbpNLgTCziJcezHIs6gh13YgHt1BhggaDDEECuIYlEsisWqBi2O4qjONB7S+QyPYzu24EV8ba0nsAN/YAVT+BmXsBFnMUQUi2JRLFa1rjeHOSNf+G8ncML/i2JRLIpFsSgWxaJYFItiUSyKRbEoFsWiWBSLYlEsikWxKBbFolgUi2JRLIr9CzPUlNwOexfBAAAAAElFTkSuQmCC\"></td><td style='text-align:center;vertical-align:middle; margin: 0.5em;border:1px #90999f solid;border-collapse:collapse'><img style='max-width: 100px; max-height:100px;display:inline' src=\"data:image/png;base64,iVBORw0KGgoAAAANSUhEUgAAAHAAAABwCAAAAADji6uXAAAABGdBTUEAALGPC/xhBQAAAAFzUkdCAK7OHOkAAAAgY0hSTQAAeiYAAICEAAD6AAAAgOgAAHUwAADqYAAAOpgAABdwnLpRPAAAAlpJREFUaAW9wT1oXQUABtBzky/Ja5GIRkUaRfyhlYAdFAQRWhCKg04dHDp1dVZBHAUHhwqdirjZRbqLODl0c3Js6RAJhlJFqW0aG/PynsIVooPgIN85URZlURZlURZlURZlURZlURZlURZlURZlURZlURZlURZlURZlURZlURZlURZlURZlURZlURZl8R8sYI65Q6/gTVzDMXxstIC50dzoCfxgFGVRFmXxlwFzhwYMmGHm0AlcxDKu4y2cxCauYOafPsRpnDaKsiiLsiziwCiYYQFTzB06hfewga9xA69ijk1cwtv4FF8YfYAzWMI7uIAoi7Ioy4HRHFOjmdFxnMUbWMNVfIKXcB4TTDHHFtbxOS5hgl/xLY7hHC4gyqIsyuJvVvA0XsB5nME1bCH4DufwOu5hBxMsIvgFN7GI69jCOh7C43gYURZlUZaj+AgP4knsG23iffyIO/gM72IPexgwwT6WEKxhD1OcwCNYwxGsYgNRFmVRlgt4Gd/jDma4i59xgAmm+Aqv4QbWsIRlPIBgwIAJBjyGZ7GMW/gJy4iyKIuyfIMNPIUpDoyOI7iNR7GLfTyPHSzhd9zFAeZGAwbMjJawjwG3EGVRFmW5gi9xFqfwIlZxFCtGwYAdDJhgAYtGi1gxGjBgGUGwjeewiSiLsiiLP93DZVx2aB3P4CSOYBXLWMEc93EfU6MFzDDDAnZxGzfxG+bYRZRFWZTFv9jGNq76f0VZlEVZlEVZlEVZlEVZlEVZlEVZlEVZlEVZlEVZlEVZlEVZlEVZlEVZlEVZlEVZlEVZlEXZH5PkcSc9FmsDAAAAAElFTkSuQmCC\"></td><td style='text-align:center;vertical-align:middle; margin: 0.5em;border:1px #90999f solid;border-collapse:collapse'><img style='max-width: 100px; max-height:100px;display:inline' src=\"data:image/png;base64,iVBORw0KGgoAAAANSUhEUgAAAHAAAABwCAAAAADji6uXAAAABGdBTUEAALGPC/xhBQAAAAFzUkdCAK7OHOkAAAAgY0hSTQAAeiYAAICEAAD6AAAAgOgAAHUwAADqYAAAOpgAABdwnLpRPAAAArFJREFUaAW9wc9r1gUcB/DX8zzvp/n4OHNtjJWjLSmDsKBoQefq0M9Dp04eu5TiPxBeOwchDLr2J0SIHYKQyjC8JAaxMCox2XSy6bbnR8FXGEMCg/i8XlEsikWxKBbFolgUi2JRLIpFsSgWxaJYFItiUSyKRbEoFsWiWBSLYlEsikWxKBbFolgUi2LxP/gMZ/ADuhjYNUYPdzSiWBSLYvGA2hhpdHAaR9HBG+jiOHbsdQiXcRrLiGJRLIrFAxppvIOPMI8V/I6v8BK+wQn8qDGD73AOb2EZUSyKRbG0MHa/DoZ2Hcf7WMBFXMQCjmERZ3EUF/Ab2ujhUzyBA5hEFItiUSwdDNFCC0ONocYHeBeL+BVf4kXM4gJuoY/ncBUD9HAb25jGGh7Hq4hiUSyKZaAxttfbOIGXcRZf4xG8iT7aeBaXcB5zeBSr6OAwdvA6tjCPVxDFolgUi3+cxBY6OIIn8RS+x+dYwk2M8AsmMYcBjmEeK7iMp7GBnxD0NTYwhSgWxaJYzuAZ3NXYQh/ncB6v4U/0MIEdXEcXB7GKEZZwBSuYxQy6GtvYxkOIYlEsimUBBzDCEG3cxBTewxS2NLaxH33cxjqmsYE19DCNNka4hQnsQ08jikWxKJZT+BAL6GEOExhjW+Mghuighz6OYIBJDDRaaCEaO/gLa9iHG4hiUSyK5Wec1AhmsYgX8DwO42HM4C42cAmruIp1XMcf6Gm0sY41fIx5bOExRLEoFsXing7GuIZr+BYju6ZwBx3cRQttdNDGDsYaIwxxCku4guALRLEoFsXinqG9WtiPLro4hAEmsI0hOhojbGKElsYalvEJRnZFsSgWxeJfjLFp1w3/3ab7RbEoFsWiWBSLYlEsikWxKBbFolgUi2JRLIpFsSgWxaJYFItiUSyKRbEoFsX+Br+VjHD1UNcIAAAAAElFTkSuQmCC\"></td></tr></tbody></table><div><small>(a vector displayed as a row to save space)</small></div>"
      ],
      "text/plain": [
       "6-element Vector{Base.ReinterpretArray{Gray{N0f8}, 2, N0f8, Matrix{N0f8}, true}}:\n",
       " [Gray{N0f8}(0.0) Gray{N0f8}(0.0) … Gray{N0f8}(0.0) Gray{N0f8}(0.0); Gray{N0f8}(0.0) Gray{N0f8}(0.0) … Gray{N0f8}(0.0) Gray{N0f8}(0.0); … ; Gray{N0f8}(0.0) Gray{N0f8}(0.0) … Gray{N0f8}(0.0) Gray{N0f8}(0.0); Gray{N0f8}(0.0) Gray{N0f8}(0.0) … Gray{N0f8}(0.0) Gray{N0f8}(0.0)]\n",
       " [Gray{N0f8}(0.0) Gray{N0f8}(0.0) … Gray{N0f8}(0.0) Gray{N0f8}(0.0); Gray{N0f8}(0.0) Gray{N0f8}(0.0) … Gray{N0f8}(0.0) Gray{N0f8}(0.0); … ; Gray{N0f8}(0.0) Gray{N0f8}(0.0) … Gray{N0f8}(0.0) Gray{N0f8}(0.0); Gray{N0f8}(0.0) Gray{N0f8}(0.0) … Gray{N0f8}(0.0) Gray{N0f8}(0.0)]\n",
       " [Gray{N0f8}(0.0) Gray{N0f8}(0.0) … Gray{N0f8}(0.0) Gray{N0f8}(0.0); Gray{N0f8}(0.0) Gray{N0f8}(0.0) … Gray{N0f8}(0.0) Gray{N0f8}(0.0); … ; Gray{N0f8}(0.0) Gray{N0f8}(0.0) … Gray{N0f8}(0.0) Gray{N0f8}(0.0); Gray{N0f8}(0.0) Gray{N0f8}(0.0) … Gray{N0f8}(0.0) Gray{N0f8}(0.0)]\n",
       " [Gray{N0f8}(0.0) Gray{N0f8}(0.0) … Gray{N0f8}(0.0) Gray{N0f8}(0.0); Gray{N0f8}(0.0) Gray{N0f8}(0.0) … Gray{N0f8}(0.0) Gray{N0f8}(0.0); … ; Gray{N0f8}(0.0) Gray{N0f8}(0.0) … Gray{N0f8}(0.0) Gray{N0f8}(0.0); Gray{N0f8}(0.0) Gray{N0f8}(0.0) … Gray{N0f8}(0.0) Gray{N0f8}(0.0)]\n",
       " [Gray{N0f8}(0.0) Gray{N0f8}(0.0) … Gray{N0f8}(0.0) Gray{N0f8}(0.0); Gray{N0f8}(0.0) Gray{N0f8}(0.0) … Gray{N0f8}(0.0) Gray{N0f8}(0.0); … ; Gray{N0f8}(0.0) Gray{N0f8}(0.0) … Gray{N0f8}(0.0) Gray{N0f8}(0.0); Gray{N0f8}(0.0) Gray{N0f8}(0.0) … Gray{N0f8}(0.0) Gray{N0f8}(0.0)]\n",
       " [Gray{N0f8}(0.0) Gray{N0f8}(0.0) … Gray{N0f8}(0.0) Gray{N0f8}(0.0); Gray{N0f8}(0.0) Gray{N0f8}(0.0) … Gray{N0f8}(0.0) Gray{N0f8}(0.0); … ; Gray{N0f8}(0.0) Gray{N0f8}(0.0) … Gray{N0f8}(0.0) Gray{N0f8}(0.0); Gray{N0f8}(0.0) Gray{N0f8}(0.0) … Gray{N0f8}(0.0) Gray{N0f8}(0.0)]"
      ]
     },
     "execution_count": 32,
     "metadata": {},
     "output_type": "execute_result"
    }
   ],
   "source": [
    "k = rand(subsample, 6)\n",
    "[FashionMNIST.convert2image(sneakers[:,:,i]) for i in k]"
   ]
  },
  {
   "cell_type": "markdown",
   "metadata": {},
   "source": [
    "We embed the data in $\\mathbb R^D$ ($D= 28^2 = 784$ for $28\\times 28$ pixels) and center the data."
   ]
  },
  {
   "cell_type": "code",
   "execution_count": 33,
   "metadata": {},
   "outputs": [
    {
     "data": {
      "text/plain": [
       "784"
      ]
     },
     "execution_count": 33,
     "metadata": {},
     "output_type": "execute_result"
    }
   ],
   "source": [
    "D = 28^2"
   ]
  },
  {
   "cell_type": "code",
   "execution_count": 34,
   "metadata": {},
   "outputs": [],
   "source": [
    "X = map(subsample) do i\n",
    "    xᵢ = vec(sneakers[:,:,i])\n",
    "    Float64.(xᵢ)\n",
    "    end;\n",
    "\n",
    "x̄ = mean(X);\n",
    "X = map(x -> x .- x̄, X);"
   ]
  },
  {
   "cell_type": "markdown",
   "metadata": {},
   "source": [
    "The feature matrix $\\Omega$ in this case is simply the matrix having the data as rows."
   ]
  },
  {
   "cell_type": "code",
   "execution_count": 35,
   "metadata": {},
   "outputs": [],
   "source": [
    "Ω = hcat(X...) |> transpose;"
   ]
  },
  {
   "cell_type": "markdown",
   "metadata": {},
   "source": [
    "Now, we compute a singular value decomposition of $\\Omega$."
   ]
  },
  {
   "cell_type": "code",
   "execution_count": 36,
   "metadata": {},
   "outputs": [],
   "source": [
    "S = svd(Ω)\n",
    "svals = S.S;"
   ]
  },
  {
   "cell_type": "markdown",
   "metadata": {},
   "source": [
    "Let us plot the logarithms of the values in `svals`."
   ]
  },
  {
   "cell_type": "code",
   "execution_count": 37,
   "metadata": {
    "scrolled": true
   },
   "outputs": [
    {
     "data": {
      "image/svg+xml": [
       "<?xml version=\"1.0\" encoding=\"utf-8\"?>\n",
       "<svg xmlns=\"http://www.w3.org/2000/svg\" xmlns:xlink=\"http://www.w3.org/1999/xlink\" width=\"800\" height=\"250\" viewBox=\"0 0 3200 1000\">\n",
       "<defs>\n",
       "  <clipPath id=\"clip950\">\n",
       "    <rect x=\"0\" y=\"0\" width=\"3200\" height=\"1000\"/>\n",
       "  </clipPath>\n",
       "</defs>\n",
       "<path clip-path=\"url(#clip950)\" d=\"\n",
       "M0 1000 L3200 1000 L3200 0 L0 0  Z\n",
       "  \" fill=\"#ffffff\" fill-rule=\"evenodd\" fill-opacity=\"1\"/>\n",
       "<defs>\n",
       "  <clipPath id=\"clip951\">\n",
       "    <rect x=\"640\" y=\"0\" width=\"2241\" height=\"1000\"/>\n",
       "  </clipPath>\n",
       "</defs>\n",
       "<path clip-path=\"url(#clip950)\" d=\"\n",
       "M149.853 910.808 L3152.76 910.808 L3152.76 47.2441 L149.853 47.2441  Z\n",
       "  \" fill=\"#ffffff\" fill-rule=\"evenodd\" fill-opacity=\"1\"/>\n",
       "<defs>\n",
       "  <clipPath id=\"clip952\">\n",
       "    <rect x=\"149\" y=\"47\" width=\"3004\" height=\"865\"/>\n",
       "  </clipPath>\n",
       "</defs>\n",
       "<polyline clip-path=\"url(#clip952)\" style=\"stroke:#000000; stroke-linecap:butt; stroke-linejoin:round; stroke-width:2; stroke-opacity:0.1; fill:none\" points=\"\n",
       "  149.853,910.808 149.853,47.2441 \n",
       "  \"/>\n",
       "<polyline clip-path=\"url(#clip952)\" style=\"stroke:#000000; stroke-linecap:butt; stroke-linejoin:round; stroke-width:2; stroke-opacity:0.1; fill:none\" points=\"\n",
       "  400.095,910.808 400.095,47.2441 \n",
       "  \"/>\n",
       "<polyline clip-path=\"url(#clip952)\" style=\"stroke:#000000; stroke-linecap:butt; stroke-linejoin:round; stroke-width:2; stroke-opacity:0.1; fill:none\" points=\"\n",
       "  650.337,910.808 650.337,47.2441 \n",
       "  \"/>\n",
       "<polyline clip-path=\"url(#clip952)\" style=\"stroke:#000000; stroke-linecap:butt; stroke-linejoin:round; stroke-width:2; stroke-opacity:0.1; fill:none\" points=\"\n",
       "  900.579,910.808 900.579,47.2441 \n",
       "  \"/>\n",
       "<polyline clip-path=\"url(#clip952)\" style=\"stroke:#000000; stroke-linecap:butt; stroke-linejoin:round; stroke-width:2; stroke-opacity:0.1; fill:none\" points=\"\n",
       "  1150.82,910.808 1150.82,47.2441 \n",
       "  \"/>\n",
       "<polyline clip-path=\"url(#clip952)\" style=\"stroke:#000000; stroke-linecap:butt; stroke-linejoin:round; stroke-width:2; stroke-opacity:0.1; fill:none\" points=\"\n",
       "  1401.06,910.808 1401.06,47.2441 \n",
       "  \"/>\n",
       "<polyline clip-path=\"url(#clip952)\" style=\"stroke:#000000; stroke-linecap:butt; stroke-linejoin:round; stroke-width:2; stroke-opacity:0.1; fill:none\" points=\"\n",
       "  1651.3,910.808 1651.3,47.2441 \n",
       "  \"/>\n",
       "<polyline clip-path=\"url(#clip952)\" style=\"stroke:#000000; stroke-linecap:butt; stroke-linejoin:round; stroke-width:2; stroke-opacity:0.1; fill:none\" points=\"\n",
       "  1901.55,910.808 1901.55,47.2441 \n",
       "  \"/>\n",
       "<polyline clip-path=\"url(#clip952)\" style=\"stroke:#000000; stroke-linecap:butt; stroke-linejoin:round; stroke-width:2; stroke-opacity:0.1; fill:none\" points=\"\n",
       "  2151.79,910.808 2151.79,47.2441 \n",
       "  \"/>\n",
       "<polyline clip-path=\"url(#clip952)\" style=\"stroke:#000000; stroke-linecap:butt; stroke-linejoin:round; stroke-width:2; stroke-opacity:0.1; fill:none\" points=\"\n",
       "  2402.03,910.808 2402.03,47.2441 \n",
       "  \"/>\n",
       "<polyline clip-path=\"url(#clip952)\" style=\"stroke:#000000; stroke-linecap:butt; stroke-linejoin:round; stroke-width:2; stroke-opacity:0.1; fill:none\" points=\"\n",
       "  2652.27,910.808 2652.27,47.2441 \n",
       "  \"/>\n",
       "<polyline clip-path=\"url(#clip952)\" style=\"stroke:#000000; stroke-linecap:butt; stroke-linejoin:round; stroke-width:2; stroke-opacity:0.1; fill:none\" points=\"\n",
       "  2902.51,910.808 2902.51,47.2441 \n",
       "  \"/>\n",
       "<polyline clip-path=\"url(#clip952)\" style=\"stroke:#000000; stroke-linecap:butt; stroke-linejoin:round; stroke-width:2; stroke-opacity:0.1; fill:none\" points=\"\n",
       "  3152.76,910.808 3152.76,47.2441 \n",
       "  \"/>\n",
       "<polyline clip-path=\"url(#clip950)\" style=\"stroke:#000000; stroke-linecap:butt; stroke-linejoin:round; stroke-width:4; stroke-opacity:1; fill:none\" points=\"\n",
       "  149.853,910.808 3152.76,910.808 \n",
       "  \"/>\n",
       "<polyline clip-path=\"url(#clip950)\" style=\"stroke:#000000; stroke-linecap:butt; stroke-linejoin:round; stroke-width:4; stroke-opacity:1; fill:none\" points=\"\n",
       "  149.853,910.808 149.853,891.91 \n",
       "  \"/>\n",
       "<polyline clip-path=\"url(#clip950)\" style=\"stroke:#000000; stroke-linecap:butt; stroke-linejoin:round; stroke-width:4; stroke-opacity:1; fill:none\" points=\"\n",
       "  400.095,910.808 400.095,891.91 \n",
       "  \"/>\n",
       "<polyline clip-path=\"url(#clip950)\" style=\"stroke:#000000; stroke-linecap:butt; stroke-linejoin:round; stroke-width:4; stroke-opacity:1; fill:none\" points=\"\n",
       "  650.337,910.808 650.337,891.91 \n",
       "  \"/>\n",
       "<polyline clip-path=\"url(#clip950)\" style=\"stroke:#000000; stroke-linecap:butt; stroke-linejoin:round; stroke-width:4; stroke-opacity:1; fill:none\" points=\"\n",
       "  900.579,910.808 900.579,891.91 \n",
       "  \"/>\n",
       "<polyline clip-path=\"url(#clip950)\" style=\"stroke:#000000; stroke-linecap:butt; stroke-linejoin:round; stroke-width:4; stroke-opacity:1; fill:none\" points=\"\n",
       "  1150.82,910.808 1150.82,891.91 \n",
       "  \"/>\n",
       "<polyline clip-path=\"url(#clip950)\" style=\"stroke:#000000; stroke-linecap:butt; stroke-linejoin:round; stroke-width:4; stroke-opacity:1; fill:none\" points=\"\n",
       "  1401.06,910.808 1401.06,891.91 \n",
       "  \"/>\n",
       "<polyline clip-path=\"url(#clip950)\" style=\"stroke:#000000; stroke-linecap:butt; stroke-linejoin:round; stroke-width:4; stroke-opacity:1; fill:none\" points=\"\n",
       "  1651.3,910.808 1651.3,891.91 \n",
       "  \"/>\n",
       "<polyline clip-path=\"url(#clip950)\" style=\"stroke:#000000; stroke-linecap:butt; stroke-linejoin:round; stroke-width:4; stroke-opacity:1; fill:none\" points=\"\n",
       "  1901.55,910.808 1901.55,891.91 \n",
       "  \"/>\n",
       "<polyline clip-path=\"url(#clip950)\" style=\"stroke:#000000; stroke-linecap:butt; stroke-linejoin:round; stroke-width:4; stroke-opacity:1; fill:none\" points=\"\n",
       "  2151.79,910.808 2151.79,891.91 \n",
       "  \"/>\n",
       "<polyline clip-path=\"url(#clip950)\" style=\"stroke:#000000; stroke-linecap:butt; stroke-linejoin:round; stroke-width:4; stroke-opacity:1; fill:none\" points=\"\n",
       "  2402.03,910.808 2402.03,891.91 \n",
       "  \"/>\n",
       "<polyline clip-path=\"url(#clip950)\" style=\"stroke:#000000; stroke-linecap:butt; stroke-linejoin:round; stroke-width:4; stroke-opacity:1; fill:none\" points=\"\n",
       "  2652.27,910.808 2652.27,891.91 \n",
       "  \"/>\n",
       "<polyline clip-path=\"url(#clip950)\" style=\"stroke:#000000; stroke-linecap:butt; stroke-linejoin:round; stroke-width:4; stroke-opacity:1; fill:none\" points=\"\n",
       "  2902.51,910.808 2902.51,891.91 \n",
       "  \"/>\n",
       "<polyline clip-path=\"url(#clip950)\" style=\"stroke:#000000; stroke-linecap:butt; stroke-linejoin:round; stroke-width:4; stroke-opacity:1; fill:none\" points=\"\n",
       "  3152.76,910.808 3152.76,891.91 \n",
       "  \"/>\n",
       "<path clip-path=\"url(#clip950)\" d=\"M103.673 962.779 L133.348 962.779 L133.348 966.714 L103.673 966.714 L103.673 962.779 Z\" fill=\"#000000\" fill-rule=\"evenodd\" fill-opacity=\"1\" /><path clip-path=\"url(#clip950)\" d=\"M144.251 975.673 L151.89 975.673 L151.89 949.307 L143.58 950.974 L143.58 946.715 L151.844 945.048 L156.52 945.048 L156.52 975.673 L164.158 975.673 L164.158 979.608 L144.251 979.608 L144.251 975.673 Z\" fill=\"#000000\" fill-rule=\"evenodd\" fill-opacity=\"1\" /><path clip-path=\"url(#clip950)\" d=\"M186.45 949.122 L174.644 967.571 L186.45 967.571 L186.45 949.122 M185.223 945.048 L191.103 945.048 L191.103 967.571 L196.033 967.571 L196.033 971.46 L191.103 971.46 L191.103 979.608 L186.45 979.608 L186.45 971.46 L170.848 971.46 L170.848 966.946 L185.223 945.048 Z\" fill=\"#000000\" fill-rule=\"evenodd\" fill-opacity=\"1\" /><path clip-path=\"url(#clip950)\" d=\"M354.956 962.779 L384.632 962.779 L384.632 966.714 L354.956 966.714 L354.956 962.779 Z\" fill=\"#000000\" fill-rule=\"evenodd\" fill-opacity=\"1\" /><path clip-path=\"url(#clip950)\" d=\"M395.535 975.673 L403.174 975.673 L403.174 949.307 L394.863 950.974 L394.863 946.715 L403.127 945.048 L407.803 945.048 L407.803 975.673 L415.442 975.673 L415.442 979.608 L395.535 979.608 L395.535 975.673 Z\" fill=\"#000000\" fill-rule=\"evenodd\" fill-opacity=\"1\" /><path clip-path=\"url(#clip950)\" d=\"M428.914 975.673 L445.234 975.673 L445.234 979.608 L423.289 979.608 L423.289 975.673 Q425.951 972.918 430.535 968.288 Q435.141 963.636 436.322 962.293 Q438.567 959.77 439.446 958.034 Q440.349 956.275 440.349 954.585 Q440.349 951.83 438.405 950.094 Q436.484 948.358 433.382 948.358 Q431.183 948.358 428.729 949.122 Q426.298 949.886 423.521 951.437 L423.521 946.715 Q426.345 945.58 428.798 945.002 Q431.252 944.423 433.289 944.423 Q438.659 944.423 441.854 947.108 Q445.048 949.793 445.048 954.284 Q445.048 956.414 444.238 958.335 Q443.451 960.233 441.345 962.826 Q440.766 963.497 437.664 966.714 Q434.562 969.909 428.914 975.673 Z\" fill=\"#000000\" fill-rule=\"evenodd\" fill-opacity=\"1\" /><path clip-path=\"url(#clip950)\" d=\"M604.4 962.779 L634.075 962.779 L634.075 966.714 L604.4 966.714 L604.4 962.779 Z\" fill=\"#000000\" fill-rule=\"evenodd\" fill-opacity=\"1\" /><path clip-path=\"url(#clip950)\" d=\"M644.978 975.673 L652.617 975.673 L652.617 949.307 L644.307 950.974 L644.307 946.715 L652.571 945.048 L657.246 945.048 L657.246 975.673 L664.885 975.673 L664.885 979.608 L644.978 979.608 L644.978 975.673 Z\" fill=\"#000000\" fill-rule=\"evenodd\" fill-opacity=\"1\" /><path clip-path=\"url(#clip950)\" d=\"M684.33 948.127 Q680.719 948.127 678.89 951.691 Q677.084 955.233 677.084 962.363 Q677.084 969.469 678.89 973.034 Q680.719 976.575 684.33 976.575 Q687.964 976.575 689.769 973.034 Q691.598 969.469 691.598 962.363 Q691.598 955.233 689.769 951.691 Q687.964 948.127 684.33 948.127 M684.33 944.423 Q690.14 944.423 693.195 949.029 Q696.274 953.613 696.274 962.363 Q696.274 971.089 693.195 975.696 Q690.14 980.279 684.33 980.279 Q678.519 980.279 675.441 975.696 Q672.385 971.089 672.385 962.363 Q672.385 953.613 675.441 949.029 Q678.519 944.423 684.33 944.423 Z\" fill=\"#000000\" fill-rule=\"evenodd\" fill-opacity=\"1\" /><path clip-path=\"url(#clip950)\" d=\"M869.769 962.779 L899.444 962.779 L899.444 966.714 L869.769 966.714 L869.769 962.779 Z\" fill=\"#000000\" fill-rule=\"evenodd\" fill-opacity=\"1\" /><path clip-path=\"url(#clip950)\" d=\"M919.537 963.196 Q916.204 963.196 914.282 964.978 Q912.384 966.761 912.384 969.886 Q912.384 973.011 914.282 974.793 Q916.204 976.575 919.537 976.575 Q922.87 976.575 924.792 974.793 Q926.713 972.988 926.713 969.886 Q926.713 966.761 924.792 964.978 Q922.893 963.196 919.537 963.196 M914.861 961.205 Q911.852 960.464 910.162 958.404 Q908.495 956.344 908.495 953.381 Q908.495 949.238 911.435 946.83 Q914.398 944.423 919.537 944.423 Q924.699 944.423 927.639 946.83 Q930.579 949.238 930.579 953.381 Q930.579 956.344 928.889 958.404 Q927.222 960.464 924.236 961.205 Q927.616 961.992 929.491 964.284 Q931.389 966.576 931.389 969.886 Q931.389 974.909 928.31 977.594 Q925.254 980.279 919.537 980.279 Q913.819 980.279 910.741 977.594 Q907.685 974.909 907.685 969.886 Q907.685 966.576 909.583 964.284 Q911.481 961.992 914.861 961.205 M913.148 953.821 Q913.148 956.506 914.815 958.011 Q916.505 959.515 919.537 959.515 Q922.546 959.515 924.236 958.011 Q925.949 956.506 925.949 953.821 Q925.949 951.136 924.236 949.631 Q922.546 948.127 919.537 948.127 Q916.505 948.127 914.815 949.631 Q913.148 951.136 913.148 953.821 Z\" fill=\"#000000\" fill-rule=\"evenodd\" fill-opacity=\"1\" /><path clip-path=\"url(#clip950)\" d=\"M1119.88 962.779 L1149.56 962.779 L1149.56 966.714 L1119.88 966.714 L1119.88 962.779 Z\" fill=\"#000000\" fill-rule=\"evenodd\" fill-opacity=\"1\" /><path clip-path=\"url(#clip950)\" d=\"M1170.23 960.464 Q1167.08 960.464 1165.23 962.617 Q1163.4 964.77 1163.4 968.52 Q1163.4 972.247 1165.23 974.423 Q1167.08 976.575 1170.23 976.575 Q1173.38 976.575 1175.21 974.423 Q1177.06 972.247 1177.06 968.52 Q1177.06 964.77 1175.21 962.617 Q1173.38 960.464 1170.23 960.464 M1179.51 945.812 L1179.51 950.071 Q1177.75 949.238 1175.95 948.798 Q1174.17 948.358 1172.41 948.358 Q1167.78 948.358 1165.32 951.483 Q1162.89 954.608 1162.55 960.927 Q1163.91 958.914 1165.97 957.849 Q1168.03 956.761 1170.51 956.761 Q1175.72 956.761 1178.73 959.932 Q1181.76 963.08 1181.76 968.52 Q1181.76 973.844 1178.61 977.062 Q1175.46 980.279 1170.23 980.279 Q1164.23 980.279 1161.06 975.696 Q1157.89 971.089 1157.89 962.363 Q1157.89 954.168 1161.78 949.307 Q1165.67 944.423 1172.22 944.423 Q1173.98 944.423 1175.76 944.77 Q1177.57 945.117 1179.51 945.812 Z\" fill=\"#000000\" fill-rule=\"evenodd\" fill-opacity=\"1\" /><path clip-path=\"url(#clip950)\" d=\"M1369.96 962.779 L1399.64 962.779 L1399.64 966.714 L1369.96 966.714 L1369.96 962.779 Z\" fill=\"#000000\" fill-rule=\"evenodd\" fill-opacity=\"1\" /><path clip-path=\"url(#clip950)\" d=\"M1422.58 949.122 L1410.77 967.571 L1422.58 967.571 L1422.58 949.122 M1421.35 945.048 L1427.23 945.048 L1427.23 967.571 L1432.16 967.571 L1432.16 971.46 L1427.23 971.46 L1427.23 979.608 L1422.58 979.608 L1422.58 971.46 L1406.98 971.46 L1406.98 966.946 L1421.35 945.048 Z\" fill=\"#000000\" fill-rule=\"evenodd\" fill-opacity=\"1\" /><path clip-path=\"url(#clip950)\" d=\"M1621.25 962.779 L1650.92 962.779 L1650.92 966.714 L1621.25 966.714 L1621.25 962.779 Z\" fill=\"#000000\" fill-rule=\"evenodd\" fill-opacity=\"1\" /><path clip-path=\"url(#clip950)\" d=\"M1665.04 975.673 L1681.36 975.673 L1681.36 979.608 L1659.42 979.608 L1659.42 975.673 Q1662.08 972.918 1666.66 968.288 Q1671.27 963.636 1672.45 962.293 Q1674.7 959.77 1675.58 958.034 Q1676.48 956.275 1676.48 954.585 Q1676.48 951.83 1674.53 950.094 Q1672.61 948.358 1669.51 948.358 Q1667.31 948.358 1664.86 949.122 Q1662.43 949.886 1659.65 951.437 L1659.65 946.715 Q1662.47 945.58 1664.93 945.002 Q1667.38 944.423 1669.42 944.423 Q1674.79 944.423 1677.98 947.108 Q1681.18 949.793 1681.18 954.284 Q1681.18 956.414 1680.37 958.335 Q1679.58 960.233 1677.47 962.826 Q1676.89 963.497 1673.79 966.714 Q1670.69 969.909 1665.04 975.673 Z\" fill=\"#000000\" fill-rule=\"evenodd\" fill-opacity=\"1\" /><path clip-path=\"url(#clip950)\" d=\"M1901.55 948.127 Q1897.94 948.127 1896.11 951.691 Q1894.3 955.233 1894.3 962.363 Q1894.3 969.469 1896.11 973.034 Q1897.94 976.575 1901.55 976.575 Q1905.18 976.575 1906.99 973.034 Q1908.81 969.469 1908.81 962.363 Q1908.81 955.233 1906.99 951.691 Q1905.18 948.127 1901.55 948.127 M1901.55 944.423 Q1907.36 944.423 1910.41 949.029 Q1913.49 953.613 1913.49 962.363 Q1913.49 971.089 1910.41 975.696 Q1907.36 980.279 1901.55 980.279 Q1895.74 980.279 1892.66 975.696 Q1889.6 971.089 1889.6 962.363 Q1889.6 953.613 1892.66 949.029 Q1895.74 944.423 1901.55 944.423 Z\" fill=\"#000000\" fill-rule=\"evenodd\" fill-opacity=\"1\" /><path clip-path=\"url(#clip950)\" d=\"M2146.44 975.673 L2162.76 975.673 L2162.76 979.608 L2140.82 979.608 L2140.82 975.673 Q2143.48 972.918 2148.06 968.288 Q2152.67 963.636 2153.85 962.293 Q2156.09 959.77 2156.97 958.034 Q2157.88 956.275 2157.88 954.585 Q2157.88 951.83 2155.93 950.094 Q2154.01 948.358 2150.91 948.358 Q2148.71 948.358 2146.26 949.122 Q2143.83 949.886 2141.05 951.437 L2141.05 946.715 Q2143.87 945.58 2146.33 945.002 Q2148.78 944.423 2150.82 944.423 Q2156.19 944.423 2159.38 947.108 Q2162.58 949.793 2162.58 954.284 Q2162.58 956.414 2161.77 958.335 Q2160.98 960.233 2158.87 962.826 Q2158.29 963.497 2155.19 966.714 Q2152.09 969.909 2146.44 975.673 Z\" fill=\"#000000\" fill-rule=\"evenodd\" fill-opacity=\"1\" /><path clip-path=\"url(#clip950)\" d=\"M2405.04 949.122 L2393.23 967.571 L2405.04 967.571 L2405.04 949.122 M2403.81 945.048 L2409.69 945.048 L2409.69 967.571 L2414.62 967.571 L2414.62 971.46 L2409.69 971.46 L2409.69 979.608 L2405.04 979.608 L2405.04 971.46 L2389.44 971.46 L2389.44 966.946 L2403.81 945.048 Z\" fill=\"#000000\" fill-rule=\"evenodd\" fill-opacity=\"1\" /><path clip-path=\"url(#clip950)\" d=\"M2652.68 960.464 Q2649.53 960.464 2647.68 962.617 Q2645.85 964.77 2645.85 968.52 Q2645.85 972.247 2647.68 974.423 Q2649.53 976.575 2652.68 976.575 Q2655.83 976.575 2657.65 974.423 Q2659.51 972.247 2659.51 968.52 Q2659.51 964.77 2657.65 962.617 Q2655.83 960.464 2652.68 960.464 M2661.96 945.812 L2661.96 950.071 Q2660.2 949.238 2658.39 948.798 Q2656.61 948.358 2654.85 948.358 Q2650.22 948.358 2647.77 951.483 Q2645.34 954.608 2644.99 960.927 Q2646.36 958.914 2648.42 957.849 Q2650.48 956.761 2652.95 956.761 Q2658.16 956.761 2661.17 959.932 Q2664.2 963.08 2664.2 968.52 Q2664.2 973.844 2661.06 977.062 Q2657.91 980.279 2652.68 980.279 Q2646.68 980.279 2643.51 975.696 Q2640.34 971.089 2640.34 962.363 Q2640.34 954.168 2644.23 949.307 Q2648.12 944.423 2654.67 944.423 Q2656.43 944.423 2658.21 944.77 Q2660.02 945.117 2661.96 945.812 Z\" fill=\"#000000\" fill-rule=\"evenodd\" fill-opacity=\"1\" /><path clip-path=\"url(#clip950)\" d=\"M2902.51 963.196 Q2899.18 963.196 2897.26 964.978 Q2895.36 966.761 2895.36 969.886 Q2895.36 973.011 2897.26 974.793 Q2899.18 976.575 2902.51 976.575 Q2905.85 976.575 2907.77 974.793 Q2909.69 972.988 2909.69 969.886 Q2909.69 966.761 2907.77 964.978 Q2905.87 963.196 2902.51 963.196 M2897.84 961.205 Q2894.83 960.464 2893.14 958.404 Q2891.47 956.344 2891.47 953.381 Q2891.47 949.238 2894.41 946.83 Q2897.38 944.423 2902.51 944.423 Q2907.68 944.423 2910.62 946.83 Q2913.56 949.238 2913.56 953.381 Q2913.56 956.344 2911.87 958.404 Q2910.2 960.464 2907.21 961.205 Q2910.59 961.992 2912.47 964.284 Q2914.37 966.576 2914.37 969.886 Q2914.37 974.909 2911.29 977.594 Q2908.23 980.279 2902.51 980.279 Q2896.8 980.279 2893.72 977.594 Q2890.66 974.909 2890.66 969.886 Q2890.66 966.576 2892.56 964.284 Q2894.46 961.992 2897.84 961.205 M2896.13 953.821 Q2896.13 956.506 2897.79 958.011 Q2899.48 959.515 2902.51 959.515 Q2905.52 959.515 2907.21 958.011 Q2908.93 956.506 2908.93 953.821 Q2908.93 951.136 2907.21 949.631 Q2905.52 948.127 2902.51 948.127 Q2899.48 948.127 2897.79 949.631 Q2896.13 951.136 2896.13 953.821 Z\" fill=\"#000000\" fill-rule=\"evenodd\" fill-opacity=\"1\" /><path clip-path=\"url(#clip950)\" d=\"M3127.44 975.673 L3135.08 975.673 L3135.08 949.307 L3126.77 950.974 L3126.77 946.715 L3135.04 945.048 L3139.71 945.048 L3139.71 975.673 L3147.35 975.673 L3147.35 979.608 L3127.44 979.608 L3127.44 975.673 Z\" fill=\"#000000\" fill-rule=\"evenodd\" fill-opacity=\"1\" /><path clip-path=\"url(#clip950)\" d=\"M3166.8 948.127 Q3163.18 948.127 3161.36 951.691 Q3159.55 955.233 3159.55 962.363 Q3159.55 969.469 3161.36 973.034 Q3163.18 976.575 3166.8 976.575 Q3170.43 976.575 3172.23 973.034 Q3174.06 969.469 3174.06 962.363 Q3174.06 955.233 3172.23 951.691 Q3170.43 948.127 3166.8 948.127 M3166.8 944.423 Q3172.61 944.423 3175.66 949.029 Q3178.74 953.613 3178.74 962.363 Q3178.74 971.089 3175.66 975.696 Q3172.61 980.279 3166.8 980.279 Q3160.99 980.279 3157.91 975.696 Q3154.85 971.089 3154.85 962.363 Q3154.85 953.613 3157.91 949.029 Q3160.99 944.423 3166.8 944.423 Z\" fill=\"#000000\" fill-rule=\"evenodd\" fill-opacity=\"1\" /><polyline clip-path=\"url(#clip952)\" style=\"stroke:#000000; stroke-linecap:butt; stroke-linejoin:round; stroke-width:2; stroke-opacity:0.1; fill:none\" points=\"\n",
       "  149.853,886.367 3152.76,886.367 \n",
       "  \"/>\n",
       "<polyline clip-path=\"url(#clip952)\" style=\"stroke:#000000; stroke-linecap:butt; stroke-linejoin:round; stroke-width:2; stroke-opacity:0.1; fill:none\" points=\"\n",
       "  149.853,757.053 3152.76,757.053 \n",
       "  \"/>\n",
       "<polyline clip-path=\"url(#clip952)\" style=\"stroke:#000000; stroke-linecap:butt; stroke-linejoin:round; stroke-width:2; stroke-opacity:0.1; fill:none\" points=\"\n",
       "  149.853,627.738 3152.76,627.738 \n",
       "  \"/>\n",
       "<polyline clip-path=\"url(#clip952)\" style=\"stroke:#000000; stroke-linecap:butt; stroke-linejoin:round; stroke-width:2; stroke-opacity:0.1; fill:none\" points=\"\n",
       "  149.853,498.423 3152.76,498.423 \n",
       "  \"/>\n",
       "<polyline clip-path=\"url(#clip952)\" style=\"stroke:#000000; stroke-linecap:butt; stroke-linejoin:round; stroke-width:2; stroke-opacity:0.1; fill:none\" points=\"\n",
       "  149.853,369.108 3152.76,369.108 \n",
       "  \"/>\n",
       "<polyline clip-path=\"url(#clip952)\" style=\"stroke:#000000; stroke-linecap:butt; stroke-linejoin:round; stroke-width:2; stroke-opacity:0.1; fill:none\" points=\"\n",
       "  149.853,239.794 3152.76,239.794 \n",
       "  \"/>\n",
       "<polyline clip-path=\"url(#clip952)\" style=\"stroke:#000000; stroke-linecap:butt; stroke-linejoin:round; stroke-width:2; stroke-opacity:0.1; fill:none\" points=\"\n",
       "  149.853,110.479 3152.76,110.479 \n",
       "  \"/>\n",
       "<polyline clip-path=\"url(#clip950)\" style=\"stroke:#000000; stroke-linecap:butt; stroke-linejoin:round; stroke-width:4; stroke-opacity:1; fill:none\" points=\"\n",
       "  149.853,910.808 149.853,47.2441 \n",
       "  \"/>\n",
       "<polyline clip-path=\"url(#clip950)\" style=\"stroke:#000000; stroke-linecap:butt; stroke-linejoin:round; stroke-width:4; stroke-opacity:1; fill:none\" points=\"\n",
       "  149.853,886.367 168.751,886.367 \n",
       "  \"/>\n",
       "<polyline clip-path=\"url(#clip950)\" style=\"stroke:#000000; stroke-linecap:butt; stroke-linejoin:round; stroke-width:4; stroke-opacity:1; fill:none\" points=\"\n",
       "  149.853,757.053 168.751,757.053 \n",
       "  \"/>\n",
       "<polyline clip-path=\"url(#clip950)\" style=\"stroke:#000000; stroke-linecap:butt; stroke-linejoin:round; stroke-width:4; stroke-opacity:1; fill:none\" points=\"\n",
       "  149.853,627.738 168.751,627.738 \n",
       "  \"/>\n",
       "<polyline clip-path=\"url(#clip950)\" style=\"stroke:#000000; stroke-linecap:butt; stroke-linejoin:round; stroke-width:4; stroke-opacity:1; fill:none\" points=\"\n",
       "  149.853,498.423 168.751,498.423 \n",
       "  \"/>\n",
       "<polyline clip-path=\"url(#clip950)\" style=\"stroke:#000000; stroke-linecap:butt; stroke-linejoin:round; stroke-width:4; stroke-opacity:1; fill:none\" points=\"\n",
       "  149.853,369.108 168.751,369.108 \n",
       "  \"/>\n",
       "<polyline clip-path=\"url(#clip950)\" style=\"stroke:#000000; stroke-linecap:butt; stroke-linejoin:round; stroke-width:4; stroke-opacity:1; fill:none\" points=\"\n",
       "  149.853,239.794 168.751,239.794 \n",
       "  \"/>\n",
       "<polyline clip-path=\"url(#clip950)\" style=\"stroke:#000000; stroke-linecap:butt; stroke-linejoin:round; stroke-width:4; stroke-opacity:1; fill:none\" points=\"\n",
       "  149.853,110.479 168.751,110.479 \n",
       "  \"/>\n",
       "<path clip-path=\"url(#clip950)\" d=\"M89.9086 872.166 Q86.2975 872.166 84.4688 875.731 Q82.6632 879.273 82.6632 886.402 Q82.6632 893.509 84.4688 897.073 Q86.2975 900.615 89.9086 900.615 Q93.5428 900.615 95.3483 897.073 Q97.177 893.509 97.177 886.402 Q97.177 879.273 95.3483 875.731 Q93.5428 872.166 89.9086 872.166 M89.9086 868.462 Q95.7187 868.462 98.7743 873.069 Q101.853 877.652 101.853 886.402 Q101.853 895.129 98.7743 899.735 Q95.7187 904.319 89.9086 904.319 Q84.0984 904.319 81.0197 899.735 Q77.9642 895.129 77.9642 886.402 Q77.9642 877.652 81.0197 873.069 Q84.0984 868.462 89.9086 868.462 Z\" fill=\"#000000\" fill-rule=\"evenodd\" fill-opacity=\"1\" /><path clip-path=\"url(#clip950)\" d=\"M50.5569 770.397 L58.1958 770.397 L58.1958 744.032 L49.8856 745.699 L49.8856 741.439 L58.1495 739.773 L62.8254 739.773 L62.8254 770.397 L70.4642 770.397 L70.4642 774.333 L50.5569 774.333 L50.5569 770.397 Z\" fill=\"#000000\" fill-rule=\"evenodd\" fill-opacity=\"1\" /><path clip-path=\"url(#clip950)\" d=\"M89.9086 742.851 Q86.2975 742.851 84.4688 746.416 Q82.6632 749.958 82.6632 757.087 Q82.6632 764.194 84.4688 767.759 Q86.2975 771.3 89.9086 771.3 Q93.5428 771.3 95.3483 767.759 Q97.177 764.194 97.177 757.087 Q97.177 749.958 95.3483 746.416 Q93.5428 742.851 89.9086 742.851 M89.9086 739.148 Q95.7187 739.148 98.7743 743.754 Q101.853 748.337 101.853 757.087 Q101.853 765.814 98.7743 770.421 Q95.7187 775.004 89.9086 775.004 Q84.0984 775.004 81.0197 770.421 Q77.9642 765.814 77.9642 757.087 Q77.9642 748.337 81.0197 743.754 Q84.0984 739.148 89.9086 739.148 Z\" fill=\"#000000\" fill-rule=\"evenodd\" fill-opacity=\"1\" /><path clip-path=\"url(#clip950)\" d=\"M53.7745 641.083 L70.0939 641.083 L70.0939 645.018 L48.1495 645.018 L48.1495 641.083 Q50.8115 638.328 55.3949 633.699 Q60.0013 629.046 61.1819 627.703 Q63.4272 625.18 64.3068 623.444 Q65.2096 621.685 65.2096 619.995 Q65.2096 617.24 63.2652 615.504 Q61.3439 613.768 58.2421 613.768 Q56.043 613.768 53.5893 614.532 Q51.1588 615.296 48.381 616.847 L48.381 612.125 Q51.2051 610.99 53.6588 610.412 Q56.1124 609.833 58.1495 609.833 Q63.5198 609.833 66.7142 612.518 Q69.9087 615.203 69.9087 619.694 Q69.9087 621.824 69.0985 623.745 Q68.3115 625.643 66.205 628.236 Q65.6263 628.907 62.5245 632.124 Q59.4226 635.319 53.7745 641.083 Z\" fill=\"#000000\" fill-rule=\"evenodd\" fill-opacity=\"1\" /><path clip-path=\"url(#clip950)\" d=\"M89.9086 613.537 Q86.2975 613.537 84.4688 617.101 Q82.6632 620.643 82.6632 627.773 Q82.6632 634.879 84.4688 638.444 Q86.2975 641.986 89.9086 641.986 Q93.5428 641.986 95.3483 638.444 Q97.177 634.879 97.177 627.773 Q97.177 620.643 95.3483 617.101 Q93.5428 613.537 89.9086 613.537 M89.9086 609.833 Q95.7187 609.833 98.7743 614.439 Q101.853 619.023 101.853 627.773 Q101.853 636.499 98.7743 641.106 Q95.7187 645.689 89.9086 645.689 Q84.0984 645.689 81.0197 641.106 Q77.9642 636.499 77.9642 627.773 Q77.9642 619.023 81.0197 614.439 Q84.0984 609.833 89.9086 609.833 Z\" fill=\"#000000\" fill-rule=\"evenodd\" fill-opacity=\"1\" /><path clip-path=\"url(#clip950)\" d=\"M63.9133 497.069 Q67.2698 497.787 69.1448 500.055 Q71.0429 502.324 71.0429 505.657 Q71.0429 510.773 67.5244 513.574 Q64.0059 516.374 57.5245 516.374 Q55.3486 516.374 53.0338 515.935 Q50.7421 515.518 48.2884 514.662 L48.2884 510.148 Q50.2328 511.282 52.5477 511.861 Q54.8625 512.439 57.3856 512.439 Q61.7837 512.439 64.0754 510.703 Q66.3902 508.967 66.3902 505.657 Q66.3902 502.601 64.2374 500.888 Q62.1078 499.152 58.2884 499.152 L54.2606 499.152 L54.2606 495.31 L58.4735 495.31 Q61.9226 495.31 63.7513 493.944 Q65.58 492.555 65.58 489.963 Q65.58 487.301 63.6819 485.889 Q61.8069 484.453 58.2884 484.453 Q56.3671 484.453 54.168 484.87 Q51.969 485.287 49.3301 486.166 L49.3301 482 Q51.9921 481.259 54.3069 480.889 Q56.6449 480.518 58.705 480.518 Q64.0291 480.518 67.1309 482.949 Q70.2327 485.356 70.2327 489.476 Q70.2327 492.347 68.5892 494.338 Q66.9457 496.305 63.9133 497.069 Z\" fill=\"#000000\" fill-rule=\"evenodd\" fill-opacity=\"1\" /><path clip-path=\"url(#clip950)\" d=\"M89.9086 484.222 Q86.2975 484.222 84.4688 487.787 Q82.6632 491.328 82.6632 498.458 Q82.6632 505.564 84.4688 509.129 Q86.2975 512.671 89.9086 512.671 Q93.5428 512.671 95.3483 509.129 Q97.177 505.564 97.177 498.458 Q97.177 491.328 95.3483 487.787 Q93.5428 484.222 89.9086 484.222 M89.9086 480.518 Q95.7187 480.518 98.7743 485.125 Q101.853 489.708 101.853 498.458 Q101.853 507.185 98.7743 511.791 Q95.7187 516.374 89.9086 516.374 Q84.0984 516.374 81.0197 511.791 Q77.9642 507.185 77.9642 498.458 Q77.9642 489.708 81.0197 485.125 Q84.0984 480.518 89.9086 480.518 Z\" fill=\"#000000\" fill-rule=\"evenodd\" fill-opacity=\"1\" /><path clip-path=\"url(#clip950)\" d=\"M62.5939 355.903 L50.7884 374.351 L62.5939 374.351 L62.5939 355.903 M61.367 351.828 L67.2466 351.828 L67.2466 374.351 L72.1772 374.351 L72.1772 378.24 L67.2466 378.24 L67.2466 386.388 L62.5939 386.388 L62.5939 378.24 L46.9921 378.24 L46.9921 373.726 L61.367 351.828 Z\" fill=\"#000000\" fill-rule=\"evenodd\" fill-opacity=\"1\" /><path clip-path=\"url(#clip950)\" d=\"M89.9086 354.907 Q86.2975 354.907 84.4688 358.472 Q82.6632 362.014 82.6632 369.143 Q82.6632 376.25 84.4688 379.814 Q86.2975 383.356 89.9086 383.356 Q93.5428 383.356 95.3483 379.814 Q97.177 376.25 97.177 369.143 Q97.177 362.014 95.3483 358.472 Q93.5428 354.907 89.9086 354.907 M89.9086 351.203 Q95.7187 351.203 98.7743 355.81 Q101.853 360.393 101.853 369.143 Q101.853 377.87 98.7743 382.476 Q95.7187 387.06 89.9086 387.06 Q84.0984 387.06 81.0197 382.476 Q77.9642 377.87 77.9642 369.143 Q77.9642 360.393 81.0197 355.81 Q84.0984 351.203 89.9086 351.203 Z\" fill=\"#000000\" fill-rule=\"evenodd\" fill-opacity=\"1\" /><path clip-path=\"url(#clip950)\" d=\"M49.793 222.514 L68.1494 222.514 L68.1494 226.449 L54.0754 226.449 L54.0754 234.921 Q55.0939 234.574 56.1124 234.412 Q57.131 234.227 58.1495 234.227 Q63.9365 234.227 67.3161 237.398 Q70.6957 240.569 70.6957 245.986 Q70.6957 251.565 67.2235 254.666 Q63.7513 257.745 57.4319 257.745 Q55.256 257.745 52.9875 257.375 Q50.7421 257.004 48.3347 256.264 L48.3347 251.565 Q50.418 252.699 52.6402 253.254 Q54.8625 253.81 57.3393 253.81 Q61.3439 253.81 63.6819 251.703 Q66.0198 249.597 66.0198 245.986 Q66.0198 242.375 63.6819 240.268 Q61.3439 238.162 57.3393 238.162 Q55.4643 238.162 53.5893 238.578 Q51.7375 238.995 49.793 239.875 L49.793 222.514 Z\" fill=\"#000000\" fill-rule=\"evenodd\" fill-opacity=\"1\" /><path clip-path=\"url(#clip950)\" d=\"M89.9086 225.592 Q86.2975 225.592 84.4688 229.157 Q82.6632 232.699 82.6632 239.828 Q82.6632 246.935 84.4688 250.5 Q86.2975 254.041 89.9086 254.041 Q93.5428 254.041 95.3483 250.5 Q97.177 246.935 97.177 239.828 Q97.177 232.699 95.3483 229.157 Q93.5428 225.592 89.9086 225.592 M89.9086 221.889 Q95.7187 221.889 98.7743 226.495 Q101.853 231.078 101.853 239.828 Q101.853 248.555 98.7743 253.162 Q95.7187 257.745 89.9086 257.745 Q84.0984 257.745 81.0197 253.162 Q77.9642 248.555 77.9642 239.828 Q77.9642 231.078 81.0197 226.495 Q84.0984 221.889 89.9086 221.889 Z\" fill=\"#000000\" fill-rule=\"evenodd\" fill-opacity=\"1\" /><path clip-path=\"url(#clip950)\" d=\"M60.3254 108.616 Q57.1773 108.616 55.3254 110.768 Q53.4967 112.921 53.4967 116.671 Q53.4967 120.398 55.3254 122.574 Q57.1773 124.727 60.3254 124.727 Q63.4735 124.727 65.3022 122.574 Q67.1541 120.398 67.1541 116.671 Q67.1541 112.921 65.3022 110.768 Q63.4735 108.616 60.3254 108.616 M69.6077 93.9629 L69.6077 98.2221 Q67.8485 97.3888 66.0429 96.949 Q64.2606 96.5092 62.5013 96.5092 Q57.8717 96.5092 55.418 99.6341 Q52.9875 102.759 52.6402 109.079 Q54.006 107.065 56.0662 106 Q58.1263 104.912 60.6032 104.912 Q65.8115 104.912 68.8207 108.083 Q71.8531 111.231 71.8531 116.671 Q71.8531 121.995 68.705 125.213 Q65.5568 128.43 60.3254 128.43 Q54.33 128.43 51.1588 123.847 Q47.9875 119.241 47.9875 110.514 Q47.9875 102.319 51.8764 97.4582 Q55.7652 92.574 62.3161 92.574 Q64.0754 92.574 65.8578 92.9212 Q67.6633 93.2684 69.6077 93.9629 Z\" fill=\"#000000\" fill-rule=\"evenodd\" fill-opacity=\"1\" /><path clip-path=\"url(#clip950)\" d=\"M89.9086 96.2777 Q86.2975 96.2777 84.4688 99.8425 Q82.6632 103.384 82.6632 110.514 Q82.6632 117.62 84.4688 121.185 Q86.2975 124.727 89.9086 124.727 Q93.5428 124.727 95.3483 121.185 Q97.177 117.62 97.177 110.514 Q97.177 103.384 95.3483 99.8425 Q93.5428 96.2777 89.9086 96.2777 M89.9086 92.574 Q95.7187 92.574 98.7743 97.1805 Q101.853 101.764 101.853 110.514 Q101.853 119.241 98.7743 123.847 Q95.7187 128.43 89.9086 128.43 Q84.0984 128.43 81.0197 123.847 Q77.9642 119.241 77.9642 110.514 Q77.9642 101.764 81.0197 97.1805 Q84.0984 92.574 89.9086 92.574 Z\" fill=\"#000000\" fill-rule=\"evenodd\" fill-opacity=\"1\" /><path clip-path=\"url(#clip952)\" d=\"\n",
       "M-2290.01 834.641 L-2290.01 886.367 L-2227.45 886.367 L-2227.45 834.641 L-2290.01 834.641 L-2290.01 834.641  Z\n",
       "  \" fill=\"#4682b4\" fill-rule=\"evenodd\" fill-opacity=\"1\"/>\n",
       "<polyline clip-path=\"url(#clip952)\" style=\"stroke:#000000; stroke-linecap:butt; stroke-linejoin:round; stroke-width:4; stroke-opacity:1; fill:none\" points=\"\n",
       "  -2290.01,834.641 -2290.01,886.367 -2227.45,886.367 -2227.45,834.641 -2290.01,834.641 \n",
       "  \"/>\n",
       "<path clip-path=\"url(#clip952)\" d=\"\n",
       "M-2227.45 886.367 L-2227.45 886.367 L-2164.88 886.367 L-2164.88 886.367 L-2227.45 886.367 L-2227.45 886.367  Z\n",
       "  \" fill=\"#4682b4\" fill-rule=\"evenodd\" fill-opacity=\"1\"/>\n",
       "<polyline clip-path=\"url(#clip952)\" style=\"stroke:#000000; stroke-linecap:butt; stroke-linejoin:round; stroke-width:4; stroke-opacity:1; fill:none\" points=\"\n",
       "  -2227.45,886.367 -2227.45,886.367 -2164.88,886.367 -2227.45,886.367 \n",
       "  \"/>\n",
       "<path clip-path=\"url(#clip952)\" d=\"\n",
       "M-2164.88 886.367 L-2164.88 886.367 L-2102.32 886.367 L-2102.32 886.367 L-2164.88 886.367 L-2164.88 886.367  Z\n",
       "  \" fill=\"#4682b4\" fill-rule=\"evenodd\" fill-opacity=\"1\"/>\n",
       "<polyline clip-path=\"url(#clip952)\" style=\"stroke:#000000; stroke-linecap:butt; stroke-linejoin:round; stroke-width:4; stroke-opacity:1; fill:none\" points=\"\n",
       "  -2164.88,886.367 -2164.88,886.367 -2102.32,886.367 -2164.88,886.367 \n",
       "  \"/>\n",
       "<path clip-path=\"url(#clip952)\" d=\"\n",
       "M-2102.32 886.367 L-2102.32 886.367 L-2039.76 886.367 L-2039.76 886.367 L-2102.32 886.367 L-2102.32 886.367  Z\n",
       "  \" fill=\"#4682b4\" fill-rule=\"evenodd\" fill-opacity=\"1\"/>\n",
       "<polyline clip-path=\"url(#clip952)\" style=\"stroke:#000000; stroke-linecap:butt; stroke-linejoin:round; stroke-width:4; stroke-opacity:1; fill:none\" points=\"\n",
       "  -2102.32,886.367 -2102.32,886.367 -2039.76,886.367 -2102.32,886.367 \n",
       "  \"/>\n",
       "<path clip-path=\"url(#clip952)\" d=\"\n",
       "M-2039.76 873.436 L-2039.76 886.367 L-1977.2 886.367 L-1977.2 873.436 L-2039.76 873.436 L-2039.76 873.436  Z\n",
       "  \" fill=\"#4682b4\" fill-rule=\"evenodd\" fill-opacity=\"1\"/>\n",
       "<polyline clip-path=\"url(#clip952)\" style=\"stroke:#000000; stroke-linecap:butt; stroke-linejoin:round; stroke-width:4; stroke-opacity:1; fill:none\" points=\"\n",
       "  -2039.76,873.436 -2039.76,886.367 -1977.2,886.367 -1977.2,873.436 -2039.76,873.436 \n",
       "  \"/>\n",
       "<path clip-path=\"url(#clip952)\" d=\"\n",
       "M-1977.2 886.367 L-1977.2 886.367 L-1914.64 886.367 L-1914.64 886.367 L-1977.2 886.367 L-1977.2 886.367  Z\n",
       "  \" fill=\"#4682b4\" fill-rule=\"evenodd\" fill-opacity=\"1\"/>\n",
       "<polyline clip-path=\"url(#clip952)\" style=\"stroke:#000000; stroke-linecap:butt; stroke-linejoin:round; stroke-width:4; stroke-opacity:1; fill:none\" points=\"\n",
       "  -1977.2,886.367 -1977.2,886.367 -1914.64,886.367 -1977.2,886.367 \n",
       "  \"/>\n",
       "<path clip-path=\"url(#clip952)\" d=\"\n",
       "M-1914.64 886.367 L-1914.64 886.367 L-1852.08 886.367 L-1852.08 886.367 L-1914.64 886.367 L-1914.64 886.367  Z\n",
       "  \" fill=\"#4682b4\" fill-rule=\"evenodd\" fill-opacity=\"1\"/>\n",
       "<polyline clip-path=\"url(#clip952)\" style=\"stroke:#000000; stroke-linecap:butt; stroke-linejoin:round; stroke-width:4; stroke-opacity:1; fill:none\" points=\"\n",
       "  -1914.64,886.367 -1914.64,886.367 -1852.08,886.367 -1914.64,886.367 \n",
       "  \"/>\n",
       "<path clip-path=\"url(#clip952)\" d=\"\n",
       "M-1852.08 886.367 L-1852.08 886.367 L-1789.52 886.367 L-1789.52 886.367 L-1852.08 886.367 L-1852.08 886.367  Z\n",
       "  \" fill=\"#4682b4\" fill-rule=\"evenodd\" fill-opacity=\"1\"/>\n",
       "<polyline clip-path=\"url(#clip952)\" style=\"stroke:#000000; stroke-linecap:butt; stroke-linejoin:round; stroke-width:4; stroke-opacity:1; fill:none\" points=\"\n",
       "  -1852.08,886.367 -1852.08,886.367 -1789.52,886.367 -1852.08,886.367 \n",
       "  \"/>\n",
       "<path clip-path=\"url(#clip952)\" d=\"\n",
       "M-1789.52 886.367 L-1789.52 886.367 L-1726.96 886.367 L-1726.96 886.367 L-1789.52 886.367 L-1789.52 886.367  Z\n",
       "  \" fill=\"#4682b4\" fill-rule=\"evenodd\" fill-opacity=\"1\"/>\n",
       "<polyline clip-path=\"url(#clip952)\" style=\"stroke:#000000; stroke-linecap:butt; stroke-linejoin:round; stroke-width:4; stroke-opacity:1; fill:none\" points=\"\n",
       "  -1789.52,886.367 -1789.52,886.367 -1726.96,886.367 -1789.52,886.367 \n",
       "  \"/>\n",
       "<path clip-path=\"url(#clip952)\" d=\"\n",
       "M-1726.96 886.367 L-1726.96 886.367 L-1664.4 886.367 L-1664.4 886.367 L-1726.96 886.367 L-1726.96 886.367  Z\n",
       "  \" fill=\"#4682b4\" fill-rule=\"evenodd\" fill-opacity=\"1\"/>\n",
       "<polyline clip-path=\"url(#clip952)\" style=\"stroke:#000000; stroke-linecap:butt; stroke-linejoin:round; stroke-width:4; stroke-opacity:1; fill:none\" points=\"\n",
       "  -1726.96,886.367 -1726.96,886.367 -1664.4,886.367 -1726.96,886.367 \n",
       "  \"/>\n",
       "<path clip-path=\"url(#clip952)\" d=\"\n",
       "M-1664.4 886.367 L-1664.4 886.367 L-1601.84 886.367 L-1601.84 886.367 L-1664.4 886.367 L-1664.4 886.367  Z\n",
       "  \" fill=\"#4682b4\" fill-rule=\"evenodd\" fill-opacity=\"1\"/>\n",
       "<polyline clip-path=\"url(#clip952)\" style=\"stroke:#000000; stroke-linecap:butt; stroke-linejoin:round; stroke-width:4; stroke-opacity:1; fill:none\" points=\"\n",
       "  -1664.4,886.367 -1664.4,886.367 -1601.84,886.367 -1664.4,886.367 \n",
       "  \"/>\n",
       "<path clip-path=\"url(#clip952)\" d=\"\n",
       "M-1601.84 886.367 L-1601.84 886.367 L-1539.28 886.367 L-1539.28 886.367 L-1601.84 886.367 L-1601.84 886.367  Z\n",
       "  \" fill=\"#4682b4\" fill-rule=\"evenodd\" fill-opacity=\"1\"/>\n",
       "<polyline clip-path=\"url(#clip952)\" style=\"stroke:#000000; stroke-linecap:butt; stroke-linejoin:round; stroke-width:4; stroke-opacity:1; fill:none\" points=\"\n",
       "  -1601.84,886.367 -1601.84,886.367 -1539.28,886.367 -1601.84,886.367 \n",
       "  \"/>\n",
       "<path clip-path=\"url(#clip952)\" d=\"\n",
       "M-1539.28 886.367 L-1539.28 886.367 L-1476.72 886.367 L-1476.72 886.367 L-1539.28 886.367 L-1539.28 886.367  Z\n",
       "  \" fill=\"#4682b4\" fill-rule=\"evenodd\" fill-opacity=\"1\"/>\n",
       "<polyline clip-path=\"url(#clip952)\" style=\"stroke:#000000; stroke-linecap:butt; stroke-linejoin:round; stroke-width:4; stroke-opacity:1; fill:none\" points=\"\n",
       "  -1539.28,886.367 -1539.28,886.367 -1476.72,886.367 -1539.28,886.367 \n",
       "  \"/>\n",
       "<path clip-path=\"url(#clip952)\" d=\"\n",
       "M-1476.72 886.367 L-1476.72 886.367 L-1414.16 886.367 L-1414.16 886.367 L-1476.72 886.367 L-1476.72 886.367  Z\n",
       "  \" fill=\"#4682b4\" fill-rule=\"evenodd\" fill-opacity=\"1\"/>\n",
       "<polyline clip-path=\"url(#clip952)\" style=\"stroke:#000000; stroke-linecap:butt; stroke-linejoin:round; stroke-width:4; stroke-opacity:1; fill:none\" points=\"\n",
       "  -1476.72,886.367 -1476.72,886.367 -1414.16,886.367 -1476.72,886.367 \n",
       "  \"/>\n",
       "<path clip-path=\"url(#clip952)\" d=\"\n",
       "M-1414.16 886.367 L-1414.16 886.367 L-1351.6 886.367 L-1351.6 886.367 L-1414.16 886.367 L-1414.16 886.367  Z\n",
       "  \" fill=\"#4682b4\" fill-rule=\"evenodd\" fill-opacity=\"1\"/>\n",
       "<polyline clip-path=\"url(#clip952)\" style=\"stroke:#000000; stroke-linecap:butt; stroke-linejoin:round; stroke-width:4; stroke-opacity:1; fill:none\" points=\"\n",
       "  -1414.16,886.367 -1414.16,886.367 -1351.6,886.367 -1414.16,886.367 \n",
       "  \"/>\n",
       "<path clip-path=\"url(#clip952)\" d=\"\n",
       "M-1351.6 886.367 L-1351.6 886.367 L-1289.04 886.367 L-1289.04 886.367 L-1351.6 886.367 L-1351.6 886.367  Z\n",
       "  \" fill=\"#4682b4\" fill-rule=\"evenodd\" fill-opacity=\"1\"/>\n",
       "<polyline clip-path=\"url(#clip952)\" style=\"stroke:#000000; stroke-linecap:butt; stroke-linejoin:round; stroke-width:4; stroke-opacity:1; fill:none\" points=\"\n",
       "  -1351.6,886.367 -1351.6,886.367 -1289.04,886.367 -1351.6,886.367 \n",
       "  \"/>\n",
       "<path clip-path=\"url(#clip952)\" d=\"\n",
       "M-1289.04 886.367 L-1289.04 886.367 L-1226.48 886.367 L-1226.48 886.367 L-1289.04 886.367 L-1289.04 886.367  Z\n",
       "  \" fill=\"#4682b4\" fill-rule=\"evenodd\" fill-opacity=\"1\"/>\n",
       "<polyline clip-path=\"url(#clip952)\" style=\"stroke:#000000; stroke-linecap:butt; stroke-linejoin:round; stroke-width:4; stroke-opacity:1; fill:none\" points=\"\n",
       "  -1289.04,886.367 -1289.04,886.367 -1226.48,886.367 -1289.04,886.367 \n",
       "  \"/>\n",
       "<path clip-path=\"url(#clip952)\" d=\"\n",
       "M-1226.48 886.367 L-1226.48 886.367 L-1163.92 886.367 L-1163.92 886.367 L-1226.48 886.367 L-1226.48 886.367  Z\n",
       "  \" fill=\"#4682b4\" fill-rule=\"evenodd\" fill-opacity=\"1\"/>\n",
       "<polyline clip-path=\"url(#clip952)\" style=\"stroke:#000000; stroke-linecap:butt; stroke-linejoin:round; stroke-width:4; stroke-opacity:1; fill:none\" points=\"\n",
       "  -1226.48,886.367 -1226.48,886.367 -1163.92,886.367 -1226.48,886.367 \n",
       "  \"/>\n",
       "<path clip-path=\"url(#clip952)\" d=\"\n",
       "M-1163.92 886.367 L-1163.92 886.367 L-1101.36 886.367 L-1101.36 886.367 L-1163.92 886.367 L-1163.92 886.367  Z\n",
       "  \" fill=\"#4682b4\" fill-rule=\"evenodd\" fill-opacity=\"1\"/>\n",
       "<polyline clip-path=\"url(#clip952)\" style=\"stroke:#000000; stroke-linecap:butt; stroke-linejoin:round; stroke-width:4; stroke-opacity:1; fill:none\" points=\"\n",
       "  -1163.92,886.367 -1163.92,886.367 -1101.36,886.367 -1163.92,886.367 \n",
       "  \"/>\n",
       "<path clip-path=\"url(#clip952)\" d=\"\n",
       "M-1101.36 886.367 L-1101.36 886.367 L-1038.8 886.367 L-1038.8 886.367 L-1101.36 886.367 L-1101.36 886.367  Z\n",
       "  \" fill=\"#4682b4\" fill-rule=\"evenodd\" fill-opacity=\"1\"/>\n",
       "<polyline clip-path=\"url(#clip952)\" style=\"stroke:#000000; stroke-linecap:butt; stroke-linejoin:round; stroke-width:4; stroke-opacity:1; fill:none\" points=\"\n",
       "  -1101.36,886.367 -1101.36,886.367 -1038.8,886.367 -1101.36,886.367 \n",
       "  \"/>\n",
       "<path clip-path=\"url(#clip952)\" d=\"\n",
       "M-1038.8 886.367 L-1038.8 886.367 L-976.236 886.367 L-976.236 886.367 L-1038.8 886.367 L-1038.8 886.367  Z\n",
       "  \" fill=\"#4682b4\" fill-rule=\"evenodd\" fill-opacity=\"1\"/>\n",
       "<polyline clip-path=\"url(#clip952)\" style=\"stroke:#000000; stroke-linecap:butt; stroke-linejoin:round; stroke-width:4; stroke-opacity:1; fill:none\" points=\"\n",
       "  -1038.8,886.367 -1038.8,886.367 -976.236,886.367 -1038.8,886.367 \n",
       "  \"/>\n",
       "<path clip-path=\"url(#clip952)\" d=\"\n",
       "M-976.236 886.367 L-976.236 886.367 L-913.675 886.367 L-913.675 886.367 L-976.236 886.367 L-976.236 886.367  Z\n",
       "  \" fill=\"#4682b4\" fill-rule=\"evenodd\" fill-opacity=\"1\"/>\n",
       "<polyline clip-path=\"url(#clip952)\" style=\"stroke:#000000; stroke-linecap:butt; stroke-linejoin:round; stroke-width:4; stroke-opacity:1; fill:none\" points=\"\n",
       "  -976.236,886.367 -976.236,886.367 -913.675,886.367 -976.236,886.367 \n",
       "  \"/>\n",
       "<path clip-path=\"url(#clip952)\" d=\"\n",
       "M-913.675 886.367 L-913.675 886.367 L-851.115 886.367 L-851.115 886.367 L-913.675 886.367 L-913.675 886.367  Z\n",
       "  \" fill=\"#4682b4\" fill-rule=\"evenodd\" fill-opacity=\"1\"/>\n",
       "<polyline clip-path=\"url(#clip952)\" style=\"stroke:#000000; stroke-linecap:butt; stroke-linejoin:round; stroke-width:4; stroke-opacity:1; fill:none\" points=\"\n",
       "  -913.675,886.367 -913.675,886.367 -851.115,886.367 -913.675,886.367 \n",
       "  \"/>\n",
       "<path clip-path=\"url(#clip952)\" d=\"\n",
       "M-851.115 886.367 L-851.115 886.367 L-788.554 886.367 L-788.554 886.367 L-851.115 886.367 L-851.115 886.367  Z\n",
       "  \" fill=\"#4682b4\" fill-rule=\"evenodd\" fill-opacity=\"1\"/>\n",
       "<polyline clip-path=\"url(#clip952)\" style=\"stroke:#000000; stroke-linecap:butt; stroke-linejoin:round; stroke-width:4; stroke-opacity:1; fill:none\" points=\"\n",
       "  -851.115,886.367 -851.115,886.367 -788.554,886.367 -851.115,886.367 \n",
       "  \"/>\n",
       "<path clip-path=\"url(#clip952)\" d=\"\n",
       "M-788.554 886.367 L-788.554 886.367 L-725.994 886.367 L-725.994 886.367 L-788.554 886.367 L-788.554 886.367  Z\n",
       "  \" fill=\"#4682b4\" fill-rule=\"evenodd\" fill-opacity=\"1\"/>\n",
       "<polyline clip-path=\"url(#clip952)\" style=\"stroke:#000000; stroke-linecap:butt; stroke-linejoin:round; stroke-width:4; stroke-opacity:1; fill:none\" points=\"\n",
       "  -788.554,886.367 -788.554,886.367 -725.994,886.367 -788.554,886.367 \n",
       "  \"/>\n",
       "<path clip-path=\"url(#clip952)\" d=\"\n",
       "M-725.994 886.367 L-725.994 886.367 L-663.433 886.367 L-663.433 886.367 L-725.994 886.367 L-725.994 886.367  Z\n",
       "  \" fill=\"#4682b4\" fill-rule=\"evenodd\" fill-opacity=\"1\"/>\n",
       "<polyline clip-path=\"url(#clip952)\" style=\"stroke:#000000; stroke-linecap:butt; stroke-linejoin:round; stroke-width:4; stroke-opacity:1; fill:none\" points=\"\n",
       "  -725.994,886.367 -725.994,886.367 -663.433,886.367 -725.994,886.367 \n",
       "  \"/>\n",
       "<path clip-path=\"url(#clip952)\" d=\"\n",
       "M-663.433 886.367 L-663.433 886.367 L-600.873 886.367 L-600.873 886.367 L-663.433 886.367 L-663.433 886.367  Z\n",
       "  \" fill=\"#4682b4\" fill-rule=\"evenodd\" fill-opacity=\"1\"/>\n",
       "<polyline clip-path=\"url(#clip952)\" style=\"stroke:#000000; stroke-linecap:butt; stroke-linejoin:round; stroke-width:4; stroke-opacity:1; fill:none\" points=\"\n",
       "  -663.433,886.367 -663.433,886.367 -600.873,886.367 -663.433,886.367 \n",
       "  \"/>\n",
       "<path clip-path=\"url(#clip952)\" d=\"\n",
       "M-600.873 886.367 L-600.873 886.367 L-538.312 886.367 L-538.312 886.367 L-600.873 886.367 L-600.873 886.367  Z\n",
       "  \" fill=\"#4682b4\" fill-rule=\"evenodd\" fill-opacity=\"1\"/>\n",
       "<polyline clip-path=\"url(#clip952)\" style=\"stroke:#000000; stroke-linecap:butt; stroke-linejoin:round; stroke-width:4; stroke-opacity:1; fill:none\" points=\"\n",
       "  -600.873,886.367 -600.873,886.367 -538.312,886.367 -600.873,886.367 \n",
       "  \"/>\n",
       "<path clip-path=\"url(#clip952)\" d=\"\n",
       "M-538.312 886.367 L-538.312 886.367 L-475.752 886.367 L-475.752 886.367 L-538.312 886.367 L-538.312 886.367  Z\n",
       "  \" fill=\"#4682b4\" fill-rule=\"evenodd\" fill-opacity=\"1\"/>\n",
       "<polyline clip-path=\"url(#clip952)\" style=\"stroke:#000000; stroke-linecap:butt; stroke-linejoin:round; stroke-width:4; stroke-opacity:1; fill:none\" points=\"\n",
       "  -538.312,886.367 -538.312,886.367 -475.752,886.367 -538.312,886.367 \n",
       "  \"/>\n",
       "<path clip-path=\"url(#clip952)\" d=\"\n",
       "M-475.752 886.367 L-475.752 886.367 L-413.191 886.367 L-413.191 886.367 L-475.752 886.367 L-475.752 886.367  Z\n",
       "  \" fill=\"#4682b4\" fill-rule=\"evenodd\" fill-opacity=\"1\"/>\n",
       "<polyline clip-path=\"url(#clip952)\" style=\"stroke:#000000; stroke-linecap:butt; stroke-linejoin:round; stroke-width:4; stroke-opacity:1; fill:none\" points=\"\n",
       "  -475.752,886.367 -475.752,886.367 -413.191,886.367 -475.752,886.367 \n",
       "  \"/>\n",
       "<path clip-path=\"url(#clip952)\" d=\"\n",
       "M-413.191 886.367 L-413.191 886.367 L-350.631 886.367 L-350.631 886.367 L-413.191 886.367 L-413.191 886.367  Z\n",
       "  \" fill=\"#4682b4\" fill-rule=\"evenodd\" fill-opacity=\"1\"/>\n",
       "<polyline clip-path=\"url(#clip952)\" style=\"stroke:#000000; stroke-linecap:butt; stroke-linejoin:round; stroke-width:4; stroke-opacity:1; fill:none\" points=\"\n",
       "  -413.191,886.367 -413.191,886.367 -350.631,886.367 -413.191,886.367 \n",
       "  \"/>\n",
       "<path clip-path=\"url(#clip952)\" d=\"\n",
       "M-350.631 886.367 L-350.631 886.367 L-288.07 886.367 L-288.07 886.367 L-350.631 886.367 L-350.631 886.367  Z\n",
       "  \" fill=\"#4682b4\" fill-rule=\"evenodd\" fill-opacity=\"1\"/>\n",
       "<polyline clip-path=\"url(#clip952)\" style=\"stroke:#000000; stroke-linecap:butt; stroke-linejoin:round; stroke-width:4; stroke-opacity:1; fill:none\" points=\"\n",
       "  -350.631,886.367 -350.631,886.367 -288.07,886.367 -350.631,886.367 \n",
       "  \"/>\n",
       "<path clip-path=\"url(#clip952)\" d=\"\n",
       "M-288.07 886.367 L-288.07 886.367 L-225.51 886.367 L-225.51 886.367 L-288.07 886.367 L-288.07 886.367  Z\n",
       "  \" fill=\"#4682b4\" fill-rule=\"evenodd\" fill-opacity=\"1\"/>\n",
       "<polyline clip-path=\"url(#clip952)\" style=\"stroke:#000000; stroke-linecap:butt; stroke-linejoin:round; stroke-width:4; stroke-opacity:1; fill:none\" points=\"\n",
       "  -288.07,886.367 -288.07,886.367 -225.51,886.367 -288.07,886.367 \n",
       "  \"/>\n",
       "<path clip-path=\"url(#clip952)\" d=\"\n",
       "M-225.51 886.367 L-225.51 886.367 L-162.949 886.367 L-162.949 886.367 L-225.51 886.367 L-225.51 886.367  Z\n",
       "  \" fill=\"#4682b4\" fill-rule=\"evenodd\" fill-opacity=\"1\"/>\n",
       "<polyline clip-path=\"url(#clip952)\" style=\"stroke:#000000; stroke-linecap:butt; stroke-linejoin:round; stroke-width:4; stroke-opacity:1; fill:none\" points=\"\n",
       "  -225.51,886.367 -225.51,886.367 -162.949,886.367 -225.51,886.367 \n",
       "  \"/>\n",
       "<path clip-path=\"url(#clip952)\" d=\"\n",
       "M-162.949 886.367 L-162.949 886.367 L-100.389 886.367 L-100.389 886.367 L-162.949 886.367 L-162.949 886.367  Z\n",
       "  \" fill=\"#4682b4\" fill-rule=\"evenodd\" fill-opacity=\"1\"/>\n",
       "<polyline clip-path=\"url(#clip952)\" style=\"stroke:#000000; stroke-linecap:butt; stroke-linejoin:round; stroke-width:4; stroke-opacity:1; fill:none\" points=\"\n",
       "  -162.949,886.367 -162.949,886.367 -100.389,886.367 -162.949,886.367 \n",
       "  \"/>\n",
       "<path clip-path=\"url(#clip952)\" d=\"\n",
       "M-100.389 886.367 L-100.389 886.367 L-37.8285 886.367 L-37.8285 886.367 L-100.389 886.367 L-100.389 886.367  Z\n",
       "  \" fill=\"#4682b4\" fill-rule=\"evenodd\" fill-opacity=\"1\"/>\n",
       "<polyline clip-path=\"url(#clip952)\" style=\"stroke:#000000; stroke-linecap:butt; stroke-linejoin:round; stroke-width:4; stroke-opacity:1; fill:none\" points=\"\n",
       "  -100.389,886.367 -100.389,886.367 -37.8285,886.367 -100.389,886.367 \n",
       "  \"/>\n",
       "<path clip-path=\"url(#clip952)\" d=\"\n",
       "M-37.8285 886.367 L-37.8285 886.367 L24.732 886.367 L24.732 886.367 L-37.8285 886.367 L-37.8285 886.367  Z\n",
       "  \" fill=\"#4682b4\" fill-rule=\"evenodd\" fill-opacity=\"1\"/>\n",
       "<polyline clip-path=\"url(#clip952)\" style=\"stroke:#000000; stroke-linecap:butt; stroke-linejoin:round; stroke-width:4; stroke-opacity:1; fill:none\" points=\"\n",
       "  -37.8285,886.367 -37.8285,886.367 24.732,886.367 -37.8285,886.367 \n",
       "  \"/>\n",
       "<path clip-path=\"url(#clip952)\" d=\"\n",
       "M24.732 886.367 L24.732 886.367 L87.2925 886.367 L87.2925 886.367 L24.732 886.367 L24.732 886.367  Z\n",
       "  \" fill=\"#4682b4\" fill-rule=\"evenodd\" fill-opacity=\"1\"/>\n",
       "<polyline clip-path=\"url(#clip952)\" style=\"stroke:#000000; stroke-linecap:butt; stroke-linejoin:round; stroke-width:4; stroke-opacity:1; fill:none\" points=\"\n",
       "  24.732,886.367 24.732,886.367 87.2925,886.367 24.732,886.367 \n",
       "  \"/>\n",
       "<path clip-path=\"url(#clip952)\" d=\"\n",
       "M87.2925 886.367 L87.2925 886.367 L149.853 886.367 L149.853 886.367 L87.2925 886.367 L87.2925 886.367  Z\n",
       "  \" fill=\"#4682b4\" fill-rule=\"evenodd\" fill-opacity=\"1\"/>\n",
       "<polyline clip-path=\"url(#clip952)\" style=\"stroke:#000000; stroke-linecap:butt; stroke-linejoin:round; stroke-width:4; stroke-opacity:1; fill:none\" points=\"\n",
       "  87.2925,886.367 87.2925,886.367 149.853,886.367 87.2925,886.367 \n",
       "  \"/>\n",
       "<path clip-path=\"url(#clip952)\" d=\"\n",
       "M149.853 873.436 L149.853 886.367 L212.413 886.367 L212.413 873.436 L149.853 873.436 L149.853 873.436  Z\n",
       "  \" fill=\"#4682b4\" fill-rule=\"evenodd\" fill-opacity=\"1\"/>\n",
       "<polyline clip-path=\"url(#clip952)\" style=\"stroke:#000000; stroke-linecap:butt; stroke-linejoin:round; stroke-width:4; stroke-opacity:1; fill:none\" points=\"\n",
       "  149.853,873.436 149.853,886.367 212.413,886.367 212.413,873.436 149.853,873.436 \n",
       "  \"/>\n",
       "<path clip-path=\"url(#clip952)\" d=\"\n",
       "M212.413 886.367 L212.413 886.367 L274.974 886.367 L274.974 886.367 L212.413 886.367 L212.413 886.367  Z\n",
       "  \" fill=\"#4682b4\" fill-rule=\"evenodd\" fill-opacity=\"1\"/>\n",
       "<polyline clip-path=\"url(#clip952)\" style=\"stroke:#000000; stroke-linecap:butt; stroke-linejoin:round; stroke-width:4; stroke-opacity:1; fill:none\" points=\"\n",
       "  212.413,886.367 212.413,886.367 274.974,886.367 212.413,886.367 \n",
       "  \"/>\n",
       "<path clip-path=\"url(#clip952)\" d=\"\n",
       "M274.974 873.436 L274.974 886.367 L337.534 886.367 L337.534 873.436 L274.974 873.436 L274.974 873.436  Z\n",
       "  \" fill=\"#4682b4\" fill-rule=\"evenodd\" fill-opacity=\"1\"/>\n",
       "<polyline clip-path=\"url(#clip952)\" style=\"stroke:#000000; stroke-linecap:butt; stroke-linejoin:round; stroke-width:4; stroke-opacity:1; fill:none\" points=\"\n",
       "  274.974,873.436 274.974,886.367 337.534,886.367 337.534,873.436 274.974,873.436 \n",
       "  \"/>\n",
       "<path clip-path=\"url(#clip952)\" d=\"\n",
       "M337.534 886.367 L337.534 886.367 L400.095 886.367 L400.095 886.367 L337.534 886.367 L337.534 886.367  Z\n",
       "  \" fill=\"#4682b4\" fill-rule=\"evenodd\" fill-opacity=\"1\"/>\n",
       "<polyline clip-path=\"url(#clip952)\" style=\"stroke:#000000; stroke-linecap:butt; stroke-linejoin:round; stroke-width:4; stroke-opacity:1; fill:none\" points=\"\n",
       "  337.534,886.367 337.534,886.367 400.095,886.367 337.534,886.367 \n",
       "  \"/>\n",
       "<path clip-path=\"url(#clip952)\" d=\"\n",
       "M400.095 886.367 L400.095 886.367 L462.655 886.367 L462.655 886.367 L400.095 886.367 L400.095 886.367  Z\n",
       "  \" fill=\"#4682b4\" fill-rule=\"evenodd\" fill-opacity=\"1\"/>\n",
       "<polyline clip-path=\"url(#clip952)\" style=\"stroke:#000000; stroke-linecap:butt; stroke-linejoin:round; stroke-width:4; stroke-opacity:1; fill:none\" points=\"\n",
       "  400.095,886.367 400.095,886.367 462.655,886.367 400.095,886.367 \n",
       "  \"/>\n",
       "<path clip-path=\"url(#clip952)\" d=\"\n",
       "M462.655 873.436 L462.655 886.367 L525.216 886.367 L525.216 873.436 L462.655 873.436 L462.655 873.436  Z\n",
       "  \" fill=\"#4682b4\" fill-rule=\"evenodd\" fill-opacity=\"1\"/>\n",
       "<polyline clip-path=\"url(#clip952)\" style=\"stroke:#000000; stroke-linecap:butt; stroke-linejoin:round; stroke-width:4; stroke-opacity:1; fill:none\" points=\"\n",
       "  462.655,873.436 462.655,886.367 525.216,886.367 525.216,873.436 462.655,873.436 \n",
       "  \"/>\n",
       "<path clip-path=\"url(#clip952)\" d=\"\n",
       "M525.216 860.504 L525.216 886.367 L587.776 886.367 L587.776 860.504 L525.216 860.504 L525.216 860.504  Z\n",
       "  \" fill=\"#4682b4\" fill-rule=\"evenodd\" fill-opacity=\"1\"/>\n",
       "<polyline clip-path=\"url(#clip952)\" style=\"stroke:#000000; stroke-linecap:butt; stroke-linejoin:round; stroke-width:4; stroke-opacity:1; fill:none\" points=\"\n",
       "  525.216,860.504 525.216,886.367 587.776,886.367 587.776,860.504 525.216,860.504 \n",
       "  \"/>\n",
       "<path clip-path=\"url(#clip952)\" d=\"\n",
       "M587.776 873.436 L587.776 886.367 L650.337 886.367 L650.337 873.436 L587.776 873.436 L587.776 873.436  Z\n",
       "  \" fill=\"#4682b4\" fill-rule=\"evenodd\" fill-opacity=\"1\"/>\n",
       "<polyline clip-path=\"url(#clip952)\" style=\"stroke:#000000; stroke-linecap:butt; stroke-linejoin:round; stroke-width:4; stroke-opacity:1; fill:none\" points=\"\n",
       "  587.776,873.436 587.776,886.367 650.337,886.367 650.337,873.436 587.776,873.436 \n",
       "  \"/>\n",
       "<path clip-path=\"url(#clip952)\" d=\"\n",
       "M650.337 873.436 L650.337 886.367 L712.897 886.367 L712.897 873.436 L650.337 873.436 L650.337 873.436  Z\n",
       "  \" fill=\"#4682b4\" fill-rule=\"evenodd\" fill-opacity=\"1\"/>\n",
       "<polyline clip-path=\"url(#clip952)\" style=\"stroke:#000000; stroke-linecap:butt; stroke-linejoin:round; stroke-width:4; stroke-opacity:1; fill:none\" points=\"\n",
       "  650.337,873.436 650.337,886.367 712.897,886.367 712.897,873.436 650.337,873.436 \n",
       "  \"/>\n",
       "<path clip-path=\"url(#clip952)\" d=\"\n",
       "M712.897 860.504 L712.897 886.367 L775.458 886.367 L775.458 860.504 L712.897 860.504 L712.897 860.504  Z\n",
       "  \" fill=\"#4682b4\" fill-rule=\"evenodd\" fill-opacity=\"1\"/>\n",
       "<polyline clip-path=\"url(#clip952)\" style=\"stroke:#000000; stroke-linecap:butt; stroke-linejoin:round; stroke-width:4; stroke-opacity:1; fill:none\" points=\"\n",
       "  712.897,860.504 712.897,886.367 775.458,886.367 775.458,860.504 712.897,860.504 \n",
       "  \"/>\n",
       "<path clip-path=\"url(#clip952)\" d=\"\n",
       "M775.458 860.504 L775.458 886.367 L838.018 886.367 L838.018 860.504 L775.458 860.504 L775.458 860.504  Z\n",
       "  \" fill=\"#4682b4\" fill-rule=\"evenodd\" fill-opacity=\"1\"/>\n",
       "<polyline clip-path=\"url(#clip952)\" style=\"stroke:#000000; stroke-linecap:butt; stroke-linejoin:round; stroke-width:4; stroke-opacity:1; fill:none\" points=\"\n",
       "  775.458,860.504 775.458,886.367 838.018,886.367 838.018,860.504 775.458,860.504 \n",
       "  \"/>\n",
       "<path clip-path=\"url(#clip952)\" d=\"\n",
       "M838.018 847.573 L838.018 886.367 L900.579 886.367 L900.579 847.573 L838.018 847.573 L838.018 847.573  Z\n",
       "  \" fill=\"#4682b4\" fill-rule=\"evenodd\" fill-opacity=\"1\"/>\n",
       "<polyline clip-path=\"url(#clip952)\" style=\"stroke:#000000; stroke-linecap:butt; stroke-linejoin:round; stroke-width:4; stroke-opacity:1; fill:none\" points=\"\n",
       "  838.018,847.573 838.018,886.367 900.579,886.367 900.579,847.573 838.018,847.573 \n",
       "  \"/>\n",
       "<path clip-path=\"url(#clip952)\" d=\"\n",
       "M900.579 847.573 L900.579 886.367 L963.139 886.367 L963.139 847.573 L900.579 847.573 L900.579 847.573  Z\n",
       "  \" fill=\"#4682b4\" fill-rule=\"evenodd\" fill-opacity=\"1\"/>\n",
       "<polyline clip-path=\"url(#clip952)\" style=\"stroke:#000000; stroke-linecap:butt; stroke-linejoin:round; stroke-width:4; stroke-opacity:1; fill:none\" points=\"\n",
       "  900.579,847.573 900.579,886.367 963.139,886.367 963.139,847.573 900.579,847.573 \n",
       "  \"/>\n",
       "<path clip-path=\"url(#clip952)\" d=\"\n",
       "M963.139 834.641 L963.139 886.367 L1025.7 886.367 L1025.7 834.641 L963.139 834.641 L963.139 834.641  Z\n",
       "  \" fill=\"#4682b4\" fill-rule=\"evenodd\" fill-opacity=\"1\"/>\n",
       "<polyline clip-path=\"url(#clip952)\" style=\"stroke:#000000; stroke-linecap:butt; stroke-linejoin:round; stroke-width:4; stroke-opacity:1; fill:none\" points=\"\n",
       "  963.139,834.641 963.139,886.367 1025.7,886.367 1025.7,834.641 963.139,834.641 \n",
       "  \"/>\n",
       "<path clip-path=\"url(#clip952)\" d=\"\n",
       "M1025.7 821.71 L1025.7 886.367 L1088.26 886.367 L1088.26 821.71 L1025.7 821.71 L1025.7 821.71  Z\n",
       "  \" fill=\"#4682b4\" fill-rule=\"evenodd\" fill-opacity=\"1\"/>\n",
       "<polyline clip-path=\"url(#clip952)\" style=\"stroke:#000000; stroke-linecap:butt; stroke-linejoin:round; stroke-width:4; stroke-opacity:1; fill:none\" points=\"\n",
       "  1025.7,821.71 1025.7,886.367 1088.26,886.367 1088.26,821.71 1025.7,821.71 \n",
       "  \"/>\n",
       "<path clip-path=\"url(#clip952)\" d=\"\n",
       "M1088.26 821.71 L1088.26 886.367 L1150.82 886.367 L1150.82 821.71 L1088.26 821.71 L1088.26 821.71  Z\n",
       "  \" fill=\"#4682b4\" fill-rule=\"evenodd\" fill-opacity=\"1\"/>\n",
       "<polyline clip-path=\"url(#clip952)\" style=\"stroke:#000000; stroke-linecap:butt; stroke-linejoin:round; stroke-width:4; stroke-opacity:1; fill:none\" points=\"\n",
       "  1088.26,821.71 1088.26,886.367 1150.82,886.367 1150.82,821.71 1088.26,821.71 \n",
       "  \"/>\n",
       "<path clip-path=\"url(#clip952)\" d=\"\n",
       "M1150.82 808.779 L1150.82 886.367 L1213.38 886.367 L1213.38 808.779 L1150.82 808.779 L1150.82 808.779  Z\n",
       "  \" fill=\"#4682b4\" fill-rule=\"evenodd\" fill-opacity=\"1\"/>\n",
       "<polyline clip-path=\"url(#clip952)\" style=\"stroke:#000000; stroke-linecap:butt; stroke-linejoin:round; stroke-width:4; stroke-opacity:1; fill:none\" points=\"\n",
       "  1150.82,808.779 1150.82,886.367 1213.38,886.367 1213.38,808.779 1150.82,808.779 \n",
       "  \"/>\n",
       "<path clip-path=\"url(#clip952)\" d=\"\n",
       "M1213.38 782.916 L1213.38 886.367 L1275.94 886.367 L1275.94 782.916 L1213.38 782.916 L1213.38 782.916  Z\n",
       "  \" fill=\"#4682b4\" fill-rule=\"evenodd\" fill-opacity=\"1\"/>\n",
       "<polyline clip-path=\"url(#clip952)\" style=\"stroke:#000000; stroke-linecap:butt; stroke-linejoin:round; stroke-width:4; stroke-opacity:1; fill:none\" points=\"\n",
       "  1213.38,782.916 1213.38,886.367 1275.94,886.367 1275.94,782.916 1213.38,782.916 \n",
       "  \"/>\n",
       "<path clip-path=\"url(#clip952)\" d=\"\n",
       "M1275.94 782.916 L1275.94 886.367 L1338.5 886.367 L1338.5 782.916 L1275.94 782.916 L1275.94 782.916  Z\n",
       "  \" fill=\"#4682b4\" fill-rule=\"evenodd\" fill-opacity=\"1\"/>\n",
       "<polyline clip-path=\"url(#clip952)\" style=\"stroke:#000000; stroke-linecap:butt; stroke-linejoin:round; stroke-width:4; stroke-opacity:1; fill:none\" points=\"\n",
       "  1275.94,782.916 1275.94,886.367 1338.5,886.367 1338.5,782.916 1275.94,782.916 \n",
       "  \"/>\n",
       "<path clip-path=\"url(#clip952)\" d=\"\n",
       "M1338.5 744.121 L1338.5 886.367 L1401.06 886.367 L1401.06 744.121 L1338.5 744.121 L1338.5 744.121  Z\n",
       "  \" fill=\"#4682b4\" fill-rule=\"evenodd\" fill-opacity=\"1\"/>\n",
       "<polyline clip-path=\"url(#clip952)\" style=\"stroke:#000000; stroke-linecap:butt; stroke-linejoin:round; stroke-width:4; stroke-opacity:1; fill:none\" points=\"\n",
       "  1338.5,744.121 1338.5,886.367 1401.06,886.367 1401.06,744.121 1338.5,744.121 \n",
       "  \"/>\n",
       "<path clip-path=\"url(#clip952)\" d=\"\n",
       "M1401.06 744.121 L1401.06 886.367 L1463.62 886.367 L1463.62 744.121 L1401.06 744.121 L1401.06 744.121  Z\n",
       "  \" fill=\"#4682b4\" fill-rule=\"evenodd\" fill-opacity=\"1\"/>\n",
       "<polyline clip-path=\"url(#clip952)\" style=\"stroke:#000000; stroke-linecap:butt; stroke-linejoin:round; stroke-width:4; stroke-opacity:1; fill:none\" points=\"\n",
       "  1401.06,744.121 1401.06,886.367 1463.62,886.367 1463.62,744.121 1401.06,744.121 \n",
       "  \"/>\n",
       "<path clip-path=\"url(#clip952)\" d=\"\n",
       "M1463.62 731.19 L1463.62 886.367 L1526.18 886.367 L1526.18 731.19 L1463.62 731.19 L1463.62 731.19  Z\n",
       "  \" fill=\"#4682b4\" fill-rule=\"evenodd\" fill-opacity=\"1\"/>\n",
       "<polyline clip-path=\"url(#clip952)\" style=\"stroke:#000000; stroke-linecap:butt; stroke-linejoin:round; stroke-width:4; stroke-opacity:1; fill:none\" points=\"\n",
       "  1463.62,731.19 1463.62,886.367 1526.18,886.367 1526.18,731.19 1463.62,731.19 \n",
       "  \"/>\n",
       "<path clip-path=\"url(#clip952)\" d=\"\n",
       "M1526.18 744.121 L1526.18 886.367 L1588.74 886.367 L1588.74 744.121 L1526.18 744.121 L1526.18 744.121  Z\n",
       "  \" fill=\"#4682b4\" fill-rule=\"evenodd\" fill-opacity=\"1\"/>\n",
       "<polyline clip-path=\"url(#clip952)\" style=\"stroke:#000000; stroke-linecap:butt; stroke-linejoin:round; stroke-width:4; stroke-opacity:1; fill:none\" points=\"\n",
       "  1526.18,744.121 1526.18,886.367 1588.74,886.367 1588.74,744.121 1526.18,744.121 \n",
       "  \"/>\n",
       "<path clip-path=\"url(#clip952)\" d=\"\n",
       "M1588.74 692.395 L1588.74 886.367 L1651.3 886.367 L1651.3 692.395 L1588.74 692.395 L1588.74 692.395  Z\n",
       "  \" fill=\"#4682b4\" fill-rule=\"evenodd\" fill-opacity=\"1\"/>\n",
       "<polyline clip-path=\"url(#clip952)\" style=\"stroke:#000000; stroke-linecap:butt; stroke-linejoin:round; stroke-width:4; stroke-opacity:1; fill:none\" points=\"\n",
       "  1588.74,692.395 1588.74,886.367 1651.3,886.367 1651.3,692.395 1588.74,692.395 \n",
       "  \"/>\n",
       "<path clip-path=\"url(#clip952)\" d=\"\n",
       "M1651.3 576.012 L1651.3 886.367 L1713.86 886.367 L1713.86 576.012 L1651.3 576.012 L1651.3 576.012  Z\n",
       "  \" fill=\"#4682b4\" fill-rule=\"evenodd\" fill-opacity=\"1\"/>\n",
       "<polyline clip-path=\"url(#clip952)\" style=\"stroke:#000000; stroke-linecap:butt; stroke-linejoin:round; stroke-width:4; stroke-opacity:1; fill:none\" points=\"\n",
       "  1651.3,576.012 1651.3,886.367 1713.86,886.367 1713.86,576.012 1651.3,576.012 \n",
       "  \"/>\n",
       "<path clip-path=\"url(#clip952)\" d=\"\n",
       "M1713.86 550.149 L1713.86 886.367 L1776.43 886.367 L1776.43 550.149 L1713.86 550.149 L1713.86 550.149  Z\n",
       "  \" fill=\"#4682b4\" fill-rule=\"evenodd\" fill-opacity=\"1\"/>\n",
       "<polyline clip-path=\"url(#clip952)\" style=\"stroke:#000000; stroke-linecap:butt; stroke-linejoin:round; stroke-width:4; stroke-opacity:1; fill:none\" points=\"\n",
       "  1713.86,550.149 1713.86,886.367 1776.43,886.367 1776.43,550.149 1713.86,550.149 \n",
       "  \"/>\n",
       "<path clip-path=\"url(#clip952)\" d=\"\n",
       "M1776.43 394.971 L1776.43 886.367 L1838.99 886.367 L1838.99 394.971 L1776.43 394.971 L1776.43 394.971  Z\n",
       "  \" fill=\"#4682b4\" fill-rule=\"evenodd\" fill-opacity=\"1\"/>\n",
       "<polyline clip-path=\"url(#clip952)\" style=\"stroke:#000000; stroke-linecap:butt; stroke-linejoin:round; stroke-width:4; stroke-opacity:1; fill:none\" points=\"\n",
       "  1776.43,394.971 1776.43,886.367 1838.99,886.367 1838.99,394.971 1776.43,394.971 \n",
       "  \"/>\n",
       "<path clip-path=\"url(#clip952)\" d=\"\n",
       "M1838.99 265.657 L1838.99 886.367 L1901.55 886.367 L1901.55 265.657 L1838.99 265.657 L1838.99 265.657  Z\n",
       "  \" fill=\"#4682b4\" fill-rule=\"evenodd\" fill-opacity=\"1\"/>\n",
       "<polyline clip-path=\"url(#clip952)\" style=\"stroke:#000000; stroke-linecap:butt; stroke-linejoin:round; stroke-width:4; stroke-opacity:1; fill:none\" points=\"\n",
       "  1838.99,265.657 1838.99,886.367 1901.55,886.367 1901.55,265.657 1838.99,265.657 \n",
       "  \"/>\n",
       "<path clip-path=\"url(#clip952)\" d=\"\n",
       "M1901.55 123.41 L1901.55 886.367 L1964.11 886.367 L1964.11 123.41 L1901.55 123.41 L1901.55 123.41  Z\n",
       "  \" fill=\"#4682b4\" fill-rule=\"evenodd\" fill-opacity=\"1\"/>\n",
       "<polyline clip-path=\"url(#clip952)\" style=\"stroke:#000000; stroke-linecap:butt; stroke-linejoin:round; stroke-width:4; stroke-opacity:1; fill:none\" points=\"\n",
       "  1901.55,123.41 1901.55,886.367 1964.11,886.367 1964.11,123.41 1901.55,123.41 \n",
       "  \"/>\n",
       "<path clip-path=\"url(#clip952)\" d=\"\n",
       "M1964.11 71.6846 L1964.11 886.367 L2026.67 886.367 L2026.67 71.6846 L1964.11 71.6846 L1964.11 71.6846  Z\n",
       "  \" fill=\"#4682b4\" fill-rule=\"evenodd\" fill-opacity=\"1\"/>\n",
       "<polyline clip-path=\"url(#clip952)\" style=\"stroke:#000000; stroke-linecap:butt; stroke-linejoin:round; stroke-width:4; stroke-opacity:1; fill:none\" points=\"\n",
       "  1964.11,71.6846 1964.11,886.367 2026.67,886.367 2026.67,71.6846 1964.11,71.6846 \n",
       "  \"/>\n",
       "<path clip-path=\"url(#clip952)\" d=\"\n",
       "M2026.67 149.273 L2026.67 886.367 L2089.23 886.367 L2089.23 149.273 L2026.67 149.273 L2026.67 149.273  Z\n",
       "  \" fill=\"#4682b4\" fill-rule=\"evenodd\" fill-opacity=\"1\"/>\n",
       "<polyline clip-path=\"url(#clip952)\" style=\"stroke:#000000; stroke-linecap:butt; stroke-linejoin:round; stroke-width:4; stroke-opacity:1; fill:none\" points=\"\n",
       "  2026.67,149.273 2026.67,886.367 2089.23,886.367 2089.23,149.273 2026.67,149.273 \n",
       "  \"/>\n",
       "<path clip-path=\"url(#clip952)\" d=\"\n",
       "M2089.23 407.903 L2089.23 886.367 L2151.79 886.367 L2151.79 407.903 L2089.23 407.903 L2089.23 407.903  Z\n",
       "  \" fill=\"#4682b4\" fill-rule=\"evenodd\" fill-opacity=\"1\"/>\n",
       "<polyline clip-path=\"url(#clip952)\" style=\"stroke:#000000; stroke-linecap:butt; stroke-linejoin:round; stroke-width:4; stroke-opacity:1; fill:none\" points=\"\n",
       "  2089.23,407.903 2089.23,886.367 2151.79,886.367 2151.79,407.903 2089.23,407.903 \n",
       "  \"/>\n",
       "<path clip-path=\"url(#clip952)\" d=\"\n",
       "M2151.79 666.532 L2151.79 886.367 L2214.35 886.367 L2214.35 666.532 L2151.79 666.532 L2151.79 666.532  Z\n",
       "  \" fill=\"#4682b4\" fill-rule=\"evenodd\" fill-opacity=\"1\"/>\n",
       "<polyline clip-path=\"url(#clip952)\" style=\"stroke:#000000; stroke-linecap:butt; stroke-linejoin:round; stroke-width:4; stroke-opacity:1; fill:none\" points=\"\n",
       "  2151.79,666.532 2151.79,886.367 2214.35,886.367 2214.35,666.532 2151.79,666.532 \n",
       "  \"/>\n",
       "<path clip-path=\"url(#clip952)\" d=\"\n",
       "M2214.35 795.847 L2214.35 886.367 L2276.91 886.367 L2276.91 795.847 L2214.35 795.847 L2214.35 795.847  Z\n",
       "  \" fill=\"#4682b4\" fill-rule=\"evenodd\" fill-opacity=\"1\"/>\n",
       "<polyline clip-path=\"url(#clip952)\" style=\"stroke:#000000; stroke-linecap:butt; stroke-linejoin:round; stroke-width:4; stroke-opacity:1; fill:none\" points=\"\n",
       "  2214.35,795.847 2214.35,886.367 2276.91,886.367 2276.91,795.847 2214.35,795.847 \n",
       "  \"/>\n",
       "<path clip-path=\"url(#clip952)\" d=\"\n",
       "M2276.91 834.641 L2276.91 886.367 L2339.47 886.367 L2339.47 834.641 L2276.91 834.641 L2276.91 834.641  Z\n",
       "  \" fill=\"#4682b4\" fill-rule=\"evenodd\" fill-opacity=\"1\"/>\n",
       "<polyline clip-path=\"url(#clip952)\" style=\"stroke:#000000; stroke-linecap:butt; stroke-linejoin:round; stroke-width:4; stroke-opacity:1; fill:none\" points=\"\n",
       "  2276.91,834.641 2276.91,886.367 2339.47,886.367 2339.47,834.641 2276.91,834.641 \n",
       "  \"/>\n",
       "<path clip-path=\"url(#clip952)\" d=\"\n",
       "M2339.47 873.436 L2339.47 886.367 L2402.03 886.367 L2402.03 873.436 L2339.47 873.436 L2339.47 873.436  Z\n",
       "  \" fill=\"#4682b4\" fill-rule=\"evenodd\" fill-opacity=\"1\"/>\n",
       "<polyline clip-path=\"url(#clip952)\" style=\"stroke:#000000; stroke-linecap:butt; stroke-linejoin:round; stroke-width:4; stroke-opacity:1; fill:none\" points=\"\n",
       "  2339.47,873.436 2339.47,886.367 2402.03,886.367 2402.03,873.436 2339.47,873.436 \n",
       "  \"/>\n",
       "<path clip-path=\"url(#clip952)\" d=\"\n",
       "M2402.03 873.436 L2402.03 886.367 L2464.59 886.367 L2464.59 873.436 L2402.03 873.436 L2402.03 873.436  Z\n",
       "  \" fill=\"#4682b4\" fill-rule=\"evenodd\" fill-opacity=\"1\"/>\n",
       "<polyline clip-path=\"url(#clip952)\" style=\"stroke:#000000; stroke-linecap:butt; stroke-linejoin:round; stroke-width:4; stroke-opacity:1; fill:none\" points=\"\n",
       "  2402.03,873.436 2402.03,886.367 2464.59,886.367 2464.59,873.436 2402.03,873.436 \n",
       "  \"/>\n",
       "<circle clip-path=\"url(#clip952)\" style=\"fill:#4682b4; stroke:none; fill-opacity:0\" cx=\"181.133\" cy=\"873.436\" r=\"2\"/>\n",
       "<circle clip-path=\"url(#clip952)\" style=\"fill:#4682b4; stroke:none; fill-opacity:0\" cx=\"243.694\" cy=\"886.367\" r=\"2\"/>\n",
       "<circle clip-path=\"url(#clip952)\" style=\"fill:#4682b4; stroke:none; fill-opacity:0\" cx=\"306.254\" cy=\"873.436\" r=\"2\"/>\n",
       "<circle clip-path=\"url(#clip952)\" style=\"fill:#4682b4; stroke:none; fill-opacity:0\" cx=\"368.815\" cy=\"886.367\" r=\"2\"/>\n",
       "<circle clip-path=\"url(#clip952)\" style=\"fill:#4682b4; stroke:none; fill-opacity:0\" cx=\"431.375\" cy=\"886.367\" r=\"2\"/>\n",
       "<circle clip-path=\"url(#clip952)\" style=\"fill:#4682b4; stroke:none; fill-opacity:0\" cx=\"493.936\" cy=\"873.436\" r=\"2\"/>\n",
       "<circle clip-path=\"url(#clip952)\" style=\"fill:#4682b4; stroke:none; fill-opacity:0\" cx=\"556.496\" cy=\"860.504\" r=\"2\"/>\n",
       "<circle clip-path=\"url(#clip952)\" style=\"fill:#4682b4; stroke:none; fill-opacity:0\" cx=\"619.057\" cy=\"873.436\" r=\"2\"/>\n",
       "<circle clip-path=\"url(#clip952)\" style=\"fill:#4682b4; stroke:none; fill-opacity:0\" cx=\"681.617\" cy=\"873.436\" r=\"2\"/>\n",
       "<circle clip-path=\"url(#clip952)\" style=\"fill:#4682b4; stroke:none; fill-opacity:0\" cx=\"744.177\" cy=\"860.504\" r=\"2\"/>\n",
       "<circle clip-path=\"url(#clip952)\" style=\"fill:#4682b4; stroke:none; fill-opacity:0\" cx=\"806.738\" cy=\"860.504\" r=\"2\"/>\n",
       "<circle clip-path=\"url(#clip952)\" style=\"fill:#4682b4; stroke:none; fill-opacity:0\" cx=\"869.298\" cy=\"847.573\" r=\"2\"/>\n",
       "<circle clip-path=\"url(#clip952)\" style=\"fill:#4682b4; stroke:none; fill-opacity:0\" cx=\"931.859\" cy=\"847.573\" r=\"2\"/>\n",
       "<circle clip-path=\"url(#clip952)\" style=\"fill:#4682b4; stroke:none; fill-opacity:0\" cx=\"994.419\" cy=\"834.641\" r=\"2\"/>\n",
       "<circle clip-path=\"url(#clip952)\" style=\"fill:#4682b4; stroke:none; fill-opacity:0\" cx=\"1056.98\" cy=\"821.71\" r=\"2\"/>\n",
       "<circle clip-path=\"url(#clip952)\" style=\"fill:#4682b4; stroke:none; fill-opacity:0\" cx=\"1119.54\" cy=\"821.71\" r=\"2\"/>\n",
       "<circle clip-path=\"url(#clip952)\" style=\"fill:#4682b4; stroke:none; fill-opacity:0\" cx=\"1182.1\" cy=\"808.779\" r=\"2\"/>\n",
       "<circle clip-path=\"url(#clip952)\" style=\"fill:#4682b4; stroke:none; fill-opacity:0\" cx=\"1244.66\" cy=\"782.916\" r=\"2\"/>\n",
       "<circle clip-path=\"url(#clip952)\" style=\"fill:#4682b4; stroke:none; fill-opacity:0\" cx=\"1307.22\" cy=\"782.916\" r=\"2\"/>\n",
       "<circle clip-path=\"url(#clip952)\" style=\"fill:#4682b4; stroke:none; fill-opacity:0\" cx=\"1369.78\" cy=\"744.121\" r=\"2\"/>\n",
       "<circle clip-path=\"url(#clip952)\" style=\"fill:#4682b4; stroke:none; fill-opacity:0\" cx=\"1432.34\" cy=\"744.121\" r=\"2\"/>\n",
       "<circle clip-path=\"url(#clip952)\" style=\"fill:#4682b4; stroke:none; fill-opacity:0\" cx=\"1494.9\" cy=\"731.19\" r=\"2\"/>\n",
       "<circle clip-path=\"url(#clip952)\" style=\"fill:#4682b4; stroke:none; fill-opacity:0\" cx=\"1557.46\" cy=\"744.121\" r=\"2\"/>\n",
       "<circle clip-path=\"url(#clip952)\" style=\"fill:#4682b4; stroke:none; fill-opacity:0\" cx=\"1620.02\" cy=\"692.395\" r=\"2\"/>\n",
       "<circle clip-path=\"url(#clip952)\" style=\"fill:#4682b4; stroke:none; fill-opacity:0\" cx=\"1682.58\" cy=\"576.012\" r=\"2\"/>\n",
       "<circle clip-path=\"url(#clip952)\" style=\"fill:#4682b4; stroke:none; fill-opacity:0\" cx=\"1745.15\" cy=\"550.149\" r=\"2\"/>\n",
       "<circle clip-path=\"url(#clip952)\" style=\"fill:#4682b4; stroke:none; fill-opacity:0\" cx=\"1807.71\" cy=\"394.971\" r=\"2\"/>\n",
       "<circle clip-path=\"url(#clip952)\" style=\"fill:#4682b4; stroke:none; fill-opacity:0\" cx=\"1870.27\" cy=\"265.657\" r=\"2\"/>\n",
       "<circle clip-path=\"url(#clip952)\" style=\"fill:#4682b4; stroke:none; fill-opacity:0\" cx=\"1932.83\" cy=\"123.41\" r=\"2\"/>\n",
       "<circle clip-path=\"url(#clip952)\" style=\"fill:#4682b4; stroke:none; fill-opacity:0\" cx=\"1995.39\" cy=\"71.6846\" r=\"2\"/>\n",
       "<circle clip-path=\"url(#clip952)\" style=\"fill:#4682b4; stroke:none; fill-opacity:0\" cx=\"2057.95\" cy=\"149.273\" r=\"2\"/>\n",
       "<circle clip-path=\"url(#clip952)\" style=\"fill:#4682b4; stroke:none; fill-opacity:0\" cx=\"2120.51\" cy=\"407.903\" r=\"2\"/>\n",
       "<circle clip-path=\"url(#clip952)\" style=\"fill:#4682b4; stroke:none; fill-opacity:0\" cx=\"2183.07\" cy=\"666.532\" r=\"2\"/>\n",
       "<circle clip-path=\"url(#clip952)\" style=\"fill:#4682b4; stroke:none; fill-opacity:0\" cx=\"2245.63\" cy=\"795.847\" r=\"2\"/>\n",
       "<circle clip-path=\"url(#clip952)\" style=\"fill:#4682b4; stroke:none; fill-opacity:0\" cx=\"2308.19\" cy=\"834.641\" r=\"2\"/>\n",
       "<circle clip-path=\"url(#clip952)\" style=\"fill:#4682b4; stroke:none; fill-opacity:0\" cx=\"2370.75\" cy=\"873.436\" r=\"2\"/>\n",
       "<circle clip-path=\"url(#clip952)\" style=\"fill:#4682b4; stroke:none; fill-opacity:0\" cx=\"2433.31\" cy=\"873.436\" r=\"2\"/>\n",
       "<path clip-path=\"url(#clip950)\" d=\"\n",
       "M483.509 530.866 L1611.3 530.866 L1611.3 427.186 L483.509 427.186  Z\n",
       "  \" fill=\"#ffffff\" fill-rule=\"evenodd\" fill-opacity=\"1\"/>\n",
       "<polyline clip-path=\"url(#clip950)\" style=\"stroke:#000000; stroke-linecap:butt; stroke-linejoin:round; stroke-width:4; stroke-opacity:1; fill:none\" points=\"\n",
       "  483.509,530.866 1611.3,530.866 1611.3,427.186 483.509,427.186 483.509,530.866 \n",
       "  \"/>\n",
       "<path clip-path=\"url(#clip950)\" d=\"\n",
       "M516.874 499.762 L717.068 499.762 L717.068 458.29 L516.874 458.29 L516.874 499.762  Z\n",
       "  \" fill=\"#4682b4\" fill-rule=\"evenodd\" fill-opacity=\"1\"/>\n",
       "<polyline clip-path=\"url(#clip950)\" style=\"stroke:#000000; stroke-linecap:butt; stroke-linejoin:round; stroke-width:4; stroke-opacity:1; fill:none\" points=\"\n",
       "  516.874,499.762 717.068,499.762 717.068,458.29 516.874,458.29 516.874,499.762 \n",
       "  \"/>\n",
       "<path clip-path=\"url(#clip950)\" d=\"M750.434 460.288 L754.693 460.288 L754.693 496.306 L750.434 496.306 L750.434 460.288 Z\" fill=\"#000000\" fill-rule=\"evenodd\" fill-opacity=\"1\" /><path clip-path=\"url(#clip950)\" d=\"M773.651 473.366 Q770.225 473.366 768.234 476.051 Q766.244 478.713 766.244 483.366 Q766.244 488.019 768.211 490.704 Q770.202 493.366 773.651 493.366 Q777.054 493.366 779.044 490.681 Q781.035 487.996 781.035 483.366 Q781.035 478.76 779.044 476.075 Q777.054 473.366 773.651 473.366 M773.651 469.755 Q779.207 469.755 782.378 473.366 Q785.549 476.977 785.549 483.366 Q785.549 489.732 782.378 493.366 Q779.207 496.977 773.651 496.977 Q768.072 496.977 764.901 493.366 Q761.753 489.732 761.753 483.366 Q761.753 476.977 764.901 473.366 Q768.072 469.755 773.651 469.755 Z\" fill=\"#000000\" fill-rule=\"evenodd\" fill-opacity=\"1\" /><path clip-path=\"url(#clip950)\" d=\"M809.669 483.042 Q809.669 478.413 807.748 475.866 Q805.85 473.32 802.401 473.32 Q798.975 473.32 797.054 475.866 Q795.156 478.413 795.156 483.042 Q795.156 487.649 797.054 490.195 Q798.975 492.741 802.401 492.741 Q805.85 492.741 807.748 490.195 Q809.669 487.649 809.669 483.042 M813.929 493.088 Q813.929 499.709 810.989 502.926 Q808.049 506.167 801.984 506.167 Q799.739 506.167 797.748 505.82 Q795.757 505.496 793.882 504.801 L793.882 500.658 Q795.757 501.676 797.586 502.162 Q799.415 502.649 801.313 502.649 Q805.503 502.649 807.586 500.449 Q809.669 498.274 809.669 493.852 L809.669 491.746 Q808.35 494.037 806.29 495.172 Q804.23 496.306 801.359 496.306 Q796.591 496.306 793.674 492.672 Q790.757 489.038 790.757 483.042 Q790.757 477.024 793.674 473.389 Q796.591 469.755 801.359 469.755 Q804.23 469.755 806.29 470.889 Q808.35 472.024 809.669 474.315 L809.669 470.38 L813.929 470.38 L813.929 493.088 Z\" fill=\"#000000\" fill-rule=\"evenodd\" fill-opacity=\"1\" /><path clip-path=\"url(#clip950)\" d=\"M834.484 483.274 Q829.322 483.274 827.331 484.454 Q825.341 485.635 825.341 488.482 Q825.341 490.75 826.822 492.093 Q828.327 493.412 830.896 493.412 Q834.438 493.412 836.567 490.912 Q838.72 488.389 838.72 484.223 L838.72 483.274 L834.484 483.274 M842.979 481.514 L842.979 496.306 L838.72 496.306 L838.72 492.371 Q837.262 494.732 835.086 495.866 Q832.91 496.977 829.762 496.977 Q825.78 496.977 823.419 494.755 Q821.081 492.51 821.081 488.76 Q821.081 484.385 823.998 482.163 Q826.938 479.94 832.748 479.94 L838.72 479.94 L838.72 479.524 Q838.72 476.584 836.776 474.987 Q834.854 473.366 831.359 473.366 Q829.137 473.366 827.03 473.899 Q824.924 474.431 822.979 475.496 L822.979 471.561 Q825.317 470.658 827.516 470.218 Q829.716 469.755 831.799 469.755 Q837.424 469.755 840.202 472.672 Q842.979 475.589 842.979 481.514 Z\" fill=\"#000000\" fill-rule=\"evenodd\" fill-opacity=\"1\" /><path clip-path=\"url(#clip950)\" d=\"M866.776 474.362 Q866.058 473.945 865.201 473.76 Q864.368 473.551 863.35 473.551 Q859.739 473.551 857.794 475.913 Q855.873 478.251 855.873 482.649 L855.873 496.306 L851.59 496.306 L851.59 470.38 L855.873 470.38 L855.873 474.408 Q857.215 472.047 859.368 470.913 Q861.521 469.755 864.6 469.755 Q865.039 469.755 865.572 469.825 Q866.104 469.871 866.752 469.987 L866.776 474.362 Z\" fill=\"#000000\" fill-rule=\"evenodd\" fill-opacity=\"1\" /><path clip-path=\"url(#clip950)\" d=\"M871.243 470.38 L875.502 470.38 L875.502 496.306 L871.243 496.306 L871.243 470.38 M871.243 460.288 L875.502 460.288 L875.502 465.681 L871.243 465.681 L871.243 460.288 Z\" fill=\"#000000\" fill-rule=\"evenodd\" fill-opacity=\"1\" /><path clip-path=\"url(#clip950)\" d=\"M888.627 463.019 L888.627 470.38 L897.4 470.38 L897.4 473.69 L888.627 473.69 L888.627 487.764 Q888.627 490.936 889.484 491.838 Q890.363 492.741 893.025 492.741 L897.4 492.741 L897.4 496.306 L893.025 496.306 Q888.095 496.306 886.22 494.477 Q884.345 492.625 884.345 487.764 L884.345 473.69 L881.22 473.69 L881.22 470.38 L884.345 470.38 L884.345 463.019 L888.627 463.019 Z\" fill=\"#000000\" fill-rule=\"evenodd\" fill-opacity=\"1\" /><path clip-path=\"url(#clip950)\" d=\"M924.553 480.658 L924.553 496.306 L920.294 496.306 L920.294 480.797 Q920.294 477.116 918.859 475.288 Q917.423 473.459 914.553 473.459 Q911.104 473.459 909.113 475.658 Q907.123 477.857 907.123 481.653 L907.123 496.306 L902.84 496.306 L902.84 460.288 L907.123 460.288 L907.123 474.408 Q908.65 472.07 910.71 470.913 Q912.794 469.755 915.502 469.755 Q919.97 469.755 922.261 472.533 Q924.553 475.288 924.553 480.658 Z\" fill=\"#000000\" fill-rule=\"evenodd\" fill-opacity=\"1\" /><path clip-path=\"url(#clip950)\" d=\"M953.233 475.357 Q954.831 472.487 957.053 471.121 Q959.275 469.755 962.284 469.755 Q966.335 469.755 968.534 472.602 Q970.733 475.426 970.733 480.658 L970.733 496.306 L966.451 496.306 L966.451 480.797 Q966.451 477.07 965.131 475.264 Q963.812 473.459 961.104 473.459 Q957.794 473.459 955.872 475.658 Q953.951 477.857 953.951 481.653 L953.951 496.306 L949.669 496.306 L949.669 480.797 Q949.669 477.047 948.349 475.264 Q947.03 473.459 944.275 473.459 Q941.011 473.459 939.09 475.681 Q937.169 477.88 937.169 481.653 L937.169 496.306 L932.886 496.306 L932.886 470.38 L937.169 470.38 L937.169 474.408 Q938.627 472.024 940.664 470.889 Q942.701 469.755 945.502 469.755 Q948.326 469.755 950.294 471.19 Q952.284 472.626 953.233 475.357 Z\" fill=\"#000000\" fill-rule=\"evenodd\" fill-opacity=\"1\" /><path clip-path=\"url(#clip950)\" d=\"M995.756 471.144 L995.756 475.172 Q993.951 474.246 992.006 473.783 Q990.062 473.32 987.979 473.32 Q984.807 473.32 983.21 474.292 Q981.636 475.264 981.636 477.209 Q981.636 478.69 982.77 479.547 Q983.905 480.38 987.33 481.144 L988.789 481.468 Q993.326 482.44 995.224 484.223 Q997.145 485.982 997.145 489.153 Q997.145 492.764 994.275 494.871 Q991.428 496.977 986.428 496.977 Q984.344 496.977 982.076 496.561 Q979.83 496.167 977.33 495.357 L977.33 490.959 Q979.692 492.186 981.983 492.811 Q984.275 493.412 986.52 493.412 Q989.529 493.412 991.15 492.394 Q992.77 491.352 992.77 489.477 Q992.77 487.741 991.59 486.815 Q990.432 485.889 986.474 485.033 L984.992 484.686 Q981.034 483.852 979.275 482.139 Q977.516 480.403 977.516 477.394 Q977.516 473.737 980.108 471.746 Q982.701 469.755 987.469 469.755 Q989.83 469.755 991.914 470.102 Q993.997 470.45 995.756 471.144 Z\" fill=\"#000000\" fill-rule=\"evenodd\" fill-opacity=\"1\" /><path clip-path=\"url(#clip950)\" d=\"M1029.04 473.366 Q1025.62 473.366 1023.63 476.051 Q1021.64 478.713 1021.64 483.366 Q1021.64 488.019 1023.6 490.704 Q1025.59 493.366 1029.04 493.366 Q1032.45 493.366 1034.44 490.681 Q1036.43 487.996 1036.43 483.366 Q1036.43 478.76 1034.44 476.075 Q1032.45 473.366 1029.04 473.366 M1029.04 469.755 Q1034.6 469.755 1037.77 473.366 Q1040.94 476.977 1040.94 483.366 Q1040.94 489.732 1037.77 493.366 Q1034.6 496.977 1029.04 496.977 Q1023.46 496.977 1020.29 493.366 Q1017.15 489.732 1017.15 483.366 Q1017.15 476.977 1020.29 473.366 Q1023.46 469.755 1029.04 469.755 Z\" fill=\"#000000\" fill-rule=\"evenodd\" fill-opacity=\"1\" /><path clip-path=\"url(#clip950)\" d=\"M1061.13 460.288 L1061.13 463.829 L1057.05 463.829 Q1054.76 463.829 1053.86 464.755 Q1052.98 465.681 1052.98 468.089 L1052.98 470.38 L1059.99 470.38 L1059.99 473.69 L1052.98 473.69 L1052.98 496.306 L1048.7 496.306 L1048.7 473.69 L1044.62 473.69 L1044.62 470.38 L1048.7 470.38 L1048.7 468.575 Q1048.7 464.246 1050.71 462.278 Q1052.72 460.288 1057.1 460.288 L1061.13 460.288 Z\" fill=\"#000000\" fill-rule=\"evenodd\" fill-opacity=\"1\" /><path clip-path=\"url(#clip950)\" d=\"M1096.29 471.144 L1096.29 475.172 Q1094.48 474.246 1092.54 473.783 Q1090.59 473.32 1088.51 473.32 Q1085.34 473.32 1083.74 474.292 Q1082.17 475.264 1082.17 477.209 Q1082.17 478.69 1083.3 479.547 Q1084.44 480.38 1087.86 481.144 L1089.32 481.468 Q1093.86 482.44 1095.76 484.223 Q1097.68 485.982 1097.68 489.153 Q1097.68 492.764 1094.81 494.871 Q1091.96 496.977 1086.96 496.977 Q1084.88 496.977 1082.61 496.561 Q1080.36 496.167 1077.86 495.357 L1077.86 490.959 Q1080.22 492.186 1082.52 492.811 Q1084.81 493.412 1087.05 493.412 Q1090.06 493.412 1091.68 492.394 Q1093.3 491.352 1093.3 489.477 Q1093.3 487.741 1092.12 486.815 Q1090.96 485.889 1087.01 485.033 L1085.52 484.686 Q1081.57 483.852 1079.81 482.139 Q1078.05 480.403 1078.05 477.394 Q1078.05 473.737 1080.64 471.746 Q1083.23 469.755 1088 469.755 Q1090.36 469.755 1092.45 470.102 Q1094.53 470.45 1096.29 471.144 Z\" fill=\"#000000\" fill-rule=\"evenodd\" fill-opacity=\"1\" /><path clip-path=\"url(#clip950)\" d=\"M1104.46 470.38 L1108.72 470.38 L1108.72 496.306 L1104.46 496.306 L1104.46 470.38 M1104.46 460.288 L1108.72 460.288 L1108.72 465.681 L1104.46 465.681 L1104.46 460.288 Z\" fill=\"#000000\" fill-rule=\"evenodd\" fill-opacity=\"1\" /><path clip-path=\"url(#clip950)\" d=\"M1139.18 480.658 L1139.18 496.306 L1134.92 496.306 L1134.92 480.797 Q1134.92 477.116 1133.49 475.288 Q1132.05 473.459 1129.18 473.459 Q1125.73 473.459 1123.74 475.658 Q1121.75 477.857 1121.75 481.653 L1121.75 496.306 L1117.47 496.306 L1117.47 470.38 L1121.75 470.38 L1121.75 474.408 Q1123.28 472.07 1125.34 470.913 Q1127.42 469.755 1130.13 469.755 Q1134.6 469.755 1136.89 472.533 Q1139.18 475.288 1139.18 480.658 Z\" fill=\"#000000\" fill-rule=\"evenodd\" fill-opacity=\"1\" /><path clip-path=\"url(#clip950)\" d=\"M1164.74 483.042 Q1164.74 478.413 1162.82 475.866 Q1160.92 473.32 1157.47 473.32 Q1154.04 473.32 1152.12 475.866 Q1150.22 478.413 1150.22 483.042 Q1150.22 487.649 1152.12 490.195 Q1154.04 492.741 1157.47 492.741 Q1160.92 492.741 1162.82 490.195 Q1164.74 487.649 1164.74 483.042 M1169 493.088 Q1169 499.709 1166.06 502.926 Q1163.12 506.167 1157.05 506.167 Q1154.81 506.167 1152.82 505.82 Q1150.82 505.496 1148.95 504.801 L1148.95 500.658 Q1150.82 501.676 1152.65 502.162 Q1154.48 502.649 1156.38 502.649 Q1160.57 502.649 1162.65 500.449 Q1164.74 498.274 1164.74 493.852 L1164.74 491.746 Q1163.42 494.037 1161.36 495.172 Q1159.3 496.306 1156.43 496.306 Q1151.66 496.306 1148.74 492.672 Q1145.82 489.038 1145.82 483.042 Q1145.82 477.024 1148.74 473.389 Q1151.66 469.755 1156.43 469.755 Q1159.3 469.755 1161.36 470.889 Q1163.42 472.024 1164.74 474.315 L1164.74 470.38 L1169 470.38 L1169 493.088 Z\" fill=\"#000000\" fill-rule=\"evenodd\" fill-opacity=\"1\" /><path clip-path=\"url(#clip950)\" d=\"M1177.33 486.075 L1177.33 470.38 L1181.59 470.38 L1181.59 485.913 Q1181.59 489.593 1183.02 491.445 Q1184.46 493.274 1187.33 493.274 Q1190.78 493.274 1192.77 491.075 Q1194.78 488.875 1194.78 485.079 L1194.78 470.38 L1199.04 470.38 L1199.04 496.306 L1194.78 496.306 L1194.78 492.325 Q1193.23 494.686 1191.17 495.843 Q1189.13 496.977 1186.43 496.977 Q1181.96 496.977 1179.64 494.2 Q1177.33 491.422 1177.33 486.075 M1188.05 469.755 L1188.05 469.755 Z\" fill=\"#000000\" fill-rule=\"evenodd\" fill-opacity=\"1\" /><path clip-path=\"url(#clip950)\" d=\"M1207.82 460.288 L1212.07 460.288 L1212.07 496.306 L1207.82 496.306 L1207.82 460.288 Z\" fill=\"#000000\" fill-rule=\"evenodd\" fill-opacity=\"1\" /><path clip-path=\"url(#clip950)\" d=\"M1232.77 483.274 Q1227.61 483.274 1225.62 484.454 Q1223.63 485.635 1223.63 488.482 Q1223.63 490.75 1225.11 492.093 Q1226.61 493.412 1229.18 493.412 Q1232.72 493.412 1234.85 490.912 Q1237.01 488.389 1237.01 484.223 L1237.01 483.274 L1232.77 483.274 M1241.26 481.514 L1241.26 496.306 L1237.01 496.306 L1237.01 492.371 Q1235.55 494.732 1233.37 495.866 Q1231.19 496.977 1228.05 496.977 Q1224.07 496.977 1221.7 494.755 Q1219.37 492.51 1219.37 488.76 Q1219.37 484.385 1222.28 482.163 Q1225.22 479.94 1231.03 479.94 L1237.01 479.94 L1237.01 479.524 Q1237.01 476.584 1235.06 474.987 Q1233.14 473.366 1229.64 473.366 Q1227.42 473.366 1225.32 473.899 Q1223.21 474.431 1221.26 475.496 L1221.26 471.561 Q1223.6 470.658 1225.8 470.218 Q1228 469.755 1230.08 469.755 Q1235.71 469.755 1238.49 472.672 Q1241.26 475.589 1241.26 481.514 Z\" fill=\"#000000\" fill-rule=\"evenodd\" fill-opacity=\"1\" /><path clip-path=\"url(#clip950)\" d=\"M1265.06 474.362 Q1264.34 473.945 1263.49 473.76 Q1262.65 473.551 1261.63 473.551 Q1258.02 473.551 1256.08 475.913 Q1254.16 478.251 1254.16 482.649 L1254.16 496.306 L1249.88 496.306 L1249.88 470.38 L1254.16 470.38 L1254.16 474.408 Q1255.5 472.047 1257.65 470.913 Q1259.81 469.755 1262.88 469.755 Q1263.32 469.755 1263.86 469.825 Q1264.39 469.871 1265.04 469.987 L1265.06 474.362 Z\" fill=\"#000000\" fill-rule=\"evenodd\" fill-opacity=\"1\" /><path clip-path=\"url(#clip950)\" d=\"M1281.54 470.38 L1286.06 470.38 L1294.16 492.139 L1302.26 470.38 L1306.77 470.38 L1297.05 496.306 L1291.26 496.306 L1281.54 470.38 Z\" fill=\"#000000\" fill-rule=\"evenodd\" fill-opacity=\"1\" /><path clip-path=\"url(#clip950)\" d=\"M1324.44 483.274 Q1319.27 483.274 1317.28 484.454 Q1315.29 485.635 1315.29 488.482 Q1315.29 490.75 1316.77 492.093 Q1318.28 493.412 1320.85 493.412 Q1324.39 493.412 1326.52 490.912 Q1328.67 488.389 1328.67 484.223 L1328.67 483.274 L1324.44 483.274 M1332.93 481.514 L1332.93 496.306 L1328.67 496.306 L1328.67 492.371 Q1327.21 494.732 1325.04 495.866 Q1322.86 496.977 1319.71 496.977 Q1315.73 496.977 1313.37 494.755 Q1311.03 492.51 1311.03 488.76 Q1311.03 484.385 1313.95 482.163 Q1316.89 479.94 1322.7 479.94 L1328.67 479.94 L1328.67 479.524 Q1328.67 476.584 1326.73 474.987 Q1324.81 473.366 1321.31 473.366 Q1319.09 473.366 1316.98 473.899 Q1314.87 474.431 1312.93 475.496 L1312.93 471.561 Q1315.27 470.658 1317.47 470.218 Q1319.67 469.755 1321.75 469.755 Q1327.37 469.755 1330.15 472.672 Q1332.93 475.589 1332.93 481.514 Z\" fill=\"#000000\" fill-rule=\"evenodd\" fill-opacity=\"1\" /><path clip-path=\"url(#clip950)\" d=\"M1341.7 460.288 L1345.96 460.288 L1345.96 496.306 L1341.7 496.306 L1341.7 460.288 Z\" fill=\"#000000\" fill-rule=\"evenodd\" fill-opacity=\"1\" /><path clip-path=\"url(#clip950)\" d=\"M1354.43 486.075 L1354.43 470.38 L1358.69 470.38 L1358.69 485.913 Q1358.69 489.593 1360.13 491.445 Q1361.56 493.274 1364.43 493.274 Q1367.88 493.274 1369.87 491.075 Q1371.89 488.875 1371.89 485.079 L1371.89 470.38 L1376.15 470.38 L1376.15 496.306 L1371.89 496.306 L1371.89 492.325 Q1370.34 494.686 1368.28 495.843 Q1366.24 496.977 1363.53 496.977 Q1359.06 496.977 1356.75 494.2 Q1354.43 491.422 1354.43 486.075 M1365.15 469.755 L1365.15 469.755 Z\" fill=\"#000000\" fill-rule=\"evenodd\" fill-opacity=\"1\" /><path clip-path=\"url(#clip950)\" d=\"M1407.1 482.278 L1407.1 484.362 L1387.51 484.362 Q1387.79 488.76 1390.15 491.075 Q1392.54 493.366 1396.77 493.366 Q1399.23 493.366 1401.52 492.764 Q1403.83 492.162 1406.1 490.959 L1406.1 494.987 Q1403.81 495.959 1401.4 496.468 Q1398.99 496.977 1396.52 496.977 Q1390.31 496.977 1386.68 493.366 Q1383.07 489.755 1383.07 483.598 Q1383.07 477.232 1386.49 473.505 Q1389.94 469.755 1395.78 469.755 Q1401.01 469.755 1404.04 473.135 Q1407.1 476.491 1407.1 482.278 M1402.84 481.028 Q1402.79 477.533 1400.87 475.45 Q1398.97 473.366 1395.82 473.366 Q1392.26 473.366 1390.11 475.38 Q1387.98 477.394 1387.65 481.051 L1402.84 481.028 Z\" fill=\"#000000\" fill-rule=\"evenodd\" fill-opacity=\"1\" /><path clip-path=\"url(#clip950)\" d=\"M1430.62 471.144 L1430.62 475.172 Q1428.81 474.246 1426.87 473.783 Q1424.92 473.32 1422.84 473.32 Q1419.67 473.32 1418.07 474.292 Q1416.49 475.264 1416.49 477.209 Q1416.49 478.69 1417.63 479.547 Q1418.76 480.38 1422.19 481.144 L1423.65 481.468 Q1428.18 482.44 1430.08 484.223 Q1432 485.982 1432 489.153 Q1432 492.764 1429.13 494.871 Q1426.29 496.977 1421.29 496.977 Q1419.2 496.977 1416.93 496.561 Q1414.69 496.167 1412.19 495.357 L1412.19 490.959 Q1414.55 492.186 1416.84 492.811 Q1419.13 493.412 1421.38 493.412 Q1424.39 493.412 1426.01 492.394 Q1427.63 491.352 1427.63 489.477 Q1427.63 487.741 1426.45 486.815 Q1425.29 485.889 1421.33 485.033 L1419.85 484.686 Q1415.89 483.852 1414.13 482.139 Q1412.37 480.403 1412.37 477.394 Q1412.37 473.737 1414.97 471.746 Q1417.56 469.755 1422.33 469.755 Q1424.69 469.755 1426.77 470.102 Q1428.86 470.45 1430.62 471.144 Z\" fill=\"#000000\" fill-rule=\"evenodd\" fill-opacity=\"1\" /><path clip-path=\"url(#clip950)\" d=\"M1463.9 473.366 Q1460.48 473.366 1458.49 476.051 Q1456.49 478.713 1456.49 483.366 Q1456.49 488.019 1458.46 490.704 Q1460.45 493.366 1463.9 493.366 Q1467.3 493.366 1469.3 490.681 Q1471.29 487.996 1471.29 483.366 Q1471.29 478.76 1469.3 476.075 Q1467.3 473.366 1463.9 473.366 M1463.9 469.755 Q1469.46 469.755 1472.63 473.366 Q1475.8 476.977 1475.8 483.366 Q1475.8 489.732 1472.63 493.366 Q1469.46 496.977 1463.9 496.977 Q1458.32 496.977 1455.15 493.366 Q1452 489.732 1452 483.366 Q1452 476.977 1455.15 473.366 Q1458.32 469.755 1463.9 469.755 Z\" fill=\"#000000\" fill-rule=\"evenodd\" fill-opacity=\"1\" /><path clip-path=\"url(#clip950)\" d=\"M1495.99 460.288 L1495.99 463.829 L1491.91 463.829 Q1489.62 463.829 1488.72 464.755 Q1487.84 465.681 1487.84 468.089 L1487.84 470.38 L1494.85 470.38 L1494.85 473.69 L1487.84 473.69 L1487.84 496.306 L1483.55 496.306 L1483.55 473.69 L1479.48 473.69 L1479.48 470.38 L1483.55 470.38 L1483.55 468.575 Q1483.55 464.246 1485.57 462.278 Q1487.58 460.288 1491.96 460.288 L1495.99 460.288 Z\" fill=\"#000000\" fill-rule=\"evenodd\" fill-opacity=\"1\" /><path clip-path=\"url(#clip950)\" d=\"M1544.57 492.186 L1544.57 496.306 L1530.68 496.306 L1530.68 492.186 Q1534.78 489.94 1537.07 486.098 Q1539.36 482.255 1539.36 477.579 Q1539.36 472.024 1536.31 468.667 Q1533.25 465.311 1528.25 465.311 Q1523.25 465.311 1520.17 468.69 Q1517.12 472.047 1517.12 477.579 Q1517.12 482.255 1519.41 486.098 Q1521.73 489.94 1525.85 492.186 L1525.85 496.306 L1511.96 496.306 L1511.96 492.186 L1519.34 492.186 Q1515.68 488.968 1513.99 485.519 Q1512.33 482.07 1512.33 477.811 Q1512.33 470.45 1516.77 465.889 Q1521.19 461.329 1528.25 461.329 Q1535.27 461.329 1539.73 465.889 Q1544.18 470.426 1544.18 477.579 Q1544.18 482.07 1542.54 485.496 Q1540.89 488.922 1537.17 492.186 L1544.57 492.186 Z\" fill=\"#000000\" fill-rule=\"evenodd\" fill-opacity=\"1\" /></svg>\n"
      ]
     },
     "execution_count": 37,
     "metadata": {},
     "output_type": "execute_result"
    }
   ],
   "source": [
    "histogram(log.(svals), color = :steelblue, nbins = 100, size = (800,250), \n",
    "                     xticks = -14:2:10, xlims = (-14,10),\n",
    "                     label = \"logarithms of singular values of Ω\", legend = (0.2,0.5))"
   ]
  },
  {
   "cell_type": "markdown",
   "metadata": {},
   "source": [
    "It seems that the majority of singular values is below $\\exp(2)$.\n",
    "\n",
    "Let us choose the linear subspace that is spanned by all eigenvectors for eigenvalues $\\lambda \\geq \\exp(x)$. "
   ]
  },
  {
   "cell_type": "code",
   "execution_count": 38,
   "metadata": {},
   "outputs": [
    {
     "data": {
      "text/plain": [
       "31"
      ]
     },
     "execution_count": 38,
     "metadata": {},
     "output_type": "execute_result"
    }
   ],
   "source": [
    "λ = exp(2)\n",
    "d = findfirst(svals .< λ)"
   ]
  },
  {
   "cell_type": "markdown",
   "metadata": {},
   "source": [
    "We aim to approximate the data by a model $x = A\\zeta + b + \\epsilon$ of dimension, where $A\\in\\mathbb R^{D\\times d}$ and\n",
    "\n",
    "$$\\epsilon \\sim N(0,\\sigma^2\\mathbf{1}_D) \\text{ and } \\zeta \\sim N(\\nu, B)$$\n",
    "\n",
    "If $\\Omega = UDV^T$ we take $A$ to be the first $d$ columns of $V$ and $d=\\bar{x}$."
   ]
  },
  {
   "cell_type": "code",
   "execution_count": 39,
   "metadata": {},
   "outputs": [],
   "source": [
    "A = S.V[:, 1:d];\n",
    "b = x̄;"
   ]
  },
  {
   "cell_type": "markdown",
   "metadata": {},
   "source": [
    "We also take $\\sigma^2 = 0.001$, $\\nu = 0$ and $C=2\\mathbf 1_d$. \n",
    "\n",
    "This choice seems to work well."
   ]
  },
  {
   "cell_type": "code",
   "execution_count": 40,
   "metadata": {},
   "outputs": [],
   "source": [
    "σ² = 0.001\n",
    "ν = zeros(d)\n",
    "B = diagm(2 .* ones(d));"
   ]
  },
  {
   "cell_type": "markdown",
   "metadata": {},
   "source": [
    " We use the [Distributions.jl](https://juliastats.org/Distributions.jl/stable/) package to generate the distributions for $\\epsilon$ and $\\zeta$."
   ]
  },
  {
   "cell_type": "code",
   "execution_count": 41,
   "metadata": {},
   "outputs": [],
   "source": [
    "N_ζ = MvNormal(ν, B);\n",
    "N_ϵ = MvNormal(zeros(D), diagm(σ² .* ones(D)));"
   ]
  },
  {
   "cell_type": "markdown",
   "metadata": {},
   "source": [
    "Let us now use our model to generate synthetic data."
   ]
  },
  {
   "cell_type": "code",
   "execution_count": 42,
   "metadata": {},
   "outputs": [],
   "source": [
    "ζ = rand(N_ζ, 8)\n",
    "ϵ = rand(N_ϵ, 8)\n",
    "synthetic_data =[A * ζ[:,i] + b + ϵ[:,i] for i in 1:8];\n",
    "synthetic_images = [reshape(u, 28, 28) for u in synthetic_data];"
   ]
  },
  {
   "cell_type": "markdown",
   "metadata": {},
   "source": [
    "The array `synthetic_images` now contains 8 randomly chosen points from our model.\n",
    "\n",
    "Let us display the corresponding pictures."
   ]
  },
  {
   "cell_type": "code",
   "execution_count": 43,
   "metadata": {},
   "outputs": [
    {
     "data": {
      "text/html": [
       "<table><tbody><tr><td style='text-align:center;vertical-align:middle; margin: 0.5em;border:1px #90999f solid;border-collapse:collapse'><img style='max-width: 100px; max-height:100px;display:inline' src=\"data:image/png;base64,iVBORw0KGgoAAAANSUhEUgAAAHAAAABwCAAAAADji6uXAAAABGdBTUEAALGPC/xhBQAAAAFzUkdCAK7OHOkAAAAgY0hSTQAAeiYAAICEAAD6AAAAgOgAAHUwAADqYAAAOpgAABdwnLpRPAAABANJREFUaAW9wc2LnHcdAPDPzHznZXc2ZJOUvpkWjAmltCAiaeoLBFHxIF4EiXroXQT/AE/+A4IXBXvstafiTag5GKVSFNGClTZp0tWaxGw2YWd3Z555Zh4XfsLD0E18Kf1+PuHQABVGWGDuwU5iFw1qjDBFoMECXTRofFhIFpKFZOFQpaiwVKyjh10MMMYO7qKPWlEpaq0eGvTRwwSBGiFZSBaShUNDzLDESLGvNce+ooO51lLrFLbRQ4MZutjABD2EZCFZSBYOLREYYoGpYoQpGlSKDew62rZiqtXFRLFASBaShWThUAdzRY11xb7iBHawgV3/m9qqkCwkC8lihKmiVuxbdYDAxEcXkoVkIVlM0cccY8xRWTXFCLWPpoeQLCQLycKh47iDPa0+5lozjLHnwUaosHS0BUKykCwkiz52MMYeelhgjj6W6GOG2ocFuqiwxCbuWjXEeVxBSBaShWQxxzoWih4W6KGHGmNFV/EEvohXUeNLuIwK5/AuthVd/AQXcQEhWUgWksUAFWpFgzUEJuhjgSkewY9xAt/Wuqr1O6t+hK/iU/g0QrKQLCSLCpvoYI4Zegis4wAX8RQC39P6PO7hM7iKN9DD5/BbfAs1nlC8iJAsJAvJYgML7GIDA8zwDB7DGDfwmtY38BLGuIJ38CxOY4TruID72MEvcAkXEJKFZCFZBDZRoY8drOMGfq81xnfxNVzAK3gOz6HBY3gDW7iNkziDx/EWLuETCMlCspAsFriumCn2sa91Bp/FcdzCafzQqnfxAjbxAf6OP+MalorHEZKFZCFZvIDXHW0dHSzxPi7hWUc7i7P4Oa7hLM6jwgncxZMIyUKykCxeV3wfDRqsYx+PYoLj+CaeQVg1xW8wxns4wCmcw03cxxQnsYeQLCQLycK//RTH8B18GWt4DxexhXt4ByNcxR/wFNbQwRfwooe7gpAsJAvJ4iWcwmX8ES/jZf/ZeZzH13EGlxF4Gzcwxa/QwTZuKUKykCwkixt4Hj/AEBPsYgt/w6+xjQEazLHAm3gTP/Pf6yAkC8lCsriFX+JPuI0zeBIbqPEV3McYx3ALH+AA/8RpVNhDD2u4j8CjOIcKQ1xFSBaShWTxV7yNHp7HHH/BDvqYOdrTeAQ3McACHXwSUwwxw23M0McWQrKQLCSLRrHAW1Z18TQaNBjiABUGuIYKm4pjuI7j+Ieiiz1McRMhWUgWkoWHOMD7jnZH657iHrY8XEgWkoVk0UHj47GBiVUhWUgWkkXj/zdUzLT6mKOHiWKIGdYQkoVkIVl0sUSg9mAdNIqBYoFaEYq5YqE1QxcVQrKQLCSLLhrUisAm7ih6WMNEq8IAfdSKGn2sYYFKMcQMgRohWUgWkv0L6PYQqHu2SVIAAAAASUVORK5C\"></td><td style='text-align:center;vertical-align:middle; margin: 0.5em;border:1px #90999f solid;border-collapse:collapse'><img style='max-width: 100px; max-height:100px;display:inline' src=\"data:image/png;base64,iVBORw0KGgoAAAANSUhEUgAAAHAAAABwCAAAAADji6uXAAAABGdBTUEAALGPC/xhBQAAAAFzUkdCAK7OHOkAAAAgY0hSTQAAeiYAAICEAAD6AAAAgOgAAHUwAADqYAAAOpgAABdwnLpRPAAABAJJREFUaAW9wc2LnIUdAOBn3vnN7OxHdjfZGG2ICZvEmBgNxkQbRSoq+AdIqB4ECehFb/4NnvVUPYjQYy+9FTyIrZQqfhujKCpViVmN2I3ux+zOzM6848IbGFajh1h+zxMuK1Qa6BopMMQE2pjGskqBbVhCEz3MYBlDbMcPqGGoEpKFZCFZ2NRAiQEKzGIVgQ4aaKt0jZRYQhM9lSVMo8QPKkPUMERIFpKFZGHTNBZVBlhGiT5qmMN3GKL0Sz0j41hHzVZ1lAjJQrKQLGaxhAJNdDGGATYwxEXswCUUftu6K+ujhZAsJAvJYgUttNFR6RgpUOISxrHu6nUQkoVkIVkM0MUcGrhoqxJNbGAMTSy5eiFZSBaShU19LKLAFFZVtmMDqyo/+n0CIVlIFpKFTdNYRolVIz20VWrYgUW/bg8u+HV9hGQhWUgWNq0hUMOGSg1t1NFEgRYOoY0FzON+vIVzOIrv0XVlDYRkIVlIFjb1jRSoYwM11FXmMIWd2INF7McNuAUvooHbcBbrRq7H1ygQkoVkIVn4mQYGKkPMYBwz2IuTOIYBDuGvOIAH8Q1O4Tjex7V4BvN4Dk8iJAvJQrKYwqqRrsoEdmEW23ANTuAe9FDgLRzDTqzgdpzHMk7jKSN3o0BIFpKFZLGqMoku+tiGOtZwLfbjNLbjKJ7GHbgLX+EDBG7HY7Y6h2M4hhIhWUgWkoXLSvRVVnADTuMunMBHaOGfOIy/43X8Gcuo4VX8BZ/gKA7jEOaxTSUkC8lCspjAGtZVTuEI9mOIBRQY4gkcwgy+xEv4GIE2LuI4HsMUduES3sZ92I6QLCQLyWIdD+AghvgW7+Fd7MMMXsMc/oC/4Vacwb8wwBnMYx3/xQrexmHsQ6jsQUgWkoVkcRx3YAHTmMecSgvTuBUX8Ec8ii9wEk8Y+RRraGAMj+OArW5GSBaShWTxEF7Hv9HEPtyL3ZjCEg5iGq+ghzpexQV8jpfRwRKO4BS6eBPjaGMvFhCShWQhWbTxJ5zEhziPf2ASN2EBG9iFLhYxif/hP5jAUZzBzQiVT9HCIro4ixsRkoVkIVk8i4dxBHdiDh2M4xyWsRvn0UKBiziPvSrf4UWcxS50sIGD2I3rcR82EJKFZCFZrOAFI7dgEkdwAiu4Dj10MI0xrOEAWvgaJR7BBHZiFlO4Dp/hHTyPkCwkC8nCz3yo8oarM4smSqyijraRkCwkC8nC/9mPfltIFpKFZCFZSBaShWQxibYcTYRkIVlIFl1Xp46BKyvQQB9DlCo9hGQhWUgWfbTQQYHSL7XQMdJED3UMVAqUKgVKDIwUKBGShWQhWbishhIt1NE20sEE1hCoYQcu2apAiQI9Iw2VMYRkIVlI9hO47PQyW3lm2gAAAABJRU5ErkJg\"></td><td style='text-align:center;vertical-align:middle; margin: 0.5em;border:1px #90999f solid;border-collapse:collapse'><img style='max-width: 100px; max-height:100px;display:inline' src=\"data:image/png;base64,iVBORw0KGgoAAAANSUhEUgAAAHAAAABwCAAAAADji6uXAAAABGdBTUEAALGPC/xhBQAAAAFzUkdCAK7OHOkAAAAgY0hSTQAAeiYAAICEAAD6AAAAgOgAAHUwAADqYAAAOpgAABdwnLpRPAAABI5JREFUaAW9wU2InHcdAOBnZn/vzH5vst3EaI1pLaWRkoM2xVZQPGnpJVEsHlpFTx5KL1oPHjx5rCc9eBU8qCAoPSoVD6WKQmv8wNAmaQzpJmt2k53sx3y/48I/MCyNipff84R7mqgVLTQwRK2YRY0mKuxjrKgwwgRNtNDDg3hPMYsxQrKQLCQL9zRMjVCjjVl0UGOAFdxFSzHGULGCDnqKTbQwQQ+BkCwkC8miwhBjxRy6aKCPGjMYYB4dVDiG65hDV9ExtYZNNNDEHLoIyUKykCxGpmYwVqxiC0NFG0vYxzxuYQUVPoQRbqKPNmrMoIkG+oqQLCQLyaLCQDHGWLGFI9hGhTG20EIPx1FjgnWcwFEMMYd1LGMbD6DGECFZSBaSxQCBEQIjxRw6iiECI0UD65jHjuJdLGIVPaxhB4uosYqrCMlCspAsHBhhCTum2uiigTba6CgmWETHYbs4jk/hEs6a6uIyQrKQLCSLFgbYUTSwgG1UGKKHHtroKzru7wo+j7NYwJ9xBm8hEJKFZCFZjNDGAm5jgl0soaeoMESNJmr/3Y/wCL6IGhexiBZCspAsJIsWehgqKoyxj7GiiSaGilN4CS8rTuCmwy7jFcUxPIZ9hGQhWUgWPbQwwAp20EJPsYIRFrCDL+MZfEtxHr/Ec/iF93sct/G6IiQLyUKyaGABY4wwj11TC+jhC3gOf8ULigrfwK/xXZzDV7CAj+MtvI2hqZAsJAvJYg77igka+DB28DSexRH08YypZ3EeFa7jt/g7PoMNXMCe9wvJQrKQLEY4iRv4AE5hCZ/FFfwQ75hqosZ5rOI1rOFFvIF/4hJqnEULJ/FN/A0hWUgWkkUbzyMQGOA3+CnmcQ3Po8IFnMZTmOAMPofXcBFPYx/baGMRx/AwlhUhWUgWksUP8DV8H7/CIgaKT+IcPo3XsYxH8Qj+gW/jq3gbP8MqHsOX8ChO4SaGOI03EJKFZCFZfA+X8R287D97UnFDsYE/4k94AefwML7usBOK04qQLCQLyeIKXsWPcR1reAJP4TQ+hiZuYhM/wR9wR9HEK3gIR/FztHERHWw4LCQLyUKycOAvihb28HtcRo3bGGEXp3ALXcUcZrGNq7hqagHzeAJLWMarCMlCspAsTqOPdzFQdHEXj+NJXMYuOpjHItawgS33t4c93HJYSBaShWRxUfEJnMQR9HEBXWxgS7Ft6l+KNj6Kj+AuNnEDH8R1LOM4HsDvEJKFZCFZuOdNvOmwBzHCGaxgDiMMUKOLCm1sYhPrGGMdXXSxYSokC8lCsjiKk3gHXYe9p7jm/zdwfyFZSBaSxR2sYg0z6GENN9BEB0PMYd/9tdH3v7URkoVkIVk4cAdN1AgMUOGYoo02BhhjhDEWMMFd9NFEjQpDVJhBz1RIFpKFZOHALppooYktHMUlPIRt7KGJXewpthxW4wi2UWGIoakBQrKQLCQLB0aoMYs+2rikuIY9RYWhYgEj9BUNTNBx2AncVEwQkoVkIVk4UKOJbcUOZlFhz1SFESbYwyL6CCxiGxPFUHFLMYMxQrKQLCT7N3gNQztFpXsZAAAAAElFTkSuQmCC\"></td><td style='text-align:center;vertical-align:middle; margin: 0.5em;border:1px #90999f solid;border-collapse:collapse'><img style='max-width: 100px; max-height:100px;display:inline' src=\"data:image/png;base64,iVBORw0KGgoAAAANSUhEUgAAAHAAAABwCAAAAADji6uXAAAABGdBTUEAALGPC/xhBQAAAAFzUkdCAK7OHOkAAAAgY0hSTQAAeiYAAICEAAD6AAAAgOgAAHUwAADqYAAAOpgAABdwnLpRPAAABDJJREFUaAW9wU+IXHcdAPDPvPnO7Iyb2E2j0LKtgZJAtC2l1oI1kCJW0GB7UFBvBSUnTx4UPAiKJ6GgBxFB8KIHD8WLIkJ7UlDQaEvT0qKtwf7Z2sRudpvd7M6b99448Ds815g0Xr6fT1gaYY4pGsyxomixgl1UCNSKCfYxQqMYo8NhbGKMDg3GCMlCspAsLM0Ve3ozvYmiQ4WhYh+BChUCM8UmVjBAragRkoVkIVkEGgQaxRq2MMIcO1jBKrYQqBUtGhzGFRzCjqLBGCME9hCShWQhWTSKQ9hSbKFCpajQYAcdar2F4opiR6/FDB3mOIqQLCQLyWKABbYUa1hgGzMMMcUuWv+/hd7bCMlCspAsJthDhQ5bWMEIc0yxi4ViiAU6N2eBCp0iJAvJQrJoMECHIQIzvRoLrGCGFu/BVUVgFduur9MLyUKykCzmGCha12oUM4wwx1EcxyYu4dNo8KQbGyAkC8lCsrA0xkzRYowGR7CPXbwfl3AMd2OA29FhCw/iSXwNF/xvtyIkC8lCsrDUOKjFFNtocBta3I1TWGCEM7iIL+E3eA0/wM/wPM4rpjiJZxGShWQhWVhqHdSiQYMpAkfxUXwcX9T7nt6d+APOYB3nFc/jAr6AkCwkC8nC0i3YQYsKHdYwxBALPI6zWMM2Po9NfAYLPIpf4SG9R/CU4i68jZAsJAvJwtIOWsVhbGOOEe7Dp/AVPIfbMMN9eBjP4An80rtbQ0gWkoVkYanV28YUZ3ECj+FNrGND8RA+gUfwa7yOL+OruEfvHN7Cv/A47kdIFpKFZOG/3ItHcQtexmfxDHZxGmfwF2zgp/gcnsbr+BY28QE0OI1TeEVxP0KykCwkC0vr+A6O4wSuYgNP4WHcikt4Fd/Hh/ALnESN59DhGD6CEa7gvfgdziu2EJKFZCFZTHAE30WDB7CKezHBDC1ewB5a/FOxjZfxdXwMq3gRe1igwyFUeBZ/RkgWkoVk8SOcxHm8hB9iz7v7JL6JU6j0tvA3XMIQf8cLeBonEJKFZCFZ/ARnUeHbeMJBl/EOjrnWHBVqvIKX8BouYg8N7sJpPIg/ISQLyUKy+C3O4R58AxcVH8arGOIxrOMdtFjFX/F7PIDjOII7MUSLy3gfRrgd5/BzhGQhWUgWlq7ij/gg7sAGLuCy4seub8PNO4aQLCQLycJ/eFFvHXdgiAEuYgU1ZtjEELXeGEdQY4Ap5pjjMv6BkCwkC8nCdbyBN9xY66Aab7mxkCwkC8lCoglCspAsJAs3YYQKM4xRo8IIM0yxpzfBvmKEuWIfIVlIFpLFGLWDAgPMFXO9QKOYYRX7GCo6DFEhUCsqdAjJQrKQLGrFQLFAgxUHDTDBVQQaTNChxRAtKuxioBijRocRQrKQLCSLIUZo0OjNXKtVBBrsIzDCXDHECDPUikrRIiQLyUKyfwO0/SDjScSPeQAAAABJRU5ErkJg\"></td><td style='text-align:center;vertical-align:middle; margin: 0.5em;border:1px #90999f solid;border-collapse:collapse'><img style='max-width: 100px; max-height:100px;display:inline' src=\"data:image/png;base64,iVBORw0KGgoAAAANSUhEUgAAAHAAAABwCAAAAADji6uXAAAABGdBTUEAALGPC/xhBQAAAAFzUkdCAK7OHOkAAAAgY0hSTQAAeiYAAICEAAD6AAAAgOgAAHUwAADqYAAAOpgAABdwnLpRPAAABIZJREFUaAW9wc2P3HUdAODnN/OZ2ZnZtzbt0m6laIVqUUijGMvBgwISTUy8qTc1nMSzf4MnPRn/AI2JURMTL5iYECMCwRjQGESSykuAXQqV7XZ33nZmfj9NviTjpuWgh8/zxAAjVIrG7QXamGITR2gwsVQpKlQI9HHDUkgWkoVkMVI0OIcdrGGIRtHHGLViHxXaljZwU1FhgQWm6KJCg5AsJAvJwn8E5thBhREGGCpqRW2pwVxROa7GKqZYQRs3EQjJQrKQLDroYK5Yx00s0MMEtaU1HDquwU20sVAMFXMMLIVkIVlIFjMEKjQ4VEyxophhHQc49MEWbm+KCnOEZCFZSBYDtNAoavRQY4LAHAu0UDtuHQdur4cJFpZCspAsJIsRum51pJijjxot1I7rY4AWdh03cauQLCQLyaKFlqKNFnoIHCrG6GKhWMUQFfYwQwcP40W87YOFZCFZSBZtTLCCBWa4gY6ihwlmqHARbykazBQzbOEBvIAdt1pBSBaShWRRYwMLnMIOOpgpBujiBE7hDqziOgJdXMUCY6zjITyPv2Mbj+B3eBshWUgWksUa9tHDEF3U2MYuOrgLC3Swha/gAfwW1/AYnsUr+DYCF/EQ7scmvogpQrKQLCSLfayggxFWFENsoo0u7sY3cReexw/wCXwe2ziN8/gIPoyOpSO8jD2EZCFZSBbe16CNk2hwA5fxJZzFN/Asvo+f4jy+iito40V0cAYdzPEMfo3LeAQ/QUgWkoVk0cY6BqjQwwa+jq+hj+t4DL/AJfwYf8BvcBKX8Tj+iB9iD6uo8Dgu4lt4AiFZSBaSxQBTBM5gG5fwMfwSP0IfX8Y5/ANP4lP4M57GVTyKC/geBm7vEkKykCwki8A2+opX8Se8hzN4EC/jSTyMd3AV9+JBrOIz2EILfdRoKV7HJvbxN4RkIVlIFnvYQwsXMMYAfczxOj6O3+NnuIBX8Vd8FzV+hQ7uxil8FvehjR3UeAp7CMlCspAsvK/GPxVXcB9amOMO3Iu/YAPfwWnciU9jA2NsOK5B4BruwQAhWUgWksUF7OICBngNz+E53I8BdnAWX8Aq5ngJz+DnGOEs3sJ1jLCLMVZwEvfgCCFZSBaSxT4exRBv4gr28FH0MMA5TBXb+BCuYYh1TLCHbZzEFAcYYws97OJphGQhWUgWQ7yALaziGsZ4AqcR2EdgDYeKFeziEA06aNDgBG5ihh420WCIkCwkC8miwgGGGGATK/ic4gB3YoEh5jiBKc7gk2hQoYs1nMIMLWzgFZzHUwjJQrKQLCaYKBq8hxFewipWsY8eOljBm+igwRvYQGCINt5AjQYj1DjAOwjJQrKQLPyXPUsTTPAvxb6lCo1igF2sYorXUCtqdLGPCl2EZCFZSBYVGv+bxtJIcaA4wgBHmKNRdDBFSBaShWTRoIXa/6eLBjNLI0sTdHGEQEgWkoVkMcDI0gBjNIoKbcwt9TFWtDFWtLFAH4ERFmgUNUKykCwkixECm9jDDI2ig8BYEZhjjC428a5iHRMsMFUsFLWiRkgWkoVk/waiVTe6lw2atAAAAABJRU5ErkJg\"></td><td style='text-align:center;vertical-align:middle; margin: 0.5em;border:1px #90999f solid;border-collapse:collapse'><img style='max-width: 100px; max-height:100px;display:inline' src=\"data:image/png;base64,iVBORw0KGgoAAAANSUhEUgAAAHAAAABwCAAAAADji6uXAAAABGdBTUEAALGPC/xhBQAAAAFzUkdCAK7OHOkAAAAgY0hSTQAAeiYAAICEAAD6AAAAgOgAAHUwAADqYAAAOpgAABdwnLpRPAAABF1JREFUaAW9wU1opHcdAODnnfklk8nmY7Obutu1lf2wWPVQrIilHooX62EVPEipiFfxZsVbwasnDx4ED96kvXnxA1E8idWDrtCDRa2K7WY32TabZDJJZibzzoyBv/A6rCwV5Pc8EagwxgqOsY4DRRcDRQtTLKFGrVjHBGOMsIIjxRoOFcsIyUKykCxqdDHGEVroYQP7GhW6OMHQvJ7GKiaKRRwicAGnCMlCspAsnBkoAjNMsY8KM0UHY8ywhKF5XQzQV7SxgBnGGKGHkCwkC8nCf6ixjFNUqDDUOMUq+h40UCxggglGqBU9rCIkC8lCsmihwjL6OFF0MdYYooO+hxtr1OhgpOgjJAvJQrKYKo40WpihxhKGaGHqv/sguriGu9jCjmKksYmQLCQLycKZRZwqKkzRxQwzxQJG5nUwwgSP4jns4I8YYIYJOhhgHyFZSBaSxSoGGosYYYCRRqCFgcZI42P4HK7gHv6EY2xjF3/FjxGShWQhWfQVS5ggMMIQgRrr6OEyBoo2JriJX+FVPIUXcR3XzdvDzxGShWQhWazgCMvo4xiBGjWWsYEWKqxjAbuKGhdwG6/iBbQ86AJmCMlCspAsnKkwRBstLGABB9jACabYxkcwwC6u4fP4Cr6Bn+IFPI1P4xnzLiEkC8lCsjhSTDDGedQYoYt30MZFTPCG4rP4IV7Dc/gQvoNbOMQ5PGPelxCShWQhWThTYaQ4wQRjXFLcwx2NO7iCbbyOW/gqXvGgWxjhWfwBIVlIFpLFEmrUiqHGPY0P4CV8XfE9nMf7Mca38Q6ewOtYRY0T3MA+7iMkC8lCshh6uE18HF/DJ/BLdLCOD2MLd3AdT+IGNrGD32ARb+CTWEBIFpKFZOHMFXRxiCmmiudxFUv4BfqY4iq+rHjavCGOMcbzOIf7uIrLCMlCspAsnLmrsYFv4kVcxBp2cFkxQFfjPpbwW+yhh0X0sI9dvIk+foKQLCQLyaKLlzHBD7CF7+Jl781H8RSexBP4G25hEUu4gQ1UWENIFpKFZLGJS7iJL2AXb+HP2MEIp+jhGip8Bp9SHKPC73CMx7GMGn/B73Edr2EPIVlIFpLFObyEb+FZPIKb+CK2MMBbuIsKr+Bn2MPQe/NrRSAkC8lCsjjBNbyJHym+j8AGLqOHR7COf+IcLqHGBh7FCFvooo8uxthGG4+hhZAsJAvJ4m3F41hHH9to4128q3hbYxNHqLCPv6OLCTo4xD7WUOMEAxwjJAvJQrJoY4LbuI1lPIZDXEQf78MBFnGMNgY4UJzHHXTRxhAVxtjDeexihpAsJAvJYhl9tDDFCf5hXs/DHSgG5u0pDhTLCMlCspAs+oqp/79Fxamii5AsJAvJYhO7/jeBGguYYg0n6OAQbbRwqrGAA4RkIVlIFruKCoExKsywgiPzWpgqJphiXzFVTDBBhcAYY0VIFpKFZOHfOhiigxEqHGm00cIYKzhStDDDDFMEarQUY/NCspAsJPsXXrg34iMqbw0AAAAASUVORK5C\"></td><td style='text-align:center;vertical-align:middle; margin: 0.5em;border:1px #90999f solid;border-collapse:collapse'><img style='max-width: 100px; max-height:100px;display:inline' src=\"data:image/png;base64,iVBORw0KGgoAAAANSUhEUgAAAHAAAABwCAAAAADji6uXAAAABGdBTUEAALGPC/xhBQAAAAFzUkdCAK7OHOkAAAAgY0hSTQAAeiYAAICEAAD6AAAAgOgAAHUwAADqYAAAOpgAABdwnLpRPAAABGlJREFUaAW9wU2InHcdAOBnZ347Mzv7nTRNu8naHNqY2gRbP1rsIXgQQXqyJ82pxR6Ugp7aHkq9iF68xUPRi15EQaRSsGBFguAlpoYWo0HrR0PSj90mS/YjMzuZefdt4R8Y1rVYKvyeJ5qKSWwrAhVqu7UxQBc9/9sEOmhhiB5CspAsJIsKE9hGB4EtdFBjCtcVFaZxw26BETrYNlajj76xkCwkC8nC+2p00UMD0xhgFuvGRmgqJtBAhZGiiwZ6xtoYKFoIyUKykCzc0sMU+hhhhC00MYEKE8ZqVHZbs9fAWIWQLCQLycItTQzRwgAt7KCBSlGj8tFVCMlCspAsvC8wUjTQUIwUkxgqRvaax7oPJyQLyUKy6GBbMYW+ooObiiaGiiYqxSyOYRErGOKvPlgbIVlIFpLFtrG+sRG66KE2FjiEq9hEEzNYQRsz2PLfNRCShWQhWbilgyZuKGawqhgpAndhEX18FZ/DWTyCX+KCDzaFkCwkC8niNlzFJNoYoo1VdFHjCA5iCvfgHziLa3gcD+IEjqOPLZxTfAo/xVfwGkKykCwkiy0sYRPT2MQODmAWHRzEHOaxjpfwPL6u2I+bmMOX8SI+jyP4LpbwNXwTIVlIFpJFGxvo4joamMcC5nEUbRzEd7CE2thFrOJ5nEEHZ3EffmysrwjJQrKQLJoIxTymMI0O2pjD71DjAu5T/BG/xnEcxRN4FC/iCziheB3fxjlFSBaShWSxhrtxBBU+hqO4E3/AJn6Bw1jBGSzgSbyJ01jGOZzENexgAU/jIl7FFdyPkCwkC8niDjyGOcxhGbP4PU5gChfQwm9xGq/jWziPJ/FFnMRp7Mdh/ASXUWMKM4qQLCQLyeJuPIp7McAq/okH0cEWTmEFT+Mh3Itj+B5+gN/gM3hA8RIu4SqaOIbjeBkhWUgWksUBvIBnsIxPYxmLWMIi/oVf4ZS9nsJTxq5gCj/EYUWFV/ACQrKQLCSLNTyMB/AGfobz2IcdVLgHC/gRTqGNFQxxP9bwDN7GYaxgiAnUdgvJQrKQLN7Bc/gSnsA37PUatrCCv2Ab/8bPUSu6aOKKsdpeIVlIFpLFG2jgWTxr7OP4JBbxCVzGEGewhsDDOIGHsIwdTKODRSxigAsY4fsIyUKykCza6OIk9uHPuIy/4292W0Qbh7CAO9HCyxiixhIauB0VOhihhUmEZCFZSBab+BM6OIbP4hEM0cMsNrCA87gLm1jAOq6jif24DXegi32YQx8b2MQqQrKQLCSLWrGNV3ERM+hgCTUO4QoW8I7iXTRQo4Ud1LiE23ENB3AJNQY4j5AsJAvJwn8YYKB4U/GKD6+Ng3gbFXYUk1hESBaShWTRwI7/zxw2jL2LoaKLHoa4jpAsJAvJooUhKh/NJG6gjQEq1Io5bGASXawjJAvJQrIY2m0CtaKDbWPzWLdbhR1Uxg7gLQwVQwwxgZAsJAvJooOesVrRxDZauKlYVzRRKWrMYhOTGOIt1Ogb6ylCspAsJHsPNDAePr55ZAkAAAAASUVORK5C\"></td><td style='text-align:center;vertical-align:middle; margin: 0.5em;border:1px #90999f solid;border-collapse:collapse'><img style='max-width: 100px; max-height:100px;display:inline' src=\"data:image/png;base64,iVBORw0KGgoAAAANSUhEUgAAAHAAAABwCAAAAADji6uXAAAABGdBTUEAALGPC/xhBQAAAAFzUkdCAK7OHOkAAAAgY0hSTQAAeiYAAICEAAD6AAAAgOgAAHUwAADqYAAAOpgAABdwnLpRPAAABOJJREFUaAW9wb1vnHcdAPDPc/d97sU5J3VjO3HzAknzAioRNJClMEAYIjJUBVGJqhP/AEslJiRAYmVBVMrIwsRSJFqGDlErNSoghqhABEkA0yZN7Dhn13e+t+fuIdKDdFgMbL/PJzzRwBgZcozNNVDgELr2q6ONnrkWhuYaKFHHECGxkFhILHKUKiXG9mvhE3TNNZFhiAwZcoyxgDYmmGCEBobIEBILiYXEokSpsoJNlSYmGCJDiQ56mCBHBzk62EUdj80FMoyRo0RILCQWEosCBzDAjsrT2EaJsbkeMpxEH1PMsIs1PEKJmUqh0sYIM4TEQmIhsfBEH03MVLYxQwd9lRIZSnyCDA1kGGGCDDM0sYA9jFFiAT2ExEJiIbHwH2OUaGOg0lMJZChRRwsZ+jiGNdxEjqPoYw8ZcqxhF32ExEJiIbEIFGhghoH9MhTIUUMgwwEs4QI+whQdjDFDHQXa6GGApxESC4mFxKJATWWCDDVMVUqVEgU6OIETCPTwgcqOyip20MJx9LCJAUJiIbGQWBzADAMcRhdTcxnamKHAKSzjs7iLt3AJR/GGygZyBC5jHQ8xREgsJBYSiyFayNFDDTM0MEYNa+jiNF7AWTSwjil+hCv4KV5HD4vYxkH8Gl/DDYTEQmIhsZiiQAcF9lSamGAZW3gO38Q5/BnfwyoO4k1cwWvYxe+QocRPVF7CDYTEQmIhsfBEAyV2UUcHi2ighot4EefxJn6Dq7iENv6OH+LzOItL2MBFvIdn0UITIbGQWEgschQqHTSwjRyBq/g2eriGf+G7eBUtvINVrOMa3rbfZbyM81hBSCwkFhKLCSb2W8HzuICv4gP8Cq9hhiaeVXkKbZzHWXwDOe6ghfPYwgkcQUgsJBYSC/9lDVfxGVzFh9jGSbyONYxwCz/HIpbxDm6jhhpO4xRydPFFnMELCImFxEJikeOX+Bbq5v6JcziOEtfwLo7jHh7gfRS4jE208HXUsIUv4xmcUTmCkFhILCQWr+Bl/+vT6GMbf8EQD3EDl1Q+h+/g+8jM3UEdGXJ0sYVdhMRCYiGxeA5v4W8o8Tbu4hA2cRAXsI3bGOMxTuACVvAzHMIGfo97Kl2MkONLuIuQWEgsJBa/xTK28AX8AHfwPt7DAzzECAcxxB9xB3/AFUxxBidxFoewhilquIdV/BghsZBYSCzu4zoy/AIFjmIJX8EWAlsYIMPHOIwlzDDBQOUW6mjiLjawg5t4gJBYSCwkFrdxG+fwImr4K97Fdf9fGwP7tdDAKiZYxafwDEJiIbGQWJRYwiau43mcxkV0sI5FHME6FtHCx2hjAQWewhAzNDBBiSlq2MEbCImFxEJikWGEBj7CYxRYQBvHcBK3MEETI+zhKO5jEW08wmFs4Bg2EVhH4D5CYiGxkFiUqKFAD7tooIs27uEmahhhGRuYYQWBW2ijhxGa+BP2VJoYoYmQWEgsJBaeGKONJXTRQh19FBjgMAb4EDkGGGAbGcYoUUMfRxFo4BGW0EVILCQWEosMgQlKnMIW9pBjEX3sIkcLdQywjRmm5moq2xiiiRxdtBESC4mFxKLEHgIF/qGSo48pChRYQBcZ6pio1DFFBz2VQqXEBIEBQmIhsZBYeCLHBDlmaGOsMkSo7JmbqrQxUOmptFQK1JCjgy5CYiGxkNi/Acx1W/mY34GjAAAAAElFTkSuQmCC\"></td></tr></tbody></table><div><small>(a vector displayed as a row to save space)</small></div>"
      ],
      "text/plain": [
       "8-element Vector{Adjoint{Gray{Float64}, Matrix{Gray{Float64}}}}:\n",
       " [Gray{Float64}(-0.020700260918735034) Gray{Float64}(0.02539576769762541) … Gray{Float64}(-0.0027952425605328925) Gray{Float64}(-0.011279462023707703); Gray{Float64}(-0.018534826713179253) Gray{Float64}(-0.01697928370238154) … Gray{Float64}(0.01602498879020246) Gray{Float64}(-0.03147247648071273); … ; Gray{Float64}(0.009349124448034662) Gray{Float64}(-0.02069246105579027) … Gray{Float64}(0.006768410829801043) Gray{Float64}(0.012921613830307786); Gray{Float64}(0.016381807740549953) Gray{Float64}(0.002031171974264297) … Gray{Float64}(0.025170136530222167) Gray{Float64}(0.0074932491268175005)]\n",
       " [Gray{Float64}(-0.011537687753948239) Gray{Float64}(-0.043461030265711804) … Gray{Float64}(-0.02115336377394101) Gray{Float64}(-0.0201571215793428); Gray{Float64}(-0.05603643160790193) Gray{Float64}(0.019970320312792753) … Gray{Float64}(0.00540181372582129) Gray{Float64}(-0.01756426691392294); … ; Gray{Float64}(-0.0020599931487000353) Gray{Float64}(0.029908000309180154) … Gray{Float64}(0.00724290466098251) Gray{Float64}(-0.007656316394611921); Gray{Float64}(-0.09912950456233464) Gray{Float64}(0.02962178464384701) … Gray{Float64}(0.018990695163315027) Gray{Float64}(0.03375876047042095)]\n",
       " [Gray{Float64}(-0.01567246332996514) Gray{Float64}(-0.04672303768209303) … Gray{Float64}(0.029430007445719806) Gray{Float64}(0.019764347900128952); Gray{Float64}(-0.023215815311263065) Gray{Float64}(-0.016924901816874862) … Gray{Float64}(-0.01335130167509748) Gray{Float64}(0.015791651193765747); … ; Gray{Float64}(-0.04316803333825642) Gray{Float64}(0.006010968509018352) … Gray{Float64}(-0.06738384742046949) Gray{Float64}(-0.04042987600438135); Gray{Float64}(-0.008929530524230048) Gray{Float64}(-0.019762573304589668) … Gray{Float64}(0.01107473150378325) Gray{Float64}(-0.01796978917494469)]\n",
       " [Gray{Float64}(-0.003625126799206868) Gray{Float64}(0.018130885684146038) … Gray{Float64}(-0.0011874315743874617) Gray{Float64}(0.022160064850283788); Gray{Float64}(-0.07768924512075881) Gray{Float64}(-0.0013292691731437753) … Gray{Float64}(-0.02480761344413067) Gray{Float64}(-0.009123752824172607); … ; Gray{Float64}(-0.018198316896811062) Gray{Float64}(-0.006302661235647339) … Gray{Float64}(-0.04734460344652043) Gray{Float64}(0.018081219054911588); Gray{Float64}(0.013061695943612091) Gray{Float64}(0.031083616483033812) … Gray{Float64}(0.007688423444348364) Gray{Float64}(0.00857197354749057)]\n",
       " [Gray{Float64}(0.040970717702764774) Gray{Float64}(-0.04221824125435057) … Gray{Float64}(-0.009770333477860622) Gray{Float64}(-0.03294119282244159); Gray{Float64}(-0.009953503389741082) Gray{Float64}(-0.0013571587684685711) … Gray{Float64}(0.025896045215837774) Gray{Float64}(0.023530605817333523); … ; Gray{Float64}(0.04013005272920937) Gray{Float64}(-0.049441353439286996) … Gray{Float64}(-0.03258787701827018) Gray{Float64}(0.009778405965407468); Gray{Float64}(-0.017947854698657836) Gray{Float64}(0.015638401610036948) … Gray{Float64}(-0.013144180411674849) Gray{Float64}(-0.018326212696501303)]\n",
       " [Gray{Float64}(0.014731373163041692) Gray{Float64}(0.020782307206826025) … Gray{Float64}(-0.0019005172449623141) Gray{Float64}(0.037752875576767805); Gray{Float64}(-0.008269837424231891) Gray{Float64}(0.03497397185611887) … Gray{Float64}(0.0872695807065381) Gray{Float64}(0.06110046396708738); … ; Gray{Float64}(-0.03612124941753181) Gray{Float64}(-0.02590914434036913) … Gray{Float64}(-0.01841281677054802) Gray{Float64}(-0.009999350361652733); Gray{Float64}(-0.02654791988622756) Gray{Float64}(-0.0034785559486784088) … Gray{Float64}(-0.006743795964361075) Gray{Float64}(-0.021325852261473804)]\n",
       " [Gray{Float64}(0.010986686063154744) Gray{Float64}(0.012923408242984795) … Gray{Float64}(0.03912432062166041) Gray{Float64}(-0.007767907672303333); Gray{Float64}(-0.07680183336684304) Gray{Float64}(0.003721386077499047) … Gray{Float64}(0.0019329404788584735) Gray{Float64}(-0.045428705862687956); … ; Gray{Float64}(0.010661616869877434) Gray{Float64}(0.012788405687480818) … Gray{Float64}(0.039291034967899) Gray{Float64}(0.005637063761370459); Gray{Float64}(0.04269031479148098) Gray{Float64}(0.002017947155569528) … Gray{Float64}(0.0007149065059626497) Gray{Float64}(-0.013352301019586147)]\n",
       " [Gray{Float64}(-0.02248967698535466) Gray{Float64}(0.02433438307832021) … Gray{Float64}(0.030180175771890794) Gray{Float64}(-0.03353685731700422); Gray{Float64}(0.019282952777463617) Gray{Float64}(0.02089238279072848) … Gray{Float64}(-0.03383202987834459) Gray{Float64}(0.001966641937522433); … ; Gray{Float64}(-0.0018348186582859427) Gray{Float64}(-0.08734665184600358) … Gray{Float64}(0.014060972590816175) Gray{Float64}(-0.039788277522718095); Gray{Float64}(-0.05284664593382739) Gray{Float64}(0.020736305544419104) … Gray{Float64}(0.0684814526457801) Gray{Float64}(-0.03425323556914676)]"
      ]
     },
     "execution_count": 43,
     "metadata": {},
     "output_type": "execute_result"
    }
   ],
   "source": [
    "create_image(img) = [Gray(img[i,j]) for (i,j) in product(1:28, 1:28)]'\n",
    "map(create_image, synthetic_images)"
   ]
  },
  {
   "cell_type": "markdown",
   "metadata": {},
   "source": [
    "Finally, we use the distribution $N(\\nu,B)$ as a prior to compute the distribution of $(\\zeta \\mid x)$, where $x$ is an additional data point outside of our subsample"
   ]
  },
  {
   "cell_type": "code",
   "execution_count": 44,
   "metadata": {},
   "outputs": [],
   "source": [
    "testsample = setdiff(1:n_images, subsample);\n",
    "j = rand(testsample);\n",
    "x =  Float64.(vec(sneakers[:,:,j]));"
   ]
  },
  {
   "cell_type": "markdown",
   "metadata": {},
   "source": [
    "Let us look at the image corresponding to `x`."
   ]
  },
  {
   "cell_type": "code",
   "execution_count": 45,
   "metadata": {},
   "outputs": [
    {
     "data": {
      "image/png": "[encoded data removed]",
      "text/plain": [
       "28×28 reinterpret(reshape, Gray{N0f8}, ::Array{N0f8,2}) with eltype Gray{N0f8}:\n",
       " Gray{N0f8}(0.0)    Gray{N0f8}(0.0)    …  Gray{N0f8}(0.0)\n",
       " Gray{N0f8}(0.0)    Gray{N0f8}(0.0)       Gray{N0f8}(0.0)\n",
       " Gray{N0f8}(0.0)    Gray{N0f8}(0.0)       Gray{N0f8}(0.0)\n",
       " Gray{N0f8}(0.0)    Gray{N0f8}(0.0)       Gray{N0f8}(0.0)\n",
       " Gray{N0f8}(0.0)    Gray{N0f8}(0.0)       Gray{N0f8}(0.0)\n",
       " Gray{N0f8}(0.0)    Gray{N0f8}(0.0)    …  Gray{N0f8}(0.0)\n",
       " Gray{N0f8}(0.0)    Gray{N0f8}(0.0)       Gray{N0f8}(0.0)\n",
       " Gray{N0f8}(0.0)    Gray{N0f8}(0.0)       Gray{N0f8}(0.0)\n",
       " Gray{N0f8}(0.0)    Gray{N0f8}(0.0)       Gray{N0f8}(0.0)\n",
       " Gray{N0f8}(0.0)    Gray{N0f8}(0.0)       Gray{N0f8}(0.0)\n",
       " Gray{N0f8}(0.0)    Gray{N0f8}(0.0)    …  Gray{N0f8}(0.0)\n",
       " Gray{N0f8}(0.0)    Gray{N0f8}(0.0)       Gray{N0f8}(0.0)\n",
       " Gray{N0f8}(0.0)    Gray{N0f8}(0.0)       Gray{N0f8}(0.0)\n",
       " ⋮                                     ⋱  \n",
       " Gray{N0f8}(0.0)    Gray{N0f8}(0.0)       Gray{N0f8}(0.627)\n",
       " Gray{N0f8}(0.0)    Gray{N0f8}(0.212)     Gray{N0f8}(0.651)\n",
       " Gray{N0f8}(0.176)  Gray{N0f8}(0.451)     Gray{N0f8}(0.635)\n",
       " Gray{N0f8}(0.02)   Gray{N0f8}(0.027)     Gray{N0f8}(0.173)\n",
       " Gray{N0f8}(0.071)  Gray{N0f8}(0.063)  …  Gray{N0f8}(0.0)\n",
       " Gray{N0f8}(0.016)  Gray{N0f8}(0.067)     Gray{N0f8}(0.071)\n",
       " Gray{N0f8}(0.0)    Gray{N0f8}(0.0)       Gray{N0f8}(0.0)\n",
       " Gray{N0f8}(0.0)    Gray{N0f8}(0.0)       Gray{N0f8}(0.0)\n",
       " Gray{N0f8}(0.0)    Gray{N0f8}(0.0)       Gray{N0f8}(0.0)\n",
       " Gray{N0f8}(0.0)    Gray{N0f8}(0.0)    …  Gray{N0f8}(0.0)\n",
       " Gray{N0f8}(0.0)    Gray{N0f8}(0.0)       Gray{N0f8}(0.0)\n",
       " Gray{N0f8}(0.0)    Gray{N0f8}(0.0)       Gray{N0f8}(0.0)"
      ]
     },
     "execution_count": 45,
     "metadata": {},
     "output_type": "execute_result"
    }
   ],
   "source": [
    "FashionMNIST.convert2image(sneakers[:,:,j])"
   ]
  },
  {
   "cell_type": "markdown",
   "metadata": {},
   "source": [
    "We use the formula for the posterior distribution"
   ]
  },
  {
   "cell_type": "code",
   "execution_count": 46,
   "metadata": {},
   "outputs": [],
   "source": [
    "B⁻¹ = inv(B)\n",
    "C = inv((1/σ²) .* diagm(ones(d)) + B⁻¹)\n",
    "m = C * ((1/σ²) .* A' * (x - b) + B⁻¹ * ν);\n",
    "N_ζ_posterior = MvNormal(m, C);"
   ]
  },
  {
   "cell_type": "markdown",
   "metadata": {},
   "source": [
    "and use the posterior distribution for generating synthetic data."
   ]
  },
  {
   "cell_type": "code",
   "execution_count": 47,
   "metadata": {},
   "outputs": [],
   "source": [
    "ζ = rand(N_ζ_posterior, 4)\n",
    "ϵ = rand(N_ϵ, 4)\n",
    "synthetic_data_2 =[A * ζ[:,i] + b + ϵ[:,i] for i in 1:4]\n",
    "synthetic_images_2 = [reshape(u, 28, 28) for u in synthetic_data_2];"
   ]
  },
  {
   "cell_type": "markdown",
   "metadata": {},
   "source": [
    "Here is again the original image:"
   ]
  },
  {
   "cell_type": "code",
   "execution_count": 48,
   "metadata": {},
   "outputs": [
    {
     "data": {
      "image/png": "[encoded data removed]",
      "text/plain": [
       "28×28 reinterpret(reshape, Gray{N0f8}, ::Array{N0f8,2}) with eltype Gray{N0f8}:\n",
       " Gray{N0f8}(0.0)    Gray{N0f8}(0.0)    …  Gray{N0f8}(0.0)\n",
       " Gray{N0f8}(0.0)    Gray{N0f8}(0.0)       Gray{N0f8}(0.0)\n",
       " Gray{N0f8}(0.0)    Gray{N0f8}(0.0)       Gray{N0f8}(0.0)\n",
       " Gray{N0f8}(0.0)    Gray{N0f8}(0.0)       Gray{N0f8}(0.0)\n",
       " Gray{N0f8}(0.0)    Gray{N0f8}(0.0)       Gray{N0f8}(0.0)\n",
       " Gray{N0f8}(0.0)    Gray{N0f8}(0.0)    …  Gray{N0f8}(0.0)\n",
       " Gray{N0f8}(0.0)    Gray{N0f8}(0.0)       Gray{N0f8}(0.0)\n",
       " Gray{N0f8}(0.0)    Gray{N0f8}(0.0)       Gray{N0f8}(0.0)\n",
       " Gray{N0f8}(0.0)    Gray{N0f8}(0.0)       Gray{N0f8}(0.0)\n",
       " Gray{N0f8}(0.0)    Gray{N0f8}(0.0)       Gray{N0f8}(0.0)\n",
       " Gray{N0f8}(0.0)    Gray{N0f8}(0.0)    …  Gray{N0f8}(0.0)\n",
       " Gray{N0f8}(0.0)    Gray{N0f8}(0.0)       Gray{N0f8}(0.0)\n",
       " Gray{N0f8}(0.0)    Gray{N0f8}(0.0)       Gray{N0f8}(0.0)\n",
       " ⋮                                     ⋱  \n",
       " Gray{N0f8}(0.0)    Gray{N0f8}(0.0)       Gray{N0f8}(0.627)\n",
       " Gray{N0f8}(0.0)    Gray{N0f8}(0.212)     Gray{N0f8}(0.651)\n",
       " Gray{N0f8}(0.176)  Gray{N0f8}(0.451)     Gray{N0f8}(0.635)\n",
       " Gray{N0f8}(0.02)   Gray{N0f8}(0.027)     Gray{N0f8}(0.173)\n",
       " Gray{N0f8}(0.071)  Gray{N0f8}(0.063)  …  Gray{N0f8}(0.0)\n",
       " Gray{N0f8}(0.016)  Gray{N0f8}(0.067)     Gray{N0f8}(0.071)\n",
       " Gray{N0f8}(0.0)    Gray{N0f8}(0.0)       Gray{N0f8}(0.0)\n",
       " Gray{N0f8}(0.0)    Gray{N0f8}(0.0)       Gray{N0f8}(0.0)\n",
       " Gray{N0f8}(0.0)    Gray{N0f8}(0.0)       Gray{N0f8}(0.0)\n",
       " Gray{N0f8}(0.0)    Gray{N0f8}(0.0)    …  Gray{N0f8}(0.0)\n",
       " Gray{N0f8}(0.0)    Gray{N0f8}(0.0)       Gray{N0f8}(0.0)\n",
       " Gray{N0f8}(0.0)    Gray{N0f8}(0.0)       Gray{N0f8}(0.0)"
      ]
     },
     "execution_count": 48,
     "metadata": {},
     "output_type": "execute_result"
    }
   ],
   "source": [
    "FashionMNIST.convert2image(sneakers[:,:,j])"
   ]
  },
  {
   "cell_type": "markdown",
   "metadata": {},
   "source": [
    "and the newly generated images:"
   ]
  },
  {
   "cell_type": "code",
   "execution_count": 49,
   "metadata": {},
   "outputs": [
    {
     "data": {
      "text/html": [
       "<table><tbody><tr><td style='text-align:center;vertical-align:middle; margin: 0.5em;border:1px #90999f solid;border-collapse:collapse'><img style='max-width: 100px; max-height:100px;display:inline' src=\"data:image/png;base64,iVBORw0KGgoAAAANSUhEUgAAAHAAAABwCAAAAADji6uXAAAABGdBTUEAALGPC/xhBQAAAAFzUkdCAK7OHOkAAAAgY0hSTQAAeiYAAICEAAD6AAAAgOgAAHUwAADqYAAAOpgAABdwnLpRPAAABIpJREFUaAW9wU1rJHkdAOCnun7pt3Q6L5PMxMzgbsKusHhQGFgVPSx+AsGb9/0SfrsVPHkSHHAPwyLjTDIv6SSdpNNdVV1l4C80ol7/zxMebaFGD62kRGCFfcyxRh9jPGAlCTSSEmv/X8gsZBYyiwKtZIprlFhjjcAVtrBGhQatpIdAgyN8xAAdKskUc/QRMguZhcyihxK7qCRrbKFEjUAt2cYSBTq0WCJwgwItaklgjm0sETILmYXMokSFO2xJCtSocYAZAh3ubWyhljQ2hpIaDYa4l4TMQmYhs6glFSrJFirJDBPcSfqoEKj9bzU6yRB9LCUhs5BZyCw6SaDBFjobE9xhgBXW6KPCBBUO0aHDBXbxXrLE0kbILGQWMosCBQrJAHcINLiTVJIWQ1ToMMEenuMBB5ihh9bGCA8ImYXMQmYxxBbmkgq7qNGghxZDPGCEe/TR4Wf4BlMEXuFPWOIagRYPkpBZyCxkFhVaGxUq9CWH+IAOJRY4QA8v8Qc8Q4UR1jjAd5hjgSFmuELILGQWMos1SkkPLYZYYoBPkqWNFbZxgJ9ggR5OMMQuPsf3+IQp/oJzhMxCZiGz8KiRtJKlZCUp0Nm4x2/xR9zgDUYo8TVm+AYHmGGCPfwdIbOQWcgsPGolfXSosY0FOgywtPE7/B4ddnCMO8zxN9zjHkeo8HPcSkJmIbOQWXg0xRyVjRrHOMdS8gLf4jf4DO8wRIkjHOITfoQCM5xihJfoI2QWMguZRR+3klKyRoVrG9/ia3yGM7zBDRq8wxgzLHGOCk/wAt/jDKcImYXMQmZRoYce9nApKfCAX+EX+DUusY/vsI0CCxyiwQWOMcYOlniDJUYoEDILmYXMwqMWz3ApKfAlpniJMwxwhlt8gRq7WKDGLp7jFi1eYYU99LGNHyNkFjILmYVHR1hjih3s4wW+QuA1phihwxBv8Qy7eI0+/oErzDDGl+jjBj8gEDILmYXM4hg/xR4G2Mc2xpigwwDnuMURbvABl/irpMIAX+AUz3CCexziBCcImYXMQmZxhm0MsYNAiUCFW/TwAUPM8IDPMcAvMcUpTrCDJdYo0GCBW1whZBYyC5nFK/QReIIhjnGMCSYY4ykmmKPCIa7QR2CJPyPwgAYPqDHHCK8RMguZhcyiRIl7nKOHVtLHFA/o0GIHHSa4wRNcYY0aYwxQSBqc4yu0CJmFzEJmMUeD5zjBHPu4xnssUaPFCB9xiAsUuMQQfdygQIs+VljgDAXeImQWMguZRSP5gLeY4D128RRPcYEp/olTbGOFjxjjFiXG2MYKKzTocIEhFgiZhcxCZuFRDzX6WGGNGUq8k1xggLcoUaPBtWSOEgMsUKBDHxVKlAiZhcxCZtFDK6kkBTqEZC2p0dqY4A5DtFhjhSe4lFSSW0wRMguZhcyi8N86SYG1jR56KLHCnY0KBTpcosAAJe4xxhwhs5BZyCz82xBL/2mMFhXGWGGNxsYWlgg0khKBEa4lC+wjZBYyC5nFGj2sJQOsUGBmY2HjCDdoUUtGuEUPQ6xwJQk0uELILGQWMvsXTfNWOvKk8uMAAAAASUVORK5C\"></td><td style='text-align:center;vertical-align:middle; margin: 0.5em;border:1px #90999f solid;border-collapse:collapse'><img style='max-width: 100px; max-height:100px;display:inline' src=\"data:image/png;base64,iVBORw0KGgoAAAANSUhEUgAAAHAAAABwCAAAAADji6uXAAAABGdBTUEAALGPC/xhBQAAAAFzUkdCAK7OHOkAAAAgY0hSTQAAeiYAAICEAAD6AAAAgOgAAHUwAADqYAAAOpgAABdwnLpRPAAABIFJREFUaAW9wUuPW2cZAODHx699xh7PLZPbTNIq6SWRIsEii9JNF+xgwT/omh/Bf2LFjg17JEC0VAjUVGmTNgmkznh8P8fHJtIX6WhU1t/zxABLyTVsscNE0kEHffQw09pJAhvJIdaSNQp00OAIIbOQWcgsSlRoMHZVByFZY4suNlrHkgscYYI+KhTYaq0RMguZhcziAgUOMNXqY4CJ1ggT9FGhRIUKgUv0UeFAMsUeVlghZBYyC5nFdbzGWquLDaauGksayRoFtloFhlhiK1lhiAVCZiGzkFm8llRaDbrooIsafQxx4aqtVmAlGWIhGWEmCZmFzEJm4Z0BllqNqyoUfmqAAXaoMUKFsdZMK2QWMguZhXeWfqrEFrVWgQIbyQCneIQtnuLf/r8uQmYhs5BZeOc9PMMIDZZYS46wQiXZSI7xGJ/gFHv4I2r8gCl2WoGQWcgsZBbe+V4yk5RYo8AEXeyjxCVKPMbnuIklHkk+xjf4MwqcYIsnCJmFzEJm4a0uSiy0NpIRLtFgiSnOscZD3MIYh5jgE5zjBn6Gp9jHV/gSIbOQWcgsAhssXNVILtFHhR2OUOOX+A0CJTbY4UPcwnt4jXvoosRfETILmYXMopDsY641QiXZxxAXmOK3+BVuoMIhvsAevsQaNWqc4Rgl/oCQWcgsZBaVZKPVxUxyF88lZ/gd7uIRXmGDOT7AIRqcYIRL/IhTHKJGyCxkFjKLDnYI7GONDlY4xXOc4HM8xhke4m8YoY8VpljgBfZxgAYneIUHuImQWcgsZBY7SQ+VJNDFK3yKX+BT9DDE37HGBQJdHKDGR5jjSLLEGOcYIWQWMguZhbe6qDFHH3Ncx2d4iJ/jPuZ4hgM8wgJrbHEPczSo8RX6OEGDAkOEzEJmIbPw1jle4QwDHOAObmOA7/Ev/BpbzPEEDUps8Bc8wzd4gXPcwAKHmOI2QmYhs5BZPMRHKNHHAQ5QYIABSpT4Pd7HFv/FDEvMMcaHuIUHGOE6jrDDAMcImYXMQmYxxJlkiOsYo48dLrHDWvIt9nCE+3iCz3APH2OOGiVqTHGJNWYImYXMQmbxNb7DACVOcAN3EfgAO/RRoUSBFRa4hR5e4A0qzFBjhkO8wZ/wHCGzkFnILAqMUOA/eKJ1DRUKdNDDHHcwwRQP8C0azDDATWwlr3CCwCFCZiGzkFlMMMFt3McKYxRYYh8XkjkCbzDBBl+jjxJnmGOGE8xwjhrv4ylCZiGzkFl45yVeSg5xBxeSY3QxxSFqnGOBfRSYYY4ljjDGEF0E/iEJmYXMQmbhrQ52KLHGEv/ENYzRQy1ZYR8/osFrdLCHJTp4I5mg0TpAyCxkFjKLIRaSNa5hLJlIavRQI3DhqhJLBLrYotY6xgWmCJmFzEJmsUAfO9QYo4MeKvRQo0FgicBGa4MeOlhrlVhjjlNMEDILmYXMwluVVhdb1JIGt/ESHUkXBbbYoMBOq4sGfSzQQYMGIbOQWcgsBlhKjrFAgx5qyUsMsZAE5tjDBgVW2JM0kgsMsUCFHUJmIbOQ2f8AJO1KGg3yNjUAAAAASUVORK5C\"></td><td style='text-align:center;vertical-align:middle; margin: 0.5em;border:1px #90999f solid;border-collapse:collapse'><img style='max-width: 100px; max-height:100px;display:inline' src=\"data:image/png;base64,iVBORw0KGgoAAAANSUhEUgAAAHAAAABwCAAAAADji6uXAAAABGdBTUEAALGPC/xhBQAAAAFzUkdCAK7OHOkAAAAgY0hSTQAAeiYAAICEAAD6AAAAgOgAAHUwAADqYAAAOpgAABdwnLpRPAAABHdJREFUaAW9wcmOXGcZANBz6363pnbP6cSTnM4iRIpMBjYg2DA8ADu2rPIAvBIPkVfIArFgBTKOiBUcgk233dXuqjvVvUT6F0UrYfufEwWmGNGixBQbLLDBBINkijneYMA+NujtHGAlOcQaFVqEzEJmIbOYopHMUaPHAhvJgClayQr7mOIVBskSG6wkC1zZ6REyC5mFzGKJRlKjQIdeEuixxRyt5FpSINBjLZmjRocJBkwwQ8gsZBYyi43bRswwokUhWeJaUmIrGVFhRIFCUqJHYMCIDiGzkFnILGpJJenQ2Okk13a2bttIZmjQIVChQ4kCS4TMQmYhs5hijha1HzZDgwOs7EwQOEeNDt9ihg495qixRYOQWcgsZBaFpMYCU1xjwBQtGslKUmDEFDXu4T42eIInKLFF7baQWcgsZBYNCgQ22Nhpfd8CG8wxxWP8CgfYwxRzPMMaPTos0CNkFjILmcUMtSSwxR3JNQqMdgpMUeFD/AEljvAGv8Nf8AWeYsQR1niGkFnILGQWd9BIeskNBpTYw8pOjRHH+DHewwYXeBclDnEfL/AtCnyFrxEyC5mFzOICFTo7g2SLldsGyS/xGV7jb7iHV/gEA97CM7yHEvv4HCGzkFnILHyn8/8tUGDERvIZfoMSb2OJC2zwD9zgBndwgfcxwV2EzEJmIbPwP0psMcOIBa4xSB7i9/gU57iS9DhBgRaH2MMlPsA5rhEImYXMQmYxQ4MSJRaYYESHAXv4LX6Nu/gJvsEllujxEhX+iSNMcA8FvsRHuIuQWcgsZBYNShTo0brt5/gZPsY+TvAF7qDGa+zhDm7wIywlW1ygxSmOETILmYXMwne2OEaLG8kZfopH+BTHqHCJwAKP0GGGBWq8QoMrNKgkb6NFyCxkFjKLwIAax7iHJd7HMY7wBOd4B2uUeIEltvg7Al/ha8yxxi8wR41nuIuQWcgsZBbneIwzvMRDnGKOUjLiJf6KB7jGCid4iisEeryLh3iAGR5gixM8QsgsZBYyi9c4QYH7CCzQIFDiJZZY4AkCpyjxAB/jMT7CBXr0OMIKG6zQI2QWMguZxQp/xBn2cIgPcIxT9DjFHAuc4ghb1Chxgkt8jgGvsMECBf6DGn9CyCxkFjKLI5zgCk8lf0ZgizPUqFCiQIsBJ6jwJaYY0eEu1piikOxjjZBZyCxkFi9whbfwCZ5jhZlkjTcoMUGBA9zgDbZY4B38G8c4RIsKPQ4lPUJmIbOQWZRo8BzPscQZ9tGiwRINDtBgjho9OpxhwBE6NKgxoEWDDlOEzEJmIbOYYCtZYI21H9ajwiV6HGCDl5hgjSleYESBAoEWDxAyC5mFzGJiZ4GN75uhwY3bVpI1SkwwokKPEh1ayb8QMguZhcyikQQuMUPjtkJSoUCHEQVGVKiwxhaVZJRU6DAgZBYyC5nFHjbYShpJgVFSSzocoEWBSjLBGxxghcCAQTJgihYhs5BZyCxu7EzRSgIVprhBhQlWqNCjxQQtAteSxs4hrjDBDCGzkFnI7L/JIEt/VeQpawAAAABJRU5ErkJg\"></td><td style='text-align:center;vertical-align:middle; margin: 0.5em;border:1px #90999f solid;border-collapse:collapse'><img style='max-width: 100px; max-height:100px;display:inline' src=\"data:image/png;base64,iVBORw0KGgoAAAANSUhEUgAAAHAAAABwCAAAAADji6uXAAAABGdBTUEAALGPC/xhBQAAAAFzUkdCAK7OHOkAAAAgY0hSTQAAeiYAAICEAAD6AAAAgOgAAHUwAADqYAAAOpgAABdwnLpRPAAABHtJREFUaAW9wU1vXGcZANAzd547n/6KbZK0CW2pCt1AEGQDQlRCbBFr/gCw4U+yhUrtpoJCKKA4JDR27Ngez8ydmXux9CKNDPvnnOihjw4bDLFEhQoteuijsbWDa8VQsVTUipX/F5KFZCFZdO6qFC1GaLDGBnu4wgDXijEaDBR7uEKnGGKJHVwjJAvJQrJwa604xBtba1SoUeESh3hja44e5ooZprhGjQ49RSAkC8lCsnAr0OKNuxpFDx0qvFVUaBWdrQ0WihVqdFhijZAsJAvJwq21rSlmtibosMAurjBEhbligMZWq9jHDBXGWCEkC8lCsvA/GncNMMcIl6ixVBxgjn0s0ccNGtR4a+tSEZKFZCFZuDVCjRus3HWBPip0aHCAC8zRx4d4BzOc4gv0sLIVWCMkC8lCshijxRVqDLHCStFDi41ijBVqLPEj/Bx76PA3nGOFE1trRUgWkoVkMbe1wspdPXSKPlrMMcEv8SscYYk++tjFn7GPM+yhhxcIyUKykCx6GGDprhEWaBFYY4ONYozHeA9/xT08xE9wiu/jU5zjAf6CLxGShWQhWXRYYog+VlihUVS2+thgDz/Gb7BCH6d4Dx/hEOfYwQZD3MPvEZKFZCFZ+K+lu1qMsMAANebYxa/xCzRY4gGe4zPsYowaH+ArHON7GCMkC8lCsnCrQqvo4QBXWGCEheID/BYHqDFDYIFvoUYPNR7iBQ7wEIeYIiQLyUKycKvFLoY4RYc1dnGFAX6HJ7iHH+BPqHGGOc7RYILXOMYA+3iJD7GDkCwkC8nCrRp9zBQLxRWe4hM8RR+H+BwN9hDYxxCn6OMxRhhhjn/iPt5FSBaShWQxxBILLBQdHuNjPME3cYSHeIUh3scKPQQGGGOAr3GFGa5xhAGmCMlCspAsWozxCCsE3sExHqPGJb5EiwtM8Bke4wyX6PAvvMYEJ3iCIzzDu+gQkoVkIVns4WcYY4IxdjDFMf6BPUzxB+yiwSn+iA6vsMEGR/gufop9BJZ4hE8QkoVkIVk8wAAdLtHiPi7wFpeKrxQvsIsax+jwMX6IKUbYYI57OEGLl/gcIVlIFpLF3/E1Fngfx7jAHjo8QoWnWGKDC+yjjwYjnGCGDRZY4z7OcIPneIaQLCQLyaLGDqY4wRfuOsQcQ4xQ4zVGigZDnOMYY8UKQ6xwhmNMEJKFZCFZXGKCKWp8GxfoMMcSQ1zgAZ4jsESNfZziACNMMccuAtf4CBM8Q0gWkoVkMcArVIprTNBgFy0qPEAP38ENWrzGFHsYosYlKtwgcI0WJ6gQkoVkIVk0mGKJNRZo0GKGIRa2/o3O1ktbE8xRYaOocW4rJAvJQrIYY+auKa7QYYEeOkWnmGCIc1s3ig0Ca6wUFQIhWUgWksVcMcJCcWWrh85dgRVuFD3UaBQV1qgxxDVaNAjJQrKQLNwKLGx9A68VI8wxRoPAGmsM0KBC39YYM3S4RqDDBiFZSBaSxQFuFAdY4AJTzDDHBA06LBU1GhzhDHNFhRkq9DDE0lZIFpKFZP8BaatGObKzRg4AAAAASUVORK5C\"></td></tr></tbody></table><div><small>(a vector displayed as a row to save space)</small></div>"
      ],
      "text/plain": [
       "4-element Vector{Adjoint{Gray{Float64}, Matrix{Gray{Float64}}}}:\n",
       " [Gray{Float64}(-0.01283444815387412) Gray{Float64}(0.018711414459149874) … Gray{Float64}(-0.014536157473001968) Gray{Float64}(-0.05315316981775292); Gray{Float64}(0.004563095405667517) Gray{Float64}(0.010753256896050261) … Gray{Float64}(-0.03210012653202263) Gray{Float64}(0.023262409984866467); … ; Gray{Float64}(0.011472689238611203) Gray{Float64}(-0.005371748818633549) … Gray{Float64}(-0.011013327366953481) Gray{Float64}(0.06518804721948245); Gray{Float64}(-0.008162761783307035) Gray{Float64}(0.005946809123734868) … Gray{Float64}(-0.030091463724555984) Gray{Float64}(-0.02600520816444581)]\n",
       " [Gray{Float64}(0.03367217675078885) Gray{Float64}(-0.007105339994878334) … Gray{Float64}(-0.01671037687117691) Gray{Float64}(0.05895529988363449); Gray{Float64}(0.06174191507852849) Gray{Float64}(0.010945133195802186) … Gray{Float64}(-0.005468557177402448) Gray{Float64}(0.03303373707448087); … ; Gray{Float64}(-0.004378238128267769) Gray{Float64}(-0.005695860037626291) … Gray{Float64}(0.06157825733187452) Gray{Float64}(0.0056609754381392804); Gray{Float64}(0.03360661383884095) Gray{Float64}(-0.03726647954863541) … Gray{Float64}(0.03846876946429555) Gray{Float64}(-0.03636360394815338)]\n",
       " [Gray{Float64}(0.003774626594530319) Gray{Float64}(0.02561080270083517) … Gray{Float64}(0.039743378092898914) Gray{Float64}(0.015172967423623738); Gray{Float64}(0.02700287649931856) Gray{Float64}(-0.00227968752422864) … Gray{Float64}(0.018054895196929308) Gray{Float64}(-0.009505424937669508); … ; Gray{Float64}(0.042034435350813075) Gray{Float64}(0.008469973307012142) … Gray{Float64}(0.02244050171089964) Gray{Float64}(-0.02777678942007528); Gray{Float64}(-0.06009370285779221) Gray{Float64}(-0.002556665411933232) … Gray{Float64}(0.018612694656478784) Gray{Float64}(0.027361142740093183)]\n",
       " [Gray{Float64}(0.003169311781941984) Gray{Float64}(0.01679067756239512) … Gray{Float64}(-0.059716736959444336) Gray{Float64}(-0.012982398760808245); Gray{Float64}(-0.025922718009106765) Gray{Float64}(0.014457515869778705) … Gray{Float64}(0.047770893253780505) Gray{Float64}(-0.006403973592417676); … ; Gray{Float64}(-0.00722869674763839) Gray{Float64}(0.015291338942378862) … Gray{Float64}(0.01240010782179335) Gray{Float64}(-0.022963124452047907); Gray{Float64}(0.0636108953917436) Gray{Float64}(0.02397045386129011) … Gray{Float64}(-0.036713187362326406) Gray{Float64}(-0.009398942630784172)]"
      ]
     },
     "execution_count": 49,
     "metadata": {},
     "output_type": "execute_result"
    }
   ],
   "source": [
    "map(create_image, synthetic_images_2)"
   ]
  },
  {
   "cell_type": "code",
   "execution_count": null,
   "metadata": {},
   "outputs": [],
   "source": []
  }
 ],
 "metadata": {
  "@webio": {
   "lastCommId": null,
   "lastKernelId": null
  },
  "kernelspec": {
   "display_name": "Julia 1.8.2",
   "language": "julia",
   "name": "julia-1.8"
  },
  "language_info": {
   "file_extension": ".jl",
   "mimetype": "application/julia",
   "name": "julia",
   "version": "1.8.2"
  }
 },
 "nbformat": 4,
 "nbformat_minor": 2
}
