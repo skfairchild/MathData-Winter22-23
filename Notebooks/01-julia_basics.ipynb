{
 "cells": [
  {
   "cell_type": "markdown",
   "metadata": {},
   "source": [
    "# Installation and Integration of Packages"
   ]
  },
  {
   "cell_type": "code",
   "execution_count": 2,
   "metadata": {},
   "outputs": [],
   "source": [
    "using Pkg;"
   ]
  },
  {
   "cell_type": "code",
   "execution_count": 3,
   "metadata": {},
   "outputs": [
    {
     "name": "stderr",
     "output_type": "stream",
     "text": [
      "\u001b[32m\u001b[1m    Updating\u001b[22m\u001b[39m registry at `~/.julia/registries/General.toml`\n",
      "\u001b[32m\u001b[1m   Resolving\u001b[22m\u001b[39m package versions...\n",
      "\u001b[32m\u001b[1m   Installed\u001b[22m\u001b[39m LERC_jll ───────────────────── v3.0.0+1\n",
      "\u001b[32m\u001b[1m   Installed\u001b[22m\u001b[39m Libmount_jll ───────────────── v2.35.0+0\n",
      "\u001b[32m\u001b[1m   Installed\u001b[22m\u001b[39m x265_jll ───────────────────── v3.5.0+0\n",
      "\u001b[32m\u001b[1m   Installed\u001b[22m\u001b[39m GR_jll ─────────────────────── v0.69.1+0\n",
      "\u001b[32m\u001b[1m   Installed\u001b[22m\u001b[39m libfdk_aac_jll ─────────────── v2.0.2+0\n",
      "\u001b[32m\u001b[1m   Installed\u001b[22m\u001b[39m Opus_jll ───────────────────── v1.3.2+0\n",
      "\u001b[32m\u001b[1m   Installed\u001b[22m\u001b[39m LoggingExtras ──────────────── v0.4.9\n",
      "\u001b[32m\u001b[1m   Installed\u001b[22m\u001b[39m JpegTurbo_jll ──────────────── v2.1.2+0\n",
      "\u001b[32m\u001b[1m   Installed\u001b[22m\u001b[39m Xorg_xkbcomp_jll ───────────── v1.4.2+4\n",
      "\u001b[32m\u001b[1m   Installed\u001b[22m\u001b[39m Grisu ──────────────────────── v1.0.2\n",
      "\u001b[32m\u001b[1m   Installed\u001b[22m\u001b[39m Formatting ─────────────────── v0.4.2\n",
      "\u001b[32m\u001b[1m   Installed\u001b[22m\u001b[39m Measures ───────────────────── v0.3.1\n",
      "\u001b[32m\u001b[1m   Installed\u001b[22m\u001b[39m RelocatableFolders ─────────── v1.0.0\n",
      "\u001b[32m\u001b[1m   Installed\u001b[22m\u001b[39m RecipesPipeline ────────────── v0.6.7\n",
      "\u001b[32m\u001b[1m   Installed\u001b[22m\u001b[39m Xorg_xcb_util_image_jll ────── v0.4.0+1\n",
      "\u001b[32m\u001b[1m   Installed\u001b[22m\u001b[39m Xorg_xcb_util_wm_jll ───────── v0.4.1+1\n",
      "\u001b[32m\u001b[1m   Installed\u001b[22m\u001b[39m PlotUtils ──────────────────── v1.3.1\n",
      "\u001b[32m\u001b[1m   Installed\u001b[22m\u001b[39m OpenSSL ────────────────────── v1.2.1\n",
      "\u001b[32m\u001b[1m   Installed\u001b[22m\u001b[39m Contour ────────────────────── v0.6.2\n",
      "\u001b[32m\u001b[1m   Installed\u001b[22m\u001b[39m Xorg_xcb_util_jll ──────────── v0.4.0+1\n",
      "\u001b[32m\u001b[1m   Installed\u001b[22m\u001b[39m Xorg_libpthread_stubs_jll ──── v0.1.0+3\n",
      "\u001b[32m\u001b[1m   Installed\u001b[22m\u001b[39m Fontconfig_jll ─────────────── v2.13.93+0\n",
      "\u001b[32m\u001b[1m   Installed\u001b[22m\u001b[39m Cairo_jll ──────────────────── v1.16.1+1\n",
      "\u001b[32m\u001b[1m   Installed\u001b[22m\u001b[39m Libgpg_error_jll ───────────── v1.42.0+0\n",
      "\u001b[32m\u001b[1m   Installed\u001b[22m\u001b[39m HTTP ───────────────────────── v1.4.0\n",
      "\u001b[32m\u001b[1m   Installed\u001b[22m\u001b[39m Xorg_libxkbfile_jll ────────── v1.1.0+4\n",
      "\u001b[32m\u001b[1m   Installed\u001b[22m\u001b[39m Xorg_libXinerama_jll ───────── v1.1.4+4\n",
      "\u001b[32m\u001b[1m   Installed\u001b[22m\u001b[39m Xorg_libXau_jll ────────────── v1.0.9+4\n",
      "\u001b[32m\u001b[1m   Installed\u001b[22m\u001b[39m Missings ───────────────────── v1.0.2\n",
      "\u001b[32m\u001b[1m   Installed\u001b[22m\u001b[39m FFMPEG ─────────────────────── v0.4.1\n",
      "\u001b[32m\u001b[1m   Installed\u001b[22m\u001b[39m IrrationalConstants ────────── v0.1.1\n",
      "\u001b[32m\u001b[1m   Installed\u001b[22m\u001b[39m Showoff ────────────────────── v1.0.3\n",
      "\u001b[32m\u001b[1m   Installed\u001b[22m\u001b[39m Qt5Base_jll ────────────────── v5.15.3+1\n",
      "\u001b[32m\u001b[1m   Installed\u001b[22m\u001b[39m Xorg_xcb_util_keysyms_jll ──── v0.4.0+1\n",
      "\u001b[32m\u001b[1m   Installed\u001b[22m\u001b[39m Bzip2_jll ──────────────────── v1.0.8+0\n",
      "\u001b[32m\u001b[1m   Installed\u001b[22m\u001b[39m xkbcommon_jll ──────────────── v1.4.1+0\n",
      "\u001b[32m\u001b[1m   Installed\u001b[22m\u001b[39m SpecialFunctions ───────────── v2.1.7\n",
      "\u001b[32m\u001b[1m   Installed\u001b[22m\u001b[39m GR ─────────────────────────── v0.69.4\n",
      "\u001b[32m\u001b[1m   Installed\u001b[22m\u001b[39m SimpleBufferStream ─────────── v1.1.0\n",
      "\u001b[32m\u001b[1m   Installed\u001b[22m\u001b[39m HarfBuzz_jll ───────────────── v2.8.1+1\n",
      "\u001b[32m\u001b[1m   Installed\u001b[22m\u001b[39m Pipe ───────────────────────── v1.3.0\n",
      "\u001b[32m\u001b[1m   Installed\u001b[22m\u001b[39m LZO_jll ────────────────────── v2.10.1+0\n",
      "\u001b[32m\u001b[1m   Installed\u001b[22m\u001b[39m NaNMath ────────────────────── v1.0.1\n",
      "\u001b[32m\u001b[1m   Installed\u001b[22m\u001b[39m PlotThemes ─────────────────── v3.0.0\n",
      "\u001b[32m\u001b[1m   Installed\u001b[22m\u001b[39m TranscodingStreams ─────────── v0.9.9\n",
      "\u001b[32m\u001b[1m   Installed\u001b[22m\u001b[39m fzf_jll ────────────────────── v0.29.0+0\n",
      "\u001b[32m\u001b[1m   Installed\u001b[22m\u001b[39m FriBidi_jll ────────────────── v1.0.10+0\n",
      "\u001b[32m\u001b[1m   Installed\u001b[22m\u001b[39m x264_jll ───────────────────── v2021.5.5+0\n",
      "\u001b[32m\u001b[1m   Installed\u001b[22m\u001b[39m GLFW_jll ───────────────────── v3.3.8+0\n",
      "\u001b[32m\u001b[1m   Installed\u001b[22m\u001b[39m UnicodeFun ─────────────────── v0.4.1\n",
      "\u001b[32m\u001b[1m   Installed\u001b[22m\u001b[39m SnoopPrecompile ────────────── v1.0.1\n",
      "\u001b[32m\u001b[1m   Installed\u001b[22m\u001b[39m Colors ─────────────────────── v0.12.8\n",
      "\u001b[32m\u001b[1m   Installed\u001b[22m\u001b[39m FreeType2_jll ──────────────── v2.10.4+0\n",
      "\u001b[32m\u001b[1m   Installed\u001b[22m\u001b[39m CodecZlib ──────────────────── v0.7.0\n",
      "\u001b[32m\u001b[1m   Installed\u001b[22m\u001b[39m JLFzf ──────────────────────── v0.1.5\n",
      "\u001b[32m\u001b[1m   Installed\u001b[22m\u001b[39m StatsAPI ───────────────────── v1.5.0\n",
      "\u001b[32m\u001b[1m   Installed\u001b[22m\u001b[39m DataStructures ─────────────── v0.18.13\n",
      "\u001b[32m\u001b[1m   Installed\u001b[22m\u001b[39m Compat ─────────────────────── v4.3.0\n",
      "\u001b[32m\u001b[1m   Installed\u001b[22m\u001b[39m StatsBase ──────────────────── v0.33.21\n",
      "\u001b[32m\u001b[1m   Installed\u001b[22m\u001b[39m Xorg_libxcb_jll ────────────── v1.13.0+3\n",
      "\u001b[32m\u001b[1m   Installed\u001b[22m\u001b[39m libpng_jll ─────────────────── v1.6.38+0\n",
      "\u001b[32m\u001b[1m   Installed\u001b[22m\u001b[39m libaom_jll ─────────────────── v3.4.0+0\n",
      "\u001b[32m\u001b[1m   Installed\u001b[22m\u001b[39m ColorSchemes ───────────────── v3.19.0\n",
      "\u001b[32m\u001b[1m   Installed\u001b[22m\u001b[39m Xorg_libXext_jll ───────────── v1.3.4+4\n",
      "\u001b[32m\u001b[1m   Installed\u001b[22m\u001b[39m Scratch ────────────────────── v1.1.1\n",
      "\u001b[32m\u001b[1m   Installed\u001b[22m\u001b[39m ColorTypes ─────────────────── v0.11.4\n",
      "\u001b[32m\u001b[1m   Installed\u001b[22m\u001b[39m Zstd_jll ───────────────────── v1.5.2+0\n",
      "\u001b[32m\u001b[1m   Installed\u001b[22m\u001b[39m Expat_jll ──────────────────── v2.4.8+0\n",
      "\u001b[32m\u001b[1m   Installed\u001b[22m\u001b[39m TensorCore ─────────────────── v0.1.1\n",
      "\u001b[32m\u001b[1m   Installed\u001b[22m\u001b[39m Plots ──────────────────────── v1.35.3\n",
      "\u001b[32m\u001b[1m   Installed\u001b[22m\u001b[39m Libtiff_jll ────────────────── v4.4.0+0\n",
      "\u001b[32m\u001b[1m   Installed\u001b[22m\u001b[39m ColorVectorSpace ───────────── v0.9.9\n",
      "\u001b[32m\u001b[1m   Installed\u001b[22m\u001b[39m Libffi_jll ─────────────────── v3.2.2+1\n",
      "\u001b[32m\u001b[1m   Installed\u001b[22m\u001b[39m OrderedCollections ─────────── v1.4.1\n",
      "\u001b[32m\u001b[1m   Installed\u001b[22m\u001b[39m Xorg_libXrender_jll ────────── v0.9.10+4\n",
      "\u001b[32m\u001b[1m   Installed\u001b[22m\u001b[39m Ogg_jll ────────────────────── v1.3.5+1\n",
      "\u001b[32m\u001b[1m   Installed\u001b[22m\u001b[39m Xorg_libXi_jll ─────────────── v1.7.10+4\n",
      "\u001b[32m\u001b[1m   Installed\u001b[22m\u001b[39m ChainRulesCore ─────────────── v1.15.6\n",
      "\u001b[32m\u001b[1m   Installed\u001b[22m\u001b[39m XSLT_jll ───────────────────── v1.1.34+0\n",
      "\u001b[32m\u001b[1m   Installed\u001b[22m\u001b[39m Reexport ───────────────────── v1.2.2\n",
      "\u001b[32m\u001b[1m   Installed\u001b[22m\u001b[39m OpenSpecFun_jll ────────────── v0.5.5+0\n",
      "\u001b[32m\u001b[1m   Installed\u001b[22m\u001b[39m LogExpFunctions ────────────── v0.3.18\n",
      "\u001b[32m\u001b[1m   Installed\u001b[22m\u001b[39m MacroTools ─────────────────── v0.5.10\n",
      "\u001b[32m\u001b[1m   Installed\u001b[22m\u001b[39m Xorg_libXcursor_jll ────────── v1.2.0+4\n",
      "\u001b[32m\u001b[1m   Installed\u001b[22m\u001b[39m InverseFunctions ───────────── v0.1.8\n",
      "\u001b[32m\u001b[1m   Installed\u001b[22m\u001b[39m Libuuid_jll ────────────────── v2.36.0+0\n",
      "\u001b[32m\u001b[1m   Installed\u001b[22m\u001b[39m Wayland_protocols_jll ──────── v1.25.0+0\n",
      "\u001b[32m\u001b[1m   Installed\u001b[22m\u001b[39m DocStringExtensions ────────── v0.9.1\n",
      "\u001b[32m\u001b[1m   Installed\u001b[22m\u001b[39m Xorg_xcb_util_renderutil_jll ─ v0.3.9+1\n",
      "\u001b[32m\u001b[1m   Installed\u001b[22m\u001b[39m Graphite2_jll ──────────────── v1.3.14+0\n",
      "\u001b[32m\u001b[1m   Installed\u001b[22m\u001b[39m libass_jll ─────────────────── v0.15.1+0\n",
      "\u001b[32m\u001b[1m   Installed\u001b[22m\u001b[39m Pixman_jll ─────────────────── v0.40.1+0\n",
      "\u001b[32m\u001b[1m   Installed\u001b[22m\u001b[39m XML2_jll ───────────────────── v2.9.14+0\n",
      "\u001b[32m\u001b[1m   Installed\u001b[22m\u001b[39m Wayland_jll ────────────────── v1.19.0+0\n",
      "\u001b[32m\u001b[1m   Installed\u001b[22m\u001b[39m Gettext_jll ────────────────── v0.21.0+0\n",
      "\u001b[32m\u001b[1m   Installed\u001b[22m\u001b[39m Latexify ───────────────────── v0.15.17\n",
      "\u001b[32m\u001b[1m   Installed\u001b[22m\u001b[39m Xorg_xtrans_jll ────────────── v1.4.0+3\n",
      "\u001b[32m\u001b[1m   Installed\u001b[22m\u001b[39m Libgcrypt_jll ──────────────── v1.8.7+0\n",
      "\u001b[32m\u001b[1m   Installed\u001b[22m\u001b[39m OpenSSL_jll ────────────────── v1.1.17+0\n",
      "\u001b[32m\u001b[1m   Installed\u001b[22m\u001b[39m FFMPEG_jll ─────────────────── v4.4.2+2\n",
      "\u001b[32m\u001b[1m   Installed\u001b[22m\u001b[39m BitFlags ───────────────────── v0.1.5\n",
      "\u001b[32m\u001b[1m   Installed\u001b[22m\u001b[39m Xorg_xkeyboard_config_jll ──── v2.27.0+4\n",
      "\u001b[32m\u001b[1m   Installed\u001b[22m\u001b[39m DataAPI ────────────────────── v1.12.0\n",
      "\u001b[32m\u001b[1m   Installed\u001b[22m\u001b[39m FixedPointNumbers ──────────── v0.8.4\n",
      "\u001b[32m\u001b[1m   Installed\u001b[22m\u001b[39m Xorg_libXrandr_jll ─────────── v1.5.2+4\n",
      "\u001b[32m\u001b[1m   Installed\u001b[22m\u001b[39m Libiconv_jll ───────────────── v1.16.1+1\n",
      "\u001b[32m\u001b[1m   Installed\u001b[22m\u001b[39m IniFile ────────────────────── v0.5.1\n",
      "\u001b[32m\u001b[1m   Installed\u001b[22m\u001b[39m RecipesBase ────────────────── v1.3.0\n",
      "\u001b[32m\u001b[1m   Installed\u001b[22m\u001b[39m LAME_jll ───────────────────── v3.100.1+0\n",
      "\u001b[32m\u001b[1m   Installed\u001b[22m\u001b[39m Xorg_libXfixes_jll ─────────── v5.0.3+4\n",
      "\u001b[32m\u001b[1m   Installed\u001b[22m\u001b[39m LaTeXStrings ───────────────── v1.3.0\n",
      "\u001b[32m\u001b[1m   Installed\u001b[22m\u001b[39m Glib_jll ───────────────────── v2.74.0+1\n",
      "\u001b[32m\u001b[1m   Installed\u001b[22m\u001b[39m URIs ───────────────────────── v1.4.0\n"
     ]
    },
    {
     "name": "stderr",
     "output_type": "stream",
     "text": [
      "\u001b[32m\u001b[1m   Installed\u001b[22m\u001b[39m Libglvnd_jll ───────────────── v1.3.0+3\n",
      "\u001b[32m\u001b[1m   Installed\u001b[22m\u001b[39m libvorbis_jll ──────────────── v1.3.7+1\n",
      "\u001b[32m\u001b[1m   Installed\u001b[22m\u001b[39m Xorg_libX11_jll ────────────── v1.6.9+4\n",
      "\u001b[32m\u001b[1m   Installed\u001b[22m\u001b[39m Xorg_libXdmcp_jll ──────────── v1.1.3+4\n",
      "\u001b[32m\u001b[1m   Installed\u001b[22m\u001b[39m SortingAlgorithms ──────────── v1.0.1\n",
      "\u001b[32m\u001b[1m   Installed\u001b[22m\u001b[39m ChangesOfVariables ─────────── v0.1.4\n",
      "\u001b[32m\u001b[1m   Installed\u001b[22m\u001b[39m Requires ───────────────────── v1.3.0\n",
      "\u001b[32m\u001b[1m   Installed\u001b[22m\u001b[39m Unzip ──────────────────────── v0.2.0\n",
      "\u001b[32m\u001b[1m    Updating\u001b[22m\u001b[39m `~/.julia/environments/v1.8/Project.toml`\n",
      " \u001b[90m [91a5bcdd] \u001b[39m\u001b[92m+ Plots v1.35.3\u001b[39m\n",
      "\u001b[32m\u001b[1m    Updating\u001b[22m\u001b[39m `~/.julia/environments/v1.8/Manifest.toml`\n",
      " \u001b[90m [d1d4a3ce] \u001b[39m\u001b[92m+ BitFlags v0.1.5\u001b[39m\n",
      " \u001b[90m [d360d2e6] \u001b[39m\u001b[92m+ ChainRulesCore v1.15.6\u001b[39m\n",
      " \u001b[90m [9e997f8a] \u001b[39m\u001b[92m+ ChangesOfVariables v0.1.4\u001b[39m\n",
      " \u001b[90m [944b1d66] \u001b[39m\u001b[92m+ CodecZlib v0.7.0\u001b[39m\n",
      " \u001b[90m [35d6a980] \u001b[39m\u001b[92m+ ColorSchemes v3.19.0\u001b[39m\n",
      " \u001b[90m [3da002f7] \u001b[39m\u001b[92m+ ColorTypes v0.11.4\u001b[39m\n",
      " \u001b[90m [c3611d14] \u001b[39m\u001b[92m+ ColorVectorSpace v0.9.9\u001b[39m\n",
      " \u001b[90m [5ae59095] \u001b[39m\u001b[92m+ Colors v0.12.8\u001b[39m\n",
      " \u001b[90m [34da2185] \u001b[39m\u001b[92m+ Compat v4.3.0\u001b[39m\n",
      " \u001b[90m [d38c429a] \u001b[39m\u001b[92m+ Contour v0.6.2\u001b[39m\n",
      " \u001b[90m [9a962f9c] \u001b[39m\u001b[92m+ DataAPI v1.12.0\u001b[39m\n",
      " \u001b[90m [864edb3b] \u001b[39m\u001b[92m+ DataStructures v0.18.13\u001b[39m\n",
      " \u001b[90m [ffbed154] \u001b[39m\u001b[92m+ DocStringExtensions v0.9.1\u001b[39m\n",
      " \u001b[90m [c87230d0] \u001b[39m\u001b[92m+ FFMPEG v0.4.1\u001b[39m\n",
      " \u001b[90m [53c48c17] \u001b[39m\u001b[92m+ FixedPointNumbers v0.8.4\u001b[39m\n",
      " \u001b[90m [59287772] \u001b[39m\u001b[92m+ Formatting v0.4.2\u001b[39m\n",
      " \u001b[90m [28b8d3ca] \u001b[39m\u001b[92m+ GR v0.69.4\u001b[39m\n",
      " \u001b[90m [42e2da0e] \u001b[39m\u001b[92m+ Grisu v1.0.2\u001b[39m\n",
      " \u001b[90m [cd3eb016] \u001b[39m\u001b[92m+ HTTP v1.4.0\u001b[39m\n",
      " \u001b[90m [83e8ac13] \u001b[39m\u001b[92m+ IniFile v0.5.1\u001b[39m\n",
      " \u001b[90m [3587e190] \u001b[39m\u001b[92m+ InverseFunctions v0.1.8\u001b[39m\n",
      " \u001b[90m [92d709cd] \u001b[39m\u001b[92m+ IrrationalConstants v0.1.1\u001b[39m\n",
      " \u001b[90m [1019f520] \u001b[39m\u001b[92m+ JLFzf v0.1.5\u001b[39m\n",
      " \u001b[90m [b964fa9f] \u001b[39m\u001b[92m+ LaTeXStrings v1.3.0\u001b[39m\n",
      " \u001b[90m [23fbe1c1] \u001b[39m\u001b[92m+ Latexify v0.15.17\u001b[39m\n",
      " \u001b[90m [2ab3a3ac] \u001b[39m\u001b[92m+ LogExpFunctions v0.3.18\u001b[39m\n",
      " \u001b[90m [e6f89c97] \u001b[39m\u001b[92m+ LoggingExtras v0.4.9\u001b[39m\n",
      " \u001b[90m [1914dd2f] \u001b[39m\u001b[92m+ MacroTools v0.5.10\u001b[39m\n",
      " \u001b[90m [442fdcdd] \u001b[39m\u001b[92m+ Measures v0.3.1\u001b[39m\n",
      " \u001b[90m [e1d29d7a] \u001b[39m\u001b[92m+ Missings v1.0.2\u001b[39m\n",
      " \u001b[90m [77ba4419] \u001b[39m\u001b[92m+ NaNMath v1.0.1\u001b[39m\n",
      " \u001b[90m [4d8831e6] \u001b[39m\u001b[92m+ OpenSSL v1.2.1\u001b[39m\n",
      " \u001b[90m [bac558e1] \u001b[39m\u001b[92m+ OrderedCollections v1.4.1\u001b[39m\n",
      " \u001b[90m [b98c9c47] \u001b[39m\u001b[92m+ Pipe v1.3.0\u001b[39m\n",
      " \u001b[90m [ccf2f8ad] \u001b[39m\u001b[92m+ PlotThemes v3.0.0\u001b[39m\n",
      " \u001b[90m [995b91a9] \u001b[39m\u001b[92m+ PlotUtils v1.3.1\u001b[39m\n",
      " \u001b[90m [91a5bcdd] \u001b[39m\u001b[92m+ Plots v1.35.3\u001b[39m\n",
      " \u001b[90m [3cdcf5f2] \u001b[39m\u001b[92m+ RecipesBase v1.3.0\u001b[39m\n",
      " \u001b[90m [01d81517] \u001b[39m\u001b[92m+ RecipesPipeline v0.6.7\u001b[39m\n",
      " \u001b[90m [189a3867] \u001b[39m\u001b[92m+ Reexport v1.2.2\u001b[39m\n",
      " \u001b[90m [05181044] \u001b[39m\u001b[92m+ RelocatableFolders v1.0.0\u001b[39m\n",
      " \u001b[90m [ae029012] \u001b[39m\u001b[92m+ Requires v1.3.0\u001b[39m\n",
      " \u001b[90m [6c6a2e73] \u001b[39m\u001b[92m+ Scratch v1.1.1\u001b[39m\n",
      " \u001b[90m [992d4aef] \u001b[39m\u001b[92m+ Showoff v1.0.3\u001b[39m\n",
      " \u001b[90m [777ac1f9] \u001b[39m\u001b[92m+ SimpleBufferStream v1.1.0\u001b[39m\n",
      " \u001b[90m [66db9d55] \u001b[39m\u001b[92m+ SnoopPrecompile v1.0.1\u001b[39m\n",
      " \u001b[90m [a2af1166] \u001b[39m\u001b[92m+ SortingAlgorithms v1.0.1\u001b[39m\n",
      " \u001b[90m [276daf66] \u001b[39m\u001b[92m+ SpecialFunctions v2.1.7\u001b[39m\n",
      " \u001b[90m [82ae8749] \u001b[39m\u001b[92m+ StatsAPI v1.5.0\u001b[39m\n",
      " \u001b[90m [2913bbd2] \u001b[39m\u001b[92m+ StatsBase v0.33.21\u001b[39m\n",
      " \u001b[90m [62fd8b95] \u001b[39m\u001b[92m+ TensorCore v0.1.1\u001b[39m\n",
      " \u001b[90m [3bb67fe8] \u001b[39m\u001b[92m+ TranscodingStreams v0.9.9\u001b[39m\n",
      " \u001b[90m [5c2747f8] \u001b[39m\u001b[92m+ URIs v1.4.0\u001b[39m\n",
      " \u001b[90m [1cfade01] \u001b[39m\u001b[92m+ UnicodeFun v0.4.1\u001b[39m\n",
      " \u001b[90m [41fe7b60] \u001b[39m\u001b[92m+ Unzip v0.2.0\u001b[39m\n",
      " \u001b[90m [6e34b625] \u001b[39m\u001b[92m+ Bzip2_jll v1.0.8+0\u001b[39m\n",
      " \u001b[90m [83423d85] \u001b[39m\u001b[92m+ Cairo_jll v1.16.1+1\u001b[39m\n",
      " \u001b[90m [2e619515] \u001b[39m\u001b[92m+ Expat_jll v2.4.8+0\u001b[39m\n",
      " \u001b[90m [b22a6f82] \u001b[39m\u001b[92m+ FFMPEG_jll v4.4.2+2\u001b[39m\n",
      " \u001b[90m [a3f928ae] \u001b[39m\u001b[92m+ Fontconfig_jll v2.13.93+0\u001b[39m\n",
      " \u001b[90m [d7e528f0] \u001b[39m\u001b[92m+ FreeType2_jll v2.10.4+0\u001b[39m\n",
      " \u001b[90m [559328eb] \u001b[39m\u001b[92m+ FriBidi_jll v1.0.10+0\u001b[39m\n",
      " \u001b[90m [0656b61e] \u001b[39m\u001b[92m+ GLFW_jll v3.3.8+0\u001b[39m\n",
      " \u001b[90m [d2c73de3] \u001b[39m\u001b[92m+ GR_jll v0.69.1+0\u001b[39m\n",
      " \u001b[90m [78b55507] \u001b[39m\u001b[92m+ Gettext_jll v0.21.0+0\u001b[39m\n",
      " \u001b[90m [7746bdde] \u001b[39m\u001b[92m+ Glib_jll v2.74.0+1\u001b[39m\n",
      " \u001b[90m [3b182d85] \u001b[39m\u001b[92m+ Graphite2_jll v1.3.14+0\u001b[39m\n",
      " \u001b[90m [2e76f6c2] \u001b[39m\u001b[92m+ HarfBuzz_jll v2.8.1+1\u001b[39m\n",
      " \u001b[90m [aacddb02] \u001b[39m\u001b[92m+ JpegTurbo_jll v2.1.2+0\u001b[39m\n",
      " \u001b[90m [c1c5ebd0] \u001b[39m\u001b[92m+ LAME_jll v3.100.1+0\u001b[39m\n",
      " \u001b[90m [88015f11] \u001b[39m\u001b[92m+ LERC_jll v3.0.0+1\u001b[39m\n",
      " \u001b[90m [dd4b983a] \u001b[39m\u001b[92m+ LZO_jll v2.10.1+0\u001b[39m\n",
      " \u001b[90m [e9f186c6] \u001b[39m\u001b[92m+ Libffi_jll v3.2.2+1\u001b[39m\n",
      " \u001b[90m [d4300ac3] \u001b[39m\u001b[92m+ Libgcrypt_jll v1.8.7+0\u001b[39m\n",
      " \u001b[90m [7e76a0d4] \u001b[39m\u001b[92m+ Libglvnd_jll v1.3.0+3\u001b[39m\n",
      " \u001b[90m [7add5ba3] \u001b[39m\u001b[92m+ Libgpg_error_jll v1.42.0+0\u001b[39m\n",
      " \u001b[90m [94ce4f54] \u001b[39m\u001b[92m+ Libiconv_jll v1.16.1+1\u001b[39m\n",
      " \u001b[90m [4b2f31a3] \u001b[39m\u001b[92m+ Libmount_jll v2.35.0+0\u001b[39m\n",
      " \u001b[90m [89763e89] \u001b[39m\u001b[92m+ Libtiff_jll v4.4.0+0\u001b[39m\n",
      " \u001b[90m [38a345b3] \u001b[39m\u001b[92m+ Libuuid_jll v2.36.0+0\u001b[39m\n",
      " \u001b[90m [e7412a2a] \u001b[39m\u001b[92m+ Ogg_jll v1.3.5+1\u001b[39m\n",
      " \u001b[90m [458c3c95] \u001b[39m\u001b[92m+ OpenSSL_jll v1.1.17+0\u001b[39m\n",
      " \u001b[90m [efe28fd5] \u001b[39m\u001b[92m+ OpenSpecFun_jll v0.5.5+0\u001b[39m\n",
      " \u001b[90m [91d4177d] \u001b[39m\u001b[92m+ Opus_jll v1.3.2+0\u001b[39m\n",
      " \u001b[90m [30392449] \u001b[39m\u001b[92m+ Pixman_jll v0.40.1+0\u001b[39m\n",
      " \u001b[90m [ea2cea3b] \u001b[39m\u001b[92m+ Qt5Base_jll v5.15.3+1\u001b[39m\n",
      " \u001b[90m [a2964d1f] \u001b[39m\u001b[92m+ Wayland_jll v1.19.0+0\u001b[39m\n",
      " \u001b[90m [2381bf8a] \u001b[39m\u001b[92m+ Wayland_protocols_jll v1.25.0+0\u001b[39m\n",
      " \u001b[90m [02c8fc9c] \u001b[39m\u001b[92m+ XML2_jll v2.9.14+0\u001b[39m\n",
      " \u001b[90m [aed1982a] \u001b[39m\u001b[92m+ XSLT_jll v1.1.34+0\u001b[39m\n",
      " \u001b[90m [4f6342f7] \u001b[39m\u001b[92m+ Xorg_libX11_jll v1.6.9+4\u001b[39m\n",
      " \u001b[90m [0c0b7dd1] \u001b[39m\u001b[92m+ Xorg_libXau_jll v1.0.9+4\u001b[39m\n",
      " \u001b[90m [935fb764] \u001b[39m\u001b[92m+ Xorg_libXcursor_jll v1.2.0+4\u001b[39m\n",
      " \u001b[90m [a3789734] \u001b[39m\u001b[92m+ Xorg_libXdmcp_jll v1.1.3+4\u001b[39m\n",
      " \u001b[90m [1082639a] \u001b[39m\u001b[92m+ Xorg_libXext_jll v1.3.4+4\u001b[39m\n",
      " \u001b[90m [d091e8ba] \u001b[39m\u001b[92m+ Xorg_libXfixes_jll v5.0.3+4\u001b[39m\n",
      " \u001b[90m [a51aa0fd] \u001b[39m\u001b[92m+ Xorg_libXi_jll v1.7.10+4\u001b[39m\n",
      " \u001b[90m [d1454406] \u001b[39m\u001b[92m+ Xorg_libXinerama_jll v1.1.4+4\u001b[39m\n",
      " \u001b[90m [ec84b674] \u001b[39m\u001b[92m+ Xorg_libXrandr_jll v1.5.2+4\u001b[39m\n",
      " \u001b[90m [ea2f1a96] \u001b[39m\u001b[92m+ Xorg_libXrender_jll v0.9.10+4\u001b[39m\n",
      " \u001b[90m [14d82f49] \u001b[39m\u001b[92m+ Xorg_libpthread_stubs_jll v0.1.0+3\u001b[39m\n",
      " \u001b[90m [c7cfdc94] \u001b[39m\u001b[92m+ Xorg_libxcb_jll v1.13.0+3\u001b[39m\n",
      " \u001b[90m [cc61e674] \u001b[39m\u001b[92m+ Xorg_libxkbfile_jll v1.1.0+4\u001b[39m\n",
      " \u001b[90m [12413925] \u001b[39m\u001b[92m+ Xorg_xcb_util_image_jll v0.4.0+1\u001b[39m\n",
      " \u001b[90m [2def613f] \u001b[39m\u001b[92m+ Xorg_xcb_util_jll v0.4.0+1\u001b[39m\n",
      " \u001b[90m [975044d2] \u001b[39m\u001b[92m+ Xorg_xcb_util_keysyms_jll v0.4.0+1\u001b[39m\n",
      " \u001b[90m [0d47668e] \u001b[39m\u001b[92m+ Xorg_xcb_util_renderutil_jll v0.3.9+1\u001b[39m\n",
      " \u001b[90m [c22f9ab0] \u001b[39m\u001b[92m+ Xorg_xcb_util_wm_jll v0.4.1+1\u001b[39m\n",
      " \u001b[90m [35661453] \u001b[39m\u001b[92m+ Xorg_xkbcomp_jll v1.4.2+4\u001b[39m\n",
      " \u001b[90m [33bec58e] \u001b[39m\u001b[92m+ Xorg_xkeyboard_config_jll v2.27.0+4\u001b[39m\n",
      " \u001b[90m [c5fb5394] \u001b[39m\u001b[92m+ Xorg_xtrans_jll v1.4.0+3\u001b[39m\n",
      " \u001b[90m [3161d3a3] \u001b[39m\u001b[92m+ Zstd_jll v1.5.2+0\u001b[39m\n",
      "\u001b[33m⌅\u001b[39m\u001b[90m [214eeab7] \u001b[39m\u001b[92m+ fzf_jll v0.29.0+0\u001b[39m\n",
      " \u001b[90m [a4ae2306] \u001b[39m\u001b[92m+ libaom_jll v3.4.0+0\u001b[39m\n",
      " \u001b[90m [0ac62f75] \u001b[39m\u001b[92m+ libass_jll v0.15.1+0\u001b[39m\n",
      " \u001b[90m [f638f0a6] \u001b[39m\u001b[92m+ libfdk_aac_jll v2.0.2+0\u001b[39m\n",
      " \u001b[90m [b53b4c65] \u001b[39m\u001b[92m+ libpng_jll v1.6.38+0\u001b[39m\n",
      " \u001b[90m [f27f6e37] \u001b[39m\u001b[92m+ libvorbis_jll v1.3.7+1\u001b[39m\n",
      " \u001b[90m [1270edf5] \u001b[39m\u001b[92m+ x264_jll v2021.5.5+0\u001b[39m\n",
      " \u001b[90m [dfaa095f] \u001b[39m\u001b[92m+ x265_jll v3.5.0+0\u001b[39m\n",
      " \u001b[90m [d8fb68d0] \u001b[39m\u001b[92m+ xkbcommon_jll v1.4.1+0\u001b[39m\n",
      " \u001b[90m [8bb1440f] \u001b[39m\u001b[92m+ DelimitedFiles\u001b[39m\n",
      " \u001b[90m [37e2e46d] \u001b[39m\u001b[92m+ LinearAlgebra\u001b[39m\n",
      " \u001b[90m [2f01184e] \u001b[39m\u001b[92m+ SparseArrays\u001b[39m\n",
      " \u001b[90m [10745b16] \u001b[39m\u001b[92m+ Statistics\u001b[39m\n",
      " \u001b[90m [e66e0078] \u001b[39m\u001b[92m+ CompilerSupportLibraries_jll v0.5.2+0\u001b[39m\n",
      " \u001b[90m [4536629a] \u001b[39m\u001b[92m+ OpenBLAS_jll v0.3.20+0\u001b[39m\n",
      " \u001b[90m [05823500] \u001b[39m\u001b[92m+ OpenLibm_jll v0.8.1+0\u001b[39m\n",
      " \u001b[90m [efcefdf7] \u001b[39m\u001b[92m+ PCRE2_jll v10.40.0+0\u001b[39m\n",
      " \u001b[90m [8e850b90] \u001b[39m\u001b[92m+ libblastrampoline_jll v5.1.1+0\u001b[39m\n",
      "\u001b[36m\u001b[1m        Info\u001b[22m\u001b[39m Packages marked with \u001b[33m⌅\u001b[39m have new versions available but compatibility constraints restrict them from upgrading. To see why use `status --outdated -m`\n"
     ]
    },
    {
     "name": "stderr",
     "output_type": "stream",
     "text": [
      "\u001b[32m\u001b[1mPrecompiling\u001b[22m\u001b[39m project...\n",
      "\u001b[32m  ✓ \u001b[39m\u001b[90mSnoopPrecompile\u001b[39m\n",
      "\u001b[32m  ✓ \u001b[39m\u001b[90mStatsAPI\u001b[39m\n",
      "\u001b[32m  ✓ \u001b[39m\u001b[90mLaTeXStrings\u001b[39m\n",
      "\u001b[32m  ✓ \u001b[39m\u001b[90mTensorCore\u001b[39m\n",
      "\u001b[32m  ✓ \u001b[39m\u001b[90mContour\u001b[39m\n",
      "\u001b[32m  ✓ \u001b[39m\u001b[90mPipe\u001b[39m\n",
      "\u001b[32m  ✓ \u001b[39m\u001b[90mOpenLibm_jll\u001b[39m\n",
      "\u001b[32m  ✓ \u001b[39m\u001b[90mMeasures\u001b[39m\n",
      "\u001b[32m  ✓ \u001b[39m\u001b[90mInverseFunctions\u001b[39m\n",
      "\u001b[32m  ✓ \u001b[39m\u001b[90mCompilerSupportLibraries_jll\u001b[39m\n",
      "\u001b[32m  ✓ \u001b[39m\u001b[90mCompat\u001b[39m\n",
      "\u001b[32m  ✓ \u001b[39m\u001b[90mGrisu\u001b[39m\n",
      "\u001b[32m  ✓ \u001b[39m\u001b[90mOrderedCollections\u001b[39m\n",
      "\u001b[32m  ✓ \u001b[39m\u001b[90mRequires\u001b[39m\n",
      "\u001b[32m  ✓ \u001b[39m\u001b[90mReexport\u001b[39m\n",
      "\u001b[32m  ✓ \u001b[39m\u001b[90mFixedPointNumbers\u001b[39m\n",
      "\u001b[32m  ✓ \u001b[39m\u001b[90mUnzip\u001b[39m\n",
      "\u001b[32m  ✓ \u001b[39m\u001b[90mIniFile\u001b[39m\n",
      "\u001b[32m  ✓ \u001b[39m\u001b[90mMacroTools\u001b[39m\n",
      "\u001b[32m  ✓ \u001b[39m\u001b[90mDocStringExtensions\u001b[39m\n",
      "\u001b[32m  ✓ \u001b[39m\u001b[90mSimpleBufferStream\u001b[39m\n",
      "\u001b[32m  ✓ \u001b[39m\u001b[90mURIs\u001b[39m\n",
      "\u001b[32m  ✓ \u001b[39m\u001b[90mIrrationalConstants\u001b[39m\n",
      "\u001b[32m  ✓ \u001b[39m\u001b[90mPCRE2_jll\u001b[39m\n",
      "\u001b[32m  ✓ \u001b[39m\u001b[90mFormatting\u001b[39m\n",
      "\u001b[32m  ✓ \u001b[39m\u001b[90mUnicodeFun\u001b[39m\n",
      "\u001b[32m  ✓ \u001b[39m\u001b[90mDataAPI\u001b[39m\n",
      "\u001b[32m  ✓ \u001b[39m\u001b[90mScratch\u001b[39m\n",
      "\u001b[32m  ✓ \u001b[39m\u001b[90mBitFlags\u001b[39m\n",
      "\u001b[32m  ✓ \u001b[39m\u001b[90mTranscodingStreams\u001b[39m\n",
      "\u001b[32m  ✓ \u001b[39m\u001b[90mLoggingExtras\u001b[39m\n",
      "\u001b[32m  ✓ \u001b[39m\u001b[90mOpenSSL_jll\u001b[39m\n",
      "\u001b[32m  ✓ \u001b[39m\u001b[90mLibmount_jll\u001b[39m\n",
      "\u001b[32m  ✓ \u001b[39m\u001b[90mGraphite2_jll\u001b[39m\n",
      "\u001b[32m  ✓ \u001b[39m\u001b[90mBzip2_jll\u001b[39m\n",
      "\u001b[32m  ✓ \u001b[39m\u001b[90mXorg_libXau_jll\u001b[39m\n",
      "\u001b[32m  ✓ \u001b[39m\u001b[90mlibpng_jll\u001b[39m\n",
      "\u001b[32m  ✓ \u001b[39m\u001b[90mlibfdk_aac_jll\u001b[39m\n",
      "\u001b[32m  ✓ \u001b[39m\u001b[90mLAME_jll\u001b[39m\n",
      "\u001b[32m  ✓ \u001b[39m\u001b[90mPixman_jll\u001b[39m\n",
      "\u001b[32m  ✓ \u001b[39m\u001b[90mLERC_jll\u001b[39m\n",
      "\u001b[32m  ✓ \u001b[39m\u001b[90mfzf_jll\u001b[39m\n",
      "\u001b[32m  ✓ \u001b[39m\u001b[90mJpegTurbo_jll\u001b[39m\n",
      "\u001b[32m  ✓ \u001b[39m\u001b[90mOgg_jll\u001b[39m\n",
      "\u001b[32m  ✓ \u001b[39m\u001b[90mXorg_libXdmcp_jll\u001b[39m\n",
      "\u001b[32m  ✓ \u001b[39m\u001b[90mx265_jll\u001b[39m\n",
      "\u001b[32m  ✓ \u001b[39m\u001b[90mx264_jll\u001b[39m\n",
      "\u001b[32m  ✓ \u001b[39m\u001b[90mlibaom_jll\u001b[39m\n",
      "\u001b[32m  ✓ \u001b[39m\u001b[90mZstd_jll\u001b[39m\n",
      "\u001b[32m  ✓ \u001b[39m\u001b[90mExpat_jll\u001b[39m\n",
      "\u001b[32m  ✓ \u001b[39m\u001b[90mLZO_jll\u001b[39m\n",
      "\u001b[32m  ✓ \u001b[39m\u001b[90mOpus_jll\u001b[39m\n",
      "\u001b[32m  ✓ \u001b[39m\u001b[90mXorg_xtrans_jll\u001b[39m\n",
      "\u001b[32m  ✓ \u001b[39m\u001b[90mLibiconv_jll\u001b[39m\n",
      "\u001b[32m  ✓ \u001b[39m\u001b[90mLibffi_jll\u001b[39m\n",
      "\u001b[32m  ✓ \u001b[39m\u001b[90mLibgpg_error_jll\u001b[39m\n",
      "\u001b[32m  ✓ \u001b[39m\u001b[90mWayland_protocols_jll\u001b[39m\n",
      "\u001b[32m  ✓ \u001b[39m\u001b[90mXorg_libpthread_stubs_jll\u001b[39m\n",
      "\u001b[32m  ✓ \u001b[39m\u001b[90mFriBidi_jll\u001b[39m\n",
      "\u001b[32m  ✓ \u001b[39m\u001b[90mLibuuid_jll\u001b[39m\n",
      "\u001b[32m  ✓ \u001b[39m\u001b[90mNaNMath\u001b[39m\n",
      "\u001b[32m  ✓ \u001b[39m\u001b[90mOpenBLAS_jll\u001b[39m\n",
      "\u001b[32m  ✓ \u001b[39m\u001b[90mOpenSpecFun_jll\u001b[39m\n",
      "\u001b[32m  ✓ \u001b[39m\u001b[90mShowoff\u001b[39m\n",
      "\u001b[32m  ✓ \u001b[39m\u001b[90mRecipesBase\u001b[39m\n",
      "\u001b[32m  ✓ \u001b[39m\u001b[90mMissings\u001b[39m\n",
      "\u001b[32m  ✓ \u001b[39m\u001b[90mChainRulesCore\u001b[39m\n",
      "\u001b[32m  ✓ \u001b[39m\u001b[90mRelocatableFolders\u001b[39m\n",
      "\u001b[32m  ✓ \u001b[39m\u001b[90mCodecZlib\u001b[39m\n",
      "\u001b[32m  ✓ \u001b[39m\u001b[90mLatexify\u001b[39m\n",
      "\u001b[32m  ✓ \u001b[39m\u001b[90mDataStructures\u001b[39m\n",
      "\u001b[32m  ✓ \u001b[39m\u001b[90mColorTypes\u001b[39m\n",
      "\u001b[32m  ✓ \u001b[39m\u001b[90mFreeType2_jll\u001b[39m\n",
      "\u001b[32m  ✓ \u001b[39m\u001b[90mJLFzf\u001b[39m\n",
      "\u001b[32m  ✓ \u001b[39m\u001b[90mlibvorbis_jll\u001b[39m\n",
      "\u001b[32m  ✓ \u001b[39m\u001b[90mlibblastrampoline_jll\u001b[39m\n",
      "\u001b[32m  ✓ \u001b[39m\u001b[90mChangesOfVariables\u001b[39m\n",
      "\u001b[32m  ✓ \u001b[39m\u001b[90mOpenSSL\u001b[39m\n",
      "\u001b[32m  ✓ \u001b[39m\u001b[90mLibgcrypt_jll\u001b[39m\n",
      "\u001b[32m  ✓ \u001b[39m\u001b[90mSortingAlgorithms\u001b[39m\n",
      "\u001b[32m  ✓ \u001b[39m\u001b[90mXML2_jll\u001b[39m\n",
      "\u001b[32m  ✓ \u001b[39m\u001b[90mLibtiff_jll\u001b[39m\n",
      "\u001b[32m  ✓ \u001b[39m\u001b[90mLogExpFunctions\u001b[39m\n",
      "\u001b[32m  ✓ \u001b[39m\u001b[90mFontconfig_jll\u001b[39m\n",
      "\u001b[32m  ✓ \u001b[39m\u001b[90mWayland_jll\u001b[39m\n",
      "\u001b[32m  ✓ \u001b[39m\u001b[90mXSLT_jll\u001b[39m\n",
      "\u001b[32m  ✓ \u001b[39m\u001b[90mGettext_jll\u001b[39m\n",
      "\u001b[32m  ✓ \u001b[39m\u001b[90mXorg_libxcb_jll\u001b[39m\n",
      "\u001b[32m  ✓ \u001b[39m\u001b[90mColors\u001b[39m\n",
      "\u001b[32m  ✓ \u001b[39m\u001b[90mHTTP\u001b[39m\n",
      "\u001b[32m  ✓ \u001b[39m\u001b[90mXorg_xcb_util_jll\u001b[39m\n",
      "\u001b[32m  ✓ \u001b[39m\u001b[90mXorg_libX11_jll\u001b[39m\n",
      "\u001b[32m  ✓ \u001b[39m\u001b[90mGlib_jll\u001b[39m\n",
      "\u001b[32m  ✓ \u001b[39m\u001b[90mXorg_xcb_util_image_jll\u001b[39m\n",
      "\u001b[32m  ✓ \u001b[39m\u001b[90mStatsBase\u001b[39m\n",
      "\u001b[32m  ✓ \u001b[39m\u001b[90mXorg_xcb_util_keysyms_jll\u001b[39m\n",
      "\u001b[32m  ✓ \u001b[39m\u001b[90mXorg_xcb_util_renderutil_jll\u001b[39m\n",
      "\u001b[32m  ✓ \u001b[39m\u001b[90mXorg_xcb_util_wm_jll\u001b[39m\n",
      "\u001b[32m  ✓ \u001b[39m\u001b[90mXorg_libXrender_jll\u001b[39m\n",
      "\u001b[32m  ✓ \u001b[39m\u001b[90mXorg_libXext_jll\u001b[39m\n",
      "\u001b[32m  ✓ \u001b[39m\u001b[90mXorg_libXfixes_jll\u001b[39m\n",
      "\u001b[32m  ✓ \u001b[39m\u001b[90mXorg_libxkbfile_jll\u001b[39m\n",
      "\u001b[32m  ✓ \u001b[39m\u001b[90mLibglvnd_jll\u001b[39m\n",
      "\u001b[32m  ✓ \u001b[39m\u001b[90mXorg_libXinerama_jll\u001b[39m\n",
      "\u001b[32m  ✓ \u001b[39m\u001b[90mXorg_libXrandr_jll\u001b[39m\n",
      "\u001b[32m  ✓ \u001b[39m\u001b[90mXorg_libXi_jll\u001b[39m\n",
      "\u001b[32m  ✓ \u001b[39m\u001b[90mXorg_libXcursor_jll\u001b[39m\n",
      "\u001b[32m  ✓ \u001b[39m\u001b[90mXorg_xkbcomp_jll\u001b[39m\n",
      "\u001b[32m  ✓ \u001b[39m\u001b[90mGLFW_jll\u001b[39m\n",
      "\u001b[32m  ✓ \u001b[39m\u001b[90mXorg_xkeyboard_config_jll\u001b[39m\n",
      "\u001b[32m  ✓ \u001b[39m\u001b[90mxkbcommon_jll\u001b[39m\n",
      "\u001b[32m  ✓ \u001b[39m\u001b[90mSpecialFunctions\u001b[39m\n",
      "\u001b[32m  ✓ \u001b[39m\u001b[90mQt5Base_jll\u001b[39m\n",
      "\u001b[32m  ✓ \u001b[39m\u001b[90mCairo_jll\u001b[39m\n",
      "\u001b[32m  ✓ \u001b[39m\u001b[90mColorVectorSpace\u001b[39m\n",
      "\u001b[32m  ✓ \u001b[39m\u001b[90mHarfBuzz_jll\u001b[39m\n",
      "\u001b[32m  ✓ \u001b[39m\u001b[90mlibass_jll\u001b[39m\n",
      "\u001b[32m  ✓ \u001b[39m\u001b[90mColorSchemes\u001b[39m\n",
      "\u001b[32m  ✓ \u001b[39m\u001b[90mFFMPEG_jll\u001b[39m\n",
      "\u001b[32m  ✓ \u001b[39m\u001b[90mFFMPEG\u001b[39m\n",
      "\u001b[32m  ✓ \u001b[39m\u001b[90mPlotUtils\u001b[39m\n",
      "\u001b[32m  ✓ \u001b[39m\u001b[90mGR_jll\u001b[39m\n",
      "\u001b[32m  ✓ \u001b[39m\u001b[90mRecipesPipeline\u001b[39m\n",
      "\u001b[32m  ✓ \u001b[39m\u001b[90mPlotThemes\u001b[39m\n",
      "\u001b[32m  ✓ \u001b[39m\u001b[90mGR\u001b[39m\n",
      "\u001b[32m  ✓ \u001b[39mPlots\n",
      "  126 dependencies successfully precompiled in 36 seconds. 15 already precompiled.\n"
     ]
    }
   ],
   "source": [
    "Pkg.add(\"Plots\")"
   ]
  },
  {
   "cell_type": "markdown",
   "metadata": {},
   "source": [
    "Julia allows us to create multiple working environments. \n",
    "\n",
    "For example in this notebook I created the environment `Basics` \n",
    "\n",
    "We activate it as follows:"
   ]
  },
  {
   "cell_type": "code",
   "execution_count": 4,
   "metadata": {},
   "outputs": [
    {
     "name": "stderr",
     "output_type": "stream",
     "text": [
      "\u001b[32m\u001b[1m  Activating\u001b[22m\u001b[39m project at `~/Documents/GitHub/MathData-Winter22-23/Notebooks/NB01`\n"
     ]
    }
   ],
   "source": [
    "Pkg.activate(\"NB01\")"
   ]
  },
  {
   "cell_type": "markdown",
   "metadata": {},
   "source": [
    "To make sure all of the packages in `Basic` are installed with the correct dependencies, we run `resolve`."
   ]
  },
  {
   "cell_type": "code",
   "execution_count": 5,
   "metadata": {},
   "outputs": [
    {
     "name": "stderr",
     "output_type": "stream",
     "text": [
      "\u001b[32m\u001b[1m   Installed\u001b[22m\u001b[39m Scratch ───────────────────── v1.1.0\n",
      "\u001b[32m\u001b[1m   Installed\u001b[22m\u001b[39m GR_jll ────────────────────── v0.64.2+0\n",
      "\u001b[32m\u001b[1m   Installed\u001b[22m\u001b[39m XML2_jll ──────────────────── v2.9.12+0\n",
      "\u001b[32m\u001b[1m   Installed\u001b[22m\u001b[39m ColorTypes ────────────────── v0.11.0\n",
      "\u001b[32m\u001b[1m   Installed\u001b[22m\u001b[39m Adapt ─────────────────────── v3.3.3\n",
      "\u001b[32m\u001b[1m   Installed\u001b[22m\u001b[39m Preferences ───────────────── v1.2.5\n",
      "\u001b[32m\u001b[1m   Installed\u001b[22m\u001b[39m Latexify ──────────────────── v0.15.14\n",
      "\u001b[32m\u001b[1m   Installed\u001b[22m\u001b[39m Plots ─────────────────────── v1.27.4\n",
      "\u001b[32m\u001b[1m   Installed\u001b[22m\u001b[39m IterTools ─────────────────── v1.4.0\n",
      "\u001b[32m\u001b[1m   Installed\u001b[22m\u001b[39m TableTraits ───────────────── v1.0.1\n",
      "\u001b[32m\u001b[1m   Installed\u001b[22m\u001b[39m OpenSSL_jll ───────────────── v1.1.14+0\n",
      "\u001b[32m\u001b[1m   Installed\u001b[22m\u001b[39m xkbcommon_jll ─────────────── v0.9.1+5\n",
      "\u001b[32m\u001b[1m   Installed\u001b[22m\u001b[39m FFMPEG_jll ────────────────── v4.4.0+0\n",
      "\u001b[32m\u001b[1m   Installed\u001b[22m\u001b[39m RelocatableFolders ────────── v0.1.3\n",
      "\u001b[32m\u001b[1m   Installed\u001b[22m\u001b[39m GeometryBasics ────────────── v0.4.2\n",
      "\u001b[32m\u001b[1m   Installed\u001b[22m\u001b[39m PlotThemes ────────────────── v2.0.1\n",
      "\u001b[32m\u001b[1m   Installed\u001b[22m\u001b[39m Tables ────────────────────── v1.7.0\n",
      "\u001b[32m\u001b[1m   Installed\u001b[22m\u001b[39m Parsers ───────────────────── v2.2.4\n",
      "\u001b[32m\u001b[1m   Installed\u001b[22m\u001b[39m Libtiff_jll ───────────────── v4.3.0+1\n",
      "\u001b[32m\u001b[1m   Installed\u001b[22m\u001b[39m DataAPI ───────────────────── v1.9.0\n",
      "\u001b[32m\u001b[1m   Installed\u001b[22m\u001b[39m EarCut_jll ────────────────── v2.2.3+0\n",
      "\u001b[32m\u001b[1m   Installed\u001b[22m\u001b[39m RecipesBase ───────────────── v1.2.1\n",
      "\u001b[32m\u001b[1m   Installed\u001b[22m\u001b[39m PCRE_jll ──────────────────── v8.44.0+0\n",
      "\u001b[32m\u001b[1m   Installed\u001b[22m\u001b[39m NaNMath ───────────────────── v1.0.0\n",
      "\u001b[32m\u001b[1m   Installed\u001b[22m\u001b[39m Contour ───────────────────── v0.5.7\n",
      "\u001b[32m\u001b[1m   Installed\u001b[22m\u001b[39m StaticArrays ──────────────── v1.4.3\n",
      "\u001b[32m\u001b[1m   Installed\u001b[22m\u001b[39m IteratorInterfaceExtensions ─ v1.0.0\n",
      "\u001b[32m\u001b[1m   Installed\u001b[22m\u001b[39m URIs ──────────────────────── v1.3.0\n",
      "\u001b[32m\u001b[1m   Installed\u001b[22m\u001b[39m DataValueInterfaces ───────── v1.0.0\n",
      "\u001b[32m\u001b[1m   Installed\u001b[22m\u001b[39m PlotUtils ─────────────────── v1.2.0\n",
      "\u001b[32m\u001b[1m   Installed\u001b[22m\u001b[39m StructArrays ──────────────── v0.6.5\n",
      "\u001b[32m\u001b[1m   Installed\u001b[22m\u001b[39m GR ────────────────────────── v0.64.2\n",
      "\u001b[32m\u001b[1m   Installed\u001b[22m\u001b[39m RecipesPipeline ───────────── v0.5.2\n",
      "\u001b[32m\u001b[1m   Installed\u001b[22m\u001b[39m Glib_jll ──────────────────── v2.68.3+2\n",
      "\u001b[32m\u001b[1m   Installed\u001b[22m\u001b[39m GLFW_jll ──────────────────── v3.3.6+0\n",
      "\u001b[32m\u001b[1m   Installed\u001b[22m\u001b[39m MbedTLS ───────────────────── v1.0.3\n",
      "\u001b[32m\u001b[1m   Installed\u001b[22m\u001b[39m ChainRulesCore ────────────── v1.14.0\n",
      "\u001b[32m\u001b[1m   Installed\u001b[22m\u001b[39m LogExpFunctions ───────────── v0.3.10\n",
      "\u001b[32m\u001b[1m   Installed\u001b[22m\u001b[39m HTTP ──────────────────────── v0.9.17\n",
      "\u001b[32m\u001b[1m   Installed\u001b[22m\u001b[39m MacroTools ────────────────── v0.5.9\n",
      "\u001b[32m\u001b[1m   Installed\u001b[22m\u001b[39m DataStructures ────────────── v0.18.11\n",
      "\u001b[32m\u001b[1m   Installed\u001b[22m\u001b[39m StatsAPI ──────────────────── v1.2.1\n",
      "\u001b[32m\u001b[1m   Installed\u001b[22m\u001b[39m Compat ────────────────────── v3.42.0\n",
      "\u001b[32m\u001b[1m   Installed\u001b[22m\u001b[39m Unzip ─────────────────────── v0.1.2\n",
      "\u001b[32m\u001b[1m   Installed\u001b[22m\u001b[39m InverseFunctions ──────────── v0.1.3\n",
      "\u001b[32m\u001b[1m   Installed\u001b[22m\u001b[39m StatsBase ─────────────────── v0.33.16\n",
      "\u001b[32m\u001b[1m   Installed\u001b[22m\u001b[39m ChangesOfVariables ────────── v0.1.2\n",
      "\u001b[32m\u001b[1m   Installed\u001b[22m\u001b[39m DocStringExtensions ───────── v0.8.6\n",
      "\u001b[32m\u001b[1m   Installed\u001b[22m\u001b[39m ColorSchemes ──────────────── v3.17.1\n",
      "\u001b[32m\u001b[1m  No Changes\u001b[22m\u001b[39m to `~/Documents/GitHub/MathData-Winter22-23/Notebooks/NB01/Project.toml`\n",
      "\u001b[32m\u001b[1m    Updating\u001b[22m\u001b[39m `~/Documents/GitHub/MathData-Winter22-23/Notebooks/NB01/Manifest.toml`\n",
      " \u001b[90m [ea2cea3b] \u001b[39m\u001b[93m↑ Qt5Base_jll v5.15.3+0 ⇒ v5.15.3+1\u001b[39m\n",
      " \u001b[90m [0dad84c5] \u001b[39m\u001b[93m~ ArgTools ⇒ v1.1.1\u001b[39m\n",
      " \u001b[90m [f43a241f] \u001b[39m\u001b[93m~ Downloads ⇒ v1.6.0\u001b[39m\n",
      " \u001b[90m [7b1f6079] \u001b[39m\u001b[92m+ FileWatching\u001b[39m\n",
      " \u001b[90m [b27032c2] \u001b[39m\u001b[93m~ LibCURL ⇒ v0.6.3\u001b[39m\n",
      " \u001b[90m [ca575930] \u001b[39m\u001b[93m~ NetworkOptions ⇒ v1.2.0\u001b[39m\n",
      " \u001b[90m [44cfe95a] \u001b[39m\u001b[93m~ Pkg ⇒ v1.8.0\u001b[39m\n",
      " \u001b[90m [ea8e919c] \u001b[39m\u001b[93m~ SHA ⇒ v0.7.0\u001b[39m\n",
      " \u001b[90m [fa267f1f] \u001b[39m\u001b[93m~ TOML ⇒ v1.0.0\u001b[39m\n",
      " \u001b[90m [a4e569a6] \u001b[39m\u001b[93m~ Tar ⇒ v1.10.1\u001b[39m\n",
      " \u001b[90m [e66e0078] \u001b[39m\u001b[93m~ CompilerSupportLibraries_jll ⇒ v0.5.2+0\u001b[39m\n",
      " \u001b[90m [deac9b47] \u001b[39m\u001b[93m~ LibCURL_jll ⇒ v7.84.0+0\u001b[39m\n",
      " \u001b[90m [29816b5a] \u001b[39m\u001b[93m~ LibSSH2_jll ⇒ v1.10.2+0\u001b[39m\n",
      " \u001b[90m [c8ffd9c3] \u001b[39m\u001b[93m~ MbedTLS_jll ⇒ v2.28.0+0\u001b[39m\n",
      " \u001b[90m [14a3606d] \u001b[39m\u001b[93m~ MozillaCACerts_jll ⇒ v2022.2.1\u001b[39m\n",
      " \u001b[90m [4536629a] \u001b[39m\u001b[93m~ OpenBLAS_jll ⇒ v0.3.20+0\u001b[39m\n",
      " \u001b[90m [83775a58] \u001b[39m\u001b[93m~ Zlib_jll ⇒ v1.2.12+3\u001b[39m\n",
      " \u001b[90m [8e850b90] \u001b[39m\u001b[93m~ libblastrampoline_jll ⇒ v5.1.1+0\u001b[39m\n",
      " \u001b[90m [8e850ede] \u001b[39m\u001b[93m~ nghttp2_jll ⇒ v1.48.0+0\u001b[39m\n",
      " \u001b[90m [3f19e933] \u001b[39m\u001b[93m~ p7zip_jll ⇒ v17.4.0+0\u001b[39m\n",
      "\u001b[32m\u001b[1m    Building\u001b[22m\u001b[39m GR → `~/.julia/scratchspaces/44cfe95a-1eb2-52ea-b672-e2afdf69b78f/af237c08bda486b74318c8070adb96efa6952530/build.log`\n"
     ]
    }
   ],
   "source": [
    "Pkg.resolve()"
   ]
  },
  {
   "cell_type": "markdown",
   "metadata": {},
   "source": [
    "We can now see which packages are installed"
   ]
  },
  {
   "cell_type": "code",
   "execution_count": 6,
   "metadata": {},
   "outputs": [
    {
     "name": "stdout",
     "output_type": "stream",
     "text": [
      "\u001b[32m\u001b[1mStatus\u001b[22m\u001b[39m `~/Documents/GitHub/MathData-Winter22-23/Notebooks/NB01/Project.toml`\n",
      "\u001b[32m⌃\u001b[39m\u001b[90m [91a5bcdd] \u001b[39mPlots v1.27.4\n",
      " \u001b[90m [10745b16] \u001b[39mStatistics\n",
      "\u001b[36m\u001b[1mInfo\u001b[22m\u001b[39m Packages marked with \u001b[32m⌃\u001b[39m have new versions available and may be upgradable.\n"
     ]
    }
   ],
   "source": [
    "Pkg.status()"
   ]
  },
  {
   "cell_type": "markdown",
   "metadata": {},
   "source": [
    "# Variables"
   ]
  },
  {
   "cell_type": "code",
   "execution_count": 7,
   "metadata": {},
   "outputs": [
    {
     "data": {
      "text/plain": [
       "4"
      ]
     },
     "execution_count": 7,
     "metadata": {},
     "output_type": "execute_result"
    }
   ],
   "source": [
    "my_integer = 4"
   ]
  },
  {
   "cell_type": "code",
   "execution_count": 8,
   "metadata": {},
   "outputs": [
    {
     "data": {
      "text/plain": [
       "Int64"
      ]
     },
     "execution_count": 8,
     "metadata": {},
     "output_type": "execute_result"
    }
   ],
   "source": [
    "typeof(my_integer)"
   ]
  },
  {
   "cell_type": "code",
   "execution_count": 9,
   "metadata": {},
   "outputs": [
    {
     "data": {
      "text/plain": [
       "2.3"
      ]
     },
     "execution_count": 9,
     "metadata": {},
     "output_type": "execute_result"
    }
   ],
   "source": [
    "my_float = 2.3"
   ]
  },
  {
   "cell_type": "code",
   "execution_count": 10,
   "metadata": {},
   "outputs": [
    {
     "data": {
      "text/plain": [
       "Float64"
      ]
     },
     "execution_count": 10,
     "metadata": {},
     "output_type": "execute_result"
    }
   ],
   "source": [
    "typeof(my_float)"
   ]
  },
  {
   "cell_type": "code",
   "execution_count": 11,
   "metadata": {},
   "outputs": [
    {
     "data": {
      "text/plain": [
       "Complex{Int64}"
      ]
     },
     "execution_count": 11,
     "metadata": {},
     "output_type": "execute_result"
    }
   ],
   "source": [
    "my_complex_number = 2 + 3im\n",
    "typeof(my_complex_number)"
   ]
  },
  {
   "cell_type": "code",
   "execution_count": 12,
   "metadata": {},
   "outputs": [
    {
     "data": {
      "text/plain": [
       "ComplexF64\u001b[90m (alias for \u001b[39m\u001b[90mComplex{Float64}\u001b[39m\u001b[90m)\u001b[39m"
      ]
     },
     "execution_count": 12,
     "metadata": {},
     "output_type": "execute_result"
    }
   ],
   "source": [
    "my_complex_number2 = 2.2 + 3.2im\n",
    "typeof(my_complex_number2)"
   ]
  },
  {
   "cell_type": "code",
   "execution_count": 13,
   "metadata": {},
   "outputs": [
    {
     "name": "stdout",
     "output_type": "stream",
     "text": [
      "search: \u001b[0m\u001b[1mC\u001b[22m\u001b[0m\u001b[1mo\u001b[22m\u001b[0m\u001b[1mm\u001b[22m\u001b[0m\u001b[1mp\u001b[22m\u001b[0m\u001b[1ml\u001b[22m\u001b[0m\u001b[1me\u001b[22m\u001b[0m\u001b[1mx\u001b[22m \u001b[0m\u001b[1mc\u001b[22m\u001b[0m\u001b[1mo\u001b[22m\u001b[0m\u001b[1mm\u001b[22m\u001b[0m\u001b[1mp\u001b[22m\u001b[0m\u001b[1ml\u001b[22m\u001b[0m\u001b[1me\u001b[22m\u001b[0m\u001b[1mx\u001b[22m \u001b[0m\u001b[1mC\u001b[22m\u001b[0m\u001b[1mo\u001b[22m\u001b[0m\u001b[1mm\u001b[22m\u001b[0m\u001b[1mp\u001b[22m\u001b[0m\u001b[1ml\u001b[22m\u001b[0m\u001b[1me\u001b[22m\u001b[0m\u001b[1mx\u001b[22mF64 \u001b[0m\u001b[1mC\u001b[22m\u001b[0m\u001b[1mo\u001b[22m\u001b[0m\u001b[1mm\u001b[22m\u001b[0m\u001b[1mp\u001b[22m\u001b[0m\u001b[1ml\u001b[22m\u001b[0m\u001b[1me\u001b[22m\u001b[0m\u001b[1mx\u001b[22mF32 \u001b[0m\u001b[1mC\u001b[22m\u001b[0m\u001b[1mo\u001b[22m\u001b[0m\u001b[1mm\u001b[22m\u001b[0m\u001b[1mp\u001b[22m\u001b[0m\u001b[1ml\u001b[22m\u001b[0m\u001b[1me\u001b[22m\u001b[0m\u001b[1mx\u001b[22mF16 my_\u001b[0m\u001b[1mc\u001b[22m\u001b[0m\u001b[1mo\u001b[22m\u001b[0m\u001b[1mm\u001b[22m\u001b[0m\u001b[1mp\u001b[22m\u001b[0m\u001b[1ml\u001b[22m\u001b[0m\u001b[1me\u001b[22m\u001b[0m\u001b[1mx\u001b[22m_number\n",
      "\n"
     ]
    },
    {
     "data": {
      "text/latex": [
       "\\begin{verbatim}\n",
       "Complex{T<:Real} <: Number\n",
       "\\end{verbatim}\n",
       "Complex number type with real and imaginary part of type \\texttt{T}.\n",
       "\n",
       "\\texttt{ComplexF16}, \\texttt{ComplexF32} and \\texttt{ComplexF64} are aliases for \\texttt{Complex\\{Float16\\}}, \\texttt{Complex\\{Float32\\}} and \\texttt{Complex\\{Float64\\}} respectively.\n",
       "\n",
       "See also: \\href{@ref}{\\texttt{Real}}, \\href{@ref}{\\texttt{complex}}, \\href{@ref}{\\texttt{real}}.\n",
       "\n"
      ],
      "text/markdown": [
       "```\n",
       "Complex{T<:Real} <: Number\n",
       "```\n",
       "\n",
       "Complex number type with real and imaginary part of type `T`.\n",
       "\n",
       "`ComplexF16`, `ComplexF32` and `ComplexF64` are aliases for `Complex{Float16}`, `Complex{Float32}` and `Complex{Float64}` respectively.\n",
       "\n",
       "See also: [`Real`](@ref), [`complex`](@ref), [`real`](@ref).\n"
      ],
      "text/plain": [
       "\u001b[36m  Complex{T<:Real} <: Number\u001b[39m\n",
       "\n",
       "  Complex number type with real and imaginary part of type \u001b[36mT\u001b[39m.\n",
       "\n",
       "  \u001b[36mComplexF16\u001b[39m, \u001b[36mComplexF32\u001b[39m and \u001b[36mComplexF64\u001b[39m are aliases for \u001b[36mComplex{Float16}\u001b[39m,\n",
       "  \u001b[36mComplex{Float32}\u001b[39m and \u001b[36mComplex{Float64}\u001b[39m respectively.\n",
       "\n",
       "  See also: \u001b[36mReal\u001b[39m, \u001b[36mcomplex\u001b[39m, \u001b[36mreal\u001b[39m."
      ]
     },
     "execution_count": 13,
     "metadata": {},
     "output_type": "execute_result"
    }
   ],
   "source": [
    "?Complex"
   ]
  },
  {
   "cell_type": "code",
   "execution_count": 18,
   "metadata": {},
   "outputs": [
    {
     "data": {
      "text/plain": [
       "6.283185307179586"
      ]
     },
     "execution_count": 18,
     "metadata": {},
     "output_type": "execute_result"
    }
   ],
   "source": [
    "# support for latex\n",
    "α = 2π"
   ]
  },
  {
   "cell_type": "code",
   "execution_count": 19,
   "metadata": {},
   "outputs": [
    {
     "data": {
      "text/plain": [
       "1.0"
      ]
     },
     "execution_count": 19,
     "metadata": {},
     "output_type": "execute_result"
    }
   ],
   "source": [
    "cos(α)"
   ]
  },
  {
   "cell_type": "markdown",
   "metadata": {},
   "source": [
    "# Basic Syntax for mathematical operations"
   ]
  },
  {
   "cell_type": "code",
   "execution_count": 20,
   "metadata": {},
   "outputs": [
    {
     "data": {
      "text/plain": [
       "5"
      ]
     },
     "execution_count": 20,
     "metadata": {},
     "output_type": "execute_result"
    }
   ],
   "source": [
    "summation = 2 + 3"
   ]
  },
  {
   "cell_type": "code",
   "execution_count": 21,
   "metadata": {},
   "outputs": [
    {
     "data": {
      "text/plain": [
       "3"
      ]
     },
     "execution_count": 21,
     "metadata": {},
     "output_type": "execute_result"
    }
   ],
   "source": [
    "difference = 5 - 2"
   ]
  },
  {
   "cell_type": "code",
   "execution_count": 22,
   "metadata": {},
   "outputs": [
    {
     "data": {
      "text/plain": [
       "15"
      ]
     },
     "execution_count": 22,
     "metadata": {},
     "output_type": "execute_result"
    }
   ],
   "source": [
    "product = 3 * 5"
   ]
  },
  {
   "cell_type": "code",
   "execution_count": 23,
   "metadata": {},
   "outputs": [
    {
     "data": {
      "text/plain": [
       "0.8"
      ]
     },
     "execution_count": 23,
     "metadata": {},
     "output_type": "execute_result"
    }
   ],
   "source": [
    "quotient = 4 / 5"
   ]
  },
  {
   "cell_type": "code",
   "execution_count": 24,
   "metadata": {},
   "outputs": [
    {
     "data": {
      "text/plain": [
       "(4//5, Rational{Int64})"
      ]
     },
     "execution_count": 24,
     "metadata": {},
     "output_type": "execute_result"
    }
   ],
   "source": [
    "rational = 4 // 5\n",
    "rational, typeof(rational)"
   ]
  },
  {
   "cell_type": "code",
   "execution_count": 25,
   "metadata": {},
   "outputs": [
    {
     "data": {
      "text/plain": [
       "25"
      ]
     },
     "execution_count": 25,
     "metadata": {},
     "output_type": "execute_result"
    }
   ],
   "source": [
    "power = 5^2"
   ]
  },
  {
   "cell_type": "code",
   "execution_count": 26,
   "metadata": {},
   "outputs": [
    {
     "data": {
      "text/plain": [
       "25.0"
      ]
     },
     "execution_count": 26,
     "metadata": {},
     "output_type": "execute_result"
    }
   ],
   "source": [
    "power = 5.0^2"
   ]
  },
  {
   "cell_type": "markdown",
   "metadata": {},
   "source": [
    "# Control Flow"
   ]
  },
  {
   "cell_type": "markdown",
   "metadata": {
    "slideshow": {
     "slide_type": "fragment"
    }
   },
   "source": [
    "### For loops\n",
    "\n",
    "The syntax for a `for` loop is \n",
    "```julia\n",
    "for *var* in *loop iterable*\n",
    "    *loop body*\n",
    "end\n",
    "```"
   ]
  },
  {
   "cell_type": "code",
   "execution_count": 27,
   "metadata": {},
   "outputs": [
    {
     "name": "stdout",
     "output_type": "stream",
     "text": [
      "aᵢ = 1\n",
      "aᵢ = 2\n",
      "aᵢ = 3\n",
      "aᵢ = 4\n",
      "aᵢ = 5\n"
     ]
    }
   ],
   "source": [
    "a = [1, 2, 3, 4, 5]\n",
    "for aᵢ in a\n",
    "    @show aᵢ\n",
    "end"
   ]
  },
  {
   "cell_type": "markdown",
   "metadata": {},
   "source": [
    "## If statements"
   ]
  },
  {
   "cell_type": "code",
   "execution_count": 28,
   "metadata": {},
   "outputs": [
    {
     "name": "stdout",
     "output_type": "stream",
     "text": [
      "v == w\n"
     ]
    }
   ],
   "source": [
    "v = 3\n",
    "w = 3\n",
    "\n",
    "if v < w\n",
    "    println(\"v < w\")\n",
    "elseif v > w\n",
    "    println(\"v > w\")\n",
    "else\n",
    "    println(\"v == w\")\n",
    "end"
   ]
  },
  {
   "cell_type": "markdown",
   "metadata": {},
   "source": [
    "# Arrays"
   ]
  },
  {
   "cell_type": "markdown",
   "metadata": {},
   "source": [
    "Julia has built-in support multi-dimensional arrays (i.e. tensors)."
   ]
  },
  {
   "cell_type": "code",
   "execution_count": 29,
   "metadata": {},
   "outputs": [
    {
     "data": {
      "text/plain": [
       "5-element Vector{Int64}:\n",
       " 1\n",
       " 2\n",
       " 3\n",
       " 4\n",
       " 5"
      ]
     },
     "execution_count": 29,
     "metadata": {},
     "output_type": "execute_result"
    }
   ],
   "source": [
    "vector = [1, 2, 3, 4, 5]"
   ]
  },
  {
   "cell_type": "code",
   "execution_count": 30,
   "metadata": {},
   "outputs": [
    {
     "data": {
      "text/plain": [
       "2×3 Matrix{Int64}:\n",
       " 1  2  3\n",
       " 4  5  6"
      ]
     },
     "execution_count": 30,
     "metadata": {},
     "output_type": "execute_result"
    }
   ],
   "source": [
    "matrix = [1 2 3; 4 5 6]"
   ]
  },
  {
   "cell_type": "code",
   "execution_count": 31,
   "metadata": {},
   "outputs": [
    {
     "data": {
      "text/plain": [
       "2×3 Matrix{Int64}:\n",
       " 1  2  3\n",
       " 4  5  6"
      ]
     },
     "execution_count": 31,
     "metadata": {},
     "output_type": "execute_result"
    }
   ],
   "source": [
    "spacing_matrix = [1 2 3\n",
    "                  4 5 6]"
   ]
  },
  {
   "cell_type": "code",
   "execution_count": 32,
   "metadata": {},
   "outputs": [
    {
     "data": {
      "text/plain": [
       "4×5 Matrix{Int64}:\n",
       "  6  1  1  10  9\n",
       "  7  9  4   1  5\n",
       "  5  8  8   5  4\n",
       " 10  4  4   9  2"
      ]
     },
     "execution_count": 32,
     "metadata": {},
     "output_type": "execute_result"
    }
   ],
   "source": [
    "random_matrix = rand(1:10, 4, 5)"
   ]
  },
  {
   "cell_type": "code",
   "execution_count": 33,
   "metadata": {},
   "outputs": [
    {
     "data": {
      "text/plain": [
       "2×3×4 Array{Int64, 3}:\n",
       "[:, :, 1] =\n",
       " 5  9  5\n",
       " 2  8  5\n",
       "\n",
       "[:, :, 2] =\n",
       " 10   7  10\n",
       "  7  10   1\n",
       "\n",
       "[:, :, 3] =\n",
       " 9  7  9\n",
       " 3  7  3\n",
       "\n",
       "[:, :, 4] =\n",
       " 10   5  2\n",
       "  2  10  2"
      ]
     },
     "execution_count": 33,
     "metadata": {},
     "output_type": "execute_result"
    }
   ],
   "source": [
    "random_tensor = rand(1:10, 2, 3, 4)"
   ]
  },
  {
   "cell_type": "markdown",
   "metadata": {},
   "source": [
    "### Manipulation of Arrays "
   ]
  },
  {
   "cell_type": "code",
   "execution_count": 34,
   "metadata": {},
   "outputs": [
    {
     "data": {
      "text/plain": [
       "5-element Vector{Int64}:\n",
       " 1\n",
       " 2\n",
       " 3\n",
       " 4\n",
       " 5"
      ]
     },
     "execution_count": 34,
     "metadata": {},
     "output_type": "execute_result"
    }
   ],
   "source": [
    "vector"
   ]
  },
  {
   "cell_type": "code",
   "execution_count": 35,
   "metadata": {},
   "outputs": [
    {
     "data": {
      "text/plain": [
       "3-element Vector{Int64}:\n",
       " 2\n",
       " 3\n",
       " 4"
      ]
     },
     "execution_count": 35,
     "metadata": {},
     "output_type": "execute_result"
    }
   ],
   "source": [
    "vector[2:4]"
   ]
  },
  {
   "cell_type": "code",
   "execution_count": 36,
   "metadata": {},
   "outputs": [
    {
     "data": {
      "text/plain": [
       "2-element Vector{Int64}:\n",
       " 4\n",
       " 5"
      ]
     },
     "execution_count": 36,
     "metadata": {},
     "output_type": "execute_result"
    }
   ],
   "source": [
    "vector[4:end]"
   ]
  },
  {
   "cell_type": "code",
   "execution_count": 37,
   "metadata": {},
   "outputs": [
    {
     "data": {
      "text/plain": [
       "2×3 Matrix{Int64}:\n",
       " 1  2  3\n",
       " 4  5  6"
      ]
     },
     "execution_count": 37,
     "metadata": {},
     "output_type": "execute_result"
    }
   ],
   "source": [
    "matrix"
   ]
  },
  {
   "cell_type": "code",
   "execution_count": 38,
   "metadata": {},
   "outputs": [
    {
     "data": {
      "text/plain": [
       "2-element Vector{Int64}:\n",
       " 2\n",
       " 5"
      ]
     },
     "execution_count": 38,
     "metadata": {},
     "output_type": "execute_result"
    }
   ],
   "source": [
    "matrix[:, 2]"
   ]
  },
  {
   "cell_type": "code",
   "execution_count": 39,
   "metadata": {},
   "outputs": [
    {
     "data": {
      "text/plain": [
       "3-element Vector{Int64}:\n",
       " 1\n",
       " 2\n",
       " 3"
      ]
     },
     "execution_count": 39,
     "metadata": {},
     "output_type": "execute_result"
    }
   ],
   "source": [
    "matrix[1,:]"
   ]
  },
  {
   "cell_type": "code",
   "execution_count": 40,
   "metadata": {},
   "outputs": [
    {
     "data": {
      "text/plain": [
       "2×2 Matrix{Int64}:\n",
       " 1  2\n",
       " 4  5"
      ]
     },
     "execution_count": 40,
     "metadata": {},
     "output_type": "execute_result"
    }
   ],
   "source": [
    "matrix[:, 1:2]"
   ]
  },
  {
   "cell_type": "code",
   "execution_count": 41,
   "metadata": {},
   "outputs": [
    {
     "data": {
      "text/plain": [
       "5×2 Matrix{Int64}:\n",
       " 1  1\n",
       " 2  2\n",
       " 3  3\n",
       " 4  4\n",
       " 5  5"
      ]
     },
     "execution_count": 41,
     "metadata": {},
     "output_type": "execute_result"
    }
   ],
   "source": [
    "[vector vector]"
   ]
  },
  {
   "cell_type": "code",
   "execution_count": 42,
   "metadata": {},
   "outputs": [
    {
     "data": {
      "text/plain": [
       "10-element Vector{Int64}:\n",
       " 1\n",
       " 2\n",
       " 3\n",
       " 4\n",
       " 5\n",
       " 1\n",
       " 2\n",
       " 3\n",
       " 4\n",
       " 5"
      ]
     },
     "execution_count": 42,
     "metadata": {},
     "output_type": "execute_result"
    }
   ],
   "source": [
    "[vector; vector]"
   ]
  },
  {
   "cell_type": "code",
   "execution_count": 43,
   "metadata": {},
   "outputs": [
    {
     "data": {
      "text/plain": [
       "2×6 Matrix{Int64}:\n",
       " 1  2  3  1  2  3\n",
       " 4  5  6  4  5  6"
      ]
     },
     "execution_count": 43,
     "metadata": {},
     "output_type": "execute_result"
    }
   ],
   "source": [
    "[matrix matrix]"
   ]
  },
  {
   "cell_type": "code",
   "execution_count": 44,
   "metadata": {},
   "outputs": [
    {
     "data": {
      "text/plain": [
       "4×3 Matrix{Int64}:\n",
       " 1  2  3\n",
       " 4  5  6\n",
       " 1  2  3\n",
       " 4  5  6"
      ]
     },
     "execution_count": 44,
     "metadata": {},
     "output_type": "execute_result"
    }
   ],
   "source": [
    "[matrix; matrix]"
   ]
  },
  {
   "cell_type": "markdown",
   "metadata": {},
   "source": [
    "# Functions, Multiple Dispatch"
   ]
  },
  {
   "cell_type": "markdown",
   "metadata": {},
   "source": [
    "A typical function has the form\n",
    "```julia\n",
    "function *func_name*(*arg1*, *arg2*, ...)\n",
    "   *body* \n",
    "end\n",
    "```"
   ]
  },
  {
   "cell_type": "code",
   "execution_count": 45,
   "metadata": {},
   "outputs": [
    {
     "data": {
      "text/plain": [
       "biased_sum (generic function with 1 method)"
      ]
     },
     "execution_count": 45,
     "metadata": {},
     "output_type": "execute_result"
    }
   ],
   "source": [
    "function biased_sum(a, b)\n",
    "    a + b + 2\n",
    "end "
   ]
  },
  {
   "cell_type": "code",
   "execution_count": 46,
   "metadata": {},
   "outputs": [
    {
     "data": {
      "text/plain": [
       "7"
      ]
     },
     "execution_count": 46,
     "metadata": {},
     "output_type": "execute_result"
    }
   ],
   "source": [
    "biased_sum(2, 3)"
   ]
  },
  {
   "cell_type": "code",
   "execution_count": 47,
   "metadata": {},
   "outputs": [
    {
     "data": {
      "text/html": [
       "# 1 method for generic function <b>biased_sum</b>:<ul><li> biased_sum(a, b) in Main at In[45]:1</li> </ul>"
      ],
      "text/plain": [
       "# 1 method for generic function \"biased_sum\":\n",
       "[1] biased_sum(a, b) in Main at In[45]:1"
      ]
     },
     "execution_count": 47,
     "metadata": {},
     "output_type": "execute_result"
    }
   ],
   "source": [
    "methods(biased_sum)"
   ]
  },
  {
   "cell_type": "code",
   "execution_count": 48,
   "metadata": {},
   "outputs": [
    {
     "data": {
      "text/plain": [
       "biased_sum (generic function with 2 methods)"
      ]
     },
     "execution_count": 48,
     "metadata": {},
     "output_type": "execute_result"
    }
   ],
   "source": [
    "function biased_sum(a::Integer, b::Integer)\n",
    "    a + b - 3\n",
    "end"
   ]
  },
  {
   "cell_type": "code",
   "execution_count": 49,
   "metadata": {},
   "outputs": [
    {
     "data": {
      "text/plain": [
       "2"
      ]
     },
     "execution_count": 49,
     "metadata": {},
     "output_type": "execute_result"
    }
   ],
   "source": [
    "biased_sum(2, 3)"
   ]
  },
  {
   "cell_type": "code",
   "execution_count": 50,
   "metadata": {},
   "outputs": [
    {
     "data": {
      "text/plain": [
       "9.0"
      ]
     },
     "execution_count": 50,
     "metadata": {},
     "output_type": "execute_result"
    }
   ],
   "source": [
    "biased_sum(5.0, 2.0)"
   ]
  },
  {
   "cell_type": "code",
   "execution_count": 51,
   "metadata": {},
   "outputs": [
    {
     "data": {
      "text/html": [
       "# 2 methods for generic function <b>biased_sum</b>:<ul><li> biased_sum(a::<b>Integer</b>, b::<b>Integer</b>) in Main at In[48]:1</li> <li> biased_sum(a, b) in Main at In[45]:1</li> </ul>"
      ],
      "text/plain": [
       "# 2 methods for generic function \"biased_sum\":\n",
       "[1] biased_sum(a::Integer, b::Integer) in Main at In[48]:1\n",
       "[2] biased_sum(a, b) in Main at In[45]:1"
      ]
     },
     "execution_count": 51,
     "metadata": {},
     "output_type": "execute_result"
    }
   ],
   "source": [
    "methods(biased_sum)"
   ]
  },
  {
   "cell_type": "code",
   "execution_count": 52,
   "metadata": {},
   "outputs": [
    {
     "data": {
      "text/plain": [
       "biased_sum (generic function with 3 methods)"
      ]
     },
     "execution_count": 52,
     "metadata": {},
     "output_type": "execute_result"
    }
   ],
   "source": [
    "biased_sum(a::Complex, b) = a + b - 2im"
   ]
  },
  {
   "cell_type": "code",
   "execution_count": 53,
   "metadata": {},
   "outputs": [
    {
     "data": {
      "text/plain": [
       "4 + 1im"
      ]
     },
     "execution_count": 53,
     "metadata": {},
     "output_type": "execute_result"
    }
   ],
   "source": [
    "biased_sum(2+3im, 2)"
   ]
  },
  {
   "cell_type": "code",
   "execution_count": null,
   "metadata": {},
   "outputs": [],
   "source": [
    "# Keyword arguments"
   ]
  },
  {
   "cell_type": "code",
   "execution_count": 54,
   "metadata": {},
   "outputs": [
    {
     "data": {
      "text/plain": [
       "biased_pow (generic function with 1 method)"
      ]
     },
     "execution_count": 54,
     "metadata": {},
     "output_type": "execute_result"
    }
   ],
   "source": [
    "function biased_pow(a, b; bias::Bool = true)\n",
    "    if bias\n",
    "        a^b - 3\n",
    "    else\n",
    "        a^b\n",
    "    end\n",
    "end"
   ]
  },
  {
   "cell_type": "code",
   "execution_count": 55,
   "metadata": {},
   "outputs": [
    {
     "data": {
      "text/plain": [
       "5"
      ]
     },
     "execution_count": 55,
     "metadata": {},
     "output_type": "execute_result"
    }
   ],
   "source": [
    "biased_pow(2, 3)"
   ]
  },
  {
   "cell_type": "code",
   "execution_count": 56,
   "metadata": {},
   "outputs": [
    {
     "data": {
      "text/plain": [
       "8"
      ]
     },
     "execution_count": 56,
     "metadata": {},
     "output_type": "execute_result"
    }
   ],
   "source": [
    "biased_pow(2, 3; bias = false)"
   ]
  },
  {
   "cell_type": "code",
   "execution_count": 57,
   "metadata": {},
   "outputs": [
    {
     "data": {
      "text/plain": [
       "5"
      ]
     },
     "execution_count": 57,
     "metadata": {},
     "output_type": "execute_result"
    }
   ],
   "source": [
    "biased_pow(2, 3; bias = true)"
   ]
  },
  {
   "cell_type": "markdown",
   "metadata": {},
   "source": [
    "# Linear Algebra"
   ]
  },
  {
   "cell_type": "code",
   "execution_count": 59,
   "metadata": {},
   "outputs": [],
   "source": [
    "using LinearAlgebra"
   ]
  },
  {
   "cell_type": "code",
   "execution_count": 60,
   "metadata": {},
   "outputs": [
    {
     "data": {
      "text/plain": [
       "3×3 Matrix{Int64}:\n",
       " 1  2  3\n",
       " 2  3  5\n",
       " 1  0  4"
      ]
     },
     "execution_count": 60,
     "metadata": {},
     "output_type": "execute_result"
    }
   ],
   "source": [
    "b = [1; 2; 1]\n",
    "A = [1 2 3; 2 3 5; 1 0 4]"
   ]
  },
  {
   "cell_type": "code",
   "execution_count": 61,
   "metadata": {},
   "outputs": [
    {
     "data": {
      "text/plain": [
       "6"
      ]
     },
     "execution_count": 61,
     "metadata": {},
     "output_type": "execute_result"
    }
   ],
   "source": [
    "dot(b, b)"
   ]
  },
  {
   "cell_type": "code",
   "execution_count": 62,
   "metadata": {},
   "outputs": [
    {
     "data": {
      "text/plain": [
       "6"
      ]
     },
     "execution_count": 62,
     "metadata": {},
     "output_type": "execute_result"
    }
   ],
   "source": [
    "b ⋅ b "
   ]
  },
  {
   "cell_type": "code",
   "execution_count": 63,
   "metadata": {},
   "outputs": [
    {
     "data": {
      "text/plain": [
       "-3.0"
      ]
     },
     "execution_count": 63,
     "metadata": {},
     "output_type": "execute_result"
    }
   ],
   "source": [
    "det(A)"
   ]
  },
  {
   "cell_type": "code",
   "execution_count": 64,
   "metadata": {},
   "outputs": [
    {
     "data": {
      "text/plain": [
       "3-element Vector{Int64}:\n",
       " -3\n",
       "  2\n",
       " -1"
      ]
     },
     "execution_count": 64,
     "metadata": {},
     "output_type": "execute_result"
    }
   ],
   "source": [
    "cross(b, A[:,2])"
   ]
  },
  {
   "cell_type": "code",
   "execution_count": 65,
   "metadata": {},
   "outputs": [
    {
     "data": {
      "text/plain": [
       "3-element Vector{Int64}:\n",
       " -3\n",
       "  2\n",
       " -1"
      ]
     },
     "execution_count": 65,
     "metadata": {},
     "output_type": "execute_result"
    }
   ],
   "source": [
    "v = b × A[:,2]"
   ]
  },
  {
   "cell_type": "code",
   "execution_count": 66,
   "metadata": {},
   "outputs": [
    {
     "data": {
      "text/plain": [
       "0"
      ]
     },
     "execution_count": 66,
     "metadata": {},
     "output_type": "execute_result"
    }
   ],
   "source": [
    "v ⋅ b"
   ]
  },
  {
   "cell_type": "code",
   "execution_count": 67,
   "metadata": {},
   "outputs": [
    {
     "data": {
      "text/plain": [
       "3-element Vector{Float64}:\n",
       "  1.0\n",
       " -0.0\n",
       "  0.0"
      ]
     },
     "execution_count": 67,
     "metadata": {},
     "output_type": "execute_result"
    }
   ],
   "source": [
    "w = A\\b"
   ]
  },
  {
   "cell_type": "code",
   "execution_count": 68,
   "metadata": {},
   "outputs": [
    {
     "data": {
      "text/plain": [
       "3-element Vector{Float64}:\n",
       " 0.0\n",
       " 0.0\n",
       " 0.0"
      ]
     },
     "execution_count": 68,
     "metadata": {},
     "output_type": "execute_result"
    }
   ],
   "source": [
    "b - A*w"
   ]
  },
  {
   "cell_type": "markdown",
   "metadata": {},
   "source": [
    "# Statistics"
   ]
  },
  {
   "cell_type": "code",
   "execution_count": 69,
   "metadata": {},
   "outputs": [
    {
     "name": "stderr",
     "output_type": "stream",
     "text": [
      "┌ Info: Precompiling Plots [91a5bcdd-55d7-5caf-9e0b-520d859cae80]\n",
      "└ @ Base loading.jl:1664\n",
      "WARNING: method definition for transpose at /Users/sfairchild/.julia/packages/StaticArrays/12k3X/src/matrix_multiply_add.jl:196 declares type variable T but does not use it.\n",
      "WARNING: method definition for transpose at /Users/sfairchild/.julia/packages/StaticArrays/12k3X/src/matrix_multiply_add.jl:197 declares type variable T but does not use it.\n",
      "WARNING: method definition for centered at /Users/sfairchild/.julia/packages/GeometryBasics/3PqdK/src/primitives/rectangles.jl:515 declares type variable N but does not use it.\n",
      "WARNING: method definition for volume at /Users/sfairchild/.julia/packages/GeometryBasics/3PqdK/src/meshes.jl:209 declares type variable FT but does not use it.\n",
      "WARNING: method definition for volume at /Users/sfairchild/.julia/packages/GeometryBasics/3PqdK/src/meshes.jl:209 declares type variable VT but does not use it.\n",
      "WARNING: method definition for volume at /Users/sfairchild/.julia/packages/GeometryBasics/3PqdK/src/meshes.jl:221 declares type variable FT but does not use it.\n",
      "WARNING: method definition for volume at /Users/sfairchild/.julia/packages/GeometryBasics/3PqdK/src/meshes.jl:221 declares type variable VT but does not use it.\n",
      "WARNING: method definition for == at /Users/sfairchild/.julia/packages/ChainRulesCore/RbX5a/src/tangent_types/tangent.jl:68 declares type variable T but does not use it.\n",
      "WARNING: method definition for getindex at /Users/sfairchild/.julia/packages/ChainRulesCore/RbX5a/src/tangent_types/tangent.jl:96 declares type variable T but does not use it.\n",
      "WARNING: method definition for getindex at /Users/sfairchild/.julia/packages/ChainRulesCore/RbX5a/src/tangent_types/tangent.jl:96 declares type variable P but does not use it.\n",
      "WARNING: method definition for canonicalize at /Users/sfairchild/.julia/packages/ChainRulesCore/RbX5a/src/tangent_types/tangent.jl:215 declares type variable L but does not use it.\n",
      "WARNING: method definition for canonicalize at /Users/sfairchild/.julia/packages/ChainRulesCore/RbX5a/src/tangent_types/tangent.jl:216 declares type variable L but does not use it.\n"
     ]
    }
   ],
   "source": [
    "using Statistics, Plots"
   ]
  },
  {
   "cell_type": "code",
   "execution_count": 71,
   "metadata": {},
   "outputs": [
    {
     "data": {
      "image/svg+xml": [
       "<?xml version=\"1.0\" encoding=\"utf-8\"?>\n",
       "<svg xmlns=\"http://www.w3.org/2000/svg\" xmlns:xlink=\"http://www.w3.org/1999/xlink\" width=\"600\" height=\"400\" viewBox=\"0 0 2400 1600\">\n",
       "<defs>\n",
       "  <clipPath id=\"clip200\">\n",
       "    <rect x=\"0\" y=\"0\" width=\"2400\" height=\"1600\"/>\n",
       "  </clipPath>\n",
       "</defs>\n",
       "<path clip-path=\"url(#clip200)\" d=\"\n",
       "M0 1600 L2400 1600 L2400 0 L0 0  Z\n",
       "  \" fill=\"#ffffff\" fill-rule=\"evenodd\" fill-opacity=\"1\"/>\n",
       "<defs>\n",
       "  <clipPath id=\"clip201\">\n",
       "    <rect x=\"480\" y=\"0\" width=\"1681\" height=\"1600\"/>\n",
       "  </clipPath>\n",
       "</defs>\n",
       "<path clip-path=\"url(#clip200)\" d=\"\n",
       "M156.598 1486.45 L2352.76 1486.45 L2352.76 47.2441 L156.598 47.2441  Z\n",
       "  \" fill=\"#ffffff\" fill-rule=\"evenodd\" fill-opacity=\"1\"/>\n",
       "<defs>\n",
       "  <clipPath id=\"clip202\">\n",
       "    <rect x=\"156\" y=\"47\" width=\"2197\" height=\"1440\"/>\n",
       "  </clipPath>\n",
       "</defs>\n",
       "<polyline clip-path=\"url(#clip202)\" style=\"stroke:#000000; stroke-linecap:butt; stroke-linejoin:round; stroke-width:2; stroke-opacity:0.1; fill:none\" points=\"\n",
       "  425.464,1486.45 425.464,47.2441 \n",
       "  \"/>\n",
       "<polyline clip-path=\"url(#clip202)\" style=\"stroke:#000000; stroke-linecap:butt; stroke-linejoin:round; stroke-width:2; stroke-opacity:0.1; fill:none\" points=\"\n",
       "  721.612,1486.45 721.612,47.2441 \n",
       "  \"/>\n",
       "<polyline clip-path=\"url(#clip202)\" style=\"stroke:#000000; stroke-linecap:butt; stroke-linejoin:round; stroke-width:2; stroke-opacity:0.1; fill:none\" points=\"\n",
       "  1017.76,1486.45 1017.76,47.2441 \n",
       "  \"/>\n",
       "<polyline clip-path=\"url(#clip202)\" style=\"stroke:#000000; stroke-linecap:butt; stroke-linejoin:round; stroke-width:2; stroke-opacity:0.1; fill:none\" points=\"\n",
       "  1313.91,1486.45 1313.91,47.2441 \n",
       "  \"/>\n",
       "<polyline clip-path=\"url(#clip202)\" style=\"stroke:#000000; stroke-linecap:butt; stroke-linejoin:round; stroke-width:2; stroke-opacity:0.1; fill:none\" points=\"\n",
       "  1610.05,1486.45 1610.05,47.2441 \n",
       "  \"/>\n",
       "<polyline clip-path=\"url(#clip202)\" style=\"stroke:#000000; stroke-linecap:butt; stroke-linejoin:round; stroke-width:2; stroke-opacity:0.1; fill:none\" points=\"\n",
       "  1906.2,1486.45 1906.2,47.2441 \n",
       "  \"/>\n",
       "<polyline clip-path=\"url(#clip202)\" style=\"stroke:#000000; stroke-linecap:butt; stroke-linejoin:round; stroke-width:2; stroke-opacity:0.1; fill:none\" points=\"\n",
       "  2202.35,1486.45 2202.35,47.2441 \n",
       "  \"/>\n",
       "<polyline clip-path=\"url(#clip200)\" style=\"stroke:#000000; stroke-linecap:butt; stroke-linejoin:round; stroke-width:4; stroke-opacity:1; fill:none\" points=\"\n",
       "  156.598,1486.45 2352.76,1486.45 \n",
       "  \"/>\n",
       "<polyline clip-path=\"url(#clip200)\" style=\"stroke:#000000; stroke-linecap:butt; stroke-linejoin:round; stroke-width:4; stroke-opacity:1; fill:none\" points=\"\n",
       "  425.464,1486.45 425.464,1467.55 \n",
       "  \"/>\n",
       "<polyline clip-path=\"url(#clip200)\" style=\"stroke:#000000; stroke-linecap:butt; stroke-linejoin:round; stroke-width:4; stroke-opacity:1; fill:none\" points=\"\n",
       "  721.612,1486.45 721.612,1467.55 \n",
       "  \"/>\n",
       "<polyline clip-path=\"url(#clip200)\" style=\"stroke:#000000; stroke-linecap:butt; stroke-linejoin:round; stroke-width:4; stroke-opacity:1; fill:none\" points=\"\n",
       "  1017.76,1486.45 1017.76,1467.55 \n",
       "  \"/>\n",
       "<polyline clip-path=\"url(#clip200)\" style=\"stroke:#000000; stroke-linecap:butt; stroke-linejoin:round; stroke-width:4; stroke-opacity:1; fill:none\" points=\"\n",
       "  1313.91,1486.45 1313.91,1467.55 \n",
       "  \"/>\n",
       "<polyline clip-path=\"url(#clip200)\" style=\"stroke:#000000; stroke-linecap:butt; stroke-linejoin:round; stroke-width:4; stroke-opacity:1; fill:none\" points=\"\n",
       "  1610.05,1486.45 1610.05,1467.55 \n",
       "  \"/>\n",
       "<polyline clip-path=\"url(#clip200)\" style=\"stroke:#000000; stroke-linecap:butt; stroke-linejoin:round; stroke-width:4; stroke-opacity:1; fill:none\" points=\"\n",
       "  1906.2,1486.45 1906.2,1467.55 \n",
       "  \"/>\n",
       "<polyline clip-path=\"url(#clip200)\" style=\"stroke:#000000; stroke-linecap:butt; stroke-linejoin:round; stroke-width:4; stroke-opacity:1; fill:none\" points=\"\n",
       "  2202.35,1486.45 2202.35,1467.55 \n",
       "  \"/>\n",
       "<path clip-path=\"url(#clip200)\" d=\"M394.932 1532.02 L424.608 1532.02 L424.608 1535.95 L394.932 1535.95 L394.932 1532.02 Z\" fill=\"#000000\" fill-rule=\"evenodd\" fill-opacity=\"1\" /><path clip-path=\"url(#clip200)\" d=\"M448.867 1530.21 Q452.224 1530.93 454.099 1533.2 Q455.997 1535.47 455.997 1538.8 Q455.997 1543.92 452.478 1546.72 Q448.96 1549.52 442.478 1549.52 Q440.302 1549.52 437.988 1549.08 Q435.696 1548.66 433.242 1547.81 L433.242 1543.29 Q435.187 1544.43 437.501 1545.01 Q439.816 1545.58 442.339 1545.58 Q446.738 1545.58 449.029 1543.85 Q451.344 1542.11 451.344 1538.8 Q451.344 1535.75 449.191 1534.03 Q447.062 1532.3 443.242 1532.3 L439.214 1532.3 L439.214 1528.45 L443.427 1528.45 Q446.876 1528.45 448.705 1527.09 Q450.534 1525.7 450.534 1523.11 Q450.534 1520.45 448.636 1519.03 Q446.761 1517.6 443.242 1517.6 Q441.321 1517.6 439.122 1518.01 Q436.923 1518.43 434.284 1519.31 L434.284 1515.14 Q436.946 1514.4 439.261 1514.03 Q441.599 1513.66 443.659 1513.66 Q448.983 1513.66 452.085 1516.09 Q455.187 1518.5 455.187 1522.62 Q455.187 1525.49 453.543 1527.48 Q451.9 1529.45 448.867 1530.21 Z\" fill=\"#000000\" fill-rule=\"evenodd\" fill-opacity=\"1\" /><path clip-path=\"url(#clip200)\" d=\"M691.554 1532.02 L721.23 1532.02 L721.23 1535.95 L691.554 1535.95 L691.554 1532.02 Z\" fill=\"#000000\" fill-rule=\"evenodd\" fill-opacity=\"1\" /><path clip-path=\"url(#clip200)\" d=\"M735.35 1544.91 L751.67 1544.91 L751.67 1548.85 L729.725 1548.85 L729.725 1544.91 Q732.387 1542.16 736.971 1537.53 Q741.577 1532.88 742.758 1531.53 Q745.003 1529.01 745.883 1527.27 Q746.785 1525.51 746.785 1523.82 Q746.785 1521.07 744.841 1519.33 Q742.92 1517.6 739.818 1517.6 Q737.619 1517.6 735.165 1518.36 Q732.734 1519.13 729.957 1520.68 L729.957 1515.95 Q732.781 1514.82 735.234 1514.24 Q737.688 1513.66 739.725 1513.66 Q745.096 1513.66 748.29 1516.35 Q751.484 1519.03 751.484 1523.52 Q751.484 1525.65 750.674 1527.57 Q749.887 1529.47 747.781 1532.07 Q747.202 1532.74 744.1 1535.95 Q740.998 1539.15 735.35 1544.91 Z\" fill=\"#000000\" fill-rule=\"evenodd\" fill-opacity=\"1\" /><path clip-path=\"url(#clip200)\" d=\"M987.516 1532.02 L1017.19 1532.02 L1017.19 1535.95 L987.516 1535.95 L987.516 1532.02 Z\" fill=\"#000000\" fill-rule=\"evenodd\" fill-opacity=\"1\" /><path clip-path=\"url(#clip200)\" d=\"M1028.09 1544.91 L1035.73 1544.91 L1035.73 1518.55 L1027.42 1520.21 L1027.42 1515.95 L1035.69 1514.29 L1040.36 1514.29 L1040.36 1544.91 L1048 1544.91 L1048 1548.85 L1028.09 1548.85 L1028.09 1544.91 Z\" fill=\"#000000\" fill-rule=\"evenodd\" fill-opacity=\"1\" /><path clip-path=\"url(#clip200)\" d=\"M1313.91 1517.37 Q1310.3 1517.37 1308.47 1520.93 Q1306.66 1524.47 1306.66 1531.6 Q1306.66 1538.71 1308.47 1542.27 Q1310.3 1545.82 1313.91 1545.82 Q1317.54 1545.82 1319.35 1542.27 Q1321.18 1538.71 1321.18 1531.6 Q1321.18 1524.47 1319.35 1520.93 Q1317.54 1517.37 1313.91 1517.37 M1313.91 1513.66 Q1319.72 1513.66 1322.77 1518.27 Q1325.85 1522.85 1325.85 1531.6 Q1325.85 1540.33 1322.77 1544.94 Q1319.72 1549.52 1313.91 1549.52 Q1308.1 1549.52 1305.02 1544.94 Q1301.96 1540.33 1301.96 1531.6 Q1301.96 1522.85 1305.02 1518.27 Q1308.1 1513.66 1313.91 1513.66 Z\" fill=\"#000000\" fill-rule=\"evenodd\" fill-opacity=\"1\" /><path clip-path=\"url(#clip200)\" d=\"M1600.44 1544.91 L1608.07 1544.91 L1608.07 1518.55 L1599.76 1520.21 L1599.76 1515.95 L1608.03 1514.29 L1612.7 1514.29 L1612.7 1544.91 L1620.34 1544.91 L1620.34 1548.85 L1600.44 1548.85 L1600.44 1544.91 Z\" fill=\"#000000\" fill-rule=\"evenodd\" fill-opacity=\"1\" /><path clip-path=\"url(#clip200)\" d=\"M1900.85 1544.91 L1917.17 1544.91 L1917.17 1548.85 L1895.23 1548.85 L1895.23 1544.91 Q1897.89 1542.16 1902.47 1537.53 Q1907.08 1532.88 1908.26 1531.53 Q1910.51 1529.01 1911.39 1527.27 Q1912.29 1525.51 1912.29 1523.82 Q1912.29 1521.07 1910.34 1519.33 Q1908.42 1517.6 1905.32 1517.6 Q1903.12 1517.6 1900.67 1518.36 Q1898.24 1519.13 1895.46 1520.68 L1895.46 1515.95 Q1898.28 1514.82 1900.74 1514.24 Q1903.19 1513.66 1905.23 1513.66 Q1910.6 1513.66 1913.79 1516.35 Q1916.99 1519.03 1916.99 1523.52 Q1916.99 1525.65 1916.18 1527.57 Q1915.39 1529.47 1913.28 1532.07 Q1912.71 1532.74 1909.6 1535.95 Q1906.5 1539.15 1900.85 1544.91 Z\" fill=\"#000000\" fill-rule=\"evenodd\" fill-opacity=\"1\" /><path clip-path=\"url(#clip200)\" d=\"M2206.6 1530.21 Q2209.95 1530.93 2211.83 1533.2 Q2213.73 1535.47 2213.73 1538.8 Q2213.73 1543.92 2210.21 1546.72 Q2206.69 1549.52 2200.21 1549.52 Q2198.03 1549.52 2195.72 1549.08 Q2193.43 1548.66 2190.97 1547.81 L2190.97 1543.29 Q2192.92 1544.43 2195.23 1545.01 Q2197.55 1545.58 2200.07 1545.58 Q2204.47 1545.58 2206.76 1543.85 Q2209.07 1542.11 2209.07 1538.8 Q2209.07 1535.75 2206.92 1534.03 Q2204.79 1532.3 2200.97 1532.3 L2196.94 1532.3 L2196.94 1528.45 L2201.16 1528.45 Q2204.61 1528.45 2206.43 1527.09 Q2208.26 1525.7 2208.26 1523.11 Q2208.26 1520.45 2206.36 1519.03 Q2204.49 1517.6 2200.97 1517.6 Q2199.05 1517.6 2196.85 1518.01 Q2194.65 1518.43 2192.01 1519.31 L2192.01 1515.14 Q2194.68 1514.4 2196.99 1514.03 Q2199.33 1513.66 2201.39 1513.66 Q2206.71 1513.66 2209.81 1516.09 Q2212.92 1518.5 2212.92 1522.62 Q2212.92 1525.49 2211.27 1527.48 Q2209.63 1529.45 2206.6 1530.21 Z\" fill=\"#000000\" fill-rule=\"evenodd\" fill-opacity=\"1\" /><polyline clip-path=\"url(#clip202)\" style=\"stroke:#000000; stroke-linecap:butt; stroke-linejoin:round; stroke-width:2; stroke-opacity:0.1; fill:none\" points=\"\n",
       "  156.598,1445.72 2352.76,1445.72 \n",
       "  \"/>\n",
       "<polyline clip-path=\"url(#clip202)\" style=\"stroke:#000000; stroke-linecap:butt; stroke-linejoin:round; stroke-width:2; stroke-opacity:0.1; fill:none\" points=\"\n",
       "  156.598,1131.42 2352.76,1131.42 \n",
       "  \"/>\n",
       "<polyline clip-path=\"url(#clip202)\" style=\"stroke:#000000; stroke-linecap:butt; stroke-linejoin:round; stroke-width:2; stroke-opacity:0.1; fill:none\" points=\"\n",
       "  156.598,817.133 2352.76,817.133 \n",
       "  \"/>\n",
       "<polyline clip-path=\"url(#clip202)\" style=\"stroke:#000000; stroke-linecap:butt; stroke-linejoin:round; stroke-width:2; stroke-opacity:0.1; fill:none\" points=\"\n",
       "  156.598,502.841 2352.76,502.841 \n",
       "  \"/>\n",
       "<polyline clip-path=\"url(#clip202)\" style=\"stroke:#000000; stroke-linecap:butt; stroke-linejoin:round; stroke-width:2; stroke-opacity:0.1; fill:none\" points=\"\n",
       "  156.598,188.55 2352.76,188.55 \n",
       "  \"/>\n",
       "<polyline clip-path=\"url(#clip200)\" style=\"stroke:#000000; stroke-linecap:butt; stroke-linejoin:round; stroke-width:4; stroke-opacity:1; fill:none\" points=\"\n",
       "  156.598,1486.45 156.598,47.2441 \n",
       "  \"/>\n",
       "<polyline clip-path=\"url(#clip200)\" style=\"stroke:#000000; stroke-linecap:butt; stroke-linejoin:round; stroke-width:4; stroke-opacity:1; fill:none\" points=\"\n",
       "  156.598,1445.72 175.496,1445.72 \n",
       "  \"/>\n",
       "<polyline clip-path=\"url(#clip200)\" style=\"stroke:#000000; stroke-linecap:butt; stroke-linejoin:round; stroke-width:4; stroke-opacity:1; fill:none\" points=\"\n",
       "  156.598,1131.42 175.496,1131.42 \n",
       "  \"/>\n",
       "<polyline clip-path=\"url(#clip200)\" style=\"stroke:#000000; stroke-linecap:butt; stroke-linejoin:round; stroke-width:4; stroke-opacity:1; fill:none\" points=\"\n",
       "  156.598,817.133 175.496,817.133 \n",
       "  \"/>\n",
       "<polyline clip-path=\"url(#clip200)\" style=\"stroke:#000000; stroke-linecap:butt; stroke-linejoin:round; stroke-width:4; stroke-opacity:1; fill:none\" points=\"\n",
       "  156.598,502.841 175.496,502.841 \n",
       "  \"/>\n",
       "<polyline clip-path=\"url(#clip200)\" style=\"stroke:#000000; stroke-linecap:butt; stroke-linejoin:round; stroke-width:4; stroke-opacity:1; fill:none\" points=\"\n",
       "  156.598,188.55 175.496,188.55 \n",
       "  \"/>\n",
       "<path clip-path=\"url(#clip200)\" d=\"M63.4226 1431.51 Q59.8115 1431.51 57.9828 1435.08 Q56.1773 1438.62 56.1773 1445.75 Q56.1773 1452.86 57.9828 1456.42 Q59.8115 1459.96 63.4226 1459.96 Q67.0569 1459.96 68.8624 1456.42 Q70.6911 1452.86 70.6911 1445.75 Q70.6911 1438.62 68.8624 1435.08 Q67.0569 1431.51 63.4226 1431.51 M63.4226 1427.81 Q69.2328 1427.81 72.2883 1432.42 Q75.367 1437 75.367 1445.75 Q75.367 1454.48 72.2883 1459.08 Q69.2328 1463.67 63.4226 1463.67 Q57.6125 1463.67 54.5338 1459.08 Q51.4782 1454.48 51.4782 1445.75 Q51.4782 1437 54.5338 1432.42 Q57.6125 1427.81 63.4226 1427.81 Z\" fill=\"#000000\" fill-rule=\"evenodd\" fill-opacity=\"1\" /><path clip-path=\"url(#clip200)\" d=\"M83.5845 1457.12 L88.4688 1457.12 L88.4688 1463 L83.5845 1463 L83.5845 1457.12 Z\" fill=\"#000000\" fill-rule=\"evenodd\" fill-opacity=\"1\" /><path clip-path=\"url(#clip200)\" d=\"M108.654 1431.51 Q105.043 1431.51 103.214 1435.08 Q101.409 1438.62 101.409 1445.75 Q101.409 1452.86 103.214 1456.42 Q105.043 1459.96 108.654 1459.96 Q112.288 1459.96 114.094 1456.42 Q115.922 1452.86 115.922 1445.75 Q115.922 1438.62 114.094 1435.08 Q112.288 1431.51 108.654 1431.51 M108.654 1427.81 Q114.464 1427.81 117.52 1432.42 Q120.598 1437 120.598 1445.75 Q120.598 1454.48 117.52 1459.08 Q114.464 1463.67 108.654 1463.67 Q102.844 1463.67 99.765 1459.08 Q96.7095 1454.48 96.7095 1445.75 Q96.7095 1437 99.765 1432.42 Q102.844 1427.81 108.654 1427.81 Z\" fill=\"#000000\" fill-rule=\"evenodd\" fill-opacity=\"1\" /><path clip-path=\"url(#clip200)\" d=\"M64.6495 1117.22 Q61.0384 1117.22 59.2097 1120.79 Q57.4041 1124.33 57.4041 1131.46 Q57.4041 1138.57 59.2097 1142.13 Q61.0384 1145.67 64.6495 1145.67 Q68.2837 1145.67 70.0892 1142.13 Q71.9179 1138.57 71.9179 1131.46 Q71.9179 1124.33 70.0892 1120.79 Q68.2837 1117.22 64.6495 1117.22 M64.6495 1113.52 Q70.4596 1113.52 73.5152 1118.13 Q76.5938 1122.71 76.5938 1131.46 Q76.5938 1140.19 73.5152 1144.79 Q70.4596 1149.38 64.6495 1149.38 Q58.8393 1149.38 55.7606 1144.79 Q52.7051 1140.19 52.7051 1131.46 Q52.7051 1122.71 55.7606 1118.13 Q58.8393 1113.52 64.6495 1113.52 Z\" fill=\"#000000\" fill-rule=\"evenodd\" fill-opacity=\"1\" /><path clip-path=\"url(#clip200)\" d=\"M84.8114 1142.82 L89.6956 1142.82 L89.6956 1148.7 L84.8114 1148.7 L84.8114 1142.82 Z\" fill=\"#000000\" fill-rule=\"evenodd\" fill-opacity=\"1\" /><path clip-path=\"url(#clip200)\" d=\"M100.691 1144.77 L108.33 1144.77 L108.33 1118.4 L100.02 1120.07 L100.02 1115.81 L108.283 1114.14 L112.959 1114.14 L112.959 1144.77 L120.598 1144.77 L120.598 1148.7 L100.691 1148.7 L100.691 1144.77 Z\" fill=\"#000000\" fill-rule=\"evenodd\" fill-opacity=\"1\" /><path clip-path=\"url(#clip200)\" d=\"M65.0198 802.931 Q61.4087 802.931 59.58 806.496 Q57.7745 810.038 57.7745 817.167 Q57.7745 824.274 59.58 827.839 Q61.4087 831.38 65.0198 831.38 Q68.6541 831.38 70.4596 827.839 Q72.2883 824.274 72.2883 817.167 Q72.2883 810.038 70.4596 806.496 Q68.6541 802.931 65.0198 802.931 M65.0198 799.228 Q70.83 799.228 73.8855 803.834 Q76.9642 808.417 76.9642 817.167 Q76.9642 825.894 73.8855 830.501 Q70.83 835.084 65.0198 835.084 Q59.2097 835.084 56.131 830.501 Q53.0754 825.894 53.0754 817.167 Q53.0754 808.417 56.131 803.834 Q59.2097 799.228 65.0198 799.228 Z\" fill=\"#000000\" fill-rule=\"evenodd\" fill-opacity=\"1\" /><path clip-path=\"url(#clip200)\" d=\"M85.1818 828.533 L90.066 828.533 L90.066 834.413 L85.1818 834.413 L85.1818 828.533 Z\" fill=\"#000000\" fill-rule=\"evenodd\" fill-opacity=\"1\" /><path clip-path=\"url(#clip200)\" d=\"M104.279 830.477 L120.598 830.477 L120.598 834.413 L98.6539 834.413 L98.6539 830.477 Q101.316 827.723 105.899 823.093 Q110.506 818.44 111.686 817.098 Q113.932 814.575 114.811 812.839 Q115.714 811.079 115.714 809.39 Q115.714 806.635 113.77 804.899 Q111.848 803.163 108.746 803.163 Q106.547 803.163 104.094 803.927 Q101.663 804.691 98.8854 806.241 L98.8854 801.519 Q101.709 800.385 104.163 799.806 Q106.617 799.228 108.654 799.228 Q114.024 799.228 117.219 801.913 Q120.413 804.598 120.413 809.089 Q120.413 811.218 119.603 813.14 Q118.816 815.038 116.709 817.63 Q116.131 818.302 113.029 821.519 Q109.927 824.714 104.279 830.477 Z\" fill=\"#000000\" fill-rule=\"evenodd\" fill-opacity=\"1\" /><path clip-path=\"url(#clip200)\" d=\"M64.0708 488.64 Q60.4597 488.64 58.631 492.205 Q56.8254 495.746 56.8254 502.876 Q56.8254 509.982 58.631 513.547 Q60.4597 517.089 64.0708 517.089 Q67.705 517.089 69.5105 513.547 Q71.3392 509.982 71.3392 502.876 Q71.3392 495.746 69.5105 492.205 Q67.705 488.64 64.0708 488.64 M64.0708 484.936 Q69.8809 484.936 72.9365 489.543 Q76.0151 494.126 76.0151 502.876 Q76.0151 511.603 72.9365 516.209 Q69.8809 520.792 64.0708 520.792 Q58.2606 520.792 55.1819 516.209 Q52.1264 511.603 52.1264 502.876 Q52.1264 494.126 55.1819 489.543 Q58.2606 484.936 64.0708 484.936 Z\" fill=\"#000000\" fill-rule=\"evenodd\" fill-opacity=\"1\" /><path clip-path=\"url(#clip200)\" d=\"M84.2327 514.241 L89.1169 514.241 L89.1169 520.121 L84.2327 520.121 L84.2327 514.241 Z\" fill=\"#000000\" fill-rule=\"evenodd\" fill-opacity=\"1\" /><path clip-path=\"url(#clip200)\" d=\"M113.469 501.487 Q116.825 502.205 118.7 504.473 Q120.598 506.742 120.598 510.075 Q120.598 515.191 117.08 517.991 Q113.561 520.792 107.08 520.792 Q104.904 520.792 102.589 520.353 Q100.297 519.936 97.8437 519.079 L97.8437 514.566 Q99.7882 515.7 102.103 516.279 Q104.418 516.857 106.941 516.857 Q111.339 516.857 113.631 515.121 Q115.945 513.385 115.945 510.075 Q115.945 507.019 113.793 505.306 Q111.663 503.57 107.844 503.57 L103.816 503.57 L103.816 499.728 L108.029 499.728 Q111.478 499.728 113.307 498.362 Q115.135 496.973 115.135 494.38 Q115.135 491.718 113.237 490.306 Q111.362 488.871 107.844 488.871 Q105.922 488.871 103.723 489.288 Q101.524 489.705 98.8854 490.584 L98.8854 486.418 Q101.547 485.677 103.862 485.306 Q106.2 484.936 108.26 484.936 Q113.584 484.936 116.686 487.367 Q119.788 489.774 119.788 493.894 Q119.788 496.765 118.145 498.755 Q116.501 500.723 113.469 501.487 Z\" fill=\"#000000\" fill-rule=\"evenodd\" fill-opacity=\"1\" /><path clip-path=\"url(#clip200)\" d=\"M62.9365 174.348 Q59.3254 174.348 57.4967 177.913 Q55.6912 181.455 55.6912 188.584 Q55.6912 195.691 57.4967 199.256 Q59.3254 202.797 62.9365 202.797 Q66.5707 202.797 68.3763 199.256 Q70.205 195.691 70.205 188.584 Q70.205 181.455 68.3763 177.913 Q66.5707 174.348 62.9365 174.348 M62.9365 170.645 Q68.7467 170.645 71.8022 175.251 Q74.8809 179.834 74.8809 188.584 Q74.8809 197.311 71.8022 201.918 Q68.7467 206.501 62.9365 206.501 Q57.1264 206.501 54.0477 201.918 Q50.9921 197.311 50.9921 188.584 Q50.9921 179.834 54.0477 175.251 Q57.1264 170.645 62.9365 170.645 Z\" fill=\"#000000\" fill-rule=\"evenodd\" fill-opacity=\"1\" /><path clip-path=\"url(#clip200)\" d=\"M83.0984 199.95 L87.9827 199.95 L87.9827 205.83 L83.0984 205.83 L83.0984 199.95 Z\" fill=\"#000000\" fill-rule=\"evenodd\" fill-opacity=\"1\" /><path clip-path=\"url(#clip200)\" d=\"M111.015 175.344 L99.2095 193.793 L111.015 193.793 L111.015 175.344 M109.788 171.27 L115.668 171.27 L115.668 193.793 L120.598 193.793 L120.598 197.681 L115.668 197.681 L115.668 205.83 L111.015 205.83 L111.015 197.681 L95.4132 197.681 L95.4132 193.168 L109.788 171.27 Z\" fill=\"#000000\" fill-rule=\"evenodd\" fill-opacity=\"1\" /><path clip-path=\"url(#clip202)\" d=\"\n",
       "M277.391 1439.43 L277.391 1445.72 L307.006 1445.72 L307.006 1439.43 L277.391 1439.43 L277.391 1439.43  Z\n",
       "  \" fill=\"#009af9\" fill-rule=\"evenodd\" fill-opacity=\"0.8\"/>\n",
       "<polyline clip-path=\"url(#clip202)\" style=\"stroke:#000000; stroke-linecap:butt; stroke-linejoin:round; stroke-width:4; stroke-opacity:0.8; fill:none\" points=\"\n",
       "  277.391,1439.43 277.391,1445.72 307.006,1445.72 307.006,1439.43 277.391,1439.43 \n",
       "  \"/>\n",
       "<path clip-path=\"url(#clip202)\" d=\"\n",
       "M307.006 1445.72 L307.006 1445.72 L336.62 1445.72 L336.62 1445.72 L307.006 1445.72 L307.006 1445.72  Z\n",
       "  \" fill=\"#009af9\" fill-rule=\"evenodd\" fill-opacity=\"0.8\"/>\n",
       "<polyline clip-path=\"url(#clip202)\" style=\"stroke:#000000; stroke-linecap:butt; stroke-linejoin:round; stroke-width:4; stroke-opacity:0.8; fill:none\" points=\"\n",
       "  307.006,1445.72 307.006,1445.72 336.62,1445.72 307.006,1445.72 \n",
       "  \"/>\n",
       "<path clip-path=\"url(#clip202)\" d=\"\n",
       "M336.62 1439.43 L336.62 1445.72 L366.235 1445.72 L366.235 1439.43 L336.62 1439.43 L336.62 1439.43  Z\n",
       "  \" fill=\"#009af9\" fill-rule=\"evenodd\" fill-opacity=\"0.8\"/>\n",
       "<polyline clip-path=\"url(#clip202)\" style=\"stroke:#000000; stroke-linecap:butt; stroke-linejoin:round; stroke-width:4; stroke-opacity:0.8; fill:none\" points=\"\n",
       "  336.62,1439.43 336.62,1445.72 366.235,1445.72 366.235,1439.43 336.62,1439.43 \n",
       "  \"/>\n",
       "<path clip-path=\"url(#clip202)\" d=\"\n",
       "M366.235 1445.72 L366.235 1445.72 L395.85 1445.72 L395.85 1445.72 L366.235 1445.72 L366.235 1445.72  Z\n",
       "  \" fill=\"#009af9\" fill-rule=\"evenodd\" fill-opacity=\"0.8\"/>\n",
       "<polyline clip-path=\"url(#clip202)\" style=\"stroke:#000000; stroke-linecap:butt; stroke-linejoin:round; stroke-width:4; stroke-opacity:0.8; fill:none\" points=\"\n",
       "  366.235,1445.72 366.235,1445.72 395.85,1445.72 366.235,1445.72 \n",
       "  \"/>\n",
       "<path clip-path=\"url(#clip202)\" d=\"\n",
       "M395.85 1433.14 L395.85 1445.72 L425.464 1445.72 L425.464 1433.14 L395.85 1433.14 L395.85 1433.14  Z\n",
       "  \" fill=\"#009af9\" fill-rule=\"evenodd\" fill-opacity=\"0.8\"/>\n",
       "<polyline clip-path=\"url(#clip202)\" style=\"stroke:#000000; stroke-linecap:butt; stroke-linejoin:round; stroke-width:4; stroke-opacity:0.8; fill:none\" points=\"\n",
       "  395.85,1433.14 395.85,1445.72 425.464,1445.72 425.464,1433.14 395.85,1433.14 \n",
       "  \"/>\n",
       "<path clip-path=\"url(#clip202)\" d=\"\n",
       "M425.464 1445.72 L425.464 1445.72 L455.079 1445.72 L455.079 1445.72 L425.464 1445.72 L425.464 1445.72  Z\n",
       "  \" fill=\"#009af9\" fill-rule=\"evenodd\" fill-opacity=\"0.8\"/>\n",
       "<polyline clip-path=\"url(#clip202)\" style=\"stroke:#000000; stroke-linecap:butt; stroke-linejoin:round; stroke-width:4; stroke-opacity:0.8; fill:none\" points=\"\n",
       "  425.464,1445.72 425.464,1445.72 455.079,1445.72 425.464,1445.72 \n",
       "  \"/>\n",
       "<path clip-path=\"url(#clip202)\" d=\"\n",
       "M455.079 1408 L455.079 1445.72 L484.694 1445.72 L484.694 1408 L455.079 1408 L455.079 1408  Z\n",
       "  \" fill=\"#009af9\" fill-rule=\"evenodd\" fill-opacity=\"0.8\"/>\n",
       "<polyline clip-path=\"url(#clip202)\" style=\"stroke:#000000; stroke-linecap:butt; stroke-linejoin:round; stroke-width:4; stroke-opacity:0.8; fill:none\" points=\"\n",
       "  455.079,1408 455.079,1445.72 484.694,1445.72 484.694,1408 455.079,1408 \n",
       "  \"/>\n",
       "<path clip-path=\"url(#clip202)\" d=\"\n",
       "M484.694 1414.29 L484.694 1445.72 L514.309 1445.72 L514.309 1414.29 L484.694 1414.29 L484.694 1414.29  Z\n",
       "  \" fill=\"#009af9\" fill-rule=\"evenodd\" fill-opacity=\"0.8\"/>\n",
       "<polyline clip-path=\"url(#clip202)\" style=\"stroke:#000000; stroke-linecap:butt; stroke-linejoin:round; stroke-width:4; stroke-opacity:0.8; fill:none\" points=\"\n",
       "  484.694,1414.29 484.694,1445.72 514.309,1445.72 514.309,1414.29 484.694,1414.29 \n",
       "  \"/>\n",
       "<path clip-path=\"url(#clip202)\" d=\"\n",
       "M514.309 1395.43 L514.309 1445.72 L543.923 1445.72 L543.923 1395.43 L514.309 1395.43 L514.309 1395.43  Z\n",
       "  \" fill=\"#009af9\" fill-rule=\"evenodd\" fill-opacity=\"0.8\"/>\n",
       "<polyline clip-path=\"url(#clip202)\" style=\"stroke:#000000; stroke-linecap:butt; stroke-linejoin:round; stroke-width:4; stroke-opacity:0.8; fill:none\" points=\"\n",
       "  514.309,1395.43 514.309,1445.72 543.923,1445.72 543.923,1395.43 514.309,1395.43 \n",
       "  \"/>\n",
       "<path clip-path=\"url(#clip202)\" d=\"\n",
       "M543.923 1420.57 L543.923 1445.72 L573.538 1445.72 L573.538 1420.57 L543.923 1420.57 L543.923 1420.57  Z\n",
       "  \" fill=\"#009af9\" fill-rule=\"evenodd\" fill-opacity=\"0.8\"/>\n",
       "<polyline clip-path=\"url(#clip202)\" style=\"stroke:#000000; stroke-linecap:butt; stroke-linejoin:round; stroke-width:4; stroke-opacity:0.8; fill:none\" points=\"\n",
       "  543.923,1420.57 543.923,1445.72 573.538,1445.72 573.538,1420.57 543.923,1420.57 \n",
       "  \"/>\n",
       "<path clip-path=\"url(#clip202)\" d=\"\n",
       "M573.538 1395.43 L573.538 1445.72 L603.153 1445.72 L603.153 1395.43 L573.538 1395.43 L573.538 1395.43  Z\n",
       "  \" fill=\"#009af9\" fill-rule=\"evenodd\" fill-opacity=\"0.8\"/>\n",
       "<polyline clip-path=\"url(#clip202)\" style=\"stroke:#000000; stroke-linecap:butt; stroke-linejoin:round; stroke-width:4; stroke-opacity:0.8; fill:none\" points=\"\n",
       "  573.538,1395.43 573.538,1445.72 603.153,1445.72 603.153,1395.43 573.538,1395.43 \n",
       "  \"/>\n",
       "<path clip-path=\"url(#clip202)\" d=\"\n",
       "M603.153 1376.57 L603.153 1445.72 L632.768 1445.72 L632.768 1376.57 L603.153 1376.57 L603.153 1376.57  Z\n",
       "  \" fill=\"#009af9\" fill-rule=\"evenodd\" fill-opacity=\"0.8\"/>\n",
       "<polyline clip-path=\"url(#clip202)\" style=\"stroke:#000000; stroke-linecap:butt; stroke-linejoin:round; stroke-width:4; stroke-opacity:0.8; fill:none\" points=\"\n",
       "  603.153,1376.57 603.153,1445.72 632.768,1445.72 632.768,1376.57 603.153,1376.57 \n",
       "  \"/>\n",
       "<path clip-path=\"url(#clip202)\" d=\"\n",
       "M632.768 1320 L632.768 1445.72 L662.382 1445.72 L662.382 1320 L632.768 1320 L632.768 1320  Z\n",
       "  \" fill=\"#009af9\" fill-rule=\"evenodd\" fill-opacity=\"0.8\"/>\n",
       "<polyline clip-path=\"url(#clip202)\" style=\"stroke:#000000; stroke-linecap:butt; stroke-linejoin:round; stroke-width:4; stroke-opacity:0.8; fill:none\" points=\"\n",
       "  632.768,1320 632.768,1445.72 662.382,1445.72 662.382,1320 632.768,1320 \n",
       "  \"/>\n",
       "<path clip-path=\"url(#clip202)\" d=\"\n",
       "M662.382 1288.57 L662.382 1445.72 L691.997 1445.72 L691.997 1288.57 L662.382 1288.57 L662.382 1288.57  Z\n",
       "  \" fill=\"#009af9\" fill-rule=\"evenodd\" fill-opacity=\"0.8\"/>\n",
       "<polyline clip-path=\"url(#clip202)\" style=\"stroke:#000000; stroke-linecap:butt; stroke-linejoin:round; stroke-width:4; stroke-opacity:0.8; fill:none\" points=\"\n",
       "  662.382,1288.57 662.382,1445.72 691.997,1445.72 691.997,1288.57 662.382,1288.57 \n",
       "  \"/>\n",
       "<path clip-path=\"url(#clip202)\" d=\"\n",
       "M691.997 1294.86 L691.997 1445.72 L721.612 1445.72 L721.612 1294.86 L691.997 1294.86 L691.997 1294.86  Z\n",
       "  \" fill=\"#009af9\" fill-rule=\"evenodd\" fill-opacity=\"0.8\"/>\n",
       "<polyline clip-path=\"url(#clip202)\" style=\"stroke:#000000; stroke-linecap:butt; stroke-linejoin:round; stroke-width:4; stroke-opacity:0.8; fill:none\" points=\"\n",
       "  691.997,1294.86 691.997,1445.72 721.612,1445.72 721.612,1294.86 691.997,1294.86 \n",
       "  \"/>\n",
       "<path clip-path=\"url(#clip202)\" d=\"\n",
       "M721.612 1188 L721.612 1445.72 L751.227 1445.72 L751.227 1188 L721.612 1188 L721.612 1188  Z\n",
       "  \" fill=\"#009af9\" fill-rule=\"evenodd\" fill-opacity=\"0.8\"/>\n",
       "<polyline clip-path=\"url(#clip202)\" style=\"stroke:#000000; stroke-linecap:butt; stroke-linejoin:round; stroke-width:4; stroke-opacity:0.8; fill:none\" points=\"\n",
       "  721.612,1188 721.612,1445.72 751.227,1445.72 751.227,1188 721.612,1188 \n",
       "  \"/>\n",
       "<path clip-path=\"url(#clip202)\" d=\"\n",
       "M751.227 1238.28 L751.227 1445.72 L780.841 1445.72 L780.841 1238.28 L751.227 1238.28 L751.227 1238.28  Z\n",
       "  \" fill=\"#009af9\" fill-rule=\"evenodd\" fill-opacity=\"0.8\"/>\n",
       "<polyline clip-path=\"url(#clip202)\" style=\"stroke:#000000; stroke-linecap:butt; stroke-linejoin:round; stroke-width:4; stroke-opacity:0.8; fill:none\" points=\"\n",
       "  751.227,1238.28 751.227,1445.72 780.841,1445.72 780.841,1238.28 751.227,1238.28 \n",
       "  \"/>\n",
       "<path clip-path=\"url(#clip202)\" d=\"\n",
       "M780.841 1169.14 L780.841 1445.72 L810.456 1445.72 L810.456 1169.14 L780.841 1169.14 L780.841 1169.14  Z\n",
       "  \" fill=\"#009af9\" fill-rule=\"evenodd\" fill-opacity=\"0.8\"/>\n",
       "<polyline clip-path=\"url(#clip202)\" style=\"stroke:#000000; stroke-linecap:butt; stroke-linejoin:round; stroke-width:4; stroke-opacity:0.8; fill:none\" points=\"\n",
       "  780.841,1169.14 780.841,1445.72 810.456,1445.72 810.456,1169.14 780.841,1169.14 \n",
       "  \"/>\n",
       "<path clip-path=\"url(#clip202)\" d=\"\n",
       "M810.456 1150.28 L810.456 1445.72 L840.071 1445.72 L840.071 1150.28 L810.456 1150.28 L810.456 1150.28  Z\n",
       "  \" fill=\"#009af9\" fill-rule=\"evenodd\" fill-opacity=\"0.8\"/>\n",
       "<polyline clip-path=\"url(#clip202)\" style=\"stroke:#000000; stroke-linecap:butt; stroke-linejoin:round; stroke-width:4; stroke-opacity:0.8; fill:none\" points=\"\n",
       "  810.456,1150.28 810.456,1445.72 840.071,1445.72 840.071,1150.28 810.456,1150.28 \n",
       "  \"/>\n",
       "<path clip-path=\"url(#clip202)\" d=\"\n",
       "M840.071 1018.28 L840.071 1445.72 L869.686 1445.72 L869.686 1018.28 L840.071 1018.28 L840.071 1018.28  Z\n",
       "  \" fill=\"#009af9\" fill-rule=\"evenodd\" fill-opacity=\"0.8\"/>\n",
       "<polyline clip-path=\"url(#clip202)\" style=\"stroke:#000000; stroke-linecap:butt; stroke-linejoin:round; stroke-width:4; stroke-opacity:0.8; fill:none\" points=\"\n",
       "  840.071,1018.28 840.071,1445.72 869.686,1445.72 869.686,1018.28 840.071,1018.28 \n",
       "  \"/>\n",
       "<path clip-path=\"url(#clip202)\" d=\"\n",
       "M869.686 1037.14 L869.686 1445.72 L899.3 1445.72 L899.3 1037.14 L869.686 1037.14 L869.686 1037.14  Z\n",
       "  \" fill=\"#009af9\" fill-rule=\"evenodd\" fill-opacity=\"0.8\"/>\n",
       "<polyline clip-path=\"url(#clip202)\" style=\"stroke:#000000; stroke-linecap:butt; stroke-linejoin:round; stroke-width:4; stroke-opacity:0.8; fill:none\" points=\"\n",
       "  869.686,1037.14 869.686,1445.72 899.3,1445.72 899.3,1037.14 869.686,1037.14 \n",
       "  \"/>\n",
       "<path clip-path=\"url(#clip202)\" d=\"\n",
       "M899.3 911.42 L899.3 1445.72 L928.915 1445.72 L928.915 911.42 L899.3 911.42 L899.3 911.42  Z\n",
       "  \" fill=\"#009af9\" fill-rule=\"evenodd\" fill-opacity=\"0.8\"/>\n",
       "<polyline clip-path=\"url(#clip202)\" style=\"stroke:#000000; stroke-linecap:butt; stroke-linejoin:round; stroke-width:4; stroke-opacity:0.8; fill:none\" points=\"\n",
       "  899.3,911.42 899.3,1445.72 928.915,1445.72 928.915,911.42 899.3,911.42 \n",
       "  \"/>\n",
       "<path clip-path=\"url(#clip202)\" d=\"\n",
       "M928.915 949.135 L928.915 1445.72 L958.53 1445.72 L958.53 949.135 L928.915 949.135 L928.915 949.135  Z\n",
       "  \" fill=\"#009af9\" fill-rule=\"evenodd\" fill-opacity=\"0.8\"/>\n",
       "<polyline clip-path=\"url(#clip202)\" style=\"stroke:#000000; stroke-linecap:butt; stroke-linejoin:round; stroke-width:4; stroke-opacity:0.8; fill:none\" points=\"\n",
       "  928.915,949.135 928.915,1445.72 958.53,1445.72 958.53,949.135 928.915,949.135 \n",
       "  \"/>\n",
       "<path clip-path=\"url(#clip202)\" d=\"\n",
       "M958.53 798.275 L958.53 1445.72 L988.144 1445.72 L988.144 798.275 L958.53 798.275 L958.53 798.275  Z\n",
       "  \" fill=\"#009af9\" fill-rule=\"evenodd\" fill-opacity=\"0.8\"/>\n",
       "<polyline clip-path=\"url(#clip202)\" style=\"stroke:#000000; stroke-linecap:butt; stroke-linejoin:round; stroke-width:4; stroke-opacity:0.8; fill:none\" points=\"\n",
       "  958.53,798.275 958.53,1445.72 988.144,1445.72 988.144,798.275 958.53,798.275 \n",
       "  \"/>\n",
       "<path clip-path=\"url(#clip202)\" d=\"\n",
       "M988.144 716.559 L988.144 1445.72 L1017.76 1445.72 L1017.76 716.559 L988.144 716.559 L988.144 716.559  Z\n",
       "  \" fill=\"#009af9\" fill-rule=\"evenodd\" fill-opacity=\"0.8\"/>\n",
       "<polyline clip-path=\"url(#clip202)\" style=\"stroke:#000000; stroke-linecap:butt; stroke-linejoin:round; stroke-width:4; stroke-opacity:0.8; fill:none\" points=\"\n",
       "  988.144,716.559 988.144,1445.72 1017.76,1445.72 1017.76,716.559 988.144,716.559 \n",
       "  \"/>\n",
       "<path clip-path=\"url(#clip202)\" d=\"\n",
       "M1017.76 622.272 L1017.76 1445.72 L1047.37 1445.72 L1047.37 622.272 L1017.76 622.272 L1017.76 622.272  Z\n",
       "  \" fill=\"#009af9\" fill-rule=\"evenodd\" fill-opacity=\"0.8\"/>\n",
       "<polyline clip-path=\"url(#clip202)\" style=\"stroke:#000000; stroke-linecap:butt; stroke-linejoin:round; stroke-width:4; stroke-opacity:0.8; fill:none\" points=\"\n",
       "  1017.76,622.272 1017.76,1445.72 1047.37,1445.72 1047.37,622.272 1017.76,622.272 \n",
       "  \"/>\n",
       "<path clip-path=\"url(#clip202)\" d=\"\n",
       "M1047.37 735.417 L1047.37 1445.72 L1076.99 1445.72 L1076.99 735.417 L1047.37 735.417 L1047.37 735.417  Z\n",
       "  \" fill=\"#009af9\" fill-rule=\"evenodd\" fill-opacity=\"0.8\"/>\n",
       "<polyline clip-path=\"url(#clip202)\" style=\"stroke:#000000; stroke-linecap:butt; stroke-linejoin:round; stroke-width:4; stroke-opacity:0.8; fill:none\" points=\"\n",
       "  1047.37,735.417 1047.37,1445.72 1076.99,1445.72 1076.99,735.417 1047.37,735.417 \n",
       "  \"/>\n",
       "<path clip-path=\"url(#clip202)\" d=\"\n",
       "M1076.99 427.411 L1076.99 1445.72 L1106.6 1445.72 L1106.6 427.411 L1076.99 427.411 L1076.99 427.411  Z\n",
       "  \" fill=\"#009af9\" fill-rule=\"evenodd\" fill-opacity=\"0.8\"/>\n",
       "<polyline clip-path=\"url(#clip202)\" style=\"stroke:#000000; stroke-linecap:butt; stroke-linejoin:round; stroke-width:4; stroke-opacity:0.8; fill:none\" points=\"\n",
       "  1076.99,427.411 1076.99,1445.72 1106.6,1445.72 1106.6,427.411 1076.99,427.411 \n",
       "  \"/>\n",
       "<path clip-path=\"url(#clip202)\" d=\"\n",
       "M1106.6 307.98 L1106.6 1445.72 L1136.22 1445.72 L1136.22 307.98 L1106.6 307.98 L1106.6 307.98  Z\n",
       "  \" fill=\"#009af9\" fill-rule=\"evenodd\" fill-opacity=\"0.8\"/>\n",
       "<polyline clip-path=\"url(#clip202)\" style=\"stroke:#000000; stroke-linecap:butt; stroke-linejoin:round; stroke-width:4; stroke-opacity:0.8; fill:none\" points=\"\n",
       "  1106.6,307.98 1106.6,1445.72 1136.22,1445.72 1136.22,307.98 1106.6,307.98 \n",
       "  \"/>\n",
       "<path clip-path=\"url(#clip202)\" d=\"\n",
       "M1136.22 490.269 L1136.22 1445.72 L1165.83 1445.72 L1165.83 490.269 L1136.22 490.269 L1136.22 490.269  Z\n",
       "  \" fill=\"#009af9\" fill-rule=\"evenodd\" fill-opacity=\"0.8\"/>\n",
       "<polyline clip-path=\"url(#clip202)\" style=\"stroke:#000000; stroke-linecap:butt; stroke-linejoin:round; stroke-width:4; stroke-opacity:0.8; fill:none\" points=\"\n",
       "  1136.22,490.269 1136.22,1445.72 1165.83,1445.72 1165.83,490.269 1136.22,490.269 \n",
       "  \"/>\n",
       "<path clip-path=\"url(#clip202)\" d=\"\n",
       "M1165.83 188.55 L1165.83 1445.72 L1195.45 1445.72 L1195.45 188.55 L1165.83 188.55 L1165.83 188.55  Z\n",
       "  \" fill=\"#009af9\" fill-rule=\"evenodd\" fill-opacity=\"0.8\"/>\n",
       "<polyline clip-path=\"url(#clip202)\" style=\"stroke:#000000; stroke-linecap:butt; stroke-linejoin:round; stroke-width:4; stroke-opacity:0.8; fill:none\" points=\"\n",
       "  1165.83,188.55 1165.83,1445.72 1195.45,1445.72 1195.45,188.55 1165.83,188.55 \n",
       "  \"/>\n",
       "<path clip-path=\"url(#clip202)\" d=\"\n",
       "M1195.45 377.124 L1195.45 1445.72 L1225.06 1445.72 L1225.06 377.124 L1195.45 377.124 L1195.45 377.124  Z\n",
       "  \" fill=\"#009af9\" fill-rule=\"evenodd\" fill-opacity=\"0.8\"/>\n",
       "<polyline clip-path=\"url(#clip202)\" style=\"stroke:#000000; stroke-linecap:butt; stroke-linejoin:round; stroke-width:4; stroke-opacity:0.8; fill:none\" points=\"\n",
       "  1195.45,377.124 1195.45,1445.72 1225.06,1445.72 1225.06,377.124 1195.45,377.124 \n",
       "  \"/>\n",
       "<path clip-path=\"url(#clip202)\" d=\"\n",
       "M1225.06 345.695 L1225.06 1445.72 L1254.68 1445.72 L1254.68 345.695 L1225.06 345.695 L1225.06 345.695  Z\n",
       "  \" fill=\"#009af9\" fill-rule=\"evenodd\" fill-opacity=\"0.8\"/>\n",
       "<polyline clip-path=\"url(#clip202)\" style=\"stroke:#000000; stroke-linecap:butt; stroke-linejoin:round; stroke-width:4; stroke-opacity:0.8; fill:none\" points=\"\n",
       "  1225.06,345.695 1225.06,1445.72 1254.68,1445.72 1254.68,345.695 1225.06,345.695 \n",
       "  \"/>\n",
       "<path clip-path=\"url(#clip202)\" d=\"\n",
       "M1254.68 94.2621 L1254.68 1445.72 L1284.29 1445.72 L1284.29 94.2621 L1254.68 94.2621 L1254.68 94.2621  Z\n",
       "  \" fill=\"#009af9\" fill-rule=\"evenodd\" fill-opacity=\"0.8\"/>\n",
       "<polyline clip-path=\"url(#clip202)\" style=\"stroke:#000000; stroke-linecap:butt; stroke-linejoin:round; stroke-width:4; stroke-opacity:0.8; fill:none\" points=\"\n",
       "  1254.68,94.2621 1254.68,1445.72 1284.29,1445.72 1284.29,94.2621 1254.68,94.2621 \n",
       "  \"/>\n",
       "<path clip-path=\"url(#clip202)\" d=\"\n",
       "M1284.29 94.2621 L1284.29 1445.72 L1313.91 1445.72 L1313.91 94.2621 L1284.29 94.2621 L1284.29 94.2621  Z\n",
       "  \" fill=\"#009af9\" fill-rule=\"evenodd\" fill-opacity=\"0.8\"/>\n",
       "<polyline clip-path=\"url(#clip202)\" style=\"stroke:#000000; stroke-linecap:butt; stroke-linejoin:round; stroke-width:4; stroke-opacity:0.8; fill:none\" points=\"\n",
       "  1284.29,94.2621 1284.29,1445.72 1313.91,1445.72 1313.91,94.2621 1284.29,94.2621 \n",
       "  \"/>\n",
       "<path clip-path=\"url(#clip202)\" d=\"\n",
       "M1313.91 106.834 L1313.91 1445.72 L1343.52 1445.72 L1343.52 106.834 L1313.91 106.834 L1313.91 106.834  Z\n",
       "  \" fill=\"#009af9\" fill-rule=\"evenodd\" fill-opacity=\"0.8\"/>\n",
       "<polyline clip-path=\"url(#clip202)\" style=\"stroke:#000000; stroke-linecap:butt; stroke-linejoin:round; stroke-width:4; stroke-opacity:0.8; fill:none\" points=\"\n",
       "  1313.91,106.834 1313.91,1445.72 1343.52,1445.72 1343.52,106.834 1313.91,106.834 \n",
       "  \"/>\n",
       "<path clip-path=\"url(#clip202)\" d=\"\n",
       "M1343.52 87.9763 L1343.52 1445.72 L1373.14 1445.72 L1373.14 87.9763 L1343.52 87.9763 L1343.52 87.9763  Z\n",
       "  \" fill=\"#009af9\" fill-rule=\"evenodd\" fill-opacity=\"0.8\"/>\n",
       "<polyline clip-path=\"url(#clip202)\" style=\"stroke:#000000; stroke-linecap:butt; stroke-linejoin:round; stroke-width:4; stroke-opacity:0.8; fill:none\" points=\"\n",
       "  1343.52,87.9763 1343.52,1445.72 1373.14,1445.72 1373.14,87.9763 1343.52,87.9763 \n",
       "  \"/>\n",
       "<path clip-path=\"url(#clip202)\" d=\"\n",
       "M1373.14 188.55 L1373.14 1445.72 L1402.75 1445.72 L1402.75 188.55 L1373.14 188.55 L1373.14 188.55  Z\n",
       "  \" fill=\"#009af9\" fill-rule=\"evenodd\" fill-opacity=\"0.8\"/>\n",
       "<polyline clip-path=\"url(#clip202)\" style=\"stroke:#000000; stroke-linecap:butt; stroke-linejoin:round; stroke-width:4; stroke-opacity:0.8; fill:none\" points=\"\n",
       "  1373.14,188.55 1373.14,1445.72 1402.75,1445.72 1402.75,188.55 1373.14,188.55 \n",
       "  \"/>\n",
       "<path clip-path=\"url(#clip202)\" d=\"\n",
       "M1402.75 194.835 L1402.75 1445.72 L1432.37 1445.72 L1432.37 194.835 L1402.75 194.835 L1402.75 194.835  Z\n",
       "  \" fill=\"#009af9\" fill-rule=\"evenodd\" fill-opacity=\"0.8\"/>\n",
       "<polyline clip-path=\"url(#clip202)\" style=\"stroke:#000000; stroke-linecap:butt; stroke-linejoin:round; stroke-width:4; stroke-opacity:0.8; fill:none\" points=\"\n",
       "  1402.75,194.835 1402.75,1445.72 1432.37,1445.72 1432.37,194.835 1402.75,194.835 \n",
       "  \"/>\n",
       "<path clip-path=\"url(#clip202)\" d=\"\n",
       "M1432.37 502.841 L1432.37 1445.72 L1461.98 1445.72 L1461.98 502.841 L1432.37 502.841 L1432.37 502.841  Z\n",
       "  \" fill=\"#009af9\" fill-rule=\"evenodd\" fill-opacity=\"0.8\"/>\n",
       "<polyline clip-path=\"url(#clip202)\" style=\"stroke:#000000; stroke-linecap:butt; stroke-linejoin:round; stroke-width:4; stroke-opacity:0.8; fill:none\" points=\"\n",
       "  1432.37,502.841 1432.37,1445.72 1461.98,1445.72 1461.98,502.841 1432.37,502.841 \n",
       "  \"/>\n",
       "<path clip-path=\"url(#clip202)\" d=\"\n",
       "M1461.98 226.265 L1461.98 1445.72 L1491.59 1445.72 L1491.59 226.265 L1461.98 226.265 L1461.98 226.265  Z\n",
       "  \" fill=\"#009af9\" fill-rule=\"evenodd\" fill-opacity=\"0.8\"/>\n",
       "<polyline clip-path=\"url(#clip202)\" style=\"stroke:#000000; stroke-linecap:butt; stroke-linejoin:round; stroke-width:4; stroke-opacity:0.8; fill:none\" points=\"\n",
       "  1461.98,226.265 1461.98,1445.72 1491.59,1445.72 1491.59,226.265 1461.98,226.265 \n",
       "  \"/>\n",
       "<path clip-path=\"url(#clip202)\" d=\"\n",
       "M1491.59 395.982 L1491.59 1445.72 L1521.21 1445.72 L1521.21 395.982 L1491.59 395.982 L1491.59 395.982  Z\n",
       "  \" fill=\"#009af9\" fill-rule=\"evenodd\" fill-opacity=\"0.8\"/>\n",
       "<polyline clip-path=\"url(#clip202)\" style=\"stroke:#000000; stroke-linecap:butt; stroke-linejoin:round; stroke-width:4; stroke-opacity:0.8; fill:none\" points=\"\n",
       "  1491.59,395.982 1491.59,1445.72 1521.21,1445.72 1521.21,395.982 1491.59,395.982 \n",
       "  \"/>\n",
       "<path clip-path=\"url(#clip202)\" d=\"\n",
       "M1521.21 609.7 L1521.21 1445.72 L1550.82 1445.72 L1550.82 609.7 L1521.21 609.7 L1521.21 609.7  Z\n",
       "  \" fill=\"#009af9\" fill-rule=\"evenodd\" fill-opacity=\"0.8\"/>\n",
       "<polyline clip-path=\"url(#clip202)\" style=\"stroke:#000000; stroke-linecap:butt; stroke-linejoin:round; stroke-width:4; stroke-opacity:0.8; fill:none\" points=\"\n",
       "  1521.21,609.7 1521.21,1445.72 1550.82,1445.72 1550.82,609.7 1521.21,609.7 \n",
       "  \"/>\n",
       "<path clip-path=\"url(#clip202)\" d=\"\n",
       "M1550.82 553.128 L1550.82 1445.72 L1580.44 1445.72 L1580.44 553.128 L1550.82 553.128 L1550.82 553.128  Z\n",
       "  \" fill=\"#009af9\" fill-rule=\"evenodd\" fill-opacity=\"0.8\"/>\n",
       "<polyline clip-path=\"url(#clip202)\" style=\"stroke:#000000; stroke-linecap:butt; stroke-linejoin:round; stroke-width:4; stroke-opacity:0.8; fill:none\" points=\"\n",
       "  1550.82,553.128 1550.82,1445.72 1580.44,1445.72 1580.44,553.128 1550.82,553.128 \n",
       "  \"/>\n",
       "<path clip-path=\"url(#clip202)\" d=\"\n",
       "M1580.44 672.559 L1580.44 1445.72 L1610.05 1445.72 L1610.05 672.559 L1580.44 672.559 L1580.44 672.559  Z\n",
       "  \" fill=\"#009af9\" fill-rule=\"evenodd\" fill-opacity=\"0.8\"/>\n",
       "<polyline clip-path=\"url(#clip202)\" style=\"stroke:#000000; stroke-linecap:butt; stroke-linejoin:round; stroke-width:4; stroke-opacity:0.8; fill:none\" points=\"\n",
       "  1580.44,672.559 1580.44,1445.72 1610.05,1445.72 1610.05,672.559 1580.44,672.559 \n",
       "  \"/>\n",
       "<path clip-path=\"url(#clip202)\" d=\"\n",
       "M1610.05 791.989 L1610.05 1445.72 L1639.67 1445.72 L1639.67 791.989 L1610.05 791.989 L1610.05 791.989  Z\n",
       "  \" fill=\"#009af9\" fill-rule=\"evenodd\" fill-opacity=\"0.8\"/>\n",
       "<polyline clip-path=\"url(#clip202)\" style=\"stroke:#000000; stroke-linecap:butt; stroke-linejoin:round; stroke-width:4; stroke-opacity:0.8; fill:none\" points=\"\n",
       "  1610.05,791.989 1610.05,1445.72 1639.67,1445.72 1639.67,791.989 1610.05,791.989 \n",
       "  \"/>\n",
       "<path clip-path=\"url(#clip202)\" d=\"\n",
       "M1639.67 773.132 L1639.67 1445.72 L1669.28 1445.72 L1669.28 773.132 L1639.67 773.132 L1639.67 773.132  Z\n",
       "  \" fill=\"#009af9\" fill-rule=\"evenodd\" fill-opacity=\"0.8\"/>\n",
       "<polyline clip-path=\"url(#clip202)\" style=\"stroke:#000000; stroke-linecap:butt; stroke-linejoin:round; stroke-width:4; stroke-opacity:0.8; fill:none\" points=\"\n",
       "  1639.67,773.132 1639.67,1445.72 1669.28,1445.72 1669.28,773.132 1639.67,773.132 \n",
       "  \"/>\n",
       "<path clip-path=\"url(#clip202)\" d=\"\n",
       "M1669.28 936.563 L1669.28 1445.72 L1698.9 1445.72 L1698.9 936.563 L1669.28 936.563 L1669.28 936.563  Z\n",
       "  \" fill=\"#009af9\" fill-rule=\"evenodd\" fill-opacity=\"0.8\"/>\n",
       "<polyline clip-path=\"url(#clip202)\" style=\"stroke:#000000; stroke-linecap:butt; stroke-linejoin:round; stroke-width:4; stroke-opacity:0.8; fill:none\" points=\"\n",
       "  1669.28,936.563 1669.28,1445.72 1698.9,1445.72 1698.9,936.563 1669.28,936.563 \n",
       "  \"/>\n",
       "<path clip-path=\"url(#clip202)\" d=\"\n",
       "M1698.9 1011.99 L1698.9 1445.72 L1728.51 1445.72 L1728.51 1011.99 L1698.9 1011.99 L1698.9 1011.99  Z\n",
       "  \" fill=\"#009af9\" fill-rule=\"evenodd\" fill-opacity=\"0.8\"/>\n",
       "<polyline clip-path=\"url(#clip202)\" style=\"stroke:#000000; stroke-linecap:butt; stroke-linejoin:round; stroke-width:4; stroke-opacity:0.8; fill:none\" points=\"\n",
       "  1698.9,1011.99 1698.9,1445.72 1728.51,1445.72 1728.51,1011.99 1698.9,1011.99 \n",
       "  \"/>\n",
       "<path clip-path=\"url(#clip202)\" d=\"\n",
       "M1728.51 1030.85 L1728.51 1445.72 L1758.13 1445.72 L1758.13 1030.85 L1728.51 1030.85 L1728.51 1030.85  Z\n",
       "  \" fill=\"#009af9\" fill-rule=\"evenodd\" fill-opacity=\"0.8\"/>\n",
       "<polyline clip-path=\"url(#clip202)\" style=\"stroke:#000000; stroke-linecap:butt; stroke-linejoin:round; stroke-width:4; stroke-opacity:0.8; fill:none\" points=\"\n",
       "  1728.51,1030.85 1728.51,1445.72 1758.13,1445.72 1758.13,1030.85 1728.51,1030.85 \n",
       "  \"/>\n",
       "<path clip-path=\"url(#clip202)\" d=\"\n",
       "M1758.13 999.422 L1758.13 1445.72 L1787.74 1445.72 L1787.74 999.422 L1758.13 999.422 L1758.13 999.422  Z\n",
       "  \" fill=\"#009af9\" fill-rule=\"evenodd\" fill-opacity=\"0.8\"/>\n",
       "<polyline clip-path=\"url(#clip202)\" style=\"stroke:#000000; stroke-linecap:butt; stroke-linejoin:round; stroke-width:4; stroke-opacity:0.8; fill:none\" points=\"\n",
       "  1758.13,999.422 1758.13,1445.72 1787.74,1445.72 1787.74,999.422 1758.13,999.422 \n",
       "  \"/>\n",
       "<path clip-path=\"url(#clip202)\" d=\"\n",
       "M1787.74 1175.42 L1787.74 1445.72 L1817.36 1445.72 L1817.36 1175.42 L1787.74 1175.42 L1787.74 1175.42  Z\n",
       "  \" fill=\"#009af9\" fill-rule=\"evenodd\" fill-opacity=\"0.8\"/>\n",
       "<polyline clip-path=\"url(#clip202)\" style=\"stroke:#000000; stroke-linecap:butt; stroke-linejoin:round; stroke-width:4; stroke-opacity:0.8; fill:none\" points=\"\n",
       "  1787.74,1175.42 1787.74,1445.72 1817.36,1445.72 1817.36,1175.42 1787.74,1175.42 \n",
       "  \"/>\n",
       "<path clip-path=\"url(#clip202)\" d=\"\n",
       "M1817.36 1188 L1817.36 1445.72 L1846.97 1445.72 L1846.97 1188 L1817.36 1188 L1817.36 1188  Z\n",
       "  \" fill=\"#009af9\" fill-rule=\"evenodd\" fill-opacity=\"0.8\"/>\n",
       "<polyline clip-path=\"url(#clip202)\" style=\"stroke:#000000; stroke-linecap:butt; stroke-linejoin:round; stroke-width:4; stroke-opacity:0.8; fill:none\" points=\"\n",
       "  1817.36,1188 1817.36,1445.72 1846.97,1445.72 1846.97,1188 1817.36,1188 \n",
       "  \"/>\n",
       "<path clip-path=\"url(#clip202)\" d=\"\n",
       "M1846.97 1282.28 L1846.97 1445.72 L1876.59 1445.72 L1876.59 1282.28 L1846.97 1282.28 L1846.97 1282.28  Z\n",
       "  \" fill=\"#009af9\" fill-rule=\"evenodd\" fill-opacity=\"0.8\"/>\n",
       "<polyline clip-path=\"url(#clip202)\" style=\"stroke:#000000; stroke-linecap:butt; stroke-linejoin:round; stroke-width:4; stroke-opacity:0.8; fill:none\" points=\"\n",
       "  1846.97,1282.28 1846.97,1445.72 1876.59,1445.72 1876.59,1282.28 1846.97,1282.28 \n",
       "  \"/>\n",
       "<path clip-path=\"url(#clip202)\" d=\"\n",
       "M1876.59 1244.57 L1876.59 1445.72 L1906.2 1445.72 L1906.2 1244.57 L1876.59 1244.57 L1876.59 1244.57  Z\n",
       "  \" fill=\"#009af9\" fill-rule=\"evenodd\" fill-opacity=\"0.8\"/>\n",
       "<polyline clip-path=\"url(#clip202)\" style=\"stroke:#000000; stroke-linecap:butt; stroke-linejoin:round; stroke-width:4; stroke-opacity:0.8; fill:none\" points=\"\n",
       "  1876.59,1244.57 1876.59,1445.72 1906.2,1445.72 1906.2,1244.57 1876.59,1244.57 \n",
       "  \"/>\n",
       "<path clip-path=\"url(#clip202)\" d=\"\n",
       "M1906.2 1313.71 L1906.2 1445.72 L1935.82 1445.72 L1935.82 1313.71 L1906.2 1313.71 L1906.2 1313.71  Z\n",
       "  \" fill=\"#009af9\" fill-rule=\"evenodd\" fill-opacity=\"0.8\"/>\n",
       "<polyline clip-path=\"url(#clip202)\" style=\"stroke:#000000; stroke-linecap:butt; stroke-linejoin:round; stroke-width:4; stroke-opacity:0.8; fill:none\" points=\"\n",
       "  1906.2,1313.71 1906.2,1445.72 1935.82,1445.72 1935.82,1313.71 1906.2,1313.71 \n",
       "  \"/>\n",
       "<path clip-path=\"url(#clip202)\" d=\"\n",
       "M1935.82 1351.43 L1935.82 1445.72 L1965.43 1445.72 L1965.43 1351.43 L1935.82 1351.43 L1935.82 1351.43  Z\n",
       "  \" fill=\"#009af9\" fill-rule=\"evenodd\" fill-opacity=\"0.8\"/>\n",
       "<polyline clip-path=\"url(#clip202)\" style=\"stroke:#000000; stroke-linecap:butt; stroke-linejoin:round; stroke-width:4; stroke-opacity:0.8; fill:none\" points=\"\n",
       "  1935.82,1351.43 1935.82,1445.72 1965.43,1445.72 1965.43,1351.43 1935.82,1351.43 \n",
       "  \"/>\n",
       "<path clip-path=\"url(#clip202)\" d=\"\n",
       "M1965.43 1326.28 L1965.43 1445.72 L1995.05 1445.72 L1995.05 1326.28 L1965.43 1326.28 L1965.43 1326.28  Z\n",
       "  \" fill=\"#009af9\" fill-rule=\"evenodd\" fill-opacity=\"0.8\"/>\n",
       "<polyline clip-path=\"url(#clip202)\" style=\"stroke:#000000; stroke-linecap:butt; stroke-linejoin:round; stroke-width:4; stroke-opacity:0.8; fill:none\" points=\"\n",
       "  1965.43,1326.28 1965.43,1445.72 1995.05,1445.72 1995.05,1326.28 1965.43,1326.28 \n",
       "  \"/>\n",
       "<path clip-path=\"url(#clip202)\" d=\"\n",
       "M1995.05 1364 L1995.05 1445.72 L2024.66 1445.72 L2024.66 1364 L1995.05 1364 L1995.05 1364  Z\n",
       "  \" fill=\"#009af9\" fill-rule=\"evenodd\" fill-opacity=\"0.8\"/>\n",
       "<polyline clip-path=\"url(#clip202)\" style=\"stroke:#000000; stroke-linecap:butt; stroke-linejoin:round; stroke-width:4; stroke-opacity:0.8; fill:none\" points=\"\n",
       "  1995.05,1364 1995.05,1445.72 2024.66,1445.72 2024.66,1364 1995.05,1364 \n",
       "  \"/>\n",
       "<path clip-path=\"url(#clip202)\" d=\"\n",
       "M2024.66 1395.43 L2024.66 1445.72 L2054.27 1445.72 L2054.27 1395.43 L2024.66 1395.43 L2024.66 1395.43  Z\n",
       "  \" fill=\"#009af9\" fill-rule=\"evenodd\" fill-opacity=\"0.8\"/>\n",
       "<polyline clip-path=\"url(#clip202)\" style=\"stroke:#000000; stroke-linecap:butt; stroke-linejoin:round; stroke-width:4; stroke-opacity:0.8; fill:none\" points=\"\n",
       "  2024.66,1395.43 2024.66,1445.72 2054.27,1445.72 2054.27,1395.43 2024.66,1395.43 \n",
       "  \"/>\n",
       "<path clip-path=\"url(#clip202)\" d=\"\n",
       "M2054.27 1345.14 L2054.27 1445.72 L2083.89 1445.72 L2083.89 1345.14 L2054.27 1345.14 L2054.27 1345.14  Z\n",
       "  \" fill=\"#009af9\" fill-rule=\"evenodd\" fill-opacity=\"0.8\"/>\n",
       "<polyline clip-path=\"url(#clip202)\" style=\"stroke:#000000; stroke-linecap:butt; stroke-linejoin:round; stroke-width:4; stroke-opacity:0.8; fill:none\" points=\"\n",
       "  2054.27,1345.14 2054.27,1445.72 2083.89,1445.72 2083.89,1345.14 2054.27,1345.14 \n",
       "  \"/>\n",
       "<path clip-path=\"url(#clip202)\" d=\"\n",
       "M2083.89 1420.57 L2083.89 1445.72 L2113.5 1445.72 L2113.5 1420.57 L2083.89 1420.57 L2083.89 1420.57  Z\n",
       "  \" fill=\"#009af9\" fill-rule=\"evenodd\" fill-opacity=\"0.8\"/>\n",
       "<polyline clip-path=\"url(#clip202)\" style=\"stroke:#000000; stroke-linecap:butt; stroke-linejoin:round; stroke-width:4; stroke-opacity:0.8; fill:none\" points=\"\n",
       "  2083.89,1420.57 2083.89,1445.72 2113.5,1445.72 2113.5,1420.57 2083.89,1420.57 \n",
       "  \"/>\n",
       "<path clip-path=\"url(#clip202)\" d=\"\n",
       "M2113.5 1408 L2113.5 1445.72 L2143.12 1445.72 L2143.12 1408 L2113.5 1408 L2113.5 1408  Z\n",
       "  \" fill=\"#009af9\" fill-rule=\"evenodd\" fill-opacity=\"0.8\"/>\n",
       "<polyline clip-path=\"url(#clip202)\" style=\"stroke:#000000; stroke-linecap:butt; stroke-linejoin:round; stroke-width:4; stroke-opacity:0.8; fill:none\" points=\"\n",
       "  2113.5,1408 2113.5,1445.72 2143.12,1445.72 2143.12,1408 2113.5,1408 \n",
       "  \"/>\n",
       "<path clip-path=\"url(#clip202)\" d=\"\n",
       "M2143.12 1420.57 L2143.12 1445.72 L2172.73 1445.72 L2172.73 1420.57 L2143.12 1420.57 L2143.12 1420.57  Z\n",
       "  \" fill=\"#009af9\" fill-rule=\"evenodd\" fill-opacity=\"0.8\"/>\n",
       "<polyline clip-path=\"url(#clip202)\" style=\"stroke:#000000; stroke-linecap:butt; stroke-linejoin:round; stroke-width:4; stroke-opacity:0.8; fill:none\" points=\"\n",
       "  2143.12,1420.57 2143.12,1445.72 2172.73,1445.72 2172.73,1420.57 2143.12,1420.57 \n",
       "  \"/>\n",
       "<path clip-path=\"url(#clip202)\" d=\"\n",
       "M2172.73 1426.86 L2172.73 1445.72 L2202.35 1445.72 L2202.35 1426.86 L2172.73 1426.86 L2172.73 1426.86  Z\n",
       "  \" fill=\"#009af9\" fill-rule=\"evenodd\" fill-opacity=\"0.8\"/>\n",
       "<polyline clip-path=\"url(#clip202)\" style=\"stroke:#000000; stroke-linecap:butt; stroke-linejoin:round; stroke-width:4; stroke-opacity:0.8; fill:none\" points=\"\n",
       "  2172.73,1426.86 2172.73,1445.72 2202.35,1445.72 2202.35,1426.86 2172.73,1426.86 \n",
       "  \"/>\n",
       "<path clip-path=\"url(#clip202)\" d=\"\n",
       "M2202.35 1420.57 L2202.35 1445.72 L2231.96 1445.72 L2231.96 1420.57 L2202.35 1420.57 L2202.35 1420.57  Z\n",
       "  \" fill=\"#009af9\" fill-rule=\"evenodd\" fill-opacity=\"0.8\"/>\n",
       "<polyline clip-path=\"url(#clip202)\" style=\"stroke:#000000; stroke-linecap:butt; stroke-linejoin:round; stroke-width:4; stroke-opacity:0.8; fill:none\" points=\"\n",
       "  2202.35,1420.57 2202.35,1445.72 2231.96,1445.72 2231.96,1420.57 2202.35,1420.57 \n",
       "  \"/>\n",
       "<circle clip-path=\"url(#clip202)\" style=\"fill:#009af9; stroke:none; fill-opacity:0\" cx=\"292.198\" cy=\"1439.43\" r=\"2\"/>\n",
       "<circle clip-path=\"url(#clip202)\" style=\"fill:#009af9; stroke:none; fill-opacity:0\" cx=\"321.813\" cy=\"1445.72\" r=\"2\"/>\n",
       "<circle clip-path=\"url(#clip202)\" style=\"fill:#009af9; stroke:none; fill-opacity:0\" cx=\"351.428\" cy=\"1439.43\" r=\"2\"/>\n",
       "<circle clip-path=\"url(#clip202)\" style=\"fill:#009af9; stroke:none; fill-opacity:0\" cx=\"381.042\" cy=\"1445.72\" r=\"2\"/>\n",
       "<circle clip-path=\"url(#clip202)\" style=\"fill:#009af9; stroke:none; fill-opacity:0\" cx=\"410.657\" cy=\"1433.14\" r=\"2\"/>\n",
       "<circle clip-path=\"url(#clip202)\" style=\"fill:#009af9; stroke:none; fill-opacity:0\" cx=\"440.272\" cy=\"1445.72\" r=\"2\"/>\n",
       "<circle clip-path=\"url(#clip202)\" style=\"fill:#009af9; stroke:none; fill-opacity:0\" cx=\"469.887\" cy=\"1408\" r=\"2\"/>\n",
       "<circle clip-path=\"url(#clip202)\" style=\"fill:#009af9; stroke:none; fill-opacity:0\" cx=\"499.501\" cy=\"1414.29\" r=\"2\"/>\n",
       "<circle clip-path=\"url(#clip202)\" style=\"fill:#009af9; stroke:none; fill-opacity:0\" cx=\"529.116\" cy=\"1395.43\" r=\"2\"/>\n",
       "<circle clip-path=\"url(#clip202)\" style=\"fill:#009af9; stroke:none; fill-opacity:0\" cx=\"558.731\" cy=\"1420.57\" r=\"2\"/>\n",
       "<circle clip-path=\"url(#clip202)\" style=\"fill:#009af9; stroke:none; fill-opacity:0\" cx=\"588.346\" cy=\"1395.43\" r=\"2\"/>\n",
       "<circle clip-path=\"url(#clip202)\" style=\"fill:#009af9; stroke:none; fill-opacity:0\" cx=\"617.96\" cy=\"1376.57\" r=\"2\"/>\n",
       "<circle clip-path=\"url(#clip202)\" style=\"fill:#009af9; stroke:none; fill-opacity:0\" cx=\"647.575\" cy=\"1320\" r=\"2\"/>\n",
       "<circle clip-path=\"url(#clip202)\" style=\"fill:#009af9; stroke:none; fill-opacity:0\" cx=\"677.19\" cy=\"1288.57\" r=\"2\"/>\n",
       "<circle clip-path=\"url(#clip202)\" style=\"fill:#009af9; stroke:none; fill-opacity:0\" cx=\"706.804\" cy=\"1294.86\" r=\"2\"/>\n",
       "<circle clip-path=\"url(#clip202)\" style=\"fill:#009af9; stroke:none; fill-opacity:0\" cx=\"736.419\" cy=\"1188\" r=\"2\"/>\n",
       "<circle clip-path=\"url(#clip202)\" style=\"fill:#009af9; stroke:none; fill-opacity:0\" cx=\"766.034\" cy=\"1238.28\" r=\"2\"/>\n",
       "<circle clip-path=\"url(#clip202)\" style=\"fill:#009af9; stroke:none; fill-opacity:0\" cx=\"795.649\" cy=\"1169.14\" r=\"2\"/>\n",
       "<circle clip-path=\"url(#clip202)\" style=\"fill:#009af9; stroke:none; fill-opacity:0\" cx=\"825.263\" cy=\"1150.28\" r=\"2\"/>\n",
       "<circle clip-path=\"url(#clip202)\" style=\"fill:#009af9; stroke:none; fill-opacity:0\" cx=\"854.878\" cy=\"1018.28\" r=\"2\"/>\n",
       "<circle clip-path=\"url(#clip202)\" style=\"fill:#009af9; stroke:none; fill-opacity:0\" cx=\"884.493\" cy=\"1037.14\" r=\"2\"/>\n",
       "<circle clip-path=\"url(#clip202)\" style=\"fill:#009af9; stroke:none; fill-opacity:0\" cx=\"914.108\" cy=\"911.42\" r=\"2\"/>\n",
       "<circle clip-path=\"url(#clip202)\" style=\"fill:#009af9; stroke:none; fill-opacity:0\" cx=\"943.722\" cy=\"949.135\" r=\"2\"/>\n",
       "<circle clip-path=\"url(#clip202)\" style=\"fill:#009af9; stroke:none; fill-opacity:0\" cx=\"973.337\" cy=\"798.275\" r=\"2\"/>\n",
       "<circle clip-path=\"url(#clip202)\" style=\"fill:#009af9; stroke:none; fill-opacity:0\" cx=\"1002.95\" cy=\"716.559\" r=\"2\"/>\n",
       "<circle clip-path=\"url(#clip202)\" style=\"fill:#009af9; stroke:none; fill-opacity:0\" cx=\"1032.57\" cy=\"622.272\" r=\"2\"/>\n",
       "<circle clip-path=\"url(#clip202)\" style=\"fill:#009af9; stroke:none; fill-opacity:0\" cx=\"1062.18\" cy=\"735.417\" r=\"2\"/>\n",
       "<circle clip-path=\"url(#clip202)\" style=\"fill:#009af9; stroke:none; fill-opacity:0\" cx=\"1091.8\" cy=\"427.411\" r=\"2\"/>\n",
       "<circle clip-path=\"url(#clip202)\" style=\"fill:#009af9; stroke:none; fill-opacity:0\" cx=\"1121.41\" cy=\"307.98\" r=\"2\"/>\n",
       "<circle clip-path=\"url(#clip202)\" style=\"fill:#009af9; stroke:none; fill-opacity:0\" cx=\"1151.03\" cy=\"490.269\" r=\"2\"/>\n",
       "<circle clip-path=\"url(#clip202)\" style=\"fill:#009af9; stroke:none; fill-opacity:0\" cx=\"1180.64\" cy=\"188.55\" r=\"2\"/>\n",
       "<circle clip-path=\"url(#clip202)\" style=\"fill:#009af9; stroke:none; fill-opacity:0\" cx=\"1210.25\" cy=\"377.124\" r=\"2\"/>\n",
       "<circle clip-path=\"url(#clip202)\" style=\"fill:#009af9; stroke:none; fill-opacity:0\" cx=\"1239.87\" cy=\"345.695\" r=\"2\"/>\n",
       "<circle clip-path=\"url(#clip202)\" style=\"fill:#009af9; stroke:none; fill-opacity:0\" cx=\"1269.48\" cy=\"94.2621\" r=\"2\"/>\n",
       "<circle clip-path=\"url(#clip202)\" style=\"fill:#009af9; stroke:none; fill-opacity:0\" cx=\"1299.1\" cy=\"94.2621\" r=\"2\"/>\n",
       "<circle clip-path=\"url(#clip202)\" style=\"fill:#009af9; stroke:none; fill-opacity:0\" cx=\"1328.71\" cy=\"106.834\" r=\"2\"/>\n",
       "<circle clip-path=\"url(#clip202)\" style=\"fill:#009af9; stroke:none; fill-opacity:0\" cx=\"1358.33\" cy=\"87.9763\" r=\"2\"/>\n",
       "<circle clip-path=\"url(#clip202)\" style=\"fill:#009af9; stroke:none; fill-opacity:0\" cx=\"1387.94\" cy=\"188.55\" r=\"2\"/>\n",
       "<circle clip-path=\"url(#clip202)\" style=\"fill:#009af9; stroke:none; fill-opacity:0\" cx=\"1417.56\" cy=\"194.835\" r=\"2\"/>\n",
       "<circle clip-path=\"url(#clip202)\" style=\"fill:#009af9; stroke:none; fill-opacity:0\" cx=\"1447.17\" cy=\"502.841\" r=\"2\"/>\n",
       "<circle clip-path=\"url(#clip202)\" style=\"fill:#009af9; stroke:none; fill-opacity:0\" cx=\"1476.79\" cy=\"226.265\" r=\"2\"/>\n",
       "<circle clip-path=\"url(#clip202)\" style=\"fill:#009af9; stroke:none; fill-opacity:0\" cx=\"1506.4\" cy=\"395.982\" r=\"2\"/>\n",
       "<circle clip-path=\"url(#clip202)\" style=\"fill:#009af9; stroke:none; fill-opacity:0\" cx=\"1536.02\" cy=\"609.7\" r=\"2\"/>\n",
       "<circle clip-path=\"url(#clip202)\" style=\"fill:#009af9; stroke:none; fill-opacity:0\" cx=\"1565.63\" cy=\"553.128\" r=\"2\"/>\n",
       "<circle clip-path=\"url(#clip202)\" style=\"fill:#009af9; stroke:none; fill-opacity:0\" cx=\"1595.25\" cy=\"672.559\" r=\"2\"/>\n",
       "<circle clip-path=\"url(#clip202)\" style=\"fill:#009af9; stroke:none; fill-opacity:0\" cx=\"1624.86\" cy=\"791.989\" r=\"2\"/>\n",
       "<circle clip-path=\"url(#clip202)\" style=\"fill:#009af9; stroke:none; fill-opacity:0\" cx=\"1654.48\" cy=\"773.132\" r=\"2\"/>\n",
       "<circle clip-path=\"url(#clip202)\" style=\"fill:#009af9; stroke:none; fill-opacity:0\" cx=\"1684.09\" cy=\"936.563\" r=\"2\"/>\n",
       "<circle clip-path=\"url(#clip202)\" style=\"fill:#009af9; stroke:none; fill-opacity:0\" cx=\"1713.71\" cy=\"1011.99\" r=\"2\"/>\n",
       "<circle clip-path=\"url(#clip202)\" style=\"fill:#009af9; stroke:none; fill-opacity:0\" cx=\"1743.32\" cy=\"1030.85\" r=\"2\"/>\n",
       "<circle clip-path=\"url(#clip202)\" style=\"fill:#009af9; stroke:none; fill-opacity:0\" cx=\"1772.93\" cy=\"999.422\" r=\"2\"/>\n",
       "<circle clip-path=\"url(#clip202)\" style=\"fill:#009af9; stroke:none; fill-opacity:0\" cx=\"1802.55\" cy=\"1175.42\" r=\"2\"/>\n",
       "<circle clip-path=\"url(#clip202)\" style=\"fill:#009af9; stroke:none; fill-opacity:0\" cx=\"1832.16\" cy=\"1188\" r=\"2\"/>\n",
       "<circle clip-path=\"url(#clip202)\" style=\"fill:#009af9; stroke:none; fill-opacity:0\" cx=\"1861.78\" cy=\"1282.28\" r=\"2\"/>\n",
       "<circle clip-path=\"url(#clip202)\" style=\"fill:#009af9; stroke:none; fill-opacity:0\" cx=\"1891.39\" cy=\"1244.57\" r=\"2\"/>\n",
       "<circle clip-path=\"url(#clip202)\" style=\"fill:#009af9; stroke:none; fill-opacity:0\" cx=\"1921.01\" cy=\"1313.71\" r=\"2\"/>\n",
       "<circle clip-path=\"url(#clip202)\" style=\"fill:#009af9; stroke:none; fill-opacity:0\" cx=\"1950.62\" cy=\"1351.43\" r=\"2\"/>\n",
       "<circle clip-path=\"url(#clip202)\" style=\"fill:#009af9; stroke:none; fill-opacity:0\" cx=\"1980.24\" cy=\"1326.28\" r=\"2\"/>\n",
       "<circle clip-path=\"url(#clip202)\" style=\"fill:#009af9; stroke:none; fill-opacity:0\" cx=\"2009.85\" cy=\"1364\" r=\"2\"/>\n",
       "<circle clip-path=\"url(#clip202)\" style=\"fill:#009af9; stroke:none; fill-opacity:0\" cx=\"2039.47\" cy=\"1395.43\" r=\"2\"/>\n",
       "<circle clip-path=\"url(#clip202)\" style=\"fill:#009af9; stroke:none; fill-opacity:0\" cx=\"2069.08\" cy=\"1345.14\" r=\"2\"/>\n",
       "<circle clip-path=\"url(#clip202)\" style=\"fill:#009af9; stroke:none; fill-opacity:0\" cx=\"2098.7\" cy=\"1420.57\" r=\"2\"/>\n",
       "<circle clip-path=\"url(#clip202)\" style=\"fill:#009af9; stroke:none; fill-opacity:0\" cx=\"2128.31\" cy=\"1408\" r=\"2\"/>\n",
       "<circle clip-path=\"url(#clip202)\" style=\"fill:#009af9; stroke:none; fill-opacity:0\" cx=\"2157.93\" cy=\"1420.57\" r=\"2\"/>\n",
       "<circle clip-path=\"url(#clip202)\" style=\"fill:#009af9; stroke:none; fill-opacity:0\" cx=\"2187.54\" cy=\"1426.86\" r=\"2\"/>\n",
       "<circle clip-path=\"url(#clip202)\" style=\"fill:#009af9; stroke:none; fill-opacity:0\" cx=\"2217.16\" cy=\"1420.57\" r=\"2\"/>\n",
       "</svg>\n"
      ]
     },
     "execution_count": 71,
     "metadata": {},
     "output_type": "execute_result"
    }
   ],
   "source": [
    "Ω = randn(5000);\n",
    "histogram(Ω, legend = false, norm=true, nbins = 100, alpha = 0.8)"
   ]
  },
  {
   "cell_type": "code",
   "execution_count": 72,
   "metadata": {},
   "outputs": [
    {
     "data": {
      "image/svg+xml": [
       "<?xml version=\"1.0\" encoding=\"utf-8\"?>\n",
       "<svg xmlns=\"http://www.w3.org/2000/svg\" xmlns:xlink=\"http://www.w3.org/1999/xlink\" width=\"600\" height=\"400\" viewBox=\"0 0 2400 1600\">\n",
       "<defs>\n",
       "  <clipPath id=\"clip240\">\n",
       "    <rect x=\"0\" y=\"0\" width=\"2400\" height=\"1600\"/>\n",
       "  </clipPath>\n",
       "</defs>\n",
       "<path clip-path=\"url(#clip240)\" d=\"\n",
       "M0 1600 L2400 1600 L2400 0 L0 0  Z\n",
       "  \" fill=\"#ffffff\" fill-rule=\"evenodd\" fill-opacity=\"1\"/>\n",
       "<defs>\n",
       "  <clipPath id=\"clip241\">\n",
       "    <rect x=\"480\" y=\"0\" width=\"1681\" height=\"1600\"/>\n",
       "  </clipPath>\n",
       "</defs>\n",
       "<path clip-path=\"url(#clip240)\" d=\"\n",
       "M156.598 1486.45 L2352.76 1486.45 L2352.76 47.2441 L156.598 47.2441  Z\n",
       "  \" fill=\"#ffffff\" fill-rule=\"evenodd\" fill-opacity=\"1\"/>\n",
       "<defs>\n",
       "  <clipPath id=\"clip242\">\n",
       "    <rect x=\"156\" y=\"47\" width=\"2197\" height=\"1440\"/>\n",
       "  </clipPath>\n",
       "</defs>\n",
       "<polyline clip-path=\"url(#clip242)\" style=\"stroke:#000000; stroke-linecap:butt; stroke-linejoin:round; stroke-width:2; stroke-opacity:0.1; fill:none\" points=\"\n",
       "  425.938,1486.45 425.938,47.2441 \n",
       "  \"/>\n",
       "<polyline clip-path=\"url(#clip242)\" style=\"stroke:#000000; stroke-linecap:butt; stroke-linejoin:round; stroke-width:2; stroke-opacity:0.1; fill:none\" points=\"\n",
       "  840.308,1486.45 840.308,47.2441 \n",
       "  \"/>\n",
       "<polyline clip-path=\"url(#clip242)\" style=\"stroke:#000000; stroke-linecap:butt; stroke-linejoin:round; stroke-width:2; stroke-opacity:0.1; fill:none\" points=\"\n",
       "  1254.68,1486.45 1254.68,47.2441 \n",
       "  \"/>\n",
       "<polyline clip-path=\"url(#clip242)\" style=\"stroke:#000000; stroke-linecap:butt; stroke-linejoin:round; stroke-width:2; stroke-opacity:0.1; fill:none\" points=\"\n",
       "  1669.05,1486.45 1669.05,47.2441 \n",
       "  \"/>\n",
       "<polyline clip-path=\"url(#clip242)\" style=\"stroke:#000000; stroke-linecap:butt; stroke-linejoin:round; stroke-width:2; stroke-opacity:0.1; fill:none\" points=\"\n",
       "  2083.42,1486.45 2083.42,47.2441 \n",
       "  \"/>\n",
       "<polyline clip-path=\"url(#clip240)\" style=\"stroke:#000000; stroke-linecap:butt; stroke-linejoin:round; stroke-width:4; stroke-opacity:1; fill:none\" points=\"\n",
       "  156.598,1486.45 2352.76,1486.45 \n",
       "  \"/>\n",
       "<polyline clip-path=\"url(#clip240)\" style=\"stroke:#000000; stroke-linecap:butt; stroke-linejoin:round; stroke-width:4; stroke-opacity:1; fill:none\" points=\"\n",
       "  425.938,1486.45 425.938,1467.55 \n",
       "  \"/>\n",
       "<polyline clip-path=\"url(#clip240)\" style=\"stroke:#000000; stroke-linecap:butt; stroke-linejoin:round; stroke-width:4; stroke-opacity:1; fill:none\" points=\"\n",
       "  840.308,1486.45 840.308,1467.55 \n",
       "  \"/>\n",
       "<polyline clip-path=\"url(#clip240)\" style=\"stroke:#000000; stroke-linecap:butt; stroke-linejoin:round; stroke-width:4; stroke-opacity:1; fill:none\" points=\"\n",
       "  1254.68,1486.45 1254.68,1467.55 \n",
       "  \"/>\n",
       "<polyline clip-path=\"url(#clip240)\" style=\"stroke:#000000; stroke-linecap:butt; stroke-linejoin:round; stroke-width:4; stroke-opacity:1; fill:none\" points=\"\n",
       "  1669.05,1486.45 1669.05,1467.55 \n",
       "  \"/>\n",
       "<polyline clip-path=\"url(#clip240)\" style=\"stroke:#000000; stroke-linecap:butt; stroke-linejoin:round; stroke-width:4; stroke-opacity:1; fill:none\" points=\"\n",
       "  2083.42,1486.45 2083.42,1467.55 \n",
       "  \"/>\n",
       "<path clip-path=\"url(#clip240)\" d=\"M394.839 1532.02 L424.515 1532.02 L424.515 1535.95 L394.839 1535.95 L394.839 1532.02 Z\" fill=\"#000000\" fill-rule=\"evenodd\" fill-opacity=\"1\" /><path clip-path=\"url(#clip240)\" d=\"M447.454 1518.36 L435.649 1536.81 L447.454 1536.81 L447.454 1518.36 M446.228 1514.29 L452.107 1514.29 L452.107 1536.81 L457.038 1536.81 L457.038 1540.7 L452.107 1540.7 L452.107 1548.85 L447.454 1548.85 L447.454 1540.7 L431.853 1540.7 L431.853 1536.19 L446.228 1514.29 Z\" fill=\"#000000\" fill-rule=\"evenodd\" fill-opacity=\"1\" /><path clip-path=\"url(#clip240)\" d=\"M810.25 1532.02 L839.926 1532.02 L839.926 1535.95 L810.25 1535.95 L810.25 1532.02 Z\" fill=\"#000000\" fill-rule=\"evenodd\" fill-opacity=\"1\" /><path clip-path=\"url(#clip240)\" d=\"M854.046 1544.91 L870.365 1544.91 L870.365 1548.85 L848.421 1548.85 L848.421 1544.91 Q851.083 1542.16 855.666 1537.53 Q860.273 1532.88 861.453 1531.53 Q863.699 1529.01 864.578 1527.27 Q865.481 1525.51 865.481 1523.82 Q865.481 1521.07 863.537 1519.33 Q861.615 1517.6 858.514 1517.6 Q856.315 1517.6 853.861 1518.36 Q851.43 1519.13 848.653 1520.68 L848.653 1515.95 Q851.477 1514.82 853.93 1514.24 Q856.384 1513.66 858.421 1513.66 Q863.791 1513.66 866.986 1516.35 Q870.18 1519.03 870.18 1523.52 Q870.18 1525.65 869.37 1527.57 Q868.583 1529.47 866.477 1532.07 Q865.898 1532.74 862.796 1535.95 Q859.694 1539.15 854.046 1544.91 Z\" fill=\"#000000\" fill-rule=\"evenodd\" fill-opacity=\"1\" /><path clip-path=\"url(#clip240)\" d=\"M1254.68 1517.37 Q1251.07 1517.37 1249.24 1520.93 Q1247.43 1524.47 1247.43 1531.6 Q1247.43 1538.71 1249.24 1542.27 Q1251.07 1545.82 1254.68 1545.82 Q1258.31 1545.82 1260.12 1542.27 Q1261.95 1538.71 1261.95 1531.6 Q1261.95 1524.47 1260.12 1520.93 Q1258.31 1517.37 1254.68 1517.37 M1254.68 1513.66 Q1260.49 1513.66 1263.54 1518.27 Q1266.62 1522.85 1266.62 1531.6 Q1266.62 1540.33 1263.54 1544.94 Q1260.49 1549.52 1254.68 1549.52 Q1248.87 1549.52 1245.79 1544.94 Q1242.73 1540.33 1242.73 1531.6 Q1242.73 1522.85 1245.79 1518.27 Q1248.87 1513.66 1254.68 1513.66 Z\" fill=\"#000000\" fill-rule=\"evenodd\" fill-opacity=\"1\" /><path clip-path=\"url(#clip240)\" d=\"M1663.7 1544.91 L1680.02 1544.91 L1680.02 1548.85 L1658.07 1548.85 L1658.07 1544.91 Q1660.74 1542.16 1665.32 1537.53 Q1669.93 1532.88 1671.11 1531.53 Q1673.35 1529.01 1674.23 1527.27 Q1675.13 1525.51 1675.13 1523.82 Q1675.13 1521.07 1673.19 1519.33 Q1671.27 1517.6 1668.17 1517.6 Q1665.97 1517.6 1663.51 1518.36 Q1661.08 1519.13 1658.31 1520.68 L1658.31 1515.95 Q1661.13 1514.82 1663.58 1514.24 Q1666.04 1513.66 1668.07 1513.66 Q1673.44 1513.66 1676.64 1516.35 Q1679.83 1519.03 1679.83 1523.52 Q1679.83 1525.65 1679.02 1527.57 Q1678.24 1529.47 1676.13 1532.07 Q1675.55 1532.74 1672.45 1535.95 Q1669.35 1539.15 1663.7 1544.91 Z\" fill=\"#000000\" fill-rule=\"evenodd\" fill-opacity=\"1\" /><path clip-path=\"url(#clip240)\" d=\"M2086.43 1518.36 L2074.62 1536.81 L2086.43 1536.81 L2086.43 1518.36 M2085.2 1514.29 L2091.08 1514.29 L2091.08 1536.81 L2096.01 1536.81 L2096.01 1540.7 L2091.08 1540.7 L2091.08 1548.85 L2086.43 1548.85 L2086.43 1540.7 L2070.82 1540.7 L2070.82 1536.19 L2085.2 1514.29 Z\" fill=\"#000000\" fill-rule=\"evenodd\" fill-opacity=\"1\" /><polyline clip-path=\"url(#clip242)\" style=\"stroke:#000000; stroke-linecap:butt; stroke-linejoin:round; stroke-width:2; stroke-opacity:0.1; fill:none\" points=\"\n",
       "  156.598,1445.72 2352.76,1445.72 \n",
       "  \"/>\n",
       "<polyline clip-path=\"url(#clip242)\" style=\"stroke:#000000; stroke-linecap:butt; stroke-linejoin:round; stroke-width:2; stroke-opacity:0.1; fill:none\" points=\"\n",
       "  156.598,1131.42 2352.76,1131.42 \n",
       "  \"/>\n",
       "<polyline clip-path=\"url(#clip242)\" style=\"stroke:#000000; stroke-linecap:butt; stroke-linejoin:round; stroke-width:2; stroke-opacity:0.1; fill:none\" points=\"\n",
       "  156.598,817.133 2352.76,817.133 \n",
       "  \"/>\n",
       "<polyline clip-path=\"url(#clip242)\" style=\"stroke:#000000; stroke-linecap:butt; stroke-linejoin:round; stroke-width:2; stroke-opacity:0.1; fill:none\" points=\"\n",
       "  156.598,502.841 2352.76,502.841 \n",
       "  \"/>\n",
       "<polyline clip-path=\"url(#clip242)\" style=\"stroke:#000000; stroke-linecap:butt; stroke-linejoin:round; stroke-width:2; stroke-opacity:0.1; fill:none\" points=\"\n",
       "  156.598,188.55 2352.76,188.55 \n",
       "  \"/>\n",
       "<polyline clip-path=\"url(#clip240)\" style=\"stroke:#000000; stroke-linecap:butt; stroke-linejoin:round; stroke-width:4; stroke-opacity:1; fill:none\" points=\"\n",
       "  156.598,1486.45 156.598,47.2441 \n",
       "  \"/>\n",
       "<polyline clip-path=\"url(#clip240)\" style=\"stroke:#000000; stroke-linecap:butt; stroke-linejoin:round; stroke-width:4; stroke-opacity:1; fill:none\" points=\"\n",
       "  156.598,1445.72 175.496,1445.72 \n",
       "  \"/>\n",
       "<polyline clip-path=\"url(#clip240)\" style=\"stroke:#000000; stroke-linecap:butt; stroke-linejoin:round; stroke-width:4; stroke-opacity:1; fill:none\" points=\"\n",
       "  156.598,1131.42 175.496,1131.42 \n",
       "  \"/>\n",
       "<polyline clip-path=\"url(#clip240)\" style=\"stroke:#000000; stroke-linecap:butt; stroke-linejoin:round; stroke-width:4; stroke-opacity:1; fill:none\" points=\"\n",
       "  156.598,817.133 175.496,817.133 \n",
       "  \"/>\n",
       "<polyline clip-path=\"url(#clip240)\" style=\"stroke:#000000; stroke-linecap:butt; stroke-linejoin:round; stroke-width:4; stroke-opacity:1; fill:none\" points=\"\n",
       "  156.598,502.841 175.496,502.841 \n",
       "  \"/>\n",
       "<polyline clip-path=\"url(#clip240)\" style=\"stroke:#000000; stroke-linecap:butt; stroke-linejoin:round; stroke-width:4; stroke-opacity:1; fill:none\" points=\"\n",
       "  156.598,188.55 175.496,188.55 \n",
       "  \"/>\n",
       "<path clip-path=\"url(#clip240)\" d=\"M63.4226 1431.51 Q59.8115 1431.51 57.9828 1435.08 Q56.1773 1438.62 56.1773 1445.75 Q56.1773 1452.86 57.9828 1456.42 Q59.8115 1459.96 63.4226 1459.96 Q67.0569 1459.96 68.8624 1456.42 Q70.6911 1452.86 70.6911 1445.75 Q70.6911 1438.62 68.8624 1435.08 Q67.0569 1431.51 63.4226 1431.51 M63.4226 1427.81 Q69.2328 1427.81 72.2883 1432.42 Q75.367 1437 75.367 1445.75 Q75.367 1454.48 72.2883 1459.08 Q69.2328 1463.67 63.4226 1463.67 Q57.6125 1463.67 54.5338 1459.08 Q51.4782 1454.48 51.4782 1445.75 Q51.4782 1437 54.5338 1432.42 Q57.6125 1427.81 63.4226 1427.81 Z\" fill=\"#000000\" fill-rule=\"evenodd\" fill-opacity=\"1\" /><path clip-path=\"url(#clip240)\" d=\"M83.5845 1457.12 L88.4688 1457.12 L88.4688 1463 L83.5845 1463 L83.5845 1457.12 Z\" fill=\"#000000\" fill-rule=\"evenodd\" fill-opacity=\"1\" /><path clip-path=\"url(#clip240)\" d=\"M108.654 1431.51 Q105.043 1431.51 103.214 1435.08 Q101.409 1438.62 101.409 1445.75 Q101.409 1452.86 103.214 1456.42 Q105.043 1459.96 108.654 1459.96 Q112.288 1459.96 114.094 1456.42 Q115.922 1452.86 115.922 1445.75 Q115.922 1438.62 114.094 1435.08 Q112.288 1431.51 108.654 1431.51 M108.654 1427.81 Q114.464 1427.81 117.52 1432.42 Q120.598 1437 120.598 1445.75 Q120.598 1454.48 117.52 1459.08 Q114.464 1463.67 108.654 1463.67 Q102.844 1463.67 99.765 1459.08 Q96.7095 1454.48 96.7095 1445.75 Q96.7095 1437 99.765 1432.42 Q102.844 1427.81 108.654 1427.81 Z\" fill=\"#000000\" fill-rule=\"evenodd\" fill-opacity=\"1\" /><path clip-path=\"url(#clip240)\" d=\"M64.6495 1117.22 Q61.0384 1117.22 59.2097 1120.79 Q57.4041 1124.33 57.4041 1131.46 Q57.4041 1138.57 59.2097 1142.13 Q61.0384 1145.67 64.6495 1145.67 Q68.2837 1145.67 70.0892 1142.13 Q71.9179 1138.57 71.9179 1131.46 Q71.9179 1124.33 70.0892 1120.79 Q68.2837 1117.22 64.6495 1117.22 M64.6495 1113.52 Q70.4596 1113.52 73.5152 1118.13 Q76.5938 1122.71 76.5938 1131.46 Q76.5938 1140.19 73.5152 1144.79 Q70.4596 1149.38 64.6495 1149.38 Q58.8393 1149.38 55.7606 1144.79 Q52.7051 1140.19 52.7051 1131.46 Q52.7051 1122.71 55.7606 1118.13 Q58.8393 1113.52 64.6495 1113.52 Z\" fill=\"#000000\" fill-rule=\"evenodd\" fill-opacity=\"1\" /><path clip-path=\"url(#clip240)\" d=\"M84.8114 1142.82 L89.6956 1142.82 L89.6956 1148.7 L84.8114 1148.7 L84.8114 1142.82 Z\" fill=\"#000000\" fill-rule=\"evenodd\" fill-opacity=\"1\" /><path clip-path=\"url(#clip240)\" d=\"M100.691 1144.77 L108.33 1144.77 L108.33 1118.4 L100.02 1120.07 L100.02 1115.81 L108.283 1114.14 L112.959 1114.14 L112.959 1144.77 L120.598 1144.77 L120.598 1148.7 L100.691 1148.7 L100.691 1144.77 Z\" fill=\"#000000\" fill-rule=\"evenodd\" fill-opacity=\"1\" /><path clip-path=\"url(#clip240)\" d=\"M65.0198 802.931 Q61.4087 802.931 59.58 806.496 Q57.7745 810.038 57.7745 817.167 Q57.7745 824.274 59.58 827.839 Q61.4087 831.38 65.0198 831.38 Q68.6541 831.38 70.4596 827.839 Q72.2883 824.274 72.2883 817.167 Q72.2883 810.038 70.4596 806.496 Q68.6541 802.931 65.0198 802.931 M65.0198 799.228 Q70.83 799.228 73.8855 803.834 Q76.9642 808.417 76.9642 817.167 Q76.9642 825.894 73.8855 830.501 Q70.83 835.084 65.0198 835.084 Q59.2097 835.084 56.131 830.501 Q53.0754 825.894 53.0754 817.167 Q53.0754 808.417 56.131 803.834 Q59.2097 799.228 65.0198 799.228 Z\" fill=\"#000000\" fill-rule=\"evenodd\" fill-opacity=\"1\" /><path clip-path=\"url(#clip240)\" d=\"M85.1818 828.533 L90.066 828.533 L90.066 834.413 L85.1818 834.413 L85.1818 828.533 Z\" fill=\"#000000\" fill-rule=\"evenodd\" fill-opacity=\"1\" /><path clip-path=\"url(#clip240)\" d=\"M104.279 830.477 L120.598 830.477 L120.598 834.413 L98.6539 834.413 L98.6539 830.477 Q101.316 827.723 105.899 823.093 Q110.506 818.44 111.686 817.098 Q113.932 814.575 114.811 812.839 Q115.714 811.079 115.714 809.39 Q115.714 806.635 113.77 804.899 Q111.848 803.163 108.746 803.163 Q106.547 803.163 104.094 803.927 Q101.663 804.691 98.8854 806.241 L98.8854 801.519 Q101.709 800.385 104.163 799.806 Q106.617 799.228 108.654 799.228 Q114.024 799.228 117.219 801.913 Q120.413 804.598 120.413 809.089 Q120.413 811.218 119.603 813.14 Q118.816 815.038 116.709 817.63 Q116.131 818.302 113.029 821.519 Q109.927 824.714 104.279 830.477 Z\" fill=\"#000000\" fill-rule=\"evenodd\" fill-opacity=\"1\" /><path clip-path=\"url(#clip240)\" d=\"M64.0708 488.64 Q60.4597 488.64 58.631 492.205 Q56.8254 495.746 56.8254 502.876 Q56.8254 509.982 58.631 513.547 Q60.4597 517.089 64.0708 517.089 Q67.705 517.089 69.5105 513.547 Q71.3392 509.982 71.3392 502.876 Q71.3392 495.746 69.5105 492.205 Q67.705 488.64 64.0708 488.64 M64.0708 484.936 Q69.8809 484.936 72.9365 489.543 Q76.0151 494.126 76.0151 502.876 Q76.0151 511.603 72.9365 516.209 Q69.8809 520.792 64.0708 520.792 Q58.2606 520.792 55.1819 516.209 Q52.1264 511.603 52.1264 502.876 Q52.1264 494.126 55.1819 489.543 Q58.2606 484.936 64.0708 484.936 Z\" fill=\"#000000\" fill-rule=\"evenodd\" fill-opacity=\"1\" /><path clip-path=\"url(#clip240)\" d=\"M84.2327 514.241 L89.1169 514.241 L89.1169 520.121 L84.2327 520.121 L84.2327 514.241 Z\" fill=\"#000000\" fill-rule=\"evenodd\" fill-opacity=\"1\" /><path clip-path=\"url(#clip240)\" d=\"M113.469 501.487 Q116.825 502.205 118.7 504.473 Q120.598 506.742 120.598 510.075 Q120.598 515.191 117.08 517.991 Q113.561 520.792 107.08 520.792 Q104.904 520.792 102.589 520.353 Q100.297 519.936 97.8437 519.079 L97.8437 514.566 Q99.7882 515.7 102.103 516.279 Q104.418 516.857 106.941 516.857 Q111.339 516.857 113.631 515.121 Q115.945 513.385 115.945 510.075 Q115.945 507.019 113.793 505.306 Q111.663 503.57 107.844 503.57 L103.816 503.57 L103.816 499.728 L108.029 499.728 Q111.478 499.728 113.307 498.362 Q115.135 496.973 115.135 494.38 Q115.135 491.718 113.237 490.306 Q111.362 488.871 107.844 488.871 Q105.922 488.871 103.723 489.288 Q101.524 489.705 98.8854 490.584 L98.8854 486.418 Q101.547 485.677 103.862 485.306 Q106.2 484.936 108.26 484.936 Q113.584 484.936 116.686 487.367 Q119.788 489.774 119.788 493.894 Q119.788 496.765 118.145 498.755 Q116.501 500.723 113.469 501.487 Z\" fill=\"#000000\" fill-rule=\"evenodd\" fill-opacity=\"1\" /><path clip-path=\"url(#clip240)\" d=\"M62.9365 174.348 Q59.3254 174.348 57.4967 177.913 Q55.6912 181.455 55.6912 188.584 Q55.6912 195.691 57.4967 199.256 Q59.3254 202.797 62.9365 202.797 Q66.5707 202.797 68.3763 199.256 Q70.205 195.691 70.205 188.584 Q70.205 181.455 68.3763 177.913 Q66.5707 174.348 62.9365 174.348 M62.9365 170.645 Q68.7467 170.645 71.8022 175.251 Q74.8809 179.834 74.8809 188.584 Q74.8809 197.311 71.8022 201.918 Q68.7467 206.501 62.9365 206.501 Q57.1264 206.501 54.0477 201.918 Q50.9921 197.311 50.9921 188.584 Q50.9921 179.834 54.0477 175.251 Q57.1264 170.645 62.9365 170.645 Z\" fill=\"#000000\" fill-rule=\"evenodd\" fill-opacity=\"1\" /><path clip-path=\"url(#clip240)\" d=\"M83.0984 199.95 L87.9827 199.95 L87.9827 205.83 L83.0984 205.83 L83.0984 199.95 Z\" fill=\"#000000\" fill-rule=\"evenodd\" fill-opacity=\"1\" /><path clip-path=\"url(#clip240)\" d=\"M111.015 175.344 L99.2095 193.793 L111.015 193.793 L111.015 175.344 M109.788 171.27 L115.668 171.27 L115.668 193.793 L120.598 193.793 L120.598 197.681 L115.668 197.681 L115.668 205.83 L111.015 205.83 L111.015 197.681 L95.4132 197.681 L95.4132 193.168 L109.788 171.27 Z\" fill=\"#000000\" fill-rule=\"evenodd\" fill-opacity=\"1\" /><path clip-path=\"url(#clip242)\" d=\"\n",
       "M529.531 1439.43 L529.531 1445.72 L550.249 1445.72 L550.249 1439.43 L529.531 1439.43 L529.531 1439.43  Z\n",
       "  \" fill=\"#009af9\" fill-rule=\"evenodd\" fill-opacity=\"0.8\"/>\n",
       "<polyline clip-path=\"url(#clip242)\" style=\"stroke:#000000; stroke-linecap:butt; stroke-linejoin:round; stroke-width:4; stroke-opacity:0.8; fill:none\" points=\"\n",
       "  529.531,1439.43 529.531,1445.72 550.249,1445.72 550.249,1439.43 529.531,1439.43 \n",
       "  \"/>\n",
       "<path clip-path=\"url(#clip242)\" d=\"\n",
       "M550.249 1445.72 L550.249 1445.72 L570.968 1445.72 L570.968 1445.72 L550.249 1445.72 L550.249 1445.72  Z\n",
       "  \" fill=\"#009af9\" fill-rule=\"evenodd\" fill-opacity=\"0.8\"/>\n",
       "<polyline clip-path=\"url(#clip242)\" style=\"stroke:#000000; stroke-linecap:butt; stroke-linejoin:round; stroke-width:4; stroke-opacity:0.8; fill:none\" points=\"\n",
       "  550.249,1445.72 550.249,1445.72 570.968,1445.72 550.249,1445.72 \n",
       "  \"/>\n",
       "<path clip-path=\"url(#clip242)\" d=\"\n",
       "M570.968 1439.43 L570.968 1445.72 L591.686 1445.72 L591.686 1439.43 L570.968 1439.43 L570.968 1439.43  Z\n",
       "  \" fill=\"#009af9\" fill-rule=\"evenodd\" fill-opacity=\"0.8\"/>\n",
       "<polyline clip-path=\"url(#clip242)\" style=\"stroke:#000000; stroke-linecap:butt; stroke-linejoin:round; stroke-width:4; stroke-opacity:0.8; fill:none\" points=\"\n",
       "  570.968,1439.43 570.968,1445.72 591.686,1445.72 591.686,1439.43 570.968,1439.43 \n",
       "  \"/>\n",
       "<path clip-path=\"url(#clip242)\" d=\"\n",
       "M591.686 1445.72 L591.686 1445.72 L612.405 1445.72 L612.405 1445.72 L591.686 1445.72 L591.686 1445.72  Z\n",
       "  \" fill=\"#009af9\" fill-rule=\"evenodd\" fill-opacity=\"0.8\"/>\n",
       "<polyline clip-path=\"url(#clip242)\" style=\"stroke:#000000; stroke-linecap:butt; stroke-linejoin:round; stroke-width:4; stroke-opacity:0.8; fill:none\" points=\"\n",
       "  591.686,1445.72 591.686,1445.72 612.405,1445.72 591.686,1445.72 \n",
       "  \"/>\n",
       "<path clip-path=\"url(#clip242)\" d=\"\n",
       "M612.405 1433.14 L612.405 1445.72 L633.123 1445.72 L633.123 1433.14 L612.405 1433.14 L612.405 1433.14  Z\n",
       "  \" fill=\"#009af9\" fill-rule=\"evenodd\" fill-opacity=\"0.8\"/>\n",
       "<polyline clip-path=\"url(#clip242)\" style=\"stroke:#000000; stroke-linecap:butt; stroke-linejoin:round; stroke-width:4; stroke-opacity:0.8; fill:none\" points=\"\n",
       "  612.405,1433.14 612.405,1445.72 633.123,1445.72 633.123,1433.14 612.405,1433.14 \n",
       "  \"/>\n",
       "<path clip-path=\"url(#clip242)\" d=\"\n",
       "M633.123 1445.72 L633.123 1445.72 L653.841 1445.72 L653.841 1445.72 L633.123 1445.72 L633.123 1445.72  Z\n",
       "  \" fill=\"#009af9\" fill-rule=\"evenodd\" fill-opacity=\"0.8\"/>\n",
       "<polyline clip-path=\"url(#clip242)\" style=\"stroke:#000000; stroke-linecap:butt; stroke-linejoin:round; stroke-width:4; stroke-opacity:0.8; fill:none\" points=\"\n",
       "  633.123,1445.72 633.123,1445.72 653.841,1445.72 633.123,1445.72 \n",
       "  \"/>\n",
       "<path clip-path=\"url(#clip242)\" d=\"\n",
       "M653.841 1408 L653.841 1445.72 L674.56 1445.72 L674.56 1408 L653.841 1408 L653.841 1408  Z\n",
       "  \" fill=\"#009af9\" fill-rule=\"evenodd\" fill-opacity=\"0.8\"/>\n",
       "<polyline clip-path=\"url(#clip242)\" style=\"stroke:#000000; stroke-linecap:butt; stroke-linejoin:round; stroke-width:4; stroke-opacity:0.8; fill:none\" points=\"\n",
       "  653.841,1408 653.841,1445.72 674.56,1445.72 674.56,1408 653.841,1408 \n",
       "  \"/>\n",
       "<path clip-path=\"url(#clip242)\" d=\"\n",
       "M674.56 1414.29 L674.56 1445.72 L695.278 1445.72 L695.278 1414.29 L674.56 1414.29 L674.56 1414.29  Z\n",
       "  \" fill=\"#009af9\" fill-rule=\"evenodd\" fill-opacity=\"0.8\"/>\n",
       "<polyline clip-path=\"url(#clip242)\" style=\"stroke:#000000; stroke-linecap:butt; stroke-linejoin:round; stroke-width:4; stroke-opacity:0.8; fill:none\" points=\"\n",
       "  674.56,1414.29 674.56,1445.72 695.278,1445.72 695.278,1414.29 674.56,1414.29 \n",
       "  \"/>\n",
       "<path clip-path=\"url(#clip242)\" d=\"\n",
       "M695.278 1395.43 L695.278 1445.72 L715.997 1445.72 L715.997 1395.43 L695.278 1395.43 L695.278 1395.43  Z\n",
       "  \" fill=\"#009af9\" fill-rule=\"evenodd\" fill-opacity=\"0.8\"/>\n",
       "<polyline clip-path=\"url(#clip242)\" style=\"stroke:#000000; stroke-linecap:butt; stroke-linejoin:round; stroke-width:4; stroke-opacity:0.8; fill:none\" points=\"\n",
       "  695.278,1395.43 695.278,1445.72 715.997,1445.72 715.997,1395.43 695.278,1395.43 \n",
       "  \"/>\n",
       "<path clip-path=\"url(#clip242)\" d=\"\n",
       "M715.997 1420.57 L715.997 1445.72 L736.715 1445.72 L736.715 1420.57 L715.997 1420.57 L715.997 1420.57  Z\n",
       "  \" fill=\"#009af9\" fill-rule=\"evenodd\" fill-opacity=\"0.8\"/>\n",
       "<polyline clip-path=\"url(#clip242)\" style=\"stroke:#000000; stroke-linecap:butt; stroke-linejoin:round; stroke-width:4; stroke-opacity:0.8; fill:none\" points=\"\n",
       "  715.997,1420.57 715.997,1445.72 736.715,1445.72 736.715,1420.57 715.997,1420.57 \n",
       "  \"/>\n",
       "<path clip-path=\"url(#clip242)\" d=\"\n",
       "M736.715 1395.43 L736.715 1445.72 L757.434 1445.72 L757.434 1395.43 L736.715 1395.43 L736.715 1395.43  Z\n",
       "  \" fill=\"#009af9\" fill-rule=\"evenodd\" fill-opacity=\"0.8\"/>\n",
       "<polyline clip-path=\"url(#clip242)\" style=\"stroke:#000000; stroke-linecap:butt; stroke-linejoin:round; stroke-width:4; stroke-opacity:0.8; fill:none\" points=\"\n",
       "  736.715,1395.43 736.715,1445.72 757.434,1445.72 757.434,1395.43 736.715,1395.43 \n",
       "  \"/>\n",
       "<path clip-path=\"url(#clip242)\" d=\"\n",
       "M757.434 1376.57 L757.434 1445.72 L778.152 1445.72 L778.152 1376.57 L757.434 1376.57 L757.434 1376.57  Z\n",
       "  \" fill=\"#009af9\" fill-rule=\"evenodd\" fill-opacity=\"0.8\"/>\n",
       "<polyline clip-path=\"url(#clip242)\" style=\"stroke:#000000; stroke-linecap:butt; stroke-linejoin:round; stroke-width:4; stroke-opacity:0.8; fill:none\" points=\"\n",
       "  757.434,1376.57 757.434,1445.72 778.152,1445.72 778.152,1376.57 757.434,1376.57 \n",
       "  \"/>\n",
       "<path clip-path=\"url(#clip242)\" d=\"\n",
       "M778.152 1320 L778.152 1445.72 L798.871 1445.72 L798.871 1320 L778.152 1320 L778.152 1320  Z\n",
       "  \" fill=\"#009af9\" fill-rule=\"evenodd\" fill-opacity=\"0.8\"/>\n",
       "<polyline clip-path=\"url(#clip242)\" style=\"stroke:#000000; stroke-linecap:butt; stroke-linejoin:round; stroke-width:4; stroke-opacity:0.8; fill:none\" points=\"\n",
       "  778.152,1320 778.152,1445.72 798.871,1445.72 798.871,1320 778.152,1320 \n",
       "  \"/>\n",
       "<path clip-path=\"url(#clip242)\" d=\"\n",
       "M798.871 1288.57 L798.871 1445.72 L819.589 1445.72 L819.589 1288.57 L798.871 1288.57 L798.871 1288.57  Z\n",
       "  \" fill=\"#009af9\" fill-rule=\"evenodd\" fill-opacity=\"0.8\"/>\n",
       "<polyline clip-path=\"url(#clip242)\" style=\"stroke:#000000; stroke-linecap:butt; stroke-linejoin:round; stroke-width:4; stroke-opacity:0.8; fill:none\" points=\"\n",
       "  798.871,1288.57 798.871,1445.72 819.589,1445.72 819.589,1288.57 798.871,1288.57 \n",
       "  \"/>\n",
       "<path clip-path=\"url(#clip242)\" d=\"\n",
       "M819.589 1294.86 L819.589 1445.72 L840.308 1445.72 L840.308 1294.86 L819.589 1294.86 L819.589 1294.86  Z\n",
       "  \" fill=\"#009af9\" fill-rule=\"evenodd\" fill-opacity=\"0.8\"/>\n",
       "<polyline clip-path=\"url(#clip242)\" style=\"stroke:#000000; stroke-linecap:butt; stroke-linejoin:round; stroke-width:4; stroke-opacity:0.8; fill:none\" points=\"\n",
       "  819.589,1294.86 819.589,1445.72 840.308,1445.72 840.308,1294.86 819.589,1294.86 \n",
       "  \"/>\n",
       "<path clip-path=\"url(#clip242)\" d=\"\n",
       "M840.308 1188 L840.308 1445.72 L861.026 1445.72 L861.026 1188 L840.308 1188 L840.308 1188  Z\n",
       "  \" fill=\"#009af9\" fill-rule=\"evenodd\" fill-opacity=\"0.8\"/>\n",
       "<polyline clip-path=\"url(#clip242)\" style=\"stroke:#000000; stroke-linecap:butt; stroke-linejoin:round; stroke-width:4; stroke-opacity:0.8; fill:none\" points=\"\n",
       "  840.308,1188 840.308,1445.72 861.026,1445.72 861.026,1188 840.308,1188 \n",
       "  \"/>\n",
       "<path clip-path=\"url(#clip242)\" d=\"\n",
       "M861.026 1238.28 L861.026 1445.72 L881.745 1445.72 L881.745 1238.28 L861.026 1238.28 L861.026 1238.28  Z\n",
       "  \" fill=\"#009af9\" fill-rule=\"evenodd\" fill-opacity=\"0.8\"/>\n",
       "<polyline clip-path=\"url(#clip242)\" style=\"stroke:#000000; stroke-linecap:butt; stroke-linejoin:round; stroke-width:4; stroke-opacity:0.8; fill:none\" points=\"\n",
       "  861.026,1238.28 861.026,1445.72 881.745,1445.72 881.745,1238.28 861.026,1238.28 \n",
       "  \"/>\n",
       "<path clip-path=\"url(#clip242)\" d=\"\n",
       "M881.745 1169.14 L881.745 1445.72 L902.463 1445.72 L902.463 1169.14 L881.745 1169.14 L881.745 1169.14  Z\n",
       "  \" fill=\"#009af9\" fill-rule=\"evenodd\" fill-opacity=\"0.8\"/>\n",
       "<polyline clip-path=\"url(#clip242)\" style=\"stroke:#000000; stroke-linecap:butt; stroke-linejoin:round; stroke-width:4; stroke-opacity:0.8; fill:none\" points=\"\n",
       "  881.745,1169.14 881.745,1445.72 902.463,1445.72 902.463,1169.14 881.745,1169.14 \n",
       "  \"/>\n",
       "<path clip-path=\"url(#clip242)\" d=\"\n",
       "M902.463 1150.28 L902.463 1445.72 L923.182 1445.72 L923.182 1150.28 L902.463 1150.28 L902.463 1150.28  Z\n",
       "  \" fill=\"#009af9\" fill-rule=\"evenodd\" fill-opacity=\"0.8\"/>\n",
       "<polyline clip-path=\"url(#clip242)\" style=\"stroke:#000000; stroke-linecap:butt; stroke-linejoin:round; stroke-width:4; stroke-opacity:0.8; fill:none\" points=\"\n",
       "  902.463,1150.28 902.463,1445.72 923.182,1445.72 923.182,1150.28 902.463,1150.28 \n",
       "  \"/>\n",
       "<path clip-path=\"url(#clip242)\" d=\"\n",
       "M923.182 1018.28 L923.182 1445.72 L943.9 1445.72 L943.9 1018.28 L923.182 1018.28 L923.182 1018.28  Z\n",
       "  \" fill=\"#009af9\" fill-rule=\"evenodd\" fill-opacity=\"0.8\"/>\n",
       "<polyline clip-path=\"url(#clip242)\" style=\"stroke:#000000; stroke-linecap:butt; stroke-linejoin:round; stroke-width:4; stroke-opacity:0.8; fill:none\" points=\"\n",
       "  923.182,1018.28 923.182,1445.72 943.9,1445.72 943.9,1018.28 923.182,1018.28 \n",
       "  \"/>\n",
       "<path clip-path=\"url(#clip242)\" d=\"\n",
       "M943.9 1037.14 L943.9 1445.72 L964.619 1445.72 L964.619 1037.14 L943.9 1037.14 L943.9 1037.14  Z\n",
       "  \" fill=\"#009af9\" fill-rule=\"evenodd\" fill-opacity=\"0.8\"/>\n",
       "<polyline clip-path=\"url(#clip242)\" style=\"stroke:#000000; stroke-linecap:butt; stroke-linejoin:round; stroke-width:4; stroke-opacity:0.8; fill:none\" points=\"\n",
       "  943.9,1037.14 943.9,1445.72 964.619,1445.72 964.619,1037.14 943.9,1037.14 \n",
       "  \"/>\n",
       "<path clip-path=\"url(#clip242)\" d=\"\n",
       "M964.619 911.42 L964.619 1445.72 L985.337 1445.72 L985.337 911.42 L964.619 911.42 L964.619 911.42  Z\n",
       "  \" fill=\"#009af9\" fill-rule=\"evenodd\" fill-opacity=\"0.8\"/>\n",
       "<polyline clip-path=\"url(#clip242)\" style=\"stroke:#000000; stroke-linecap:butt; stroke-linejoin:round; stroke-width:4; stroke-opacity:0.8; fill:none\" points=\"\n",
       "  964.619,911.42 964.619,1445.72 985.337,1445.72 985.337,911.42 964.619,911.42 \n",
       "  \"/>\n",
       "<path clip-path=\"url(#clip242)\" d=\"\n",
       "M985.337 949.135 L985.337 1445.72 L1006.06 1445.72 L1006.06 949.135 L985.337 949.135 L985.337 949.135  Z\n",
       "  \" fill=\"#009af9\" fill-rule=\"evenodd\" fill-opacity=\"0.8\"/>\n",
       "<polyline clip-path=\"url(#clip242)\" style=\"stroke:#000000; stroke-linecap:butt; stroke-linejoin:round; stroke-width:4; stroke-opacity:0.8; fill:none\" points=\"\n",
       "  985.337,949.135 985.337,1445.72 1006.06,1445.72 1006.06,949.135 985.337,949.135 \n",
       "  \"/>\n",
       "<path clip-path=\"url(#clip242)\" d=\"\n",
       "M1006.06 798.275 L1006.06 1445.72 L1026.77 1445.72 L1026.77 798.275 L1006.06 798.275 L1006.06 798.275  Z\n",
       "  \" fill=\"#009af9\" fill-rule=\"evenodd\" fill-opacity=\"0.8\"/>\n",
       "<polyline clip-path=\"url(#clip242)\" style=\"stroke:#000000; stroke-linecap:butt; stroke-linejoin:round; stroke-width:4; stroke-opacity:0.8; fill:none\" points=\"\n",
       "  1006.06,798.275 1006.06,1445.72 1026.77,1445.72 1026.77,798.275 1006.06,798.275 \n",
       "  \"/>\n",
       "<path clip-path=\"url(#clip242)\" d=\"\n",
       "M1026.77 716.559 L1026.77 1445.72 L1047.49 1445.72 L1047.49 716.559 L1026.77 716.559 L1026.77 716.559  Z\n",
       "  \" fill=\"#009af9\" fill-rule=\"evenodd\" fill-opacity=\"0.8\"/>\n",
       "<polyline clip-path=\"url(#clip242)\" style=\"stroke:#000000; stroke-linecap:butt; stroke-linejoin:round; stroke-width:4; stroke-opacity:0.8; fill:none\" points=\"\n",
       "  1026.77,716.559 1026.77,1445.72 1047.49,1445.72 1047.49,716.559 1026.77,716.559 \n",
       "  \"/>\n",
       "<path clip-path=\"url(#clip242)\" d=\"\n",
       "M1047.49 622.272 L1047.49 1445.72 L1068.21 1445.72 L1068.21 622.272 L1047.49 622.272 L1047.49 622.272  Z\n",
       "  \" fill=\"#009af9\" fill-rule=\"evenodd\" fill-opacity=\"0.8\"/>\n",
       "<polyline clip-path=\"url(#clip242)\" style=\"stroke:#000000; stroke-linecap:butt; stroke-linejoin:round; stroke-width:4; stroke-opacity:0.8; fill:none\" points=\"\n",
       "  1047.49,622.272 1047.49,1445.72 1068.21,1445.72 1068.21,622.272 1047.49,622.272 \n",
       "  \"/>\n",
       "<path clip-path=\"url(#clip242)\" d=\"\n",
       "M1068.21 735.417 L1068.21 1445.72 L1088.93 1445.72 L1088.93 735.417 L1068.21 735.417 L1068.21 735.417  Z\n",
       "  \" fill=\"#009af9\" fill-rule=\"evenodd\" fill-opacity=\"0.8\"/>\n",
       "<polyline clip-path=\"url(#clip242)\" style=\"stroke:#000000; stroke-linecap:butt; stroke-linejoin:round; stroke-width:4; stroke-opacity:0.8; fill:none\" points=\"\n",
       "  1068.21,735.417 1068.21,1445.72 1088.93,1445.72 1088.93,735.417 1068.21,735.417 \n",
       "  \"/>\n",
       "<path clip-path=\"url(#clip242)\" d=\"\n",
       "M1088.93 427.411 L1088.93 1445.72 L1109.65 1445.72 L1109.65 427.411 L1088.93 427.411 L1088.93 427.411  Z\n",
       "  \" fill=\"#009af9\" fill-rule=\"evenodd\" fill-opacity=\"0.8\"/>\n",
       "<polyline clip-path=\"url(#clip242)\" style=\"stroke:#000000; stroke-linecap:butt; stroke-linejoin:round; stroke-width:4; stroke-opacity:0.8; fill:none\" points=\"\n",
       "  1088.93,427.411 1088.93,1445.72 1109.65,1445.72 1109.65,427.411 1088.93,427.411 \n",
       "  \"/>\n",
       "<path clip-path=\"url(#clip242)\" d=\"\n",
       "M1109.65 307.98 L1109.65 1445.72 L1130.37 1445.72 L1130.37 307.98 L1109.65 307.98 L1109.65 307.98  Z\n",
       "  \" fill=\"#009af9\" fill-rule=\"evenodd\" fill-opacity=\"0.8\"/>\n",
       "<polyline clip-path=\"url(#clip242)\" style=\"stroke:#000000; stroke-linecap:butt; stroke-linejoin:round; stroke-width:4; stroke-opacity:0.8; fill:none\" points=\"\n",
       "  1109.65,307.98 1109.65,1445.72 1130.37,1445.72 1130.37,307.98 1109.65,307.98 \n",
       "  \"/>\n",
       "<path clip-path=\"url(#clip242)\" d=\"\n",
       "M1130.37 490.269 L1130.37 1445.72 L1151.08 1445.72 L1151.08 490.269 L1130.37 490.269 L1130.37 490.269  Z\n",
       "  \" fill=\"#009af9\" fill-rule=\"evenodd\" fill-opacity=\"0.8\"/>\n",
       "<polyline clip-path=\"url(#clip242)\" style=\"stroke:#000000; stroke-linecap:butt; stroke-linejoin:round; stroke-width:4; stroke-opacity:0.8; fill:none\" points=\"\n",
       "  1130.37,490.269 1130.37,1445.72 1151.08,1445.72 1151.08,490.269 1130.37,490.269 \n",
       "  \"/>\n",
       "<path clip-path=\"url(#clip242)\" d=\"\n",
       "M1151.08 188.55 L1151.08 1445.72 L1171.8 1445.72 L1171.8 188.55 L1151.08 188.55 L1151.08 188.55  Z\n",
       "  \" fill=\"#009af9\" fill-rule=\"evenodd\" fill-opacity=\"0.8\"/>\n",
       "<polyline clip-path=\"url(#clip242)\" style=\"stroke:#000000; stroke-linecap:butt; stroke-linejoin:round; stroke-width:4; stroke-opacity:0.8; fill:none\" points=\"\n",
       "  1151.08,188.55 1151.08,1445.72 1171.8,1445.72 1171.8,188.55 1151.08,188.55 \n",
       "  \"/>\n",
       "<path clip-path=\"url(#clip242)\" d=\"\n",
       "M1171.8 377.124 L1171.8 1445.72 L1192.52 1445.72 L1192.52 377.124 L1171.8 377.124 L1171.8 377.124  Z\n",
       "  \" fill=\"#009af9\" fill-rule=\"evenodd\" fill-opacity=\"0.8\"/>\n",
       "<polyline clip-path=\"url(#clip242)\" style=\"stroke:#000000; stroke-linecap:butt; stroke-linejoin:round; stroke-width:4; stroke-opacity:0.8; fill:none\" points=\"\n",
       "  1171.8,377.124 1171.8,1445.72 1192.52,1445.72 1192.52,377.124 1171.8,377.124 \n",
       "  \"/>\n",
       "<path clip-path=\"url(#clip242)\" d=\"\n",
       "M1192.52 345.695 L1192.52 1445.72 L1213.24 1445.72 L1213.24 345.695 L1192.52 345.695 L1192.52 345.695  Z\n",
       "  \" fill=\"#009af9\" fill-rule=\"evenodd\" fill-opacity=\"0.8\"/>\n",
       "<polyline clip-path=\"url(#clip242)\" style=\"stroke:#000000; stroke-linecap:butt; stroke-linejoin:round; stroke-width:4; stroke-opacity:0.8; fill:none\" points=\"\n",
       "  1192.52,345.695 1192.52,1445.72 1213.24,1445.72 1213.24,345.695 1192.52,345.695 \n",
       "  \"/>\n",
       "<path clip-path=\"url(#clip242)\" d=\"\n",
       "M1213.24 94.2621 L1213.24 1445.72 L1233.96 1445.72 L1233.96 94.2621 L1213.24 94.2621 L1213.24 94.2621  Z\n",
       "  \" fill=\"#009af9\" fill-rule=\"evenodd\" fill-opacity=\"0.8\"/>\n",
       "<polyline clip-path=\"url(#clip242)\" style=\"stroke:#000000; stroke-linecap:butt; stroke-linejoin:round; stroke-width:4; stroke-opacity:0.8; fill:none\" points=\"\n",
       "  1213.24,94.2621 1213.24,1445.72 1233.96,1445.72 1233.96,94.2621 1213.24,94.2621 \n",
       "  \"/>\n",
       "<path clip-path=\"url(#clip242)\" d=\"\n",
       "M1233.96 94.2621 L1233.96 1445.72 L1254.68 1445.72 L1254.68 94.2621 L1233.96 94.2621 L1233.96 94.2621  Z\n",
       "  \" fill=\"#009af9\" fill-rule=\"evenodd\" fill-opacity=\"0.8\"/>\n",
       "<polyline clip-path=\"url(#clip242)\" style=\"stroke:#000000; stroke-linecap:butt; stroke-linejoin:round; stroke-width:4; stroke-opacity:0.8; fill:none\" points=\"\n",
       "  1233.96,94.2621 1233.96,1445.72 1254.68,1445.72 1254.68,94.2621 1233.96,94.2621 \n",
       "  \"/>\n",
       "<path clip-path=\"url(#clip242)\" d=\"\n",
       "M1254.68 106.834 L1254.68 1445.72 L1275.4 1445.72 L1275.4 106.834 L1254.68 106.834 L1254.68 106.834  Z\n",
       "  \" fill=\"#009af9\" fill-rule=\"evenodd\" fill-opacity=\"0.8\"/>\n",
       "<polyline clip-path=\"url(#clip242)\" style=\"stroke:#000000; stroke-linecap:butt; stroke-linejoin:round; stroke-width:4; stroke-opacity:0.8; fill:none\" points=\"\n",
       "  1254.68,106.834 1254.68,1445.72 1275.4,1445.72 1275.4,106.834 1254.68,106.834 \n",
       "  \"/>\n",
       "<path clip-path=\"url(#clip242)\" d=\"\n",
       "M1275.4 87.9763 L1275.4 1445.72 L1296.11 1445.72 L1296.11 87.9763 L1275.4 87.9763 L1275.4 87.9763  Z\n",
       "  \" fill=\"#009af9\" fill-rule=\"evenodd\" fill-opacity=\"0.8\"/>\n",
       "<polyline clip-path=\"url(#clip242)\" style=\"stroke:#000000; stroke-linecap:butt; stroke-linejoin:round; stroke-width:4; stroke-opacity:0.8; fill:none\" points=\"\n",
       "  1275.4,87.9763 1275.4,1445.72 1296.11,1445.72 1296.11,87.9763 1275.4,87.9763 \n",
       "  \"/>\n",
       "<path clip-path=\"url(#clip242)\" d=\"\n",
       "M1296.11 188.55 L1296.11 1445.72 L1316.83 1445.72 L1316.83 188.55 L1296.11 188.55 L1296.11 188.55  Z\n",
       "  \" fill=\"#009af9\" fill-rule=\"evenodd\" fill-opacity=\"0.8\"/>\n",
       "<polyline clip-path=\"url(#clip242)\" style=\"stroke:#000000; stroke-linecap:butt; stroke-linejoin:round; stroke-width:4; stroke-opacity:0.8; fill:none\" points=\"\n",
       "  1296.11,188.55 1296.11,1445.72 1316.83,1445.72 1316.83,188.55 1296.11,188.55 \n",
       "  \"/>\n",
       "<path clip-path=\"url(#clip242)\" d=\"\n",
       "M1316.83 194.835 L1316.83 1445.72 L1337.55 1445.72 L1337.55 194.835 L1316.83 194.835 L1316.83 194.835  Z\n",
       "  \" fill=\"#009af9\" fill-rule=\"evenodd\" fill-opacity=\"0.8\"/>\n",
       "<polyline clip-path=\"url(#clip242)\" style=\"stroke:#000000; stroke-linecap:butt; stroke-linejoin:round; stroke-width:4; stroke-opacity:0.8; fill:none\" points=\"\n",
       "  1316.83,194.835 1316.83,1445.72 1337.55,1445.72 1337.55,194.835 1316.83,194.835 \n",
       "  \"/>\n",
       "<path clip-path=\"url(#clip242)\" d=\"\n",
       "M1337.55 502.841 L1337.55 1445.72 L1358.27 1445.72 L1358.27 502.841 L1337.55 502.841 L1337.55 502.841  Z\n",
       "  \" fill=\"#009af9\" fill-rule=\"evenodd\" fill-opacity=\"0.8\"/>\n",
       "<polyline clip-path=\"url(#clip242)\" style=\"stroke:#000000; stroke-linecap:butt; stroke-linejoin:round; stroke-width:4; stroke-opacity:0.8; fill:none\" points=\"\n",
       "  1337.55,502.841 1337.55,1445.72 1358.27,1445.72 1358.27,502.841 1337.55,502.841 \n",
       "  \"/>\n",
       "<path clip-path=\"url(#clip242)\" d=\"\n",
       "M1358.27 226.265 L1358.27 1445.72 L1378.99 1445.72 L1378.99 226.265 L1358.27 226.265 L1358.27 226.265  Z\n",
       "  \" fill=\"#009af9\" fill-rule=\"evenodd\" fill-opacity=\"0.8\"/>\n",
       "<polyline clip-path=\"url(#clip242)\" style=\"stroke:#000000; stroke-linecap:butt; stroke-linejoin:round; stroke-width:4; stroke-opacity:0.8; fill:none\" points=\"\n",
       "  1358.27,226.265 1358.27,1445.72 1378.99,1445.72 1378.99,226.265 1358.27,226.265 \n",
       "  \"/>\n",
       "<path clip-path=\"url(#clip242)\" d=\"\n",
       "M1378.99 395.982 L1378.99 1445.72 L1399.71 1445.72 L1399.71 395.982 L1378.99 395.982 L1378.99 395.982  Z\n",
       "  \" fill=\"#009af9\" fill-rule=\"evenodd\" fill-opacity=\"0.8\"/>\n",
       "<polyline clip-path=\"url(#clip242)\" style=\"stroke:#000000; stroke-linecap:butt; stroke-linejoin:round; stroke-width:4; stroke-opacity:0.8; fill:none\" points=\"\n",
       "  1378.99,395.982 1378.99,1445.72 1399.71,1445.72 1399.71,395.982 1378.99,395.982 \n",
       "  \"/>\n",
       "<path clip-path=\"url(#clip242)\" d=\"\n",
       "M1399.71 609.7 L1399.71 1445.72 L1420.42 1445.72 L1420.42 609.7 L1399.71 609.7 L1399.71 609.7  Z\n",
       "  \" fill=\"#009af9\" fill-rule=\"evenodd\" fill-opacity=\"0.8\"/>\n",
       "<polyline clip-path=\"url(#clip242)\" style=\"stroke:#000000; stroke-linecap:butt; stroke-linejoin:round; stroke-width:4; stroke-opacity:0.8; fill:none\" points=\"\n",
       "  1399.71,609.7 1399.71,1445.72 1420.42,1445.72 1420.42,609.7 1399.71,609.7 \n",
       "  \"/>\n",
       "<path clip-path=\"url(#clip242)\" d=\"\n",
       "M1420.42 553.128 L1420.42 1445.72 L1441.14 1445.72 L1441.14 553.128 L1420.42 553.128 L1420.42 553.128  Z\n",
       "  \" fill=\"#009af9\" fill-rule=\"evenodd\" fill-opacity=\"0.8\"/>\n",
       "<polyline clip-path=\"url(#clip242)\" style=\"stroke:#000000; stroke-linecap:butt; stroke-linejoin:round; stroke-width:4; stroke-opacity:0.8; fill:none\" points=\"\n",
       "  1420.42,553.128 1420.42,1445.72 1441.14,1445.72 1441.14,553.128 1420.42,553.128 \n",
       "  \"/>\n",
       "<path clip-path=\"url(#clip242)\" d=\"\n",
       "M1441.14 672.559 L1441.14 1445.72 L1461.86 1445.72 L1461.86 672.559 L1441.14 672.559 L1441.14 672.559  Z\n",
       "  \" fill=\"#009af9\" fill-rule=\"evenodd\" fill-opacity=\"0.8\"/>\n",
       "<polyline clip-path=\"url(#clip242)\" style=\"stroke:#000000; stroke-linecap:butt; stroke-linejoin:round; stroke-width:4; stroke-opacity:0.8; fill:none\" points=\"\n",
       "  1441.14,672.559 1441.14,1445.72 1461.86,1445.72 1461.86,672.559 1441.14,672.559 \n",
       "  \"/>\n",
       "<path clip-path=\"url(#clip242)\" d=\"\n",
       "M1461.86 791.989 L1461.86 1445.72 L1482.58 1445.72 L1482.58 791.989 L1461.86 791.989 L1461.86 791.989  Z\n",
       "  \" fill=\"#009af9\" fill-rule=\"evenodd\" fill-opacity=\"0.8\"/>\n",
       "<polyline clip-path=\"url(#clip242)\" style=\"stroke:#000000; stroke-linecap:butt; stroke-linejoin:round; stroke-width:4; stroke-opacity:0.8; fill:none\" points=\"\n",
       "  1461.86,791.989 1461.86,1445.72 1482.58,1445.72 1482.58,791.989 1461.86,791.989 \n",
       "  \"/>\n",
       "<path clip-path=\"url(#clip242)\" d=\"\n",
       "M1482.58 773.132 L1482.58 1445.72 L1503.3 1445.72 L1503.3 773.132 L1482.58 773.132 L1482.58 773.132  Z\n",
       "  \" fill=\"#009af9\" fill-rule=\"evenodd\" fill-opacity=\"0.8\"/>\n",
       "<polyline clip-path=\"url(#clip242)\" style=\"stroke:#000000; stroke-linecap:butt; stroke-linejoin:round; stroke-width:4; stroke-opacity:0.8; fill:none\" points=\"\n",
       "  1482.58,773.132 1482.58,1445.72 1503.3,1445.72 1503.3,773.132 1482.58,773.132 \n",
       "  \"/>\n",
       "<path clip-path=\"url(#clip242)\" d=\"\n",
       "M1503.3 936.563 L1503.3 1445.72 L1524.02 1445.72 L1524.02 936.563 L1503.3 936.563 L1503.3 936.563  Z\n",
       "  \" fill=\"#009af9\" fill-rule=\"evenodd\" fill-opacity=\"0.8\"/>\n",
       "<polyline clip-path=\"url(#clip242)\" style=\"stroke:#000000; stroke-linecap:butt; stroke-linejoin:round; stroke-width:4; stroke-opacity:0.8; fill:none\" points=\"\n",
       "  1503.3,936.563 1503.3,1445.72 1524.02,1445.72 1524.02,936.563 1503.3,936.563 \n",
       "  \"/>\n",
       "<path clip-path=\"url(#clip242)\" d=\"\n",
       "M1524.02 1011.99 L1524.02 1445.72 L1544.74 1445.72 L1544.74 1011.99 L1524.02 1011.99 L1524.02 1011.99  Z\n",
       "  \" fill=\"#009af9\" fill-rule=\"evenodd\" fill-opacity=\"0.8\"/>\n",
       "<polyline clip-path=\"url(#clip242)\" style=\"stroke:#000000; stroke-linecap:butt; stroke-linejoin:round; stroke-width:4; stroke-opacity:0.8; fill:none\" points=\"\n",
       "  1524.02,1011.99 1524.02,1445.72 1544.74,1445.72 1544.74,1011.99 1524.02,1011.99 \n",
       "  \"/>\n",
       "<path clip-path=\"url(#clip242)\" d=\"\n",
       "M1544.74 1030.85 L1544.74 1445.72 L1565.45 1445.72 L1565.45 1030.85 L1544.74 1030.85 L1544.74 1030.85  Z\n",
       "  \" fill=\"#009af9\" fill-rule=\"evenodd\" fill-opacity=\"0.8\"/>\n",
       "<polyline clip-path=\"url(#clip242)\" style=\"stroke:#000000; stroke-linecap:butt; stroke-linejoin:round; stroke-width:4; stroke-opacity:0.8; fill:none\" points=\"\n",
       "  1544.74,1030.85 1544.74,1445.72 1565.45,1445.72 1565.45,1030.85 1544.74,1030.85 \n",
       "  \"/>\n",
       "<path clip-path=\"url(#clip242)\" d=\"\n",
       "M1565.45 999.422 L1565.45 1445.72 L1586.17 1445.72 L1586.17 999.422 L1565.45 999.422 L1565.45 999.422  Z\n",
       "  \" fill=\"#009af9\" fill-rule=\"evenodd\" fill-opacity=\"0.8\"/>\n",
       "<polyline clip-path=\"url(#clip242)\" style=\"stroke:#000000; stroke-linecap:butt; stroke-linejoin:round; stroke-width:4; stroke-opacity:0.8; fill:none\" points=\"\n",
       "  1565.45,999.422 1565.45,1445.72 1586.17,1445.72 1586.17,999.422 1565.45,999.422 \n",
       "  \"/>\n",
       "<path clip-path=\"url(#clip242)\" d=\"\n",
       "M1586.17 1175.42 L1586.17 1445.72 L1606.89 1445.72 L1606.89 1175.42 L1586.17 1175.42 L1586.17 1175.42  Z\n",
       "  \" fill=\"#009af9\" fill-rule=\"evenodd\" fill-opacity=\"0.8\"/>\n",
       "<polyline clip-path=\"url(#clip242)\" style=\"stroke:#000000; stroke-linecap:butt; stroke-linejoin:round; stroke-width:4; stroke-opacity:0.8; fill:none\" points=\"\n",
       "  1586.17,1175.42 1586.17,1445.72 1606.89,1445.72 1606.89,1175.42 1586.17,1175.42 \n",
       "  \"/>\n",
       "<path clip-path=\"url(#clip242)\" d=\"\n",
       "M1606.89 1188 L1606.89 1445.72 L1627.61 1445.72 L1627.61 1188 L1606.89 1188 L1606.89 1188  Z\n",
       "  \" fill=\"#009af9\" fill-rule=\"evenodd\" fill-opacity=\"0.8\"/>\n",
       "<polyline clip-path=\"url(#clip242)\" style=\"stroke:#000000; stroke-linecap:butt; stroke-linejoin:round; stroke-width:4; stroke-opacity:0.8; fill:none\" points=\"\n",
       "  1606.89,1188 1606.89,1445.72 1627.61,1445.72 1627.61,1188 1606.89,1188 \n",
       "  \"/>\n",
       "<path clip-path=\"url(#clip242)\" d=\"\n",
       "M1627.61 1282.28 L1627.61 1445.72 L1648.33 1445.72 L1648.33 1282.28 L1627.61 1282.28 L1627.61 1282.28  Z\n",
       "  \" fill=\"#009af9\" fill-rule=\"evenodd\" fill-opacity=\"0.8\"/>\n",
       "<polyline clip-path=\"url(#clip242)\" style=\"stroke:#000000; stroke-linecap:butt; stroke-linejoin:round; stroke-width:4; stroke-opacity:0.8; fill:none\" points=\"\n",
       "  1627.61,1282.28 1627.61,1445.72 1648.33,1445.72 1648.33,1282.28 1627.61,1282.28 \n",
       "  \"/>\n",
       "<path clip-path=\"url(#clip242)\" d=\"\n",
       "M1648.33 1244.57 L1648.33 1445.72 L1669.05 1445.72 L1669.05 1244.57 L1648.33 1244.57 L1648.33 1244.57  Z\n",
       "  \" fill=\"#009af9\" fill-rule=\"evenodd\" fill-opacity=\"0.8\"/>\n",
       "<polyline clip-path=\"url(#clip242)\" style=\"stroke:#000000; stroke-linecap:butt; stroke-linejoin:round; stroke-width:4; stroke-opacity:0.8; fill:none\" points=\"\n",
       "  1648.33,1244.57 1648.33,1445.72 1669.05,1445.72 1669.05,1244.57 1648.33,1244.57 \n",
       "  \"/>\n",
       "<path clip-path=\"url(#clip242)\" d=\"\n",
       "M1669.05 1313.71 L1669.05 1445.72 L1689.76 1445.72 L1689.76 1313.71 L1669.05 1313.71 L1669.05 1313.71  Z\n",
       "  \" fill=\"#009af9\" fill-rule=\"evenodd\" fill-opacity=\"0.8\"/>\n",
       "<polyline clip-path=\"url(#clip242)\" style=\"stroke:#000000; stroke-linecap:butt; stroke-linejoin:round; stroke-width:4; stroke-opacity:0.8; fill:none\" points=\"\n",
       "  1669.05,1313.71 1669.05,1445.72 1689.76,1445.72 1689.76,1313.71 1669.05,1313.71 \n",
       "  \"/>\n",
       "<path clip-path=\"url(#clip242)\" d=\"\n",
       "M1689.76 1351.43 L1689.76 1445.72 L1710.48 1445.72 L1710.48 1351.43 L1689.76 1351.43 L1689.76 1351.43  Z\n",
       "  \" fill=\"#009af9\" fill-rule=\"evenodd\" fill-opacity=\"0.8\"/>\n",
       "<polyline clip-path=\"url(#clip242)\" style=\"stroke:#000000; stroke-linecap:butt; stroke-linejoin:round; stroke-width:4; stroke-opacity:0.8; fill:none\" points=\"\n",
       "  1689.76,1351.43 1689.76,1445.72 1710.48,1445.72 1710.48,1351.43 1689.76,1351.43 \n",
       "  \"/>\n",
       "<path clip-path=\"url(#clip242)\" d=\"\n",
       "M1710.48 1326.28 L1710.48 1445.72 L1731.2 1445.72 L1731.2 1326.28 L1710.48 1326.28 L1710.48 1326.28  Z\n",
       "  \" fill=\"#009af9\" fill-rule=\"evenodd\" fill-opacity=\"0.8\"/>\n",
       "<polyline clip-path=\"url(#clip242)\" style=\"stroke:#000000; stroke-linecap:butt; stroke-linejoin:round; stroke-width:4; stroke-opacity:0.8; fill:none\" points=\"\n",
       "  1710.48,1326.28 1710.48,1445.72 1731.2,1445.72 1731.2,1326.28 1710.48,1326.28 \n",
       "  \"/>\n",
       "<path clip-path=\"url(#clip242)\" d=\"\n",
       "M1731.2 1364 L1731.2 1445.72 L1751.92 1445.72 L1751.92 1364 L1731.2 1364 L1731.2 1364  Z\n",
       "  \" fill=\"#009af9\" fill-rule=\"evenodd\" fill-opacity=\"0.8\"/>\n",
       "<polyline clip-path=\"url(#clip242)\" style=\"stroke:#000000; stroke-linecap:butt; stroke-linejoin:round; stroke-width:4; stroke-opacity:0.8; fill:none\" points=\"\n",
       "  1731.2,1364 1731.2,1445.72 1751.92,1445.72 1751.92,1364 1731.2,1364 \n",
       "  \"/>\n",
       "<path clip-path=\"url(#clip242)\" d=\"\n",
       "M1751.92 1395.43 L1751.92 1445.72 L1772.64 1445.72 L1772.64 1395.43 L1751.92 1395.43 L1751.92 1395.43  Z\n",
       "  \" fill=\"#009af9\" fill-rule=\"evenodd\" fill-opacity=\"0.8\"/>\n",
       "<polyline clip-path=\"url(#clip242)\" style=\"stroke:#000000; stroke-linecap:butt; stroke-linejoin:round; stroke-width:4; stroke-opacity:0.8; fill:none\" points=\"\n",
       "  1751.92,1395.43 1751.92,1445.72 1772.64,1445.72 1772.64,1395.43 1751.92,1395.43 \n",
       "  \"/>\n",
       "<path clip-path=\"url(#clip242)\" d=\"\n",
       "M1772.64 1345.14 L1772.64 1445.72 L1793.36 1445.72 L1793.36 1345.14 L1772.64 1345.14 L1772.64 1345.14  Z\n",
       "  \" fill=\"#009af9\" fill-rule=\"evenodd\" fill-opacity=\"0.8\"/>\n",
       "<polyline clip-path=\"url(#clip242)\" style=\"stroke:#000000; stroke-linecap:butt; stroke-linejoin:round; stroke-width:4; stroke-opacity:0.8; fill:none\" points=\"\n",
       "  1772.64,1345.14 1772.64,1445.72 1793.36,1445.72 1793.36,1345.14 1772.64,1345.14 \n",
       "  \"/>\n",
       "<path clip-path=\"url(#clip242)\" d=\"\n",
       "M1793.36 1420.57 L1793.36 1445.72 L1814.08 1445.72 L1814.08 1420.57 L1793.36 1420.57 L1793.36 1420.57  Z\n",
       "  \" fill=\"#009af9\" fill-rule=\"evenodd\" fill-opacity=\"0.8\"/>\n",
       "<polyline clip-path=\"url(#clip242)\" style=\"stroke:#000000; stroke-linecap:butt; stroke-linejoin:round; stroke-width:4; stroke-opacity:0.8; fill:none\" points=\"\n",
       "  1793.36,1420.57 1793.36,1445.72 1814.08,1445.72 1814.08,1420.57 1793.36,1420.57 \n",
       "  \"/>\n",
       "<path clip-path=\"url(#clip242)\" d=\"\n",
       "M1814.08 1408 L1814.08 1445.72 L1834.79 1445.72 L1834.79 1408 L1814.08 1408 L1814.08 1408  Z\n",
       "  \" fill=\"#009af9\" fill-rule=\"evenodd\" fill-opacity=\"0.8\"/>\n",
       "<polyline clip-path=\"url(#clip242)\" style=\"stroke:#000000; stroke-linecap:butt; stroke-linejoin:round; stroke-width:4; stroke-opacity:0.8; fill:none\" points=\"\n",
       "  1814.08,1408 1814.08,1445.72 1834.79,1445.72 1834.79,1408 1814.08,1408 \n",
       "  \"/>\n",
       "<path clip-path=\"url(#clip242)\" d=\"\n",
       "M1834.79 1420.57 L1834.79 1445.72 L1855.51 1445.72 L1855.51 1420.57 L1834.79 1420.57 L1834.79 1420.57  Z\n",
       "  \" fill=\"#009af9\" fill-rule=\"evenodd\" fill-opacity=\"0.8\"/>\n",
       "<polyline clip-path=\"url(#clip242)\" style=\"stroke:#000000; stroke-linecap:butt; stroke-linejoin:round; stroke-width:4; stroke-opacity:0.8; fill:none\" points=\"\n",
       "  1834.79,1420.57 1834.79,1445.72 1855.51,1445.72 1855.51,1420.57 1834.79,1420.57 \n",
       "  \"/>\n",
       "<path clip-path=\"url(#clip242)\" d=\"\n",
       "M1855.51 1426.86 L1855.51 1445.72 L1876.23 1445.72 L1876.23 1426.86 L1855.51 1426.86 L1855.51 1426.86  Z\n",
       "  \" fill=\"#009af9\" fill-rule=\"evenodd\" fill-opacity=\"0.8\"/>\n",
       "<polyline clip-path=\"url(#clip242)\" style=\"stroke:#000000; stroke-linecap:butt; stroke-linejoin:round; stroke-width:4; stroke-opacity:0.8; fill:none\" points=\"\n",
       "  1855.51,1426.86 1855.51,1445.72 1876.23,1445.72 1876.23,1426.86 1855.51,1426.86 \n",
       "  \"/>\n",
       "<path clip-path=\"url(#clip242)\" d=\"\n",
       "M1876.23 1420.57 L1876.23 1445.72 L1896.95 1445.72 L1896.95 1420.57 L1876.23 1420.57 L1876.23 1420.57  Z\n",
       "  \" fill=\"#009af9\" fill-rule=\"evenodd\" fill-opacity=\"0.8\"/>\n",
       "<polyline clip-path=\"url(#clip242)\" style=\"stroke:#000000; stroke-linecap:butt; stroke-linejoin:round; stroke-width:4; stroke-opacity:0.8; fill:none\" points=\"\n",
       "  1876.23,1420.57 1876.23,1445.72 1896.95,1445.72 1896.95,1420.57 1876.23,1420.57 \n",
       "  \"/>\n",
       "<circle clip-path=\"url(#clip242)\" style=\"fill:#009af9; stroke:none; fill-opacity:0\" cx=\"539.89\" cy=\"1439.43\" r=\"2\"/>\n",
       "<circle clip-path=\"url(#clip242)\" style=\"fill:#009af9; stroke:none; fill-opacity:0\" cx=\"560.608\" cy=\"1445.72\" r=\"2\"/>\n",
       "<circle clip-path=\"url(#clip242)\" style=\"fill:#009af9; stroke:none; fill-opacity:0\" cx=\"581.327\" cy=\"1439.43\" r=\"2\"/>\n",
       "<circle clip-path=\"url(#clip242)\" style=\"fill:#009af9; stroke:none; fill-opacity:0\" cx=\"602.045\" cy=\"1445.72\" r=\"2\"/>\n",
       "<circle clip-path=\"url(#clip242)\" style=\"fill:#009af9; stroke:none; fill-opacity:0\" cx=\"622.764\" cy=\"1433.14\" r=\"2\"/>\n",
       "<circle clip-path=\"url(#clip242)\" style=\"fill:#009af9; stroke:none; fill-opacity:0\" cx=\"643.482\" cy=\"1445.72\" r=\"2\"/>\n",
       "<circle clip-path=\"url(#clip242)\" style=\"fill:#009af9; stroke:none; fill-opacity:0\" cx=\"664.201\" cy=\"1408\" r=\"2\"/>\n",
       "<circle clip-path=\"url(#clip242)\" style=\"fill:#009af9; stroke:none; fill-opacity:0\" cx=\"684.919\" cy=\"1414.29\" r=\"2\"/>\n",
       "<circle clip-path=\"url(#clip242)\" style=\"fill:#009af9; stroke:none; fill-opacity:0\" cx=\"705.638\" cy=\"1395.43\" r=\"2\"/>\n",
       "<circle clip-path=\"url(#clip242)\" style=\"fill:#009af9; stroke:none; fill-opacity:0\" cx=\"726.356\" cy=\"1420.57\" r=\"2\"/>\n",
       "<circle clip-path=\"url(#clip242)\" style=\"fill:#009af9; stroke:none; fill-opacity:0\" cx=\"747.075\" cy=\"1395.43\" r=\"2\"/>\n",
       "<circle clip-path=\"url(#clip242)\" style=\"fill:#009af9; stroke:none; fill-opacity:0\" cx=\"767.793\" cy=\"1376.57\" r=\"2\"/>\n",
       "<circle clip-path=\"url(#clip242)\" style=\"fill:#009af9; stroke:none; fill-opacity:0\" cx=\"788.512\" cy=\"1320\" r=\"2\"/>\n",
       "<circle clip-path=\"url(#clip242)\" style=\"fill:#009af9; stroke:none; fill-opacity:0\" cx=\"809.23\" cy=\"1288.57\" r=\"2\"/>\n",
       "<circle clip-path=\"url(#clip242)\" style=\"fill:#009af9; stroke:none; fill-opacity:0\" cx=\"829.948\" cy=\"1294.86\" r=\"2\"/>\n",
       "<circle clip-path=\"url(#clip242)\" style=\"fill:#009af9; stroke:none; fill-opacity:0\" cx=\"850.667\" cy=\"1188\" r=\"2\"/>\n",
       "<circle clip-path=\"url(#clip242)\" style=\"fill:#009af9; stroke:none; fill-opacity:0\" cx=\"871.385\" cy=\"1238.28\" r=\"2\"/>\n",
       "<circle clip-path=\"url(#clip242)\" style=\"fill:#009af9; stroke:none; fill-opacity:0\" cx=\"892.104\" cy=\"1169.14\" r=\"2\"/>\n",
       "<circle clip-path=\"url(#clip242)\" style=\"fill:#009af9; stroke:none; fill-opacity:0\" cx=\"912.822\" cy=\"1150.28\" r=\"2\"/>\n",
       "<circle clip-path=\"url(#clip242)\" style=\"fill:#009af9; stroke:none; fill-opacity:0\" cx=\"933.541\" cy=\"1018.28\" r=\"2\"/>\n",
       "<circle clip-path=\"url(#clip242)\" style=\"fill:#009af9; stroke:none; fill-opacity:0\" cx=\"954.259\" cy=\"1037.14\" r=\"2\"/>\n",
       "<circle clip-path=\"url(#clip242)\" style=\"fill:#009af9; stroke:none; fill-opacity:0\" cx=\"974.978\" cy=\"911.42\" r=\"2\"/>\n",
       "<circle clip-path=\"url(#clip242)\" style=\"fill:#009af9; stroke:none; fill-opacity:0\" cx=\"995.696\" cy=\"949.135\" r=\"2\"/>\n",
       "<circle clip-path=\"url(#clip242)\" style=\"fill:#009af9; stroke:none; fill-opacity:0\" cx=\"1016.41\" cy=\"798.275\" r=\"2\"/>\n",
       "<circle clip-path=\"url(#clip242)\" style=\"fill:#009af9; stroke:none; fill-opacity:0\" cx=\"1037.13\" cy=\"716.559\" r=\"2\"/>\n",
       "<circle clip-path=\"url(#clip242)\" style=\"fill:#009af9; stroke:none; fill-opacity:0\" cx=\"1057.85\" cy=\"622.272\" r=\"2\"/>\n",
       "<circle clip-path=\"url(#clip242)\" style=\"fill:#009af9; stroke:none; fill-opacity:0\" cx=\"1078.57\" cy=\"735.417\" r=\"2\"/>\n",
       "<circle clip-path=\"url(#clip242)\" style=\"fill:#009af9; stroke:none; fill-opacity:0\" cx=\"1099.29\" cy=\"427.411\" r=\"2\"/>\n",
       "<circle clip-path=\"url(#clip242)\" style=\"fill:#009af9; stroke:none; fill-opacity:0\" cx=\"1120.01\" cy=\"307.98\" r=\"2\"/>\n",
       "<circle clip-path=\"url(#clip242)\" style=\"fill:#009af9; stroke:none; fill-opacity:0\" cx=\"1140.73\" cy=\"490.269\" r=\"2\"/>\n",
       "<circle clip-path=\"url(#clip242)\" style=\"fill:#009af9; stroke:none; fill-opacity:0\" cx=\"1161.44\" cy=\"188.55\" r=\"2\"/>\n",
       "<circle clip-path=\"url(#clip242)\" style=\"fill:#009af9; stroke:none; fill-opacity:0\" cx=\"1182.16\" cy=\"377.124\" r=\"2\"/>\n",
       "<circle clip-path=\"url(#clip242)\" style=\"fill:#009af9; stroke:none; fill-opacity:0\" cx=\"1202.88\" cy=\"345.695\" r=\"2\"/>\n",
       "<circle clip-path=\"url(#clip242)\" style=\"fill:#009af9; stroke:none; fill-opacity:0\" cx=\"1223.6\" cy=\"94.2621\" r=\"2\"/>\n",
       "<circle clip-path=\"url(#clip242)\" style=\"fill:#009af9; stroke:none; fill-opacity:0\" cx=\"1244.32\" cy=\"94.2621\" r=\"2\"/>\n",
       "<circle clip-path=\"url(#clip242)\" style=\"fill:#009af9; stroke:none; fill-opacity:0\" cx=\"1265.04\" cy=\"106.834\" r=\"2\"/>\n",
       "<circle clip-path=\"url(#clip242)\" style=\"fill:#009af9; stroke:none; fill-opacity:0\" cx=\"1285.75\" cy=\"87.9763\" r=\"2\"/>\n",
       "<circle clip-path=\"url(#clip242)\" style=\"fill:#009af9; stroke:none; fill-opacity:0\" cx=\"1306.47\" cy=\"188.55\" r=\"2\"/>\n",
       "<circle clip-path=\"url(#clip242)\" style=\"fill:#009af9; stroke:none; fill-opacity:0\" cx=\"1327.19\" cy=\"194.835\" r=\"2\"/>\n",
       "<circle clip-path=\"url(#clip242)\" style=\"fill:#009af9; stroke:none; fill-opacity:0\" cx=\"1347.91\" cy=\"502.841\" r=\"2\"/>\n",
       "<circle clip-path=\"url(#clip242)\" style=\"fill:#009af9; stroke:none; fill-opacity:0\" cx=\"1368.63\" cy=\"226.265\" r=\"2\"/>\n",
       "<circle clip-path=\"url(#clip242)\" style=\"fill:#009af9; stroke:none; fill-opacity:0\" cx=\"1389.35\" cy=\"395.982\" r=\"2\"/>\n",
       "<circle clip-path=\"url(#clip242)\" style=\"fill:#009af9; stroke:none; fill-opacity:0\" cx=\"1410.07\" cy=\"609.7\" r=\"2\"/>\n",
       "<circle clip-path=\"url(#clip242)\" style=\"fill:#009af9; stroke:none; fill-opacity:0\" cx=\"1430.78\" cy=\"553.128\" r=\"2\"/>\n",
       "<circle clip-path=\"url(#clip242)\" style=\"fill:#009af9; stroke:none; fill-opacity:0\" cx=\"1451.5\" cy=\"672.559\" r=\"2\"/>\n",
       "<circle clip-path=\"url(#clip242)\" style=\"fill:#009af9; stroke:none; fill-opacity:0\" cx=\"1472.22\" cy=\"791.989\" r=\"2\"/>\n",
       "<circle clip-path=\"url(#clip242)\" style=\"fill:#009af9; stroke:none; fill-opacity:0\" cx=\"1492.94\" cy=\"773.132\" r=\"2\"/>\n",
       "<circle clip-path=\"url(#clip242)\" style=\"fill:#009af9; stroke:none; fill-opacity:0\" cx=\"1513.66\" cy=\"936.563\" r=\"2\"/>\n",
       "<circle clip-path=\"url(#clip242)\" style=\"fill:#009af9; stroke:none; fill-opacity:0\" cx=\"1534.38\" cy=\"1011.99\" r=\"2\"/>\n",
       "<circle clip-path=\"url(#clip242)\" style=\"fill:#009af9; stroke:none; fill-opacity:0\" cx=\"1555.09\" cy=\"1030.85\" r=\"2\"/>\n",
       "<circle clip-path=\"url(#clip242)\" style=\"fill:#009af9; stroke:none; fill-opacity:0\" cx=\"1575.81\" cy=\"999.422\" r=\"2\"/>\n",
       "<circle clip-path=\"url(#clip242)\" style=\"fill:#009af9; stroke:none; fill-opacity:0\" cx=\"1596.53\" cy=\"1175.42\" r=\"2\"/>\n",
       "<circle clip-path=\"url(#clip242)\" style=\"fill:#009af9; stroke:none; fill-opacity:0\" cx=\"1617.25\" cy=\"1188\" r=\"2\"/>\n",
       "<circle clip-path=\"url(#clip242)\" style=\"fill:#009af9; stroke:none; fill-opacity:0\" cx=\"1637.97\" cy=\"1282.28\" r=\"2\"/>\n",
       "<circle clip-path=\"url(#clip242)\" style=\"fill:#009af9; stroke:none; fill-opacity:0\" cx=\"1658.69\" cy=\"1244.57\" r=\"2\"/>\n",
       "<circle clip-path=\"url(#clip242)\" style=\"fill:#009af9; stroke:none; fill-opacity:0\" cx=\"1679.41\" cy=\"1313.71\" r=\"2\"/>\n",
       "<circle clip-path=\"url(#clip242)\" style=\"fill:#009af9; stroke:none; fill-opacity:0\" cx=\"1700.12\" cy=\"1351.43\" r=\"2\"/>\n",
       "<circle clip-path=\"url(#clip242)\" style=\"fill:#009af9; stroke:none; fill-opacity:0\" cx=\"1720.84\" cy=\"1326.28\" r=\"2\"/>\n",
       "<circle clip-path=\"url(#clip242)\" style=\"fill:#009af9; stroke:none; fill-opacity:0\" cx=\"1741.56\" cy=\"1364\" r=\"2\"/>\n",
       "<circle clip-path=\"url(#clip242)\" style=\"fill:#009af9; stroke:none; fill-opacity:0\" cx=\"1762.28\" cy=\"1395.43\" r=\"2\"/>\n",
       "<circle clip-path=\"url(#clip242)\" style=\"fill:#009af9; stroke:none; fill-opacity:0\" cx=\"1783\" cy=\"1345.14\" r=\"2\"/>\n",
       "<circle clip-path=\"url(#clip242)\" style=\"fill:#009af9; stroke:none; fill-opacity:0\" cx=\"1803.72\" cy=\"1420.57\" r=\"2\"/>\n",
       "<circle clip-path=\"url(#clip242)\" style=\"fill:#009af9; stroke:none; fill-opacity:0\" cx=\"1824.43\" cy=\"1408\" r=\"2\"/>\n",
       "<circle clip-path=\"url(#clip242)\" style=\"fill:#009af9; stroke:none; fill-opacity:0\" cx=\"1845.15\" cy=\"1420.57\" r=\"2\"/>\n",
       "<circle clip-path=\"url(#clip242)\" style=\"fill:#009af9; stroke:none; fill-opacity:0\" cx=\"1865.87\" cy=\"1426.86\" r=\"2\"/>\n",
       "<circle clip-path=\"url(#clip242)\" style=\"fill:#009af9; stroke:none; fill-opacity:0\" cx=\"1886.59\" cy=\"1420.57\" r=\"2\"/>\n",
       "<polyline clip-path=\"url(#clip242)\" style=\"stroke:#e26f46; stroke-linecap:butt; stroke-linejoin:round; stroke-width:20; stroke-opacity:1; fill:none\" points=\"\n",
       "  218.754,1445.71 239.472,1445.71 260.191,1445.7 280.909,1445.7 301.628,1445.68 322.346,1445.67 343.064,1445.64 363.783,1445.59 384.501,1445.53 405.22,1445.44 \n",
       "  425.938,1445.3 446.657,1445.09 467.375,1444.8 488.094,1444.38 508.812,1443.79 529.531,1442.97 550.249,1441.84 570.968,1440.3 591.686,1438.22 612.405,1435.45 \n",
       "  633.123,1431.79 653.841,1427.01 674.56,1420.84 695.278,1412.96 715.997,1403.03 736.715,1390.63 757.434,1375.33 778.152,1356.69 798.871,1334.22 819.589,1307.48 \n",
       "  840.308,1276.03 861.026,1239.49 881.745,1197.58 902.463,1150.13 923.182,1097.1 943.9,1038.65 964.619,975.135 985.337,907.119 1006.06,835.405 1026.77,761.025 \n",
       "  1047.49,685.222 1068.21,609.432 1088.93,535.24 1109.65,464.328 1130.37,398.419 1151.08,339.204 1171.8,288.274 1192.52,247.046 1213.24,216.702 1233.96,198.127 \n",
       "  1254.68,191.874 1275.4,198.127 1296.11,216.702 1316.83,247.046 1337.55,288.274 1358.27,339.204 1378.99,398.419 1399.71,464.328 1420.42,535.24 1441.14,609.432 \n",
       "  1461.86,685.222 1482.58,761.025 1503.3,835.405 1524.02,907.119 1544.74,975.135 1565.45,1038.65 1586.17,1097.1 1606.89,1150.13 1627.61,1197.58 1648.33,1239.49 \n",
       "  1669.05,1276.03 1689.76,1307.48 1710.48,1334.22 1731.2,1356.69 1751.92,1375.33 1772.64,1390.63 1793.36,1403.03 1814.08,1412.96 1834.79,1420.84 1855.51,1427.01 \n",
       "  1876.23,1431.79 1896.95,1435.45 1917.67,1438.22 1938.39,1440.3 1959.11,1441.84 1979.82,1442.97 2000.54,1443.79 2021.26,1444.38 2041.98,1444.8 2062.7,1445.09 \n",
       "  2083.42,1445.3 2104.13,1445.44 2124.85,1445.53 2145.57,1445.59 2166.29,1445.64 2187.01,1445.67 2207.73,1445.68 2228.45,1445.7 2249.16,1445.7 2269.88,1445.71 \n",
       "  2290.6,1445.71 \n",
       "  \"/>\n",
       "</svg>\n"
      ]
     },
     "execution_count": 72,
     "metadata": {},
     "output_type": "execute_result"
    }
   ],
   "source": [
    "x = -5:0.1:5\n",
    "plot!(x, 1/sqrt(2*π) .* exp.(-x.^2 ./ 2), linewidth = 5)"
   ]
  },
  {
   "cell_type": "code",
   "execution_count": 73,
   "metadata": {},
   "outputs": [
    {
     "data": {
      "text/plain": [
       "-0.012215004368618205"
      ]
     },
     "execution_count": 73,
     "metadata": {},
     "output_type": "execute_result"
    }
   ],
   "source": [
    "mean(Ω)"
   ]
  },
  {
   "cell_type": "code",
   "execution_count": 1,
   "metadata": {},
   "outputs": [
    {
     "ename": "LoadError",
     "evalue": "UndefVarError: var not defined",
     "output_type": "error",
     "traceback": [
      "UndefVarError: var not defined",
      "",
      "Stacktrace:",
      " [1] top-level scope",
      "   @ In[1]:1",
      " [2] eval",
      "   @ ./boot.jl:368 [inlined]",
      " [3] include_string(mapexpr::typeof(REPL.softscope), mod::Module, code::String, filename::String)",
      "   @ Base ./loading.jl:1428"
     ]
    }
   ],
   "source": [
    "var(Ω)"
   ]
  },
  {
   "cell_type": "code",
   "execution_count": null,
   "metadata": {},
   "outputs": [],
   "source": []
  }
 ],
 "metadata": {
  "@webio": {
   "lastCommId": null,
   "lastKernelId": null
  },
  "kernelspec": {
   "display_name": "Julia 1.8.2",
   "language": "julia",
   "name": "julia-1.8"
  },
  "language_info": {
   "file_extension": ".jl",
   "mimetype": "application/julia",
   "name": "julia",
   "version": "1.8.2"
  }
 },
 "nbformat": 4,
 "nbformat_minor": 2
}
