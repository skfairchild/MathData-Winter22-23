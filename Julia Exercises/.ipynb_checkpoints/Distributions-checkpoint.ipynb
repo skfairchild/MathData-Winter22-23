{
 "cells": [
  {
   "cell_type": "code",
   "execution_count": null,
   "id": "42be4586",
   "metadata": {},
   "outputs": [],
   "source": [
    "import Pkg\n",
    "Pkg.add(\"Distributions\")\n",
    "Pkg.add(\"StatsPlots\")\n",
    "Pkg.add(\"Expectations\")\n",
    "Pkg.add(\"Statistics\")\n",
    "Pkg.add(\"Plots\")\n",
    "using Expectations, Distributions, StatsPlots, Statistics, Plots;"
   ]
  },
  {
   "cell_type": "markdown",
   "id": "f1bd2de4",
   "metadata": {},
   "source": [
    "A **Bernoulli distribution** is parameterized by a success rate $p$, which takes value 1 with probability $p$ and 0 with probability $1-p$.\n",
    "$$ P(X=k)= \\begin{cases} 1−p & \\text{for } k=0\\\\ p &\\text{for } k=1.\\end{cases}$$\n",
    "In this case we write $X\\sim \\mathrm{Ber}(p)$"
   ]
  },
  {
   "cell_type": "code",
   "execution_count": null,
   "id": "cc1ff067",
   "metadata": {
    "scrolled": true
   },
   "outputs": [],
   "source": [
    "p = 0.4\n",
    "#dist =  Bernoulli()    # Bernoulli distribution with p = 0.5\n",
    "dist= Bernoulli(p)   # Bernoulli distribution with success rate p\n",
    "\n",
    "#params(X)      # Get the parameters, i.e. (p,)\n",
    "#succprob(X)    # Get the success rate, i.e. p\n",
    "failprob(dist)    # Get the failure rate, i.e. 1 - p"
   ]
  },
  {
   "cell_type": "markdown",
   "id": "e9ab4208",
   "metadata": {},
   "source": [
    "We compute the Expected value and variance of the distribution. From class we have\n",
    "$$\\mathbb{E}(X) = p$$\n",
    "and \n",
    "$$\\mathrm{var}(X) = p(1-p)$$"
   ]
  },
  {
   "cell_type": "code",
   "execution_count": null,
   "id": "938a0cfb",
   "metadata": {},
   "outputs": [],
   "source": [
    "E = expectation(dist)"
   ]
  },
  {
   "cell_type": "code",
   "execution_count": null,
   "id": "6ecb1c61",
   "metadata": {},
   "outputs": [],
   "source": [
    "E(X-> X)"
   ]
  },
  {
   "cell_type": "code",
   "execution_count": null,
   "id": "da17abd5",
   "metadata": {},
   "outputs": [],
   "source": [
    "p*(1-p)"
   ]
  },
  {
   "cell_type": "code",
   "execution_count": null,
   "id": "f5df81eb",
   "metadata": {},
   "outputs": [],
   "source": [
    "var = E(X-> (X-p)^2)"
   ]
  },
  {
   "cell_type": "markdown",
   "id": "df233912",
   "metadata": {},
   "source": [
    "Another common distributions for discrete random variables is the\n",
    "\n",
    "**Uniform Distribution**\n",
    "\n",
    "$X \\in \\{c_1,\\ldots, c_n\\}$ and $P(X=k) = \\frac{1}{n}$.\n",
    "\n",
    "We write $X \\sim \\mathrm{Unif}({c_1, \\ldots , c_n})$."
   ]
  },
  {
   "cell_type": "code",
   "execution_count": null,
   "id": "b6a999b1",
   "metadata": {},
   "outputs": [],
   "source": [
    "dist = DiscreteUniform(3,7) #Discrete uniform distribution on 3,4,5,6,7\n",
    "E = expectation(dist);\n",
    "E(X -> X)"
   ]
  },
  {
   "cell_type": "code",
   "execution_count": null,
   "id": "811e8e05",
   "metadata": {},
   "outputs": [],
   "source": [
    "E(X-> (X-5)^2)"
   ]
  },
  {
   "cell_type": "markdown",
   "id": "c16fe494",
   "metadata": {},
   "source": [
    "The last distribution for discrete random variables you should be familiar with is\n",
    "\n",
    "**Binomial Distribution**\n",
    "\n",
    "$X\\in\\{0,\\ldots, n\\}$ and $P(X = k) = {n\\choose k}p^k(1 − p)^{n−k}.$\n",
    "\n",
    "We write $X \\sim \\mathrm{Bin}(n, p)$.\n",
    "\n",
    "Note that the binomial distribution is equivalent to:\n",
    "$$P(X = k) = P(\\#\\{i | Z_i = 0, 1 ≤ i ≤ n\\} = k) \\quad \\text{for } Z_1,\\ldots, Z_n \\stackrel{i.i.d} {\\sim}\\mathrm{Ber}(p)$$"
   ]
  },
  {
   "cell_type": "code",
   "execution_count": null,
   "id": "af1f14cb",
   "metadata": {
    "scrolled": true
   },
   "outputs": [],
   "source": [
    "p = 0.4\n",
    "n = 100\n",
    "bidist = Binomial(n,p)\n",
    "bisimulation = rand(bidist, 10^3);\n",
    "histogram(bisimulation, nbins= 50)"
   ]
  },
  {
   "cell_type": "markdown",
   "id": "5087ad21",
   "metadata": {},
   "source": [
    "We now consider the continuous distributions, specifically the normal distribution.\n",
    "\n",
    "We will use the function randn which generatse a normally-distributed random number mean 0 and standard deviation 1. That is we want to sample random numbers $X\\sim N(0,1)$."
   ]
  },
  {
   "cell_type": "code",
   "execution_count": null,
   "id": "a488fae7",
   "metadata": {},
   "outputs": [],
   "source": [
    "normsample= randn(5000);\n",
    "histogram(normsample, legend = false, norm=true, nbins = 100) #alpha = 0.8)"
   ]
  },
  {
   "cell_type": "code",
   "execution_count": null,
   "id": "fa3a618b",
   "metadata": {},
   "outputs": [],
   "source": [
    "x = -5:0.1:5\n",
    "plot!(x, 1/sqrt(2*π) .* exp.(-x.^2 ./ 2), linewidth = 5)"
   ]
  },
  {
   "cell_type": "code",
   "execution_count": null,
   "id": "e072f58b",
   "metadata": {},
   "outputs": [],
   "source": [
    "mean(normsample)"
   ]
  }
 ],
 "metadata": {
  "kernelspec": {
   "display_name": "Julia 1.8.2",
   "language": "julia",
   "name": "julia-1.8"
  },
  "language_info": {
   "file_extension": ".jl",
   "mimetype": "application/julia",
   "name": "julia",
   "version": "1.8.2"
  }
 },
 "nbformat": 4,
 "nbformat_minor": 5
}
