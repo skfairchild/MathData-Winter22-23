{
 "cells": [
  {
   "cell_type": "code",
   "execution_count": null,
   "id": "8dd46e96",
   "metadata": {},
   "outputs": [],
   "source": [
    "using Distributions, StatsPlots;"
   ]
  },
  {
   "cell_type": "code",
   "execution_count": null,
   "id": "437f14b6",
   "metadata": {},
   "outputs": [],
   "source": [
    "p_survive = 2^(-1/(30.17*365))"
   ]
  },
  {
   "cell_type": "code",
   "execution_count": null,
   "id": "61c76f0e",
   "metadata": {},
   "outputs": [],
   "source": [
    "p_survive_approx = 0.9999371"
   ]
  },
  {
   "cell_type": "code",
   "execution_count": null,
   "id": "41434f41",
   "metadata": {},
   "outputs": [],
   "source": [
    "p_decay_approx = 1 - p_survive_approx"
   ]
  },
  {
   "cell_type": "markdown",
   "id": "59a989e0",
   "metadata": {},
   "source": [
    "A single atom decays on a given day with a probability of about 0.00629%; `X ~ Ber(0.0000629)`.\n",
    "\n",
    "To model the behaviour of 10^6 atoms, we can take 10^6 independent random variables that behave like `X`.\n",
    "Equivalently, `Y ~ Bin(10^6, 0.0000629)`."
   ]
  },
  {
   "cell_type": "code",
   "execution_count": null,
   "id": "2dd5f982",
   "metadata": {},
   "outputs": [],
   "source": [
    "myBinomial = Binomial(10^6, p_decay_approx) "
   ]
  },
  {
   "cell_type": "markdown",
   "id": "3978632f",
   "metadata": {},
   "source": [
    "We can now ask the `rand` function to draw according to the above distribution."
   ]
  },
  {
   "cell_type": "code",
   "execution_count": null,
   "id": "6cc7f2ac",
   "metadata": {},
   "outputs": [],
   "source": [
    "mySimulation = rand(myBinomial, 10^3);"
   ]
  },
  {
   "cell_type": "code",
   "execution_count": null,
   "id": "9e2e4b89",
   "metadata": {},
   "outputs": [],
   "source": [
    "histogram(mySimulation, nbins=100)"
   ]
  },
  {
   "cell_type": "markdown",
   "id": "0e01ae3f",
   "metadata": {},
   "source": [
    "The normalized version of the graph is more useful for comparison with the Poisson distribution."
   ]
  },
  {
   "cell_type": "code",
   "execution_count": null,
   "id": "fac4961f",
   "metadata": {},
   "outputs": [],
   "source": [
    "histogram(mySimulation, nbins=100, normed=true)"
   ]
  },
  {
   "cell_type": "code",
   "execution_count": null,
   "id": "f7b1d56b",
   "metadata": {},
   "outputs": [],
   "source": [
    "plot!(Poisson(10^6*p_decay_approx), color=:red, linewidth=3)"
   ]
  }
 ],
 "metadata": {
  "kernelspec": {
   "display_name": "Julia 1.8.2",
   "language": "julia",
   "name": "julia-1.8"
  },
  "language_info": {
   "file_extension": ".jl",
   "mimetype": "application/julia",
   "name": "julia",
   "version": "1.8.2"
  }
 },
 "nbformat": 4,
 "nbformat_minor": 5
}
